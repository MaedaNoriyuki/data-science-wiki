{
  "nbformat": 4,
  "nbformat_minor": 0,
  "metadata": {
    "colab": {
      "provenance": [],
      "authorship_tag": "ABX9TyM8H+VfpxSBUoxHQVoYUTnz",
      "include_colab_link": true
    },
    "kernelspec": {
      "name": "python3",
      "display_name": "Python 3"
    },
    "language_info": {
      "name": "python"
    }
  },
  "cells": [
    {
      "cell_type": "markdown",
      "metadata": {
        "id": "view-in-github",
        "colab_type": "text"
      },
      "source": [
        "<a href=\"https://colab.research.google.com/github/fuyu-quant/Data_Science/blob/main/Mathematical_Optimization/Genetic_Algorithm.ipynb\" target=\"_parent\"><img src=\"https://colab.research.google.com/assets/colab-badge.svg\" alt=\"Open In Colab\"/></a>"
      ]
    },
    {
      "cell_type": "markdown",
      "source": [
        "# 遺伝的アルゴリズム\n",
        "* [設定を細かく実装する方法](https://qiita.com/simonritchie/items/d7f1596e7d034b9422ce)"
      ],
      "metadata": {
        "id": "3dcElPSSqi-G"
      }
    },
    {
      "cell_type": "code",
      "execution_count": 3,
      "metadata": {
        "id": "97EiN5obp15J"
      },
      "outputs": [],
      "source": [
        "%%capture\n",
        "!pip install vcopt"
      ]
    },
    {
      "cell_type": "code",
      "source": [
        "from vcopt import vcopt"
      ],
      "metadata": {
        "id": "EWQbox3oqTTA"
      },
      "execution_count": 4,
      "outputs": []
    },
    {
      "cell_type": "markdown",
      "source": [
        "* 最適化したい関数の定義"
      ],
      "metadata": {
        "id": "0auqNAyZq4VM"
      }
    },
    {
      "cell_type": "code",
      "source": [
        "#評価関数\n",
        "def f(x):\n",
        "    return x**2 + 5*x + 4"
      ],
      "metadata": {
        "id": "9wEIn89kr49o"
      },
      "execution_count": 30,
      "outputs": []
    },
    {
      "cell_type": "markdown",
      "source": [
        "* 範囲の指定"
      ],
      "metadata": {
        "id": "i93aqPBSq_WB"
      }
    },
    {
      "cell_type": "code",
      "source": [
        "x_range = [-5, 10]"
      ],
      "metadata": {
        "id": "ROU1d8v2qqaa"
      },
      "execution_count": 31,
      "outputs": []
    },
    {
      "cell_type": "code",
      "source": [
        "#最適化を実行\n",
        "para, score = vcopt().rcGA(x_range, f, -9999)"
      ],
      "metadata": {
        "colab": {
          "base_uri": "https://localhost:8080/"
        },
        "id": "r_jCFuGhrHMG",
        "outputId": "a1105362-719f-4a0c-9b29-1c9b087159e4"
      },
      "execution_count": 32,
      "outputs": [
        {
          "output_type": "stream",
          "name": "stdout",
          "text": [
            "________________________________________ info ________________________________________\n",
            "para_range     : n=1\n",
            "score_func     : <class 'function'>\n",
            "aim            : ==-9999.0\n",
            "show_pool_func : 'bar'\n",
            "seed           : None\n",
            "pool_num       : 10\n",
            "max_gen        : None\n",
            "core_num       : 1 (*vcopt, vc-grendel)\n",
            "_______________________________________ start ________________________________________\n",
            "Scoring first gen 10/10        \n",
            "|                                       +< | gen=60, best_score=-2.25\n",
            "_______________________________________ result _______________________________________\n",
            "para = np.array([-2.5019394513071966])\n",
            "score = -2.2499962385286265\n",
            "________________________________________ end _________________________________________\n"
          ]
        }
      ]
    },
    {
      "cell_type": "code",
      "source": [],
      "metadata": {
        "id": "3AUaHm8_r-Ze"
      },
      "execution_count": null,
      "outputs": []
    }
  ]
}