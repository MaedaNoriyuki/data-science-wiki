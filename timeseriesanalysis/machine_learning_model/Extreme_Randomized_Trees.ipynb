{
 "cells": [
  {
   "cell_type": "markdown",
   "id": "89610932-3c04-496e-b88e-56df73f58764",
   "metadata": {},
   "source": [
    "# Extreme Randomized Trees"
   ]
  },
  {
   "cell_type": "markdown",
   "id": "843b0c6d",
   "metadata": {},
   "source": [
    "* 金融で使われていた気がする"
   ]
  },
  {
   "cell_type": "code",
   "execution_count": null,
   "id": "b60be8ad-2bca-48ca-a5a1-fd18114067de",
   "metadata": {},
   "outputs": [],
   "source": []
  },
  {
   "cell_type": "code",
   "execution_count": null,
   "id": "440b075b",
   "metadata": {},
   "outputs": [],
   "source": []
  }
 ],
 "metadata": {
  "kernelspec": {
   "display_name": "Python 3 (ipykernel)",
   "language": "python",
   "name": "python3"
  },
  "language_info": {
   "codemirror_mode": {
    "name": "ipython",
    "version": 3
   },
   "file_extension": ".py",
   "mimetype": "text/x-python",
   "name": "python",
   "nbconvert_exporter": "python",
   "pygments_lexer": "ipython3",
   "version": "3.9.7"
  }
 },
 "nbformat": 4,
 "nbformat_minor": 5
}
