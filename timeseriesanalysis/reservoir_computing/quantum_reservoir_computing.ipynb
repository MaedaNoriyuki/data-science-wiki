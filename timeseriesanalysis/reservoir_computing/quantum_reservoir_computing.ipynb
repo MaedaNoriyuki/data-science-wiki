{
 "cells": [
  {
   "cell_type": "markdown",
   "id": "54e89c5f",
   "metadata": {},
   "source": [
    "# Quantum Reservoir Computing"
   ]
  },
  {
   "cell_type": "markdown",
   "id": "f672ea01-fd3b-4f11-96cc-c88d54fee9e4",
   "metadata": {},
   "source": [
    "* https://dojo.qulacs.org/ja/latest/notebooks/5.2c2_quantum_reservoir_computing.html"
   ]
  },
  {
   "cell_type": "code",
   "execution_count": null,
   "id": "ba43b3e6-be88-4ce7-8c7a-102ea6580afa",
   "metadata": {},
   "outputs": [],
   "source": []
  }
 ],
 "metadata": {
  "kernelspec": {
   "display_name": "Python 3 (ipykernel)",
   "language": "python",
   "name": "python3"
  },
  "language_info": {
   "codemirror_mode": {
    "name": "ipython",
    "version": 3
   },
   "file_extension": ".py",
   "mimetype": "text/x-python",
   "name": "python",
   "nbconvert_exporter": "python",
   "pygments_lexer": "ipython3",
   "version": "3.9.7"
  }
 },
 "nbformat": 4,
 "nbformat_minor": 5
}
