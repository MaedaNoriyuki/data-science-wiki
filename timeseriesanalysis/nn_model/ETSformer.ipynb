{
  "cells": [
    {
      "cell_type": "markdown",
      "metadata": {},
      "source": [
        "# ETSformer"
      ]
    },
    {
      "cell_type": "markdown",
      "metadata": {
        "id": "TSLV8w5m-Xw-"
      },
      "source": [
        "* https://github.com/lucidrains/ETSformer-pytorch\n",
        "* 論文:https://arxiv.org/pdf/2202.01381.pdf\n"
      ]
    },
    {
      "cell_type": "markdown",
      "metadata": {
        "colab_type": "text",
        "id": "view-in-github"
      },
      "source": [
        "<a href=\"https://colab.research.google.com/github/fuyu-quant/Data_Science/blob/main/Time_Series_Analysis/ETSformer.ipynb\" target=\"_parent\"><img src=\"https://colab.research.google.com/assets/colab-badge.svg\" alt=\"Open In Colab\"/></a>"
      ]
    },
    {
      "cell_type": "code",
      "execution_count": null,
      "metadata": {
        "colab": {
          "base_uri": "https://localhost:8080/"
        },
        "id": "QULG4A43-Zzc",
        "outputId": "42199426-37fe-4e57-b837-bebb2398f843"
      },
      "outputs": [
        {
          "name": "stdout",
          "output_type": "stream",
          "text": [
            "Looking in indexes: https://pypi.org/simple, https://us-python.pkg.dev/colab-wheels/public/simple/\n",
            "Collecting etsformer-pytorch\n",
            "  Downloading ETSformer_pytorch-0.0.16-py3-none-any.whl (6.4 kB)\n",
            "Requirement already satisfied: torch>=1.6 in /usr/local/lib/python3.8/dist-packages (from etsformer-pytorch) (1.13.0+cu116)\n",
            "Requirement already satisfied: scipy in /usr/local/lib/python3.8/dist-packages (from etsformer-pytorch) (1.7.3)\n",
            "Collecting einops>=0.4\n",
            "  Downloading einops-0.6.0-py3-none-any.whl (41 kB)\n",
            "\u001b[K     |████████████████████████████████| 41 kB 352 kB/s \n",
            "\u001b[?25hRequirement already satisfied: typing-extensions in /usr/local/lib/python3.8/dist-packages (from torch>=1.6->etsformer-pytorch) (4.4.0)\n",
            "Requirement already satisfied: numpy<1.23.0,>=1.16.5 in /usr/local/lib/python3.8/dist-packages (from scipy->etsformer-pytorch) (1.21.6)\n",
            "Installing collected packages: einops, etsformer-pytorch\n",
            "Successfully installed einops-0.6.0 etsformer-pytorch-0.0.16\n"
          ]
        }
      ],
      "source": [
        "!pip install etsformer-pytorch"
      ]
    },
    {
      "cell_type": "code",
      "execution_count": null,
      "metadata": {
        "id": "XTvpICUo-e-R"
      },
      "outputs": [],
      "source": [
        "import numpy as np\n",
        "import pandas as pd\n",
        "import matplotlib.pyplot as plt\n",
        "import torch\n",
        "\n",
        "# ETSformerのimport\n",
        "from etsformer_pytorch import ETSFormer"
      ]
    },
    {
      "cell_type": "markdown",
      "metadata": {
        "id": "SqO6FYgQVZBc"
      },
      "source": [
        "## データの用意"
      ]
    },
    {
      "cell_type": "code",
      "execution_count": null,
      "metadata": {
        "colab": {
          "base_uri": "https://localhost:8080/"
        },
        "id": "RXMvoip0DfU1",
        "outputId": "fb934ee1-7679-4c8b-c2c7-643d2565d6c8"
      },
      "outputs": [
        {
          "data": {
            "text/plain": [
              "tensor([[[-0.0813,  0.8066, -0.0808,  0.2759],\n",
              "         [-0.3162,  0.9282,  1.5174, -0.3652],\n",
              "         [-0.8277, -0.0685, -0.1885, -1.8614],\n",
              "         ...,\n",
              "         [-0.1481, -1.1068,  1.1667, -1.0491],\n",
              "         [-1.2971, -0.0525,  0.3827, -0.2393],\n",
              "         [-1.9178, -1.4578,  0.7881, -0.4615]]])"
            ]
          },
          "execution_count": 38,
          "metadata": {},
          "output_type": "execute_result"
        }
      ],
      "source": [
        "timeseries = torch.randn(1, 1024, 4)\n",
        "timeseries"
      ]
    },
    {
      "cell_type": "markdown",
      "metadata": {
        "id": "h5MbFWavBP4z"
      },
      "source": [
        "## ETSformerの学習"
      ]
    },
    {
      "cell_type": "code",
      "execution_count": null,
      "metadata": {
        "id": "hwUPdkdh-kLt"
      },
      "outputs": [],
      "source": [
        "model = ETSFormer(time_features = 4,           # 学習に使う特徴量の数\n",
        "                  model_dim = 512,              # 論文では512\n",
        "                  embed_kernel_size = 3,          # kernel size for 1d conv for input embedding\n",
        "                  layers = 2,                     # number of encoder and corresponding decoder layers\n",
        "                  heads = 8,                      # number of exponential smoothing attention heads\n",
        "                  K = 4,                          # num frequencies with highest amplitude to keep (attend to)\n",
        "                  dropout = 0.2                   # dropout (in paper they did 0.2)\n",
        "                  )\n"
      ]
    },
    {
      "cell_type": "code",
      "execution_count": null,
      "metadata": {
        "colab": {
          "base_uri": "https://localhost:8080/"
        },
        "id": "NL31xmGP_5Sr",
        "outputId": "f165f67a-c70d-449c-efc0-979d31585fc4"
      },
      "outputs": [
        {
          "data": {
            "text/plain": [
              "tensor([[[ 0.7139, -0.6888,  0.2753, -1.0362],\n",
              "         [ 0.5819, -0.7514,  0.4358, -1.0245],\n",
              "         [ 0.6719, -0.8141,  0.2752, -0.7653],\n",
              "         [ 0.7190, -0.6246,  0.2320, -0.8700],\n",
              "         [ 0.5493, -0.3334,  0.4596, -0.8691],\n",
              "         [ 0.3801, -0.5743,  0.3150, -0.9188],\n",
              "         [ 0.3947, -0.8941,  0.6589, -0.8803],\n",
              "         [ 0.5475, -0.8882,  0.4448, -0.9639],\n",
              "         [ 0.5723, -0.5960,  0.3755, -1.2788],\n",
              "         [ 0.6145, -0.7291,  0.3534, -0.8909],\n",
              "         [ 0.2987, -0.8672,  0.3992, -1.0049],\n",
              "         [ 0.6299, -0.7370,  0.3318, -0.9327],\n",
              "         [ 0.5771, -0.7576,  0.2634, -0.8284],\n",
              "         [ 0.4042, -0.8363,  0.2013, -0.8320],\n",
              "         [ 0.4564, -0.8316,  0.3487, -0.9948],\n",
              "         [ 0.8960, -0.6607,  0.3507, -0.9416],\n",
              "         [ 0.6761, -0.7858,  0.2720, -1.2806],\n",
              "         [ 0.4813, -0.8576,  0.3827, -0.8649],\n",
              "         [ 0.8201, -0.8356,  0.5917, -0.9339],\n",
              "         [ 0.5408, -0.6299,  0.4663, -0.8598],\n",
              "         [ 0.5407, -0.6212,  0.4186, -0.9569],\n",
              "         [ 0.5575, -0.8132,  0.3754, -0.8130],\n",
              "         [ 0.4057, -0.6202,  0.4253, -0.6606],\n",
              "         [ 0.6011, -0.7234,  0.2746, -0.9091],\n",
              "         [ 0.6148, -0.8346,  0.4691, -0.8694],\n",
              "         [ 0.7135, -0.5592,  0.2067, -0.9865],\n",
              "         [ 0.5925, -0.6012,  0.3518, -0.7319],\n",
              "         [ 0.6849, -0.6319,  0.4041, -1.1562],\n",
              "         [ 0.7403, -0.6923,  0.5543, -1.0973],\n",
              "         [ 0.7935, -0.7647,  0.4473, -0.8201],\n",
              "         [ 0.7324, -0.6702,  0.5164, -1.0093],\n",
              "         [ 0.8641, -0.8359,  0.8400, -1.1193]]], grad_fn=<AddBackward0>)"
            ]
          },
          "execution_count": 52,
          "metadata": {},
          "output_type": "execute_result"
        }
      ],
      "source": [
        "pred"
      ]
    },
    {
      "cell_type": "markdown",
      "metadata": {
        "id": "Pf3v-Xs4BK0Y"
      },
      "source": [
        "## ETSformerの予測"
      ]
    },
    {
      "cell_type": "code",
      "execution_count": null,
      "metadata": {
        "id": "rG3kDAhO_3-E"
      },
      "outputs": [],
      "source": [
        "pred = model(timeseries, num_steps_forecast = 32) "
      ]
    }
  ],
  "metadata": {
    "colab": {
      "authorship_tag": "ABX9TyNKR9YH580kl89Gcp8NC/1G",
      "include_colab_link": true,
      "provenance": []
    },
    "kernelspec": {
      "display_name": "Python 3",
      "name": "python3"
    },
    "language_info": {
      "name": "python"
    }
  },
  "nbformat": 4,
  "nbformat_minor": 0
}
