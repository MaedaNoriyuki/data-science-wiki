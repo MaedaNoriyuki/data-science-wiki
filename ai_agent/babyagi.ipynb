{
 "cells": [
  {
   "cell_type": "markdown",
   "metadata": {},
   "source": [
    "# BabyAGI"
   ]
  },
  {
   "cell_type": "code",
   "execution_count": null,
   "metadata": {},
   "outputs": [],
   "source": [
    "!git clone https://github.com/fuyu-quant/babyagi.git\n",
    "%cd babyagi\n",
    "!pip install -r requirements.txt"
   ]
  },
  {
   "cell_type": "code",
   "execution_count": null,
   "metadata": {},
   "outputs": [],
   "source": [
    "import os\n",
    "\n",
    "# API CONFIG\n",
    "#os.environ[\"OPENAI_API_KEY\"] = \"\"\n",
    "os.environ[\"OPENAI_API_MODEL\"] = \"gpt-3.5-turbo\"\n",
    "#os.environ[\"PINECONE_API_KEY\"] = \"\"\n",
    "os.environ[\"PINECONE_ENVIRONMENT\"] = \"asia-southeast1-gcp\"\n",
    "\n",
    "# TABLE CONFIG\n",
    "os.environ[\"TABLE_NAME\"] = \"test-table\"\n",
    "\n",
    "# INSTANCE CONFIG\n",
    "os.environ[\"BABY_NAME\"] = \"BabyAGI\"\n",
    "\n",
    "# RUN CONFIG\n",
    "os.environ[\"OBJECTIVE\"] = \"How to Become a Data Scientist\"\n",
    "# For backwards compatibility\n",
    "# FIRST_TASK can be used instead of INITIAL_TASK\n",
    "os.environ[\"INITIAL_TASK\"] = \"Develop a task list\"\n",
    "\n",
    "# Extensions\n",
    "# List additional extensions to load (except .env.example!)\n",
    "os.environ[\"DOTENV_EXTENSIONS\"] = \"\"\n",
    "# Set to true to enable command line args support\n",
    "os.environ[\"ENABLE_COMMAND_LINE_ARGS\"] = \"false\""
   ]
  },
  {
   "cell_type": "code",
   "execution_count": null,
   "metadata": {},
   "outputs": [],
   "source": [
    "!python babyagi.py"
   ]
  }
 ],
 "metadata": {
  "language_info": {
   "name": "python"
  },
  "orig_nbformat": 4
 },
 "nbformat": 4,
 "nbformat_minor": 2
}
