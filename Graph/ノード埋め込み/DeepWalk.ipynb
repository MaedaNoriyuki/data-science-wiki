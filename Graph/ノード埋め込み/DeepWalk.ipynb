{
 "cells": [
  {
   "cell_type": "markdown",
   "id": "6b7df0ae-4995-4587-9b1c-d2fb934d7915",
   "metadata": {},
   "source": [
    "# DeepWalk\n",
    "* https://qiita.com/kk31108424/items/e05b32c1161f1e309328"
   ]
  },
  {
   "cell_type": "code",
   "execution_count": null,
   "id": "380b8117-6084-4781-a60c-c320d71fd21f",
   "metadata": {},
   "outputs": [],
   "source": []
  }
 ],
 "metadata": {
  "kernelspec": {
   "display_name": "Python 3 (ipykernel)",
   "language": "python",
   "name": "python3"
  },
  "language_info": {
   "codemirror_mode": {
    "name": "ipython",
    "version": 3
   },
   "file_extension": ".py",
   "mimetype": "text/x-python",
   "name": "python",
   "nbconvert_exporter": "python",
   "pygments_lexer": "ipython3",
   "version": "3.9.7"
  }
 },
 "nbformat": 4,
 "nbformat_minor": 5
}
