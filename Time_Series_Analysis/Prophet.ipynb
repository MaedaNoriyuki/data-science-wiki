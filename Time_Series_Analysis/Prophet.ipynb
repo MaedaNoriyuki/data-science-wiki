{
 "cells": [
  {
   "cell_type": "markdown",
   "id": "9dc99ebb-14cf-438e-aa7a-7bf42a851a6d",
   "metadata": {},
   "source": [
    "# Prophet\n",
    "* https://blog.kikagaku.co.jp/plotly"
   ]
  },
  {
   "cell_type": "code",
   "execution_count": null,
   "id": "34423a61-e0e0-4151-b131-8ef464f81392",
   "metadata": {},
   "outputs": [],
   "source": []
  }
 ],
 "metadata": {
  "kernelspec": {
   "display_name": "Python 3 (ipykernel)",
   "language": "python",
   "name": "python3"
  },
  "language_info": {
   "codemirror_mode": {
    "name": "ipython",
    "version": 3
   },
   "file_extension": ".py",
   "mimetype": "text/x-python",
   "name": "python",
   "nbconvert_exporter": "python",
   "pygments_lexer": "ipython3",
   "version": "3.9.7"
  }
 },
 "nbformat": 4,
 "nbformat_minor": 5
}
