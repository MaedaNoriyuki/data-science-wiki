{
 "cells": [
  {
   "cell_type": "markdown",
   "id": "66ef51bd-706d-4ea7-b4ff-bc625fe18c87",
   "metadata": {},
   "source": [
    "# ETSformer\n",
    "* https://github.com/lucidrains/ETSformer-pytorch"
   ]
  },
  {
   "cell_type": "code",
   "execution_count": 1,
   "id": "646ab09d-1223-4fb4-b5d8-e1bfd1fbba0e",
   "metadata": {},
   "outputs": [
    {
     "name": "stdout",
     "output_type": "stream",
     "text": [
      "Collecting etsformer-pytorch\n",
      "  Downloading ETSformer_pytorch-0.0.16-py3-none-any.whl (6.4 kB)\n",
      "Requirement already satisfied: torch>=1.6 in /usr/local/lib/python3.9/site-packages (from etsformer-pytorch) (1.13.0)\n",
      "Collecting einops>=0.4\n",
      "  Downloading einops-0.6.0-py3-none-any.whl (41 kB)\n",
      "\u001b[2K     \u001b[90m━━━━━━━━━━━━━━━━━━━━━━━━━━━━━━━━━━━━━━━━\u001b[0m \u001b[32m41.6/41.6 kB\u001b[0m \u001b[31m8.2 MB/s\u001b[0m eta \u001b[36m0:00:00\u001b[0m\n",
      "\u001b[?25hRequirement already satisfied: scipy in /usr/local/lib/python3.9/site-packages (from etsformer-pytorch) (1.9.3)\n",
      "Requirement already satisfied: typing-extensions in /usr/local/lib/python3.9/site-packages (from torch>=1.6->etsformer-pytorch) (4.4.0)\n",
      "Requirement already satisfied: numpy<1.26.0,>=1.18.5 in /usr/local/lib/python3.9/site-packages (from scipy->etsformer-pytorch) (1.23.4)\n",
      "Installing collected packages: einops, etsformer-pytorch\n",
      "Successfully installed einops-0.6.0 etsformer-pytorch-0.0.16\n",
      "\u001b[33mWARNING: Running pip as the 'root' user can result in broken permissions and conflicting behaviour with the system package manager. It is recommended to use a virtual environment instead: https://pip.pypa.io/warnings/venv\u001b[0m\u001b[33m\n",
      "\u001b[0m\n",
      "\u001b[1m[\u001b[0m\u001b[34;49mnotice\u001b[0m\u001b[1;39;49m]\u001b[0m\u001b[39;49m A new release of pip available: \u001b[0m\u001b[31;49m22.3\u001b[0m\u001b[39;49m -> \u001b[0m\u001b[32;49m22.3.1\u001b[0m\n",
      "\u001b[1m[\u001b[0m\u001b[34;49mnotice\u001b[0m\u001b[1;39;49m]\u001b[0m\u001b[39;49m To update, run: \u001b[0m\u001b[32;49mpip install --upgrade pip\u001b[0m\n"
     ]
    }
   ],
   "source": [
    "!pip install etsformer-pytorch"
   ]
  },
  {
   "cell_type": "code",
   "execution_count": null,
   "id": "9405afee-a91d-4a4c-8ef3-73ede719e651",
   "metadata": {},
   "outputs": [],
   "source": []
  }
 ],
 "metadata": {
  "kernelspec": {
   "display_name": "Python 3 (ipykernel)",
   "language": "python",
   "name": "python3"
  },
  "language_info": {
   "codemirror_mode": {
    "name": "ipython",
    "version": 3
   },
   "file_extension": ".py",
   "mimetype": "text/x-python",
   "name": "python",
   "nbconvert_exporter": "python",
   "pygments_lexer": "ipython3",
   "version": "3.9.7"
  }
 },
 "nbformat": 4,
 "nbformat_minor": 5
}
