{
  "nbformat": 4,
  "nbformat_minor": 0,
  "metadata": {
    "colab": {
      "provenance": [],
      "authorship_tag": "ABX9TyMt5UeaNwDmjolUOlgOY8ag",
      "include_colab_link": true
    },
    "kernelspec": {
      "name": "python3",
      "display_name": "Python 3"
    },
    "language_info": {
      "name": "python"
    }
  },
  "cells": [
    {
      "cell_type": "markdown",
      "metadata": {
        "id": "view-in-github",
        "colab_type": "text"
      },
      "source": [
        "<a href=\"https://colab.research.google.com/github/fuyu-quant/Data_Science/blob/main/Time_Series_Analysis/ETSformer.ipynb\" target=\"_parent\"><img src=\"https://colab.research.google.com/assets/colab-badge.svg\" alt=\"Open In Colab\"/></a>"
      ]
    },
    {
      "cell_type": "markdown",
      "source": [
        "# ETSformer\n",
        "* https://github.com/lucidrains/ETSformer-pytorch\n",
        "* 論文:https://arxiv.org/pdf/2202.01381.pdf\n"
      ],
      "metadata": {
        "id": "TSLV8w5m-Xw-"
      }
    },
    {
      "cell_type": "code",
      "source": [
        "!pip install etsformer-pytorch"
      ],
      "metadata": {
        "colab": {
          "base_uri": "https://localhost:8080/"
        },
        "id": "QULG4A43-Zzc",
        "outputId": "42199426-37fe-4e57-b837-bebb2398f843"
      },
      "execution_count": 2,
      "outputs": [
        {
          "output_type": "stream",
          "name": "stdout",
          "text": [
            "Looking in indexes: https://pypi.org/simple, https://us-python.pkg.dev/colab-wheels/public/simple/\n",
            "Collecting etsformer-pytorch\n",
            "  Downloading ETSformer_pytorch-0.0.16-py3-none-any.whl (6.4 kB)\n",
            "Requirement already satisfied: torch>=1.6 in /usr/local/lib/python3.8/dist-packages (from etsformer-pytorch) (1.13.0+cu116)\n",
            "Requirement already satisfied: scipy in /usr/local/lib/python3.8/dist-packages (from etsformer-pytorch) (1.7.3)\n",
            "Collecting einops>=0.4\n",
            "  Downloading einops-0.6.0-py3-none-any.whl (41 kB)\n",
            "\u001b[K     |████████████████████████████████| 41 kB 352 kB/s \n",
            "\u001b[?25hRequirement already satisfied: typing-extensions in /usr/local/lib/python3.8/dist-packages (from torch>=1.6->etsformer-pytorch) (4.4.0)\n",
            "Requirement already satisfied: numpy<1.23.0,>=1.16.5 in /usr/local/lib/python3.8/dist-packages (from scipy->etsformer-pytorch) (1.21.6)\n",
            "Installing collected packages: einops, etsformer-pytorch\n",
            "Successfully installed einops-0.6.0 etsformer-pytorch-0.0.16\n"
          ]
        }
      ]
    },
    {
      "cell_type": "code",
      "source": [
        "import numpy as np\n",
        "import pandas as pd\n",
        "import matplotlib.pyplot as plt\n",
        "import torch\n",
        "\n",
        "# ETSformerのimport\n",
        "from etsformer_pytorch import ETSFormer"
      ],
      "metadata": {
        "id": "XTvpICUo-e-R"
      },
      "execution_count": 12,
      "outputs": []
    },
    {
      "cell_type": "markdown",
      "source": [
        "## データの用意"
      ],
      "metadata": {
        "id": "SqO6FYgQVZBc"
      }
    },
    {
      "cell_type": "code",
      "source": [
        "df = pd.read_csv('/content/AirPassengers.csv')\n",
        "df.head()"
      ],
      "metadata": {
        "colab": {
          "base_uri": "https://localhost:8080/",
          "height": 206
        },
        "id": "pv1S-hd3_QHp",
        "outputId": "5e9cadf6-caa7-4862-f12a-4b0db3d906b4"
      },
      "execution_count": 11,
      "outputs": [
        {
          "output_type": "execute_result",
          "data": {
            "text/plain": [
              "     Month  #Passengers\n",
              "0  1949-01          112\n",
              "1  1949-02          118\n",
              "2  1949-03          132\n",
              "3  1949-04          129\n",
              "4  1949-05          121"
            ],
            "text/html": [
              "\n",
              "  <div id=\"df-db9835e3-8b76-4445-941b-4d5a590a91dc\">\n",
              "    <div class=\"colab-df-container\">\n",
              "      <div>\n",
              "<style scoped>\n",
              "    .dataframe tbody tr th:only-of-type {\n",
              "        vertical-align: middle;\n",
              "    }\n",
              "\n",
              "    .dataframe tbody tr th {\n",
              "        vertical-align: top;\n",
              "    }\n",
              "\n",
              "    .dataframe thead th {\n",
              "        text-align: right;\n",
              "    }\n",
              "</style>\n",
              "<table border=\"1\" class=\"dataframe\">\n",
              "  <thead>\n",
              "    <tr style=\"text-align: right;\">\n",
              "      <th></th>\n",
              "      <th>Month</th>\n",
              "      <th>#Passengers</th>\n",
              "    </tr>\n",
              "  </thead>\n",
              "  <tbody>\n",
              "    <tr>\n",
              "      <th>0</th>\n",
              "      <td>1949-01</td>\n",
              "      <td>112</td>\n",
              "    </tr>\n",
              "    <tr>\n",
              "      <th>1</th>\n",
              "      <td>1949-02</td>\n",
              "      <td>118</td>\n",
              "    </tr>\n",
              "    <tr>\n",
              "      <th>2</th>\n",
              "      <td>1949-03</td>\n",
              "      <td>132</td>\n",
              "    </tr>\n",
              "    <tr>\n",
              "      <th>3</th>\n",
              "      <td>1949-04</td>\n",
              "      <td>129</td>\n",
              "    </tr>\n",
              "    <tr>\n",
              "      <th>4</th>\n",
              "      <td>1949-05</td>\n",
              "      <td>121</td>\n",
              "    </tr>\n",
              "  </tbody>\n",
              "</table>\n",
              "</div>\n",
              "      <button class=\"colab-df-convert\" onclick=\"convertToInteractive('df-db9835e3-8b76-4445-941b-4d5a590a91dc')\"\n",
              "              title=\"Convert this dataframe to an interactive table.\"\n",
              "              style=\"display:none;\">\n",
              "        \n",
              "  <svg xmlns=\"http://www.w3.org/2000/svg\" height=\"24px\"viewBox=\"0 0 24 24\"\n",
              "       width=\"24px\">\n",
              "    <path d=\"M0 0h24v24H0V0z\" fill=\"none\"/>\n",
              "    <path d=\"M18.56 5.44l.94 2.06.94-2.06 2.06-.94-2.06-.94-.94-2.06-.94 2.06-2.06.94zm-11 1L8.5 8.5l.94-2.06 2.06-.94-2.06-.94L8.5 2.5l-.94 2.06-2.06.94zm10 10l.94 2.06.94-2.06 2.06-.94-2.06-.94-.94-2.06-.94 2.06-2.06.94z\"/><path d=\"M17.41 7.96l-1.37-1.37c-.4-.4-.92-.59-1.43-.59-.52 0-1.04.2-1.43.59L10.3 9.45l-7.72 7.72c-.78.78-.78 2.05 0 2.83L4 21.41c.39.39.9.59 1.41.59.51 0 1.02-.2 1.41-.59l7.78-7.78 2.81-2.81c.8-.78.8-2.07 0-2.86zM5.41 20L4 18.59l7.72-7.72 1.47 1.35L5.41 20z\"/>\n",
              "  </svg>\n",
              "      </button>\n",
              "      \n",
              "  <style>\n",
              "    .colab-df-container {\n",
              "      display:flex;\n",
              "      flex-wrap:wrap;\n",
              "      gap: 12px;\n",
              "    }\n",
              "\n",
              "    .colab-df-convert {\n",
              "      background-color: #E8F0FE;\n",
              "      border: none;\n",
              "      border-radius: 50%;\n",
              "      cursor: pointer;\n",
              "      display: none;\n",
              "      fill: #1967D2;\n",
              "      height: 32px;\n",
              "      padding: 0 0 0 0;\n",
              "      width: 32px;\n",
              "    }\n",
              "\n",
              "    .colab-df-convert:hover {\n",
              "      background-color: #E2EBFA;\n",
              "      box-shadow: 0px 1px 2px rgba(60, 64, 67, 0.3), 0px 1px 3px 1px rgba(60, 64, 67, 0.15);\n",
              "      fill: #174EA6;\n",
              "    }\n",
              "\n",
              "    [theme=dark] .colab-df-convert {\n",
              "      background-color: #3B4455;\n",
              "      fill: #D2E3FC;\n",
              "    }\n",
              "\n",
              "    [theme=dark] .colab-df-convert:hover {\n",
              "      background-color: #434B5C;\n",
              "      box-shadow: 0px 1px 3px 1px rgba(0, 0, 0, 0.15);\n",
              "      filter: drop-shadow(0px 1px 2px rgba(0, 0, 0, 0.3));\n",
              "      fill: #FFFFFF;\n",
              "    }\n",
              "  </style>\n",
              "\n",
              "      <script>\n",
              "        const buttonEl =\n",
              "          document.querySelector('#df-db9835e3-8b76-4445-941b-4d5a590a91dc button.colab-df-convert');\n",
              "        buttonEl.style.display =\n",
              "          google.colab.kernel.accessAllowed ? 'block' : 'none';\n",
              "\n",
              "        async function convertToInteractive(key) {\n",
              "          const element = document.querySelector('#df-db9835e3-8b76-4445-941b-4d5a590a91dc');\n",
              "          const dataTable =\n",
              "            await google.colab.kernel.invokeFunction('convertToInteractive',\n",
              "                                                     [key], {});\n",
              "          if (!dataTable) return;\n",
              "\n",
              "          const docLinkHtml = 'Like what you see? Visit the ' +\n",
              "            '<a target=\"_blank\" href=https://colab.research.google.com/notebooks/data_table.ipynb>data table notebook</a>'\n",
              "            + ' to learn more about interactive tables.';\n",
              "          element.innerHTML = '';\n",
              "          dataTable['output_type'] = 'display_data';\n",
              "          await google.colab.output.renderOutput(dataTable, element);\n",
              "          const docLink = document.createElement('div');\n",
              "          docLink.innerHTML = docLinkHtml;\n",
              "          element.appendChild(docLink);\n",
              "        }\n",
              "      </script>\n",
              "    </div>\n",
              "  </div>\n",
              "  "
            ]
          },
          "metadata": {},
          "execution_count": 11
        }
      ]
    },
    {
      "cell_type": "code",
      "source": [
        "df_train = df[df['Month'] < '1957-04-01']\n",
        "df_test = df[df['Month'] >= '1957-04-01']\n",
        "\n",
        "x = df_train['#Passengers']"
      ],
      "metadata": {
        "id": "Lx-xuJlfBy_j"
      },
      "execution_count": 45,
      "outputs": []
    },
    {
      "cell_type": "code",
      "source": [
        "x = [[i] for i in x]"
      ],
      "metadata": {
        "id": "vRh_QOBBQ_hf"
      },
      "execution_count": 46,
      "outputs": []
    },
    {
      "cell_type": "code",
      "source": [
        "x = torch.tensor([x])"
      ],
      "metadata": {
        "id": "QRuX04JnCsG3"
      },
      "execution_count": 47,
      "outputs": []
    },
    {
      "cell_type": "code",
      "source": [
        "timeseries = torch.randn(1, 1024, 4)\n",
        "timeseries"
      ],
      "metadata": {
        "colab": {
          "base_uri": "https://localhost:8080/"
        },
        "id": "RXMvoip0DfU1",
        "outputId": "fb934ee1-7679-4c8b-c2c7-643d2565d6c8"
      },
      "execution_count": 38,
      "outputs": [
        {
          "output_type": "execute_result",
          "data": {
            "text/plain": [
              "tensor([[[-0.0813,  0.8066, -0.0808,  0.2759],\n",
              "         [-0.3162,  0.9282,  1.5174, -0.3652],\n",
              "         [-0.8277, -0.0685, -0.1885, -1.8614],\n",
              "         ...,\n",
              "         [-0.1481, -1.1068,  1.1667, -1.0491],\n",
              "         [-1.2971, -0.0525,  0.3827, -0.2393],\n",
              "         [-1.9178, -1.4578,  0.7881, -0.4615]]])"
            ]
          },
          "metadata": {},
          "execution_count": 38
        }
      ]
    },
    {
      "cell_type": "markdown",
      "source": [
        "## ETSformerの学習"
      ],
      "metadata": {
        "id": "h5MbFWavBP4z"
      }
    },
    {
      "cell_type": "code",
      "source": [
        "model = ETSFormer(time_features = 4,           # 学習に使う特徴量の数\n",
        "                  model_dim = 512,              # 論文では512\n",
        "                  embed_kernel_size = 3,          # kernel size for 1d conv for input embedding\n",
        "                  layers = 2,                     # number of encoder and corresponding decoder layers\n",
        "                  heads = 8,                      # number of exponential smoothing attention heads\n",
        "                  K = 4,                          # num frequencies with highest amplitude to keep (attend to)\n",
        "                  dropout = 0.2                   # dropout (in paper they did 0.2)\n",
        "                  )\n"
      ],
      "metadata": {
        "id": "hwUPdkdh-kLt"
      },
      "execution_count": 51,
      "outputs": []
    },
    {
      "cell_type": "code",
      "source": [
        "pred"
      ],
      "metadata": {
        "colab": {
          "base_uri": "https://localhost:8080/"
        },
        "id": "NL31xmGP_5Sr",
        "outputId": "f165f67a-c70d-449c-efc0-979d31585fc4"
      },
      "execution_count": 52,
      "outputs": [
        {
          "output_type": "execute_result",
          "data": {
            "text/plain": [
              "tensor([[[ 0.7139, -0.6888,  0.2753, -1.0362],\n",
              "         [ 0.5819, -0.7514,  0.4358, -1.0245],\n",
              "         [ 0.6719, -0.8141,  0.2752, -0.7653],\n",
              "         [ 0.7190, -0.6246,  0.2320, -0.8700],\n",
              "         [ 0.5493, -0.3334,  0.4596, -0.8691],\n",
              "         [ 0.3801, -0.5743,  0.3150, -0.9188],\n",
              "         [ 0.3947, -0.8941,  0.6589, -0.8803],\n",
              "         [ 0.5475, -0.8882,  0.4448, -0.9639],\n",
              "         [ 0.5723, -0.5960,  0.3755, -1.2788],\n",
              "         [ 0.6145, -0.7291,  0.3534, -0.8909],\n",
              "         [ 0.2987, -0.8672,  0.3992, -1.0049],\n",
              "         [ 0.6299, -0.7370,  0.3318, -0.9327],\n",
              "         [ 0.5771, -0.7576,  0.2634, -0.8284],\n",
              "         [ 0.4042, -0.8363,  0.2013, -0.8320],\n",
              "         [ 0.4564, -0.8316,  0.3487, -0.9948],\n",
              "         [ 0.8960, -0.6607,  0.3507, -0.9416],\n",
              "         [ 0.6761, -0.7858,  0.2720, -1.2806],\n",
              "         [ 0.4813, -0.8576,  0.3827, -0.8649],\n",
              "         [ 0.8201, -0.8356,  0.5917, -0.9339],\n",
              "         [ 0.5408, -0.6299,  0.4663, -0.8598],\n",
              "         [ 0.5407, -0.6212,  0.4186, -0.9569],\n",
              "         [ 0.5575, -0.8132,  0.3754, -0.8130],\n",
              "         [ 0.4057, -0.6202,  0.4253, -0.6606],\n",
              "         [ 0.6011, -0.7234,  0.2746, -0.9091],\n",
              "         [ 0.6148, -0.8346,  0.4691, -0.8694],\n",
              "         [ 0.7135, -0.5592,  0.2067, -0.9865],\n",
              "         [ 0.5925, -0.6012,  0.3518, -0.7319],\n",
              "         [ 0.6849, -0.6319,  0.4041, -1.1562],\n",
              "         [ 0.7403, -0.6923,  0.5543, -1.0973],\n",
              "         [ 0.7935, -0.7647,  0.4473, -0.8201],\n",
              "         [ 0.7324, -0.6702,  0.5164, -1.0093],\n",
              "         [ 0.8641, -0.8359,  0.8400, -1.1193]]], grad_fn=<AddBackward0>)"
            ]
          },
          "metadata": {},
          "execution_count": 52
        }
      ]
    },
    {
      "cell_type": "markdown",
      "source": [
        "## ETSformerの予測"
      ],
      "metadata": {
        "id": "Pf3v-Xs4BK0Y"
      }
    },
    {
      "cell_type": "code",
      "source": [
        "pred = model(timeseries, num_steps_forecast = 32) "
      ],
      "metadata": {
        "id": "rG3kDAhO_3-E"
      },
      "execution_count": null,
      "outputs": []
    }
  ]
}