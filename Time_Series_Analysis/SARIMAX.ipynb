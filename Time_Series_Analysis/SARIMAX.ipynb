{
 "cells": [
  {
   "cell_type": "markdown",
   "id": "cf1b9f4c-9b6b-40b9-be9c-3173472c0cb1",
   "metadata": {},
   "source": [
    "# SARIMAX\n",
    "* SARIMAに外生変数を加えたver\n",
    "* 参考記事 \n",
    "https://qiita.com/snuow/items/2504a6b2dc6cbc735e5a"
   ]
  },
  {
   "cell_type": "code",
   "execution_count": null,
   "id": "0530f9b2-8f7d-4e2e-ad0e-0812df220e1f",
   "metadata": {},
   "outputs": [],
   "source": []
  }
 ],
 "metadata": {
  "kernelspec": {
   "display_name": "Python 3 (ipykernel)",
   "language": "python",
   "name": "python3"
  },
  "language_info": {
   "codemirror_mode": {
    "name": "ipython",
    "version": 3
   },
   "file_extension": ".py",
   "mimetype": "text/x-python",
   "name": "python",
   "nbconvert_exporter": "python",
   "pygments_lexer": "ipython3",
   "version": "3.9.7"
  }
 },
 "nbformat": 4,
 "nbformat_minor": 5
}
