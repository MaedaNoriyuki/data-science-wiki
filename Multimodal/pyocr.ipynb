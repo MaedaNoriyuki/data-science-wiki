{
  "nbformat": 4,
  "nbformat_minor": 0,
  "metadata": {
    "colab": {
      "provenance": [],
      "include_colab_link": true
    },
    "kernelspec": {
      "name": "python3",
      "display_name": "Python 3"
    },
    "language_info": {
      "name": "python"
    },
    "gpuClass": "standard"
  },
  "cells": [
    {
      "cell_type": "markdown",
      "metadata": {
        "id": "view-in-github",
        "colab_type": "text"
      },
      "source": [
        "<a href=\"https://colab.research.google.com/github/fuyu-quant/data-science/blob/main/Multimodal/pyocr.ipynb\" target=\"_parent\"><img src=\"https://colab.research.google.com/assets/colab-badge.svg\" alt=\"Open In Colab\"/></a>"
      ]
    },
    {
      "cell_type": "markdown",
      "source": [
        "# pyocr"
      ],
      "metadata": {
        "id": "ytVMJBo82L5x"
      }
    },
    {
      "cell_type": "code",
      "source": [
        "%%capture\n",
        "!apt install tesseract-ocr libtesseract-dev tesseract-ocr-jpn\n",
        "!pip install pyocr"
      ],
      "metadata": {
        "id": "6ThAzznONBVX"
      },
      "execution_count": null,
      "outputs": []
    },
    {
      "cell_type": "code",
      "source": [
        "from PIL import Image\n",
        "import pyocr\n",
        "import cv2\n",
        "from google.colab.patches import cv2_imshow"
      ],
      "metadata": {
        "id": "5eE08-FySwU9"
      },
      "execution_count": 2,
      "outputs": []
    },
    {
      "cell_type": "code",
      "source": [
        "img1 = Image.open('sample.png')\n",
        "img1"
      ],
      "metadata": {
        "id": "zEqC4hinS1aK"
      },
      "execution_count": null,
      "outputs": []
    },
    {
      "cell_type": "code",
      "source": [
        "tools = pyocr.get_available_tools()\n",
        "print(tools)\n",
        "# [<module 'pyocr.tesseract' from '/usr/local/lib/python3.6/dist-packages/pyocr/tesseract.py'>, \n",
        "# <module 'pyocr.libtesseract' from '/usr/local/lib/python3.6/dist-packages/pyocr/libtesseract/__init__.py'>]\n",
        "tool = tools[1]\n",
        "print(tool.get_name())"
      ],
      "metadata": {
        "colab": {
          "base_uri": "https://localhost:8080/"
        },
        "id": "saYyS11HS5HT",
        "outputId": "5e81d4c5-8d35-4582-b11b-172daa53e5b6"
      },
      "execution_count": 16,
      "outputs": [
        {
          "output_type": "stream",
          "name": "stdout",
          "text": [
            "[<module 'pyocr.tesseract' from '/usr/local/lib/python3.10/dist-packages/pyocr/tesseract.py'>, <module 'pyocr.libtesseract' from '/usr/local/lib/python3.10/dist-packages/pyocr/libtesseract/__init__.py'>]\n",
            "Tesseract (C-API)\n"
          ]
        }
      ]
    },
    {
      "cell_type": "code",
      "source": [
        "txt1 = tool.image_to_string(\n",
        "    img1,\n",
        "    lang='jpn+eng',\n",
        "    builder=pyocr.builders.TextBuilder(tesseract_layout=4)\n",
        ")"
      ],
      "metadata": {
        "id": "_MwYFjX_S8ff"
      },
      "execution_count": 17,
      "outputs": []
    },
    {
      "cell_type": "code",
      "source": [
        "txt1"
      ],
      "metadata": {
        "colab": {
          "base_uri": "https://localhost:8080/",
          "height": 70
        },
        "id": "acgknmA0S-oE",
        "outputId": "501600a1-ecfe-42dc-aed4-3cf11c7b215f"
      },
      "execution_count": 18,
      "outputs": [
        {
          "output_type": "execute_result",
          "data": {
            "text/plain": [
              "' \\n \\n  \\n  \\n     \\n   \\n     \\n    \\n*xk GH UM HE *xx ーー\\n \\n2023 年 04 月 14 日 21 時 07 分 ea\\n=\\nに\\na es\\nHep te Arie 標\\n¥ 10,000\\nWor 税 ¥909)\\n104 じす 79- ¥10, 000)\\n1 KB 2. 2 3. PRS 4. BRADY S\\n法 現金 飲食 券\\n正 に 領収 いた し ま た\\n \\n担当 者 cb;\\n= (122)\\n革新 地 1ー6ー 10\\n '"
            ],
            "application/vnd.google.colaboratory.intrinsic+json": {
              "type": "string"
            }
          },
          "metadata": {},
          "execution_count": 18
        }
      ]
    },
    {
      "cell_type": "code",
      "source": [
        "import re\n",
        "splited = re.split('\\s', txt1.replace('.', ''))\n",
        "splited"
      ],
      "metadata": {
        "colab": {
          "base_uri": "https://localhost:8080/"
        },
        "id": "XvzW-G2BZSxj",
        "outputId": "bf863416-fcc2-4a96-fc99-a101f9ee30e4"
      },
      "execution_count": 15,
      "outputs": [
        {
          "output_type": "execute_result",
          "data": {
            "text/plain": [
              "['',\n",
              " '',\n",
              " '',\n",
              " '',\n",
              " '',\n",
              " '',\n",
              " '',\n",
              " '',\n",
              " '',\n",
              " '',\n",
              " '',\n",
              " '',\n",
              " '',\n",
              " '',\n",
              " '',\n",
              " '',\n",
              " '',\n",
              " '',\n",
              " '',\n",
              " '',\n",
              " '',\n",
              " '',\n",
              " '',\n",
              " '',\n",
              " '',\n",
              " '',\n",
              " '',\n",
              " '',\n",
              " '',\n",
              " '',\n",
              " '',\n",
              " '*xk',\n",
              " 'GH',\n",
              " 'UM',\n",
              " 'HE',\n",
              " '*xx',\n",
              " 'ーー',\n",
              " '',\n",
              " '',\n",
              " '2023',\n",
              " '年',\n",
              " '04',\n",
              " '月',\n",
              " '14',\n",
              " '日',\n",
              " '21',\n",
              " '時',\n",
              " '07',\n",
              " '分',\n",
              " 'ea',\n",
              " '=',\n",
              " 'に',\n",
              " 'a',\n",
              " 'es',\n",
              " 'Hep',\n",
              " 'te',\n",
              " 'Arie',\n",
              " '標',\n",
              " '¥',\n",
              " '10,000',\n",
              " 'Wor',\n",
              " '税',\n",
              " '¥909)',\n",
              " '104',\n",
              " 'じす',\n",
              " '79-',\n",
              " '¥10,',\n",
              " '000)',\n",
              " '1',\n",
              " 'KB',\n",
              " '2',\n",
              " '2',\n",
              " '3',\n",
              " 'PRS',\n",
              " '4',\n",
              " 'BRADY',\n",
              " 'S',\n",
              " '法',\n",
              " '現金',\n",
              " '飲食',\n",
              " '券',\n",
              " '正',\n",
              " 'に',\n",
              " '領収',\n",
              " 'いた',\n",
              " 'し',\n",
              " 'ま',\n",
              " 'た',\n",
              " '',\n",
              " '',\n",
              " '担当',\n",
              " '者',\n",
              " 'cb;',\n",
              " '=',\n",
              " '(122)',\n",
              " '革新',\n",
              " '地',\n",
              " '1ー6ー',\n",
              " '10',\n",
              " '',\n",
              " '']"
            ]
          },
          "metadata": {},
          "execution_count": 15
        }
      ]
    },
    {
      "cell_type": "code",
      "source": [],
      "metadata": {
        "id": "t-dgQZ7xZ91t"
      },
      "execution_count": null,
      "outputs": []
    }
  ]
}