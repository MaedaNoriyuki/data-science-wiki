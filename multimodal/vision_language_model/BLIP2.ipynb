{
  "cells": [
    {
      "cell_type": "markdown",
      "metadata": {
        "id": "BGMNh0cTZc9f"
      },
      "source": [
        "# BLIP2"
      ]
    },
    {
      "cell_type": "markdown",
      "metadata": {},
      "source": [
        "* https://arxiv.org/abs/2301.12597"
      ]
    },
    {
      "cell_type": "markdown",
      "metadata": {},
      "source": [
        "[![Open In Colab](https://colab.research.google.com/assets/colab-badge.svg)](https://colab.research.google.com/github/fuyu-quant/data-science-wiki/blob/main/multimodal/text_image/BLIP2.ipynb)"
      ]
    },
    {
      "cell_type": "code",
      "execution_count": 1,
      "metadata": {
        "id": "ZPomWjG7a1vT"
      },
      "outputs": [],
      "source": [
        "%%capture\n",
        "!pip install accelerate sentencepiece transformers"
      ]
    },
    {
      "cell_type": "code",
      "execution_count": 2,
      "metadata": {
        "id": "_Thp3ACPaB46"
      },
      "outputs": [],
      "source": [
        "from transformers import AutoProcessor, Blip2ForConditionalGeneration\n",
        "import torch\n",
        "\n",
        "from PIL import Image\n",
        "import requests"
      ]
    },
    {
      "cell_type": "code",
      "execution_count": null,
      "metadata": {
        "colab": {
          "base_uri": "https://localhost:8080/",
          "height": 1000,
          "referenced_widgets": [
            "cf81dd7c1bb14be5bd348b4207b70ef8",
            "31ed8d5f9e3a4a07b2678d66d82bdee6",
            "e8dcc28d7e4f4085938a007f3407a863",
            "ca91d071bd71490ab516bcd532757d07",
            "659d412bf2da4488bf80ecee973ee920",
            "2e977d0be7a2449daefdcba256faa4d7",
            "bc3272e5f25a41069e7ba041f86a558a",
            "5dabb6b566564f5d9e681f11ea952337",
            "03c33583a06042c2af47f78b41e8f861",
            "17b90d1768374492b3e6317c7be7f9f8",
            "4582f08a5d8e4a0d92dde2765b0e0d37",
            "332c6cb746194e33b6f523b24b231e44",
            "8a3748fdc6114720ad478ef73f57cee8",
            "ac0bfdb515c047748dac9d2beed99297",
            "e07104b1cb934544ada9df88a6ca1b31",
            "e5e28582a3064d5aa2275a3f74bbfc2a",
            "15964608791d4773928440d1988ac5e7",
            "14af19fa71204aeab7e1487608823cf0",
            "351433f88c23411299ddfaf2972f9024",
            "ee21f5d1208d41648525bf99d397a95a",
            "3da8ce53064e474eb3992327a789310e",
            "221db0da3a3d475c8aa07831a17ba2fb",
            "4970af97a912401288b27292cf059be3",
            "6f54479fc4df4783af4c3ca34272ab03",
            "546ccadc902a4aaeac9dd41276d94b9a",
            "f5a1dec3e9124faab50f9292e89e35e4",
            "29de8f92eb1844909e59ff910649132e",
            "8f75f382dbb04687b1bdd312b0ba429f",
            "c4c77b4d939f4764a3b7eb9edfa77259",
            "7a00dbc362ed4b13acf159ce6d4328e0",
            "2d5c9362b25843a3800c6b8e252415a9",
            "eda674e59f4e4c6396df2bb944fed331",
            "1815e11adfda4a24b0db503647f43bd4",
            "ae59bb8c50f143dc992a7cf2eca547c5",
            "f92ad0de7e2644588526b1bdc3c82427",
            "f049c78175a741adbbb7e2db063cb408",
            "01295f865aac44b18a81864994ae9286",
            "d73a660e82ed4e5caf0f4311d7750ea1",
            "d52ca8459d694d7c8e209e84e433b997",
            "90841ecb24844fc2a9580242574182d5",
            "b94cf0e333c24aae885e405456fa0df9",
            "cb3367e48cdb43868e9224798edb854d",
            "e10400fab60d4150aec6c9907b61472d",
            "3a2ab183202d4486a67fe2636d042207",
            "0bea79ae45d6413fb29f8fd94ab23f24",
            "1f82750a29704811ad8068b4d19ca49b",
            "2a1aeaf818ce448b8ca9d12ecfcd395b",
            "49302995d5f046ed89e2f8f8b692e65b",
            "53cdf77aa1df4c8eb204986a83f7c1d7",
            "fcadd7a31b544ca0887d8e755eb264f5",
            "39d74a34c65544259cea763eb7e6cba6",
            "564cc5f4cf564763b0c393b26d801b3c",
            "9184560f7325447e9ac589bfa6c0b5e2",
            "8a99a6ca44364c3ba6ae85b7d4c02793",
            "184e705c42364094846a2b8a7fb00417",
            "fef98082a7cc49cd8f80711894940662",
            "be59f072f2ba49aa8d0af93db012aec6",
            "408922182a1b46b9848c95b820b3981d",
            "0acd3d3000384e90a711c1411dd43a63",
            "fcb1449e9a704e6997d9534754a36046",
            "68f7e644a6c44d4c913421c5d9699678",
            "9da7a139edc24513b92d25debea7ce8c",
            "f28325268d2042c2847d2d7d3491a965",
            "730a287aee2e4b00849519c92dc398e4",
            "e032f216427c4d7cbd3fe5b0870b2631",
            "a9e1e5c2381a40c0824d02e4e5fed6c2",
            "890d8cde87834e858bc0b47785c5dbd2",
            "dbdaed8b53014e88b25390404e2e94ce",
            "907ddb2819a64e5da7f4979baff2241a",
            "e80eec58e4bf4dd7b33d0f1f0dd23e63",
            "2d3cf8fe9e614ccfb37b3bc7c72653ac",
            "90eaaec93b3a47f090e83cf893513771",
            "ae1cacb86b9e4c50b9f7d24dc4f32003",
            "7e1cad5cd436433fbb147d5e60d92ba3",
            "894af626662446c4b17a8a44cfa33727",
            "013ffea7474641729eafa669e8dea9ec",
            "f70280da5e8a406eb43f86e15ec5e65e",
            "bdb69762d3f04ef4a1648ffff8d732aa",
            "b750d8b37cc5444fab3242bc839c4cd5",
            "98ee36a6d2cb4d8eb6fa1a5f083a7b7b",
            "76e091e59da64b4aa0a28d0ef25b178c",
            "580014be58a747e1b62f7e46b47e4f8c",
            "9828adc6f5f64b50a3f790cc7a6209bd",
            "3898bd8dd8564afaaca64731c7ca6fe6",
            "6fc4b33b688f45cdb962160dc12018e4",
            "989343a7e1274f80a4ea2de7422eff3c",
            "8556404c92b84083bae10d517bdef0dc",
            "82a1b159e9ee457ba8f852981044a7f2",
            "9c0b178d622049f28f7fcd3fbb342757",
            "cbbaf9d81ef244f9b5c547537de8551c",
            "4db5ec8612e34895ae0015e71db37c03",
            "066b85116f674662810f58f7f5888573",
            "65d8fd28d477469c83cc904027eb6dc8",
            "fbd34d36f7f94b6bad4f3953eb2433e0",
            "e060c2a31f864f44b87fef59fb662ccf",
            "2d8e266aa45948be86d8e1c22ef08f62",
            "2550680c43cb435aa647e9c7712910c7",
            "a4fe9730ce9b4188a90c26b140fb5418",
            "8cd1ad1fa4a04ca7a18163978ebfce64",
            "b68d364dea174a87866bc289bc95ea25",
            "de588a27dca54a08b578c9e84aa39c81",
            "0be6c4be12384b58bd0b4fcdb9123773",
            "a97b0f9b455d4c0c9d38e0c030744f9f",
            "618dd578d5ac4095b0e9ae3ee8787468",
            "8fdfe8c7040d43ca9c11268e4e357c0e",
            "7fe631b31cfc4c119e6d68e33c0913d9",
            "da61d656ca844f258630a94e8db99d6c",
            "b2c0b62733d3461083bb635de68cd238",
            "d34698774a014995ac34241ba079d86a",
            "a67be056578c4255baf2fa2d983757db",
            "b0f0f45a84cf46a785f5e54e63266aa5",
            "157308536bcb4051b262b188f0fa433a",
            "ae78476a1c744e94a52cde9fe2d4a5a2",
            "aff820eb27b54e8ba943f02546ba1a19",
            "148611bc9bf145498053f562ac61e60d",
            "48738d0426034596807cda9eedfb9e47",
            "9742a900f3ee4756a04a33812f3fc4c8",
            "dbad0bc8e4b94d63a19f4ec538f06a2e",
            "fe5d0fa8a9294b46b7e7445f6280d7ea",
            "712794c63e7242b5b0815573ef11e6ec",
            "fc4aa74fb24a40d8a091943a11baeb4f",
            "16e0215cd52d4c0dbbd0e590debe27bd",
            "2987508aaf7a4c709282ea0968b73fcd",
            "c428e085e1684b1ca4fa400a1d338716",
            "d5489b5ebf5b4ae1b2511ae5262a52c2",
            "f8ec75d503b347c2bed0b38bf3dfce41",
            "38b18a6ba58c41a8a7c8801bc4fc67e0",
            "cbc40f208d1240f29de2b17be04a05b7",
            "bfeaf5f0f75048a9aabef34c030b4756",
            "0231bc5efe9a4fddbcce9462fcb593bb",
            "0470c25077364cf2be0c53e6178b937a",
            "5b3922e0eb3c46a9b28d381b3fa53768"
          ]
        },
        "id": "KLUDcHBhZ3FC",
        "outputId": "274fda0a-d9b7-4951-d5cc-4a328b965fae"
      },
      "outputs": [],
      "source": [
        "processor = AutoProcessor.from_pretrained(\"Salesforce/blip2-opt-2.7b\")\n",
        "#  torch_dtype=torch.float16\u3092\u5229\u7528\u3059\u308b\u5834\u5408\u306faccelerate\u306e\u30a4\u30f3\u30b9\u30c8\u30fc\u30eb\u3092\u63a8\u5968\n",
        "model = Blip2ForConditionalGeneration.from_pretrained(\"Salesforce/blip2-opt-2.7b\", torch_dtype=torch.float16)\n",
        "\n",
        "device = \"cuda\" if torch.cuda.is_available() else \"cpu\"\n",
        "model.to(device)"
      ]
    },
    {
      "cell_type": "markdown",
      "metadata": {
        "id": "pcvWWA53JDC2"
      },
      "source": [
        "### \u30c7\u30fc\u30bf\u306e\u7528\u610f"
      ]
    },
    {
      "cell_type": "code",
      "execution_count": null,
      "metadata": {
        "colab": {
          "base_uri": "https://localhost:8080/",
          "height": 769
        },
        "id": "ey3FuiQKcICG",
        "outputId": "1cebc13d-d779-4688-8808-fa2f8478ea80"
      },
      "outputs": [],
      "source": [
        "url = \"https://img.peapix.com/e27fcf12e0664a5cb1c6b58c6b311d31.jpg?attachment&modal\"\n",
        "\n",
        "image = Image.open(requests.get(url, stream=True).raw).convert(\"RGB\")\n",
        "image"
      ]
    },
    {
      "cell_type": "markdown",
      "metadata": {
        "id": "opnwm8DXJQPC"
      },
      "source": [
        "### Image captioning"
      ]
    },
    {
      "cell_type": "code",
      "execution_count": 11,
      "metadata": {
        "colab": {
          "base_uri": "https://localhost:8080/"
        },
        "id": "GHGcCBHJZ7dl",
        "outputId": "63f73567-5680-437f-bac1-707260353a5a"
      },
      "outputs": [
        {
          "name": "stdout",
          "output_type": "stream",
          "text": [
            "tokyo skyline at dusk, japan\n"
          ]
        }
      ],
      "source": [
        "inputs = processor(image, return_tensors=\"pt\").to(device, torch.float16)\n",
        "\n",
        "generated_ids = model.generate(**inputs, max_new_tokens=20)\n",
        "generated_text = processor.batch_decode(generated_ids, skip_special_tokens=True)[0].strip()\n",
        "print(generated_text)"
      ]
    },
    {
      "cell_type": "markdown",
      "metadata": {
        "id": "M3K2-DkFJS8-"
      },
      "source": [
        "### Visual question answering"
      ]
    },
    {
      "cell_type": "code",
      "execution_count": 15,
      "metadata": {
        "colab": {
          "base_uri": "https://localhost:8080/"
        },
        "id": "wcp96SK4Z9OM",
        "outputId": "799fbb32-aca6-498f-cf0d-bca7adee5b14"
      },
      "outputs": [
        {
          "name": "stdout",
          "output_type": "stream",
          "text": [
            "Tokyo skyline\n"
          ]
        }
      ],
      "source": [
        "#question = \"Is Tokyo Tower in the picture?\"\n",
        "question = \"What is the main thing in the picture?\"\n",
        "prompt = f\"Question: {question} Answer:\"\n",
        "\n",
        "inputs = processor(image, text = prompt, return_tensors=\"pt\").to(device, torch.float16)\n",
        "\n",
        "generated_ids = model.generate(**inputs, max_new_tokens=20)\n",
        "generated_text = processor.batch_decode(generated_ids, skip_special_tokens=True)[0].strip()\n",
        "print(generated_text)"
      ]
    }
  ],
  "metadata": {
    "accelerator": "GPU",
    "colab": {
      "authorship_tag": "ABX9TyP0ANVMCxTbN2umGYm6NgBR",
      "gpuType": "V100",
      "include_colab_link": true,
      "machine_shape": "hm",
      "provenance": []
    },
    "kernelspec": {
      "display_name": "Python 3.9.18 ('.venv': poetry)",
      "language": "python",
      "name": "python3"
    },
    "language_info": {
      "name": "python",
      "version": "3.9.18"
    },
    "vscode": {
      "interpreter": {
        "hash": "17a011378fed683b21aba93e5dd7c0cb7beefc09c5af72c6425b40c713e260dc"
      }
    }
  },
  "nbformat": 4,
  "nbformat_minor": 0
}