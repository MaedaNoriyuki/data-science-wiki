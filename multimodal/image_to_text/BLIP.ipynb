{
  "cells": [
    {
      "cell_type": "markdown",
      "metadata": {
        "id": "mho74KyNRybp"
      },
      "source": [
        "# BLIP"
      ]
    },
    {
      "cell_type": "markdown",
      "metadata": {},
      "source": [
        "* https://github.com/salesforce/BLIP"
      ]
    },
    {
      "cell_type": "markdown",
      "metadata": {},
      "source": [
        "[![Open In Colab](https://colab.research.google.com/assets/colab-badge.svg)](https://colab.research.google.com/github/fuyu-quant/data-science-wiki/blob/main/multimodal/text_image/BLIP.ipynb)"
      ]
    },
    {
      "cell_type": "code",
      "execution_count": 1,
      "metadata": {
        "id": "bZef_87CRsCL"
      },
      "outputs": [],
      "source": [
        "%%capture\n",
        "!pip install sentencepiece transformers"
      ]
    },
    {
      "cell_type": "code",
      "execution_count": 2,
      "metadata": {
        "id": "pD6M65EmQ_IR"
      },
      "outputs": [],
      "source": [
        "import torch\n",
        "from transformers import BlipProcessor, BlipForConditionalGeneration\n",
        "\n",
        "from PIL import Image\n",
        "import requests"
      ]
    },
    {
      "cell_type": "code",
      "execution_count": null,
      "metadata": {
        "colab": {
          "base_uri": "https://localhost:8080/",
          "height": 1000,
          "referenced_widgets": [
            "c17ede52133d437daeb948cd6f6e88c5",
            "578ac94b7817495a996e63162b1d3e1f",
            "9e3b3123650f4e0491f18b626b827856",
            "a2a82c35bf9e4b199964338af9b8a003",
            "8b8a57dddf824f2f9a97c2e406edc07b",
            "490ab4d4d4684930aaa0c4144cbf5311",
            "070c752abc094c7d96dc75bbae860c11",
            "8f6205a7fb3943e3b596084d2cc5178b",
            "1271ff67148d49529613790d7c94ed3a",
            "fb6499827d3a4881be853c6ca968200f",
            "06448243aaf44c58a069fbef10e4d503",
            "cbbf41057cbe45e99549cff341568a3d",
            "0a146b9a7feb4ccc92aaf9b2a5c8bba1",
            "4519e28cd94a4d3a82c9be7c1ee3140b",
            "fb737e8896d04557976ac5b727ccccb9",
            "2e1bb4f94d254fe7a66e14845774bdb0",
            "857b98f2f81b470b95312351c4723b76",
            "ff671f3d817d4f818dd4ad78cf96b879",
            "de0c63d5f01641ddac574e634eaa6327",
            "7cc0f52ecc724708bfde9905cb048de9",
            "6214135faf174492bbda39f239d95c2b",
            "c169938abfae4da89668ac3acc6781f0",
            "42d47be073da4783ad1512d122a6b76b",
            "8c3df7e7a88d491dbea0c4b6b11fd97e",
            "3389c124933f4a86b9b13d269c799f05",
            "5eef3e96525845c88dbf1b71b896d8bc",
            "89e7ba619bbe470a9e1022e131c932d7",
            "50f838a3380840978defd1246ac04b90",
            "3eaad97ce1854be5bfcf1cf1145593cd",
            "efa00d0d34c04c39860353389cd93f56",
            "f70c81fa83bb487aa7d2122b56abb89f",
            "59881e48b1e7455e91e7b7e909ea6c96",
            "7810b8f2f86f41df9590dd2e66545092",
            "828fc1b0643e4fedbb5c1dc025c0eac5",
            "6d1a6e6a78d040b6a96ddb51ac56bd73",
            "1dcc372995134157850694401e6665e2",
            "c9dc4f0f687e4ed0bf400f065aa53365",
            "aefe89deaffb4fb1aace91734d1197bc",
            "1958e91f07964a7a824623c55eaab04b",
            "187fcccf968f4806890472fceccd1cbf",
            "e563bf219be34f83be3715c490f385a8",
            "880d28e0d4114fa48546568423d7c37a",
            "6b6f24a266024886ad1ea85b65bd3c18",
            "31f32ae57cfe40368a16a0d510937a09",
            "a08b5a670a4d47f08ab3a2b05ec647d5",
            "51432c73ea8d41a4a16cb6283963d23b",
            "dcf35ee1f073421eb4dafff493ab3e26",
            "dde8bedb15644750885e88788d48b176",
            "660ea0722a3240918950c0b713572c40",
            "85549f1554e44681a49d163f75b9805a",
            "1fd4d6e2bcfe4160bfd6963423ad96f5",
            "494cb0ecd3b84b61bc106d4bcda45f1c",
            "8c72cd2da0054f7f832eb2150096473d",
            "4a2436c4976c41b7972a6a8e9c35c6e8",
            "a84ed28634ba4f0fab50fd062f376a26",
            "3d4c0fa5fced4c29970ededa3b55ffda",
            "2f518a1fd0a74d1191c14ad5fa546a29",
            "aa655e63b6ed4f1aa14e474a72b02e2a",
            "858b261f680b4a0e983b9f51e014711c",
            "08b6f16f020547da88b52f50fa8bda77",
            "5f63c7fd2ee544b99c896fef31b2397b",
            "d88ba94b3f454df4895e29ceeed53fa4",
            "3db605495fb9491bbdb11decd84cf2a0",
            "9c2ca05bd84946bd9dcae7f3d6421b1a",
            "9cd15f4f966c4f45adf38cdff4ffd420",
            "1b236dc83a2b42b191139840c92c1e87",
            "5cd6144a647c40eda9352278912d8b8a",
            "07e72abb8aeb4c6c96543a97f57906f1",
            "41210041234649e3909b6c43e011634b",
            "49c41d9bd9c342069ea34189b44424e7",
            "7cc2d34cec2e4ba79aced209d6d28524",
            "89fd79fca4054c589bd202726bfde774",
            "88b106dc4d4c4a7b8cf29f04c8aaeb81",
            "a92be8be67db4aee8ddf84ec8cc29cdc",
            "42d10a6241f848c2b17664f1b792777e",
            "14e4da1a33e64b019de0af249209401f",
            "e4344a8b96b84db98143fc7ab616cc81"
          ]
        },
        "id": "zGDDxzs4SMho",
        "outputId": "2cec4e0f-0e3d-421b-c590-40ebcdf7c1c8"
      },
      "outputs": [],
      "source": [
        "processor = BlipProcessor.from_pretrained(\"Salesforce/blip-image-captioning-large\")\n",
        "model = BlipForConditionalGeneration.from_pretrained(\"Salesforce/blip-image-captioning-large\")\n",
        "\n",
        "device = \"cuda\" if torch.cuda.is_available() else \"cpu\"\n",
        "model.to(device)"
      ]
    },
    {
      "cell_type": "code",
      "execution_count": null,
      "metadata": {
        "colab": {
          "base_uri": "https://localhost:8080/",
          "height": 718
        },
        "id": "gLNlsAzOQ9j3",
        "outputId": "a54bb7fb-63fc-4e88-83a5-1945c13e997d"
      },
      "outputs": [],
      "source": [
        "url = \"https://img.peapix.com/e27fcf12e0664a5cb1c6b58c6b311d31.jpg?attachment&modal\"\n",
        "image = Image.open(requests.get(url, stream=True).raw).convert(\"RGB\")\n",
        "image"
      ]
    },
    {
      "cell_type": "code",
      "execution_count": 8,
      "metadata": {
        "colab": {
          "base_uri": "https://localhost:8080/"
        },
        "id": "vU_YbTdYQtwz",
        "outputId": "337a6484-4c41-431d-a1bd-34e5443a81c4"
      },
      "outputs": [
        {
          "name": "stdout",
          "output_type": "stream",
          "text": [
            "woman sitting on the beach with her dog and a cell phone\n"
          ]
        }
      ],
      "source": [
        "inputs = processor(image, return_tensors=\"pt\").to(device, torch.float16)\n",
        "\n",
        "generated_ids = model.generate(**inputs, max_new_tokens=20)\n",
        "generated_text = processor.batch_decode(generated_ids, skip_special_tokens=True)[0].strip()\n",
        "print(generated_text)"
      ]
    },
    {
      "cell_type": "code",
      "execution_count": 12,
      "metadata": {
        "colab": {
          "base_uri": "https://localhost:8080/"
        },
        "id": "TrglgtDEQ7Yr",
        "outputId": "11f057b7-6fcb-42e7-d815-a3d3255f616e"
      },
      "outputs": [
        {
          "name": "stdout",
          "output_type": "stream",
          "text": [
            "a photography of a cityscape with a tall tower in the middle\n"
          ]
        }
      ],
      "source": [
        "prompt = \"a photography of\"\n",
        "\n",
        "inputs = processor(image, text = prompt, return_tensors=\"pt\").to(device, torch.float16)\n",
        "\n",
        "generated_ids = model.generate(**inputs, max_new_tokens=20)\n",
        "generated_text = processor.batch_decode(generated_ids, skip_special_tokens=True)[0].strip()\n",
        "print(generated_text)"
      ]
    }
  ],
  "metadata": {
    "colab": {
      "authorship_tag": "ABX9TyPzM71nSkcLG8kaIX5G/H8Q",
      "include_colab_link": true,
      "provenance": []
    },
    "kernelspec": {
      "display_name": "Python 3.9.18 ('.venv': poetry)",
      "language": "python",
      "name": "python3"
    },
    "language_info": {
      "name": "python",
      "version": "3.9.18"
    },
    "vscode": {
      "interpreter": {
        "hash": "17a011378fed683b21aba93e5dd7c0cb7beefc09c5af72c6425b40c713e260dc"
      }
    }
  },
  "nbformat": 4,
  "nbformat_minor": 0
}