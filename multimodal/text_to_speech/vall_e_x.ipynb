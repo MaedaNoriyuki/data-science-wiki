{
  "cells": [
    {
      "cell_type": "markdown",
      "metadata": {
        "id": "k_ge7rR0vfi1"
      },
      "source": [
        "# VALL-E X"
      ]
    },
    {
      "cell_type": "markdown",
      "metadata": {
        "id": "6PDZ4xVJwSNp"
      },
      "source": [
        "VALL-E XはMicrosoftが開発した音声合成のモデルです。論文はMicrosoftから出ていますが、今回紹介するモデルはMicrosoftaが出しているモデルではないです(Microsoftの公式のモデルは公開されていないみたいです)主な特徴としては、英語、日本語、中国語での音声合成と数秒の音声ファイルからその声を模倣した合成音声を生成できます。\n",
        "- GitHub:https://github.com/Plachtaa/VALL-E-X"
      ]
    },
    {
      "cell_type": "markdown",
      "metadata": {},
      "source": [
        "<a href=\"https://colab.research.google.com/github/fuyu-quant/data-science-wiki/blob/main/multimodal/text_to_speech/vall_e_x.ipynb\" target=\"_blank\" rel=\"noopener noreferrer\"><img src=\"https://colab.research.google.com/assets/colab-badge.svg\" alt=\"Open In Colab\"/></a>"
      ]
    },
    {
      "cell_type": "code",
      "execution_count": 2,
      "metadata": {
        "id": "iYKM2RjMvQqR"
      },
      "outputs": [],
      "source": [
        "%%capture\n",
        "!git clone https://github.com/Plachtaa/VALL-E-X.git\n"
      ]
    },
    {
      "cell_type": "code",
      "execution_count": null,
      "metadata": {
        "colab": {
          "base_uri": "https://localhost:8080/"
        },
        "id": "6-CHchwDDKzs",
        "outputId": "ee8c7427-6ace-4c3c-e0de-60db0e8d926d"
      },
      "outputs": [],
      "source": [
        "cd VALL-E-X\n"
      ]
    },
    {
      "cell_type": "code",
      "execution_count": 5,
      "metadata": {
        "id": "iVOxlsTODEIw"
      },
      "outputs": [],
      "source": [
        "%%capture\n",
        "!pip install -r requirements.txt\n"
      ]
    },
    {
      "cell_type": "code",
      "execution_count": 6,
      "metadata": {
        "id": "uCzIEdp7wmuH"
      },
      "outputs": [],
      "source": [
        "from utils.generation import SAMPLE_RATE, generate_audio, preload_models\n",
        "from scipy.io.wavfile import write as write_wav\n",
        "from IPython.display import Audio\n"
      ]
    },
    {
      "cell_type": "markdown",
      "metadata": {
        "id": "WW7RsS-Yz3Ob"
      },
      "source": [
        "### モデルのダウンロード"
      ]
    },
    {
      "cell_type": "code",
      "execution_count": null,
      "metadata": {
        "colab": {
          "base_uri": "https://localhost:8080/",
          "height": 136,
          "referenced_widgets": [
            "db1cdb15739a4be6bb3dbce11c9096cd",
            "d97b6aadfc644c569219efe92892cbe5",
            "3098c5afcb6c42069ed231283fa191b9",
            "627d1817a8764d818bc718ae235b3f14",
            "e4970aadd347468ca95914d5b89ce537",
            "88de9bfa055e4386809823cb226f60f4",
            "986f60ca172d452fad616a61e098e78a",
            "42beba998b584f0cb391d08e4c1f3525",
            "c0d5ecfb918144108eca16aa1eed45c6",
            "06a6a846a5f34776930600040ff86c1f",
            "e11b8fd88e7644b38442b505ded6dbe6",
            "134aab3daf5b40efb2b9fe830072049d",
            "3eb59538bb064423b2174e984bfdba82",
            "35182a8302c0413987873f6919354279",
            "115a432c7c654d8caf4f737d179a6996",
            "da7b970fceec4d088ba3bc294b4ec0e8",
            "7c6d2336382b4f2e994fe68c1c4a1093",
            "957d393c0b884ac29c05bf46dbf4fe77",
            "c4ba4135661b4e40b974b0b86c8ed549",
            "64f26c8beb054644aeb91f4b1848b1e2",
            "28ab7e45f04a453688b7d59b4191e25d",
            "f866aba6bbc743759f8a41510c6f07ec"
          ]
        },
        "id": "LnETuxSWz25H",
        "outputId": "4a9b050f-a4e3-43d5-f825-9bdedda3ee87"
      },
      "outputs": [],
      "source": [
        "preload_models()\n"
      ]
    },
    {
      "cell_type": "markdown",
      "metadata": {
        "id": "rvks98KWw0Lc"
      },
      "source": [
        "### 音声生成"
      ]
    },
    {
      "cell_type": "code",
      "execution_count": null,
      "metadata": {
        "colab": {
          "base_uri": "https://localhost:8080/",
          "height": 93
        },
        "id": "ycAmTvtFwHsr",
        "outputId": "cbb37e8e-f7d1-417a-be5b-c944d0b1c1b0"
      },
      "outputs": [],
      "source": [
        "text_prompt = \"\"\"\n",
        "    Quantum computers are advanced computational devices that use principles of quantum mechanics to process information. Unlike classical computers which use bits as 0s or 1s, quantum computers use qubits, which can be in a superposition of both states. This allows them to solve certain problems much faster than classical computers, especially in areas like cryptography and optimization.\n",
        "\"\"\"\n",
        "audio_array = generate_audio(text_prompt)\n",
        "\n",
        "write_wav(\"/content/english.wav\", SAMPLE_RATE, audio_array)\n",
        "Audio(audio_array, rate=SAMPLE_RATE)\n"
      ]
    },
    {
      "cell_type": "markdown",
      "metadata": {
        "id": "420u3s-xw6MM"
      },
      "source": [
        "### 日本語"
      ]
    },
    {
      "cell_type": "code",
      "execution_count": null,
      "metadata": {
        "colab": {
          "base_uri": "https://localhost:8080/",
          "height": 93
        },
        "id": "7INDnxM1w5jc",
        "outputId": "3106b365-af15-4577-b9aa-a7b59d92140c"
      },
      "outputs": [],
      "source": [
        "text_prompt = \"\"\"\n",
        "    ひき肉でーーーす．\n",
        "\"\"\"\n",
        "audio_array = generate_audio(text_prompt, prompt=\"cafe\")\n",
        "\n",
        "write_wav(\"/content/japanese.wav\", SAMPLE_RATE, audio_array)\n",
        "Audio(audio_array, rate=SAMPLE_RATE)\n"
      ]
    },
    {
      "cell_type": "markdown",
      "metadata": {
        "id": "T_xKQSQZzvw6"
      },
      "source": [
        "### 複数言語"
      ]
    },
    {
      "cell_type": "code",
      "execution_count": null,
      "metadata": {
        "colab": {
          "base_uri": "https://localhost:8080/",
          "height": 232
        },
        "id": "2U7jmalwyVwc",
        "outputId": "1272183a-0747-4205-f46c-bb5020b84bda"
      },
      "outputs": [],
      "source": [
        "text_prompt = \"\"\"\n",
        "    [EN]Machine learning is a branch of artificial intelligence (AI) and computer science which focuses on the use of data and algorithms to imitate the way that humans learn, gradually improving its accuracy.[EN]\n",
        "    [ZH]神经网络（Neural Network）是模拟人脑工作机制的算法，用于识别模式和处理数据。它包括多个层，每个层都有许多神经元。通过训练数据，神经网络可以不断调整其内部权重，以优化其预测和分类能力。[ZH]\n",
        "\"\"\"\n",
        "audio_array = generate_audio(text_prompt, language='mix')\n",
        "\n",
        "write_wav(\"/content/multilingual.wav\", SAMPLE_RATE, audio_array)\n",
        "Audio(audio_array, rate=SAMPLE_RATE)\n"
      ]
    },
    {
      "cell_type": "markdown",
      "metadata": {
        "id": "lRm0KCL9zd7q"
      },
      "source": [
        "### 様々な声で試す\n",
        "* https://github.com/Plachtaa/VALL-E-X/tree/master/presets"
      ]
    },
    {
      "cell_type": "code",
      "execution_count": null,
      "metadata": {
        "colab": {
          "base_uri": "https://localhost:8080/",
          "height": 93
        },
        "id": "Ju88zDQ1yYdl",
        "outputId": "882784d8-28a8-4865-8d47-c7eba342875c"
      },
      "outputs": [],
      "source": [
        "text_prompt = \"\"\"\n",
        "I'll get serious starting tomorrow\n",
        "\"\"\"\n",
        "\n",
        "audio_array = generate_audio(text_prompt, prompt=\"cafe\")\n",
        "\n",
        "write_wav(\"/content/sample.wav\", SAMPLE_RATE, audio_array)\n",
        "Audio(audio_array, rate=SAMPLE_RATE)\n"
      ]
    },
    {
      "cell_type": "markdown",
      "metadata": {
        "id": "Kp-weDJWyzOC"
      },
      "source": [
        "### 音声合成"
      ]
    },
    {
      "cell_type": "code",
      "execution_count": null,
      "metadata": {
        "colab": {
          "base_uri": "https://localhost:8080/",
          "height": 93
        },
        "id": "nsQ9H56Wy2Qv",
        "outputId": "d48e2901-cf5e-4710-ab8c-82bab8239a70"
      },
      "outputs": [],
      "source": [
        "from utils.prompt_making import make_prompt\n",
        "\n",
        "# 先ほど生成した音声を使う\n",
        "make_prompt(name=\"sample\", audio_prompt_path=\"/content/sample.wav\",\n",
        "                transcript=\"I'll get serious starting tomorrow.\")\n",
        "\n",
        "# whisperが使える時は文章を明示的に与えなくても自動で文字起こしができる\n",
        "#make_prompt(name=\"paimon\", audio_prompt_path=\"paimon_prompt.wav\")\n",
        "\n",
        "\n",
        "text_prompt = \"\"\"\n",
        "Procrastination is the thief of time\n",
        "\"\"\"\n",
        "audio_array = generate_audio(text_prompt, prompt=\"sample\")\n",
        "\n",
        "write_wav(\"/content/sample2.wav\", SAMPLE_RATE, audio_array)\n",
        "Audio(audio_array, rate=SAMPLE_RATE)\n"
      ]
    }
  ],
  "metadata": {
    "accelerator": "GPU",
    "colab": {
      "authorship_tag": "ABX9TyNig4Gb6LN+smmOxZnJj0hN",
      "gpuType": "T4",
      "provenance": []
    },
    "kernelspec": {
      "display_name": "Python 3.9.6 64-bit",
      "language": "python",
      "name": "python3"
    },
    "language_info": {
      "name": "python",
      "version": "3.9.6"
    },
    "vscode": {
      "interpreter": {
        "hash": "31f2aee4e71d21fbe5cf8b01ff0e069b9275f58929596ceb00d14d90e3e16cd6"
      }
    },
    "widgets": {
      "application/vnd.jupyter.widget-state+json": {
        "06a6a846a5f34776930600040ff86c1f": {
          "model_module": "@jupyter-widgets/base",
          "model_module_version": "1.2.0",
          "model_name": "LayoutModel",
          "state": {
            "_model_module": "@jupyter-widgets/base",
            "_model_module_version": "1.2.0",
            "_model_name": "LayoutModel",
            "_view_count": null,
            "_view_module": "@jupyter-widgets/base",
            "_view_module_version": "1.2.0",
            "_view_name": "LayoutView",
            "align_content": null,
            "align_items": null,
            "align_self": null,
            "border": null,
            "bottom": null,
            "display": null,
            "flex": null,
            "flex_flow": null,
            "grid_area": null,
            "grid_auto_columns": null,
            "grid_auto_flow": null,
            "grid_auto_rows": null,
            "grid_column": null,
            "grid_gap": null,
            "grid_row": null,
            "grid_template_areas": null,
            "grid_template_columns": null,
            "grid_template_rows": null,
            "height": null,
            "justify_content": null,
            "justify_items": null,
            "left": null,
            "margin": null,
            "max_height": null,
            "max_width": null,
            "min_height": null,
            "min_width": null,
            "object_fit": null,
            "object_position": null,
            "order": null,
            "overflow": null,
            "overflow_x": null,
            "overflow_y": null,
            "padding": null,
            "right": null,
            "top": null,
            "visibility": null,
            "width": null
          }
        },
        "115a432c7c654d8caf4f737d179a6996": {
          "model_module": "@jupyter-widgets/controls",
          "model_module_version": "1.5.0",
          "model_name": "HTMLModel",
          "state": {
            "_dom_classes": [],
            "_model_module": "@jupyter-widgets/controls",
            "_model_module_version": "1.5.0",
            "_model_name": "HTMLModel",
            "_view_count": null,
            "_view_module": "@jupyter-widgets/controls",
            "_view_module_version": "1.5.0",
            "_view_name": "HTMLView",
            "description": "",
            "description_tooltip": null,
            "layout": "IPY_MODEL_28ab7e45f04a453688b7d59b4191e25d",
            "placeholder": "​",
            "style": "IPY_MODEL_f866aba6bbc743759f8a41510c6f07ec",
            "value": " 40.4M/40.4M [00:00&lt;00:00, 87.5MB/s]"
          }
        },
        "134aab3daf5b40efb2b9fe830072049d": {
          "model_module": "@jupyter-widgets/controls",
          "model_module_version": "1.5.0",
          "model_name": "HBoxModel",
          "state": {
            "_dom_classes": [],
            "_model_module": "@jupyter-widgets/controls",
            "_model_module_version": "1.5.0",
            "_model_name": "HBoxModel",
            "_view_count": null,
            "_view_module": "@jupyter-widgets/controls",
            "_view_module_version": "1.5.0",
            "_view_name": "HBoxView",
            "box_style": "",
            "children": [
              "IPY_MODEL_3eb59538bb064423b2174e984bfdba82",
              "IPY_MODEL_35182a8302c0413987873f6919354279",
              "IPY_MODEL_115a432c7c654d8caf4f737d179a6996"
            ],
            "layout": "IPY_MODEL_da7b970fceec4d088ba3bc294b4ec0e8"
          }
        },
        "28ab7e45f04a453688b7d59b4191e25d": {
          "model_module": "@jupyter-widgets/base",
          "model_module_version": "1.2.0",
          "model_name": "LayoutModel",
          "state": {
            "_model_module": "@jupyter-widgets/base",
            "_model_module_version": "1.2.0",
            "_model_name": "LayoutModel",
            "_view_count": null,
            "_view_module": "@jupyter-widgets/base",
            "_view_module_version": "1.2.0",
            "_view_name": "LayoutView",
            "align_content": null,
            "align_items": null,
            "align_self": null,
            "border": null,
            "bottom": null,
            "display": null,
            "flex": null,
            "flex_flow": null,
            "grid_area": null,
            "grid_auto_columns": null,
            "grid_auto_flow": null,
            "grid_auto_rows": null,
            "grid_column": null,
            "grid_gap": null,
            "grid_row": null,
            "grid_template_areas": null,
            "grid_template_columns": null,
            "grid_template_rows": null,
            "height": null,
            "justify_content": null,
            "justify_items": null,
            "left": null,
            "margin": null,
            "max_height": null,
            "max_width": null,
            "min_height": null,
            "min_width": null,
            "object_fit": null,
            "object_position": null,
            "order": null,
            "overflow": null,
            "overflow_x": null,
            "overflow_y": null,
            "padding": null,
            "right": null,
            "top": null,
            "visibility": null,
            "width": null
          }
        },
        "3098c5afcb6c42069ed231283fa191b9": {
          "model_module": "@jupyter-widgets/controls",
          "model_module_version": "1.5.0",
          "model_name": "FloatProgressModel",
          "state": {
            "_dom_classes": [],
            "_model_module": "@jupyter-widgets/controls",
            "_model_module_version": "1.5.0",
            "_model_name": "FloatProgressModel",
            "_view_count": null,
            "_view_module": "@jupyter-widgets/controls",
            "_view_module_version": "1.5.0",
            "_view_name": "ProgressView",
            "bar_style": "success",
            "description": "",
            "description_tooltip": null,
            "layout": "IPY_MODEL_42beba998b584f0cb391d08e4c1f3525",
            "max": 503,
            "min": 0,
            "orientation": "horizontal",
            "style": "IPY_MODEL_c0d5ecfb918144108eca16aa1eed45c6",
            "value": 503
          }
        },
        "35182a8302c0413987873f6919354279": {
          "model_module": "@jupyter-widgets/controls",
          "model_module_version": "1.5.0",
          "model_name": "FloatProgressModel",
          "state": {
            "_dom_classes": [],
            "_model_module": "@jupyter-widgets/controls",
            "_model_module_version": "1.5.0",
            "_model_name": "FloatProgressModel",
            "_view_count": null,
            "_view_module": "@jupyter-widgets/controls",
            "_view_module_version": "1.5.0",
            "_view_name": "ProgressView",
            "bar_style": "success",
            "description": "",
            "description_tooltip": null,
            "layout": "IPY_MODEL_c4ba4135661b4e40b974b0b86c8ed549",
            "max": 40356199,
            "min": 0,
            "orientation": "horizontal",
            "style": "IPY_MODEL_64f26c8beb054644aeb91f4b1848b1e2",
            "value": 40356199
          }
        },
        "3eb59538bb064423b2174e984bfdba82": {
          "model_module": "@jupyter-widgets/controls",
          "model_module_version": "1.5.0",
          "model_name": "HTMLModel",
          "state": {
            "_dom_classes": [],
            "_model_module": "@jupyter-widgets/controls",
            "_model_module_version": "1.5.0",
            "_model_name": "HTMLModel",
            "_view_count": null,
            "_view_module": "@jupyter-widgets/controls",
            "_view_module_version": "1.5.0",
            "_view_name": "HTMLView",
            "description": "",
            "description_tooltip": null,
            "layout": "IPY_MODEL_7c6d2336382b4f2e994fe68c1c4a1093",
            "placeholder": "​",
            "style": "IPY_MODEL_957d393c0b884ac29c05bf46dbf4fe77",
            "value": "Downloading pytorch_model.bin: 100%"
          }
        },
        "42beba998b584f0cb391d08e4c1f3525": {
          "model_module": "@jupyter-widgets/base",
          "model_module_version": "1.2.0",
          "model_name": "LayoutModel",
          "state": {
            "_model_module": "@jupyter-widgets/base",
            "_model_module_version": "1.2.0",
            "_model_name": "LayoutModel",
            "_view_count": null,
            "_view_module": "@jupyter-widgets/base",
            "_view_module_version": "1.2.0",
            "_view_name": "LayoutView",
            "align_content": null,
            "align_items": null,
            "align_self": null,
            "border": null,
            "bottom": null,
            "display": null,
            "flex": null,
            "flex_flow": null,
            "grid_area": null,
            "grid_auto_columns": null,
            "grid_auto_flow": null,
            "grid_auto_rows": null,
            "grid_column": null,
            "grid_gap": null,
            "grid_row": null,
            "grid_template_areas": null,
            "grid_template_columns": null,
            "grid_template_rows": null,
            "height": null,
            "justify_content": null,
            "justify_items": null,
            "left": null,
            "margin": null,
            "max_height": null,
            "max_width": null,
            "min_height": null,
            "min_width": null,
            "object_fit": null,
            "object_position": null,
            "order": null,
            "overflow": null,
            "overflow_x": null,
            "overflow_y": null,
            "padding": null,
            "right": null,
            "top": null,
            "visibility": null,
            "width": null
          }
        },
        "627d1817a8764d818bc718ae235b3f14": {
          "model_module": "@jupyter-widgets/controls",
          "model_module_version": "1.5.0",
          "model_name": "HTMLModel",
          "state": {
            "_dom_classes": [],
            "_model_module": "@jupyter-widgets/controls",
            "_model_module_version": "1.5.0",
            "_model_name": "HTMLModel",
            "_view_count": null,
            "_view_module": "@jupyter-widgets/controls",
            "_view_module_version": "1.5.0",
            "_view_name": "HTMLView",
            "description": "",
            "description_tooltip": null,
            "layout": "IPY_MODEL_06a6a846a5f34776930600040ff86c1f",
            "placeholder": "​",
            "style": "IPY_MODEL_e11b8fd88e7644b38442b505ded6dbe6",
            "value": " 503/503 [00:00&lt;00:00, 19.2kB/s]"
          }
        },
        "64f26c8beb054644aeb91f4b1848b1e2": {
          "model_module": "@jupyter-widgets/controls",
          "model_module_version": "1.5.0",
          "model_name": "ProgressStyleModel",
          "state": {
            "_model_module": "@jupyter-widgets/controls",
            "_model_module_version": "1.5.0",
            "_model_name": "ProgressStyleModel",
            "_view_count": null,
            "_view_module": "@jupyter-widgets/base",
            "_view_module_version": "1.2.0",
            "_view_name": "StyleView",
            "bar_color": null,
            "description_width": ""
          }
        },
        "7c6d2336382b4f2e994fe68c1c4a1093": {
          "model_module": "@jupyter-widgets/base",
          "model_module_version": "1.2.0",
          "model_name": "LayoutModel",
          "state": {
            "_model_module": "@jupyter-widgets/base",
            "_model_module_version": "1.2.0",
            "_model_name": "LayoutModel",
            "_view_count": null,
            "_view_module": "@jupyter-widgets/base",
            "_view_module_version": "1.2.0",
            "_view_name": "LayoutView",
            "align_content": null,
            "align_items": null,
            "align_self": null,
            "border": null,
            "bottom": null,
            "display": null,
            "flex": null,
            "flex_flow": null,
            "grid_area": null,
            "grid_auto_columns": null,
            "grid_auto_flow": null,
            "grid_auto_rows": null,
            "grid_column": null,
            "grid_gap": null,
            "grid_row": null,
            "grid_template_areas": null,
            "grid_template_columns": null,
            "grid_template_rows": null,
            "height": null,
            "justify_content": null,
            "justify_items": null,
            "left": null,
            "margin": null,
            "max_height": null,
            "max_width": null,
            "min_height": null,
            "min_width": null,
            "object_fit": null,
            "object_position": null,
            "order": null,
            "overflow": null,
            "overflow_x": null,
            "overflow_y": null,
            "padding": null,
            "right": null,
            "top": null,
            "visibility": null,
            "width": null
          }
        },
        "88de9bfa055e4386809823cb226f60f4": {
          "model_module": "@jupyter-widgets/base",
          "model_module_version": "1.2.0",
          "model_name": "LayoutModel",
          "state": {
            "_model_module": "@jupyter-widgets/base",
            "_model_module_version": "1.2.0",
            "_model_name": "LayoutModel",
            "_view_count": null,
            "_view_module": "@jupyter-widgets/base",
            "_view_module_version": "1.2.0",
            "_view_name": "LayoutView",
            "align_content": null,
            "align_items": null,
            "align_self": null,
            "border": null,
            "bottom": null,
            "display": null,
            "flex": null,
            "flex_flow": null,
            "grid_area": null,
            "grid_auto_columns": null,
            "grid_auto_flow": null,
            "grid_auto_rows": null,
            "grid_column": null,
            "grid_gap": null,
            "grid_row": null,
            "grid_template_areas": null,
            "grid_template_columns": null,
            "grid_template_rows": null,
            "height": null,
            "justify_content": null,
            "justify_items": null,
            "left": null,
            "margin": null,
            "max_height": null,
            "max_width": null,
            "min_height": null,
            "min_width": null,
            "object_fit": null,
            "object_position": null,
            "order": null,
            "overflow": null,
            "overflow_x": null,
            "overflow_y": null,
            "padding": null,
            "right": null,
            "top": null,
            "visibility": null,
            "width": null
          }
        },
        "957d393c0b884ac29c05bf46dbf4fe77": {
          "model_module": "@jupyter-widgets/controls",
          "model_module_version": "1.5.0",
          "model_name": "DescriptionStyleModel",
          "state": {
            "_model_module": "@jupyter-widgets/controls",
            "_model_module_version": "1.5.0",
            "_model_name": "DescriptionStyleModel",
            "_view_count": null,
            "_view_module": "@jupyter-widgets/base",
            "_view_module_version": "1.2.0",
            "_view_name": "StyleView",
            "description_width": ""
          }
        },
        "986f60ca172d452fad616a61e098e78a": {
          "model_module": "@jupyter-widgets/controls",
          "model_module_version": "1.5.0",
          "model_name": "DescriptionStyleModel",
          "state": {
            "_model_module": "@jupyter-widgets/controls",
            "_model_module_version": "1.5.0",
            "_model_name": "DescriptionStyleModel",
            "_view_count": null,
            "_view_module": "@jupyter-widgets/base",
            "_view_module_version": "1.2.0",
            "_view_name": "StyleView",
            "description_width": ""
          }
        },
        "c0d5ecfb918144108eca16aa1eed45c6": {
          "model_module": "@jupyter-widgets/controls",
          "model_module_version": "1.5.0",
          "model_name": "ProgressStyleModel",
          "state": {
            "_model_module": "@jupyter-widgets/controls",
            "_model_module_version": "1.5.0",
            "_model_name": "ProgressStyleModel",
            "_view_count": null,
            "_view_module": "@jupyter-widgets/base",
            "_view_module_version": "1.2.0",
            "_view_name": "StyleView",
            "bar_color": null,
            "description_width": ""
          }
        },
        "c4ba4135661b4e40b974b0b86c8ed549": {
          "model_module": "@jupyter-widgets/base",
          "model_module_version": "1.2.0",
          "model_name": "LayoutModel",
          "state": {
            "_model_module": "@jupyter-widgets/base",
            "_model_module_version": "1.2.0",
            "_model_name": "LayoutModel",
            "_view_count": null,
            "_view_module": "@jupyter-widgets/base",
            "_view_module_version": "1.2.0",
            "_view_name": "LayoutView",
            "align_content": null,
            "align_items": null,
            "align_self": null,
            "border": null,
            "bottom": null,
            "display": null,
            "flex": null,
            "flex_flow": null,
            "grid_area": null,
            "grid_auto_columns": null,
            "grid_auto_flow": null,
            "grid_auto_rows": null,
            "grid_column": null,
            "grid_gap": null,
            "grid_row": null,
            "grid_template_areas": null,
            "grid_template_columns": null,
            "grid_template_rows": null,
            "height": null,
            "justify_content": null,
            "justify_items": null,
            "left": null,
            "margin": null,
            "max_height": null,
            "max_width": null,
            "min_height": null,
            "min_width": null,
            "object_fit": null,
            "object_position": null,
            "order": null,
            "overflow": null,
            "overflow_x": null,
            "overflow_y": null,
            "padding": null,
            "right": null,
            "top": null,
            "visibility": null,
            "width": null
          }
        },
        "d97b6aadfc644c569219efe92892cbe5": {
          "model_module": "@jupyter-widgets/controls",
          "model_module_version": "1.5.0",
          "model_name": "HTMLModel",
          "state": {
            "_dom_classes": [],
            "_model_module": "@jupyter-widgets/controls",
            "_model_module_version": "1.5.0",
            "_model_name": "HTMLModel",
            "_view_count": null,
            "_view_module": "@jupyter-widgets/controls",
            "_view_module_version": "1.5.0",
            "_view_name": "HTMLView",
            "description": "",
            "description_tooltip": null,
            "layout": "IPY_MODEL_88de9bfa055e4386809823cb226f60f4",
            "placeholder": "​",
            "style": "IPY_MODEL_986f60ca172d452fad616a61e098e78a",
            "value": "Downloading (…)lve/main/config.yaml: 100%"
          }
        },
        "da7b970fceec4d088ba3bc294b4ec0e8": {
          "model_module": "@jupyter-widgets/base",
          "model_module_version": "1.2.0",
          "model_name": "LayoutModel",
          "state": {
            "_model_module": "@jupyter-widgets/base",
            "_model_module_version": "1.2.0",
            "_model_name": "LayoutModel",
            "_view_count": null,
            "_view_module": "@jupyter-widgets/base",
            "_view_module_version": "1.2.0",
            "_view_name": "LayoutView",
            "align_content": null,
            "align_items": null,
            "align_self": null,
            "border": null,
            "bottom": null,
            "display": null,
            "flex": null,
            "flex_flow": null,
            "grid_area": null,
            "grid_auto_columns": null,
            "grid_auto_flow": null,
            "grid_auto_rows": null,
            "grid_column": null,
            "grid_gap": null,
            "grid_row": null,
            "grid_template_areas": null,
            "grid_template_columns": null,
            "grid_template_rows": null,
            "height": null,
            "justify_content": null,
            "justify_items": null,
            "left": null,
            "margin": null,
            "max_height": null,
            "max_width": null,
            "min_height": null,
            "min_width": null,
            "object_fit": null,
            "object_position": null,
            "order": null,
            "overflow": null,
            "overflow_x": null,
            "overflow_y": null,
            "padding": null,
            "right": null,
            "top": null,
            "visibility": null,
            "width": null
          }
        },
        "db1cdb15739a4be6bb3dbce11c9096cd": {
          "model_module": "@jupyter-widgets/controls",
          "model_module_version": "1.5.0",
          "model_name": "HBoxModel",
          "state": {
            "_dom_classes": [],
            "_model_module": "@jupyter-widgets/controls",
            "_model_module_version": "1.5.0",
            "_model_name": "HBoxModel",
            "_view_count": null,
            "_view_module": "@jupyter-widgets/controls",
            "_view_module_version": "1.5.0",
            "_view_name": "HBoxView",
            "box_style": "",
            "children": [
              "IPY_MODEL_d97b6aadfc644c569219efe92892cbe5",
              "IPY_MODEL_3098c5afcb6c42069ed231283fa191b9",
              "IPY_MODEL_627d1817a8764d818bc718ae235b3f14"
            ],
            "layout": "IPY_MODEL_e4970aadd347468ca95914d5b89ce537"
          }
        },
        "e11b8fd88e7644b38442b505ded6dbe6": {
          "model_module": "@jupyter-widgets/controls",
          "model_module_version": "1.5.0",
          "model_name": "DescriptionStyleModel",
          "state": {
            "_model_module": "@jupyter-widgets/controls",
            "_model_module_version": "1.5.0",
            "_model_name": "DescriptionStyleModel",
            "_view_count": null,
            "_view_module": "@jupyter-widgets/base",
            "_view_module_version": "1.2.0",
            "_view_name": "StyleView",
            "description_width": ""
          }
        },
        "e4970aadd347468ca95914d5b89ce537": {
          "model_module": "@jupyter-widgets/base",
          "model_module_version": "1.2.0",
          "model_name": "LayoutModel",
          "state": {
            "_model_module": "@jupyter-widgets/base",
            "_model_module_version": "1.2.0",
            "_model_name": "LayoutModel",
            "_view_count": null,
            "_view_module": "@jupyter-widgets/base",
            "_view_module_version": "1.2.0",
            "_view_name": "LayoutView",
            "align_content": null,
            "align_items": null,
            "align_self": null,
            "border": null,
            "bottom": null,
            "display": null,
            "flex": null,
            "flex_flow": null,
            "grid_area": null,
            "grid_auto_columns": null,
            "grid_auto_flow": null,
            "grid_auto_rows": null,
            "grid_column": null,
            "grid_gap": null,
            "grid_row": null,
            "grid_template_areas": null,
            "grid_template_columns": null,
            "grid_template_rows": null,
            "height": null,
            "justify_content": null,
            "justify_items": null,
            "left": null,
            "margin": null,
            "max_height": null,
            "max_width": null,
            "min_height": null,
            "min_width": null,
            "object_fit": null,
            "object_position": null,
            "order": null,
            "overflow": null,
            "overflow_x": null,
            "overflow_y": null,
            "padding": null,
            "right": null,
            "top": null,
            "visibility": null,
            "width": null
          }
        },
        "f866aba6bbc743759f8a41510c6f07ec": {
          "model_module": "@jupyter-widgets/controls",
          "model_module_version": "1.5.0",
          "model_name": "DescriptionStyleModel",
          "state": {
            "_model_module": "@jupyter-widgets/controls",
            "_model_module_version": "1.5.0",
            "_model_name": "DescriptionStyleModel",
            "_view_count": null,
            "_view_module": "@jupyter-widgets/base",
            "_view_module_version": "1.2.0",
            "_view_name": "StyleView",
            "description_width": ""
          }
        }
      }
    }
  },
  "nbformat": 4,
  "nbformat_minor": 0
}
