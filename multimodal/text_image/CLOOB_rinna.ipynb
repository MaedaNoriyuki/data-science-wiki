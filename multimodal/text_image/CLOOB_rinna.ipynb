{
 "cells": [
  {
   "cell_type": "markdown",
   "id": "36dee54c-7079-46e0-ad63-e294db576678",
   "metadata": {},
   "source": [
    "# CLIP\n",
    "* 参考  \n",
    "https://huggingface.co/rinna/japanese-clip-vit-b-16"
   ]
  },
  {
   "cell_type": "code",
   "execution_count": null,
   "id": "0c9cd460-6679-4f2f-90dc-39d337aaa7d9",
   "metadata": {},
   "outputs": [],
   "source": []
  }
 ],
 "metadata": {
  "kernelspec": {
   "display_name": "Python 3 (ipykernel)",
   "language": "python",
   "name": "python3"
  },
  "language_info": {
   "codemirror_mode": {
    "name": "ipython",
    "version": 3
   },
   "file_extension": ".py",
   "mimetype": "text/x-python",
   "name": "python",
   "nbconvert_exporter": "python",
   "pygments_lexer": "ipython3",
   "version": "3.9.7"
  }
 },
 "nbformat": 4,
 "nbformat_minor": 5
}
