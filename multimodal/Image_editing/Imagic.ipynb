{
 "cells": [
  {
   "cell_type": "markdown",
   "id": "41f0e30b-8876-4251-85fc-b81a7d04c92a",
   "metadata": {},
   "source": [
    "# Imagic"
   ]
  },
  {
   "cell_type": "code",
   "execution_count": null,
   "id": "ee518c22-f6ab-47d1-81b3-115dce811b1f",
   "metadata": {},
   "outputs": [],
   "source": []
  }
 ],
 "metadata": {
  "kernelspec": {
   "display_name": "Python 3 (ipykernel)",
   "language": "python",
   "name": "python3"
  },
  "language_info": {
   "codemirror_mode": {
    "name": "ipython",
    "version": 3
   },
   "file_extension": ".py",
   "mimetype": "text/x-python",
   "name": "python",
   "nbconvert_exporter": "python",
   "pygments_lexer": "ipython3",
   "version": "3.9.7"
  }
 },
 "nbformat": 4,
 "nbformat_minor": 5
}
