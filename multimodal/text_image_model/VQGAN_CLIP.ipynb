{
 "cells": [
  {
   "cell_type": "markdown",
   "id": "5c43e7f5-6399-472f-8f2c-005cbb5c55c1",
   "metadata": {},
   "source": [
    "# VQGAN CLIP"
   ]
  },
  {
   "cell_type": "markdown",
   "id": "9e0001ea",
   "metadata": {},
   "source": [
    "* https://github.com/EleutherAI/vqgan-clip/tree/main/notebooks"
   ]
  },
  {
   "cell_type": "code",
   "execution_count": null,
   "id": "b0d9f22e-23ef-4aba-a923-660e0a5f6677",
   "metadata": {},
   "outputs": [],
   "source": []
  },
  {
   "cell_type": "code",
   "execution_count": null,
   "id": "332172e5-e2f0-49e9-b89b-2a5db0d6e4ae",
   "metadata": {},
   "outputs": [],
   "source": []
  }
 ],
 "metadata": {
  "kernelspec": {
   "display_name": "Python 3 (ipykernel)",
   "language": "python",
   "name": "python3"
  },
  "language_info": {
   "codemirror_mode": {
    "name": "ipython",
    "version": 3
   },
   "file_extension": ".py",
   "mimetype": "text/x-python",
   "name": "python",
   "nbconvert_exporter": "python",
   "pygments_lexer": "ipython3",
   "version": "3.9.7"
  }
 },
 "nbformat": 4,
 "nbformat_minor": 5
}
