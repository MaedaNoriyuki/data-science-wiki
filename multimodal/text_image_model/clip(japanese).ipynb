{
 "cells": [
  {
   "cell_type": "markdown",
   "id": "36dee54c-7079-46e0-ad63-e294db576678",
   "metadata": {},
   "source": [
    "# CLIP(日本語)"
   ]
  },
  {
   "cell_type": "markdown",
   "id": "6cfe99ff",
   "metadata": {},
   "source": [
    "* https://huggingface.co/rinna/japanese-clip-vit-b-16"
   ]
  },
  {
   "cell_type": "code",
   "execution_count": null,
   "id": "0c9cd460-6679-4f2f-90dc-39d337aaa7d9",
   "metadata": {},
   "outputs": [],
   "source": []
  },
  {
   "cell_type": "code",
   "execution_count": null,
   "id": "32114538",
   "metadata": {},
   "outputs": [],
   "source": []
  }
 ],
 "metadata": {
  "kernelspec": {
   "display_name": "Python 3.9.18 ('.venv': poetry)",
   "language": "python",
   "name": "python3"
  },
  "language_info": {
   "codemirror_mode": {
    "name": "ipython",
    "version": 3
   },
   "file_extension": ".py",
   "mimetype": "text/x-python",
   "name": "python",
   "nbconvert_exporter": "python",
   "pygments_lexer": "ipython3",
   "version": "3.9.18"
  },
  "vscode": {
   "interpreter": {
    "hash": "17a011378fed683b21aba93e5dd7c0cb7beefc09c5af72c6425b40c713e260dc"
   }
  }
 },
 "nbformat": 4,
 "nbformat_minor": 5
}
