{
 "cells": [
  {
   "cell_type": "markdown",
   "id": "e84b8b96",
   "metadata": {},
   "source": [
    "# CLOOB"
   ]
  },
  {
   "cell_type": "markdown",
   "id": "fb68e5c1-f2bb-4add-bffe-095b2ec65a4b",
   "metadata": {},
   "source": [
    "* https://huggingface.co/rinna/japanese-cloob-vit-b-16"
   ]
  },
  {
   "cell_type": "code",
   "execution_count": null,
   "id": "e9729921-7891-44a0-866b-aa979450e062",
   "metadata": {},
   "outputs": [],
   "source": []
  }
 ],
 "metadata": {
  "kernelspec": {
   "display_name": "Python 3.9.18 ('.venv': poetry)",
   "language": "python",
   "name": "python3"
  },
  "language_info": {
   "codemirror_mode": {
    "name": "ipython",
    "version": 3
   },
   "file_extension": ".py",
   "mimetype": "text/x-python",
   "name": "python",
   "nbconvert_exporter": "python",
   "pygments_lexer": "ipython3",
   "version": "3.9.18"
  },
  "vscode": {
   "interpreter": {
    "hash": "17a011378fed683b21aba93e5dd7c0cb7beefc09c5af72c6425b40c713e260dc"
   }
  }
 },
 "nbformat": 4,
 "nbformat_minor": 5
}
