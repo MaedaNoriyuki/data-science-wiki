{
  "cells": [
    {
      "cell_type": "markdown",
      "metadata": {
        "id": "hbLorlIQd-6b"
      },
      "source": [
        "# Controlnet Canny"
      ]
    },
    {
      "cell_type": "markdown",
      "metadata": {
        "id": "4PMxvV05d-1a"
      },
      "source": [
        "ControlNet\u306f\u3001\u6761\u4ef6\u3092\u8ffd\u52a0\u3057\u3066\u62e1\u6563\u30e2\u30c7\u30eb\u3092\u5236\u5fa1\u3059\u308b\u305f\u3081\u306e\u30cb\u30e5\u30fc\u30e9\u30eb\u30cd\u30c3\u30c8\u30ef\u30fc\u30af\u30a2\u30fc\u30ad\u30c6\u30af\u30c1\u30e3\u3067\u3059\u3002\u4eca\u56de\u306f\u3001canny\u30a8\u30c3\u30b8\u3092\u62bd\u51fa\u3059\u308bControlNet\u306e\u5b9f\u884c\u65b9\u6cd5\u3067\u3059\uff0e\n",
        "\n",
        "- \u30c9\u30ad\u30e5\u30e1\u30f3\u30c8:https://huggingface.co/lllyasviel/sd-controlnet-canny"
      ]
    },
    {
      "cell_type": "markdown",
      "metadata": {
        "id": "THO60kbkd-xV"
      },
      "source": [
        "<a href=\"https://colab.research.google.com/github/fuyu-quant/data-science-wiki/blob/main/multimodal/text_guided_image_to_image/controlnet_canny.ipynb\" target=\"_blank\" rel=\"noopener noreferrer\"><img src=\"https://colab.research.google.com/assets/colab-badge.svg\" alt=\"Open In Colab\"/></a>"
      ]
    },
    {
      "cell_type": "code",
      "execution_count": 1,
      "metadata": {
        "id": "Rl75I6UCd_YJ"
      },
      "outputs": [],
      "source": [
        "%%capture\n",
        "!pip install diffusers==0.23.0\n",
        "!pip install accelerate==0.24.1\n",
        "!pip install transformers==4.35.0\n",
        "!pip install opencv-contrib-python==4.8.0.76\n",
        "!pip3 install -U xformers --index-url https://download.pytorch.org/whl/cu118\n",
        "#!pip install torch==2.1.0+cu118"
      ]
    },
    {
      "cell_type": "code",
      "execution_count": 2,
      "metadata": {
        "colab": {
          "base_uri": "https://localhost:8080/"
        },
        "id": "OkoEyLuplV3a",
        "outputId": "2ae1d85b-0d1b-4902-8de4-cddb75472238"
      },
      "outputs": [
        {
          "name": "stdout",
          "output_type": "stream",
          "text": [
            "11.8\n"
          ]
        }
      ],
      "source": [
        "import torch\n",
        "print(torch.version.cuda)\n",
        "# \u5b9f\u884c\u304c\u78ba\u8a8d\u3067\u304d\u305fcuda\u306e\u30d0\u30fc\u30b8\u30e7\u30f3\n",
        "# 11.8"
      ]
    },
    {
      "cell_type": "code",
      "execution_count": 3,
      "metadata": {
        "colab": {
          "base_uri": "https://localhost:8080/",
          "height": 86,
          "referenced_widgets": [
            "3b0c1749a0614f53950b43a78803ed38",
            "54210a502df7415a890f729065d1a07d",
            "d6ed33487cd943a5b1ff2363f4ba9814",
            "5a3a76c9f99e4f27a4b82e0f61cb9e7d",
            "2d6e53230c5a4224bc86725fdf58d239",
            "272d8aae2eea41d788ecc304f09a1a12",
            "b60099379d8940819331613ec5c3c288",
            "c9716717522e4e7a8a70d8c0a9f05d40",
            "c27704ae54404e28bdaf370565f7da3a",
            "a4ace6799f714420a76aaae77b7fb94a",
            "c59839bdfc0e40a28e13b3e841684d4a"
          ]
        },
        "id": "jO9HZwfreZev",
        "outputId": "242d8a0f-5b08-48d6-a5c4-745701f128c4"
      },
      "outputs": [
        {
          "name": "stderr",
          "output_type": "stream",
          "text": [
            "The cache for model files in Transformers v4.22.0 has been updated. Migrating your old cache. This is a one-time only operation. You can interrupt this and resume the migration later on by calling `transformers.utils.move_cache()`.\n"
          ]
        },
        {
          "data": {
            "application/vnd.jupyter.widget-view+json": {
              "model_id": "3b0c1749a0614f53950b43a78803ed38",
              "version_major": 2,
              "version_minor": 0
            },
            "text/plain": [
              "0it [00:00, ?it/s]"
            ]
          },
          "metadata": {},
          "output_type": "display_data"
        }
      ],
      "source": [
        "import cv2\n",
        "from PIL import Image\n",
        "from diffusers import StableDiffusionControlNetPipeline, ControlNetModel, UniPCMultistepScheduler\n",
        "import torch\n",
        "import numpy as np\n",
        "from diffusers.utils import load_image\n",
        "import requests"
      ]
    },
    {
      "cell_type": "markdown",
      "metadata": {
        "id": "mkpRo7Hmkg4i"
      },
      "source": [
        "### \u753b\u50cf\u306e\u7528\u610f"
      ]
    },
    {
      "cell_type": "code",
      "execution_count": null,
      "metadata": {
        "colab": {
          "base_uri": "https://localhost:8080/",
          "height": 701
        },
        "id": "AKHtlfysfYNL",
        "outputId": "a2f8d9b8-a791-4c2a-b215-7f215be10b15"
      },
      "outputs": [],
      "source": [
        "url = \"https://img.peapix.com/e27fcf12e0664a5cb1c6b58c6b311d31.jpg?attachment&modal\"\n",
        "image = Image.open(requests.get(url, stream=True).raw).convert(\"RGB\")\n",
        "image"
      ]
    },
    {
      "cell_type": "code",
      "execution_count": 5,
      "metadata": {
        "id": "9RZxVcNEdh-5"
      },
      "outputs": [],
      "source": [
        "# \u753b\u50cf\u306e\u524d\u51e6\u7406\n",
        "image = np.array(image)\n",
        "\n",
        "low_threshold = 100\n",
        "high_threshold = 200\n",
        "\n",
        "image = cv2.Canny(image, low_threshold, high_threshold)\n",
        "image = image[:, :, None]\n",
        "image = np.concatenate([image, image, image], axis=2)\n",
        "image = Image.fromarray(image)"
      ]
    },
    {
      "cell_type": "markdown",
      "metadata": {
        "id": "WMtuzvbFkw-4"
      },
      "source": [
        "### Controlnet canny\u306e\u30c0\u30a6\u30f3\u30ed\u30fc\u30c9"
      ]
    },
    {
      "cell_type": "code",
      "execution_count": null,
      "metadata": {
        "id": "GSrdSKrpkmFD"
      },
      "outputs": [],
      "source": [
        "controlnet = ControlNetModel.from_pretrained(\"lllyasviel/sd-controlnet-canny\", torch_dtype=torch.float16)\n",
        "\n",
        "pipe = StableDiffusionControlNetPipeline.from_pretrained(\"runwayml/stable-diffusion-v1-5\", controlnet=controlnet, safety_checker=None, torch_dtype=torch.float16)\n",
        "\n",
        "pipe.scheduler = UniPCMultistepScheduler.from_config(pipe.scheduler.config)"
      ]
    },
    {
      "cell_type": "code",
      "execution_count": 7,
      "metadata": {
        "colab": {
          "base_uri": "https://localhost:8080/",
          "height": 49,
          "referenced_widgets": [
            "5290ef15d1904e458318ba44229000ca",
            "132c7ea4da294cdab7d4f697ebc499c3",
            "44a9189569134bde978a6a3db4755709",
            "7cc13da39f4f4b51aab08e055c54df04",
            "81ba2802a92e41689859c891efe73206",
            "d3b2638cf1474e98af906f55dafd8447",
            "c91ffdf3227847e08425bfcc834ac0c5",
            "fb9becaa1f7d4af18241b3e132b39e2c",
            "5437b80fd2da48b382b78c8de48abc53",
            "b5a7bd1fc35c4c86850fef8069c839fe",
            "e841f179cc264eab8711a2215505a984"
          ]
        },
        "id": "tIdCrMGCer1k",
        "outputId": "8cb6302b-dad8-4103-f4c9-3ce4b5d04802"
      },
      "outputs": [
        {
          "data": {
            "application/vnd.jupyter.widget-view+json": {
              "model_id": "5290ef15d1904e458318ba44229000ca",
              "version_major": 2,
              "version_minor": 0
            },
            "text/plain": [
              "  0%|          | 0/20 [00:00<?, ?it/s]"
            ]
          },
          "metadata": {},
          "output_type": "display_data"
        }
      ],
      "source": [
        "pipe.enable_xformers_memory_efficient_attention()\n",
        "pipe.enable_model_cpu_offload()\n",
        "\n",
        "image = pipe(\"tokyo\", image, num_inference_steps=20).images[0]\n",
        "\n",
        "image.save('tokyo.png')"
      ]
    },
    {
      "cell_type": "code",
      "execution_count": null,
      "metadata": {
        "colab": {
          "base_uri": "https://localhost:8080/",
          "height": 701
        },
        "id": "iPP25eqViKiX",
        "outputId": "90af13e7-6a63-48e0-aeda-ff5e2635387e"
      },
      "outputs": [],
      "source": [
        "image"
      ]
    }
  ],
  "metadata": {
    "accelerator": "GPU",
    "colab": {
      "authorship_tag": "ABX9TyN2ow3FGnSZ+It3wKP+ttZE",
      "gpuType": "V100",
      "provenance": []
    },
    "kernelspec": {
      "display_name": "Python 3.9.16 64-bit",
      "language": "python",
      "name": "python3"
    },
    "language_info": {
      "name": "python",
      "version": "3.9.16"
    },
    "vscode": {
      "interpreter": {
        "hash": "31f2aee4e71d21fbe5cf8b01ff0e069b9275f58929596ceb00d14d90e3e16cd6"
      }
    }
  },
  "nbformat": 4,
  "nbformat_minor": 0
}