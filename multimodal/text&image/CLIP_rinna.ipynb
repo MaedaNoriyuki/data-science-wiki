{
 "cells": [
  {
   "cell_type": "markdown",
   "id": "fb68e5c1-f2bb-4add-bffe-095b2ec65a4b",
   "metadata": {},
   "source": [
    "# CLOOB\n",
    "* 参考  \n",
    "https://huggingface.co/rinna/japanese-cloob-vit-b-16"
   ]
  },
  {
   "cell_type": "code",
   "execution_count": null,
   "id": "e9729921-7891-44a0-866b-aa979450e062",
   "metadata": {},
   "outputs": [],
   "source": []
  }
 ],
 "metadata": {
  "kernelspec": {
   "display_name": "Python 3 (ipykernel)",
   "language": "python",
   "name": "python3"
  },
  "language_info": {
   "codemirror_mode": {
    "name": "ipython",
    "version": 3
   },
   "file_extension": ".py",
   "mimetype": "text/x-python",
   "name": "python",
   "nbconvert_exporter": "python",
   "pygments_lexer": "ipython3",
   "version": "3.9.7"
  }
 },
 "nbformat": 4,
 "nbformat_minor": 5
}
