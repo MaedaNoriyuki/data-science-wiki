{
 "cells": [
  {
   "cell_type": "markdown",
   "id": "242ce3ba-7a96-46ce-b599-f30c2031e101",
   "metadata": {},
   "source": [
    "# MMBT(MultiModal BiTransformers)\n",
    "* 事前学習済みのBERTとResNet152を使っていて，それらの出力をさらにBERTに入力する\n",
    "* BERT単体，ResNet単体のモデルや両方のモデルを単純に結合した場合より高い精度が出る\n",
    "* 参考資料  \n",
    "https://qiita.com/toshiyuki_tsutsui/items/a01e2a3ffae035ef644c  \n",
    "https://qiita.com/toshiyuki_tsutsui/items/68b77e62b06af08b7399  \n",
    "https://wwacky.hateblo.jp/entry/2020/04/05/230134"
   ]
  },
  {
   "cell_type": "code",
   "execution_count": null,
   "id": "5e84b276-c1e9-4465-81d8-1510ed3e37c1",
   "metadata": {},
   "outputs": [],
   "source": []
  }
 ],
 "metadata": {
  "kernelspec": {
   "display_name": "Python 3 (ipykernel)",
   "language": "python",
   "name": "python3"
  },
  "language_info": {
   "codemirror_mode": {
    "name": "ipython",
    "version": 3
   },
   "file_extension": ".py",
   "mimetype": "text/x-python",
   "name": "python",
   "nbconvert_exporter": "python",
   "pygments_lexer": "ipython3",
   "version": "3.9.7"
  }
 },
 "nbformat": 4,
 "nbformat_minor": 5
}
