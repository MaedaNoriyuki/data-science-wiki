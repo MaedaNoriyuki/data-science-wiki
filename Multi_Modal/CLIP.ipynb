{
 "cells": [
  {
   "cell_type": "markdown",
   "id": "c275b72f-70e2-4a27-8593-304655e557bb",
   "metadata": {},
   "source": [
    "# CLIP\n",
    "* [hugging face](https://huggingface.co/sonoisa/clip-vit-b-32-japanese-v1)\n",
    "* 参考リンク  \n",
    "https://qiita.com/sonoisa/items/00e8e2861147842f0237"
   ]
  },
  {
   "cell_type": "code",
   "execution_count": null,
   "id": "b83d6814-6193-491c-807f-5a14962d74b0",
   "metadata": {},
   "outputs": [],
   "source": []
  }
 ],
 "metadata": {
  "kernelspec": {
   "display_name": "Python 3 (ipykernel)",
   "language": "python",
   "name": "python3"
  },
  "language_info": {
   "codemirror_mode": {
    "name": "ipython",
    "version": 3
   },
   "file_extension": ".py",
   "mimetype": "text/x-python",
   "name": "python",
   "nbconvert_exporter": "python",
   "pygments_lexer": "ipython3",
   "version": "3.9.7"
  }
 },
 "nbformat": 4,
 "nbformat_minor": 5
}
