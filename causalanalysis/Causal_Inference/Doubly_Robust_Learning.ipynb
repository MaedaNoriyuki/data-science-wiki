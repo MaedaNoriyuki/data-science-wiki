{
 "cells": [
  {
   "cell_type": "markdown",
   "id": "5899e437-c9e9-4fe5-a5ee-b8ec75d88613",
   "metadata": {},
   "source": [
    "# Doubly Robust Learning\n",
    "* Doubly Robust Estimationを機械学習を使った方法に拡張したもの"
   ]
  },
  {
   "cell_type": "code",
   "execution_count": null,
   "id": "96009e77-3eb1-4922-986a-8f3876594c0d",
   "metadata": {},
   "outputs": [],
   "source": []
  }
 ],
 "metadata": {
  "kernelspec": {
   "display_name": "Python 3 (ipykernel)",
   "language": "python",
   "name": "python3"
  },
  "language_info": {
   "codemirror_mode": {
    "name": "ipython",
    "version": 3
   },
   "file_extension": ".py",
   "mimetype": "text/x-python",
   "name": "python",
   "nbconvert_exporter": "python",
   "pygments_lexer": "ipython3",
   "version": "3.9.7"
  }
 },
 "nbformat": 4,
 "nbformat_minor": 5
}
