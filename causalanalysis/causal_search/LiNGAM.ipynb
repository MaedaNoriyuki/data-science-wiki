{
 "cells": [
  {
   "cell_type": "markdown",
   "id": "2832d7fe",
   "metadata": {},
   "source": [
    "# LiNGAM"
   ]
  },
  {
   "cell_type": "markdown",
   "id": "a7d27bd6-1dfa-4b5b-a22e-25189577497e",
   "metadata": {},
   "source": [
    "* http://webmaking.rei-farms.jp/webmaking/python/5878/"
   ]
  },
  {
   "cell_type": "code",
   "execution_count": null,
   "id": "44f01d72-b6ea-4951-b128-64effb988860",
   "metadata": {},
   "outputs": [],
   "source": []
  },
  {
   "cell_type": "code",
   "execution_count": null,
   "id": "0641fe7f",
   "metadata": {},
   "outputs": [],
   "source": []
  }
 ],
 "metadata": {
  "kernelspec": {
   "display_name": "Python 3.9.18 ('.venv': poetry)",
   "language": "python",
   "name": "python3"
  },
  "language_info": {
   "codemirror_mode": {
    "name": "ipython",
    "version": 3
   },
   "file_extension": ".py",
   "mimetype": "text/x-python",
   "name": "python",
   "nbconvert_exporter": "python",
   "pygments_lexer": "ipython3",
   "version": "3.9.18"
  },
  "vscode": {
   "interpreter": {
    "hash": "17a011378fed683b21aba93e5dd7c0cb7beefc09c5af72c6425b40c713e260dc"
   }
  }
 },
 "nbformat": 4,
 "nbformat_minor": 5
}
