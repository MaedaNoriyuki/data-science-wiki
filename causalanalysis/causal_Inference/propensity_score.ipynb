{
 "cells": [
  {
   "cell_type": "markdown",
   "metadata": {},
   "source": [
    "# 傾向スコア分析"
   ]
  },
  {
   "cell_type": "markdown",
   "metadata": {},
   "source": [
    "傾向スコア分析は、潜在的なリスク要因にわたって二つのグループ間の患者背景をバランスよく調整するために使用され、効果的に交絡因子を調整できます。この分析法は1983年にRosenbaumとRubinによって導入されました​。傾向スコアの主要な特性は、それがバランススコアとして機能し、真の傾向スコアに条件づけられた場合、治療を受けた被験者とコントロール被験者が測定されたベースライン変数の同じ分布を持つことです。これにより、傾向スコアを条件にすることで、ランダム化比較試験（RCT）の特性のいくつかを模倣することができます​2​​3​。また、傾向スコアは観測された共変量に基づいた治療を受ける条件付き確率として定義されますが、観測されない共変量による隠れたバイアスがある可能性もある点に注意が必要です​.​"
   ]
  },
  {
   "cell_type": "markdown",
   "metadata": {},
   "source": [
    "<a href=\"https://colab.research.google.com/github/fuyu-quant/data-science-wiki/blob/main/causalanalysis/causal_inference/propensity_score.ipynb\" target=\"_blank\" rel=\"noopener noreferrer\"><img src=\"https://colab.research.google.com/assets/colab-badge.svg\" alt=\"Open In Colab\"/></a>"
   ]
  },
  {
   "cell_type": "code",
   "execution_count": null,
   "metadata": {},
   "outputs": [],
   "source": []
  }
 ],
 "metadata": {
  "language_info": {
   "name": "python"
  }
 },
 "nbformat": 4,
 "nbformat_minor": 2
}
