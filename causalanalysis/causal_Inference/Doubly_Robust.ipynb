{
 "cells": [
  {
   "cell_type": "markdown",
   "id": "6fee1bbd",
   "metadata": {},
   "source": [
    "# Doubly Robust Estimation"
   ]
  },
  {
   "cell_type": "markdown",
   "id": "12b1e467-bd29-42d8-8578-093416cc8f90",
   "metadata": {},
   "source": [
    "* 変数間の影響が線形の場合に使えr\n",
    "* Regression AdjustmentとIPTWを組み合わせた方法\n",
    "* 反実仮想を回帰分析より計算し，IPTW法を使う"
   ]
  },
  {
   "cell_type": "code",
   "execution_count": 1,
   "id": "ed10f5c6-d5ab-43a1-8dd3-746ff0982aae",
   "metadata": {},
   "outputs": [],
   "source": [
    "from sklearn.linear_model import LinearRegression\n",
    "from sklearn.linear_model import LogisticRegression\n",
    "\n",
    "import random\n",
    "import numpy as np\n",
    "import pandas as pd\n",
    "\n",
    "\n",
    "from numpy.random import *\n",
    "import matplotlib.pyplot as plt\n",
    "import scipy.stats\n",
    "from scipy.special import expit\n",
    "\n",
    "\n",
    "np.random.seed(3655)"
   ]
  },
  {
   "cell_type": "markdown",
   "id": "6391db82-2844-40a3-ba46-d08f1cca56a7",
   "metadata": {},
   "source": [
    "## データの用意"
   ]
  },
  {
   "cell_type": "code",
   "execution_count": 2,
   "id": "fcff8a2e-4d06-4425-875d-c62026ca2979",
   "metadata": {},
   "outputs": [],
   "source": [
    "# データ数\n",
    "num_data = 100000\n",
    "\n",
    "# 年齢\n",
    "x_1 = randint(15, 76, num_data)  # 15から75歳の一様乱数\n",
    "\n",
    "# 性別（0を女性、1を男性とします）\n",
    "x_2 = randint(0, 2, num_data)  # 0か1の乱数\n",
    "\n",
    "# ノイズの生成\n",
    "e_z = randn(num_data)\n",
    "\n",
    "# シグモイド関数に入れる部分\n",
    "z_base = x_1 + (1-x_2)*10 - 40 + 5*e_z\n",
    "\n",
    "# シグモイド関数を計算\n",
    "z_prob = expit(0.1*z_base)\n",
    "\n",
    "# テレビCMを見たかどうかの変数（0は見ていない、1は見た）\n",
    "Z = np.array([])\n",
    "\n",
    "for i in range(num_data):\n",
    "    Z_i = np.random.choice(2, size=1, p=[1-z_prob[i], z_prob[i]])[0]\n",
    "    Z = np.append(Z, Z_i)\n",
    "    \n",
    "# ノイズの生成\n",
    "e_y = randn(num_data)\n",
    "\n",
    "Y = -x_1 + 30*x_2 + 10*Z + 80 + 10*e_y"
   ]
  },
  {
   "cell_type": "code",
   "execution_count": 3,
   "id": "e6e8bd4a-44d1-4081-8ded-cf72b495ce12",
   "metadata": {},
   "outputs": [
    {
     "data": {
      "text/html": [
       "<div>\n",
       "<style scoped>\n",
       "    .dataframe tbody tr th:only-of-type {\n",
       "        vertical-align: middle;\n",
       "    }\n",
       "\n",
       "    .dataframe tbody tr th {\n",
       "        vertical-align: top;\n",
       "    }\n",
       "\n",
       "    .dataframe thead th {\n",
       "        text-align: right;\n",
       "    }\n",
       "</style>\n",
       "<table border=\"1\" class=\"dataframe\">\n",
       "  <thead>\n",
       "    <tr style=\"text-align: right;\">\n",
       "      <th></th>\n",
       "      <th>年齢</th>\n",
       "      <th>性別</th>\n",
       "      <th>CMを見た</th>\n",
       "      <th>購入量</th>\n",
       "    </tr>\n",
       "  </thead>\n",
       "  <tbody>\n",
       "    <tr>\n",
       "      <th>0</th>\n",
       "      <td>42</td>\n",
       "      <td>1</td>\n",
       "      <td>1.0</td>\n",
       "      <td>80.742174</td>\n",
       "    </tr>\n",
       "    <tr>\n",
       "      <th>1</th>\n",
       "      <td>46</td>\n",
       "      <td>1</td>\n",
       "      <td>1.0</td>\n",
       "      <td>78.582308</td>\n",
       "    </tr>\n",
       "    <tr>\n",
       "      <th>2</th>\n",
       "      <td>28</td>\n",
       "      <td>0</td>\n",
       "      <td>1.0</td>\n",
       "      <td>69.532577</td>\n",
       "    </tr>\n",
       "    <tr>\n",
       "      <th>3</th>\n",
       "      <td>21</td>\n",
       "      <td>0</td>\n",
       "      <td>0.0</td>\n",
       "      <td>73.698435</td>\n",
       "    </tr>\n",
       "    <tr>\n",
       "      <th>4</th>\n",
       "      <td>69</td>\n",
       "      <td>1</td>\n",
       "      <td>1.0</td>\n",
       "      <td>44.185729</td>\n",
       "    </tr>\n",
       "  </tbody>\n",
       "</table>\n",
       "</div>"
      ],
      "text/plain": [
       "   年齢  性別  CMを見た        購入量\n",
       "0  42   1    1.0  80.742174\n",
       "1  46   1    1.0  78.582308\n",
       "2  28   0    1.0  69.532577\n",
       "3  21   0    0.0  73.698435\n",
       "4  69   1    1.0  44.185729"
      ]
     },
     "execution_count": 3,
     "metadata": {},
     "output_type": "execute_result"
    }
   ],
   "source": [
    "df = pd.DataFrame({'年齢': x_1,\n",
    "                   '性別': x_2,\n",
    "                   'CMを見た': Z,\n",
    "                   '購入量': Y,\n",
    "                   })\n",
    "\n",
    "df.head() "
   ]
  },
  {
   "cell_type": "markdown",
   "id": "40479411-4f70-41ae-aac9-c61aed2af097",
   "metadata": {},
   "source": [
    "## 反実仮想の計算"
   ]
  },
  {
   "cell_type": "code",
   "execution_count": 4,
   "id": "2595f60f-f0c4-463b-873e-b11f844b40b6",
   "metadata": {},
   "outputs": [],
   "source": [
    "X = df[['年齢','性別','CMを見た']]\n",
    "\n",
    "y = df['購入量']\n",
    "\n",
    "reg2 = LinearRegression().fit(X, y)\n",
    "\n",
    "\n",
    "\n",
    "X_0 = X.copy()\n",
    "X_0['CMを見た'] = 0\n",
    "Y_0 = reg2.predict(X_0)\n",
    "\n",
    "\n",
    "\n",
    "X_1 = X.copy()\n",
    "X_1['CMを見た'] = 1\n",
    "Y_1 = reg2.predict(X_1)"
   ]
  },
  {
   "cell_type": "markdown",
   "id": "cc8cff69-752a-4829-a24a-7c54c575851a",
   "metadata": {},
   "source": [
    "## 傾向スコアの出力"
   ]
  },
  {
   "cell_type": "code",
   "execution_count": 6,
   "id": "62357ce6-7fb7-4e6e-a775-16ad42933295",
   "metadata": {},
   "outputs": [
    {
     "name": "stdout",
     "output_type": "stream",
     "text": [
      "[[0.45325197 0.54674803]\n",
      " [0.36173493 0.63826507]\n",
      " [0.54032628 0.45967372]\n",
      " [0.69575937 0.30424063]\n",
      " [0.05982856 0.94017144]]\n"
     ]
    }
   ],
   "source": [
    "X =df[['年齢','性別']]\n",
    "Z = df['CMを見た']\n",
    "\n",
    "reg = LogisticRegression().fit(X, Z)\n",
    "\n",
    "Z_pre = reg.predict_proba(X)\n",
    "print(Z_pre[0:5])"
   ]
  },
  {
   "cell_type": "markdown",
   "id": "93690d83-d3cd-4258-984a-81b99a8cff13",
   "metadata": {},
   "source": [
    "## 因果の効果"
   ]
  },
  {
   "cell_type": "code",
   "execution_count": 7,
   "id": "7406d71b-2dd1-4dfc-beb5-97b32a911885",
   "metadata": {},
   "outputs": [
    {
     "name": "stdout",
     "output_type": "stream",
     "text": [
      "推定したATE 9.953203491600581\n"
     ]
    }
   ],
   "source": [
    "ATE_1_i = Y/Z_pre[:, 1]*Z + (1-Z/Z_pre[:, 1])*Y_1\n",
    "ATE_0_i = Y/Z_pre[:, 0]*(1-Z) + (1-(1-Z)/Z_pre[:, 0])*Y_0\n",
    "ATE = 1/len(Y)*(ATE_1_i-ATE_0_i).sum()\n",
    "\n",
    "print(\"推定したATE\", ATE)"
   ]
  }
 ],
 "metadata": {
  "kernelspec": {
   "display_name": "Python 3 (ipykernel)",
   "language": "python",
   "name": "python3"
  },
  "language_info": {
   "codemirror_mode": {
    "name": "ipython",
    "version": 3
   },
   "file_extension": ".py",
   "mimetype": "text/x-python",
   "name": "python",
   "nbconvert_exporter": "python",
   "pygments_lexer": "ipython3",
   "version": "3.9.7"
  }
 },
 "nbformat": 4,
 "nbformat_minor": 5
}
