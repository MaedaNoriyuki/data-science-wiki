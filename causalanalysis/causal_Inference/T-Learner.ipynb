{
 "cells": [
  {
   "cell_type": "markdown",
   "id": "a7c88cd7-b6f2-495e-a59f-661c1fa4322d",
   "metadata": {},
   "source": [
    "# T-Learner\n",
    "* Meta-Learnerの手法の一つ\n",
    "* 機械学習手法はどのようなものを使ってもよい(以下ではLightGBMを使う)"
   ]
  },
  {
   "cell_type": "code",
   "execution_count": 7,
   "id": "eae1164d-19d7-41db-a4f4-e9a8fa53bf27",
   "metadata": {},
   "outputs": [],
   "source": [
    "import random\n",
    "import numpy as np\n",
    "from numpy.random import *\n",
    "import matplotlib.pyplot as plt\n",
    "import scipy.stats\n",
    "from scipy.special import expit\n",
    "import pandas as pd\n",
    "\n",
    "#LightGBMのインポート\n",
    "import lightgbm as lgbm"
   ]
  },
  {
   "cell_type": "markdown",
   "id": "59c834b1-508f-42ab-9eff-266e18172780",
   "metadata": {},
   "source": [
    "## データの用意"
   ]
  },
  {
   "cell_type": "code",
   "execution_count": 3,
   "id": "07de3c44-0d7e-40a5-8b63-44ecea736df6",
   "metadata": {},
   "outputs": [
    {
     "data": {
      "text/plain": [
       "<matplotlib.collections.PathCollection at 0xffff80fc69d0>"
      ]
     },
     "execution_count": 3,
     "metadata": {},
     "output_type": "execute_result"
    },
    {
     "data": {
      "image/png": "[encoded data removed]",
      "text/plain": [
       "<Figure size 640x480 with 1 Axes>"
      ]
     },
     "metadata": {},
     "output_type": "display_data"
    }
   ],
   "source": [
    "# データ数\n",
    "num_data = 500\n",
    "\n",
    "# 部下育成への熱心さ\n",
    "x = np.random.uniform(low=-1, high=1, size=num_data)  # -1から1の一様乱数\n",
    "\n",
    "# 上司が「上司向け：部下とのキャリア面談のポイント研修」に参加したかどうか\n",
    "e_z = randn(num_data)  # ノイズの生成\n",
    "z_prob = expit(-5.0*x+5*e_z)\n",
    "Z = np.array([])\n",
    "\n",
    "# 上司が「上司向け：部下とのキャリア面談のポイント研修」に参加したかどうか\n",
    "for i in range(num_data):\n",
    "    Z_i = np.random.choice(2, size=1, p=[1-z_prob[i], z_prob[i]])[0]\n",
    "    Z = np.append(Z, Z_i)\n",
    "\n",
    "# 介入効果の非線形性：部下育成の熱心さxの値に応じて段階的に変化\n",
    "t = np.zeros(num_data)\n",
    "for i in range(num_data):\n",
    "    if x[i] < 0:\n",
    "        t[i] = 0.5\n",
    "    elif x[i] >= 0 and x[i] < 0.5:\n",
    "        t[i] = 0.7\n",
    "    elif x[i] >= 0.5:\n",
    "        t[i] = 1.0\n",
    "\n",
    "e_y = randn(num_data)\n",
    "Y = 2.0 + t*Z + 0.3*x + 0.1*e_y \n",
    "\n",
    "# 介入効果を図で確認\n",
    "plt.scatter(x, t, label=\"treatment-effect\")"
   ]
  },
  {
   "cell_type": "code",
   "execution_count": 4,
   "id": "721d9bee-fb16-49c9-ab10-a77ead68ada6",
   "metadata": {},
   "outputs": [
    {
     "data": {
      "text/html": [
       "<div>\n",
       "<style scoped>\n",
       "    .dataframe tbody tr th:only-of-type {\n",
       "        vertical-align: middle;\n",
       "    }\n",
       "\n",
       "    .dataframe tbody tr th {\n",
       "        vertical-align: top;\n",
       "    }\n",
       "\n",
       "    .dataframe thead th {\n",
       "        text-align: right;\n",
       "    }\n",
       "</style>\n",
       "<table border=\"1\" class=\"dataframe\">\n",
       "  <thead>\n",
       "    <tr style=\"text-align: right;\">\n",
       "      <th></th>\n",
       "      <th>x</th>\n",
       "      <th>Z</th>\n",
       "      <th>t</th>\n",
       "      <th>Y</th>\n",
       "    </tr>\n",
       "  </thead>\n",
       "  <tbody>\n",
       "    <tr>\n",
       "      <th>0</th>\n",
       "      <td>0.923260</td>\n",
       "      <td>1.0</td>\n",
       "      <td>1.0</td>\n",
       "      <td>3.328991</td>\n",
       "    </tr>\n",
       "    <tr>\n",
       "      <th>1</th>\n",
       "      <td>-0.735001</td>\n",
       "      <td>1.0</td>\n",
       "      <td>0.5</td>\n",
       "      <td>2.057692</td>\n",
       "    </tr>\n",
       "    <tr>\n",
       "      <th>2</th>\n",
       "      <td>-0.684832</td>\n",
       "      <td>1.0</td>\n",
       "      <td>0.5</td>\n",
       "      <td>2.242923</td>\n",
       "    </tr>\n",
       "    <tr>\n",
       "      <th>3</th>\n",
       "      <td>-0.744887</td>\n",
       "      <td>1.0</td>\n",
       "      <td>0.5</td>\n",
       "      <td>2.425685</td>\n",
       "    </tr>\n",
       "    <tr>\n",
       "      <th>4</th>\n",
       "      <td>0.295782</td>\n",
       "      <td>1.0</td>\n",
       "      <td>0.7</td>\n",
       "      <td>2.854423</td>\n",
       "    </tr>\n",
       "  </tbody>\n",
       "</table>\n",
       "</div>"
      ],
      "text/plain": [
       "          x    Z    t         Y\n",
       "0  0.923260  1.0  1.0  3.328991\n",
       "1 -0.735001  1.0  0.5  2.057692\n",
       "2 -0.684832  1.0  0.5  2.242923\n",
       "3 -0.744887  1.0  0.5  2.425685\n",
       "4  0.295782  1.0  0.7  2.854423"
      ]
     },
     "execution_count": 4,
     "metadata": {},
     "output_type": "execute_result"
    }
   ],
   "source": [
    "df = pd.DataFrame({'x': x,\n",
    "                   'Z': Z,\n",
    "                   't': t,\n",
    "                   'Y': Y,\n",
    "                   })\n",
    "\n",
    "df.head()"
   ]
  },
  {
   "cell_type": "markdown",
   "id": "6c24f0e2-d256-4b57-8100-8fdd4b194b23",
   "metadata": {},
   "source": [
    "## T-Learner"
   ]
  },
  {
   "cell_type": "code",
   "execution_count": null,
   "id": "51468094-c35f-4e06-b0a7-ecbd1590016b",
   "metadata": {},
   "outputs": [],
   "source": [
    "params = {\n",
    "          'task': 'train',              # タスクを訓練に設定\n",
    "          'boosting_type': 'gbdt',      # GBDTを指定\n",
    "          'objective': 'regression',    # 回帰を指定\n",
    "          'metric': 'rmse'\n",
    "}\n",
    "\n",
    "\n",
    "categorical_features = []\n",
    "\n",
    "\n",
    "\n",
    "# 介入を受けていない集団のモデル\n",
    "df_0 = df[df.Z == 0.0]\n",
    "x_train_0 = df_0[[\"x\"]]\n",
    "y_train_0 = df_0[[\"Y\"]]\n",
    "\n",
    "#LightGBM用の訓練データセットを作成\n",
    "lgb_train_0 = lgbm.Dataset(x_train_0, y_train_0, categorical_feature=categorical_features, free_raw_data=False)\n",
    "\n",
    "\n",
    "model_0 = lgbm.train(params = params,\n",
    "                        train_set = lgb_train_0)\n",
    "\n",
    "\n",
    "\n",
    "\n",
    "# 介入を受けた集団\n",
    "df_1 = df[df.Z == 1.0]\n",
    "x_train_1 = df_1[[\"x\"]]\n",
    "y_train_1 = df_1[[\"Y\"]]\n",
    "#LightGBM用の訓練データセットを作成\n",
    "lgb_train_1 = lgbm.Dataset(x_train_1,y_train_1,categorical_feature=categorical_features,free_raw_data=False)\n",
    "\n",
    "model_1 = lgbm.train(params = params,\n",
    "                        train_set = lgb_train_1)"
   ]
  },
  {
   "cell_type": "markdown",
   "id": "2df16f67-59d8-420a-994f-445b6ca7acb2",
   "metadata": {},
   "source": [
    "## ATEを求める"
   ]
  },
  {
   "cell_type": "code",
   "execution_count": 19,
   "id": "b6d39e19-8ab2-445a-bdac-5333e8adc901",
   "metadata": {},
   "outputs": [
    {
     "name": "stdout",
     "output_type": "stream",
     "text": [
      "ATE： 0.6460403387928113\n"
     ]
    }
   ],
   "source": [
    "# ATEを求める\n",
    "mu_0 = model_0.predict(df[[\"x\"]])\n",
    "mu_1 = model_1.predict(df[[\"x\"]])\n",
    "\n",
    "ATE = (mu_1-mu_0).mean()\n",
    "print(\"ATE：\", ATE)"
   ]
  },
  {
   "cell_type": "markdown",
   "id": "bfdde3c9-9f18-4663-a3b4-4a02bfacc67d",
   "metadata": {},
   "source": [
    "## ATT,ATUを求める"
   ]
  },
  {
   "cell_type": "code",
   "execution_count": 23,
   "id": "a55c2c3b-2748-4440-9c7d-83c2fe697562",
   "metadata": {},
   "outputs": [
    {
     "name": "stdout",
     "output_type": "stream",
     "text": [
      "ATT： 0.5794372494397041\n",
      "ATU： 0.7126434345141379\n"
     ]
    }
   ],
   "source": [
    "# 処置群における平均処置効果ATT\n",
    "ATT = df_1[\"Y\"] - model_0.predict(df_1[[\"x\"]],num_iteration=model_0.best_iteration)\n",
    "\n",
    "# 対照群における平均処置効果ATU\n",
    "ATU = model_1.predict(df_0[[\"x\"]],num_iteration=model_1.best_iteration) - df_0[\"Y\"]\n",
    "\n",
    "print(\"ATT：\", ATT.mean())\n",
    "print(\"ATU：\", ATU.mean())"
   ]
  },
  {
   "cell_type": "code",
   "execution_count": 21,
   "id": "63ec8723-d2c5-4082-a25a-2d8b0f4b2101",
   "metadata": {},
   "outputs": [
    {
     "data": {
      "text/plain": [
       "[<matplotlib.lines.Line2D at 0xffff7ead2f70>]"
      ]
     },
     "execution_count": 21,
     "metadata": {},
     "output_type": "execute_result"
    },
    {
     "data": {
      "image/png": "[encoded data removed]",
      "text/plain": [
       "<Figure size 640x480 with 1 Axes>"
      ]
     },
     "metadata": {},
     "output_type": "display_data"
    }
   ],
   "source": [
    "# 推定された処置効果を各人ごとに求めます\n",
    "t_estimated = model_1.predict(\n",
    "    df[[\"x\"]]) - model_0.predict(df[[\"x\"]])\n",
    "plt.scatter(df[[\"x\"]], t_estimated,\n",
    "            label=\"estimated_treatment-effect\")\n",
    "\n",
    "# 正解のグラフを作成\n",
    "x_index = np.arange(-1, 1, 0.01)\n",
    "t_ans = np.zeros(len(x_index))\n",
    "for i in range(len(x_index)):\n",
    "    if x_index[i] < 0:\n",
    "        t_ans[i] = 0.5\n",
    "    elif x_index[i] >= 0 and x_index[i] < 0.5:\n",
    "        t_ans[i] = 0.7\n",
    "    elif x_index[i] >= 0.5:\n",
    "        t_ans[i] = 1.0\n",
    "\n",
    "\n",
    "# 正解を描画\n",
    "plt.plot(x_index, t_ans, color='black', ls='--', label='Baseline')"
   ]
  }
 ],
 "metadata": {
  "kernelspec": {
   "display_name": "Python 3 (ipykernel)",
   "language": "python",
   "name": "python3"
  },
  "language_info": {
   "codemirror_mode": {
    "name": "ipython",
    "version": 3
   },
   "file_extension": ".py",
   "mimetype": "text/x-python",
   "name": "python",
   "nbconvert_exporter": "python",
   "pygments_lexer": "ipython3",
   "version": "3.9.7"
  }
 },
 "nbformat": 4,
 "nbformat_minor": 5
}
