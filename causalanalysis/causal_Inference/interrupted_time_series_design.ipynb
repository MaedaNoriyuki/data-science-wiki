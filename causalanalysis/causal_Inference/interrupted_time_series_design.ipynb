{
 "cells": [
  {
   "cell_type": "markdown",
   "metadata": {},
   "source": [
    "# Interrupted Time Series Analysis(ITS)"
   ]
  },
  {
   "cell_type": "markdown",
   "metadata": {},
   "source": [
    "Interrupted Time Series Analysis（ITS）は、観測データの系列における介入の効果を分析する統計手法で、特に公衆衛生や経済学で使用されます。その特徴は、時間を通じて複数の時点でデータを収集し、介入前後での変化を評価する点にあります。"
   ]
  },
  {
   "cell_type": "markdown",
   "metadata": {},
   "source": [
    "<a href=\"https://colab.research.google.com/github/fuyu-quant/data-science-wiki/blob/main/causalanalysis/causal_inference/interrupted_time_series_design.ipynb\" target=\"_blank\" rel=\"noopener noreferrer\"><img src=\"https://colab.research.google.com/assets/colab-badge.svg\" alt=\"Open In Colab\"/></a>"
   ]
  },
  {
   "cell_type": "code",
   "execution_count": 1,
   "metadata": {},
   "outputs": [
    {
     "ename": "UFuncTypeError",
     "evalue": "Cannot cast ufunc 'add' output from dtype('float64') to dtype('int64') with casting rule 'same_kind'",
     "output_type": "error",
     "traceback": [
      "\u001b[0;31m---------------------------------------------------------------------------\u001b[0m",
      "\u001b[0;31mUFuncTypeError\u001b[0m                            Traceback (most recent call last)",
      "\u001b[1;32m/Users/tanakatouma/vscode/data-science-wiki/causalanalysis/causal_inference/interrupted_time_series_design.ipynb セル 1\u001b[0m line \u001b[0;36m1\n\u001b[1;32m     <a href='vscode-notebook-cell:/Users/tanakatouma/vscode/data-science-wiki/causalanalysis/causal_inference/interrupted_time_series_design.ipynb#W0sZmlsZQ%3D%3D?line=10'>11</a>\u001b[0m time \u001b[39m=\u001b[39m np\u001b[39m.\u001b[39marange(n_periods)\n\u001b[1;32m     <a href='vscode-notebook-cell:/Users/tanakatouma/vscode/data-science-wiki/causalanalysis/causal_inference/interrupted_time_series_design.ipynb#W0sZmlsZQ%3D%3D?line=11'>12</a>\u001b[0m outcome \u001b[39m=\u001b[39m np\u001b[39m.\u001b[39mrandom\u001b[39m.\u001b[39mpoisson(lam\u001b[39m=\u001b[39m\u001b[39m2.0\u001b[39m, size\u001b[39m=\u001b[39mn_periods)  \u001b[39m# ランダムなアウトカムデータ\u001b[39;00m\n\u001b[0;32m---> <a href='vscode-notebook-cell:/Users/tanakatouma/vscode/data-science-wiki/causalanalysis/causal_inference/interrupted_time_series_design.ipynb#W0sZmlsZQ%3D%3D?line=12'>13</a>\u001b[0m outcome[intervention_start_time:] \u001b[39m+\u001b[39m\u001b[39m=\u001b[39m np\u001b[39m.\u001b[39marange(n_periods \u001b[39m-\u001b[39m intervention_start_time) \u001b[39m*\u001b[39m \u001b[39m0.1\u001b[39m  \u001b[39m# 介入効果をシミュレート\u001b[39;00m\n\u001b[1;32m     <a href='vscode-notebook-cell:/Users/tanakatouma/vscode/data-science-wiki/causalanalysis/causal_inference/interrupted_time_series_design.ipynb#W0sZmlsZQ%3D%3D?line=14'>15</a>\u001b[0m \u001b[39m# データフレームの作成\u001b[39;00m\n\u001b[1;32m     <a href='vscode-notebook-cell:/Users/tanakatouma/vscode/data-science-wiki/causalanalysis/causal_inference/interrupted_time_series_design.ipynb#W0sZmlsZQ%3D%3D?line=15'>16</a>\u001b[0m data \u001b[39m=\u001b[39m pd\u001b[39m.\u001b[39mDataFrame({\n\u001b[1;32m     <a href='vscode-notebook-cell:/Users/tanakatouma/vscode/data-science-wiki/causalanalysis/causal_inference/interrupted_time_series_design.ipynb#W0sZmlsZQ%3D%3D?line=16'>17</a>\u001b[0m     \u001b[39m'\u001b[39m\u001b[39mTime\u001b[39m\u001b[39m'\u001b[39m: time,\n\u001b[1;32m     <a href='vscode-notebook-cell:/Users/tanakatouma/vscode/data-science-wiki/causalanalysis/causal_inference/interrupted_time_series_design.ipynb#W0sZmlsZQ%3D%3D?line=17'>18</a>\u001b[0m     \u001b[39m'\u001b[39m\u001b[39mOutcomeVariable\u001b[39m\u001b[39m'\u001b[39m: outcome,\n\u001b[1;32m     <a href='vscode-notebook-cell:/Users/tanakatouma/vscode/data-science-wiki/causalanalysis/causal_inference/interrupted_time_series_design.ipynb#W0sZmlsZQ%3D%3D?line=18'>19</a>\u001b[0m     \u001b[39m'\u001b[39m\u001b[39mPostIntervention\u001b[39m\u001b[39m'\u001b[39m: (time \u001b[39m>\u001b[39m\u001b[39m=\u001b[39m intervention_start_time)\u001b[39m.\u001b[39mastype(\u001b[39mint\u001b[39m)\n\u001b[1;32m     <a href='vscode-notebook-cell:/Users/tanakatouma/vscode/data-science-wiki/causalanalysis/causal_inference/interrupted_time_series_design.ipynb#W0sZmlsZQ%3D%3D?line=19'>20</a>\u001b[0m })\n",
      "\u001b[0;31mUFuncTypeError\u001b[0m: Cannot cast ufunc 'add' output from dtype('float64') to dtype('int64') with casting rule 'same_kind'"
     ]
    }
   ],
   "source": [
    "import pandas as pd\n",
    "import numpy as np\n",
    "import statsmodels.api as sm\n",
    "from statsmodels.genmod.generalized_linear_model import GLM\n",
    "from statsmodels.genmod.families import Poisson\n",
    "\n",
    "# 擬似データの生成\n",
    "np.random.seed(10)  # 結果の再現性のためにシードを設定\n",
    "n_periods = 100\n",
    "intervention_start_time = 50  # 介入が開始される時期\n",
    "time = np.arange(n_periods)\n",
    "outcome = np.random.poisson(lam=2.0, size=n_periods)  # ランダムなアウトカムデータ\n",
    "outcome[intervention_start_time:] += np.arange(n_periods - intervention_start_time) * 0.1  # 介入効果をシミュレート\n",
    "\n",
    "# データフレームの作成\n",
    "data = pd.DataFrame({\n",
    "    'Time': time,\n",
    "    'OutcomeVariable': outcome,\n",
    "    'PostIntervention': (time >= intervention_start_time).astype(int)\n",
    "})\n",
    "\n",
    "# モデルの設定\n",
    "model = GLM(data['OutcomeVariable'], sm.add_constant(data[['Time', 'PostIntervention']]), family=Poisson())\n",
    "\n",
    "# モデルのフィット\n",
    "results = model.fit()\n",
    "\n",
    "# 結果の出力\n",
    "print(results.summary())\n"
   ]
  }
 ],
 "metadata": {
  "kernelspec": {
   "display_name": ".venv",
   "language": "python",
   "name": "python3"
  },
  "language_info": {
   "codemirror_mode": {
    "name": "ipython",
    "version": 3
   },
   "file_extension": ".py",
   "mimetype": "text/x-python",
   "name": "python",
   "nbconvert_exporter": "python",
   "pygments_lexer": "ipython3",
   "version": "3.9.18"
  }
 },
 "nbformat": 4,
 "nbformat_minor": 2
}
