{
 "cells": [
  {
   "cell_type": "markdown",
   "id": "3d6ddc9a",
   "metadata": {},
   "source": [
    "# X-Learner"
   ]
  },
  {
   "cell_type": "markdown",
   "id": "2849a4ad-2edc-4a11-85ba-4732e6fc7842",
   "metadata": {},
   "source": [
    "* Meta-Learnerの手法の一つ\n",
    "* 傾向スコアを使いT-Learnerの結果をさらに補正する手法"
   ]
  },
  {
   "cell_type": "code",
   "execution_count": 1,
   "id": "1a62eab2-0f56-4b00-b2b8-55f887a1c21f",
   "metadata": {},
   "outputs": [],
   "source": [
    "import random\n",
    "import numpy as np\n",
    "from numpy.random import *\n",
    "import matplotlib.pyplot as plt\n",
    "import scipy.stats\n",
    "from scipy.special import expit\n",
    "import pandas as pd\n",
    "\n",
    "#LightGBMのインポート\n",
    "import lightgbm as lgbm"
   ]
  },
  {
   "cell_type": "markdown",
   "id": "b07df9e2-de41-4874-a108-3f27651364b3",
   "metadata": {},
   "source": [
    "## データの用意"
   ]
  },
  {
   "cell_type": "code",
   "execution_count": 2,
   "id": "337b3e98-4dee-499a-9fc9-0eac3f0d5d92",
   "metadata": {},
   "outputs": [
    {
     "data": {
      "text/plain": [
       "<matplotlib.collections.PathCollection at 0xffff42d069d0>"
      ]
     },
     "execution_count": 2,
     "metadata": {},
     "output_type": "execute_result"
    },
    {
     "data": {
      "image/png": "[encoded data removed]",
      "text/plain": [
       "<Figure size 640x480 with 1 Axes>"
      ]
     },
     "metadata": {},
     "output_type": "display_data"
    }
   ],
   "source": [
    "# データ数\n",
    "num_data = 500\n",
    "\n",
    "# 部下育成への熱心さ\n",
    "x = np.random.uniform(low=-1, high=1, size=num_data)  # -1から1の一様乱数\n",
    "\n",
    "# 上司が「上司向け：部下とのキャリア面談のポイント研修」に参加したかどうか\n",
    "e_z = randn(num_data)  # ノイズの生成\n",
    "z_prob = expit(-5.0*x+5*e_z)\n",
    "Z = np.array([])\n",
    "\n",
    "# 上司が「上司向け：部下とのキャリア面談のポイント研修」に参加したかどうか\n",
    "for i in range(num_data):\n",
    "    Z_i = np.random.choice(2, size=1, p=[1-z_prob[i], z_prob[i]])[0]\n",
    "    Z = np.append(Z, Z_i)\n",
    "\n",
    "# 介入効果の非線形性：部下育成の熱心さxの値に応じて段階的に変化\n",
    "t = np.zeros(num_data)\n",
    "for i in range(num_data):\n",
    "    if x[i] < 0:\n",
    "        t[i] = 0.5\n",
    "    elif x[i] >= 0 and x[i] < 0.5:\n",
    "        t[i] = 0.7\n",
    "    elif x[i] >= 0.5:\n",
    "        t[i] = 1.0\n",
    "\n",
    "e_y = randn(num_data)\n",
    "Y = 2.0 + t*Z + 0.3*x + 0.1*e_y \n",
    "\n",
    "# 介入効果を図で確認\n",
    "plt.scatter(x, t, label=\"treatment-effect\")"
   ]
  },
  {
   "cell_type": "code",
   "execution_count": 3,
   "id": "cfcaaffb-25c4-41f2-9f25-50c012eb273e",
   "metadata": {},
   "outputs": [
    {
     "data": {
      "text/html": [
       "<div>\n",
       "<style scoped>\n",
       "    .dataframe tbody tr th:only-of-type {\n",
       "        vertical-align: middle;\n",
       "    }\n",
       "\n",
       "    .dataframe tbody tr th {\n",
       "        vertical-align: top;\n",
       "    }\n",
       "\n",
       "    .dataframe thead th {\n",
       "        text-align: right;\n",
       "    }\n",
       "</style>\n",
       "<table border=\"1\" class=\"dataframe\">\n",
       "  <thead>\n",
       "    <tr style=\"text-align: right;\">\n",
       "      <th></th>\n",
       "      <th>x</th>\n",
       "      <th>Z</th>\n",
       "      <th>t</th>\n",
       "      <th>Y</th>\n",
       "    </tr>\n",
       "  </thead>\n",
       "  <tbody>\n",
       "    <tr>\n",
       "      <th>0</th>\n",
       "      <td>0.149289</td>\n",
       "      <td>0.0</td>\n",
       "      <td>0.7</td>\n",
       "      <td>2.008802</td>\n",
       "    </tr>\n",
       "    <tr>\n",
       "      <th>1</th>\n",
       "      <td>-0.601449</td>\n",
       "      <td>0.0</td>\n",
       "      <td>0.5</td>\n",
       "      <td>1.819586</td>\n",
       "    </tr>\n",
       "    <tr>\n",
       "      <th>2</th>\n",
       "      <td>0.349836</td>\n",
       "      <td>0.0</td>\n",
       "      <td>0.7</td>\n",
       "      <td>2.029080</td>\n",
       "    </tr>\n",
       "    <tr>\n",
       "      <th>3</th>\n",
       "      <td>-0.277833</td>\n",
       "      <td>1.0</td>\n",
       "      <td>0.5</td>\n",
       "      <td>2.440677</td>\n",
       "    </tr>\n",
       "    <tr>\n",
       "      <th>4</th>\n",
       "      <td>-0.738405</td>\n",
       "      <td>0.0</td>\n",
       "      <td>0.5</td>\n",
       "      <td>1.754613</td>\n",
       "    </tr>\n",
       "  </tbody>\n",
       "</table>\n",
       "</div>"
      ],
      "text/plain": [
       "          x    Z    t         Y\n",
       "0  0.149289  0.0  0.7  2.008802\n",
       "1 -0.601449  0.0  0.5  1.819586\n",
       "2  0.349836  0.0  0.7  2.029080\n",
       "3 -0.277833  1.0  0.5  2.440677\n",
       "4 -0.738405  0.0  0.5  1.754613"
      ]
     },
     "execution_count": 3,
     "metadata": {},
     "output_type": "execute_result"
    }
   ],
   "source": [
    "df = pd.DataFrame({'x': x,\n",
    "                   'Z': Z,\n",
    "                   't': t,\n",
    "                   'Y': Y,\n",
    "                   })\n",
    "\n",
    "df.head()"
   ]
  },
  {
   "cell_type": "markdown",
   "id": "8b2ddd9a-0ede-4bbc-bb37-ba5e7634dd6b",
   "metadata": {},
   "source": [
    "## Z-Learner"
   ]
  },
  {
   "cell_type": "code",
   "execution_count": null,
   "id": "7192c927-c6f4-4530-a48a-f7d823702e58",
   "metadata": {},
   "outputs": [],
   "source": [
    "params = {\n",
    "          'task': 'train',              # タスクを訓練に設定\n",
    "          'boosting_type': 'gbdt',      # GBDTを指定\n",
    "          'objective': 'regression',    # 回帰を指定\n",
    "          'metric': 'rmse'\n",
    "}\n",
    "\n",
    "\n",
    "categorical_features = []\n",
    "\n",
    "\n",
    "\n",
    "# 介入を受けていない集団のモデル\n",
    "df_0 = df[df.Z == 0.0]\n",
    "x_train_0 = df_0[[\"x\"]]\n",
    "y_train_0 = df_0[[\"Y\"]]\n",
    "\n",
    "#LightGBM用の訓練データセットを作成\n",
    "lgb_train_0 = lgbm.Dataset(x_train_0, y_train_0, categorical_feature=categorical_features, free_raw_data=False)\n",
    "\n",
    "\n",
    "model_0 = lgbm.train(params = params,\n",
    "                        train_set = lgb_train_0)\n",
    "\n",
    "\n",
    "\n",
    "\n",
    "# 介入を受けた集団\n",
    "df_1 = df[df.Z == 1.0]\n",
    "x_train_1 = df_1[[\"x\"]]\n",
    "y_train_1 = df_1[[\"Y\"]]\n",
    "#LightGBM用の訓練データセットを作成\n",
    "lgb_train_1 = lgbm.Dataset(x_train_1,y_train_1,categorical_feature=categorical_features,free_raw_data=False)\n",
    "\n",
    "model_1 = lgbm.train(params = params,\n",
    "                        train_set = lgb_train_1)"
   ]
  },
  {
   "cell_type": "code",
   "execution_count": null,
   "id": "1498f71e-ec4c-47a3-8fee-428fe2dafc72",
   "metadata": {},
   "outputs": [],
   "source": [
    "tau_0 = model_1.predict(df_0[[\"x\"]]) - df_0[\"Y\"]\n",
    "tau_1 = df_1[\"Y\"] - model_0.predict(df_1[[\"x\"]])\n",
    "\n",
    "\n",
    "# ATTとATUを求めるモデルを作成します\n",
    "x_train_2 = df_0[[\"x\"]]\n",
    "y_train_2 = tau_0\n",
    "lgb_train_2 = lgbm.Dataset(x_train_2, y_train_2, categorical_feature=categorical_features, free_raw_data=False)\n",
    "\n",
    "\n",
    "model_2 = lgbm.train(params = params,\n",
    "                        train_set = lgb_train_2)\n",
    "\n",
    "\n",
    "\n",
    "x_train_3 = df_1[[\"x\"]]\n",
    "y_train_3 = tau_1\n",
    "lgb_train_3 = lgbm.Dataset(x_train_3,y_train_3,categorical_feature=categorical_features,free_raw_data=False)\n",
    "\n",
    "model_3 = lgbm.train(params = params,\n",
    "                        train_set = lgb_train_3)\n",
    "\n"
   ]
  },
  {
   "cell_type": "markdown",
   "id": "f72e2a14-0530-4d4a-92ad-908eb6b892e2",
   "metadata": {},
   "source": [
    "## 傾向スコアを求める"
   ]
  },
  {
   "cell_type": "code",
   "execution_count": 29,
   "id": "0eb770e9-2e71-4888-a581-8338389bc589",
   "metadata": {},
   "outputs": [
    {
     "name": "stdout",
     "output_type": "stream",
     "text": [
      "[LightGBM] [Info] Number of positive: 232, number of negative: 268\n",
      "[LightGBM] [Warning] Auto-choosing col-wise multi-threading, the overhead of testing was 0.000227 seconds.\n",
      "You can set `force_col_wise=true` to remove the overhead.\n",
      "[LightGBM] [Info] Total Bins 167\n",
      "[LightGBM] [Info] Number of data points in the train set: 500, number of used features: 1\n",
      "[LightGBM] [Info] [binary:BoostFromScore]: pavg=0.464000 -> initscore=-0.144250\n",
      "[LightGBM] [Info] Start training from score -0.144250\n",
      "[LightGBM] [Warning] No further splits with positive gain, best gain: -inf\n",
      "[LightGBM] [Warning] No further splits with positive gain, best gain: -inf\n",
      "[LightGBM] [Warning] No further splits with positive gain, best gain: -inf\n",
      "[LightGBM] [Warning] No further splits with positive gain, best gain: -inf\n",
      "[LightGBM] [Warning] No further splits with positive gain, best gain: -inf\n",
      "[LightGBM] [Warning] No further splits with positive gain, best gain: -inf\n",
      "[LightGBM] [Warning] No further splits with positive gain, best gain: -inf\n",
      "[LightGBM] [Warning] No further splits with positive gain, best gain: -inf\n",
      "[LightGBM] [Warning] No further splits with positive gain, best gain: -inf\n",
      "[LightGBM] [Warning] No further splits with positive gain, best gain: -inf\n",
      "[LightGBM] [Warning] No further splits with positive gain, best gain: -inf\n",
      "[LightGBM] [Warning] No further splits with positive gain, best gain: -inf\n",
      "[LightGBM] [Warning] No further splits with positive gain, best gain: -inf\n",
      "[LightGBM] [Warning] No further splits with positive gain, best gain: -inf\n",
      "[LightGBM] [Warning] No further splits with positive gain, best gain: -inf\n",
      "[LightGBM] [Warning] No further splits with positive gain, best gain: -inf\n",
      "[LightGBM] [Warning] No further splits with positive gain, best gain: -inf\n",
      "[LightGBM] [Warning] No further splits with positive gain, best gain: -inf\n",
      "[LightGBM] [Warning] No further splits with positive gain, best gain: -inf\n",
      "[LightGBM] [Warning] No further splits with positive gain, best gain: -inf\n",
      "[LightGBM] [Warning] No further splits with positive gain, best gain: -inf\n",
      "[LightGBM] [Warning] No further splits with positive gain, best gain: -inf\n",
      "[LightGBM] [Warning] No further splits with positive gain, best gain: -inf\n",
      "[LightGBM] [Warning] No further splits with positive gain, best gain: -inf\n",
      "[LightGBM] [Warning] No further splits with positive gain, best gain: -inf\n",
      "[LightGBM] [Warning] No further splits with positive gain, best gain: -inf\n",
      "[LightGBM] [Warning] No further splits with positive gain, best gain: -inf\n",
      "[LightGBM] [Warning] No further splits with positive gain, best gain: -inf\n",
      "[LightGBM] [Warning] No further splits with positive gain, best gain: -inf\n",
      "[LightGBM] [Warning] No further splits with positive gain, best gain: -inf\n",
      "[LightGBM] [Warning] No further splits with positive gain, best gain: -inf\n",
      "[LightGBM] [Warning] No further splits with positive gain, best gain: -inf\n",
      "[LightGBM] [Warning] No further splits with positive gain, best gain: -inf\n",
      "[LightGBM] [Warning] No further splits with positive gain, best gain: -inf\n",
      "[LightGBM] [Warning] No further splits with positive gain, best gain: -inf\n",
      "[LightGBM] [Warning] No further splits with positive gain, best gain: -inf\n",
      "[LightGBM] [Warning] No further splits with positive gain, best gain: -inf\n",
      "[LightGBM] [Warning] No further splits with positive gain, best gain: -inf\n",
      "[LightGBM] [Warning] No further splits with positive gain, best gain: -inf\n",
      "[LightGBM] [Warning] No further splits with positive gain, best gain: -inf\n",
      "[LightGBM] [Warning] No further splits with positive gain, best gain: -inf\n",
      "[LightGBM] [Warning] No further splits with positive gain, best gain: -inf\n",
      "[LightGBM] [Warning] No further splits with positive gain, best gain: -inf\n",
      "[LightGBM] [Warning] No further splits with positive gain, best gain: -inf\n",
      "[LightGBM] [Warning] No further splits with positive gain, best gain: -inf\n",
      "[LightGBM] [Warning] No further splits with positive gain, best gain: -inf\n",
      "[LightGBM] [Warning] No further splits with positive gain, best gain: -inf\n",
      "[LightGBM] [Warning] No further splits with positive gain, best gain: -inf\n",
      "[LightGBM] [Warning] No further splits with positive gain, best gain: -inf\n",
      "[LightGBM] [Warning] No further splits with positive gain, best gain: -inf\n",
      "[LightGBM] [Warning] No further splits with positive gain, best gain: -inf\n",
      "[LightGBM] [Warning] No further splits with positive gain, best gain: -inf\n",
      "[LightGBM] [Warning] No further splits with positive gain, best gain: -inf\n",
      "[LightGBM] [Warning] No further splits with positive gain, best gain: -inf\n",
      "[LightGBM] [Warning] No further splits with positive gain, best gain: -inf\n",
      "[LightGBM] [Warning] No further splits with positive gain, best gain: -inf\n",
      "[LightGBM] [Warning] No further splits with positive gain, best gain: -inf\n",
      "[LightGBM] [Warning] No further splits with positive gain, best gain: -inf\n",
      "[LightGBM] [Warning] No further splits with positive gain, best gain: -inf\n",
      "[LightGBM] [Warning] No further splits with positive gain, best gain: -inf\n",
      "[LightGBM] [Warning] No further splits with positive gain, best gain: -inf\n",
      "[LightGBM] [Warning] No further splits with positive gain, best gain: -inf\n",
      "[LightGBM] [Warning] No further splits with positive gain, best gain: -inf\n",
      "[LightGBM] [Warning] No further splits with positive gain, best gain: -inf\n",
      "[LightGBM] [Warning] No further splits with positive gain, best gain: -inf\n",
      "[LightGBM] [Warning] No further splits with positive gain, best gain: -inf\n",
      "[LightGBM] [Warning] No further splits with positive gain, best gain: -inf\n",
      "[LightGBM] [Warning] No further splits with positive gain, best gain: -inf\n",
      "[LightGBM] [Warning] No further splits with positive gain, best gain: -inf\n",
      "[LightGBM] [Warning] No further splits with positive gain, best gain: -inf\n",
      "[LightGBM] [Warning] No further splits with positive gain, best gain: -inf\n",
      "[LightGBM] [Warning] No further splits with positive gain, best gain: -inf\n",
      "[LightGBM] [Warning] No further splits with positive gain, best gain: -inf\n",
      "[LightGBM] [Warning] No further splits with positive gain, best gain: -inf\n",
      "[LightGBM] [Warning] No further splits with positive gain, best gain: -inf\n",
      "[LightGBM] [Warning] No further splits with positive gain, best gain: -inf\n",
      "[LightGBM] [Warning] No further splits with positive gain, best gain: -inf\n",
      "[LightGBM] [Warning] No further splits with positive gain, best gain: -inf\n",
      "[LightGBM] [Warning] No further splits with positive gain, best gain: -inf\n",
      "[LightGBM] [Warning] No further splits with positive gain, best gain: -inf\n",
      "[LightGBM] [Warning] No further splits with positive gain, best gain: -inf\n",
      "[LightGBM] [Warning] No further splits with positive gain, best gain: -inf\n",
      "[LightGBM] [Warning] No further splits with positive gain, best gain: -inf\n",
      "[LightGBM] [Warning] No further splits with positive gain, best gain: -inf\n",
      "[LightGBM] [Warning] No further splits with positive gain, best gain: -inf\n",
      "[LightGBM] [Warning] No further splits with positive gain, best gain: -inf\n",
      "[LightGBM] [Warning] No further splits with positive gain, best gain: -inf\n",
      "[LightGBM] [Warning] No further splits with positive gain, best gain: -inf\n",
      "[LightGBM] [Warning] No further splits with positive gain, best gain: -inf\n",
      "[LightGBM] [Warning] No further splits with positive gain, best gain: -inf\n",
      "[LightGBM] [Warning] No further splits with positive gain, best gain: -inf\n",
      "[LightGBM] [Warning] No further splits with positive gain, best gain: -inf\n",
      "[LightGBM] [Warning] No further splits with positive gain, best gain: -inf\n",
      "[LightGBM] [Warning] No further splits with positive gain, best gain: -inf\n",
      "[LightGBM] [Warning] No further splits with positive gain, best gain: -inf\n"
     ]
    },
    {
     "name": "stderr",
     "output_type": "stream",
     "text": [
      "/usr/local/lib/python3.9/site-packages/lightgbm/basic.py:2065: UserWarning: Using categorical_feature in Dataset.\n",
      "  _log_warning('Using categorical_feature in Dataset.')\n"
     ]
    }
   ],
   "source": [
    "# 説明変数\n",
    "X = df[[\"x\"]]\n",
    "# 被説明変数（目的変数）\n",
    "Z = df[\"Z\"]\n",
    "\n",
    "# 回帰の実施\n",
    "lgb_train = lgbm.Dataset(X,Z,categorical_feature=categorical_features,free_raw_data=False)\n",
    "\n",
    "\n",
    "params = {\n",
    "          'task': 'train',              # タスクを訓練に設定\n",
    "          'boosting_type': 'gbdt',      # GBDTを指定\n",
    "          'objective': \"binary\",    # 分類を指定\n",
    "          \"metric\":\"binary_logloss\"\n",
    "}\n",
    "\n",
    "\n",
    "model = lgbm.train(params = params,\n",
    "                   train_set = lgb_train)\n",
    "\n",
    "g_x_val_0 = model.predict(X)\n",
    "g_x_val_1 = 1 - g_x_val_0\n",
    "\n",
    "# それぞれのモデルで全データの効果を予測し、傾向スコアで調整\n",
    "tau= g_x_val_1 * model_2.predict(df[[\"x\"]]) + g_x_val_0 * model_3.predict(df[[\"x\"]])"
   ]
  },
  {
   "cell_type": "code",
   "execution_count": 30,
   "id": "3c63a04a-6972-4e51-8b64-9697b7f3002f",
   "metadata": {},
   "outputs": [
    {
     "data": {
      "text/plain": [
       "[<matplotlib.lines.Line2D at 0xffff3ee0ab50>]"
      ]
     },
     "execution_count": 30,
     "metadata": {},
     "output_type": "execute_result"
    },
    {
     "data": {
      "image/png": "[encoded data removed]",
      "text/plain": [
       "<Figure size 640x480 with 1 Axes>"
      ]
     },
     "metadata": {},
     "output_type": "display_data"
    }
   ],
   "source": [
    "# 正解のグラフを作成\n",
    "x_index = np.arange(-1, 1, 0.01)\n",
    "t_ans = np.zeros(len(x_index))\n",
    "for i in range(len(x_index)):\n",
    "    if x_index[i] < 0:\n",
    "        t_ans[i] = 0.5\n",
    "    elif x_index[i] >= 0 and x_index[i] < 0.5:\n",
    "        t_ans[i] = 0.7\n",
    "    elif x_index[i] >= 0.5:\n",
    "        t_ans[i] = 1.0\n",
    "\n",
    "# 推定された治療効果を各人ごとに求めます\n",
    "plt.scatter(df[[\"x\"]], tau, label=\"estimated_treatment-effect\")\n",
    "\n",
    "# 正解を描画\n",
    "plt.plot(x_index, t_ans, color='black', ls='--', label='Baseline')"
   ]
  },
  {
   "cell_type": "code",
   "execution_count": null,
   "id": "adafc8df-6999-4ab9-b726-45aaa1a3a0bb",
   "metadata": {},
   "outputs": [],
   "source": []
  },
  {
   "cell_type": "code",
   "execution_count": null,
   "id": "6eb46524-74c7-4d57-b067-7245b0126aae",
   "metadata": {},
   "outputs": [],
   "source": []
  }
 ],
 "metadata": {
  "kernelspec": {
   "display_name": "Python 3.9.18 ('.venv': poetry)",
   "language": "python",
   "name": "python3"
  },
  "language_info": {
   "codemirror_mode": {
    "name": "ipython",
    "version": 3
   },
   "file_extension": ".py",
   "mimetype": "text/x-python",
   "name": "python",
   "nbconvert_exporter": "python",
   "pygments_lexer": "ipython3",
   "version": "3.9.18"
  },
  "vscode": {
   "interpreter": {
    "hash": "17a011378fed683b21aba93e5dd7c0cb7beefc09c5af72c6425b40c713e260dc"
   }
  }
 },
 "nbformat": 4,
 "nbformat_minor": 5
}
