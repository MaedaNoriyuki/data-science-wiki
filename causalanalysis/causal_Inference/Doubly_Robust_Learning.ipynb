{
 "cells": [
  {
   "cell_type": "markdown",
   "id": "c573a784",
   "metadata": {},
   "source": [
    "# Doubly Robust Learning"
   ]
  },
  {
   "cell_type": "markdown",
   "id": "5899e437-c9e9-4fe5-a5ee-b8ec75d88613",
   "metadata": {},
   "source": [
    "* Doubly Robust Estimationを機械学習を使った方法に拡張したもの"
   ]
  },
  {
   "cell_type": "markdown",
   "id": "a2efe63c",
   "metadata": {},
   "source": [
    "<a href=\"https://colab.research.google.com/github/fuyu-quant/data-science-wiki/blob/main/causalanalysis/causal_inference/Doubly_Robust_Learning.ipynb\" target=\"_blank\" rel=\"noopener noreferrer\"><img src=\"https://colab.research.google.com/assets/colab-badge.svg\" alt=\"Open In Colab\"/></a>"
   ]
  },
  {
   "cell_type": "code",
   "execution_count": null,
   "id": "c8d48913",
   "metadata": {},
   "outputs": [],
   "source": []
  },
  {
   "cell_type": "code",
   "execution_count": null,
   "id": "96009e77-3eb1-4922-986a-8f3876594c0d",
   "metadata": {},
   "outputs": [],
   "source": []
  }
 ],
 "metadata": {
  "kernelspec": {
   "display_name": "Python 3 (ipykernel)",
   "language": "python",
   "name": "python3"
  },
  "language_info": {
   "codemirror_mode": {
    "name": "ipython",
    "version": 3
   },
   "file_extension": ".py",
   "mimetype": "text/x-python",
   "name": "python",
   "nbconvert_exporter": "python",
   "pygments_lexer": "ipython3",
   "version": "3.9.7"
  }
 },
 "nbformat": 4,
 "nbformat_minor": 5
}
