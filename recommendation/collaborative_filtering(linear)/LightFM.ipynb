{
  "nbformat": 4,
  "nbformat_minor": 0,
  "metadata": {
    "colab": {
      "provenance": [],
      "authorship_tag": "ABX9TyPa8HYi6AkF8BbxTValsiqC"
    },
    "kernelspec": {
      "name": "python3",
      "display_name": "Python 3"
    },
    "language_info": {
      "name": "python"
    }
  },
  "cells": [
    {
      "cell_type": "markdown",
      "source": [
        "# LightFM"
      ],
      "metadata": {
        "id": "dp3PabTHXhNR"
      }
    },
    {
      "cell_type": "markdown",
      "source": [
        "LightFMは、Pythonのためのレコメンデーションシステム構築ライブラリです。Lyst Ltdにより開発され、ハイブリッド協調フィルタリングとコンテンツベースの手法を融合していることが特徴です。\n",
        "- GitHub：https://github.com/lyst/lightfm"
      ],
      "metadata": {
        "id": "u5reXewrXhEY"
      }
    },
    {
      "cell_type": "markdown",
      "source": [
        "<a href=\"https://colab.research.google.com/github/fuyu-quant/data-science-wiki/blob/main/recommendation/collaborative_filtering(linear)/LightFM.ipynb\" target=\"_blank\" rel=\"noopener noreferrer\"><img src=\"https://colab.research.google.com/assets/colab-badge.svg\" alt=\"Open In Colab\"/></a>"
      ],
      "metadata": {
        "id": "lwV7UgQXXhAq"
      }
    },
    {
      "cell_type": "code",
      "execution_count": 1,
      "metadata": {
        "id": "RcBwcdYCXgQN"
      },
      "outputs": [],
      "source": [
        "%%capture\n",
        "!pip install lightfm"
      ]
    },
    {
      "cell_type": "code",
      "source": [
        "from lightfm import LightFM\n",
        "from lightfm.datasets import fetch_movielens\n",
        "from lightfm.evaluation import precision_at_k\n",
        "from lightfm.evaluation import auc_score\n",
        "\n",
        "import numpy as np"
      ],
      "metadata": {
        "id": "AZzH3QFkX_-V"
      },
      "execution_count": 12,
      "outputs": []
    },
    {
      "cell_type": "markdown",
      "source": [
        "### データの用意"
      ],
      "metadata": {
        "id": "O4wtWaZPYkQn"
      }
    },
    {
      "cell_type": "code",
      "source": [
        "data = fetch_movielens()\n",
        "data"
      ],
      "metadata": {
        "colab": {
          "base_uri": "https://localhost:8080/"
        },
        "id": "WXhd6PQuXwxT",
        "outputId": "65cc82e5-4869-4d66-8667-fcbb54ec985e"
      },
      "execution_count": 21,
      "outputs": [
        {
          "output_type": "execute_result",
          "data": {
            "text/plain": [
              "{'train': <943x1682 sparse matrix of type '<class 'numpy.int32'>'\n",
              " \twith 90570 stored elements in COOrdinate format>,\n",
              " 'test': <943x1682 sparse matrix of type '<class 'numpy.int32'>'\n",
              " \twith 9430 stored elements in COOrdinate format>,\n",
              " 'item_features': <1682x1682 sparse matrix of type '<class 'numpy.float32'>'\n",
              " \twith 1682 stored elements in Compressed Sparse Row format>,\n",
              " 'item_feature_labels': array(['T', 'G', 'F', ..., 'S', 'Y', 'S'], dtype='<U1'),\n",
              " 'item_labels': array(['T', 'G', 'F', ..., 'S', 'Y', 'S'], dtype='<U1')}"
            ]
          },
          "metadata": {},
          "execution_count": 21
        }
      ]
    },
    {
      "cell_type": "code",
      "source": [
        "train = data[\"train\"]\n",
        "test = data[\"test\"]"
      ],
      "metadata": {
        "id": "HXSNNP_LbR7Q"
      },
      "execution_count": 22,
      "outputs": []
    },
    {
      "cell_type": "markdown",
      "source": [
        "### LightFMの学習"
      ],
      "metadata": {
        "id": "klxUCwtUYnTM"
      }
    },
    {
      "cell_type": "code",
      "source": [
        "model = LightFM(no_components=10,learning_rate=0.05, loss='bpr')\n",
        "model.fit(train, epochs=10)"
      ],
      "metadata": {
        "colab": {
          "base_uri": "https://localhost:8080/"
        },
        "id": "JnPTa91BX3lQ",
        "outputId": "557b1eef-3196-4984-8921-51af811f52ca"
      },
      "execution_count": 23,
      "outputs": [
        {
          "output_type": "execute_result",
          "data": {
            "text/plain": [
              "<lightfm.lightfm.LightFM at 0x7acffca7fd90>"
            ]
          },
          "metadata": {},
          "execution_count": 23
        }
      ]
    },
    {
      "cell_type": "markdown",
      "source": [
        "### LightFMの予測\n",
        "user_ids=0に対するitem_ids 1,3,4のスコア"
      ],
      "metadata": {
        "id": "dHrs0nyEYrDj"
      }
    },
    {
      "cell_type": "code",
      "source": [
        "predict = model.predict(user_ids=0, item_ids=[1,3,4])"
      ],
      "metadata": {
        "id": "jCEc_AQeYUJh"
      },
      "execution_count": 27,
      "outputs": []
    },
    {
      "cell_type": "markdown",
      "source": [
        "user_ids 4,3,1に対するitem_ids 1,3,4のスコア"
      ],
      "metadata": {
        "id": "qNa6Vq_gcTxr"
      }
    },
    {
      "cell_type": "code",
      "source": [
        "predict = model.predict(user_ids=np.array([4,3,1]), item_ids=[1,3,4])"
      ],
      "metadata": {
        "id": "MP1weAnFYcz0"
      },
      "execution_count": 28,
      "outputs": []
    },
    {
      "cell_type": "markdown",
      "source": [
        "### LightFMの精度"
      ],
      "metadata": {
        "id": "cAuBlZvjb9fl"
      }
    },
    {
      "cell_type": "code",
      "source": [
        "train_precision = precision_at_k(model, train, k=10).mean()\n",
        "test_precision = precision_at_k(model, test, k=10).mean()\n",
        "print(f'Precision: train:{train_precision} test:{test_precision}')\n",
        "\n",
        "train_auc = auc_score(model, train).mean()\n",
        "test_auc = auc_score(model, test).mean()\n",
        "print(f'AUC: train:{round(train_auc, 4)} test:{test_auc}')"
      ],
      "metadata": {
        "colab": {
          "base_uri": "https://localhost:8080/"
        },
        "id": "-a4vpuoea70P",
        "outputId": "47c9fef1-682f-4d02-f779-bc11c6615c0c"
      },
      "execution_count": 29,
      "outputs": [
        {
          "output_type": "stream",
          "name": "stdout",
          "text": [
            "Precision: train:0.5913043022155762 test:0.10169672220945358\n",
            "AUC: train:0.8931999802589417 test:0.856021523475647\n"
          ]
        }
      ]
    },
    {
      "cell_type": "markdown",
      "source": [
        "### LightFMの学習(特徴量の追加)"
      ],
      "metadata": {
        "id": "IGbzGOi9Z8OV"
      }
    },
    {
      "cell_type": "code",
      "source": [
        "model = LightFM(no_components=10,learning_rate=0.05, loss='bpr')\n",
        "\n",
        "model.fit(train, item_features=data[\"item_features\"], epochs=10)"
      ],
      "metadata": {
        "colab": {
          "base_uri": "https://localhost:8080/"
        },
        "id": "HdgPyYC_Z4jL",
        "outputId": "17030ea3-790b-459a-fe9a-977f187a163b"
      },
      "execution_count": 30,
      "outputs": [
        {
          "output_type": "execute_result",
          "data": {
            "text/plain": [
              "<lightfm.lightfm.LightFM at 0x7acffca7c640>"
            ]
          },
          "metadata": {},
          "execution_count": 30
        }
      ]
    },
    {
      "cell_type": "markdown",
      "source": [
        "### LightFMの精度(特徴量の追加)"
      ],
      "metadata": {
        "id": "Zxdr4E0rZ81c"
      }
    },
    {
      "cell_type": "code",
      "source": [
        "train_precision = precision_at_k(model, train, item_features=data[\"item_features\"], k=10).mean()\n",
        "test_precision = precision_at_k(model, test, item_features=data[\"item_features\"], k=10).mean()\n",
        "print(f'Precision: train:{train_precision} test:{test_precision}')\n",
        "\n",
        "train_auc = auc_score(model, train, item_features=data[\"item_features\"]).mean()\n",
        "test_auc = auc_score(model, test, item_features=data[\"item_features\"]).mean()\n",
        "print(f'AUC: train:{round(train_auc, 4)} test:{test_auc}')"
      ],
      "metadata": {
        "colab": {
          "base_uri": "https://localhost:8080/"
        },
        "id": "F7DlLYlsZqJW",
        "outputId": "b0cbe00e-6a7f-4099-8ce2-cf6a82a037b7"
      },
      "execution_count": 31,
      "outputs": [
        {
          "output_type": "stream",
          "name": "stdout",
          "text": [
            "Precision: train:0.5935313701629639 test:0.10212089121341705\n",
            "AUC: train:0.8950999975204468 test:0.8594039678573608\n"
          ]
        }
      ]
    },
    {
      "cell_type": "markdown",
      "source": [
        "### embeddingの取得\n",
        "- ユーザーエンベディング...ユーザーのプロファイルや行動などから生成されるベクトル。これにより、似たようなユーザーが似たようなベクトル表現を持つようになります。\n",
        "- アイテムエンベディング...各アイテム（例えば、映画、本、商品など）の特徴から生成されるベクトル。アイテム間の類似性を捉えることができます"
      ],
      "metadata": {
        "id": "Qmd9LaJtbfH1"
      }
    },
    {
      "cell_type": "code",
      "source": [
        "user_embedding=model.user_embeddings\n",
        "item_embedding=model.item_embeddings"
      ],
      "metadata": {
        "id": "zs5Yf_3Ualcg"
      },
      "execution_count": 32,
      "outputs": []
    },
    {
      "cell_type": "code",
      "source": [
        "user_embedding"
      ],
      "metadata": {
        "colab": {
          "base_uri": "https://localhost:8080/"
        },
        "id": "o67HJJZhcvN2",
        "outputId": "45a3265a-caf9-4fba-c2fa-7371a18bd951"
      },
      "execution_count": 33,
      "outputs": [
        {
          "output_type": "execute_result",
          "data": {
            "text/plain": [
              "array([[ 0.07701132,  0.6027149 , -0.24873352, ..., -0.06919175,\n",
              "        -0.16990544,  0.03804904],\n",
              "       [-0.38248426, -0.67152864,  0.8305567 , ...,  0.04864725,\n",
              "        -0.5050589 , -0.29006878],\n",
              "       [-0.62503785, -0.64707345,  0.6349571 , ...,  0.0126638 ,\n",
              "        -0.05413153,  0.522939  ],\n",
              "       ...,\n",
              "       [-0.35115173, -0.01478474,  0.35465562, ..., -0.3667239 ,\n",
              "        -0.203966  ,  0.01025053],\n",
              "       [ 0.12668332, -0.53656095, -0.04400076, ...,  0.456537  ,\n",
              "         0.48252547,  0.57658076],\n",
              "       [-0.08975333,  0.8590037 , -0.701312  , ..., -0.59506   ,\n",
              "        -0.1844076 , -0.2908013 ]], dtype=float32)"
            ]
          },
          "metadata": {},
          "execution_count": 33
        }
      ]
    }
  ]
}