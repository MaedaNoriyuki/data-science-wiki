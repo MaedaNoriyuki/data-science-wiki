{
 "cells": [
  {
   "cell_type": "markdown",
   "id": "c0194eb0-845f-41db-81c9-a2d4abf0f4c3",
   "metadata": {},
   "source": [
    "# LightFM"
   ]
  },
  {
   "cell_type": "markdown",
   "id": "c04dc718",
   "metadata": {},
   "source": [
    "LightFMは、Pythonのためのレコメンデーションシステム構築ライブラリです。Lyst Ltdにより開発され、ハイブリッド協調フィルタリングとコンテンツベースの手法を融合していることが特徴です。\n",
    "- GitHub：https://github.com/lyst/lightfm"
   ]
  },
  {
   "cell_type": "markdown",
   "id": "5bc09ee1",
   "metadata": {},
   "source": [
    "<a href=\"https://colab.research.google.com/github/fuyu-quant/data-science-wiki/blob/main/recommendation/collaborative_filtering(linear)/LightFM.ipynb\" target=\"_blank\" rel=\"noopener noreferrer\"><img src=\"https://colab.research.google.com/assets/colab-badge.svg\" alt=\"Open In Colab\"/></a>"
   ]
  },
  {
   "cell_type": "code",
   "execution_count": 1,
   "id": "0007c0bc",
   "metadata": {},
   "outputs": [],
   "source": [
    "%%capture\n",
    "!pip install lightfm"
   ]
  },
  {
   "cell_type": "code",
   "execution_count": 4,
   "id": "0620ad4e",
   "metadata": {},
   "outputs": [
    {
     "name": "stderr",
     "output_type": "stream",
     "text": [
      "/Users/tanakatouma/vscode/data-science-wiki/.venv/lib/python3.9/site-packages/lightfm/_lightfm_fast.py:9: UserWarning: LightFM was compiled without OpenMP support. Only a single thread will be used.\n",
      "  warnings.warn(\n"
     ]
    },
    {
     "ename": "ImportError",
     "evalue": "dlopen(/Users/tanakatouma/vscode/data-science-wiki/.venv/lib/python3.9/site-packages/lightfm/_lightfm_fast_no_openmp.cpython-39-darwin.so, 0x0002): tried: '/Users/tanakatouma/vscode/data-science-wiki/.venv/lib/python3.9/site-packages/lightfm/_lightfm_fast_no_openmp.cpython-39-darwin.so' (mach-o file, but is an incompatible architecture (have 'x86_64', need 'arm64')), '/System/Volumes/Preboot/Cryptexes/OS/Users/tanakatouma/vscode/data-science-wiki/.venv/lib/python3.9/site-packages/lightfm/_lightfm_fast_no_openmp.cpython-39-darwin.so' (no such file), '/Users/tanakatouma/vscode/data-science-wiki/.venv/lib/python3.9/site-packages/lightfm/_lightfm_fast_no_openmp.cpython-39-darwin.so' (mach-o file, but is an incompatible architecture (have 'x86_64', need 'arm64'))",
     "output_type": "error",
     "traceback": [
      "\u001b[0;31m---------------------------------------------------------------------------\u001b[0m",
      "\u001b[0;31mNameError\u001b[0m                                 Traceback (most recent call last)",
      "File \u001b[0;32m~/vscode/data-science-wiki/.venv/lib/python3.9/site-packages/lightfm/__init__.py:2\u001b[0m\n\u001b[1;32m      1\u001b[0m \u001b[39mtry\u001b[39;00m:\n\u001b[0;32m----> 2\u001b[0m     __LIGHTFM_SETUP__\n\u001b[1;32m      3\u001b[0m \u001b[39mexcept\u001b[39;00m \u001b[39mNameError\u001b[39;00m:\n",
      "\u001b[0;31mNameError\u001b[0m: name '__LIGHTFM_SETUP__' is not defined",
      "\nDuring handling of the above exception, another exception occurred:\n",
      "\u001b[0;31mModuleNotFoundError\u001b[0m                       Traceback (most recent call last)",
      "File \u001b[0;32m~/vscode/data-science-wiki/.venv/lib/python3.9/site-packages/lightfm/_lightfm_fast.py:3\u001b[0m\n\u001b[1;32m      1\u001b[0m \u001b[39mtry\u001b[39;00m:\n\u001b[1;32m      2\u001b[0m     \u001b[39m# Import OpenMP-enabled extension\u001b[39;00m\n\u001b[0;32m----> 3\u001b[0m     \u001b[39mfrom\u001b[39;00m \u001b[39m.\u001b[39;00m\u001b[39m_lightfm_fast_openmp\u001b[39;00m \u001b[39mimport\u001b[39;00m \u001b[39m*\u001b[39m  \u001b[39m# NOQA\u001b[39;00m\n\u001b[1;32m      4\u001b[0m     \u001b[39mfrom\u001b[39;00m \u001b[39m.\u001b[39;00m\u001b[39m_lightfm_fast_openmp\u001b[39;00m \u001b[39mimport\u001b[39;00m __test_in_positives  \u001b[39m# NOQA\u001b[39;00m\n",
      "\u001b[0;31mModuleNotFoundError\u001b[0m: No module named 'lightfm._lightfm_fast_openmp'",
      "\nDuring handling of the above exception, another exception occurred:\n",
      "\u001b[0;31mImportError\u001b[0m                               Traceback (most recent call last)",
      "Cell \u001b[0;32mIn[4], line 1\u001b[0m\n\u001b[0;32m----> 1\u001b[0m \u001b[38;5;28;01mfrom\u001b[39;00m \u001b[38;5;21;01mlightfm\u001b[39;00m \u001b[38;5;28;01mimport\u001b[39;00m LightFM\n\u001b[1;32m      2\u001b[0m \u001b[38;5;28;01mfrom\u001b[39;00m \u001b[38;5;21;01mlightfm\u001b[39;00m\u001b[38;5;21;01m.\u001b[39;00m\u001b[38;5;21;01mdatasets\u001b[39;00m \u001b[38;5;28;01mimport\u001b[39;00m fetch_movielens\n\u001b[1;32m      3\u001b[0m \u001b[38;5;28;01mfrom\u001b[39;00m \u001b[38;5;21;01mlightfm\u001b[39;00m\u001b[38;5;21;01m.\u001b[39;00m\u001b[38;5;21;01mevaluation\u001b[39;00m \u001b[38;5;28;01mimport\u001b[39;00m precision_at_k\n",
      "File \u001b[0;32m~/vscode/data-science-wiki/.venv/lib/python3.9/site-packages/lightfm/__init__.py:4\u001b[0m\n\u001b[1;32m      2\u001b[0m     __LIGHTFM_SETUP__\n\u001b[1;32m      3\u001b[0m \u001b[39mexcept\u001b[39;00m \u001b[39mNameError\u001b[39;00m:\n\u001b[0;32m----> 4\u001b[0m     \u001b[39mfrom\u001b[39;00m \u001b[39m.\u001b[39;00m\u001b[39mlightfm\u001b[39;00m \u001b[39mimport\u001b[39;00m LightFM\n\u001b[1;32m      6\u001b[0m __version__ \u001b[39m=\u001b[39m \u001b[39m\"\u001b[39m\u001b[39m1.17\u001b[39m\u001b[39m\"\u001b[39m\n\u001b[1;32m      8\u001b[0m __all__ \u001b[39m=\u001b[39m [\u001b[39m\"\u001b[39m\u001b[39mLightFM\u001b[39m\u001b[39m\"\u001b[39m, \u001b[39m\"\u001b[39m\u001b[39mdatasets\u001b[39m\u001b[39m\"\u001b[39m, \u001b[39m\"\u001b[39m\u001b[39mevaluation\u001b[39m\u001b[39m\"\u001b[39m]\n",
      "File \u001b[0;32m~/vscode/data-science-wiki/.venv/lib/python3.9/site-packages/lightfm/lightfm.py:8\u001b[0m\n\u001b[1;32m      4\u001b[0m \u001b[39mimport\u001b[39;00m \u001b[39mnumpy\u001b[39;00m \u001b[39mas\u001b[39;00m \u001b[39mnp\u001b[39;00m\n\u001b[1;32m      6\u001b[0m \u001b[39mimport\u001b[39;00m \u001b[39mscipy\u001b[39;00m\u001b[39m.\u001b[39;00m\u001b[39msparse\u001b[39;00m \u001b[39mas\u001b[39;00m \u001b[39msp\u001b[39;00m\n\u001b[0;32m----> 8\u001b[0m \u001b[39mfrom\u001b[39;00m \u001b[39m.\u001b[39;00m\u001b[39m_lightfm_fast\u001b[39;00m \u001b[39mimport\u001b[39;00m (\n\u001b[1;32m      9\u001b[0m     CSRMatrix,\n\u001b[1;32m     10\u001b[0m     FastLightFM,\n\u001b[1;32m     11\u001b[0m     fit_bpr,\n\u001b[1;32m     12\u001b[0m     fit_logistic,\n\u001b[1;32m     13\u001b[0m     fit_warp,\n\u001b[1;32m     14\u001b[0m     fit_warp_kos,\n\u001b[1;32m     15\u001b[0m     predict_lightfm,\n\u001b[1;32m     16\u001b[0m     predict_ranks,\n\u001b[1;32m     17\u001b[0m )\n\u001b[1;32m     19\u001b[0m __all__ \u001b[39m=\u001b[39m [\u001b[39m\"\u001b[39m\u001b[39mLightFM\u001b[39m\u001b[39m\"\u001b[39m]\n\u001b[1;32m     21\u001b[0m CYTHON_DTYPE \u001b[39m=\u001b[39m np\u001b[39m.\u001b[39mfloat32\n",
      "File \u001b[0;32m~/vscode/data-science-wiki/.venv/lib/python3.9/site-packages/lightfm/_lightfm_fast.py:14\u001b[0m\n\u001b[1;32m      7\u001b[0m \u001b[39mimport\u001b[39;00m \u001b[39mwarnings\u001b[39;00m\n\u001b[1;32m      9\u001b[0m warnings\u001b[39m.\u001b[39mwarn(\n\u001b[1;32m     10\u001b[0m     \u001b[39m\"\u001b[39m\u001b[39mLightFM was compiled without OpenMP support. \u001b[39m\u001b[39m\"\u001b[39m\n\u001b[1;32m     11\u001b[0m     \u001b[39m\"\u001b[39m\u001b[39mOnly a single thread will be used.\u001b[39m\u001b[39m\"\u001b[39m\n\u001b[1;32m     12\u001b[0m )\n\u001b[0;32m---> 14\u001b[0m \u001b[39mfrom\u001b[39;00m \u001b[39m.\u001b[39;00m\u001b[39m_lightfm_fast_no_openmp\u001b[39;00m \u001b[39mimport\u001b[39;00m \u001b[39m*\u001b[39m  \u001b[39m# NOQA\u001b[39;00m\n\u001b[1;32m     15\u001b[0m \u001b[39mfrom\u001b[39;00m \u001b[39m.\u001b[39;00m\u001b[39m_lightfm_fast_no_openmp\u001b[39;00m \u001b[39mimport\u001b[39;00m __test_in_positives  \u001b[39m# NOQA\u001b[39;00m\n",
      "\u001b[0;31mImportError\u001b[0m: dlopen(/Users/tanakatouma/vscode/data-science-wiki/.venv/lib/python3.9/site-packages/lightfm/_lightfm_fast_no_openmp.cpython-39-darwin.so, 0x0002): tried: '/Users/tanakatouma/vscode/data-science-wiki/.venv/lib/python3.9/site-packages/lightfm/_lightfm_fast_no_openmp.cpython-39-darwin.so' (mach-o file, but is an incompatible architecture (have 'x86_64', need 'arm64')), '/System/Volumes/Preboot/Cryptexes/OS/Users/tanakatouma/vscode/data-science-wiki/.venv/lib/python3.9/site-packages/lightfm/_lightfm_fast_no_openmp.cpython-39-darwin.so' (no such file), '/Users/tanakatouma/vscode/data-science-wiki/.venv/lib/python3.9/site-packages/lightfm/_lightfm_fast_no_openmp.cpython-39-darwin.so' (mach-o file, but is an incompatible architecture (have 'x86_64', need 'arm64'))"
     ]
    }
   ],
   "source": [
    "from lightfm import LightFM\n",
    "from lightfm.datasets import fetch_movielens\n",
    "from lightfm.evaluation import precision_at_k\n",
    "\n",
    "# Load the MovieLens 100k dataset. Only five\n",
    "# star ratings are treated as positive.\n",
    "data = fetch_movielens(min_rating=5.0)\n",
    "\n",
    "# Instantiate and train the model\n",
    "model = LightFM(loss='warp')\n",
    "model.fit(data['train'], epochs=30, num_threads=2)\n",
    "\n",
    "# Evaluate the trained model\n",
    "test_precision = precision_at_k(model, data['test'], k=5).mean()"
   ]
  },
  {
   "cell_type": "code",
   "execution_count": 2,
   "id": "8ae1f2bb",
   "metadata": {},
   "outputs": [
    {
     "name": "stderr",
     "output_type": "stream",
     "text": [
      "/Users/tanakatouma/vscode/data-science-wiki/.venv/lib/python3.9/site-packages/lightfm/_lightfm_fast.py:9: UserWarning: LightFM was compiled without OpenMP support. Only a single thread will be used.\n",
      "  warnings.warn(\n"
     ]
    },
    {
     "ename": "ImportError",
     "evalue": "dlopen(/Users/tanakatouma/vscode/data-science-wiki/.venv/lib/python3.9/site-packages/lightfm/_lightfm_fast_no_openmp.cpython-39-darwin.so, 0x0002): tried: '/Users/tanakatouma/vscode/data-science-wiki/.venv/lib/python3.9/site-packages/lightfm/_lightfm_fast_no_openmp.cpython-39-darwin.so' (mach-o file, but is an incompatible architecture (have 'x86_64', need 'arm64')), '/System/Volumes/Preboot/Cryptexes/OS/Users/tanakatouma/vscode/data-science-wiki/.venv/lib/python3.9/site-packages/lightfm/_lightfm_fast_no_openmp.cpython-39-darwin.so' (no such file), '/Users/tanakatouma/vscode/data-science-wiki/.venv/lib/python3.9/site-packages/lightfm/_lightfm_fast_no_openmp.cpython-39-darwin.so' (mach-o file, but is an incompatible architecture (have 'x86_64', need 'arm64'))",
     "output_type": "error",
     "traceback": [
      "\u001b[0;31m---------------------------------------------------------------------------\u001b[0m",
      "\u001b[0;31mNameError\u001b[0m                                 Traceback (most recent call last)",
      "File \u001b[0;32m~/vscode/data-science-wiki/.venv/lib/python3.9/site-packages/lightfm/__init__.py:2\u001b[0m\n\u001b[1;32m      1\u001b[0m \u001b[39mtry\u001b[39;00m:\n\u001b[0;32m----> 2\u001b[0m     __LIGHTFM_SETUP__\n\u001b[1;32m      3\u001b[0m \u001b[39mexcept\u001b[39;00m \u001b[39mNameError\u001b[39;00m:\n",
      "\u001b[0;31mNameError\u001b[0m: name '__LIGHTFM_SETUP__' is not defined",
      "\nDuring handling of the above exception, another exception occurred:\n",
      "\u001b[0;31mModuleNotFoundError\u001b[0m                       Traceback (most recent call last)",
      "File \u001b[0;32m~/vscode/data-science-wiki/.venv/lib/python3.9/site-packages/lightfm/_lightfm_fast.py:3\u001b[0m\n\u001b[1;32m      1\u001b[0m \u001b[39mtry\u001b[39;00m:\n\u001b[1;32m      2\u001b[0m     \u001b[39m# Import OpenMP-enabled extension\u001b[39;00m\n\u001b[0;32m----> 3\u001b[0m     \u001b[39mfrom\u001b[39;00m \u001b[39m.\u001b[39;00m\u001b[39m_lightfm_fast_openmp\u001b[39;00m \u001b[39mimport\u001b[39;00m \u001b[39m*\u001b[39m  \u001b[39m# NOQA\u001b[39;00m\n\u001b[1;32m      4\u001b[0m     \u001b[39mfrom\u001b[39;00m \u001b[39m.\u001b[39;00m\u001b[39m_lightfm_fast_openmp\u001b[39;00m \u001b[39mimport\u001b[39;00m __test_in_positives  \u001b[39m# NOQA\u001b[39;00m\n",
      "\u001b[0;31mModuleNotFoundError\u001b[0m: No module named 'lightfm._lightfm_fast_openmp'",
      "\nDuring handling of the above exception, another exception occurred:\n",
      "\u001b[0;31mImportError\u001b[0m                               Traceback (most recent call last)",
      "Cell \u001b[0;32mIn[2], line 1\u001b[0m\n\u001b[0;32m----> 1\u001b[0m \u001b[38;5;28;01mfrom\u001b[39;00m \u001b[38;5;21;01mlightfm\u001b[39;00m\u001b[38;5;21;01m.\u001b[39;00m\u001b[38;5;21;01mdatasets\u001b[39;00m \u001b[38;5;28;01mimport\u001b[39;00m fetch_movielens\n\u001b[1;32m      2\u001b[0m data \u001b[38;5;241m=\u001b[39m fetch_movielens()\n\u001b[1;32m      4\u001b[0m data\u001b[38;5;241m.\u001b[39mkeys()\n",
      "File \u001b[0;32m~/vscode/data-science-wiki/.venv/lib/python3.9/site-packages/lightfm/__init__.py:4\u001b[0m\n\u001b[1;32m      2\u001b[0m     __LIGHTFM_SETUP__\n\u001b[1;32m      3\u001b[0m \u001b[39mexcept\u001b[39;00m \u001b[39mNameError\u001b[39;00m:\n\u001b[0;32m----> 4\u001b[0m     \u001b[39mfrom\u001b[39;00m \u001b[39m.\u001b[39;00m\u001b[39mlightfm\u001b[39;00m \u001b[39mimport\u001b[39;00m LightFM\n\u001b[1;32m      6\u001b[0m __version__ \u001b[39m=\u001b[39m \u001b[39m\"\u001b[39m\u001b[39m1.17\u001b[39m\u001b[39m\"\u001b[39m\n\u001b[1;32m      8\u001b[0m __all__ \u001b[39m=\u001b[39m [\u001b[39m\"\u001b[39m\u001b[39mLightFM\u001b[39m\u001b[39m\"\u001b[39m, \u001b[39m\"\u001b[39m\u001b[39mdatasets\u001b[39m\u001b[39m\"\u001b[39m, \u001b[39m\"\u001b[39m\u001b[39mevaluation\u001b[39m\u001b[39m\"\u001b[39m]\n",
      "File \u001b[0;32m~/vscode/data-science-wiki/.venv/lib/python3.9/site-packages/lightfm/lightfm.py:8\u001b[0m\n\u001b[1;32m      4\u001b[0m \u001b[39mimport\u001b[39;00m \u001b[39mnumpy\u001b[39;00m \u001b[39mas\u001b[39;00m \u001b[39mnp\u001b[39;00m\n\u001b[1;32m      6\u001b[0m \u001b[39mimport\u001b[39;00m \u001b[39mscipy\u001b[39;00m\u001b[39m.\u001b[39;00m\u001b[39msparse\u001b[39;00m \u001b[39mas\u001b[39;00m \u001b[39msp\u001b[39;00m\n\u001b[0;32m----> 8\u001b[0m \u001b[39mfrom\u001b[39;00m \u001b[39m.\u001b[39;00m\u001b[39m_lightfm_fast\u001b[39;00m \u001b[39mimport\u001b[39;00m (\n\u001b[1;32m      9\u001b[0m     CSRMatrix,\n\u001b[1;32m     10\u001b[0m     FastLightFM,\n\u001b[1;32m     11\u001b[0m     fit_bpr,\n\u001b[1;32m     12\u001b[0m     fit_logistic,\n\u001b[1;32m     13\u001b[0m     fit_warp,\n\u001b[1;32m     14\u001b[0m     fit_warp_kos,\n\u001b[1;32m     15\u001b[0m     predict_lightfm,\n\u001b[1;32m     16\u001b[0m     predict_ranks,\n\u001b[1;32m     17\u001b[0m )\n\u001b[1;32m     19\u001b[0m __all__ \u001b[39m=\u001b[39m [\u001b[39m\"\u001b[39m\u001b[39mLightFM\u001b[39m\u001b[39m\"\u001b[39m]\n\u001b[1;32m     21\u001b[0m CYTHON_DTYPE \u001b[39m=\u001b[39m np\u001b[39m.\u001b[39mfloat32\n",
      "File \u001b[0;32m~/vscode/data-science-wiki/.venv/lib/python3.9/site-packages/lightfm/_lightfm_fast.py:14\u001b[0m\n\u001b[1;32m      7\u001b[0m \u001b[39mimport\u001b[39;00m \u001b[39mwarnings\u001b[39;00m\n\u001b[1;32m      9\u001b[0m warnings\u001b[39m.\u001b[39mwarn(\n\u001b[1;32m     10\u001b[0m     \u001b[39m\"\u001b[39m\u001b[39mLightFM was compiled without OpenMP support. \u001b[39m\u001b[39m\"\u001b[39m\n\u001b[1;32m     11\u001b[0m     \u001b[39m\"\u001b[39m\u001b[39mOnly a single thread will be used.\u001b[39m\u001b[39m\"\u001b[39m\n\u001b[1;32m     12\u001b[0m )\n\u001b[0;32m---> 14\u001b[0m \u001b[39mfrom\u001b[39;00m \u001b[39m.\u001b[39;00m\u001b[39m_lightfm_fast_no_openmp\u001b[39;00m \u001b[39mimport\u001b[39;00m \u001b[39m*\u001b[39m  \u001b[39m# NOQA\u001b[39;00m\n\u001b[1;32m     15\u001b[0m \u001b[39mfrom\u001b[39;00m \u001b[39m.\u001b[39;00m\u001b[39m_lightfm_fast_no_openmp\u001b[39;00m \u001b[39mimport\u001b[39;00m __test_in_positives  \u001b[39m# NOQA\u001b[39;00m\n",
      "\u001b[0;31mImportError\u001b[0m: dlopen(/Users/tanakatouma/vscode/data-science-wiki/.venv/lib/python3.9/site-packages/lightfm/_lightfm_fast_no_openmp.cpython-39-darwin.so, 0x0002): tried: '/Users/tanakatouma/vscode/data-science-wiki/.venv/lib/python3.9/site-packages/lightfm/_lightfm_fast_no_openmp.cpython-39-darwin.so' (mach-o file, but is an incompatible architecture (have 'x86_64', need 'arm64')), '/System/Volumes/Preboot/Cryptexes/OS/Users/tanakatouma/vscode/data-science-wiki/.venv/lib/python3.9/site-packages/lightfm/_lightfm_fast_no_openmp.cpython-39-darwin.so' (no such file), '/Users/tanakatouma/vscode/data-science-wiki/.venv/lib/python3.9/site-packages/lightfm/_lightfm_fast_no_openmp.cpython-39-darwin.so' (mach-o file, but is an incompatible architecture (have 'x86_64', need 'arm64'))"
     ]
    }
   ],
   "source": [
    "from lightfm.datasets import fetch_movielens\n",
    "data = fetch_movielens()\n",
    "\n",
    "data.keys()"
   ]
  },
  {
   "cell_type": "code",
   "execution_count": null,
   "id": "4ab39c2a",
   "metadata": {},
   "outputs": [],
   "source": [
    "train = data[\"train\"]\n",
    "test = data[\"test\"]\n",
    "\n",
    "model = LightFM(no_components=10,learning_rate=0.05, loss='bpr')\n",
    "model.fit(train, epochs=10)\n",
    "\n",
    "train_precision = precision_at_k(model, train, k=10).mean()\n",
    "test_precision = precision_at_k(model, test, k=10).mean()\n",
    "\n",
    "train_auc = auc_score(model, train).mean()\n",
    "test_auc = auc_score(model, test).mean()\n",
    "\n",
    "print('Precision: train %.2f, test %.2f.' % (train_precision, test_precision))\n",
    "print('AUC: train %.2f, test %.2f.' % (train_auc, test_auc))\n"
   ]
  }
 ],
 "metadata": {
  "kernelspec": {
   "display_name": "Python 3.9.18 ('.venv': poetry)",
   "language": "python",
   "name": "python3"
  },
  "language_info": {
   "codemirror_mode": {
    "name": "ipython",
    "version": 3
   },
   "file_extension": ".py",
   "mimetype": "text/x-python",
   "name": "python",
   "nbconvert_exporter": "python",
   "pygments_lexer": "ipython3",
   "version": "3.9.18"
  },
  "vscode": {
   "interpreter": {
    "hash": "17a011378fed683b21aba93e5dd7c0cb7beefc09c5af72c6425b40c713e260dc"
   }
  }
 },
 "nbformat": 4,
 "nbformat_minor": 5
}
