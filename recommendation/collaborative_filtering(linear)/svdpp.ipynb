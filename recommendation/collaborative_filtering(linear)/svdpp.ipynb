{
  "nbformat": 4,
  "nbformat_minor": 0,
  "metadata": {
    "colab": {
      "provenance": [],
      "authorship_tag": "ABX9TyOfVfWCF5s2mn+YQYIFSg48"
    },
    "kernelspec": {
      "name": "python3",
      "display_name": "Python 3"
    },
    "language_info": {
      "name": "python"
    }
  },
  "cells": [
    {
      "cell_type": "markdown",
      "source": [
        "# SVD++"
      ],
      "metadata": {
        "id": "lK3IqHRF3x60"
      }
    },
    {
      "cell_type": "markdown",
      "source": [
        "SVD++は、SVDを拡張し、ユーザーの暗黙的フィードバックを考慮するレコメンデーションアルゴリズムです。予測精度が高く、複雑なデータパターンを捉えます。\n",
        "- GitHub：https://github.com/NicolasHug/Surprise/tree/master"
      ],
      "metadata": {
        "id": "97D-KWzP3xz7"
      }
    },
    {
      "cell_type": "markdown",
      "source": [
        "<a href=\"https://colab.research.google.com/github/fuyu-quant/data-science-wiki/blob/main/recommendation/collaborative_filtering(linear)/svd.ipynb\" target=\"_blank\" rel=\"noopener noreferrer\"><img src=\"https://colab.research.google.com/assets/colab-badge.svg\" alt=\"Open In Colab\"/></a>"
      ],
      "metadata": {
        "id": "CSP7S3EC3xup"
      }
    },
    {
      "cell_type": "code",
      "execution_count": null,
      "metadata": {
        "id": "daOcEtW53qtl"
      },
      "outputs": [],
      "source": [
        "%%capture\n",
        "!pip install scikit-surprise"
      ]
    },
    {
      "cell_type": "code",
      "source": [
        "from surprise import SVDpp\n",
        "from surprise import Dataset\n",
        "from surprise import Reader\n",
        "from surprise import accuracy\n",
        "from surprise.model_selection import train_test_split\n",
        "\n",
        "import pandas as pd"
      ],
      "metadata": {
        "id": "tA4lha9o38kF"
      },
      "execution_count": 38,
      "outputs": []
    },
    {
      "cell_type": "markdown",
      "source": [
        "### データの用意"
      ],
      "metadata": {
        "id": "UoayD4NG7OVg"
      }
    },
    {
      "cell_type": "code",
      "source": [
        "# カラム名は何でも良い\n",
        "ratings_dict = {\n",
        "    \"itemID\": [1, 1, 1, 2, 2, 1, 2, 2, 2, 2, 2, 1],\n",
        "    \"userID\": [9, 32, 2, 45, \"user_foo\", 10, 20, 32, 4, 5, 6, 2],\n",
        "    \"rating\": [3, 2, 4, 3, 1, 2, 2, 1, 4, 4, 3, 2]\n",
        "}\n",
        "df = pd.DataFrame(ratings_dict)\n",
        "\n",
        "# rating_scaleは必須\n",
        "reader = Reader(rating_scale=(1, 5))\n",
        "data = Dataset.load_from_df(df[[\"userID\", \"itemID\", \"rating\"]], reader)\n",
        "trainset, testset = train_test_split(data, test_size=0.25)"
      ],
      "metadata": {
        "id": "sJ5-bOa166rI"
      },
      "execution_count": 39,
      "outputs": []
    },
    {
      "cell_type": "markdown",
      "source": [
        "### SVD++の実行"
      ],
      "metadata": {
        "id": "_GLoQ6PT-Xc9"
      }
    },
    {
      "cell_type": "code",
      "source": [
        "algo = SVDpp()\n",
        "algo.fit(trainset)"
      ],
      "metadata": {
        "colab": {
          "base_uri": "https://localhost:8080/"
        },
        "id": "BJYNpxi97TQh",
        "outputId": "ef1ed0c8-1a57-466a-89b5-8a0479121497"
      },
      "execution_count": 40,
      "outputs": [
        {
          "output_type": "execute_result",
          "data": {
            "text/plain": [
              "<surprise.prediction_algorithms.matrix_factorization.SVDpp at 0x7b8c56f96ef0>"
            ]
          },
          "metadata": {},
          "execution_count": 40
        }
      ]
    },
    {
      "cell_type": "code",
      "source": [
        "predictions = algo.test(testset)\n",
        "\n",
        "accuracy.rmse(predictions)"
      ],
      "metadata": {
        "colab": {
          "base_uri": "https://localhost:8080/"
        },
        "id": "hKjt93gM7jIe",
        "outputId": "0583f621-cf95-4f7c-889e-3cfaa26bd64f"
      },
      "execution_count": 41,
      "outputs": [
        {
          "output_type": "stream",
          "name": "stdout",
          "text": [
            "RMSE: 0.5705\n"
          ]
        },
        {
          "output_type": "execute_result",
          "data": {
            "text/plain": [
              "0.5704956065494063"
            ]
          },
          "metadata": {},
          "execution_count": 41
        }
      ]
    },
    {
      "cell_type": "markdown",
      "source": [
        "### SVD++の予測"
      ],
      "metadata": {
        "id": "C5J9pVidDw1K"
      }
    },
    {
      "cell_type": "code",
      "source": [
        "uid = 20\n",
        "iid = 2\n",
        "\n",
        "pred = algo.predict(uid, iid, r_ui=4, verbose=True)"
      ],
      "metadata": {
        "colab": {
          "base_uri": "https://localhost:8080/"
        },
        "id": "UxcuCE9_-dTE",
        "outputId": "716681c5-b006-4b1e-b7df-2cc516246c2b"
      },
      "execution_count": 42,
      "outputs": [
        {
          "output_type": "stream",
          "name": "stdout",
          "text": [
            "user: 20         item: 2          r_ui = 4.00   est = 2.32   {'was_impossible': False}\n"
          ]
        }
      ]
    }
  ]
}