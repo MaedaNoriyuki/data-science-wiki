{
  "nbformat": 4,
  "nbformat_minor": 0,
  "metadata": {
    "colab": {
      "provenance": [],
      "authorship_tag": "ABX9TyMCxbUe8Uq2XdXZYZ0nogEm"
    },
    "kernelspec": {
      "name": "python3",
      "display_name": "Python 3"
    },
    "language_info": {
      "name": "python"
    }
  },
  "cells": [
    {
      "cell_type": "markdown",
      "source": [
        "# Bayesian Personalized Ranking (BPR)"
      ],
      "metadata": {
        "id": "GOIHIvb6Rgly"
      }
    },
    {
      "cell_type": "markdown",
      "source": [
        "Bayesian Personalized Ranking (BPR)\u306f\u3001\u6a5f\u68b0\u5b66\u7fd2\u306e\u5206\u91ce\u3067\u958b\u767a\u3055\u308c\u305f\u3001\u4e3b\u306b\u63a8\u85a6\u30b7\u30b9\u30c6\u30e0\u306b\u7528\u3044\u3089\u308c\u308b\u30a2\u30eb\u30b4\u30ea\u30ba\u30e0\u3067\u3059\u3002\u30e6\u30fc\u30b6\u30fc\u306e\u597d\u307f\u3092\u30da\u30a2\u30ef\u30a4\u30ba\u306e\u30e9\u30f3\u30ad\u30f3\u30b0\u554f\u984c\u3068\u3057\u3066\u30e2\u30c7\u30eb\u5316\u3057\u3001\u30d9\u30a4\u30b8\u30a2\u30f3\u7d71\u8a08\u5b66\u306e\u67a0\u7d44\u307f\u3092\u4f7f\u7528\u3057\u3066\u3001\u30e6\u30fc\u30b6\u30fc\u3054\u3068\u306b\u30d1\u30fc\u30bd\u30ca\u30e9\u30a4\u30ba\u3055\u308c\u305f\u30a2\u30a4\u30c6\u30e0\u306e\u30e9\u30f3\u30ad\u30f3\u30b0\u3092\u751f\u6210\u3057\u307e\u3059\u3002\u3053\u306e\u624b\u6cd5\u306f\u7279\u306b\u3001\u6697\u9ed9\u306e\u30d5\u30a3\u30fc\u30c9\u30d0\u30c3\u30af\u30c7\u30fc\u30bf\uff08\u4f8b\u3048\u3070\u3001\u8cfc\u5165\u5c65\u6b74\u3084\u95b2\u89a7\u5c65\u6b74\uff09\u306b\u57fa\u3065\u3044\u3066\u3001\u30a2\u30a4\u30c6\u30e0\u306e\u597d\u307f\u3092\u4e88\u6e2c\u3059\u308b\u306e\u306b\u6709\u52b9\u3067\u3059\u3002\n",
        "- GitHub\uff1ahttps://github.com/recommenders-team/recommenders/blob/main/examples/02_model_collaborative_filtering/cornac_bpr_deep_dive.ipynb"
      ],
      "metadata": {
        "id": "o9BG-4bFRghk"
      }
    },
    {
      "cell_type": "markdown",
      "source": [
        "<a href=\"https://colab.research.google.com/github/fuyu-quant/data-science-wiki/blob/main/recommendation/collaborative_filtering(linear)/bpr.ipynb\" target=\"_blank\" rel=\"noopener noreferrer\"><img src=\"https://colab.research.google.com/assets/colab-badge.svg\" alt=\"Open In Colab\"/></a>"
      ],
      "metadata": {
        "id": "Wv-nSLNWRgdC"
      }
    },
    {
      "cell_type": "code",
      "execution_count": 5,
      "metadata": {
        "id": "jJqOZqGFRXy8"
      },
      "outputs": [],
      "source": [
        "%%capture\n",
        "!pip install cornac==1.17.0"
      ]
    },
    {
      "cell_type": "code",
      "source": [
        "import cornac\n",
        "from cornac.data import Reader\n",
        "from cornac.datasets import netflix\n",
        "from cornac.eval_methods import RatioSplit"
      ],
      "metadata": {
        "id": "jdFvHKflkMjT"
      },
      "execution_count": 32,
      "outputs": []
    },
    {
      "cell_type": "markdown",
      "source": [
        "### \u30c7\u30fc\u30bf\u306e\u7528\u610f"
      ],
      "metadata": {
        "id": "XefcQlZLkwoN"
      }
    },
    {
      "cell_type": "code",
      "source": [
        "feedback = netflix.load_feedback(variant=\"small\", reader=Reader(bin_threshold=1.0))\n",
        "\n",
        "\n",
        "ratio_split = RatioSplit(\n",
        "    data=feedback,\n",
        "    test_size=0.1,\n",
        "    rating_threshold=1.0,\n",
        "    exclude_unknowns=True,\n",
        "    verbose=True,\n",
        ")"
      ],
      "metadata": {
        "colab": {
          "base_uri": "https://localhost:8080/"
        },
        "id": "dfB8BHalk0Bb",
        "outputId": "5f66701f-85eb-47ce-93a7-2d6417045823"
      },
      "execution_count": 33,
      "outputs": [
        {
          "output_type": "stream",
          "name": "stdout",
          "text": [
            "rating_threshold = 1.0\n",
            "exclude_unknowns = True\n",
            "---\n",
            "Training data:\n",
            "Number of users = 9988\n",
            "Number of items = 4925\n",
            "Number of ratings = 547022\n",
            "Max rating = 1.0\n",
            "Min rating = 1.0\n",
            "Global mean = 1.0\n",
            "---\n",
            "Test data:\n",
            "Number of users = 8206\n",
            "Number of items = 3374\n",
            "Number of ratings = 60756\n",
            "Number of unknown users = 0\n",
            "Number of unknown items = 0\n",
            "---\n",
            "Total users = 9988\n",
            "Total items = 4925\n"
          ]
        }
      ]
    },
    {
      "cell_type": "markdown",
      "source": [
        "### Bayesian Personalized Ranking"
      ],
      "metadata": {
        "id": "FwLbiIuWmTKl"
      }
    },
    {
      "cell_type": "code",
      "source": [
        "bpr = cornac.models.BPR(k=50, max_iter=200, learning_rate=0.001, lambda_reg=0.001, verbose=True)\n",
        "\n",
        "# Use AUC and Recall@20 for evaluation\n",
        "auc = cornac.metrics.AUC()\n",
        "rec_20 = cornac.metrics.Recall(k=20)\n"
      ],
      "metadata": {
        "id": "y7LdIQBKjon-"
      },
      "execution_count": 34,
      "outputs": []
    },
    {
      "cell_type": "markdown",
      "source": [
        "### \u5b66\u7fd2\u3068\u4e88\u6e2c"
      ],
      "metadata": {
        "id": "0Ixax1K-l_Ez"
      }
    },
    {
      "cell_type": "code",
      "source": [
        "exp =cornac.Experiment(\n",
        "    eval_method=ratio_split,\n",
        "    models=[bpr],\n",
        "    metrics=[auc, rec_20],\n",
        "    user_based=True,\n",
        ").run()"
      ],
      "metadata": {
        "colab": {
          "base_uri": "https://localhost:8080/",
          "height": 289,
          "referenced_widgets": [
            "107398a57b9e48dd8e94eb8b885941cf",
            "c7b529f0d27c4de6bdd9bc07c4df469d",
            "1788f32e69544c67af1addbd7f2fef91",
            "5af6227999cd439e94c64cf90cf23e5e",
            "3dfa66c3027a460a90b56b1a85e97514",
            "4b979660b9204e05845d752f75447104",
            "889d94dbf7bf419687f4da6ad22d4ef2",
            "e19ea267616e44998fac4ac5a22c5644",
            "b117b888ebba425a96556ed2f43c6bd4",
            "7806b598d0644c35b18645a21b7f904a",
            "01153c4b2c124b18867dcbc3e93ed1d0",
            "5c028c3b53d74ef0b6910de5a13a885d",
            "9a8d1681ee554a2abcade777153bcb26",
            "ed2e8a4fd7a7474d98e0d98e4b42bb02",
            "b5b7e30940fe4fea875f4b4f198c6693",
            "7bdd45db84d34f56ad0bd722e50b988a",
            "70e0998873924ce6bd455582ef1adb45",
            "7fc03cb772c146ec88708b6d1dcb41c3",
            "35ab4774c0704c9db559efa26dd7dfe5",
            "91ec2a3b30204e7b987f0f30ab16bde0",
            "ab705aa426dd4db5bec4b191674922a9",
            "f37e1f6378844585bf20b37feccf8a87"
          ]
        },
        "id": "7wMGu8FOjvaw",
        "outputId": "9ca0bddb-89c5-458d-a19f-3eea9c65bd5a"
      },
      "execution_count": 35,
      "outputs": [
        {
          "output_type": "stream",
          "name": "stdout",
          "text": [
            "\n",
            "[BPR] Training started!\n"
          ]
        },
        {
          "output_type": "display_data",
          "data": {
            "text/plain": [
              "  0%|          | 0/200 [00:00<?, ?it/s]"
            ],
            "application/vnd.jupyter.widget-view+json": {
              "version_major": 2,
              "version_minor": 0,
              "model_id": "107398a57b9e48dd8e94eb8b885941cf"
            }
          },
          "metadata": {}
        },
        {
          "output_type": "stream",
          "name": "stdout",
          "text": [
            "Optimization finished!\n",
            "\n",
            "[BPR] Evaluation started!\n"
          ]
        },
        {
          "output_type": "display_data",
          "data": {
            "text/plain": [
              "Ranking:   0%|          | 0/8206 [00:00<?, ?it/s]"
            ],
            "application/vnd.jupyter.widget-view+json": {
              "version_major": 2,
              "version_minor": 0,
              "model_id": "5c028c3b53d74ef0b6910de5a13a885d"
            }
          },
          "metadata": {}
        },
        {
          "output_type": "stream",
          "name": "stdout",
          "text": [
            "\n",
            "TEST:\n",
            "...\n",
            "    |    AUC | Recall@20 | Train (s) | Test (s)\n",
            "--- + ------ + --------- + --------- + --------\n",
            "BPR | 0.9331 |    0.2330 |  111.2309 |  62.5549\n",
            "\n"
          ]
        }
      ]
    },
    {
      "cell_type": "code",
      "source": [],
      "metadata": {
        "id": "ZtY58obElhsS"
      },
      "execution_count": null,
      "outputs": []
    }
  ]
}