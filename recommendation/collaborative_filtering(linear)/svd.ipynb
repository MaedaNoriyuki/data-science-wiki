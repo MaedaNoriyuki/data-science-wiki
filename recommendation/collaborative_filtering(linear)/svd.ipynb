{
  "nbformat": 4,
  "nbformat_minor": 0,
  "metadata": {
    "colab": {
      "provenance": [],
      "authorship_tag": "ABX9TyPomSwGxSp8Jl2d6JdlJIST"
    },
    "kernelspec": {
      "name": "python3",
      "display_name": "Python 3"
    },
    "language_info": {
      "name": "python"
    }
  },
  "cells": [
    {
      "cell_type": "markdown",
      "source": [
        "# SVD"
      ],
      "metadata": {
        "id": "lK3IqHRF3x60"
      }
    },
    {
      "cell_type": "markdown",
      "source": [
        "特異値分解(Singular value decomposition）は線形代数の手法で、レコメンデーションではユーザーとアイテム間の関係を抽出するのに使われます。\n",
        "- GitHub：https://github.com/NicolasHug/Surprise/tree/master"
      ],
      "metadata": {
        "id": "97D-KWzP3xz7"
      }
    },
    {
      "cell_type": "markdown",
      "source": [
        "<a href=\"https://colab.research.google.com/github/fuyu-quant/data-science-wiki/blob/main/recommendation/collaborative_filtering(linear)/svd.ipynb\" target=\"_blank\" rel=\"noopener noreferrer\"><img src=\"https://colab.research.google.com/assets/colab-badge.svg\" alt=\"Open In Colab\"/></a>"
      ],
      "metadata": {
        "id": "CSP7S3EC3xup"
      }
    },
    {
      "cell_type": "code",
      "execution_count": null,
      "metadata": {
        "id": "daOcEtW53qtl"
      },
      "outputs": [],
      "source": [
        "%%capture\n",
        "!pip install scikit-surprise"
      ]
    },
    {
      "cell_type": "code",
      "source": [
        "from surprise import SVD\n",
        "from surprise import Dataset\n",
        "from surprise import Reader\n",
        "from surprise import accuracy\n",
        "from surprise.model_selection import train_test_split\n",
        "\n",
        "import pandas as pd"
      ],
      "metadata": {
        "id": "tA4lha9o38kF"
      },
      "execution_count": 43,
      "outputs": []
    },
    {
      "cell_type": "markdown",
      "source": [
        "### データの用意"
      ],
      "metadata": {
        "id": "UoayD4NG7OVg"
      }
    },
    {
      "cell_type": "code",
      "source": [
        "# カラム名は何でも良い\n",
        "ratings_dict = {\n",
        "    \"itemID\": [1, 1, 1, 2, 2, 1, 2, 2, 2, 2, 2, 1],\n",
        "    \"userID\": [9, 32, 2, 45, \"user_foo\", 10, 20, 32, 4, 5, 6, 2],\n",
        "    \"rating\": [3, 2, 4, 3, 1, 2, 2, 1, 4, 4, 3, 2]\n",
        "}\n",
        "df = pd.DataFrame(ratings_dict)\n",
        "\n",
        "# rating_scaleは必須\n",
        "reader = Reader(rating_scale=(1, 5))\n",
        "data = Dataset.load_from_df(df[[\"userID\", \"itemID\", \"rating\"]], reader)\n",
        "trainset, testset = train_test_split(data, test_size=0.25)"
      ],
      "metadata": {
        "id": "sJ5-bOa166rI"
      },
      "execution_count": 44,
      "outputs": []
    },
    {
      "cell_type": "markdown",
      "source": [
        "### SVDの実行"
      ],
      "metadata": {
        "id": "_GLoQ6PT-Xc9"
      }
    },
    {
      "cell_type": "code",
      "source": [
        "algo = SVD()\n",
        "algo.fit(trainset)"
      ],
      "metadata": {
        "colab": {
          "base_uri": "https://localhost:8080/"
        },
        "id": "BJYNpxi97TQh",
        "outputId": "b483d879-e279-4ab8-b4fd-5fb5704ce8c2"
      },
      "execution_count": 45,
      "outputs": [
        {
          "output_type": "execute_result",
          "data": {
            "text/plain": [
              "<surprise.prediction_algorithms.matrix_factorization.SVD at 0x7b8c56f97a30>"
            ]
          },
          "metadata": {},
          "execution_count": 45
        }
      ]
    },
    {
      "cell_type": "code",
      "source": [
        "predictions = algo.test(testset)\n",
        "\n",
        "accuracy.rmse(predictions)"
      ],
      "metadata": {
        "colab": {
          "base_uri": "https://localhost:8080/"
        },
        "id": "hKjt93gM7jIe",
        "outputId": "e9b0e4d8-9d8b-4a5f-c5e2-6e5909746a7e"
      },
      "execution_count": 46,
      "outputs": [
        {
          "output_type": "stream",
          "name": "stdout",
          "text": [
            "RMSE: 1.1853\n"
          ]
        },
        {
          "output_type": "execute_result",
          "data": {
            "text/plain": [
              "1.1852967372639023"
            ]
          },
          "metadata": {},
          "execution_count": 46
        }
      ]
    },
    {
      "cell_type": "markdown",
      "source": [
        "### SVDの予測"
      ],
      "metadata": {
        "id": "C5J9pVidDw1K"
      }
    },
    {
      "cell_type": "code",
      "source": [
        "uid = 20\n",
        "iid = 2\n",
        "\n",
        "pred = algo.predict(uid, iid, r_ui=4, verbose=True)"
      ],
      "metadata": {
        "colab": {
          "base_uri": "https://localhost:8080/"
        },
        "id": "UxcuCE9_-dTE",
        "outputId": "4a0c9ec3-eadc-4764-9f04-c11d2250cf85"
      },
      "execution_count": 47,
      "outputs": [
        {
          "output_type": "stream",
          "name": "stdout",
          "text": [
            "user: 20         item: 2          r_ui = 4.00   est = 2.41   {'was_impossible': False}\n"
          ]
        }
      ]
    }
  ]
}