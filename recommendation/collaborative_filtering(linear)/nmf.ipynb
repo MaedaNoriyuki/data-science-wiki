{
  "nbformat": 4,
  "nbformat_minor": 0,
  "metadata": {
    "colab": {
      "provenance": [],
      "authorship_tag": "ABX9TyNh9oEr/8cpJOKKdvRfqb+G"
    },
    "kernelspec": {
      "name": "python3",
      "display_name": "Python 3"
    },
    "language_info": {
      "name": "python"
    }
  },
  "cells": [
    {
      "cell_type": "markdown",
      "source": [
        "# NMF"
      ],
      "metadata": {
        "id": "lK3IqHRF3x60"
      }
    },
    {
      "cell_type": "markdown",
      "source": [
        "非負値行列因子分解(NMF)は、データを正の部分行列に分解する手法で、データの潜在的な特徴を発見するのに用いられます。\n",
        "- GitHub：https://github.com/NicolasHug/Surprise/tree/master"
      ],
      "metadata": {
        "id": "97D-KWzP3xz7"
      }
    },
    {
      "cell_type": "markdown",
      "source": [
        "<a href=\"https://colab.research.google.com/github/fuyu-quant/data-science-wiki/blob/main/recommendation/collaborative_filtering(linear)/svd.ipynb\" target=\"_blank\" rel=\"noopener noreferrer\"><img src=\"https://colab.research.google.com/assets/colab-badge.svg\" alt=\"Open In Colab\"/></a>"
      ],
      "metadata": {
        "id": "CSP7S3EC3xup"
      }
    },
    {
      "cell_type": "code",
      "execution_count": null,
      "metadata": {
        "id": "daOcEtW53qtl"
      },
      "outputs": [],
      "source": [
        "%%capture\n",
        "!pip install scikit-surprise"
      ]
    },
    {
      "cell_type": "code",
      "source": [
        "from surprise import NMF\n",
        "from surprise import Dataset\n",
        "from surprise import Reader\n",
        "from surprise import accuracy\n",
        "from surprise.model_selection import train_test_split\n",
        "\n",
        "import pandas as pd"
      ],
      "metadata": {
        "id": "tA4lha9o38kF"
      },
      "execution_count": 50,
      "outputs": []
    },
    {
      "cell_type": "markdown",
      "source": [
        "### データの用意"
      ],
      "metadata": {
        "id": "UoayD4NG7OVg"
      }
    },
    {
      "cell_type": "code",
      "source": [
        "# カラム名は何でも良い\n",
        "ratings_dict = {\n",
        "    \"itemID\": [1, 1, 1, 2, 2, 1, 2, 2, 2, 2, 2, 1],\n",
        "    \"userID\": [9, 32, 2, 45, \"user_foo\", 10, 20, 32, 4, 5, 6, 2],\n",
        "    \"rating\": [3, 2, 4, 3, 1, 2, 2, 1, 4, 4, 3, 2]\n",
        "}\n",
        "df = pd.DataFrame(ratings_dict)\n",
        "\n",
        "# rating_scaleは必須\n",
        "reader = Reader(rating_scale=(1, 5))\n",
        "data = Dataset.load_from_df(df[[\"userID\", \"itemID\", \"rating\"]], reader)\n",
        "trainset, testset = train_test_split(data, test_size=0.25)"
      ],
      "metadata": {
        "id": "sJ5-bOa166rI"
      },
      "execution_count": 51,
      "outputs": []
    },
    {
      "cell_type": "markdown",
      "source": [
        "### NMFの実行"
      ],
      "metadata": {
        "id": "_GLoQ6PT-Xc9"
      }
    },
    {
      "cell_type": "code",
      "source": [
        "algo = NMF()\n",
        "algo.fit(trainset)"
      ],
      "metadata": {
        "colab": {
          "base_uri": "https://localhost:8080/"
        },
        "id": "BJYNpxi97TQh",
        "outputId": "37b852d0-da97-46a4-e5c3-c255d783ed4b"
      },
      "execution_count": 52,
      "outputs": [
        {
          "output_type": "execute_result",
          "data": {
            "text/plain": [
              "<surprise.prediction_algorithms.matrix_factorization.NMF at 0x7b8c56fd65c0>"
            ]
          },
          "metadata": {},
          "execution_count": 52
        }
      ]
    },
    {
      "cell_type": "code",
      "source": [
        "predictions = algo.test(testset)\n",
        "\n",
        "accuracy.rmse(predictions)"
      ],
      "metadata": {
        "colab": {
          "base_uri": "https://localhost:8080/"
        },
        "id": "hKjt93gM7jIe",
        "outputId": "7b8d4776-bcd2-4646-da03-78cd0c4975da"
      },
      "execution_count": 53,
      "outputs": [
        {
          "output_type": "stream",
          "name": "stdout",
          "text": [
            "RMSE: 1.1277\n"
          ]
        },
        {
          "output_type": "execute_result",
          "data": {
            "text/plain": [
              "1.1276546183435798"
            ]
          },
          "metadata": {},
          "execution_count": 53
        }
      ]
    },
    {
      "cell_type": "markdown",
      "source": [
        "### NMFの予測"
      ],
      "metadata": {
        "id": "C5J9pVidDw1K"
      }
    },
    {
      "cell_type": "code",
      "source": [
        "uid = 20\n",
        "iid = 2\n",
        "\n",
        "pred = algo.predict(uid, iid, r_ui=4, verbose=True)"
      ],
      "metadata": {
        "colab": {
          "base_uri": "https://localhost:8080/"
        },
        "id": "UxcuCE9_-dTE",
        "outputId": "be2b0bdd-54d5-49c3-e3a7-ef6f5baed722"
      },
      "execution_count": 54,
      "outputs": [
        {
          "output_type": "stream",
          "name": "stdout",
          "text": [
            "user: 20         item: 2          r_ui = 4.00   est = 1.98   {'was_impossible': False}\n"
          ]
        }
      ]
    }
  ]
}