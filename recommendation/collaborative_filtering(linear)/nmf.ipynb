{
  "cells": [
    {
      "cell_type": "markdown",
      "metadata": {
        "id": "lK3IqHRF3x60"
      },
      "source": [
        "# Non-negative Matrix Factorization(非負値行列因子分解)"
      ]
    },
    {
      "cell_type": "markdown",
      "metadata": {
        "id": "97D-KWzP3xz7"
      },
      "source": [
        "非負値行列因子分解(NMF)は、データを正の部分行列に分解する手法で、データの潜在的な特徴を発見するのに用いられます。レコメンデーション以外にデータの圧縮やノイズ除去に有効です。\n",
        "- GitHub：https://github.com/NicolasHug/Surprise/tree/master"
      ]
    },
    {
      "cell_type": "markdown",
      "metadata": {
        "id": "CSP7S3EC3xup"
      },
      "source": [
        "<a href=\"https://colab.research.google.com/github/fuyu-quant/data-science-wiki/blob/main/recommendation/collaborative_filtering(linear)/nmf.ipynb\" target=\"_blank\" rel=\"noopener noreferrer\"><img src=\"https://colab.research.google.com/assets/colab-badge.svg\" alt=\"Open In Colab\"/></a>"
      ]
    },
    {
      "cell_type": "code",
      "execution_count": 1,
      "metadata": {
        "id": "daOcEtW53qtl"
      },
      "outputs": [],
      "source": [
        "%%capture\n",
        "!pip install scikit-surprise"
      ]
    },
    {
      "cell_type": "code",
      "execution_count": 29,
      "metadata": {
        "id": "tA4lha9o38kF"
      },
      "outputs": [],
      "source": [
        "from surprise import NMF\n",
        "from surprise import Dataset\n",
        "from surprise import Reader\n",
        "from surprise import accuracy\n",
        "from surprise.model_selection import train_test_split\n",
        "\n",
        "import pandas as pd"
      ]
    },
    {
      "cell_type": "markdown",
      "metadata": {
        "id": "UoayD4NG7OVg"
      },
      "source": [
        "### データの用意"
      ]
    },
    {
      "cell_type": "code",
      "execution_count": 30,
      "metadata": {
        "id": "sJ5-bOa166rI"
      },
      "outputs": [],
      "source": [
        "# カラム名は何でも良い\n",
        "ratings_dict = {\n",
        "    \"itemID\": [1, 1, 1, 2, 2, 1, 2, 2, 2, 2, 2, 1],\n",
        "    \"userID\": [9, 32, 2, 45, \"user_foo\", 10, 20, 32, 4, 5, 6, 2],\n",
        "    \"rating\": [3, 2, 4, 3, 1, 2, 2, 1, 4, 4, 3, 2]\n",
        "}\n",
        "df = pd.DataFrame(ratings_dict)\n",
        "\n",
        "# rating_scaleは必須\n",
        "reader = Reader(rating_scale=(1, 5))\n",
        "data = Dataset.load_from_df(df[[\"userID\", \"itemID\", \"rating\"]], reader)\n",
        "trainset, testset = train_test_split(data, test_size=0.25)"
      ]
    },
    {
      "cell_type": "markdown",
      "metadata": {
        "id": "_GLoQ6PT-Xc9"
      },
      "source": [
        "### NMFの実行"
      ]
    },
    {
      "cell_type": "code",
      "execution_count": 31,
      "metadata": {
        "colab": {
          "base_uri": "https://localhost:8080/"
        },
        "id": "BJYNpxi97TQh",
        "outputId": "daa04194-01a7-41bb-f2be-ecfb5cb7ef86"
      },
      "outputs": [
        {
          "data": {
            "text/plain": [
              "<surprise.prediction_algorithms.matrix_factorization.NMF at 0x7b8c56f97a00>"
            ]
          },
          "execution_count": 31,
          "metadata": {},
          "output_type": "execute_result"
        }
      ],
      "source": [
        "algo = NMF()\n",
        "algo.fit(trainset)"
      ]
    },
    {
      "cell_type": "code",
      "execution_count": 32,
      "metadata": {
        "colab": {
          "base_uri": "https://localhost:8080/"
        },
        "id": "hKjt93gM7jIe",
        "outputId": "1fbe34d3-691e-42bb-af44-3ccf1625fab5"
      },
      "outputs": [
        {
          "name": "stdout",
          "output_type": "stream",
          "text": [
            "RMSE: 1.2949\n"
          ]
        },
        {
          "data": {
            "text/plain": [
              "1.2948821908633337"
            ]
          },
          "execution_count": 32,
          "metadata": {},
          "output_type": "execute_result"
        }
      ],
      "source": [
        "predictions = algo.test(testset)\n",
        "\n",
        "accuracy.rmse(predictions)"
      ]
    },
    {
      "cell_type": "markdown",
      "metadata": {
        "id": "C5J9pVidDw1K"
      },
      "source": [
        "### NMFの予測"
      ]
    },
    {
      "cell_type": "code",
      "execution_count": 33,
      "metadata": {
        "colab": {
          "base_uri": "https://localhost:8080/"
        },
        "id": "UxcuCE9_-dTE",
        "outputId": "ba8965af-e1ef-4c5d-8118-dafde14bd843"
      },
      "outputs": [
        {
          "name": "stdout",
          "output_type": "stream",
          "text": [
            "user: 20         item: 2          r_ui = 4.00   est = 2.03   {'was_impossible': False}\n"
          ]
        }
      ],
      "source": [
        "uid = 20\n",
        "iid = 2\n",
        "\n",
        "pred = algo.predict(uid, iid, r_ui=4, verbose=True)"
      ]
    }
  ],
  "metadata": {
    "colab": {
      "authorship_tag": "ABX9TyPp6D2EIpiJeNiGmbsjoZcP",
      "provenance": []
    },
    "kernelspec": {
      "display_name": "Python 3",
      "name": "python3"
    },
    "language_info": {
      "name": "python"
    }
  },
  "nbformat": 4,
  "nbformat_minor": 0
}
