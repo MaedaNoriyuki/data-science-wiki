{
 "cells": [
  {
   "cell_type": "markdown",
   "id": "3ba7ea99-2ac3-4648-8d75-8b173be4e9b3",
   "metadata": {},
   "source": [
    "# Non-negative Matrix Factorization(非負値行列因子分解)"
   ]
  },
  {
   "cell_type": "markdown",
   "id": "3b3fb264",
   "metadata": {},
   "source": [
    "非負値行列因子分解(NMF)は、データを正の部分行列に分解する手法で、データの潜在的な特徴を発見するのに用いられます。レコメンデーション以外にデータの圧縮やノイズ除去に有効です。"
   ]
  },
  {
   "cell_type": "markdown",
   "id": "48088f98",
   "metadata": {},
   "source": [
    "<a href=\"https://colab.research.google.com/github/fuyu-quant/data-science-wiki/blob/main/recommendation/collaborative_filtering(linear)/nmf.ipynb\" target=\"_blank\" rel=\"noopener noreferrer\"><img src=\"https://colab.research.google.com/assets/colab-badge.svg\" alt=\"Open In Colab\"/></a>"
   ]
  },
  {
   "cell_type": "code",
   "execution_count": 3,
   "id": "686974f0",
   "metadata": {},
   "outputs": [],
   "source": [
    "%%capture\n",
    "!pip install scikit-surprise"
   ]
  },
  {
   "cell_type": "code",
   "execution_count": 4,
   "id": "099fa90a",
   "metadata": {},
   "outputs": [
    {
     "ename": "ImportError",
     "evalue": "dlopen(/Users/tanakatouma/vscode/data-science-wiki/.venv/lib/python3.9/site-packages/surprise/similarities.cpython-39-darwin.so, 0x0002): tried: '/Users/tanakatouma/vscode/data-science-wiki/.venv/lib/python3.9/site-packages/surprise/similarities.cpython-39-darwin.so' (mach-o file, but is an incompatible architecture (have 'x86_64', need 'arm64')), '/System/Volumes/Preboot/Cryptexes/OS/Users/tanakatouma/vscode/data-science-wiki/.venv/lib/python3.9/site-packages/surprise/similarities.cpython-39-darwin.so' (no such file), '/Users/tanakatouma/vscode/data-science-wiki/.venv/lib/python3.9/site-packages/surprise/similarities.cpython-39-darwin.so' (mach-o file, but is an incompatible architecture (have 'x86_64', need 'arm64'))",
     "output_type": "error",
     "traceback": [
      "\u001b[0;31m---------------------------------------------------------------------------\u001b[0m",
      "\u001b[0;31mImportError\u001b[0m                               Traceback (most recent call last)",
      "Cell \u001b[0;32mIn[4], line 1\u001b[0m\n\u001b[0;32m----> 1\u001b[0m \u001b[38;5;28;01mfrom\u001b[39;00m \u001b[38;5;21;01msurprise\u001b[39;00m \u001b[38;5;28;01mimport\u001b[39;00m SVD\n\u001b[1;32m      2\u001b[0m \u001b[38;5;28;01mfrom\u001b[39;00m \u001b[38;5;21;01msurprise\u001b[39;00m \u001b[38;5;28;01mimport\u001b[39;00m Dataset\n\u001b[1;32m      3\u001b[0m \u001b[38;5;28;01mfrom\u001b[39;00m \u001b[38;5;21;01msurprise\u001b[39;00m\u001b[38;5;21;01m.\u001b[39;00m\u001b[38;5;21;01mmodel_selection\u001b[39;00m \u001b[38;5;28;01mimport\u001b[39;00m cross_validate\n",
      "File \u001b[0;32m~/vscode/data-science-wiki/.venv/lib/python3.9/site-packages/surprise/__init__.py:8\u001b[0m\n\u001b[1;32m      4\u001b[0m \u001b[39mfrom\u001b[39;00m \u001b[39m.\u001b[39;00m\u001b[39mbuiltin_datasets\u001b[39;00m \u001b[39mimport\u001b[39;00m get_dataset_dir\n\u001b[1;32m      6\u001b[0m \u001b[39mfrom\u001b[39;00m \u001b[39m.\u001b[39;00m\u001b[39mdataset\u001b[39;00m \u001b[39mimport\u001b[39;00m Dataset\n\u001b[0;32m----> 8\u001b[0m \u001b[39mfrom\u001b[39;00m \u001b[39m.\u001b[39;00m\u001b[39mprediction_algorithms\u001b[39;00m \u001b[39mimport\u001b[39;00m (\n\u001b[1;32m      9\u001b[0m     AlgoBase,\n\u001b[1;32m     10\u001b[0m     BaselineOnly,\n\u001b[1;32m     11\u001b[0m     CoClustering,\n\u001b[1;32m     12\u001b[0m     KNNBaseline,\n\u001b[1;32m     13\u001b[0m     KNNBasic,\n\u001b[1;32m     14\u001b[0m     KNNWithMeans,\n\u001b[1;32m     15\u001b[0m     KNNWithZScore,\n\u001b[1;32m     16\u001b[0m     NMF,\n\u001b[1;32m     17\u001b[0m     NormalPredictor,\n\u001b[1;32m     18\u001b[0m     Prediction,\n\u001b[1;32m     19\u001b[0m     PredictionImpossible,\n\u001b[1;32m     20\u001b[0m     SlopeOne,\n\u001b[1;32m     21\u001b[0m     SVD,\n\u001b[1;32m     22\u001b[0m     SVDpp,\n\u001b[1;32m     23\u001b[0m )\n\u001b[1;32m     24\u001b[0m \u001b[39mfrom\u001b[39;00m \u001b[39m.\u001b[39;00m\u001b[39mreader\u001b[39;00m \u001b[39mimport\u001b[39;00m Reader\n\u001b[1;32m     25\u001b[0m \u001b[39mfrom\u001b[39;00m \u001b[39m.\u001b[39;00m\u001b[39mtrainset\u001b[39;00m \u001b[39mimport\u001b[39;00m Trainset\n",
      "File \u001b[0;32m~/vscode/data-science-wiki/.venv/lib/python3.9/site-packages/surprise/prediction_algorithms/__init__.py:23\u001b[0m\n\u001b[1;32m      1\u001b[0m \u001b[39m\"\"\"\u001b[39;00m\n\u001b[1;32m      2\u001b[0m \u001b[39mThe :mod:`prediction_algorithms` package includes the prediction algorithms\u001b[39;00m\n\u001b[1;32m      3\u001b[0m \u001b[39mavailable for recommendation.\u001b[39;00m\n\u001b[0;32m   (...)\u001b[0m\n\u001b[1;32m     20\u001b[0m \u001b[39m    co_clustering.CoClustering\u001b[39;00m\n\u001b[1;32m     21\u001b[0m \u001b[39m\"\"\"\u001b[39;00m\n\u001b[0;32m---> 23\u001b[0m \u001b[39mfrom\u001b[39;00m \u001b[39m.\u001b[39;00m\u001b[39malgo_base\u001b[39;00m \u001b[39mimport\u001b[39;00m AlgoBase\n\u001b[1;32m     24\u001b[0m \u001b[39mfrom\u001b[39;00m \u001b[39m.\u001b[39;00m\u001b[39mbaseline_only\u001b[39;00m \u001b[39mimport\u001b[39;00m BaselineOnly\n\u001b[1;32m     25\u001b[0m \u001b[39mfrom\u001b[39;00m \u001b[39m.\u001b[39;00m\u001b[39mco_clustering\u001b[39;00m \u001b[39mimport\u001b[39;00m CoClustering\n",
      "File \u001b[0;32m~/vscode/data-science-wiki/.venv/lib/python3.9/site-packages/surprise/prediction_algorithms/algo_base.py:8\u001b[0m\n\u001b[1;32m      1\u001b[0m \u001b[39m\"\"\"\u001b[39;00m\n\u001b[1;32m      2\u001b[0m \u001b[39mThe :mod:`surprise.prediction_algorithms.algo_base` module defines the base\u001b[39;00m\n\u001b[1;32m      3\u001b[0m \u001b[39mclass :class:`AlgoBase` from which every single prediction algorithm has to\u001b[39;00m\n\u001b[1;32m      4\u001b[0m \u001b[39minherit.\u001b[39;00m\n\u001b[1;32m      5\u001b[0m \u001b[39m\"\"\"\u001b[39;00m\n\u001b[1;32m      6\u001b[0m \u001b[39mimport\u001b[39;00m \u001b[39mheapq\u001b[39;00m\n\u001b[0;32m----> 8\u001b[0m \u001b[39mfrom\u001b[39;00m \u001b[39m.\u001b[39;00m\u001b[39m.\u001b[39;00m \u001b[39mimport\u001b[39;00m similarities \u001b[39mas\u001b[39;00m sims\n\u001b[1;32m      9\u001b[0m \u001b[39mfrom\u001b[39;00m \u001b[39m.\u001b[39;00m\u001b[39moptimize_baselines\u001b[39;00m \u001b[39mimport\u001b[39;00m baseline_als, baseline_sgd\n\u001b[1;32m     10\u001b[0m \u001b[39mfrom\u001b[39;00m \u001b[39m.\u001b[39;00m\u001b[39mpredictions\u001b[39;00m \u001b[39mimport\u001b[39;00m Prediction, PredictionImpossible\n",
      "\u001b[0;31mImportError\u001b[0m: dlopen(/Users/tanakatouma/vscode/data-science-wiki/.venv/lib/python3.9/site-packages/surprise/similarities.cpython-39-darwin.so, 0x0002): tried: '/Users/tanakatouma/vscode/data-science-wiki/.venv/lib/python3.9/site-packages/surprise/similarities.cpython-39-darwin.so' (mach-o file, but is an incompatible architecture (have 'x86_64', need 'arm64')), '/System/Volumes/Preboot/Cryptexes/OS/Users/tanakatouma/vscode/data-science-wiki/.venv/lib/python3.9/site-packages/surprise/similarities.cpython-39-darwin.so' (no such file), '/Users/tanakatouma/vscode/data-science-wiki/.venv/lib/python3.9/site-packages/surprise/similarities.cpython-39-darwin.so' (mach-o file, but is an incompatible architecture (have 'x86_64', need 'arm64'))"
     ]
    }
   ],
   "source": [
    "from surprise import SVD\n",
    "from surprise import Dataset\n",
    "from surprise.model_selection import cross_validate\n",
    "\n",
    "# Load the movielens-100k dataset (download it if needed).\n",
    "data = Dataset.load_builtin('ml-100k')\n",
    "\n",
    "# Use the famous SVD algorithm.\n",
    "algo = SVD()"
   ]
  },
  {
   "cell_type": "code",
   "execution_count": null,
   "id": "fb54fd8f",
   "metadata": {},
   "outputs": [],
   "source": [
    "cross_validate(algo, data, measures=['RMSE', 'MAE'], cv=5, verbose=True)"
   ]
  },
  {
   "cell_type": "code",
   "execution_count": 2,
   "id": "8c841da2-c7c8-496c-9c44-0c0019012e88",
   "metadata": {},
   "outputs": [],
   "source": [
    "from sklearn.decomposition import NMF\n",
    "\n",
    "import pandas"
   ]
  },
  {
   "cell_type": "code",
   "execution_count": null,
   "id": "51ab54a8-4248-43de-b034-26149035f2d3",
   "metadata": {},
   "outputs": [],
   "source": [
    "def nmf_decomposition(df, N):\n",
    "    nmf = NMF(n_components=n, init='random', random_state=0)\n",
    "    #Wの出力\n",
    "    W = nmf.fit_transform(df)\n",
    "    #Hの出力\n",
    "    H = nmf.components_\n",
    "    return pd.DataFrame(H)"
   ]
  },
  {
   "cell_type": "code",
   "execution_count": null,
   "id": "b13ecd24",
   "metadata": {},
   "outputs": [],
   "source": []
  }
 ],
 "metadata": {
  "kernelspec": {
   "display_name": "Python 3.9.18 ('.venv': poetry)",
   "language": "python",
   "name": "python3"
  },
  "language_info": {
   "codemirror_mode": {
    "name": "ipython",
    "version": 3
   },
   "file_extension": ".py",
   "mimetype": "text/x-python",
   "name": "python",
   "nbconvert_exporter": "python",
   "pygments_lexer": "ipython3",
   "version": "3.9.18"
  },
  "vscode": {
   "interpreter": {
    "hash": "17a011378fed683b21aba93e5dd7c0cb7beefc09c5af72c6425b40c713e260dc"
   }
  }
 },
 "nbformat": 4,
 "nbformat_minor": 5
}
