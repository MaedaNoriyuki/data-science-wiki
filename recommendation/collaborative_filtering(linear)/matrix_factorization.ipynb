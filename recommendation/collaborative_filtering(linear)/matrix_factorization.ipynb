{
  "nbformat": 4,
  "nbformat_minor": 0,
  "metadata": {
    "colab": {
      "provenance": [],
      "authorship_tag": "ABX9TyO6UTpv6hkPSv06JDFc15SQ"
    },
    "kernelspec": {
      "name": "python3",
      "display_name": "Python 3"
    },
    "language_info": {
      "name": "python"
    }
  },
  "cells": [
    {
      "cell_type": "markdown",
      "source": [
        "# Matrix Factorization"
      ],
      "metadata": {
        "id": "1Q5liy-nlTAO"
      }
    },
    {
      "cell_type": "markdown",
      "source": [
        "Matrix Factorization\u306f\u3001\u9ad8\u6b21\u5143\u30c7\u30fc\u30bf\u3092\u4f4e\u6b21\u5143\u306e\u6f5c\u5728\u8981\u7d20\u306b\u5206\u89e3\u3059\u308b\u6280\u8853\u3067\u3001\u4e3b\u306b\u63a8\u85a6\u30b7\u30b9\u30c6\u30e0\u3067\u4f7f\u7528\u3055\u308c\u307e\u3059\u3002\u3053\u306e\u624b\u6cd5\u306f\u3001\u30e6\u30fc\u30b6\u30fc\u3068\u30a2\u30a4\u30c6\u30e0\u9593\u306e\u95a2\u4fc2\u3092\u6f5c\u5728\u7684\u306a\u7279\u5fb4\u3067\u30e2\u30c7\u30eb\u5316\u3057\u3001\u3053\u308c\u306b\u3088\u308a\u7cbe\u5ea6\u306e\u9ad8\u3044\u63a8\u85a6\u3092\u5b9f\u73fe\u3057\u307e\u3059\u3002\u7279\u306b\u3001\u30b9\u30d1\u30fc\u30b9\u306a\u30c7\u30fc\u30bf\u30bb\u30c3\u30c8\u306b\u304a\u3044\u3066\u52b9\u679c\u7684\u3067\u3001Netflix Prize\u306e\u30b3\u30f3\u30c6\u30b9\u30c8\u3067\u306e\u4f7f\u7528\u304c\u6709\u540d\u3067\u3059\u3002"
      ],
      "metadata": {
        "id": "uIS5wNHQlS66"
      }
    },
    {
      "cell_type": "markdown",
      "source": [
        "<a href=\"https://colab.research.google.com/github/fuyu-quant/data-science-wiki/blob/main/recommendation/collaborative_filtering(linear)/matrix_factorization.ipynb\" target=\"_blank\" rel=\"noopener noreferrer\"><img src=\"https://colab.research.google.com/assets/colab-badge.svg\" alt=\"Open In Colab\"/></a>"
      ],
      "metadata": {
        "id": "NXD11-S6lNx3"
      }
    },
    {
      "cell_type": "code",
      "source": [
        "%%capture\n",
        "!pip install cornac==1.17.0"
      ],
      "metadata": {
        "id": "RkL_PCFWlw9c"
      },
      "execution_count": 2,
      "outputs": []
    },
    {
      "cell_type": "code",
      "source": [
        "import cornac\n",
        "from cornac.data import Reader\n",
        "from cornac.datasets import netflix\n",
        "from cornac.eval_methods import RatioSplit"
      ],
      "metadata": {
        "id": "aXFwBcaklJGP"
      },
      "execution_count": 3,
      "outputs": []
    },
    {
      "cell_type": "markdown",
      "source": [
        "### \u30c7\u30fc\u30bf\u306e\u7528\u610f"
      ],
      "metadata": {
        "id": "Hj8yy8LVlLbY"
      }
    },
    {
      "cell_type": "code",
      "execution_count": 4,
      "metadata": {
        "colab": {
          "base_uri": "https://localhost:8080/",
          "height": 466,
          "referenced_widgets": [
            "811ecea87ccd4756ac0ad6f782a28fcd",
            "b750a37e5e22490980c5f4c6e254018e",
            "7caaf6934e224579b0a3f9e836389641",
            "678b4c29056b43008c4ace0c960f384c",
            "99979507a5bb44a6b0628d6cb321aa52",
            "13f71340c1f04efa9a46d07a6e692a2a",
            "0be84d056e684aeb88566adb9aa97ff8",
            "24c7dd6079b341fb86849235de6be43b",
            "94ceb5dd802e4ce49475bba53b39e464",
            "e136098ef1264432b99726d5e59c7094",
            "41435a2c42124fe3a225ff9c635771f0"
          ]
        },
        "id": "z7WBFaeagdO4",
        "outputId": "28b8eed9-6ff7-4de0-fd02-d31300255dd9"
      },
      "outputs": [
        {
          "output_type": "stream",
          "name": "stdout",
          "text": [
            "Data from https://static.preferred.ai/cornac/datasets/netflix/data_small.zip\n",
            "will be cached into /root/.cornac/netflix/data_small.csv\n"
          ]
        },
        {
          "output_type": "display_data",
          "data": {
            "text/plain": [
              "0.00B [00:00, ?B/s]"
            ],
            "application/vnd.jupyter.widget-view+json": {
              "version_major": 2,
              "version_minor": 0,
              "model_id": "811ecea87ccd4756ac0ad6f782a28fcd"
            }
          },
          "metadata": {}
        },
        {
          "output_type": "stream",
          "name": "stdout",
          "text": [
            "Unzipping ...\n",
            "File cached!\n",
            "rating_threshold = 1.0\n",
            "exclude_unknowns = True\n",
            "---\n",
            "Training data:\n",
            "Number of users = 9985\n",
            "Number of items = 4924\n",
            "Number of ratings = 547022\n",
            "Max rating = 1.0\n",
            "Min rating = 1.0\n",
            "Global mean = 1.0\n",
            "---\n",
            "Test data:\n",
            "Number of users = 8215\n",
            "Number of items = 3366\n",
            "Number of ratings = 60748\n",
            "Number of unknown users = 0\n",
            "Number of unknown items = 0\n",
            "---\n",
            "Total users = 9985\n",
            "Total items = 4924\n"
          ]
        }
      ],
      "source": [
        "feedback = netflix.load_feedback(variant=\"small\", reader=Reader(bin_threshold=1.0))\n",
        "\n",
        "ratio_split = RatioSplit(\n",
        "    data=feedback,\n",
        "    test_size=0.1,\n",
        "    rating_threshold=1.0,\n",
        "    exclude_unknowns=True,\n",
        "    verbose=True,\n",
        ")"
      ]
    },
    {
      "cell_type": "markdown",
      "source": [
        "### Matrix Factorization\u306e\u5b9f\u884c"
      ],
      "metadata": {
        "id": "2Fo6jgvdmIhU"
      }
    },
    {
      "cell_type": "code",
      "source": [
        "mf = cornac.models.MF(k=10, max_iter=25, learning_rate=0.01, lambda_reg=0.02, use_bias=True, seed=123)"
      ],
      "metadata": {
        "id": "rFNZxq0Zk_9W"
      },
      "execution_count": 5,
      "outputs": []
    },
    {
      "cell_type": "code",
      "source": [
        "# Use AUC and Recall@20 for evaluation\n",
        "auc = cornac.metrics.AUC()\n",
        "rec_20 = cornac.metrics.Recall(k=20)"
      ],
      "metadata": {
        "id": "3F9yJVWQldNn"
      },
      "execution_count": 6,
      "outputs": []
    },
    {
      "cell_type": "markdown",
      "source": [
        "### \u5b66\u7fd2\u3068\u4e88\u6e2c"
      ],
      "metadata": {
        "id": "TgbARk7kmCfC"
      }
    },
    {
      "cell_type": "code",
      "source": [
        "exp =cornac.Experiment(\n",
        "    eval_method=ratio_split,\n",
        "    models=[mf],\n",
        "    metrics=[auc, rec_20],\n",
        "    user_based=True,\n",
        ").run()"
      ],
      "metadata": {
        "colab": {
          "base_uri": "https://localhost:8080/",
          "height": 240,
          "referenced_widgets": [
            "776f9fd58ff8479c94e1b10c7d3ca9c0",
            "292446b6ffe44f6aa6c342f40d5832a2",
            "3534117d8f024692b64947d9288d9552",
            "8759be8f1f084623977e9ec86695b960",
            "978232d74d62416aa2c3eb5246bb7583",
            "fec1f85f240e44f5b550b6f659d5c036",
            "7123855c52864ba8b10b332d336f1ca9",
            "f72542ee1dee4b40823453853886b55f",
            "f7cf32c7800b496ea5d273c9c86914cb",
            "981d01ccc7fc42c6970df22ee11d5148",
            "1974dbdf266043b2a48ce65b8f771ecb"
          ]
        },
        "id": "VAZl5MLSmEXH",
        "outputId": "75c06d3f-a0b1-43c1-c292-46059fe1cdc3"
      },
      "execution_count": 7,
      "outputs": [
        {
          "output_type": "stream",
          "name": "stdout",
          "text": [
            "\n",
            "[MF] Training started!\n",
            "\n",
            "[MF] Evaluation started!\n"
          ]
        },
        {
          "output_type": "display_data",
          "data": {
            "text/plain": [
              "Ranking:   0%|          | 0/8215 [00:00<?, ?it/s]"
            ],
            "application/vnd.jupyter.widget-view+json": {
              "version_major": 2,
              "version_minor": 0,
              "model_id": "776f9fd58ff8479c94e1b10c7d3ca9c0"
            }
          },
          "metadata": {}
        },
        {
          "output_type": "stream",
          "name": "stdout",
          "text": [
            "\n",
            "TEST:\n",
            "...\n",
            "   |    AUC | Recall@20 | Train (s) | Test (s)\n",
            "-- + ------ + --------- + --------- + --------\n",
            "MF | 0.4989 |    0.0002 |    0.6990 |  65.3450\n",
            "\n"
          ]
        }
      ]
    },
    {
      "cell_type": "code",
      "source": [],
      "metadata": {
        "id": "_a3j9F8MmHwO"
      },
      "execution_count": null,
      "outputs": []
    }
  ]
}