{
 "cells": [
  {
   "cell_type": "markdown",
   "metadata": {
    "id": "rx0qa8q8yMSw"
   },
   "source": [
    "# LightGCN(Light Graph Convolution Network)\n",
    "\n",
    "* [実装の参考](https://github.com/microsoft/recommenders/blob/main/examples/02_model_collaborative_filtering/lightgcn_deep_dive.ipynb)"
   ]
  },
  {
   "cell_type": "markdown",
   "metadata": {
    "id": "NDSuDTrvzHGJ"
   },
   "source": [
    "## Install"
   ]
  },
  {
   "cell_type": "code",
   "execution_count": 1,
   "metadata": {
    "colab": {
     "base_uri": "https://localhost:8080/"
    },
    "id": "Lg85yZS11mMZ",
    "outputId": "b4bbc537-714b-4528-813b-79ab4ee8f86b"
   },
   "outputs": [
    {
     "name": "stdout",
     "output_type": "stream",
     "text": [
      "Cloning into 'recommenders'...\n",
      "remote: Enumerating objects: 35770, done.\u001b[K\n",
      "remote: Counting objects: 100% (993/993), done.\u001b[K\n",
      "remote: Compressing objects: 100% (413/413), done.\u001b[K\n",
      "remote: Total 35770 (delta 653), reused 855 (delta 562), pack-reused 34777\u001b[K\n",
      "Receiving objects: 100% (35770/35770), 202.34 MiB | 21.37 MiB/s, done.\n",
      "Resolving deltas: 100% (24120/24120), done.\n"
     ]
    }
   ],
   "source": [
    "# recommenders\n",
    "! git clone https://github.com/microsoft/recommenders"
   ]
  },
  {
   "cell_type": "code",
   "execution_count": 2,
   "metadata": {
    "id": "mXqTMCktzEZ1"
   },
   "outputs": [],
   "source": [
    "%%capture\n",
    "! pip install papermill\n",
    "!pip install scrapbook\n",
    "!pip install recommenders[examples]"
   ]
  },
  {
   "cell_type": "markdown",
   "metadata": {
    "id": "9GyvubAgzTqP"
   },
   "source": [
    "## Import"
   ]
  },
  {
   "cell_type": "code",
   "execution_count": 3,
   "metadata": {
    "colab": {
     "base_uri": "https://localhost:8080/"
    },
    "id": "OjGOtkGXyIwY",
    "outputId": "cd379067-505a-42b3-be93-cb009fcb195e"
   },
   "outputs": [
    {
     "name": "stdout",
     "output_type": "stream",
     "text": [
      "System version: 3.7.13 (default, Apr 24 2022, 01:04:09) \n",
      "[GCC 7.5.0]\n",
      "Pandas version: 1.3.5\n",
      "Tensorflow version: 2.8.2\n"
     ]
    }
   ],
   "source": [
    "import sys\n",
    "import os\n",
    "import papermill as pm\n",
    "import scrapbook as sb\n",
    "import pandas as pd\n",
    "import numpy as np\n",
    "import tensorflow as tf\n",
    "tf.get_logger().setLevel('ERROR') # only show error messages\n",
    "\n",
    "from recommenders.utils.timer import Timer\n",
    "from recommenders.models.deeprec.models.graphrec.lightgcn import LightGCN\n",
    "from recommenders.models.deeprec.DataModel.ImplicitCF import ImplicitCF\n",
    "from recommenders.datasets import movielens\n",
    "from recommenders.datasets.python_splitters import python_stratified_split\n",
    "from recommenders.evaluation.python_evaluation import map_at_k, ndcg_at_k, precision_at_k, recall_at_k\n",
    "from recommenders.utils.constants import SEED as DEFAULT_SEED\n",
    "from recommenders.models.deeprec.deeprec_utils import prepare_hparams\n",
    "\n",
    "print(\"System version: {}\".format(sys.version))\n",
    "print(\"Pandas version: {}\".format(pd.__version__))\n",
    "print(\"Tensorflow version: {}\".format(tf.__version__))"
   ]
  },
  {
   "cell_type": "code",
   "execution_count": 4,
   "metadata": {
    "id": "tWO0z0F1zVB9"
   },
   "outputs": [],
   "source": [
    "# レコメンドするアイテム数\n",
    "TOP_K = 10\n",
    "\n",
    "# Select MovieLens data size: 100k, 1m, 10m, or 20m\n",
    "MOVIELENS_DATA_SIZE = '100k'\n",
    "\n",
    "# ハイパーパラメータ\n",
    "EPOCHS = 50\n",
    "BATCH_SIZE = 1024\n",
    "\n",
    "SEED = DEFAULT_SEED  # Set None for non-deterministic results\n",
    "\n",
    "\n",
    "# パスの設定\n",
    "yaml_file = \"/content/recommenders/recommenders/models/deeprec/config/lightgcn.yaml\"\n",
    "user_file = \"/content/data/user_embeddings.csv\"\n",
    "item_file = \"/content/data/item_embeddings.csv\""
   ]
  },
  {
   "cell_type": "code",
   "execution_count": 5,
   "metadata": {
    "colab": {
     "base_uri": "https://localhost:8080/",
     "height": 224
    },
    "id": "UgmOd6f62PHs",
    "outputId": "2958168b-6f9e-41d7-ce25-3b1bc7a60e37"
   },
   "outputs": [
    {
     "name": "stderr",
     "output_type": "stream",
     "text": [
      "100%|██████████| 4.81k/4.81k [00:00<00:00, 10.5kKB/s]\n"
     ]
    },
    {
     "data": {
      "text/html": [
       "\n",
       "  <div id=\"df-e23d0efd-4e04-460f-add1-68a18bfea16f\">\n",
       "    <div class=\"colab-df-container\">\n",
       "      <div>\n",
       "<style scoped>\n",
       "    .dataframe tbody tr th:only-of-type {\n",
       "        vertical-align: middle;\n",
       "    }\n",
       "\n",
       "    .dataframe tbody tr th {\n",
       "        vertical-align: top;\n",
       "    }\n",
       "\n",
       "    .dataframe thead th {\n",
       "        text-align: right;\n",
       "    }\n",
       "</style>\n",
       "<table border=\"1\" class=\"dataframe\">\n",
       "  <thead>\n",
       "    <tr style=\"text-align: right;\">\n",
       "      <th></th>\n",
       "      <th>userID</th>\n",
       "      <th>itemID</th>\n",
       "      <th>rating</th>\n",
       "      <th>timestamp</th>\n",
       "    </tr>\n",
       "  </thead>\n",
       "  <tbody>\n",
       "    <tr>\n",
       "      <th>0</th>\n",
       "      <td>196</td>\n",
       "      <td>242</td>\n",
       "      <td>3.0</td>\n",
       "      <td>881250949</td>\n",
       "    </tr>\n",
       "    <tr>\n",
       "      <th>1</th>\n",
       "      <td>186</td>\n",
       "      <td>302</td>\n",
       "      <td>3.0</td>\n",
       "      <td>891717742</td>\n",
       "    </tr>\n",
       "    <tr>\n",
       "      <th>2</th>\n",
       "      <td>22</td>\n",
       "      <td>377</td>\n",
       "      <td>1.0</td>\n",
       "      <td>878887116</td>\n",
       "    </tr>\n",
       "    <tr>\n",
       "      <th>3</th>\n",
       "      <td>244</td>\n",
       "      <td>51</td>\n",
       "      <td>2.0</td>\n",
       "      <td>880606923</td>\n",
       "    </tr>\n",
       "    <tr>\n",
       "      <th>4</th>\n",
       "      <td>166</td>\n",
       "      <td>346</td>\n",
       "      <td>1.0</td>\n",
       "      <td>886397596</td>\n",
       "    </tr>\n",
       "  </tbody>\n",
       "</table>\n",
       "</div>\n",
       "      <button class=\"colab-df-convert\" onclick=\"convertToInteractive('df-e23d0efd-4e04-460f-add1-68a18bfea16f')\"\n",
       "              title=\"Convert this dataframe to an interactive table.\"\n",
       "              style=\"display:none;\">\n",
       "        \n",
       "  <svg xmlns=\"http://www.w3.org/2000/svg\" height=\"24px\"viewBox=\"0 0 24 24\"\n",
       "       width=\"24px\">\n",
       "    <path d=\"M0 0h24v24H0V0z\" fill=\"none\"/>\n",
       "    <path d=\"M18.56 5.44l.94 2.06.94-2.06 2.06-.94-2.06-.94-.94-2.06-.94 2.06-2.06.94zm-11 1L8.5 8.5l.94-2.06 2.06-.94-2.06-.94L8.5 2.5l-.94 2.06-2.06.94zm10 10l.94 2.06.94-2.06 2.06-.94-2.06-.94-.94-2.06-.94 2.06-2.06.94z\"/><path d=\"M17.41 7.96l-1.37-1.37c-.4-.4-.92-.59-1.43-.59-.52 0-1.04.2-1.43.59L10.3 9.45l-7.72 7.72c-.78.78-.78 2.05 0 2.83L4 21.41c.39.39.9.59 1.41.59.51 0 1.02-.2 1.41-.59l7.78-7.78 2.81-2.81c.8-.78.8-2.07 0-2.86zM5.41 20L4 18.59l7.72-7.72 1.47 1.35L5.41 20z\"/>\n",
       "  </svg>\n",
       "      </button>\n",
       "      \n",
       "  <style>\n",
       "    .colab-df-container {\n",
       "      display:flex;\n",
       "      flex-wrap:wrap;\n",
       "      gap: 12px;\n",
       "    }\n",
       "\n",
       "    .colab-df-convert {\n",
       "      background-color: #E8F0FE;\n",
       "      border: none;\n",
       "      border-radius: 50%;\n",
       "      cursor: pointer;\n",
       "      display: none;\n",
       "      fill: #1967D2;\n",
       "      height: 32px;\n",
       "      padding: 0 0 0 0;\n",
       "      width: 32px;\n",
       "    }\n",
       "\n",
       "    .colab-df-convert:hover {\n",
       "      background-color: #E2EBFA;\n",
       "      box-shadow: 0px 1px 2px rgba(60, 64, 67, 0.3), 0px 1px 3px 1px rgba(60, 64, 67, 0.15);\n",
       "      fill: #174EA6;\n",
       "    }\n",
       "\n",
       "    [theme=dark] .colab-df-convert {\n",
       "      background-color: #3B4455;\n",
       "      fill: #D2E3FC;\n",
       "    }\n",
       "\n",
       "    [theme=dark] .colab-df-convert:hover {\n",
       "      background-color: #434B5C;\n",
       "      box-shadow: 0px 1px 3px 1px rgba(0, 0, 0, 0.15);\n",
       "      filter: drop-shadow(0px 1px 2px rgba(0, 0, 0, 0.3));\n",
       "      fill: #FFFFFF;\n",
       "    }\n",
       "  </style>\n",
       "\n",
       "      <script>\n",
       "        const buttonEl =\n",
       "          document.querySelector('#df-e23d0efd-4e04-460f-add1-68a18bfea16f button.colab-df-convert');\n",
       "        buttonEl.style.display =\n",
       "          google.colab.kernel.accessAllowed ? 'block' : 'none';\n",
       "\n",
       "        async function convertToInteractive(key) {\n",
       "          const element = document.querySelector('#df-e23d0efd-4e04-460f-add1-68a18bfea16f');\n",
       "          const dataTable =\n",
       "            await google.colab.kernel.invokeFunction('convertToInteractive',\n",
       "                                                     [key], {});\n",
       "          if (!dataTable) return;\n",
       "\n",
       "          const docLinkHtml = 'Like what you see? Visit the ' +\n",
       "            '<a target=\"_blank\" href=https://colab.research.google.com/notebooks/data_table.ipynb>data table notebook</a>'\n",
       "            + ' to learn more about interactive tables.';\n",
       "          element.innerHTML = '';\n",
       "          dataTable['output_type'] = 'display_data';\n",
       "          await google.colab.output.renderOutput(dataTable, element);\n",
       "          const docLink = document.createElement('div');\n",
       "          docLink.innerHTML = docLinkHtml;\n",
       "          element.appendChild(docLink);\n",
       "        }\n",
       "      </script>\n",
       "    </div>\n",
       "  </div>\n",
       "  "
      ],
      "text/plain": [
       "   userID  itemID  rating  timestamp\n",
       "0     196     242     3.0  881250949\n",
       "1     186     302     3.0  891717742\n",
       "2      22     377     1.0  878887116\n",
       "3     244      51     2.0  880606923\n",
       "4     166     346     1.0  886397596"
      ]
     },
     "execution_count": 5,
     "metadata": {},
     "output_type": "execute_result"
    }
   ],
   "source": [
    "# データの読み込み\n",
    "df = movielens.load_pandas_df(size=MOVIELENS_DATA_SIZE)\n",
    "\n",
    "df.head()"
   ]
  },
  {
   "cell_type": "markdown",
   "metadata": {
    "id": "A6k-Jdf67BjA"
   },
   "source": [
    "## Model"
   ]
  },
  {
   "cell_type": "code",
   "execution_count": 6,
   "metadata": {
    "colab": {
     "base_uri": "https://localhost:8080/"
    },
    "id": "xhRH1THV3rp6",
    "outputId": "95ed539e-a944-4fd1-dc89-078bcb246cca"
   },
   "outputs": [
    {
     "name": "stdout",
     "output_type": "stream",
     "text": [
      "Already create adjacency matrix.\n",
      "Already normalize adjacency matrix.\n",
      "Using xavier initialization.\n"
     ]
    }
   ],
   "source": [
    "# 訓練データとテスト用データに分ける\n",
    "train, test = python_stratified_split(df, ratio=0.75)\n",
    "\n",
    "# LightGCN用のデータの用意\n",
    "data = ImplicitCF(train=train, test=test, seed=SEED)\n",
    "\n",
    "# LightGCN用のハイパーパラメータ\n",
    "hparams = prepare_hparams(yaml_file,\n",
    "                          n_layers=3,\n",
    "                          batch_size=BATCH_SIZE,\n",
    "                          epochs=EPOCHS,\n",
    "                          learning_rate=0.005,\n",
    "                          eval_epoch=5,\n",
    "                          top_k=TOP_K,\n",
    "                         )\n",
    "\n",
    "\n",
    "model = LightGCN(hparams, data, seed=SEED)"
   ]
  },
  {
   "cell_type": "markdown",
   "metadata": {
    "id": "psLzuohQ7WZQ"
   },
   "source": [
    "## Train"
   ]
  },
  {
   "cell_type": "code",
   "execution_count": 7,
   "metadata": {
    "colab": {
     "base_uri": "https://localhost:8080/"
    },
    "id": "2L7YcQHA3xAK",
    "outputId": "dc86133a-f4e2-43b2-f122-53dc06fe8a1c"
   },
   "outputs": [
    {
     "name": "stdout",
     "output_type": "stream",
     "text": [
      "Epoch 1 (train)3.3s: train loss = 0.46985 = (mf)0.46960 + (embed)0.00025\n",
      "Epoch 2 (train)3.0s: train loss = 0.28470 = (mf)0.28405 + (embed)0.00066\n",
      "Epoch 3 (train)2.9s: train loss = 0.25343 = (mf)0.25260 + (embed)0.00082\n",
      "Epoch 4 (train)3.0s: train loss = 0.23669 = (mf)0.23570 + (embed)0.00099\n",
      "Epoch 5 (train)3.0s + (eval)0.5s: train loss = 0.23210 = (mf)0.23100 + (embed)0.00111, recall = 0.15584, ndcg = 0.34174, precision = 0.29703, map = 0.08969\n",
      "Epoch 6 (train)2.9s: train loss = 0.22394 = (mf)0.22274 + (embed)0.00120\n",
      "Epoch 7 (train)3.0s: train loss = 0.21258 = (mf)0.21126 + (embed)0.00132\n",
      "Epoch 8 (train)3.1s: train loss = 0.20166 = (mf)0.20020 + (embed)0.00146\n",
      "Epoch 9 (train)3.0s: train loss = 0.18874 = (mf)0.18712 + (embed)0.00161\n",
      "Epoch 10 (train)2.8s + (eval)0.3s: train loss = 0.18451 = (mf)0.18273 + (embed)0.00178, recall = 0.17787, ndcg = 0.38410, precision = 0.33521, map = 0.10577\n",
      "Epoch 11 (train)3.0s: train loss = 0.17410 = (mf)0.17217 + (embed)0.00193\n",
      "Epoch 12 (train)3.0s: train loss = 0.17040 = (mf)0.16833 + (embed)0.00207\n",
      "Epoch 13 (train)4.0s: train loss = 0.16702 = (mf)0.16483 + (embed)0.00219\n",
      "Epoch 14 (train)3.0s: train loss = 0.16283 = (mf)0.16052 + (embed)0.00231\n",
      "Epoch 15 (train)3.0s + (eval)0.3s: train loss = 0.16481 = (mf)0.16240 + (embed)0.00241, recall = 0.19029, ndcg = 0.40063, precision = 0.35239, map = 0.11369\n",
      "Epoch 16 (train)3.1s: train loss = 0.15999 = (mf)0.15750 + (embed)0.00249\n",
      "Epoch 17 (train)3.1s: train loss = 0.15837 = (mf)0.15578 + (embed)0.00259\n",
      "Epoch 18 (train)3.0s: train loss = 0.15713 = (mf)0.15445 + (embed)0.00268\n",
      "Epoch 19 (train)3.0s: train loss = 0.15482 = (mf)0.15205 + (embed)0.00277\n",
      "Epoch 20 (train)3.5s + (eval)0.3s: train loss = 0.15033 = (mf)0.14747 + (embed)0.00287, recall = 0.19798, ndcg = 0.42035, precision = 0.36681, map = 0.12280\n",
      "Epoch 21 (train)3.0s: train loss = 0.14697 = (mf)0.14400 + (embed)0.00297\n",
      "Epoch 22 (train)3.0s: train loss = 0.14643 = (mf)0.14335 + (embed)0.00308\n",
      "Epoch 23 (train)2.9s: train loss = 0.14328 = (mf)0.14009 + (embed)0.00319\n",
      "Epoch 24 (train)3.0s: train loss = 0.14280 = (mf)0.13952 + (embed)0.00329\n",
      "Epoch 25 (train)3.0s + (eval)0.3s: train loss = 0.13946 = (mf)0.13606 + (embed)0.00340, recall = 0.20415, ndcg = 0.43040, precision = 0.37911, map = 0.12765\n",
      "Epoch 26 (train)2.9s: train loss = 0.13822 = (mf)0.13470 + (embed)0.00352\n",
      "Epoch 27 (train)3.0s: train loss = 0.13603 = (mf)0.13241 + (embed)0.00362\n",
      "Epoch 28 (train)2.9s: train loss = 0.13417 = (mf)0.13043 + (embed)0.00374\n",
      "Epoch 29 (train)2.9s: train loss = 0.13272 = (mf)0.12887 + (embed)0.00385\n",
      "Epoch 30 (train)2.9s + (eval)0.3s: train loss = 0.12973 = (mf)0.12576 + (embed)0.00397, recall = 0.20664, ndcg = 0.43794, precision = 0.38335, map = 0.13047\n",
      "Epoch 31 (train)2.9s: train loss = 0.12582 = (mf)0.12172 + (embed)0.00410\n",
      "Epoch 32 (train)3.0s: train loss = 0.12529 = (mf)0.12107 + (embed)0.00422\n",
      "Epoch 33 (train)3.0s: train loss = 0.12473 = (mf)0.12039 + (embed)0.00433\n",
      "Epoch 34 (train)2.8s: train loss = 0.12055 = (mf)0.11609 + (embed)0.00446\n",
      "Epoch 35 (train)2.9s + (eval)0.3s: train loss = 0.11910 = (mf)0.11450 + (embed)0.00460, recall = 0.20874, ndcg = 0.44590, precision = 0.38897, map = 0.13442\n",
      "Epoch 36 (train)3.0s: train loss = 0.11901 = (mf)0.11431 + (embed)0.00471\n",
      "Epoch 37 (train)3.0s: train loss = 0.11939 = (mf)0.11457 + (embed)0.00482\n",
      "Epoch 38 (train)3.0s: train loss = 0.11475 = (mf)0.10980 + (embed)0.00495\n",
      "Epoch 39 (train)3.0s: train loss = 0.11329 = (mf)0.10821 + (embed)0.00508\n",
      "Epoch 40 (train)3.0s + (eval)0.3s: train loss = 0.11287 = (mf)0.10767 + (embed)0.00520, recall = 0.21201, ndcg = 0.45121, precision = 0.39618, map = 0.13574\n",
      "Epoch 41 (train)3.0s: train loss = 0.10988 = (mf)0.10457 + (embed)0.00531\n",
      "Epoch 42 (train)3.0s: train loss = 0.11133 = (mf)0.10588 + (embed)0.00545\n",
      "Epoch 43 (train)3.0s: train loss = 0.10687 = (mf)0.10132 + (embed)0.00555\n",
      "Epoch 44 (train)3.0s: train loss = 0.10525 = (mf)0.09957 + (embed)0.00569\n",
      "Epoch 45 (train)2.9s + (eval)0.3s: train loss = 0.10560 = (mf)0.09980 + (embed)0.00580, recall = 0.21415, ndcg = 0.45688, precision = 0.40244, map = 0.13700\n",
      "Epoch 46 (train)3.0s: train loss = 0.10427 = (mf)0.09834 + (embed)0.00593\n",
      "Epoch 47 (train)3.0s: train loss = 0.10053 = (mf)0.09447 + (embed)0.00606\n",
      "Epoch 48 (train)3.0s: train loss = 0.10109 = (mf)0.09488 + (embed)0.00620\n",
      "Epoch 49 (train)3.0s: train loss = 0.10005 = (mf)0.09373 + (embed)0.00631\n",
      "Epoch 50 (train)3.0s + (eval)0.3s: train loss = 0.10024 = (mf)0.09380 + (embed)0.00644, recall = 0.21348, ndcg = 0.45546, precision = 0.40042, map = 0.13574\n",
      "学習の時間 : 153.88213785299996 秒\n"
     ]
    }
   ],
   "source": [
    "with Timer() as train_time:\n",
    "    model.fit()\n",
    "\n",
    "print(f\"学習の時間 : {train_time.interval} 秒\")"
   ]
  },
  {
   "cell_type": "markdown",
   "metadata": {
    "id": "6raEv3qK5RcK"
   },
   "source": [
    "## Infer\n",
    "* 他の構造の似たデータに対しても実行可能"
   ]
  },
  {
   "cell_type": "code",
   "execution_count": 8,
   "metadata": {
    "colab": {
     "base_uri": "https://localhost:8080/",
     "height": 206
    },
    "id": "39Kr8YDH34JA",
    "outputId": "40698f3f-c90e-46b6-82a3-f53ac5c57583"
   },
   "outputs": [
    {
     "data": {
      "text/html": [
       "\n",
       "  <div id=\"df-da83e2cb-6fb2-428f-b51d-89d20bc283c6\">\n",
       "    <div class=\"colab-df-container\">\n",
       "      <div>\n",
       "<style scoped>\n",
       "    .dataframe tbody tr th:only-of-type {\n",
       "        vertical-align: middle;\n",
       "    }\n",
       "\n",
       "    .dataframe tbody tr th {\n",
       "        vertical-align: top;\n",
       "    }\n",
       "\n",
       "    .dataframe thead th {\n",
       "        text-align: right;\n",
       "    }\n",
       "</style>\n",
       "<table border=\"1\" class=\"dataframe\">\n",
       "  <thead>\n",
       "    <tr style=\"text-align: right;\">\n",
       "      <th></th>\n",
       "      <th>userID</th>\n",
       "      <th>itemID</th>\n",
       "      <th>prediction</th>\n",
       "    </tr>\n",
       "  </thead>\n",
       "  <tbody>\n",
       "    <tr>\n",
       "      <th>0</th>\n",
       "      <td>1</td>\n",
       "      <td>7</td>\n",
       "      <td>5.792505</td>\n",
       "    </tr>\n",
       "    <tr>\n",
       "      <th>1</th>\n",
       "      <td>1</td>\n",
       "      <td>475</td>\n",
       "      <td>5.483120</td>\n",
       "    </tr>\n",
       "    <tr>\n",
       "      <th>2</th>\n",
       "      <td>1</td>\n",
       "      <td>919</td>\n",
       "      <td>5.352050</td>\n",
       "    </tr>\n",
       "    <tr>\n",
       "      <th>3</th>\n",
       "      <td>1</td>\n",
       "      <td>89</td>\n",
       "      <td>5.296584</td>\n",
       "    </tr>\n",
       "    <tr>\n",
       "      <th>4</th>\n",
       "      <td>1</td>\n",
       "      <td>1</td>\n",
       "      <td>5.276995</td>\n",
       "    </tr>\n",
       "  </tbody>\n",
       "</table>\n",
       "</div>\n",
       "      <button class=\"colab-df-convert\" onclick=\"convertToInteractive('df-da83e2cb-6fb2-428f-b51d-89d20bc283c6')\"\n",
       "              title=\"Convert this dataframe to an interactive table.\"\n",
       "              style=\"display:none;\">\n",
       "        \n",
       "  <svg xmlns=\"http://www.w3.org/2000/svg\" height=\"24px\"viewBox=\"0 0 24 24\"\n",
       "       width=\"24px\">\n",
       "    <path d=\"M0 0h24v24H0V0z\" fill=\"none\"/>\n",
       "    <path d=\"M18.56 5.44l.94 2.06.94-2.06 2.06-.94-2.06-.94-.94-2.06-.94 2.06-2.06.94zm-11 1L8.5 8.5l.94-2.06 2.06-.94-2.06-.94L8.5 2.5l-.94 2.06-2.06.94zm10 10l.94 2.06.94-2.06 2.06-.94-2.06-.94-.94-2.06-.94 2.06-2.06.94z\"/><path d=\"M17.41 7.96l-1.37-1.37c-.4-.4-.92-.59-1.43-.59-.52 0-1.04.2-1.43.59L10.3 9.45l-7.72 7.72c-.78.78-.78 2.05 0 2.83L4 21.41c.39.39.9.59 1.41.59.51 0 1.02-.2 1.41-.59l7.78-7.78 2.81-2.81c.8-.78.8-2.07 0-2.86zM5.41 20L4 18.59l7.72-7.72 1.47 1.35L5.41 20z\"/>\n",
       "  </svg>\n",
       "      </button>\n",
       "      \n",
       "  <style>\n",
       "    .colab-df-container {\n",
       "      display:flex;\n",
       "      flex-wrap:wrap;\n",
       "      gap: 12px;\n",
       "    }\n",
       "\n",
       "    .colab-df-convert {\n",
       "      background-color: #E8F0FE;\n",
       "      border: none;\n",
       "      border-radius: 50%;\n",
       "      cursor: pointer;\n",
       "      display: none;\n",
       "      fill: #1967D2;\n",
       "      height: 32px;\n",
       "      padding: 0 0 0 0;\n",
       "      width: 32px;\n",
       "    }\n",
       "\n",
       "    .colab-df-convert:hover {\n",
       "      background-color: #E2EBFA;\n",
       "      box-shadow: 0px 1px 2px rgba(60, 64, 67, 0.3), 0px 1px 3px 1px rgba(60, 64, 67, 0.15);\n",
       "      fill: #174EA6;\n",
       "    }\n",
       "\n",
       "    [theme=dark] .colab-df-convert {\n",
       "      background-color: #3B4455;\n",
       "      fill: #D2E3FC;\n",
       "    }\n",
       "\n",
       "    [theme=dark] .colab-df-convert:hover {\n",
       "      background-color: #434B5C;\n",
       "      box-shadow: 0px 1px 3px 1px rgba(0, 0, 0, 0.15);\n",
       "      filter: drop-shadow(0px 1px 2px rgba(0, 0, 0, 0.3));\n",
       "      fill: #FFFFFF;\n",
       "    }\n",
       "  </style>\n",
       "\n",
       "      <script>\n",
       "        const buttonEl =\n",
       "          document.querySelector('#df-da83e2cb-6fb2-428f-b51d-89d20bc283c6 button.colab-df-convert');\n",
       "        buttonEl.style.display =\n",
       "          google.colab.kernel.accessAllowed ? 'block' : 'none';\n",
       "\n",
       "        async function convertToInteractive(key) {\n",
       "          const element = document.querySelector('#df-da83e2cb-6fb2-428f-b51d-89d20bc283c6');\n",
       "          const dataTable =\n",
       "            await google.colab.kernel.invokeFunction('convertToInteractive',\n",
       "                                                     [key], {});\n",
       "          if (!dataTable) return;\n",
       "\n",
       "          const docLinkHtml = 'Like what you see? Visit the ' +\n",
       "            '<a target=\"_blank\" href=https://colab.research.google.com/notebooks/data_table.ipynb>data table notebook</a>'\n",
       "            + ' to learn more about interactive tables.';\n",
       "          element.innerHTML = '';\n",
       "          dataTable['output_type'] = 'display_data';\n",
       "          await google.colab.output.renderOutput(dataTable, element);\n",
       "          const docLink = document.createElement('div');\n",
       "          docLink.innerHTML = docLinkHtml;\n",
       "          element.appendChild(docLink);\n",
       "        }\n",
       "      </script>\n",
       "    </div>\n",
       "  </div>\n",
       "  "
      ],
      "text/plain": [
       "   userID  itemID  prediction\n",
       "0       1       7    5.792505\n",
       "1       1     475    5.483120\n",
       "2       1     919    5.352050\n",
       "3       1      89    5.296584\n",
       "4       1       1    5.276995"
      ]
     },
     "execution_count": 8,
     "metadata": {},
     "output_type": "execute_result"
    }
   ],
   "source": [
    "# recommend_k_itemsにより各ユーザーに対するk個のアイテムを推薦することができる．\n",
    "# remove_seenをTrueにすると既に見たアイテムを削除することができる\n",
    "# アイテム以外に算出したランキングスコアを返す\n",
    "topk_scores = model.recommend_k_items(test, top_k=TOP_K, remove_seen=True)\n",
    "\n",
    "topk_scores.head()"
   ]
  },
  {
   "cell_type": "code",
   "execution_count": 9,
   "metadata": {
    "colab": {
     "base_uri": "https://localhost:8080/"
    },
    "id": "Bjo35Yhm4HA8",
    "outputId": "b689bed5-45a1-43be-eb30-fd93744b0b47"
   },
   "outputs": [
    {
     "name": "stdout",
     "output_type": "stream",
     "text": [
      "MAP:\t0.135738\n",
      "NDCG:\t0.455456\n",
      "Precision@K:\t0.400424\n",
      "Recall@K:\t0.213484\n"
     ]
    }
   ],
   "source": [
    "# 各指標による評価\n",
    "eval_map = map_at_k(test, topk_scores, k=TOP_K)\n",
    "eval_ndcg = ndcg_at_k(test, topk_scores, k=TOP_K)\n",
    "eval_precision = precision_at_k(test, topk_scores, k=TOP_K)\n",
    "eval_recall = recall_at_k(test, topk_scores, k=TOP_K)\n",
    "\n",
    "print(\"MAP:\\t%f\" % eval_map,\n",
    "      \"NDCG:\\t%f\" % eval_ndcg,\n",
    "      \"Precision@K:\\t%f\" % eval_precision,\n",
    "      \"Recall@K:\\t%f\" % eval_recall, sep='\\n')"
   ]
  },
  {
   "cell_type": "code",
   "execution_count": 10,
   "metadata": {
    "colab": {
     "base_uri": "https://localhost:8080/",
     "height": 17
    },
    "id": "xtxFNTfJ4MuM",
    "outputId": "29cf8bbd-30b5-4d10-f4e2-e9a7ff67384a"
   },
   "outputs": [
    {
     "data": {
      "application/scrapbook.scrap.json+json": {
       "data": 0.13573763214743403,
       "encoder": "json",
       "name": "map",
       "version": 1
      }
     },
     "metadata": {
      "scrapbook": {
       "data": true,
       "display": false,
       "name": "map"
      }
     },
     "output_type": "display_data"
    },
    {
     "data": {
      "application/scrapbook.scrap.json+json": {
       "data": 0.45545559824920634,
       "encoder": "json",
       "name": "ndcg",
       "version": 1
      }
     },
     "metadata": {
      "scrapbook": {
       "data": true,
       "display": false,
       "name": "ndcg"
      }
     },
     "output_type": "display_data"
    },
    {
     "data": {
      "application/scrapbook.scrap.json+json": {
       "data": 0.40042417815482506,
       "encoder": "json",
       "name": "precision",
       "version": 1
      }
     },
     "metadata": {
      "scrapbook": {
       "data": true,
       "display": false,
       "name": "precision"
      }
     },
     "output_type": "display_data"
    },
    {
     "data": {
      "application/scrapbook.scrap.json+json": {
       "data": 0.21348417009828158,
       "encoder": "json",
       "name": "recall",
       "version": 1
      }
     },
     "metadata": {
      "scrapbook": {
       "data": true,
       "display": false,
       "name": "recall"
      }
     },
     "output_type": "display_data"
    }
   ],
   "source": [
    "# 結果の記録\n",
    "# よく分かっていない\n",
    "sb.glue(\"map\", eval_map)\n",
    "sb.glue(\"ndcg\", eval_ndcg)\n",
    "sb.glue(\"precision\", eval_precision)\n",
    "sb.glue(\"recall\", eval_recall)"
   ]
  },
  {
   "cell_type": "code",
   "execution_count": 11,
   "metadata": {
    "id": "eIlEHlBC4QoI"
   },
   "outputs": [],
   "source": [
    "# 学習セットに含まれるユーザーとアイテムの埋め込み情報をcsvファイルで出力できる\n",
    "model.infer_embedding(user_file, item_file)"
   ]
  }
 ],
 "metadata": {
  "colab": {
   "authorship_tag": "ABX9TyOiQEJyYK+fbJoJlGGpNMnk",
   "include_colab_link": true,
   "provenance": []
  },
  "kernelspec": {
   "display_name": "Python 3 (ipykernel)",
   "language": "python",
   "name": "python3"
  },
  "language_info": {
   "codemirror_mode": {
    "name": "ipython",
    "version": 3
   },
   "file_extension": ".py",
   "mimetype": "text/x-python",
   "name": "python",
   "nbconvert_exporter": "python",
   "pygments_lexer": "ipython3",
   "version": "3.9.7"
  }
 },
 "nbformat": 4,
 "nbformat_minor": 4
}
