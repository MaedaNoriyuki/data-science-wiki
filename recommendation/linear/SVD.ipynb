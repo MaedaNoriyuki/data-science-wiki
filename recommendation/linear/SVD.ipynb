{
 "cells": [
  {
   "cell_type": "markdown",
   "id": "08ee3b1e",
   "metadata": {},
   "source": [
    "# SVD(Singular Value Decomposition)"
   ]
  },
  {
   "cell_type": "markdown",
   "id": "d7639fba-a832-4c90-ba71-c3cfd005317d",
   "metadata": {},
   "source": [
    "* 参考  \n",
    "https://github.com/microsoft/recommenders/blob/main/examples/02_model_collaborative_filtering/surprise_svd_deep_dive.ipynb\n",
    "* 次元圧縮にも使われているがレコメンドにも使える"
   ]
  },
  {
   "cell_type": "code",
   "execution_count": null,
   "id": "73a367e9-e3b0-480f-b7d6-3a5657e04cf9",
   "metadata": {},
   "outputs": [],
   "source": []
  }
 ],
 "metadata": {
  "kernelspec": {
   "display_name": "Python 3 (ipykernel)",
   "language": "python",
   "name": "python3"
  },
  "language_info": {
   "codemirror_mode": {
    "name": "ipython",
    "version": 3
   },
   "file_extension": ".py",
   "mimetype": "text/x-python",
   "name": "python",
   "nbconvert_exporter": "python",
   "pygments_lexer": "ipython3",
   "version": "3.9.7"
  }
 },
 "nbformat": 4,
 "nbformat_minor": 5
}
