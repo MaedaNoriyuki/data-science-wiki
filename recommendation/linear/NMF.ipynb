{
 "cells": [
  {
   "cell_type": "markdown",
   "id": "3ba7ea99-2ac3-4648-8d75-8b173be4e9b3",
   "metadata": {},
   "source": [
    "# 非負値行列因子分解(NMF)"
   ]
  },
  {
   "cell_type": "markdown",
   "id": "3b3fb264",
   "metadata": {},
   "source": [
    "* 負の値が含まれていない行列の掛け算形式で，元の行列を分解すること．\n",
    "* 分解する行列は最適化の手法により求める\n",
    "* 和の形で表現できるように全て正の値に変換する\n",
    "\\begin{equation}\n",
    "V \\cong W H\n",
    "\\end{equation}\n",
    "* レコメンドアルゴリズムなどで使われる"
   ]
  },
  {
   "cell_type": "code",
   "execution_count": 1,
   "id": "8c841da2-c7c8-496c-9c44-0c0019012e88",
   "metadata": {},
   "outputs": [],
   "source": [
    "from sklearn.decomposition import NMF"
   ]
  },
  {
   "cell_type": "code",
   "execution_count": null,
   "id": "51ab54a8-4248-43de-b034-26149035f2d3",
   "metadata": {},
   "outputs": [],
   "source": [
    "def nmf_decomposition(df, N):\n",
    "    nmf = NMF(n_components=n, init='random', random_state=0)\n",
    "    #Wの出力\n",
    "    W = nmf.fit_transform(df)\n",
    "    #Hの出力\n",
    "    H = nmf.components_\n",
    "    return pd.DataFrame(H)"
   ]
  }
 ],
 "metadata": {
  "kernelspec": {
   "display_name": "Python 3.9.18 ('.venv': poetry)",
   "language": "python",
   "name": "python3"
  },
  "language_info": {
   "codemirror_mode": {
    "name": "ipython",
    "version": 3
   },
   "file_extension": ".py",
   "mimetype": "text/x-python",
   "name": "python",
   "nbconvert_exporter": "python",
   "pygments_lexer": "ipython3",
   "version": "3.9.18"
  },
  "vscode": {
   "interpreter": {
    "hash": "17a011378fed683b21aba93e5dd7c0cb7beefc09c5af72c6425b40c713e260dc"
   }
  }
 },
 "nbformat": 4,
 "nbformat_minor": 5
}
