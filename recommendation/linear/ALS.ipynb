{
 "cells": [
  {
   "cell_type": "markdown",
   "id": "181bb17b-db19-4f81-af26-a76f334afa78",
   "metadata": {},
   "source": [
    "# ALS\n",
    "* pyspark実装のMF，分散環境があれば厳密計算ができるので非常に強力"
   ]
  },
  {
   "cell_type": "code",
   "execution_count": null,
   "id": "97dcf678-8c19-4dc2-beee-fb763d6f4c67",
   "metadata": {},
   "outputs": [],
   "source": []
  }
 ],
 "metadata": {
  "kernelspec": {
   "display_name": "Python 3 (ipykernel)",
   "language": "python",
   "name": "python3"
  },
  "language_info": {
   "codemirror_mode": {
    "name": "ipython",
    "version": 3
   },
   "file_extension": ".py",
   "mimetype": "text/x-python",
   "name": "python",
   "nbconvert_exporter": "python",
   "pygments_lexer": "ipython3",
   "version": "3.9.7"
  }
 },
 "nbformat": 4,
 "nbformat_minor": 5
}
