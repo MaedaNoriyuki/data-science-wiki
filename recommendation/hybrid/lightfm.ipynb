{
  "cells": [
    {
      "cell_type": "markdown",
      "metadata": {
        "id": "dp3PabTHXhNR"
      },
      "source": [
        "# LightFM"
      ]
    },
    {
      "cell_type": "markdown",
      "metadata": {
        "id": "u5reXewrXhEY"
      },
      "source": [
        "LightFMは、Pythonのためのレコメンデーションシステム構築ライブラリです。Lyst Ltdにより開発され、ハイブリッド協調フィルタリングとコンテンツベースの手法を融合していることが特徴です。\n",
        "- GitHub：https://github.com/lyst/lightfm"
      ]
    },
    {
      "cell_type": "markdown",
      "metadata": {
        "id": "lwV7UgQXXhAq"
      },
      "source": [
        "<a href=\"https://colab.research.google.com/github/fuyu-quant/data-science-wiki/blob/main/recommendation/collaborative_filtering(linear)/LightFM.ipynb\" target=\"_blank\" rel=\"noopener noreferrer\"><img src=\"https://colab.research.google.com/assets/colab-badge.svg\" alt=\"Open In Colab\"/></a>"
      ]
    },
    {
      "cell_type": "code",
      "execution_count": 1,
      "metadata": {
        "id": "RcBwcdYCXgQN"
      },
      "outputs": [],
      "source": [
        "%%capture\n",
        "!pip install lightfm"
      ]
    },
    {
      "cell_type": "code",
      "execution_count": 12,
      "metadata": {
        "id": "AZzH3QFkX_-V"
      },
      "outputs": [],
      "source": [
        "from lightfm import LightFM\n",
        "from lightfm.datasets import fetch_movielens\n",
        "from lightfm.evaluation import precision_at_k\n",
        "from lightfm.evaluation import auc_score\n",
        "\n",
        "import numpy as np"
      ]
    },
    {
      "cell_type": "markdown",
      "metadata": {
        "id": "O4wtWaZPYkQn"
      },
      "source": [
        "### データの用意"
      ]
    },
    {
      "cell_type": "code",
      "execution_count": 21,
      "metadata": {
        "colab": {
          "base_uri": "https://localhost:8080/"
        },
        "id": "WXhd6PQuXwxT",
        "outputId": "65cc82e5-4869-4d66-8667-fcbb54ec985e"
      },
      "outputs": [
        {
          "data": {
            "text/plain": [
              "{'train': <943x1682 sparse matrix of type '<class 'numpy.int32'>'\n",
              " \twith 90570 stored elements in COOrdinate format>,\n",
              " 'test': <943x1682 sparse matrix of type '<class 'numpy.int32'>'\n",
              " \twith 9430 stored elements in COOrdinate format>,\n",
              " 'item_features': <1682x1682 sparse matrix of type '<class 'numpy.float32'>'\n",
              " \twith 1682 stored elements in Compressed Sparse Row format>,\n",
              " 'item_feature_labels': array(['T', 'G', 'F', ..., 'S', 'Y', 'S'], dtype='<U1'),\n",
              " 'item_labels': array(['T', 'G', 'F', ..., 'S', 'Y', 'S'], dtype='<U1')}"
            ]
          },
          "execution_count": 21,
          "metadata": {},
          "output_type": "execute_result"
        }
      ],
      "source": [
        "data = fetch_movielens()\n",
        "data"
      ]
    },
    {
      "cell_type": "code",
      "execution_count": 22,
      "metadata": {
        "id": "HXSNNP_LbR7Q"
      },
      "outputs": [],
      "source": [
        "train = data[\"train\"]\n",
        "test = data[\"test\"]"
      ]
    },
    {
      "cell_type": "markdown",
      "metadata": {
        "id": "klxUCwtUYnTM"
      },
      "source": [
        "### LightFMの学習"
      ]
    },
    {
      "cell_type": "code",
      "execution_count": 23,
      "metadata": {
        "colab": {
          "base_uri": "https://localhost:8080/"
        },
        "id": "JnPTa91BX3lQ",
        "outputId": "557b1eef-3196-4984-8921-51af811f52ca"
      },
      "outputs": [
        {
          "data": {
            "text/plain": [
              "<lightfm.lightfm.LightFM at 0x7acffca7fd90>"
            ]
          },
          "execution_count": 23,
          "metadata": {},
          "output_type": "execute_result"
        }
      ],
      "source": [
        "model = LightFM(no_components=10,learning_rate=0.05, loss='bpr')\n",
        "model.fit(train, epochs=10)"
      ]
    },
    {
      "cell_type": "markdown",
      "metadata": {
        "id": "dHrs0nyEYrDj"
      },
      "source": [
        "### LightFMの予測\n",
        "user_ids=0に対するitem_ids 1,3,4のスコア"
      ]
    },
    {
      "cell_type": "code",
      "execution_count": 27,
      "metadata": {
        "id": "jCEc_AQeYUJh"
      },
      "outputs": [],
      "source": [
        "predict = model.predict(user_ids=0, item_ids=[1,3,4])"
      ]
    },
    {
      "cell_type": "markdown",
      "metadata": {
        "id": "qNa6Vq_gcTxr"
      },
      "source": [
        "user_ids 4,3,1に対するitem_ids 1,3,4のスコア"
      ]
    },
    {
      "cell_type": "code",
      "execution_count": 28,
      "metadata": {
        "id": "MP1weAnFYcz0"
      },
      "outputs": [],
      "source": [
        "predict = model.predict(user_ids=np.array([4,3,1]), item_ids=[1,3,4])"
      ]
    },
    {
      "cell_type": "markdown",
      "metadata": {
        "id": "cAuBlZvjb9fl"
      },
      "source": [
        "### LightFMの精度"
      ]
    },
    {
      "cell_type": "code",
      "execution_count": 29,
      "metadata": {
        "colab": {
          "base_uri": "https://localhost:8080/"
        },
        "id": "-a4vpuoea70P",
        "outputId": "47c9fef1-682f-4d02-f779-bc11c6615c0c"
      },
      "outputs": [
        {
          "name": "stdout",
          "output_type": "stream",
          "text": [
            "Precision: train:0.5913043022155762 test:0.10169672220945358\n",
            "AUC: train:0.8931999802589417 test:0.856021523475647\n"
          ]
        }
      ],
      "source": [
        "train_precision = precision_at_k(model, train, k=10).mean()\n",
        "test_precision = precision_at_k(model, test, k=10).mean()\n",
        "print(f'Precision: train:{train_precision} test:{test_precision}')\n",
        "\n",
        "train_auc = auc_score(model, train).mean()\n",
        "test_auc = auc_score(model, test).mean()\n",
        "print(f'AUC: train:{round(train_auc, 4)} test:{test_auc}')"
      ]
    },
    {
      "cell_type": "markdown",
      "metadata": {
        "id": "IGbzGOi9Z8OV"
      },
      "source": [
        "### LightFMの学習(特徴量の追加)"
      ]
    },
    {
      "cell_type": "code",
      "execution_count": 30,
      "metadata": {
        "colab": {
          "base_uri": "https://localhost:8080/"
        },
        "id": "HdgPyYC_Z4jL",
        "outputId": "17030ea3-790b-459a-fe9a-977f187a163b"
      },
      "outputs": [
        {
          "data": {
            "text/plain": [
              "<lightfm.lightfm.LightFM at 0x7acffca7c640>"
            ]
          },
          "execution_count": 30,
          "metadata": {},
          "output_type": "execute_result"
        }
      ],
      "source": [
        "model = LightFM(no_components=10,learning_rate=0.05, loss='bpr')\n",
        "\n",
        "model.fit(train, item_features=data[\"item_features\"], epochs=10)"
      ]
    },
    {
      "cell_type": "markdown",
      "metadata": {
        "id": "Zxdr4E0rZ81c"
      },
      "source": [
        "### LightFMの精度(特徴量の追加)"
      ]
    },
    {
      "cell_type": "code",
      "execution_count": 31,
      "metadata": {
        "colab": {
          "base_uri": "https://localhost:8080/"
        },
        "id": "F7DlLYlsZqJW",
        "outputId": "b0cbe00e-6a7f-4099-8ce2-cf6a82a037b7"
      },
      "outputs": [
        {
          "name": "stdout",
          "output_type": "stream",
          "text": [
            "Precision: train:0.5935313701629639 test:0.10212089121341705\n",
            "AUC: train:0.8950999975204468 test:0.8594039678573608\n"
          ]
        }
      ],
      "source": [
        "train_precision = precision_at_k(model, train, item_features=data[\"item_features\"], k=10).mean()\n",
        "test_precision = precision_at_k(model, test, item_features=data[\"item_features\"], k=10).mean()\n",
        "print(f'Precision: train:{train_precision} test:{test_precision}')\n",
        "\n",
        "train_auc = auc_score(model, train, item_features=data[\"item_features\"]).mean()\n",
        "test_auc = auc_score(model, test, item_features=data[\"item_features\"]).mean()\n",
        "print(f'AUC: train:{round(train_auc, 4)} test:{test_auc}')"
      ]
    },
    {
      "cell_type": "markdown",
      "metadata": {
        "id": "Qmd9LaJtbfH1"
      },
      "source": [
        "### embeddingの取得\n",
        "- ユーザーエンベディング...ユーザーのプロファイルや行動などから生成されるベクトル。これにより、似たようなユーザーが似たようなベクトル表現を持つようになります。\n",
        "- アイテムエンベディング...各アイテム（例えば、映画、本、商品など）の特徴から生成されるベクトル。アイテム間の類似性を捉えることができます"
      ]
    },
    {
      "cell_type": "code",
      "execution_count": 32,
      "metadata": {
        "id": "zs5Yf_3Ualcg"
      },
      "outputs": [],
      "source": [
        "user_embedding=model.user_embeddings\n",
        "item_embedding=model.item_embeddings"
      ]
    },
    {
      "cell_type": "code",
      "execution_count": 33,
      "metadata": {
        "colab": {
          "base_uri": "https://localhost:8080/"
        },
        "id": "o67HJJZhcvN2",
        "outputId": "45a3265a-caf9-4fba-c2fa-7371a18bd951"
      },
      "outputs": [
        {
          "data": {
            "text/plain": [
              "array([[ 0.07701132,  0.6027149 , -0.24873352, ..., -0.06919175,\n",
              "        -0.16990544,  0.03804904],\n",
              "       [-0.38248426, -0.67152864,  0.8305567 , ...,  0.04864725,\n",
              "        -0.5050589 , -0.29006878],\n",
              "       [-0.62503785, -0.64707345,  0.6349571 , ...,  0.0126638 ,\n",
              "        -0.05413153,  0.522939  ],\n",
              "       ...,\n",
              "       [-0.35115173, -0.01478474,  0.35465562, ..., -0.3667239 ,\n",
              "        -0.203966  ,  0.01025053],\n",
              "       [ 0.12668332, -0.53656095, -0.04400076, ...,  0.456537  ,\n",
              "         0.48252547,  0.57658076],\n",
              "       [-0.08975333,  0.8590037 , -0.701312  , ..., -0.59506   ,\n",
              "        -0.1844076 , -0.2908013 ]], dtype=float32)"
            ]
          },
          "execution_count": 33,
          "metadata": {},
          "output_type": "execute_result"
        }
      ],
      "source": [
        "user_embedding"
      ]
    }
  ],
  "metadata": {
    "colab": {
      "authorship_tag": "ABX9TyPa8HYi6AkF8BbxTValsiqC",
      "provenance": []
    },
    "kernelspec": {
      "display_name": "Python 3.9.18 ('.venv': poetry)",
      "language": "python",
      "name": "python3"
    },
    "language_info": {
      "name": "python",
      "version": "3.9.18"
    },
    "vscode": {
      "interpreter": {
        "hash": "17a011378fed683b21aba93e5dd7c0cb7beefc09c5af72c6425b40c713e260dc"
      }
    }
  },
  "nbformat": 4,
  "nbformat_minor": 0
}
