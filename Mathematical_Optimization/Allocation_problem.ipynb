{
  "nbformat": 4,
  "nbformat_minor": 0,
  "metadata": {
    "colab": {
      "name": "Allocation_problem.ipynb",
      "provenance": [],
      "authorship_tag": "ABX9TyO76OpRS9zLjawUAFsMERjz",
      "include_colab_link": true
    },
    "kernelspec": {
      "name": "python3",
      "display_name": "Python 3"
    },
    "language_info": {
      "name": "python"
    }
  },
  "cells": [
    {
      "cell_type": "markdown",
      "metadata": {
        "id": "view-in-github",
        "colab_type": "text"
      },
      "source": [
        "<a href=\"https://colab.research.google.com/github/ToumaTanaka/Data_Science/blob/main/Mathematical_Optimization/Allocation_problem.ipynb\" target=\"_parent\"><img src=\"https://colab.research.google.com/assets/colab-badge.svg\" alt=\"Open In Colab\"/></a>"
      ]
    },
    {
      "cell_type": "markdown",
      "metadata": {
        "id": "pv0zZzgMUhiX"
      },
      "source": [
        "# 割当問題\n",
        "* 0-1整数計画問題として解く(解ベクトルxの各要素を0または1のみに限定したもの)\n",
        "* PythonのソルバーであるPuLPを利用する\n",
        "* 割り当てた時の目的関数が最小になる組み合わせを探す"
      ]
    },
    {
      "cell_type": "code",
      "metadata": {
        "colab": {
          "base_uri": "https://localhost:8080/"
        },
        "id": "mEiVs390AvpY",
        "outputId": "7ade8620-eff7-4e8b-887a-41e133f9a119"
      },
      "source": [
        "!pip install pulp"
      ],
      "execution_count": 2,
      "outputs": [
        {
          "output_type": "stream",
          "name": "stdout",
          "text": [
            "Collecting pulp\n",
            "  Downloading PuLP-2.5.1-py3-none-any.whl (41.2 MB)\n",
            "\u001b[K     |████████████████████████████████| 41.2 MB 75 kB/s \n",
            "\u001b[?25hInstalling collected packages: pulp\n",
            "Successfully installed pulp-2.5.1\n"
          ]
        }
      ]
    },
    {
      "cell_type": "code",
      "metadata": {
        "id": "pSs2dk0a-UCI"
      },
      "source": [
        "import pulp\n",
        "import pandas as pd"
      ],
      "execution_count": 38,
      "outputs": []
    },
    {
      "cell_type": "code",
      "metadata": {
        "colab": {
          "base_uri": "https://localhost:8080/",
          "height": 204
        },
        "id": "oRlgRdpzCqlD",
        "outputId": "054c8ca2-c5d5-44ea-8790-b1233fc36d24"
      },
      "source": [
        "#トラックを20台と出勤者を20人とした時のデータを用意\n",
        "#scoreは資料の(出勤者の累積仕事量)×(トラックの仕事量)＋(出勤者の累積取上)×(トラックの取上)の仮想的な数値だとする\n",
        "\n",
        "df = pd.read_csv('random_score.csv')\n",
        "df.head()"
      ],
      "execution_count": 39,
      "outputs": [
        {
          "output_type": "execute_result",
          "data": {
            "text/html": [
              "<div>\n",
              "<style scoped>\n",
              "    .dataframe tbody tr th:only-of-type {\n",
              "        vertical-align: middle;\n",
              "    }\n",
              "\n",
              "    .dataframe tbody tr th {\n",
              "        vertical-align: top;\n",
              "    }\n",
              "\n",
              "    .dataframe thead th {\n",
              "        text-align: right;\n",
              "    }\n",
              "</style>\n",
              "<table border=\"1\" class=\"dataframe\">\n",
              "  <thead>\n",
              "    <tr style=\"text-align: right;\">\n",
              "      <th></th>\n",
              "      <th>Track</th>\n",
              "      <th>driver</th>\n",
              "      <th>score</th>\n",
              "    </tr>\n",
              "  </thead>\n",
              "  <tbody>\n",
              "    <tr>\n",
              "      <th>0</th>\n",
              "      <td>1</td>\n",
              "      <td>1</td>\n",
              "      <td>73</td>\n",
              "    </tr>\n",
              "    <tr>\n",
              "      <th>1</th>\n",
              "      <td>1</td>\n",
              "      <td>2</td>\n",
              "      <td>34</td>\n",
              "    </tr>\n",
              "    <tr>\n",
              "      <th>2</th>\n",
              "      <td>1</td>\n",
              "      <td>3</td>\n",
              "      <td>26</td>\n",
              "    </tr>\n",
              "    <tr>\n",
              "      <th>3</th>\n",
              "      <td>1</td>\n",
              "      <td>4</td>\n",
              "      <td>42</td>\n",
              "    </tr>\n",
              "    <tr>\n",
              "      <th>4</th>\n",
              "      <td>1</td>\n",
              "      <td>5</td>\n",
              "      <td>37</td>\n",
              "    </tr>\n",
              "  </tbody>\n",
              "</table>\n",
              "</div>"
            ],
            "text/plain": [
              "   Track  driver  score\n",
              "0      1       1     73\n",
              "1      1       2     34\n",
              "2      1       3     26\n",
              "3      1       4     42\n",
              "4      1       5     37"
            ]
          },
          "metadata": {},
          "execution_count": 39
        }
      ]
    },
    {
      "cell_type": "code",
      "metadata": {
        "colab": {
          "base_uri": "https://localhost:8080/",
          "height": 204
        },
        "id": "X86-A_7vC2GA",
        "outputId": "a6251d3f-35b2-4c7b-d212-a9bbd44d0a96"
      },
      "source": [
        "df['Var'] = [pulp.LpVariable(f'x{df.Track[L]}_{df.driver[L]}',cat=\"Binary\") for L in df.index]\n",
        "df.head()"
      ],
      "execution_count": 40,
      "outputs": [
        {
          "output_type": "execute_result",
          "data": {
            "text/html": [
              "<div>\n",
              "<style scoped>\n",
              "    .dataframe tbody tr th:only-of-type {\n",
              "        vertical-align: middle;\n",
              "    }\n",
              "\n",
              "    .dataframe tbody tr th {\n",
              "        vertical-align: top;\n",
              "    }\n",
              "\n",
              "    .dataframe thead th {\n",
              "        text-align: right;\n",
              "    }\n",
              "</style>\n",
              "<table border=\"1\" class=\"dataframe\">\n",
              "  <thead>\n",
              "    <tr style=\"text-align: right;\">\n",
              "      <th></th>\n",
              "      <th>Track</th>\n",
              "      <th>driver</th>\n",
              "      <th>score</th>\n",
              "      <th>Var</th>\n",
              "    </tr>\n",
              "  </thead>\n",
              "  <tbody>\n",
              "    <tr>\n",
              "      <th>0</th>\n",
              "      <td>1</td>\n",
              "      <td>1</td>\n",
              "      <td>73</td>\n",
              "      <td>x1_1</td>\n",
              "    </tr>\n",
              "    <tr>\n",
              "      <th>1</th>\n",
              "      <td>1</td>\n",
              "      <td>2</td>\n",
              "      <td>34</td>\n",
              "      <td>x1_2</td>\n",
              "    </tr>\n",
              "    <tr>\n",
              "      <th>2</th>\n",
              "      <td>1</td>\n",
              "      <td>3</td>\n",
              "      <td>26</td>\n",
              "      <td>x1_3</td>\n",
              "    </tr>\n",
              "    <tr>\n",
              "      <th>3</th>\n",
              "      <td>1</td>\n",
              "      <td>4</td>\n",
              "      <td>42</td>\n",
              "      <td>x1_4</td>\n",
              "    </tr>\n",
              "    <tr>\n",
              "      <th>4</th>\n",
              "      <td>1</td>\n",
              "      <td>5</td>\n",
              "      <td>37</td>\n",
              "      <td>x1_5</td>\n",
              "    </tr>\n",
              "  </tbody>\n",
              "</table>\n",
              "</div>"
            ],
            "text/plain": [
              "   Track  driver  score   Var\n",
              "0      1       1     73  x1_1\n",
              "1      1       2     34  x1_2\n",
              "2      1       3     26  x1_3\n",
              "3      1       4     42  x1_4\n",
              "4      1       5     37  x1_5"
            ]
          },
          "metadata": {},
          "execution_count": 40
        }
      ]
    },
    {
      "cell_type": "code",
      "metadata": {
        "id": "FMAjDcEeDmYW"
      },
      "source": [
        "#最小値探索のモデルを定義\n",
        "problem = pulp.LpProblem('割り当て問題', sense=pulp.LpMinimize)\n",
        "\n",
        "#定義したモデルに制約式を追加\n",
        "#トラックとドライバーの数が違う時ダミーの数値が同じ値をおく\n",
        "#ドライバー1人にトラック一台を割り当てる制約\n",
        "for j, v in df.groupby('driver'):\n",
        "  problem += pulp.lpSum(v.Var) == 1\n",
        "#トラック一台に1人だけ割り当てる\n",
        "for i, v in df.groupby('Track'):\n",
        "  problem += pulp.lpSum(v.Var) == 1\n",
        "\n",
        "#定義したモデルに目的関数を追加\n",
        "problem += pulp.lpDot(df.score,df.Var)"
      ],
      "execution_count": 41,
      "outputs": []
    },
    {
      "cell_type": "code",
      "metadata": {
        "colab": {
          "base_uri": "https://localhost:8080/"
        },
        "id": "p1vMd5WoGM3Q",
        "outputId": "ba9ac537-dc79-4d80-edb3-ce432c50aad1"
      },
      "source": [
        "#解を求める\n",
        "result = problem.solve()\n",
        "\n",
        "#最適解が求められたか表示(最適解なら'optimal'と表示される)\n",
        "print(pulp.LpStatus[result])\n",
        "\n",
        "#目的関数の値を表示\n",
        "print(pulp.value(problem.objective))\n",
        "\n",
        "#最適化結果をデータフレームに追加\n",
        "df['Val'] = df.Var.apply(pulp.value)"
      ],
      "execution_count": 42,
      "outputs": [
        {
          "output_type": "stream",
          "name": "stdout",
          "text": [
            "Optimal\n",
            "159.0\n"
          ]
        }
      ]
    },
    {
      "cell_type": "code",
      "metadata": {
        "colab": {
          "base_uri": "https://localhost:8080/",
          "height": 204
        },
        "id": "17_aPkt-HPYd",
        "outputId": "a43d9c1b-6b61-4f9b-f9a1-d4f0bd97824c"
      },
      "source": [
        "df.head()"
      ],
      "execution_count": 43,
      "outputs": [
        {
          "output_type": "execute_result",
          "data": {
            "text/html": [
              "<div>\n",
              "<style scoped>\n",
              "    .dataframe tbody tr th:only-of-type {\n",
              "        vertical-align: middle;\n",
              "    }\n",
              "\n",
              "    .dataframe tbody tr th {\n",
              "        vertical-align: top;\n",
              "    }\n",
              "\n",
              "    .dataframe thead th {\n",
              "        text-align: right;\n",
              "    }\n",
              "</style>\n",
              "<table border=\"1\" class=\"dataframe\">\n",
              "  <thead>\n",
              "    <tr style=\"text-align: right;\">\n",
              "      <th></th>\n",
              "      <th>Track</th>\n",
              "      <th>driver</th>\n",
              "      <th>score</th>\n",
              "      <th>Var</th>\n",
              "      <th>Val</th>\n",
              "    </tr>\n",
              "  </thead>\n",
              "  <tbody>\n",
              "    <tr>\n",
              "      <th>0</th>\n",
              "      <td>1</td>\n",
              "      <td>1</td>\n",
              "      <td>73</td>\n",
              "      <td>x1_1</td>\n",
              "      <td>0.0</td>\n",
              "    </tr>\n",
              "    <tr>\n",
              "      <th>1</th>\n",
              "      <td>1</td>\n",
              "      <td>2</td>\n",
              "      <td>34</td>\n",
              "      <td>x1_2</td>\n",
              "      <td>0.0</td>\n",
              "    </tr>\n",
              "    <tr>\n",
              "      <th>2</th>\n",
              "      <td>1</td>\n",
              "      <td>3</td>\n",
              "      <td>26</td>\n",
              "      <td>x1_3</td>\n",
              "      <td>0.0</td>\n",
              "    </tr>\n",
              "    <tr>\n",
              "      <th>3</th>\n",
              "      <td>1</td>\n",
              "      <td>4</td>\n",
              "      <td>42</td>\n",
              "      <td>x1_4</td>\n",
              "      <td>0.0</td>\n",
              "    </tr>\n",
              "    <tr>\n",
              "      <th>4</th>\n",
              "      <td>1</td>\n",
              "      <td>5</td>\n",
              "      <td>37</td>\n",
              "      <td>x1_5</td>\n",
              "      <td>0.0</td>\n",
              "    </tr>\n",
              "  </tbody>\n",
              "</table>\n",
              "</div>"
            ],
            "text/plain": [
              "   Track  driver  score   Var  Val\n",
              "0      1       1     73  x1_1  0.0\n",
              "1      1       2     34  x1_2  0.0\n",
              "2      1       3     26  x1_3  0.0\n",
              "3      1       4     42  x1_4  0.0\n",
              "4      1       5     37  x1_5  0.0"
            ]
          },
          "metadata": {},
          "execution_count": 43
        }
      ]
    },
    {
      "cell_type": "code",
      "metadata": {
        "colab": {
          "base_uri": "https://localhost:8080/"
        },
        "id": "YtPMrz-cHeaH",
        "outputId": "ee67b586-323e-45f1-d269-6eb2b231e977"
      },
      "source": [
        "print(df[df.Val > 0][['Track', 'driver', 'score']])"
      ],
      "execution_count": 44,
      "outputs": [
        {
          "output_type": "stream",
          "name": "stdout",
          "text": [
            "     Track  driver  score\n",
            "9        1      10     16\n",
            "35       2      16     15\n",
            "56       3      17      3\n",
            "65       4       6      6\n",
            "88       5       9     14\n",
            "103      6       4      5\n",
            "122      7       3      2\n",
            "150      8      11      4\n",
            "167      9       8      3\n",
            "184     10       5      3\n",
            "211     11      12      2\n",
            "220     12       1     12\n",
            "258     13      19      6\n",
            "274     14      15      1\n",
            "281     15       2     15\n",
            "306     16       7      9\n",
            "332     17      13     23\n",
            "359     18      20      2\n",
            "377     19      18     12\n",
            "393     20      14      6\n"
          ]
        }
      ]
    }
  ]
}