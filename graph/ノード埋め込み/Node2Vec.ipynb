{
 "cells": [
  {
   "cell_type": "markdown",
   "id": "e96a7dd3-8fad-40f4-8ebc-9998b6390686",
   "metadata": {},
   "source": [
    "# Node2vec"
   ]
  },
  {
   "cell_type": "code",
   "execution_count": null,
   "id": "867696a1-0330-4623-95fe-1d9c9e87dae5",
   "metadata": {},
   "outputs": [],
   "source": []
  }
 ],
 "metadata": {
  "kernelspec": {
   "display_name": "Python 3 (ipykernel)",
   "language": "python",
   "name": "python3"
  },
  "language_info": {
   "codemirror_mode": {
    "name": "ipython",
    "version": 3
   },
   "file_extension": ".py",
   "mimetype": "text/x-python",
   "name": "python",
   "nbconvert_exporter": "python",
   "pygments_lexer": "ipython3",
   "version": "3.9.7"
  }
 },
 "nbformat": 4,
 "nbformat_minor": 5
}
