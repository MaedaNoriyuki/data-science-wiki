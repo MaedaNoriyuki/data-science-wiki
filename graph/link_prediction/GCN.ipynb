{
 "cells": [
  {
   "cell_type": "markdown",
   "id": "799fc05d",
   "metadata": {},
   "source": [
    "# Graph Convolutional Networks"
   ]
  },
  {
   "cell_type": "code",
   "execution_count": null,
   "id": "db2df721-a6d1-4c79-98ae-2e4a2b6ebc70",
   "metadata": {},
   "outputs": [],
   "source": []
  }
 ],
 "metadata": {
  "kernelspec": {
   "display_name": "Python 3 (ipykernel)",
   "language": "python",
   "name": "python3"
  },
  "language_info": {
   "codemirror_mode": {
    "name": "ipython",
    "version": 3
   },
   "file_extension": ".py",
   "mimetype": "text/x-python",
   "name": "python",
   "nbconvert_exporter": "python",
   "pygments_lexer": "ipython3",
   "version": "3.9.7"
  }
 },
 "nbformat": 4,
 "nbformat_minor": 5
}
