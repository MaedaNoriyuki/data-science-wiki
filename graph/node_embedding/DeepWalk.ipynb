{
 "cells": [
  {
   "cell_type": "markdown",
   "id": "6b7df0ae-4995-4587-9b1c-d2fb934d7915",
   "metadata": {},
   "source": [
    "# DeepWalk"
   ]
  },
  {
   "cell_type": "markdown",
   "id": "0a2773f0",
   "metadata": {},
   "source": [
    "* https://qiita.com/kk31108424/items/e05b32c1161f1e309328"
   ]
  },
  {
   "cell_type": "code",
   "execution_count": null,
   "id": "380b8117-6084-4781-a60c-c320d71fd21f",
   "metadata": {},
   "outputs": [],
   "source": []
  }
 ],
 "metadata": {
  "kernelspec": {
   "display_name": "Python 3.9.16 64-bit",
   "language": "python",
   "name": "python3"
  },
  "language_info": {
   "codemirror_mode": {
    "name": "ipython",
    "version": 3
   },
   "file_extension": ".py",
   "mimetype": "text/x-python",
   "name": "python",
   "nbconvert_exporter": "python",
   "pygments_lexer": "ipython3",
   "version": "3.9.16"
  },
  "vscode": {
   "interpreter": {
    "hash": "31f2aee4e71d21fbe5cf8b01ff0e069b9275f58929596ceb00d14d90e3e16cd6"
   }
  }
 },
 "nbformat": 4,
 "nbformat_minor": 5
}
