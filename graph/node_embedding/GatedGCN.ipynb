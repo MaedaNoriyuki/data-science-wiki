{
 "cells": [
  {
   "cell_type": "markdown",
   "id": "42c1b163-b26d-4aef-9d5c-103f625a0ef1",
   "metadata": {},
   "source": [
    "# GatedGCNs"
   ]
  },
  {
   "cell_type": "markdown",
   "id": "b95c7821",
   "metadata": {},
   "source": [
    "* https://wandb.ai/wandb_fc/japanese/reports/-1-GatedGCN---Vmlldzo0MjI5ODQ\n",
    "* https://github.com/Atcold/pytorch-Deep-Learning/blob/master/16-gated_GCN.ipynb"
   ]
  },
  {
   "cell_type": "code",
   "execution_count": null,
   "id": "16002595-4449-43df-b191-04aadae3ac2c",
   "metadata": {},
   "outputs": [],
   "source": []
  }
 ],
 "metadata": {
  "kernelspec": {
   "display_name": "Python 3.9.18 ('.venv': poetry)",
   "language": "python",
   "name": "python3"
  },
  "language_info": {
   "codemirror_mode": {
    "name": "ipython",
    "version": 3
   },
   "file_extension": ".py",
   "mimetype": "text/x-python",
   "name": "python",
   "nbconvert_exporter": "python",
   "pygments_lexer": "ipython3",
   "version": "3.9.18"
  },
  "vscode": {
   "interpreter": {
    "hash": "17a011378fed683b21aba93e5dd7c0cb7beefc09c5af72c6425b40c713e260dc"
   }
  }
 },
 "nbformat": 4,
 "nbformat_minor": 5
}
