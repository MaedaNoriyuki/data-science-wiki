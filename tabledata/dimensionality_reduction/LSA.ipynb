{
 "cells": [
  {
   "cell_type": "markdown",
   "id": "e7408a55",
   "metadata": {},
   "source": [
    "# LSA(潜在意味解析)"
   ]
  },
  {
   "cell_type": "markdown",
   "id": "48cf6fab-8816-4044-907d-1cc85a187718",
   "metadata": {},
   "source": [
    "* SVD(特異値分解)を使った次元圧縮法で，別名TruncatedSVDとも呼ばれる．(特異値を閾値を決めて取り払うため)\n",
    "* 解説  \n",
    "https://qiita.com/Hatomugi/items/d6c8bb1a049d3a84feaa#lsa%E6%BD%9C%E5%9C%A8%E6%84%8F%E5%91%B3%E8%A7%A3%E6%9E%90-or-truncated-svd\n",
    "* 主成分分析とほぼ同じだが特異値分解の方が数値的に安定している  \n",
    "(https://math.stackexchange.com/questions/3869/what-is-the-intuitive-relationship-between-svd-and-pca)"
   ]
  },
  {
   "cell_type": "code",
   "execution_count": 1,
   "id": "6ace3321-012b-459e-8f82-9b5ed9baf96e",
   "metadata": {},
   "outputs": [
    {
     "name": "stdout",
     "output_type": "stream",
     "text": [
      "Before: [[100 100   0   0]\n",
      " [ 90  90   0   0]\n",
      " [  0   0 100 100]]\n",
      "This is matrix after dimentionality reduction: [[141.42135624   0.        ]\n",
      " [127.27922061   0.        ]\n",
      " [ -0.         141.42135624]]\n"
     ]
    }
   ],
   "source": [
    "import numpy as np\n",
    "from sklearn.decomposition import TruncatedSVD\n",
    "\n",
    "np.set_printoptions(suppress=True)\n",
    "\n",
    "A = np.array([[100,100,0,0],[90,90,0,0],[0,0,100,100]])\n",
    "print(\"Before: \" + str(A))\n",
    "\n",
    "# SVD\n",
    "svd = TruncatedSVD(n_components=2, n_iter=7, random_state=42)\n",
    "svd.fit(A)\n",
    "\n",
    "X = svd.transform(A)\n",
    "\n",
    "print(\"This is matrix after dimentionality reduction: \" + str(X))\n"
   ]
  }
 ],
 "metadata": {
  "kernelspec": {
   "display_name": "Python 3 (ipykernel)",
   "language": "python",
   "name": "python3"
  },
  "language_info": {
   "codemirror_mode": {
    "name": "ipython",
    "version": 3
   },
   "file_extension": ".py",
   "mimetype": "text/x-python",
   "name": "python",
   "nbconvert_exporter": "python",
   "pygments_lexer": "ipython3",
   "version": "3.9.7"
  }
 },
 "nbformat": 4,
 "nbformat_minor": 5
}
