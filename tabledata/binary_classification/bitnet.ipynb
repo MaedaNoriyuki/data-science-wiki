{
  "nbformat": 4,
  "nbformat_minor": 0,
  "metadata": {
    "colab": {
      "provenance": [],
      "authorship_tag": "ABX9TyPBj57vlQE1jDcvBWFwZeC6"
    },
    "kernelspec": {
      "name": "python3",
      "display_name": "Python 3"
    },
    "language_info": {
      "name": "python"
    }
  },
  "cells": [
    {
      "cell_type": "markdown",
      "source": [
        "# MLP(BitNet)"
      ],
      "metadata": {
        "id": "8gVwh2iYmMAl"
      }
    },
    {
      "cell_type": "markdown",
      "source": [
        "* https://github.com/kyegomez/BitNet"
      ],
      "metadata": {
        "id": "i0hwmzOmmKg3"
      }
    },
    {
      "cell_type": "markdown",
      "source": [
        "<a href=\"https://colab.research.google.com/github/fuyu-quant/data-science-wiki/blob/main/tabledata/binary_classification/bitnet.ipynb\" target=\"_blank\" rel=\"noopener noreferrer\"><img src=\"https://colab.research.google.com/assets/colab-badge.svg\" alt=\"Open In Colab\"/></a>"
      ],
      "metadata": {
        "id": "HZdmSlWk-xXO"
      }
    },
    {
      "cell_type": "code",
      "execution_count": null,
      "metadata": {
        "id": "FVnftGBAYu0i"
      },
      "outputs": [],
      "source": [
        "%%capture\n",
        "%pip install bitnet\n",
        "%pip install loguru"
      ]
    },
    {
      "cell_type": "code",
      "source": [
        "import seaborn as sns\n",
        "import torch\n",
        "import torch.nn as nn\n",
        "import torch.optim as optim\n",
        "from sklearn.model_selection import train_test_split\n",
        "from sklearn.preprocessing import StandardScaler\n",
        "from torch.utils.data import DataLoader, TensorDataset\n",
        "\n",
        "\n",
        "from bitnet import BitLinear"
      ],
      "metadata": {
        "id": "vlyPXDtAomcd"
      },
      "execution_count": 33,
      "outputs": []
    },
    {
      "cell_type": "markdown",
      "source": [
        "### データセットの用意"
      ],
      "metadata": {
        "id": "xtlT_lr0pT_O"
      }
    },
    {
      "cell_type": "code",
      "source": [
        "df = sns.load_dataset('titanic')\n",
        "\n",
        "df = df[['survived', 'pclass', 'sex', 'age', 'sibsp', 'parch', 'fare']]\n",
        "df['sex'] = df['sex'].map({'male': 0, 'female': 1})\n",
        "df.dropna(inplace=True)\n",
        "\n",
        "X = df.drop('survived', axis=1).values\n",
        "y = df['survived'].values\n",
        "\n",
        "scaler = StandardScaler()\n",
        "X_scaled = scaler.fit_transform(X)\n",
        "\n",
        "X_train, X_test, y_train, y_test = train_test_split(X_scaled, y, test_size=0.2, random_state=42)\n",
        "\n",
        "X_train_tensor = torch.tensor(X_train, dtype=torch.float)\n",
        "y_train_tensor = torch.tensor(y_train, dtype=torch.long)\n",
        "X_test_tensor = torch.tensor(X_test, dtype=torch.float)\n",
        "y_test_tensor = torch.tensor(y_test, dtype=torch.long)\n",
        "\n",
        "train_dataset = TensorDataset(X_train_tensor, y_train_tensor)\n",
        "train_loader = DataLoader(train_dataset, batch_size=64, shuffle=True)"
      ],
      "metadata": {
        "id": "Dp0199pspWI1"
      },
      "execution_count": null,
      "outputs": []
    },
    {
      "cell_type": "markdown",
      "source": [
        "## 通常のNN"
      ],
      "metadata": {
        "id": "Kg-mQ0hDplhh"
      }
    },
    {
      "cell_type": "code",
      "source": [
        "class NormalModel(nn.Module):\n",
        "    def __init__(self):\n",
        "        super(NormalModel, self).__init__()\n",
        "        self.fc1 = nn.Linear(6, 64)  # 入力層から隠れ層へ\n",
        "        self.relu = nn.ReLU()\n",
        "        self.fc2 = nn.Linear(64, 2)  # 隠れ層から出力層へ\n",
        "\n",
        "    def forward(self, x):\n",
        "        x = self.relu(self.fc1(x))\n",
        "        x = self.fc2(x)\n",
        "        return x\n",
        "\n",
        "normal_model = NormalModel()"
      ],
      "metadata": {
        "id": "zUch247DpnVC"
      },
      "execution_count": 63,
      "outputs": []
    },
    {
      "cell_type": "markdown",
      "source": [
        "## BitNet"
      ],
      "metadata": {
        "id": "OwkZrGwgp0JX"
      }
    },
    {
      "cell_type": "code",
      "source": [
        "class BitNetModel(nn.Module):\n",
        "    def __init__(self):\n",
        "        super(BitNetModel, self).__init__()\n",
        "        self.fc1 = BitLinear(6, 64)\n",
        "        self.relu = nn.ReLU()\n",
        "        self.fc2 = BitLinear(64, 2)\n",
        "\n",
        "    def forward(self, x):\n",
        "        x = self.relu(self.fc1(x))\n",
        "        x = self.fc2(x)\n",
        "        return x\n",
        "\n",
        "bitnet_model = BitNetModel()"
      ],
      "metadata": {
        "id": "utwnlXKCp4VM"
      },
      "execution_count": 64,
      "outputs": []
    },
    {
      "cell_type": "markdown",
      "source": [
        "### モデルの学習"
      ],
      "metadata": {
        "id": "DlOJtiiUypGJ"
      }
    },
    {
      "cell_type": "code",
      "source": [
        "def train(model, train_loader, num_epochs):\n",
        "    criterion = nn.CrossEntropyLoss()\n",
        "    optimizer = optim.Adam(model.parameters(), lr=0.001)\n",
        "\n",
        "    for epoch in range(num_epochs):\n",
        "        for inputs, labels in train_loader:\n",
        "            optimizer.zero_grad()\n",
        "            outputs = model(inputs)\n",
        "            loss = criterion(outputs, labels)\n",
        "            loss.backward()\n",
        "            optimizer.step()\n",
        "\n",
        "        if (epoch+1) % 10 == 0:\n",
        "            #print(f'Epoch [{epoch+1}/{num_epochs}], Loss: {loss.item():.4f}')\n",
        "            with torch.no_grad():\n",
        "                correct = 0\n",
        "                total = 0\n",
        "                outputs = model(X_test_tensor)\n",
        "                _, predicted = torch.max(outputs.data, 1)\n",
        "                total += y_test_tensor.size(0)\n",
        "                correct += (predicted == y_test_tensor).sum().item()\n",
        "            print(f'Accuracy: {100 * correct / total:.2f}%')\n",
        "    return"
      ],
      "metadata": {
        "id": "c6jsEY8PpIT8"
      },
      "execution_count": 123,
      "outputs": []
    },
    {
      "cell_type": "code",
      "source": [
        "num_epochs = 100"
      ],
      "metadata": {
        "id": "BvUloNzHz5Iz"
      },
      "execution_count": 124,
      "outputs": []
    },
    {
      "cell_type": "code",
      "source": [
        "train(normal_model, train_loader, num_epochs)"
      ],
      "metadata": {
        "colab": {
          "base_uri": "https://localhost:8080/"
        },
        "id": "XxQ77kGYy1s5",
        "outputId": "e2f6702d-8a4a-45a3-90c5-d69b4ed12de4"
      },
      "execution_count": 125,
      "outputs": [
        {
          "output_type": "stream",
          "name": "stdout",
          "text": [
            "Accuracy: 79.72%\n",
            "Accuracy: 80.42%\n",
            "Accuracy: 79.02%\n",
            "Accuracy: 79.02%\n",
            "Accuracy: 79.02%\n",
            "Accuracy: 79.72%\n",
            "Accuracy: 78.32%\n",
            "Accuracy: 79.02%\n",
            "Accuracy: 79.02%\n",
            "Accuracy: 79.72%\n"
          ]
        }
      ]
    },
    {
      "cell_type": "code",
      "source": [
        "train(bitnet_model, train_loader, num_epochs)"
      ],
      "metadata": {
        "colab": {
          "base_uri": "https://localhost:8080/"
        },
        "id": "M7IbUEtYyNnp",
        "outputId": "77476f0d-7f69-4919-b718-87dfe74a4193"
      },
      "execution_count": 126,
      "outputs": [
        {
          "output_type": "stream",
          "name": "stdout",
          "text": [
            "Accuracy: 75.52%\n",
            "Accuracy: 74.13%\n",
            "Accuracy: 74.13%\n",
            "Accuracy: 74.13%\n",
            "Accuracy: 74.13%\n",
            "Accuracy: 74.13%\n",
            "Accuracy: 74.13%\n",
            "Accuracy: 74.13%\n",
            "Accuracy: 76.22%\n",
            "Accuracy: 75.52%\n"
          ]
        }
      ]
    },
    {
      "cell_type": "code",
      "source": [],
      "metadata": {
        "id": "V0mb0j9w6AES"
      },
      "execution_count": null,
      "outputs": []
    }
  ]
}