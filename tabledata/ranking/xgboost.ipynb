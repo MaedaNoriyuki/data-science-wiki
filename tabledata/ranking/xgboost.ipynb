{
 "cells": [
  {
   "cell_type": "markdown",
   "metadata": {},
   "source": [
    "# XGBoost"
   ]
  },
  {
   "cell_type": "markdown",
   "metadata": {},
   "source": [
    "XGBoostを使ったランキング学習\n",
    "* https://xgboost.readthedocs.io/en/latest/python/examples/learning_to_rank.html#sphx-glr-python-examples-learning-to-rank-py"
   ]
  },
  {
   "cell_type": "markdown",
   "metadata": {},
   "source": [
    "<a href=\"https://colab.research.google.com/github/fuyu-quant/data-science-wiki/blob/develop/tabledata/ranking/xgboost.ipynb\" target=\"_blank\" rel=\"noopener noreferrer\"><img src=\"https://colab.research.google.com/assets/colab-badge.svg\" alt=\"Open In Colab\"/></a>"
   ]
  },
  {
   "cell_type": "code",
   "execution_count": null,
   "metadata": {},
   "outputs": [],
   "source": [
    "%%capture\n",
    "!pip install --upgrade xgboost"
   ]
  },
  {
   "cell_type": "code",
   "execution_count": 9,
   "metadata": {},
   "outputs": [],
   "source": [
    "from sklearn.datasets import make_classification\n",
    "import numpy as np\n",
    "import pandas as pd\n",
    "\n",
    "import xgboost as xgb"
   ]
  },
  {
   "cell_type": "markdown",
   "metadata": {},
   "source": [
    "### データセットの作成\n",
    "- 各データについて\n",
    "    - qid:各データのグループ化する識別子(ユーザー情報など)，説明変数ではなくランキングをする際に参照する\n",
    "    - Relevance Score:目的変数"
   ]
  },
  {
   "cell_type": "code",
   "execution_count": 19,
   "metadata": {},
   "outputs": [
    {
     "data": {
      "text/html": [
       "<div>\n",
       "<style scoped>\n",
       "    .dataframe tbody tr th:only-of-type {\n",
       "        vertical-align: middle;\n",
       "    }\n",
       "\n",
       "    .dataframe tbody tr th {\n",
       "        vertical-align: top;\n",
       "    }\n",
       "\n",
       "    .dataframe thead th {\n",
       "        text-align: right;\n",
       "    }\n",
       "</style>\n",
       "<table border=\"1\" class=\"dataframe\">\n",
       "  <thead>\n",
       "    <tr style=\"text-align: right;\">\n",
       "      <th></th>\n",
       "      <th>0</th>\n",
       "      <th>1</th>\n",
       "      <th>2</th>\n",
       "      <th>3</th>\n",
       "      <th>4</th>\n",
       "      <th>5</th>\n",
       "      <th>6</th>\n",
       "      <th>7</th>\n",
       "      <th>8</th>\n",
       "      <th>9</th>\n",
       "      <th>...</th>\n",
       "      <th>12</th>\n",
       "      <th>13</th>\n",
       "      <th>14</th>\n",
       "      <th>15</th>\n",
       "      <th>16</th>\n",
       "      <th>17</th>\n",
       "      <th>18</th>\n",
       "      <th>19</th>\n",
       "      <th>Relevance Score</th>\n",
       "      <th>qid</th>\n",
       "    </tr>\n",
       "  </thead>\n",
       "  <tbody>\n",
       "    <tr>\n",
       "      <th>0</th>\n",
       "      <td>1.290693</td>\n",
       "      <td>1.416972</td>\n",
       "      <td>0.311624</td>\n",
       "      <td>-0.321043</td>\n",
       "      <td>-0.440702</td>\n",
       "      <td>-0.823294</td>\n",
       "      <td>-1.673228</td>\n",
       "      <td>0.202391</td>\n",
       "      <td>-2.505758</td>\n",
       "      <td>-0.085083</td>\n",
       "      <td>...</td>\n",
       "      <td>1.069398</td>\n",
       "      <td>-1.515416</td>\n",
       "      <td>-0.257536</td>\n",
       "      <td>-2.283387</td>\n",
       "      <td>-1.010772</td>\n",
       "      <td>0.504195</td>\n",
       "      <td>1.271866</td>\n",
       "      <td>1.042980</td>\n",
       "      <td>1</td>\n",
       "      <td>0</td>\n",
       "    </tr>\n",
       "    <tr>\n",
       "      <th>1</th>\n",
       "      <td>0.374348</td>\n",
       "      <td>-1.132970</td>\n",
       "      <td>0.841416</td>\n",
       "      <td>-0.485837</td>\n",
       "      <td>-0.711883</td>\n",
       "      <td>-0.823499</td>\n",
       "      <td>-0.681930</td>\n",
       "      <td>-0.042279</td>\n",
       "      <td>1.187146</td>\n",
       "      <td>-1.514537</td>\n",
       "      <td>...</td>\n",
       "      <td>1.606523</td>\n",
       "      <td>-0.077827</td>\n",
       "      <td>2.009051</td>\n",
       "      <td>-0.511834</td>\n",
       "      <td>0.862724</td>\n",
       "      <td>0.130596</td>\n",
       "      <td>-0.958867</td>\n",
       "      <td>1.611975</td>\n",
       "      <td>0</td>\n",
       "      <td>0</td>\n",
       "    </tr>\n",
       "    <tr>\n",
       "      <th>2</th>\n",
       "      <td>-1.497527</td>\n",
       "      <td>0.858449</td>\n",
       "      <td>-1.617516</td>\n",
       "      <td>0.608672</td>\n",
       "      <td>0.026382</td>\n",
       "      <td>-0.353365</td>\n",
       "      <td>-0.859686</td>\n",
       "      <td>-0.934579</td>\n",
       "      <td>-0.134187</td>\n",
       "      <td>-1.057230</td>\n",
       "      <td>...</td>\n",
       "      <td>0.460180</td>\n",
       "      <td>-0.819763</td>\n",
       "      <td>-1.573229</td>\n",
       "      <td>2.137575</td>\n",
       "      <td>-0.362956</td>\n",
       "      <td>0.021410</td>\n",
       "      <td>-0.948340</td>\n",
       "      <td>-1.432481</td>\n",
       "      <td>1</td>\n",
       "      <td>0</td>\n",
       "    </tr>\n",
       "    <tr>\n",
       "      <th>3</th>\n",
       "      <td>-0.087340</td>\n",
       "      <td>0.004130</td>\n",
       "      <td>0.830821</td>\n",
       "      <td>0.601432</td>\n",
       "      <td>-0.043620</td>\n",
       "      <td>1.114204</td>\n",
       "      <td>-0.263136</td>\n",
       "      <td>1.457169</td>\n",
       "      <td>0.888081</td>\n",
       "      <td>1.171067</td>\n",
       "      <td>...</td>\n",
       "      <td>0.317865</td>\n",
       "      <td>-0.169299</td>\n",
       "      <td>0.238399</td>\n",
       "      <td>0.641452</td>\n",
       "      <td>0.958037</td>\n",
       "      <td>0.472043</td>\n",
       "      <td>-0.514248</td>\n",
       "      <td>0.502564</td>\n",
       "      <td>0</td>\n",
       "      <td>0</td>\n",
       "    </tr>\n",
       "    <tr>\n",
       "      <th>4</th>\n",
       "      <td>-0.364459</td>\n",
       "      <td>-0.958211</td>\n",
       "      <td>0.931423</td>\n",
       "      <td>-0.323290</td>\n",
       "      <td>0.728914</td>\n",
       "      <td>1.464944</td>\n",
       "      <td>0.005530</td>\n",
       "      <td>-1.345502</td>\n",
       "      <td>-0.711070</td>\n",
       "      <td>-0.693699</td>\n",
       "      <td>...</td>\n",
       "      <td>0.649086</td>\n",
       "      <td>0.305922</td>\n",
       "      <td>-1.161558</td>\n",
       "      <td>-1.677371</td>\n",
       "      <td>-1.116972</td>\n",
       "      <td>-1.352549</td>\n",
       "      <td>2.098834</td>\n",
       "      <td>-0.656260</td>\n",
       "      <td>0</td>\n",
       "      <td>0</td>\n",
       "    </tr>\n",
       "  </tbody>\n",
       "</table>\n",
       "<p>5 rows × 22 columns</p>\n",
       "</div>"
      ],
      "text/plain": [
       "          0         1         2         3         4         5         6  \\\n",
       "0  1.290693  1.416972  0.311624 -0.321043 -0.440702 -0.823294 -1.673228   \n",
       "1  0.374348 -1.132970  0.841416 -0.485837 -0.711883 -0.823499 -0.681930   \n",
       "2 -1.497527  0.858449 -1.617516  0.608672  0.026382 -0.353365 -0.859686   \n",
       "3 -0.087340  0.004130  0.830821  0.601432 -0.043620  1.114204 -0.263136   \n",
       "4 -0.364459 -0.958211  0.931423 -0.323290  0.728914  1.464944  0.005530   \n",
       "\n",
       "          7         8         9  ...        12        13        14        15  \\\n",
       "0  0.202391 -2.505758 -0.085083  ...  1.069398 -1.515416 -0.257536 -2.283387   \n",
       "1 -0.042279  1.187146 -1.514537  ...  1.606523 -0.077827  2.009051 -0.511834   \n",
       "2 -0.934579 -0.134187 -1.057230  ...  0.460180 -0.819763 -1.573229  2.137575   \n",
       "3  1.457169  0.888081  1.171067  ...  0.317865 -0.169299  0.238399  0.641452   \n",
       "4 -1.345502 -0.711070 -0.693699  ...  0.649086  0.305922 -1.161558 -1.677371   \n",
       "\n",
       "         16        17        18        19  Relevance Score  qid  \n",
       "0 -1.010772  0.504195  1.271866  1.042980                1    0  \n",
       "1  0.862724  0.130596 -0.958867  1.611975                0    0  \n",
       "2 -0.362956  0.021410 -0.948340 -1.432481                1    0  \n",
       "3  0.958037  0.472043 -0.514248  0.502564                0    0  \n",
       "4 -1.116972 -1.352549  2.098834 -0.656260                0    0  \n",
       "\n",
       "[5 rows x 22 columns]"
      ]
     },
     "execution_count": 19,
     "metadata": {},
     "output_type": "execute_result"
    }
   ],
   "source": [
    "X, y = make_classification(random_state = 3655)\n",
    "rng = np.random.default_rng(seed = 3655)\n",
    "n_query_groups = 3\n",
    "qid = rng.integers(0, 3, size=X.shape[0])\n",
    "\n",
    "sorted_idx = np.argsort(qid)\n",
    "X = X[sorted_idx, :]\n",
    "y = y[sorted_idx]\n",
    "qid = qid[sorted_idx]\n",
    "\n",
    "df = pd.DataFrame(X)\n",
    "df['Relevance Score'] = y\n",
    "df['qid'] = qid\n",
    "df.head()"
   ]
  },
  {
   "cell_type": "markdown",
   "metadata": {},
   "source": [
    "### XGBoostのランキング学習"
   ]
  },
  {
   "cell_type": "code",
   "execution_count": 4,
   "metadata": {},
   "outputs": [
    {
     "data": {
      "text/html": [
       "<style>#sk-container-id-1 {color: black;}#sk-container-id-1 pre{padding: 0;}#sk-container-id-1 div.sk-toggleable {background-color: white;}#sk-container-id-1 label.sk-toggleable__label {cursor: pointer;display: block;width: 100%;margin-bottom: 0;padding: 0.3em;box-sizing: border-box;text-align: center;}#sk-container-id-1 label.sk-toggleable__label-arrow:before {content: \"▸\";float: left;margin-right: 0.25em;color: #696969;}#sk-container-id-1 label.sk-toggleable__label-arrow:hover:before {color: black;}#sk-container-id-1 div.sk-estimator:hover label.sk-toggleable__label-arrow:before {color: black;}#sk-container-id-1 div.sk-toggleable__content {max-height: 0;max-width: 0;overflow: hidden;text-align: left;background-color: #f0f8ff;}#sk-container-id-1 div.sk-toggleable__content pre {margin: 0.2em;color: black;border-radius: 0.25em;background-color: #f0f8ff;}#sk-container-id-1 input.sk-toggleable__control:checked~div.sk-toggleable__content {max-height: 200px;max-width: 100%;overflow: auto;}#sk-container-id-1 input.sk-toggleable__control:checked~label.sk-toggleable__label-arrow:before {content: \"▾\";}#sk-container-id-1 div.sk-estimator input.sk-toggleable__control:checked~label.sk-toggleable__label {background-color: #d4ebff;}#sk-container-id-1 div.sk-label input.sk-toggleable__control:checked~label.sk-toggleable__label {background-color: #d4ebff;}#sk-container-id-1 input.sk-hidden--visually {border: 0;clip: rect(1px 1px 1px 1px);clip: rect(1px, 1px, 1px, 1px);height: 1px;margin: -1px;overflow: hidden;padding: 0;position: absolute;width: 1px;}#sk-container-id-1 div.sk-estimator {font-family: monospace;background-color: #f0f8ff;border: 1px dotted black;border-radius: 0.25em;box-sizing: border-box;margin-bottom: 0.5em;}#sk-container-id-1 div.sk-estimator:hover {background-color: #d4ebff;}#sk-container-id-1 div.sk-parallel-item::after {content: \"\";width: 100%;border-bottom: 1px solid gray;flex-grow: 1;}#sk-container-id-1 div.sk-label:hover label.sk-toggleable__label {background-color: #d4ebff;}#sk-container-id-1 div.sk-serial::before {content: \"\";position: absolute;border-left: 1px solid gray;box-sizing: border-box;top: 0;bottom: 0;left: 50%;z-index: 0;}#sk-container-id-1 div.sk-serial {display: flex;flex-direction: column;align-items: center;background-color: white;padding-right: 0.2em;padding-left: 0.2em;position: relative;}#sk-container-id-1 div.sk-item {position: relative;z-index: 1;}#sk-container-id-1 div.sk-parallel {display: flex;align-items: stretch;justify-content: center;background-color: white;position: relative;}#sk-container-id-1 div.sk-item::before, #sk-container-id-1 div.sk-parallel-item::before {content: \"\";position: absolute;border-left: 1px solid gray;box-sizing: border-box;top: 0;bottom: 0;left: 50%;z-index: -1;}#sk-container-id-1 div.sk-parallel-item {display: flex;flex-direction: column;z-index: 1;position: relative;background-color: white;}#sk-container-id-1 div.sk-parallel-item:first-child::after {align-self: flex-end;width: 50%;}#sk-container-id-1 div.sk-parallel-item:last-child::after {align-self: flex-start;width: 50%;}#sk-container-id-1 div.sk-parallel-item:only-child::after {width: 0;}#sk-container-id-1 div.sk-dashed-wrapped {border: 1px dashed gray;margin: 0 0.4em 0.5em 0.4em;box-sizing: border-box;padding-bottom: 0.4em;background-color: white;}#sk-container-id-1 div.sk-label label {font-family: monospace;font-weight: bold;display: inline-block;line-height: 1.2em;}#sk-container-id-1 div.sk-label-container {text-align: center;}#sk-container-id-1 div.sk-container {/* jupyter's `normalize.less` sets `[hidden] { display: none; }` but bootstrap.min.css set `[hidden] { display: none !important; }` so we also need the `!important` here to be able to override the default hidden behavior on the sphinx rendered scikit-learn.org. See: https://github.com/scikit-learn/scikit-learn/issues/21755 */display: inline-block !important;position: relative;}#sk-container-id-1 div.sk-text-repr-fallback {display: none;}</style><div id=\"sk-container-id-1\" class=\"sk-top-container\"><div class=\"sk-text-repr-fallback\"><pre>XGBRanker(base_score=None, booster=None, callbacks=None, colsample_bylevel=None,\n",
       "          colsample_bynode=None, colsample_bytree=None, device=None,\n",
       "          early_stopping_rounds=None, enable_categorical=False,\n",
       "          eval_metric=None, feature_types=None, gamma=None, grow_policy=None,\n",
       "          importance_type=None, interaction_constraints=None,\n",
       "          lambdarank_num_pair_per_sample=8, lambdarank_pair_method=&#x27;topk&#x27;,\n",
       "          learning_rate=None, max_bin=None, max_cat_threshold=None,\n",
       "          max_cat_to_onehot=None, max_delta_step=None, max_depth=None,\n",
       "          max_leaves=None, min_child_weight=None, missing=nan,\n",
       "          monotone_constraints=None, multi_strategy=None, n_estimators=None,\n",
       "          n_jobs=None, ...)</pre><b>In a Jupyter environment, please rerun this cell to show the HTML representation or trust the notebook. <br />On GitHub, the HTML representation is unable to render, please try loading this page with nbviewer.org.</b></div><div class=\"sk-container\" hidden><div class=\"sk-item\"><div class=\"sk-estimator sk-toggleable\"><input class=\"sk-toggleable__control sk-hidden--visually\" id=\"sk-estimator-id-1\" type=\"checkbox\" checked><label for=\"sk-estimator-id-1\" class=\"sk-toggleable__label sk-toggleable__label-arrow\">XGBRanker</label><div class=\"sk-toggleable__content\"><pre>XGBRanker(base_score=None, booster=None, callbacks=None, colsample_bylevel=None,\n",
       "          colsample_bynode=None, colsample_bytree=None, device=None,\n",
       "          early_stopping_rounds=None, enable_categorical=False,\n",
       "          eval_metric=None, feature_types=None, gamma=None, grow_policy=None,\n",
       "          importance_type=None, interaction_constraints=None,\n",
       "          lambdarank_num_pair_per_sample=8, lambdarank_pair_method=&#x27;topk&#x27;,\n",
       "          learning_rate=None, max_bin=None, max_cat_threshold=None,\n",
       "          max_cat_to_onehot=None, max_delta_step=None, max_depth=None,\n",
       "          max_leaves=None, min_child_weight=None, missing=nan,\n",
       "          monotone_constraints=None, multi_strategy=None, n_estimators=None,\n",
       "          n_jobs=None, ...)</pre></div></div></div></div></div>"
      ],
      "text/plain": [
       "XGBRanker(base_score=None, booster=None, callbacks=None, colsample_bylevel=None,\n",
       "          colsample_bynode=None, colsample_bytree=None, device=None,\n",
       "          early_stopping_rounds=None, enable_categorical=False,\n",
       "          eval_metric=None, feature_types=None, gamma=None, grow_policy=None,\n",
       "          importance_type=None, interaction_constraints=None,\n",
       "          lambdarank_num_pair_per_sample=8, lambdarank_pair_method='topk',\n",
       "          learning_rate=None, max_bin=None, max_cat_threshold=None,\n",
       "          max_cat_to_onehot=None, max_delta_step=None, max_depth=None,\n",
       "          max_leaves=None, min_child_weight=None, missing=nan,\n",
       "          monotone_constraints=None, multi_strategy=None, n_estimators=None,\n",
       "          n_jobs=None, ...)"
      ]
     },
     "execution_count": 4,
     "metadata": {},
     "output_type": "execute_result"
    }
   ],
   "source": [
    "ranker = xgb.XGBRanker(\n",
    "    tree_method=\"hist\", \n",
    "    lambdarank_num_pair_per_sample=8, \n",
    "    objective=\"rank:ndcg\", \n",
    "    lambdarank_pair_method=\"topk\"\n",
    "    )\n",
    "\n",
    "ranker.fit(X, y, qid=qid)"
   ]
  },
  {
   "cell_type": "markdown",
   "metadata": {},
   "source": [
    "### 予測"
   ]
  },
  {
   "cell_type": "code",
   "execution_count": 14,
   "metadata": {},
   "outputs": [
    {
     "data": {
      "text/plain": [
       "array([ 1.7109468 ,  1.7109468 ,  1.7109468 ,  1.7109468 ,  1.7109468 ,\n",
       "        1.7109468 ,  1.5420871 ,  1.1923326 ,  1.1923326 ,  1.1923326 ,\n",
       "        1.1923326 ,  1.1923326 ,  1.1923326 ,  1.1923326 ,  1.1923326 ,\n",
       "        1.1406763 ,  1.1406763 ,  1.1406763 ,  1.1406763 ,  1.1406763 ,\n",
       "        1.1406763 ,  1.1406763 ,  1.1406763 ,  0.97181636,  0.6220619 ,\n",
       "        0.6220619 ,  0.6220619 ,  0.6220619 ,  0.6220619 ,  0.6220619 ,\n",
       "        0.6220619 ,  0.6220619 ,  0.6220619 ,  0.6220619 ,  0.4532021 ,\n",
       "        0.22649904, -0.79644126, -0.79644126, -0.79644126, -0.79644126,\n",
       "       -0.8974627 , -0.8974627 , -0.8974627 , -0.8974627 , -0.98964775,\n",
       "       -0.98964775, -1.0362681 , -1.0362681 , -1.0362681 , -1.0362681 ,\n",
       "       -1.0362681 , -1.0362681 , -1.2228703 , -1.2228703 , -1.2228703 ,\n",
       "       -1.2228703 , -1.2240134 , -1.2240134 , -1.2240134 , -1.2240134 ,\n",
       "       -1.2240134 , -1.2240134 , -1.2240134 , -1.2240134 , -1.2294749 ,\n",
       "       -1.2294749 , -1.2294749 , -1.2294749 , -1.2294749 , -1.2294749 ,\n",
       "       -1.3483082 , -1.4160769 , -1.4160769 , -1.41722   , -1.41722   ,\n",
       "       -1.41722   , -1.41722   , -1.4626973 , -1.4626973 , -1.4626973 ,\n",
       "       -1.4626973 , -1.4626973 , -1.4626973 , -1.6504426 , -1.6504426 ,\n",
       "       -1.6504426 , -1.6504426 , -1.6504426 , -1.6504426 , -1.6504426 ,\n",
       "       -1.6504426 , -1.6504426 , -1.6504426 , -1.655904  , -1.655904  ,\n",
       "       -1.655904  , -1.655904  , -1.8436491 , -1.8436491 , -1.8436491 ],\n",
       "      dtype=float32)"
      ]
     },
     "execution_count": 14,
     "metadata": {},
     "output_type": "execute_result"
    }
   ],
   "source": [
    "scores = ranker.predict(X)\n",
    "\n",
    "sorted_idx = np.argsort(scores)[::-1]\n",
    "scores = scores[sorted_idx]\n",
    "scores"
   ]
  }
 ],
 "metadata": {
  "kernelspec": {
   "display_name": "Python 3.9.18 ('.venv': poetry)",
   "language": "python",
   "name": "python3"
  },
  "language_info": {
   "codemirror_mode": {
    "name": "ipython",
    "version": 3
   },
   "file_extension": ".py",
   "mimetype": "text/x-python",
   "name": "python",
   "nbconvert_exporter": "python",
   "pygments_lexer": "ipython3",
   "version": "3.9.18"
  },
  "orig_nbformat": 4,
  "vscode": {
   "interpreter": {
    "hash": "17a011378fed683b21aba93e5dd7c0cb7beefc09c5af72c6425b40c713e260dc"
   }
  }
 },
 "nbformat": 4,
 "nbformat_minor": 2
}
