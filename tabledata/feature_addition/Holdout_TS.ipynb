{
 "cells": [
  {
   "cell_type": "markdown",
   "id": "d57846f1",
   "metadata": {},
   "source": [
    "# Holdout TS"
   ]
  },
  {
   "cell_type": "markdown",
   "id": "06e296a3-ed2f-43f2-8090-1da6f8ec5434",
   "metadata": {},
   "source": [
    "一般的に使われているTarget Encodingの手法"
   ]
  },
  {
   "cell_type": "code",
   "execution_count": null,
   "id": "1004448e-29ed-4b08-9ead-58c536d9d3c6",
   "metadata": {},
   "outputs": [],
   "source": [
    "from sklearn.model_selection import StratifiedKFold"
   ]
  },
  {
   "cell_type": "code",
   "execution_count": null,
   "id": "6ad35f49-90f2-4edc-adfb-2e8589e021f7",
   "metadata": {},
   "outputs": [],
   "source": [
    "#生成した特徴量を入れるseriesオブジェクトを用意しておく\n",
    "ts = pd.Series(np.empty(df.shape[0]), index=df.index)\n",
    "\n",
    "#カテゴリー変数ごとの目的変数の合計と数をカウントしておく\n",
    "male_df = df.groupby('user_id').agg({'chese': ['sum', 'count']})\n",
    "\n",
    "for _, holdout_idx in folds.split(df, df.chese):\n",
    "    # ホールドアウトする行を取り出す\n",
    "    holdout_df = df.iloc[holdout_idx]\n",
    "    \n",
    "    # ホールドアウトしたデータで合計とカウントを計算する\n",
    "    holdout_1_df = holdout_df.groupby('user_id').agg({'chese': ['sum', 'count']})\n",
    "    \n",
    "    # 全体の集計からホールドアウトした分を引く\n",
    "    train_1_df = male_df - holdout_1_df\n",
    "    \n",
    "    # ホールドアウトしたデータの平均値を計算していく\n",
    "    oof_ts = holdout_df.apply(lambda row: train_1_df.loc[row.user_id][('chese', 'sum')] \\\n",
    "                                           / (train_1_df.loc[row.user_id][('chese', 'count')] + 1), axis=1)\n",
    "    # 生成した特徴量を記録する\n",
    "    ts[oof_ts.index] = oof_ts\n",
    "    \n",
    "ts.name = 'target_user_id'\n",
    "df = df.join(ts)"
   ]
  }
 ],
 "metadata": {
  "kernelspec": {
   "display_name": "Python 3.9.18 ('.venv': poetry)",
   "language": "python",
   "name": "python3"
  },
  "language_info": {
   "codemirror_mode": {
    "name": "ipython",
    "version": 3
   },
   "file_extension": ".py",
   "mimetype": "text/x-python",
   "name": "python",
   "nbconvert_exporter": "python",
   "pygments_lexer": "ipython3",
   "version": "3.9.18"
  },
  "vscode": {
   "interpreter": {
    "hash": "17a011378fed683b21aba93e5dd7c0cb7beefc09c5af72c6425b40c713e260dc"
   }
  }
 },
 "nbformat": 4,
 "nbformat_minor": 5
}
