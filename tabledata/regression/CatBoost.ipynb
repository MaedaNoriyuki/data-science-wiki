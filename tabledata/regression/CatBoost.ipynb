{
 "cells": [
  {
   "cell_type": "markdown",
   "id": "eecb68f4-a8d2-44ba-95be-a39416994b02",
   "metadata": {},
   "source": [
    "# CatBoost"
   ]
  },
  {
   "cell_type": "code",
   "execution_count": null,
   "id": "037c3d4e",
   "metadata": {},
   "outputs": [],
   "source": []
  },
  {
   "cell_type": "code",
   "execution_count": null,
   "id": "d0816b7f-ed54-4c26-b934-b6056e2b3fb8",
   "metadata": {},
   "outputs": [],
   "source": [
    "!pip install catboost scikit-learn"
   ]
  },
  {
   "cell_type": "code",
   "execution_count": 1,
   "id": "af5da5d5-445a-4b4c-b51c-4cb26556dde7",
   "metadata": {},
   "outputs": [
    {
     "ename": "ModuleNotFoundError",
     "evalue": "No module named 'catboost'",
     "output_type": "error",
     "traceback": [
      "\u001b[0;31m---------------------------------------------------------------------------\u001b[0m",
      "\u001b[0;31mModuleNotFoundError\u001b[0m                       Traceback (most recent call last)",
      "\u001b[0;32m<ipython-input-1-edaafc2ade50>\u001b[0m in \u001b[0;36m<module>\u001b[0;34m\u001b[0m\n\u001b[0;32m----> 1\u001b[0;31m \u001b[0;32mimport\u001b[0m \u001b[0mcatboost\u001b[0m \u001b[0;32mas\u001b[0m \u001b[0mcat\u001b[0m\u001b[0;34m\u001b[0m\u001b[0;34m\u001b[0m\u001b[0m\n\u001b[0m\u001b[1;32m      2\u001b[0m \u001b[0;32mfrom\u001b[0m \u001b[0mcatboost\u001b[0m \u001b[0;32mimport\u001b[0m \u001b[0mCatBoostClassifier\u001b[0m\u001b[0;34m\u001b[0m\u001b[0;34m\u001b[0m\u001b[0m\n\u001b[1;32m      3\u001b[0m \u001b[0;32mfrom\u001b[0m \u001b[0mcatboost\u001b[0m \u001b[0;32mimport\u001b[0m \u001b[0mPool\u001b[0m\u001b[0;34m\u001b[0m\u001b[0;34m\u001b[0m\u001b[0m\n\u001b[1;32m      4\u001b[0m \u001b[0;34m\u001b[0m\u001b[0m\n\u001b[1;32m      5\u001b[0m \u001b[0;32mimport\u001b[0m \u001b[0mpickle\u001b[0m\u001b[0;34m\u001b[0m\u001b[0;34m\u001b[0m\u001b[0m\n",
      "\u001b[0;31mModuleNotFoundError\u001b[0m: No module named 'catboost'"
     ]
    }
   ],
   "source": [
    "import catboost as cat\n",
    "from catboost import CatBoostClassifier\n",
    "from catboost import Pool\n",
    "\n",
    "import pickle\n",
    "import gc"
   ]
  },
  {
   "cell_type": "code",
   "execution_count": null,
   "id": "4c60d04e-1c7f-4049-9e30-f295d465a03a",
   "metadata": {},
   "outputs": [],
   "source": [
    "#カテゴリー変数を格納\n",
    "cat_features = list(range(0, x.shape[1]))\n",
    "\n",
    "\n",
    "#訓練データと評価用データを分割\n",
    "x_train, x_vali, y_train, y_vali = train_test_split(x, y,test_size=0.3)\n",
    "\n",
    "\n",
    "#バリデーションを行うための用意\n",
    "train_pool = Pool(x_train, y_train)\n",
    "validate_pool = Pool(x_vali, y_vali)\n",
    "\n",
    "\n",
    "#モデルの作成\n",
    "ctb= cat.CatBoostClassifier(eval_metric=\"AUC\", depth=7, iterations= 200, \n",
    "                            l2_leaf_reg= 1, learning_rate= 0.05, logging_level='Silent')\n",
    "\n",
    "\n",
    "#モデルにより学習を行う\n",
    "ctb_model = ctb.fit(x_train,y_train, cat_features= cat_features,eval_set=(x_vali, y_vali))\n",
    "\n",
    "print(\"AUC =\", auc(ctb_model, x_train, x_vali))"
   ]
  },
  {
   "cell_type": "code",
   "execution_count": null,
   "id": "c20dd877-dae4-492c-9c45-d0d2df060943",
   "metadata": {},
   "outputs": [],
   "source": [
    "#モデルによる予測\n",
    "y_pred = ctb_model.predict_proba(x_test1)"
   ]
  },
  {
   "cell_type": "markdown",
   "id": "bf1aa67f-cc64-46f6-8139-be5a554f3c36",
   "metadata": {},
   "source": [
    "# CatBoostの関数"
   ]
  },
  {
   "cell_type": "code",
   "execution_count": null,
   "id": "ef1c9126-38a2-462a-8ee9-442f35d472e2",
   "metadata": {},
   "outputs": [],
   "source": [
    "cat_params = {\n",
    "        'loss_function': 'Logloss',\n",
    "        'eval_metric': 'AUC',\n",
    "        'num_boost_round': 10000,\n",
    "        'learning_rate': 0.01,\n",
    "        'random_state': 42,\n",
    "        'task_type': 'CPU',\n",
    "        'depth': 6,\n",
    "    }"
   ]
  },
  {
   "cell_type": "code",
   "execution_count": null,
   "id": "59903b5e-9c9f-4b4d-9355-e3709c3ab1d3",
   "metadata": {},
   "outputs": [],
   "source": [
    "def catboost(X, y, params, folds, categorycal_list=[], add_suffix=''):\n",
    "    \n",
    "    '''\n",
    "    cat_params = {\n",
    "        'loss_function': 'Logloss',\n",
    "        'eval_metric': 'AUC',\n",
    "        'num_boost_round': 10000,\n",
    "        'learning_rate': 0.03,\n",
    "        'random_state': 42,\n",
    "        'task_type': 'CPU',\n",
    "        'depth': 6,\n",
    "    }\n",
    "    '''\n",
    "    \n",
    "    oof_pred = np.zeros(len(y), dtype=np.float32)\n",
    "\n",
    "    fold_unique = sorted(folds.unique())\n",
    "    for fold in fold_unique:\n",
    "        idx_train = (folds!=fold)\n",
    "        idx_valid = (folds==fold)\n",
    "        \n",
    "        x_train, y_train = X[idx_train], y[idx_train]\n",
    "        x_valid, y_valid = X[idx_valid], y[idx_valid]\n",
    "\n",
    "        cat_train = cat.Pool(\n",
    "            x_train, \n",
    "            label=y_train,\n",
    "            cat_features=categorycal_list,\n",
    "        )\n",
    "        \n",
    "        cat_valid = cat.Pool(\n",
    "            x_valid, \n",
    "            label=y_valid,\n",
    "            cat_features=categorycal_list,\n",
    "        )\n",
    "        \n",
    "        #modelの定義\n",
    "        model = cat.CatBoostClassifier(**params)\n",
    "        \n",
    "        #modelの学習\n",
    "        model.fit(\n",
    "            cat_train,\n",
    "            early_stopping_rounds=100,\n",
    "            plot=False,\n",
    "            use_best_model=True,\n",
    "            eval_set=[cat_valid],\n",
    "            verbose=100\n",
    "        )\n",
    "        \n",
    "        #pickle.dumpにより，指定したファイルにオブジェクトを保存(pickle化)\n",
    "        #open関数でファイルを作成，または上書き保存\n",
    "        pickle.dump(model, open(f'cat_fold{fold}{add_suffix}.pkl', 'wb'))\n",
    "        \n",
    "        #予測値の出力\n",
    "        pred_i = model.predict_proba(cat_valid)[:, 1]\n",
    "        \n",
    "        oof_pred[x_valid.index] = pred_i\n",
    "        \n",
    "        #round関数で小数点の四捨五入\n",
    "        #AUCの計算\n",
    "        score = round(roc_auc_score(y_valid, pred_i), 5)\n",
    "        print(f'Performance of the prediction: {score}\\n')\n",
    "\n",
    "    score = round(roc_auc_score(y, oof_pred), 5)\n",
    "    print(f'All Performance of the prediction: {score}')\n",
    "    #モデルの削除\n",
    "    del model\n",
    "    #ガベージコレクション(pythonには備わっているので使わなくても良い?)\n",
    "    gc.collect()\n",
    "    return oof_pred"
   ]
  },
  {
   "cell_type": "markdown",
   "id": "20829804-d0fd-4ec3-868b-b046c2ddace3",
   "metadata": {},
   "source": [
    "# CatBoostの予測の関数"
   ]
  },
  {
   "cell_type": "code",
   "execution_count": null,
   "id": "c11f5113-2c40-45f2-b702-ab5ae3707a0c",
   "metadata": {},
   "outputs": [],
   "source": [
    "def pred_catboost(X, data_dir: Path, add_suffix=''):\n",
    "    #pickleファイルからモデルを読み込む\n",
    "    models = glob(str(data_dir / f'cat*{add_suffix}.pkl'))\n",
    "    #非pickle化\n",
    "    models = [pickle.load(open(model, 'rb')) for model in models]\n",
    "    #各モデルでの出力値をリストに格納\n",
    "    preds = np.array([model.predict_proba(X)[:, 1] for model in models])\n",
    "    #平均を取る\n",
    "    preds = np.mean(preds, axis=0)\n",
    "    #予測値の出力\n",
    "    return preds"
   ]
  }
 ],
 "metadata": {
  "kernelspec": {
   "display_name": "Python 3",
   "language": "python",
   "name": "python3"
  },
  "language_info": {
   "codemirror_mode": {
    "name": "ipython",
    "version": 3
   },
   "file_extension": ".py",
   "mimetype": "text/x-python",
   "name": "python",
   "nbconvert_exporter": "python",
   "pygments_lexer": "ipython3",
   "version": "3.9.2"
  }
 },
 "nbformat": 4,
 "nbformat_minor": 5
}
