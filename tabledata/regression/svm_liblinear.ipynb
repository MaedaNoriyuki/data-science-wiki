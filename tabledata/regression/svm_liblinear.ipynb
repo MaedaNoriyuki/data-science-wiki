{
 "cells": [
  {
   "cell_type": "markdown",
   "metadata": {},
   "source": [
    "# SVM Liblinear"
   ]
  },
  {
   "cell_type": "code",
   "execution_count": null,
   "metadata": {},
   "outputs": [],
   "source": []
  },
  {
   "cell_type": "code",
   "execution_count": 1,
   "metadata": {},
   "outputs": [
    {
     "name": "stdout",
     "output_type": "stream",
     "text": [
      "Collecting liblinear-official\n",
      "  Downloading liblinear-official-2.46.1.tar.gz (46 kB)\n",
      "\u001b[2K     \u001b[90m━━━━━━━━━━━━━━━━━━━━━━━━━━━━━━━━━━━━━━━━\u001b[0m \u001b[32m46.9/46.9 kB\u001b[0m \u001b[31m4.4 MB/s\u001b[0m eta \u001b[36m0:00:00\u001b[0m\n",
      "\u001b[?25h  Preparing metadata (setup.py) ... \u001b[?25ldone\n",
      "\u001b[?25hRequirement already satisfied: scipy in /opt/conda/lib/python3.10/site-packages (from liblinear-official) (1.10.1)\n",
      "Requirement already satisfied: numpy<1.27.0,>=1.19.5 in /opt/conda/lib/python3.10/site-packages (from scipy->liblinear-official) (1.23.5)\n",
      "Building wheels for collected packages: liblinear-official\n",
      "  Building wheel for liblinear-official (setup.py) ... \u001b[?25ldone\n",
      "\u001b[?25h  Created wheel for liblinear-official: filename=liblinear_official-2.46.1-cp310-cp310-linux_aarch64.whl size=58483 sha256=a555ba99ae5e64cf2f9356377e0cc8ceae1554cec60d8fa825130089ba4277c2\n",
      "  Stored in directory: /home/jovyan/.cache/pip/wheels/d1/c4/f5/0f9664e5a5484cfe73e265aaa8eb83d8d51342760c979cb846\n",
      "Successfully built liblinear-official\n",
      "Installing collected packages: liblinear-official\n",
      "Successfully installed liblinear-official-2.46.1\n"
     ]
    }
   ],
   "source": [
    "!pip install liblinear-official"
   ]
  },
  {
   "cell_type": "code",
   "execution_count": 3,
   "metadata": {},
   "outputs": [],
   "source": [
    "from liblinear.liblinearutil import *\n",
    "\n",
    "from sklearn.datasets import load_svmlight_file\n",
    "from sklearn.datasets import dump_svmlight_file\n",
    "\n",
    "import os\n",
    "from sklearn.datasets import load_iris"
   ]
  },
  {
   "cell_type": "code",
   "execution_count": 4,
   "metadata": {},
   "outputs": [],
   "source": [
    "iris = load_iris()\n",
    "\n",
    "x = iris.data\n",
    "\n",
    "y = iris.target\n",
    "\n",
    "file_name = 'temp_file'\n",
    "\n",
    "dump_svmlight_file(x, y, file_name)"
   ]
  },
  {
   "cell_type": "code",
   "execution_count": 5,
   "metadata": {},
   "outputs": [],
   "source": [
    "x,y = load_svmlight_file(file_name)\n",
    "os.remove(file_name)"
   ]
  },
  {
   "cell_type": "code",
   "execution_count": 6,
   "metadata": {},
   "outputs": [
    {
     "name": "stdout",
     "output_type": "stream",
     "text": [
      ".............*...*.*\n",
      "optimization finished, #iter = 177\n",
      "Objective value = -0.826649\n",
      "nSV = 5\n",
      "..............................\n",
      "optimization finished, #iter = 300\n",
      "Objective value = -190.744651\n",
      "nSV = 101\n",
      "\n",
      "WARNING: reaching max number of iterations\n",
      "Switching to use -s 2\n",
      "\n",
      "init f 3.528e+02 |g| 2.247e+03\n",
      "iter  1 f 2.980e+02 |g| 7.553e+01 CG   2 step_size 1.00e+00 \n",
      "iter  2 f 2.974e+02 |g| 5.869e-08 CG   4 step_size 1.00e+00 \n",
      "..............................\n",
      "optimization finished, #iter = 300\n",
      "Objective value = -20.535678\n",
      "nSV = 22\n",
      "\n",
      "WARNING: reaching max number of iterations\n",
      "Switching to use -s 2\n",
      "\n",
      "init f 2.957e+01 |g| 1.801e+02\n",
      "iter  1 f 2.779e+01 |g| 3.824e+00 CG   2 step_size 1.00e+00 \n"
     ]
    }
   ],
   "source": [
    "svm = train(y[:120], x[:120], '-c 4')"
   ]
  },
  {
   "cell_type": "code",
   "execution_count": 8,
   "metadata": {},
   "outputs": [
    {
     "name": "stdout",
     "output_type": "stream",
     "text": [
      "Accuracy = 70% (21/30) (classification)\n"
     ]
    }
   ],
   "source": [
    "p_label, p_acc, p_val = predict(y[120:], x[120:], svm)"
   ]
  },
  {
   "cell_type": "code",
   "execution_count": null,
   "metadata": {},
   "outputs": [],
   "source": []
  }
 ],
 "metadata": {
  "kernelspec": {
   "display_name": "Python 3.9.18 ('.venv': poetry)",
   "language": "python",
   "name": "python3"
  },
  "language_info": {
   "codemirror_mode": {
    "name": "ipython",
    "version": 3
   },
   "file_extension": ".py",
   "mimetype": "text/x-python",
   "name": "python",
   "nbconvert_exporter": "python",
   "pygments_lexer": "ipython3",
   "version": "3.9.18"
  },
  "vscode": {
   "interpreter": {
    "hash": "17a011378fed683b21aba93e5dd7c0cb7beefc09c5af72c6425b40c713e260dc"
   }
  }
 },
 "nbformat": 4,
 "nbformat_minor": 4
}
