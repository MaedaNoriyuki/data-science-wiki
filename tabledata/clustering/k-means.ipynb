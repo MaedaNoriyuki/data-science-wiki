{
  "cells": [
    {
      "cell_type": "markdown",
      "metadata": {
        "id": "5egW11ydewBH"
      },
      "source": [
        "## k-means\n",
        "* k-means法は非階層クラスタリングの代表的な手法\n",
        "* 以下ではwineデータの正解ラベルを取り除きk-means法により分類したものと正解ラベルを、主成分分析で二次元に圧縮し可視化する。"
      ]
    },
    {
      "cell_type": "markdown",
      "metadata": {
        "colab_type": "text",
        "id": "view-in-github"
      },
      "source": [
        "<a href=\"https://colab.research.google.com/github/ToumaTanaka/Data_Science/blob/main/Tabel_Data/Machine_Learning/Unsupervised_Learning/k_means.ipynb\" target=\"_parent\"><img src=\"https://colab.research.google.com/assets/colab-badge.svg\" alt=\"Open In Colab\"/></a>"
      ]
    },
    {
      "cell_type": "code",
      "execution_count": 2,
      "metadata": {
        "id": "I2AJOGpDehuD"
      },
      "outputs": [],
      "source": [
        "#以下がk-means法に必要なコード\n",
        "from sklearn import cluster\n",
        "\n",
        "import numpy as np\n",
        "import matplotlib.pyplot as plt\n",
        "import pandas as pd\n",
        "from sklearn import datasets\n",
        "from sklearn.preprocessing import scale\n",
        "from sklearn.decomposition import PCA"
      ]
    },
    {
      "cell_type": "code",
      "execution_count": 4,
      "metadata": {
        "id": "ceEcAWlqgTAE"
      },
      "outputs": [],
      "source": [
        "#データの読み込み\n",
        "d = datasets.load_wine()\n",
        "\n",
        "#データを標準化\n",
        "xs = scale(d.data)\n",
        "\n",
        "#k-means法の設定、k=3で10種類の初期値を試す\n",
        "km = cluster.KMeans(n_clusters=3, n_init=10)\n",
        "#k-means法の実行\n",
        "km.fit(xs)\n",
        "cl = km.labels_"
      ]
    },
    {
      "cell_type": "code",
      "execution_count": 15,
      "metadata": {
        "colab": {
          "base_uri": "https://localhost:8080/",
          "height": 513
        },
        "id": "ceFSURnEidke",
        "outputId": "387e2073-5803-47fe-b3fa-bbdf884e5bd0"
      },
      "outputs": [
        {
          "data": {
            "image/png": "[encoded data removed]",
            "text/plain": [
              "<Figure size 432x288 with 1 Axes>"
            ]
          },
          "metadata": {
            "needs_background": "light"
          },
          "output_type": "display_data"
        },
        {
          "data": {
            "image/png": "[encoded data removed]",
            "text/plain": [
              "<Figure size 432x288 with 1 Axes>"
            ]
          },
          "metadata": {
            "needs_background": "light"
          },
          "output_type": "display_data"
        }
      ],
      "source": [
        "#データを主成分分析により二次元に縮約し、グラフ上に可視化する\n",
        "pc = PCA(n_components=2)\n",
        "pc.fit(xs)\n",
        "#主成分スコアの計算\n",
        "pxs = pc.transform(xs)\n",
        "\n",
        "#もともとのクラスラベルのプロット\n",
        "mk = ['.','*','+']\n",
        "#np.arange(3)は等差数列を生成\n",
        "for i in np.arange(3):\n",
        "  idx = (d.target==i)\n",
        "  plt.scatter(pxs[idx,0],pxs[idx,1],marker=mk[i])\n",
        "plt.show()  \n",
        "\n",
        "#k-means法による分類のプロット\n",
        "for i in np.arange(3):\n",
        "  idx = (cl == i)\n",
        "  plt.scatter(pxs[idx,0],pxs[idx,1],marker=mk[i])\n",
        "plt.show()"
      ]
    }
  ],
  "metadata": {
    "colab": {
      "authorship_tag": "ABX9TyN5YNIaHZDjO/kqAYASQmPo",
      "include_colab_link": true,
      "name": "k-means.ipynb",
      "provenance": []
    },
    "kernelspec": {
      "display_name": "Python 3.9.17 ('.venv': poetry)",
      "language": "python",
      "name": "python3"
    },
    "language_info": {
      "name": "python",
      "version": "3.9.17"
    },
    "vscode": {
      "interpreter": {
        "hash": "17a011378fed683b21aba93e5dd7c0cb7beefc09c5af72c6425b40c713e260dc"
      }
    }
  },
  "nbformat": 4,
  "nbformat_minor": 0
}
