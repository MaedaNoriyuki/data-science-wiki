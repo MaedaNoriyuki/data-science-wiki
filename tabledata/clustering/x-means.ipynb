{
 "cells": [
  {
   "cell_type": "markdown",
   "metadata": {},
   "source": [
    "# x-means"
   ]
  },
  {
   "cell_type": "markdown",
   "metadata": {},
   "source": [
    "k-means法は非階層クラスタリングの代表的な手法．以下ではwineデータの正解ラベルを取り除きk-means法により分類したものと正解ラベルを、主成分分析で二次元に圧縮し可視化する。"
   ]
  },
  {
   "cell_type": "code",
   "execution_count": null,
   "metadata": {},
   "outputs": [],
   "source": []
  }
 ],
 "metadata": {
  "language_info": {
   "name": "python"
  },
  "orig_nbformat": 4
 },
 "nbformat": 4,
 "nbformat_minor": 2
}
