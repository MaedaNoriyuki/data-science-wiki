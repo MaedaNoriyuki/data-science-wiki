{
 "cells": [
  {
   "cell_type": "markdown",
   "id": "19e1d41f",
   "metadata": {},
   "source": [
    "# VBGMM"
   ]
  },
  {
   "cell_type": "markdown",
   "id": "afcbab19-03c7-4d73-952b-7037f73f3567",
   "metadata": {},
   "source": [
    "* クラスター数が分からない場合に使う\n",
    "* 参考  \n",
    "http://neuro-educator.com/ml13/"
   ]
  },
  {
   "cell_type": "code",
   "execution_count": null,
   "id": "af49182a-72e6-4532-823d-f578f3b35997",
   "metadata": {},
   "outputs": [],
   "source": []
  }
 ],
 "metadata": {
  "kernelspec": {
   "display_name": "Python 3 (ipykernel)",
   "language": "python",
   "name": "python3"
  },
  "language_info": {
   "codemirror_mode": {
    "name": "ipython",
    "version": 3
   },
   "file_extension": ".py",
   "mimetype": "text/x-python",
   "name": "python",
   "nbconvert_exporter": "python",
   "pygments_lexer": "ipython3",
   "version": "3.9.7"
  }
 },
 "nbformat": 4,
 "nbformat_minor": 5
}
