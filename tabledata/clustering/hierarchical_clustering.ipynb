{
  "cells": [
    {
      "cell_type": "markdown",
      "metadata": {},
      "source": [
        "# 階層型クラスタリング"
      ]
    },
    {
      "cell_type": "markdown",
      "metadata": {
        "id": "BSbhVdS6Y_iC"
      },
      "source": [
        "* クラスター数を最初に決めないクラスタリング手法\n",
        "* 分類結果はデンドログラムにより表示することができる\n",
        "* AgglomerativeClusteringは近いデータを集めて階層構造を生成していく"
      ]
    },
    {
      "cell_type": "markdown",
      "metadata": {
        "colab_type": "text",
        "id": "view-in-github"
      },
      "source": [
        "<a href=\"https://colab.research.google.com/github/ToumaTanaka/Data_Science/blob/main/Tabel_Data/Machine_Learning/Unsupervised_Learning/hierarchical_clustering.ipynb\" target=\"_parent\"><img src=\"https://colab.research.google.com/assets/colab-badge.svg\" alt=\"Open In Colab\"/></a>"
      ]
    },
    {
      "cell_type": "code",
      "execution_count": 1,
      "metadata": {
        "id": "y6y0YjZ7Xnp2"
      },
      "outputs": [],
      "source": [
        "#以下が階層クラスタリングに必要なコード\n",
        "from sklearn.cluster import AgglomerativeClustering\n",
        "#デンドログラムの表示に必要なコード\n",
        "from scipy.cluster.hierarchy import dendrogram\n",
        "\n",
        "import numpy as np\n",
        "from matplotlib import pyplot as plt\n",
        "from sklearn.datasets import load_iris"
      ]
    },
    {
      "cell_type": "markdown",
      "metadata": {
        "id": "iNvaUXpUb3Oe"
      },
      "source": [
        "### 可視化するための関数を定義"
      ]
    },
    {
      "cell_type": "code",
      "execution_count": 2,
      "metadata": {
        "id": "E4Po_BIVb0Xk"
      },
      "outputs": [],
      "source": [
        "def plot_dendrogram(model, **kwargs):\n",
        "   # Create linkage matrix and then plot the dendrogram\n",
        "\n",
        "   # create the counts of samples under each node\n",
        "   counts = np.zeros(model.children_.shape[0])\n",
        "   n_samples = len(model.labels_)\n",
        "   for i, merge in enumerate(model.children_):\n",
        "      current_count = 0\n",
        "      for child_idx in merge:\n",
        "         if child_idx < n_samples:\n",
        "            current_count += 1 # leaf node\n",
        "         else:\n",
        "            current_count += counts[child_idx - n_samples]\n",
        "      counts[i] = current_count\n",
        "\n",
        "   linkage_matrix = np.column_stack([model.children_, model.distances_,\n",
        "counts]).astype(float)\n",
        "\n",
        "   # Plot the corresponding dendrogram\n",
        "   dendrogram(linkage_matrix, **kwargs)"
      ]
    },
    {
      "cell_type": "markdown",
      "metadata": {
        "id": "HNqKAOCnfaGD"
      },
      "source": [
        "### 学習データのロード"
      ]
    },
    {
      "cell_type": "code",
      "execution_count": 4,
      "metadata": {
        "id": "1fJhKPrqcISi"
      },
      "outputs": [],
      "source": [
        "#アヤメのデータをロード\n",
        "iris = load_iris()\n",
        "#ラベルのないデータを用意\n",
        "x = iris.data"
      ]
    },
    {
      "cell_type": "markdown",
      "metadata": {
        "id": "YZPGaS5Cfe7S"
      },
      "source": [
        "### モデルの作成"
      ]
    },
    {
      "cell_type": "code",
      "execution_count": 11,
      "metadata": {
        "id": "meeC9fnGZQrT"
      },
      "outputs": [],
      "source": [
        "#階層クラスタリングの設定\n",
        "model = AgglomerativeClustering(affinity='euclidean',  #データポイント間の距離の計算の設定\n",
        "                                linkage='ward',        #クラスター間の距離の計算方法の設定\n",
        "                                distance_threshold=0,\n",
        "                                n_clusters=None)     #生成するクラスターの数の設定、デンドログラムを表示するためにはここはNoneに設定する必要がある\n",
        "                                \n",
        "model = model.fit(x)"
      ]
    },
    {
      "cell_type": "code",
      "execution_count": 10,
      "metadata": {
        "colab": {
          "base_uri": "https://localhost:8080/"
        },
        "id": "yW-uWpS9eIIN",
        "outputId": "a1d1a8d5-c975-4b78-896b-1eb20da65530"
      },
      "outputs": [
        {
          "name": "stdout",
          "output_type": "stream",
          "text": [
            "[1 1 1 1 1 1 1 1 1 1 1 1 1 1 1 1 1 1 1 1 1 1 1 1 1 1 1 1 1 1 1 1 1 1 1 1 1\n",
            " 1 1 1 1 1 1 1 1 1 1 1 1 1 0 0 0 0 0 0 0 0 0 0 0 0 0 0 0 0 0 0 0 0 0 0 0 0\n",
            " 0 0 0 2 0 0 0 0 0 0 0 0 0 0 0 0 0 0 0 0 0 0 0 0 0 0 2 0 2 2 2 2 0 2 2 2 2\n",
            " 2 2 0 0 2 2 2 2 0 2 0 2 0 2 2 0 0 2 2 2 2 2 0 0 2 2 2 0 2 2 2 0 2 2 2 0 2\n",
            " 2 0]\n"
          ]
        }
      ],
      "source": [
        "#分類結果の表示\n",
        "print(model.labels_)"
      ]
    },
    {
      "cell_type": "markdown",
      "metadata": {
        "id": "lIGcj6fYfTAu"
      },
      "source": [
        "### デンドログラムの表示"
      ]
    },
    {
      "cell_type": "code",
      "execution_count": 15,
      "metadata": {
        "colab": {
          "base_uri": "https://localhost:8080/",
          "height": 298
        },
        "id": "tsC1Q96sc4T8",
        "outputId": "c54f6491-cbbc-4430-f351-af581684a247"
      },
      "outputs": [
        {
          "data": {
            "image/png": "[encoded data removed]",
            "text/plain": [
              "<Figure size 432x288 with 1 Axes>"
            ]
          },
          "metadata": {
            "needs_background": "light"
          },
          "output_type": "display_data"
        }
      ],
      "source": [
        "#デンドログラムの表示\n",
        "plt.title('Euclidean, linkage=ward')\n",
        "#pの値でクラス数を指定\n",
        "plot_dendrogram(model, truncate_mode='lastp', p=3)　　\n",
        "plt.xlabel(\"Number of points in node (or index of point if no parenthesis).\")\n",
        "plt.show()"
      ]
    },
    {
      "cell_type": "code",
      "execution_count": null,
      "metadata": {},
      "outputs": [],
      "source": []
    }
  ],
  "metadata": {
    "colab": {
      "authorship_tag": "ABX9TyM3B6h/5cfELgWaruJl7h5h",
      "include_colab_link": true,
      "name": "hierarchical_clustering.ipynb",
      "provenance": []
    },
    "kernelspec": {
      "display_name": "Python 3.9.16 ('data-science-wiki-274Wd7YI-py3.9')",
      "language": "python",
      "name": "python3"
    },
    "language_info": {
      "name": "python",
      "version": "3.9.16"
    },
    "vscode": {
      "interpreter": {
        "hash": "9a4fec1fcef14ed8710f362da8fe8368944c5bc083ef27a9dd9fc34a2f48a684"
      }
    }
  },
  "nbformat": 4,
  "nbformat_minor": 0
}
