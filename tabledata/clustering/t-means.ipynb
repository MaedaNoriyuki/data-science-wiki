{
 "cells": [
  {
   "cell_type": "markdown",
   "metadata": {},
   "source": [
    "# t-means"
   ]
  },
  {
   "cell_type": "markdown",
   "metadata": {},
   "source": [
    "k-means法は非階層クラスタリングの代表的な手法．以下ではwineデータの正解ラベルを取り除きk-means法により分類したものと正解ラベルを、主成分分析で二次元に圧縮し可視化する。"
   ]
  },
  {
   "cell_type": "code",
   "execution_count": null,
   "metadata": {},
   "outputs": [],
   "source": []
  },
  {
   "cell_type": "code",
   "execution_count": null,
   "metadata": {},
   "outputs": [],
   "source": []
  }
 ],
 "metadata": {
  "kernelspec": {
   "display_name": "Python 3.9.16 ('data-science-wiki-274Wd7YI-py3.9')",
   "language": "python",
   "name": "python3"
  },
  "language_info": {
   "name": "python",
   "version": "3.9.16"
  },
  "orig_nbformat": 4,
  "vscode": {
   "interpreter": {
    "hash": "9a4fec1fcef14ed8710f362da8fe8368944c5bc083ef27a9dd9fc34a2f48a684"
   }
  }
 },
 "nbformat": 4,
 "nbformat_minor": 2
}
