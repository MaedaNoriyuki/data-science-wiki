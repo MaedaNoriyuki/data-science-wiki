{
  "cells": [
    {
      "cell_type": "markdown",
      "metadata": {},
      "source": [
        "# Spectral Clustering"
      ]
    },
    {
      "cell_type": "markdown",
      "metadata": {
        "id": "CgKaD85o0Y8U"
      },
      "source": [
        "* 線形分離可能でない点群にたいしても分離をすることができる\n",
        "* 類似度関数を選定し、クラスタリング手法を別途選定する必要がある\n",
        "* データが用意できていない、スパイラルデータなどかよい"
      ]
    },
    {
      "cell_type": "markdown",
      "metadata": {
        "colab_type": "text",
        "id": "view-in-github"
      },
      "source": [
        "<a href=\"https://colab.research.google.com/github/ToumaTanaka/Data_Science/blob/main/Tabel_Data/Machine_Learning/Unsupervised_Learning/SpectralClustering.ipynb\" target=\"_parent\"><img src=\"https://colab.research.google.com/assets/colab-badge.svg\" alt=\"Open In Colab\"/></a>"
      ]
    },
    {
      "cell_type": "code",
      "execution_count": null,
      "metadata": {
        "id": "MkdTzeGw0QOo"
      },
      "outputs": [],
      "source": [
        "#以下がスペクトラルクラスタリングに必要なコード\n",
        "from sklearn import cluster\n",
        "\n",
        "import matplotlib.pyplot as plt"
      ]
    },
    {
      "cell_type": "code",
      "execution_count": null,
      "metadata": {
        "id": "7hazNe3D1Bg2"
      },
      "outputs": [],
      "source": [
        "#データの生成\n",
        "x,y = ml.spirals(300, cycles=1, sd=0.05)\n",
        "\n",
        "#スペクトラルクラスタリングの設定\n",
        "sc = cluster.SpectralClustering(n_clusters=2, gamma=300, n_init=100)\n",
        "#スペクトラルクラスタリングの実行\n",
        "sc.fit(x)\n",
        "cl = sc.labels_\n",
        "\n",
        "#プロット\n",
        "plt.scatter(x[cl==0,0],x[cl==0,1],marker='*')\n",
        "plt.scatter(x[cl==0,0],x[cl==0,1],marker='+')\n",
        "plt.show()"
      ]
    }
  ],
  "metadata": {
    "colab": {
      "authorship_tag": "ABX9TyM8bIWpVLo86x7nrvo0ImM8",
      "include_colab_link": true,
      "name": "SpectralClustering.ipynb",
      "provenance": []
    },
    "kernelspec": {
      "display_name": "Python 3",
      "name": "python3"
    },
    "language_info": {
      "name": "python"
    }
  },
  "nbformat": 4,
  "nbformat_minor": 0
}
