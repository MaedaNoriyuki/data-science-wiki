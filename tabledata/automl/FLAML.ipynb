{
 "cells": [
  {
   "cell_type": "markdown",
   "metadata": {},
   "source": [
    "# FLAML"
   ]
  },
  {
   "cell_type": "markdown",
   "metadata": {
    "id": "p9G4V2mC5xFE"
   },
   "source": [
    "* https://github.com/microsoft/FLAML"
   ]
  },
  {
   "cell_type": "markdown",
   "metadata": {
    "colab_type": "text",
    "id": "view-in-github"
   },
   "source": [
    "<a href=\"https://colab.research.google.com/github/fuyu-quant/Data_Science/blob/main/Tabel_Data/AutoML/FLAML.ipynb\" target=\"_parent\"><img src=\"https://colab.research.google.com/assets/colab-badge.svg\" alt=\"Open In Colab\"/></a>"
   ]
  },
  {
   "cell_type": "markdown",
   "metadata": {
    "id": "qoveatkGYB4z"
   },
   "source": [
    "## 概要\n",
    "* 学習に使えるモデル  \n",
    "lgbm，xgboost,xgb_limitdepth,rf,extra_tree,lrl1,lrl2,catboost,kneighbor,prophet,arima,sarimax,transformer,temporal_fusion_transformer  \n",
    "https://microsoft.github.io/FLAML/docs/Use-Cases/Task-Oriented-AutoML/#estimator-and-search-space\n",
    "* 参考  \n",
    "https://github.com/microsoft/FLAML/blob/main/notebook/automl_classification.ipynb"
   ]
  },
  {
   "cell_type": "code",
   "execution_count": 1,
   "metadata": {
    "colab": {
     "base_uri": "https://localhost:8080/"
    },
    "id": "05Ff7CHC5tna",
    "outputId": "6aa06f12-e9d7-4b22-c49f-b0e7cb5963fe"
   },
   "outputs": [
    {
     "name": "stdout",
     "output_type": "stream",
     "text": [
      "Looking in indexes: https://pypi.org/simple, https://us-python.pkg.dev/colab-wheels/public/simple/\n",
      "Collecting flaml\n",
      "  Downloading FLAML-1.0.14-py3-none-any.whl (208 kB)\n",
      "\u001b[K     |████████████████████████████████| 208 kB 4.8 MB/s \n",
      "\u001b[?25hRequirement already satisfied: pandas>=1.1.4 in /usr/local/lib/python3.8/dist-packages (from flaml) (1.3.5)\n",
      "Requirement already satisfied: NumPy>=1.17.0rc1 in /usr/local/lib/python3.8/dist-packages (from flaml) (1.21.6)\n",
      "Collecting lightgbm>=2.3.1\n",
      "  Downloading lightgbm-3.3.3-py3-none-manylinux1_x86_64.whl (2.0 MB)\n",
      "\u001b[K     |████████████████████████████████| 2.0 MB 42.8 MB/s \n",
      "\u001b[?25hRequirement already satisfied: scikit-learn>=0.24 in /usr/local/lib/python3.8/dist-packages (from flaml) (1.0.2)\n",
      "Requirement already satisfied: xgboost>=0.90 in /usr/local/lib/python3.8/dist-packages (from flaml) (0.90)\n",
      "Requirement already satisfied: scipy>=1.4.1 in /usr/local/lib/python3.8/dist-packages (from flaml) (1.7.3)\n",
      "Requirement already satisfied: wheel in /usr/local/lib/python3.8/dist-packages (from lightgbm>=2.3.1->flaml) (0.38.4)\n",
      "Requirement already satisfied: python-dateutil>=2.7.3 in /usr/local/lib/python3.8/dist-packages (from pandas>=1.1.4->flaml) (2.8.2)\n",
      "Requirement already satisfied: pytz>=2017.3 in /usr/local/lib/python3.8/dist-packages (from pandas>=1.1.4->flaml) (2022.6)\n",
      "Requirement already satisfied: six>=1.5 in /usr/local/lib/python3.8/dist-packages (from python-dateutil>=2.7.3->pandas>=1.1.4->flaml) (1.15.0)\n",
      "Requirement already satisfied: threadpoolctl>=2.0.0 in /usr/local/lib/python3.8/dist-packages (from scikit-learn>=0.24->flaml) (3.1.0)\n",
      "Requirement already satisfied: joblib>=0.11 in /usr/local/lib/python3.8/dist-packages (from scikit-learn>=0.24->flaml) (1.2.0)\n",
      "Installing collected packages: lightgbm, flaml\n",
      "  Attempting uninstall: lightgbm\n",
      "    Found existing installation: lightgbm 2.2.3\n",
      "    Uninstalling lightgbm-2.2.3:\n",
      "      Successfully uninstalled lightgbm-2.2.3\n",
      "Successfully installed flaml-1.0.14 lightgbm-3.3.3\n"
     ]
    }
   ],
   "source": [
    "%%capture\n",
    "!pip install flaml"
   ]
  },
  {
   "cell_type": "code",
   "execution_count": 9,
   "metadata": {
    "id": "PW3Ptei-5yzC"
   },
   "outputs": [],
   "source": [
    "# FLAML\n",
    "from flaml import AutoML\n",
    "\n",
    "import numpy as np\n",
    "import pandas as pd\n",
    "\n",
    "from sklearn.metrics import accuracy_score\n",
    "from sklearn.datasets import load_iris\n",
    "from sklearn.model_selection import train_test_split"
   ]
  },
  {
   "cell_type": "markdown",
   "metadata": {
    "id": "m4pTfvAjXiw5"
   },
   "source": [
    "## データの用意"
   ]
  },
  {
   "cell_type": "code",
   "execution_count": 3,
   "metadata": {
    "id": "_muGtEdVW_T1"
   },
   "outputs": [],
   "source": [
    "iris_dataset = load_iris()\n",
    "X_train, X_test, y_train, y_test = train_test_split(iris_dataset['data'], iris_dataset['target'], test_size=0.25,  random_state=0)"
   ]
  },
  {
   "cell_type": "markdown",
   "metadata": {
    "id": "fiEO9KmMXd2J"
   },
   "source": [
    "## FLAMLの学習"
   ]
  },
  {
   "cell_type": "code",
   "execution_count": null,
   "metadata": {
    "colab": {
     "base_uri": "https://localhost:8080/"
    },
    "id": "_6FFn1apXNnc",
    "outputId": "55dcdfa1-da8a-4e34-dc16-3c60c081b609"
   },
   "outputs": [],
   "source": [
    "automl = AutoML()\n",
    "\n",
    "settings = {\"time_budget\": 60,                               # 学習に使う時間\n",
    "            \"estimator_list\": ['RGF', 'lgbm', 'rf', 'xgboost'],   # 学習に使うモデルの指定(しなくても良い)\n",
    "            \"metric\": 'accuracy',                              # metricの指定(https://microsoft.github.io/FLAML/docs/Use-Cases/Task-Oriented-AutoML/#optimization-metric)(オリジナルのmetricを作っても良い)\n",
    "            \"task\": 'classification',                            # タスク\n",
    "            #\"log_file_name\": 'airlines_experiment.log',       # logファイルの名前\n",
    "            \"seed\": 3655,                                    # seedの設定\n",
    "            }\n",
    "\n",
    "automl.fit(X_train, y_train, **settings)"
   ]
  },
  {
   "cell_type": "markdown",
   "metadata": {
    "id": "KCOkfGIkY1Ar"
   },
   "source": [
    "## FLAMLの推論"
   ]
  },
  {
   "cell_type": "code",
   "execution_count": 11,
   "metadata": {
    "colab": {
     "base_uri": "https://localhost:8080/"
    },
    "id": "xCJagJXgagz-",
    "outputId": "315d059b-25b3-4f98-a7bb-9b46e8e184f0"
   },
   "outputs": [
    {
     "name": "stdout",
     "output_type": "stream",
     "text": [
      "0.9473684210526315\n"
     ]
    }
   ],
   "source": [
    "# 予測値の出力\n",
    "y_pred = automl.predict(X_test)\n",
    "\n",
    "# 予測値の確率の出力\n",
    "y_pred_proba = automl.predict_proba(X_test)[:,1]\n",
    "\n",
    "acc_score = accuracy_score(y_test, y_pred)\n",
    "print(acc_score)"
   ]
  },
  {
   "cell_type": "code",
   "execution_count": 13,
   "metadata": {
    "colab": {
     "base_uri": "https://localhost:8080/"
    },
    "id": "bkpERUP-Xki1",
    "outputId": "ca614873-f58b-4810-a2eb-fb16ddf49a1b"
   },
   "outputs": [
    {
     "name": "stdout",
     "output_type": "stream",
     "text": [
      "最も精度の高いモデル: rf\n",
      "最も良いハイパーパラメータ: {'n_estimators': 4, 'max_features': 0.6051754338344674, 'max_leaves': 4, 'criterion': 'entropy'}\n",
      "validationデータでの最も高いAccuracy: 0.9822\n",
      "最も良いモデルの学習時間: 0.121 s\n"
     ]
    }
   ],
   "source": [
    "print('最も精度の高いモデル:', automl.best_estimator)\n",
    "print('最も良いハイパーパラメータ:', automl.best_config)\n",
    "print('validationデータでの最も高いAccuracy: {0:.4g}'.format(1-automl.best_loss))\n",
    "print('最も良いモデルの学習時間: {0:.4g} s'.format(automl.best_config_train_time))"
   ]
  },
  {
   "cell_type": "markdown",
   "metadata": {
    "id": "-WZska67dn1k"
   },
   "source": [
    "## metricのカスタマイズ"
   ]
  },
  {
   "cell_type": "code",
   "execution_count": 14,
   "metadata": {
    "id": "Ws4PlH3YcjIa"
   },
   "outputs": [],
   "source": [
    "def custom_metric(X_val, y_val, estimator, labels, X_train, y_train,\n",
    "                  weight_val=None, weight_train=None, config=None,\n",
    "                  groups_val=None, groups_train=None):\n",
    "    from sklearn.metrics import log_loss\n",
    "    import time\n",
    "    start = time.time()\n",
    "    y_pred = estimator.predict_proba(X_val)\n",
    "    pred_time = (time.time() - start) / len(X_val)\n",
    "    val_loss = log_loss(y_val, y_pred, labels=labels,\n",
    "                         sample_weight=weight_val)\n",
    "    y_pred = estimator.predict_proba(X_train)\n",
    "    train_loss = log_loss(y_train, y_pred, labels=labels,\n",
    "                          sample_weight=weight_train)\n",
    "    alpha = 0.5\n",
    "    return val_loss * (1 + alpha) - alpha * train_loss, {\n",
    "        \"val_loss\": val_loss, \"train_loss\": train_loss, \"pred_time\": pred_time\n",
    "    }"
   ]
  },
  {
   "cell_type": "code",
   "execution_count": null,
   "metadata": {
    "colab": {
     "base_uri": "https://localhost:8080/"
    },
    "id": "G4rfgAJxd1S-",
    "outputId": "6403f2e4-0150-4c79-cfa1-bf002525b5d4"
   },
   "outputs": [],
   "source": [
    "automl = AutoML()\n",
    "settings = {\"time_budget\": 10,  \n",
    "            \"metric\": custom_metric,  \n",
    "            \"task\": 'classification',  \n",
    "            \"log_file_name\": 'airlines_experiment_custom_metric.log',  \n",
    "            }\n",
    "\n",
    "automl.fit(X_train=X_train, y_train=y_train, **settings)"
   ]
  }
 ],
 "metadata": {
  "colab": {
   "authorship_tag": "ABX9TyPGH3yKk+dpaIrdC8QBBntF",
   "include_colab_link": true,
   "provenance": []
  },
  "kernelspec": {
   "display_name": "Python 3 (ipykernel)",
   "language": "python",
   "name": "python3"
  },
  "language_info": {
   "codemirror_mode": {
    "name": "ipython",
    "version": 3
   },
   "file_extension": ".py",
   "mimetype": "text/x-python",
   "name": "python",
   "nbconvert_exporter": "python",
   "pygments_lexer": "ipython3",
   "version": "3.9.7"
  }
 },
 "nbformat": 4,
 "nbformat_minor": 4
}
