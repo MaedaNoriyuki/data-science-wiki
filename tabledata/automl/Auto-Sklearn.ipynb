{
 "cells": [
  {
   "cell_type": "markdown",
   "id": "ff0e8438",
   "metadata": {},
   "source": [
    "# Auto-Sklearn"
   ]
  },
  {
   "cell_type": "markdown",
   "id": "15aede38-edaf-4d70-bd04-b25ccde5d38f",
   "metadata": {},
   "source": [
    "* https://qiita.com/DS27/items/08f121929d1c6eb0fcf4"
   ]
  },
  {
   "cell_type": "code",
   "execution_count": 1,
   "id": "b3b82054-5365-4a36-9541-711e20f0df68",
   "metadata": {},
   "outputs": [],
   "source": [
    "%%capture\n",
    "!pip install auto-sklearn"
   ]
  },
  {
   "cell_type": "code",
   "execution_count": null,
   "id": "fb6f5983-c618-4fe0-86c9-69e16498e575",
   "metadata": {},
   "outputs": [],
   "source": [
    "import pandas as pd\n",
    "import matplotlib.pyplot as plt\n",
    "import numpy as np\n",
    "import autosklearn.regression\n",
    "import seaborn as sns\n",
    "import matplotlib.pyplot as plt"
   ]
  },
  {
   "cell_type": "code",
   "execution_count": null,
   "id": "4cc473dc-c8bb-4dda-8ba0-88fafc1215a9",
   "metadata": {},
   "outputs": [],
   "source": []
  }
 ],
 "metadata": {
  "kernelspec": {
   "display_name": "Python 3.9.18 ('.venv': poetry)",
   "language": "python",
   "name": "python3"
  },
  "language_info": {
   "codemirror_mode": {
    "name": "ipython",
    "version": 3
   },
   "file_extension": ".py",
   "mimetype": "text/x-python",
   "name": "python",
   "nbconvert_exporter": "python",
   "pygments_lexer": "ipython3",
   "version": "3.9.18"
  },
  "vscode": {
   "interpreter": {
    "hash": "17a011378fed683b21aba93e5dd7c0cb7beefc09c5af72c6425b40c713e260dc"
   }
  }
 },
 "nbformat": 4,
 "nbformat_minor": 5
}
