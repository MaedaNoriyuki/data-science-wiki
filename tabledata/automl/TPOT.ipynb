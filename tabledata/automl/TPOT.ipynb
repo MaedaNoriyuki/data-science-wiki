{
  "cells": [
    {
      "cell_type": "markdown",
      "metadata": {},
      "source": [
        "# TPOT"
      ]
    },
    {
      "cell_type": "markdown",
      "metadata": {
        "id": "rKL1jslIflls"
      },
      "source": [
        "* \u516c\u5f0f\uff1ahttps://github.com/EpistasisLab/tpot\n",
        "* \u907a\u4f1d\u7684\u30a2\u30eb\u30b4\u30ea\u30ba\u30e0\u3092\u4f7f\u3063\u305fAutoML\n",
        "* \u53c2\u8003\u8a18\u4e8b  \n",
        "https://www.salesanalytics.co.jp/software/automl/automl017/"
      ]
    },
    {
      "cell_type": "markdown",
      "metadata": {
        "colab_type": "text",
        "id": "view-in-github"
      },
      "source": [
        "<a href=\"https://colab.research.google.com/github/fuyu-quant/Data_Science/blob/main/Tabel_Data/AutoML/TPOT.ipynb\" target=\"_parent\"><img src=\"https://colab.research.google.com/assets/colab-badge.svg\" alt=\"Open In Colab\"/></a>"
      ]
    },
    {
      "cell_type": "code",
      "execution_count": null,
      "metadata": {
        "colab": {
          "base_uri": "https://localhost:8080/"
        },
        "id": "q6z5aFS1jMc_",
        "outputId": "d18d2257-b20f-4fe7-82bd-764c5160c1cc"
      },
      "outputs": [],
      "source": [
        "%%capture\n",
        "!pip install TPOT"
      ]
    },
    {
      "cell_type": "code",
      "execution_count": 3,
      "metadata": {
        "id": "QPE6_R4RgNCA"
      },
      "outputs": [],
      "source": [
        "# TPOT\n",
        "from tpot import TPOTClassifier\n",
        "\n",
        "import numpy as np\n",
        "import pandas as pd\n",
        "\n",
        "from sklearn.metrics import accuracy_score\n",
        "from sklearn.datasets import load_iris\n",
        "from sklearn.model_selection import train_test_split"
      ]
    },
    {
      "cell_type": "code",
      "execution_count": 4,
      "metadata": {
        "id": "279VEbIPkzdy"
      },
      "outputs": [],
      "source": [
        "iris_dataset = load_iris()\n",
        "X_train, X_test, y_train, y_test = train_test_split(iris_dataset['data'], iris_dataset['target'], test_size=0.25,  random_state=3655)"
      ]
    },
    {
      "cell_type": "markdown",
      "metadata": {
        "id": "5nuUraNMr6-N"
      },
      "source": [
        "## TPOT\u306e\u5b66\u7fd2"
      ]
    },
    {
      "cell_type": "code",
      "execution_count": 10,
      "metadata": {
        "id": "_dcBOkTok0dh"
      },
      "outputs": [],
      "source": [
        "tpot = TPOTClassifier(generations=5,\n",
        "                      population_size=10,\n",
        "                      random_state = 3655,\n",
        "                      verbosity=2,\n",
        "                      #config_dict = None,\n",
        "                      config_dict = 'TPOT light',  # \u65e9\u304f\u5b9f\u884c\u3057\u305f\u3044\u6642(generations\u3068population_size\u3092\u5897\u3084\u3059)\n",
        "                      #config_dict = 'TPOT MDR',  # \u30e1\u30e2\u30ea\u3092\u7bc0\u7d04\u3057\u305f\u3044\u6642\n",
        "                      #config_dict = 'TPOT sparse',  # \u9ad8\u3044\u7cbe\u5ea6\u3092\u5f97\u305f\u3044\u6642\n",
        "                      #config_dict = 'TPOT NN',  # \u9ad8\u3044\u7cbe\u5ea6\u3092\u5f97\u305f\u3044\u6642(\u5206\u985e\u306e\u307f)\n",
        "                      #config_dict = 'TPOT cuML',  # GPU\u3092\u4f7f\u3063\u305f\u5b66\u7fd2\u3092\u3059\u308b\u6642\n",
        "                      )"
      ]
    },
    {
      "cell_type": "code",
      "execution_count": 11,
      "metadata": {
        "colab": {
          "base_uri": "https://localhost:8080/"
        },
        "id": "rsq15sfrlEh5",
        "outputId": "922a0bd6-1cdb-4096-bd89-ebfd86c51fc2"
      },
      "outputs": [
        {
          "data": {
            "text/plain": [
              "TPOTClassifier(config_dict='TPOT light', generations=5, population_size=10,\n",
              "               random_state=3655, verbosity=2)"
            ]
          },
          "execution_count": 11,
          "metadata": {},
          "output_type": "execute_result"
        }
      ],
      "source": [
        "tpot"
      ]
    },
    {
      "cell_type": "code",
      "execution_count": 12,
      "metadata": {
        "colab": {
          "base_uri": "https://localhost:8080/",
          "height": 260,
          "referenced_widgets": [
            "8cf6b996495049a1a53a9ae982b2733c",
            "b70daa58b3ac409593cf15be8cd4fcf0",
            "7b1092e8097545e0a66216418f9a37c2",
            "fba95b7a9446442b8b3a34609e706fb5",
            "2fd714cb73404d659bdaab695be82a6d",
            "63b8033fd17841db8f9ff1a485bfbe8f",
            "cea9c34b380942c99382955bad69eea3",
            "1dabff74bbae4e419f4e43becdf920b1",
            "312d1dcdd7904525a734f8f4537ffac5",
            "4000beea08ee4562a2f810873d98ea55",
            "b6613201bc13487bbaec5e565482b170"
          ]
        },
        "id": "6vUvbpmYlD_N",
        "outputId": "b79c2f1a-f381-4aa9-d560-d5e20450e2a1"
      },
      "outputs": [
        {
          "data": {
            "application/vnd.jupyter.widget-view+json": {
              "model_id": "8cf6b996495049a1a53a9ae982b2733c",
              "version_major": 2,
              "version_minor": 0
            },
            "text/plain": [
              "Optimization Progress:   0%|          | 0/60 [00:00<?, ?pipeline/s]"
            ]
          },
          "metadata": {},
          "output_type": "display_data"
        },
        {
          "name": "stdout",
          "output_type": "stream",
          "text": [
            "\n",
            "Generation 1 - Current best internal CV score: 0.9640316205533598\n",
            "\n",
            "Generation 2 - Current best internal CV score: 0.9731225296442687\n",
            "\n",
            "Generation 3 - Current best internal CV score: 0.9731225296442687\n",
            "\n",
            "Generation 4 - Current best internal CV score: 0.9731225296442687\n",
            "\n",
            "Generation 5 - Current best internal CV score: 0.9731225296442687\n",
            "\n",
            "Best pipeline: KNeighborsClassifier(input_matrix, n_neighbors=12, p=1, weights=uniform)\n"
          ]
        },
        {
          "data": {
            "text/plain": [
              "TPOTClassifier(config_dict='TPOT light', generations=5, population_size=10,\n",
              "               random_state=3655, verbosity=2)"
            ]
          },
          "execution_count": 12,
          "metadata": {},
          "output_type": "execute_result"
        }
      ],
      "source": [
        "tpot.fit(X_train, y_train)"
      ]
    },
    {
      "cell_type": "markdown",
      "metadata": {
        "id": "_5otU7fQr2tq"
      },
      "source": [
        "## TPOT\u306e\u63a8\u8ad6"
      ]
    },
    {
      "cell_type": "code",
      "execution_count": 13,
      "metadata": {
        "colab": {
          "base_uri": "https://localhost:8080/"
        },
        "id": "-HeH1IwQnFSl",
        "outputId": "e0d90fd9-e301-49d4-e506-30a8e5c57da4"
      },
      "outputs": [
        {
          "data": {
            "text/plain": [
              "array([2, 1, 0, 2, 0, 2, 0, 1, 1, 1, 2, 1, 1, 1, 1, 0, 1, 1, 0, 0, 2, 1,\n",
              "       0, 0, 2, 0, 0, 1, 1, 0, 2, 1, 0, 2, 2, 1, 0, 2])"
            ]
          },
          "execution_count": 13,
          "metadata": {},
          "output_type": "execute_result"
        }
      ],
      "source": [
        "y_pred = tpot.predict(X_test)\n",
        "acc_score = accuracy_score(y_test, y_pred)\n",
        "print(acc_score)"
      ]
    }
  ],
  "metadata": {
    "colab": {
      "authorship_tag": "ABX9TyPMf38M6zXTvJ78IwSDghfu",
      "include_colab_link": true,
      "provenance": []
    },
    "kernelspec": {
      "display_name": "Python 3",
      "name": "python3"
    },
    "language_info": {
      "name": "python"
    }
  },
  "nbformat": 4,
  "nbformat_minor": 0
}