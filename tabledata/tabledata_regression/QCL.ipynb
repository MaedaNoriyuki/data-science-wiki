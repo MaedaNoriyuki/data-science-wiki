{
 "cells": [
  {
   "cell_type": "markdown",
   "id": "c8d00cf6-33ab-4fd2-93c1-d24042eaade3",
   "metadata": {},
   "source": [
    "# QCL(量子回路学習)"
   ]
  },
  {
   "cell_type": "markdown",
   "id": "5c19c5fb",
   "metadata": {},
   "source": [
    "* https://pennylane.ai/qml/demos/tutorial_qnn_module_torch.html"
   ]
  },
  {
   "cell_type": "markdown",
   "id": "197a0f4c",
   "metadata": {},
   "source": [
    "<a href=\"https://colab.research.google.com/github/fuyu-quant/data-science-wiki/blob/main/tabledata/tagledata_regression.ipynb\" target=\"_blank\" rel=\"noopener noreferrer\"><img src=\"https://colab.research.google.com/assets/colab-badge.svg\" alt=\"Open In Colab\"/></a>"
   ]
  },
  {
   "cell_type": "code",
   "execution_count": null,
   "id": "012e7bee-8742-4aa1-ba67-c1513726e467",
   "metadata": {},
   "outputs": [],
   "source": [
    "%%capture\n",
    "!pip install PennyLane\n",
    "!pip install torchinfo"
   ]
  },
  {
   "cell_type": "code",
   "execution_count": 20,
   "id": "430b3405-0c3a-4ce9-ab21-62af11da9b37",
   "metadata": {},
   "outputs": [],
   "source": [
    "import numpy as np\n",
    "import pandas as pd\n",
    "import torch\n",
    "from torchinfo import summary\n",
    "\n",
    "from sklearn import datasets\n",
    "from sklearn.preprocessing import StandardScaler\n",
    "from sklearn.metrics import roc_auc_score\n",
    "from sklearn.model_selection import train_test_split\n",
    "\n",
    "import pennylane as qml\n",
    "from pennylane import numpy as np"
   ]
  },
  {
   "cell_type": "markdown",
   "id": "d124e7c6-be68-47e1-a2d4-0b74cb628920",
   "metadata": {},
   "source": [
    "## データの用意"
   ]
  },
  {
   "cell_type": "code",
   "execution_count": 31,
   "id": "052ac7d2-2a8e-4644-b41e-c7fbd0ee139a",
   "metadata": {},
   "outputs": [],
   "source": [
    "iris = datasets.load_iris()\n",
    "x = iris.data\n",
    "y = iris.target\n"
   ]
  },
  {
   "cell_type": "code",
   "execution_count": 32,
   "id": "027aaadf-645a-4061-9271-d19a2b7492be",
   "metadata": {},
   "outputs": [],
   "source": [
    "x_train, x_valid, y_train, y_valid = train_test_split(x, y, test_size=0.2, random_state=3655)"
   ]
  },
  {
   "cell_type": "code",
   "execution_count": 33,
   "id": "87d909db-7191-4464-aed6-ddd0e1b1e546",
   "metadata": {},
   "outputs": [],
   "source": [
    "# 特徴量の標準化\n",
    "scaler = StandardScaler()\n",
    "scaler.fit(x_train)\n",
    "\n",
    "x_train = scaler.transform(x_train)\n",
    "x_valid = scaler.transform(x_valid)"
   ]
  },
  {
   "cell_type": "code",
   "execution_count": 36,
   "id": "207737d7-ecb4-44b5-ab4c-d5f6614ad607",
   "metadata": {},
   "outputs": [],
   "source": [
    "x_train = torch.tensor(x_train, dtype=torch.float32) #.float()\n",
    "y_train = torch.tensor(y_train, dtype=torch.int32).long()\n",
    "#y_train = torch.tensor(int(y_train)).long()\n",
    "x_valid = torch.tensor(x_valid, dtype=torch.float32)#.float()\n",
    "y_valid = torch.tensor(y_valid, dtype=torch.int32)#.long()"
   ]
  },
  {
   "cell_type": "markdown",
   "id": "d956d000-18fb-4fd3-bf6d-5963292c49b9",
   "metadata": {},
   "source": [
    "## NNモデル"
   ]
  },
  {
   "cell_type": "code",
   "execution_count": 1,
   "id": "0ffc3680-b3cf-4193-81b4-6292ceeba753",
   "metadata": {},
   "outputs": [
    {
     "name": "stderr",
     "output_type": "stream",
     "text": [
      "/usr/local/lib/python3.9/site-packages/torch/nn/modules/linear.py:96: UserWarning: Failed to initialize NumPy: module compiled against API version 0xf but this version of numpy is 0xe (Triggered internally at /root/pytorch/torch/csrc/utils/tensor_numpy.cpp:77.)\n",
      "  self.weight = Parameter(torch.empty((out_features, in_features), **factory_kwargs))\n"
     ]
    }
   ],
   "source": [
    "\n",
    "layer_1 = torch.nn.Linear(2, 2)\n",
    "layer_2 = torch.nn.Linear(2, 2)\n",
    "softmax = torch.nn.Softmax(dim=1)\n",
    "\n",
    "layers = [layer_1, layer_2, softmax]\n",
    "model = torch.nn.Sequential(*layers)"
   ]
  },
  {
   "cell_type": "markdown",
   "id": "d9db535d-de3d-4572-84cd-256d9edc31e8",
   "metadata": {},
   "source": [
    "## QNNモデル"
   ]
  },
  {
   "cell_type": "markdown",
   "id": "db4c76be-dce4-4789-abb6-508c73bd8e57",
   "metadata": {},
   "source": [
    "* 綺麗に描画するためのqiskitのmatplotlibを使う\n",
    "https://pennylane.ai/blog/2021/05/how-to-visualize-quantum-circuits-in-pennylane/"
   ]
  },
  {
   "cell_type": "code",
   "execution_count": 166,
   "id": "0595cb79-c9ab-4bb9-b8ea-b7705004fe39",
   "metadata": {},
   "outputs": [
    {
     "name": "stdout",
     "output_type": "stream",
     "text": [
      "0: ─╭AngleEmbedding(M0)─╭StronglyEntanglingLayers(M1)─┤  <Z>\n",
      "1: ─├AngleEmbedding(M0)─├StronglyEntanglingLayers(M1)─┤  <Z>\n",
      "2: ─├AngleEmbedding(M0)─├StronglyEntanglingLayers(M1)─┤  <Z>\n",
      "3: ─╰AngleEmbedding(M0)─╰StronglyEntanglingLayers(M1)─┤  <Z>\n"
     ]
    }
   ],
   "source": [
    "\n",
    "# pennylaneの通常のシミュレータ\n",
    "#dev = qml.device(\"default.qubit\", wires=4)\n",
    "\n",
    "# C++で書かれた高速シミュレータ\n",
    "dev = qml.device(\"lightning.qubit\", wires=4)\n",
    "dev = qml.device(\"qiskit.aer\", wires=4)\n",
    "n_qubits = 4\n",
    "n_layers = 1\n",
    "\n",
    "# 状態ベクトルシミュレータ上で時間的にもメモリ的にも効率の良い量子勾配計算法(adjoint)\n",
    "# https://pennylane.ai/qml/demos/tutorial_adjoint_diff.html\n",
    "#@qml.qnode(dev, diff_method='adjoint')\n",
    "@qml.qnode(dev)\n",
    "def qnode(inputs, weights):\n",
    "    # デフォルトではRx回転角が使用される\n",
    "    qml.AngleEmbedding(inputs, wires=range(n_qubits))\n",
    "    qml.StronglyEntanglingLayers(weights, wires=range(n_qubits))\n",
    "    #qml.BasicEntanglerLayers(weights, wires=range(n_qubits))\n",
    "    #qml.AngleEmbedding(inputs, wires=range(n_qubits))\n",
    "    #qml.StronglyEntanglingLayers(weights, wires=range(n_qubits))\n",
    "    \n",
    "    return [qml.expval(qml.PauliZ(wires=i)) for i in range(n_qubits)]\n",
    "    #return qml.expval(qml.PauliX(0) @ qml.PauliZ(2))\n",
    "\n",
    "\n",
    "# パラメータの数を取得\n",
    "weight_shape = qml.StronglyEntanglingLayers.shape(n_layers=4, n_wires=4)\n",
    "\n",
    "weight_shapes = {\"weights\": (n_layers, n_qubits, 3)}\n",
    "\n",
    "# 乱数で重みを作る\n",
    "weights = np.random.random(weight_shape)\n",
    "\n",
    "inputs = [0.1, 0.3, 0.4, 0.5]\n",
    "\n",
    "drawer = qml.draw(qnode, show_all_wires=True)#, wire_order=[2,1,0,3])\n",
    "print(drawer(inputs, weights))"
   ]
  },
  {
   "cell_type": "code",
   "execution_count": 167,
   "id": "13321d27-a572-4e0b-ab29-89f3f54af718",
   "metadata": {},
   "outputs": [
    {
     "data": {
      "text/plain": [
       "{'weights': (1, 4, 3)}"
      ]
     },
     "execution_count": 167,
     "metadata": {},
     "output_type": "execute_result"
    }
   ],
   "source": [
    "weight_shapes"
   ]
  },
  {
   "cell_type": "code",
   "execution_count": 168,
   "id": "feb73130-028d-4503-b4d3-a9e7f36a7318",
   "metadata": {},
   "outputs": [],
   "source": [
    "class HybridModel(torch.nn.Module):\n",
    "    def __init__(self):\n",
    "        super().__init__()\n",
    "        self.clayer_1 = torch.nn.Linear(4, 4)\n",
    "        self.qlayer_1 = qml.qnn.TorchLayer(qnode, weight_shapes)\n",
    "        self.clayer_2 = torch.nn.Linear(4, 3)\n",
    "        self.softmax = torch.nn.Softmax(dim=1)\n",
    "\n",
    "    def forward(self, x):\n",
    "        x = self.clayer_1(x)\n",
    "        x = self.qlayer_1(x)\n",
    "        x = self.clayer_2(x)\n",
    "        return self.softmax(x)\n",
    "\n",
    "model = HybridModel()"
   ]
  },
  {
   "cell_type": "code",
   "execution_count": 169,
   "id": "0e6c80df-e138-4b05-b389-2ea334719c81",
   "metadata": {},
   "outputs": [],
   "source": [
    "opt = torch.optim.SGD(model.parameters(), lr=0.2)\n",
    "loss = torch.nn.L1Loss()"
   ]
  },
  {
   "cell_type": "code",
   "execution_count": 170,
   "id": "d5f7eb58-7f53-4c87-8f32-e43a67ec50ef",
   "metadata": {},
   "outputs": [
    {
     "data": {
      "text/plain": [
       "=================================================================\n",
       "Layer (type:depth-idx)                   Param #\n",
       "=================================================================\n",
       "HybridModel                              --\n",
       "├─Linear: 1-1                            20\n",
       "├─TorchLayer: 1-2                        12\n",
       "├─Linear: 1-3                            15\n",
       "├─Softmax: 1-4                           --\n",
       "=================================================================\n",
       "Total params: 47\n",
       "Trainable params: 47\n",
       "Non-trainable params: 0\n",
       "================================================================="
      ]
     },
     "execution_count": 170,
     "metadata": {},
     "output_type": "execute_result"
    }
   ],
   "source": [
    "summary(model)"
   ]
  },
  {
   "cell_type": "markdown",
   "id": "64f7f470-c634-44cb-bc28-c8cd5f272d92",
   "metadata": {},
   "source": [
    "## 学習の実行"
   ]
  },
  {
   "cell_type": "code",
   "execution_count": 171,
   "id": "15f1fb83-f641-4146-ab70-6283a4dba2ae",
   "metadata": {},
   "outputs": [],
   "source": [
    "from torch.utils.data import TensorDataset\n",
    "from torch.utils.data import DataLoader\n",
    "\n",
    "train_dataset = TensorDataset(x_train, y_train)\n",
    "valid_dataset = TensorDataset(x_valid, y_valid)\n",
    "\n",
    "batch_size = 32\n",
    "train_dataloader = DataLoader(train_dataset, batch_size=batch_size, shuffle=True)\n",
    "valid_dataloader = DataLoader(valid_dataset, batch_size=batch_size, shuffle=False)"
   ]
  },
  {
   "cell_type": "code",
   "execution_count": 172,
   "id": "552c1851-eb3c-4209-ba39-36094522d8a2",
   "metadata": {},
   "outputs": [
    {
     "name": "stdout",
     "output_type": "stream",
     "text": [
      "Average loss over epoch 1: 1.4665\n",
      "Average loss over epoch 2: 1.4596\n",
      "Average loss over epoch 3: 1.4482\n",
      "Average loss over epoch 4: 1.4345\n",
      "Average loss over epoch 5: 1.4154\n",
      "Average loss over epoch 6: 1.3913\n",
      "Average loss over epoch 7: 1.3565\n",
      "Average loss over epoch 8: 1.3197\n",
      "Average loss over epoch 9: 1.2816\n",
      "Average loss over epoch 10: 1.2494\n",
      "Average loss over epoch 11: 1.2192\n",
      "Average loss over epoch 12: 1.1946\n",
      "Average loss over epoch 13: 1.1723\n",
      "Average loss over epoch 14: 1.1551\n",
      "Average loss over epoch 15: 1.1435\n",
      "Average loss over epoch 16: 1.1232\n",
      "Average loss over epoch 17: 1.1066\n",
      "Average loss over epoch 18: 1.0954\n",
      "Average loss over epoch 19: 1.0813\n",
      "Average loss over epoch 20: 1.0631\n",
      "Accuracy: 86.66666666666667%\n"
     ]
    }
   ],
   "source": [
    "#batch_size = 5\n",
    "batch_size = 32\n",
    "batches = len(x_train) // batch_size\n",
    "\n",
    "#data_loader = torch.utils.data.DataLoader(list(zip(X, y_hot)), batch_size=5, shuffle=True, drop_last=True)\n",
    "import torch.nn as nn\n",
    "\n",
    "criterion = nn.CrossEntropyLoss()\n",
    "\n",
    "\n",
    "epochs = 20\n",
    "\n",
    "for epoch in range(epochs):\n",
    "\n",
    "    running_loss = 0\n",
    "\n",
    "    for xs, ys in train_dataloader:\n",
    "        opt.zero_grad()\n",
    "        #print(ys)\n",
    "        outputs = model(xs)\n",
    "        #print(outputs)\n",
    "        #y_valid = torch.tensor(y_valid, dtype=torch.int32)\n",
    "\n",
    "        loss_evaluated = criterion(outputs, ys)\n",
    "        loss_evaluated.backward()\n",
    "\n",
    "        opt.step()\n",
    "\n",
    "        running_loss += loss_evaluated\n",
    "\n",
    "    avg_loss = running_loss / batches\n",
    "    print(\"Average loss over epoch {}: {:.4f}\".format(epoch + 1, avg_loss))\n",
    "\n",
    "y_pred = model(x_valid)\n",
    "predictions = torch.argmax(y_pred, axis=1).detach().numpy()\n",
    "\n",
    "correct = [1 if p == p_true else 0 for p, p_true in zip(predictions, y_valid)]\n",
    "accuracy = sum(correct) / len(correct)\n",
    "print(f\"Accuracy: {accuracy * 100}%\")\n"
   ]
  }
 ],
 "metadata": {
  "kernelspec": {
   "display_name": "Python 3.9.18 ('.venv': poetry)",
   "language": "python",
   "name": "python3"
  },
  "language_info": {
   "codemirror_mode": {
    "name": "ipython",
    "version": 3
   },
   "file_extension": ".py",
   "mimetype": "text/x-python",
   "name": "python",
   "nbconvert_exporter": "python",
   "pygments_lexer": "ipython3",
   "version": "3.9.18"
  },
  "vscode": {
   "interpreter": {
    "hash": "17a011378fed683b21aba93e5dd7c0cb7beefc09c5af72c6425b40c713e260dc"
   }
  }
 },
 "nbformat": 4,
 "nbformat_minor": 5
}
