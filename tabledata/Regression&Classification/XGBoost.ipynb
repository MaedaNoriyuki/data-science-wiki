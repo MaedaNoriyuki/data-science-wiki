{
 "cells": [
  {
   "cell_type": "markdown",
   "metadata": {},
   "source": [
    "# XGBoost"
   ]
  },
  {
   "cell_type": "code",
   "execution_count": 1,
   "metadata": {
    "colab": {
     "base_uri": "https://localhost:8080/"
    },
    "executionInfo": {
     "elapsed": 1046,
     "status": "ok",
     "timestamp": 1619012851820,
     "user": {
      "displayName": "田中冬馬",
      "photoUrl": "https://lh6.googleusercontent.com/-FtOcrrdHJbc/AAAAAAAAAAI/AAAAAAAAcfU/0VePcw2boYY/s64/photo.jpg",
      "userId": "03657684902072860636"
     },
     "user_tz": -540
    },
    "id": "mmJhtIYqpfGC",
    "outputId": "9ddb7a2f-53ca-472a-e271-b80966a0be41"
   },
   "outputs": [],
   "source": [
    "import xgboost as xgb"
   ]
  },
  {
   "cell_type": "markdown",
   "metadata": {},
   "source": [
    "# XGBoostの関数"
   ]
  },
  {
   "cell_type": "code",
   "execution_count": null,
   "metadata": {},
   "outputs": [],
   "source": [
    "xgb_params = {\n",
    "    'objective': 'binary:logistic',\n",
    "    'eval_metric': 'auc',\n",
    "    'learning_rate':0.01,\n",
    "    'tree_method':'gpu_hist'\n",
    "}"
   ]
  },
  {
   "cell_type": "code",
   "execution_count": null,
   "metadata": {},
   "outputs": [],
   "source": [
    "def fit_xgboost(X, y, params, folds, add_suffix=''):\n",
    "    \n",
    "    '''\n",
    "    xgb_params = {\n",
    "    'objective': 'binary:logistic',\n",
    "    'eval_metric': 'auc',\n",
    "    'learning_rate':0.01,\n",
    "    'tree_method':'gpu_hist'\n",
    "    }\n",
    "    '''\n",
    "    \n",
    "    oof_pred = np.zeros(len(y), dtype=np.float32)\n",
    "\n",
    "    fold_unique = sorted(folds.unique())\n",
    "    \n",
    "    #foldsはバリデーションの出力\n",
    "    for fold in fold_unique:\n",
    "        idx_train = (folds!=fold)\n",
    "        idx_valid = (folds==fold)\n",
    "        x_train, y_train = X[idx_train], y[idx_train]\n",
    "        x_valid, y_valid = X[idx_valid], y[idx_valid]\n",
    "        \n",
    "        #XGBoostのデータセット\n",
    "        xgb_train = xgb.DMatrix(x_train, label=y_train)\n",
    "        xgb_valid = xgb.DMatrix(x_valid, label=y_valid)\n",
    "        evals = [(xgb_train,'train'),(xgb_valid,'eval')]\n",
    "        \n",
    "        #XGBoostの学習\n",
    "        model = xgb.train(\n",
    "            params,\n",
    "            xgb_train,\n",
    "            num_boost_round=100000,\n",
    "            early_stopping_rounds=100,\n",
    "            evals=evals,\n",
    "            verbose_eval=100\n",
    "        )\n",
    "        \n",
    "        #pickle.dumpにより，指定したファイルにオブジェクトを保存(pickle化)\n",
    "        #open関数でファイルを作成，または上書き保存\n",
    "        pickle.dump(model, open(f'xgb_fold{fold}{add_suffix}.pkl', 'wb'))\n",
    "        \n",
    "        #予測値の出力\n",
    "        pred_i = model.predict(xgb.DMatrix(x_valid), ntree_limit=model.best_ntree_limit)\n",
    "        \n",
    "        oof_pred[x_valid.index] = pred_i\n",
    "        \n",
    "        #round関数で小数点の四捨五入\n",
    "        #AUCの計算\n",
    "        score = round(roc_auc_score(y_valid, pred_i), 5)\n",
    "        print(f'Performance of the prediction: {score}\\n')\n",
    "\n",
    "    score = round(roc_auc_score(y, oof_pred), 5)\n",
    "    print(f'All Performance of the prediction: {score}')\n",
    "    del model\n",
    "    gc.collect()\n",
    "    return oof_pred"
   ]
  },
  {
   "cell_type": "markdown",
   "metadata": {},
   "source": [
    "# XGBoostの予測の関数"
   ]
  },
  {
   "cell_type": "code",
   "execution_count": null,
   "metadata": {},
   "outputs": [],
   "source": [
    "def pred_xgboost(X, data_dir: Path, add_suffix=''):\n",
    "    #pickleファイルからモデルを読み込む\n",
    "    models = glob(str(data_dir / f'xgb*{add_suffix}.pkl'))\n",
    "    #非pickle化\n",
    "    models = [pickle.load(open(model, 'rb')) for model in models]\n",
    "    #各モデルでの出力値をリストに格納\n",
    "    preds = np.array([model.predict(xgb.DMatrix(X), ntree_limit=model.best_ntree_limit) for model in models])\n",
    "    #平均を取る\n",
    "    preds = np.mean(preds, axis=0)\n",
    "    #予測値の出力\n",
    "    return preds"
   ]
  }
 ],
 "metadata": {
  "colab": {
   "authorship_tag": "ABX9TyPx6JzsrTF740bXDsdQSWrk",
   "name": "XGBoost.ipynb",
   "provenance": []
  },
  "kernelspec": {
   "display_name": "Python 3",
   "language": "python",
   "name": "python3"
  },
  "language_info": {
   "codemirror_mode": {
    "name": "ipython",
    "version": 3
   },
   "file_extension": ".py",
   "mimetype": "text/x-python",
   "name": "python",
   "nbconvert_exporter": "python",
   "pygments_lexer": "ipython3",
   "version": "3.9.2"
  }
 },
 "nbformat": 4,
 "nbformat_minor": 4
}
