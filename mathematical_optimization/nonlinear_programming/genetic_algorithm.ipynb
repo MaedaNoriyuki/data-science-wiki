{
  "cells": [
    {
      "cell_type": "markdown",
      "metadata": {},
      "source": [
        "# 遺伝的アルゴリズム"
      ]
    },
    {
      "cell_type": "markdown",
      "metadata": {
        "id": "3dcElPSSqi-G"
      },
      "source": [
        "* https://qiita.com/simonritchie/items/d7f1596e7d034b9422ce"
      ]
    },
    {
      "cell_type": "markdown",
      "metadata": {
        "colab_type": "text",
        "id": "view-in-github"
      },
      "source": [
        "<a href=\"https://colab.research.google.com/github/fuyu-quant/Data_Science/blob/main/Mathematical_Optimization/Genetic_Algorithm.ipynb\" target=\"_parent\"><img src=\"https://colab.research.google.com/assets/colab-badge.svg\" alt=\"Open In Colab\"/></a>"
      ]
    },
    {
      "cell_type": "code",
      "execution_count": 3,
      "metadata": {
        "id": "97EiN5obp15J"
      },
      "outputs": [],
      "source": [
        "%%capture\n",
        "!pip install vcopt"
      ]
    },
    {
      "cell_type": "code",
      "execution_count": 4,
      "metadata": {
        "id": "EWQbox3oqTTA"
      },
      "outputs": [],
      "source": [
        "from vcopt import vcopt"
      ]
    },
    {
      "cell_type": "markdown",
      "metadata": {
        "id": "0auqNAyZq4VM"
      },
      "source": [
        "* 最適化したい関数の定義"
      ]
    },
    {
      "cell_type": "code",
      "execution_count": 30,
      "metadata": {
        "id": "9wEIn89kr49o"
      },
      "outputs": [],
      "source": [
        "#評価関数\n",
        "def f(x):\n",
        "    return x**2 + 5*x + 4"
      ]
    },
    {
      "cell_type": "markdown",
      "metadata": {
        "id": "i93aqPBSq_WB"
      },
      "source": [
        "* 範囲の指定"
      ]
    },
    {
      "cell_type": "code",
      "execution_count": 31,
      "metadata": {
        "id": "ROU1d8v2qqaa"
      },
      "outputs": [],
      "source": [
        "x_range = [-5, 10]"
      ]
    },
    {
      "cell_type": "code",
      "execution_count": 32,
      "metadata": {
        "colab": {
          "base_uri": "https://localhost:8080/"
        },
        "id": "r_jCFuGhrHMG",
        "outputId": "a1105362-719f-4a0c-9b29-1c9b087159e4"
      },
      "outputs": [
        {
          "name": "stdout",
          "output_type": "stream",
          "text": [
            "________________________________________ info ________________________________________\n",
            "para_range     : n=1\n",
            "score_func     : <class 'function'>\n",
            "aim            : ==-9999.0\n",
            "show_pool_func : 'bar'\n",
            "seed           : None\n",
            "pool_num       : 10\n",
            "max_gen        : None\n",
            "core_num       : 1 (*vcopt, vc-grendel)\n",
            "_______________________________________ start ________________________________________\n",
            "Scoring first gen 10/10        \n",
            "|                                       +< | gen=60, best_score=-2.25\n",
            "_______________________________________ result _______________________________________\n",
            "para = np.array([-2.5019394513071966])\n",
            "score = -2.2499962385286265\n",
            "________________________________________ end _________________________________________\n"
          ]
        }
      ],
      "source": [
        "#最適化を実行\n",
        "para, score = vcopt().rcGA(x_range, f, -9999)"
      ]
    },
    {
      "cell_type": "code",
      "execution_count": null,
      "metadata": {
        "id": "3AUaHm8_r-Ze"
      },
      "outputs": [],
      "source": []
    }
  ],
  "metadata": {
    "colab": {
      "authorship_tag": "ABX9TyM8H+VfpxSBUoxHQVoYUTnz",
      "include_colab_link": true,
      "provenance": []
    },
    "kernelspec": {
      "display_name": "Python 3",
      "name": "python3"
    },
    "language_info": {
      "name": "python"
    }
  },
  "nbformat": 4,
  "nbformat_minor": 0
}
