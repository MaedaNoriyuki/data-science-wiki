{
  "cells": [
    {
      "cell_type": "markdown",
      "metadata": {},
      "source": [
        "# 巡回セールスマン問題"
      ]
    },
    {
      "cell_type": "markdown",
      "metadata": {
        "id": "S3RJDCjLhEnR"
      },
      "source": [
        "* 混合整数計画問題として解く(0-1変数と実数変数)\n",
        "* PythonのソルバーであるPuLPを利用する\n",
        "* 巡回路の距離が最小になる組み合わせを探す\n",
        "* 以下のコードで計算できるのは初期地点を除く7配送地点まで"
      ]
    },
    {
      "cell_type": "markdown",
      "metadata": {
        "colab_type": "text",
        "id": "view-in-github"
      },
      "source": [
        "<a href=\"https://colab.research.google.com/github/ToumaTanaka/Data_Science/blob/main/Mathematical_Optimization/Traveling_salesman_problem.ipynb\" target=\"_parent\"><img src=\"https://colab.research.google.com/assets/colab-badge.svg\" alt=\"Open In Colab\"/></a>"
      ]
    },
    {
      "cell_type": "code",
      "execution_count": 35,
      "metadata": {
        "colab": {
          "base_uri": "https://localhost:8080/"
        },
        "id": "tMLg8oQtMJ1a",
        "outputId": "9f9f61a6-b86f-43cb-c49f-f74102d646cb"
      },
      "outputs": [
        {
          "name": "stdout",
          "output_type": "stream",
          "text": [
            "Requirement already satisfied: pulp in /usr/local/lib/python3.7/dist-packages (2.6.0)\n"
          ]
        }
      ],
      "source": [
        "!pip install pulp"
      ]
    },
    {
      "cell_type": "code",
      "execution_count": 229,
      "metadata": {
        "id": "P0mmdljfMwSQ"
      },
      "outputs": [],
      "source": [
        "import pulp\n",
        "import pandas as pd\n",
        "import matplotlib.pyplot as plt\n",
        "import math\n",
        "from google.colab import files\n",
        "import time"
      ]
    },
    {
      "cell_type": "code",
      "execution_count": 240,
      "metadata": {
        "colab": {
          "base_uri": "https://localhost:8080/",
          "height": 300
        },
        "id": "RrkwIxDzRCgm",
        "outputId": "a2ef1266-246f-4db9-dfff-d7797a7222da"
      },
      "outputs": [
        {
          "data": {
            "text/html": [
              "<div>\n",
              "<style scoped>\n",
              "    .dataframe tbody tr th:only-of-type {\n",
              "        vertical-align: middle;\n",
              "    }\n",
              "\n",
              "    .dataframe tbody tr th {\n",
              "        vertical-align: top;\n",
              "    }\n",
              "\n",
              "    .dataframe thead th {\n",
              "        text-align: right;\n",
              "    }\n",
              "</style>\n",
              "<table border=\"1\" class=\"dataframe\">\n",
              "  <thead>\n",
              "    <tr style=\"text-align: right;\">\n",
              "      <th></th>\n",
              "      <th>Unnamed: 0</th>\n",
              "      <th>x</th>\n",
              "      <th>y</th>\n",
              "    </tr>\n",
              "  </thead>\n",
              "  <tbody>\n",
              "    <tr>\n",
              "      <th>0</th>\n",
              "      <td>0</td>\n",
              "      <td>0</td>\n",
              "      <td>0</td>\n",
              "    </tr>\n",
              "    <tr>\n",
              "      <th>1</th>\n",
              "      <td>1</td>\n",
              "      <td>60</td>\n",
              "      <td>1</td>\n",
              "    </tr>\n",
              "    <tr>\n",
              "      <th>2</th>\n",
              "      <td>2</td>\n",
              "      <td>11</td>\n",
              "      <td>60</td>\n",
              "    </tr>\n",
              "    <tr>\n",
              "      <th>3</th>\n",
              "      <td>3</td>\n",
              "      <td>13</td>\n",
              "      <td>9</td>\n",
              "    </tr>\n",
              "    <tr>\n",
              "      <th>4</th>\n",
              "      <td>4</td>\n",
              "      <td>59</td>\n",
              "      <td>64</td>\n",
              "    </tr>\n",
              "    <tr>\n",
              "      <th>5</th>\n",
              "      <td>5</td>\n",
              "      <td>26</td>\n",
              "      <td>1</td>\n",
              "    </tr>\n",
              "    <tr>\n",
              "      <th>6</th>\n",
              "      <td>6</td>\n",
              "      <td>25</td>\n",
              "      <td>80</td>\n",
              "    </tr>\n",
              "    <tr>\n",
              "      <th>7</th>\n",
              "      <td>7</td>\n",
              "      <td>38</td>\n",
              "      <td>65</td>\n",
              "    </tr>\n",
              "  </tbody>\n",
              "</table>\n",
              "</div>"
            ],
            "text/plain": [
              "   Unnamed: 0   x   y\n",
              "0           0   0   0\n",
              "1           1  60   1\n",
              "2           2  11  60\n",
              "3           3  13   9\n",
              "4           4  59  64\n",
              "5           5  26   1\n",
              "6           6  25  80\n",
              "7           7  38  65"
            ]
          },
          "execution_count": 240,
          "metadata": {},
          "output_type": "execute_result"
        }
      ],
      "source": [
        "#配送地点のデータを読み込む\n",
        "df = pd.read_csv('data.csv')\n",
        "#df = pd.read_csv('5配送地点仮想データ.csv')\n",
        "df.head(15)"
      ]
    },
    {
      "cell_type": "code",
      "execution_count": 241,
      "metadata": {
        "colab": {
          "base_uri": "https://localhost:8080/",
          "height": 336
        },
        "id": "v124QQQUWr9P",
        "outputId": "763e1edc-843c-4d97-d36e-e419bc78acc6"
      },
      "outputs": [
        {
          "data": {
            "image/png": "[encoded data removed]",
            "text/plain": [
              "<Figure size 360x360 with 1 Axes>"
            ]
          },
          "metadata": {
            "needs_background": "light"
          },
          "output_type": "display_data"
        }
      ],
      "source": [
        "plt.figure(figsize=(5, 5))\n",
        "\n",
        "for i, row in df.iterrows():\n",
        "    if i == 0:\n",
        "        plt.scatter(row['x'], row['y'], c='r')\n",
        "        plt.text(row['x'] + 1, row['y'] + 1, 'depot')\n",
        "    else:\n",
        "        plt.scatter(row['x'], row['y'], c='black')\n",
        "        plt.text(row['x'] + 1, row['y'] + 1, f'{i}')\n",
        "\n",
        "plt.xlim([-10, 110])\n",
        "plt.ylim([-10, 110])\n",
        "plt.title('points: id')\n",
        "plt.show()"
      ]
    },
    {
      "cell_type": "code",
      "execution_count": 242,
      "metadata": {
        "colab": {
          "base_uri": "https://localhost:8080/"
        },
        "id": "JUy96jSCFVDt",
        "outputId": "d79a2563-c112-4204-867e-5673d9f1e4ae"
      },
      "outputs": [
        {
          "name": "stdout",
          "output_type": "stream",
          "text": [
            "8\n"
          ]
        }
      ],
      "source": [
        "a = df.shape[0] \n",
        "print(a)"
      ]
    },
    {
      "cell_type": "code",
      "execution_count": 243,
      "metadata": {
        "id": "T26wa40_OrzV"
      },
      "outputs": [],
      "source": [
        "#距離のリストを作成\n",
        "distances = [] \n",
        "\n",
        "for i in range(a):\n",
        "  distances.append([]) \n",
        "  for j in range(a):\n",
        "    x_1 = df.iloc[i,1]\n",
        "    y_1 = df.iloc[i,2]\n",
        "    x_2 = df.iloc[j,1]\n",
        "    y_2 = df.iloc[j,2]\n",
        "    d = ((x_1 - x_2)**2 +(y_1 - y_2)**2)**(1/2)\n",
        "    #数値が長くなるので小数点以下切り捨て\n",
        "    d = math.floor(d)\n",
        "    distances[i].append(d) \n"
      ]
    },
    {
      "cell_type": "code",
      "execution_count": 244,
      "metadata": {
        "id": "QuEFSGO3Wp3E"
      },
      "outputs": [],
      "source": [
        "#変数の定義\n",
        "#0-1整数のための変数\n",
        "x = pulp.LpVariable.dicts('x', ((i, j) for i in range(a) for j in range(a)), cat='Binary')\n",
        "\n",
        "#サブループを回避するための順序を与える変数\n",
        "u = pulp.LpVariable.dicts('u', (i for i in range(a)), lowBound=1, upBound=n_point, cat='Continuous')"
      ]
    },
    {
      "cell_type": "code",
      "execution_count": 245,
      "metadata": {
        "id": "oNz0vTjBW5E_"
      },
      "outputs": [],
      "source": [
        "#最小値問題のモデルを定義\n",
        "problem = pulp.LpProblem('巡回セールスマン問題', sense=pulp.LpMinimize)\n",
        "\n",
        "\n",
        "#定義したモデルに制約式を追加\n",
        "\n",
        "\n",
        "#地点Aから別の地点に移動するものはどれか一つ\n",
        "for i in range(a):\n",
        "    problem += x[i, i] == 0\n",
        "\n",
        "#地点Aから別の地点に移動するものはどれか一つ\n",
        "#別の地点から地点Aに移動するものはどれか一つ\n",
        "for i in range(a):\n",
        "    problem += pulp.lpSum(x[i, j] for j in range(a)) == 1\n",
        "    problem += pulp.lpSum(x[j, i] for j in range(a)) == 1\n",
        "  \n",
        "\n",
        "\n",
        "#部分巡回路を排除するような制約にはさまざまなアプローチがある\n",
        "#MTZ制約\n",
        "for i in range(a):\n",
        "    for j in range(a):\n",
        "        if i != j and (i != 0 and j != 0):\n",
        "            problem += u[i] - u[j] <= a * (1 - x[i, j]) - 1\n",
        "\n",
        "\n",
        "#定義したモデルに目的関数を追加\n",
        "problem += pulp.lpSum(distances[i][j] * x[i, j] for i in range(a) for j in range(a))"
      ]
    },
    {
      "cell_type": "code",
      "execution_count": 246,
      "metadata": {
        "colab": {
          "base_uri": "https://localhost:8080/"
        },
        "id": "-UoC3qsJibgX",
        "outputId": "cc7b5c78-9e5d-4c21-b54e-0c9cb58a6045"
      },
      "outputs": [
        {
          "name": "stdout",
          "output_type": "stream",
          "text": [
            "経過時間：0.3415393829345703\n",
            "Optimal\n",
            "252.0\n"
          ]
        }
      ],
      "source": [
        "# 処理前の時刻\n",
        "t1 = time.time() \n",
        "\n",
        "#解を求める\n",
        "result = problem.solve()\n",
        "\n",
        "# 処理後の時刻\n",
        "t2 = time.time()\n",
        "\n",
        "elapsed_time = t2-t1\n",
        "print(f\"経過時間：{elapsed_time}\")\n",
        "\n",
        "#現在の状態を表示\n",
        "#-3: 'Undefined',    未定義\n",
        "#-2: 'Unbounded',   非有界\n",
        "#-1: 'Infeasible',     実行不可能\n",
        "#0: 'Not Solved'    解けなかった\n",
        "#1: 'Optimal'       最適解を発見\n",
        "print(pulp.LpStatus[result])\n",
        "\n",
        "#目的関数の値を表示\n",
        "print(pulp.value(problem.objective))"
      ]
    },
    {
      "cell_type": "markdown",
      "metadata": {
        "id": "6blxltDRWUiS"
      },
      "source": [
        "## 最適化結果の可視化"
      ]
    },
    {
      "cell_type": "code",
      "execution_count": 247,
      "metadata": {
        "colab": {
          "base_uri": "https://localhost:8080/",
          "height": 336
        },
        "id": "p3jpwPpwWTZB",
        "outputId": "f751f783-cd6d-47cb-f272-99373825ff6a"
      },
      "outputs": [
        {
          "data": {
            "image/png": "[encoded data removed]",
            "text/plain": [
              "<Figure size 360x360 with 1 Axes>"
            ]
          },
          "metadata": {
            "needs_background": "light"
          },
          "output_type": "display_data"
        }
      ],
      "source": [
        "plt.figure(figsize=(5, 5))\n",
        "\n",
        "for i, row in df.iterrows():\n",
        "    if i == 0:\n",
        "        plt.scatter(row['x'], row['y'], c='r')\n",
        "        plt.text(row['x'] + 1, row['y'] + 1, 'depot')\n",
        "    else:\n",
        "        plt.scatter(row['x'], row['y'], c='black')\n",
        "        plt.text(row['x'] + 1, row['y'] + 1, f'{i}')\n",
        "\n",
        "plt.xlim([-10, 110])\n",
        "plt.ylim([-10, 110])\n",
        "plt.title('points: id')\n",
        "\n",
        "#最適化ルートの描画\n",
        "routes = [(i, j) for i in range(a) for j in range(a) if pulp.value(x[i, j]) == 1]\n",
        "arrowprops = dict(arrowstyle='->', connectionstyle='arc3', edgecolor='blue')\n",
        "for i, j in routes:\n",
        "    plt.annotate('', xy=[df.iloc[j]['x'], df.iloc[j]['y']], xytext=[df.iloc[i]['x'], df.iloc[i]['y']], arrowprops=arrowprops)\n",
        "plt.show()"
      ]
    },
    {
      "cell_type": "code",
      "execution_count": null,
      "metadata": {},
      "outputs": [],
      "source": []
    }
  ],
  "metadata": {
    "colab": {
      "authorship_tag": "ABX9TyMbIkiFXGOWZpUeqHejRb/8",
      "include_colab_link": true,
      "name": "Traveling_salesman_problem.ipynb",
      "provenance": []
    },
    "kernelspec": {
      "display_name": "Python 3",
      "name": "python3"
    },
    "language_info": {
      "name": "python"
    }
  },
  "nbformat": 4,
  "nbformat_minor": 0
}
