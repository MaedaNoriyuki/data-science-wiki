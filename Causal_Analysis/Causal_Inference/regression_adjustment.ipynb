{
 "cells": [
  {
   "cell_type": "markdown",
   "id": "98daaf5d-c83e-4749-b466-0193bce90849",
   "metadata": {},
   "source": [
    "# Regression Adjustment\n",
    "* d分離を考慮した回帰モデルの構築\n",
    "* 結果変数が連続量の時は線形回帰，離散量の時はロジスティック回帰\n",
    "* d分離の操作の後に残っている変数を入力変数として回帰モデルを構築する\n",
    "* データの関係性が線形なことを仮定している"
   ]
  },
  {
   "cell_type": "code",
   "execution_count": 1,
   "id": "828c166d-cbde-45e4-a0ce-dda770a4657f",
   "metadata": {},
   "outputs": [],
   "source": [
    "from sklearn.linear_model import LinearRegression\n",
    "\n",
    "import random\n",
    "import numpy as np\n",
    "import pandas as pd\n",
    "\n",
    "\n",
    "from numpy.random import *\n",
    "import matplotlib.pyplot as plt\n",
    "import scipy.stats\n",
    "from scipy.special import expit\n",
    "\n",
    "\n",
    "np.random.seed(3655)"
   ]
  },
  {
   "cell_type": "markdown",
   "id": "134f1d83-db2d-4d9f-aa23-46c81dadeb1f",
   "metadata": {},
   "source": [
    "## データの用意\n",
    "* d分離をした後に残っている変数を使い回帰モデルを構築する(今回はそのような擬似データを作る)"
   ]
  },
  {
   "cell_type": "code",
   "execution_count": 2,
   "id": "54629718-77f4-4c46-aa82-49281c7db7c7",
   "metadata": {},
   "outputs": [],
   "source": [
    "# データ数\n",
    "num_data = 100000\n",
    "\n",
    "# 年齢\n",
    "x_1 = randint(15, 76, num_data)  # 15から75歳の一様乱数\n",
    "\n",
    "# 性別（0を女性、1を男性とします）\n",
    "x_2 = randint(0, 2, num_data)  # 0か1の乱数\n",
    "\n",
    "# ノイズの生成\n",
    "e_z = randn(num_data)\n",
    "\n",
    "# シグモイド関数に入れる部分\n",
    "z_base = x_1 + (1-x_2)*10 - 40 + 5*e_z\n",
    "\n",
    "# シグモイド関数を計算\n",
    "z_prob = expit(0.1*z_base)\n",
    "\n",
    "# テレビCMを見たかどうかの変数（0は見ていない、1は見た）\n",
    "Z = np.array([])\n",
    "\n",
    "for i in range(num_data):\n",
    "    Z_i = np.random.choice(2, size=1, p=[1-z_prob[i], z_prob[i]])[0]\n",
    "    Z = np.append(Z, Z_i)\n",
    "    \n",
    "# ノイズの生成\n",
    "e_y = randn(num_data)\n",
    "\n",
    "Y = -x_1 + 30*x_2 + 10*Z + 80 + 10*e_y"
   ]
  },
  {
   "cell_type": "code",
   "execution_count": 3,
   "id": "db5c34cf-3a58-4013-9d00-e1fda86f2ce4",
   "metadata": {},
   "outputs": [
    {
     "data": {
      "text/html": [
       "<div>\n",
       "<style scoped>\n",
       "    .dataframe tbody tr th:only-of-type {\n",
       "        vertical-align: middle;\n",
       "    }\n",
       "\n",
       "    .dataframe tbody tr th {\n",
       "        vertical-align: top;\n",
       "    }\n",
       "\n",
       "    .dataframe thead th {\n",
       "        text-align: right;\n",
       "    }\n",
       "</style>\n",
       "<table border=\"1\" class=\"dataframe\">\n",
       "  <thead>\n",
       "    <tr style=\"text-align: right;\">\n",
       "      <th></th>\n",
       "      <th>年齢</th>\n",
       "      <th>性別</th>\n",
       "      <th>CMを見た</th>\n",
       "      <th>購入量</th>\n",
       "    </tr>\n",
       "  </thead>\n",
       "  <tbody>\n",
       "    <tr>\n",
       "      <th>0</th>\n",
       "      <td>42</td>\n",
       "      <td>1</td>\n",
       "      <td>1.0</td>\n",
       "      <td>80.742174</td>\n",
       "    </tr>\n",
       "    <tr>\n",
       "      <th>1</th>\n",
       "      <td>46</td>\n",
       "      <td>1</td>\n",
       "      <td>1.0</td>\n",
       "      <td>78.582308</td>\n",
       "    </tr>\n",
       "    <tr>\n",
       "      <th>2</th>\n",
       "      <td>28</td>\n",
       "      <td>0</td>\n",
       "      <td>1.0</td>\n",
       "      <td>69.532577</td>\n",
       "    </tr>\n",
       "    <tr>\n",
       "      <th>3</th>\n",
       "      <td>21</td>\n",
       "      <td>0</td>\n",
       "      <td>0.0</td>\n",
       "      <td>73.698435</td>\n",
       "    </tr>\n",
       "    <tr>\n",
       "      <th>4</th>\n",
       "      <td>69</td>\n",
       "      <td>1</td>\n",
       "      <td>1.0</td>\n",
       "      <td>44.185729</td>\n",
       "    </tr>\n",
       "  </tbody>\n",
       "</table>\n",
       "</div>"
      ],
      "text/plain": [
       "   年齢  性別  CMを見た        購入量\n",
       "0  42   1    1.0  80.742174\n",
       "1  46   1    1.0  78.582308\n",
       "2  28   0    1.0  69.532577\n",
       "3  21   0    0.0  73.698435\n",
       "4  69   1    1.0  44.185729"
      ]
     },
     "execution_count": 3,
     "metadata": {},
     "output_type": "execute_result"
    }
   ],
   "source": [
    "df = pd.DataFrame({'年齢': x_1,\n",
    "                   '性別': x_2,\n",
    "                   'CMを見た': Z,\n",
    "                   '購入量': Y,\n",
    "                   })\n",
    "\n",
    "df.head() "
   ]
  },
  {
   "cell_type": "code",
   "execution_count": 4,
   "id": "a36da63a-8b43-4304-842d-7c27c2077123",
   "metadata": {},
   "outputs": [
    {
     "name": "stdout",
     "output_type": "stream",
     "text": [
      "年齢       52.512092\n",
      "性別        0.445553\n",
      "CMを見た     1.000000\n",
      "購入量      50.823187\n",
      "dtype: float64\n",
      "年齢       31.486615\n",
      "性別        0.598827\n",
      "CMを見た     0.000000\n",
      "購入量      66.512602\n",
      "dtype: float64\n"
     ]
    }
   ],
   "source": [
    "print(df[df[\"CMを見た\"] == 1.0].mean())\n",
    "print(df[df[\"CMを見た\"] == 0.0].mean())"
   ]
  },
  {
   "cell_type": "markdown",
   "id": "8685bcce-f9cf-42e2-a0f3-45580e5d379a",
   "metadata": {},
   "source": [
    "## 因果の効果"
   ]
  },
  {
   "cell_type": "code",
   "execution_count": 5,
   "id": "0407ff2a-b98f-4b3d-81a2-507aeabebff7",
   "metadata": {},
   "outputs": [
    {
     "name": "stdout",
     "output_type": "stream",
     "text": [
      "係数： [-0.99893762 29.97204626  9.90764621]\n"
     ]
    }
   ],
   "source": [
    "# 説明変数\n",
    "X = df[[\"年齢\", \"性別\", \"CMを見た\"]]\n",
    "\n",
    "# 被説明変数（目的変数）\n",
    "y = df[\"購入量\"]\n",
    "\n",
    "# 回帰の実施\n",
    "reg = LinearRegression().fit(X, y)\n",
    "\n",
    "# 回帰した結果の係数を出力\n",
    "print(\"係数：\", reg.coef_)\n"
   ]
  },
  {
   "cell_type": "code",
   "execution_count": null,
   "id": "7841f9bd-8ed3-4800-8a32-ea4ac55f447a",
   "metadata": {},
   "outputs": [],
   "source": []
  }
 ],
 "metadata": {
  "kernelspec": {
   "display_name": "Python 3 (ipykernel)",
   "language": "python",
   "name": "python3"
  },
  "language_info": {
   "codemirror_mode": {
    "name": "ipython",
    "version": 3
   },
   "file_extension": ".py",
   "mimetype": "text/x-python",
   "name": "python",
   "nbconvert_exporter": "python",
   "pygments_lexer": "ipython3",
   "version": "3.9.7"
  }
 },
 "nbformat": 4,
 "nbformat_minor": 5
}
