{
 "cells": [
  {
   "cell_type": "markdown",
   "id": "8d9fac3d-2bb3-4b8e-9c88-08465139f8c9",
   "metadata": {},
   "source": [
    "# IPTW(Inverse Probability of Treatment Weightning)\n",
    "* 逆確率重み付け法\n",
    "* 傾向スコアの値が0に近いと不安定になる"
   ]
  },
  {
   "cell_type": "code",
   "execution_count": 4,
   "id": "4c799722-8430-42f4-a8e3-74458c718b45",
   "metadata": {},
   "outputs": [],
   "source": [
    "from sklearn.linear_model import LogisticRegression\n",
    "\n",
    "import random\n",
    "import numpy as np\n",
    "import pandas as pd\n",
    "\n",
    "\n",
    "from numpy.random import *\n",
    "import matplotlib.pyplot as plt\n",
    "import scipy.stats\n",
    "from scipy.special import expit\n",
    "\n",
    "\n",
    "np.random.seed(3655)\n",
    "#random.seed(3655)"
   ]
  },
  {
   "cell_type": "markdown",
   "id": "1d410038-1ef0-4209-a66b-762f0b3db0f5",
   "metadata": {},
   "source": [
    "## データの用意"
   ]
  },
  {
   "cell_type": "code",
   "execution_count": 22,
   "id": "ed7186ae-4959-4432-9b47-8f937d1f10d6",
   "metadata": {},
   "outputs": [],
   "source": [
    "# データ数\n",
    "num_data = 100000\n",
    "\n",
    "# 年齢\n",
    "x_1 = randint(15, 76, num_data)  # 15から75歳の一様乱数\n",
    "\n",
    "# 性別（0を女性、1を男性とします）\n",
    "x_2 = randint(0, 2, num_data)  # 0か1の乱数\n",
    "\n",
    "# ノイズの生成\n",
    "e_z = randn(num_data)\n",
    "\n",
    "# シグモイド関数に入れる部分\n",
    "z_base = x_1 + (1-x_2)*10 - 40 + 5*e_z\n",
    "\n",
    "# シグモイド関数を計算\n",
    "z_prob = expit(0.1*z_base)\n",
    "\n",
    "# テレビCMを見たかどうかの変数（0は見ていない、1は見た）\n",
    "Z = np.array([])\n",
    "\n",
    "for i in range(num_data):\n",
    "    Z_i = np.random.choice(2, size=1, p=[1-z_prob[i], z_prob[i]])[0]\n",
    "    Z = np.append(Z, Z_i)\n",
    "    \n",
    "# ノイズの生成\n",
    "e_y = randn(num_data)\n",
    "\n",
    "Y = -x_1 + 30*x_2 + 10*Z + 80 + 10*e_y"
   ]
  },
  {
   "cell_type": "code",
   "execution_count": 23,
   "id": "f87a6eff-455e-4059-b41d-901b3c5be2dc",
   "metadata": {},
   "outputs": [
    {
     "data": {
      "text/html": [
       "<div>\n",
       "<style scoped>\n",
       "    .dataframe tbody tr th:only-of-type {\n",
       "        vertical-align: middle;\n",
       "    }\n",
       "\n",
       "    .dataframe tbody tr th {\n",
       "        vertical-align: top;\n",
       "    }\n",
       "\n",
       "    .dataframe thead th {\n",
       "        text-align: right;\n",
       "    }\n",
       "</style>\n",
       "<table border=\"1\" class=\"dataframe\">\n",
       "  <thead>\n",
       "    <tr style=\"text-align: right;\">\n",
       "      <th></th>\n",
       "      <th>年齢</th>\n",
       "      <th>性別</th>\n",
       "      <th>CMを見た</th>\n",
       "      <th>購入量</th>\n",
       "    </tr>\n",
       "  </thead>\n",
       "  <tbody>\n",
       "    <tr>\n",
       "      <th>0</th>\n",
       "      <td>36</td>\n",
       "      <td>0</td>\n",
       "      <td>0.0</td>\n",
       "      <td>30.050710</td>\n",
       "    </tr>\n",
       "    <tr>\n",
       "      <th>1</th>\n",
       "      <td>55</td>\n",
       "      <td>0</td>\n",
       "      <td>1.0</td>\n",
       "      <td>28.388786</td>\n",
       "    </tr>\n",
       "    <tr>\n",
       "      <th>2</th>\n",
       "      <td>47</td>\n",
       "      <td>0</td>\n",
       "      <td>1.0</td>\n",
       "      <td>34.241363</td>\n",
       "    </tr>\n",
       "    <tr>\n",
       "      <th>3</th>\n",
       "      <td>47</td>\n",
       "      <td>0</td>\n",
       "      <td>1.0</td>\n",
       "      <td>39.097393</td>\n",
       "    </tr>\n",
       "    <tr>\n",
       "      <th>4</th>\n",
       "      <td>58</td>\n",
       "      <td>1</td>\n",
       "      <td>1.0</td>\n",
       "      <td>57.099206</td>\n",
       "    </tr>\n",
       "  </tbody>\n",
       "</table>\n",
       "</div>"
      ],
      "text/plain": [
       "   年齢  性別  CMを見た        購入量\n",
       "0  36   0    0.0  30.050710\n",
       "1  55   0    1.0  28.388786\n",
       "2  47   0    1.0  34.241363\n",
       "3  47   0    1.0  39.097393\n",
       "4  58   1    1.0  57.099206"
      ]
     },
     "execution_count": 23,
     "metadata": {},
     "output_type": "execute_result"
    }
   ],
   "source": [
    "df = pd.DataFrame({'年齢': x_1,\n",
    "                   '性別': x_2,\n",
    "                   'CMを見た': Z,\n",
    "                   '購入量': Y,\n",
    "                   })\n",
    "\n",
    "df.head()  # 先頭を表示\n",
    "\n"
   ]
  },
  {
   "cell_type": "code",
   "execution_count": 24,
   "id": "e9090ce7-47ea-413d-b28f-936cd652d2be",
   "metadata": {},
   "outputs": [
    {
     "name": "stdout",
     "output_type": "stream",
     "text": [
      "年齢       52.649075\n",
      "性別        0.445372\n",
      "CMを見た     1.000000\n",
      "購入量      50.736457\n",
      "dtype: float64\n",
      "--------\n",
      "年齢       31.467388\n",
      "性別        0.597110\n",
      "CMを見た     0.000000\n",
      "購入量      66.448382\n",
      "dtype: float64\n"
     ]
    }
   ],
   "source": [
    "print(df[df[\"CMを見た\"] == 1.0].mean())\n",
    "print(df[df[\"CMを見た\"] == 0.0].mean())"
   ]
  },
  {
   "cell_type": "markdown",
   "id": "56471af0-f501-4fae-b96e-571c0626ddf7",
   "metadata": {},
   "source": [
    "## 傾向スコアの出力"
   ]
  },
  {
   "cell_type": "code",
   "execution_count": 25,
   "id": "f2dbc58b-7fe8-47e1-8fca-f09d3fbbda0a",
   "metadata": {},
   "outputs": [
    {
     "name": "stdout",
     "output_type": "stream",
     "text": [
      "係数beta： [[ 0.09610993 -0.95874182]]\n",
      "係数alpha： [-2.89925429]\n"
     ]
    }
   ],
   "source": [
    "# 説明変数\n",
    "X = df[[\"年齢\", \"性別\"]]\n",
    "\n",
    "# 被説明変数（目的変数）\n",
    "Z = df[\"CMを見た\"]\n",
    "\n",
    "# 回帰の実施\n",
    "reg = LogisticRegression().fit(X,Z)\n",
    "\n",
    "# 回帰した結果の係数を出力\n",
    "print(\"係数beta：\", reg.coef_)\n",
    "print(\"係数alpha：\", reg.intercept_)"
   ]
  },
  {
   "cell_type": "code",
   "execution_count": 26,
   "id": "c4dd14d0-e736-479d-9ccc-5b159a388c39",
   "metadata": {},
   "outputs": [
    {
     "name": "stdout",
     "output_type": "stream",
     "text": [
      "[[0.36338474 0.63661526]\n",
      " [0.08418543 0.91581457]\n",
      " [0.16549295 0.83450705]\n",
      " [0.16549295 0.83450705]\n",
      " [0.15233802 0.84766198]]\n",
      "0    0.0\n",
      "1    1.0\n",
      "2    1.0\n",
      "3    1.0\n",
      "4    1.0\n",
      "Name: CMを見た, dtype: float64\n"
     ]
    }
   ],
   "source": [
    "Z_pre = reg.predict_proba(X)\n",
    "\n",
    "# 傾向スコアの0になる確率と1になる確率の出力\n",
    "print(Z_pre[0:5])  \n",
    "print(Z[0:5])  "
   ]
  },
  {
   "cell_type": "markdown",
   "id": "c785a282-2a57-4733-b37c-296d35acce8a",
   "metadata": {},
   "source": [
    "## 因果のこうk\n",
    "* 平均処置効果(因果の大きさ)"
   ]
  },
  {
   "cell_type": "code",
   "execution_count": 27,
   "id": "ee777112-e980-4fa2-928e-f5253c0c18c6",
   "metadata": {},
   "outputs": [
    {
     "name": "stdout",
     "output_type": "stream",
     "text": [
      "推定したATE 10.126783722038617\n"
     ]
    }
   ],
   "source": [
    "ATE_i = Y/Z_pre[:, 1]*Z - Y/Z_pre[:, 0]*(1-Z)\n",
    "ATE = 1/len(Y)*ATE_i.sum()\n",
    "print(\"推定したATE\", ATE)"
   ]
  },
  {
   "cell_type": "code",
   "execution_count": null,
   "id": "ba96e307-b26c-436b-a266-39866de3d8bc",
   "metadata": {},
   "outputs": [],
   "source": []
  }
 ],
 "metadata": {
  "kernelspec": {
   "display_name": "Python 3 (ipykernel)",
   "language": "python",
   "name": "python3"
  },
  "language_info": {
   "codemirror_mode": {
    "name": "ipython",
    "version": 3
   },
   "file_extension": ".py",
   "mimetype": "text/x-python",
   "name": "python",
   "nbconvert_exporter": "python",
   "pygments_lexer": "ipython3",
   "version": "3.9.7"
  }
 },
 "nbformat": 4,
 "nbformat_minor": 5
}
