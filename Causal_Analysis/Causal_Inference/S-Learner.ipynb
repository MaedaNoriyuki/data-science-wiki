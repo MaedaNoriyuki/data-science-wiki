{
 "cells": [
  {
   "cell_type": "markdown",
   "id": "3150d44c-5b7d-445c-b86c-6df805c5d038",
   "metadata": {},
   "source": [
    "# S-Learner\n",
    "* Meta-Learnerの手法の一つ\n",
    "* 一つのモデルのみで推論するのでS-Learner"
   ]
  },
  {
   "cell_type": "code",
   "execution_count": 2,
   "id": "abc6fe68-3540-4b3d-a317-94a21f1492d5",
   "metadata": {},
   "outputs": [],
   "source": [
    "import random\n",
    "import numpy as np\n",
    "from numpy.random import *\n",
    "import matplotlib.pyplot as plt\n",
    "import scipy.stats\n",
    "from scipy.special import expit\n",
    "import pandas as pd\n",
    "\n",
    "#LightGBMのインポート\n",
    "import lightgbm as lgbm"
   ]
  },
  {
   "cell_type": "markdown",
   "id": "e5cadd06-ac1b-4d57-9314-b173bfcc9bd3",
   "metadata": {},
   "source": [
    "## データの用意"
   ]
  },
  {
   "cell_type": "code",
   "execution_count": 3,
   "id": "92135fdd-4ce2-4e69-a3a4-50d543b31ada",
   "metadata": {},
   "outputs": [
    {
     "data": {
      "text/plain": [
       "<matplotlib.collections.PathCollection at 0xffff7dd3a550>"
      ]
     },
     "execution_count": 3,
     "metadata": {},
     "output_type": "execute_result"
    },
    {
     "data": {
      "image/png": "[encoded data removed]",
      "text/plain": [
       "<Figure size 640x480 with 1 Axes>"
      ]
     },
     "metadata": {},
     "output_type": "display_data"
    }
   ],
   "source": [
    "# データ数\n",
    "num_data = 500\n",
    "\n",
    "# 部下育成への熱心さ\n",
    "x = np.random.uniform(low=-1, high=1, size=num_data)  # -1から1の一様乱数\n",
    "\n",
    "# 上司が「上司向け：部下とのキャリア面談のポイント研修」に参加したかどうか\n",
    "e_z = randn(num_data)  # ノイズの生成\n",
    "z_prob = expit(-5.0*x+5*e_z)\n",
    "Z = np.array([])\n",
    "\n",
    "# 上司が「上司向け：部下とのキャリア面談のポイント研修」に参加したかどうか\n",
    "for i in range(num_data):\n",
    "    Z_i = np.random.choice(2, size=1, p=[1-z_prob[i], z_prob[i]])[0]\n",
    "    Z = np.append(Z, Z_i)\n",
    "\n",
    "# 介入効果の非線形性：部下育成の熱心さxの値に応じて段階的に変化\n",
    "t = np.zeros(num_data)\n",
    "for i in range(num_data):\n",
    "    if x[i] < 0:\n",
    "        t[i] = 0.5\n",
    "    elif x[i] >= 0 and x[i] < 0.5:\n",
    "        t[i] = 0.7\n",
    "    elif x[i] >= 0.5:\n",
    "        t[i] = 1.0\n",
    "\n",
    "e_y = randn(num_data)\n",
    "Y = 2.0 + t*Z + 0.3*x + 0.1*e_y \n",
    "\n",
    "# 介入効果を図で確認\n",
    "plt.scatter(x, t, label=\"treatment-effect\")"
   ]
  },
  {
   "cell_type": "code",
   "execution_count": 4,
   "id": "0f533416-1447-43a1-b123-bbcf48f966f2",
   "metadata": {},
   "outputs": [
    {
     "data": {
      "text/html": [
       "<div>\n",
       "<style scoped>\n",
       "    .dataframe tbody tr th:only-of-type {\n",
       "        vertical-align: middle;\n",
       "    }\n",
       "\n",
       "    .dataframe tbody tr th {\n",
       "        vertical-align: top;\n",
       "    }\n",
       "\n",
       "    .dataframe thead th {\n",
       "        text-align: right;\n",
       "    }\n",
       "</style>\n",
       "<table border=\"1\" class=\"dataframe\">\n",
       "  <thead>\n",
       "    <tr style=\"text-align: right;\">\n",
       "      <th></th>\n",
       "      <th>x</th>\n",
       "      <th>Z</th>\n",
       "      <th>t</th>\n",
       "      <th>Y</th>\n",
       "    </tr>\n",
       "  </thead>\n",
       "  <tbody>\n",
       "    <tr>\n",
       "      <th>0</th>\n",
       "      <td>0.695951</td>\n",
       "      <td>0.0</td>\n",
       "      <td>1.0</td>\n",
       "      <td>2.260404</td>\n",
       "    </tr>\n",
       "    <tr>\n",
       "      <th>1</th>\n",
       "      <td>0.077758</td>\n",
       "      <td>0.0</td>\n",
       "      <td>0.7</td>\n",
       "      <td>2.167513</td>\n",
       "    </tr>\n",
       "    <tr>\n",
       "      <th>2</th>\n",
       "      <td>0.026823</td>\n",
       "      <td>1.0</td>\n",
       "      <td>0.7</td>\n",
       "      <td>2.807806</td>\n",
       "    </tr>\n",
       "    <tr>\n",
       "      <th>3</th>\n",
       "      <td>-0.235309</td>\n",
       "      <td>0.0</td>\n",
       "      <td>0.5</td>\n",
       "      <td>1.896311</td>\n",
       "    </tr>\n",
       "    <tr>\n",
       "      <th>4</th>\n",
       "      <td>0.033308</td>\n",
       "      <td>0.0</td>\n",
       "      <td>0.7</td>\n",
       "      <td>1.886472</td>\n",
       "    </tr>\n",
       "  </tbody>\n",
       "</table>\n",
       "</div>"
      ],
      "text/plain": [
       "          x    Z    t         Y\n",
       "0  0.695951  0.0  1.0  2.260404\n",
       "1  0.077758  0.0  0.7  2.167513\n",
       "2  0.026823  1.0  0.7  2.807806\n",
       "3 -0.235309  0.0  0.5  1.896311\n",
       "4  0.033308  0.0  0.7  1.886472"
      ]
     },
     "execution_count": 4,
     "metadata": {},
     "output_type": "execute_result"
    }
   ],
   "source": [
    "df = pd.DataFrame({'x': x,\n",
    "                   'Z': Z,\n",
    "                   't': t,\n",
    "                   'Y': Y,\n",
    "                   })\n",
    "\n",
    "df.head()"
   ]
  },
  {
   "cell_type": "markdown",
   "id": "f372e721-d5a5-4d82-8b30-3bce303b6d89",
   "metadata": {},
   "source": [
    "## S-Learner"
   ]
  },
  {
   "cell_type": "code",
   "execution_count": null,
   "id": "bbc1f9ad-32f5-41ca-840e-0e4ea604ded4",
   "metadata": {},
   "outputs": [],
   "source": [
    "params = {\n",
    "          'task': 'train',              # タスクを訓練に設定\n",
    "          'boosting_type': 'gbdt',      # GBDTを指定\n",
    "          'objective': 'regression',    # 回帰を指定\n",
    "          'metric': 'rmse'\n",
    "}\n",
    "\n",
    "\n",
    "categorical_features = []\n",
    "\n",
    "\n",
    "\n",
    "# 介入を受けていない集団のモデル\n",
    "#df_0 = df[df.Z == 0.0]\n",
    "x_train = df[[\"x\",\"Z\"]]\n",
    "y_train = df[[\"Y\"]]\n",
    "\n",
    "#LightGBM用の訓練データセットを作成\n",
    "lgb_train = lgbm.Dataset(x_train, y_train, categorical_feature=categorical_features, free_raw_data=False)\n",
    "\n",
    "\n",
    "model = lgbm.train(params = params,\n",
    "                        train_set = lgb_train)"
   ]
  },
  {
   "cell_type": "markdown",
   "id": "d1ce2db2-81f9-4279-a8b7-dc3ef3b63b42",
   "metadata": {},
   "source": [
    "## ATEを求める"
   ]
  },
  {
   "cell_type": "code",
   "execution_count": 7,
   "id": "84ddabd7-7781-4479-a437-8549a91d8d6a",
   "metadata": {},
   "outputs": [
    {
     "name": "stdout",
     "output_type": "stream",
     "text": [
      "ATE： 0.677397482948454\n"
     ]
    },
    {
     "name": "stderr",
     "output_type": "stream",
     "text": [
      "/tmp/ipykernel_46569/1450545042.py:3: SettingWithCopyWarning: \n",
      "A value is trying to be set on a copy of a slice from a DataFrame.\n",
      "Try using .loc[row_indexer,col_indexer] = value instead\n",
      "\n",
      "See the caveats in the documentation: https://pandas.pydata.org/pandas-docs/stable/user_guide/indexing.html#returning-a-view-versus-a-copy\n",
      "  X_0[\"Z\"] = 0.0\n",
      "/tmp/ipykernel_46569/1450545042.py:6: SettingWithCopyWarning: \n",
      "A value is trying to be set on a copy of a slice from a DataFrame.\n",
      "Try using .loc[row_indexer,col_indexer] = value instead\n",
      "\n",
      "See the caveats in the documentation: https://pandas.pydata.org/pandas-docs/stable/user_guide/indexing.html#returning-a-view-versus-a-copy\n",
      "  X_1[\"Z\"] = 1.0\n"
     ]
    }
   ],
   "source": [
    "# 処置が0と1の状態を作成する\n",
    "X_0 = df[[\"x\",\"Z\"]]\n",
    "X_0[\"Z\"] = 0.0\n",
    "\n",
    "X_1 = df[[\"x\",\"Z\"]]\n",
    "X_1[\"Z\"] = 1.0\n",
    "\n",
    "# ATEの計算\n",
    "ATE = (model.predict(X_1)-model.predict(X_0)).mean()\n",
    "print(\"ATE：\", ATE)"
   ]
  },
  {
   "cell_type": "code",
   "execution_count": 10,
   "id": "1f7345cd-f0f1-4ec5-83d1-ee2b74064917",
   "metadata": {},
   "outputs": [
    {
     "data": {
      "text/plain": [
       "[<matplotlib.lines.Line2D at 0xffff7aa27e80>]"
      ]
     },
     "execution_count": 10,
     "metadata": {},
     "output_type": "execute_result"
    },
    {
     "data": {
      "image/png": "[encoded data removed]",
      "text/plain": [
       "<Figure size 640x480 with 1 Axes>"
      ]
     },
     "metadata": {},
     "output_type": "display_data"
    }
   ],
   "source": [
    "# 推定された処置効果を各人ごとに求めます\n",
    "t_estimated = model.predict(X_1)-model.predict(X_0)\n",
    "plt.scatter(df[[\"x\"]], t_estimated,\n",
    "            label=\"estimated_treatment-effect\")\n",
    "\n",
    "\n",
    "x_index = np.arange(-1, 1, 0.01)\n",
    "t_ans = np.zeros(len(x_index))\n",
    "for i in range(len(x_index)):\n",
    "    if x_index[i] < 0:\n",
    "        t_ans[i] = 0.5\n",
    "    elif x_index[i] >= 0 and x_index[i] < 0.5:\n",
    "        t_ans[i] = 0.7\n",
    "    elif x_index[i] >= 0.5:\n",
    "        t_ans[i] = 1.0\n",
    "        \n",
    "\n",
    "# 正解を描画\n",
    "plt.plot(x_index, t_ans, color='black', ls='--', label='Baseline')"
   ]
  }
 ],
 "metadata": {
  "kernelspec": {
   "display_name": "Python 3 (ipykernel)",
   "language": "python",
   "name": "python3"
  },
  "language_info": {
   "codemirror_mode": {
    "name": "ipython",
    "version": 3
   },
   "file_extension": ".py",
   "mimetype": "text/x-python",
   "name": "python",
   "nbconvert_exporter": "python",
   "pygments_lexer": "ipython3",
   "version": "3.9.7"
  }
 },
 "nbformat": 4,
 "nbformat_minor": 5
}
