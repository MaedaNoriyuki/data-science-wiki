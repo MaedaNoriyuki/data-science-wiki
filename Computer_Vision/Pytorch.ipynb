{
 "cells": [
  {
   "cell_type": "markdown",
   "id": "37728abd-907a-41e6-8e99-7b8a666938db",
   "metadata": {},
   "source": [
    "# Pytorchによるニューラルネットワークの実装\n",
    "* pytorchでモデルを生成するに，nn.Moduleのサブクラスとして定義する方法とnn.Sequentialを利用する方法がある．\n",
    "* 結果が同じになる...謎"
   ]
  },
  {
   "cell_type": "code",
   "execution_count": 1,
   "id": "a2be9bc9-cdc1-4528-85c0-7881a5d9d03d",
   "metadata": {},
   "outputs": [],
   "source": [
    "import numpy as np\n",
    "import torch\n",
    "import torch.nn as nn\n",
    "import torch.optim as optim\n",
    "import torch.autograd as autograd"
   ]
  },
  {
   "cell_type": "code",
   "execution_count": 2,
   "id": "0af347ae-a84f-4e01-9353-dc7eea574173",
   "metadata": {},
   "outputs": [],
   "source": [
    "#np.random.RandomStateクラスは，擬似乱数を生成するクラス\n",
    "#RandomStateはクラスなので変数に代入して使う\n",
    "#引数はシード\n",
    "rng = np.random.RandomState(123)\n",
    "#rng.uniform(0,10,10)\n",
    "#rng.randint(10,size = 10)\n",
    "\n",
    "random_state = 42"
   ]
  },
  {
   "cell_type": "markdown",
   "id": "ea4cb8a8-e6f0-436a-80e6-83a28e2826a0",
   "metadata": {},
   "source": [
    "##　モデルの構築 "
   ]
  },
  {
   "cell_type": "code",
   "execution_count": 3,
   "id": "5d4e2b30-3e6b-4ef2-9d32-2b2976c7f2ba",
   "metadata": {},
   "outputs": [],
   "source": [
    "#活性化関数を定義\n",
    "def relu(x):\n",
    "    #ReLU関数を定義\n",
    "    #一つ目の引数が条件，条件に応じて二つ目か三つ目の引数を出力\n",
    "    x = torch.where(x > 0, x, torch.zeros_like(x))\n",
    "    return x\n",
    "\n",
    "\n",
    "def softmax(x):\n",
    "    #x.max(axis=1, keepdim=True).valuesはxのaxis=1の方向の最大値をとり，次元をそのままにする\n",
    "    \n",
    "    x = torch.cat([x.max(axis=1, keepdim=True).values] * x.size()[1], dim=1)\n",
    "    x_exp = torch.exp(x)\n",
    "    return x_exp/torch.cat([x_exp.sum(dim=1, keepdim=True)] * x.size()[1],dim=1)"
   ]
  },
  {
   "cell_type": "markdown",
   "id": "23d421ac-0daa-4576-98e7-c45c14c53055",
   "metadata": {},
   "source": [
    "### モデルの構築1\n",
    "#### nn.Moduleのサブクラスとして定義する方法"
   ]
  },
  {
   "cell_type": "code",
   "execution_count": 4,
   "id": "36058f53-4030-41f9-ac0e-08c4efa20419",
   "metadata": {},
   "outputs": [],
   "source": [
    "in_dim = 2\n",
    "hid_dim = 3\n",
    "out_dim = 2"
   ]
  },
  {
   "cell_type": "code",
   "execution_count": 5,
   "id": "35f6005e-fce7-4f72-a66b-e7db28af2a6c",
   "metadata": {},
   "outputs": [
    {
     "name": "stdout",
     "output_type": "stream",
     "text": [
      "MLP(\n",
      "  (linear1): Dense()\n",
      "  (linear2): Dense()\n",
      ")\n",
      "<generator object Module.parameters at 0x40ac4402e0>\n"
     ]
    }
   ],
   "source": [
    "#分かっていない\n",
    "\n",
    "#ニューラルネットワークの層を定義\n",
    "class Dense(nn.Module): #nn.Moduleを継承\n",
    "    def __init__(self,in_dim,out_dim, function=lambda x:x):\n",
    "        #super()は親クラスを指すためのメソッド\n",
    "        #super().__init__()は親クラスの__init__()を実行しているだけ\n",
    "        super().__init__()\n",
    "        self.W = nn.Parameter(torch.tensor(rng.uniform(\n",
    "                      low=-np.sqrt(6/in_dim),\n",
    "                      high=np.sqrt(6/in_dim),\n",
    "                      size=(in_dim,out_dim)).astype('float32')))\n",
    "        self.b = nn.Parameter(torch.tensor(np.zeros([out_dim]).astype('float32')))\n",
    "        self.function = function\n",
    "        \n",
    "    def forward(self,x):\n",
    "        return self.function(torch.matmul(x,self.W) + self.b)\n",
    "\n",
    "    \n",
    "#ニューラルネットワーク全体を定義   \n",
    "class MLP(nn.Module):\n",
    "    def __init__(self,in_dim,hid_dim,out_dim):\n",
    "        super().__init__()\n",
    "        self.linear1 = Dense(in_dim,hid_dim)\n",
    "        self.linear2 = Dense(hid_dim,out_dim)\n",
    "        \n",
    "    def forward(self, x):\n",
    "        x = relu(self.linear1(x))\n",
    "        x = softmax(self.linear2(x))\n",
    "        return x\n",
    "    \n",
    "mlp = MLP(in_dim,hid_dim,out_dim)\n",
    "print(mlp)\n",
    "print(mlp.parameters())"
   ]
  },
  {
   "cell_type": "markdown",
   "id": "68546b67-e332-4bce-9bc6-4edd1b9f0196",
   "metadata": {},
   "source": [
    "### モデルの構築2\n",
    "#### あらかじめ定義されたレイヤーを用いた実装"
   ]
  },
  {
   "cell_type": "code",
   "execution_count": 6,
   "id": "385f541f-c1cf-49cd-849d-c8cc1cfefd6a",
   "metadata": {},
   "outputs": [
    {
     "name": "stdout",
     "output_type": "stream",
     "text": [
      "MLP(\n",
      "  (linear1): Linear(in_features=2, out_features=3, bias=True)\n",
      "  (linear2): Linear(in_features=3, out_features=2, bias=True)\n",
      ")\n",
      "<generator object Module.parameters at 0x40ac440ac0>\n"
     ]
    }
   ],
   "source": [
    "class MLP(nn.Module):\n",
    "    def __init__(self,in_dim,hid_dim,out_dim):\n",
    "        #親クラスの初期化\n",
    "        super().__init__()\n",
    "        #Linearクラスのインスタンスをインスタンス変数にそれぞれ代入する\n",
    "        #層の定義\n",
    "        self.linear1 = nn.Linear(in_dim,hid_dim)\n",
    "        self.linear2 = nn.Linear(hid_dim,out_dim)\n",
    "        \n",
    "    def forward(self, x):\n",
    "        #層の接続を定義\n",
    "        #self.linear1などはインスタンスだが以下のようにメソッドのようにも書ける\n",
    "        x = relu(self.linear1(x))\n",
    "        x = softmax(self.linear2(x))\n",
    "        return x\n",
    "    \n",
    "mlp = MLP(in_dim, hid_dim, out_dim)\n",
    "print(mlp)\n",
    "print(mlp.parameters())"
   ]
  },
  {
   "cell_type": "markdown",
   "id": "b2811a83-8488-4dc0-9e21-244e39e35815",
   "metadata": {},
   "source": [
    "### モデルの構築3\n",
    "#### nn.Sequentialを利用する方法"
   ]
  },
  {
   "cell_type": "markdown",
   "id": "9a2a080f-9a68-453d-983e-5584920b484c",
   "metadata": {},
   "source": [
    "mlp = nn.Sequential(nn.Linear(in_dim,hid_dim),\n",
    "                    nn.ReLU(),\n",
    "                    nn.Linear(hid_dim,out_dim),\n",
    "                    nn.Softmax())\n",
    "print(mlp)\n",
    "print(mlp.parameters())"
   ]
  },
  {
   "cell_type": "markdown",
   "id": "5bd01002-b976-49d4-abba-e573938094b3",
   "metadata": {},
   "source": [
    "## 最適化関数の定義"
   ]
  },
  {
   "cell_type": "code",
   "execution_count": 7,
   "id": "becb119a-8013-4b63-9526-1be4a11ce9e1",
   "metadata": {},
   "outputs": [],
   "source": [
    "#optimizerの定義\n",
    "optimizer = optim.SGD(mlp.parameters(), lr = 0.1)\n",
    "\n",
    "#勾配のリセット\n",
    "optimizer.zero_grad()\n",
    "\n",
    "#パラメータの更新\n",
    "optimizer.step()"
   ]
  },
  {
   "cell_type": "markdown",
   "id": "d3635dc8-45b3-4c77-a1cd-05edc68ca9db",
   "metadata": {},
   "source": [
    "## 擬似の学習データを生成"
   ]
  },
  {
   "cell_type": "code",
   "execution_count": 8,
   "id": "b83a04f3-3a85-4b7e-8fcd-ced9b2fd4017",
   "metadata": {},
   "outputs": [],
   "source": [
    "# XORをMLPで行う\n",
    "x = torch.tensor([[0, 0], [0, 1], [1, 0], [1, 1]], dtype=torch.float)\n",
    "t = torch.tensor([0, 1, 1, 0], dtype=torch.long)"
   ]
  },
  {
   "cell_type": "markdown",
   "id": "01fa9ff5-5a4f-4b4c-81ba-7642082538f9",
   "metadata": {},
   "source": [
    "## 学習"
   ]
  },
  {
   "cell_type": "code",
   "execution_count": 9,
   "id": "f6683eae-25a8-4e16-be44-11e478b8bcd1",
   "metadata": {},
   "outputs": [
    {
     "name": "stdout",
     "output_type": "stream",
     "text": [
      "0 0.6931471824645996\n",
      "100 0.6931471824645996\n",
      "200 0.6931471824645996\n",
      "300 0.6931471824645996\n",
      "400 0.6931471824645996\n",
      "500 0.6931471824645996\n",
      "600 0.6931471824645996\n",
      "700 0.6931471824645996\n",
      "800 0.6931471824645996\n",
      "900 0.6931471824645996\n"
     ]
    }
   ],
   "source": [
    "#モデルを訓練モードにする\n",
    "mlp.train()\n",
    "\n",
    "for i in range(1000):\n",
    "    #torch.eyeはtorchでの単位行列の出力\n",
    "    #単位行列からtのインデックスを取り出すことでone-hotエンコーディングできている\n",
    "    t_hot = torch.eye(2)[t]\n",
    "    \n",
    "    #予測値の出力\n",
    "    y_pred = mlp(x)\n",
    "    \n",
    "    #誤差の計算\n",
    "    loss = -(t_hot*torch.log(y_pred)).sum(axis=1).mean()\n",
    "    \n",
    "    #勾配のリセット\n",
    "    optimizer.zero_grad()\n",
    "    #逆伝播\n",
    "    loss.backward()\n",
    "    \n",
    "    #パラメータの更新\n",
    "    optimizer.step()\n",
    "    \n",
    "    if i % 100 == 0:\n",
    "        print(i, loss.item())\n",
    "        "
   ]
  },
  {
   "cell_type": "markdown",
   "id": "b91409fd-37df-4ea1-bf9e-3a6d03517ea8",
   "metadata": {},
   "source": [
    "### モデルの保存"
   ]
  },
  {
   "cell_type": "code",
   "execution_count": 10,
   "id": "9604cebc-db4a-4435-94f6-74a5cf91c298",
   "metadata": {},
   "outputs": [
    {
     "name": "stdout",
     "output_type": "stream",
     "text": [
      "OrderedDict([('linear1.weight', tensor([[-0.2670,  0.1775],\n",
      "        [-0.0274, -0.1810],\n",
      "        [-0.4280, -0.0852]])), ('linear1.bias', tensor([ 0.2064,  0.2410, -0.3738])), ('linear2.weight', tensor([[-0.0042,  0.2049,  0.4790],\n",
      "        [ 0.1647,  0.0988, -0.3728]])), ('linear2.bias', tensor([-0.2165, -0.5295]))])\n"
     ]
    }
   ],
   "source": [
    "#モデルのパラメータ情報の取得\n",
    "state_dict = mlp.state_dict()\n",
    "print(state_dict)\n",
    "\n",
    "#モデルの保存\n",
    "torch.save(state_dict,\"./model.pth\")"
   ]
  },
  {
   "cell_type": "markdown",
   "id": "74b530e8-b515-40ba-809d-d53807989d0e",
   "metadata": {},
   "source": [
    "### モデルの再読み込み"
   ]
  },
  {
   "cell_type": "code",
   "execution_count": 12,
   "id": "589db120-80d9-43d5-9c04-ef8fed00a762",
   "metadata": {},
   "outputs": [
    {
     "ename": "AttributeError",
     "evalue": "'MLP' object has no attribute 'load_sate_dict'",
     "output_type": "error",
     "traceback": [
      "\u001b[0;31m---------------------------------------------------------------------------\u001b[0m",
      "\u001b[0;31mAttributeError\u001b[0m                            Traceback (most recent call last)",
      "\u001b[0;32m<ipython-input-12-bc876bdfbd9c>\u001b[0m in \u001b[0;36m<module>\u001b[0;34m\u001b[0m\n\u001b[1;32m      6\u001b[0m \u001b[0;34m\u001b[0m\u001b[0m\n\u001b[1;32m      7\u001b[0m \u001b[0;31m#学習済みのパラメータを再設定\u001b[0m\u001b[0;34m\u001b[0m\u001b[0;34m\u001b[0m\u001b[0;34m\u001b[0m\u001b[0m\n\u001b[0;32m----> 8\u001b[0;31m \u001b[0mmlp2\u001b[0m\u001b[0;34m.\u001b[0m\u001b[0mload_sate_dict\u001b[0m\u001b[0;34m(\u001b[0m\u001b[0mstate_dict\u001b[0m\u001b[0;34m)\u001b[0m\u001b[0;34m\u001b[0m\u001b[0;34m\u001b[0m\u001b[0m\n\u001b[0m",
      "\u001b[0;32m/opt/conda/lib/python3.9/site-packages/torch/nn/modules/module.py\u001b[0m in \u001b[0;36m__getattr__\u001b[0;34m(self, name)\u001b[0m\n\u001b[1;32m   1183\u001b[0m             \u001b[0;32mif\u001b[0m \u001b[0mname\u001b[0m \u001b[0;32min\u001b[0m \u001b[0mmodules\u001b[0m\u001b[0;34m:\u001b[0m\u001b[0;34m\u001b[0m\u001b[0;34m\u001b[0m\u001b[0m\n\u001b[1;32m   1184\u001b[0m                 \u001b[0;32mreturn\u001b[0m \u001b[0mmodules\u001b[0m\u001b[0;34m[\u001b[0m\u001b[0mname\u001b[0m\u001b[0;34m]\u001b[0m\u001b[0;34m\u001b[0m\u001b[0;34m\u001b[0m\u001b[0m\n\u001b[0;32m-> 1185\u001b[0;31m         raise AttributeError(\"'{}' object has no attribute '{}'\".format(\n\u001b[0m\u001b[1;32m   1186\u001b[0m             type(self).__name__, name))\n\u001b[1;32m   1187\u001b[0m \u001b[0;34m\u001b[0m\u001b[0m\n",
      "\u001b[0;31mAttributeError\u001b[0m: 'MLP' object has no attribute 'load_sate_dict'"
     ]
    }
   ],
   "source": [
    "#適当なモデルを再定義\n",
    "mlp2 = MLP(in_dim, hid_dim, out_dim)\n",
    "\n",
    "#学習済みパラメータの再読み込み\n",
    "state_dict = torch.load(\"./model.pth\")\n",
    "\n",
    "#学習済みのパラメータを再設定\n",
    "mlp2.load_sate_dict(state_dict)"
   ]
  },
  {
   "cell_type": "code",
   "execution_count": null,
   "id": "bb6bbb93-faa5-4782-b155-ee6f2a7af8ac",
   "metadata": {},
   "outputs": [],
   "source": []
  }
 ],
 "metadata": {
  "kernelspec": {
   "display_name": "Python 3",
   "language": "python",
   "name": "python3"
  },
  "language_info": {
   "codemirror_mode": {
    "name": "ipython",
    "version": 3
   },
   "file_extension": ".py",
   "mimetype": "text/x-python",
   "name": "python",
   "nbconvert_exporter": "python",
   "pygments_lexer": "ipython3",
   "version": "3.9.2"
  }
 },
 "nbformat": 4,
 "nbformat_minor": 5
}
