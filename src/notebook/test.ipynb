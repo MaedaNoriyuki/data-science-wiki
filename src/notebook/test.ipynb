{
 "cells": [
  {
   "cell_type": "code",
   "execution_count": 26,
   "metadata": {},
   "outputs": [],
   "source": [
    "import json\n",
    "\n",
    "# JSONファイルを開く\n",
    "with open('/Users/tanakatouma/vscode/data-science-wiki/src/notebook/dir_master.json', 'r') as file:\n",
    "    contents_info = json.load(file)"
   ]
  },
  {
   "cell_type": "code",
   "execution_count": 46,
   "metadata": {},
   "outputs": [
    {
     "name": "stdout",
     "output_type": "stream",
     "text": [
      "llm_prompt_engineering\n"
     ]
    }
   ],
   "source": [
    "content = \"LLMプロンプトエンジニアリング\"\n",
    "#content = 'テキストから動画生成'\n",
    "#content = 'ロバストモデリング'\n",
    "#content = 'セマンティックセグメンテーション'\n",
    "\n",
    "directory_name = ''\n",
    "for i in contents_info:\n",
    "    #print('--------')\n",
    "    for contents_name in i['children']:\n",
    "        #print(contents_name['display_name'])\n",
    "        if content == contents_name['display_name']:\n",
    "            #print(contents_name)\n",
    "            directory_name = contents_name['name']\n",
    "\n",
    "print(directory_name)\n"
   ]
  },
  {
   "cell_type": "code",
   "execution_count": 67,
   "metadata": {},
   "outputs": [
    {
     "name": "stdout",
     "output_type": "stream",
     "text": [
      "AA\n"
     ]
    },
    {
     "data": {
      "text/plain": [
       "{}"
      ]
     },
     "execution_count": 67,
     "metadata": {},
     "output_type": "execute_result"
    }
   ],
   "source": [
    "content = '自然言語処理aa'\n",
    "\n",
    "def content_retriver(content_):\n",
    "    data = {}\n",
    "    contents_list_ = []\n",
    "    for i in contents_info:\n",
    "        if content_ == i['display_name']:\n",
    "            for j in i['children']:\n",
    "                contents_list_.append(j['display_name'])\n",
    "            data['contents_list'] = contents_list_\n",
    "    return data\n",
    "\n",
    "data = content_retriver(content)\n",
    "\n",
    "if data == {}:\n",
    "    print('AA')\n",
    "\n",
    "data"
   ]
  }
 ],
 "metadata": {
  "kernelspec": {
   "display_name": "Python 3.9.16 64-bit",
   "language": "python",
   "name": "python3"
  },
  "language_info": {
   "codemirror_mode": {
    "name": "ipython",
    "version": 3
   },
   "file_extension": ".py",
   "mimetype": "text/x-python",
   "name": "python",
   "nbconvert_exporter": "python",
   "pygments_lexer": "ipython3",
   "version": "3.9.16"
  },
  "orig_nbformat": 4,
  "vscode": {
   "interpreter": {
    "hash": "31f2aee4e71d21fbe5cf8b01ff0e069b9275f58929596ceb00d14d90e3e16cd6"
   }
  }
 },
 "nbformat": 4,
 "nbformat_minor": 2
}
