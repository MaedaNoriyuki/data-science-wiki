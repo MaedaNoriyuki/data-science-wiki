{
 "cells": [
  {
   "cell_type": "code",
   "execution_count": null,
   "metadata": {},
   "outputs": [],
   "source": []
  }
 ],
 "metadata": {
  "kernelspec": {
   "display_name": "Python 3.9.16 ('data-science-wiki-274Wd7YI-py3.9')",
   "language": "python",
   "name": "python3"
  },
  "language_info": {
   "name": "python",
   "version": "3.9.16"
  },
  "orig_nbformat": 4,
  "vscode": {
   "interpreter": {
    "hash": "9a4fec1fcef14ed8710f362da8fe8368944c5bc083ef27a9dd9fc34a2f48a684"
   }
  }
 },
 "nbformat": 4,
 "nbformat_minor": 2
}
