{
 "cells": [
  {
   "cell_type": "markdown",
   "metadata": {},
   "source": [
    "# タイトル\n",
    "* タイトルは見出し１の記載してください．\n",
    "* すでに同一名のファイルが存在する場合は，違いが分かるような説明を付け足してください．"
   ]
  },
  {
   "cell_type": "markdown",
   "metadata": {},
   "source": [
    "* ノートブックについての概要を記入してください．\n",
    "* ここに記載した文章がData Science wikiの見出しに表示されます．\n",
    "* このセルまでの上から二つのセルはMarkdownのセルにしてください．"
   ]
  },
  {
   "cell_type": "markdown",
   "metadata": {},
   "source": [
    "<a href=\"https://colab.research.google.com/github/fuyu-quant/data-science-wiki/blob/develop/tabledata/ranking/lightgbm.ipynb\" target=\"_blank\" rel=\"noopener noreferrer\"><img src=\"https://colab.research.google.com/assets/colab-badge.svg\" alt=\"Open In Colab\"/></a>\n",
    "* Colabで開くためのリンクを埋め込んでください．\n",
    "* 「h ttps://colab.research.google.com/github/fuyu-quant/data-science-wiki/blob/develop/tabledata/ranking/lightgbm.ipynb」の箇所の「tabledata/ranking/lightgbm.ipynb」の部分を適切なものに書き換えてください．わからない場合は編集しなくても大丈夫です．"
   ]
  },
  {
   "cell_type": "markdown",
   "metadata": {},
   "source": [
    "### 以下が本文"
   ]
  },
  {
   "cell_type": "code",
   "execution_count": null,
   "metadata": {},
   "outputs": [],
   "source": []
  }
 ],
 "metadata": {
  "kernelspec": {
   "display_name": "Python 3.9.18 ('.venv': poetry)",
   "language": "python",
   "name": "python3"
  },
  "language_info": {
   "name": "python",
   "version": "3.9.18"
  },
  "orig_nbformat": 4,
  "vscode": {
   "interpreter": {
    "hash": "17a011378fed683b21aba93e5dd7c0cb7beefc09c5af72c6425b40c713e260dc"
   }
  }
 },
 "nbformat": 4,
 "nbformat_minor": 2
}
