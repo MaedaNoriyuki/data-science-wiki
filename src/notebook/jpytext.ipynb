{
 "cells": [
  {
   "cell_type": "code",
   "execution_count": 5,
   "metadata": {},
   "outputs": [],
   "source": [
    "import jupytext"
   ]
  },
  {
   "cell_type": "code",
   "execution_count": 14,
   "metadata": {},
   "outputs": [],
   "source": [
    "path = \"../../tabledata/clustering/k-means.ipynb\"\n",
    "\n",
    "notebook = jupytext.read(path)"
   ]
  },
  {
   "cell_type": "code",
   "execution_count": 18,
   "metadata": {},
   "outputs": [
    {
     "data": {
      "text/plain": [
       "'k-means'"
      ]
     },
     "execution_count": 18,
     "metadata": {},
     "output_type": "execute_result"
    }
   ],
   "source": [
    "title = notebook['cells'][0]['source'].replace(' ', '').replace('#', '')\n",
    "title"
   ]
  },
  {
   "cell_type": "code",
   "execution_count": 16,
   "metadata": {},
   "outputs": [
    {
     "data": {
      "text/plain": [
       "'k-means法は非階層クラスタリングの代表的な手法．以下ではwineデータの正解ラベルを取り除きk-means法により分類したものと正解ラベルを、主成分分析で二次元に圧縮し可視化する。'"
      ]
     },
     "execution_count": 16,
     "metadata": {},
     "output_type": "execute_result"
    }
   ],
   "source": [
    "description = notebook['cells'][1]['source']"
   ]
  },
  {
   "cell_type": "code",
   "execution_count": null,
   "metadata": {},
   "outputs": [],
   "source": []
  }
 ],
 "metadata": {
  "kernelspec": {
   "display_name": "Python 3.9.16 ('data-science-wiki-274Wd7YI-py3.9')",
   "language": "python",
   "name": "python3"
  },
  "language_info": {
   "codemirror_mode": {
    "name": "ipython",
    "version": 3
   },
   "file_extension": ".py",
   "mimetype": "text/x-python",
   "name": "python",
   "nbconvert_exporter": "python",
   "pygments_lexer": "ipython3",
   "version": "3.9.16"
  },
  "orig_nbformat": 4,
  "vscode": {
   "interpreter": {
    "hash": "9a4fec1fcef14ed8710f362da8fe8368944c5bc083ef27a9dd9fc34a2f48a684"
   }
  }
 },
 "nbformat": 4,
 "nbformat_minor": 2
}
