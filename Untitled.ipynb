{
 "cells": [
  {
   "cell_type": "markdown",
   "id": "0f7152b5-06f5-4972-a20c-980362a2fd17",
   "metadata": {},
   "source": [
    "練習"
   ]
  },
  {
   "cell_type": "code",
   "execution_count": null,
   "id": "fb152652-d4d2-4258-aae6-62d12c7bf9e2",
   "metadata": {},
   "outputs": [],
   "source": []
  }
 ],
 "metadata": {
  "kernelspec": {
   "display_name": "Python 3 (ipykernel)",
   "language": "python",
   "name": "python3"
  },
  "language_info": {
   "codemirror_mode": {
    "name": "ipython",
    "version": 3
   },
   "file_extension": ".py",
   "mimetype": "text/x-python",
   "name": "python",
   "nbconvert_exporter": "python",
   "pygments_lexer": "ipython3",
   "version": "3.9.7"
  }
 },
 "nbformat": 4,
 "nbformat_minor": 5
}
