{
 "cells": [
  {
   "cell_type": "code",
   "execution_count": null,
   "id": "63ec5202-59fc-4295-a5aa-abcf5cfb4bb7",
   "metadata": {},
   "outputs": [],
   "source": [
    "れんしゅ"
   ]
  }
 ],
 "metadata": {
  "kernelspec": {
   "display_name": "Python 3 (ipykernel)",
   "language": "python",
   "name": "python3"
  },
  "language_info": {
   "codemirror_mode": {
    "name": "ipython",
    "version": 3
   },
   "file_extension": ".py",
   "mimetype": "text/x-python",
   "name": "python",
   "nbconvert_exporter": "python",
   "pygments_lexer": "ipython3",
   "version": "3.9.7"
  }
 },
 "nbformat": 4,
 "nbformat_minor": 5
}
