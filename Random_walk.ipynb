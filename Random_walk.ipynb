{
  "nbformat": 4,
  "nbformat_minor": 0,
  "metadata": {
    "colab": {
      "name": "Random_walk.ipynb",
      "provenance": [],
      "collapsed_sections": [],
      "authorship_tag": "ABX9TyMvg9dSJ6nBS0lujamG0+PI",
      "include_colab_link": true
    },
    "kernelspec": {
      "name": "python3",
      "display_name": "Python 3"
    },
    "language_info": {
      "name": "python"
    }
  },
  "cells": [
    {
      "cell_type": "markdown",
      "metadata": {
        "id": "view-in-github",
        "colab_type": "text"
      },
      "source": [
        "<a href=\"https://colab.research.google.com/github/ToumaTanaka/Data_Science/blob/main/Random_walk.ipynb\" target=\"_parent\"><img src=\"https://colab.research.google.com/assets/colab-badge.svg\" alt=\"Open In Colab\"/></a>"
      ]
    },
    {
      "cell_type": "code",
      "execution_count": 10,
      "metadata": {
        "id": "jHGmhxG4BxfK"
      },
      "outputs": [],
      "source": [
        "import numpy as np\n",
        "import random\n",
        "import matplotlib.pyplot as plt\n",
        "from math import *"
      ]
    },
    {
      "cell_type": "markdown",
      "source": [
        "# ブラウン運動のシミュレーション"
      ],
      "metadata": {
        "id": "fZjS-YtrP6Mv"
      }
    },
    {
      "cell_type": "code",
      "source": [
        "#回数\n",
        "N = 1000\n",
        "\n",
        "#拡散係数\n",
        "D = 10\n",
        "\n",
        "DT = 1/N\n",
        "\n",
        "#平均二乗変位の理論値\n",
        "S = 2 * D * 1\n",
        "\n",
        "#初期値\n",
        "x,y = 0,0\n",
        "\n",
        "x_list = [0]\n",
        "y_list = [0]\n",
        "a_list = []\n",
        "\n",
        "for n in range(N):\n",
        "  X = random.random()\n",
        "  Y = random.random()\n",
        "  dw = (2 * D * DT)**(1/2)  * (-2 * log(X))**(1/2) * cos(2 * pi * Y)\n",
        "  x = x + dw\n",
        "  a = (0 - x)**2\n",
        "  x_list.append(x)\n",
        "  y_list.append(y)\n",
        "  a_list.append(a)\n",
        "\n",
        "S_1 = sum(a_list) / N\n",
        "print('平均二乗変位の理論値')\n",
        "print(S)\n",
        "print('平均二乗変位の実験値')\n",
        "print(S_1)"
      ],
      "metadata": {
        "colab": {
          "base_uri": "https://localhost:8080/"
        },
        "id": "Ht5pJrU8CBhN",
        "outputId": "374c41e8-5974-488a-f238-cde2cdf1e0dd"
      },
      "execution_count": 139,
      "outputs": [
        {
          "output_type": "stream",
          "name": "stdout",
          "text": [
            "平均二乗変位の理論値\n",
            "20\n",
            "平均二乗変位の実験値\n",
            "15.122575967579772\n"
          ]
        }
      ]
    },
    {
      "cell_type": "code",
      "source": [
        "N_list = list(range(1,N+2))\n",
        "plt.plot(N_list,x_list) # (x,y)のプロット\n",
        "plt.xlabel('t') # ｘ軸のラベル\n",
        "plt.ylabel('x') # y軸のラベル\n",
        "plt.xlim([0,N])  # x軸の範囲\n",
        "plt.ylim([-10,10]) # y軸の範囲\n",
        "plt.show()"
      ],
      "metadata": {
        "colab": {
          "base_uri": "https://localhost:8080/",
          "height": 283
        },
        "id": "DKVLVZGGDDHg",
        "outputId": "cffd2f48-f23d-4d9b-8953-ce278e11626a"
      },
      "execution_count": 140,
      "outputs": [
        {
          "output_type": "display_data",
          "data": {
            "image/png": "[encoded data removed]",
            "text/plain": [
              "<Figure size 432x288 with 1 Axes>"
            ]
          },
          "metadata": {
            "needs_background": "light"
          }
        }
      ]
    },
    {
      "cell_type": "markdown",
      "source": [
        "#  調和ポテンシャル中のブラウン運動のシミュレーション"
      ],
      "metadata": {
        "id": "P8nbbCRIVGqx"
      }
    },
    {
      "cell_type": "code",
      "source": [
        "#回数\n",
        "N = 1000\n",
        "\n",
        "#拡散係数\n",
        "D = 10\n",
        "\n",
        "DT = 1/N\n",
        "\n",
        "#平均二乗変位の理論値\n",
        "S = 2 * D * 1\n",
        "\n",
        "#ポテンシャル強度(ここを色々な数値で計算する)\n",
        "k = 100\n",
        "\n",
        "#初期値\n",
        "x,y = 0,0\n",
        "\n",
        "x_list = [0]\n",
        "y_list = [0]\n",
        "a_list = []\n",
        "\n",
        "for n in range(N):\n",
        "  X = random.random()\n",
        "  Y = random.random()\n",
        "  dw = (2 * D * DT)**(1/2)  * (-2 * log(X))**(1/2) * cos(2 * pi * Y)\n",
        "  x = x - (k * x * DT) + dw\n",
        "  a = (0 - x)**2\n",
        "  x_list.append(x)\n",
        "  y_list.append(y)\n",
        "  a_list.append(a)\n",
        "\n",
        "S_1 = sum(a_list) / N\n",
        "print('平均二乗変位の理論値')\n",
        "print(S)\n",
        "print('平均二乗変位の実験値')\n",
        "print(S_1)"
      ],
      "metadata": {
        "colab": {
          "base_uri": "https://localhost:8080/"
        },
        "id": "f-k6PGM2VF9j",
        "outputId": "607bddba-493d-4636-db05-91abd8106429"
      },
      "execution_count": 151,
      "outputs": [
        {
          "output_type": "stream",
          "name": "stdout",
          "text": [
            "平均二乗変位の理論値\n",
            "20\n",
            "平均二乗変位の実験値\n",
            "0.10742605102116266\n"
          ]
        }
      ]
    },
    {
      "cell_type": "code",
      "source": [
        "N_list = list(range(1,N+2))\n",
        "plt.plot(N_list,x_list) # (x,y)のプロット\n",
        "plt.xlabel('t') # ｘ軸のラベル\n",
        "plt.ylabel('x') # y軸のラベル\n",
        "plt.xlim([0,N])  # x軸の範囲\n",
        "plt.ylim([-10,10]) # y軸の範囲\n",
        "plt.show()"
      ],
      "metadata": {
        "colab": {
          "base_uri": "https://localhost:8080/",
          "height": 283
        },
        "id": "vKIla3ziXTL0",
        "outputId": "6f0be515-b01e-43d3-ff48-d99b0fc08e37"
      },
      "execution_count": 145,
      "outputs": [
        {
          "output_type": "display_data",
          "data": {
            "image/png": "[encoded data removed]",
            "text/plain": [
              "<Figure size 432x288 with 1 Axes>"
            ]
          },
          "metadata": {
            "needs_background": "light"
          }
        }
      ]
    },
    {
      "cell_type": "markdown",
      "source": [
        "# ランジュバン方程式のシミュレーション\n",
        "* ポテンシャル中でのブラウン運動"
      ],
      "metadata": {
        "id": "wKCMfKfmYnAU"
      }
    },
    {
      "cell_type": "code",
      "source": [
        "#回数\n",
        "N = 1000\n",
        "\n",
        "#拡散係数\n",
        "D = 10\n",
        "\n",
        "DT = 1/N\n",
        "\n",
        "#平均二乗変位の理論値\n",
        "S = 2 * D * 1\n",
        "\n",
        "#質量\n",
        "m = 100\n",
        "#摩擦係数\n",
        "j = 0.1\n",
        "\n",
        "#ポテンシャルの初期値\n",
        "v = 0\n",
        "\n",
        "#初期値\n",
        "x,y = 0,0\n",
        "\n",
        "x_list = [0]\n",
        "y_list = [0]\n",
        "a_list = []\n",
        "\n",
        "for n in range(N):\n",
        "  X = random.random()\n",
        "  Y = random.random()\n",
        "  dw = (2 * D * DT)**(1/2)  * (-2 * log(X))**(1/2) * cos(2 * pi * Y)\n",
        "  v = v - (j/m * v * DT) + dw/m\n",
        "  x = x  + v\n",
        "  a = (0 - x)**2\n",
        "  x_list.append(x)\n",
        "  y_list.append(y)\n",
        "  a_list.append(a)\n",
        "\n",
        "S_1 = sum(a_list) / N\n",
        "print('平均二乗変位の理論値')\n",
        "print(S)\n",
        "print('平均二乗変位の実験値')\n",
        "print(S_1)"
      ],
      "metadata": {
        "colab": {
          "base_uri": "https://localhost:8080/"
        },
        "id": "nf-mpbGYYmYA",
        "outputId": "4de1f3d2-36f5-4520-bfbe-cc20c1be370a"
      },
      "execution_count": 146,
      "outputs": [
        {
          "output_type": "stream",
          "name": "stdout",
          "text": [
            "平均二乗変位の理論値\n",
            "20\n",
            "平均二乗変位の実験値\n",
            "5.029511347134525\n"
          ]
        }
      ]
    },
    {
      "cell_type": "code",
      "source": [
        "N_list = list(range(1,N+2))\n",
        "plt.plot(N_list,x_list) # (x,y)のプロット\n",
        "plt.xlabel('t') # ｘ軸のラベル\n",
        "plt.ylabel('x') # y軸のラベル\n",
        "plt.xlim([0,N])  # x軸の範囲\n",
        "plt.ylim([-30,30]) # y軸の範囲\n",
        "plt.show()"
      ],
      "metadata": {
        "colab": {
          "base_uri": "https://localhost:8080/",
          "height": 283
        },
        "id": "a-fgyDrRacPI",
        "outputId": "f51988e2-c958-4801-d430-43663fd0b095"
      },
      "execution_count": 147,
      "outputs": [
        {
          "output_type": "display_data",
          "data": {
            "image/png": "[encoded data removed]",
            "text/plain": [
              "<Figure size 432x288 with 1 Axes>"
            ]
          },
          "metadata": {
            "needs_background": "light"
          }
        }
      ]
    }
  ]
}