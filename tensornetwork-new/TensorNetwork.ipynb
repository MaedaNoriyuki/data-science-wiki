{
  "nbformat": 4,
  "nbformat_minor": 0,
  "metadata": {
    "colab": {
      "provenance": [],
      "authorship_tag": "ABX9TyO2Q0mwwu7aunHTHut706s3",
      "include_colab_link": true
    },
    "kernelspec": {
      "name": "python3",
      "display_name": "Python 3"
    },
    "language_info": {
      "name": "python"
    }
  },
  "cells": [
    {
      "cell_type": "markdown",
      "metadata": {
        "id": "view-in-github",
        "colab_type": "text"
      },
      "source": [
        "<a href=\"https://colab.research.google.com/github/fuyu-quant/Data_Science/blob/main/TensorNetwork/TensorNetwork.ipynb\" target=\"_parent\"><img src=\"https://colab.research.google.com/assets/colab-badge.svg\" alt=\"Open In Colab\"/></a>"
      ]
    },
    {
      "cell_type": "markdown",
      "source": [
        "# TensorNetwork\n",
        "* https://github.com/google/tensornetwork\n",
        "* 主な利用方法としては高次元のテンソルを複数の低次元テンソルからなるネットワークとして近似することが目的である．高次元テンソルは次元数に対して指数関数的にパラメータ数が増大するが低次元のテンソルに分解することでパラメータ数を指数関数的に減らして計算を行うことができる．\n",
        "* [Tensors.net](https://www.tensors.net/intro)...テンソルネットワークの勉強サイト"
      ],
      "metadata": {
        "id": "ex1Q4UdwNeYw"
      }
    },
    {
      "cell_type": "code",
      "execution_count": 2,
      "metadata": {
        "id": "YYLOv1R9MnNd"
      },
      "outputs": [],
      "source": [
        "%%capture\n",
        "!pip3 install tensornetwork"
      ]
    },
    {
      "cell_type": "code",
      "source": [
        "import numpy as np\n",
        "import tensornetwork as tn"
      ],
      "metadata": {
        "id": "RQfrAzOnNgmI"
      },
      "execution_count": 3,
      "outputs": []
    },
    {
      "cell_type": "code",
      "source": [
        "# ノードa,bを作成する\n",
        "a = tn.Node(np.ones((10,))) \n",
        "b = tn.Node(np.ones((10,)))"
      ],
      "metadata": {
        "id": "t6dNNALvNpWF"
      },
      "execution_count": 6,
      "outputs": []
    },
    {
      "cell_type": "code",
      "source": [
        "# 二つのノードを繋げる\n",
        "edge = a[0] ^ b[0] # Equal to tn.connect(a[0], b[0])\n",
        "# 縮約を行う\n",
        "final_node = tn.contract(edge)\n",
        "print(final_node.tensor)"
      ],
      "metadata": {
        "colab": {
          "base_uri": "https://localhost:8080/"
        },
        "id": "-4zAWkIkOt7U",
        "outputId": "206ded99-3a46-4354-8dd3-7f90556ca313"
      },
      "execution_count": 7,
      "outputs": [
        {
          "output_type": "stream",
          "name": "stdout",
          "text": [
            "10.0\n"
          ]
        }
      ]
    },
    {
      "cell_type": "code",
      "source": [],
      "metadata": {
        "id": "LA2I2hTYPYZh"
      },
      "execution_count": null,
      "outputs": []
    }
  ]
}