{
 "cells": [
  {
   "cell_type": "markdown",
   "id": "744ccfa2-5820-424d-bc9f-b1595239b1a7",
   "metadata": {},
   "source": [
    "# ELMo\n",
    "* https://dev.classmethod.jp/articles/elmo-for-embeddings-and-plotting-with-umap/"
   ]
  },
  {
   "cell_type": "code",
   "execution_count": null,
   "id": "b34e0c6d-bd1a-43ad-b02a-78b72a2e4013",
   "metadata": {},
   "outputs": [],
   "source": []
  }
 ],
 "metadata": {
  "kernelspec": {
   "display_name": "Python 3 (ipykernel)",
   "language": "python",
   "name": "python3"
  },
  "language_info": {
   "codemirror_mode": {
    "name": "ipython",
    "version": 3
   },
   "file_extension": ".py",
   "mimetype": "text/x-python",
   "name": "python",
   "nbconvert_exporter": "python",
   "pygments_lexer": "ipython3",
   "version": "3.9.7"
  }
 },
 "nbformat": 4,
 "nbformat_minor": 5
}
