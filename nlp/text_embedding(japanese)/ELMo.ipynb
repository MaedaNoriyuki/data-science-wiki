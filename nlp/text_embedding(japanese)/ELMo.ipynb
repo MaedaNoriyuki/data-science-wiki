{
 "cells": [
  {
   "cell_type": "markdown",
   "id": "1bf9a9b1",
   "metadata": {},
   "source": [
    "# ELMo"
   ]
  },
  {
   "cell_type": "markdown",
   "id": "744ccfa2-5820-424d-bc9f-b1595239b1a7",
   "metadata": {},
   "source": [
    "* https://dev.classmethod.jp/articles/elmo-for-embeddings-and-plotting-with-umap/"
   ]
  },
  {
   "cell_type": "code",
   "execution_count": null,
   "id": "b34e0c6d-bd1a-43ad-b02a-78b72a2e4013",
   "metadata": {},
   "outputs": [],
   "source": []
  }
 ],
 "metadata": {
  "kernelspec": {
   "display_name": "Python 3.9.18 ('.venv': poetry)",
   "language": "python",
   "name": "python3"
  },
  "language_info": {
   "codemirror_mode": {
    "name": "ipython",
    "version": 3
   },
   "file_extension": ".py",
   "mimetype": "text/x-python",
   "name": "python",
   "nbconvert_exporter": "python",
   "pygments_lexer": "ipython3",
   "version": "3.9.18"
  },
  "vscode": {
   "interpreter": {
    "hash": "17a011378fed683b21aba93e5dd7c0cb7beefc09c5af72c6425b40c713e260dc"
   }
  }
 },
 "nbformat": 4,
 "nbformat_minor": 5
}
