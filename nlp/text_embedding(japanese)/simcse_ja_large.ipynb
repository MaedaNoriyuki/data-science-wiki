{
 "cells": [
  {
   "cell_type": "markdown",
   "metadata": {},
   "source": [
    "# Japanese Simple-SimCSE"
   ]
  },
  {
   "cell_type": "markdown",
   "metadata": {},
   "source": [
    "近年では事前学習済み言語モデルに対して対照学習(Contrastive Learning)によるfine-tuningを施す手法が高い性能を示しています。 その中でも代表的な手法がSimCSE (Simple Contrastive Sentence Embedding)です。sentence-transformers経由から簡単に使うことができます．\n",
    "* https://github.com/hppRC/simple-simcse-ja"
   ]
  },
  {
   "cell_type": "code",
   "execution_count": 4,
   "metadata": {},
   "outputs": [],
   "source": [
    "%%capture\n",
    "!pip install -U sentence-transformers fugashi"
   ]
  },
  {
   "cell_type": "code",
   "execution_count": 2,
   "metadata": {},
   "outputs": [],
   "source": [
    "from sentence_transformers import SentenceTransformer"
   ]
  },
  {
   "cell_type": "markdown",
   "metadata": {},
   "source": [
    "### モデルのダウンロード"
   ]
  },
  {
   "cell_type": "code",
   "execution_count": 5,
   "metadata": {},
   "outputs": [],
   "source": [
    "model = SentenceTransformer(\"cl-nagoya/sup-simcse-ja-large\")"
   ]
  },
  {
   "cell_type": "code",
   "execution_count": 7,
   "metadata": {},
   "outputs": [
    {
     "name": "stdout",
     "output_type": "stream",
     "text": [
      "[[ 0.8153963   0.1705761  -0.93123746 ...  0.02248287 -0.6005307\n",
      "  -0.39001358]\n",
      " [ 0.5883566  -0.19295521 -0.50073093 ...  0.5580279   0.10143187\n",
      "  -0.16707136]\n",
      " [ 0.37470827  0.63570505 -0.77681774 ...  0.5881704  -0.0204294\n",
      "  -0.13789594]]\n"
     ]
    }
   ],
   "source": [
    "sentences = [\n",
    "    \"\", \n",
    "    \"文埋め込み最高！文埋め込み最高と叫びなさい\", \n",
    "    \"極度乾燥しなさい\"\n",
    "    ]\n",
    "\n",
    "embeddings = model.encode(sentences)\n",
    "print(embeddings)"
   ]
  },
  {
   "cell_type": "code",
   "execution_count": null,
   "metadata": {},
   "outputs": [],
   "source": []
  }
 ],
 "metadata": {
  "kernelspec": {
   "display_name": "Python 3.9.18 ('.venv': poetry)",
   "language": "python",
   "name": "python3"
  },
  "language_info": {
   "codemirror_mode": {
    "name": "ipython",
    "version": 3
   },
   "file_extension": ".py",
   "mimetype": "text/x-python",
   "name": "python",
   "nbconvert_exporter": "python",
   "pygments_lexer": "ipython3",
   "version": "3.9.18"
  },
  "orig_nbformat": 4,
  "vscode": {
   "interpreter": {
    "hash": "17a011378fed683b21aba93e5dd7c0cb7beefc09c5af72c6425b40c713e260dc"
   }
  }
 },
 "nbformat": 4,
 "nbformat_minor": 2
}
