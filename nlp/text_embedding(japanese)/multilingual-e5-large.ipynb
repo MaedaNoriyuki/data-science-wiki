{
 "cells": [
  {
   "cell_type": "markdown",
   "id": "9a91d3d0-9844-42b6-9b54-ddb0a65846ef",
   "metadata": {},
   "source": [
    "# Multilingual-E5-large"
   ]
  },
  {
   "cell_type": "markdown",
   "id": "3d0b7680-2df8-4905-913f-43f59f57b822",
   "metadata": {},
   "source": [
    "* https://huggingface.co/intfloat/multilingual-e5-large"
   ]
  },
  {
   "cell_type": "markdown",
   "id": "aeff8c0c-476c-4d54-b232-87af0e1a09c8",
   "metadata": {},
   "source": [
    "[![Open In Colab](https://colab.research.google.com/assets/colab-badge.svg)](https://colab.research.google.com/github/fuyu-quant/data-science-wiki/blob/main/nlp/text_embedding(japanese)/multilingual-e5-large.ipynb)"
   ]
  },
  {
   "cell_type": "code",
   "execution_count": 3,
   "id": "df422714-e443-4e3e-8c99-311070f074e0",
   "metadata": {},
   "outputs": [],
   "source": [
    "import torch.nn.functional as F\n",
    "\n",
    "from torch import Tensor\n",
    "from transformers import AutoTokenizer, AutoModel"
   ]
  },
  {
   "cell_type": "markdown",
   "id": "693a28a3-df16-4518-a77f-65d9c159fb82",
   "metadata": {},
   "source": [
    "#### Model"
   ]
  },
  {
   "cell_type": "code",
   "execution_count": 7,
   "id": "d607d4cc-4fc8-4c18-b870-23f4ffa8c8a9",
   "metadata": {},
   "outputs": [],
   "source": [
    "tokenizer = AutoTokenizer.from_pretrained('intfloat/multilingual-e5-large')\n",
    "model = AutoModel.from_pretrained('intfloat/multilingual-e5-large')"
   ]
  },
  {
   "cell_type": "code",
   "execution_count": 5,
   "id": "9f5dcd1b-164a-4152-a0d7-58121bdf5c0d",
   "metadata": {},
   "outputs": [],
   "source": [
    "def average_pool(last_hidden_states: Tensor,\n",
    "                 attention_mask: Tensor) -> Tensor:\n",
    "    last_hidden = last_hidden_states.masked_fill(~attention_mask[..., None].bool(), 0.0)\n",
    "    return last_hidden.sum(dim=1) / attention_mask.sum(dim=1)[..., None]"
   ]
  },
  {
   "cell_type": "markdown",
   "id": "394bb3e5-1bd4-4289-8cb0-5a81b371ad90",
   "metadata": {},
   "source": [
    "#### Data Set Preparation"
   ]
  },
  {
   "cell_type": "code",
   "execution_count": 10,
   "id": "5069a62b-7e6e-4077-9a12-d2d85b945fcd",
   "metadata": {},
   "outputs": [],
   "source": [
    "texts = [\n",
    "    '機械学習の勉強をする',\n",
    "    'あいうえお',\n",
    "    '量子コンピュータは量子力学の原理を応用したコンピュータ'\n",
    "]"
   ]
  },
  {
   "cell_type": "code",
   "execution_count": 11,
   "id": "216434de-ac20-4a2a-88bf-0cc8e73dde77",
   "metadata": {},
   "outputs": [],
   "source": [
    "batch_dict = tokenizer(texts, max_length=512, padding=True, truncation=True, return_tensors='pt')\n",
    "\n",
    "outputs = model(**batch_dict)\n",
    "embeddings = average_pool(outputs.last_hidden_state, batch_dict['attention_mask'])\n",
    "embeddings = F.normalize(embeddings, p=2, dim=1)"
   ]
  },
  {
   "cell_type": "code",
   "execution_count": 12,
   "id": "bacf8e77-2418-4166-ba81-07d6124ba75f",
   "metadata": {},
   "outputs": [
    {
     "data": {
      "text/plain": [
       "tensor([[ 0.0120, -0.0002, -0.0287,  ..., -0.0018, -0.0049,  0.0056],\n",
       "        [ 0.0434,  0.0439, -0.0173,  ...,  0.0083, -0.0311,  0.0187],\n",
       "        [ 0.0409,  0.0239, -0.0122,  ...,  0.0203, -0.0263,  0.0144]],\n",
       "       grad_fn=<DivBackward0>)"
      ]
     },
     "execution_count": 12,
     "metadata": {},
     "output_type": "execute_result"
    }
   ],
   "source": [
    "embeddings"
   ]
  },
  {
   "cell_type": "code",
   "execution_count": null,
   "id": "17b12dd0-b5ad-406a-b1eb-440919a087ea",
   "metadata": {},
   "outputs": [],
   "source": []
  }
 ],
 "metadata": {
  "kernelspec": {
   "display_name": "Python 3 (ipykernel)",
   "language": "python",
   "name": "python3"
  },
  "language_info": {
   "codemirror_mode": {
    "name": "ipython",
    "version": 3
   },
   "file_extension": ".py",
   "mimetype": "text/x-python",
   "name": "python",
   "nbconvert_exporter": "python",
   "pygments_lexer": "ipython3",
   "version": "3.9.17"
  }
 },
 "nbformat": 4,
 "nbformat_minor": 5
}
