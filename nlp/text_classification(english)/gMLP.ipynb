{
 "cells": [
  {
   "cell_type": "markdown",
   "id": "241d766d-1865-4931-9485-cfaef496735c",
   "metadata": {},
   "source": [
    "# gMLP"
   ]
  },
  {
   "cell_type": "markdown",
   "id": "87d7d5e7",
   "metadata": {},
   "source": [
    "* https://github.com/lucidrains/g-mlp-pytorch"
   ]
  }
 ],
 "metadata": {
  "kernelspec": {
   "display_name": "Python 3 (ipykernel)",
   "language": "python",
   "name": "python3"
  },
  "language_info": {
   "codemirror_mode": {
    "name": "ipython",
    "version": 3
   },
   "file_extension": ".py",
   "mimetype": "text/x-python",
   "name": "python",
   "nbconvert_exporter": "python",
   "pygments_lexer": "ipython3",
   "version": "3.9.7"
  }
 },
 "nbformat": 4,
 "nbformat_minor": 5
}
