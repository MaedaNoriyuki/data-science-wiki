{
 "cells": [
  {
   "cell_type": "markdown",
   "id": "7947a37e",
   "metadata": {},
   "source": [
    "# GiNZA"
   ]
  },
  {
   "cell_type": "markdown",
   "id": "54e1f153",
   "metadata": {},
   "source": [
    "GiNZAは、Megagon Labsが開発した無料のオープンソース日本語NLPライブラリで、spaCyの日本語版として機能し、形態素解析や係り受け解析を含む高速かつ高精度な解析を提供します\n",
    "- ドキュメント:https://megagonlabs.github.io/ginza/"
   ]
  },
  {
   "cell_type": "markdown",
   "id": "f8954ead",
   "metadata": {},
   "source": [
    "<a href=\"https://colab.research.google.com/github/fuyu-quant/data-science-wiki/blob/main/nlp/morphological_analysis(japanese)/GiNZA.ipynb\" target=\"_blank\" rel=\"noopener noreferrer\"><img src=\"https://colab.research.google.com/assets/colab-badge.svg\" alt=\"Open In Colab\"/></a>"
   ]
  },
  {
   "cell_type": "code",
   "execution_count": 6,
   "id": "a7484093",
   "metadata": {},
   "outputs": [],
   "source": [
    "%%capture\n",
    "!pip install ginza ja_ginza\n",
    "!pip install spacy\n"
   ]
  },
  {
   "cell_type": "code",
   "execution_count": 4,
   "id": "42a3ba2d",
   "metadata": {},
   "outputs": [],
   "source": [
    "import spacy\n"
   ]
  },
  {
   "cell_type": "code",
   "execution_count": 8,
   "id": "f3f17487",
   "metadata": {},
   "outputs": [
    {
     "name": "stdout",
     "output_type": "stream",
     "text": [
      "0 量子 量子 NOUN 名詞-普通名詞-一般 compound 2\n",
      "1 コンピュータ コンピュータ NOUN 名詞-普通名詞-一般 compound 2\n",
      "2 上 上 NOUN 接尾辞-名詞的-副詞可能 obl 7\n",
      "3 で で ADP 助詞-格助詞 case 2\n",
      "4 機械学習 機械学習 NOUN 名詞-普通名詞-一般 compound 5\n",
      "5 アルゴリズム アルゴリズム NOUN 名詞-普通名詞-一般 obj 7\n",
      "6 を を ADP 助詞-格助詞 case 5\n",
      "7 使う 使う VERB 動詞-一般 ROOT 7\n",
      "8 ． . PUNCT 補助記号-句点 punct 7\n"
     ]
    }
   ],
   "source": [
    "nlp = spacy.load('ja_ginza')\n",
    "doc = nlp('量子コンピュータ上で機械学習アルゴリズムを使う．')\n",
    "\n",
    "for sent in doc.sents:\n",
    "    for token in sent:\n",
    "        print(token.i, token.orth_, token.lemma_, token.pos_,\n",
    "              token.tag_, token.dep_, token.head.i)\n"
   ]
  }
 ],
 "metadata": {
  "kernelspec": {
   "display_name": "Python 3 (ipykernel)",
   "language": "python",
   "name": "python3"
  },
  "language_info": {
   "codemirror_mode": {
    "name": "ipython",
    "version": 3
   },
   "file_extension": ".py",
   "mimetype": "text/x-python",
   "name": "python",
   "nbconvert_exporter": "python",
   "pygments_lexer": "ipython3",
   "version": "3.9.18"
  }
 },
 "nbformat": 4,
 "nbformat_minor": 5
}
