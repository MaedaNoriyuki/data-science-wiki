{
 "cells": [
  {
   "cell_type": "markdown",
   "id": "7947a37e",
   "metadata": {},
   "source": [
    "# GiNZA"
   ]
  },
  {
   "cell_type": "code",
   "execution_count": null,
   "id": "fb388e55-18fe-4fcd-aac2-98f23b257356",
   "metadata": {},
   "outputs": [],
   "source": []
  }
 ],
 "metadata": {
  "kernelspec": {
   "display_name": "Python 3 (ipykernel)",
   "language": "python",
   "name": "python3"
  },
  "language_info": {
   "codemirror_mode": {
    "name": "ipython",
    "version": 3
   },
   "file_extension": ".py",
   "mimetype": "text/x-python",
   "name": "python",
   "nbconvert_exporter": "python",
   "pygments_lexer": "ipython3",
   "version": "3.9.7"
  }
 },
 "nbformat": 4,
 "nbformat_minor": 5
}
