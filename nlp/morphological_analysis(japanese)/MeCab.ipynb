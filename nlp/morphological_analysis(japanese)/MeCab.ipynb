{
 "cells": [
  {
   "cell_type": "markdown",
   "id": "35543949-377d-4142-bec8-859aaff5530e",
   "metadata": {},
   "source": [
    "# MeCab"
   ]
  },
  {
   "cell_type": "markdown",
   "id": "b6852dc8",
   "metadata": {},
   "source": [
    "MeCabは奈良先端科学技術大学院大学出身で、Googleのエンジニアである工藤拓氏により開発されたオープンソースの形態素解析エンジンです。このツールは日本語解析において高い精度を誇り、PythonやRなどのプログラミング言語での利用が容易なことが特徴です.\n",
    "* https://github.com/SamuraiT/mecab-python3"
   ]
  },
  {
   "cell_type": "markdown",
   "id": "5fdfbcf1",
   "metadata": {},
   "source": [
    "<a href=\"https://colab.research.google.com/github/fuyu-quant/data-science-wiki/blob/main/nlp/morphological_analysis(japanese)/MeCab.ipynb\" target=\"_blank\" rel=\"noopener noreferrer\"><img src=\"https://colab.research.google.com/assets/colab-badge.svg\" alt=\"Open In Colab\"/></a>"
   ]
  },
  {
   "cell_type": "code",
   "execution_count": 1,
   "id": "ffce8ef4-a46a-41c5-9998-67f0f5139caf",
   "metadata": {},
   "outputs": [],
   "source": [
    "%%capture\n",
    "!pip install mecab-python3\n",
    "!pip install unidic-lite\n"
   ]
  },
  {
   "cell_type": "code",
   "execution_count": 2,
   "id": "de02c209",
   "metadata": {},
   "outputs": [],
   "source": [
    "import MeCab\n"
   ]
  },
  {
   "cell_type": "code",
   "execution_count": 3,
   "id": "a0473e93",
   "metadata": {},
   "outputs": [
    {
     "data": {
      "text/plain": [
       "['量子', 'コンピュータ', '上', 'で', '機械', '学習', 'アルゴリズム', 'を', '使う']"
      ]
     },
     "execution_count": 3,
     "metadata": {},
     "output_type": "execute_result"
    }
   ],
   "source": [
    "wakati = MeCab.Tagger(\"-Owakati\")\n",
    "wakati.parse('量子コンピュータ上で機械学習アルゴリズムを使う').split()\n"
   ]
  }
 ],
 "metadata": {
  "kernelspec": {
   "display_name": "Python 3.9.18 ('.venv': poetry)",
   "language": "python",
   "name": "python3"
  },
  "language_info": {
   "codemirror_mode": {
    "name": "ipython",
    "version": 3
   },
   "file_extension": ".py",
   "mimetype": "text/x-python",
   "name": "python",
   "nbconvert_exporter": "python",
   "pygments_lexer": "ipython3",
   "version": "3.9.18"
  },
  "vscode": {
   "interpreter": {
    "hash": "17a011378fed683b21aba93e5dd7c0cb7beefc09c5af72c6425b40c713e260dc"
   }
  }
 },
 "nbformat": 4,
 "nbformat_minor": 5
}
