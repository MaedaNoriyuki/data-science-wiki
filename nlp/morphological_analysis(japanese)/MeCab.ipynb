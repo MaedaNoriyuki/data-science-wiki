{
 "cells": [
  {
   "cell_type": "markdown",
   "id": "35543949-377d-4142-bec8-859aaff5530e",
   "metadata": {},
   "source": [
    "# MeCab"
   ]
  },
  {
   "cell_type": "markdown",
   "id": "b6852dc8",
   "metadata": {},
   "source": [
    "* https://github.com/SamuraiT/mecab-python3"
   ]
  },
  {
   "cell_type": "code",
   "execution_count": 1,
   "id": "ffce8ef4-a46a-41c5-9998-67f0f5139caf",
   "metadata": {},
   "outputs": [],
   "source": [
    "%%capture\n",
    "!pip install mecab-python3\n",
    "!pip install unidic-lite"
   ]
  },
  {
   "cell_type": "code",
   "execution_count": 2,
   "id": "de02c209",
   "metadata": {},
   "outputs": [],
   "source": [
    "import MeCab"
   ]
  },
  {
   "cell_type": "code",
   "execution_count": 3,
   "id": "a0473e93",
   "metadata": {},
   "outputs": [
    {
     "data": {
      "text/plain": [
       "['python', 'が', '大好き', 'です']"
      ]
     },
     "execution_count": 3,
     "metadata": {},
     "output_type": "execute_result"
    }
   ],
   "source": [
    "wakati = MeCab.Tagger(\"-Owakati\")\n",
    "wakati.parse(\"pythonが大好きです\").split()"
   ]
  },
  {
   "cell_type": "code",
   "execution_count": null,
   "id": "ab5be989",
   "metadata": {},
   "outputs": [],
   "source": []
  }
 ],
 "metadata": {
  "kernelspec": {
   "display_name": "Python 3.9.18 ('.venv': poetry)",
   "language": "python",
   "name": "python3"
  },
  "language_info": {
   "codemirror_mode": {
    "name": "ipython",
    "version": 3
   },
   "file_extension": ".py",
   "mimetype": "text/x-python",
   "name": "python",
   "nbconvert_exporter": "python",
   "pygments_lexer": "ipython3",
   "version": "3.9.18"
  },
  "vscode": {
   "interpreter": {
    "hash": "17a011378fed683b21aba93e5dd7c0cb7beefc09c5af72c6425b40c713e260dc"
   }
  }
 },
 "nbformat": 4,
 "nbformat_minor": 5
}
