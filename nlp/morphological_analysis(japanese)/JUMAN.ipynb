{
 "cells": [
  {
   "cell_type": "markdown",
   "id": "e8445e1b",
   "metadata": {},
   "source": [
    "# JUMAN"
   ]
  },
  {
   "cell_type": "markdown",
   "id": "050113e6",
   "metadata": {},
   "source": [
    "JUMANは京都大学の黒橋・褚・村脇研究室によって開発された日本語形態素解析システムです。1992年から公開され、継続的に改良されており、UTF-8対応やウェブテキスト用の自動獲得辞書などが特徴です．"
   ]
  },
  {
   "cell_type": "markdown",
   "id": "945b724d",
   "metadata": {},
   "source": [
    "<a href=\"https://colab.research.google.com/github/fuyu-quant/data-science-wiki/blob/main/nlp/morphological_analysis(japanese)/JUMAN.ipynb\" target=\"_blank\" rel=\"noopener noreferrer\"><img src=\"https://colab.research.google.com/assets/colab-badge.svg\" alt=\"Open In Colab\"/></a>"
   ]
  },
  {
   "cell_type": "code",
   "execution_count": 1,
   "id": "c0ae0a37",
   "metadata": {},
   "outputs": [],
   "source": [
    "%%capture\n",
    "!pip install pyknp\n"
   ]
  },
  {
   "cell_type": "code",
   "execution_count": 2,
   "id": "6a0c1bac",
   "metadata": {},
   "outputs": [],
   "source": [
    "from pyknp import Juman\n"
   ]
  },
  {
   "cell_type": "code",
   "execution_count": 3,
   "id": "603d5662-8bf2-4678-9558-f03a84153498",
   "metadata": {},
   "outputs": [
    {
     "ename": "Exception",
     "evalue": "Can't find JUMAN command: jumanpp",
     "output_type": "error",
     "traceback": [
      "\u001b[0;31m---------------------------------------------------------------------------\u001b[0m",
      "\u001b[0;31mException\u001b[0m                                 Traceback (most recent call last)",
      "\u001b[1;32m/Users/tanakatouma/vscode/data-science-wiki/nlp/morphological_analysis(japanese)/JUMAN.ipynb セル 6\u001b[0m line \u001b[0;36m1\n\u001b[0;32m----> <a href='vscode-notebook-cell:/Users/tanakatouma/vscode/data-science-wiki/nlp/morphological_analysis%28japanese%29/JUMAN.ipynb#W1sZmlsZQ%3D%3D?line=0'>1</a>\u001b[0m jumanpp \u001b[39m=\u001b[39m Juman()\n\u001b[1;32m      <a href='vscode-notebook-cell:/Users/tanakatouma/vscode/data-science-wiki/nlp/morphological_analysis%28japanese%29/JUMAN.ipynb#W1sZmlsZQ%3D%3D?line=1'>2</a>\u001b[0m result \u001b[39m=\u001b[39m jumanpp\u001b[39m.\u001b[39manalysis(\u001b[39m\"\u001b[39m\u001b[39mすもももももももものうち\u001b[39m\u001b[39m\"\u001b[39m)\n\u001b[1;32m      <a href='vscode-notebook-cell:/Users/tanakatouma/vscode/data-science-wiki/nlp/morphological_analysis%28japanese%29/JUMAN.ipynb#W1sZmlsZQ%3D%3D?line=2'>3</a>\u001b[0m \u001b[39mfor\u001b[39;00m mrph \u001b[39min\u001b[39;00m result\u001b[39m.\u001b[39mmrph_list(): \u001b[39m# 各形態素にアクセス\u001b[39;00m\n",
      "File \u001b[0;32m~/vscode/data-science-wiki/.venv/lib/python3.9/site-packages/pyknp/juman/juman.py:66\u001b[0m, in \u001b[0;36mJuman.__init__\u001b[0;34m(self, command, server, port, timeout, option, rcfile, ignorepattern, pattern, jumanpp, multithreading)\u001b[0m\n\u001b[1;32m     64\u001b[0m     \u001b[39mraise\u001b[39;00m \u001b[39mException\u001b[39;00m(\u001b[39m\"\u001b[39m\u001b[39mCan\u001b[39m\u001b[39m'\u001b[39m\u001b[39mt read rcfile (\u001b[39m\u001b[39m%s\u001b[39;00m\u001b[39m)!\u001b[39m\u001b[39m\"\u001b[39m \u001b[39m%\u001b[39m \u001b[39mself\u001b[39m\u001b[39m.\u001b[39mrcfile)\n\u001b[1;32m     65\u001b[0m \u001b[39mif\u001b[39;00m distutils\u001b[39m.\u001b[39mspawn\u001b[39m.\u001b[39mfind_executable(\u001b[39mself\u001b[39m\u001b[39m.\u001b[39mcommand) \u001b[39mis\u001b[39;00m \u001b[39mNone\u001b[39;00m:\n\u001b[0;32m---> 66\u001b[0m     \u001b[39mraise\u001b[39;00m \u001b[39mException\u001b[39;00m(\u001b[39m\"\u001b[39m\u001b[39mCan\u001b[39m\u001b[39m'\u001b[39m\u001b[39mt find JUMAN command: \u001b[39m\u001b[39m%s\u001b[39;00m\u001b[39m\"\u001b[39m \u001b[39m%\u001b[39m \u001b[39mself\u001b[39m\u001b[39m.\u001b[39mcommand)\n",
      "\u001b[0;31mException\u001b[0m: Can't find JUMAN command: jumanpp"
     ]
    }
   ],
   "source": [
    "jumanpp = Juman()\n",
    "result = jumanpp.analysis('量子コンピュータ上で機械学習アルゴリズムを使う')\n",
    "\n",
    "for mrph in result.mrph_list(): # 各形態素にアクセス\n",
    "    print(\"見出し:%s, 読み:%s, 原形:%s, 品詞:%s, 品詞細分類:%s, 活用型:%s, 活用形:%s, 意味情報:%s, 代表表記:%s\" \\\n",
    "            % (mrph.midasi, mrph.yomi, mrph.genkei, mrph.hinsi, mrph.bunrui, mrph.katuyou1, mrph.katuyou2, mrph.imis, mrph.repname))\n"
   ]
  }
 ],
 "metadata": {
  "kernelspec": {
   "display_name": "Python 3 (ipykernel)",
   "language": "python",
   "name": "python3"
  },
  "language_info": {
   "codemirror_mode": {
    "name": "ipython",
    "version": 3
   },
   "file_extension": ".py",
   "mimetype": "text/x-python",
   "name": "python",
   "nbconvert_exporter": "python",
   "pygments_lexer": "ipython3",
   "version": "3.9.18"
  }
 },
 "nbformat": 4,
 "nbformat_minor": 5
}
