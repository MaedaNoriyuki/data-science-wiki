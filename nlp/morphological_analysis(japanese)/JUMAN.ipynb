{
 "cells": [
  {
   "cell_type": "markdown",
   "id": "e8445e1b",
   "metadata": {},
   "source": [
    "# JUMAN"
   ]
  },
  {
   "cell_type": "markdown",
   "id": "050113e6",
   "metadata": {},
   "source": [
    "JUMANは京都大学の黒橋・褚・村脇研究室によって開発された日本語形態素解析システムです。1992年から公開され、継続的に改良されており、UTF-8対応やウェブテキスト用の自動獲得辞書などが特徴です．"
   ]
  },
  {
   "cell_type": "markdown",
   "id": "945b724d",
   "metadata": {},
   "source": [
    "<a href=\"https://colab.research.google.com/github/fuyu-quant/data-science-wiki/blob/main/nlp/morphological_analysis(japanese)/JUMAN.ipynb\" target=\"_blank\" rel=\"noopener noreferrer\"><img src=\"https://colab.research.google.com/assets/colab-badge.svg\" alt=\"Open In Colab\"/></a>"
   ]
  },
  {
   "cell_type": "code",
   "execution_count": 1,
   "id": "c0ae0a37",
   "metadata": {},
   "outputs": [],
   "source": [
    "%%capture\n",
    "!pip install pyknp\n"
   ]
  },
  {
   "cell_type": "code",
   "execution_count": 2,
   "id": "6a0c1bac",
   "metadata": {},
   "outputs": [],
   "source": [
    "from pyknp import Juman\n"
   ]
  },
  {
   "cell_type": "code",
   "execution_count": null,
   "id": "603d5662-8bf2-4678-9558-f03a84153498",
   "metadata": {},
   "outputs": [],
   "source": [
    "jumanpp = Juman()\n",
    "result = jumanpp.analysis('量子コンピュータ上で機械学習アルゴリズムを使う')\n",
    "\n",
    "for mrph in result.mrph_list(): # 各形態素にアクセス\n",
    "    print(\"見出し:%s, 読み:%s, 原形:%s, 品詞:%s, 品詞細分類:%s, 活用型:%s, 活用形:%s, 意味情報:%s, 代表表記:%s\" \\\n",
    "            % (mrph.midasi, mrph.yomi, mrph.genkei, mrph.hinsi, mrph.bunrui, mrph.katuyou1, mrph.katuyou2, mrph.imis, mrph.repname))\n"
   ]
  },
  {
   "cell_type": "code",
   "execution_count": null,
   "id": "1e22e2c3",
   "metadata": {},
   "outputs": [],
   "source": []
  }
 ],
 "metadata": {
  "kernelspec": {
   "display_name": "Python 3 (ipykernel)",
   "language": "python",
   "name": "python3"
  },
  "language_info": {
   "codemirror_mode": {
    "name": "ipython",
    "version": 3
   },
   "file_extension": ".py",
   "mimetype": "text/x-python",
   "name": "python",
   "nbconvert_exporter": "python",
   "pygments_lexer": "ipython3",
   "version": "3.9.18"
  }
 },
 "nbformat": 4,
 "nbformat_minor": 5
}
