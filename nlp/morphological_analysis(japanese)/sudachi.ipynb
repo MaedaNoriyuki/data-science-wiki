{
 "cells": [
  {
   "cell_type": "markdown",
   "metadata": {},
   "source": [
    "# Sudachi"
   ]
  },
  {
   "cell_type": "markdown",
   "metadata": {},
   "source": [
    "Sudachiは株式会社ワークスアプリケーションズの徳島人工知能NLP研究所が開発した形態素解析器です。その特徴は、複数粒度による分割やUniDicとNEologdに基づいた豊富な語彙の調整、形態素解析と固有表現抽出の統合など、高い柔軟性を持っています.\n",
    "* https://github.com/WorksApplications/SudachiPy"
   ]
  },
  {
   "cell_type": "markdown",
   "metadata": {},
   "source": [
    "<a href=\"https://colab.research.google.com/github/fuyu-quant/data-science-wiki/blob/main/nlp/morphological_analysis(japanese)/sudachi.ipynb\" target=\"_blank\" rel=\"noopener noreferrer\"><img src=\"https://colab.research.google.com/assets/colab-badge.svg\" alt=\"Open In Colab\"/></a>"
   ]
  },
  {
   "cell_type": "code",
   "execution_count": 1,
   "metadata": {},
   "outputs": [],
   "source": [
    "%%capture\n",
    "!pip install sudachipy\n",
    "!pip install sudachidict_core\n"
   ]
  },
  {
   "cell_type": "code",
   "execution_count": 2,
   "metadata": {},
   "outputs": [],
   "source": [
    "from sudachipy import tokenizer\n",
    "from sudachipy import dictionary\n"
   ]
  },
  {
   "cell_type": "code",
   "execution_count": 3,
   "metadata": {},
   "outputs": [],
   "source": [
    "tokenizer_obj = dictionary.Dictionary().create()\n"
   ]
  },
  {
   "cell_type": "code",
   "execution_count": 4,
   "metadata": {},
   "outputs": [],
   "source": [
    "text = '量子コンピュータ上で機械学習アルゴリズムを使う．'\n"
   ]
  },
  {
   "cell_type": "code",
   "execution_count": 10,
   "metadata": {},
   "outputs": [
    {
     "data": {
      "text/plain": [
       "<MorphemeList[\n",
       "  <Morpheme(量子, 0:2, (0, 726678))>,\n",
       "  <Morpheme(コンピュータ, 2:8, (0, 201107))>,\n",
       "  <Morpheme(上, 8:9, (0, 270115))>,\n",
       "  <Morpheme(で, 9:10, (0, 101431))>,\n",
       "  <Morpheme(機械, 10:12, (0, 521441))>,\n",
       "  <Morpheme(学習, 12:14, (0, 383398))>,\n",
       "  <Morpheme(アルゴリズム, 14:20, (0, 175647))>,\n",
       "  <Morpheme(を, 20:21, (0, 170877))>,\n",
       "  <Morpheme(使う, 21:23, (0, 293916))>,\n",
       "  <Morpheme(．, 23:24, (0, 20))>,\n",
       "]>"
      ]
     },
     "execution_count": 10,
     "metadata": {},
     "output_type": "execute_result"
    }
   ],
   "source": [
    "mode = tokenizer.Tokenizer.SplitMode.A\n",
    "m = tokenizer_obj.tokenize(text, mode)\n",
    "\n",
    "m\n"
   ]
  }
 ],
 "metadata": {
  "kernelspec": {
   "display_name": "Python 3.9.18 ('.venv': poetry)",
   "language": "python",
   "name": "python3"
  },
  "language_info": {
   "codemirror_mode": {
    "name": "ipython",
    "version": 3
   },
   "file_extension": ".py",
   "mimetype": "text/x-python",
   "name": "python",
   "nbconvert_exporter": "python",
   "pygments_lexer": "ipython3",
   "version": "3.9.18"
  },
  "orig_nbformat": 4,
  "vscode": {
   "interpreter": {
    "hash": "17a011378fed683b21aba93e5dd7c0cb7beefc09c5af72c6425b40c713e260dc"
   }
  }
 },
 "nbformat": 4,
 "nbformat_minor": 2
}
