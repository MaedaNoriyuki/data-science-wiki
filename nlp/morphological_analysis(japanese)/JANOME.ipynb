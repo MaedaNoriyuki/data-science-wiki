{
 "cells": [
  {
   "cell_type": "markdown",
   "id": "a328f2e0",
   "metadata": {},
   "source": [
    "# Janome"
   ]
  },
  {
   "cell_type": "markdown",
   "id": "edcc1c5e",
   "metadata": {},
   "source": [
    "Janomeは、Python用の形態素解析ライブラリで、簡単なインストールと使い勝手の良さが特徴です。MeCabと比べると速度は遅いですが、手軽さがメリットです．\n",
    "- ドキュメント:https://mocobeta.github.io/janome/"
   ]
  },
  {
   "cell_type": "markdown",
   "id": "ee945528",
   "metadata": {},
   "source": [
    "<a href=\"https://colab.research.google.com/github/fuyu-quant/data-science-wiki/blob/main/nlp/morphological_analysis(japanese)/JANOME.ipynb\" target=\"_blank\" rel=\"noopener noreferrer\"><img src=\"https://colab.research.google.com/assets/colab-badge.svg\" alt=\"Open In Colab\"/></a>"
   ]
  },
  {
   "cell_type": "code",
   "execution_count": 1,
   "id": "538ed8c1-b9a9-43d7-b41e-e6d6c8d9e4e2",
   "metadata": {},
   "outputs": [],
   "source": [
    "%%capture\n",
    "!pip install janome\n"
   ]
  },
  {
   "cell_type": "code",
   "execution_count": 3,
   "id": "7d836b5d",
   "metadata": {},
   "outputs": [],
   "source": [
    "from janome.tokenizer import Tokenizer\n"
   ]
  },
  {
   "cell_type": "code",
   "execution_count": 4,
   "id": "5a3628d7",
   "metadata": {},
   "outputs": [],
   "source": [
    "tokenizer = Tokenizer()\n",
    "\n",
    "text = '量子コンピュータ上で機械学習アルゴリズムを使う．'\n"
   ]
  },
  {
   "cell_type": "code",
   "execution_count": 5,
   "id": "83811768",
   "metadata": {},
   "outputs": [
    {
     "name": "stdout",
     "output_type": "stream",
     "text": [
      "量子\t名詞,一般,*,*,*,*,量子,リョウシ,リョーシ\n",
      "コンピュータ\t名詞,一般,*,*,*,*,コンピュータ,コンピュータ,コンピュータ\n",
      "上\t名詞,接尾,副詞可能,*,*,*,上,ジョウ,ジョー\n",
      "で\t助詞,格助詞,一般,*,*,*,で,デ,デ\n",
      "機械\t名詞,一般,*,*,*,*,機械,キカイ,キカイ\n",
      "学習\t名詞,サ変接続,*,*,*,*,学習,ガクシュウ,ガクシュー\n",
      "アルゴリズム\t名詞,一般,*,*,*,*,アルゴリズム,アルゴリズム,アルゴリズム\n",
      "を\t助詞,格助詞,一般,*,*,*,を,ヲ,ヲ\n",
      "使う\t動詞,自立,*,*,五段・ワ行促音便,基本形,使う,ツカウ,ツカウ\n",
      "．\t記号,句点,*,*,*,*,．,．,．\n"
     ]
    }
   ],
   "source": [
    "for token in tokenizer.tokenize(text):\n",
    "    print(token)\n"
   ]
  }
 ],
 "metadata": {
  "kernelspec": {
   "display_name": "Python 3.9.18 ('.venv': poetry)",
   "language": "python",
   "name": "python3"
  },
  "language_info": {
   "codemirror_mode": {
    "name": "ipython",
    "version": 3
   },
   "file_extension": ".py",
   "mimetype": "text/x-python",
   "name": "python",
   "nbconvert_exporter": "python",
   "pygments_lexer": "ipython3",
   "version": "3.9.18"
  },
  "vscode": {
   "interpreter": {
    "hash": "17a011378fed683b21aba93e5dd7c0cb7beefc09c5af72c6425b40c713e260dc"
   }
  }
 },
 "nbformat": 4,
 "nbformat_minor": 5
}
