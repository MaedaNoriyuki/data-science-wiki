{
 "cells": [
  {
   "cell_type": "markdown",
   "metadata": {},
   "source": [
    "# GPT-4-Turbo"
   ]
  },
  {
   "cell_type": "markdown",
   "metadata": {},
   "source": [
    "GPT-4 TurboはOpenAIによって開発された最新のモデルです。2023年4月の知識カットオフ、128kのコンテキストウィンドウを持ち、オリジナルのGPT-4モデルと比較して入力トークンが3倍安く、出力トークンが2倍安いのが特徴です。"
   ]
  },
  {
   "cell_type": "markdown",
   "metadata": {},
   "source": [
    "<a href=\"https://colab.research.google.com/github/fuyu-quant/data-science-wiki/blob/main/nlp/text_generation(multilingual)/gpt-4-turbo.ipynb\" target=\"_blank\" rel=\"noopener noreferrer\"><img src=\"https://colab.research.google.com/assets/colab-badge.svg\" alt=\"Open In Colab\"/></a>"
   ]
  },
  {
   "cell_type": "code",
   "execution_count": 1,
   "metadata": {},
   "outputs": [],
   "source": [
    "from openai import OpenAI\n",
    "import os\n",
    "\n",
    "client = OpenAI()\n",
    "\n",
    "#os.environ[\"OPENAI_API_KEY\"] = \"YOUR_API_KEY\""
   ]
  },
  {
   "cell_type": "markdown",
   "metadata": {},
   "source": [
    "### GPT-4-Turboの実行\n",
    "* 通常の実行"
   ]
  },
  {
   "cell_type": "code",
   "execution_count": 3,
   "metadata": {},
   "outputs": [],
   "source": [
    "text = \"量子コンピュータについて教えてください．\"\n",
    "\n",
    "response = client.chat.completions.create(\n",
    "  model=\"gpt-4-1106-preview\",\n",
    "  messages=[\n",
    "    {\"role\": \"user\", \"content\": f\"{text}\"}\n",
    "  ]\n",
    ")"
   ]
  },
  {
   "cell_type": "code",
   "execution_count": 4,
   "metadata": {},
   "outputs": [
    {
     "name": "stdout",
     "output_type": "stream",
     "text": [
      "量子コンピュータは、従来のコンピュータが使用するビットに代わり、「量子ビット」あるいは「キュービット（qubits）」と呼ばれる単位を使用する新しい種類のコンピュータです。量子ビットは量子力学の原理を使用し、計算能力を大幅に向上させる潜在力を持っています。\n",
      "\n",
      "### 量子ビット：\n",
      "従来のコンピュータビットは、0または1のどちらか一方の状態しか取ることができませんが、量子ビットは重ね合わせという現象を利用して0と1の状態を同時に取る能力があります。つまり、キュービットは多様な状態を同時に表現可能です。\n",
      "\n",
      "### 量子の特性:\n",
      "量子コンピュータは以下の量子力学の特性を使用しています。\n",
      "\n",
      "1. **重ね合わせ（Superposition）**:\n",
      "   キュービットが複数の可能性を同時に表現できる性質。これにより、計算プロセスが従来のコンピュータよりも遥かに速くなります。\n",
      "\n",
      "2. **量子もつれ（Entanglement）**:\n",
      "   二つまたはそれ以上のキュービットが互いに絡み合い、一つのキュービットの状態が他のものと瞬時に相関する現象。これは量子コンピュータが情報を非常に効率的に処理できる原因の一つです。\n",
      "\n",
      "3. **量子干渉（Quantum Interference）**:\n",
      "   量子状態同士が干渉し合う現象で、計算結果を得るために使われます。\n",
      "\n",
      "### 量子コンピュータの利点:\n",
      "量子コンピュータは特に、大きな数の素因数分解、化学物質のシミュレーション、最適化問題、量子暗号など、特定の種類の計算において、従来のコンピュータよりはるかに高速に処理できる可能性があります。\n",
      "\n",
      "### 技術的な課題:\n",
      "量子コンピュータは非常に有望な技術ですが、いくつかの技術的な課題があります。\n",
      "\n",
      "- **誤り訂正**: キュービットは外部の環境に対して非常に敏感であり、微細な温度変化、電磁場、衝突などによって誤った状態になることがあります（デコヒーレンス）。高度な誤り訂正技術が必要です。\n",
      "- **スケーリング**: 実用的な量子コンピュータを構築するためには、数千から数万のキュービットが必要になると予測されていますが、現在、キュービットの数を増やすことは技術的に困難です。\n",
      "- **アルゴリズムの開発**: 量子コンピュータで効果的に動作する新しいアルゴリズムの開発も研究の初期段階にあります。\n",
      "\n",
      "### 現状:\n",
      "量子コンピュータはまだ研究と開発の初期段階にありますが、IBM、Google、Microsoft、Intelなどの大手技術企業や、さまざまなスタートアップ企業が積極的に研究を行っています。数十キュービットを操作できる量子コンピュータが実験的に制作されており、\"量子優越性\"（量子コンピュータが特定のタスクで古典コンピュータよりも高速に計算できることを実証すること）を主張する実験結果も報告されています。しかし、広範囲にわたる実用的な応用にはまだ届いておらず、その可能性を完全に発揮するにはさらなる研究開発が必要です。\n"
     ]
    }
   ],
   "source": [
    "print(response.choices[0].message.content)"
   ]
  }
 ],
 "metadata": {
  "kernelspec": {
   "display_name": "Python 3.9.18 ('.venv': poetry)",
   "language": "python",
   "name": "python3"
  },
  "language_info": {
   "codemirror_mode": {
    "name": "ipython",
    "version": 3
   },
   "file_extension": ".py",
   "mimetype": "text/x-python",
   "name": "python",
   "nbconvert_exporter": "python",
   "pygments_lexer": "ipython3",
   "version": "3.9.18"
  },
  "orig_nbformat": 4,
  "vscode": {
   "interpreter": {
    "hash": "17a011378fed683b21aba93e5dd7c0cb7beefc09c5af72c6425b40c713e260dc"
   }
  }
 },
 "nbformat": 4,
 "nbformat_minor": 2
}
