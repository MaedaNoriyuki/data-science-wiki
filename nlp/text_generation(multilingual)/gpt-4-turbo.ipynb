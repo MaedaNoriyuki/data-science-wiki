{
 "cells": [
  {
   "cell_type": "markdown",
   "metadata": {},
   "source": [
    "# GPT-4-Turbo"
   ]
  },
  {
   "cell_type": "markdown",
   "metadata": {},
   "source": [
    "GPT-4 TurboはOpenAIによって開発された最新のモデルです。2023年4月の知識カットオフ、128kのコンテキストウィンドウを持ち、オリジナルのGPT-4モデルと比較して入力トークンが3倍安く、出力トークンが2倍安いのが特徴です。"
   ]
  },
  {
   "cell_type": "markdown",
   "metadata": {},
   "source": [
    "<a href=\"https://colab.research.google.com/github/fuyu-quant/data-science-wiki/blob/main/nlp/text_generation(multilingual)/gpt-4-turbo.ipynb\" target=\"_blank\" rel=\"noopener noreferrer\"><img src=\"https://colab.research.google.com/assets/colab-badge.svg\" alt=\"Open In Colab\"/></a>"
   ]
  },
  {
   "cell_type": "code",
   "execution_count": 1,
   "metadata": {},
   "outputs": [],
   "source": [
    "from openai import OpenAI\n",
    "import os\n",
    "\n",
    "#os.environ[\"OPENAI_API_KEY\"] = \"YOUR_API_KEY\"\n",
    "\n",
    "client = OpenAI()"
   ]
  },
  {
   "cell_type": "markdown",
   "metadata": {},
   "source": [
    "### GPT-4-Turboの実行\n",
    "* 通常の実行"
   ]
  },
  {
   "cell_type": "code",
   "execution_count": 2,
   "metadata": {},
   "outputs": [],
   "source": [
    "text = \"量子コンピュータについて教えてください．\"\n",
    "\n",
    "response = client.chat.completions.create(\n",
    "  model=\"gpt-4-1106-preview\",\n",
    "  messages=[\n",
    "    {\"role\": \"user\", \"content\": f\"{text}\"}\n",
    "  ]\n",
    ")"
   ]
  },
  {
   "cell_type": "code",
   "execution_count": 3,
   "metadata": {},
   "outputs": [
    {
     "name": "stdout",
     "output_type": "stream",
     "text": [
      "量子コンピュータは、量子力学の原理を活用した新しい種類のコンピュータです。従来のコンピュータがビットというデジタル情報を使用してデータを処理するのに対して、量子コンピュータは量子ビット（クビット）を使用します。\n",
      "\n",
      "### クビットについて\n",
      "量子ビット（qubit）は、0と1の状態を同時に取り得る特性（量子重ね合わせ）を持ちます。たとえて言うなら、従来のビットがコインが表か裏の状態にあるのに対し、量子ビットはコインが回転している状態であり、観測するまで表と裏の状態を同時に持ち得るということです。\n",
      "\n",
      "### 量子コンピュータの特徴\n",
      "- **量子重ね合わせ**:\n",
      "  複数の計算を同時に実行できる能力。\n",
      "- **量子もつれ**:\n",
      "  クビット間に結びつきを持たせ、その相関を利用して高速な計算を行える。\n",
      "- **量子ゲート**:\n",
      "  従来の論理ゲートとは違い、確率的な操作を行う量子回路の基本的な単位。\n",
      "\n",
      "### 量子コンピュータの実現技術\n",
      "量子コンピュータを実現するには様々な技術がありますが、以下はその中のいくつかです：\n",
      "\n",
      "1. **超伝導量子ビット**: 低温で働く超伝導回路を使用し、マイクロ波信号を利用してクビットを操作します。\n",
      "2. **イオントラップ量子ビット**: 電場で個々のイオンを捕捉し、レーザーで操作します。\n",
      "3. **トポロジカル量子ビット**: トポロジカルな状態を利用し、誤り耐性が高いと期待されています。\n",
      "\n",
      "### 量子コンピュータの課題\n",
      "量子コンピュータは非常に有望な技術ですが、以下のような課題があります：\n",
      "\n",
      "- **デコヒーレンス**: 環境ノイズによる情報の喪失。コヒーレンスタイムの延長が求められます。\n",
      "- **エラー訂正**: 従来のコンピュータよりもエラーが発生しやすいため、効率的なエラー訂正手法が必要です。\n",
      "- **スケーラビリティ**: 大量のクビットを実用的なエラーレートで制御するには、技術的なブレークスルーが必要です。\n",
      "\n",
      "### 量子優位性\n",
      "量子コンピュータが従来のコンピュータでは実用的な時間内に解けない問題を解決できる点に到達することを「量子優位性」と言います。2019年にGoogleが54クビットの量子チップ「Sycamore」を用いて特定の計算でこれを達成したと主張しましたが、実用的な問題解決には至っていません。\n",
      "\n",
      "### 量子コンピュータの応用\n",
      "量子コンピュータはその特性から、以下のような分野での革新が期待されています：\n",
      "\n",
      "- **暗号解読**: 量子アルゴリズムを使えば、従来の暗号が破られる可能性があります。\n",
      "- **薬剤設計**: 分子の量子力学的な振る舞いをシミュレーションし、新しい薬剤の発見を加速化できます。\n",
      "- **材料科学**: 新しい材料の性質を探求するためのシミュレーションに利用できます。\n",
      "- **最適化問題**: 多数の変数を扱う複雑な最適化問題を解くことができます。\n",
      "\n",
      "今後は量子アルゴリズムの開発や量子コンピュータのハードウェア技術の進歩により、より広範な応用が期待されています。\n"
     ]
    }
   ],
   "source": [
    "print(response.choices[0].message.content)"
   ]
  },
  {
   "cell_type": "markdown",
   "metadata": {},
   "source": [
    "### コストの確認"
   ]
  },
  {
   "cell_type": "code",
   "execution_count": 5,
   "metadata": {},
   "outputs": [
    {
     "name": "stdout",
     "output_type": "stream",
     "text": [
      "出力に使ったトークン数\n",
      "入力使ったトークン数\n",
      "コスト37.269999999999996\n"
     ]
    }
   ],
   "source": [
    "# 出力に使ったトークン数\n",
    "completion_tokens = response.usage.completion_tokens\n",
    "print('出力に使ったトークン数')\n",
    "prompt_tokens = response.usage.prompt_tokens\n",
    "print('入力使ったトークン数')\n",
    "total_cost = completion_tokens * 0.03 + prompt_tokens * 0.01\n",
    "print(f'コスト{total_cost}')"
   ]
  },
  {
   "cell_type": "code",
   "execution_count": null,
   "metadata": {},
   "outputs": [],
   "source": []
  }
 ],
 "metadata": {
  "kernelspec": {
   "display_name": "Python 3.9.18 ('.venv': poetry)",
   "language": "python",
   "name": "python3"
  },
  "language_info": {
   "codemirror_mode": {
    "name": "ipython",
    "version": 3
   },
   "file_extension": ".py",
   "mimetype": "text/x-python",
   "name": "python",
   "nbconvert_exporter": "python",
   "pygments_lexer": "ipython3",
   "version": "3.9.18"
  },
  "orig_nbformat": 4,
  "vscode": {
   "interpreter": {
    "hash": "17a011378fed683b21aba93e5dd7c0cb7beefc09c5af72c6425b40c713e260dc"
   }
  }
 },
 "nbformat": 4,
 "nbformat_minor": 2
}
