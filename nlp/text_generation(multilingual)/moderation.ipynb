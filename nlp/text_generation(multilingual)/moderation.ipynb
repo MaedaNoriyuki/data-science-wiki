{
 "cells": [
  {
   "cell_type": "markdown",
   "metadata": {},
   "source": [
    "# Moderation"
   ]
  },
  {
   "cell_type": "markdown",
   "metadata": {},
   "source": [
    "コンテンツが OpenAI の利用ポリシーに準拠しているかどうかをチェックするために使用できるツールです。開発者は、OpenAIの利用ポリシーが禁止しているコンテンツを特定し、フィルタリングなどの措置を取ることができます。\n",
    "- https://platform.openai.com/docs/guides/moderation/overview"
   ]
  },
  {
   "cell_type": "markdown",
   "metadata": {},
   "source": [
    "<a href=\"https://colab.research.google.com/github/fuyu-quant/data-science-wiki/blob/main/nlp/text_generation(multilingual)/moderation.ipynb\" target=\"_blank\" rel=\"noopener noreferrer\"><img src=\"https://colab.research.google.com/assets/colab-badge.svg\" alt=\"Open In Colab\"/></a>"
   ]
  },
  {
   "cell_type": "code",
   "execution_count": 1,
   "metadata": {},
   "outputs": [],
   "source": [
    "import requests\n",
    "\n",
    "\n",
    "api_key = 'YOUR_OPENAI_API_KEY'"
   ]
  },
  {
   "cell_type": "markdown",
   "metadata": {},
   "source": [
    "### Moderationの実行"
   ]
  },
  {
   "cell_type": "code",
   "execution_count": 13,
   "metadata": {},
   "outputs": [],
   "source": [
    "text = \"量子コンピュータについて教えてください．\"\n",
    "\n",
    "\n",
    "url = 'https://api.openai.com/v1/moderations'\n",
    "headers = {\n",
    "    'Content-Type': 'application/json',\n",
    "    'Authorization': f'Bearer {api_key}'\n",
    "}\n",
    "data = {\n",
    "    'input': text\n",
    "}\n",
    "\n",
    "response = requests.post(url, json=data, headers=headers)\n"
   ]
  },
  {
   "cell_type": "code",
   "execution_count": 14,
   "metadata": {},
   "outputs": [
    {
     "data": {
      "text/plain": [
       "{'id': 'modr-8O3jgzWYjtQPzcAoasQFEqJLhR9jB',\n",
       " 'model': 'text-moderation-006',\n",
       " 'results': [{'flagged': False,\n",
       "   'categories': {'sexual': False,\n",
       "    'hate': False,\n",
       "    'harassment': False,\n",
       "    'self-harm': False,\n",
       "    'sexual/minors': False,\n",
       "    'hate/threatening': False,\n",
       "    'violence/graphic': False,\n",
       "    'self-harm/intent': False,\n",
       "    'self-harm/instructions': False,\n",
       "    'harassment/threatening': False,\n",
       "    'violence': False},\n",
       "   'category_scores': {'sexual': 1.5350140074588126e-06,\n",
       "    'hate': 1.5260721966114943e-06,\n",
       "    'harassment': 1.5866316971369088e-05,\n",
       "    'self-harm': 9.496187658442068e-08,\n",
       "    'sexual/minors': 9.738034805195639e-07,\n",
       "    'hate/threatening': 9.818736543820705e-07,\n",
       "    'violence/graphic': 4.5475607635125925e-07,\n",
       "    'self-harm/intent': 2.1835047547824615e-08,\n",
       "    'self-harm/instructions': 2.0386654142612315e-08,\n",
       "    'harassment/threatening': 5.063575940766896e-07,\n",
       "    'violence': 1.594774948898703e-05}}]}"
      ]
     },
     "execution_count": 14,
     "metadata": {},
     "output_type": "execute_result"
    }
   ],
   "source": [
    "response.json()"
   ]
  },
  {
   "cell_type": "code",
   "execution_count": null,
   "metadata": {},
   "outputs": [],
   "source": []
  }
 ],
 "metadata": {
  "kernelspec": {
   "display_name": "Python 3.9.18 ('.venv': poetry)",
   "language": "python",
   "name": "python3"
  },
  "language_info": {
   "codemirror_mode": {
    "name": "ipython",
    "version": 3
   },
   "file_extension": ".py",
   "mimetype": "text/x-python",
   "name": "python",
   "nbconvert_exporter": "python",
   "pygments_lexer": "ipython3",
   "version": "3.9.18"
  },
  "orig_nbformat": 4,
  "vscode": {
   "interpreter": {
    "hash": "17a011378fed683b21aba93e5dd7c0cb7beefc09c5af72c6425b40c713e260dc"
   }
  }
 },
 "nbformat": 4,
 "nbformat_minor": 2
}
