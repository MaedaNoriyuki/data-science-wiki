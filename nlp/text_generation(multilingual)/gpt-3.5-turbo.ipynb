{
 "cells": [
  {
   "cell_type": "markdown",
   "metadata": {},
   "source": [
    "# GPT-3.5-Turbo"
   ]
  },
  {
   "cell_type": "markdown",
   "metadata": {},
   "source": [
    "GPT-3.5-TurboはOpenAIによって開発されたAIモデルで、高速応答と効率的なリソース使用が特徴です。"
   ]
  },
  {
   "cell_type": "markdown",
   "metadata": {},
   "source": [
    "<a href=\"https://colab.research.google.com/github/fuyu-quant/data-science-wiki/blob/main/nlp/text_generation(multilingual)/gpt-3.5-turbo.ipynb\" target=\"_blank\" rel=\"noopener noreferrer\"><img src=\"https://colab.research.google.com/assets/colab-badge.svg\" alt=\"Open In Colab\"/></a>"
   ]
  },
  {
   "cell_type": "code",
   "execution_count": 1,
   "metadata": {},
   "outputs": [],
   "source": [
    "from openai import OpenAI\n",
    "import os\n",
    "\n",
    "client = OpenAI()\n",
    "\n",
    "#os.environ[\"OPENAI_API_KEY\"] = \"YOUR_API_KEY\""
   ]
  },
  {
   "cell_type": "markdown",
   "metadata": {},
   "source": [
    "### GPT-3.5-Turboの実行\n",
    "* 通常の実行"
   ]
  },
  {
   "cell_type": "code",
   "execution_count": 2,
   "metadata": {},
   "outputs": [],
   "source": [
    "text = \"量子コンピュータについて教えてください．\"\n",
    "\n",
    "response = client.chat.completions.create(\n",
    "  model=\"gpt-3.5-turbo\",\n",
    "  messages=[\n",
    "    {\"role\": \"user\", \"content\": f\"{text}\"}\n",
    "  ]\n",
    ")\n"
   ]
  },
  {
   "cell_type": "code",
   "execution_count": 4,
   "metadata": {},
   "outputs": [
    {
     "name": "stdout",
     "output_type": "stream",
     "text": [
      "量子コンピュータは、量子力学の原理を利用して情報を処理するためのコンピュータです。従来のデジタルコンピュータとは異なる原理を用いており、非常に高速な演算が可能とされています。\n",
      "\n",
      "従来のデジタルコンピュータは0と1の2進数情報（ビット）を使って情報を表現しますが、量子コンピュータでは、量子ビット（キュビット）と呼ばれる新しい情報単位を利用します。量子ビットは、0と1の状態だけでなく、これらの状態を重ね合わせた状態を持つことができます。また、量子ビット同士は「量子もつれ」と呼ばれる特殊な関係性を持つことができます。\n",
      "\n",
      "これらの特性により、量子コンピュータは複数の計算結果を並列で処理できるため、一部の問題に対しては従来のコンピュータよりも効率的な解法を提供することができます。例えば、素因数分解や最適化問題など、現在のデジタルコンピュータでは困難な問題に対して、量子コンピュータが有望な解を提供する可能性があります。\n",
      "\n",
      "しかし、量子コンピュータの開発はまだ初期段階であり、実用化には多くの技術的課題が残されています。量子ビットの安定な制御やエラー修復、量子ビットの数の拡張など、数多くの課題があります。また、量子ビットのエネルギー効率の改善や冷却技術の開発なども重要な課題です。\n",
      "\n",
      "現在、さまざまな企業や研究機関が量子コンピュータの研究開発を行っており、将来的には量子コンピュータが一般的な計算の一部として使われる可能性があります。しかし、その実用化はまだ先の話であり、現段階では研究用途や特定の問題に対する解法の探索などに利用されています。\n"
     ]
    }
   ],
   "source": [
    "print(response.choices[0].message.content)"
   ]
  },
  {
   "cell_type": "markdown",
   "metadata": {},
   "source": [
    "* 会話の流れを伝える時"
   ]
  },
  {
   "cell_type": "code",
   "execution_count": 5,
   "metadata": {},
   "outputs": [],
   "source": [
    "response = client.chat.completions.create(\n",
    "  model=\"gpt-3.5-turbo\",\n",
    "  messages=[\n",
    "    {\"role\": \"system\", \"content\": \"あなたは親切なアシスタントです\"},\n",
    "    {\"role\": \"user\", \"content\": \"2020年のワールドシリーズを制したのは？\"},\n",
    "    {\"role\": \"assistant\", \"content\": \"2020年のワールドシリーズを制したのはロサンゼルス・ドジャースです。\"},\n",
    "    {\"role\": \"user\", \"content\": \"どこで行われましたか？\"}\n",
    "  ]\n",
    ")"
   ]
  },
  {
   "cell_type": "code",
   "execution_count": 6,
   "metadata": {},
   "outputs": [
    {
     "name": "stdout",
     "output_type": "stream",
     "text": [
      "2020年のワールドシリーズはテキサス州のアーリントンで行われました。具体的にはグローブライフ・フィールドで開催されました。\n"
     ]
    }
   ],
   "source": [
    "print(response.choices[0].message.content)"
   ]
  }
 ],
 "metadata": {
  "kernelspec": {
   "display_name": "Python 3.9.18 ('.venv': poetry)",
   "language": "python",
   "name": "python3"
  },
  "language_info": {
   "codemirror_mode": {
    "name": "ipython",
    "version": 3
   },
   "file_extension": ".py",
   "mimetype": "text/x-python",
   "name": "python",
   "nbconvert_exporter": "python",
   "pygments_lexer": "ipython3",
   "version": "3.9.18"
  },
  "orig_nbformat": 4,
  "vscode": {
   "interpreter": {
    "hash": "17a011378fed683b21aba93e5dd7c0cb7beefc09c5af72c6425b40c713e260dc"
   }
  }
 },
 "nbformat": 4,
 "nbformat_minor": 2
}
