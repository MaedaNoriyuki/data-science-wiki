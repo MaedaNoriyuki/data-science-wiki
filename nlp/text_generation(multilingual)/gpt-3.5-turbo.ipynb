{
 "cells": [
  {
   "cell_type": "markdown",
   "metadata": {},
   "source": [
    "# GPT-3.5-Turbo"
   ]
  },
  {
   "cell_type": "markdown",
   "metadata": {},
   "source": [
    "GPT-3.5-TurboはOpenAIによって開発されたAIモデルで、高速応答と効率的なリソース使用が特徴です。"
   ]
  },
  {
   "cell_type": "markdown",
   "metadata": {},
   "source": [
    "<a href=\"https://colab.research.google.com/github/fuyu-quant/data-science-wiki/blob/main/nlp/text_generation(multilingual)/gpt-3.5-turbo.ipynb\" target=\"_blank\" rel=\"noopener noreferrer\"><img src=\"https://colab.research.google.com/assets/colab-badge.svg\" alt=\"Open In Colab\"/></a>"
   ]
  },
  {
   "cell_type": "code",
   "execution_count": 1,
   "metadata": {},
   "outputs": [],
   "source": [
    "from openai import OpenAI\n",
    "import os\n",
    "\n",
    "#os.environ[\"OPENAI_API_KEY\"] = \"YOUR_API_KEY\"\n",
    "\n",
    "client = OpenAI()"
   ]
  },
  {
   "cell_type": "markdown",
   "metadata": {},
   "source": [
    "### GPT-3.5-Turboの実行\n",
    "* 通常の実行"
   ]
  },
  {
   "cell_type": "code",
   "execution_count": 2,
   "metadata": {},
   "outputs": [],
   "source": [
    "text = \"量子コンピュータについて教えてください．\"\n",
    "\n",
    "response = client.chat.completions.create(\n",
    "  model=\"gpt-3.5-turbo\",\n",
    "  messages=[\n",
    "    {\"role\": \"user\", \"content\": f\"{text}\"}\n",
    "  ]\n",
    ")\n"
   ]
  },
  {
   "cell_type": "code",
   "execution_count": 3,
   "metadata": {},
   "outputs": [
    {
     "name": "stdout",
     "output_type": "stream",
     "text": [
      "量子コンピュータは、従来のデジタルコンピュータとは異なる仕組みを用いて計算を行うコンピュータです。従来のデジタルコンピュータでは情報をビット（0か1）として表現しますが、量子コンピュータでは量子ビット（qubit）という概念を使用します。\n",
      "\n",
      "量子ビットは0と1の状態だけでなく、これらの重ね合わせ状態を持つことができます。重ね合わせ状態では、0と1のどちらであるかが確率的に決まっており、特定の状態である確率が高くなります。また、量子ビット同士は量子もつれという特性を持ち、1つのビットの状態が他のビットにも影響を与えることができます。\n",
      "\n",
      "量子ビットを利用することで、量子コンピュータは特定の問題に対して指数関数的に高速な計算を行うことが期待されています。例えば、素因数分解や最適化問題などの一部の問題は、量子アルゴリズムを使うことで効率的に解くことができる可能性があります。\n",
      "\n",
      "ただし、量子コンピュータはまだ実用化されておらず、現在は数十から数百の量子ビット程度の小規模なデバイスが開発されています。量子ビットを安定させ、誤りを最小限に抑えるためには、冷却や量子エラーコレクションといった技術的な課題が残されています。\n",
      "\n",
      "量子コンピュータの発展は、暗号解読や新たな材料合成、機械学習などさまざまな分野に革新をもたらす可能性がありますが、まだまだ研究段階であり、実用化までには時間がかかると考えられています。\n"
     ]
    }
   ],
   "source": [
    "print(response.choices[0].message.content)"
   ]
  },
  {
   "cell_type": "markdown",
   "metadata": {},
   "source": [
    "* 会話の流れを伝える時"
   ]
  },
  {
   "cell_type": "code",
   "execution_count": 4,
   "metadata": {},
   "outputs": [],
   "source": [
    "response = client.chat.completions.create(\n",
    "  model=\"gpt-3.5-turbo\",\n",
    "  messages=[\n",
    "    {\"role\": \"system\", \"content\": \"あなたは親切なアシスタントです\"},\n",
    "    {\"role\": \"user\", \"content\": \"2020年のワールドシリーズを制したのは？\"},\n",
    "    {\"role\": \"assistant\", \"content\": \"2020年のワールドシリーズを制したのはロサンゼルス・ドジャースです。\"},\n",
    "    {\"role\": \"user\", \"content\": \"どこで行われましたか？\"}\n",
    "  ]\n",
    ")"
   ]
  },
  {
   "cell_type": "code",
   "execution_count": 5,
   "metadata": {},
   "outputs": [
    {
     "name": "stdout",
     "output_type": "stream",
     "text": [
      "2020年のワールドシリーズは、テキサス州のアーリントンにあるグローブライフ・フィールドで行われました。\n"
     ]
    }
   ],
   "source": [
    "print(response.choices[0].message.content)"
   ]
  },
  {
   "cell_type": "markdown",
   "metadata": {},
   "source": [
    "### コストの確認"
   ]
  },
  {
   "cell_type": "code",
   "execution_count": 7,
   "metadata": {},
   "outputs": [
    {
     "name": "stdout",
     "output_type": "stream",
     "text": [
      "出力に使ったトークン数\n",
      "入力使ったトークン数\n",
      "コスト0.22999999999999998\n"
     ]
    }
   ],
   "source": [
    "# 出力に使ったトークン数\n",
    "completion_tokens = response.usage.completion_tokens\n",
    "print('出力に使ったトークン数')\n",
    "prompt_tokens = response.usage.prompt_tokens\n",
    "print('入力使ったトークン数')\n",
    "total_cost = completion_tokens * 0.001 + prompt_tokens * 0.002\n",
    "print(f'コスト{total_cost}')"
   ]
  },
  {
   "cell_type": "code",
   "execution_count": null,
   "metadata": {},
   "outputs": [],
   "source": []
  }
 ],
 "metadata": {
  "kernelspec": {
   "display_name": "Python 3.9.18 ('.venv': poetry)",
   "language": "python",
   "name": "python3"
  },
  "language_info": {
   "codemirror_mode": {
    "name": "ipython",
    "version": 3
   },
   "file_extension": ".py",
   "mimetype": "text/x-python",
   "name": "python",
   "nbconvert_exporter": "python",
   "pygments_lexer": "ipython3",
   "version": "3.9.18"
  },
  "orig_nbformat": 4,
  "vscode": {
   "interpreter": {
    "hash": "17a011378fed683b21aba93e5dd7c0cb7beefc09c5af72c6425b40c713e260dc"
   }
  }
 },
 "nbformat": 4,
 "nbformat_minor": 2
}
