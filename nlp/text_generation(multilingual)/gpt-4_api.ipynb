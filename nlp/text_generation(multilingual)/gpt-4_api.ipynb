{
 "cells": [
  {
   "cell_type": "markdown",
   "metadata": {},
   "source": [
    "# GPT-4"
   ]
  },
  {
   "cell_type": "markdown",
   "metadata": {},
   "source": [
    "\n",
    "- ドキュメント:https://platform.openai.com/docs/guides/text-generation"
   ]
  },
  {
   "cell_type": "markdown",
   "metadata": {},
   "source": [
    "<a href=\"https://colab.research.google.com/github/fuyu-quant/data-science-wiki/blob/main/nlp/text_generation(multilingual)/gpt-4.ipynb\" target=\"_blank\" rel=\"noopener noreferrer\"><img src=\"https://colab.research.google.com/assets/colab-badge.svg\" alt=\"Open In Colab\"/></a>"
   ]
  },
  {
   "cell_type": "code",
   "execution_count": 1,
   "metadata": {},
   "outputs": [],
   "source": [
    "from openai import OpenAI\n",
    "import os\n",
    "\n",
    "client = OpenAI()\n",
    "\n",
    "#os.environ[\"OPENAI_API_KEY\"] = \"YOUR_API_KEY\"\n"
   ]
  },
  {
   "cell_type": "markdown",
   "metadata": {},
   "source": [
    "### GPT-4の実行\n",
    "* 通常の実行方法"
   ]
  },
  {
   "cell_type": "code",
   "execution_count": 7,
   "metadata": {},
   "outputs": [],
   "source": [
    "text = \"量子コンピュータについて教えてください．\"\n",
    "\n",
    "response = client.chat.completions.create(\n",
    "  model=\"gpt-4\",\n",
    "  messages=[\n",
    "    {\"role\": \"user\", \"content\": f\"{text}\"}\n",
    "  ]\n",
    ")\n"
   ]
  },
  {
   "cell_type": "code",
   "execution_count": 18,
   "metadata": {},
   "outputs": [
    {
     "data": {
      "text/plain": [
       "ChatCompletion(id='chatcmpl-8IHflk89PxnD7ZRg4NDToZjQZh3IA', choices=[Choice(finish_reason='stop', index=0, message=ChatCompletionMessage(content='量子コンピュータは、量子力学の原理を利用して情報を処理する新タイプのコンピュータです。従来のデジタルコンピュータでは、情報は0または1のビットとして表現されますが、量子コンピュータでは情報は量子ビット（通称、キュビット）として表現・操作・使用されます。\\n\\n<b>量子ビット（キュビット）</b>は、次の性質により従来のビットとは異なります：\\n1.重ね合わせ : 量子ビットは0と1の状態を同時に持つことができます。これにより、量子コンピュータは多数の計算を並行して行う能力を得ます。\\n\\n2.エンタングルメント: 量子ビットは他の量子ビットと絡み合い、一方を観測すると他方の状態も即時に決まります。これにより、非常に高速な情報処理が可能になります。\\n\\nこれらの性質により、量子コンピュータは特定の問題（例えば、暗号解読や素因数分解）に対して、従来のコンピュータよりもはるかに高速に計算を行うことができます。しかし、量子コンピュータはまだ研究・開発段階であり、その操作と状態保持は複雑で難しいため、実用化は今後数十年後とされています。', role='assistant', function_call=None, tool_calls=None))], created=1699368529, model='gpt-4-0613', object='chat.completion', system_fingerprint=None, usage=CompletionUsage(completion_tokens=446, prompt_tokens=25, total_tokens=471))"
      ]
     },
     "execution_count": 18,
     "metadata": {},
     "output_type": "execute_result"
    }
   ],
   "source": [
    "response\n"
   ]
  },
  {
   "cell_type": "markdown",
   "metadata": {},
   "source": [
    "* 会話の流れを伝える時"
   ]
  },
  {
   "cell_type": "code",
   "execution_count": 5,
   "metadata": {},
   "outputs": [],
   "source": [
    "response = client.chat.completions.create(\n",
    "  model=\"gpt-4\",\n",
    "  messages=[\n",
    "    {\"role\": \"system\", \"content\": \"あなたは親切なアシスタントです\"},\n",
    "    {\"role\": \"user\", \"content\": \"2020年のワールドシリーズを制したのは？\"},\n",
    "    {\"role\": \"assistant\", \"content\": \"2020年のワールドシリーズを制したのはロサンゼルス・ドジャースです。\"},\n",
    "    {\"role\": \"user\", \"content\": \"どこで行われましたか？\"}\n",
    "  ]\n",
    ")\n"
   ]
  },
  {
   "cell_type": "code",
   "execution_count": 6,
   "metadata": {},
   "outputs": [
    {
     "data": {
      "text/plain": [
       "ChatCompletion(id='chatcmpl-8IHeiGX1QwFfiU7tXsz13elE4pRzL', choices=[Choice(finish_reason='stop', index=0, message=ChatCompletionMessage(content='2020年のワールドシリーズは全試合を新型コロナウイルスの影響による対策として、テキサス州アーリントンのグローブ・ライフ・フィールドで行われました。', role='assistant', function_call=None, tool_calls=None))], created=1699368464, model='gpt-4-0613', object='chat.completion', system_fingerprint=None, usage=CompletionUsage(completion_tokens=72, prompt_tokens=92, total_tokens=164))"
      ]
     },
     "execution_count": 6,
     "metadata": {},
     "output_type": "execute_result"
    }
   ],
   "source": [
    "response\n"
   ]
  }
 ],
 "metadata": {
  "kernelspec": {
   "display_name": "Python 3.9.18 ('.venv': poetry)",
   "language": "python",
   "name": "python3"
  },
  "language_info": {
   "codemirror_mode": {
    "name": "ipython",
    "version": 3
   },
   "file_extension": ".py",
   "mimetype": "text/x-python",
   "name": "python",
   "nbconvert_exporter": "python",
   "pygments_lexer": "ipython3",
   "version": "3.9.18"
  },
  "vscode": {
   "interpreter": {
    "hash": "17a011378fed683b21aba93e5dd7c0cb7beefc09c5af72c6425b40c713e260dc"
   }
  }
 },
 "nbformat": 4,
 "nbformat_minor": 2
}
