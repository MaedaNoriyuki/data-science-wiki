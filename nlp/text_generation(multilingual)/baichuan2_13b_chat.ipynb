{
  "cells": [
    {
      "cell_type": "markdown",
      "metadata": {
        "id": "8U6c6b_UPvU5"
      },
      "source": [
        "# Baichuan2-13B-Chat"
      ]
    },
    {
      "cell_type": "markdown",
      "metadata": {
        "id": "6Fi2S1ZogIKk"
      },
      "source": [
        "Baichuan Intelligenceという中国の企業が開発した新しいオープンソースのLLMになります．中国語，英語，多言語において幾つかのデータセットで同じパラメータ数を持つモデルの中で最高精度を出したモデルになります．中国語に特化させたモデルで．数学やコード生成，医療や法律などの専門的な領域で高い性能を発揮しているそうです．日本語も学習データに含まれているため日本語の出力も行うことができます．\n",
        "* [GitHub](https://github.com/baichuan-inc/Baichuan2/tree/main)"
      ]
    },
    {
      "cell_type": "markdown",
      "metadata": {},
      "source": [
        "<a href=\"https://colab.research.google.com/github/fuyu-quant/data-science-wiki/blob/main/nlp/text_generation(multilingual)/baichuan2_13b_chat.ipynb\" target=\"_blank\" rel=\"noopener noreferrer\"><img src=\"https://colab.research.google.com/assets/colab-badge.svg\" alt=\"Open In Colab\"/></a>"
      ]
    },
    {
      "cell_type": "code",
      "execution_count": 1,
      "metadata": {
        "id": "F-c4VPqyO3Os"
      },
      "outputs": [],
      "source": [
        "%%capture\n",
        "!pip install transformers_stream_generator sentencepiece bitsandbytes accelerate"
      ]
    },
    {
      "cell_type": "code",
      "execution_count": 2,
      "metadata": {
        "id": "FwGicBuPPicx"
      },
      "outputs": [],
      "source": [
        "import torch\n",
        "from transformers import AutoModelForCausalLM, AutoTokenizer\n",
        "from transformers.generation.utils import GenerationConfig"
      ]
    },
    {
      "cell_type": "code",
      "execution_count": null,
      "metadata": {
        "id": "I67oNY6GT--S"
      },
      "outputs": [],
      "source": [
        "tokenizer = AutoTokenizer.from_pretrained(\n",
        "    \"baichuan-inc/Baichuan2-13B-Chat\", \n",
        "    use_fast=False, \n",
        "    trust_remote_code=True\n",
        "    )\n",
        "model = AutoModelForCausalLM.from_pretrained(\n",
        "    \"baichuan-inc/Baichuan2-13B-Chat\", \n",
        "    device_map=\"auto\", \n",
        "    torch_dtype=torch.bfloat16, \n",
        "    trust_remote_code=True\n",
        "    )\n",
        "model.generation_config = GenerationConfig.from_pretrained(\"baichuan-inc/Baichuan2-13B-Chat\")"
      ]
    },
    {
      "cell_type": "code",
      "execution_count": 3,
      "metadata": {
        "colab": {
          "base_uri": "https://localhost:8080/"
        },
        "id": "jAaOHWU_Tep1",
        "outputId": "67dd6aab-9a0e-4e6a-8bb2-ab59595c835e"
      },
      "outputs": [
        {
          "name": "stdout",
          "output_type": "stream",
          "text": [
            "機械学習は、人工智能の一つの分野です。その目的は、データからプログラミングによる手動の介入を必要としないアルゴリズムやモデルを作成することです。機械学習は、画像認識、音声認識、自然言語処理、推論など、さまざまな分野で活用されています。\n",
            "\n",
            "機械学習の基盤は、数学（特に線形代数、概率論、統計学）、電子情報工学、物理学、心理学、生物学、社会科学など多くの学問が交差しています。\n",
            "\n",
            "機械学習の主要な手法の1つは、回帰分析です。これは、2次元の平面図上の点群から直線または回帰線を引くことで、各点の特徴量（x座標、y座標）と予測したい特徴量（y）の間の関係を捉える方法です。\n",
            "\n",
            "また、機械学習の手法の1つは、決定木（Decision Tree）です。決定木は、木の幹、枝、葉の形を擬ねたもので、データの中でどのような決定を下すかを表現するための方法です。決定木は、予測結果が理解できるような明確な形で予測結果を出します。\n",
            "\n",
            "最も知られている機械学習手法の1つは、神经網（Neural Network）です。これは、人の神経細胞の組み合わせを参考にしたもので、複数の層が存在し、各層のノードは相手のノードと通信し合い、情報を伝達することです。神经網は、画像認識、音声認識、自然言語処理など、さまざまな分野で活用されています。\n",
            "\n",
            "機械学習の実行には、PythonのScikit-learn、TensorFlow、Kerasなどの機械学習ライブラリが利用できます。\n"
          ]
        }
      ],
      "source": [
        "messages = []\n",
        "messages.append({\"role\": \"user\", \"content\": \"機械学習について教えてください\"})\n",
        "response = model.chat(tokenizer, messages)\n",
        "print(response)"
      ]
    },
    {
      "cell_type": "code",
      "execution_count": 5,
      "metadata": {
        "colab": {
          "base_uri": "https://localhost:8080/"
        },
        "id": "kOJxrNMpVGJB",
        "outputId": "a9aa0eb1-2e74-45a6-db1c-c2c3bd7f9a48"
      },
      "outputs": [
        {
          "name": "stdout",
          "output_type": "stream",
          "text": [
            "以下は、Pythonでロジスティック回帰を学習するための簡単なサンプルコードです。このコードは、`sklearn` パッケージを使用します。\n",
            "\n",
            "```python\n",
            "# 必要なライブラリのインポート\n",
            "import numpy as np\n",
            "from sklearn.linear_model import LogisticRegression\n",
            "from sklearn.model_selection import train_test_split\n",
            "from sklearn.metrics import accuracy_score, classification_report\n",
            "\n",
            "# データの読み込み\n",
            "# ここでは、データフレーム形式の入力データを想定\n",
            "X = [\n",
            "    [1, 2, 3],\n",
            "    [4, 5, 6],\n",
            "    [7, 8, 9],\n",
            "    [10, 11, 12]\n",
            "]\n",
            "y = [0, 1, 0, 1]  # 0: クラスA, 1: クラスB\n",
            "\n",
            "# 学習データとテストデータに分割\n",
            "X_train, X_test, y_train, y_test = train_test_split(X, y, test_size=0.2, random_state=42)\n",
            "\n",
            "# ロジスティック回帰モデルの作成\n",
            "log_reg = LogisticRegression()\n",
            "\n",
            "# モデルを学習させる\n",
            "log_reg.fit(X_train, y_train)\n",
            "\n",
            "# 予測結果を出力\n",
            "y_pred = log_reg.predict(X_test)\n",
            "print(\"予測結果:\", y_pred)\n",
            "\n",
            "# 評価指標の算出\n",
            "accuracy = accuracy_score(y_test, y_pred)\n",
            "print(\"準確率:\", accuracy)\n",
            "print(\"分類報告:\")\n",
            "print(classification_report(y_test, y_pred))\n",
            "```\n",
            "\n",
            "このコードは、入力データ `X` と目標変数 `y` から学習データとテストデータを作成し、ロジスティック回帰モデルを学習させ、それらの評価指標を算出します。\n"
          ]
        }
      ],
      "source": [
        "messages = []\n",
        "messages.append({\"role\": \"user\", \"content\": \"ロジスティック回帰を学習するためのPythonのコードを生成してください．\"})\n",
        "response = model.chat(tokenizer, messages)\n",
        "print(response)"
      ]
    },
    {
      "cell_type": "code",
      "execution_count": 6,
      "metadata": {
        "colab": {
          "base_uri": "https://localhost:8080/"
        },
        "id": "NeLFBp5vUIMN",
        "outputId": "a330d096-a453-4b0b-af62-d8cca98f4ad5"
      },
      "outputs": [
        {
          "name": "stdout",
          "output_type": "stream",
          "text": [
            "Quantum computers are a relatively new and rapidly developing technology that uses the principles of quantum mechanics to perform calculations and solve problems. They are different from traditional digital computers, which use binary bits (0s and 1s) to represent information, in that they use qubits (quantum bits) as their basic units.\n",
            "\n",
            "Here are some key features and differences between classical and quantum computers:\n",
            "\n",
            "1. Speed: Quantum computers are believed to be exponentially faster than classical computers for certain tasks, such as factoring large numbers or searching large databases. This is because they can exploit the superposition and entanglement properties of qubits to perform complex calculations in parallel.\n",
            "\n",
            "2. Simultaneous calculation: In a quantum computer, all qubits can be in multiple states at the same time, allowing them to process and analyze vast amounts of data simultaneously. This is known as quantum parallelism and can significantly increase the computational power of the machine.\n",
            "\n",
            "3. Entanglement: Quantum computers can entangle qubits together, meaning that changing the state of one qubit will instantaneously affect the state of the other qubits. This allows for more efficient and accurate computations, but also makes them more vulnerable to interference and noise.\n",
            "\n",
            "4. Stability: Due to their delicate nature, quantum computers require extremely low temperatures and specialized environments to prevent external interference. This makes them more difficult to build and maintain than classical computers.\n",
            "\n",
            "5. Applications: Quantum computers have the potential to revolutionize various fields, including cryptography (with the ability to break existing encryption schemes), optimization problems, drug discovery, and artificial intelligence. However, it is still early days for the technology, and many challenges need to be overcome before it can be widely deployed.\n",
            "\n",
            "In summary, quantum computers are an exciting new development with the potential to transform computing and solve problems that are currently considered unsolvable by classical machines. However, they are still in their infancy and require significant research and development before they can be fully realized.\n"
          ]
        }
      ],
      "source": [
        "messages = []\n",
        "messages.append({\"role\": \"user\", \"content\": \"Please tell me about quantum computers.\"})\n",
        "response = model.chat(tokenizer, messages)\n",
        "print(response)"
      ]
    },
    {
      "cell_type": "code",
      "execution_count": 39,
      "metadata": {
        "colab": {
          "base_uri": "https://localhost:8080/"
        },
        "id": "0INgAnXGUlrg",
        "outputId": "1319841d-f0ab-433a-ca90-adb7119953e9"
      },
      "outputs": [
        {
          "name": "stdout",
          "output_type": "stream",
          "text": [
            "31067 + 19345 = 50412\n"
          ]
        }
      ],
      "source": [
        "messages = []\n",
        "messages.append({\"role\": \"user\", \"content\": \"31067+19345=\"})\n",
        "response = model.chat(tokenizer, messages)\n",
        "print(response)"
      ]
    },
    {
      "cell_type": "code",
      "execution_count": 40,
      "metadata": {
        "colab": {
          "base_uri": "https://localhost:8080/"
        },
        "id": "HzRMkW2JYbtc",
        "outputId": "4b90462c-64a7-4314-fb37-7c0d14c13e90"
      },
      "outputs": [
        {
          "data": {
            "text/plain": [
              "50412"
            ]
          },
          "execution_count": 40,
          "metadata": {},
          "output_type": "execute_result"
        }
      ],
      "source": [
        "31067+19345"
      ]
    }
  ],
  "metadata": {
    "accelerator": "GPU",
    "colab": {
      "authorship_tag": "ABX9TyNs+KWEcrBo9qcoajq5qvwf",
      "gpuType": "A100",
      "machine_shape": "hm",
      "provenance": []
    },
    "kernelspec": {
      "display_name": "Python 3.9.18 ('.venv': poetry)",
      "language": "python",
      "name": "python3"
    },
    "language_info": {
      "name": "python",
      "version": "3.9.18"
    },
    "vscode": {
      "interpreter": {
        "hash": "17a011378fed683b21aba93e5dd7c0cb7beefc09c5af72c6425b40c713e260dc"
      }
    }
  },
  "nbformat": 4,
  "nbformat_minor": 0
}
