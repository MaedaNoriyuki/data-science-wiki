{
 "cells": [
  {
   "cell_type": "markdown",
   "metadata": {},
   "source": [
    "# GPT-4"
   ]
  },
  {
   "cell_type": "markdown",
   "metadata": {},
   "source": [
    "GPT-4は、OpenAIによって開発されたLLMです。言語理解と生成に優れ、広範な知識と高度な推論能力を持つことが特徴です。\n",
    "- ドキュメント:https://platform.openai.com/docs/guides/text-generation"
   ]
  },
  {
   "cell_type": "markdown",
   "metadata": {},
   "source": [
    "<a href=\"https://colab.research.google.com/github/fuyu-quant/data-science-wiki/blob/main/nlp/text_generation(multilingual)/gpt-4.ipynb\" target=\"_blank\" rel=\"noopener noreferrer\"><img src=\"https://colab.research.google.com/assets/colab-badge.svg\" alt=\"Open In Colab\"/></a>"
   ]
  },
  {
   "cell_type": "code",
   "execution_count": 1,
   "metadata": {},
   "outputs": [],
   "source": [
    "from openai import OpenAI\n",
    "import os\n",
    "\n",
    "#os.environ[\"OPENAI_API_KEY\"] = \"YOUR_API_KEY\"\n",
    "\n",
    "client = OpenAI()"
   ]
  },
  {
   "cell_type": "markdown",
   "metadata": {},
   "source": [
    "### GPT-4の実行\n",
    "* 通常の実行方法"
   ]
  },
  {
   "cell_type": "code",
   "execution_count": 2,
   "metadata": {},
   "outputs": [],
   "source": [
    "text = \"量子コンピュータについて教えてください．\"\n",
    "\n",
    "response = client.chat.completions.create(\n",
    "  model=\"gpt-4\",\n",
    "  messages=[\n",
    "    {\"role\": \"user\", \"content\": f\"{text}\"}\n",
    "  ]\n",
    ")\n"
   ]
  },
  {
   "cell_type": "code",
   "execution_count": 3,
   "metadata": {},
   "outputs": [
    {
     "name": "stdout",
     "output_type": "stream",
     "text": [
      "量子コンピュータは、量子力学の原理に基づいて情報処理を行う新しいタイプのコンピュータです。それは、古典コンピュータのビットの代わりに量子ビット（または\"キュビット\"）を使用します。これは、量子効果（特に、重ね合わせとエンタングルメント）を利用して、大量の情報を同時に処理できます。\n",
      "\n",
      "1つの量子ビットは、古典的なビットが持つことのできない追加の状態を持つことができます。古典的なビットは0または1のどちらかの状態を持つのに対し、量子ビットは0と1の両方の状態を同時に持つことができます。これにより、量子コンピュータは、古典コンピュータよりもはるかに高速に膨大な量のデータを処理する能力を持ちます。\n",
      "\n",
      "しかし、量子コンピュータは非常に扱いにくく、非情に冷却された状態でしか機能しないなど、実用化に向けては多くの技術的な困難が存在します。それにも関わらず、その可能性は非常に大きく、暗号解読、薬物の発見、気候モデリングなどの多くの分野で革新的な変化をもたらすと期待されています。\n"
     ]
    }
   ],
   "source": [
    "print(response.choices[0].message.content)\n"
   ]
  },
  {
   "cell_type": "markdown",
   "metadata": {},
   "source": [
    "* 会話の流れを伝える時"
   ]
  },
  {
   "cell_type": "code",
   "execution_count": 5,
   "metadata": {},
   "outputs": [],
   "source": [
    "response = client.chat.completions.create(\n",
    "  model=\"gpt-4\",\n",
    "  messages=[\n",
    "    {\"role\": \"system\", \"content\": \"あなたは親切なアシスタントです\"},\n",
    "    {\"role\": \"user\", \"content\": \"2020年のワールドシリーズを制したのは？\"},\n",
    "    {\"role\": \"assistant\", \"content\": \"2020年のワールドシリーズを制したのはロサンゼルス・ドジャースです。\"},\n",
    "    {\"role\": \"user\", \"content\": \"どこで行われましたか？\"}\n",
    "  ]\n",
    ")\n"
   ]
  },
  {
   "cell_type": "code",
   "execution_count": 6,
   "metadata": {},
   "outputs": [
    {
     "name": "stdout",
     "output_type": "stream",
     "text": [
      "2020年のワールドシリーズは、新型コロナウイルスの影響により、全試合がテキサス州アーリントンのグローブライフ・フィールドで行われました。\n"
     ]
    }
   ],
   "source": [
    "print(response.choices[0].message.content)\n"
   ]
  },
  {
   "cell_type": "markdown",
   "metadata": {},
   "source": [
    "### コストの確認"
   ]
  },
  {
   "cell_type": "code",
   "execution_count": 6,
   "metadata": {},
   "outputs": [
    {
     "name": "stdout",
     "output_type": "stream",
     "text": [
      "出力に使ったトークン数\n",
      "入力使ったトークン数\n",
      "コスト27.33\n"
     ]
    }
   ],
   "source": [
    "# 出力に使ったトークン数\n",
    "completion_tokens = response.usage.completion_tokens\n",
    "print('出力に使ったトークン数')\n",
    "prompt_tokens = response.usage.prompt_tokens\n",
    "print('入力使ったトークン数')\n",
    "total_cost = completion_tokens * 0.06 + prompt_tokens * 0.03\n",
    "print(f'コスト{total_cost}')"
   ]
  }
 ],
 "metadata": {
  "kernelspec": {
   "display_name": "Python 3.9.18 ('.venv': poetry)",
   "language": "python",
   "name": "python3"
  },
  "language_info": {
   "codemirror_mode": {
    "name": "ipython",
    "version": 3
   },
   "file_extension": ".py",
   "mimetype": "text/x-python",
   "name": "python",
   "nbconvert_exporter": "python",
   "pygments_lexer": "ipython3",
   "version": "3.9.18"
  },
  "vscode": {
   "interpreter": {
    "hash": "17a011378fed683b21aba93e5dd7c0cb7beefc09c5af72c6425b40c713e260dc"
   }
  }
 },
 "nbformat": 4,
 "nbformat_minor": 2
}
