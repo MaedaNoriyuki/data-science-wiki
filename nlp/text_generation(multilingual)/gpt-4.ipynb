{
 "cells": [
  {
   "cell_type": "markdown",
   "metadata": {},
   "source": [
    "# GPT-4"
   ]
  },
  {
   "cell_type": "markdown",
   "metadata": {},
   "source": [
    "GPT-4は、OpenAIによって開発されたLLMです。言語理解と生成に優れ、広範な知識と高度な推論能力を持つことが特徴です。\n",
    "- ドキュメント:https://platform.openai.com/docs/guides/text-generation"
   ]
  },
  {
   "cell_type": "markdown",
   "metadata": {},
   "source": [
    "<a href=\"https://colab.research.google.com/github/fuyu-quant/data-science-wiki/blob/main/nlp/text_generation(multilingual)/gpt-4.ipynb\" target=\"_blank\" rel=\"noopener noreferrer\"><img src=\"https://colab.research.google.com/assets/colab-badge.svg\" alt=\"Open In Colab\"/></a>"
   ]
  },
  {
   "cell_type": "code",
   "execution_count": 2,
   "metadata": {},
   "outputs": [],
   "source": [
    "from openai import OpenAI\n",
    "import os\n",
    "\n",
    "client = OpenAI()\n",
    "\n",
    "#os.environ[\"OPENAI_API_KEY\"] = \"YOUR_API_KEY\"\n"
   ]
  },
  {
   "cell_type": "markdown",
   "metadata": {},
   "source": [
    "### GPT-4の実行\n",
    "* 通常の実行方法"
   ]
  },
  {
   "cell_type": "code",
   "execution_count": 3,
   "metadata": {},
   "outputs": [],
   "source": [
    "text = \"量子コンピュータについて教えてください．\"\n",
    "\n",
    "response = client.chat.completions.create(\n",
    "  model=\"gpt-4\",\n",
    "  messages=[\n",
    "    {\"role\": \"user\", \"content\": f\"{text}\"}\n",
    "  ]\n",
    ")\n"
   ]
  },
  {
   "cell_type": "code",
   "execution_count": 4,
   "metadata": {},
   "outputs": [
    {
     "name": "stdout",
     "output_type": "stream",
     "text": [
      "量子コンピュータは、量子力学の原理を利用した計算機能を持つコンピュータのことを指します。現在のコンピュータがビット（0や1の値を持つ）を基本単位として情報を処理するのに対し、量子コンピュータは量子ビット（通称\"キュビット\"）を基本単位とします。\n",
      "\n",
      "量子ビットは0と1の両方の状態を同時に持つことができ、これを\"重ね合わせの状態\"と言います。また、量子ビット間での「エンタングルメント（量子もつれ状態）」という現象を利用することで、複数の量子ビットの状態を連携させることが可能です。\n",
      "\n",
      "このような量子力学の性質を生かすことで、量子コンピュータは現行のクラシックコンピュータでは難しい、高度な計算や大規模なデータ処理を効率よく、高速に行うことが可能になります。\n",
      "\n",
      "例えば、大量のデータから最適な解を見つけ出す組み合わせ最適化問題や、物質の性質をシミュレートする量子化学計算などに量子コンピュータは有効と考えられています。\n",
      "\n",
      "ただし、量子コンピュータの開発は依然として研究段階であり、大規模な量子コンピュータを安定して稼働させる技術はまだ未成熟です。また、量子アルゴリズムの開発や、量子コンピュータを活用するためのソフトウェアの開発もまた重要な課題となっています。\n"
     ]
    }
   ],
   "source": [
    "print(response.choices[0].message.content)\n"
   ]
  },
  {
   "cell_type": "markdown",
   "metadata": {},
   "source": [
    "* 会話の流れを伝える時"
   ]
  },
  {
   "cell_type": "code",
   "execution_count": 5,
   "metadata": {},
   "outputs": [],
   "source": [
    "response = client.chat.completions.create(\n",
    "  model=\"gpt-4\",\n",
    "  messages=[\n",
    "    {\"role\": \"system\", \"content\": \"あなたは親切なアシスタントです\"},\n",
    "    {\"role\": \"user\", \"content\": \"2020年のワールドシリーズを制したのは？\"},\n",
    "    {\"role\": \"assistant\", \"content\": \"2020年のワールドシリーズを制したのはロサンゼルス・ドジャースです。\"},\n",
    "    {\"role\": \"user\", \"content\": \"どこで行われましたか？\"}\n",
    "  ]\n",
    ")\n"
   ]
  },
  {
   "cell_type": "code",
   "execution_count": 6,
   "metadata": {},
   "outputs": [
    {
     "name": "stdout",
     "output_type": "stream",
     "text": [
      "2020年のワールドシリーズは、新型コロナウイルスの影響により、全試合がテキサス州アーリントンのグローブライフ・フィールドで行われました。\n"
     ]
    }
   ],
   "source": [
    "print(response.choices[0].message.content)\n"
   ]
  }
 ],
 "metadata": {
  "kernelspec": {
   "display_name": "Python 3.9.18 ('.venv': poetry)",
   "language": "python",
   "name": "python3"
  },
  "language_info": {
   "codemirror_mode": {
    "name": "ipython",
    "version": 3
   },
   "file_extension": ".py",
   "mimetype": "text/x-python",
   "name": "python",
   "nbconvert_exporter": "python",
   "pygments_lexer": "ipython3",
   "version": "3.9.18"
  },
  "vscode": {
   "interpreter": {
    "hash": "17a011378fed683b21aba93e5dd7c0cb7beefc09c5af72c6425b40c713e260dc"
   }
  }
 },
 "nbformat": 4,
 "nbformat_minor": 2
}
