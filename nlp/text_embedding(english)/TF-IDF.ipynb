{
 "cells": [
  {
   "cell_type": "markdown",
   "id": "339bfeb2-52bb-4387-a16c-e46c9827e575",
   "metadata": {
    "tags": []
   },
   "source": [
    "# TF-IDF"
   ]
  },
  {
   "cell_type": "markdown",
   "id": "2b6991d5",
   "metadata": {},
   "source": [
    "テーブルデータの可変長のカテゴリ変数があるデータにも使える"
   ]
  },
  {
   "cell_type": "code",
   "execution_count": 2,
   "id": "6d811327-27fa-43bd-b4a3-29716449f370",
   "metadata": {},
   "outputs": [],
   "source": [
    "from sklearn.feature_extraction.text import TfidfVectorizer"
   ]
  },
  {
   "cell_type": "code",
   "execution_count": 4,
   "id": "d65c0ac0-c19e-4fd9-a502-2ed82b3111bb",
   "metadata": {},
   "outputs": [],
   "source": [
    "#データの用意\n",
    "df = [\n",
    "    'This is the first document.',\n",
    "    'This is the second second document.',\n",
    "    'And the third one.',\n",
    "    'Is this the first document?',\n",
    "]"
   ]
  },
  {
   "cell_type": "code",
   "execution_count": 10,
   "id": "c0432830-ec58-4067-9c18-e43cb08bd215",
   "metadata": {},
   "outputs": [],
   "source": [
    "def tf_idf(df):\n",
    "    vectorizer = TfidfVectorizer()\n",
    "    #単語を変換する\n",
    "    X = vectorizer.fit_transform(df)\n",
    "    \n",
    "    #特徴量の名前\n",
    "    X_feature = vectorizer.get_feature_names()\n",
    "    #変換後の配列\n",
    "    X = X.toarray()\n",
    "    \n",
    "    return X, X_feature"
   ]
  },
  {
   "cell_type": "code",
   "execution_count": 12,
   "id": "d08bcae4-deb4-4686-b27a-cfe4a7e5658b",
   "metadata": {},
   "outputs": [
    {
     "name": "stdout",
     "output_type": "stream",
     "text": [
      "['and', 'document', 'first', 'is', 'one', 'second', 'the', 'third', 'this']\n",
      "[[0.         0.43877674 0.54197657 0.43877674 0.         0.\n",
      "  0.35872874 0.         0.43877674]\n",
      " [0.         0.27230147 0.         0.27230147 0.         0.85322574\n",
      "  0.22262429 0.         0.27230147]\n",
      " [0.55280532 0.         0.         0.         0.55280532 0.\n",
      "  0.28847675 0.55280532 0.        ]\n",
      " [0.         0.43877674 0.54197657 0.43877674 0.         0.\n",
      "  0.35872874 0.         0.43877674]]\n"
     ]
    }
   ],
   "source": [
    "a, b = tf_idf(df)\n",
    "print(b)\n",
    "print(a)"
   ]
  },
  {
   "cell_type": "code",
   "execution_count": null,
   "id": "60fce880",
   "metadata": {},
   "outputs": [],
   "source": []
  }
 ],
 "metadata": {
  "kernelspec": {
   "display_name": "Python 3.9.18 ('.venv': poetry)",
   "language": "python",
   "name": "python3"
  },
  "language_info": {
   "codemirror_mode": {
    "name": "ipython",
    "version": 3
   },
   "file_extension": ".py",
   "mimetype": "text/x-python",
   "name": "python",
   "nbconvert_exporter": "python",
   "pygments_lexer": "ipython3",
   "version": "3.9.18"
  },
  "vscode": {
   "interpreter": {
    "hash": "17a011378fed683b21aba93e5dd7c0cb7beefc09c5af72c6425b40c713e260dc"
   }
  }
 },
 "nbformat": 4,
 "nbformat_minor": 5
}
