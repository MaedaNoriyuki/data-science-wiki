{
 "cells": [
  {
   "cell_type": "markdown",
   "id": "7f027a1d-e08a-42f7-b200-1c1f6f7a5778",
   "metadata": {},
   "source": [
    "# Word Tour"
   ]
  },
  {
   "cell_type": "markdown",
   "id": "a269af6a",
   "metadata": {},
   "source": [
    "* https://github.com/joisino/wordtour"
   ]
  },
  {
   "cell_type": "code",
   "execution_count": null,
   "id": "16c05198-cecf-4596-8a64-9a7cd32adc3f",
   "metadata": {},
   "outputs": [],
   "source": []
  }
 ],
 "metadata": {
  "kernelspec": {
   "display_name": "Python 3 (ipykernel)",
   "language": "python",
   "name": "python3"
  },
  "language_info": {
   "codemirror_mode": {
    "name": "ipython",
    "version": 3
   },
   "file_extension": ".py",
   "mimetype": "text/x-python",
   "name": "python",
   "nbconvert_exporter": "python",
   "pygments_lexer": "ipython3",
   "version": "3.9.7"
  }
 },
 "nbformat": 4,
 "nbformat_minor": 5
}
