{
  "cells": [
    {
      "cell_type": "markdown",
      "metadata": {},
      "source": [
        "# Sentence BERT"
      ]
    },
    {
      "cell_type": "markdown",
      "metadata": {
        "id": "Vx2lvLPLFh7m"
      },
      "source": [
        "* [Sentence Transformers Documentation](https://www.sbert.net/)\n",
        "* \u53c2\u8003\u30b5\u30a4\u30c8\n",
        "* https://www.ogis-ri.co.jp/otc/hiroba/technical/similar-document-search/part18.html"
      ]
    },
    {
      "cell_type": "markdown",
      "metadata": {
        "colab_type": "text",
        "id": "view-in-github"
      },
      "source": [
        "<a href=\"https://colab.research.google.com/github/fuyu-quant/Data_Science/blob/main/Natural_Language_processing/Text_Embedding(english)/SenteceBERT_English.ipynb\" target=\"_parent\"><img src=\"https://colab.research.google.com/assets/colab-badge.svg\" alt=\"Open In Colab\"/></a>"
      ]
    },
    {
      "cell_type": "code",
      "execution_count": null,
      "metadata": {
        "id": "NHRE-xUpE4Nh"
      },
      "outputs": [],
      "source": [
        "!pip install -U sentence-transformers"
      ]
    },
    {
      "cell_type": "code",
      "execution_count": 3,
      "metadata": {
        "id": "WfAqjjCIFg--"
      },
      "outputs": [],
      "source": [
        "from sentence_transformers import SentenceTransformer\n",
        "from sentence_transformers import InputExample\n",
        "from sentence_transformers import losses\n",
        "from torch.utils.data import DataLoader\n",
        "\n",
        "\n",
        "from sentence_transformers.evaluation import ParaphraseMiningEvaluator\n",
        "\n",
        "from sentence_transformers.datasets import ParallelSentencesDataset\n",
        "\n",
        "import math"
      ]
    },
    {
      "cell_type": "markdown",
      "metadata": {
        "id": "sBY7_YCG_vdB"
      },
      "source": [
        "## \u30c7\u30fc\u30bf\u306e\u7528\u610f"
      ]
    },
    {
      "cell_type": "code",
      "execution_count": 6,
      "metadata": {
        "id": "NZFw1ybA_vE7"
      },
      "outputs": [],
      "source": [
        "sentences = ['This framework generates embeddings for each input sentence',\n",
        "    'Sentences are passed as a list of string.',\n",
        "    'The quick brown fox jumps over the lazy dog.']"
      ]
    },
    {
      "cell_type": "markdown",
      "metadata": {
        "id": "pdQ6RlmrNgnz"
      },
      "source": [
        "## SentenceTransformer\n",
        "* \u4e8b\u524d\u5b66\u7fd2\u30e2\u30c7\u30eb  \n",
        "https://www.sbert.net/docs/pretrained_models.html#sentence-embedding-models/"
      ]
    },
    {
      "cell_type": "code",
      "execution_count": 7,
      "metadata": {
        "colab": {
          "base_uri": "https://localhost:8080/",
          "height": 465,
          "referenced_widgets": [
            "eee689c3f08647d7982312ce47eef7c8",
            "a0ed4b21fc5345e18d722202ac2f84bd",
            "b055e4a243864a61ab6e961f2a6fc9ac",
            "57836d0f3b5e489b93c68bdace70003d",
            "b2fa6105d81f4f5fb93c42fe9edefc36",
            "b4ea3381734b4976acb4d676b9ddf42c",
            "c565165f98cd445789493625a31dac97",
            "42c19677d2ad48f486da6e114b18c44d",
            "d6056ba9ceda4c54acb997a24cf145e0",
            "843c9b191ba3428dafa671bcd8f6e700",
            "7151acea13464acfa40a51c221e4018f",
            "fbc83e4bd5fd4e2b9707236237517184",
            "54ed9c3f10134b0b8edf1b2325243fcc",
            "1733dc7373104c09a12ea5607fcec6ce",
            "655d65b1b6e0425e9c1743157cc26169",
            "5acaf4e1471941ad85583184213b0a70",
            "43cef99852f84f4fbda0a951866a6c52",
            "2a62b25771e04251b42f59daf719c3ff",
            "b5eb629409c34fa7ba1a8b2d8c62f8e1",
            "608d2d9a57cd46f5a305083a4ece35ad",
            "73b6d32ded6e4c2aad15e156aedad3b7",
            "96be233b04f74f98aa25b652c4a0b838",
            "bcf0469dffed4586ba67a90c826f1dbd",
            "dc61789c50a34c7abaade7f017908256",
            "00d1cc3ecb5443168eda37fcfb474d68",
            "1a53cee91e3f4fe982323c338300e612",
            "e02312c0d41e49be834fd50f8f2ec1c5",
            "db349e0d46cd4302b7ebb21162258cb0",
            "9b204f6534bc4c34bbca3b0007931996",
            "957d184188d34d66b719babb2ee2d6d8",
            "6b22dce3202f44448f026a148b9160c5",
            "834a3643e5824110996734ef81cb1022",
            "6102fe284f014ce598569ebebc7d738a",
            "777ceb3abf324c91acb7b2846919a611",
            "addf9263a6a940af963fac16b693da50",
            "d9bc6a64042b43de85e845bd82f76b91",
            "00ec3a66f4ff401ab6d8ae979e5b4f67",
            "80efaf4e3e5d4b298603fbf8ec78b90c",
            "561a52387c9e4ad2a3fd37f2c3df56e7",
            "05123d5012cd4b9bb0d8c901e1a42847",
            "2a8116e29698491d93672c4f7aa06a27",
            "7c45ea4e76b34ee99bc6048f531335c0",
            "d006c8a284884a3d8ea1bf962559b90a",
            "e5873bab2fe34452b349100ceefe6611",
            "fdb47f25db8f4dc9a26555b4f169443c",
            "46b51352eb0d485faeb375e93172843f",
            "49b9f1e825154314bc795cd08b3fb81c",
            "20eb86329dda442fa27603c41c95d1fb",
            "633e194f83aa4183a962be616fc83dcd",
            "344ce1ab2fe14b41aa4f0c2aabe65345",
            "037b51805b6846ac8acefbd6dd5acea0",
            "91fa5e3bdf334849b6277b090bd45c6d",
            "060a0c167faa4492a3486bc6f538c098",
            "4eaa154919c34dbfbdc5ae3d7b9da01f",
            "13e14d7190a4498ba59dfce7b3b9b082",
            "01f40ec5623d42cd804be007b5082f02",
            "d99773289c3c46a7855f4fecdee9d66a",
            "80be72a756af4a19a32b07810fd49cde",
            "10263d7afa834f8e803e4ec765edb148",
            "88a8e981bf864daabc5d85d270918e20",
            "fa183901cc0a45d495ccad529ca10363",
            "7b34e85870904cc8bdc986743f7e51ba",
            "816f7b23e20d4712b49c4141b142c7d3",
            "a5b2d019ef5043e18ced92877476ce17",
            "6a3f6a3b5a534a02a41b35bc717889fd",
            "56164d22f0bd4c918ad86c91b9cc55aa",
            "1c42ce4ab8774247a6e7d2773d100012",
            "bba03dde3cf64119988a1326de70e5b6",
            "f36e8c1d8c38496386440cd82600baa4",
            "e5a280fca56b49158b7f2e71c2d20024",
            "3297cfb6b24d46ca85e4dc2d24d4e901",
            "dd1c27a155b148b2be70819bbea5ec20",
            "cebfe3241a0946089b9e9a62fcd31d0a",
            "b6f056859c4d483fa094bc806b550500",
            "61ed775f3090446886d47457558e38e1",
            "ed399fa75c174d16bea6bcfd2a094e07",
            "1e7817c86b4f448fa72c656f6051712f",
            "245458b61abf49489ce65c4f9b2bd5e5",
            "97818a0a726347948d781e804a697600",
            "0195e4e16a434a94817f1b081e3053a0",
            "6051bc69a8ce4e108e4cce5ff09215b3",
            "86bead43d6794f66981b848fe1c1b54c",
            "d9ffffda36cd4b86b70f255215b20720",
            "d245be82e51b499db98a9a28c5f04bd4",
            "684b6a9275a14c6e958fbdfd14dc7728",
            "081161cd2daa4656b23c0a11711f4b05",
            "3685df55472545b19a60588e2140cac3",
            "8c8467a482544a1e845e328b0c783b1d",
            "4cac8f45c73a4a74affe41b66585c753",
            "951b189effe1497493210edb5d07c484",
            "b6a73e7bbb574f60a9aaddada67dc21d",
            "aa60f99fcca1440f85b9027d28b532ff",
            "8eccd76816494046a18d302b50f5b97b",
            "e277f98de1b847a08e897d53dd14d56c",
            "58ea0de3b05f417790be46339bcf2d33",
            "729bfc9a2d8a4a30bb3aa6754190ea92",
            "0de3e042b45c44e7836bbd65c66a0f46",
            "bcbbd6860d0a4abba74b7da1b7a70450",
            "bb4fb9d0ff0e4a3185bff3b48cfe8400",
            "7af4d2de5ba1428386f79db64a1a10ae",
            "ac858ca27a654847bc3aad9bc280aabc",
            "1126faa2802e4f588a1d87119ba6d053",
            "7975593b0a824cb7b51ad92e13124090",
            "0189050831e04e64bd4425787eb820db",
            "f337d99305184f96adea7587173555a0",
            "33d03a625e5d459d8abc6338eb24ccfa",
            "f663e809f3cf447b8b512b8cd0cf9f3f",
            "c921082fcc7746e783bf72f9f4826136",
            "f624bc987572418f88deb0ad0be57f9d",
            "ac5260c72634428f8dfc09c35ed30495",
            "e11ce684404e49a59d4762df4d1ea178",
            "544330a2d9e64f1885eba1891959beed",
            "52949c85d9cc4321b4b31b3f69d12ae9",
            "c817bda1273242e399e1313445e141be",
            "27ca4f54a9874995b1672eaaf49df2ee",
            "a5dde567b8684d16b8ff23d8cb3e0f39",
            "841e5c82747a4e308b59ad040eb38351",
            "e83af901075744c883115349cd9f4ffe",
            "cc2781fa957c4a67b3565d262456a348",
            "b2a4fb7d81e64c00b8bf82411ffaa6e5",
            "c55e069b44b74e12a911fdcdb138f4ad",
            "bcd6290874a1495f81883a5338180c39",
            "ae24b753d0fd49c39efc9e8eb09fb648",
            "240925e2a90d42cd9f1b97bae8938d99",
            "345f5ce1896243888e7a1e185723d42c",
            "f11dd4f531824eecb6b8b8f667529552",
            "7ec06cb3fa584222b93a7056b92df39d",
            "91d4984729654d24b4d49ea2826c5bfb",
            "f36892d168c544d4ad83e4cabccf32e0",
            "64bd6ca0c92149a9b33f41d686f64ff2",
            "7859d0947dc747f1b02210b0deb6e56c",
            "f3a47b9471244d60bd2025f531542196",
            "f330df7ab6c340899d6d1db4a768e7a8",
            "9a6adfe59fab495fb6903c68fe6c1fd3",
            "e5aabec28131434b9f3b26ba65a12517",
            "e02ea1bdd1b44de2b42d5d57af9c39f0",
            "89f6e0d847904c508ae2645d5b8de8d3",
            "4b2d06a9ee83422f86a108841e34397f",
            "d6565a99691042228880b7330717de2d",
            "62a19890bb2c4c3ba318a9b31517aa6e",
            "e207c2969f1d46ee8f28c8cb39134d7f",
            "9d1a3682c36840ce921ba5cfed6c84e4",
            "16438f2db28949478ce1bc340f94decd",
            "3206c1d1da164f75b1763f1678c0358e",
            "31b719c709b24352b956924572dcd9fd",
            "51af816515084f36a958af532bd5b2b3",
            "e1c2ff246e1749b5865d87988a4ff63b",
            "715e5e1fc6e844c98ac2417a6ae657a1",
            "645cf0eb460740b1a0456c35d9006539",
            "7b7c2a53e8034bce85093a04fda79a4f",
            "fbcebb7d219541a4b5a4342f41a683a5",
            "1ae74371adc44dcb849b403585f3b25c",
            "c4295272aba24aa08053bc589c61be8f",
            "6ea6b2ac2f254a45adf26fb4bd1c1c33"
          ]
        },
        "id": "_4jrFrUrJAfU",
        "outputId": "41a956be-722f-4687-b8ee-f85f4213a7c3"
      },
      "outputs": [
        {
          "data": {
            "application/vnd.jupyter.widget-view+json": {
              "model_id": "eee689c3f08647d7982312ce47eef7c8",
              "version_major": 2,
              "version_minor": 0
            },
            "text/plain": [
              "Downloading:   0%|          | 0.00/1.18k [00:00<?, ?B/s]"
            ]
          },
          "metadata": {},
          "output_type": "display_data"
        },
        {
          "data": {
            "application/vnd.jupyter.widget-view+json": {
              "model_id": "fbc83e4bd5fd4e2b9707236237517184",
              "version_major": 2,
              "version_minor": 0
            },
            "text/plain": [
              "Downloading:   0%|          | 0.00/190 [00:00<?, ?B/s]"
            ]
          },
          "metadata": {},
          "output_type": "display_data"
        },
        {
          "data": {
            "application/vnd.jupyter.widget-view+json": {
              "model_id": "bcf0469dffed4586ba67a90c826f1dbd",
              "version_major": 2,
              "version_minor": 0
            },
            "text/plain": [
              "Downloading:   0%|          | 0.00/10.6k [00:00<?, ?B/s]"
            ]
          },
          "metadata": {},
          "output_type": "display_data"
        },
        {
          "data": {
            "application/vnd.jupyter.widget-view+json": {
              "model_id": "777ceb3abf324c91acb7b2846919a611",
              "version_major": 2,
              "version_minor": 0
            },
            "text/plain": [
              "Downloading:   0%|          | 0.00/571 [00:00<?, ?B/s]"
            ]
          },
          "metadata": {},
          "output_type": "display_data"
        },
        {
          "data": {
            "application/vnd.jupyter.widget-view+json": {
              "model_id": "fdb47f25db8f4dc9a26555b4f169443c",
              "version_major": 2,
              "version_minor": 0
            },
            "text/plain": [
              "Downloading:   0%|          | 0.00/116 [00:00<?, ?B/s]"
            ]
          },
          "metadata": {},
          "output_type": "display_data"
        },
        {
          "data": {
            "application/vnd.jupyter.widget-view+json": {
              "model_id": "01f40ec5623d42cd804be007b5082f02",
              "version_major": 2,
              "version_minor": 0
            },
            "text/plain": [
              "Downloading:   0%|          | 0.00/39.3k [00:00<?, ?B/s]"
            ]
          },
          "metadata": {},
          "output_type": "display_data"
        },
        {
          "data": {
            "application/vnd.jupyter.widget-view+json": {
              "model_id": "1c42ce4ab8774247a6e7d2773d100012",
              "version_major": 2,
              "version_minor": 0
            },
            "text/plain": [
              "Downloading:   0%|          | 0.00/438M [00:00<?, ?B/s]"
            ]
          },
          "metadata": {},
          "output_type": "display_data"
        },
        {
          "data": {
            "application/vnd.jupyter.widget-view+json": {
              "model_id": "245458b61abf49489ce65c4f9b2bd5e5",
              "version_major": 2,
              "version_minor": 0
            },
            "text/plain": [
              "Downloading:   0%|          | 0.00/53.0 [00:00<?, ?B/s]"
            ]
          },
          "metadata": {},
          "output_type": "display_data"
        },
        {
          "data": {
            "application/vnd.jupyter.widget-view+json": {
              "model_id": "4cac8f45c73a4a74affe41b66585c753",
              "version_major": 2,
              "version_minor": 0
            },
            "text/plain": [
              "Downloading:   0%|          | 0.00/239 [00:00<?, ?B/s]"
            ]
          },
          "metadata": {},
          "output_type": "display_data"
        },
        {
          "data": {
            "application/vnd.jupyter.widget-view+json": {
              "model_id": "7af4d2de5ba1428386f79db64a1a10ae",
              "version_major": 2,
              "version_minor": 0
            },
            "text/plain": [
              "Downloading:   0%|          | 0.00/466k [00:00<?, ?B/s]"
            ]
          },
          "metadata": {},
          "output_type": "display_data"
        },
        {
          "data": {
            "application/vnd.jupyter.widget-view+json": {
              "model_id": "e11ce684404e49a59d4762df4d1ea178",
              "version_major": 2,
              "version_minor": 0
            },
            "text/plain": [
              "Downloading:   0%|          | 0.00/363 [00:00<?, ?B/s]"
            ]
          },
          "metadata": {},
          "output_type": "display_data"
        },
        {
          "data": {
            "application/vnd.jupyter.widget-view+json": {
              "model_id": "bcd6290874a1495f81883a5338180c39",
              "version_major": 2,
              "version_minor": 0
            },
            "text/plain": [
              "Downloading:   0%|          | 0.00/13.1k [00:00<?, ?B/s]"
            ]
          },
          "metadata": {},
          "output_type": "display_data"
        },
        {
          "data": {
            "application/vnd.jupyter.widget-view+json": {
              "model_id": "f330df7ab6c340899d6d1db4a768e7a8",
              "version_major": 2,
              "version_minor": 0
            },
            "text/plain": [
              "Downloading:   0%|          | 0.00/232k [00:00<?, ?B/s]"
            ]
          },
          "metadata": {},
          "output_type": "display_data"
        },
        {
          "data": {
            "application/vnd.jupyter.widget-view+json": {
              "model_id": "3206c1d1da164f75b1763f1678c0358e",
              "version_major": 2,
              "version_minor": 0
            },
            "text/plain": [
              "Downloading:   0%|          | 0.00/349 [00:00<?, ?B/s]"
            ]
          },
          "metadata": {},
          "output_type": "display_data"
        }
      ],
      "source": [
        "model = SentenceTransformer('all-mpnet-base-v2')\n",
        "# model = SentenceTransformer('paraphrase-MiniLM-L6-v2')\n",
        "# model = SentenceTransformer('all-MiniLM-L6-v2')\n",
        "\n",
        "embeddings = model.encode(sentences)"
      ]
    },
    {
      "cell_type": "markdown",
      "metadata": {
        "id": "ODPO8CCHRHMp"
      },
      "source": [
        "## Embedding\u306e\u51fa\u529b"
      ]
    },
    {
      "cell_type": "code",
      "execution_count": 10,
      "metadata": {
        "colab": {
          "base_uri": "https://localhost:8080/"
        },
        "id": "3957FTtoGHfG",
        "outputId": "a2b1920a-f81e-415f-d0d8-e7c62bb8356d"
      },
      "outputs": [
        {
          "data": {
            "text/plain": [
              "array([[ 0.00641698,  0.00704137, -0.02814424, ...,  0.04231948,\n",
              "        -0.09057346, -0.05940839],\n",
              "       [ 0.07764477, -0.05905227, -0.03911835, ..., -0.00052688,\n",
              "        -0.05023519, -0.02451303],\n",
              "       [-0.03429268, -0.00133944,  0.00433614, ...,  0.01533877,\n",
              "         0.09794599,  0.01603547]], dtype=float32)"
            ]
          },
          "execution_count": 10,
          "metadata": {},
          "output_type": "execute_result"
        }
      ],
      "source": [
        "embeddings"
      ]
    },
    {
      "cell_type": "markdown",
      "metadata": {
        "id": "vX9eObCjRMv-"
      },
      "source": [
        "## \u30d5\u30a1\u30a4\u30f3\u30c1\u30e5\u30fc\u30cb\u30f3\u30b0\u306e\u65b9\u6cd5"
      ]
    },
    {
      "cell_type": "code",
      "execution_count": 11,
      "metadata": {
        "id": "0OXcbUtJTGAN"
      },
      "outputs": [],
      "source": [
        "# \u30d1\u30e9\u30e1\u30fc\u30bf\n",
        "train_batch_size = 16\n",
        "max_seq_length = 128\n",
        "num_epochs = 5"
      ]
    },
    {
      "cell_type": "code",
      "execution_count": 12,
      "metadata": {
        "id": "T5B_XGQVQl-E"
      },
      "outputs": [],
      "source": [
        "# \u6587\u7ae0\u306e\u30da\u30a2\u3068\u305d\u306e\u985e\u4f3c\u5ea6\u304c\u5b66\u7fd2\u30c7\u30fc\u30bf\n",
        "train_examples = [InputExample(texts=['My first sentence', 'My second sentence'], label=0.8),\n",
        "    InputExample(texts=['Another pair', 'Unrelated sentence'], label=0.3)]\n",
        "\n",
        "\n",
        "# \u30c7\u30fc\u30bf\u30ed\u30fc\u30c0\u30fc\n",
        "train_dataloader = DataLoader(train_examples, shuffle=True, batch_size = train_batch_size)"
      ]
    },
    {
      "cell_type": "code",
      "execution_count": null,
      "metadata": {
        "colab": {
          "base_uri": "https://localhost:8080/",
          "height": 209,
          "referenced_widgets": [
            "acf6fe16c7f8402494c33ce9fdef77a5",
            "445bd5b247514f73b2bf454b3a60ca5f",
            "473d58da70d2429e82572b3149f5d10f",
            "c79881ae87ae41a6a7c6bc2725608b12",
            "67c296badff84a029e93358b5500795f",
            "17f9f437222743cd80b6dcd6f16f0bdf",
            "6d1ca4734073447593d684a8d04e843c",
            "adbd38c2061d46f0b33d2d82b274f9da",
            "dd35eb3c0c1b402fa566ccb0b9e98ead",
            "43ef5d796b004dfeab6788e230e30751",
            "af1230e63aa1491a8d58b53fd9536ee1",
            "0abea2b9321741008889bd42a092d985",
            "8b557c1dc2784cf4b68ae9a1f093b461",
            "1a8d6d90e88045788d6a75cc084e11f2",
            "dfd4fdb04a614a709b2e18978f5d7d7a",
            "9a50613283e9445bac08517c99be969c",
            "b48396d54bef40509f0527199d1325e8",
            "1a5b95abaf2a4e8fa97f6e80b932558e",
            "389eb907e4d742fb8156de8fd5d917dc",
            "2c526a1de499418d933276805c89a0df",
            "ef36b7948b6e4bd0ace053ebc2575a9c",
            "4008506f762c4ba4b330ff083d80c8f3",
            "9232fc2af9d544f29787ab1bbae84ac5",
            "af2d12bbdf0245fca12968e92770e732",
            "6378d0c6951d48aa898d6cc02ae00dda",
            "466e4695d8114eeba05ad9f506258bba",
            "a5631bd99df7487bb180d210681ca85a",
            "2564ca7064a54ed2826bc98f371c8747",
            "4ff2b9a85eb345088f5cc795a2e668dc",
            "8e0af8b2a7774ed2a26213c2b4b2244a",
            "a19537ecc39f423eb03c8aca22f52b0d",
            "6986c01b92744f6fb1a57dda275e149e",
            "c73d7e8a86ab457ab976f555de94bcb7",
            "6e102bf5e33a4c809283879b2f00d561",
            "23b87e68998d474abc0df4272ea1d0f5",
            "6b307465e5654e4e95ced307295e834b",
            "38be11089ca147d0b2e167ccb05a45b4",
            "3fb835e2a4774309bca44949863e98f3",
            "3f07a84d8b0e4d7b8a7acff6f974d597",
            "65963033af3f498289453adca6b7e0a9",
            "583fbd0bca6145eca38e9f971cddc883",
            "4b1453e8194c41599b847d1a24a02c17",
            "ba6fb6b0ef1b46c39d512ce469a1a8f2",
            "dbea7dc8ea3a404ca745f45adb813940",
            "95b32cd3767d47549da64b84eac625fe",
            "98ce9ada5f41486bb0cb9a98a5fb2d7c",
            "c7057c5bc9884ba9b52e8c3ac3b0ce2c",
            "c5414875cded4f5a8488a0c4bed399e6",
            "699c62aa673f41518d8631c5c6ece179",
            "a1234c7863184e1f805ab7af7aa3b893",
            "0604aac6cffc4687936703058f88e3d9",
            "ecb589cb643149c7a99df3aad924a1cc",
            "f607bee8efbe40f589125eebed0eaa8f",
            "8097f84136454743a086959ef25a31ee",
            "617cd3c7f42f4264ab995a436f88bd93",
            "bd5625c8adce4fd69b76aa142590891c",
            "f5cbe73213364e64ba78a1ce99aa5905",
            "f665f71553654e368759f899d1f7be8a",
            "9399b9a37d0f49d488de19cafc26f208",
            "6fcdee1adeaf44c5b58cb62624a7bb3a",
            "92c6b6d12a6746b78021a93f6ace947b",
            "fd051c17504e4b439e52436c179fc794",
            "b3db5d32e955413f88ca12da2ab24cc9",
            "f965fb637fa34ac3bb555e33fa0d2795",
            "8fab0a3293e144b284e9d773d5222702",
            "657ae0d8461a485ba3322d3ec297126f"
          ]
        },
        "id": "18xdCdhNRbyv",
        "outputId": "58ea7885-0b7c-4ef1-ba65-c0fc41d39590"
      },
      "outputs": [],
      "source": [
        "# \u640d\u5931\u95a2\u6570\u306e\u5b9a\u7fa9\n",
        "train_loss = losses.MultipleNegativesRankingLoss(model)\n",
        "#train_loss = losses.CosineSimilarityLoss(model)\n",
        "\n",
        "\n",
        "#dev_evaluator = ParaphraseMiningEvaluator(sentences_map, duplicates_list, name=\"paramin-jsnli-dev\")\n",
        "\n",
        "\n",
        "\n",
        "\n",
        "# \u30d5\u30a1\u30a4\u30f3\u30c1\u30e5\u30fc\u30cb\u30f3\u30b0\n",
        "#model.fit(train_objectives=[(train_dataloader, train_loss)], epochs = num_epochs, warmup_steps=100)\n",
        "model.fit(train_objectives=[(train_dataloader, train_loss)], \n",
        "          #evaluator=dev_evaluator,\n",
        "          epochs = num_epochs, \n",
        "          evaluation_steps=int(len(train_dataloader)*0.1),\n",
        "          #warmup_steps = warmup_steps\n",
        "          )"
      ]
    },
    {
      "cell_type": "code",
      "execution_count": null,
      "metadata": {},
      "outputs": [],
      "source": []
    }
  ],
  "metadata": {
    "accelerator": "GPU",
    "colab": {
      "authorship_tag": "ABX9TyNmEoybH7B1qW6CoqRoMH4o",
      "include_colab_link": true,
      "machine_shape": "hm",
      "provenance": []
    },
    "gpuClass": "standard",
    "kernelspec": {
      "display_name": "Python 3.9.18 ('.venv': poetry)",
      "language": "python",
      "name": "python3"
    },
    "language_info": {
      "name": "python",
      "version": "3.9.18"
    },
    "vscode": {
      "interpreter": {
        "hash": "17a011378fed683b21aba93e5dd7c0cb7beefc09c5af72c6425b40c713e260dc"
      }
    }
  },
  "nbformat": 4,
  "nbformat_minor": 0
}