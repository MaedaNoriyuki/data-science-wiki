{
 "cells": [
  {
   "cell_type": "markdown",
   "metadata": {},
   "source": [
    "# Chain of Density"
   ]
  },
  {
   "cell_type": "markdown",
   "metadata": {},
   "source": [
    "テキストを要約する精度を高めるためのプロンプトです。\n",
    "- 論文:https://arxiv.org/abs/2309.04269"
   ]
  },
  {
   "cell_type": "markdown",
   "metadata": {},
   "source": [
    "<a href=\"https://colab.research.google.com/github/fuyu-quant/data-science-wiki/blob/develop/nlp/summary(english)/chain_of_density.ipynb\" target=\"_blank\" rel=\"noopener noreferrer\"><img src=\"https://colab.research.google.com/assets/colab-badge.svg\" alt=\"Open In Colab\"/></a>"
   ]
  },
  {
   "cell_type": "code",
   "execution_count": 4,
   "metadata": {},
   "outputs": [
    {
     "name": "stderr",
     "output_type": "stream",
     "text": [
      "/Users/tanakatouma/vscode/data-science-wiki/.venv/lib/python3.9/site-packages/langchain/llms/openai.py:202: UserWarning: You are trying to use a chat model. This way of initializing it is no longer supported. Instead, please use: `from langchain.chat_models import ChatOpenAI`\n",
      "  warnings.warn(\n",
      "/Users/tanakatouma/vscode/data-science-wiki/.venv/lib/python3.9/site-packages/langchain/llms/openai.py:790: UserWarning: You are trying to use a chat model. This way of initializing it is no longer supported. Instead, please use: `from langchain.chat_models import ChatOpenAI`\n",
      "  warnings.warn(\n"
     ]
    }
   ],
   "source": [
    "import os\n",
    "from langchain.llms import OpenAI\n",
    "\n",
    "os.environ[\"OPENAI_API_KEY\"] = \"YOUR_API_KEY\"\n",
    "\n",
    "llm_model = OpenAI(model_name= 'gpt-3.5-turbo', temperature=0)"
   ]
  },
  {
   "cell_type": "markdown",
   "metadata": {},
   "source": [
    "### 通常のプロンプト"
   ]
  },
  {
   "cell_type": "code",
   "execution_count": 5,
   "metadata": {},
   "outputs": [],
   "source": [
    "text = \"\"\"\n",
    "A quantum computer is a computer that takes advantage of quantum mechanical phenomena.\n",
    "At small scales, physical matter exhibits properties of both particles and waves, and quantum computing leverages this behavior, specifically quantum superposition and entanglement, using specialized hardware that supports the preparation and manipulation of quantum states.\n",
    "Classical physics cannot explain the operation of these quantum devices, and a scalable quantum computer could perform some calculations much faster than any modern \"classical\" computer. In particular, a large-scale quantum computer could break widely used encryption schemes and aid physicists in performing physical simulations; however, the current state of the art is largely experimental and impractical, with several obstacles to useful applications. Moreover, scalable quantum computers do not hold promise for many practical tasks, and for many important tasks quantum speedups are proven impossible.\n",
    "The basic unit of information in quantum computing is the qubit, similar to the bit in traditional digital electronics. Unlike a classical bit, a qubit can exist in a superposition of its two \"basis\" states, which loosely means that it is in both states simultaneously. When measuring a qubit, the result is a probabilistic output of a classical bit, therefore making quantum computers nondeterministic in general. If a quantum computer manipulates the qubit in a particular way, wave interference effects can amplify the desired measurement results. The design of quantum algorithms involves creating procedures that allow a quantum computer to perform calculations efficiently and quickly.\n",
    "\"\"\""
   ]
  },
  {
   "cell_type": "code",
   "execution_count": 6,
   "metadata": {},
   "outputs": [],
   "source": [
    "prompt = \"\"\"\n",
    "{text_}\n",
    "------\n",
    "Please summarize the above.\n",
    "\"\"\".format(text_ = text)"
   ]
  },
  {
   "cell_type": "code",
   "execution_count": 7,
   "metadata": {},
   "outputs": [
    {
     "name": "stdout",
     "output_type": "stream",
     "text": [
      "A quantum computer is a type of computer that utilizes quantum mechanical phenomena, such as quantum superposition and entanglement, to perform calculations. It operates at small scales where matter exhibits both particle and wave properties. Quantum computers have the potential to solve certain problems much faster than classical computers, including breaking encryption schemes and aiding in physical simulations. However, the current state of quantum computing is largely experimental and faces obstacles for practical applications. The basic unit of information in quantum computing is the qubit, which can exist in a superposition of states. Quantum algorithms are designed to efficiently and quickly perform calculations on quantum computers.\n"
     ]
    }
   ],
   "source": [
    "output = llm_model(prompt)\n",
    "print(output)"
   ]
  },
  {
   "cell_type": "markdown",
   "metadata": {},
   "source": [
    "### Chain of Density"
   ]
  },
  {
   "cell_type": "code",
   "execution_count": 8,
   "metadata": {},
   "outputs": [],
   "source": [
    "text = \"\"\"\n",
    "A quantum computer is a computer that takes advantage of quantum mechanical phenomena.\n",
    "At small scales, physical matter exhibits properties of both particles and waves, and quantum computing leverages this behavior, specifically quantum superposition and entanglement, using specialized hardware that supports the preparation and manipulation of quantum states.\n",
    "Classical physics cannot explain the operation of these quantum devices, and a scalable quantum computer could perform some calculations much faster than any modern \"classical\" computer. In particular, a large-scale quantum computer could break widely used encryption schemes and aid physicists in performing physical simulations; however, the current state of the art is largely experimental and impractical, with several obstacles to useful applications. Moreover, scalable quantum computers do not hold promise for many practical tasks, and for many important tasks quantum speedups are proven impossible.\n",
    "The basic unit of information in quantum computing is the qubit, similar to the bit in traditional digital electronics. Unlike a classical bit, a qubit can exist in a superposition of its two \"basis\" states, which loosely means that it is in both states simultaneously. When measuring a qubit, the result is a probabilistic output of a classical bit, therefore making quantum computers nondeterministic in general. If a quantum computer manipulates the qubit in a particular way, wave interference effects can amplify the desired measurement results. The design of quantum algorithms involves creating procedures that allow a quantum computer to perform calculations efficiently and quickly.\n",
    "\"\"\""
   ]
  },
  {
   "cell_type": "code",
   "execution_count": 9,
   "metadata": {},
   "outputs": [],
   "source": [
    "prompt = \"\"\"\n",
    "Article:{text_}\n",
    "\n",
    "You will ask me for an article. Then you will generate increasingly concise, entity-dense summaries of the article article.\n",
    "\n",
    "Repeat the following 2 steps 5 times.\n",
    "\n",
    "Step 1. Identify 1-3 informative entities (\";\" delimited) from the article which are missing from the previously generated summary.\n",
    "Step 2. Write a new, denser summary of identical length which covers every entity and detail from the previous summary plus the missing entities.\n",
    "\n",
    "A missing entity is:\n",
    "- relevant to the main story,\n",
    "- specific yet concise (5 words or fewer),\n",
    "- novel (not in the previous summary),\n",
    "- faithful (present in the article),\n",
    "- anywhere (can be located anywhere in the article).\n",
    "\n",
    "Guidelines:\n",
    "\n",
    "- The first summary should be long (4-5 sentences, ~80 words) yet highly non-specific, containing little information beyond the entities marked as missing. Use overly verbose language and fillers (e.g., \"this article discusses\") to reach ~80 words.\n",
    "- Make every word count: rewrite the previous summary to improve flow and make space for additional entities.\n",
    "- Make space with fusion, compression, and removal of uninformative phrases like \"the article discusses\".\n",
    "- The summaries should become highly dense and concise yet self-contained, i.e., easily understood without the article.\n",
    "- Missing entities can appear anywhere in the new summary.\n",
    "- Never drop entities from the previous summary. If space cannot be made, add fewer new entities.\n",
    "\n",
    "Remember, use the exact same number of words for each summary.\n",
    "Answer in JSON. The JSON should be a list (length 5) of dictionaries whose keys are \"Missing_Entities\" and \"Denser_Summary\".\n",
    "\"\"\".format(text_ = text)"
   ]
  },
  {
   "cell_type": "code",
   "execution_count": 10,
   "metadata": {},
   "outputs": [
    {
     "name": "stdout",
     "output_type": "stream",
     "text": [
      "[{\"Missing_Entities\": \"quantum mechanical phenomena\", \"Denser_Summary\": \"Quantum computers leverage quantum mechanical phenomena, such as quantum superposition and entanglement, to perform calculations faster than classical computers. The current state of the art is largely experimental and impractical, with obstacles to useful applications. However, a large-scale quantum computer could break encryption schemes and aid in physical simulations. The basic unit of information in quantum computing is the qubit, which can exist in a superposition of its two states. Quantum algorithms involve creating procedures for efficient calculations.\"}, {\"Missing_Entities\": \"physical matter; classical physics\", \"Denser_Summary\": \"Quantum computers take advantage of quantum mechanical phenomena exhibited by physical matter, which has properties of both particles and waves. Classical physics cannot explain the operation of quantum devices. A scalable quantum computer could break encryption schemes and aid in physical simulations. The basic unit of information in quantum computing is the qubit, similar to a classical bit but capable of existing in a superposition of states. Quantum algorithms enable efficient calculations.\"}, {\"Missing_Entities\": \"scalable quantum computers; quantum speedups\", \"Denser_Summary\": \"Scalable quantum computers have the potential to perform calculations faster than classical computers, but they face obstacles to practical applications. Quantum speedups are proven impossible for many important tasks. The basic unit of information in quantum computing is the qubit, which can exist in a superposition of states. Quantum algorithms enable efficient calculations by manipulating qubits. However, scalable quantum computers do not hold promise for many practical tasks.\"}, {\"Missing_Entities\": \"qubit; wave interference effects\", \"Denser_Summary\": \"The qubit is the basic unit of information in quantum computing, capable of existing in a superposition of states. When measured, a qubit produces a probabilistic output. Wave interference effects can amplify desired measurement results when a qubit is manipulated in a particular way. Quantum algorithms involve creating procedures for efficient calculations using qubits.\"}, {\"Missing_Entities\": \"specialized hardware; physical simulations\", \"Denser_Summary\": \"Quantum computing requires specialized hardware that supports the preparation and manipulation of quantum states. A large-scale quantum computer could aid physicists in performing physical simulations. The basic unit of information in quantum computing is the qubit, similar to a classical bit but capable of existing in a superposition of states. Quantum algorithms enable efficient calculations by manipulating qubits. However, scalable quantum computers do not hold promise for many practical tasks.\"}]\n"
     ]
    }
   ],
   "source": [
    "output = llm_model(prompt)\n",
    "print(output)"
   ]
  }
 ],
 "metadata": {
  "kernelspec": {
   "display_name": "Python 3.9.18 ('.venv': poetry)",
   "language": "python",
   "name": "python3"
  },
  "language_info": {
   "codemirror_mode": {
    "name": "ipython",
    "version": 3
   },
   "file_extension": ".py",
   "mimetype": "text/x-python",
   "name": "python",
   "nbconvert_exporter": "python",
   "pygments_lexer": "ipython3",
   "version": "3.9.18"
  },
  "orig_nbformat": 4,
  "vscode": {
   "interpreter": {
    "hash": "17a011378fed683b21aba93e5dd7c0cb7beefc09c5af72c6425b40c713e260dc"
   }
  }
 },
 "nbformat": 4,
 "nbformat_minor": 2
}
