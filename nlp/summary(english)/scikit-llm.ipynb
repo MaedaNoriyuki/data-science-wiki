{
 "cells": [
  {
   "cell_type": "markdown",
   "metadata": {},
   "source": [
    "# Scikit-LLM"
   ]
  },
  {
   "cell_type": "markdown",
   "metadata": {},
   "source": [
    "Scikit-LLMは、大規模言語モデル（LLM）をscikit-learnフレームワークに統合し、テキスト分析タスクを強化するPythonパッケージです\n",
    "- GitHub:https://github.com/iryna-kondr/scikit-llm"
   ]
  },
  {
   "cell_type": "markdown",
   "metadata": {},
   "source": [
    "<a href=\"https://colab.research.google.com/github/fuyu-quant/data-science-wiki/blob/develop/nlp/summary(english)/scikit_llm.ipynb\" target=\"_blank\" rel=\"noopener noreferrer\"><img src=\"https://colab.research.google.com/assets/colab-badge.svg\" alt=\"Open In Colab\"/></a>"
   ]
  },
  {
   "cell_type": "code",
   "execution_count": 1,
   "metadata": {},
   "outputs": [],
   "source": [
    "%%capture\n",
    "!pip install scikit-llm"
   ]
  },
  {
   "cell_type": "code",
   "execution_count": 16,
   "metadata": {},
   "outputs": [],
   "source": [
    "from skllm.preprocessing import GPTSummarizer\n",
    "from skllm.datasets import get_summarization_dataset\n",
    "\n",
    "from skllm.config import SKLLMConfig\n",
    "\n",
    "SKLLMConfig.set_openai_key(\"YOUR_API_KEY\")\n",
    "SKLLMConfig.set_openai_org(\"YOUR_ORG_ID\")"
   ]
  },
  {
   "cell_type": "code",
   "execution_count": 19,
   "metadata": {},
   "outputs": [
    {
     "data": {
      "text/plain": [
       "['The AI research company, OpenAI, has launched a new language model called GPT-4. This model is the latest in a series of transformer-based AI systems designed to perform complex tasks, such as generating human-like text, translating languages, and answering questions. According to OpenAI, GPT-4 is even more powerful and versatile than its predecessors.',\n",
       " 'John went to the grocery store in the morning to prepare for a small get-together at his house. He bought fresh apples, juicy oranges, and a bottle of milk. Once back home, he used the apples and oranges to make a delicious fruit salad, which he served to his guests in the evening.',\n",
       " 'The first Mars rover, named Sojourner, was launched by NASA in 1996. The mission was a part of the Mars Pathfinder project and was a major success. The data Sojourner provided about Martian terrain and atmosphere greatly contributed to our understanding of the Red Planet.']"
      ]
     },
     "execution_count": 19,
     "metadata": {},
     "output_type": "execute_result"
    }
   ],
   "source": [
    "text = get_summarization_dataset()\n",
    "text[:3]"
   ]
  },
  {
   "cell_type": "code",
   "execution_count": 20,
   "metadata": {},
   "outputs": [
    {
     "name": "stderr",
     "output_type": "stream",
     "text": [
      "100%|██████████| 10/10 [00:19<00:00,  1.93s/it]\n"
     ]
    },
    {
     "data": {
      "text/plain": [
       "array(['OpenAI launches GPT-4, a powerful language model for complex tasks.',\n",
       "       'John bought groceries and made a fruit salad for a get-together with friends.',\n",
       "       \"NASA's 1996 Mars Pathfinder project successfully launched the first Mars rover, Sojourner.\",\n",
       "       'Regular exercise improves memory and cognitive function in older adults, recommends 30 minutes daily.',\n",
       "       'Eiffel Tower, Paris landmark completed in 1889, symbolizes French architectural innovation.',\n",
       "       'Microsoft announces new Windows version with improved security and redesigned interface.',\n",
       "       'WHO declares new public health emergency, urges nations to improve disease surveillance and response.',\n",
       "       'Paris to host 2024 Olympics, third time for the city.',\n",
       "       'Apple unveils new iPhone with improved camera, faster processor, and longer battery life.',\n",
       "       'New bird species found in Amazon rainforest with unique bright plumage.'],\n",
       "      dtype=object)"
      ]
     },
     "execution_count": 20,
     "metadata": {},
     "output_type": "execute_result"
    }
   ],
   "source": [
    "summary_model = GPTSummarizer(openai_model = 'gpt-3.5-turbo', max_words = 15)\n",
    "summaries = summary_model.fit_transform(text)\n",
    "summaries"
   ]
  },
  {
   "cell_type": "code",
   "execution_count": 21,
   "metadata": {},
   "outputs": [
    {
     "name": "stderr",
     "output_type": "stream",
     "text": [
      "100%|██████████| 10/10 [00:34<00:00,  3.42s/it]\n"
     ]
    },
    {
     "data": {
      "text/plain": [
       "array(['OpenAI has released GPT-4, a transformer-based language model that can perform complex tasks like generating human-like text, translating languages, and answering questions. It is claimed to be more powerful and versatile than its predecessors.',\n",
       "       'John bought groceries in the morning for a small gathering at his house, including apples, oranges, and milk. He used the fruit to make a fruit salad for his guests in the evening.',\n",
       "       \"In 1996, NASA launched the first Mars rover, Sojourner, as part of the Mars Pathfinder project. Sojourner's data greatly contributed to our understanding of Martian terrain and atmosphere.\",\n",
       "       'Regular exercise can enhance memory and cognitive function in older adults, according to a study of 500 participants, which suggests 30 minutes of moderate exercise daily for optimal results.',\n",
       "       \"The Eiffel Tower, built for the 1889 World's Fair, was initially criticized for its unconventional design but has since become a beloved symbol of French architectural innovation.\",\n",
       "       'Microsoft is releasing a new version of Windows with enhanced security and a redesigned user interface for a better and safer user experience.',\n",
       "       'The WHO has declared a new public health emergency due to a previously unknown virus, urging nations to increase their disease surveillance and response systems as cases continue to rise globally.',\n",
       "       'Paris, France will host the 2024 Olympics, marking the third time the city has hosted the games. Preparations are already underway.',\n",
       "       'Apple has unveiled its latest iPhone model with improved camera, faster processor, and longer battery life, set to be released later this year.',\n",
       "       'A new species of bird with unique bright plumage has been discovered in the Amazon rainforest, causing excitement among the global ornithological community.'],\n",
       "      dtype=object)"
      ]
     },
     "execution_count": 21,
     "metadata": {},
     "output_type": "execute_result"
    }
   ],
   "source": [
    "summary_model = GPTSummarizer(openai_model = 'gpt-3.5-turbo', max_words = 100)\n",
    "summaries = summary_model.fit_transform(text)\n",
    "summaries"
   ]
  }
 ],
 "metadata": {
  "kernelspec": {
   "display_name": "Python 3.9.18 ('.venv': poetry)",
   "language": "python",
   "name": "python3"
  },
  "language_info": {
   "codemirror_mode": {
    "name": "ipython",
    "version": 3
   },
   "file_extension": ".py",
   "mimetype": "text/x-python",
   "name": "python",
   "nbconvert_exporter": "python",
   "pygments_lexer": "ipython3",
   "version": "3.9.18"
  },
  "orig_nbformat": 4,
  "vscode": {
   "interpreter": {
    "hash": "17a011378fed683b21aba93e5dd7c0cb7beefc09c5af72c6425b40c713e260dc"
   }
  }
 },
 "nbformat": 4,
 "nbformat_minor": 2
}
