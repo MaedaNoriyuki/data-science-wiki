{
  "cells": [
    {
      "cell_type": "markdown",
      "metadata": {},
      "source": [
        "# rinna/japanese-gpt-neox-3.6b-instruction-sft"
      ]
    },
    {
      "cell_type": "markdown",
      "metadata": {
        "id": "_dOQPbqERyw4"
      },
      "source": [
        "* https://huggingface.co/rinna/japanese-gpt-neox-3.6b-instruction-sft"
      ]
    },
    {
      "cell_type": "markdown",
      "metadata": {},
      "source": [
        "[![Open In Colab](https://colab.research.google.com/assets/colab-badge.svg)](https://colab.research.google.com/github/fuyu-quant/data-science-wiki/blob/main/nlp/text_generation(japanese)/rinna_japanese_gpt_neox_3_6b_instruction_sft.ipynb)"
      ]
    },
    {
      "cell_type": "code",
      "execution_count": null,
      "metadata": {
        "colab": {
          "base_uri": "https://localhost:8080/"
        },
        "id": "PoehOERbRoc3",
        "outputId": "944a53c8-2051-446a-c0ad-a8fa01df1d70"
      },
      "outputs": [
        {
          "name": "stdout",
          "output_type": "stream",
          "text": [
            "Looking in indexes: https://pypi.org/simple, https://us-python.pkg.dev/colab-wheels/public/simple/\n",
            "Requirement already satisfied: transformers in /usr/local/lib/python3.10/dist-packages (4.29.2)\n",
            "Requirement already satisfied: filelock in /usr/local/lib/python3.10/dist-packages (from transformers) (3.12.0)\n",
            "Requirement already satisfied: huggingface-hub<1.0,>=0.14.1 in /usr/local/lib/python3.10/dist-packages (from transformers) (0.14.1)\n",
            "Requirement already satisfied: numpy>=1.17 in /usr/local/lib/python3.10/dist-packages (from transformers) (1.22.4)\n",
            "Requirement already satisfied: packaging>=20.0 in /usr/local/lib/python3.10/dist-packages (from transformers) (23.1)\n",
            "Requirement already satisfied: pyyaml>=5.1 in /usr/local/lib/python3.10/dist-packages (from transformers) (6.0)\n",
            "Requirement already satisfied: regex!=2019.12.17 in /usr/local/lib/python3.10/dist-packages (from transformers) (2022.10.31)\n",
            "Requirement already satisfied: requests in /usr/local/lib/python3.10/dist-packages (from transformers) (2.27.1)\n",
            "Requirement already satisfied: tokenizers!=0.11.3,<0.14,>=0.11.1 in /usr/local/lib/python3.10/dist-packages (from transformers) (0.13.3)\n",
            "Requirement already satisfied: tqdm>=4.27 in /usr/local/lib/python3.10/dist-packages (from transformers) (4.65.0)\n",
            "Requirement already satisfied: fsspec in /usr/local/lib/python3.10/dist-packages (from huggingface-hub<1.0,>=0.14.1->transformers) (2023.4.0)\n",
            "Requirement already satisfied: typing-extensions>=3.7.4.3 in /usr/local/lib/python3.10/dist-packages (from huggingface-hub<1.0,>=0.14.1->transformers) (4.5.0)\n",
            "Requirement already satisfied: urllib3<1.27,>=1.21.1 in /usr/local/lib/python3.10/dist-packages (from requests->transformers) (1.26.15)\n",
            "Requirement already satisfied: certifi>=2017.4.17 in /usr/local/lib/python3.10/dist-packages (from requests->transformers) (2022.12.7)\n",
            "Requirement already satisfied: charset-normalizer~=2.0.0 in /usr/local/lib/python3.10/dist-packages (from requests->transformers) (2.0.12)\n",
            "Requirement already satisfied: idna<4,>=2.5 in /usr/local/lib/python3.10/dist-packages (from requests->transformers) (3.4)\n",
            "Looking in indexes: https://pypi.org/simple, https://us-python.pkg.dev/colab-wheels/public/simple/\n",
            "Requirement already satisfied: sentencepiece in /usr/local/lib/python3.10/dist-packages (0.1.99)\n"
          ]
        }
      ],
      "source": [
        "%%capture\n",
        "!pip install transformers\n",
        "!pip install sentencepiece"
      ]
    },
    {
      "cell_type": "code",
      "execution_count": null,
      "metadata": {
        "colab": {
          "base_uri": "https://localhost:8080/",
          "height": 113,
          "referenced_widgets": [
            "f818b0f22f9b498bbc075ac11a861d9a",
            "e2f90f0b953648e9a9c1a2d3ae7c1e28",
            "b615fa2af68e4d17b19601f3633addae",
            "1b73653cc657413187ee230196c33c4a",
            "d735341908e44f0f8d94089259c1d8bd",
            "df3436f8f25b4f2ab6df3cb9bbd6bc93",
            "53b8be428be64406a67fef8b8b694a4a",
            "59d454149843447699c9ee6798e37fc0",
            "b726be994ac24035acaad555f7916e93",
            "eb83ce318c9d43e8a1ea3e93657dcc14",
            "9092e3b006334c598f0b7f104501b878",
            "4bd62b9a9d2944e4bae05b5b23f9d5ac",
            "7db7f70e115541808d87bdaa023280b2",
            "140c0cb79ae44bacabe48be174109e6b",
            "4d363bb1f93d4d14a8b72cd3046a6cd2",
            "fde3d86471eb4454950a8d667cc2fe9c",
            "2611736ffcee4de39e9b6b7ab11e5436",
            "74f2842a530f45e193a26b5ee5d455e4",
            "b2b9878552c44753b2437b27985c6bf9",
            "161e0812ec244491a955799dd94e45a4",
            "f49fb20a240f471c89a844819c6000d4",
            "76ab5f088a2f4029afb1812d9acf7a87",
            "3c06971e83544517b39f1588e97f4476",
            "de7107399f9c4a29b8f9a7f2cd0a7373",
            "db9598a058e347daac56c65269adb3fd",
            "8aad0eabb6f945c4b6c0348dd95ca594",
            "7eed543ba1764afa93344a741a9e7a15",
            "ab249fd070df487cbb0287a23eba547f",
            "a7962c8908fb4c7db5bda338d18f060e",
            "cf6aa3d9692f4aa3a1692ff983757a09",
            "a987bfb655904baf8fc2dd858af10612",
            "b3bd674037504e2cb18f49a6bd2c1c1a",
            "08dd584ed1fc4f5bb749cda519f9c705"
          ]
        },
        "id": "EbmiqwByRnW9",
        "outputId": "c6fcbd52-ef60-4ea7-a2d3-859bac0acf2f"
      },
      "outputs": [
        {
          "data": {
            "application/vnd.jupyter.widget-view+json": {
              "model_id": "f818b0f22f9b498bbc075ac11a861d9a",
              "version_major": 2,
              "version_minor": 0
            },
            "text/plain": [
              "Downloading spiece.model:   0%|          | 0.00/786k [00:00<?, ?B/s]"
            ]
          },
          "metadata": {},
          "output_type": "display_data"
        },
        {
          "data": {
            "application/vnd.jupyter.widget-view+json": {
              "model_id": "4bd62b9a9d2944e4bae05b5b23f9d5ac",
              "version_major": 2,
              "version_minor": 0
            },
            "text/plain": [
              "Downloading (\u2026)lve/main/config.json:   0%|          | 0.00/534 [00:00<?, ?B/s]"
            ]
          },
          "metadata": {},
          "output_type": "display_data"
        },
        {
          "data": {
            "application/vnd.jupyter.widget-view+json": {
              "model_id": "3c06971e83544517b39f1588e97f4476",
              "version_major": 2,
              "version_minor": 0
            },
            "text/plain": [
              "Downloading pytorch_model.bin:   0%|          | 0.00/7.37G [00:00<?, ?B/s]"
            ]
          },
          "metadata": {},
          "output_type": "display_data"
        }
      ],
      "source": [
        "import torch\n",
        "from transformers import AutoTokenizer, AutoModelForCausalLM\n",
        "\n",
        "tokenizer = AutoTokenizer.from_pretrained(\"rinna/japanese-gpt-neox-3.6b-instruction-sft\", use_fast=False)\n",
        "model = AutoModelForCausalLM.from_pretrained(\"rinna/japanese-gpt-neox-3.6b-instruction-sft\")\n",
        "\n",
        "if torch.cuda.is_available():\n",
        "    model = model.to(\"cuda\")\n"
      ]
    },
    {
      "cell_type": "code",
      "execution_count": null,
      "metadata": {
        "id": "uaxluwH7SajZ"
      },
      "outputs": [],
      "source": [
        "prompt = \"\u6a5f\u68b0\u5b66\u7fd2\u306b\u3064\u3044\u3066\u6559\u3048\u3066\u304f\u3060\u3055\u3044\""
      ]
    },
    {
      "cell_type": "code",
      "execution_count": null,
      "metadata": {
        "id": "XiNUwOZASWfy"
      },
      "outputs": [],
      "source": [
        "token_ids = tokenizer.encode(prompt, add_special_tokens=False, return_tensors=\"pt\")\n",
        "\n",
        "with torch.no_grad():\n",
        "    output_ids = model.generate(\n",
        "        token_ids.to(model.device),\n",
        "        do_sample=True,\n",
        "        max_new_tokens=128,\n",
        "        temperature=0.7,\n",
        "        pad_token_id=tokenizer.pad_token_id,\n",
        "        bos_token_id=tokenizer.bos_token_id,\n",
        "        eos_token_id=tokenizer.eos_token_id\n",
        "    )\n",
        "\n",
        "output = tokenizer.decode(output_ids.tolist()[0][token_ids.size(1):])\n",
        "output = output.replace(\"<NL>\", \"\\n\")\n",
        "print(output)"
      ]
    },
    {
      "cell_type": "code",
      "execution_count": null,
      "metadata": {},
      "outputs": [],
      "source": []
    }
  ],
  "metadata": {
    "colab": {
      "authorship_tag": "ABX9TyO0qRXYqaElV5mlL/yPCq3h",
      "include_colab_link": true,
      "provenance": []
    },
    "kernelspec": {
      "display_name": "Python 3.9.18 ('.venv': poetry)",
      "language": "python",
      "name": "python3"
    },
    "language_info": {
      "name": "python",
      "version": "3.9.18"
    },
    "vscode": {
      "interpreter": {
        "hash": "17a011378fed683b21aba93e5dd7c0cb7beefc09c5af72c6425b40c713e260dc"
      }
    }
  },
  "nbformat": 4,
  "nbformat_minor": 0
}