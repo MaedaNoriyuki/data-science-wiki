{
  "cells": [
    {
      "cell_type": "markdown",
      "metadata": {
        "id": "c9SuAKIxnXPT"
      },
      "source": [
        "# Qwen-14B-Chat-Int4"
      ]
    },
    {
      "cell_type": "markdown",
      "metadata": {},
      "source": [
        "\u30a2\u30ea\u30d0\u30d0\u30af\u30e9\u30a6\u30c9\u304c\u958b\u767a\u3057\u305f\u30e2\u30c7\u30eb\u3067Llama2\u306e2\u5146\u30c8\u30fc\u30af\u30f3\u3092\u8d85\u3048\u308b3\u5146\u30c8\u30fc\u30af\u30f3\u306e\u30c7\u30fc\u30bf\u30bb\u30c3\u30c8\u3067\u4e8b\u524d\u5b66\u7fd2\u3092\u884c\u306a\u3063\u305f\u30e2\u30c7\u30eb\u3067\u4e00\u90e8\u306e\u8a55\u4fa1\u6307\u6a19\u3067\u306fLlama2-70B\u306b\u8feb\u308b\u7cbe\u5ea6\u3092\u51fa\u3057\u3066\u3044\u308b\u305d\u3046\u3067\u3059\n",
        "* https://github.com/QwenLM/Qwen/tree/main"
      ]
    },
    {
      "cell_type": "markdown",
      "metadata": {
        "colab_type": "text",
        "id": "view-in-github"
      },
      "source": [
        "<a href=\"https://colab.research.google.com/github/fuyu-quant/data-science-wiki/blob/develop/nlp/text_generation(japanese)/qwen_14b_chat_int4.ipynb\" target=\"_blank\" rel=\"noopener noreferrer\"><img src=\"https://colab.research.google.com/assets/colab-badge.svg\" alt=\"Open In Colab\"/></a>"
      ]
    },
    {
      "cell_type": "code",
      "execution_count": 1,
      "metadata": {
        "id": "4CN3ScDVnUEu"
      },
      "outputs": [],
      "source": [
        "%%capture\n",
        "!pip install transformers==4.32.0 accelerate tiktoken einops scipy transformers_stream_generator==0.0.4 peft deepspeed\n",
        "!pip install auto-gptq optimum"
      ]
    },
    {
      "cell_type": "code",
      "execution_count": 2,
      "metadata": {
        "id": "UyvZcSAvnwiC"
      },
      "outputs": [],
      "source": [
        "from transformers import AutoTokenizer, AutoModelForCausalLM"
      ]
    },
    {
      "cell_type": "markdown",
      "metadata": {
        "id": "kz0Rb15LodZB"
      },
      "source": [
        "### Qwen-14B-Chat-Int4"
      ]
    },
    {
      "cell_type": "code",
      "execution_count": null,
      "metadata": {
        "colab": {
          "base_uri": "https://localhost:8080/",
          "height": 974,
          "referenced_widgets": [
            "219457f7096d482da502aa6adf3947de",
            "7534fab4b9094543b4fc201bb3c5deb7",
            "2ceaa7429b00477dae0abbf11d515e96",
            "9944603cf8474cc99d159d5ef6f71a86",
            "2d109e1f4c36420db379279f98477cb2",
            "9cf62b6b3e8b459191d7acc33165fd76",
            "9747c98edebd49e387cc40926e5aa7f5",
            "803eb2cfb14c404fb8af9a497b30f7be",
            "f48be934db284fdb838a8dcf5b8a02eb",
            "716aa20d85534036b61cfbcbb5ac3f20",
            "8c30245b121c414faaffcae4ac217a4e",
            "d12a1e03583a40a796e498a059bf63ec",
            "f307e6dc92fd4cd1b597f6a0c4c62919",
            "a4ce66c0535448d187ade3439e194185",
            "083b2ca2d8b74851afb53c6b08abeed2",
            "2d6d209a6e3b4a789af2229c35e2114e",
            "5398d6a949a7417d93a96d50d7f1ed1c",
            "c39a31f601554ed8aa0212c729fea4b0",
            "676bc4b1259f43cd8302273a0146bf2a",
            "3a33dbe1d11441c094ab73809b4d21a6",
            "9fbea62d2f1d4fcd86280a59b35090b6",
            "1ea7516124674666bc25e5c891cf5d82",
            "726d2a97cde542bc82767ab8bce0e72d",
            "7a2948dd62be4b6ca2565cf22db90c09",
            "5fd3149df1d6466c879002b0219643dc",
            "2e6fe93883394f18a53a1f18cc5a9679",
            "bdf3a3e28c2243ce882d8d626a82d6a9",
            "cc9800701efa4cb882baaaa26a83ff5e",
            "2de1ecdf997d406d8db50429aa217a2e",
            "b34805b5f7034c12bc37d854ea6dcc21",
            "f2004624f89640c0bdcdbaa1acc20024",
            "8ed9d39ce78a43fdb1dcda5fd748fbed",
            "61541540225d462da6ccc5dc0a822de9",
            "62671b57d97b46d3932dd2c72e3113bb",
            "719fbe168a9c4cbfb47f40f7ff627715",
            "0094aa8e34ee46bfbc2c40c4e1be2b54",
            "1a309111f6534dd39d47fe6e0f9b8383",
            "b47aba775936408996a9d39a06c8c58a",
            "3f2833eae6fc4e939be1228b0178b335",
            "8f120887a5ce42d9be74656826de2df3",
            "4879f2c943874764bc614c85d5680c63",
            "b80acd1c97dd43c0acdb3c2250210823",
            "94ff49b6de904c4d9a48759d261d7add",
            "5375e7add68c41f0aa23ba89e54f59dc",
            "4a0c68a971354bca8918883fcdb2997a",
            "b290f13e46b2412581a43d94d5a7002a",
            "d4f8b6c197f748c98e0b577182db8cca",
            "5b75fda60a4c401eaf23ae0a0d7df816",
            "e2fc8bd92ab84a07b27d63ec7faacb2f",
            "c11b859bcdbe491ab5c30d0fd9fba7e4",
            "5e576186f7f042dfb903288eb454aa45",
            "53c10c8022ca4190964eb92a040ba426",
            "3e00335fea68462ab6f3d0d29b272461",
            "09861ef3acc647e485c5628874f3cdcb",
            "3920f614ab234c2cabee215694607d67",
            "836a483dbfa54da488fc2e470e1193d1",
            "4f03d715fe4e4ab8a0d75d4083c2c10b",
            "817db6669bc64bc5afa5aa40b54aa724",
            "074e923f163945ce868838ea92e18c30",
            "690797c3c39646fea68f165516d249a7",
            "6a615d2b2a674dcc84cad7a9991715f0",
            "1b9f30a271a441af9f9228908991f971",
            "ce321f7158704cbd9f385936ad0c585a",
            "f86d297d6e3a4fc0b913f19b705bd279",
            "103913ac22bc48b69c73a67705b0b308",
            "5d4739ee5c1e4791bbb10e90c0ef9f18",
            "83c521ca938d4326be0f79f01bd9af07",
            "0b35e63cb16a4bf786e686363013ad3b",
            "39845e3cb4954d7bb79e2600df8506a5",
            "0109daff83f44c19897d9e97257f70e6",
            "156f12f39f684ad8afe52db08ae6b8ce",
            "22706f0b843d4ac6b9d7a551a4fc7467",
            "10195f8d6a1343e9ba6059e8ba94e292",
            "677aec6d26254d1eafed417ad159444b",
            "e1ea177dddab4c4a9b18a558470000d5",
            "01737009e4fc49d295f8f5406d5492b0",
            "eb1bce6647744b8b903359e3d59f45de",
            "b94264496a1a48dabbce9c1fc20f5974",
            "1f505d020316402a975c98c6d50249c5",
            "daf9c206c4ce4446bce7e75fb25dfc8d",
            "99def82509324f768b92a5534c497697",
            "be3b585d3fe144f7867035a43af81c67",
            "1f6894fc0e4c487cb7eba33d3422a51b",
            "3ab6be64df034e2cb7fbd7bd303a2f9f",
            "100dabc242f54bd5b20486c78400b46f",
            "35b8278ed1e34b458e24521444c393ec",
            "d4bc2efd13bd4491904237d4a0e1ecc7",
            "65fc4b4b81304f638990ae4cea08314d",
            "12c77247da934432aaaebd7e320e2741",
            "6b5826a7f0dc42d486739d909df57457",
            "31d977cadf064b07b925d61e47bf14a1",
            "5508e96dc19d4e429dd75cea4ee590c1",
            "49aea5b7b7b04893b8923e626f47aeb9",
            "4cc68cb857db4ddc81c1133af18fe5a7",
            "c1673f68cb8746b7917349e7a76cde71",
            "08ad1048f08e4523865a612e9a40de18",
            "49e10dddd3a048efaf293276c7e74c8c",
            "feec08f9dc4a486296133e0f00ebbdb6",
            "04d49531d98a49718a788aa15f7c933f",
            "b01335f22d124dd6b3036d4bdeeb7d9d",
            "c3a389ab13a449039c1d2b758de7711e",
            "191d4736236c4d9c9600e958440c5d4d",
            "709dc0f1275440ee8c94df7b02515de4",
            "36c71806a77447b88f5484229b6a5185",
            "dfb07cc5635b4059af87c0be95eabdbf",
            "768a2e93a1454a7d89ada97eda8bc2ff",
            "1bf00c4b7f3649f1a3f71d388ece8ce6",
            "cf72b601c0414f7395a99092841d2882",
            "5b5650cd07ae4f9493b3553534931be1",
            "7776dea271ee4b75a4e95f6cf5f8ae45",
            "8b3d5662505c4cfd89395c12eec290eb",
            "92b4577121b441d1b2cf60117eeea4df",
            "bd5fdb923ea240f2a0add6cd472213e5",
            "dcb67f85fafc48a382b055ca8a7b78cf",
            "6564088ee1c047aaba1edd2cadb14465",
            "2f51ad6c15334735acebc54bafaba083",
            "e312f8b5b7bb44aa99c7c78dbdc62e3c",
            "b8e0779541af4470867e830acd8ebba1",
            "8f5a49b34d22490195e48e2274f44551",
            "8ea4be7c19ad4e1cb4f6647b256368a6",
            "09c813851c5a46fd87cb657a22034c79",
            "b329ae92c5bf4583b931228c94abc6f0",
            "6d4bb2907d3e47398db1111b1c2541c7",
            "8b9e62691d4649d4a3413f0e8f5c1d4a",
            "5c3a997721fe4644b37b6b401b3521f8",
            "11d9182a116344faa6c5f1fb5ed32a85",
            "1ef05efe8e604ad6b96005231fc36e4d",
            "7b8f077f9a764be29ee575f6f37a9d0f",
            "325ebc07f6d74faa9715c73d80e25d71",
            "cc88509d7dae4603ba2bea2cfd04a9ca",
            "e1462405d6b04c11bf8a9bf12c04807d",
            "b3c8c27e352746a9b22162088779455f",
            "3096891f71e04ee485921c8474523df1",
            "d8fe6cc7e1704026a843cd9f81add79d",
            "9db7ae1c97534bda97a6ce4f2da5e031",
            "0b78972127e44a40a214958a422cf055",
            "b9be4528ab5c4d8a92674a92b3015613",
            "633aef5bd4834ab5aa3893e6827532ed",
            "6be92f8a3273400c8a53e8cbea83bda1",
            "ecadfa2172ba4443b0f7e17715e02851",
            "4bfd2b7134914ab9b246b6413ada685a",
            "14fa42d9e7ea4fd3a47d49f30cbd3ec6",
            "ab575e5728d843e39aa47c7ffe2dbadd",
            "7534e2c11b9e405190e391c1e7128c79",
            "cc3c0ba5192a4ac0926901cf0ca6b23c",
            "11be1bcf391a49d6b4140518235aa4a7",
            "7d4c8f68c02941fe912b8bfbb5e7e216",
            "7fb0358d00e74fe792c66295e98d8bcb",
            "af340c95602140f88aa7ab9168c45b59",
            "cacba7e4c8814353801ea4941cfe7725",
            "457056259ea54c39bf471ef9e6958ed6",
            "85781de880ac4ccbab9ed231ee3b919c",
            "94bdd7abf055452d9c6d8211f3fe78be",
            "9bef463a73a140769f2ed1dd44bc74c0",
            "e329b5fe46b6484382fa40e9349e0d87",
            "2cd99eda975d47a69bd2516db1d607cc",
            "650673418b8b4439a83aaa9b9f6bc6f6",
            "3cc34e2dc3424f4bb4f4dc904bc815dc",
            "e1afa423ce4f48e0ba30d7d9c6dd403c",
            "da4d3a7a273b444a846ad2d88a09366a",
            "d58caac0b86e4366a10e1d9ebc2918d8",
            "ff43fb5eb57d486e955d73ae73c93d48",
            "3678911e25d744aa8520cf0cddc4eb2a",
            "b1fecbe61b3b4f85857b44f6c5811263",
            "8a726d34ffbc4c1195e9be34ed4a8f55",
            "ea1dd3103f5840dda15305f95c6d6357",
            "17c42fe4841245468f75dbe055a3f6fd",
            "f38a057660cd4363b719c72e2a9d6d9f",
            "7edd1c9fea7d47dd871c609505aa27c0",
            "bf1b1e1d258c4c3cb07a8a79aee1c002",
            "020f494942c84fd28254f0d4a0c42b78",
            "26fcca3554cb4de6927c0d423de94621",
            "2dc4eea7ebcf4865ab34ac67bea334c6",
            "d4c63b8405244f488a3c80ad92cfe71a",
            "1340484c714e4dd9ad08795d2c4e0a29",
            "2c776e9085db4d3ab7abc249b624c9a9",
            "d29b804c8a1a46f7877af051c9e00b0f",
            "fae4f77c31f7406089af1a949b5cb115",
            "d48ca87583944d9a94564294ae238588",
            "e43d359a2be6407ca5cc9d521182e17c",
            "ef223bb771bd4872ba3e63cd672038d7",
            "002f917e2bd842da9485215f36d6b583",
            "c3b07b48d61d4f7fa1e36ff385ea2217",
            "dcdbad36d3ff453da3e2ea1489b99aa8",
            "7ea327fb4d83450db77e2e4e22011c78",
            "7a92f44de8da44ac955103a7e85553a1",
            "b98ef4c81d384b148ce8165c609b6425"
          ]
        },
        "id": "dEay7tCMn29t",
        "outputId": "83aaf795-c9f1-46e5-db7f-e996740be725"
      },
      "outputs": [],
      "source": [
        "tokenizer = AutoTokenizer.from_pretrained(\n",
        "    \"Qwen/Qwen-14B-Chat-Int4\",\n",
        "    trust_remote_code=True\n",
        "    )\n",
        "\n",
        "model = AutoModelForCausalLM.from_pretrained(\n",
        "    \"Qwen/Qwen-14B-Chat-Int4\",\n",
        "    device_map=\"auto\",\n",
        "    trust_remote_code=True\n",
        "    ).eval()"
      ]
    },
    {
      "cell_type": "markdown",
      "metadata": {
        "id": "uizVdaUjogP0"
      },
      "source": [
        "### \u65e5\u672c\u8a9e\u306e\u51fa\u529b"
      ]
    },
    {
      "cell_type": "code",
      "execution_count": 4,
      "metadata": {
        "colab": {
          "base_uri": "https://localhost:8080/"
        },
        "id": "S8mnEFgloCXJ",
        "outputId": "55ffbe4b-bdae-4973-dc9d-95bc4499060d"
      },
      "outputs": [
        {
          "name": "stdout",
          "output_type": "stream",
          "text": [
            "\u91cf\u5b50\u30b3\u30f3\u30d4\u30e5\u30fc\u30bf\u306f\u3001\u901a\u5e38\u306e\u30b3\u30f3\u30d4\u30e5\u30fc\u30bf\u3068\u306f\u7570\u306a\u308b\u30a2\u30eb\u30b4\u30ea\u30ba\u30e0\u3068\u539f\u7406\u3092\u4f7f\u7528\u3057\u3066\u3001\u975e\u5e38\u306b\u9ad8\u901f\u306b\u8a08\u7b97\u3092\u884c\u3046\u3053\u3068\u304c\u3067\u304d\u307e\u3059\u3002\u91cf\u5b50\u30b3\u30f3\u30d4\u30e5\u30fc\u30bf\u306f\u3001\u91cf\u5b50\u529b\u5b66\u306b\u57fa\u3065\u304f\u6982\u5ff5\u3092\u4f7f\u7528\u3057\u3066\u3001\u91cf\u5b50\u30d3\u30c3\u30c8\uff08qubits\uff09\u3068\u3044\u3046\u6700\u5c0f\u5358\u4f4d\u306e\u60c5\u5831\u3092\u53d7\u3051\u53d6\u308a\u3001\u51e6\u7406\u3057\u307e\u3059\u3002\u3053\u308c\u3089\u306equbits\u306f\u3001\u901a\u5e38\u306e\u30b3\u30f3\u30d4\u30e5\u30fc\u30bf\u306e\u30d3\u30c3\u30c8\u3068\u306f\u7570\u306a\u308a\u30010\u30681\u306e\u72b6\u614b\u3060\u3051\u3067\u306a\u304f\u3001\u4e21\u65b9\u306e\u72b6\u614b\u3092\u540c\u6642\u306b\u4fdd\u6301\u3059\u308b\u3053\u3068\u304c\u3067\u304d\u307e\u3059\u3002\u3053\u306e\u305f\u3081\u3001\u91cf\u5b50\u30b3\u30f3\u30d4\u30e5\u30fc\u30bf\u306f\u3001\u8907\u96d1\u306a\u554f\u984c\u3092\u975e\u5e38\u306b\u9ad8\u901f\u306b\u89e3\u6c7a\u3059\u308b\u3053\u3068\u304c\u3067\u304d\u307e\u3059\u3002\n"
          ]
        }
      ],
      "source": [
        "response, history = model.chat(tokenizer, \"\u91cf\u5b50\u30b3\u30f3\u30d4\u30e5\u30fc\u30bf\u306b\u3064\u3044\u3066\u6559\u3048\u3066\u304f\u3060\u3055\u3044\uff0e\", history=None)\n",
        "print(response)"
      ]
    },
    {
      "cell_type": "markdown",
      "metadata": {
        "id": "5jiqoRMzoiTj"
      },
      "source": [
        "### \u82f1\u8a9e\u306e\u51fa\u529b"
      ]
    },
    {
      "cell_type": "code",
      "execution_count": 5,
      "metadata": {
        "colab": {
          "base_uri": "https://localhost:8080/"
        },
        "id": "GvEksW8aoM_R",
        "outputId": "cf73b582-7e4d-4ad6-b2c6-b0f308127336"
      },
      "outputs": [
        {
          "name": "stdout",
          "output_type": "stream",
          "text": [
            "Quantum computers are a type of computer that use quantum-mechanical phenomena, such as superposition and entanglement, to perform operations on data. Unlike classical computers, which use bits to represent information, quantum computers use quantum bits, or qubits. \n",
            "\n",
            "One of the key features of quantum computers is their ability to perform certain calculations much faster than classical computers. This is because quantum computers can perform many calculations simultaneously, thanks to the phenomenon of superposition. In a superposition, a qubit can exist in multiple states at the same time, allowing it to perform multiple calculations simultaneously.\n",
            "\n",
            "Another important feature of quantum computers is their ability to perform certain types of calculations that are impossible for classical computers. This is because quantum computers can take advantage of the phenomenon of entanglement, which allows qubits to be connected in a way that allows them to affect each other even when they are separated by large distances.\n",
            "\n",
            "Quantum computers are still in the early stages of development, and there are many technical challenges that need to be overcome before they can be widely used. However, they have the potential to revolutionize many fields, including cryptography, chemistry, and materials science.\n"
          ]
        }
      ],
      "source": [
        "response, history = model.chat(tokenizer, \"Please tell me about quantum computers.\", history=None)\n",
        "print(response)"
      ]
    },
    {
      "cell_type": "markdown",
      "metadata": {
        "id": "pDPPaL9VokXT"
      },
      "source": [
        "### \u30b3\u30fc\u30c9\u751f\u6210(\u65e5\u672c\u8a9e)"
      ]
    },
    {
      "cell_type": "code",
      "execution_count": 6,
      "metadata": {
        "colab": {
          "base_uri": "https://localhost:8080/"
        },
        "id": "gvY1ZmOGoSnY",
        "outputId": "267ed4df-5be3-4bc2-c859-8a7e2841276f"
      },
      "outputs": [
        {
          "name": "stdout",
          "output_type": "stream",
          "text": [
            "\u4ee5\u4e0b\u306f\u3001LightGBM\u3092\u4f7f\u7528\u3057\u3066Python\u3067\u5b66\u7fd2\u3059\u308b\u305f\u3081\u306e\u30b3\u30fc\u30c9\u4f8b\u3067\u3059\u3002\n",
            "```python\n",
            "import lightgbm as lgb\n",
            "import pandas as pd\n",
            "\n",
            "# \u30c7\u30fc\u30bf\u306e\u8aad\u307f\u8fbc\u307f\n",
            "data = pd.read_csv('data.csv')\n",
            "\n",
            "# \u30c7\u30fc\u30bf\u306e\u524d\u51e6\u51e6\u7406\n",
            "# ... (\u30c7\u30fc\u30bf\u306e\u524d\u51e6\u51e6\u7406\u306e\u30b3\u30fc\u30c9)\n",
            "\n",
            "# \u30c7\u30fc\u30bf\u3092LightGBM\u7528\u306e\u30c7\u30fc\u30bf\u5f62\u5f0f\u306b\u5909\u63db\n",
            "lgb_data = lgb.Dataset(data['feature'], label=data['target'])\n",
            "\n",
            "# \u30e2\u30c7\u30eb\u306e\u5b66\u7fd2\n",
            "params = {\n",
            "    'objective': 'binary',\n",
            "    'metric': 'binary_logloss',\n",
            "    'boosting_type': 'gbdt',\n",
            "    'num_leaves': 31,\n",
            "    'learning_rate': 0.05,\n",
            "    'feature_fraction': 0.9\n",
            "}\n",
            "model = lgb.train(params, lgb_data, num_boost_round=100)\n",
            "\n",
            "# \u30e2\u30c7\u30eb\u306e\u4e88\u6e2c\n",
            "y_pred = model.predict(data['feature'])\n",
            "\n",
            "# \u4e88\u6e2c\u7d50\u679c\u306e\u51fa\u529b\n",
            "print(y_pred)\n",
            "```\n",
            "\n",
            "\u3053\u306e\u30b3\u30fc\u30c9\u3067\u306f\u3001LightGBM\u3092\u4f7f\u7528\u3057\u3066\u3001CSV\u30d5\u30a1\u30a4\u30eb\u304b\u3089\u8aad\u307f\u8fbc\u3093\u3060\u30c7\u30fc\u30bf\u3092\u5b66\u7fd2\u3057\u3001\u4e88\u6e2c\u3092\u884c\u3063\u3066\u3044\u307e\u3059\u3002\u30c7\u30fc\u30bf\u306e\u524d\u51e6\u51e6\u7406\u3084\u30e2\u30c7\u30eb\u306e\u30d1\u30e9\u30e1\u30fc\u30bf\u306a\u3069\u306e\u8a73\u7d30\u306f\u3001\u30d7\u30ed\u30b8\u30a7\u30af\u30c8\u306b\u3088\u3063\u3066\u7570\u306a\u308a\u307e\u3059\u3002\n"
          ]
        }
      ],
      "source": [
        "response, history = model.chat(tokenizer, \"LightGBM\u3092\u5b66\u7fd2\u3059\u308b\u305f\u3081\u306ePython\u306e\u30b3\u30fc\u30c9\u3092\u751f\u6210\u3057\u3066\u304f\u3060\u3055\u3044\uff0e\", history=None)\n",
        "print(response)"
      ]
    },
    {
      "cell_type": "code",
      "execution_count": null,
      "metadata": {},
      "outputs": [],
      "source": []
    }
  ],
  "metadata": {
    "accelerator": "GPU",
    "colab": {
      "authorship_tag": "ABX9TyORTXVB2bzc4wRA407BWxpu",
      "gpuType": "V100",
      "include_colab_link": true,
      "machine_shape": "hm",
      "provenance": []
    },
    "kernelspec": {
      "display_name": "Python 3.9.18 ('.venv': poetry)",
      "language": "python",
      "name": "python3"
    },
    "language_info": {
      "name": "python",
      "version": "3.9.18"
    },
    "vscode": {
      "interpreter": {
        "hash": "17a011378fed683b21aba93e5dd7c0cb7beefc09c5af72c6425b40c713e260dc"
      }
    }
  },
  "nbformat": 4,
  "nbformat_minor": 0
}