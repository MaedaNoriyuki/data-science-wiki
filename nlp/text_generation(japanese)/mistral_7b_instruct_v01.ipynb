{
  "cells": [
    {
      "cell_type": "markdown",
      "metadata": {
        "id": "FpYAzCuGOQZP"
      },
      "source": [
        "# Mistral-7B-Instruct-v0.1"
      ]
    },
    {
      "cell_type": "markdown",
      "metadata": {
        "id": "zp8ryaioOV3N"
      },
      "source": [
        "Mistral 7B\u306f7B\u30e2\u30c7\u30eb\u306b\u3082\u95a2\u308f\u3089\u305aLlama2 13B\u3084Llama1 34B\u306a\u3069\u306e\u30d1\u30e9\u30e1\u30fc\u30bf\u6570\u304c\u5927\u304d\u3044\u30e2\u30c7\u30eb\u3092\u8d85\u3048\u308b\u6027\u80fd\u3092\u767a\u63ee\u3057\u3066\u3044\u307e\u3059\uff0e\u65e5\u672c\u8a9e\u51fa\u529b\u306b\u95a2\u3057\u3066\u5c11\u3057\u3060\u3051\u9055\u548c\u611f\u304c\u3042\u308b\u70b9\u3082\u3042\u308a\u307e\u3059\u304c\uff0c\u82f1\u8a9e\u3084\u30b3\u30fc\u30c9\u751f\u6210\uff0c\u8a08\u7b97\u306a\u3069\u306f\u975e\u5e38\u306b\u9ad8\u3044\u7cbe\u5ea6\u3067\u51fa\u529b\u3059\u308b\u3053\u3068\u304c\u3067\u304d\u3066\u3044\u307e\u3059\uff0e\n",
        "* https://huggingface.co/mistralai"
      ]
    },
    {
      "cell_type": "markdown",
      "metadata": {
        "colab_type": "text",
        "id": "view-in-github"
      },
      "source": [
        "<a href=\"https://colab.research.google.com/github/fuyu-quant/data-science-wiki/blob/develop/nlp/text_generation(japanese)/mistral_7b_instruct_v01.ipynb\" target=\"_blank\" rel=\"noopener noreferrer\"><img src=\"https://colab.research.google.com/assets/colab-badge.svg\" alt=\"Open In Colab\"/></a>"
      ]
    },
    {
      "cell_type": "code",
      "execution_count": 1,
      "metadata": {
        "id": "XBHrEWOnOa3g"
      },
      "outputs": [],
      "source": [
        "%%capture\n",
        "!pip install transformers"
      ]
    },
    {
      "cell_type": "code",
      "execution_count": 2,
      "metadata": {
        "id": "Ovi74v8SOakt"
      },
      "outputs": [],
      "source": [
        "from transformers import AutoModelForCausalLM, AutoTokenizer"
      ]
    },
    {
      "cell_type": "code",
      "execution_count": null,
      "metadata": {
        "colab": {
          "base_uri": "https://localhost:8080/",
          "height": 715,
          "referenced_widgets": [
            "e2e4588b5243497b833a3d641d96522c",
            "c78b9e40c215430e93745e0d2ac570dd",
            "b07bf3776f3a4510b4c7069380d71a51",
            "9902fdccf4ec495a85127dd3ede9e974",
            "34049e446c9949358683f1826b81039b",
            "e6c0bf37482e4506b7edd0eae4124620",
            "ff99bbfa38f646c5aa2d143c5fcee82d",
            "56bb26e5c27f4f54aed186441778f7f8",
            "3793d989e0b24a52ad6d176e7ca331bb",
            "e19a813ef9c1431eb6bb89fe80503e2a",
            "d1fad2ed66754391bab5f8154bf0a656",
            "2513d186298343719c6c50d248e0e6cc",
            "69b178408dd24d5680cd43e5531c2e01",
            "24fa323027634a1eaab0c4f16b7afccf",
            "e3dde7e364054471a960f90f797a3725",
            "9ea185351fa0458eb39afc8b161d0a47",
            "525b41a6b2e243f3953b7d0a28278a6f",
            "9f57d0d9cd8447e5bce7f433a2e944c5",
            "0b846743530f469f93637eed0a9d185e",
            "9916e0c4eb104e99b4dc280fc200453d",
            "acd489b032f54a4588656aa7744a6eb1",
            "f5bc811b263b40d0b250f5a3c65ad2bc",
            "bee80cc382ab449f90d63ed830c82fc8",
            "5705cebf45c5413f9c8d34151bb210a8",
            "94a464efdaca4219a6f8e203f78a8e34",
            "8f602715a2fa42eebcc11bf632ac0a92",
            "bb9c2944139546cca40fc15a44b4bd3b",
            "7426fcc2a1ff492daab82b53dd97fc07",
            "b7fb4847a00c4e14ba8f2bc9ed51f3af",
            "e5509bde6e33470ca91ad110f58b9283",
            "0390c0b27cb7415aa70596d11821021a",
            "2ccb9c6a81ad41999e8ab866fd7119d8",
            "dd1c31d4dc234a48af46e66cf3662cb5",
            "2642963b91e14bc0b2a8c1cc05f650d2",
            "7b2a41bdd2e54f6ea267a4eae120c02e",
            "7fa02e83f96842268dbcad8cfd39a609",
            "5e89dc8cadc442a78bfa0fd43f631480",
            "31fc349061ce4ce6a48692f6dd4f73f3",
            "ad7c79e2b4274bb4adf1808b5891a957",
            "218efe521fda435ea411c0b1211e3d6a",
            "1e3a9448309d49e997c95f007b868a1b",
            "a3e969bc7ad04cc182844fdb36319ff6",
            "23f4917131334ab199a9cb320f5d70c2",
            "c6950645ca4a47e085812ab0a9fb1e33",
            "278a48514f744f6fa0119fb4875e227a",
            "7c2ecbf783574223b3b411e89977b24f",
            "b8107500623349b3b9edb0266c2c6922",
            "ae72faf660e04b149540f0ff8ba4d7e3",
            "67a9cbc199d94ac2923ca9c366daad5e",
            "dca68a799cf54a489d586ef9f23945f5",
            "41a2cf9e712f479b8d4158aa67c3f455",
            "cfbb6ecf36e9421ca0f1de433a939136",
            "af6927ea90c04734a7e3add2777acbb4",
            "54a03e937db8478cbef69a1846b80ed7",
            "1dc201130c7542cc870d4280324ba73b",
            "7a92daf83f514d68af67e0a5df5d4ee9",
            "76e85780ceb146a2ad8044e22d9ac596",
            "fdb6c0396eb74b9ba50ce4c72f2bfb08",
            "413d0a938e8f4bf0834bc21ceced8714",
            "d45b888f098c4b938f047d4d55992258",
            "39d15bd77a09433a8b16ea9872d713c2",
            "2d83bf7a1b194fde918ef32294502fbf",
            "7b882efb739943ee86f77edfc57221df",
            "db72dc4208e84c109dda7471228e869a",
            "dcaad8256e954bd09196be4ca009181d",
            "33f4fab8716e4a3881a857ecdf204273",
            "d88ff18312cc46d5af45734b699c063d",
            "3a0ca5946334461eb2ce1f3c5cc80346",
            "7f2b30da75564b608f8d9d4a3d70388c",
            "7e6ab07f4503488180a9185aabfb89f6",
            "84b229c06ffd4899b99a3401f16f69f5",
            "1283367d825645dca307d45534816b47",
            "380b706b568b4949bf6742c86b6dbf09",
            "ba925ebf77fe4fa29ecda3d0230b12d9",
            "30b232170e324887b91dae0eeff6ca75",
            "62fbdae5be034ef0a7f46e935f349ab7",
            "6f9bb2b9a29247b6856e6b5669bf63ce",
            "4b8c140f6d92439baf0f5d28d412a97c",
            "c8a4b122e8ea4b0798b672b0ef83ff3d",
            "cf553792763a40cd99c5e477a77be9ac",
            "93cbc8b8181f4af488f14ab64e1c70f0",
            "de7664d576714a9b8dd7e9999061791d",
            "f3c51f77232048879b21f1f360f6b463",
            "9eb8d55f2d9247c0be7338193b60ac64",
            "8336ee899f2542bc9b88aed213f9bac1",
            "506a6248dff046f5a9da950bb5859eb4",
            "8b9e5976657748bc9c6f3e449cbd01bc",
            "15047c00dd2a42b7932f4f7d0328cbd5",
            "00dce0d8fce64e40af1caf060c90d138",
            "99c900cfa3f64b48a7ab2eb210051932",
            "ce3bc11f652546739d6edb893e6e8e69",
            "ee9ac70c0ae240468b172545a02f0b43",
            "1e36797b92b94db085acb09df20222b0",
            "4c54f880d0e44cfa83e228f8c5dd29e9",
            "7c294cf506ff43cdb89c67947aba324b",
            "b0b98469ee0e45abbffbf6230364cb74",
            "1d0bdba6d4e14f459cf25df53f56d3c2",
            "f6bc13f744764f2aa458d13cf21009ef",
            "2f82e10afeda46069dec219319c3bcce",
            "93ad85595e6447d28020db0eb57288f6",
            "361799a8a8c0457d88f640b772a8da8c",
            "f4df93873c224d089076b334460192b9",
            "81b8bdce36b942e79d979aca8ace1587",
            "a9d43547b5264f018427f0c1a193cab4",
            "dff3eed030dd4ab58c0b2676a64138f6",
            "e484222b8b814b498e6e880771d0ad3c",
            "22a7d2cf52af449a995f018904a74223",
            "fbc01b01f40e417ea7be1b281609035a",
            "e6b5ad53bb0a4951bd19c5376ffe7ec8",
            "d5c44ba73af64aae8852f04779d5142e",
            "ec8f867ba8474965bf6009196bd2c059",
            "6ec25b4a57944bba851b66fa9f537359",
            "19374d6f13ac42b2a81cee3a3922bf33",
            "081983312993470ca1e4a46d853e86a2",
            "56c3b7a6b12f4aef8fe8a6291c1753c1",
            "92f4e80335ec48d1b31da3426b62feea",
            "fd935121444e499eb39e0be6c376fbf2",
            "f949dc4a969d4d80a1d8c441b16b053a",
            "15d4e96a418f477eada20daf2b443e4c",
            "91d95ca4e82d48cead42394492c0968c",
            "30ccb567b52745f5b12c9cddf723576d"
          ]
        },
        "id": "t36sqxiSOiYb",
        "outputId": "926af73a-c6ce-4286-e7af-f487fb5d4600"
      },
      "outputs": [],
      "source": [
        "model = AutoModelForCausalLM.from_pretrained(\"mistralai/Mistral-7B-Instruct-v0.1\")\n",
        "tokenizer = AutoTokenizer.from_pretrained(\"mistralai/Mistral-7B-Instruct-v0.1\")"
      ]
    },
    {
      "cell_type": "code",
      "execution_count": null,
      "metadata": {
        "colab": {
          "base_uri": "https://localhost:8080/"
        },
        "id": "AMvZCC19PPBX",
        "outputId": "e45d50a1-8bbc-434e-d41f-f5cced9b5c5f"
      },
      "outputs": [],
      "source": [
        "device = \"cuda\"\n",
        "model.to(device)"
      ]
    },
    {
      "cell_type": "markdown",
      "metadata": {},
      "source": [
        "### \u65e5\u672c\u8a9e\u306e\u51fa\u529b"
      ]
    },
    {
      "cell_type": "code",
      "execution_count": 6,
      "metadata": {
        "colab": {
          "base_uri": "https://localhost:8080/"
        },
        "id": "7D-sFDddP3po",
        "outputId": "f81e6441-d6f0-414a-c64e-86ed71ec7e88"
      },
      "outputs": [
        {
          "name": "stderr",
          "output_type": "stream",
          "text": [
            "Using sep_token, but it is not set yet.\n",
            "Using pad_token, but it is not set yet.\n",
            "Using cls_token, but it is not set yet.\n",
            "Using mask_token, but it is not set yet.\n",
            "The attention mask and the pad token id were not set. As a consequence, you may observe unexpected behavior. Please pass your input's `attention_mask` to obtain reliable results.\n",
            "Setting `pad_token_id` to `eos_token_id`:2 for open-end generation.\n"
          ]
        },
        {
          "name": "stdout",
          "output_type": "stream",
          "text": [
            "<s>[INST] \n",
            "\u91cf\u5b50\u30b3\u30f3\u30d4\u30e5\u30fc\u30bf\u306b\u3064\u3044\u3066\u6559\u3048\u3066\u304f\u3060\u3055\u3044\u3002\n",
            " [/INST] \u91cf\u5b50\u30b3\u30f3\u30d4\u30e5\u30fc\u30bf\uff08Quantum Computers\uff09\u306f\u3001\u91cf\u5b50\u529b\u5b66\u306e\u7406\u5ff5\u3092\u57fa\u306b\u30c7\u30b8\u30bf\u30eb\u30c7\u30fc\u30bf\u3092\u5904\u7406\u3057\u307e\u3059\u3002\u91cf\u5b50\u529b\u5b66\u306f\u3001\u5149\u5b50\u3001\u30a8\u30ea\u30c8\u30f3\u3001\u78c1\u5834\u306a\u3069\u3092\u63a1\u7528\u3057\u3066\u8ab2\u984c\u3092\u89e3\u6c7a\u3059\u308b\u3053\u3068\u3067\u3042\u308a\u3001\u81ea\u7136\u306e\u73fe\u8c61\u3092\u89e3\u6c7a\u3059\u308b\u305f\u3081\u306e\u6570\u5b66\u306e\u65b9\u6cd5\u3092\u793a\u3057\u3066\u3044\u307e\u3059\u3002\n",
            "\n",
            "\u91cf\u5b50\u30b3\u30f3\u30d4\u30e5\u30fc\u30bf\u306f\u3001\u91cf\u5b50\u30d3\u30c3\u30c8\u306e\u57fa\u672c unit \u3068\u3057\u3066\u4f7f\u308f\u308c\u3001\u91cf\u5b50\u30d3\u30c3\u30c8\u306f2\u72b6\u614b\u3092\u6301\u3063\u305f\u3082\u306e\u3067\u3059\u3002\u3053\u306e\u91cf\u5b50\u30d3\u30c3\u30c8\u306f\u3001\u81ea\u7136\u65700\u30681\u3092\u793a\u3057\u3001\u307e\u305f\u306f\u30b9\u30af\u30e9\u30e0\u30d7\u30d6\u30ea\u30eb\u306e\u5f62\u3067\u30010\u30681\u306e\u72b6\u614b\u306e\u6df7\u5408\u3092\u8868\u73fe\u3057\u307e\u3059\u3002\u4e00\u822c\u7684\u306b\u3001\u91cf\u5b50\u30b3\u30f3\u30d4\u30e5\u30fc\u30bf\u3067\u306f\u3001\u91cf\u5b50\u30d3\u30c3\u30c8\u306e\u72b6\u614b\u3092\u4f7f\u3063\u3066\u8ee2\u79fb\u3092\u6307\u5b9a\u3059\u308b\u3088\u3046\u306b\u30c7\u30fc\u30bf\u306f\u8868\u73fe\u3055\u308c\u307e\u3059\u3002\n",
            "\n",
            "\u91cf\u5b50\u30d3\u30c3\u30c8\u306e\u91cd\u5927\u306a\u7279\u5fb5\u306f\u3001Superposition\u3068Entanglement\u306e2\u3064\u3067\u3059\u3002Superposition\u306f\u3001\u91cf\u5b50\u30d3\u30c3\u30c8\u304c\u540c\u6642\u306b\u8907\u6570\u306e\u72b6\u614b\u3092\u6301\u3064\u3053\u3068\u3092\u793a\u3057\u307e\u3059\u3002\u4f8b\u3048\u3070\u3001\u91cf\u5b50\u30d3\u30c3\u30c8\u306f\u30010 AND 1\u30010 OR 1\u306e3\u3064\u306e\u72b6\u614b\u306e\u3059\u3079\u3066\u3092\u540c\u6642\u306b\u6301\u3064\u3053\u3068\u304c\u3067\u304d\u307e\u3059\u3002Entanglement\u306f\u3001\u91cf\u5b50\u30d3\u30c3\u30c8\u306e\u7dca\u5bc6\u306a\u76f8\u95a2\u306b\u3064\u3044\u3066\u3059\u308b\u8a5d\u8a9e\u3067\u3059\u3002\u91cf\u5b50\u30d3\u30c3\u30c8\u304c\u5225\u306e\u91cf\u5b50\u30d3\u30c3\u30c8\u3068\u7dca\u5bc6\u306b\u76f8\u95a2\u3055\u308c\u308b\u3068\u3001\u305d\u306equantum state\u306f\u3001\u305d\u306e\u305f\u3081\u306e\u91cf\u5b50\u30d3\u30c3\u30c8\u304c\u6301\u3064\u72b6\u614b\u306e\u307f\u3067\u3042\u308c\u3070\u306a\u304f\u306a\u3044\u3053\u3068\u306b\u306a\u308a\u307e\u3059.\n",
            "\n",
            "\u91cf\u5b50\u30b3\u30f3\u30d4\u30e5\u30fc\u30bf\u3067\u306f\u3001\u91cf\u5b50\u30d3\u30c3\u30c8\u3092\u4f7f\u3063\u3066Quantum Gate\u3092\u4f5c\u6210\u3059\u308b\u3053\u3068\u304c\u3067\u304d\u307e\u3059\u3002Quantum Gate\u306f\u3001\u91cf\u5b50\u30d3\u30c3\u30c8\u304b\u3089\u91cf\u5b50\u30d3\u30c3\u30c8\u3078\u306e\u6307\u5b9a\u3057\u305f\u8ee2\u79fb\u3092\u4f5c\u6210\u3057\u3001\u30c7\u30fc\u30bf\u3092\u5904\u7406\u3059\u308b\u305f\u3081\u306e\u57fa\u672c\u7684\u306a\u64cd\u4f5c\u3068\u3057\u3066\u4f7f\u308f\u308c\u307e\u3059\u3002\u91cf\u5b50\u30b3\u30f3\u30d4\u30e5\u30fc\u30bf\u306e\u30a2\u30eb\u30b4\u30ea\u30ba\u30e0\u3067\u306f\u3001\u91cf\u5b50\u30b2\u30fc\u30c8\u3092\u4f7f\u3063\u3066\u3001\u554f\u984c\u3092\u89e3\u6c7a\u3059\u308b\u304b\u3069\u3046\u304b\u3092\u6c7a\u5b9a\u3057\u307e\u3059\u3002\n",
            "\n",
            "\u91cf\u5b50\u30b3\u30f3\u30d4\u30e5\u30fc\u30bf\u306f\u3001\u7279\u5b9a\u306e\u554f\u984c\u3092\u89e3\u6c7a\u3059\u308b\u305f\u3081\u306b\u4f7f\u308f\u308c\u3001\u305d\u306e\u305f\u3081\u306e\u30a2\u30eb\u30b4\u30ea\u30ba\u30e0\u306f\u3001\u81ea\u7136\u6570\u306e\u7bc4\u5074\u306b\u304a\u3044\u3066\u6570\u767e\u3001\u6570\u5343\u4ee5\u4e0a\u306e\u91cf\u5b50\u30d3\u30c3\u30c8\u3092\u4f7f\u3063\u305f\u91cf\u5b50\u30b3\u30f3\u30d4\u30e5\u30fc\u30bf\u306b\u95a2\u3059\u308b\u554f\u984c\u3092\u89e3\u6c7a\u3059\u308b\u30c7\u30fc\u30bf\u3092\u51e6\u7406\u3067\u304d\u307e\u3059\u3002\u91cf\u5b50\u30b3\u30f3\u30d4\u30e5\u30fc\u30bf\u306b\u3088\u3063\u3066\u89e3\u6c7a\u3059\u308b\u554f\u984c\u306e\u7a2e\u985e\u306f\u3001\u73fe\u5728\u306b\u306f\u6709\u9650\u3067\u3059\u304c\u3001\u5b9f\u969b\u306b\u306f\u91cf\u5b50\u30b3\u30f3\u30d4\u30e5\u30fc\u30bf\u306f\u5404\u7a2e\u306e\u554f\u984c\u3092\u89e3\u6c7a\u3059\u308b\u3053\u3068\u304c\u3067\u304d\u308b\u3053\u3068\u3092\u793a\u3057\u3066\u3044\u307e\u3059\u3002\u91cf\u5b50\u30b3\u30f3\u30d4\u30e5\u30fc\u30bf\u306f\u3001\u5927\u7d71\u4e00\u7684\u3067\u8a08\u7b97\u7684\u306a\u8a08\u7b97\u65b9\u6cd5\u306e\u4e2d\u3067\u3042\u308b\u305f\u3081\u3001\u73fe\u5728\u304b\u3089\u3059\u3050\u306b\u306f\u3001\u91cf\u5b50\u30b3\u30f3\u30d4\u30e5\u30fc\u30bf\u3067\u89e3\u6c7a\u3059\u308b\u554f\u984c\u306e\u7a2e\u985e\u306f\u5899\u304c\u7acb\u3063\u3066\u3044\u307e\u305b\u3093\u304c\u3001\u672a\u6765\u306b\u306f\u91cf\u5b50\u30b3\u30f3\u30d4\u30e5\u30fc\u30bf\u306f\u4e00\u7dd2\u306b\u3001\u305d\u308c\u3089\u306e\u554f\u984c\u3092\u89e3\u6c7a\u3059\u308b\u3053\u3068\u304c\u3067\u304d\u308b\u3088\u3046\u306b\u306a\u308b\u3068\u601d\u308f\u308c\u307e\u3059\u3002</s>\n"
          ]
        }
      ],
      "source": [
        "prompt = \"\"\"\n",
        "\u91cf\u5b50\u30b3\u30f3\u30d4\u30e5\u30fc\u30bf\u306b\u3064\u3044\u3066\u6559\u3048\u3066\u304f\u3060\u3055\u3044\u3002\n",
        "\"\"\"\n",
        "\n",
        "messages = [\n",
        "    {\"role\": \"user\", \"content\": f\"{prompt}\"},\n",
        "]\n",
        "\n",
        "model_inputs = tokenizer.apply_chat_template(messages, return_tensors=\"pt\").to(device)\n",
        "generated_ids = model.generate(model_inputs, max_new_tokens=1000, do_sample=True)\n",
        "decoded = tokenizer.batch_decode(generated_ids)\n",
        "print(decoded[0])"
      ]
    },
    {
      "cell_type": "markdown",
      "metadata": {},
      "source": [
        "### \u82f1\u8a9e\u306e\u51fa\u529b"
      ]
    },
    {
      "cell_type": "code",
      "execution_count": 7,
      "metadata": {
        "colab": {
          "base_uri": "https://localhost:8080/"
        },
        "id": "82fsKiXfR8P5",
        "outputId": "8bf46c4c-7a6b-48dd-b08c-928bb13ae53c"
      },
      "outputs": [
        {
          "name": "stderr",
          "output_type": "stream",
          "text": [
            "Using sep_token, but it is not set yet.\n",
            "Using pad_token, but it is not set yet.\n",
            "Using cls_token, but it is not set yet.\n",
            "Using mask_token, but it is not set yet.\n",
            "The attention mask and the pad token id were not set. As a consequence, you may observe unexpected behavior. Please pass your input's `attention_mask` to obtain reliable results.\n",
            "Setting `pad_token_id` to `eos_token_id`:2 for open-end generation.\n"
          ]
        },
        {
          "name": "stdout",
          "output_type": "stream",
          "text": [
            "<s>[INST] \n",
            "Please tell me about quantum computers.\n",
            " [/INST] Quantum computers are a type of computer that use the principles of quantum mechanics to store, process, and manipulate information. Unlike traditional computers, which use bits represented as either 0 or 1, quantum computers use quantum bits, or qubits, which can exist in a superposition of states, meaning they can represent 0, 1, or a combination of both at the same time.\n",
            "\n",
            "This ability to represent multiple states simultaneously allows quantum computers to perform certain calculations much faster than traditional computers. While traditional computers are limited by the binary nature of classical computing, quantum computers use quantum mechanics to manipulate and process information in a whole new way, offering the potential for exponential speedups in certain types of calculations.\n",
            "\n",
            "Quantum mechanics is a branch of physics that describes the behavior of matter and energy at the atomic and subatomic level. It is a complex and abstract mathematical theory, but in simple terms, it allows us to understand the behavior of particles such as electrons and photons, which are the fundamental building blocks of matter and energy.\n",
            "\n",
            "One of the most promising applications of quantum computers is in the field of cryptography. Quantum computers are capable of breaking many of the cryptographic algorithms currently used to secure online communication. However, they also have the potential to create new, unbreakable cryptographic algorithms, which could revolutionize the way we secure online data and communication.\n",
            "\n",
            "Another area where quantum computers are expected to have a significant impact is in materials science and chemistry. Quantum mechanics plays a key role in understanding the behavior of atoms and molecules, and quantum computers could be used to simulate the behavior of complex materials and chemical systems in ways that traditional computers are not suited for.\n",
            "\n",
            "Overall, quantum computers offer the potential for exponential speedups in certain calculations, and their ability to represent multiple states simultaneously could revolutionize the way we think about computing. While they are still a relatively new technology, they are likely to play an increasingly important role in the development of new technologies and applications in the coming years.</s>\n"
          ]
        }
      ],
      "source": [
        "prompt = \"\"\"\n",
        "Please tell me about quantum computers.\n",
        "\"\"\"\n",
        "\n",
        "messages = [\n",
        "    {\"role\": \"user\", \"content\": f\"{prompt}\"},\n",
        "]\n",
        "\n",
        "model_inputs = tokenizer.apply_chat_template(messages, return_tensors=\"pt\").to(device)\n",
        "generated_ids = model.generate(model_inputs, max_new_tokens=1000, do_sample=True)\n",
        "decoded = tokenizer.batch_decode(generated_ids)\n",
        "print(decoded[0])"
      ]
    },
    {
      "cell_type": "markdown",
      "metadata": {},
      "source": [
        "### \u30b3\u30fc\u30c9\u751f\u6210(\u65e5\u672c\u8a9e)"
      ]
    },
    {
      "cell_type": "code",
      "execution_count": 8,
      "metadata": {
        "colab": {
          "base_uri": "https://localhost:8080/"
        },
        "id": "gPYMNQ3QTuqk",
        "outputId": "b7de5040-2f1c-41e8-928b-048321fe5dfc"
      },
      "outputs": [
        {
          "name": "stderr",
          "output_type": "stream",
          "text": [
            "Using sep_token, but it is not set yet.\n",
            "Using pad_token, but it is not set yet.\n",
            "Using cls_token, but it is not set yet.\n",
            "Using mask_token, but it is not set yet.\n",
            "The attention mask and the pad token id were not set. As a consequence, you may observe unexpected behavior. Please pass your input's `attention_mask` to obtain reliable results.\n",
            "Setting `pad_token_id` to `eos_token_id`:2 for open-end generation.\n"
          ]
        },
        {
          "name": "stdout",
          "output_type": "stream",
          "text": [
            "<s>[INST] \n",
            "LightGBM\u3092\u5b66\u7fd2\u3059\u308b\u305f\u3081\u306ePython\u306e\u30b3\u30fc\u30c9\u3092\u751f\u6210\u3057\u3066\u304f\u3060\u3055\u3044\uff0e\n",
            " [/INST] \u4ee5\u4e0b\u306ePython\u30b3\u30fc\u30c9\u3092\u4f7f\u7528\u3057\u3066LightGBM\u3092\u5b66\u7fd2\u3059\u308b\u3053\u3068\u304c\u3067\u304d\u307e\u3059\u3002LightGBM\u306e\u5b66\u7fd2\u306f\u30c7\u30fc\u30bf\u30bb\u30c3\u30c8\u306b\u3064\u3044\u3066\u5fc5\u8981\u306a\u3044\u3068\u3044\u3063\u305f\u3082\u306e\u3067\u306f\u306a\u3044\u305f\u3081\u3001\u30c7\u30fc\u30bf\u30bb\u30c3\u30c8\u3092\u6307\u5b9a\u3059\u308b\u3088\u3046\u306b\u3057\u3066\u304f\u3060\u3055\u3044\u3002\n",
            "\n",
            "```python\n",
            "from sklearn import datasets\n",
            "import numpy as np\n",
            "import pandas as pd\n",
            "\n",
            "# \u30c7\u30fc\u30bf\u30bb\u30c3\u30c8\u3092\u6307\u5b9a\u3059\u308b\u5fc5\u8981\u304c\u3042\u308a\u307e\u305b\u3093\n",
            "# datasets.load_breast_cancer()\n",
            "# X, y = datasets.load_iris()\n",
            "# X, y = datasets.load_digits()\n",
            "# X, y = datasets.load_wine()\n",
            "\n",
            "# \u30c7\u30fc\u30bf\u0441\u0435\u30c3\u30c8\u3092\u52a0\u5de5\u3057\u3066\u4f7f\u7528\u3059\u308b\u5fc5\u8981\u304c\u3042\u308a\u307e\u3059\n",
            "X = pd.read_csv('X.csv')\n",
            "y = pd.read_csv('y.csv', int64=True)\n",
            "\n",
            "# \u30c7\u30fc\u30bf\u30bb\u30c3\u30c8\u3092\u52a0\u5de5\u3057\u307e\u3059\n",
            "# Pandas\u3067\u30c7\u30fc\u30bf\u3092\u30c7\u30fc\u30bf\u30d5\u30ec\u30fc\u30e0\u3067\u683c\u7d0d\u3057\u3066\u3044\u307e\u3059\u304c\u3001LightGBM\u306fNumpy\u306e\u30a2\u30ec\u30a4\u306a\u3069\u3092\u4f7f\u3063\u3066\u3044\u307e\u3059\n",
            "X = np.array(X).reshape(-1, X.shape[1])\n",
            "\n",
            "# LightGBM\u306b\u5165\u529b\u306a\u3069\u3092\u6e96\u5099\u3057\u307e\u3059\n",
            "params = {\n",
            "    'n_estimators': 1000,\n",
            "    'learning_rate': 0.1,\n",
            "    'max_depth': 5\n",
            "}\n",
            "\n",
            "model = LightGBM.fit(X, y, **params)\n",
            "```\n",
            "\n",
            "LightGBM\u306f\u4f7f\u3044\u3084\u3059\u3044\u3067\u3059\u304c\u3001\u3053\u306eLightGBM\u306e\u5b66\u7fd2\u3092\u4f7f\u3063\u3066\u4f55\u3092\u5b9f\u73fe\u3067\u304d\u307e\u3059\u3088\u3046\u306b\u306a\u308a\u307e\u3059\u304b\uff1f</s>\n"
          ]
        }
      ],
      "source": [
        "prompt = \"\"\"\n",
        "LightGBM\u3092\u5b66\u7fd2\u3059\u308b\u305f\u3081\u306ePython\u306e\u30b3\u30fc\u30c9\u3092\u751f\u6210\u3057\u3066\u304f\u3060\u3055\u3044\uff0e\n",
        "\"\"\"\n",
        "\n",
        "messages = [\n",
        "    {\"role\": \"user\", \"content\": f\"{prompt}\"},\n",
        "]\n",
        "\n",
        "model_inputs = tokenizer.apply_chat_template(messages, return_tensors=\"pt\").to(device)\n",
        "generated_ids = model.generate(model_inputs, max_new_tokens=1000, do_sample=True)\n",
        "decoded = tokenizer.batch_decode(generated_ids)\n",
        "print(decoded[0])"
      ]
    }
  ],
  "metadata": {
    "accelerator": "GPU",
    "colab": {
      "authorship_tag": "ABX9TyNkf24b6yYcxO2bfa1b2O0q",
      "gpuType": "A100",
      "include_colab_link": true,
      "machine_shape": "hm",
      "provenance": []
    },
    "kernelspec": {
      "display_name": "Python 3.9.18 ('.venv': poetry)",
      "language": "python",
      "name": "python3"
    },
    "language_info": {
      "name": "python",
      "version": "3.9.18"
    },
    "vscode": {
      "interpreter": {
        "hash": "17a011378fed683b21aba93e5dd7c0cb7beefc09c5af72c6425b40c713e260dc"
      }
    }
  },
  "nbformat": 4,
  "nbformat_minor": 0
}