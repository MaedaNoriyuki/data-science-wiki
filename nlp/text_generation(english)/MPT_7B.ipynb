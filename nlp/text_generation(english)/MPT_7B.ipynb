{
  "cells": [
    {
      "cell_type": "markdown",
      "metadata": {
        "id": "56AHmCoXS8d7"
      },
      "source": [
        "# MPT-7B\n",
        "\n",
        "\n"
      ]
    },
    {
      "cell_type": "markdown",
      "metadata": {},
      "source": [
        "* https://huggingface.co/mosaicml/mpt-7b"
      ]
    },
    {
      "cell_type": "markdown",
      "metadata": {
        "colab_type": "text",
        "id": "view-in-github"
      },
      "source": [
        "<a href=\"https://colab.research.google.com/github/fuyu-quant/data-science/blob/main/Natural_Language_processing/llm/MPT_7B.ipynb\" target=\"_parent\"><img src=\"https://colab.research.google.com/assets/colab-badge.svg\" alt=\"Open In Colab\"/></a>"
      ]
    },
    {
      "cell_type": "code",
      "execution_count": null,
      "metadata": {
        "colab": {
          "base_uri": "https://localhost:8080/"
        },
        "id": "TE3SktghM50N",
        "outputId": "176dbb5c-fae5-4151-ec75-e0226d7e6c5a"
      },
      "outputs": [],
      "source": [
        "%%capture\n",
        "!pip install transformers\n",
        "!pip install einops"
      ]
    },
    {
      "cell_type": "code",
      "execution_count": null,
      "metadata": {
        "colab": {
          "base_uri": "https://localhost:8080/",
          "height": 620,
          "referenced_widgets": [
            "48118f21daef49a0800f8c4702ac2aa7",
            "430e1d1d3bdd40f59ddb5e692feaf405",
            "8313b0fc0337469ca34964c3595e36e6",
            "2a0bf1e800784303a04f10ab29a49972",
            "1ea6ae4c779540c5ae1bea66ec696b00",
            "a3787f193fa44bd69a4d654916a9c1fe",
            "ee829a7473f0455d93bfbe1ad5b315d3",
            "ff752d8dd53e43b5bee7d5786c0cd70d",
            "4c5ff635c63b4f5d971c19c489443f9c",
            "2ebee5816359426d895866001817fbd9",
            "92151e73aafa4d36a079d6e125fd6c1c",
            "2bb885daff374ef28e1954ac2ab4c18c",
            "0fd17b1cf0b24153ae24e335dc6d2cf0",
            "d7363d4a2a094990a26ae2a263b4d701",
            "52cf76036c224914b257872dd6f77ef2",
            "87f30df5fba846c798a6d51d62729055",
            "02e6f919998a492faee43698238dad55",
            "f3c884696a324c06885d789a68b1cfdc",
            "821bef2e59ce4a4a848baca040c5c198",
            "ef1b210c76964782bbf8164fa2697f9f",
            "adf1bce4184a461b97cdec7049d64c2d",
            "2fc6e97d950c48c4abf08b9a4a6654b6",
            "be7be7044631482cb44a13acefa5f1c4",
            "6059fda008264cda813c7b3f7a92a2aa",
            "8397dddb1120452380b2ec50e37552bb",
            "4a32d73a2ef24e7a8a797e57334a4805",
            "ea660ec19cb849ce92bac16e4c83fbcc",
            "eb9335a3cbee41f6a52d23b22dad4490",
            "865ac4c129854be18f9cb6cc937fa771",
            "9c88e3b30571463db69f08fb04f84479",
            "b68445f076c142158562003a82efa3b7",
            "51af859da107402b8efc00c6c293d9f8",
            "85935ea2f50a46368a83da1598c58dac",
            "7d2e46427b584037b8d2c9c552613664",
            "e01633b5440c41bba5464989c0a0b49b",
            "44eb833c959c47f79b30ad91a75f4137",
            "d25b18ff730740e9bc9bd82eb62e356e",
            "26aaa64f3b7246639042df15ca112cf9",
            "b3fb3d66d70c40e6a9cea40c0ae4a4b5",
            "f9b0f00ed01f4567b61ca6cc297cbe6b",
            "ee3461e077374486a615b751613cc68c",
            "3145ed203d6c4f67afe842af26957e40",
            "e0ad24a0ee51432aaa5b98a714dd28ec",
            "e8d7ec256f6046f2b08ab7aa425daede",
            "aa062a21e2b446158b5186a97341f871",
            "4c4b8b2f1e504611aab48461b76872a9",
            "8684adb3e7724ba9bc366be58f50ef4e",
            "52a27e9f269740279c6c988bbad41cd5",
            "b5bb74be6986406fbb8d455faf31c23f",
            "4465cb8e039941d58e9fbb4571d53bc8",
            "3fffed351a48484db1f28c03fa9187a6",
            "29d395a973634daabe973bdbc9fc8f05",
            "d42942d3a9ee4e4d90fc607b6a3584e9",
            "6b1994780b0a4e8782b6129f29cb3582",
            "9ad08c1fb3d2488ea95a88e76a6fd820",
            "ff89595c72054e37817b7fc4dfd5936b",
            "dde5cc871ff74a7eb68ceb8f5ceff4cd",
            "66971c8886ad4fa987fb73bd649a8307",
            "76ddf24a61e44e6b9619c167b5052c1b",
            "a86c4fd858e54940b0f39c3b1fa08dec",
            "93c3ecd04e3547d49399efb3a6fdc0db",
            "b2ec8ad11cd7471c9337e4d94565ec54",
            "6b3663a0bd1a43f996a8af5cd132d89b",
            "63507f72c1a246009733793f0e26338a",
            "eec19046da904341aaa8aec069f769a4",
            "9cc68c295da641698e7a9d9d209f18af",
            "97d093e3b2ad43de9db3dcf2b2e37694",
            "b866d7570918486f9b7d221f7c6fc58d",
            "a299827d9ef04cd38801457648652a3f",
            "0aba7d9cecff4f9399a3742f3e3ebb9b",
            "99049addcd67418a9b8be542421d43e8",
            "0bc3808115984ece8d2fcef88a77e294",
            "947b52c939884e6f90fdade1fd1fd799",
            "a3017904af6e44b5945edc3889b91076",
            "9929c38ea93a4c41a1b80a246e0d231c",
            "585f019a1a6e4297a444e5420aa75034",
            "bef3bad433084db7a8b1ae1083d449e5",
            "8b41a134fc8c4765aa458340684c5606",
            "a69ff9d2d5fd4964919f16d0f574eeab",
            "6c5061ccd3494d88bf04595fca01fd1b",
            "cc75a2b9f20f49dd91c4ee59c562f4bf",
            "436c94cf17d44849b35deba25df867b7",
            "a86bde17bd5e404ebcfa676c055341fd",
            "4bf42e42f88b4f959b72de463aad588a",
            "6efae4123fd04689a1f609247c5bb683",
            "3382c7567f7d4b2caa63e76a3f3cc0d2",
            "a76b2330bdc14e70bf5e65b451ae5969",
            "8084512ca4024c609aeae5548c914799",
            "e935196628324cfabbc12ab906c2380e",
            "f89d6f162056482386b7472737616888",
            "3e9353bc120841858819904a2180f477",
            "8d1e680ece124691a09f271f9f4ed730",
            "6c927d7806d2407ab771466242353d49",
            "934550eb41b042598fedb272a8e2d0da",
            "417ee7df3c0345b1ab00022cbd4908b2",
            "b1cd5c4ac07c472faf092dda503053f4",
            "314c31a920c3435591fa03748cb2cdfa",
            "6fe263ca0ba04129a80aa76ef055e646",
            "f30974ad529c452fae56a5b226fcf92d",
            "ce5eeaf5340a400dbdc0de850b94980d",
            "de27824cfec84290b277894d39a541cc",
            "8afb198d9e8b4771bc14f6977b59cbbb",
            "fd14f32885cc4a019edcd5e2ca855750",
            "7c344861e45945e289a77037e0cb88e6",
            "b339aae9d3814ff091f1e7f93688d61c",
            "cc101499da30471caf93b1712fa119a1",
            "d98425dd714645f3a858495c4b6deb47",
            "82a49d5e001b445d83cb0434747ce503",
            "3e90ff2c55774a2f9fc274d6ef1ba541",
            "db632c13f77d463d98692c6e3f31be67",
            "9cfcf1b786c448729da10ed95860d5a6",
            "a77aff92fe9342479a3c4695a1937697",
            "4c95c7a23f064fd08ad7166e3eb8cb27",
            "d16e3f27ac594efab5f9ccdc519d174c",
            "4cbd08252f3e4f27bf52650945ec2087",
            "a1b543241de54d2485601679c0ddd67b",
            "6a31832c034e4db993052317f79444da",
            "3f7036f4040f45ca9b97d67528c0fa53",
            "bc5dead901e948f980584353a3b7b686",
            "075869c23f39446cb773f8a7450927f7",
            "d0dc87dc134641008bdf24a618bca784",
            "e261773ec8404c27a08466589aae2c8e",
            "569ea7f142954b30bcdc130181dc10da",
            "a85b09e515d24bbc9a6d7e75943ef521",
            "0b3edc43f7074f808a14c9863b341bc5",
            "8e1aaee86fbf4c72a64fbb28d4811f51",
            "ec7f52dcdbb34769b4daf1c4b9b3123e",
            "19aaf06787c04323989e0baf1598f240",
            "f64e79f7b0fe4ecaa88236741ae7e389",
            "e12df78b94bc46ba9c4e36424c6bc7a0",
            "b1471b3637064c1a898e5361bfa7097f",
            "af4715fb839847ff9165384ca7447ffd",
            "8795885cc6f041c88403b98195b8e947",
            "cba7a58813f44353ac1e0cfd3edc1a1c",
            "2528d3d3c2fd48df8f05b67444c5eff1",
            "4b3870f30895462b8492a6dfb2c8d6c7",
            "b03ae53627d7454bab2aefc78af80705",
            "7fc264c146d6440aab7dba821fe6afe1",
            "cd67e3cfc2264d7097dc1f4275eed7fd",
            "4d6db3661467429e892817ef645ad7af",
            "2bcc7a1d0c59487b9e4a6c10062d1992",
            "e950c1e10484423db2160485ad01cd30",
            "123e3d5e063b4a38ad67ca98dd6348be",
            "28cecd0bcc024ab7a942d4ec6c8e8d90",
            "b04bfdc6dfb84e5eb83307ab4cd0589e",
            "3f3cf308d60b4a4e8c1bebd264de0135",
            "7e64deab803c48b0bbee7e26274ab2e8",
            "cd7eedd1bbe9457999f9dcaea02da2b4",
            "c50c2dfee62e440b97ece012ca27a515",
            "5a78755aadb345159c17a8df37f76627",
            "2b3617f480b94f4281b1bffe93f1a091",
            "30ea2f43363240a483b3f9fbc7c3d4c3",
            "736270210c3c42878ba0999ebf21ad95",
            "699d2fa2e84843e78ebbc9133afb9351",
            "4cc0fd69d3f344ddac2ac52f303f83a1",
            "e19481544fe74082811131cb68717d1c",
            "450c9491fcad495e9f1985483639d11e",
            "6632d2c82a954b2c91523c57575faec9",
            "70083dc342e34c3d8f62a1421424df6c",
            "481dc36c015a43d2baf7ca49338d0378",
            "a8fdd5ff333c49f4abc01123cf2eac1b",
            "0aee242fee0b40349047076ae74cb701",
            "344fff64a1584857947dc3a9ca2f83d6",
            "83189548bb0d4642b5f453711904be3c",
            "bcd9ea334db94b319d2aacb011984556",
            "84f6204182e845338d03b5c55014e7e5",
            "620f24d6ec374c2aa6b77b5314808946",
            "ec1ee818b61642ae993b2eca95e693aa",
            "3c9e880066774f12a6d1584044c04a5c",
            "5eba988aae7d4fd98f52b588c5cf9c09",
            "9c1a7ae1dfd74e1fba46ce0bb1f9328a",
            "0d581a2777c440459c2da78cecfeef71",
            "4ff3176125f643aea99c79012b1d2a27",
            "3834e020b4ab42b6984eebd2074b8ac7",
            "47ec28167323449dbea26f7435908c3a",
            "e34c03220e0d40498d8ea37f139aca0d"
          ]
        },
        "id": "9Dni0OXZOg_v",
        "outputId": "f582c201-facf-47df-bb32-86b34f38a70f"
      },
      "outputs": [
        {
          "data": {
            "application/vnd.jupyter.widget-view+json": {
              "model_id": "48118f21daef49a0800f8c4702ac2aa7",
              "version_major": 2,
              "version_minor": 0
            },
            "text/plain": [
              "Downloading (…)lve/main/config.json:   0%|          | 0.00/1.23k [00:00<?, ?B/s]"
            ]
          },
          "metadata": {},
          "output_type": "display_data"
        },
        {
          "name": "stderr",
          "output_type": "stream",
          "text": [
            "Explicitly passing a `revision` is encouraged when loading a configuration with custom code to ensure no malicious code has been contributed in a newer revision.\n"
          ]
        },
        {
          "data": {
            "application/vnd.jupyter.widget-view+json": {
              "model_id": "2bb885daff374ef28e1954ac2ab4c18c",
              "version_major": 2,
              "version_minor": 0
            },
            "text/plain": [
              "Downloading (…)configuration_mpt.py:   0%|          | 0.00/9.08k [00:00<?, ?B/s]"
            ]
          },
          "metadata": {},
          "output_type": "display_data"
        },
        {
          "name": "stderr",
          "output_type": "stream",
          "text": [
            "Explicitly passing a `revision` is encouraged when loading a model with custom code to ensure no malicious code has been contributed in a newer revision.\n"
          ]
        },
        {
          "data": {
            "application/vnd.jupyter.widget-view+json": {
              "model_id": "be7be7044631482cb44a13acefa5f1c4",
              "version_major": 2,
              "version_minor": 0
            },
            "text/plain": [
              "Downloading (…)main/modeling_mpt.py:   0%|          | 0.00/17.4k [00:00<?, ?B/s]"
            ]
          },
          "metadata": {},
          "output_type": "display_data"
        },
        {
          "data": {
            "application/vnd.jupyter.widget-view+json": {
              "model_id": "7d2e46427b584037b8d2c9c552613664",
              "version_major": 2,
              "version_minor": 0
            },
            "text/plain": [
              "Downloading (…)solve/main/blocks.py:   0%|          | 0.00/2.49k [00:00<?, ?B/s]"
            ]
          },
          "metadata": {},
          "output_type": "display_data"
        },
        {
          "data": {
            "application/vnd.jupyter.widget-view+json": {
              "model_id": "aa062a21e2b446158b5186a97341f871",
              "version_major": 2,
              "version_minor": 0
            },
            "text/plain": [
              "Downloading (…)resolve/main/norm.py:   0%|          | 0.00/2.56k [00:00<?, ?B/s]"
            ]
          },
          "metadata": {},
          "output_type": "display_data"
        },
        {
          "data": {
            "application/vnd.jupyter.widget-view+json": {
              "model_id": "ff89595c72054e37817b7fc4dfd5936b",
              "version_major": 2,
              "version_minor": 0
            },
            "text/plain": [
              "Downloading (…)ve/main/attention.py:   0%|          | 0.00/16.1k [00:00<?, ?B/s]"
            ]
          },
          "metadata": {},
          "output_type": "display_data"
        },
        {
          "data": {
            "application/vnd.jupyter.widget-view+json": {
              "model_id": "97d093e3b2ad43de9db3dcf2b2e37694",
              "version_major": 2,
              "version_minor": 0
            },
            "text/plain": [
              "Downloading (…)refixlm_converter.py:   0%|          | 0.00/27.2k [00:00<?, ?B/s]"
            ]
          },
          "metadata": {},
          "output_type": "display_data"
        },
        {
          "data": {
            "application/vnd.jupyter.widget-view+json": {
              "model_id": "8b41a134fc8c4765aa458340684c5606",
              "version_major": 2,
              "version_minor": 0
            },
            "text/plain": [
              "Downloading (…)meta_init_context.py:   0%|          | 0.00/3.64k [00:00<?, ?B/s]"
            ]
          },
          "metadata": {},
          "output_type": "display_data"
        },
        {
          "data": {
            "application/vnd.jupyter.widget-view+json": {
              "model_id": "e935196628324cfabbc12ab906c2380e",
              "version_major": 2,
              "version_minor": 0
            },
            "text/plain": [
              "Downloading (…)n/adapt_tokenizer.py:   0%|          | 0.00/1.75k [00:00<?, ?B/s]"
            ]
          },
          "metadata": {},
          "output_type": "display_data"
        },
        {
          "data": {
            "application/vnd.jupyter.widget-view+json": {
              "model_id": "ce5eeaf5340a400dbdc0de850b94980d",
              "version_major": 2,
              "version_minor": 0
            },
            "text/plain": [
              "Downloading (…)in/param_init_fns.py:   0%|          | 0.00/12.6k [00:00<?, ?B/s]"
            ]
          },
          "metadata": {},
          "output_type": "display_data"
        },
        {
          "data": {
            "application/vnd.jupyter.widget-view+json": {
              "model_id": "9cfcf1b786c448729da10ed95860d5a6",
              "version_major": 2,
              "version_minor": 0
            },
            "text/plain": [
              "Downloading (…)model.bin.index.json:   0%|          | 0.00/16.0k [00:00<?, ?B/s]"
            ]
          },
          "metadata": {},
          "output_type": "display_data"
        },
        {
          "data": {
            "application/vnd.jupyter.widget-view+json": {
              "model_id": "e261773ec8404c27a08466589aae2c8e",
              "version_major": 2,
              "version_minor": 0
            },
            "text/plain": [
              "Downloading shards:   0%|          | 0/2 [00:00<?, ?it/s]"
            ]
          },
          "metadata": {},
          "output_type": "display_data"
        },
        {
          "data": {
            "application/vnd.jupyter.widget-view+json": {
              "model_id": "8795885cc6f041c88403b98195b8e947",
              "version_major": 2,
              "version_minor": 0
            },
            "text/plain": [
              "Downloading (…)l-00001-of-00002.bin:   0%|          | 0.00/9.94G [00:00<?, ?B/s]"
            ]
          },
          "metadata": {},
          "output_type": "display_data"
        },
        {
          "data": {
            "application/vnd.jupyter.widget-view+json": {
              "model_id": "28cecd0bcc024ab7a942d4ec6c8e8d90",
              "version_major": 2,
              "version_minor": 0
            },
            "text/plain": [
              "Downloading (…)l-00002-of-00002.bin:   0%|          | 0.00/3.36G [00:00<?, ?B/s]"
            ]
          },
          "metadata": {},
          "output_type": "display_data"
        },
        {
          "name": "stderr",
          "output_type": "stream",
          "text": [
            "/root/.cache/huggingface/modules/transformers_modules/mosaicml/mpt-7b/d8304854d4877849c3c0a78f3469512a84419e84/attention.py:148: UserWarning: Using `attn_impl: torch`. If your model does not use `alibi` or `prefix_lm` we recommend using `attn_impl: flash` otherwise we recommend using `attn_impl: triton`.\n",
            "  warnings.warn('Using `attn_impl: torch`. If your model does not use `alibi` or ' + '`prefix_lm` we recommend using `attn_impl: flash` otherwise ' + 'we recommend using `attn_impl: triton`.')\n"
          ]
        },
        {
          "data": {
            "application/vnd.jupyter.widget-view+json": {
              "model_id": "4cc0fd69d3f344ddac2ac52f303f83a1",
              "version_major": 2,
              "version_minor": 0
            },
            "text/plain": [
              "Loading checkpoint shards:   0%|          | 0/2 [00:00<?, ?it/s]"
            ]
          },
          "metadata": {},
          "output_type": "display_data"
        },
        {
          "data": {
            "application/vnd.jupyter.widget-view+json": {
              "model_id": "84f6204182e845338d03b5c55014e7e5",
              "version_major": 2,
              "version_minor": 0
            },
            "text/plain": [
              "Downloading (…)neration_config.json:   0%|          | 0.00/91.0 [00:00<?, ?B/s]"
            ]
          },
          "metadata": {},
          "output_type": "display_data"
        }
      ],
      "source": [
        "import transformers\n",
        "model = transformers.AutoModelForCausalLM.from_pretrained(\n",
        "  'mosaicml/mpt-7b',\n",
        "  trust_remote_code=True\n",
        ")"
      ]
    },
    {
      "cell_type": "code",
      "execution_count": null,
      "metadata": {
        "colab": {
          "base_uri": "https://localhost:8080/",
          "height": 177,
          "referenced_widgets": [
            "5a862af463714c28b4f2a9d8fefdfe87",
            "84a079bc56b34e08b1f39578c1de5d1e",
            "84599a9bfd5646208fadb07a7d8f1d80",
            "c6b075e1354043d8a97966c1c5a27768",
            "442dc1fe1d3a48a7b29884af7461e2d0",
            "e812844ef25648d086665871c8a973a9",
            "20e957fbbeab480794afd8cab76a272e",
            "964eb7419d8b4b2b902014cde50ec7e8",
            "0ebe18f0f9f54db98a2af99e81a48ccc",
            "70ad281d562c4a3ba9fffe449b895e88",
            "e4dc61d0bc1d432f95d9c946736717c6",
            "c304a789a45940558fd73330ea06f6b3",
            "606dc25e1a7e42259ac97490b143d6db",
            "54b5067dcf0d4de99b0a47f28390acca",
            "8195e9cf36224408a03cd86409580749",
            "92d0ac772c9345d2ba452d1f4ac7def0",
            "1d486cf976874b9a80e82314dce6f28b",
            "1569f08df252416eb22ad3e3604f51c0",
            "4378ed35660b473ab03e836b9b96967f",
            "18f5ad7737794a3b8a101ddaa9d77054",
            "9fa6f5f4791d4c49a3e85f47cd2d002d",
            "76ef770983c04a0c81582e3c551a0d7e",
            "df4dfa3996c74e7184acb89c9e09ef12",
            "1bf267f4546c4b80ad4382710e6f8e46",
            "4970fba4fdf14b3cacf7e6f49e0e3a23",
            "9d1a49116dbc4451a546bdd30bc66ce5",
            "f9168f067caf44dcb423e27e6a4c5f61",
            "1c0ae50673d04c65b30dd845a2f6c85f",
            "e2b4bfdef6cd4cdeb98df8a4698bf39a",
            "36f16eeb43b940a794b87cd5c0f144a5",
            "db41c211c1214ccdafba7e45663b4b9e",
            "7c29932a5b434229a15a1570813533c9",
            "92c14e9cc70045cdbf85d01b478110de",
            "d141b72bde3d4360a19bf323d38343c3",
            "00b71daf82c749918c57bcff41771d0d",
            "230a7ce9ad7e424f81ad4e86e0c14ce9",
            "73596cc99ba24bf4a04b3bd548597a19",
            "4720fe3592fb4f0ab4ee8701b21b3041",
            "e75abae17eb24cd1bf4c4051746808d9",
            "28a94ae30bc044a0a487c851d500328f",
            "44a5c9cc0e6d483abb42473e836d91ef",
            "7036c8ed34ef43e3b733ca832d2b2919",
            "40351199eed5409c9b7f66b9359d19d6",
            "ef6f247859d7454c8f84b946aea7a60c",
            "b0567e8db9bd46718678553e250bc87f",
            "14d13629b2f44ba787e6e04eaa69ec33",
            "56b65011854b45e58e1112ad89210916",
            "168531c2bd9c4a54b7130cb20595035f",
            "0b04811271884cc1b2843a4d3b8f90cd",
            "9fd339390da241459fa92966b05b8e02",
            "15273a48d55b4ebb82c51a1335cd6dcb",
            "d3150bcf7529496382444b7e11c98711",
            "16b93343307045b7bba55e36582b96c4",
            "9766c284c2cb4fbea7e657547a0c622d",
            "58f58761b7184b459b3724be91c6a755"
          ]
        },
        "id": "qzLSm4OyPF_6",
        "outputId": "d5d7d7af-dc63-4917-ffba-baa2b562a2e9"
      },
      "outputs": [
        {
          "data": {
            "application/vnd.jupyter.widget-view+json": {
              "model_id": "5a862af463714c28b4f2a9d8fefdfe87",
              "version_major": 2,
              "version_minor": 0
            },
            "text/plain": [
              "Downloading (…)okenizer_config.json:   0%|          | 0.00/156 [00:00<?, ?B/s]"
            ]
          },
          "metadata": {},
          "output_type": "display_data"
        },
        {
          "data": {
            "application/vnd.jupyter.widget-view+json": {
              "model_id": "c304a789a45940558fd73330ea06f6b3",
              "version_major": 2,
              "version_minor": 0
            },
            "text/plain": [
              "Downloading (…)olve/main/vocab.json:   0%|          | 0.00/1.08M [00:00<?, ?B/s]"
            ]
          },
          "metadata": {},
          "output_type": "display_data"
        },
        {
          "data": {
            "application/vnd.jupyter.widget-view+json": {
              "model_id": "df4dfa3996c74e7184acb89c9e09ef12",
              "version_major": 2,
              "version_minor": 0
            },
            "text/plain": [
              "Downloading (…)olve/main/merges.txt:   0%|          | 0.00/457k [00:00<?, ?B/s]"
            ]
          },
          "metadata": {},
          "output_type": "display_data"
        },
        {
          "data": {
            "application/vnd.jupyter.widget-view+json": {
              "model_id": "d141b72bde3d4360a19bf323d38343c3",
              "version_major": 2,
              "version_minor": 0
            },
            "text/plain": [
              "Downloading (…)/main/tokenizer.json:   0%|          | 0.00/2.11M [00:00<?, ?B/s]"
            ]
          },
          "metadata": {},
          "output_type": "display_data"
        },
        {
          "data": {
            "application/vnd.jupyter.widget-view+json": {
              "model_id": "b0567e8db9bd46718678553e250bc87f",
              "version_major": 2,
              "version_minor": 0
            },
            "text/plain": [
              "Downloading (…)cial_tokens_map.json:   0%|          | 0.00/90.0 [00:00<?, ?B/s]"
            ]
          },
          "metadata": {},
          "output_type": "display_data"
        }
      ],
      "source": [
        "from transformers import AutoTokenizer\n",
        "tokenizer = AutoTokenizer.from_pretrained(\"EleutherAI/gpt-neox-20b\")\n"
      ]
    },
    {
      "cell_type": "code",
      "execution_count": null,
      "metadata": {
        "colab": {
          "base_uri": "https://localhost:8080/"
        },
        "id": "GMJtoNDUOlRv",
        "outputId": "499b125a-3cc5-4c11-b8c0-c48dac82d067"
      },
      "outputs": [
        {
          "data": {
            "text/plain": [
              "MPTForCausalLM(\n",
              "  (transformer): MPTModel(\n",
              "    (wte): Embedding(50432, 4096)\n",
              "    (emb_drop): Dropout(p=0, inplace=False)\n",
              "    (blocks): ModuleList(\n",
              "      (0-31): 32 x MPTBlock(\n",
              "        (norm_1): LPLayerNorm((4096,), eps=1e-05, elementwise_affine=True)\n",
              "        (attn): MultiheadAttention(\n",
              "          (Wqkv): Linear(in_features=4096, out_features=12288, bias=False)\n",
              "          (out_proj): Linear(in_features=4096, out_features=4096, bias=False)\n",
              "        )\n",
              "        (norm_2): LPLayerNorm((4096,), eps=1e-05, elementwise_affine=True)\n",
              "        (ffn): MPTMLP(\n",
              "          (up_proj): Linear(in_features=4096, out_features=16384, bias=False)\n",
              "          (act): GELU(approximate='none')\n",
              "          (down_proj): Linear(in_features=16384, out_features=4096, bias=False)\n",
              "        )\n",
              "        (resid_attn_dropout): Dropout(p=0, inplace=False)\n",
              "        (resid_ffn_dropout): Dropout(p=0, inplace=False)\n",
              "      )\n",
              "    )\n",
              "    (norm_f): LPLayerNorm((4096,), eps=1e-05, elementwise_affine=True)\n",
              "  )\n",
              ")"
            ]
          },
          "execution_count": 6,
          "metadata": {},
          "output_type": "execute_result"
        }
      ],
      "source": [
        "model.to(device='cpu')"
      ]
    },
    {
      "cell_type": "code",
      "execution_count": null,
      "metadata": {
        "colab": {
          "base_uri": "https://localhost:8080/"
        },
        "id": "J4TtWgk4PXC6",
        "outputId": "696728bf-a3b2-4ff6-c4ef-9fe9155348ca"
      },
      "outputs": [
        {
          "name": "stdout",
          "output_type": "stream",
          "text": [
            "output :  Data warehouse and data lake are different.\n",
            "Data warehouse is a place where we store data.\n",
            "Data lake is a place where we store data.\n",
            "Data warehouse is a place where we store data. Data lake is a place where we store data.\n",
            "Data warehouse is a place where we store data. Data lake is a place where we store data.\n",
            "Data warehouse is a place where we store data. Data lake is a place where we store data. Data warehouse is a place where we store data. Data lake is a place where we store data.\n",
            "Data warehouse is a place where we store data. Data lake is a\n"
          ]
        }
      ],
      "source": [
        "prompt = \"データウェアハウスとデータレイクの違いは。\"\n",
        "\n",
        "# 推論の実行\n",
        "inputs = tokenizer(prompt, return_tensors='pt')\n",
        "input_length = inputs.input_ids.shape[1]\n",
        "outputs = model.generate(\n",
        "    **inputs, \n",
        "    max_new_tokens=128, \n",
        "    do_sample=True, \n",
        "    temperature=0.7, \n",
        "    top_p=0.7, \n",
        "    top_k=50, \n",
        "    return_dict_in_generate=True\n",
        ")\n",
        "token = outputs.sequences[0, input_length:]\n",
        "output_str = tokenizer.decode(token)\n",
        "\n",
        "# 確認\n",
        "print(\"output :\", output_str)"
      ]
    },
    {
      "cell_type": "code",
      "execution_count": null,
      "metadata": {
        "id": "BPu62ZYcPm4p"
      },
      "outputs": [],
      "source": []
    }
  ],
  "metadata": {
    "accelerator": "GPU",
    "colab": {
      "authorship_tag": "ABX9TyPJ2rbAh/fEYeWuwEChfYpN",
      "gpuType": "V100",
      "include_colab_link": true,
      "machine_shape": "hm",
      "provenance": []
    },
    "gpuClass": "standard",
    "kernelspec": {
      "display_name": "Python 3.9.18 ('.venv': poetry)",
      "language": "python",
      "name": "python3"
    },
    "language_info": {
      "name": "python",
      "version": "3.9.18"
    },
    "vscode": {
      "interpreter": {
        "hash": "17a011378fed683b21aba93e5dd7c0cb7beefc09c5af72c6425b40c713e260dc"
      }
    }
  },
  "nbformat": 4,
  "nbformat_minor": 0
}
