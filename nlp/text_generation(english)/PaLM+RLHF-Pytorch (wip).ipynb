{
 "cells": [
  {
   "cell_type": "markdown",
   "id": "f7abfce0-eedf-41a3-8b4a-ad819816b95a",
   "metadata": {},
   "source": [
    "# PaLM + RLHF - Pytorch (wip)\n",
    "* https://github.com/lucidrains/PaLM-rlhf-pytorch\n",
    "* ChatGPTに相当するようなモデル"
   ]
  },
  {
   "cell_type": "code",
   "execution_count": null,
   "id": "047fc4de-37e8-4040-97ff-45fa6884ea60",
   "metadata": {},
   "outputs": [],
   "source": []
  }
 ],
 "metadata": {
  "kernelspec": {
   "display_name": "Python 3 (ipykernel)",
   "language": "python",
   "name": "python3"
  },
  "language_info": {
   "codemirror_mode": {
    "name": "ipython",
    "version": 3
   },
   "file_extension": ".py",
   "mimetype": "text/x-python",
   "name": "python",
   "nbconvert_exporter": "python",
   "pygments_lexer": "ipython3",
   "version": "3.9.7"
  }
 },
 "nbformat": 4,
 "nbformat_minor": 5
}
