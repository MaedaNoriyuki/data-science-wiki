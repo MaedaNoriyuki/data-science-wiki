{
  "cells": [
    {
      "cell_type": "markdown",
      "metadata": {
        "id": "6ryQESUBYMz_"
      },
      "source": [
        "# Algorithm of Thoughts"
      ]
    },
    {
      "cell_type": "markdown",
      "metadata": {},
      "source": []
    },
    {
      "cell_type": "markdown",
      "metadata": {
        "id": "ZvlRTZ78YaPi"
      },
      "source": [
        "Github\n",
        "* https://github.com/kyegomez/Algorithm-Of-Thoughts/tree/main"
      ]
    },
    {
      "cell_type": "markdown",
      "metadata": {
        "colab_type": "text",
        "id": "view-in-github"
      },
      "source": [
        "<a href=\"https://colab.research.google.com/github/fuyu-quant/data-science-wiki/blob/develop/nlp/llm_framework/algorithm_of_thoughts.ipynb\" target=\"_blank\" rel=\"noopener noreferrer\"><img src=\"https://colab.research.google.com/assets/colab-badge.svg\" alt=\"Open In Colab\"/></a>"
      ]
    },
    {
      "cell_type": "code",
      "execution_count": null,
      "metadata": {
        "id": "9gi9yefQVYI3"
      },
      "outputs": [],
      "source": [
        "%%capture\n",
        "!pip install aot-x"
      ]
    },
    {
      "cell_type": "code",
      "execution_count": null,
      "metadata": {
        "id": "4NELSAWQYgU8"
      },
      "outputs": [],
      "source": [
        "from aot.main import AoT"
      ]
    },
    {
      "cell_type": "markdown",
      "metadata": {
        "id": "An_vBFfgYvHy"
      },
      "source": [
        "### タスクの設定"
      ]
    },
    {
      "cell_type": "code",
      "execution_count": null,
      "metadata": {
        "id": "8yXY55ORYqB0"
      },
      "outputs": [],
      "source": [
        "task = \"\"\"\n",
        "\n",
        "Use numbers and basic arithmetic operations (+ - * /) to obtain 24. When\n",
        "considering the next steps, do not choose operations that will result in a\n",
        "negative or fractional number. In order to help with the calculations, the\n",
        "numbers in the parenthesis represent the numbers that are left after the\n",
        "operations and they are in descending order.\n",
        "Another thing we do is when there are only two numbers left in the parenthesis, we\n",
        "check whether we can arrive at 24 only by using basic arithmetic operations\n",
        "(+ - * /). Some examples regarding this idea:\n",
        "(21 2) no\n",
        "since 21 + 2 = 23, 21 - 2 = 19, 21 * 2 = 42, 21 / 2 = 10.5, none of which is equal\n",
        "to 24.\n",
        "(30 6) 30 - 6 = 24 yes\n",
        "(8 3) 8 * 3 = 24 yes\n",
        "(12 8) no\n",
        "(48 2) 48 / 2 = 24 yes\n",
        "Most importantly, do not give up, all the numbers that will be given has indeed a\n",
        "solution.\n",
        "\n",
        "14 8 8 2\n",
        "\n",
        "OBJECTIVE\n",
        "#########\n",
        "5 10 5 2\n",
        "\"\"\""
      ]
    },
    {
      "cell_type": "markdown",
      "metadata": {
        "id": "ez3gS4B-Yt1O"
      },
      "source": [
        "### Algorithm of Thoughts"
      ]
    },
    {
      "cell_type": "code",
      "execution_count": 7,
      "metadata": {
        "colab": {
          "base_uri": "https://localhost:8080/"
        },
        "id": "rhMJU2QIVdAt",
        "outputId": "96aa8a4a-a9dc-416f-d929-4ecdb646b33f"
      },
      "outputs": [
        {
          "name": "stdout",
          "output_type": "stream",
          "text": [
            "Using api_model text-davinci-003\n",
            "New state generating thought: \n",
            "\n",
            "Use numbers and basic arithmetic operations (+ - * /) to obtain 24. When\n",
            "considering the next steps, do not choose operations that will result in a\n",
            "negative or fractional number. In order to help with the calculations, the\n",
            "numbers in the parenthesis represent the numbers that are left after the\n",
            "operations and they are in descending order.\n",
            "Another thing we do is when there are only two numbers left in the parenthesis, we\n",
            "check whether we can arrive at 24 only by using basic arithmetic operations\n",
            "(+ - * /). Some examples regarding this idea:\n",
            "(21 2) no\n",
            "since 21 + 2 = 23, 21 - 2 = 19, 21 * 2 = 42, 21 / 2 = 10.5, none of which is equal\n",
            "to 24.\n",
            "(30 6) 30 - 6 = 24 yes\n",
            "(8 3) 8 * 3 = 24 yes\n",
            "(12 8) no\n",
            "(48 2) 48 / 2 = 24 yes\n",
            "Most importantly, do not give up, all the numbers that will be given has indeed a\n",
            "solution.\n",
            "\n",
            "14 8 8 2\n",
            "\n",
            "OBJECTIVE\n",
            "#########\n",
            "5 10 5 2\n",
            " \n",
            "\n",
            "\n",
            "We receive a state of type <class 'str'> For state:  1. Start with the numbers given (14 8 8 2). \n",
            "2. Check if the numbers can be combined to make 24 using the basic arithmetic operations (+ - * /). \n",
            "3. If not, decompose the numbers into smaller parts. \n",
            "4. For the first number (14), subtract 8 from it (14 - 8 = 6). \n",
            "5. For the second number (8), subtract 2 from it (8 - 2 = 6). \n",
            "6. For the third number (8), subtract 2 from it (8 - 2 = 6). \n",
            "7. For the fourth number (2), subtract 2 from it (2 - 2 = 0). \n",
            "8. Now the numbers are (6 6 6 0). \n",
            "9. Check if the numbers can be combined to make 24 using the basic arithmetic operations (+ - * /). \n",
            "10. If not, decompose the numbers into smaller parts. \n",
            "11. For the first number (6), add 1 to it (6 + 1 = 7). \n",
            "12. For the second number (6), add 1 to it (6 + 1 = 7). \n",
            "13. For the third number (6), add 1 to it (6 + 1 = 7). \n",
            "14. For the fourth number (0), add 1 to it (0 + 1 = 1). \n",
            "15. Now the numbers are (7 7 7 1). \n",
            "16. \n",
            "\n",
            "\n",
            "Evaluated Thought Value: 0.75\n",
            "We receive a state of type <class 'str'> For state:  1. Start with the given numbers (14 8 8 2)\n",
            "\n",
            "2. Apply basic arithmetic operations (+ - * /) to obtain 24\n",
            "\n",
            "3. Do not choose operations that will result in a negative or fractional number\n",
            "\n",
            "4. When there are only two numbers left in the parenthesis, check whether we can arrive at 24 only by using basic arithmetic operations\n",
            "\n",
            "5. Start the search process (14 8 8 2)\n",
            "\n",
            "6. First operations:\n",
            "    6.1. 14 + 8 = 22 (22 8 2)\n",
            "    6.2. 14 - 8 = 6  (6 8 8 2)\n",
            "    6.3. 14 * 8 = 112 (112 8 2)\n",
            "    6.4. 14 / 8 = 1.75 (1.75 8 8 2)\n",
            "\n",
            "7. Second operations:\n",
            "    7.1. 22 + 8 = 30 (30 2) \n",
            "        7.1.1. 30 - 2 = 28 (28)\n",
            "            7.1.1.1. 28 + 0 = 28 (not 24)\n",
            "            7.1.1.2. 28 - 0 = 28 (not 24)\n",
            "            7.1.1.3. 28 * 0 = 0 (not 24)\n",
            "            7.1.1.4. 28 / 0 = not possible (not 24)\n",
            "        7.1.2. 30 - 0 = 30 (not \n",
            "\n",
            "\n"
          ]
        },
        {
          "name": "stderr",
          "output_type": "stream",
          "text": [
            "ERROR:aot.main:No valid thoughts were generated during DFS\n"
          ]
        },
        {
          "name": "stdout",
          "output_type": "stream",
          "text": [
            "Evaluated Thought Value: 0.3\n",
            "filtered_thoughts: ['1. Start with the numbers given (14 8 8 2). \\n2. Check if the numbers can be combined to make 24 using the basic arithmetic operations (+ - * /). \\n3. If not, decompose the numbers into smaller parts. \\n4. For the first number (14), subtract 8 from it (14 - 8 = 6). \\n5. For the second number (8), subtract 2 from it (8 - 2 = 6). \\n6. For the third number (8), subtract 2 from it (8 - 2 = 6). \\n7. For the fourth number (2), subtract 2 from it (2 - 2 = 0). \\n8. Now the numbers are (6 6 6 0). \\n9. Check if the numbers can be combined to make 24 using the basic arithmetic operations (+ - * /). \\n10. If not, decompose the numbers into smaller parts. \\n11. For the first number (6), add 1 to it (6 + 1 = 7). \\n12. For the second number (6), add 1 to it (6 + 1 = 7). \\n13. For the third number (6), add 1 to it (6 + 1 = 7). \\n14. For the fourth number (0), add 1 to it (0 + 1 = 1). \\n15. Now the numbers are (7 7 7 1). \\n16.']\n",
            "None\n"
          ]
        }
      ],
      "source": [
        "dfs = AoT(\n",
        "    num_thoughts=2,\n",
        "    max_steps=10,\n",
        "    value_threshold=1,\n",
        "    initial_prompt=task,\n",
        "    # 以下にOpenAIのAPIkeyを入力してください\n",
        "    openai_api_key=\"\"\n",
        ")\n",
        "\n",
        "result = dfs.solve()\n",
        "print(result)"
      ]
    },
    {
      "cell_type": "code",
      "execution_count": null,
      "metadata": {
        "id": "oE1tXuFmXDuN"
      },
      "outputs": [],
      "source": []
    }
  ],
  "metadata": {
    "colab": {
      "authorship_tag": "ABX9TyNclS3oRvmxeF/ihiAX5qmV",
      "include_colab_link": true,
      "provenance": []
    },
    "kernelspec": {
      "display_name": "Python 3",
      "name": "python3"
    },
    "language_info": {
      "name": "python"
    }
  },
  "nbformat": 4,
  "nbformat_minor": 0
}
