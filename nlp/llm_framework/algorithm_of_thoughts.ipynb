{
 "cells": [
  {
   "cell_type": "markdown",
   "metadata": {},
   "source": [
    "# Algorithm-Of-Thoughts"
   ]
  },
  {
   "cell_type": "markdown",
   "metadata": {},
   "source": [
    "* https://github.com/kyegomez/Algorithm-Of-Thoughts"
   ]
  },
  {
   "cell_type": "markdown",
   "metadata": {},
   "source": [
    "[![Open In Colab](https://colab.research.google.com/assets/colab-badge.svg)](https://colab.research.google.com/github/fuyu-quant/data-science-wiki/blob/main/nlp/llm_framework/tree_of_thought.ipynb)"
   ]
  },
  {
   "cell_type": "code",
   "execution_count": null,
   "metadata": {},
   "outputs": [],
   "source": [
    "%%capture\n",
    "!pip install aot-x"
   ]
  },
  {
   "cell_type": "code",
   "execution_count": 1,
   "metadata": {},
   "outputs": [
    {
     "ename": "ModuleNotFoundError",
     "evalue": "No module named 'aot'",
     "output_type": "error",
     "traceback": [
      "\u001b[0;31m---------------------------------------------------------------------------\u001b[0m",
      "\u001b[0;31mModuleNotFoundError\u001b[0m                       Traceback (most recent call last)",
      "Cell \u001b[0;32mIn[1], line 1\u001b[0m\n\u001b[0;32m----> 1\u001b[0m \u001b[38;5;28;01mfrom\u001b[39;00m \u001b[38;5;21;01maot\u001b[39;00m\u001b[38;5;21;01m.\u001b[39;00m\u001b[38;5;21;01mmain\u001b[39;00m \u001b[38;5;28;01mimport\u001b[39;00m AoT\n",
      "\u001b[0;31mModuleNotFoundError\u001b[0m: No module named 'aot'"
     ]
    }
   ],
   "source": [
    "from aot.main import AoT"
   ]
  },
  {
   "cell_type": "code",
   "execution_count": null,
   "metadata": {},
   "outputs": [],
   "source": [
    "task = \"\"\"\n",
    "\n",
    "Use numbers and basic arithmetic operations (+ - * /) to obtain 24. When \n",
    "considering the next steps, do not choose operations that will result in a\n",
    "negative or fractional number. In order to help with the calculations, the\n",
    "numbers in the parenthesis represent the numbers that are left after the\n",
    "operations and they are in descending order.\n",
    "Another thing we do is when there are only two numbers left in the parenthesis, we\n",
    "check whether we can arrive at 24 only by using basic arithmetic operations\n",
    "(+ - * /). Some examples regarding this idea:\n",
    "(21 2) no\n",
    "since 21 + 2 = 23, 21 - 2 = 19, 21 * 2 = 42, 21 / 2 = 10.5, none of which is equal\n",
    "to 24.\n",
    "(30 6) 30 - 6 = 24 yes\n",
    "(8 3) 8 * 3 = 24 yes\n",
    "(12 8) no\n",
    "(48 2) 48 / 2 = 24 yes\n",
    "Most importantly, do not give up, all the numbers that will be given has indeed a\n",
    "solution.\n",
    "\n",
    "14 8 8 2\n",
    "\n",
    "OBJECTIVE\n",
    "#########\n",
    "5 10 5 2\n",
    "\"\"\""
   ]
  },
  {
   "cell_type": "code",
   "execution_count": null,
   "metadata": {},
   "outputs": [],
   "source": [
    "dfs = AoT(\n",
    "    num_thoughts=2,\n",
    "    max_steps=10, \n",
    "    value_threshold=1,\n",
    "    initial_prompt=task,\n",
    "    openai_api_key=\"ENETER IN YOUR API KEY\"\n",
    ")"
   ]
  }
 ],
 "metadata": {
  "kernelspec": {
   "display_name": "Python 3.9.18 ('.venv': poetry)",
   "language": "python",
   "name": "python3"
  },
  "language_info": {
   "codemirror_mode": {
    "name": "ipython",
    "version": 3
   },
   "file_extension": ".py",
   "mimetype": "text/x-python",
   "name": "python",
   "nbconvert_exporter": "python",
   "pygments_lexer": "ipython3",
   "version": "3.9.18"
  },
  "orig_nbformat": 4,
  "vscode": {
   "interpreter": {
    "hash": "17a011378fed683b21aba93e5dd7c0cb7beefc09c5af72c6425b40c713e260dc"
   }
  }
 },
 "nbformat": 4,
 "nbformat_minor": 2
}
