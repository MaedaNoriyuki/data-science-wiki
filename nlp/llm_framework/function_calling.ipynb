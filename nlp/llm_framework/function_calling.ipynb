{
 "cells": [
  {
   "cell_type": "markdown",
   "metadata": {},
   "source": [
    "# Function Calling"
   ]
  },
  {
   "cell_type": "markdown",
   "metadata": {},
   "source": [
    "(現在調整中)OpenAIが提供するAssistant APIのうちの一つの機能．関数のレスポンスを取得し回答を出力する．\n",
    "- ドキュメント:https://platform.openai.com/docs/assistants/tools/function-calling\n",
    "- 参考:https://note.com/npaka/n/nc3713dba5df6"
   ]
  },
  {
   "cell_type": "markdown",
   "metadata": {},
   "source": [
    "<a href=\"https://colab.research.google.com/github/fuyu-quant/data-science-wiki/blob/main/nlp/llm_framework/function_calling.ipynb\" target=\"_blank\" rel=\"noopener noreferrer\"><img src=\"https://colab.research.google.com/assets/colab-badge.svg\" alt=\"Open In Colab\"/></a>"
   ]
  },
  {
   "cell_type": "code",
   "execution_count": null,
   "metadata": {},
   "outputs": [],
   "source": [
    "%%capture\n",
    "!pip install openai"
   ]
  },
  {
   "cell_type": "code",
   "execution_count": 2,
   "metadata": {},
   "outputs": [],
   "source": [
    "from openai import OpenAI\n",
    "import os\n",
    "import json\n",
    "\n",
    "client = OpenAI()\n",
    "\n",
    "#os.environ[\"OPENAI_API_KEY\"] = \"YOUR_API_KEY\"\n"
   ]
  },
  {
   "cell_type": "markdown",
   "metadata": {},
   "source": [
    "### 入力の設定"
   ]
  },
  {
   "cell_type": "code",
   "execution_count": 3,
   "metadata": {},
   "outputs": [],
   "source": [
    "instruction = \"あなたはお天気ボットです。 提供されている関数を使用して質問に答えます。\"\n",
    "model = \"gpt-4-1106-preview\"\n",
    "content = \"群馬県の現在の気温を教えてください。\"\n",
    "\n",
    "# 関数の名前と説明文を定義\n",
    "function_name = \"getCurrentTemperature\"\n",
    "function_description = \"特定の場所の現在の気温を取得\"\n"
   ]
  },
  {
   "cell_type": "code",
   "execution_count": 4,
   "metadata": {},
   "outputs": [],
   "source": [
    "assistant = client.beta.assistants.create(\n",
    "    instructions = instruction,\n",
    "    model = model,\n",
    "    tools=[{\n",
    "        \"type\": \"function\",\n",
    "        \"function\": {\n",
    "            \"name\": function_name,\n",
    "            \"description\": function_description,\n",
    "            \"parameters\": {\n",
    "                \"type\": \"object\",\n",
    "                \"properties\": {\n",
    "                    \"location\": {\"type\": \"string\", \"description\": \"場所 (例:東京)\"},\n",
    "                    \"unit\": {\"type\": \"string\", \"enum\": [\"c\", \"f\"]}\n",
    "                },\n",
    "                \"required\": [\"location\"]\n",
    "            }\n",
    "        }\n",
    "    }]\n",
    ")\n",
    "\n",
    "# スレッドの準備\n",
    "thread = client.beta.threads.create()\n",
    "\n",
    "\n",
    "# メッセージの追加\n",
    "message = client.beta.threads.messages.create(\n",
    "    thread_id=thread.id,\n",
    "    role=\"user\",\n",
    "    content = content\n",
    ")\n",
    "\n"
   ]
  },
  {
   "cell_type": "code",
   "execution_count": 5,
   "metadata": {},
   "outputs": [
    {
     "name": "stdout",
     "output_type": "stream",
     "text": [
      "user : 群馬県の現在の気温を教えてください。\n"
     ]
    }
   ],
   "source": [
    "messages = client.beta.threads.messages.list(\n",
    "    thread_id=thread.id,\n",
    "    order=\"asc\"\n",
    ")\n",
    "for message in messages:\n",
    "    print(message.role, \":\", message.content[0].text.value)\n"
   ]
  },
  {
   "cell_type": "markdown",
   "metadata": {},
   "source": [
    "### Function Callingの実行"
   ]
  },
  {
   "cell_type": "code",
   "execution_count": 6,
   "metadata": {},
   "outputs": [
    {
     "name": "stdout",
     "output_type": "stream",
     "text": [
      "in_progress\n"
     ]
    }
   ],
   "source": [
    "# Function Callingの実行\n",
    "run = client.beta.threads.runs.create(thread_id=thread.id, assistant_id=assistant.id)\n",
    "\n",
    "# Function Callingの準備状態の確認\n",
    "# 「in_progress」状態であれば関数の実行結果を受け取れる\n",
    "run = client.beta.threads.runs.retrieve(thread_id=thread.id, run_id=run.id)\n",
    "print(run.status)\n"
   ]
  },
  {
   "cell_type": "markdown",
   "metadata": {},
   "source": [
    "### 関数の実行結果として何を渡せばいいかを確認\n",
    "* ここでは「location」と「uint」を渡せばいいことが分かる"
   ]
  },
  {
   "cell_type": "code",
   "execution_count": 7,
   "metadata": {},
   "outputs": [
    {
     "ename": "AttributeError",
     "evalue": "'NoneType' object has no attribute 'submit_tool_outputs'",
     "output_type": "error",
     "traceback": [
      "\u001b[0;31m---------------------------------------------------------------------------\u001b[0m",
      "\u001b[0;31mAttributeError\u001b[0m                            Traceback (most recent call last)",
      "Cell \u001b[0;32mIn[7], line 2\u001b[0m\n\u001b[1;32m      1\u001b[0m \u001b[38;5;66;03m# require_actionのパラメータの取得\u001b[39;00m\n\u001b[0;32m----> 2\u001b[0m tool_id \u001b[38;5;241m=\u001b[39m \u001b[43mrun\u001b[49m\u001b[38;5;241;43m.\u001b[39;49m\u001b[43mrequired_action\u001b[49m\u001b[38;5;241;43m.\u001b[39;49m\u001b[43msubmit_tool_outputs\u001b[49m\u001b[38;5;241m.\u001b[39mtool_calls[\u001b[38;5;241m0\u001b[39m]\u001b[38;5;241m.\u001b[39mid\n\u001b[1;32m      3\u001b[0m tool_function_name \u001b[38;5;241m=\u001b[39m run\u001b[38;5;241m.\u001b[39mrequired_action\u001b[38;5;241m.\u001b[39msubmit_tool_outputs\u001b[38;5;241m.\u001b[39mtool_calls[\u001b[38;5;241m0\u001b[39m]\u001b[38;5;241m.\u001b[39mfunction\u001b[38;5;241m.\u001b[39mname\n\u001b[1;32m      4\u001b[0m tool_function_arguments \u001b[38;5;241m=\u001b[39m json\u001b[38;5;241m.\u001b[39mloads(run\u001b[38;5;241m.\u001b[39mrequired_action\u001b[38;5;241m.\u001b[39msubmit_tool_outputs\u001b[38;5;241m.\u001b[39mtool_calls[\u001b[38;5;241m0\u001b[39m]\u001b[38;5;241m.\u001b[39mfunction\u001b[38;5;241m.\u001b[39marguments)\n",
      "\u001b[0;31mAttributeError\u001b[0m: 'NoneType' object has no attribute 'submit_tool_outputs'"
     ]
    }
   ],
   "source": [
    "# require_actionのパラメータの取得\n",
    "tool_id = run.required_action.submit_tool_outputs.tool_calls[0].id\n",
    "tool_function_name = run.required_action.submit_tool_outputs.tool_calls[0].function.name\n",
    "tool_function_arguments = json.loads(run.required_action.submit_tool_outputs.tool_calls[0].function.arguments)\n",
    "\n",
    "print(\"id:\", tool_id)\n",
    "print(\"name:\", tool_function_name)\n",
    "print(\"arguments:\", tool_function_arguments)\n"
   ]
  },
  {
   "cell_type": "markdown",
   "metadata": {},
   "source": [
    "### 自作の関数を実行する"
   ]
  },
  {
   "cell_type": "code",
   "execution_count": null,
   "metadata": {},
   "outputs": [],
   "source": [
    "def getCurrentTemperature(location, unit):\n",
    "    print(\"location:\", location)\n",
    "    print(\"unit:\", unit)\n",
    "    return \"22度\"\n",
    "\n",
    "# 特定の場所の天気を取得\n",
    "tool_function_output = getCurrentTemperature(\n",
    "    tool_function_arguments[\"location\"],\n",
    "    tool_function_arguments[\"unit\"]\n",
    ")\n"
   ]
  },
  {
   "cell_type": "markdown",
   "metadata": {},
   "source": [
    "### 関数の実行結果をAPI経由で提出\n",
    "- 提出は10分以内"
   ]
  },
  {
   "cell_type": "code",
   "execution_count": null,
   "metadata": {},
   "outputs": [],
   "source": [
    "run = client.beta.threads.runs.submit_tool_outputs(\n",
    "    thread_id=thread.id,\n",
    "    run_id=run.id,\n",
    "    tool_outputs=[\n",
    "        {\n",
    "            \"tool_call_id\": tool_id,\n",
    "            \"output\": tool_function_output,\n",
    "        }\n",
    "    ]\n",
    ")\n"
   ]
  },
  {
   "cell_type": "markdown",
   "metadata": {},
   "source": [
    "### 出力結果の確認"
   ]
  },
  {
   "cell_type": "code",
   "execution_count": 11,
   "metadata": {},
   "outputs": [
    {
     "name": "stdout",
     "output_type": "stream",
     "text": [
      "user : 群馬県の現在の気温を教えてください。\n",
      "assistant : 群馬県の現在の気温は22度です。\n"
     ]
    }
   ],
   "source": [
    "messages = client.beta.threads.messages.list(\n",
    "    thread_id=thread.id,\n",
    "    order=\"asc\"\n",
    ")\n",
    "for message in messages:\n",
    "    print(message.role, \":\", message.content[0].text.value)\n"
   ]
  }
 ],
 "metadata": {
  "kernelspec": {
   "display_name": "Python 3.9.18 ('.venv': poetry)",
   "language": "python",
   "name": "python3"
  },
  "language_info": {
   "codemirror_mode": {
    "name": "ipython",
    "version": 3
   },
   "file_extension": ".py",
   "mimetype": "text/x-python",
   "name": "python",
   "nbconvert_exporter": "python",
   "pygments_lexer": "ipython3",
   "version": "3.9.18"
  },
  "vscode": {
   "interpreter": {
    "hash": "17a011378fed683b21aba93e5dd7c0cb7beefc09c5af72c6425b40c713e260dc"
   }
  }
 },
 "nbformat": 4,
 "nbformat_minor": 2
}
