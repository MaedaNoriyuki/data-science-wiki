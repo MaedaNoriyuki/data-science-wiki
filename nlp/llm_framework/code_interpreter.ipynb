{
 "cells": [
  {
   "cell_type": "markdown",
   "metadata": {},
   "source": [
    "# Code Interpreter"
   ]
  },
  {
   "cell_type": "markdown",
   "metadata": {},
   "source": [
    "OpenAIが提供するAssistant APIのうちの一つの機能．入力されたメッセージに対してPythonのコードを生成し実行し回答を出力する．\n",
    "- ドキュメント:https://platform.openai.com/docs/assistants/tools/code-interpreter"
   ]
  },
  {
   "cell_type": "markdown",
   "metadata": {},
   "source": [
    "<a href=\"https://colab.research.google.com/github/fuyu-quant/data-science-wiki/blob/main/nlp/llm_framework/code_interpreter.ipynb\" target=\"_blank\" rel=\"noopener noreferrer\"><img src=\"https://colab.research.google.com/assets/colab-badge.svg\" alt=\"Open In Colab\"/></a>"
   ]
  },
  {
   "cell_type": "code",
   "execution_count": null,
   "metadata": {},
   "outputs": [],
   "source": [
    "%%capture\n",
    "!pip install openai"
   ]
  },
  {
   "cell_type": "code",
   "execution_count": 1,
   "metadata": {},
   "outputs": [],
   "source": [
    "from openai import OpenAI\n",
    "import os\n",
    "\n",
    "client = OpenAI()\n",
    "\n",
    "#os.environ[\"OPENAI_API_KEY\"] = \"YOUR_API_KEY\"\n"
   ]
  },
  {
   "cell_type": "markdown",
   "metadata": {},
   "source": [
    "### 入力の設定"
   ]
  },
  {
   "cell_type": "code",
   "execution_count": 36,
   "metadata": {},
   "outputs": [],
   "source": [
    "instruction = \"あなたは数学の専門家です。数学の質問に答えるコードを書いて実行します。\"\n",
    "model = \"gpt-4-1106-preview\"\n",
    "content = \"21x^2+4x-32=0の解を求めてください。\"\n"
   ]
  },
  {
   "cell_type": "code",
   "execution_count": 37,
   "metadata": {},
   "outputs": [],
   "source": [
    "# アシスタントの作成\n",
    "assistant = client.beta.assistants.create(\n",
    "    instructions = instruction,\n",
    "    model = model,\n",
    "    tools=[{\"type\": \"code_interpreter\"}],\n",
    ")\n",
    "\n",
    "# スレッドの作成\n",
    "thread = client.beta.threads.create()\n",
    "\n",
    "# スレッドにメッセージを追加\n",
    "message = client.beta.threads.messages.create(\n",
    "    thread_id = thread.id,\n",
    "    role = \"user\",\n",
    "    content = content,\n",
    ")\n"
   ]
  },
  {
   "cell_type": "code",
   "execution_count": 38,
   "metadata": {},
   "outputs": [
    {
     "name": "stdout",
     "output_type": "stream",
     "text": [
      "user : 21x^2+4x-32=0の解を求めてください。\n"
     ]
    }
   ],
   "source": [
    "# スレッドにメッセージが追加されていることを確認する\n",
    "messages = client.beta.threads.messages.list(\n",
    "    thread_id=thread.id,\n",
    "    order=\"asc\"\n",
    ")\n",
    "for message in messages:\n",
    "    print(message.role, \":\", message.content[0].text.value)\n"
   ]
  },
  {
   "cell_type": "markdown",
   "metadata": {},
   "source": [
    "### Code Interpreterの実行"
   ]
  },
  {
   "cell_type": "code",
   "execution_count": 39,
   "metadata": {},
   "outputs": [],
   "source": [
    "# アシスタントにリクエスト\n",
    "run = client.beta.threads.runs.create(\n",
    "    thread_id=thread.id,\n",
    "    assistant_id=assistant.id,\n",
    ")\n"
   ]
  },
  {
   "cell_type": "markdown",
   "metadata": {},
   "source": [
    "### APIでの実行状況の確認\n",
    "- in_progress:実行中\n",
    "- completed:実行完了"
   ]
  },
  {
   "cell_type": "code",
   "execution_count": 43,
   "metadata": {},
   "outputs": [
    {
     "name": "stdout",
     "output_type": "stream",
     "text": [
      "completed\n"
     ]
    }
   ],
   "source": [
    "run = client.beta.threads.runs.retrieve(\n",
    "    thread_id=thread.id,\n",
    "    run_id=run.id\n",
    ")\n",
    "print(run.status)\n"
   ]
  },
  {
   "cell_type": "markdown",
   "metadata": {},
   "source": [
    "### 出力結果を確認\n",
    "- statusが「completed」になったら確認する"
   ]
  },
  {
   "cell_type": "code",
   "execution_count": 44,
   "metadata": {},
   "outputs": [
    {
     "name": "stdout",
     "output_type": "stream",
     "text": [
      "user : 21x^2+4x-32=0の解を求めてください。\n",
      "assistant : 方程式 \\(21x^2+4x-32=0\\) の解は \\(x = -\\frac{4}{3}\\) と \\(x = \\frac{8}{7}\\) です。\n"
     ]
    }
   ],
   "source": [
    "messages = client.beta.threads.messages.list(\n",
    "    thread_id=thread.id,\n",
    "    order=\"asc\"\n",
    ")\n",
    "for message in messages:\n",
    "    print(message.role, \":\", message.content[0].text.value)\n",
    "\n"
   ]
  },
  {
   "cell_type": "markdown",
   "metadata": {},
   "source": [
    "### 実行状況の確認"
   ]
  },
  {
   "cell_type": "code",
   "execution_count": 20,
   "metadata": {},
   "outputs": [
    {
     "data": {
      "text/plain": [
       "SyncCursorPage[RunStep](data=[RunStep(id='step_NjUpiehM1LSkRxU5DyjPWKae', assistant_id='asst_PvvMYkORDjMjH90fkaonjWDR', cancelled_at=None, completed_at=1699456811, created_at=1699456810, expired_at=None, failed_at=None, last_error=None, metadata=None, object='thread.run.step', run_id='run_OdmGWxyWNegCRjULzvkFy9VL', status='completed', step_details=MessageCreationStepDetails(message_creation=MessageCreation(message_id='msg_s093Ysz4cIj75IUR3vWN0NOv'), type='message_creation'), thread_id='thread_tThAyjP1GyTMjDVS9ODOCQO5', type='message_creation', expires_at=None), RunStep(id='step_4NvqnP4Y2AdxzEtd5jEoETL3', assistant_id='asst_PvvMYkORDjMjH90fkaonjWDR', cancelled_at=None, completed_at=1699456810, created_at=1699456807, expired_at=None, failed_at=None, last_error=None, metadata=None, object='thread.run.step', run_id='run_OdmGWxyWNegCRjULzvkFy9VL', status='completed', step_details=ToolCallsStepDetails(tool_calls=[CodeToolCall(id='call_tKIXjgv2oq9oeusC2CVxDz59', code_interpreter=CodeInterpreter(input=\"from sympy import symbols, Eq, solve\\r\\n\\r\\n# Define the symbol\\r\\nx = symbols('x')\\r\\n\\r\\n# Define the equation\\r\\nequation = Eq(3*x + 11, 14)\\r\\n\\r\\n# Solve the equation\\r\\nsolution = solve(equation, x)\\r\\nsolution\", outputs=[CodeInterpreterOutputLogs(logs='[1]', type='logs')]), type='code_interpreter')], type='tool_calls'), thread_id='thread_tThAyjP1GyTMjDVS9ODOCQO5', type='tool_calls', expires_at=None)], object='list', first_id='step_NjUpiehM1LSkRxU5DyjPWKae', last_id='step_4NvqnP4Y2AdxzEtd5jEoETL3', has_more=False)"
      ]
     },
     "execution_count": 20,
     "metadata": {},
     "output_type": "execute_result"
    }
   ],
   "source": [
    "run_steps = client.beta.threads.runs.steps.list(\n",
    "    thread_id=thread.id,\n",
    "    run_id=run.id\n",
    ")\n",
    "run_steps\n"
   ]
  },
  {
   "cell_type": "code",
   "execution_count": null,
   "metadata": {},
   "outputs": [],
   "source": []
  }
 ],
 "metadata": {
  "kernelspec": {
   "display_name": ".venv",
   "language": "python",
   "name": "python3"
  },
  "language_info": {
   "codemirror_mode": {
    "name": "ipython",
    "version": 3
   },
   "file_extension": ".py",
   "mimetype": "text/x-python",
   "name": "python",
   "nbconvert_exporter": "python",
   "pygments_lexer": "ipython3",
   "version": "3.9.18"
  }
 },
 "nbformat": 4,
 "nbformat_minor": 2
}
