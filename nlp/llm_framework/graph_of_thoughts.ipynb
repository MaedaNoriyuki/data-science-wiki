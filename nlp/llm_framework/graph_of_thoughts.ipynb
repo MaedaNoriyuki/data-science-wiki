{
 "cells": [
  {
   "cell_type": "markdown",
   "metadata": {},
   "source": [
    "# Graph of Thoughts"
   ]
  },
  {
   "cell_type": "markdown",
   "metadata": {},
   "source": [
    "Graph of Thoughtsは情報をグラフとしてモデル化することで、大規模言語モデルのプロンプト機能を強化するフレームワークです．"
   ]
  },
  {
   "cell_type": "markdown",
   "metadata": {},
   "source": [
    "Github\n",
    "* https://github.com/spcl/graph-of-thoughts\n",
    "\n",
    "解説記事\n",
    "* https://note.com/daichi_mu/n/n31b2438158e1"
   ]
  },
  {
   "cell_type": "markdown",
   "metadata": {},
   "source": [
    "<a href=\"https://colab.research.google.com/github/fuyu-quant/data-science-wiki/blob/develop/nlp/llm_framework/graph_of_thoughts.ipynb\" target=\"_blank\" rel=\"noopener noreferrer\"><img src=\"https://colab.research.google.com/assets/colab-badge.svg\" alt=\"Open In Colab\"/></a>"
   ]
  },
  {
   "cell_type": "code",
   "execution_count": null,
   "metadata": {},
   "outputs": [],
   "source": [
    "!git clone https://github.com/spcl/graph-of-thoughts.git"
   ]
  },
  {
   "cell_type": "code",
   "execution_count": null,
   "metadata": {},
   "outputs": [],
   "source": [
    "cd graph-of-thoughts"
   ]
  },
  {
   "cell_type": "code",
   "execution_count": null,
   "metadata": {},
   "outputs": [],
   "source": [
    "%%capture\n",
    "!pip install -e ."
   ]
  },
  {
   "cell_type": "code",
   "execution_count": null,
   "metadata": {},
   "outputs": [],
   "source": [
    "from examples.sorting.sorting_032 import SortingPrompter, SortingParser, utils\n",
    "from graph_of_thoughts import controller, operations"
   ]
  },
  {
   "cell_type": "code",
   "execution_count": null,
   "metadata": {},
   "outputs": [],
   "source": [
    "# Problem input\n",
    "\n",
    "to_be_sorted = \"[0, 2, 6, 3, 8, 7, 1, 1, 6, 7, 7, 7, 7, 9, 3, 0, 1, 7, 9, 1, 3, 5, 1, 3, 6, 4, 5, 4, 7, 3, 5, 7]\"\n",
    "\n",
    "# Create the Graph of Operations\n",
    "gop = operations.GraphOfOperations()\n",
    "gop.append_operation(operations.Generate())\n",
    "gop.append_operation(operations.Score(scoring_function=utils.num_errors))\n",
    "gop.append_operation(operations.GroundTruth(utils.test_sorting))\n",
    "\n",
    "# Configure the Language Model (Assumes config.json is in the current directory with OpenAI API key)\n",
    "lm = controller.ChatGPT(\"/content/graph-of-thoughts/graph_of_thoughts/controller/config.json\", model_name=\"chatgpt\")\n",
    "\n",
    "# Create the Controller\n",
    "ctrl = controller.Controller(\n",
    "  lm, \n",
    "  gop, \n",
    "  SortingPrompter(), \n",
    "  SortingParser(),\n",
    "  # The following dictionary is used to configure the initial thought state\n",
    "  {\n",
    "    \"original\": to_be_sorted,\n",
    "    \"current\": \"\",\n",
    "    \"method\": \"cot\"\n",
    "  }\n",
    ")\n",
    "\n",
    "# Run the Controller and generate the output graph\n",
    "ctrl.run()\n",
    "ctrl.output_graph(\"output_cot.json\")"
   ]
  }
 ],
 "metadata": {
  "kernelspec": {
   "display_name": "Python 3.9.18 ('.venv': poetry)",
   "language": "python",
   "name": "python3"
  },
  "language_info": {
   "codemirror_mode": {
    "name": "ipython",
    "version": 3
   },
   "file_extension": ".py",
   "mimetype": "text/x-python",
   "name": "python",
   "nbconvert_exporter": "python",
   "pygments_lexer": "ipython3",
   "version": "3.9.18"
  },
  "orig_nbformat": 4,
  "vscode": {
   "interpreter": {
    "hash": "17a011378fed683b21aba93e5dd7c0cb7beefc09c5af72c6425b40c713e260dc"
   }
  }
 },
 "nbformat": 4,
 "nbformat_minor": 2
}
