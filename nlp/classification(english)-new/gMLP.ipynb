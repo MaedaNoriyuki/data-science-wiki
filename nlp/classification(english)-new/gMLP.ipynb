{
 "cells": [
  {
   "cell_type": "markdown",
   "id": "241d766d-1865-4931-9485-cfaef496735c",
   "metadata": {},
   "source": [
    "# gMLP\n",
    "* https://github.com/lucidrains/g-mlp-pytorch"
   ]
  },
  {
   "cell_type": "code",
   "execution_count": null,
   "id": "2b1d1487-9f62-402e-a717-3a1d37b247ef",
   "metadata": {},
   "outputs": [],
   "source": []
  }
 ],
 "metadata": {
  "kernelspec": {
   "display_name": "Python 3 (ipykernel)",
   "language": "python",
   "name": "python3"
  },
  "language_info": {
   "codemirror_mode": {
    "name": "ipython",
    "version": 3
   },
   "file_extension": ".py",
   "mimetype": "text/x-python",
   "name": "python",
   "nbconvert_exporter": "python",
   "pygments_lexer": "ipython3",
   "version": "3.9.7"
  }
 },
 "nbformat": 4,
 "nbformat_minor": 5
}
