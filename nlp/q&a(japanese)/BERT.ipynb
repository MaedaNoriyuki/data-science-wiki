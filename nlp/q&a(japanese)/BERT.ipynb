{
  "cells": [
    {
      "cell_type": "markdown",
      "metadata": {
        "id": "tTGvX4ClB_u-"
      },
      "source": [
        "# BERT"
      ]
    },
    {
      "cell_type": "markdown",
      "metadata": {},
      "source": [
        "* https://huggingface.co/SkelterLabsInc/bert-base-japanese-jaquad"
      ]
    },
    {
      "cell_type": "markdown",
      "metadata": {
        "colab_type": "text",
        "id": "view-in-github"
      },
      "source": [
        "<a href=\"https://colab.research.google.com/github/fuyu-quant/Data_Science/blob/main/Natural_Language_processing/Q%26A(japanese)/BERT.ipynb\" target=\"_parent\"><img src=\"https://colab.research.google.com/assets/colab-badge.svg\" alt=\"Open In Colab\"/></a>"
      ]
    },
    {
      "cell_type": "code",
      "execution_count": 1,
      "metadata": {
        "id": "BpjW3fKQB6Zl"
      },
      "outputs": [],
      "source": [
        "%%capture\n",
        "!pip install fugashi\n",
        "!pip install ipadic\n",
        "!pip install transformers"
      ]
    },
    {
      "cell_type": "code",
      "execution_count": 2,
      "metadata": {
        "id": "9tqdQ0F0CjIq"
      },
      "outputs": [],
      "source": [
        "import torch\n",
        "from transformers import AutoTokenizer, AutoModelForQuestionAnswering"
      ]
    },
    {
      "cell_type": "code",
      "execution_count": 5,
      "metadata": {
        "id": "r6ZElfHqCnPk"
      },
      "outputs": [],
      "source": [
        "# \u8cea\u554f\u6587\n",
        "question = '\u30a2\u30ec\u30af\u30b5\u30f3\u30c0\u30fc\u30fb\u30b0\u30e9\u30cf\u30e0\u30fb\u30d9\u30eb\u306f\u3001\u3069\u3053\u3067\u751f\u307e\u308c\u305f\u306e?'\n",
        "# \u5143\u306e\u6587\u7ae0\n",
        "context = '\u30a2\u30ec\u30af\u30b5\u30f3\u30c0\u30fc\u30fb\u30b0\u30e9\u30cf\u30e0\u30fb\u30d9\u30eb\u306f\u3001\u30b9\u30b3\u30c3\u30c8\u30e9\u30f3\u30c9\u751f\u307e\u308c\u306e\u79d1\u5b66\u8005\u3001\u767a\u660e\u5bb6\u3001\u5de5\u5b66\u8005\u3067\u3042\u308b\u3002\u4e16\u754c\u521d\u306e>\u5b9f\u7528\u7684\u96fb\u8a71\u306e\u767a\u660e\u3067\u77e5\u3089\u308c\u3066\u3044\u308b\u3002'"
      ]
    },
    {
      "cell_type": "markdown",
      "metadata": {
        "id": "cNalw92pCzRn"
      },
      "source": [
        "## \u30e2\u30c7\u30eb\u306e\u8aad\u307f\u8fbc\u307f"
      ]
    },
    {
      "cell_type": "code",
      "execution_count": null,
      "metadata": {
        "colab": {
          "base_uri": "https://localhost:8080/",
          "height": 177,
          "referenced_widgets": [
            "fd261d1dc8d447b486970a94cf0e3e2d",
            "ef212b2a3a894fa887a44759a6ca9790",
            "2845c1e45cd04c8f9325ba9d44c1b149",
            "354562b77b9f4af98412274d2244ba75",
            "31a72e9bfe60467d9af19a299bb9b626",
            "27e8b6da7aee47e98668b0de72846d40",
            "fa7b2f8d06f44b9f967f407efb8d4636",
            "74491b273842466eaea827da61902ccc",
            "f383214875b94dcd981e7bc6c588fe76",
            "b01001a419ad41868dfd494058f2f09b",
            "bc0d00ed94444b46bcae7b296f5de20c",
            "ee6ed603c7aa418e9a1250eb6fa79236",
            "b7ba98ecd31f40ad94f2a588dce8af00",
            "9c805ddf47f64090a20b4bf1760b52f7",
            "6e2b2d3dfb184a4095a3b94520fb668f",
            "c28ef352cd714a2693b1e837543d2180",
            "9f1cd4b2ece44f2ab34d34adb14b8255",
            "fb3e625aff994232afa9c76216bde6dd",
            "86551cd045ad4d99b83a22956cbf77cc",
            "99fe03c932bb4d63b37844b18bb7ca4e",
            "920330efe0554855937c6879a527066a",
            "30f147597b874a66a70606eaf6ba7180",
            "ebf484d9fd4e43cdb257e1bed88bc2a5",
            "c6089089e0904065a0124bd0c87722de",
            "830ca84e544a479fa3cd518f72bf8a38",
            "ca061127897f489aa94e0c4540fae7e3",
            "f5932c35a39c4485973a8e30db1d5f28",
            "ad65e9f625344ba5a6d3b652f7c662be",
            "206075368b334c0cba08f04044bbf7a3",
            "a5d05cef5353402085d8375c68d6e95c",
            "abd355fb195e47ff933573fafadd01ba",
            "b45d49e39caf4a7ca14a89f0e8128459",
            "b09e126062e24a86ade9247ab4ce948a",
            "46f5eda89b2c43389143683ab5776c49",
            "e64b3164ce4742d4b57eb9390df36e3b",
            "e2137688e07c43dda3c474e06efec302",
            "7ec7c41606da44f9a95a35a0d7bbe2c9",
            "6c4dde646f2a4d4cb837a543a21a5cb8",
            "ae749774786040dcb9346428fdb9ff3a",
            "3026d882619144bcbddd500c3e1d6031",
            "38b528fd6d6e49fa845f09f4027fabf3",
            "442684f39876465496db4e5d0242013f",
            "8a7ec60f83b541f1a675c0b1a45814f7",
            "6d4a7f38e16c404ba98dd56ef0e8776b",
            "9d8a93a2eafe4d35b018f4e62dfa6d14",
            "f013434a51a54a5e87b32d3a3a7c71e3",
            "37ff3328a5d44fe083eea6b6857cfacc",
            "cc906556b2b644019896f3edb2e8177e",
            "9560acec57044bdca0fd9ac521dda662",
            "ebcd291b336648969f4513022d14ee9b",
            "9130ab78806940f3a04655d0cc983cdc",
            "b5662ba8e2cc4ab3bc96674ab2748c08",
            "da8118da33d940b0a6c34ed1490b6d83",
            "e3b28b74e3484dcc97c6f27987c9bebe",
            "ce3d9b4387db42e79b1559a81010a386"
          ]
        },
        "id": "TnijIWL2CDKN",
        "outputId": "78b12cf5-76e7-4bf1-91b7-370b79af49c0"
      },
      "outputs": [],
      "source": [
        "tokenizer = AutoTokenizer.from_pretrained(\"SkelterLabsInc/bert-base-japanese-jaquad\")\n",
        "model = AutoModelForQuestionAnswering.from_pretrained(\"SkelterLabsInc/bert-base-japanese-jaquad\")"
      ]
    },
    {
      "cell_type": "code",
      "execution_count": 6,
      "metadata": {
        "colab": {
          "base_uri": "https://localhost:8080/",
          "height": 35
        },
        "id": "9vrue0tzCpjb",
        "outputId": "2b3d3788-0ae7-4236-b353-cbf29cee3523"
      },
      "outputs": [
        {
          "data": {
            "application/vnd.google.colaboratory.intrinsic+json": {
              "type": "string"
            },
            "text/plain": [
              "'\u30b9\u30b3\u30c3\u30c8\u30e9\u30f3\u30c9'"
            ]
          },
          "execution_count": 6,
          "metadata": {},
          "output_type": "execute_result"
        }
      ],
      "source": [
        "inputs = tokenizer(\n",
        "    question, context, add_special_tokens=True, return_tensors=\"pt\")\n",
        "input_ids = inputs[\"input_ids\"].tolist()[0]\n",
        "outputs = model(**inputs)\n",
        "answer_start_scores = outputs.start_logits\n",
        "answer_end_scores = outputs.end_logits\n",
        "\n",
        "\n",
        "answer_start = torch.argmax(answer_start_scores)\n",
        "answer_end = torch.argmax(answer_end_scores) + 1\n",
        "\n",
        "answer = tokenizer.convert_tokens_to_string(tokenizer.convert_ids_to_tokens(input_ids[answer_start:answer_end]))\n",
        "\n",
        "# \u7b54\u3048\u306e\u51fa\u529b\n",
        "answer"
      ]
    }
  ],
  "metadata": {
    "colab": {
      "authorship_tag": "ABX9TyP6GdlEugKOVw6YlPRtG7mw",
      "include_colab_link": true,
      "provenance": []
    },
    "kernelspec": {
      "display_name": "Python 3.9.18 ('.venv': poetry)",
      "language": "python",
      "name": "python3"
    },
    "language_info": {
      "name": "python",
      "version": "3.9.18"
    },
    "vscode": {
      "interpreter": {
        "hash": "17a011378fed683b21aba93e5dd7c0cb7beefc09c5af72c6425b40c713e260dc"
      }
    }
  },
  "nbformat": 4,
  "nbformat_minor": 0
}