{
 "cells": [
  {
   "cell_type": "markdown",
   "metadata": {},
   "source": [
    "# Few-shot Chain of Thoughts"
   ]
  },
  {
   "cell_type": "markdown",
   "metadata": {},
   "source": [
    "Chain of Thoughtsの実行する際の例を増やしたプロンプト手法．"
   ]
  },
  {
   "cell_type": "markdown",
   "metadata": {},
   "source": [
    "<a href=\"https://colab.research.google.com/github/fuyu-quant/data-science-wiki/blob/develop/nlp/llm_prompt_engineering/few_shot_chain_of_thoughts.ipynb\" target=\"_blank\" rel=\"noopener noreferrer\"><img src=\"https://colab.research.google.com/assets/colab-badge.svg\" alt=\"Open In Colab\"/></a>"
   ]
  },
  {
   "cell_type": "code",
   "execution_count": null,
   "metadata": {},
   "outputs": [],
   "source": [
    "%%capture\n",
    "!pip install openai"
   ]
  },
  {
   "cell_type": "code",
   "execution_count": 1,
   "metadata": {},
   "outputs": [],
   "source": [
    "import os\n",
    "from openai import OpenAI\n",
    "client = OpenAI()\n",
    "\n",
    "#os.environ[\"OPENAI_API_KEY\"] = \"YOUR_API_KEY\""
   ]
  },
  {
   "cell_type": "markdown",
   "metadata": {},
   "source": [
    "### 通常のプロンプト(Few-shot prompting)"
   ]
  },
  {
   "cell_type": "code",
   "execution_count": 2,
   "metadata": {},
   "outputs": [],
   "source": [
    "prompt = \"\"\"\n",
    "Q:スティーブンは食料品をオンラインで注文した。最終的な請求額は40ドルだった。これは宅配業者を通したものであったため、宅配業者は彼の最終合計に25％の手数料を上乗せし、宅配手数料として3ドルを請求した。スティーブンはさらに4ドルのチップを加えた。追加料金を差し引いた後、スティーブンの食料品の最終価格はいくらになったか。\n",
    "A:\n",
    "\"\"\""
   ]
  },
  {
   "cell_type": "code",
   "execution_count": 3,
   "metadata": {},
   "outputs": [
    {
     "name": "stdout",
     "output_type": "stream",
     "text": [
      "宅配業者による手数料3ドルとチップ4ドルの合計は7ドルです。それを最終請求額40ドルから差し引くと、最終的な食料品の価格は33ドルになります。\n"
     ]
    }
   ],
   "source": [
    "response = client.chat.completions.create(\n",
    "    model=\"gpt-3.5-turbo\",\n",
    "    messages=[{\"role\": \"user\", \"content\": prompt}]\n",
    "    )\n",
    "\n",
    "print(response.choices[0].message.content)"
   ]
  },
  {
   "cell_type": "markdown",
   "metadata": {},
   "source": [
    "### Few-shot Chain of Thoughts\n",
    "* いくつかの解答例を与えることで正解を導きやすくなる"
   ]
  },
  {
   "cell_type": "code",
   "execution_count": 4,
   "metadata": {},
   "outputs": [],
   "source": [
    "prompt = \"\"\"\n",
    "Q:ロジャーはテニスボールを5個持っている。彼はさらに2つのテニスボール缶を買った。それぞれの缶には3個のテニスボールが入っている。彼は今何個のテニスボールを持っていますか？\n",
    "A: 11個\n",
    "Q: 食堂には23個のリンゴがあった。昼食に20個使い、さらに6個買ったとすると、りんごは何個あるか。\n",
    "A:食堂には23個のリンゴがあったので、昼食に20個使ったので残りは23 - 20 = 3個です。さらに6個買ったので、残りのリンゴは3 + 6 = 9個です。\n",
    "Q:トレイシーは、庭でトマトの苗を支えるために4フィートの長さのワイヤーを使った。そのワイヤーを6インチの長さに切った。彼女は何本に切ったか？\n",
    "A:ワイヤーの長さは4フィートだった。つまり、4×12＝48インチの長さがあった。それを6インチの長さに切った。つまり、彼女は48÷6＝8個の断片を得たことになる。答えは8である。\n",
    "Q:トムの船は時速10マイルで航行できる。午後1時から4時まで航行。その後、時速6マイルで戻る。戻るのに何分かかるか？\n",
    "A:午後1時から4時まで時速10マイルで移動。つまり3時間移動したことになる。時速10マイルで3時間ということは、3×10＝30マイル移動したことになる。その後、時速6マイルで戻る。つまり時速6マイル。彼は30マイル移動しなければならないので、30÷6＝5時間かかる。答えは5である。\n",
    "Q:スティーブンは食料品をオンラインで注文した。最終的な請求額は40ドルだった。これは宅配業者を通したものであったため、宅配業者は彼の最終合計に25％の手数料を上乗せし、宅配手数料として3ドルを請求した。スティーブンはさらに4ドルのチップを加えた。追加料金を差し引いた後、スティーブンの食料品の最終価格はいくらになったか。\n",
    "A:\n",
    "\"\"\""
   ]
  },
  {
   "cell_type": "code",
   "execution_count": 5,
   "metadata": {},
   "outputs": [
    {
     "name": "stdout",
     "output_type": "stream",
     "text": [
      "宅配業者は最終合計に25％の手数料を上乗せし、宅配手数料として3ドルを請求したので、25％の手数料は40 × 0.25 = 10ドルです。\n",
      "スティーブンはさらに4ドルのチップを加えたので、合計で10 + 3 + 4 = 17ドルの追加料金がかかります。\n",
      "最終価格は40 + 17 = 57ドルになります。\n"
     ]
    }
   ],
   "source": [
    "response = client.chat.completions.create(\n",
    "    model=\"gpt-3.5-turbo\",\n",
    "    messages=[{\"role\": \"user\", \"content\": prompt}]\n",
    "    )\n",
    "\n",
    "print(response.choices[0].message.content)"
   ]
  },
  {
   "cell_type": "code",
   "execution_count": null,
   "metadata": {},
   "outputs": [],
   "source": []
  }
 ],
 "metadata": {
  "kernelspec": {
   "display_name": "Python 3.9.18 ('.venv': poetry)",
   "language": "python",
   "name": "python3"
  },
  "language_info": {
   "codemirror_mode": {
    "name": "ipython",
    "version": 3
   },
   "file_extension": ".py",
   "mimetype": "text/x-python",
   "name": "python",
   "nbconvert_exporter": "python",
   "pygments_lexer": "ipython3",
   "version": "3.9.18"
  },
  "orig_nbformat": 4,
  "vscode": {
   "interpreter": {
    "hash": "17a011378fed683b21aba93e5dd7c0cb7beefc09c5af72c6425b40c713e260dc"
   }
  }
 },
 "nbformat": 4,
 "nbformat_minor": 2
}
