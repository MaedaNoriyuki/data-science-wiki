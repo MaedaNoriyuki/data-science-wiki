{
 "cells": [
  {
   "cell_type": "markdown",
   "metadata": {},
   "source": [
    "# Few-shot Chain of Thoughts"
   ]
  },
  {
   "cell_type": "markdown",
   "metadata": {},
   "source": [
    "Chain of Thoughtsの実行する際の例を増やしたプロンプト手法．"
   ]
  },
  {
   "cell_type": "markdown",
   "metadata": {},
   "source": [
    "<a href=\"https://colab.research.google.com/github/fuyu-quant/data-science-wiki/blob/develop/nlp/llm_prompt_engineering/few_shot_chain_of_thoughts.ipynb\" target=\"_blank\" rel=\"noopener noreferrer\"><img src=\"https://colab.research.google.com/assets/colab-badge.svg\" alt=\"Open In Colab\"/></a>"
   ]
  },
  {
   "cell_type": "code",
   "execution_count": 1,
   "metadata": {},
   "outputs": [
    {
     "name": "stderr",
     "output_type": "stream",
     "text": [
      "/Users/tanakatouma/vscode/data-science-wiki/.venv/lib/python3.9/site-packages/langchain/llms/openai.py:202: UserWarning: You are trying to use a chat model. This way of initializing it is no longer supported. Instead, please use: `from langchain.chat_models import ChatOpenAI`\n",
      "  warnings.warn(\n",
      "/Users/tanakatouma/vscode/data-science-wiki/.venv/lib/python3.9/site-packages/langchain/llms/openai.py:790: UserWarning: You are trying to use a chat model. This way of initializing it is no longer supported. Instead, please use: `from langchain.chat_models import ChatOpenAI`\n",
      "  warnings.warn(\n"
     ]
    }
   ],
   "source": [
    "from langchain.llms import OpenAI\n",
    "\n",
    "llm_model = OpenAI(model_name= 'gpt-3.5-turbo', temperature=0)"
   ]
  },
  {
   "cell_type": "markdown",
   "metadata": {},
   "source": [
    "### 通常のプロンプト(Few-shot prompting)"
   ]
  },
  {
   "cell_type": "code",
   "execution_count": 4,
   "metadata": {},
   "outputs": [],
   "source": [
    "prompt = \"\"\"\n",
    "Q:スティーブンは食料品をオンラインで注文した。最終的な請求額は40ドルだった。これは宅配業者を通したものであったため、宅配業者は彼の最終合計に25％の手数料を上乗せし、宅配手数料として3ドルを請求した。スティーブンはさらに4ドルのチップを加えた。追加料金を差し引いた後、スティーブンの食料品の最終価格はいくらになったか。\n",
    "A:\n",
    "\"\"\""
   ]
  },
  {
   "cell_type": "code",
   "execution_count": 5,
   "metadata": {},
   "outputs": [
    {
     "data": {
      "text/plain": [
       "'スティーブンの食料品の最終価格は、40ドル + 3ドル (宅配手数料) + 4ドル (チップ) = 47ドルとなります。'"
      ]
     },
     "execution_count": 5,
     "metadata": {},
     "output_type": "execute_result"
    }
   ],
   "source": [
    "llm_model(prompt)"
   ]
  },
  {
   "cell_type": "markdown",
   "metadata": {},
   "source": [
    "### Few-shot Chain of Thoughts\n",
    "* いくつかの解答例を与えることで正解を導きやすくなる"
   ]
  },
  {
   "cell_type": "code",
   "execution_count": 2,
   "metadata": {},
   "outputs": [],
   "source": [
    "prompt = \"\"\"\n",
    "Q:ロジャーはテニスボールを5個持っている。彼はさらに2つのテニスボール缶を買った。それぞれの缶には3個のテニスボールが入っている。彼は今何個のテニスボールを持っていますか？\n",
    "A: 11個\n",
    "Q: 食堂には23個のリンゴがあった。昼食に20個使い、さらに6個買ったとすると、りんごは何個あるか。\n",
    "A:食堂には23個のリンゴがあったので、昼食に20個使ったので残りは23 - 20 = 3個です。さらに6個買ったので、残りのリンゴは3 + 6 = 9個です。\n",
    "Q:トレイシーは、庭でトマトの苗を支えるために4フィートの長さのワイヤーを使った。そのワイヤーを6インチの長さに切った。彼女は何本に切ったか？\n",
    "A:ワイヤーの長さは4フィートだった。つまり、4×12＝48インチの長さがあった。それを6インチの長さに切った。つまり、彼女は48÷6＝8個の断片を得たことになる。答えは8である。\n",
    "Q:トムの船は時速10マイルで航行できる。午後1時から4時まで航行。その後、時速6マイルで戻る。戻るのに何分かかるか？\n",
    "A:午後1時から4時まで時速10マイルで移動。つまり3時間移動したことになる。時速10マイルで3時間ということは、3×10＝30マイル移動したことになる。その後、時速6マイルで戻る。つまり時速6マイル。彼は30マイル移動しなければならないので、30÷6＝5時間かかる。答えは5である。\n",
    "Q:スティーブンは食料品をオンラインで注文した。最終的な請求額は40ドルだった。これは宅配業者を通したものであったため、宅配業者は彼の最終合計に25％の手数料を上乗せし、宅配手数料として3ドルを請求した。スティーブンはさらに4ドルのチップを加えた。追加料金を差し引いた後、スティーブンの食料品の最終価格はいくらになったか。\n",
    "A:\n",
    "\"\"\""
   ]
  },
  {
   "cell_type": "code",
   "execution_count": 3,
   "metadata": {},
   "outputs": [
    {
     "data": {
      "text/plain": [
       "'宅配業者の手数料は最終合計の25％なので、40ドル × 0.25 = 10ドルです。宅配手数料として3ドルを請求されたので、最終合計は40ドル + 3ドル = 43ドルです。さらに4ドルのチップを加えると、最終的な食料品の価格は43ドル + 4ドル = 47ドルになります。'"
      ]
     },
     "execution_count": 3,
     "metadata": {},
     "output_type": "execute_result"
    }
   ],
   "source": [
    "llm_model(prompt)"
   ]
  }
 ],
 "metadata": {
  "kernelspec": {
   "display_name": "Python 3.9.18 ('.venv': poetry)",
   "language": "python",
   "name": "python3"
  },
  "language_info": {
   "codemirror_mode": {
    "name": "ipython",
    "version": 3
   },
   "file_extension": ".py",
   "mimetype": "text/x-python",
   "name": "python",
   "nbconvert_exporter": "python",
   "pygments_lexer": "ipython3",
   "version": "3.9.18"
  },
  "orig_nbformat": 4,
  "vscode": {
   "interpreter": {
    "hash": "17a011378fed683b21aba93e5dd7c0cb7beefc09c5af72c6425b40c713e260dc"
   }
  }
 },
 "nbformat": 4,
 "nbformat_minor": 2
}
