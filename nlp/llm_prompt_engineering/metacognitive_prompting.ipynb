{
 "cells": [
  {
   "cell_type": "markdown",
   "metadata": {},
   "source": [
    "# Metacognitive Prompting"
   ]
  },
  {
   "cell_type": "markdown",
   "metadata": {},
   "source": [
    "LLMに人間の認知プロセスを模倣させることで精度を改善した手法．\n",
    "- 論文:https://arxiv.org/abs/2308.05342"
   ]
  },
  {
   "cell_type": "markdown",
   "metadata": {},
   "source": [
    "<a href=\"https://colab.research.google.com/github/fuyu-quant/data-science-wiki/blob/develop/nlp/llm_prompt_engineering/metacognitive_promting.ipynb\" target=\"_blank\" rel=\"noopener noreferrer\"><img src=\"https://colab.research.google.com/assets/colab-badge.svg\" alt=\"Open In Colab\"/></a>"
   ]
  },
  {
   "cell_type": "code",
   "execution_count": null,
   "metadata": {},
   "outputs": [],
   "source": [
    "%%capture\n",
    "!pip install openai"
   ]
  },
  {
   "cell_type": "code",
   "execution_count": 1,
   "metadata": {},
   "outputs": [],
   "source": [
    "import os\n",
    "from openai import OpenAI\n",
    "client = OpenAI()\n",
    "\n",
    "#os.environ[\"OPENAI_API_KEY\"] = \"YOUR_API_KEY\""
   ]
  },
  {
   "cell_type": "markdown",
   "metadata": {},
   "source": [
    "### 通常のプロンプト(Few-shot prompting)"
   ]
  },
  {
   "cell_type": "code",
   "execution_count": 2,
   "metadata": {},
   "outputs": [],
   "source": [
    "prompt = \"\"\"\n",
    "質問1: 「世界で最も美しいビーチは何ですか？」と質問2:「最も美しいビーチは何ですか？」、\n",
    "これら2つの質問がお互いの言い換えであるかどうかを判断してください。\n",
    "\"\"\""
   ]
  },
  {
   "cell_type": "code",
   "execution_count": 3,
   "metadata": {},
   "outputs": [
    {
     "name": "stdout",
     "output_type": "stream",
     "text": [
      "これらの2つの質問はお互いの言い換えではありません。質問1は「世界で最も美しいビーチは何ですか？」という特定の尺度で美しさを求める一方で、質問2は単に「最も美しいビーチは何ですか？」という一般的な美しさを尋ねています。質問2は特定の範囲や尺度を示さず、意図する美しさの基準や制限が明確ではありません。したがって、これらは異なる意味と言えます。\n"
     ]
    }
   ],
   "source": [
    "response = client.chat.completions.create(\n",
    "    model=\"gpt-3.5-turbo\",\n",
    "    messages=[{\"role\": \"user\", \"content\": prompt}]\n",
    "    )\n",
    "\n",
    "print(response.choices[0].message.content)"
   ]
  },
  {
   "cell_type": "markdown",
   "metadata": {},
   "source": [
    "### Metacognitive Prompting"
   ]
  },
  {
   "cell_type": "code",
   "execution_count": 4,
   "metadata": {},
   "outputs": [],
   "source": [
    "prompt1 = \"\"\"\n",
    "質問1: 「世界で最も美しいビーチは何ですか？」と質問2:「最も美しいビーチは何ですか？」、\n",
    "これら2つの質問がお互いの言い換えであるかどうかを判断してください。\n",
    "Q:両方の質問に対するあなたの理解を明確にしてください。\n",
    "A:\n",
    "\"\"\""
   ]
  },
  {
   "cell_type": "code",
   "execution_count": 6,
   "metadata": {},
   "outputs": [
    {
     "name": "stdout",
     "output_type": "stream",
     "text": [
      "質問1: 「世界で最も美しいビーチは何ですか？」\n",
      "この質問は、世界中のビーチの中で最も美しいビーチが何かを尋ねています。\n",
      "\n",
      "質問2:「最も美しいビーチは何ですか？」\n",
      "この質問も、最も美しいビーチが何かを尋ねていますが、特定の地域や制約を設けずに尋ねています。\n",
      "\n",
      "これら2つの質問は意味が似ていますが、質問2はより一般的で広範囲な尋ね方です。質問1は、美しいビーチに特化しており、世界中のビーチの中で最も美しいものが何かを尋ねています。質問2は、美しいビーチを求めており、特定の地域や制約を問わずに最も美しいビーチが何かを尋ねています。言い換えと言えるかどうかは、質問の意図や尋ね方のニュアンスによると思います。\n"
     ]
    }
   ],
   "source": [
    "response = client.chat.completions.create(\n",
    "    model=\"gpt-3.5-turbo\",\n",
    "    messages=[{\"role\": \"user\", \"content\": prompt1}]\n",
    "    )\n",
    "\n",
    "output1 = response.choices[0].message.content\n",
    "\n",
    "print(response.choices[0].message.content)"
   ]
  },
  {
   "cell_type": "code",
   "execution_count": 8,
   "metadata": {},
   "outputs": [],
   "source": [
    "prompt2 = \"\"\"\n",
    "質問1: 「世界で最も美しいビーチは何ですか？」と質問2:「最も美しいビーチは何ですか？」、\n",
    "これら2つの質問がお互いの言い換えであるかどうかを判断してください。\n",
    "Q:両方の質問に対するあなたの理解を明確にしてください。\n",
    "A:{output1_}\n",
    "Q:主題、文脈、意味内容に基づく類似性の予備的識別を行う。\n",
    "A:\n",
    "\"\"\".format(\n",
    "    output1_=output1\n",
    "    )"
   ]
  },
  {
   "cell_type": "code",
   "execution_count": 9,
   "metadata": {},
   "outputs": [
    {
     "name": "stdout",
     "output_type": "stream",
     "text": [
      "質問1と質問2の類似性は、質問の主題が「最も美しいビーチ」であることから始まります。両方の質問は、美しいビーチに関する情報を求めており、類似した意味内容を持っています。\n",
      "\n",
      "ただし、少しニュアンスが異なります。質問1は「世界で最も美しいビーチは何ですか？」と述べており、世界中のビーチの中で最も美しいビーチを尋ねています。一方、質問2は「最も美しいビーチは何ですか？」と述べており、特定の地域や制約を設けずに最も美しいビーチを尋ねています。\n",
      "\n",
      "質問1はより具体的で、特定の地域や制約を明示的に排除しています。質問2は一般的であり、地域や制約を問わずに美しいビーチを探しています。ただし、質問の主題と意図は類似しており、質問の文脈や目的によっては、質問1と質問2を言い換えとして扱うこともできます。\n"
     ]
    }
   ],
   "source": [
    "response = client.chat.completions.create(\n",
    "    model=\"gpt-3.5-turbo\",\n",
    "    messages=[{\"role\": \"user\", \"content\": prompt2}]\n",
    "    )\n",
    "\n",
    "output2 = response.choices[0].message.content\n",
    "\n",
    "print(response.choices[0].message.content)"
   ]
  },
  {
   "cell_type": "code",
   "execution_count": 10,
   "metadata": {},
   "outputs": [],
   "source": [
    "prompt3 = \"\"\"\n",
    "質問1: 「世界で最も美しいビーチは何ですか？」と質問2:「最も美しいビーチは何ですか？」、\n",
    "これら2つの質問がお互いの言い換えであるかどうかを判断してください。\n",
    "Q:両方の質問に対するあなたの理解を明確にしてください。\n",
    "A:{output1_}\n",
    "Q:主題、文脈、意味内容に基づく類似性の予備的識別を行う。\n",
    "A:{output2_}\n",
    "Q:予備的な分析を批判的に評価する。質問がパラフレーズであるという最初の評価に確信が持てない場合は、再評価を試みる。\n",
    "A:\n",
    "\"\"\".format(\n",
    "    output1_=output1,\n",
    "    output2_=output2\n",
    "    )"
   ]
  },
  {
   "cell_type": "code",
   "execution_count": 11,
   "metadata": {},
   "outputs": [
    {
     "name": "stdout",
     "output_type": "stream",
     "text": [
      "質問1と質問2の間には類似性がありますが、完全なパラフレーズではないと言えます。質問1はより具体的で、世界中のビーチの中で最も美しいものを求めています。一方、質問2はより一般的で、特定の地域や制約を設けずに美しいビーチを求めています。\n",
      "\n",
      "再評価してみると、質問1と質問2は似た意味内容を持っていると言えますが、質問2はより広範囲で一般的な尋ね方をしています。それに対して、質問1はより具体的な条件を設定しています。\n",
      "\n",
      "したがって、質問1と質問2は部分的にパラフレーズと言えますが、完全な言い換えではありません。ニュアンスや言葉の遣い方に微妙な違いがありますので、注意が必要です。\n"
     ]
    }
   ],
   "source": [
    "response = client.chat.completions.create(\n",
    "    model=\"gpt-3.5-turbo\",\n",
    "    messages=[{\"role\": \"user\", \"content\": prompt3}]\n",
    "    )\n",
    "\n",
    "output3 = response.choices[0].message.content\n",
    "\n",
    "print(response.choices[0].message.content)"
   ]
  },
  {
   "cell_type": "code",
   "execution_count": 13,
   "metadata": {},
   "outputs": [],
   "source": [
    "prompt4 = \"\"\"\n",
    "質問1: 「世界で最も美しいビーチは何ですか？」と質問2:「最も美しいビーチは何ですか？」、\n",
    "これら2つの質問がお互いの言い換えであるかどうかを判断してください。\n",
    "Q:両方の質問に対するあなたの理解を明確にしてください。\n",
    "A:{output1_}\n",
    "Q:主題、文脈、意味内容に基づく類似性の予備的識別を行う。\n",
    "A:{output2_}\n",
    "Q:予備的な分析を批判的に評価する。質問がパラフレーズであるという最初の評価に確信が持てない場合は、再評価を試みる。\n",
    "A:{output3_}\n",
    "Q:質問がパラフレーズであるかどうかの最終的な判断を確認し、判断の根拠を示します。\n",
    "A:\n",
    "\"\"\".format(\n",
    "    output1_=output1,\n",
    "    output2_=output2,\n",
    "    output3_=output3\n",
    "    )"
   ]
  },
  {
   "cell_type": "code",
   "execution_count": 14,
   "metadata": {},
   "outputs": [
    {
     "name": "stdout",
     "output_type": "stream",
     "text": [
      "質問1と質問2は部分的にパラフレーズと言えますが、完全なパラフレーズではありません。\n",
      "\n",
      "質問の主題や意図は類似しており、両方の質問は美しいビーチに関する情報を求めています。\n",
      "\n",
      "質問1は「世界で最も美しいビーチは何ですか？」と述べており、特定の地域や制約を排除して世界中のビーチの中で最も美しいものを尋ねています。\n",
      "\n",
      "一方、質問2は「最も美しいビーチは何ですか？」と述べており、特定の地域や制約を設けずに一般的な美しいビーチを尋ねています。\n",
      "\n",
      "質問2はより広範囲で一般的な尋ね方をしており、質問1よりも具体的な条件がありません。\n",
      "\n",
      "したがって、質問1と質問2は部分的にパラフレーズと言えますが、完全な言い換えではありません。\n"
     ]
    }
   ],
   "source": [
    "response = client.chat.completions.create(\n",
    "    model=\"gpt-3.5-turbo\",\n",
    "    messages=[{\"role\": \"user\", \"content\": prompt4}]\n",
    "    )\n",
    "\n",
    "output4 = response.choices[0].message.content\n",
    "\n",
    "print(response.choices[0].message.content)"
   ]
  },
  {
   "cell_type": "code",
   "execution_count": 15,
   "metadata": {},
   "outputs": [],
   "source": [
    "prompt5 = \"\"\"\n",
    "質問1: 「世界で最も美しいビーチは何ですか？」と質問2:「最も美しいビーチは何ですか？」、\n",
    "これら2つの質問がお互いの言い換えであるかどうかを判断してください。\n",
    "Q:両方の質問に対するあなたの理解を明確にしてください。\n",
    "A:{output1_}\n",
    "Q:主題、文脈、意味内容に基づく類似性の予備的識別を行う。\n",
    "A:{output2_}\n",
    "Q:予備的な分析を批判的に評価する。質問がパラフレーズであるという最初の評価に確信が持てない場合は、再評価を試みる。\n",
    "A:{output3_}\n",
    "Q:質問がパラフレーズであるかどうかの最終的な判断を確認し、判断の根拠を示します。\n",
    "A:{output4_}\n",
    "\"\"\".format(\n",
    "    output1_=output1,\n",
    "    output2_=output2,\n",
    "    output3_=output3,\n",
    "    output4_=output4\n",
    "    )"
   ]
  },
  {
   "cell_type": "code",
   "execution_count": 16,
   "metadata": {},
   "outputs": [
    {
     "name": "stdout",
     "output_type": "stream",
     "text": [
      "質問の根拠は、質問の主題や意図が類似しており、美しいビーチに関する情報を求めている点です。しかし、質問1は特定の地域や制約を排除している一方、質問2は一般的な美しいビーチを尋ねています。これらの微妙な違いから、質問1と質問2は部分的にパラフレーズであり、完全な言い換えではないと判断します。\n"
     ]
    }
   ],
   "source": [
    "response = client.chat.completions.create(\n",
    "    model=\"gpt-3.5-turbo\",\n",
    "    messages=[{\"role\": \"user\", \"content\": prompt5}]\n",
    "    )\n",
    "\n",
    "output5 = response.choices[0].message.content\n",
    "\n",
    "print(response.choices[0].message.content)"
   ]
  },
  {
   "cell_type": "code",
   "execution_count": 17,
   "metadata": {},
   "outputs": [],
   "source": [
    "prompt6 = \"\"\"\n",
    "質問1: 「世界で最も美しいビーチは何ですか？」と質問2:「最も美しいビーチは何ですか？」、\n",
    "これら2つの質問がお互いの言い換えであるかどうかを判断してください。\n",
    "Q:両方の質問に対するあなたの理解を明確にしてください。\n",
    "A:{output1_}\n",
    "Q:主題、文脈、意味内容に基づく類似性の予備的識別を行う。\n",
    "A:{output2_}\n",
    "Q:予備的な分析を批判的に評価する。質問がパラフレーズであるという最初の評価に確信が持てない場合は、再評価を試みる。\n",
    "A:{output3_}\n",
    "Q:質問がパラフレーズであるかどうかの最終的な判断を確認し、判断の根拠を示します。\n",
    "A:{output4_}\n",
    "Q:自分の分析に対する確信度（0～100％）を評価し、その確信度の説明をする。\n",
    "A:\n",
    "\"\"\".format(\n",
    "    output1_=output1,\n",
    "    output2_=output2,\n",
    "    output3_=output3,\n",
    "    output4_=output4,\n",
    "    output5_=output5\n",
    "    )"
   ]
  },
  {
   "cell_type": "code",
   "execution_count": 18,
   "metadata": {},
   "outputs": [
    {
     "name": "stdout",
     "output_type": "stream",
     "text": [
      "確信度: 80％\n",
      "\n",
      "上記の分析は、質問1と質問2の類似性や違いについて適切に説明しています。主題や意図の類似性に基づいてパラフレーズであることを示しましたが、一部の微妙なニュアンスや特定の条件の有無による違いを指摘しました。ただし、文脈や目的によっては、質問1と質問2を言い換えとして扱うこともできます。\n"
     ]
    }
   ],
   "source": [
    "response = client.chat.completions.create(\n",
    "    model=\"gpt-3.5-turbo\",\n",
    "    messages=[{\"role\": \"user\", \"content\": prompt6}]\n",
    "    )\n",
    "\n",
    "print(response.choices[0].message.content)"
   ]
  },
  {
   "cell_type": "code",
   "execution_count": null,
   "metadata": {},
   "outputs": [],
   "source": []
  }
 ],
 "metadata": {
  "kernelspec": {
   "display_name": "Python 3.9.18 ('.venv': poetry)",
   "language": "python",
   "name": "python3"
  },
  "language_info": {
   "codemirror_mode": {
    "name": "ipython",
    "version": 3
   },
   "file_extension": ".py",
   "mimetype": "text/x-python",
   "name": "python",
   "nbconvert_exporter": "python",
   "pygments_lexer": "ipython3",
   "version": "3.9.18"
  },
  "orig_nbformat": 4,
  "vscode": {
   "interpreter": {
    "hash": "17a011378fed683b21aba93e5dd7c0cb7beefc09c5af72c6425b40c713e260dc"
   }
  }
 },
 "nbformat": 4,
 "nbformat_minor": 2
}
