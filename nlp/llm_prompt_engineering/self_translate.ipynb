{
 "cells": [
  {
   "cell_type": "markdown",
   "metadata": {},
   "source": [
    "# Self-translate"
   ]
  },
  {
   "cell_type": "markdown",
   "metadata": {},
   "source": [
    "英語以外の言語のプロンプトでは言語モデルはその能力をフルに活用できていない，という研究に関する論文．self-translateは入力を一度英語に翻訳して出力を得てから元の言語に戻す手法．\n",
    "- 論文:https://arxiv.org/abs/2308.01223"
   ]
  },
  {
   "cell_type": "markdown",
   "metadata": {},
   "source": [
    "<a href=\"https://colab.research.google.com/github/fuyu-quant/data-science-wiki/blob/develop/nlp/llm_prompt_engineering/self_translate.ipynb\" target=\"_blank\" rel=\"noopener noreferrer\"><img src=\"https://colab.research.google.com/assets/colab-badge.svg\" alt=\"Open In Colab\"/></a>"
   ]
  },
  {
   "cell_type": "code",
   "execution_count": null,
   "metadata": {},
   "outputs": [],
   "source": [
    "%%capture\n",
    "!pip install openai"
   ]
  },
  {
   "cell_type": "code",
   "execution_count": 3,
   "metadata": {},
   "outputs": [],
   "source": [
    "import os\n",
    "from openai import OpenAI\n",
    "client = OpenAI()\n",
    "\n",
    "#os.environ[\"OPENAI_API_KEY\"] = \"YOUR_API_KEY\""
   ]
  },
  {
   "cell_type": "markdown",
   "metadata": {},
   "source": [
    "### 通常のプロンプト(Few-shot prompting)"
   ]
  },
  {
   "cell_type": "code",
   "execution_count": 1,
   "metadata": {},
   "outputs": [],
   "source": [
    "prompt = \"\"\"\n",
    "アンディはゼラニウムを90本植え、ペチュニアをゼラニウムより40本少なく植える全部で何本の花を植えたでしょう？\n",
    "\"\"\""
   ]
  },
  {
   "cell_type": "code",
   "execution_count": 4,
   "metadata": {},
   "outputs": [
    {
     "name": "stdout",
     "output_type": "stream",
     "text": [
      "アンディはゼラニウムを90本植えたので、ペチュニアは90本 - 40本 = 50本植えた。\n",
      "全部でアンディは90本のゼラニウムと50本のペチュニアを植えたので、合計で90本 + 50本 = 140本の花を植えた。\n"
     ]
    }
   ],
   "source": [
    "response = client.chat.completions.create(\n",
    "    model=\"gpt-3.5-turbo\",\n",
    "    messages=[{\"role\": \"user\", \"content\": prompt}]\n",
    "    )\n",
    "\n",
    "print(response.choices[0].message.content)"
   ]
  },
  {
   "cell_type": "markdown",
   "metadata": {},
   "source": [
    "### Self-translate"
   ]
  },
  {
   "cell_type": "code",
   "execution_count": 8,
   "metadata": {},
   "outputs": [],
   "source": [
    "# 英語に翻訳する\n",
    "prompt1 = \"\"\"\n",
    "Japanese:メアリは緑の魔女を叩かなかった．\n",
    "English:Mary did not slap the green witch.\n",
    "\n",
    "Japanese:アンディはゼラニウムを90本植え、ペチュニアをゼラニウムより40本少なく植える。\n",
    "全部で何本の花を植えたでしょう？\n",
    "English:\n",
    "\"\"\"\n"
   ]
  },
  {
   "cell_type": "code",
   "execution_count": 9,
   "metadata": {},
   "outputs": [
    {
     "name": "stdout",
     "output_type": "stream",
     "text": [
      "Andy planted 90 geraniums and planted 40 fewer petunias than geraniums.\n",
      "How many flowers did he plant in total?\n"
     ]
    }
   ],
   "source": [
    "response = client.chat.completions.create(\n",
    "    model=\"gpt-3.5-turbo\",\n",
    "    messages=[{\"role\": \"user\", \"content\": prompt1}]\n",
    "    )\n",
    "    \n",
    "output1 = response.choices[0].message.content\n",
    "\n",
    "print(response.choices[0].message.content)"
   ]
  },
  {
   "cell_type": "code",
   "execution_count": 10,
   "metadata": {},
   "outputs": [],
   "source": [
    "# 問題を解く\n",
    "prompt2 = \"\"\"\n",
    "Question: John had 12 apples and ate a quarter of them. How many apples does he have now?\n",
    "Stepwise solution: John ate 12÷4=3 apples. Therefore, he has 12-3=9 apples now. The answer is 9.\n",
    "\n",
    "Question: {output1_}\n",
    "Stepwise solution:\n",
    "\"\"\".format(output1_ = output1)"
   ]
  },
  {
   "cell_type": "code",
   "execution_count": 11,
   "metadata": {},
   "outputs": [
    {
     "name": "stdout",
     "output_type": "stream",
     "text": [
      "Andy planted 90-40=50 petunias.\n",
      "Therefore, he planted a total of 90+50=140 flowers.\n"
     ]
    }
   ],
   "source": [
    "response = client.chat.completions.create(\n",
    "    model=\"gpt-3.5-turbo\",\n",
    "    messages=[{\"role\": \"user\", \"content\": prompt2}]\n",
    "    )\n",
    "\n",
    "output2 = response.choices[0].message.content\n",
    "\n",
    "print(response.choices[0].message.content)"
   ]
  },
  {
   "cell_type": "code",
   "execution_count": 12,
   "metadata": {},
   "outputs": [],
   "source": [
    "# 元の言語に直す\n",
    "prompt3 = \"\"\"\n",
    "English:Mary did not slap the green witch.\n",
    "Japanese:メアリは緑の魔女を叩かなかった．\n",
    "\n",
    "English:{output2_}\n",
    "Japanese:\n",
    "\"\"\".format(output2_ = output2)"
   ]
  },
  {
   "cell_type": "code",
   "execution_count": 13,
   "metadata": {},
   "outputs": [
    {
     "name": "stdout",
     "output_type": "stream",
     "text": [
      "アンディはペチュニアを90-40=50株植えました。\n",
      "したがって、彼は合計で90+50=140本の花を植えました。\n"
     ]
    }
   ],
   "source": [
    "response = client.chat.completions.create(\n",
    "    model=\"gpt-3.5-turbo\",\n",
    "    messages=[{\"role\": \"user\", \"content\": prompt3}]\n",
    "    )\n",
    "\n",
    "print(response.choices[0].message.content)"
   ]
  },
  {
   "cell_type": "code",
   "execution_count": null,
   "metadata": {},
   "outputs": [],
   "source": []
  }
 ],
 "metadata": {
  "kernelspec": {
   "display_name": "Python 3.9.18 ('.venv': poetry)",
   "language": "python",
   "name": "python3"
  },
  "language_info": {
   "codemirror_mode": {
    "name": "ipython",
    "version": 3
   },
   "file_extension": ".py",
   "mimetype": "text/x-python",
   "name": "python",
   "nbconvert_exporter": "python",
   "pygments_lexer": "ipython3",
   "version": "3.9.18"
  },
  "orig_nbformat": 4,
  "vscode": {
   "interpreter": {
    "hash": "17a011378fed683b21aba93e5dd7c0cb7beefc09c5af72c6425b40c713e260dc"
   }
  }
 },
 "nbformat": 4,
 "nbformat_minor": 2
}
