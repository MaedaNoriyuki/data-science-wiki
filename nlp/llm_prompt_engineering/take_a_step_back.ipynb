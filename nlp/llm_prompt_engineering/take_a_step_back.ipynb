{
 "cells": [
  {
   "cell_type": "markdown",
   "metadata": {},
   "source": [
    "# Take a Step Back"
   ]
  },
  {
   "cell_type": "markdown",
   "metadata": {},
   "source": [
    "LLMに推論するための概念や原理を与えることで正しく推論するための精度を向上させる手法．\n",
    "- 論文:https://arxiv.org/abs/2310.06117"
   ]
  },
  {
   "cell_type": "markdown",
   "metadata": {},
   "source": [
    "<a href=\"https://colab.research.google.com/github/fuyu-quant/data-science-wiki/blob/develop/nlp/llm_prompt_engineering/take_a_step_back.ipynb\" target=\"_blank\" rel=\"noopener noreferrer\"><img src=\"https://colab.research.google.com/assets/colab-badge.svg\" alt=\"Open In Colab\"/></a>"
   ]
  },
  {
   "cell_type": "code",
   "execution_count": null,
   "metadata": {},
   "outputs": [],
   "source": [
    "%%capture\n",
    "!pip install openai"
   ]
  },
  {
   "cell_type": "code",
   "execution_count": 1,
   "metadata": {},
   "outputs": [],
   "source": [
    "import os\n",
    "from openai import OpenAI\n",
    "client = OpenAI()\n",
    "\n",
    "#os.environ[\"OPENAI_API_KEY\"] = \"YOUR_API_KEY\""
   ]
  },
  {
   "cell_type": "markdown",
   "metadata": {},
   "source": [
    "### 通常のプロンプト"
   ]
  },
  {
   "cell_type": "code",
   "execution_count": 2,
   "metadata": {},
   "outputs": [],
   "source": [
    "prompt = \"\"\"\n",
    "温度が2倍、体積が8倍になると、理想気体の圧力Pはどうなりますか？\n",
    "\"\"\""
   ]
  },
  {
   "cell_type": "code",
   "execution_count": 3,
   "metadata": {},
   "outputs": [
    {
     "name": "stdout",
     "output_type": "stream",
     "text": [
      "ボイルの法則に従えば、理想気体の圧力は体積の逆数に比例します。したがって、体積が8倍になる場合、圧力は1/8になります。\n"
     ]
    }
   ],
   "source": [
    "response = client.chat.completions.create(\n",
    "    model=\"gpt-3.5-turbo\",\n",
    "    messages=[{\"role\": \"user\", \"content\": prompt}]\n",
    "    )\n",
    "\n",
    "print(response.choices[0].message.content)"
   ]
  },
  {
   "cell_type": "markdown",
   "metadata": {},
   "source": [
    "### Take a Step Back"
   ]
  },
  {
   "cell_type": "code",
   "execution_count": 8,
   "metadata": {},
   "outputs": [],
   "source": [
    "prompt1 = \"\"\"\n",
    "Q:温度が2倍、体積が8倍になると、理想気体の圧力Pはどうなりますか？\n",
    "---------\n",
    "上記の質問を考える上でどのようなことが考えられますか？\n",
    "\"\"\""
   ]
  },
  {
   "cell_type": "code",
   "execution_count": 9,
   "metadata": {},
   "outputs": [
    {
     "name": "stdout",
     "output_type": "stream",
     "text": [
      "考えられることは以下の通りです：\n",
      "\n",
      "1. 理想気体の状態方程式を用いることができるかどうかを確認する必要があります。\n",
      "2. もし状態方程式を用いることができる場合、圧力（P）、体積（V）、温度（T）の関係を示す理想気体の状態方程式を考慮する必要があります。\n",
      "3. 温度が2倍、体積が8倍になるという条件が与えられた場合、圧力の数値が変化する可能性があることを考慮する必要があります。\n",
      "4. 温度と体積の変化により圧力が変化する場合、その変化の具体的な関係式を有しているかどうかを把握する必要があります。\n",
      "5. 他の条件が与えられなかった場合、状態方程式の具体的な数式を用いて計算を行い、圧力の変化を明確にする必要があります。\n"
     ]
    }
   ],
   "source": [
    "response = client.chat.completions.create(\n",
    "    model=\"gpt-3.5-turbo\",\n",
    "    messages=[{\"role\": \"user\", \"content\": prompt1}]\n",
    "    )\n",
    "\n",
    "output1 = response.choices[0].message.content\n",
    "\n",
    "print(response.choices[0].message.content)"
   ]
  },
  {
   "cell_type": "code",
   "execution_count": 10,
   "metadata": {},
   "outputs": [],
   "source": [
    "prompt2 = \"\"\"\n",
    "背景:{output1_}\n",
    "Q:温度が2倍、体積が8倍になると、理想気体の圧力Pはどうなりますか？\n",
    "A:\n",
    "\"\"\".format(output1_ = output1)"
   ]
  },
  {
   "cell_type": "code",
   "execution_count": 11,
   "metadata": {},
   "outputs": [
    {
     "name": "stdout",
     "output_type": "stream",
     "text": [
      "理想気体の状態方程式は、P × V = n × R × Tです（ここで、Pは圧力、Vは体積、nはモル数、Rは気体定数、Tは絶対温度を表します）。\n",
      "\n",
      "温度が2倍、体積が8倍になるという条件が与えられた場合、温度の変化による圧力の変化を求めるために、P × V ÷ T = 定数という関係を利用します。\n",
      "\n",
      "まず、温度が2倍になった場合、P × V ÷ T = 定数の式において、右辺の定数は変化しないため、左辺も変化しなければなりません。すなわち、P1 × V1 ÷ T1 = P2 × V2 ÷ T2とすることができます。\n",
      "\n",
      "ここで、P1は初期の圧力、V1は初期の体積、T1は初期の温度、P2は変化後の圧力、V2は変化後の体積、T2は変化後の温度を表します。\n",
      "\n",
      "温度が2倍になるという条件により、T2 = 2T1となります。また、体積が8倍になるという条件により、V2 = 8V1となります。\n",
      "\n",
      "これらの式を元の関係式に代入すると、P1 × V1 ÷ T1 = P2 × V2 ÷ T2をP1 × V1 ÷ T1 = P2 × (8V1) ÷ (2T1)と書き換えることができます。\n",
      "\n",
      "整理すると、P1 × V1 ÷ T1 = 4P2となります。\n",
      "\n",
      "これを式変形し、P2 = (P1 × V1 ÷ T1) ÷ 4と計算することで、温度が2倍、体積が8倍になると圧力Pは1/4になることが分かります。つまり、圧力は温度の変化や体積の変化に反比例して変化することが分かります。\n"
     ]
    }
   ],
   "source": [
    "response = client.chat.completions.create(\n",
    "    model=\"gpt-3.5-turbo\",\n",
    "    messages=[{\"role\": \"user\", \"content\": prompt2}]\n",
    "    )\n",
    "\n",
    "output2 = response.choices[0].message.content\n",
    "\n",
    "print(response.choices[0].message.content)"
   ]
  }
 ],
 "metadata": {
  "kernelspec": {
   "display_name": "Python 3.9.18 ('.venv': poetry)",
   "language": "python",
   "name": "python3"
  },
  "language_info": {
   "codemirror_mode": {
    "name": "ipython",
    "version": 3
   },
   "file_extension": ".py",
   "mimetype": "text/x-python",
   "name": "python",
   "nbconvert_exporter": "python",
   "pygments_lexer": "ipython3",
   "version": "3.9.18"
  },
  "orig_nbformat": 4,
  "vscode": {
   "interpreter": {
    "hash": "17a011378fed683b21aba93e5dd7c0cb7beefc09c5af72c6425b40c713e260dc"
   }
  }
 },
 "nbformat": 4,
 "nbformat_minor": 2
}
