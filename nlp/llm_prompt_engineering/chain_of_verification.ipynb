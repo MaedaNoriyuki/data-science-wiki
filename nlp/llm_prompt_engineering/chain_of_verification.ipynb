{
 "cells": [
  {
   "cell_type": "markdown",
   "metadata": {},
   "source": [
    "# Chain of Verification(CoVe)"
   ]
  },
  {
   "cell_type": "markdown",
   "metadata": {},
   "source": [
    "LLMの出力からハルシネーション(事実と異なる間違い)を減らすための手法です．\n",
    "- 論文:https://arxiv.org/abs/2309.11495"
   ]
  },
  {
   "cell_type": "markdown",
   "metadata": {},
   "source": [
    "<a href=\"https://colab.research.google.com/github/fuyu-quant/data-science-wiki/blob/develop/nlp/llm_prompt_engineering/chain_of_verification.ipynb\" target=\"_blank\" rel=\"noopener noreferrer\"><img src=\"https://colab.research.google.com/assets/colab-badge.svg\" alt=\"Open In Colab\"/></a>"
   ]
  },
  {
   "cell_type": "code",
   "execution_count": 1,
   "metadata": {},
   "outputs": [
    {
     "name": "stderr",
     "output_type": "stream",
     "text": [
      "/Users/tanakatouma/vscode/data-science-wiki/.venv/lib/python3.9/site-packages/langchain/llms/openai.py:202: UserWarning: You are trying to use a chat model. This way of initializing it is no longer supported. Instead, please use: `from langchain.chat_models import ChatOpenAI`\n",
      "  warnings.warn(\n",
      "/Users/tanakatouma/vscode/data-science-wiki/.venv/lib/python3.9/site-packages/langchain/llms/openai.py:790: UserWarning: You are trying to use a chat model. This way of initializing it is no longer supported. Instead, please use: `from langchain.chat_models import ChatOpenAI`\n",
      "  warnings.warn(\n"
     ]
    }
   ],
   "source": [
    "from langchain.llms import OpenAI\n",
    "\n",
    "llm_model = OpenAI(model_name= 'gpt-3.5-turbo', temperature=0)"
   ]
  },
  {
   "cell_type": "markdown",
   "metadata": {},
   "source": [
    "### Chain of Verification"
   ]
  },
  {
   "cell_type": "code",
   "execution_count": null,
   "metadata": {},
   "outputs": [],
   "source": [
    "prompt1 = \"\"\"\n",
    "Q: 質問1\n",
    "A: 1の答え\n",
    "Q: 質問2\n",
    "A: 2の答え\n",
    "Q: 質問3\n",
    "A:\n",
    "\"\"\""
   ]
  },
  {
   "cell_type": "code",
   "execution_count": null,
   "metadata": {},
   "outputs": [],
   "source": [
    "output1 = llm_model(prompt1)\n",
    "print(output1)"
   ]
  },
  {
   "cell_type": "code",
   "execution_count": null,
   "metadata": {},
   "outputs": [],
   "source": [
    "prompt2 = \"\"\"\n",
    "Context: Q:質問1\n",
    "A:1の答え\n",
    "Response:\n",
    "1の答えに含まれている事実，それを検証するための質問\n",
    "1の答えに含まれている事実，それを検証するための質問\n",
    "\n",
    "Context: Q:質問2\n",
    "A:2の答え\n",
    "Response:\n",
    "2の答えに含まれている事実，それを検証するための質問\n",
    "2の答えに含まれている事実，それを検証するための質問\n",
    "\n",
    "Context: Q:質問3\n",
    "A:{output1_}\n",
    "Response:\n",
    "\"\"\".format(output1=output1)"
   ]
  },
  {
   "cell_type": "code",
   "execution_count": null,
   "metadata": {},
   "outputs": [],
   "source": [
    "output2 = llm_model(prompt2)\n",
    "print(output2)"
   ]
  },
  {
   "cell_type": "code",
   "execution_count": null,
   "metadata": {},
   "outputs": [],
   "source": [
    "prompt3_1 = \"\"\"\n",
    "Q:検証するための質問\n",
    "A:答え\n",
    "\n",
    "Q:検証するための質問\n",
    "A:答え\n",
    "\n",
    "Q:先ほど生成した質問\n",
    "A:\n",
    "\"\"\""
   ]
  },
  {
   "cell_type": "code",
   "execution_count": null,
   "metadata": {},
   "outputs": [],
   "source": [
    "output3_1 = llm_model(prompt3_1)\n",
    "print(output3_1)"
   ]
  },
  {
   "cell_type": "code",
   "execution_count": null,
   "metadata": {},
   "outputs": [],
   "source": [
    "prompt3_2 = \"\"\"\n",
    "Q:検証するための質問\n",
    "A:答え\n",
    "\n",
    "Q:検証するための質問\n",
    "A:答え\n",
    "\n",
    "Q:先ほど生成した質問\n",
    "A:\n",
    "\"\"\""
   ]
  },
  {
   "cell_type": "code",
   "execution_count": null,
   "metadata": {},
   "outputs": [],
   "source": [
    "output3_2 = llm_model(prompt3_2)\n",
    "print(output3_2)"
   ]
  },
  {
   "cell_type": "code",
   "execution_count": null,
   "metadata": {},
   "outputs": [],
   "source": [
    "prompt4 = \"\"\"\n",
    "Context:修正前の文章\n",
    "別のソースからの情報\n",
    "検証ステップの実行結果:Q + A\n",
    "検証ステップの実行結果:Q + A\n",
    "Response:修正された一貫性のある文章\n",
    "\n",
    "Context:修正前の文章\n",
    "別のソースからの情報\n",
    "検証ステップの実行結果:Q + A\n",
    "検証ステップの実行結果:Q + A\n",
    "Response:修正された一貫性のある文章\n",
    "\n",
    "Context:prompt1の答え\n",
    "別のソースからの情報\n",
    "検証ステップの実行結果:Q(prompt2の質問) + A:{output3_1_}\n",
    "検証ステップの実行結果:Q(prompt2の質問) + A:{output3_2_}\n",
    "Response:\n",
    "\"\"\".format(output3_1_=output3_1, output3_2_=output3_2)\n"
   ]
  },
  {
   "cell_type": "code",
   "execution_count": null,
   "metadata": {},
   "outputs": [],
   "source": [
    "output4 = llm_model(prompt4)\n",
    "print(output4)"
   ]
  }
 ],
 "metadata": {
  "kernelspec": {
   "display_name": "Python 3.9.18 ('.venv': poetry)",
   "language": "python",
   "name": "python3"
  },
  "language_info": {
   "codemirror_mode": {
    "name": "ipython",
    "version": 3
   },
   "file_extension": ".py",
   "mimetype": "text/x-python",
   "name": "python",
   "nbconvert_exporter": "python",
   "pygments_lexer": "ipython3",
   "version": "3.9.18"
  },
  "orig_nbformat": 4,
  "vscode": {
   "interpreter": {
    "hash": "17a011378fed683b21aba93e5dd7c0cb7beefc09c5af72c6425b40c713e260dc"
   }
  }
 },
 "nbformat": 4,
 "nbformat_minor": 2
}
