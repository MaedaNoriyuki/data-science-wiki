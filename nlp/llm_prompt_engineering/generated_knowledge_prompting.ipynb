{
 "cells": [
  {
   "cell_type": "markdown",
   "metadata": {},
   "source": [
    "# Generated Knowledge Prompting"
   ]
  },
  {
   "cell_type": "markdown",
   "metadata": {},
   "source": [
    "LLMに関連知識を生成させプロンプトに追加することで，いくつかのデータセットでSOTAを達成した手法です．ChatGPTが出るより前の手法であるため最近の性能が高いモデルで実行すると知識の必要のなさを感じる.\n",
    "- 論文:https://arxiv.org/abs/2110.08387"
   ]
  },
  {
   "cell_type": "markdown",
   "metadata": {},
   "source": [
    "<a href=\"https://colab.research.google.com/github/fuyu-quant/data-science-wiki/blob/develop/nlp/llm_prompt_engineering/chain_of_thoughts.ipynb\" target=\"_blank\" rel=\"noopener noreferrer\"><img src=\"https://colab.research.google.com/assets/colab-badge.svg\" alt=\"Open In Colab\"/></a>"
   ]
  },
  {
   "cell_type": "code",
   "execution_count": 3,
   "metadata": {},
   "outputs": [
    {
     "name": "stderr",
     "output_type": "stream",
     "text": [
      "/Users/tanakatouma/vscode/data-science-wiki/.venv/lib/python3.9/site-packages/langchain/llms/openai.py:202: UserWarning: You are trying to use a chat model. This way of initializing it is no longer supported. Instead, please use: `from langchain.chat_models import ChatOpenAI`\n",
      "  warnings.warn(\n",
      "/Users/tanakatouma/vscode/data-science-wiki/.venv/lib/python3.9/site-packages/langchain/llms/openai.py:790: UserWarning: You are trying to use a chat model. This way of initializing it is no longer supported. Instead, please use: `from langchain.chat_models import ChatOpenAI`\n",
      "  warnings.warn(\n"
     ]
    }
   ],
   "source": [
    "import os\n",
    "from langchain.llms import OpenAI\n",
    "\n",
    "os.environ[\"OPENAI_API_KEY\"] = \"YOUR_API_KEY\"\n",
    "\n",
    "llm_model = OpenAI(model_name= 'gpt-3.5-turbo', temperature=0)"
   ]
  },
  {
   "cell_type": "markdown",
   "metadata": {},
   "source": [
    "### 通常のプロンプト"
   ]
  },
  {
   "cell_type": "code",
   "execution_count": 14,
   "metadata": {},
   "outputs": [],
   "source": [
    "prompt = \"\"\"\n",
    "ボディガードは職務に優れており、彼を雇った人をどう感じさせたのでしょうか？\n",
    "\"\"\""
   ]
  },
  {
   "cell_type": "code",
   "execution_count": 15,
   "metadata": {},
   "outputs": [
    {
     "name": "stdout",
     "output_type": "stream",
     "text": [
      "ボディガードの職務に優れていることから、彼を雇った人は安心感や信頼感を抱いたと思われます。彼の存在によって、雇った人は自身や大切な人々の安全が守られるという安心感を得ることができたでしょう。また、ボディガードのプロフェッショナリズムや能力によって、雇った人は彼に対して尊敬や感謝の念を抱くこともあるかもしれません。\n"
     ]
    }
   ],
   "source": [
    "output = llm_model(prompt)\n",
    "print(output)"
   ]
  },
  {
   "cell_type": "markdown",
   "metadata": {},
   "source": [
    "### Generated Knowledge Prompting"
   ]
  },
  {
   "cell_type": "code",
   "execution_count": 10,
   "metadata": {},
   "outputs": [],
   "source": [
    "prompt1 = \"\"\"\n",
    "さまざまなものに関する数値的な事実を生成してください．例:\n",
    "\n",
    "入力：グーグルマップをはじめとする高速道路や道路のGPSサービスが、何に取って代わったのか？\n",
    "知識：電子地図は紙の地図帳の現代版だ。\n",
    "入力：キツネは都市から森へ歩いて行ったが、何を探していたのでしょうか？\n",
    "知識：自然の生息地は通常、都市から離れている。\n",
    "入力：もし、誰かとファイルを共有できるのであれば、それは何ですか？\n",
    "知識：ファイルはインターネット上で共有できる。\n",
    "入力：あまりにも多くの人々がエキゾチックなヘビを欲しがっています。需要が何を動かしてそれらを運ぶのでしょうか？\n",
    "知識：ペットとしてヘビを飼う人もいる。\n",
    "入力：ボディガードは職務に優れており、彼を雇った人をどう感じさせたのでしょうか？\n",
    "知識：\n",
    "\"\"\""
   ]
  },
  {
   "cell_type": "code",
   "execution_count": 11,
   "metadata": {},
   "outputs": [
    {
     "name": "stdout",
     "output_type": "stream",
     "text": [
      "ボディガードは職務に優れており、彼を雇った人には安心感を与えた。\n"
     ]
    }
   ],
   "source": [
    "knowledge = llm_model(prompt1)\n",
    "print(knowledge)"
   ]
  },
  {
   "cell_type": "code",
   "execution_count": 12,
   "metadata": {},
   "outputs": [],
   "source": [
    "prompt2 = \"\"\"\n",
    "答えたい問題\n",
    "{knowledge_}\n",
    "\"\"\".format(knowledge_=knowledge)\n"
   ]
  },
  {
   "cell_type": "code",
   "execution_count": 13,
   "metadata": {},
   "outputs": [
    {
     "name": "stdout",
     "output_type": "stream",
     "text": [
      "ボディガードは職務に優れており、彼を雇った人には安心感を与えた理由は以下の通りです。\n",
      "\n",
      "1. 専門知識と経験: ボディガードは、危険な状況での対処方法や身辺警護のテクニックについて専門知識と経験を持っています。彼らは訓練を受け、様々なシナリオに対応する能力を身につけています。\n",
      "\n",
      "2. リスク評価と予防策: ボディガードは、雇用主のリスクを評価し、予防策を立てることができます。彼らは潜在的な脅威を予測し、事前に対策を講じることで、雇用主の安全を確保します。\n",
      "\n",
      "3. 信頼性と忠誠心: ボディガードは、雇用主の安全を最優先に考え、彼らの命令に忠実に従います。彼らはプロフェッショナルであり、機密情報や個人情報を守るために厳重な秘密保持義務を果たします。\n",
      "\n",
      "4. 危機管理能力: ボディガードは、危険な状況や緊急事態に対して冷静な判断力を持って対応します。彼らは迅速かつ効果的な行動を取り、雇用主の身体的な安全を確保するために必要な手段を講じます。\n",
      "\n",
      "5. コミュニケーションスキル: ボディガードは、雇用主とのコミュニケーションを円滑に行うことができます。彼らは雇用主の要望やニーズを理解し、それに応じた対策を講じることができます。\n",
      "\n",
      "これらの要素が組み合わさり、ボディガードは雇用主に安心感を与えることができます。彼らのプロフェッショナリズムと能力によって、雇用主は自身や大切な人々の安全を確保することができます。\n"
     ]
    }
   ],
   "source": [
    "output = llm_model(prompt2)\n",
    "print(output)"
   ]
  },
  {
   "cell_type": "code",
   "execution_count": null,
   "metadata": {},
   "outputs": [],
   "source": []
  }
 ],
 "metadata": {
  "kernelspec": {
   "display_name": "Python 3.9.18 ('.venv': poetry)",
   "language": "python",
   "name": "python3"
  },
  "language_info": {
   "codemirror_mode": {
    "name": "ipython",
    "version": 3
   },
   "file_extension": ".py",
   "mimetype": "text/x-python",
   "name": "python",
   "nbconvert_exporter": "python",
   "pygments_lexer": "ipython3",
   "version": "3.9.18"
  },
  "orig_nbformat": 4,
  "vscode": {
   "interpreter": {
    "hash": "17a011378fed683b21aba93e5dd7c0cb7beefc09c5af72c6425b40c713e260dc"
   }
  }
 },
 "nbformat": 4,
 "nbformat_minor": 2
}
