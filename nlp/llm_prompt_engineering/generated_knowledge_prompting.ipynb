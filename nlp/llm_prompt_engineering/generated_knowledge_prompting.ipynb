{
 "cells": [
  {
   "cell_type": "markdown",
   "metadata": {},
   "source": [
    "# Generated Knowledge Prompting"
   ]
  },
  {
   "cell_type": "markdown",
   "metadata": {},
   "source": [
    "LLMに関連知識を生成させプロンプトに追加することで，いくつかのデータセットでSOTAを達成した手法です．ChatGPTが出るより前の手法であるため最近の性能が高いモデルで実行すると知識の必要のなさを感じる.\n",
    "- 論文:https://arxiv.org/abs/2110.08387"
   ]
  },
  {
   "cell_type": "markdown",
   "metadata": {},
   "source": [
    "<a href=\"https://colab.research.google.com/github/fuyu-quant/data-science-wiki/blob/develop/nlp/llm_prompt_engineering/chain_of_thoughts.ipynb\" target=\"_blank\" rel=\"noopener noreferrer\"><img src=\"https://colab.research.google.com/assets/colab-badge.svg\" alt=\"Open In Colab\"/></a>"
   ]
  },
  {
   "cell_type": "code",
   "execution_count": null,
   "metadata": {},
   "outputs": [],
   "source": [
    "%%capture\n",
    "!pip install openai"
   ]
  },
  {
   "cell_type": "code",
   "execution_count": 1,
   "metadata": {},
   "outputs": [],
   "source": [
    "import os\n",
    "from openai import OpenAI\n",
    "\n",
    "#os.environ[\"OPENAI_API_KEY\"] = \"YOUR_API_KEY\"\n",
    "\n",
    "client = OpenAI()"
   ]
  },
  {
   "cell_type": "markdown",
   "metadata": {},
   "source": [
    "### 通常のプロンプト"
   ]
  },
  {
   "cell_type": "code",
   "execution_count": 2,
   "metadata": {},
   "outputs": [],
   "source": [
    "prompt = \"\"\"\n",
    "ボディガードは職務に優れており、彼を雇った人をどう感じさせたのでしょうか？\n",
    "\"\"\""
   ]
  },
  {
   "cell_type": "code",
   "execution_count": 3,
   "metadata": {},
   "outputs": [
    {
     "name": "stdout",
     "output_type": "stream",
     "text": [
      "ボディガードのプロフェッショナリズムは、雇用主に対して安心感と信頼を与えたでしょう。彼らは彼を雇ったことで自分自身や大切な人を守ることができると感じ、安心しているはずです。また、ボディガードの存在は、雇用主の重要性や社会的な地位を示すシンボルともなり得ます。そのため、彼を雇った人は自分自身の安全と尊厳を守ってくれる存在として、彼に対して敬意や感謝を抱いている可能性があります。\n"
     ]
    }
   ],
   "source": [
    "response = client.chat.completions.create(\n",
    "    model=\"gpt-3.5-turbo\",\n",
    "    messages=[{\"role\": \"user\", \"content\": prompt}]\n",
    "    )\n",
    "\n",
    "print(response.choices[0].message.content)"
   ]
  },
  {
   "cell_type": "markdown",
   "metadata": {},
   "source": [
    "### Generated Knowledge Prompting"
   ]
  },
  {
   "cell_type": "code",
   "execution_count": 4,
   "metadata": {},
   "outputs": [],
   "source": [
    "prompt1 = \"\"\"\n",
    "さまざまなものに関する数値的な事実を生成してください．例:\n",
    "\n",
    "入力：グーグルマップをはじめとする高速道路や道路のGPSサービスが、何に取って代わったのか？\n",
    "知識：電子地図は紙の地図帳の現代版だ。\n",
    "入力：キツネは都市から森へ歩いて行ったが、何を探していたのでしょうか？\n",
    "知識：自然の生息地は通常、都市から離れている。\n",
    "入力：もし、誰かとファイルを共有できるのであれば、それは何ですか？\n",
    "知識：ファイルはインターネット上で共有できる。\n",
    "入力：あまりにも多くの人々がエキゾチックなヘビを欲しがっています。需要が何を動かしてそれらを運ぶのでしょうか？\n",
    "知識：ペットとしてヘビを飼う人もいる。\n",
    "入力：ボディガードは職務に優れており、彼を雇った人をどう感じさせたのでしょうか？\n",
    "知識：\n",
    "\"\"\""
   ]
  },
  {
   "cell_type": "code",
   "execution_count": 5,
   "metadata": {},
   "outputs": [
    {
     "name": "stdout",
     "output_type": "stream",
     "text": [
      "ボディガードの存在は、雇った人に安心感を与える可能性がある。\n"
     ]
    }
   ],
   "source": [
    "response = client.chat.completions.create(\n",
    "    model=\"gpt-3.5-turbo\",\n",
    "    messages=[{\"role\": \"user\", \"content\": prompt1}]\n",
    "    )\n",
    "knowledge = response.choices[0].message.content\n",
    "\n",
    "print(response.choices[0].message.content)"
   ]
  },
  {
   "cell_type": "code",
   "execution_count": 6,
   "metadata": {},
   "outputs": [],
   "source": [
    "prompt2 = \"\"\"\n",
    "答えたい問題\n",
    "{knowledge_}\n",
    "\"\"\".format(knowledge_=knowledge)\n"
   ]
  },
  {
   "cell_type": "code",
   "execution_count": 7,
   "metadata": {},
   "outputs": [
    {
     "name": "stdout",
     "output_type": "stream",
     "text": [
      "それは正しいです。ボディガードの存在は、雇った人に対する安心感を高めることがあります。ボディガードは、身辺の安全を守るための専門的なトレーニングを受けており、危険な状況での対処能力に優れています。彼らが側にいることで、雇った人は自分自身や自身の大切な人々の安全を守るための手助けを受けることができ、心配やストレスを軽減することができます。そのため、ボディガードの存在は安心感を与える可能性があります。ただし、安全のためにボディガードを雇うことは費用がかかる場合もあり、個人のニーズや状況によっては必ずしも必要ではない場合もあります。\n"
     ]
    }
   ],
   "source": [
    "response = client.chat.completions.create(\n",
    "    model=\"gpt-3.5-turbo\",\n",
    "    messages=[{\"role\": \"user\", \"content\": prompt2}]\n",
    "    )\n",
    "\n",
    "print(response.choices[0].message.content)"
   ]
  },
  {
   "cell_type": "code",
   "execution_count": null,
   "metadata": {},
   "outputs": [],
   "source": []
  }
 ],
 "metadata": {
  "kernelspec": {
   "display_name": "Python 3.9.18 ('.venv': poetry)",
   "language": "python",
   "name": "python3"
  },
  "language_info": {
   "codemirror_mode": {
    "name": "ipython",
    "version": 3
   },
   "file_extension": ".py",
   "mimetype": "text/x-python",
   "name": "python",
   "nbconvert_exporter": "python",
   "pygments_lexer": "ipython3",
   "version": "3.9.18"
  },
  "orig_nbformat": 4,
  "vscode": {
   "interpreter": {
    "hash": "17a011378fed683b21aba93e5dd7c0cb7beefc09c5af72c6425b40c713e260dc"
   }
  }
 },
 "nbformat": 4,
 "nbformat_minor": 2
}
