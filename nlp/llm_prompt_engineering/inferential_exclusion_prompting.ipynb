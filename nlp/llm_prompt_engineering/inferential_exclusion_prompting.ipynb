{
 "cells": [
  {
   "cell_type": "markdown",
   "metadata": {},
   "source": [
    "# Inferential Exclusion Prompting(IEP)"
   ]
  },
  {
   "cell_type": "markdown",
   "metadata": {},
   "source": [
    "LLMに非線形な思考をさせることで精度を改善する手法．\n",
    "- 論文:https://arxiv.org/abs/2310.12342"
   ]
  },
  {
   "cell_type": "markdown",
   "metadata": {},
   "source": [
    "<a href=\"https://colab.research.google.com/github/fuyu-quant/data-science-wiki/blob/develop/nlp/llm_prompt_engineering/inferential_exclusion_prompting.ipynb\" target=\"_blank\" rel=\"noopener noreferrer\"><img src=\"https://colab.research.google.com/assets/colab-badge.svg\" alt=\"Open In Colab\"/></a>"
   ]
  },
  {
   "cell_type": "code",
   "execution_count": null,
   "metadata": {},
   "outputs": [],
   "source": [
    "%%capture\n",
    "!pip install openai"
   ]
  },
  {
   "cell_type": "code",
   "execution_count": 3,
   "metadata": {},
   "outputs": [],
   "source": [
    "import os\n",
    "from openai import OpenAI\n",
    "client = OpenAI()\n",
    "\n",
    "#os.environ[\"OPENAI_API_KEY\"] = \"YOUR_API_KEY\""
   ]
  },
  {
   "cell_type": "markdown",
   "metadata": {},
   "source": [
    "### 通常のプロンプト"
   ]
  },
  {
   "cell_type": "code",
   "execution_count": 4,
   "metadata": {},
   "outputs": [],
   "source": [
    "prompt = \"\"\"\n",
    "ロジャーはテニスボールを5個持っている。彼はさらに2つのテニスボール缶を買った。それぞれの缶には3個のテニスボールが入っている。彼は今何個のテニスボールを持っていますか？\n",
    "\"\"\""
   ]
  },
  {
   "cell_type": "code",
   "execution_count": 5,
   "metadata": {},
   "outputs": [
    {
     "name": "stdout",
     "output_type": "stream",
     "text": [
      "ロジャーは最初に5個のテニスボールを持っていました。さらに2つのテニスボール缶を買ったので、それぞれの缶には3個のテニスボールが入っています。\n",
      "したがって、彼は2つの缶から合計で3 × 2 = 6個のテニスボールを手に入れました。\n",
      "最初に持っていた5個のテニスボールに6個のテニスボールを足すと、彼は今11個のテニスボールを持っています。\n"
     ]
    }
   ],
   "source": [
    "response = client.chat.completions.create(\n",
    "    model=\"gpt-3.5-turbo\",\n",
    "    messages=[{\"role\": \"user\", \"content\": prompt}]\n",
    "    )\n",
    "\n",
    "print(response.choices[0].message.content)"
   ]
  },
  {
   "cell_type": "markdown",
   "metadata": {},
   "source": [
    "### Inferential Exclusion Prompting"
   ]
  },
  {
   "cell_type": "markdown",
   "metadata": {},
   "source": [
    "* 回答をいくつか出力"
   ]
  },
  {
   "cell_type": "code",
   "execution_count": 6,
   "metadata": {},
   "outputs": [],
   "source": [
    "question = \"\"\"\n",
    "ロジャーはテニスボールを5個持っている。彼はさらに2つのテニスボール缶を買った。それぞれの缶には3個のテニスボールが入っている。彼は今何個のテニスボールを持っていますか？\n",
    "\"\"\""
   ]
  },
  {
   "cell_type": "code",
   "execution_count": 7,
   "metadata": {},
   "outputs": [],
   "source": [
    "prompt1 = \"\"\"\n",
    "Q:{question_}\n",
    "上記の質問に対する回答として考えられるものを３つ出力してください．\n",
    "\"\"\".format(question_=question)"
   ]
  },
  {
   "cell_type": "code",
   "execution_count": 8,
   "metadata": {},
   "outputs": [
    {
     "name": "stdout",
     "output_type": "stream",
     "text": [
      "1. ロジャーは最初に5個のテニスボールを持っていて、さらに2つのテニスボール缶を買ったので、5 + (2 × 3) = 11個のテニスボールを持っています。\n",
      "\n",
      "2. ロジャーは最初に5個のテニスボールを持っていましたが、2つのテニスボール缶を買ったことで、5 + (2 × 3) = 11個のテニスボールを持っています。\n",
      "\n",
      "3. ロジャーは最初に5個のテニスボールを持っており、テニスボール缶2つを購入したことで、合計で5 + (2 × 3) = 11個のテニスボールを所有しています。\n"
     ]
    }
   ],
   "source": [
    "response = client.chat.completions.create(\n",
    "    model=\"gpt-3.5-turbo\",\n",
    "    messages=[{\"role\": \"user\", \"content\": prompt1}]\n",
    "    )\n",
    "\n",
    "print(response.choices[0].message.content)"
   ]
  },
  {
   "cell_type": "code",
   "execution_count": 9,
   "metadata": {},
   "outputs": [],
   "source": [
    "answer_1 = \"\"\"\n",
    "ロジャーは最初に5個のテニスボールを持っていて、さらに2つのテニスボール缶を買ったので、5 + (2 × 3) = 11個のテニスボールを持っています。\n",
    "\"\"\"\n",
    "\n",
    "answer_2 = \"\"\"\n",
    "ロジャーは最初に5個のテニスボールを持っていましたが、2つのテニスボール缶を買ったことで、5 + (2 × 3) = 11個のテニスボールを持っています。\n",
    "\"\"\"\n",
    "\n",
    "answer_3 = \"\"\"\n",
    "ロジャーは最初に5個のテニスボールを持っており、テニスボール缶2つを購入したことで、合計で5 + (2 × 3) = 11個のテニスボールを所有しています。\n",
    "\"\"\"\n"
   ]
  },
  {
   "cell_type": "markdown",
   "metadata": {},
   "source": [
    "* 前提の確認"
   ]
  },
  {
   "cell_type": "code",
   "execution_count": 14,
   "metadata": {},
   "outputs": [
    {
     "name": "stdout",
     "output_type": "stream",
     "text": [
      "ロジャーがテニスボール缶に入っているテニスボールを全て購入した場合。\n"
     ]
    }
   ],
   "source": [
    "prompt2_1 = \"\"\"\n",
    "Q:{question_}\n",
    "A:{answer_1}\n",
    "上記の回答が正しい前提はなんですか?\n",
    "\"\"\".format(question_=question, answer_1=answer_1)\n",
    "\n",
    "response = client.chat.completions.create(\n",
    "    model=\"gpt-3.5-turbo\",\n",
    "    messages=[{\"role\": \"user\", \"content\": prompt2_1}]\n",
    "    )\n",
    "\n",
    "output2_1 = response.choices[0].message.content\n",
    "\n",
    "print(response.choices[0].message.content)"
   ]
  },
  {
   "cell_type": "code",
   "execution_count": 15,
   "metadata": {},
   "outputs": [
    {
     "name": "stdout",
     "output_type": "stream",
     "text": [
      "上記の回答が正しい前提は、ロジャーが最初の5個のテニスボールを持っていることと、テニスボール缶ごとに3個のテニスボールが入っていることです。\n"
     ]
    }
   ],
   "source": [
    "prompt2_2 = \"\"\"\n",
    "Q:{question_}\n",
    "A:{answer_2}\n",
    "上記の回答が正しい前提はなんですか?\n",
    "\"\"\".format(question_=question, answer_2=answer_2)\n",
    "\n",
    "response = client.chat.completions.create(\n",
    "    model=\"gpt-3.5-turbo\",\n",
    "    messages=[{\"role\": \"user\", \"content\": prompt2_2}]\n",
    "    )\n",
    "\n",
    "output2_2 = response.choices[0].message.content\n",
    "\n",
    "print(response.choices[0].message.content)"
   ]
  },
  {
   "cell_type": "code",
   "execution_count": 16,
   "metadata": {},
   "outputs": [
    {
     "name": "stdout",
     "output_type": "stream",
     "text": [
      "ロジャーがテニスボール缶2つを買った際、それぞれの缶には3個のテニスボールが入っているという前提です。\n"
     ]
    }
   ],
   "source": [
    "prompt2_3 = \"\"\"\n",
    "Q:{question_}\n",
    "A:{answer_3}\n",
    "上記の回答が正しい前提はなんですか?\n",
    "\"\"\".format(question_=question, answer_3=answer_3)\n",
    "\n",
    "response = client.chat.completions.create(\n",
    "    model=\"gpt-3.5-turbo\",\n",
    "    messages=[{\"role\": \"user\", \"content\": prompt2_3}]\n",
    "    )\n",
    "\n",
    "output2_3 = response.choices[0].message.content\n",
    "\n",
    "print(response.choices[0].message.content)"
   ]
  },
  {
   "cell_type": "markdown",
   "metadata": {},
   "source": [
    "* 答えの確認\n",
    "前提と矛盾しない回答が得られたら終了する"
   ]
  },
  {
   "cell_type": "code",
   "execution_count": 17,
   "metadata": {},
   "outputs": [
    {
     "name": "stdout",
     "output_type": "stream",
     "text": [
      "ロジャーは最初に5個のテニスボールを持っています。さらに2つのテニスボール缶を買ったので、2 × 3 = 6個のテニスボールが追加されます。したがって、彼は合計で5 + 6 = 11個のテニスボールを持っています。\n"
     ]
    }
   ],
   "source": [
    "prompt3_1 = \"\"\"\n",
    "Q:{question_}\n",
    "A:{answer_1}\n",
    "前提:{output2_1}\n",
    "上記の回答を仮説として考えると，前提に合致していますか?\n",
    "\"\"\".format(question_=question, answer_1=answer_1, output2_1=output2_1)\n",
    "\n",
    "response = client.chat.completions.create(\n",
    "    model=\"gpt-3.5-turbo\",\n",
    "    messages=[{\"role\": \"user\", \"content\": prompt}]\n",
    "    )\n",
    "\n",
    "print(response.choices[0].message.content)"
   ]
  },
  {
   "cell_type": "code",
   "execution_count": 18,
   "metadata": {},
   "outputs": [
    {
     "name": "stdout",
     "output_type": "stream",
     "text": [
      "ロジャーは最初に5個のテニスボールを持っていました。それに加えて、2つの缶にはそれぞれ3個のテニスボールが入っているので、計2 x 3 = 6個のテニスボールを追加で買いました。\n",
      "したがって、ロジャーは最終的に5 + 6 = 11個のテニスボールを持っています。\n"
     ]
    }
   ],
   "source": [
    "prompt3_2 = \"\"\"\n",
    "Q:{question_}\n",
    "A:{answer_2}\n",
    "前提:{output2_2}\n",
    "上記の回答を仮説として考えると，前提に合致していますか?\n",
    "\"\"\".format(question_=question, answer_2=answer_2, output2_2=output2_2)\n",
    "\n",
    "response = client.chat.completions.create(\n",
    "    model=\"gpt-3.5-turbo\",\n",
    "    messages=[{\"role\": \"user\", \"content\": prompt}]\n",
    "    )\n",
    "\n",
    "print(response.choices[0].message.content)"
   ]
  },
  {
   "cell_type": "code",
   "execution_count": 19,
   "metadata": {},
   "outputs": [
    {
     "name": "stdout",
     "output_type": "stream",
     "text": [
      "ロジャーは最初に5個のテニスボールを持っているので、最初に持っていたテニスボールは5個です。\n",
      "さらに2つのテニスボール缶を買ったので、缶の中に入っているテニスボールは3個ずつなので、合計で2 × 3 = 6個です。\n",
      "したがって、ロジャーは現在、5個 + 6個 = 11個のテニスボールを持っています。\n"
     ]
    }
   ],
   "source": [
    "prompt3_3 = \"\"\"\n",
    "Q:{question_}\n",
    "A:{answer_3}\n",
    "前提:{output2_3}\n",
    "上記の回答を仮説として考えると，前提に合致していますか?\n",
    "\"\"\".format(question_=question, answer_3=answer_3, output2_3=output2_3)\n",
    "\n",
    "response = client.chat.completions.create(\n",
    "    model=\"gpt-3.5-turbo\",\n",
    "    messages=[{\"role\": \"user\", \"content\": prompt}]\n",
    "    )\n",
    "\n",
    "print(response.choices[0].message.content)"
   ]
  }
 ],
 "metadata": {
  "kernelspec": {
   "display_name": "Python 3.9.18 ('.venv': poetry)",
   "language": "python",
   "name": "python3"
  },
  "language_info": {
   "codemirror_mode": {
    "name": "ipython",
    "version": 3
   },
   "file_extension": ".py",
   "mimetype": "text/x-python",
   "name": "python",
   "nbconvert_exporter": "python",
   "pygments_lexer": "ipython3",
   "version": "3.9.18"
  },
  "orig_nbformat": 4,
  "vscode": {
   "interpreter": {
    "hash": "17a011378fed683b21aba93e5dd7c0cb7beefc09c5af72c6425b40c713e260dc"
   }
  }
 },
 "nbformat": 4,
 "nbformat_minor": 2
}
