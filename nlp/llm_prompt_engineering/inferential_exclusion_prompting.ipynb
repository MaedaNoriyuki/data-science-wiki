{
 "cells": [
  {
   "cell_type": "markdown",
   "metadata": {},
   "source": [
    "# Inferential Exclusion Prompting(IEP)"
   ]
  },
  {
   "cell_type": "markdown",
   "metadata": {},
   "source": [
    "LLMに非線形な思考をさせることで精度を改善する手法．\n",
    "- 論文:https://arxiv.org/abs/2310.12342"
   ]
  },
  {
   "cell_type": "markdown",
   "metadata": {},
   "source": [
    "<a href=\"https://colab.research.google.com/github/fuyu-quant/data-science-wiki/blob/develop/nlp/llm_prompt_engineering/inferential_exclusion_prompting.ipynb\" target=\"_blank\" rel=\"noopener noreferrer\"><img src=\"https://colab.research.google.com/assets/colab-badge.svg\" alt=\"Open In Colab\"/></a>"
   ]
  },
  {
   "cell_type": "code",
   "execution_count": 1,
   "metadata": {},
   "outputs": [
    {
     "name": "stderr",
     "output_type": "stream",
     "text": [
      "/Users/tanakatouma/vscode/data-science-wiki/.venv/lib/python3.9/site-packages/langchain/llms/openai.py:202: UserWarning: You are trying to use a chat model. This way of initializing it is no longer supported. Instead, please use: `from langchain.chat_models import ChatOpenAI`\n",
      "  warnings.warn(\n",
      "/Users/tanakatouma/vscode/data-science-wiki/.venv/lib/python3.9/site-packages/langchain/llms/openai.py:790: UserWarning: You are trying to use a chat model. This way of initializing it is no longer supported. Instead, please use: `from langchain.chat_models import ChatOpenAI`\n",
      "  warnings.warn(\n"
     ]
    }
   ],
   "source": [
    "import os\n",
    "from langchain.llms import OpenAI\n",
    "\n",
    "os.environ[\"OPENAI_API_KEY\"] = \"YOUR_API_KEY\"\n",
    "\n",
    "llm_model = OpenAI(model_name= 'gpt-3.5-turbo', temperature=0)"
   ]
  },
  {
   "cell_type": "markdown",
   "metadata": {},
   "source": [
    "### 通常のプロンプト"
   ]
  },
  {
   "cell_type": "code",
   "execution_count": 25,
   "metadata": {},
   "outputs": [],
   "source": [
    "prompt = \"\"\"\n",
    "ロジャーはテニスボールを5個持っている。彼はさらに2つのテニスボール缶を買った。それぞれの缶には3個のテニスボールが入っている。彼は今何個のテニスボールを持っていますか？\n",
    "\"\"\""
   ]
  },
  {
   "cell_type": "code",
   "execution_count": 26,
   "metadata": {},
   "outputs": [
    {
     "name": "stdout",
     "output_type": "stream",
     "text": [
      "ロジャーは最初に5個のテニスボールを持っていました。さらに2つのテニスボール缶を買ったので、それぞれの缶には3個のテニスボールが入っています。したがって、2つの缶から合計で2 * 3 = 6個のテニスボールを追加で手に入れました。したがって、ロジャーは最終的に5 + 6 = 11個のテニスボールを持っています。\n"
     ]
    }
   ],
   "source": [
    "output = llm_model(prompt)\n",
    "print(output)"
   ]
  },
  {
   "cell_type": "markdown",
   "metadata": {},
   "source": [
    "### Inferential Exclusion Prompting"
   ]
  },
  {
   "cell_type": "markdown",
   "metadata": {},
   "source": [
    "* 回答をいくつか出力"
   ]
  },
  {
   "cell_type": "code",
   "execution_count": 2,
   "metadata": {},
   "outputs": [],
   "source": [
    "question = \"\"\"\n",
    "ロジャーはテニスボールを5個持っている。彼はさらに2つのテニスボール缶を買った。それぞれの缶には3個のテニスボールが入っている。彼は今何個のテニスボールを持っていますか？\n",
    "\"\"\""
   ]
  },
  {
   "cell_type": "code",
   "execution_count": 7,
   "metadata": {},
   "outputs": [],
   "source": [
    "prompt1 = \"\"\"\n",
    "Q:{question_}\n",
    "上記の質問に対する回答として考えられるものを３つ出力してください．\n",
    "\"\"\".format(question_=question)"
   ]
  },
  {
   "cell_type": "code",
   "execution_count": 8,
   "metadata": {},
   "outputs": [
    {
     "name": "stdout",
     "output_type": "stream",
     "text": [
      "1. ロジャーは最初に持っていたテニスボールの数は5個であり、さらに2つのテニスボール缶を買ったので、合計で5 + 2 × 3 = 11個のテニスボールを持っています。\n",
      "\n",
      "2. ロジャーは最初に持っていたテニスボールの数は5個であり、1つのテニスボール缶には3個のテニスボールが入っているので、2つの缶で合計で5 + 2 × 3 = 11個のテニスボールを持っています。\n",
      "\n",
      "3. ロジャーは最初に持っていたテニスボールの数は5個であり、2つのテニスボール缶を買ったので、合計で5 + 2 × 3 = 11個のテニスボールを持っています。\n"
     ]
    }
   ],
   "source": [
    "output1 = llm_model(prompt1)\n",
    "print(output1)"
   ]
  },
  {
   "cell_type": "code",
   "execution_count": 9,
   "metadata": {},
   "outputs": [],
   "source": [
    "answer_1 = \"\"\"\n",
    "ロジャーは最初に持っていたテニスボールの数は5個であり、さらに2つのテニスボール缶を買ったので、合計で5 + 2 × 3 = 11個のテニスボールを持っています。\n",
    "\"\"\"\n",
    "\n",
    "answer_2 = \"\"\"\n",
    "ロジャーは最初に持っていたテニスボールの数は5個であり、1つのテニスボール缶には3個のテニスボールが入っているので、2つの缶で合計で5 + 2 × 3 = 11個のテニスボールを持っています。\n",
    "\"\"\"\n",
    "\n",
    "answer_3 = \"\"\"\n",
    "ロジャーは最初に持っていたテニスボールの数は5個であり、2つのテニスボール缶を買ったので、合計で5 + 2 × 3 = 11個のテニスボールを持っています。\n",
    "\"\"\"\n"
   ]
  },
  {
   "cell_type": "markdown",
   "metadata": {},
   "source": [
    "* 前提の確認"
   ]
  },
  {
   "cell_type": "code",
   "execution_count": 19,
   "metadata": {},
   "outputs": [
    {
     "name": "stdout",
     "output_type": "stream",
     "text": [
      "上記の回答が正しい前提は、テニスボール缶1つに3個のテニスボールが入っているということです。\n"
     ]
    }
   ],
   "source": [
    "prompt2_1 = \"\"\"\n",
    "Q:{question_}\n",
    "A:{answer_1}\n",
    "上記の回答が正しい前提はなんですか?\n",
    "\"\"\".format(question_=question, answer_1=answer_1)\n",
    "\n",
    "output2_1 = llm_model(prompt2_1)\n",
    "print(output2_1)"
   ]
  },
  {
   "cell_type": "code",
   "execution_count": 20,
   "metadata": {},
   "outputs": [
    {
     "name": "stdout",
     "output_type": "stream",
     "text": [
      "上記の回答が正しい前提は、ロジャーが最初に持っていたテニスボールの数が5個であり、1つのテニスボール缶には3個のテニスボールが入っていることです。また、ロジャーが2つのテニスボール缶を買ったという情報も正しい前提です。\n"
     ]
    }
   ],
   "source": [
    "prompt2_2 = \"\"\"\n",
    "Q:{question_}\n",
    "A:{answer_2}\n",
    "上記の回答が正しい前提はなんですか?\n",
    "\"\"\".format(question_=question, answer_2=answer_2)\n",
    "\n",
    "output2_2 = llm_model(prompt2_2)\n",
    "print(output2_2)"
   ]
  },
  {
   "cell_type": "code",
   "execution_count": 21,
   "metadata": {},
   "outputs": [
    {
     "name": "stdout",
     "output_type": "stream",
     "text": [
      "上記の回答が正しい前提は、テニスボール缶のそれぞれに3個のテニスボールが入っているということです。\n"
     ]
    }
   ],
   "source": [
    "prompt2_3 = \"\"\"\n",
    "Q:{question_}\n",
    "A:{answer_3}\n",
    "上記の回答が正しい前提はなんですか?\n",
    "\"\"\".format(question_=question, answer_3=answer_3)\n",
    "\n",
    "output2_3 = llm_model(prompt2_3)\n",
    "print(output2_3)"
   ]
  },
  {
   "cell_type": "markdown",
   "metadata": {},
   "source": [
    "* 答えの確認"
   ]
  },
  {
   "cell_type": "code",
   "execution_count": 22,
   "metadata": {},
   "outputs": [
    {
     "name": "stdout",
     "output_type": "stream",
     "text": [
      "はい、上記の回答は仮説として考えると、前提に合致しています。\n"
     ]
    }
   ],
   "source": [
    "prompt3_1 = \"\"\"\n",
    "Q:{question_}\n",
    "A:{answer_1}\n",
    "前提:{output2_1}\n",
    "上記の回答を仮説として考えると，前提に合致していますか?\n",
    "\"\"\".format(question_=question, answer_1=answer_1, output2_1=output2_1)\n",
    "\n",
    "output3_1 = llm_model(prompt3_1)\n",
    "print(output3_1)"
   ]
  },
  {
   "cell_type": "code",
   "execution_count": 23,
   "metadata": {},
   "outputs": [
    {
     "name": "stdout",
     "output_type": "stream",
     "text": [
      "はい、上記の回答は前提に合致しています。ロジャーが最初に持っていたテニスボールの数が5個であり、1つのテニスボール缶には3個のテニスボールが入っているという情報が与えられており、またロジャーが2つのテニスボール缶を買ったという情報も与えられています。したがって、ロジャーは合計で11個のテニスボールを持っているという結論が導かれます。\n"
     ]
    }
   ],
   "source": [
    "prompt3_2 = \"\"\"\n",
    "Q:{question_}\n",
    "A:{answer_2}\n",
    "前提:{output2_2}\n",
    "上記の回答を仮説として考えると，前提に合致していますか?\n",
    "\"\"\".format(question_=question, answer_2=answer_2, output2_2=output2_2)\n",
    "\n",
    "output = llm_model(prompt3_2)\n",
    "print(output)"
   ]
  },
  {
   "cell_type": "code",
   "execution_count": 24,
   "metadata": {},
   "outputs": [
    {
     "name": "stdout",
     "output_type": "stream",
     "text": [
      "はい、上記の回答は仮説として考えると、前提に合致しています。\n"
     ]
    }
   ],
   "source": [
    "prompt3_3 = \"\"\"\n",
    "Q:{question_}\n",
    "A:{answer_3}\n",
    "前提:{output2_3}\n",
    "上記の回答を仮説として考えると，前提に合致していますか?\n",
    "\"\"\".format(question_=question, answer_3=answer_3, output2_3=output2_3)\n",
    "\n",
    "output3_3 = llm_model(prompt3_3)\n",
    "print(output3_3)"
   ]
  }
 ],
 "metadata": {
  "kernelspec": {
   "display_name": "Python 3.9.18 ('.venv': poetry)",
   "language": "python",
   "name": "python3"
  },
  "language_info": {
   "codemirror_mode": {
    "name": "ipython",
    "version": 3
   },
   "file_extension": ".py",
   "mimetype": "text/x-python",
   "name": "python",
   "nbconvert_exporter": "python",
   "pygments_lexer": "ipython3",
   "version": "3.9.18"
  },
  "orig_nbformat": 4,
  "vscode": {
   "interpreter": {
    "hash": "17a011378fed683b21aba93e5dd7c0cb7beefc09c5af72c6425b40c713e260dc"
   }
  }
 },
 "nbformat": 4,
 "nbformat_minor": 2
}
