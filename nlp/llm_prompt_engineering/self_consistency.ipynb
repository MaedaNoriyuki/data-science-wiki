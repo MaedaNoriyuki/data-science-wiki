{
 "cells": [
  {
   "cell_type": "markdown",
   "metadata": {},
   "source": [
    "# Self-Consistency"
   ]
  },
  {
   "cell_type": "markdown",
   "metadata": {},
   "source": [
    "Few-shot CoTの出力結果の多数決を行い最終的な出力結果にする手法．\n",
    "- 論文:https://arxiv.org/abs/2203.11171"
   ]
  },
  {
   "cell_type": "markdown",
   "metadata": {},
   "source": [
    "<a href=\"https://colab.research.google.com/github/fuyu-quant/data-science-wiki/blob/develop/nlp/llm_prompt_engineering/self_consistency.ipynb\" target=\"_blank\" rel=\"noopener noreferrer\"><img src=\"https://colab.research.google.com/assets/colab-badge.svg\" alt=\"Open In Colab\"/></a>"
   ]
  },
  {
   "cell_type": "code",
   "execution_count": null,
   "metadata": {},
   "outputs": [],
   "source": [
    "%%capture\n",
    "!pip install openai"
   ]
  },
  {
   "cell_type": "code",
   "execution_count": 3,
   "metadata": {},
   "outputs": [],
   "source": [
    "import os\n",
    "from openai import OpenAI\n",
    "client = OpenAI()\n",
    "\n",
    "#os.environ[\"OPENAI_API_KEY\"] = \"YOUR_API_KEY\""
   ]
  },
  {
   "cell_type": "markdown",
   "metadata": {},
   "source": [
    "### Self-Consistency"
   ]
  },
  {
   "cell_type": "code",
   "execution_count": 4,
   "metadata": {},
   "outputs": [],
   "source": [
    "prompt = \"\"\"\n",
    "Q：駐車場に車が3台あり、さらに2台の車が到着した場合、駐車場には何台の車がありますか？\n",
    "A：駐車場には既に3台の車があります。2台の車が到着しました。これで、車が3+2 = 5台あります。\n",
    "回答は5です。\n",
    "\n",
    "Q：リアは32個のチョコレートを持っており、彼女の姉妹は42個のチョコレートを持っています。\n",
    "彼らが35個食べた場合、彼らが残したピースの数は何ですか？\n",
    "A：リアは32個のチョコレートを持っており、リアの姉妹は42個のチョコレートを持っていたことを意味します。\n",
    "つまり、もともとは32 + 42 = 74個のチョコレートがありました。35個食べられました。したがって、\n",
    "合計で残るのは74-35 = 39個のチョコレートです。回答は39です。\n",
    "\n",
    "Q：ショーンは5つのおもちゃを持っています。クリスマスに、彼は両親からそれぞれ2つのおもちゃをもらいました。\n",
    "今、彼は何個のおもちゃを持っていますか？\n",
    "A：彼は5つのおもちゃを持っています。彼は母親から2つのおもちゃをもらいました。したがって、\n",
    "5 + 2 = 7個のおもちゃがあります。\n",
    "その後、父親から2つのおもちゃが追加されたので、合計で7 + 2 = 9個のおもちゃがあります。\n",
    "回答は9です。\n",
    "\n",
    "Q：マイケルは58個のゴルフボールを持っています。火曜日に、彼は23個のゴルフボールを\n",
    "失いました。水曜日に、さらに2個を失いました。水曜日の終わりには、彼は何個のゴルフボール\n",
    "を持っていましたか？\n",
    "A：マイケルは最初に58個のボールを持っていました。火曜日に23個を失いましたので、\n",
    "その後35個のボールが残りました。水曜日に2個を失ったので、現在33個のボールがあります。\n",
    "回答は33です。\n",
    "\n",
    "Q：オリビアは23ドル持っています。彼女は1つあたり3ドルのベーグルを5つ買いました。\n",
    "彼女が残したお金はいくらですか？\n",
    "A：彼女は1つあたり3ドルのベーグルを5つ購入しました。彼女は１５ドルを使った。\n",
    "残したお金は８ドルです。\n",
    "\n",
    "Q：私が6歳のとき、妹は私の半分の年齢でした。今、私は70歳です。私の妹は何歳ですか？\n",
    "A：\n",
    "\n",
    "\"\"\""
   ]
  },
  {
   "cell_type": "markdown",
   "metadata": {},
   "source": [
    "### Self-consistency\n",
    "出力結果で多数のものを正解とする"
   ]
  },
  {
   "cell_type": "code",
   "execution_count": 6,
   "metadata": {},
   "outputs": [
    {
     "name": "stdout",
     "output_type": "stream",
     "text": [
      "出力0\n",
      "妹は私の半分の年齢だったので、私が6歳のときには3歳でした。\n",
      "私は現在70歳なので、妹は70歳 - 6歳 = 64歳です。\n",
      "出力1\n",
      "妹が6歳の時、私は12歳でした（妹の年齢の倍の年齢）。その後、私は64歳歳を迎えています（70歳 - 6歳）。妹は私の年齢の半分であるため、64歳の半分の年齢は32歳です。したがって、妹は32歳です。\n",
      "出力2\n",
      "あなたが6歳のとき、妹はあなたの半分の年齢なので、6歳の妹は3歳です。\n",
      "現在、あなたは70歳です。したがって、あなたの妹は70 - 6 + 3 = 67歳です。\n",
      "出力3\n",
      "妹は現在69歳です。\n",
      "出力4\n",
      "私が6歳のとき、妹は私の半分の年齢でした。つまり、妹は6 / 2 = 3歳でした。\n",
      "今、私は70歳ですが、妹は私の年齢に関係なく半分の歳を取っているので、\n",
      "妹は70 / 2 = 35歳です。\n",
      "回答は35です。\n",
      "出力5\n",
      "私が6歳のとき、妹は私の半分の年齢である3歳でした。\n",
      "今、私が70歳であるため、妹は70 - 6 + 3 = 67歳です。\n",
      "回答は67歳です。\n",
      "出力6\n",
      "あなたが6歳の時、妹はあなたの半分の年齢なので、妹の年齢は6歳の半分の3歳です。\n",
      "今、あなたが70歳なので、妹は70歳 - 3歳 = 67歳です。\n",
      "回答は67歳です。\n",
      "出力7\n",
      "妹は現在70-6= 64歳です。\n",
      "出力8\n",
      "あなたが6歳のとき、妹はあなたの半分の年齢だったと言うことは、妹は3歳でした。\n",
      "今、あなたが70歳なので、妹は70-6+3 = 67歳です。\n",
      "回答は67歳です。\n",
      "出力9\n",
      "私が6歳のとき、妹は私の半分の年齢である3歳でした。\n",
      "私が70歳になった今、妹は66歳です。\n"
     ]
    }
   ],
   "source": [
    "for i in range(10):\n",
    "    print(f'出力{i}')\n",
    "    response = client.chat.completions.create(\n",
    "    model=\"gpt-3.5-turbo\",\n",
    "    messages=[{\"role\": \"user\", \"content\": prompt}]\n",
    "    )\n",
    "\n",
    "    print(response.choices[0].message.content)"
   ]
  },
  {
   "cell_type": "code",
   "execution_count": null,
   "metadata": {},
   "outputs": [],
   "source": []
  }
 ],
 "metadata": {
  "kernelspec": {
   "display_name": "Python 3.9.18 ('.venv': poetry)",
   "language": "python",
   "name": "python3"
  },
  "language_info": {
   "codemirror_mode": {
    "name": "ipython",
    "version": 3
   },
   "file_extension": ".py",
   "mimetype": "text/x-python",
   "name": "python",
   "nbconvert_exporter": "python",
   "pygments_lexer": "ipython3",
   "version": "3.9.18"
  },
  "orig_nbformat": 4,
  "vscode": {
   "interpreter": {
    "hash": "17a011378fed683b21aba93e5dd7c0cb7beefc09c5af72c6425b40c713e260dc"
   }
  }
 },
 "nbformat": 4,
 "nbformat_minor": 2
}
