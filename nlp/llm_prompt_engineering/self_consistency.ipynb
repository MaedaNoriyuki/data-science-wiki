{
 "cells": [
  {
   "cell_type": "markdown",
   "metadata": {},
   "source": [
    "# Self-Consistency"
   ]
  },
  {
   "cell_type": "markdown",
   "metadata": {},
   "source": [
    "Few-shot CoTの出力結果の多数決を行い最終的な出力結果にする手法．\n",
    "- 論文:https://arxiv.org/abs/2203.11171"
   ]
  },
  {
   "cell_type": "markdown",
   "metadata": {},
   "source": [
    "<a href=\"https://colab.research.google.com/github/fuyu-quant/data-science-wiki/blob/develop/nlp/llm_prompt_engineering/self_consistency.ipynb\" target=\"_blank\" rel=\"noopener noreferrer\"><img src=\"https://colab.research.google.com/assets/colab-badge.svg\" alt=\"Open In Colab\"/></a>"
   ]
  },
  {
   "cell_type": "code",
   "execution_count": 1,
   "metadata": {},
   "outputs": [
    {
     "name": "stderr",
     "output_type": "stream",
     "text": [
      "/Users/tanakatouma/vscode/data-science-wiki/.venv/lib/python3.9/site-packages/langchain/llms/openai.py:202: UserWarning: You are trying to use a chat model. This way of initializing it is no longer supported. Instead, please use: `from langchain.chat_models import ChatOpenAI`\n",
      "  warnings.warn(\n",
      "/Users/tanakatouma/vscode/data-science-wiki/.venv/lib/python3.9/site-packages/langchain/llms/openai.py:790: UserWarning: You are trying to use a chat model. This way of initializing it is no longer supported. Instead, please use: `from langchain.chat_models import ChatOpenAI`\n",
      "  warnings.warn(\n"
     ]
    }
   ],
   "source": [
    "from langchain.llms import OpenAI\n",
    "\n",
    "llm_model = OpenAI(model_name= 'gpt-3.5-turbo', temperature=0)"
   ]
  },
  {
   "cell_type": "markdown",
   "metadata": {},
   "source": [
    "### Self-Consistency"
   ]
  },
  {
   "cell_type": "code",
   "execution_count": 5,
   "metadata": {},
   "outputs": [],
   "source": [
    "prompt = \"\"\"\n",
    "Q：駐車場に車が3台あり、さらに2台の車が到着した場合、駐車場には何台の車がありますか？\n",
    "A：駐車場には既に3台の車があります。2台の車が到着しました。これで、車が3+2 = 5台あります。\n",
    "回答は5です。\n",
    "\n",
    "Q：リアは32個のチョコレートを持っており、彼女の姉妹は42個のチョコレートを持っています。\n",
    "彼らが35個食べた場合、彼らが残したピースの数は何ですか？\n",
    "A：リアは32個のチョコレートを持っており、リアの姉妹は42個のチョコレートを持っていたことを意味します。\n",
    "つまり、もともとは32 + 42 = 74個のチョコレートがありました。35個食べられました。したがって、\n",
    "合計で残るのは74-35 = 39個のチョコレートです。回答は39です。\n",
    "\n",
    "Q：ショーンは5つのおもちゃを持っています。クリスマスに、彼は両親からそれぞれ2つのおもちゃをもらいました。\n",
    "今、彼は何個のおもちゃを持っていますか？\n",
    "A：彼は5つのおもちゃを持っています。彼は母親から2つのおもちゃをもらいました。したがって、\n",
    "5 + 2 = 7個のおもちゃがあります。\n",
    "その後、父親から2つのおもちゃが追加されたので、合計で7 + 2 = 9個のおもちゃがあります。\n",
    "回答は9です。\n",
    "\n",
    "Q：マイケルは58個のゴルフボールを持っています。火曜日に、彼は23個のゴルフボールを\n",
    "失いました。水曜日に、さらに2個を失いました。水曜日の終わりには、彼は何個のゴルフボール\n",
    "を持っていましたか？\n",
    "A：マイケルは最初に58個のボールを持っていました。火曜日に23個を失いましたので、\n",
    "その後35個のボールが残りました。水曜日に2個を失ったので、現在33個のボールがあります。\n",
    "回答は33です。\n",
    "\n",
    "Q：オリビアは23ドル持っています。彼女は1つあたり3ドルのベーグルを5つ買いました。\n",
    "彼女が残したお金はいくらですか？\n",
    "A：彼女は1つあたり3ドルのベーグルを5つ購入しました。彼女は１５ドルを使った。\n",
    "残したお金は８ドルです。\n",
    "\n",
    "Q：私が6歳のとき、妹は私の半分の年齢でした。今、私は70歳です。私の妹は何歳ですか？\n",
    "A：\n",
    "\n",
    "\"\"\""
   ]
  },
  {
   "cell_type": "code",
   "execution_count": 6,
   "metadata": {},
   "outputs": [
    {
     "name": "stdout",
     "output_type": "stream",
     "text": [
      "出力0\n",
      "私が6歳のとき、妹は私の半分の年齢である3歳でした。現在、私は70歳ですので、妹は70歳 - 6歳 + 3歳 = 67歳です。回答は67歳です。\n",
      "出力1\n",
      "私が6歳のとき、妹は私の半分の年齢である3歳でした。現在、私は70歳ですので、妹は70歳 - 6歳 + 3歳 = 67歳です。回答は67歳です。\n",
      "出力2\n",
      "私が6歳のとき、妹は私の半分の年齢である3歳でした。現在、私は70歳ですので、妹は70歳-3歳=67歳です。回答は67歳です。\n",
      "出力3\n",
      "私が6歳のとき、妹は私の半分の年齢である3歳でした。現在、私は70歳ですので、妹は70歳 - 6歳 + 3歳 = 67歳です。回答は67歳です。\n",
      "出力4\n",
      "私が6歳のとき、妹は私の半分の年齢である3歳でした。現在、私は70歳ですので、妹は70歳-3歳=67歳です。回答は67歳です。\n"
     ]
    }
   ],
   "source": [
    "for i in range(5):\n",
    "    output = llm_model(prompt)\n",
    "    print(f'出力{i}')\n",
    "    print(output)"
   ]
  }
 ],
 "metadata": {
  "kernelspec": {
   "display_name": "Python 3.9.18 ('.venv': poetry)",
   "language": "python",
   "name": "python3"
  },
  "language_info": {
   "codemirror_mode": {
    "name": "ipython",
    "version": 3
   },
   "file_extension": ".py",
   "mimetype": "text/x-python",
   "name": "python",
   "nbconvert_exporter": "python",
   "pygments_lexer": "ipython3",
   "version": "3.9.18"
  },
  "orig_nbformat": 4,
  "vscode": {
   "interpreter": {
    "hash": "17a011378fed683b21aba93e5dd7c0cb7beefc09c5af72c6425b40c713e260dc"
   }
  }
 },
 "nbformat": 4,
 "nbformat_minor": 2
}
