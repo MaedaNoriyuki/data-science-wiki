{
  "cells": [
    {
      "cell_type": "markdown",
      "metadata": {},
      "source": [
        "# BERTopic"
      ]
    },
    {
      "cell_type": "markdown",
      "metadata": {
        "id": "sAophg05_I6Y"
      },
      "source": [
        "* [BERTopic\u306e\u516c\u5f0f\u30c9\u30ad\u30e5\u30e1\u30f3\u30c8](https://maartengr.github.io/BERTopic/index.html)\n",
        "* [BERTopic\u306e\u516c\u5f0f\u30ce\u30fc\u30c8\u30d6\u30c3\u30af](https://colab.research.google.com/drive/18arPPe50szvcCp_Y6xS56H2tY0m-RLqv?usp=sharing#scrollTo=W2AaTdNhCkGO)\n",
        "* Transformers(\u30c7\u30d5\u30a9\u30eb\u30c8\u3060\u3068'all-MiniLM-L6-v2')\u3068c-TF-IDF\u3092\u4f7f\u3063\u3066\uff0c\u30c8\u30d4\u30c3\u30af\u306e\u8a18\u8ff0\u306b\u91cd\u8981\u306a\u5358\u8a9e\u3092\u6b8b\u3057\u305f\u307e\u307e\u89e3\u91c8\u3057\u3084\u3059\u3044\u30af\u30e9\u30b9\u30bf\u3092\u4f5c\u6210\u3059\u308b\u30c8\u30d4\u30c3\u30af\u30e2\u30c7\u30eb\n",
        "* https://qiita.com/takky_0330/items/9cf8d642be3b216dd70d\n"
      ]
    },
    {
      "cell_type": "markdown",
      "metadata": {
        "colab_type": "text",
        "id": "view-in-github"
      },
      "source": [
        "<a href=\"https://colab.research.google.com/github/fuyu-quant/Data_Science/blob/main/Natural_Language_processing/Topic_Model(english)/BERTopic.ipynb\" target=\"_parent\"><img src=\"https://colab.research.google.com/assets/colab-badge.svg\" alt=\"Open In Colab\"/></a>"
      ]
    },
    {
      "cell_type": "code",
      "execution_count": 3,
      "metadata": {
        "id": "IqCoct6xABRe"
      },
      "outputs": [],
      "source": [
        "%%capture\n",
        "!pip install bertopic"
      ]
    },
    {
      "cell_type": "code",
      "execution_count": 4,
      "metadata": {
        "id": "mQhMmoQbA7-T"
      },
      "outputs": [],
      "source": [
        "from bertopic import BERTopic\n",
        "from sklearn.datasets import fetch_20newsgroups"
      ]
    },
    {
      "cell_type": "markdown",
      "metadata": {
        "id": "CiuNiVrLCgm_"
      },
      "source": [
        "## \u30c7\u30fc\u30bf\u306e\u7528\u610f"
      ]
    },
    {
      "cell_type": "code",
      "execution_count": 6,
      "metadata": {
        "id": "MjU5py7uCg70"
      },
      "outputs": [],
      "source": [
        "docs = fetch_20newsgroups(subset='all',  remove=('headers', 'footers', 'quotes'))['data']"
      ]
    },
    {
      "cell_type": "markdown",
      "metadata": {
        "id": "tY0Zl6TSANXt"
      },
      "source": [
        "## BERTopic"
      ]
    },
    {
      "cell_type": "code",
      "execution_count": 17,
      "metadata": {
        "id": "6YD3HYnlFxie"
      },
      "outputs": [],
      "source": [
        "#embedding_model=\"all-MiniLM-L6-v2\"\n",
        "embedding_model=\"xlm-r-bert-base-nli-stsb-mean-tokens\"\n",
        "\n",
        "# Embedding\u306bSentenceTransformer\u3092\u4f7f\u3046\n",
        "#from sentence_transformers import SentenceTransformer\n",
        "#embedding_model = SentenceTransformer(\"xlm-r-bert-base-nli-stsb-mean-tokens\", device=\"cuda\")\n",
        "\n",
        "# \u516c\u958b\u3055\u308c\u3066\u3044\u308b\u3055\u307e\u3056\u307e\u306a\u30e2\u30c7\u30eb\u3067Embedding\u3092\u3059\u308b\u5834\u5408\n",
        "#from flair.embeddings import TransformerDocumentEmbeddings\n",
        "#embedding_model=TransformerDocumentEmbeddings('roberta-base')\n",
        "\n",
        "# Universal Sentence Encoder\u3092\u4f7f\u3046\n",
        "#import tensorflow_hub\n",
        "#embedding_model = tensorflow_hub.load(\"https://tfhub.dev/google/universal-sentence-encoder/4\")\n",
        "#topic_model = BERTopic(verbose=True, embedding_model=embedding_model)\n",
        "\n",
        "# \u6587\u7ae0\u306eEmbedding\u3068\u5358\u8a9e\u306eEmbedding\u3067\u9055\u3046\u3082\u306e\u3092\u4f7f\u3044\u305f\u3044\u6642\n",
        "#from bertopic.backend import WordDocEmbedder\n",
        "#import gensim.downloader as api\n",
        "#from sentence_transformers import SentenceTransformer\n",
        "\n",
        "# \u5358\u8a9e\u306eEmbedding\n",
        "#ft = api.load('fasttext-wiki-news-subwords-300')\n",
        "\n",
        "# \u6587\u7ae0\u306eEmbedding\n",
        "#distilbert = SentenceTransformer(\"distilbert-base-nli-stsb-mean-tokens\")\n",
        "#word_doc_embedder = WordDocEmbedder(embedding_model=distilbert, word_embedding_model=ft)\n",
        "#topic_model = BERTopic(verbose=True, embedding_model=word_doc_embedder)"
      ]
    },
    {
      "cell_type": "code",
      "execution_count": 18,
      "metadata": {
        "id": "QuGWukuZFYxV"
      },
      "outputs": [],
      "source": [
        "topic_model = BERTopic(#language=\"japanese\",   # \u65e5\u672c\u8a9e\u3067\u4f7f\u3044\u305f\u3044\u6642\n",
        "                       embedding_model=embedding_model,\n",
        "                       calculate_probabilities=True,  # \u5916\u308c\u5024\u306e\u30af\u30e9\u30b9\u306b\u306a\u308b\u3079\u304f\u5272\u308a\u5f53\u3066\u3089\u308c\u306a\u3044\u3088\u3046\u306b\u8a2d\u5b9a\n",
        "                       verbose=True,\n",
        "                       nr_topics=\"20\"  # \u30c8\u30d4\u30c3\u30af\u6570\u306e\u6307\u5b9a(20\u500b\u306b\u306a\u308b\u308f\u3051\u3067\u306f\u306a\u3044)\n",
        "                       )"
      ]
    },
    {
      "cell_type": "markdown",
      "metadata": {
        "id": "Wv35x5PzCv9N"
      },
      "source": [
        "## BERTopic\u306e\u5b66\u7fd2"
      ]
    },
    {
      "cell_type": "code",
      "execution_count": 19,
      "metadata": {
        "colab": {
          "base_uri": "https://localhost:8080/",
          "height": 136,
          "referenced_widgets": [
            "bd4431a05dfb41d59953fc2ddb1485a3",
            "4286b896520c43a0b6ec9ae9313858e3",
            "f115d6aee17f40579185eb4352fe009d",
            "5e1402cc3b764aa4bcb64a19fb98368f",
            "e51e9aae97444188962d71a8b0f0e49b",
            "ccc9ae79da82436bb0d488c5e5de6d9e",
            "acbf6c38c6744a5bb2bdb0b09da03f61",
            "c8f5b4e36a29489bbf3ee37f4cc93dce",
            "1d48253bdab04021a6f4c4a39e0efa8f",
            "9947b8292f8b416f88e4ca115634daf4",
            "25c10843c2a04077ad4fc638fad4ee37"
          ]
        },
        "id": "b2sM27dcCNaV",
        "outputId": "0bf247e0-a2fa-4057-ca5b-3bc2c874af79"
      },
      "outputs": [
        {
          "data": {
            "application/vnd.jupyter.widget-view+json": {
              "model_id": "bd4431a05dfb41d59953fc2ddb1485a3",
              "version_major": 2,
              "version_minor": 0
            },
            "text/plain": [
              "Batches:   0%|          | 0/589 [00:00<?, ?it/s]"
            ]
          },
          "metadata": {},
          "output_type": "display_data"
        },
        {
          "name": "stderr",
          "output_type": "stream",
          "text": [
            "2022-12-28 14:23:51,057 - BERTopic - Transformed documents to Embeddings\n",
            "2022-12-28 14:24:13,908 - BERTopic - Reduced dimensionality\n",
            "2022-12-28 14:24:25,149 - BERTopic - Clustered reduced embeddings\n",
            "2022-12-28 14:24:35,278 - BERTopic - Reduced number of topics from 95 to 21\n"
          ]
        },
        {
          "data": {
            "text/plain": [
              "<bertopic._bertopic.BERTopic at 0x7f6b1f0eb9d0>"
            ]
          },
          "execution_count": 19,
          "metadata": {},
          "output_type": "execute_result"
        }
      ],
      "source": [
        "topic_model.fit(docs)"
      ]
    },
    {
      "cell_type": "code",
      "execution_count": 20,
      "metadata": {
        "colab": {
          "base_uri": "https://localhost:8080/",
          "height": 118,
          "referenced_widgets": [
            "1717457ce0e54099af6f9de860bfdf3b",
            "7d74baadcdef449aafb144f8536f04a9",
            "67e0f44faccf4e9ab92a2242078a706a",
            "36687feb87c4467fa54ba130c5eb746e",
            "daf11bcf28304eb0bdbd6d79da5e31ff",
            "c2823687c0dd478e9af3ce5b492b99ef",
            "02239eb77d134f0eb1e226873a1e64b6",
            "9fb0fac9f79547dda76a3a08a9741403",
            "886cf825e1a547e4995565135daf1aef",
            "e32ffcca80b04bc390523020f50f3ca9",
            "ed1d958eafb645369201e38fe0cd78cb"
          ]
        },
        "id": "RvnkXzJ4D9f6",
        "outputId": "27941a63-2d4d-4275-d6b3-58d94b0a000d"
      },
      "outputs": [
        {
          "data": {
            "application/vnd.jupyter.widget-view+json": {
              "model_id": "1717457ce0e54099af6f9de860bfdf3b",
              "version_major": 2,
              "version_minor": 0
            },
            "text/plain": [
              "Batches:   0%|          | 0/589 [00:00<?, ?it/s]"
            ]
          },
          "metadata": {},
          "output_type": "display_data"
        },
        {
          "name": "stderr",
          "output_type": "stream",
          "text": [
            "2022-12-28 14:26:46,046 - BERTopic - Transformed documents to Embeddings\n",
            "2022-12-28 14:27:09,213 - BERTopic - Reduced dimensionality\n",
            "2022-12-28 14:27:16,969 - BERTopic - Clustered reduced embeddings\n",
            "2022-12-28 14:27:27,264 - BERTopic - Reduced number of topics from 85 to 73\n"
          ]
        }
      ],
      "source": [
        "topics, probs = topic_model.fit_transform(docs)"
      ]
    },
    {
      "cell_type": "code",
      "execution_count": 21,
      "metadata": {
        "colab": {
          "base_uri": "https://localhost:8080/"
        },
        "id": "LYlSKHoCDuG4",
        "outputId": "aefc036d-3ffd-4dc5-86f9-423fb63f2965"
      },
      "outputs": [
        {
          "data": {
            "text/plain": [
              "array([[0.09790828, 0.24484116, 0.01032329, ..., 0.0058334 , 0.00838453,\n",
              "        0.01118882],\n",
              "       [0.04578481, 0.00286609, 0.00740172, ..., 0.01259724, 0.00792609,\n",
              "        0.00571211],\n",
              "       [0.08635302, 0.16948329, 0.00901567, ..., 0.004999  , 0.00730724,\n",
              "        0.009767  ],\n",
              "       ...,\n",
              "       [0.06447445, 0.00370416, 0.01707378, ..., 0.0062696 , 0.0603413 ,\n",
              "        0.00794144],\n",
              "       [0.02263598, 0.00160543, 0.00217715, ..., 0.02038177, 0.00268623,\n",
              "        0.00264215],\n",
              "       [0.05080583, 0.00487645, 0.47876717, ..., 0.00475717, 0.0132666 ,\n",
              "        0.00647266]])"
            ]
          },
          "execution_count": 21,
          "metadata": {},
          "output_type": "execute_result"
        }
      ],
      "source": [
        "probs"
      ]
    },
    {
      "cell_type": "markdown",
      "metadata": {
        "id": "MRReA_lbG0KB"
      },
      "source": [
        "## \u305d\u308c\u305e\u308c\u306e\u30c8\u30d4\u30c3\u30af\u306e\u8868\u793a"
      ]
    },
    {
      "cell_type": "code",
      "execution_count": 22,
      "metadata": {
        "colab": {
          "base_uri": "https://localhost:8080/",
          "height": 424
        },
        "id": "SBw5nLdcApNp",
        "outputId": "db76678b-0b64-4e61-c129-af3265649f5d"
      },
      "outputs": [
        {
          "data": {
            "text/html": [
              "\n",
              "  <div id=\"df-94c2938c-97d4-4ec9-b3dc-91e94892e13c\">\n",
              "    <div class=\"colab-df-container\">\n",
              "      <div>\n",
              "<style scoped>\n",
              "    .dataframe tbody tr th:only-of-type {\n",
              "        vertical-align: middle;\n",
              "    }\n",
              "\n",
              "    .dataframe tbody tr th {\n",
              "        vertical-align: top;\n",
              "    }\n",
              "\n",
              "    .dataframe thead th {\n",
              "        text-align: right;\n",
              "    }\n",
              "</style>\n",
              "<table border=\"1\" class=\"dataframe\">\n",
              "  <thead>\n",
              "    <tr style=\"text-align: right;\">\n",
              "      <th></th>\n",
              "      <th>Topic</th>\n",
              "      <th>Count</th>\n",
              "      <th>Name</th>\n",
              "    </tr>\n",
              "  </thead>\n",
              "  <tbody>\n",
              "    <tr>\n",
              "      <th>0</th>\n",
              "      <td>-1</td>\n",
              "      <td>7890</td>\n",
              "      <td>-1_the_to_and_of</td>\n",
              "    </tr>\n",
              "    <tr>\n",
              "      <th>1</th>\n",
              "      <td>0</td>\n",
              "      <td>2791</td>\n",
              "      <td>0_of_the_that_and</td>\n",
              "    </tr>\n",
              "    <tr>\n",
              "      <th>2</th>\n",
              "      <td>1</td>\n",
              "      <td>1544</td>\n",
              "      <td>1_game_he_team_the</td>\n",
              "    </tr>\n",
              "    <tr>\n",
              "      <th>3</th>\n",
              "      <td>2</td>\n",
              "      <td>1203</td>\n",
              "      <td>2_car_the_bike_it</td>\n",
              "    </tr>\n",
              "    <tr>\n",
              "      <th>4</th>\n",
              "      <td>3</td>\n",
              "      <td>764</td>\n",
              "      <td>3_space_the_of_and</td>\n",
              "    </tr>\n",
              "    <tr>\n",
              "      <th>...</th>\n",
              "      <td>...</td>\n",
              "      <td>...</td>\n",
              "      <td>...</td>\n",
              "    </tr>\n",
              "    <tr>\n",
              "      <th>68</th>\n",
              "      <td>67</td>\n",
              "      <td>10</td>\n",
              "      <td>67_sweden_usa_april_switzerland</td>\n",
              "    </tr>\n",
              "    <tr>\n",
              "      <th>69</th>\n",
              "      <td>68</td>\n",
              "      <td>10</td>\n",
              "      <td>68_subscribe_please_subscrive_me</td>\n",
              "    </tr>\n",
              "    <tr>\n",
              "      <th>70</th>\n",
              "      <td>69</td>\n",
              "      <td>10</td>\n",
              "      <td>69_3ds_file_texture_prj</td>\n",
              "    </tr>\n",
              "    <tr>\n",
              "      <th>71</th>\n",
              "      <td>70</td>\n",
              "      <td>10</td>\n",
              "      <td>70_silver_solder_crystal_cpu</td>\n",
              "    </tr>\n",
              "    <tr>\n",
              "      <th>72</th>\n",
              "      <td>71</td>\n",
              "      <td>10</td>\n",
              "      <td>71_s414_bill_clinton_mi5</td>\n",
              "    </tr>\n",
              "  </tbody>\n",
              "</table>\n",
              "<p>73 rows \u00d7 3 columns</p>\n",
              "</div>\n",
              "      <button class=\"colab-df-convert\" onclick=\"convertToInteractive('df-94c2938c-97d4-4ec9-b3dc-91e94892e13c')\"\n",
              "              title=\"Convert this dataframe to an interactive table.\"\n",
              "              style=\"display:none;\">\n",
              "        \n",
              "  <svg xmlns=\"http://www.w3.org/2000/svg\" height=\"24px\"viewBox=\"0 0 24 24\"\n",
              "       width=\"24px\">\n",
              "    <path d=\"M0 0h24v24H0V0z\" fill=\"none\"/>\n",
              "    <path d=\"M18.56 5.44l.94 2.06.94-2.06 2.06-.94-2.06-.94-.94-2.06-.94 2.06-2.06.94zm-11 1L8.5 8.5l.94-2.06 2.06-.94-2.06-.94L8.5 2.5l-.94 2.06-2.06.94zm10 10l.94 2.06.94-2.06 2.06-.94-2.06-.94-.94-2.06-.94 2.06-2.06.94z\"/><path d=\"M17.41 7.96l-1.37-1.37c-.4-.4-.92-.59-1.43-.59-.52 0-1.04.2-1.43.59L10.3 9.45l-7.72 7.72c-.78.78-.78 2.05 0 2.83L4 21.41c.39.39.9.59 1.41.59.51 0 1.02-.2 1.41-.59l7.78-7.78 2.81-2.81c.8-.78.8-2.07 0-2.86zM5.41 20L4 18.59l7.72-7.72 1.47 1.35L5.41 20z\"/>\n",
              "  </svg>\n",
              "      </button>\n",
              "      \n",
              "  <style>\n",
              "    .colab-df-container {\n",
              "      display:flex;\n",
              "      flex-wrap:wrap;\n",
              "      gap: 12px;\n",
              "    }\n",
              "\n",
              "    .colab-df-convert {\n",
              "      background-color: #E8F0FE;\n",
              "      border: none;\n",
              "      border-radius: 50%;\n",
              "      cursor: pointer;\n",
              "      display: none;\n",
              "      fill: #1967D2;\n",
              "      height: 32px;\n",
              "      padding: 0 0 0 0;\n",
              "      width: 32px;\n",
              "    }\n",
              "\n",
              "    .colab-df-convert:hover {\n",
              "      background-color: #E2EBFA;\n",
              "      box-shadow: 0px 1px 2px rgba(60, 64, 67, 0.3), 0px 1px 3px 1px rgba(60, 64, 67, 0.15);\n",
              "      fill: #174EA6;\n",
              "    }\n",
              "\n",
              "    [theme=dark] .colab-df-convert {\n",
              "      background-color: #3B4455;\n",
              "      fill: #D2E3FC;\n",
              "    }\n",
              "\n",
              "    [theme=dark] .colab-df-convert:hover {\n",
              "      background-color: #434B5C;\n",
              "      box-shadow: 0px 1px 3px 1px rgba(0, 0, 0, 0.15);\n",
              "      filter: drop-shadow(0px 1px 2px rgba(0, 0, 0, 0.3));\n",
              "      fill: #FFFFFF;\n",
              "    }\n",
              "  </style>\n",
              "\n",
              "      <script>\n",
              "        const buttonEl =\n",
              "          document.querySelector('#df-94c2938c-97d4-4ec9-b3dc-91e94892e13c button.colab-df-convert');\n",
              "        buttonEl.style.display =\n",
              "          google.colab.kernel.accessAllowed ? 'block' : 'none';\n",
              "\n",
              "        async function convertToInteractive(key) {\n",
              "          const element = document.querySelector('#df-94c2938c-97d4-4ec9-b3dc-91e94892e13c');\n",
              "          const dataTable =\n",
              "            await google.colab.kernel.invokeFunction('convertToInteractive',\n",
              "                                                     [key], {});\n",
              "          if (!dataTable) return;\n",
              "\n",
              "          const docLinkHtml = 'Like what you see? Visit the ' +\n",
              "            '<a target=\"_blank\" href=https://colab.research.google.com/notebooks/data_table.ipynb>data table notebook</a>'\n",
              "            + ' to learn more about interactive tables.';\n",
              "          element.innerHTML = '';\n",
              "          dataTable['output_type'] = 'display_data';\n",
              "          await google.colab.output.renderOutput(dataTable, element);\n",
              "          const docLink = document.createElement('div');\n",
              "          docLink.innerHTML = docLinkHtml;\n",
              "          element.appendChild(docLink);\n",
              "        }\n",
              "      </script>\n",
              "    </div>\n",
              "  </div>\n",
              "  "
            ],
            "text/plain": [
              "    Topic  Count                              Name\n",
              "0      -1   7890                  -1_the_to_and_of\n",
              "1       0   2791                 0_of_the_that_and\n",
              "2       1   1544                1_game_he_team_the\n",
              "3       2   1203                 2_car_the_bike_it\n",
              "4       3    764                3_space_the_of_and\n",
              "..    ...    ...                               ...\n",
              "68     67     10   67_sweden_usa_april_switzerland\n",
              "69     68     10  68_subscribe_please_subscrive_me\n",
              "70     69     10           69_3ds_file_texture_prj\n",
              "71     70     10      70_silver_solder_crystal_cpu\n",
              "72     71     10          71_s414_bill_clinton_mi5\n",
              "\n",
              "[73 rows x 3 columns]"
            ]
          },
          "execution_count": 22,
          "metadata": {},
          "output_type": "execute_result"
        }
      ],
      "source": [
        "topic_model.get_topic_info()"
      ]
    },
    {
      "cell_type": "markdown",
      "metadata": {
        "id": "hlSKcnVwFAYJ"
      },
      "source": [
        "## Topic model\u306e\u53ef\u8996\u5316"
      ]
    },
    {
      "cell_type": "code",
      "execution_count": null,
      "metadata": {
        "colab": {
          "base_uri": "https://localhost:8080/",
          "height": 667
        },
        "id": "6vlIu6-7E1K3",
        "outputId": "2abf19ef-7bf1-4bbe-dee5-d5f3d8cd00a4"
      },
      "outputs": [],
      "source": [
        "topic_model.visualize_topics()"
      ]
    },
    {
      "cell_type": "markdown",
      "metadata": {
        "id": "J-YA49HUE8pr"
      },
      "source": [
        "## Topic model\u306e\u30af\u30e9\u30b9\u30bf\u30ea\u30f3\u30b0"
      ]
    },
    {
      "cell_type": "code",
      "execution_count": null,
      "metadata": {
        "colab": {
          "base_uri": "https://localhost:8080/",
          "height": 1000
        },
        "id": "9MEZB8iqE3eE",
        "outputId": "38deefd0-a4cb-4b4c-e160-90dacaed9115"
      },
      "outputs": [],
      "source": [
        "topic_model.visualize_hierarchy()"
      ]
    },
    {
      "cell_type": "code",
      "execution_count": null,
      "metadata": {},
      "outputs": [],
      "source": []
    }
  ],
  "metadata": {
    "accelerator": "GPU",
    "colab": {
      "authorship_tag": "ABX9TyOQ4VbpzfHbknRK6+y19Jlz",
      "include_colab_link": true,
      "machine_shape": "hm",
      "provenance": []
    },
    "gpuClass": "standard",
    "kernelspec": {
      "display_name": "Python 3",
      "name": "python3"
    },
    "language_info": {
      "name": "python"
    }
  },
  "nbformat": 4,
  "nbformat_minor": 0
}