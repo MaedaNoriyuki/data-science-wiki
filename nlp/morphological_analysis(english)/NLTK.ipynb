{
 "cells": [
  {
   "cell_type": "markdown",
   "id": "3f4aa3d6-b2b4-433e-aa1d-713c2eece6e2",
   "metadata": {},
   "source": [
    "# NLTK(Natural Lnaguage Tool Kit)"
   ]
  },
  {
   "cell_type": "markdown",
   "id": "a2065c79",
   "metadata": {},
   "source": []
  },
  {
   "cell_type": "code",
   "execution_count": null,
   "id": "778246b8-87ba-4a47-b999-53be9650ace4",
   "metadata": {},
   "outputs": [],
   "source": []
  }
 ],
 "metadata": {
  "kernelspec": {
   "display_name": "Python 3 (ipykernel)",
   "language": "python",
   "name": "python3"
  },
  "language_info": {
   "codemirror_mode": {
    "name": "ipython",
    "version": 3
   },
   "file_extension": ".py",
   "mimetype": "text/x-python",
   "name": "python",
   "nbconvert_exporter": "python",
   "pygments_lexer": "ipython3",
   "version": "3.9.7"
  }
 },
 "nbformat": 4,
 "nbformat_minor": 5
}
