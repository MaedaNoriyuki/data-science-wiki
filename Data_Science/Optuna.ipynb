{
  "nbformat": 4,
  "nbformat_minor": 0,
  "metadata": {
    "colab": {
      "provenance": [],
      "machine_shape": "hm",
      "background_execution": "on",
      "authorship_tag": "ABX9TyPJdgGXA496YLKgPdQeRq6B",
      "include_colab_link": true
    },
    "kernelspec": {
      "name": "python3",
      "display_name": "Python 3"
    },
    "language_info": {
      "name": "python"
    },
    "accelerator": "GPU",
    "gpuClass": "standard",
    "widgets": {
      "application/vnd.jupyter.widget-state+json": {
        "703858b152414a9dbd5982608a151ede": {
          "model_module": "@jupyter-widgets/controls",
          "model_name": "HBoxModel",
          "model_module_version": "1.5.0",
          "state": {
            "_dom_classes": [],
            "_model_module": "@jupyter-widgets/controls",
            "_model_module_version": "1.5.0",
            "_model_name": "HBoxModel",
            "_view_count": null,
            "_view_module": "@jupyter-widgets/controls",
            "_view_module_version": "1.5.0",
            "_view_name": "HBoxView",
            "box_style": "",
            "children": [
              "IPY_MODEL_b3616feb9c124ad1b4f3ad8725312b12",
              "IPY_MODEL_05782a6d71344874b705759a1b1b8a75",
              "IPY_MODEL_33781423147b44938b7dc17942c4eebd"
            ],
            "layout": "IPY_MODEL_85e958726cf94ee4968ea82ac0d30284"
          }
        },
        "b3616feb9c124ad1b4f3ad8725312b12": {
          "model_module": "@jupyter-widgets/controls",
          "model_name": "HTMLModel",
          "model_module_version": "1.5.0",
          "state": {
            "_dom_classes": [],
            "_model_module": "@jupyter-widgets/controls",
            "_model_module_version": "1.5.0",
            "_model_name": "HTMLModel",
            "_view_count": null,
            "_view_module": "@jupyter-widgets/controls",
            "_view_module_version": "1.5.0",
            "_view_name": "HTMLView",
            "description": "",
            "description_tooltip": null,
            "layout": "IPY_MODEL_fe0178291b7e46479c308a2157630220",
            "placeholder": "​",
            "style": "IPY_MODEL_f97ef0286bd14f0d84b9d632f512fd06",
            "value": "100%"
          }
        },
        "05782a6d71344874b705759a1b1b8a75": {
          "model_module": "@jupyter-widgets/controls",
          "model_name": "FloatProgressModel",
          "model_module_version": "1.5.0",
          "state": {
            "_dom_classes": [],
            "_model_module": "@jupyter-widgets/controls",
            "_model_module_version": "1.5.0",
            "_model_name": "FloatProgressModel",
            "_view_count": null,
            "_view_module": "@jupyter-widgets/controls",
            "_view_module_version": "1.5.0",
            "_view_name": "ProgressView",
            "bar_style": "success",
            "description": "",
            "description_tooltip": null,
            "layout": "IPY_MODEL_6fb2a55830944703b315557b080fe364",
            "max": 9912422,
            "min": 0,
            "orientation": "horizontal",
            "style": "IPY_MODEL_5169c45032d747eea139399b75eead7e",
            "value": 9912422
          }
        },
        "33781423147b44938b7dc17942c4eebd": {
          "model_module": "@jupyter-widgets/controls",
          "model_name": "HTMLModel",
          "model_module_version": "1.5.0",
          "state": {
            "_dom_classes": [],
            "_model_module": "@jupyter-widgets/controls",
            "_model_module_version": "1.5.0",
            "_model_name": "HTMLModel",
            "_view_count": null,
            "_view_module": "@jupyter-widgets/controls",
            "_view_module_version": "1.5.0",
            "_view_name": "HTMLView",
            "description": "",
            "description_tooltip": null,
            "layout": "IPY_MODEL_bb97a7c6a40e479587e6cebc1b58433a",
            "placeholder": "​",
            "style": "IPY_MODEL_2c67bebdea7c4cdc8566b4edb5844199",
            "value": " 9912422/9912422 [00:00&lt;00:00, 28291081.30it/s]"
          }
        },
        "85e958726cf94ee4968ea82ac0d30284": {
          "model_module": "@jupyter-widgets/base",
          "model_name": "LayoutModel",
          "model_module_version": "1.2.0",
          "state": {
            "_model_module": "@jupyter-widgets/base",
            "_model_module_version": "1.2.0",
            "_model_name": "LayoutModel",
            "_view_count": null,
            "_view_module": "@jupyter-widgets/base",
            "_view_module_version": "1.2.0",
            "_view_name": "LayoutView",
            "align_content": null,
            "align_items": null,
            "align_self": null,
            "border": null,
            "bottom": null,
            "display": null,
            "flex": null,
            "flex_flow": null,
            "grid_area": null,
            "grid_auto_columns": null,
            "grid_auto_flow": null,
            "grid_auto_rows": null,
            "grid_column": null,
            "grid_gap": null,
            "grid_row": null,
            "grid_template_areas": null,
            "grid_template_columns": null,
            "grid_template_rows": null,
            "height": null,
            "justify_content": null,
            "justify_items": null,
            "left": null,
            "margin": null,
            "max_height": null,
            "max_width": null,
            "min_height": null,
            "min_width": null,
            "object_fit": null,
            "object_position": null,
            "order": null,
            "overflow": null,
            "overflow_x": null,
            "overflow_y": null,
            "padding": null,
            "right": null,
            "top": null,
            "visibility": null,
            "width": null
          }
        },
        "fe0178291b7e46479c308a2157630220": {
          "model_module": "@jupyter-widgets/base",
          "model_name": "LayoutModel",
          "model_module_version": "1.2.0",
          "state": {
            "_model_module": "@jupyter-widgets/base",
            "_model_module_version": "1.2.0",
            "_model_name": "LayoutModel",
            "_view_count": null,
            "_view_module": "@jupyter-widgets/base",
            "_view_module_version": "1.2.0",
            "_view_name": "LayoutView",
            "align_content": null,
            "align_items": null,
            "align_self": null,
            "border": null,
            "bottom": null,
            "display": null,
            "flex": null,
            "flex_flow": null,
            "grid_area": null,
            "grid_auto_columns": null,
            "grid_auto_flow": null,
            "grid_auto_rows": null,
            "grid_column": null,
            "grid_gap": null,
            "grid_row": null,
            "grid_template_areas": null,
            "grid_template_columns": null,
            "grid_template_rows": null,
            "height": null,
            "justify_content": null,
            "justify_items": null,
            "left": null,
            "margin": null,
            "max_height": null,
            "max_width": null,
            "min_height": null,
            "min_width": null,
            "object_fit": null,
            "object_position": null,
            "order": null,
            "overflow": null,
            "overflow_x": null,
            "overflow_y": null,
            "padding": null,
            "right": null,
            "top": null,
            "visibility": null,
            "width": null
          }
        },
        "f97ef0286bd14f0d84b9d632f512fd06": {
          "model_module": "@jupyter-widgets/controls",
          "model_name": "DescriptionStyleModel",
          "model_module_version": "1.5.0",
          "state": {
            "_model_module": "@jupyter-widgets/controls",
            "_model_module_version": "1.5.0",
            "_model_name": "DescriptionStyleModel",
            "_view_count": null,
            "_view_module": "@jupyter-widgets/base",
            "_view_module_version": "1.2.0",
            "_view_name": "StyleView",
            "description_width": ""
          }
        },
        "6fb2a55830944703b315557b080fe364": {
          "model_module": "@jupyter-widgets/base",
          "model_name": "LayoutModel",
          "model_module_version": "1.2.0",
          "state": {
            "_model_module": "@jupyter-widgets/base",
            "_model_module_version": "1.2.0",
            "_model_name": "LayoutModel",
            "_view_count": null,
            "_view_module": "@jupyter-widgets/base",
            "_view_module_version": "1.2.0",
            "_view_name": "LayoutView",
            "align_content": null,
            "align_items": null,
            "align_self": null,
            "border": null,
            "bottom": null,
            "display": null,
            "flex": null,
            "flex_flow": null,
            "grid_area": null,
            "grid_auto_columns": null,
            "grid_auto_flow": null,
            "grid_auto_rows": null,
            "grid_column": null,
            "grid_gap": null,
            "grid_row": null,
            "grid_template_areas": null,
            "grid_template_columns": null,
            "grid_template_rows": null,
            "height": null,
            "justify_content": null,
            "justify_items": null,
            "left": null,
            "margin": null,
            "max_height": null,
            "max_width": null,
            "min_height": null,
            "min_width": null,
            "object_fit": null,
            "object_position": null,
            "order": null,
            "overflow": null,
            "overflow_x": null,
            "overflow_y": null,
            "padding": null,
            "right": null,
            "top": null,
            "visibility": null,
            "width": null
          }
        },
        "5169c45032d747eea139399b75eead7e": {
          "model_module": "@jupyter-widgets/controls",
          "model_name": "ProgressStyleModel",
          "model_module_version": "1.5.0",
          "state": {
            "_model_module": "@jupyter-widgets/controls",
            "_model_module_version": "1.5.0",
            "_model_name": "ProgressStyleModel",
            "_view_count": null,
            "_view_module": "@jupyter-widgets/base",
            "_view_module_version": "1.2.0",
            "_view_name": "StyleView",
            "bar_color": null,
            "description_width": ""
          }
        },
        "bb97a7c6a40e479587e6cebc1b58433a": {
          "model_module": "@jupyter-widgets/base",
          "model_name": "LayoutModel",
          "model_module_version": "1.2.0",
          "state": {
            "_model_module": "@jupyter-widgets/base",
            "_model_module_version": "1.2.0",
            "_model_name": "LayoutModel",
            "_view_count": null,
            "_view_module": "@jupyter-widgets/base",
            "_view_module_version": "1.2.0",
            "_view_name": "LayoutView",
            "align_content": null,
            "align_items": null,
            "align_self": null,
            "border": null,
            "bottom": null,
            "display": null,
            "flex": null,
            "flex_flow": null,
            "grid_area": null,
            "grid_auto_columns": null,
            "grid_auto_flow": null,
            "grid_auto_rows": null,
            "grid_column": null,
            "grid_gap": null,
            "grid_row": null,
            "grid_template_areas": null,
            "grid_template_columns": null,
            "grid_template_rows": null,
            "height": null,
            "justify_content": null,
            "justify_items": null,
            "left": null,
            "margin": null,
            "max_height": null,
            "max_width": null,
            "min_height": null,
            "min_width": null,
            "object_fit": null,
            "object_position": null,
            "order": null,
            "overflow": null,
            "overflow_x": null,
            "overflow_y": null,
            "padding": null,
            "right": null,
            "top": null,
            "visibility": null,
            "width": null
          }
        },
        "2c67bebdea7c4cdc8566b4edb5844199": {
          "model_module": "@jupyter-widgets/controls",
          "model_name": "DescriptionStyleModel",
          "model_module_version": "1.5.0",
          "state": {
            "_model_module": "@jupyter-widgets/controls",
            "_model_module_version": "1.5.0",
            "_model_name": "DescriptionStyleModel",
            "_view_count": null,
            "_view_module": "@jupyter-widgets/base",
            "_view_module_version": "1.2.0",
            "_view_name": "StyleView",
            "description_width": ""
          }
        },
        "eb158d2dda4a47b4b7de7153ed8ca9ad": {
          "model_module": "@jupyter-widgets/controls",
          "model_name": "HBoxModel",
          "model_module_version": "1.5.0",
          "state": {
            "_dom_classes": [],
            "_model_module": "@jupyter-widgets/controls",
            "_model_module_version": "1.5.0",
            "_model_name": "HBoxModel",
            "_view_count": null,
            "_view_module": "@jupyter-widgets/controls",
            "_view_module_version": "1.5.0",
            "_view_name": "HBoxView",
            "box_style": "",
            "children": [
              "IPY_MODEL_a69bf91fc1cb47b5affd6fc4a478dcaa",
              "IPY_MODEL_1c2d1e10dc4e4472a970ac33e4c716c1",
              "IPY_MODEL_e146c95ba6cc4901943f67932b4b8c4f"
            ],
            "layout": "IPY_MODEL_a1fb7a6d8d8a44c5949545352086567d"
          }
        },
        "a69bf91fc1cb47b5affd6fc4a478dcaa": {
          "model_module": "@jupyter-widgets/controls",
          "model_name": "HTMLModel",
          "model_module_version": "1.5.0",
          "state": {
            "_dom_classes": [],
            "_model_module": "@jupyter-widgets/controls",
            "_model_module_version": "1.5.0",
            "_model_name": "HTMLModel",
            "_view_count": null,
            "_view_module": "@jupyter-widgets/controls",
            "_view_module_version": "1.5.0",
            "_view_name": "HTMLView",
            "description": "",
            "description_tooltip": null,
            "layout": "IPY_MODEL_d9dbc3ff61da427daad6a66091a428eb",
            "placeholder": "​",
            "style": "IPY_MODEL_f234b02f9a9b481d8f9394ebb7c78079",
            "value": "100%"
          }
        },
        "1c2d1e10dc4e4472a970ac33e4c716c1": {
          "model_module": "@jupyter-widgets/controls",
          "model_name": "FloatProgressModel",
          "model_module_version": "1.5.0",
          "state": {
            "_dom_classes": [],
            "_model_module": "@jupyter-widgets/controls",
            "_model_module_version": "1.5.0",
            "_model_name": "FloatProgressModel",
            "_view_count": null,
            "_view_module": "@jupyter-widgets/controls",
            "_view_module_version": "1.5.0",
            "_view_name": "ProgressView",
            "bar_style": "success",
            "description": "",
            "description_tooltip": null,
            "layout": "IPY_MODEL_b319793322184ca993ec836620ce5614",
            "max": 28881,
            "min": 0,
            "orientation": "horizontal",
            "style": "IPY_MODEL_7c39604a79c848fab2ba489ffc1fe16d",
            "value": 28881
          }
        },
        "e146c95ba6cc4901943f67932b4b8c4f": {
          "model_module": "@jupyter-widgets/controls",
          "model_name": "HTMLModel",
          "model_module_version": "1.5.0",
          "state": {
            "_dom_classes": [],
            "_model_module": "@jupyter-widgets/controls",
            "_model_module_version": "1.5.0",
            "_model_name": "HTMLModel",
            "_view_count": null,
            "_view_module": "@jupyter-widgets/controls",
            "_view_module_version": "1.5.0",
            "_view_name": "HTMLView",
            "description": "",
            "description_tooltip": null,
            "layout": "IPY_MODEL_5f4c8ef0492142008057471d299fbce7",
            "placeholder": "​",
            "style": "IPY_MODEL_77213dfcca554695b9ff0bea6d52edea",
            "value": " 28881/28881 [00:00&lt;00:00, 891359.04it/s]"
          }
        },
        "a1fb7a6d8d8a44c5949545352086567d": {
          "model_module": "@jupyter-widgets/base",
          "model_name": "LayoutModel",
          "model_module_version": "1.2.0",
          "state": {
            "_model_module": "@jupyter-widgets/base",
            "_model_module_version": "1.2.0",
            "_model_name": "LayoutModel",
            "_view_count": null,
            "_view_module": "@jupyter-widgets/base",
            "_view_module_version": "1.2.0",
            "_view_name": "LayoutView",
            "align_content": null,
            "align_items": null,
            "align_self": null,
            "border": null,
            "bottom": null,
            "display": null,
            "flex": null,
            "flex_flow": null,
            "grid_area": null,
            "grid_auto_columns": null,
            "grid_auto_flow": null,
            "grid_auto_rows": null,
            "grid_column": null,
            "grid_gap": null,
            "grid_row": null,
            "grid_template_areas": null,
            "grid_template_columns": null,
            "grid_template_rows": null,
            "height": null,
            "justify_content": null,
            "justify_items": null,
            "left": null,
            "margin": null,
            "max_height": null,
            "max_width": null,
            "min_height": null,
            "min_width": null,
            "object_fit": null,
            "object_position": null,
            "order": null,
            "overflow": null,
            "overflow_x": null,
            "overflow_y": null,
            "padding": null,
            "right": null,
            "top": null,
            "visibility": null,
            "width": null
          }
        },
        "d9dbc3ff61da427daad6a66091a428eb": {
          "model_module": "@jupyter-widgets/base",
          "model_name": "LayoutModel",
          "model_module_version": "1.2.0",
          "state": {
            "_model_module": "@jupyter-widgets/base",
            "_model_module_version": "1.2.0",
            "_model_name": "LayoutModel",
            "_view_count": null,
            "_view_module": "@jupyter-widgets/base",
            "_view_module_version": "1.2.0",
            "_view_name": "LayoutView",
            "align_content": null,
            "align_items": null,
            "align_self": null,
            "border": null,
            "bottom": null,
            "display": null,
            "flex": null,
            "flex_flow": null,
            "grid_area": null,
            "grid_auto_columns": null,
            "grid_auto_flow": null,
            "grid_auto_rows": null,
            "grid_column": null,
            "grid_gap": null,
            "grid_row": null,
            "grid_template_areas": null,
            "grid_template_columns": null,
            "grid_template_rows": null,
            "height": null,
            "justify_content": null,
            "justify_items": null,
            "left": null,
            "margin": null,
            "max_height": null,
            "max_width": null,
            "min_height": null,
            "min_width": null,
            "object_fit": null,
            "object_position": null,
            "order": null,
            "overflow": null,
            "overflow_x": null,
            "overflow_y": null,
            "padding": null,
            "right": null,
            "top": null,
            "visibility": null,
            "width": null
          }
        },
        "f234b02f9a9b481d8f9394ebb7c78079": {
          "model_module": "@jupyter-widgets/controls",
          "model_name": "DescriptionStyleModel",
          "model_module_version": "1.5.0",
          "state": {
            "_model_module": "@jupyter-widgets/controls",
            "_model_module_version": "1.5.0",
            "_model_name": "DescriptionStyleModel",
            "_view_count": null,
            "_view_module": "@jupyter-widgets/base",
            "_view_module_version": "1.2.0",
            "_view_name": "StyleView",
            "description_width": ""
          }
        },
        "b319793322184ca993ec836620ce5614": {
          "model_module": "@jupyter-widgets/base",
          "model_name": "LayoutModel",
          "model_module_version": "1.2.0",
          "state": {
            "_model_module": "@jupyter-widgets/base",
            "_model_module_version": "1.2.0",
            "_model_name": "LayoutModel",
            "_view_count": null,
            "_view_module": "@jupyter-widgets/base",
            "_view_module_version": "1.2.0",
            "_view_name": "LayoutView",
            "align_content": null,
            "align_items": null,
            "align_self": null,
            "border": null,
            "bottom": null,
            "display": null,
            "flex": null,
            "flex_flow": null,
            "grid_area": null,
            "grid_auto_columns": null,
            "grid_auto_flow": null,
            "grid_auto_rows": null,
            "grid_column": null,
            "grid_gap": null,
            "grid_row": null,
            "grid_template_areas": null,
            "grid_template_columns": null,
            "grid_template_rows": null,
            "height": null,
            "justify_content": null,
            "justify_items": null,
            "left": null,
            "margin": null,
            "max_height": null,
            "max_width": null,
            "min_height": null,
            "min_width": null,
            "object_fit": null,
            "object_position": null,
            "order": null,
            "overflow": null,
            "overflow_x": null,
            "overflow_y": null,
            "padding": null,
            "right": null,
            "top": null,
            "visibility": null,
            "width": null
          }
        },
        "7c39604a79c848fab2ba489ffc1fe16d": {
          "model_module": "@jupyter-widgets/controls",
          "model_name": "ProgressStyleModel",
          "model_module_version": "1.5.0",
          "state": {
            "_model_module": "@jupyter-widgets/controls",
            "_model_module_version": "1.5.0",
            "_model_name": "ProgressStyleModel",
            "_view_count": null,
            "_view_module": "@jupyter-widgets/base",
            "_view_module_version": "1.2.0",
            "_view_name": "StyleView",
            "bar_color": null,
            "description_width": ""
          }
        },
        "5f4c8ef0492142008057471d299fbce7": {
          "model_module": "@jupyter-widgets/base",
          "model_name": "LayoutModel",
          "model_module_version": "1.2.0",
          "state": {
            "_model_module": "@jupyter-widgets/base",
            "_model_module_version": "1.2.0",
            "_model_name": "LayoutModel",
            "_view_count": null,
            "_view_module": "@jupyter-widgets/base",
            "_view_module_version": "1.2.0",
            "_view_name": "LayoutView",
            "align_content": null,
            "align_items": null,
            "align_self": null,
            "border": null,
            "bottom": null,
            "display": null,
            "flex": null,
            "flex_flow": null,
            "grid_area": null,
            "grid_auto_columns": null,
            "grid_auto_flow": null,
            "grid_auto_rows": null,
            "grid_column": null,
            "grid_gap": null,
            "grid_row": null,
            "grid_template_areas": null,
            "grid_template_columns": null,
            "grid_template_rows": null,
            "height": null,
            "justify_content": null,
            "justify_items": null,
            "left": null,
            "margin": null,
            "max_height": null,
            "max_width": null,
            "min_height": null,
            "min_width": null,
            "object_fit": null,
            "object_position": null,
            "order": null,
            "overflow": null,
            "overflow_x": null,
            "overflow_y": null,
            "padding": null,
            "right": null,
            "top": null,
            "visibility": null,
            "width": null
          }
        },
        "77213dfcca554695b9ff0bea6d52edea": {
          "model_module": "@jupyter-widgets/controls",
          "model_name": "DescriptionStyleModel",
          "model_module_version": "1.5.0",
          "state": {
            "_model_module": "@jupyter-widgets/controls",
            "_model_module_version": "1.5.0",
            "_model_name": "DescriptionStyleModel",
            "_view_count": null,
            "_view_module": "@jupyter-widgets/base",
            "_view_module_version": "1.2.0",
            "_view_name": "StyleView",
            "description_width": ""
          }
        },
        "a0bded9998ec46a087fc369d87edcfbc": {
          "model_module": "@jupyter-widgets/controls",
          "model_name": "HBoxModel",
          "model_module_version": "1.5.0",
          "state": {
            "_dom_classes": [],
            "_model_module": "@jupyter-widgets/controls",
            "_model_module_version": "1.5.0",
            "_model_name": "HBoxModel",
            "_view_count": null,
            "_view_module": "@jupyter-widgets/controls",
            "_view_module_version": "1.5.0",
            "_view_name": "HBoxView",
            "box_style": "",
            "children": [
              "IPY_MODEL_c8e333f7a99a47ad8fe8f6840e5b045f",
              "IPY_MODEL_5f83a4100bc94f7186994c270f9e943d",
              "IPY_MODEL_a0fe09b92ddf41bb94e406b43b4b8054"
            ],
            "layout": "IPY_MODEL_3cd9b21251da42ffbf0e11e37a37623e"
          }
        },
        "c8e333f7a99a47ad8fe8f6840e5b045f": {
          "model_module": "@jupyter-widgets/controls",
          "model_name": "HTMLModel",
          "model_module_version": "1.5.0",
          "state": {
            "_dom_classes": [],
            "_model_module": "@jupyter-widgets/controls",
            "_model_module_version": "1.5.0",
            "_model_name": "HTMLModel",
            "_view_count": null,
            "_view_module": "@jupyter-widgets/controls",
            "_view_module_version": "1.5.0",
            "_view_name": "HTMLView",
            "description": "",
            "description_tooltip": null,
            "layout": "IPY_MODEL_bdb060992dda466da8a89fda628a0dcd",
            "placeholder": "​",
            "style": "IPY_MODEL_8f76457562ff45308eb442cab01768cb",
            "value": "100%"
          }
        },
        "5f83a4100bc94f7186994c270f9e943d": {
          "model_module": "@jupyter-widgets/controls",
          "model_name": "FloatProgressModel",
          "model_module_version": "1.5.0",
          "state": {
            "_dom_classes": [],
            "_model_module": "@jupyter-widgets/controls",
            "_model_module_version": "1.5.0",
            "_model_name": "FloatProgressModel",
            "_view_count": null,
            "_view_module": "@jupyter-widgets/controls",
            "_view_module_version": "1.5.0",
            "_view_name": "ProgressView",
            "bar_style": "success",
            "description": "",
            "description_tooltip": null,
            "layout": "IPY_MODEL_55cbb7f172fa4f6f9fb55cdb10bc8698",
            "max": 1648877,
            "min": 0,
            "orientation": "horizontal",
            "style": "IPY_MODEL_b6aea2ad9a154ea2868927bea6f1f4e9",
            "value": 1648877
          }
        },
        "a0fe09b92ddf41bb94e406b43b4b8054": {
          "model_module": "@jupyter-widgets/controls",
          "model_name": "HTMLModel",
          "model_module_version": "1.5.0",
          "state": {
            "_dom_classes": [],
            "_model_module": "@jupyter-widgets/controls",
            "_model_module_version": "1.5.0",
            "_model_name": "HTMLModel",
            "_view_count": null,
            "_view_module": "@jupyter-widgets/controls",
            "_view_module_version": "1.5.0",
            "_view_name": "HTMLView",
            "description": "",
            "description_tooltip": null,
            "layout": "IPY_MODEL_4ff80d5dc2124d59b31217e2d4fd3cdc",
            "placeholder": "​",
            "style": "IPY_MODEL_a46d3ea52e0f4a148e95ca0c2d0626fa",
            "value": " 1648877/1648877 [00:00&lt;00:00, 21004347.31it/s]"
          }
        },
        "3cd9b21251da42ffbf0e11e37a37623e": {
          "model_module": "@jupyter-widgets/base",
          "model_name": "LayoutModel",
          "model_module_version": "1.2.0",
          "state": {
            "_model_module": "@jupyter-widgets/base",
            "_model_module_version": "1.2.0",
            "_model_name": "LayoutModel",
            "_view_count": null,
            "_view_module": "@jupyter-widgets/base",
            "_view_module_version": "1.2.0",
            "_view_name": "LayoutView",
            "align_content": null,
            "align_items": null,
            "align_self": null,
            "border": null,
            "bottom": null,
            "display": null,
            "flex": null,
            "flex_flow": null,
            "grid_area": null,
            "grid_auto_columns": null,
            "grid_auto_flow": null,
            "grid_auto_rows": null,
            "grid_column": null,
            "grid_gap": null,
            "grid_row": null,
            "grid_template_areas": null,
            "grid_template_columns": null,
            "grid_template_rows": null,
            "height": null,
            "justify_content": null,
            "justify_items": null,
            "left": null,
            "margin": null,
            "max_height": null,
            "max_width": null,
            "min_height": null,
            "min_width": null,
            "object_fit": null,
            "object_position": null,
            "order": null,
            "overflow": null,
            "overflow_x": null,
            "overflow_y": null,
            "padding": null,
            "right": null,
            "top": null,
            "visibility": null,
            "width": null
          }
        },
        "bdb060992dda466da8a89fda628a0dcd": {
          "model_module": "@jupyter-widgets/base",
          "model_name": "LayoutModel",
          "model_module_version": "1.2.0",
          "state": {
            "_model_module": "@jupyter-widgets/base",
            "_model_module_version": "1.2.0",
            "_model_name": "LayoutModel",
            "_view_count": null,
            "_view_module": "@jupyter-widgets/base",
            "_view_module_version": "1.2.0",
            "_view_name": "LayoutView",
            "align_content": null,
            "align_items": null,
            "align_self": null,
            "border": null,
            "bottom": null,
            "display": null,
            "flex": null,
            "flex_flow": null,
            "grid_area": null,
            "grid_auto_columns": null,
            "grid_auto_flow": null,
            "grid_auto_rows": null,
            "grid_column": null,
            "grid_gap": null,
            "grid_row": null,
            "grid_template_areas": null,
            "grid_template_columns": null,
            "grid_template_rows": null,
            "height": null,
            "justify_content": null,
            "justify_items": null,
            "left": null,
            "margin": null,
            "max_height": null,
            "max_width": null,
            "min_height": null,
            "min_width": null,
            "object_fit": null,
            "object_position": null,
            "order": null,
            "overflow": null,
            "overflow_x": null,
            "overflow_y": null,
            "padding": null,
            "right": null,
            "top": null,
            "visibility": null,
            "width": null
          }
        },
        "8f76457562ff45308eb442cab01768cb": {
          "model_module": "@jupyter-widgets/controls",
          "model_name": "DescriptionStyleModel",
          "model_module_version": "1.5.0",
          "state": {
            "_model_module": "@jupyter-widgets/controls",
            "_model_module_version": "1.5.0",
            "_model_name": "DescriptionStyleModel",
            "_view_count": null,
            "_view_module": "@jupyter-widgets/base",
            "_view_module_version": "1.2.0",
            "_view_name": "StyleView",
            "description_width": ""
          }
        },
        "55cbb7f172fa4f6f9fb55cdb10bc8698": {
          "model_module": "@jupyter-widgets/base",
          "model_name": "LayoutModel",
          "model_module_version": "1.2.0",
          "state": {
            "_model_module": "@jupyter-widgets/base",
            "_model_module_version": "1.2.0",
            "_model_name": "LayoutModel",
            "_view_count": null,
            "_view_module": "@jupyter-widgets/base",
            "_view_module_version": "1.2.0",
            "_view_name": "LayoutView",
            "align_content": null,
            "align_items": null,
            "align_self": null,
            "border": null,
            "bottom": null,
            "display": null,
            "flex": null,
            "flex_flow": null,
            "grid_area": null,
            "grid_auto_columns": null,
            "grid_auto_flow": null,
            "grid_auto_rows": null,
            "grid_column": null,
            "grid_gap": null,
            "grid_row": null,
            "grid_template_areas": null,
            "grid_template_columns": null,
            "grid_template_rows": null,
            "height": null,
            "justify_content": null,
            "justify_items": null,
            "left": null,
            "margin": null,
            "max_height": null,
            "max_width": null,
            "min_height": null,
            "min_width": null,
            "object_fit": null,
            "object_position": null,
            "order": null,
            "overflow": null,
            "overflow_x": null,
            "overflow_y": null,
            "padding": null,
            "right": null,
            "top": null,
            "visibility": null,
            "width": null
          }
        },
        "b6aea2ad9a154ea2868927bea6f1f4e9": {
          "model_module": "@jupyter-widgets/controls",
          "model_name": "ProgressStyleModel",
          "model_module_version": "1.5.0",
          "state": {
            "_model_module": "@jupyter-widgets/controls",
            "_model_module_version": "1.5.0",
            "_model_name": "ProgressStyleModel",
            "_view_count": null,
            "_view_module": "@jupyter-widgets/base",
            "_view_module_version": "1.2.0",
            "_view_name": "StyleView",
            "bar_color": null,
            "description_width": ""
          }
        },
        "4ff80d5dc2124d59b31217e2d4fd3cdc": {
          "model_module": "@jupyter-widgets/base",
          "model_name": "LayoutModel",
          "model_module_version": "1.2.0",
          "state": {
            "_model_module": "@jupyter-widgets/base",
            "_model_module_version": "1.2.0",
            "_model_name": "LayoutModel",
            "_view_count": null,
            "_view_module": "@jupyter-widgets/base",
            "_view_module_version": "1.2.0",
            "_view_name": "LayoutView",
            "align_content": null,
            "align_items": null,
            "align_self": null,
            "border": null,
            "bottom": null,
            "display": null,
            "flex": null,
            "flex_flow": null,
            "grid_area": null,
            "grid_auto_columns": null,
            "grid_auto_flow": null,
            "grid_auto_rows": null,
            "grid_column": null,
            "grid_gap": null,
            "grid_row": null,
            "grid_template_areas": null,
            "grid_template_columns": null,
            "grid_template_rows": null,
            "height": null,
            "justify_content": null,
            "justify_items": null,
            "left": null,
            "margin": null,
            "max_height": null,
            "max_width": null,
            "min_height": null,
            "min_width": null,
            "object_fit": null,
            "object_position": null,
            "order": null,
            "overflow": null,
            "overflow_x": null,
            "overflow_y": null,
            "padding": null,
            "right": null,
            "top": null,
            "visibility": null,
            "width": null
          }
        },
        "a46d3ea52e0f4a148e95ca0c2d0626fa": {
          "model_module": "@jupyter-widgets/controls",
          "model_name": "DescriptionStyleModel",
          "model_module_version": "1.5.0",
          "state": {
            "_model_module": "@jupyter-widgets/controls",
            "_model_module_version": "1.5.0",
            "_model_name": "DescriptionStyleModel",
            "_view_count": null,
            "_view_module": "@jupyter-widgets/base",
            "_view_module_version": "1.2.0",
            "_view_name": "StyleView",
            "description_width": ""
          }
        },
        "8f549698cad04d0b88a0ad67de248a71": {
          "model_module": "@jupyter-widgets/controls",
          "model_name": "HBoxModel",
          "model_module_version": "1.5.0",
          "state": {
            "_dom_classes": [],
            "_model_module": "@jupyter-widgets/controls",
            "_model_module_version": "1.5.0",
            "_model_name": "HBoxModel",
            "_view_count": null,
            "_view_module": "@jupyter-widgets/controls",
            "_view_module_version": "1.5.0",
            "_view_name": "HBoxView",
            "box_style": "",
            "children": [
              "IPY_MODEL_92e1a6984ca64be5aeecd71f13c473e5",
              "IPY_MODEL_e8c75018a6d04e00a1b976a8e7a37ee4",
              "IPY_MODEL_b4cdf239f5114d1288a9bcb4e515dadc"
            ],
            "layout": "IPY_MODEL_4f1d4fb4e66c4ac8acbdf321e8ab0239"
          }
        },
        "92e1a6984ca64be5aeecd71f13c473e5": {
          "model_module": "@jupyter-widgets/controls",
          "model_name": "HTMLModel",
          "model_module_version": "1.5.0",
          "state": {
            "_dom_classes": [],
            "_model_module": "@jupyter-widgets/controls",
            "_model_module_version": "1.5.0",
            "_model_name": "HTMLModel",
            "_view_count": null,
            "_view_module": "@jupyter-widgets/controls",
            "_view_module_version": "1.5.0",
            "_view_name": "HTMLView",
            "description": "",
            "description_tooltip": null,
            "layout": "IPY_MODEL_6be209d4f53c4354a992bdd396e0259f",
            "placeholder": "​",
            "style": "IPY_MODEL_e58f213b1da345209b92f2c0ef1f031a",
            "value": "100%"
          }
        },
        "e8c75018a6d04e00a1b976a8e7a37ee4": {
          "model_module": "@jupyter-widgets/controls",
          "model_name": "FloatProgressModel",
          "model_module_version": "1.5.0",
          "state": {
            "_dom_classes": [],
            "_model_module": "@jupyter-widgets/controls",
            "_model_module_version": "1.5.0",
            "_model_name": "FloatProgressModel",
            "_view_count": null,
            "_view_module": "@jupyter-widgets/controls",
            "_view_module_version": "1.5.0",
            "_view_name": "ProgressView",
            "bar_style": "success",
            "description": "",
            "description_tooltip": null,
            "layout": "IPY_MODEL_afb285fed26640549de078641dc934cc",
            "max": 4542,
            "min": 0,
            "orientation": "horizontal",
            "style": "IPY_MODEL_cffb7a5aeae843519f9ca2aabfa37abc",
            "value": 4542
          }
        },
        "b4cdf239f5114d1288a9bcb4e515dadc": {
          "model_module": "@jupyter-widgets/controls",
          "model_name": "HTMLModel",
          "model_module_version": "1.5.0",
          "state": {
            "_dom_classes": [],
            "_model_module": "@jupyter-widgets/controls",
            "_model_module_version": "1.5.0",
            "_model_name": "HTMLModel",
            "_view_count": null,
            "_view_module": "@jupyter-widgets/controls",
            "_view_module_version": "1.5.0",
            "_view_name": "HTMLView",
            "description": "",
            "description_tooltip": null,
            "layout": "IPY_MODEL_a3c9ddf219d546b6a06baf74d3372f30",
            "placeholder": "​",
            "style": "IPY_MODEL_ff7d6f7722ec400281651d43e86849b0",
            "value": " 4542/4542 [00:00&lt;00:00, 163432.67it/s]"
          }
        },
        "4f1d4fb4e66c4ac8acbdf321e8ab0239": {
          "model_module": "@jupyter-widgets/base",
          "model_name": "LayoutModel",
          "model_module_version": "1.2.0",
          "state": {
            "_model_module": "@jupyter-widgets/base",
            "_model_module_version": "1.2.0",
            "_model_name": "LayoutModel",
            "_view_count": null,
            "_view_module": "@jupyter-widgets/base",
            "_view_module_version": "1.2.0",
            "_view_name": "LayoutView",
            "align_content": null,
            "align_items": null,
            "align_self": null,
            "border": null,
            "bottom": null,
            "display": null,
            "flex": null,
            "flex_flow": null,
            "grid_area": null,
            "grid_auto_columns": null,
            "grid_auto_flow": null,
            "grid_auto_rows": null,
            "grid_column": null,
            "grid_gap": null,
            "grid_row": null,
            "grid_template_areas": null,
            "grid_template_columns": null,
            "grid_template_rows": null,
            "height": null,
            "justify_content": null,
            "justify_items": null,
            "left": null,
            "margin": null,
            "max_height": null,
            "max_width": null,
            "min_height": null,
            "min_width": null,
            "object_fit": null,
            "object_position": null,
            "order": null,
            "overflow": null,
            "overflow_x": null,
            "overflow_y": null,
            "padding": null,
            "right": null,
            "top": null,
            "visibility": null,
            "width": null
          }
        },
        "6be209d4f53c4354a992bdd396e0259f": {
          "model_module": "@jupyter-widgets/base",
          "model_name": "LayoutModel",
          "model_module_version": "1.2.0",
          "state": {
            "_model_module": "@jupyter-widgets/base",
            "_model_module_version": "1.2.0",
            "_model_name": "LayoutModel",
            "_view_count": null,
            "_view_module": "@jupyter-widgets/base",
            "_view_module_version": "1.2.0",
            "_view_name": "LayoutView",
            "align_content": null,
            "align_items": null,
            "align_self": null,
            "border": null,
            "bottom": null,
            "display": null,
            "flex": null,
            "flex_flow": null,
            "grid_area": null,
            "grid_auto_columns": null,
            "grid_auto_flow": null,
            "grid_auto_rows": null,
            "grid_column": null,
            "grid_gap": null,
            "grid_row": null,
            "grid_template_areas": null,
            "grid_template_columns": null,
            "grid_template_rows": null,
            "height": null,
            "justify_content": null,
            "justify_items": null,
            "left": null,
            "margin": null,
            "max_height": null,
            "max_width": null,
            "min_height": null,
            "min_width": null,
            "object_fit": null,
            "object_position": null,
            "order": null,
            "overflow": null,
            "overflow_x": null,
            "overflow_y": null,
            "padding": null,
            "right": null,
            "top": null,
            "visibility": null,
            "width": null
          }
        },
        "e58f213b1da345209b92f2c0ef1f031a": {
          "model_module": "@jupyter-widgets/controls",
          "model_name": "DescriptionStyleModel",
          "model_module_version": "1.5.0",
          "state": {
            "_model_module": "@jupyter-widgets/controls",
            "_model_module_version": "1.5.0",
            "_model_name": "DescriptionStyleModel",
            "_view_count": null,
            "_view_module": "@jupyter-widgets/base",
            "_view_module_version": "1.2.0",
            "_view_name": "StyleView",
            "description_width": ""
          }
        },
        "afb285fed26640549de078641dc934cc": {
          "model_module": "@jupyter-widgets/base",
          "model_name": "LayoutModel",
          "model_module_version": "1.2.0",
          "state": {
            "_model_module": "@jupyter-widgets/base",
            "_model_module_version": "1.2.0",
            "_model_name": "LayoutModel",
            "_view_count": null,
            "_view_module": "@jupyter-widgets/base",
            "_view_module_version": "1.2.0",
            "_view_name": "LayoutView",
            "align_content": null,
            "align_items": null,
            "align_self": null,
            "border": null,
            "bottom": null,
            "display": null,
            "flex": null,
            "flex_flow": null,
            "grid_area": null,
            "grid_auto_columns": null,
            "grid_auto_flow": null,
            "grid_auto_rows": null,
            "grid_column": null,
            "grid_gap": null,
            "grid_row": null,
            "grid_template_areas": null,
            "grid_template_columns": null,
            "grid_template_rows": null,
            "height": null,
            "justify_content": null,
            "justify_items": null,
            "left": null,
            "margin": null,
            "max_height": null,
            "max_width": null,
            "min_height": null,
            "min_width": null,
            "object_fit": null,
            "object_position": null,
            "order": null,
            "overflow": null,
            "overflow_x": null,
            "overflow_y": null,
            "padding": null,
            "right": null,
            "top": null,
            "visibility": null,
            "width": null
          }
        },
        "cffb7a5aeae843519f9ca2aabfa37abc": {
          "model_module": "@jupyter-widgets/controls",
          "model_name": "ProgressStyleModel",
          "model_module_version": "1.5.0",
          "state": {
            "_model_module": "@jupyter-widgets/controls",
            "_model_module_version": "1.5.0",
            "_model_name": "ProgressStyleModel",
            "_view_count": null,
            "_view_module": "@jupyter-widgets/base",
            "_view_module_version": "1.2.0",
            "_view_name": "StyleView",
            "bar_color": null,
            "description_width": ""
          }
        },
        "a3c9ddf219d546b6a06baf74d3372f30": {
          "model_module": "@jupyter-widgets/base",
          "model_name": "LayoutModel",
          "model_module_version": "1.2.0",
          "state": {
            "_model_module": "@jupyter-widgets/base",
            "_model_module_version": "1.2.0",
            "_model_name": "LayoutModel",
            "_view_count": null,
            "_view_module": "@jupyter-widgets/base",
            "_view_module_version": "1.2.0",
            "_view_name": "LayoutView",
            "align_content": null,
            "align_items": null,
            "align_self": null,
            "border": null,
            "bottom": null,
            "display": null,
            "flex": null,
            "flex_flow": null,
            "grid_area": null,
            "grid_auto_columns": null,
            "grid_auto_flow": null,
            "grid_auto_rows": null,
            "grid_column": null,
            "grid_gap": null,
            "grid_row": null,
            "grid_template_areas": null,
            "grid_template_columns": null,
            "grid_template_rows": null,
            "height": null,
            "justify_content": null,
            "justify_items": null,
            "left": null,
            "margin": null,
            "max_height": null,
            "max_width": null,
            "min_height": null,
            "min_width": null,
            "object_fit": null,
            "object_position": null,
            "order": null,
            "overflow": null,
            "overflow_x": null,
            "overflow_y": null,
            "padding": null,
            "right": null,
            "top": null,
            "visibility": null,
            "width": null
          }
        },
        "ff7d6f7722ec400281651d43e86849b0": {
          "model_module": "@jupyter-widgets/controls",
          "model_name": "DescriptionStyleModel",
          "model_module_version": "1.5.0",
          "state": {
            "_model_module": "@jupyter-widgets/controls",
            "_model_module_version": "1.5.0",
            "_model_name": "DescriptionStyleModel",
            "_view_count": null,
            "_view_module": "@jupyter-widgets/base",
            "_view_module_version": "1.2.0",
            "_view_name": "StyleView",
            "description_width": ""
          }
        }
      }
    }
  },
  "cells": [
    {
      "cell_type": "markdown",
      "metadata": {
        "id": "view-in-github",
        "colab_type": "text"
      },
      "source": [
        "<a href=\"https://colab.research.google.com/github/fuyu-quant/Data_Science/blob/main/Data_Science/Optuna.ipynb\" target=\"_parent\"><img src=\"https://colab.research.google.com/assets/colab-badge.svg\" alt=\"Open In Colab\"/></a>"
      ]
    },
    {
      "cell_type": "markdown",
      "source": [
        "# Optuna"
      ],
      "metadata": {
        "id": "qXpYFL5yuyGR"
      }
    },
    {
      "cell_type": "code",
      "execution_count": 1,
      "metadata": {
        "id": "6oEG26R0ufPq"
      },
      "outputs": [],
      "source": [
        "%%capture\n",
        "!pip install optuna"
      ]
    },
    {
      "cell_type": "code",
      "source": [
        "import optuna"
      ],
      "metadata": {
        "id": "SrAu7KcCus3-"
      },
      "execution_count": 2,
      "outputs": []
    },
    {
      "cell_type": "markdown",
      "source": [
        "## 関数の最適化"
      ],
      "metadata": {
        "id": "DtDwT-m5yNlb"
      }
    },
    {
      "cell_type": "code",
      "source": [
        "import numpy as np\n",
        "import matplotlib.pyplot as plt\n",
        "\n",
        "x = np.linspace(-2, 2, 100)\n",
        "plt.figure(0)\n",
        "plt.plot(x, (3*x**4 - 2*x**3 - 4*x**2 + 2))\n",
        "plt.show()"
      ],
      "metadata": {
        "colab": {
          "base_uri": "https://localhost:8080/",
          "height": 265
        },
        "id": "a_ESakB_yIvF",
        "outputId": "456360ab-47a0-465f-98b1-4e38f80fbc28"
      },
      "execution_count": 3,
      "outputs": [
        {
          "output_type": "display_data",
          "data": {
            "text/plain": [
              "<Figure size 432x288 with 1 Axes>"
            ],
            "image/png": "[encoded data removed]"
          },
          "metadata": {
            "needs_background": "light"
          }
        }
      ]
    },
    {
      "cell_type": "code",
      "source": [
        "# 目的関数の設定\n",
        "def f(x):\n",
        "    return (3*x**4 - 2*x**3 - 4*x**2 + 2)"
      ],
      "metadata": {
        "id": "A3qEOj9dyTZE"
      },
      "execution_count": 4,
      "outputs": []
    },
    {
      "cell_type": "code",
      "source": [
        "# 目的関数の定義(f(x)をラップするように記述)\n",
        "def objective(trial): # 引数 (trial) はTrial型の値\n",
        "    # 最適化する変数とその範囲を選択\n",
        "    x = trial.suggest_uniform(\"x\", -5, 5)\n",
        "    # 途中の状態を保存\n",
        "    ret = f(x) \n",
        "    return ret\n"
      ],
      "metadata": {
        "id": "9BqlozbiyYgG"
      },
      "execution_count": 5,
      "outputs": []
    },
    {
      "cell_type": "code",
      "source": [
        "# 最適化するstudyオブジェクトを定義\n",
        "study = optuna.create_study(direction=\"minimize\") \n",
        "study.optimize(objective, # 目的関数\n",
        "               n_trials=100 # 実行回数\n",
        "              )\n"
      ],
      "metadata": {
        "id": "Pl7X2aAjyrMI"
      },
      "execution_count": null,
      "outputs": []
    },
    {
      "cell_type": "code",
      "source": [
        "print(study.best_value)\n",
        "print(study.best_params)"
      ],
      "metadata": {
        "colab": {
          "base_uri": "https://localhost:8080/"
        },
        "id": "nRU_U1EJzhtj",
        "outputId": "15b110a4-3d5f-465d-99a3-97866091e769"
      },
      "execution_count": 7,
      "outputs": [
        {
          "output_type": "stream",
          "name": "stdout",
          "text": [
            "-1.1097315489331225\n",
            "{'x': 1.107436210048087}\n"
          ]
        }
      ]
    },
    {
      "cell_type": "markdown",
      "source": [
        "## LightGBMの最適化"
      ],
      "metadata": {
        "id": "xcmORjrjzzab"
      }
    },
    {
      "cell_type": "code",
      "source": [
        "import lightgbm as lgbm\n",
        "from sklearn import datasets\n",
        "from sklearn.model_selection import train_test_split\n",
        "from sklearn.metrics import roc_auc_score"
      ],
      "metadata": {
        "id": "7ryIgRz6z2XR"
      },
      "execution_count": 15,
      "outputs": []
    },
    {
      "cell_type": "code",
      "source": [
        "iris = datasets.load_iris()\n",
        "\n",
        "data = iris.data\n",
        "target = iris.target\n",
        "train_x, test_x, train_y, test_y = train_test_split(data, target, random_state=0)"
      ],
      "metadata": {
        "id": "-O78Gc4t0Upy"
      },
      "execution_count": 16,
      "outputs": []
    },
    {
      "cell_type": "code",
      "source": [
        "def objective(trial):\n",
        "    param = {\n",
        "        'objective': 'multiclass',\n",
        "        'num_class': 3,\n",
        "        # カテゴリの試行を行うパラメータ\n",
        "        'boosting_type': trial.suggest_categorical('boosting_type', ['gbdt', 'dart']),\n",
        "        # 整数値の試行を行うパラメータ\n",
        "        'num_leavrs': trial.suggest_int('num_leaves', 10, 100),\n",
        "        # 対数値の試行を行うパラメータ\n",
        "        'learning_rate': trial.suggest_loguniform('learning_rate', 1e-3, 1.0),\n",
        "        # 連続値の試行を行うパラメータ\n",
        "        'feature_fraction': trial.suggest_uniform('feature_fraction', 0, 1),\n",
        "        # 離散値の試行を行うパラメータ(qは試行を行う間隔を調整する)\n",
        "        #'min_child_samples': trial.suggest_discrete_uniform('min_child_samples', 1, 10, 1)\n",
        "    }\n",
        "    \n",
        "    train_xy = lgbm.Dataset(train_x, train_y)\n",
        "    val_xy = lgbm.Dataset(test_x, test_y, reference=train_xy)\n",
        "\n",
        "    gbm = lgbm.train(param, train_xy,valid_sets = val_xy)\n",
        "    \n",
        "    pred_proba = gbm.predict(test_x)\n",
        "    pred = np.argmax(pred_proba, axis=1)\n",
        "    \n",
        "    auc = roc_auc_score(test_y, pred_proba, multi_class = 'ovr')\n",
        "    return auc\n",
        "\n",
        "\n",
        "study = optuna.create_study(direction='minimize')\n",
        "optuna.logging.disable_default_handler()\n",
        "study.optimize(objective, n_trials=100)"
      ],
      "metadata": {
        "id": "9tQqOIJl0n8w"
      },
      "execution_count": null,
      "outputs": []
    },
    {
      "cell_type": "code",
      "source": [
        "print(study.best_value)\n",
        "print(study.best_params)"
      ],
      "metadata": {
        "colab": {
          "base_uri": "https://localhost:8080/"
        },
        "id": "03vnemsUBeAH",
        "outputId": "9a19ba25-9c8d-4304-e27b-eef5138cf8ef"
      },
      "execution_count": 38,
      "outputs": [
        {
          "output_type": "stream",
          "name": "stdout",
          "text": [
            "0.9380551201671891\n",
            "{'boosting_type': 'gbdt', 'num_leaves': 84, 'learning_rate': 0.0013327952589450812, 'feature_fraction': 0.5092078421491011}\n"
          ]
        }
      ]
    },
    {
      "cell_type": "markdown",
      "source": [
        "## Optunaの可視化"
      ],
      "metadata": {
        "id": "KOapIUS1HuYD"
      }
    },
    {
      "cell_type": "code",
      "source": [
        "from optuna import visualization"
      ],
      "metadata": {
        "id": "TfrxeQGwEFwt"
      },
      "execution_count": 39,
      "outputs": []
    },
    {
      "cell_type": "markdown",
      "source": [
        "### パラメータの相互作用の可視化\n",
        "* https://optuna.readthedocs.io/en/stable/reference/visualization/generated/optuna.visualization.plot_contour.html"
      ],
      "metadata": {
        "id": "J2b44qSiGFBj"
      }
    },
    {
      "cell_type": "code",
      "source": [
        "visualization.plot_contour(study, params=[\n",
        "    'boosting_type',\n",
        "    'num_leaves',\n",
        "    'learning_rate',\n",
        "    'feature_fraction'])"
      ],
      "metadata": {
        "colab": {
          "base_uri": "https://localhost:8080/",
          "height": 542
        },
        "id": "_V2XOnueDPfj",
        "outputId": "bc9faf54-e9d6-4efb-aa88-37332ddba198"
      },
      "execution_count": 41,
      "outputs": [
        {
          "output_type": "display_data",
          "data": {
            "text/html": [
              "<html>\n",
              "<head><meta charset=\"utf-8\" /></head>\n",
              "<body>\n",
              "    <div>            <script src=\"https://cdnjs.cloudflare.com/ajax/libs/mathjax/2.7.5/MathJax.js?config=TeX-AMS-MML_SVG\"></script><script type=\"text/javascript\">if (window.MathJax) {MathJax.Hub.Config({SVG: {font: \"STIX-Web\"}});}</script>                <script type=\"text/javascript\">window.PlotlyConfig = {MathJaxConfig: 'local'};</script>\n",
              "        <script src=\"https://cdn.plot.ly/plotly-2.8.3.min.js\"></script>                <div id=\"83ff017b-08f4-4fc4-aa28-3069d32d3a98\" class=\"plotly-graph-div\" style=\"height:525px; width:100%;\"></div>            <script type=\"text/javascript\">                                    window.PLOTLYENV=window.PLOTLYENV || {};                                    if (document.getElementById(\"83ff017b-08f4-4fc4-aa28-3069d32d3a98\")) {                    Plotly.newPlot(                        \"83ff017b-08f4-4fc4-aa28-3069d32d3a98\",                        [{\"type\":\"scatter\",\"xaxis\":\"x\",\"yaxis\":\"y\"},{\"colorbar\":{\"title\":{\"text\":\"Objective Value\"}},\"colorscale\":[[0.0,\"rgb(247,251,255)\"],[0.125,\"rgb(222,235,247)\"],[0.25,\"rgb(198,219,239)\"],[0.375,\"rgb(158,202,225)\"],[0.5,\"rgb(107,174,214)\"],[0.625,\"rgb(66,146,198)\"],[0.75,\"rgb(33,113,181)\"],[0.875,\"rgb(8,81,156)\"],[1.0,\"rgb(8,48,107)\"]],\"connectgaps\":true,\"contours\":{\"coloring\":\"heatmap\"},\"hoverinfo\":\"none\",\"line\":{\"smoothing\":1.3},\"reversescale\":true,\"showscale\":true,\"x\":[\"dart\",\"gbdt\"],\"y\":[-0.03130074289623405,0.017580688489167495,0.06816336891752811,0.10049784955749624,0.14398133150202946,0.15126241832766066,0.1593846010272439,0.204774480443911,0.21415090864421538,0.2607889147849083,0.26416092485356324,0.29672281325955074,0.32849684093107323,0.34436190380217346,0.34984621050070874,0.3783573261733709,0.3812048520012899,0.38339108949162204,0.4016280929421766,0.40807126783660513,0.4151934158649231,0.42551230238691107,0.4349571648534177,0.4488454617366379,0.4498469702653812,0.4517383848232247,0.4554702007383124,0.47195833963891576,0.47236892283818005,0.47510381887388714,0.4869666343737278,0.48849997770484743,0.4955369632048551,0.5007804842610596,0.5027387659451736,0.5050775587324385,0.5055792514244312,0.5092078421491011,0.5132970523636197,0.5142624875562325,0.5160236769414953,0.5280094666448093,0.5280571140194011,0.5285673188017547,0.5318771803427904,0.5338748881897236,0.5403879445077471,0.5439822707982183,0.549603941867679,0.5499290449649915,0.5541032239886347,0.558543528735306,0.5626118616721701,0.5654121430073455,0.568294483140127,0.5703512800948547,0.5713665262806743,0.5749517640392326,0.5757439050260932,0.5761321439567597,0.5798110120732055,0.5842545370554068,0.5864911850300679,0.5949045962331351,0.5965404882282515,0.597135804237003,0.597445562021935,0.5998177595923543,0.6001451314072975,0.6117362226707697,0.6183393588449764,0.6255691604899822,0.6277274858591582,0.6285602450364968,0.6407318944735574,0.6417269630589296,0.6484835841878254,0.6492270352513785,0.6535086921831352,0.6556197253048618,0.6563530269436376,0.6678651196850418,0.6689369496786249,0.6695991980888816,0.6804996735359335,0.6918376929042345,0.7065391776212664,0.7119336364696917,0.7333452823069315,0.7370566535133063,0.7433079148027768,0.7442498731185044,0.7519243294942659,0.7778851703645735,0.7859876823522647,0.788978516971918,0.8324234134793864,0.8360473509089751,0.8523481450304584,0.9159475911651482,0.9952093161971984,1.0440907475826],\"z\":[[null,null],[0.9866553465691398,null],[0.9911035643794266,null],[null,0.9721206316033902],[null,0.9667254440961338],[null,0.9866553465691398],[null,0.988879455474283],[null,0.9920505340763962],[0.9911035643794266,null],[0.9911035643794266,null],[null,0.9708434923952165],[null,0.9847614071752003],[null,0.9847614071752003],[null,0.9920505340763962],[0.9911035643794266,null],[0.9698965226982468,null],[null,0.9667254440961338],[0.9721206316033902,null],[0.9901565946824569,null],[null,0.9667254440961338],[null,0.9901565946824569],[null,0.9901565946824569],[null,0.9721206316033902],[0.9911035643794266,null],[null,0.9901565946824569],[null,0.9901565946824569],[null,0.9911035643794266],[null,0.9911035643794266],[null,0.9901565946824569],[null,0.9901565946824569],[null,0.9901565946824569],[null,0.9901565946824569],[0.9911035643794266,null],[null,0.9393322593753628],[null,0.9536674213398352],[null,0.9393322593753628],[null,0.9393322593753628],[null,0.9380551201671891],[null,0.9393322593753628],[null,0.9380551201671891],[null,0.9383852896783931],[null,0.9383852896783931],[null,0.9383852896783931],[null,0.9402792290723325],[null,0.9628504876349705],[null,0.9380551201671891],[null,0.9383852896783931],[null,0.9393322593753628],[null,0.9380551201671891],[null,0.9536674213398352],[null,0.9383852896783931],[null,0.9492192035295485],[null,0.9393322593753628],[null,0.9393322593753628],[0.975578340880065,null],[null,0.9380551201671891],[null,0.9383852896783931],[null,0.9393322593753628],[0.9721206316033904,null],[null,0.9380551201671891],[null,0.9383852896783931],[0.9402792290723325,null],[null,0.9380551201671891],[null,0.9383852896783931],[null,0.9402792290723325],[null,0.9393322593753628],[null,0.9383852896783931],[null,0.978419249970974],[null,0.9393322593753628],[null,0.9393322593753628],[null,0.9911035643794266],[null,0.9393322593753628],[null,0.9393322593753628],[null,0.9587324393358876],[null,0.9393322593753628],[null,0.9380551201671891],[null,0.9393322593753628],[null,0.9383852896783931],[null,0.9380551201671891],[0.9815903285730873,null],[0.9393322593753628,null],[null,0.9380551201671891],[null,0.9587324393358876],[null,0.9380551201671891],[null,0.9402792290723325],[null,0.9393322593753628],[null,0.9402792290723325],[null,0.988879455474283],[0.9402792290723325,null],[null,0.9380551201671891],[null,0.9600095785440613],[null,0.9380551201671891],[null,0.9920505340763962],[null,0.9920505340763962],[null,0.9933276732845698],[0.9923807035876001,null],[null,0.9920505340763962],[null,0.9911035643794265],[null,0.9911035643794265],[null,0.9911035643794265],[0.9933276732845698,null],[null,null]],\"type\":\"contour\",\"xaxis\":\"x5\",\"yaxis\":\"y5\"},{\"marker\":{\"color\":\"black\",\"line\":{\"color\":\"Grey\",\"width\":2.0}},\"mode\":\"markers\",\"showlegend\":false,\"x\":[\"dart\",\"gbdt\",\"dart\",\"dart\",\"dart\",\"dart\",\"dart\",\"gbdt\",\"gbdt\",\"gbdt\",\"dart\",\"dart\",\"dart\",\"dart\",\"dart\",\"dart\",\"dart\",\"dart\",\"gbdt\",\"gbdt\",\"gbdt\",\"gbdt\",\"gbdt\",\"gbdt\",\"gbdt\",\"gbdt\",\"gbdt\",\"gbdt\",\"gbdt\",\"gbdt\",\"gbdt\",\"gbdt\",\"gbdt\",\"gbdt\",\"gbdt\",\"gbdt\",\"gbdt\",\"gbdt\",\"gbdt\",\"gbdt\",\"gbdt\",\"gbdt\",\"gbdt\",\"gbdt\",\"gbdt\",\"gbdt\",\"gbdt\",\"gbdt\",\"gbdt\",\"gbdt\",\"gbdt\",\"gbdt\",\"gbdt\",\"gbdt\",\"gbdt\",\"gbdt\",\"gbdt\",\"dart\",\"gbdt\",\"gbdt\",\"dart\",\"gbdt\",\"gbdt\",\"gbdt\",\"gbdt\",\"gbdt\",\"gbdt\",\"gbdt\",\"gbdt\",\"gbdt\",\"dart\",\"gbdt\",\"gbdt\",\"gbdt\",\"gbdt\",\"gbdt\",\"gbdt\",\"gbdt\",\"gbdt\",\"gbdt\",\"gbdt\",\"gbdt\",\"gbdt\",\"gbdt\",\"gbdt\",\"gbdt\",\"gbdt\",\"dart\",\"gbdt\",\"gbdt\",\"gbdt\",\"gbdt\",\"gbdt\",\"gbdt\",\"gbdt\",\"gbdt\",\"gbdt\",\"gbdt\",\"gbdt\",\"gbdt\"],\"y\":[0.21415090864421538,0.6183393588449764,0.4955369632048551,0.788978516971918,0.568294483140127,0.6556197253048618,0.2607889147849083,0.8523481450304584,0.204774480443911,0.8360473509089751,0.017580688489167495,0.5757439050260932,0.4488454617366379,0.9952093161971984,0.38339108949162204,0.3783573261733709,0.34984621050070874,0.06816336891752811,0.3812048520012899,0.32849684093107323,0.7119336364696917,0.40807126783660513,0.4349571648534177,0.14398133150202946,0.10049784955749624,0.1593846010272439,0.29672281325955074,0.15126241832766066,0.26416092485356324,0.5132970523636197,0.5160236769414953,0.5092078421491011,0.5338748881897236,0.5285673188017547,0.5007804842610596,0.6407318944735574,0.6689369496786249,0.5713665262806743,0.7433079148027768,0.5798110120732055,0.5998177595923543,0.5541032239886347,0.47236892283818005,0.6001451314072975,0.5439822707982183,0.6918376929042345,0.47510381887388714,0.6285602450364968,0.558543528735306,0.7859876823522647,0.4498469702653812,0.549603941867679,0.5142624875562325,0.5965404882282515,0.42551230238691107,0.5055792514244312,0.47195833963891576,0.6563530269436376,0.5318771803427904,0.5626118616721701,0.7333452823069315,0.5949045962331351,0.4151934158649231,0.5654121430073455,0.6277274858591582,0.5027387659451736,0.6804996735359335,0.597445562021935,0.34436190380217346,0.9159475911651482,0.4016280929421766,0.5280571140194011,0.6117362226707697,0.4554702007383124,0.5280094666448093,0.5864911850300679,0.48849997770484743,0.7065391776212664,0.5749517640392326,0.5499290449649915,0.4869666343737278,0.6492270352513785,0.597135804237003,0.6484835841878254,0.5403879445077471,0.5761321439567597,0.6255691604899822,0.5842545370554068,0.4517383848232247,0.5050775587324385,0.5703512800948547,0.6417269630589296,0.6535086921831352,0.6695991980888816,0.7370566535133063,0.7778851703645735,0.6678651196850418,0.7442498731185044,0.8324234134793864,0.7519243294942659],\"type\":\"scatter\",\"xaxis\":\"x5\",\"yaxis\":\"y5\"},{\"colorbar\":{\"title\":{\"text\":\"Objective Value\"}},\"colorscale\":[[0.0,\"rgb(247,251,255)\"],[0.125,\"rgb(222,235,247)\"],[0.25,\"rgb(198,219,239)\"],[0.375,\"rgb(158,202,225)\"],[0.5,\"rgb(107,174,214)\"],[0.625,\"rgb(66,146,198)\"],[0.75,\"rgb(33,113,181)\"],[0.875,\"rgb(8,81,156)\"],[1.0,\"rgb(8,48,107)\"]],\"connectgaps\":true,\"contours\":{\"coloring\":\"heatmap\"},\"hoverinfo\":\"none\",\"line\":{\"smoothing\":1.3},\"reversescale\":true,\"showscale\":false,\"x\":[\"dart\",\"gbdt\"],\"y\":[0.0007124539040580717,0.0010054989778286872,0.0010085276030225225,0.0010126380473999873,0.001013219628987948,0.0010332587609815055,0.0011170900375099776,0.0011519094932388666,0.0011545978814094112,0.0011603028791936439,0.0011866859001563228,0.0011870376384079688,0.0012139067899170294,0.0012164794579388328,0.0012244834475361103,0.001239698374764681,0.0012407304610466787,0.0012433814774598594,0.001281216537726556,0.001298853925658958,0.0013327952589450812,0.0013382097144481143,0.001347722138704087,0.001350923824878732,0.0013744380274322708,0.0013816022572488867,0.0014028295980928727,0.0014079716298844756,0.0014492789641041587,0.0014578392512450177,0.001464708575830703,0.0014705926842589624,0.0015604432596561123,0.0015817287502271314,0.0015905552470339315,0.0016075965963191162,0.0016077302717296782,0.0016366639388812726,0.0016646637513757694,0.0017057230871074395,0.0017526459038934206,0.0017885581050604506,0.0018668240504225687,0.0019043216144904824,0.0019114209814252994,0.001917789449811928,0.001920877300071056,0.0020745074137178865,0.0020851757820818054,0.0022206136235321614,0.0022498006341152067,0.0023462179207158766,0.0024223286691275815,0.0024598892013561304,0.0025437148043958298,0.0026201441718044552,0.002776077488860619,0.002802911748864269,0.0029703812840763894,0.00299555129800087,0.003298896731344554,0.0034827700113191666,0.0035100225034122587,0.0038577361938431317,0.004051695852770575,0.004405058160638876,0.004576523763264509,0.005057240810102104,0.006009359517501574,0.007090577955257333,0.007502519983666527,0.009139704253759616,0.01157008229068338,0.01517184332429048,0.01709602768971001,0.02973502039467869,0.031919681277843524,0.043251583333154174,0.04730015291090741,0.05117097994602003,0.06044108530503717,0.06805156091055424,0.11196224935501041,0.1130468657232294,0.12433581253390125,0.20456026722007212,0.20474535628128093,0.20973128772658298,0.3010320251851733,0.320291118804541,0.40638677662363126,0.4920429058871023,0.5276903440717914,0.6071802721812887,0.6305796194386968,0.9028536898580939,0.9048862357897041,0.921569392437394,0.9339651412812896,0.9797172338878688,0.9882774582089302,1.3947737086990761],\"z\":[[null,null],[null,0.9402792290723325],[null,0.9920505340763962],[null,0.9402792290723325],[null,0.9402792290723325],[null,0.9402792290723325],[null,0.9920505340763962],[null,0.9393322593753628],[null,0.9901565946824569],[null,0.9393322593753628],[null,0.9380551201671891],[null,0.9380551201671891],[null,0.9380551201671891],[null,0.9380551201671891],[null,0.9380551201671891],[0.9402792290723325,null],[0.9901565946824569,null],[null,0.9901565946824569],[null,0.9901565946824569],[null,0.9380551201671891],[null,0.9380551201671891],[null,0.9380551201671891],[null,0.9380551201671891],[null,0.9380551201671891],[null,0.9380551201671891],[null,0.9901565946824569],[null,0.9380551201671891],[null,0.9901565946824569],[null,0.9901565946824569],[null,0.9901565946824569],[null,0.9380551201671891],[0.9402792290723325,null],[null,0.9383852896783931],[null,0.9383852896783931],[null,0.9383852896783931],[null,0.9383852896783931],[null,0.9383852896783931],[null,0.9383852896783931],[null,0.9383852896783931],[null,0.9383852896783931],[0.9923807035876001,null],[null,0.9383852896783931],[null,0.9383852896783931],[null,0.9393322593753628],[null,0.9901565946824569],[null,0.9393322593753628],[null,0.9393322593753628],[null,0.9393322593753628],[null,0.9393322593753628],[null,0.9393322593753628],[null,0.9393322593753628],[null,0.9393322593753628],[null,0.9393322593753628],[null,0.9393322593753628],[null,0.9393322593753628],[null,0.9920505340763962],[null,0.9393322593753628],[null,0.9911035643794266],[null,0.9393322593753628],[null,0.9393322593753628],[0.9393322593753628,null],[null,0.9492192035295485],[0.9911035643794266,null],[null,0.9536674213398352],[null,0.9536674213398352],[null,0.9587324393358876],[null,0.9587324393358876],[null,0.9600095785440613],[null,0.9628504876349705],[0.9933276732845698,null],[null,0.9933276732845698],[null,0.9920505340763962],[null,0.978419249970974],[null,0.9920505340763962],[null,0.9911035643794265],[null,0.9911035643794265],[null,0.9911035643794266],[null,0.9911035643794265],[0.975578340880065,null],[0.9911035643794266,null],[null,0.9911035643794266],[0.9911035643794266,null],[null,0.988879455474283],[null,0.988879455474283],[null,0.9866553465691398],[0.9911035643794266,null],[0.9911035643794266,null],[0.9911035643794266,null],[null,0.9847614071752003],[null,0.9847614071752003],[0.9866553465691398,null],[null,0.9721206316033902],[null,0.9721206316033902],[0.9815903285730873,null],[null,0.9708434923952165],[null,0.9667254440961338],[null,0.9667254440961338],[0.9721206316033902,null],[0.9721206316033904,null],[null,0.9667254440961338],[0.9698965226982468,null],[null,null]],\"type\":\"contour\",\"xaxis\":\"x9\",\"yaxis\":\"y9\"},{\"marker\":{\"color\":\"black\",\"line\":{\"color\":\"Grey\",\"width\":2.0}},\"mode\":\"markers\",\"showlegend\":false,\"x\":[\"dart\",\"gbdt\",\"dart\",\"dart\",\"dart\",\"dart\",\"dart\",\"gbdt\",\"gbdt\",\"gbdt\",\"dart\",\"dart\",\"dart\",\"dart\",\"dart\",\"dart\",\"dart\",\"dart\",\"gbdt\",\"gbdt\",\"gbdt\",\"gbdt\",\"gbdt\",\"gbdt\",\"gbdt\",\"gbdt\",\"gbdt\",\"gbdt\",\"gbdt\",\"gbdt\",\"gbdt\",\"gbdt\",\"gbdt\",\"gbdt\",\"gbdt\",\"gbdt\",\"gbdt\",\"gbdt\",\"gbdt\",\"gbdt\",\"gbdt\",\"gbdt\",\"gbdt\",\"gbdt\",\"gbdt\",\"gbdt\",\"gbdt\",\"gbdt\",\"gbdt\",\"gbdt\",\"gbdt\",\"gbdt\",\"gbdt\",\"gbdt\",\"gbdt\",\"gbdt\",\"gbdt\",\"dart\",\"gbdt\",\"gbdt\",\"dart\",\"gbdt\",\"gbdt\",\"gbdt\",\"gbdt\",\"gbdt\",\"gbdt\",\"gbdt\",\"gbdt\",\"gbdt\",\"dart\",\"gbdt\",\"gbdt\",\"gbdt\",\"gbdt\",\"gbdt\",\"gbdt\",\"gbdt\",\"gbdt\",\"gbdt\",\"gbdt\",\"gbdt\",\"gbdt\",\"gbdt\",\"gbdt\",\"gbdt\",\"gbdt\",\"dart\",\"gbdt\",\"gbdt\",\"gbdt\",\"gbdt\",\"gbdt\",\"gbdt\",\"gbdt\",\"gbdt\",\"gbdt\",\"gbdt\",\"gbdt\",\"gbdt\"],\"y\":[0.0035100225034122587,0.06044108530503717,0.05117097994602003,0.0017526459038934206,0.04730015291090741,0.6071802721812887,0.06805156091055424,0.043251583333154174,0.01517184332429048,0.02973502039467869,0.40638677662363126,0.9339651412812896,0.20973128772658298,0.007090577955257333,0.921569392437394,0.9882774582089302,0.20456026722007212,0.20474535628128093,0.9797172338878688,0.3010320251851733,0.1130468657232294,0.9028536898580939,0.4920429058871023,0.9048862357897041,0.5276903440717914,0.11196224935501041,0.320291118804541,0.12433581253390125,0.6305796194386968,0.0011603028791936439,0.0015604432596561123,0.0013327952589450812,0.0012164794579388328,0.0010332587609815055,0.0023462179207158766,0.0025437148043958298,0.004405058160638876,0.0018668240504225687,0.005057240810102104,0.0016077302717296782,0.01157008229068338,0.0015817287502271314,0.0014578392512450177,0.0024223286691275815,0.0029703812840763894,0.001920877300071056,0.0014079716298844756,0.004576523763264509,0.0034827700113191666,0.007502519983666527,0.0019114209814252994,0.001464708575830703,0.001298853925658958,0.0010054989778286872,0.001281216537726556,0.0019043216144904824,0.031919681277843524,0.003298896731344554,0.006009359517501574,0.0022498006341152067,0.001239698374764681,0.0016075965963191162,0.0014492789641041587,0.002776077488860619,0.001917789449811928,0.004051695852770575,0.0010126380473999873,0.0017885581050604506,0.009139704253759616,0.01709602768971001,0.0012407304610466787,0.0016646637513757694,0.0020745074137178865,0.002802911748864269,0.0015905552470339315,0.0012139067899170294,0.0012433814774598594,0.001013219628987948,0.0024598892013561304,0.0038577361938431317,0.0013816022572488867,0.0017057230871074395,0.0022206136235321614,0.00299555129800087,0.0016366639388812726,0.0012244834475361103,0.0011519094932388666,0.0014705926842589624,0.0011545978814094112,0.0020851757820818054,0.0014028295980928727,0.001350923824878732,0.0013382097144481143,0.0011866859001563228,0.0011870376384079688,0.0011170900375099776,0.001347722138704087,0.0013744380274322708,0.0026201441718044552,0.0010085276030225225],\"type\":\"scatter\",\"xaxis\":\"x9\",\"yaxis\":\"y9\"},{\"colorbar\":{\"title\":{\"text\":\"Objective Value\"}},\"colorscale\":[[0.0,\"rgb(247,251,255)\"],[0.125,\"rgb(222,235,247)\"],[0.25,\"rgb(198,219,239)\"],[0.375,\"rgb(158,202,225)\"],[0.5,\"rgb(107,174,214)\"],[0.625,\"rgb(66,146,198)\"],[0.75,\"rgb(33,113,181)\"],[0.875,\"rgb(8,81,156)\"],[1.0,\"rgb(8,48,107)\"]],\"connectgaps\":true,\"contours\":{\"coloring\":\"heatmap\"},\"hoverinfo\":\"none\",\"line\":{\"smoothing\":1.3},\"reversescale\":true,\"showscale\":false,\"x\":[\"dart\",\"gbdt\"],\"y\":[6.55,11,12,17,22,25,26,30,32,37,38,42,47,49,52,53,54,59,60,62,63,64,65,66,68,70,71,73,74,76,77,78,79,80,81,82,83,84,85,86,87,88,89,90,91,92,94,95,96,97,98,99,100,104.45],\"z\":[[null,null],[0.9866553465691398,null],[0.9911035643794266,null],[0.9721206316033904,null],[0.9698965226982468,null],[0.9911035643794266,null],[0.9721206316033902,null],[0.9923807035876001,null],[0.975578340880065,null],[0.9402792290723325,null],[null,0.9911035643794265],[0.9911035643794266,0.9920505340763962],[null,0.9393322593753628],[null,0.9920505340763962],[null,0.9920505340763962],[null,0.9380551201671891],[0.9901565946824569,null],[0.9402792290723325,0.9901565946824569],[null,0.9380551201671891],[null,0.9920505340763962],[null,0.9380551201671891],[0.9911035643794266,null],[0.9933276732845698,0.9911035643794265],[null,0.9393322593753628],[null,0.9901565946824569],[null,0.9901565946824569],[null,0.9393322593753628],[null,0.9393322593753628],[null,0.9721206316033902],[null,0.9402792290723325],[null,0.988879455474283],[null,0.9380551201671891],[null,0.9901565946824569],[null,0.9911035643794266],[null,0.9393322593753628],[null,0.9847614071752003],[null,0.9536674213398352],[null,0.9383852896783931],[null,0.9901565946824569],[null,0.9383852896783931],[null,0.9587324393358876],[0.9911035643794266,0.9536674213398352],[null,0.9393322593753628],[0.9393322593753628,0.9380551201671891],[null,0.9402792290723325],[null,0.9393322593753628],[null,0.9393322593753628],[null,0.9383852896783931],[null,0.9920505340763962],[null,0.9393322593753628],[null,0.9380551201671891],[null,0.9911035643794265],[null,0.9492192035295485],[null,null]],\"type\":\"contour\",\"xaxis\":\"x13\",\"yaxis\":\"y13\"},{\"marker\":{\"color\":\"black\",\"line\":{\"color\":\"Grey\",\"width\":2.0}},\"mode\":\"markers\",\"showlegend\":false,\"x\":[\"dart\",\"gbdt\",\"dart\",\"dart\",\"dart\",\"dart\",\"dart\",\"gbdt\",\"gbdt\",\"gbdt\",\"dart\",\"dart\",\"dart\",\"dart\",\"dart\",\"dart\",\"dart\",\"dart\",\"gbdt\",\"gbdt\",\"gbdt\",\"gbdt\",\"gbdt\",\"gbdt\",\"gbdt\",\"gbdt\",\"gbdt\",\"gbdt\",\"gbdt\",\"gbdt\",\"gbdt\",\"gbdt\",\"gbdt\",\"gbdt\",\"gbdt\",\"gbdt\",\"gbdt\",\"gbdt\",\"gbdt\",\"gbdt\",\"gbdt\",\"gbdt\",\"gbdt\",\"gbdt\",\"gbdt\",\"gbdt\",\"gbdt\",\"gbdt\",\"gbdt\",\"gbdt\",\"gbdt\",\"gbdt\",\"gbdt\",\"gbdt\",\"gbdt\",\"gbdt\",\"gbdt\",\"dart\",\"gbdt\",\"gbdt\",\"dart\",\"gbdt\",\"gbdt\",\"gbdt\",\"gbdt\",\"gbdt\",\"gbdt\",\"gbdt\",\"gbdt\",\"gbdt\",\"dart\",\"gbdt\",\"gbdt\",\"gbdt\",\"gbdt\",\"gbdt\",\"gbdt\",\"gbdt\",\"gbdt\",\"gbdt\",\"gbdt\",\"gbdt\",\"gbdt\",\"gbdt\",\"gbdt\",\"gbdt\",\"gbdt\",\"dart\",\"gbdt\",\"gbdt\",\"gbdt\",\"gbdt\",\"gbdt\",\"gbdt\",\"gbdt\",\"gbdt\",\"gbdt\",\"gbdt\",\"gbdt\",\"gbdt\"],\"y\":[88,47,88,30,32,22,42,65,52,38,11,17,12,65,26,22,25,64,77,97,77,79,76,76,74,92,82,70,60,86,85,84,86,88,100,97,94,83,83,91,92,84,70,89,83,71,47,87,100,81,85,90,90,91,94,97,80,90,73,66,37,94,86,79,95,88,92,95,96,99,54,84,94,89,86,78,79,76,81,83,68,92,89,92,86,60,47,59,59,73,98,98,62,62,63,62,53,49,49,42],\"type\":\"scatter\",\"xaxis\":\"x13\",\"yaxis\":\"y13\"},{\"colorbar\":{\"title\":{\"text\":\"Objective Value\"}},\"colorscale\":[[0.0,\"rgb(247,251,255)\"],[0.125,\"rgb(222,235,247)\"],[0.25,\"rgb(198,219,239)\"],[0.375,\"rgb(158,202,225)\"],[0.5,\"rgb(107,174,214)\"],[0.625,\"rgb(66,146,198)\"],[0.75,\"rgb(33,113,181)\"],[0.875,\"rgb(8,81,156)\"],[1.0,\"rgb(8,48,107)\"]],\"connectgaps\":true,\"contours\":{\"coloring\":\"heatmap\"},\"hoverinfo\":\"none\",\"line\":{\"smoothing\":1.3},\"reversescale\":true,\"showscale\":false,\"x\":[-0.03130074289623405,0.017580688489167495,0.06816336891752811,0.10049784955749624,0.14398133150202946,0.15126241832766066,0.1593846010272439,0.204774480443911,0.21415090864421538,0.2607889147849083,0.26416092485356324,0.29672281325955074,0.32849684093107323,0.34436190380217346,0.34984621050070874,0.3783573261733709,0.3812048520012899,0.38339108949162204,0.4016280929421766,0.40807126783660513,0.4151934158649231,0.42551230238691107,0.4349571648534177,0.4488454617366379,0.4498469702653812,0.4517383848232247,0.4554702007383124,0.47195833963891576,0.47236892283818005,0.47510381887388714,0.4869666343737278,0.48849997770484743,0.4955369632048551,0.5007804842610596,0.5027387659451736,0.5050775587324385,0.5055792514244312,0.5092078421491011,0.5132970523636197,0.5142624875562325,0.5160236769414953,0.5280094666448093,0.5280571140194011,0.5285673188017547,0.5318771803427904,0.5338748881897236,0.5403879445077471,0.5439822707982183,0.549603941867679,0.5499290449649915,0.5541032239886347,0.558543528735306,0.5626118616721701,0.5654121430073455,0.568294483140127,0.5703512800948547,0.5713665262806743,0.5749517640392326,0.5757439050260932,0.5761321439567597,0.5798110120732055,0.5842545370554068,0.5864911850300679,0.5949045962331351,0.5965404882282515,0.597135804237003,0.597445562021935,0.5998177595923543,0.6001451314072975,0.6117362226707697,0.6183393588449764,0.6255691604899822,0.6277274858591582,0.6285602450364968,0.6407318944735574,0.6417269630589296,0.6484835841878254,0.6492270352513785,0.6535086921831352,0.6556197253048618,0.6563530269436376,0.6678651196850418,0.6689369496786249,0.6695991980888816,0.6804996735359335,0.6918376929042345,0.7065391776212664,0.7119336364696917,0.7333452823069315,0.7370566535133063,0.7433079148027768,0.7442498731185044,0.7519243294942659,0.7778851703645735,0.7859876823522647,0.788978516971918,0.8324234134793864,0.8360473509089751,0.8523481450304584,0.9159475911651482,0.9952093161971984,1.0440907475826],\"y\":[\"dart\",\"gbdt\"],\"z\":[[null,0.9866553465691398,0.9911035643794266,null,null,null,null,null,0.9911035643794266,0.9911035643794266,null,null,null,null,0.9911035643794266,0.9698965226982468,null,0.9721206316033902,0.9901565946824569,null,null,null,null,0.9911035643794266,null,null,null,null,null,null,null,null,0.9911035643794266,null,null,null,null,null,null,null,null,null,null,null,null,null,null,null,null,null,null,null,null,null,0.975578340880065,null,null,null,0.9721206316033904,null,null,0.9402792290723325,null,null,null,null,null,null,null,null,null,null,null,null,null,null,null,null,null,0.9815903285730873,0.9393322593753628,null,null,null,null,null,null,null,0.9402792290723325,null,null,null,null,null,null,0.9923807035876001,null,null,null,null,0.9933276732845698,null],[null,null,null,0.9721206316033902,0.9667254440961338,0.9866553465691398,0.988879455474283,0.9920505340763962,null,null,0.9708434923952165,0.9847614071752003,0.9847614071752003,0.9920505340763962,null,null,0.9667254440961338,null,null,0.9667254440961338,0.9901565946824569,0.9901565946824569,0.9721206316033902,null,0.9901565946824569,0.9901565946824569,0.9911035643794266,0.9911035643794266,0.9901565946824569,0.9901565946824569,0.9901565946824569,0.9901565946824569,null,0.9393322593753628,0.9536674213398352,0.9393322593753628,0.9393322593753628,0.9380551201671891,0.9393322593753628,0.9380551201671891,0.9383852896783931,0.9383852896783931,0.9383852896783931,0.9402792290723325,0.9628504876349705,0.9380551201671891,0.9383852896783931,0.9393322593753628,0.9380551201671891,0.9536674213398352,0.9383852896783931,0.9492192035295485,0.9393322593753628,0.9393322593753628,null,0.9380551201671891,0.9383852896783931,0.9393322593753628,null,0.9380551201671891,0.9383852896783931,null,0.9380551201671891,0.9383852896783931,0.9402792290723325,0.9393322593753628,0.9383852896783931,0.978419249970974,0.9393322593753628,0.9393322593753628,0.9911035643794266,0.9393322593753628,0.9393322593753628,0.9587324393358876,0.9393322593753628,0.9380551201671891,0.9393322593753628,0.9383852896783931,0.9380551201671891,null,null,0.9380551201671891,0.9587324393358876,0.9380551201671891,0.9402792290723325,0.9393322593753628,0.9402792290723325,0.988879455474283,null,0.9380551201671891,0.9600095785440613,0.9380551201671891,0.9920505340763962,0.9920505340763962,0.9933276732845698,null,0.9920505340763962,0.9911035643794265,0.9911035643794265,0.9911035643794265,null,null]],\"type\":\"contour\",\"xaxis\":\"x2\",\"yaxis\":\"y2\"},{\"marker\":{\"color\":\"black\",\"line\":{\"color\":\"Grey\",\"width\":2.0}},\"mode\":\"markers\",\"showlegend\":false,\"x\":[0.21415090864421538,0.6183393588449764,0.4955369632048551,0.788978516971918,0.568294483140127,0.6556197253048618,0.2607889147849083,0.8523481450304584,0.204774480443911,0.8360473509089751,0.017580688489167495,0.5757439050260932,0.4488454617366379,0.9952093161971984,0.38339108949162204,0.3783573261733709,0.34984621050070874,0.06816336891752811,0.3812048520012899,0.32849684093107323,0.7119336364696917,0.40807126783660513,0.4349571648534177,0.14398133150202946,0.10049784955749624,0.1593846010272439,0.29672281325955074,0.15126241832766066,0.26416092485356324,0.5132970523636197,0.5160236769414953,0.5092078421491011,0.5338748881897236,0.5285673188017547,0.5007804842610596,0.6407318944735574,0.6689369496786249,0.5713665262806743,0.7433079148027768,0.5798110120732055,0.5998177595923543,0.5541032239886347,0.47236892283818005,0.6001451314072975,0.5439822707982183,0.6918376929042345,0.47510381887388714,0.6285602450364968,0.558543528735306,0.7859876823522647,0.4498469702653812,0.549603941867679,0.5142624875562325,0.5965404882282515,0.42551230238691107,0.5055792514244312,0.47195833963891576,0.6563530269436376,0.5318771803427904,0.5626118616721701,0.7333452823069315,0.5949045962331351,0.4151934158649231,0.5654121430073455,0.6277274858591582,0.5027387659451736,0.6804996735359335,0.597445562021935,0.34436190380217346,0.9159475911651482,0.4016280929421766,0.5280571140194011,0.6117362226707697,0.4554702007383124,0.5280094666448093,0.5864911850300679,0.48849997770484743,0.7065391776212664,0.5749517640392326,0.5499290449649915,0.4869666343737278,0.6492270352513785,0.597135804237003,0.6484835841878254,0.5403879445077471,0.5761321439567597,0.6255691604899822,0.5842545370554068,0.4517383848232247,0.5050775587324385,0.5703512800948547,0.6417269630589296,0.6535086921831352,0.6695991980888816,0.7370566535133063,0.7778851703645735,0.6678651196850418,0.7442498731185044,0.8324234134793864,0.7519243294942659],\"y\":[\"dart\",\"gbdt\",\"dart\",\"dart\",\"dart\",\"dart\",\"dart\",\"gbdt\",\"gbdt\",\"gbdt\",\"dart\",\"dart\",\"dart\",\"dart\",\"dart\",\"dart\",\"dart\",\"dart\",\"gbdt\",\"gbdt\",\"gbdt\",\"gbdt\",\"gbdt\",\"gbdt\",\"gbdt\",\"gbdt\",\"gbdt\",\"gbdt\",\"gbdt\",\"gbdt\",\"gbdt\",\"gbdt\",\"gbdt\",\"gbdt\",\"gbdt\",\"gbdt\",\"gbdt\",\"gbdt\",\"gbdt\",\"gbdt\",\"gbdt\",\"gbdt\",\"gbdt\",\"gbdt\",\"gbdt\",\"gbdt\",\"gbdt\",\"gbdt\",\"gbdt\",\"gbdt\",\"gbdt\",\"gbdt\",\"gbdt\",\"gbdt\",\"gbdt\",\"gbdt\",\"gbdt\",\"dart\",\"gbdt\",\"gbdt\",\"dart\",\"gbdt\",\"gbdt\",\"gbdt\",\"gbdt\",\"gbdt\",\"gbdt\",\"gbdt\",\"gbdt\",\"gbdt\",\"dart\",\"gbdt\",\"gbdt\",\"gbdt\",\"gbdt\",\"gbdt\",\"gbdt\",\"gbdt\",\"gbdt\",\"gbdt\",\"gbdt\",\"gbdt\",\"gbdt\",\"gbdt\",\"gbdt\",\"gbdt\",\"gbdt\",\"dart\",\"gbdt\",\"gbdt\",\"gbdt\",\"gbdt\",\"gbdt\",\"gbdt\",\"gbdt\",\"gbdt\",\"gbdt\",\"gbdt\",\"gbdt\",\"gbdt\"],\"type\":\"scatter\",\"xaxis\":\"x2\",\"yaxis\":\"y2\"},{\"type\":\"scatter\",\"xaxis\":\"x6\",\"yaxis\":\"y6\"},{\"colorbar\":{\"title\":{\"text\":\"Objective Value\"}},\"colorscale\":[[0.0,\"rgb(247,251,255)\"],[0.125,\"rgb(222,235,247)\"],[0.25,\"rgb(198,219,239)\"],[0.375,\"rgb(158,202,225)\"],[0.5,\"rgb(107,174,214)\"],[0.625,\"rgb(66,146,198)\"],[0.75,\"rgb(33,113,181)\"],[0.875,\"rgb(8,81,156)\"],[1.0,\"rgb(8,48,107)\"]],\"connectgaps\":true,\"contours\":{\"coloring\":\"heatmap\"},\"hoverinfo\":\"none\",\"line\":{\"smoothing\":1.3},\"reversescale\":true,\"showscale\":false,\"x\":[-0.03130074289623405,0.017580688489167495,0.06816336891752811,0.10049784955749624,0.14398133150202946,0.15126241832766066,0.1593846010272439,0.204774480443911,0.21415090864421538,0.2607889147849083,0.26416092485356324,0.29672281325955074,0.32849684093107323,0.34436190380217346,0.34984621050070874,0.3783573261733709,0.3812048520012899,0.38339108949162204,0.4016280929421766,0.40807126783660513,0.4151934158649231,0.42551230238691107,0.4349571648534177,0.4488454617366379,0.4498469702653812,0.4517383848232247,0.4554702007383124,0.47195833963891576,0.47236892283818005,0.47510381887388714,0.4869666343737278,0.48849997770484743,0.4955369632048551,0.5007804842610596,0.5027387659451736,0.5050775587324385,0.5055792514244312,0.5092078421491011,0.5132970523636197,0.5142624875562325,0.5160236769414953,0.5280094666448093,0.5280571140194011,0.5285673188017547,0.5318771803427904,0.5338748881897236,0.5403879445077471,0.5439822707982183,0.549603941867679,0.5499290449649915,0.5541032239886347,0.558543528735306,0.5626118616721701,0.5654121430073455,0.568294483140127,0.5703512800948547,0.5713665262806743,0.5749517640392326,0.5757439050260932,0.5761321439567597,0.5798110120732055,0.5842545370554068,0.5864911850300679,0.5949045962331351,0.5965404882282515,0.597135804237003,0.597445562021935,0.5998177595923543,0.6001451314072975,0.6117362226707697,0.6183393588449764,0.6255691604899822,0.6277274858591582,0.6285602450364968,0.6407318944735574,0.6417269630589296,0.6484835841878254,0.6492270352513785,0.6535086921831352,0.6556197253048618,0.6563530269436376,0.6678651196850418,0.6689369496786249,0.6695991980888816,0.6804996735359335,0.6918376929042345,0.7065391776212664,0.7119336364696917,0.7333452823069315,0.7370566535133063,0.7433079148027768,0.7442498731185044,0.7519243294942659,0.7778851703645735,0.7859876823522647,0.788978516971918,0.8324234134793864,0.8360473509089751,0.8523481450304584,0.9159475911651482,0.9952093161971984,1.0440907475826],\"y\":[0.0007124539040580717,0.0010054989778286872,0.0010085276030225225,0.0010126380473999873,0.001013219628987948,0.0010332587609815055,0.0011170900375099776,0.0011519094932388666,0.0011545978814094112,0.0011603028791936439,0.0011866859001563228,0.0011870376384079688,0.0012139067899170294,0.0012164794579388328,0.0012244834475361103,0.001239698374764681,0.0012407304610466787,0.0012433814774598594,0.001281216537726556,0.001298853925658958,0.0013327952589450812,0.0013382097144481143,0.001347722138704087,0.001350923824878732,0.0013744380274322708,0.0013816022572488867,0.0014028295980928727,0.0014079716298844756,0.0014492789641041587,0.0014578392512450177,0.001464708575830703,0.0014705926842589624,0.0015604432596561123,0.0015817287502271314,0.0015905552470339315,0.0016075965963191162,0.0016077302717296782,0.0016366639388812726,0.0016646637513757694,0.0017057230871074395,0.0017526459038934206,0.0017885581050604506,0.0018668240504225687,0.0019043216144904824,0.0019114209814252994,0.001917789449811928,0.001920877300071056,0.0020745074137178865,0.0020851757820818054,0.0022206136235321614,0.0022498006341152067,0.0023462179207158766,0.0024223286691275815,0.0024598892013561304,0.0025437148043958298,0.0026201441718044552,0.002776077488860619,0.002802911748864269,0.0029703812840763894,0.00299555129800087,0.003298896731344554,0.0034827700113191666,0.0035100225034122587,0.0038577361938431317,0.004051695852770575,0.004405058160638876,0.004576523763264509,0.005057240810102104,0.006009359517501574,0.007090577955257333,0.007502519983666527,0.009139704253759616,0.01157008229068338,0.01517184332429048,0.01709602768971001,0.02973502039467869,0.031919681277843524,0.043251583333154174,0.04730015291090741,0.05117097994602003,0.06044108530503717,0.06805156091055424,0.11196224935501041,0.1130468657232294,0.12433581253390125,0.20456026722007212,0.20474535628128093,0.20973128772658298,0.3010320251851733,0.320291118804541,0.40638677662363126,0.4920429058871023,0.5276903440717914,0.6071802721812887,0.6305796194386968,0.9028536898580939,0.9048862357897041,0.921569392437394,0.9339651412812896,0.9797172338878688,0.9882774582089302,1.3947737086990761],\"z\":[[null,null,null,null,null,null,null,null,null,null,null,null,null,null,null,null,null,null,null,null,null,null,null,null,null,null,null,null,null,null,null,null,null,null,null,null,null,null,null,null,null,null,null,null,null,null,null,null,null,null,null,null,null,null,null,null,null,null,null,null,null,null,null,null,null,null,null,null,null,null,null,null,null,null,null,null,null,null,null,null,null,null,null,null,null,null,null,null,null,null,null,null,null,null,null,null,null,null,null,null,null,null],[null,null,null,null,null,null,null,null,null,null,null,null,null,null,null,null,null,null,null,null,null,null,null,null,null,null,null,null,null,null,null,null,null,null,null,null,null,null,null,null,null,null,null,null,null,null,null,null,null,null,null,null,null,null,null,null,null,null,null,null,null,null,null,null,0.9402792290723325,null,null,null,null,null,null,null,null,null,null,null,null,null,null,null,null,null,null,null,null,null,null,null,null,null,null,null,null,null,null,null,null,null,null,null,null,null],[null,null,null,null,null,null,null,null,null,null,null,null,null,null,null,null,null,null,null,null,null,null,null,null,null,null,null,null,null,null,null,null,null,null,null,null,null,null,null,null,null,null,null,null,null,null,null,null,null,null,null,null,null,null,null,null,null,null,null,null,null,null,null,null,null,null,null,null,null,null,null,null,null,null,null,null,null,null,null,null,null,null,null,null,null,null,null,null,null,null,null,null,0.9920505340763962,null,null,null,null,null,null,null,null,null],[null,null,null,null,null,null,null,null,null,null,null,null,null,null,null,null,null,null,null,null,null,null,null,null,null,null,null,null,null,null,null,null,null,null,null,null,null,null,null,null,null,null,null,null,null,null,null,null,null,null,null,null,null,null,null,null,null,null,null,null,null,null,null,null,null,null,null,null,null,null,null,null,null,null,null,null,null,null,null,null,null,null,null,null,0.9402792290723325,null,null,null,null,null,null,null,null,null,null,null,null,null,null,null,null,null],[null,null,null,null,null,null,null,null,null,null,null,null,null,null,null,null,null,null,null,null,null,null,null,null,null,null,null,null,null,null,null,null,null,null,null,null,null,null,null,null,null,null,null,null,null,null,null,null,null,null,null,null,null,null,null,null,null,null,null,null,null,null,null,null,null,null,null,null,null,null,null,null,null,null,null,null,null,null,null,null,null,null,null,null,null,null,0.9402792290723325,null,null,null,null,null,null,null,null,null,null,null,null,null,null,null],[null,null,null,null,null,null,null,null,null,null,null,null,null,null,null,null,null,null,null,null,null,null,null,null,null,null,null,null,null,null,null,null,null,null,null,null,null,null,null,null,null,null,null,0.9402792290723325,null,null,null,null,null,null,null,null,null,null,null,null,null,null,null,null,null,null,null,null,null,null,null,null,null,null,null,null,null,null,null,null,null,null,null,null,null,null,null,null,null,null,null,null,null,null,null,null,null,null,null,null,null,null,null,null,null,null],[null,null,null,null,null,null,null,null,null,null,null,null,null,null,null,null,null,null,null,null,null,null,null,null,null,null,null,null,null,null,null,null,null,null,null,null,null,null,null,null,null,null,null,null,null,null,null,null,null,null,null,null,null,null,null,null,null,null,null,null,null,null,null,null,null,null,null,null,null,null,null,null,null,null,null,null,null,null,null,null,null,null,null,null,null,null,null,null,null,null,null,null,null,0.9920505340763962,null,null,null,null,null,null,null,null],[null,null,null,null,null,null,null,null,null,null,null,null,null,null,null,null,null,null,null,null,null,null,null,null,null,null,null,null,null,null,null,null,null,null,null,null,null,null,null,null,null,null,null,null,null,null,null,null,null,null,null,null,null,null,null,null,null,null,null,null,null,null,null,null,null,null,null,null,null,null,null,0.9393322593753628,null,null,null,null,null,null,null,null,null,null,null,null,null,null,null,null,null,null,null,null,null,null,null,null,null,null,null,null,null,null],[null,null,null,null,null,null,null,null,null,null,null,null,null,null,null,null,null,null,null,null,null,null,null,null,null,0.9901565946824569,null,null,null,null,null,null,null,null,null,null,null,null,null,null,null,null,null,null,null,null,null,null,null,null,null,null,null,null,null,null,null,null,null,null,null,null,null,null,null,null,null,null,null,null,null,null,null,null,null,null,null,null,null,null,null,null,null,null,null,null,null,null,null,null,null,null,null,null,null,null,null,null,null,null,null,null],[null,null,null,null,null,null,null,null,null,null,null,null,null,null,null,null,null,null,null,null,null,null,null,null,null,null,null,null,null,null,null,null,null,null,null,null,null,null,0.9393322593753628,null,null,null,null,null,null,null,null,null,null,null,null,null,null,null,null,null,null,null,null,null,null,null,null,null,null,null,null,null,null,null,null,null,null,null,null,null,null,null,null,null,null,null,null,null,null,null,null,null,null,null,null,null,null,null,null,null,null,null,null,null,null,null],[null,null,null,null,null,null,null,null,null,null,null,null,null,null,null,null,null,null,null,null,null,null,null,null,null,null,null,null,null,null,null,null,null,null,null,null,null,null,null,null,null,null,null,null,null,null,null,null,null,null,null,null,null,null,null,null,null,null,null,null,null,null,null,null,null,null,null,null,null,null,null,null,null,null,null,null,null,null,null,null,null,null,null,0.9380551201671891,null,null,null,null,null,null,null,null,null,null,null,null,null,null,null,null,null,null],[null,null,null,null,null,null,null,null,null,null,null,null,null,null,null,null,null,null,null,null,null,null,null,null,null,null,null,null,null,null,null,null,null,null,null,null,null,null,null,null,null,null,null,null,null,null,null,null,null,null,null,null,null,null,null,null,null,null,null,null,null,null,null,null,null,null,null,null,null,null,null,null,null,null,null,null,null,null,null,null,null,null,null,null,null,null,null,null,null,0.9380551201671891,null,null,null,null,null,null,null,null,null,null,null,null],[null,null,null,null,null,null,null,null,null,null,null,null,null,null,null,null,null,null,null,null,null,null,null,null,null,null,null,null,null,null,null,null,null,null,null,null,null,null,null,null,null,null,null,null,null,null,null,null,null,null,null,null,null,null,null,null,null,null,null,null,null,null,0.9380551201671891,null,null,null,null,null,null,null,null,null,null,null,null,null,null,null,null,null,null,null,null,null,null,null,null,null,null,null,null,null,null,null,null,null,null,null,null,null,null,null],[null,null,null,null,null,null,null,null,null,null,null,null,null,null,null,null,null,null,null,null,null,null,null,null,null,null,null,null,null,null,null,null,null,null,null,null,null,null,null,null,null,null,null,null,null,0.9380551201671891,null,null,null,null,null,null,null,null,null,null,null,null,null,null,null,null,null,null,null,null,null,null,null,null,null,null,null,null,null,null,null,null,null,null,null,null,null,null,null,null,null,null,null,null,null,null,null,null,null,null,null,null,null,null,null,null],[null,null,null,null,null,null,null,null,null,null,null,null,null,null,null,null,null,null,null,null,null,null,null,null,null,null,null,null,null,null,null,null,null,null,null,null,null,null,null,null,null,null,null,null,null,null,null,null,null,null,null,null,null,null,null,null,null,null,null,0.9380551201671891,null,null,null,null,null,null,null,null,null,null,null,null,null,null,null,null,null,null,null,null,null,null,null,null,null,null,null,null,null,null,null,null,null,null,null,null,null,null,null,null,null,null],[null,null,null,null,null,null,null,null,null,null,null,null,null,null,null,null,null,null,null,null,null,null,null,null,null,null,null,null,null,null,null,null,null,null,null,null,null,null,null,null,null,null,null,null,null,null,null,null,null,null,null,null,null,null,null,null,null,null,null,null,null,null,null,null,null,null,null,null,null,null,null,null,null,null,null,null,null,null,null,null,null,null,null,null,null,null,null,null,0.9402792290723325,null,null,null,null,null,null,null,null,null,null,null,null,null],[null,null,null,null,null,null,null,null,null,null,null,null,null,null,null,null,null,null,0.9901565946824569,null,null,null,null,null,null,null,null,null,null,null,null,null,null,null,null,null,null,null,null,null,null,null,null,null,null,null,null,null,null,null,null,null,null,null,null,null,null,null,null,null,null,null,null,null,null,null,null,null,null,null,null,null,null,null,null,null,null,null,null,null,null,null,null,null,null,null,null,null,null,null,null,null,null,null,null,null,null,null,null,null,null,null],[null,null,null,null,null,null,null,null,null,null,null,null,null,null,null,null,null,null,null,null,null,null,null,null,null,null,null,null,null,null,null,0.9901565946824569,null,null,null,null,null,null,null,null,null,null,null,null,null,null,null,null,null,null,null,null,null,null,null,null,null,null,null,null,null,null,null,null,null,null,null,null,null,null,null,null,null,null,null,null,null,null,null,null,null,null,null,null,null,null,null,null,null,null,null,null,null,null,null,null,null,null,null,null,null,null],[null,null,null,null,null,null,null,null,null,null,null,null,null,null,null,null,null,null,null,null,null,0.9901565946824569,null,null,null,null,null,null,null,null,null,null,null,null,null,null,null,null,null,null,null,null,null,null,null,null,null,null,null,null,null,null,null,null,null,null,null,null,null,null,null,null,null,null,null,null,null,null,null,null,null,null,null,null,null,null,null,null,null,null,null,null,null,null,null,null,null,null,null,null,null,null,null,null,null,null,null,null,null,null,null,null],[null,null,null,null,null,null,null,null,null,null,null,null,null,null,null,null,null,null,null,null,null,null,null,null,null,null,null,null,null,null,null,null,null,null,null,null,null,null,null,0.9380551201671891,null,null,null,null,null,null,null,null,null,null,null,null,null,null,null,null,null,null,null,null,null,null,null,null,null,null,null,null,null,null,null,null,null,null,null,null,null,null,null,null,null,null,null,null,null,null,null,null,null,null,null,null,null,null,null,null,null,null,null,null,null,null],[null,null,null,null,null,null,null,null,null,null,null,null,null,null,null,null,null,null,null,null,null,null,null,null,null,null,null,null,null,null,null,null,null,null,null,null,null,0.9380551201671891,null,null,null,null,null,null,null,null,null,null,null,null,null,null,null,null,null,null,null,null,null,null,null,null,null,null,null,null,null,null,null,null,null,null,null,null,null,null,null,null,null,null,null,null,null,null,null,null,null,null,null,null,null,null,null,null,null,null,null,null,null,null,null,null],[null,null,null,null,null,null,null,null,null,null,null,null,null,null,null,null,null,null,null,null,null,null,null,null,null,null,null,null,null,null,null,null,null,null,null,null,null,null,null,null,null,null,null,null,null,null,null,null,null,null,null,null,null,null,null,null,null,null,null,null,null,null,null,null,null,null,null,null,null,null,null,null,null,null,null,null,null,null,0.9380551201671891,null,null,null,null,null,null,null,null,null,null,null,null,null,null,null,null,null,null,null,null,null,null,null],[null,null,null,null,null,null,null,null,null,null,null,null,null,null,null,null,null,null,null,null,null,null,null,null,null,null,null,null,null,null,null,null,null,null,null,null,null,null,null,null,null,null,null,null,null,null,null,null,null,null,null,null,null,null,null,null,null,null,null,null,null,null,null,null,null,null,null,null,null,null,null,null,null,null,null,null,null,null,null,null,null,0.9380551201671891,null,null,null,null,null,null,null,null,null,null,null,null,null,null,null,null,null,null,null,null],[null,null,null,null,null,null,null,null,null,null,null,null,null,null,null,null,null,null,null,null,null,null,null,null,null,null,null,null,null,null,null,null,null,null,null,null,null,null,null,null,null,null,null,null,null,null,null,null,null,null,null,null,null,null,null,null,null,null,null,null,null,null,null,null,null,null,null,null,null,null,null,null,null,null,null,0.9380551201671891,null,null,null,null,null,null,null,null,null,null,null,null,null,null,null,null,null,null,null,null,null,null,null,null,null,null],[null,null,null,null,null,null,null,null,null,null,null,null,null,null,null,null,null,null,null,null,null,null,null,null,null,null,null,null,null,null,null,null,null,null,null,null,null,null,null,null,null,null,null,null,null,null,null,null,null,null,null,null,null,null,null,null,null,null,null,null,null,null,null,null,null,null,null,null,null,null,null,null,null,null,null,null,null,null,null,null,null,null,null,null,null,null,null,null,null,null,null,0.9380551201671891,null,null,null,null,null,null,null,null,null,null],[null,null,null,null,null,null,null,null,null,null,null,null,null,null,null,null,null,null,null,null,null,null,null,null,null,null,null,null,null,null,0.9901565946824569,null,null,null,null,null,null,null,null,null,null,null,null,null,null,null,null,null,null,null,null,null,null,null,null,null,null,null,null,null,null,null,null,null,null,null,null,null,null,null,null,null,null,null,null,null,null,null,null,null,null,null,null,null,null,null,null,null,null,null,null,null,null,null,null,null,null,null,null,null,null,null],[null,null,null,null,null,null,null,null,null,null,null,null,null,null,null,null,null,null,null,null,null,null,null,null,null,null,null,null,null,null,null,null,null,null,null,null,null,null,null,null,null,null,null,null,null,null,null,null,null,null,null,null,null,null,null,0.9380551201671891,null,null,null,null,null,null,null,null,null,null,null,null,null,null,null,null,null,null,null,null,null,null,null,null,null,null,null,null,null,null,null,null,null,null,null,null,null,null,null,null,null,null,null,null,null,null],[null,null,null,null,null,null,null,null,null,null,null,null,null,null,null,null,null,null,null,null,null,null,null,null,null,null,null,null,null,0.9901565946824569,null,null,null,null,null,null,null,null,null,null,null,null,null,null,null,null,null,null,null,null,null,null,null,null,null,null,null,null,null,null,null,null,null,null,null,null,null,null,null,null,null,null,null,null,null,null,null,null,null,null,null,null,null,null,null,null,null,null,null,null,null,null,null,null,null,null,null,null,null,null,null,null],[null,null,null,null,null,null,null,null,null,null,null,null,null,null,null,null,null,null,null,null,0.9901565946824569,null,null,null,null,null,null,null,null,null,null,null,null,null,null,null,null,null,null,null,null,null,null,null,null,null,null,null,null,null,null,null,null,null,null,null,null,null,null,null,null,null,null,null,null,null,null,null,null,null,null,null,null,null,null,null,null,null,null,null,null,null,null,null,null,null,null,null,null,null,null,null,null,null,null,null,null,null,null,null,null,null],[null,null,null,null,null,null,null,null,null,null,null,null,null,null,null,null,null,null,null,null,null,null,null,null,null,null,null,null,0.9901565946824569,null,null,null,null,null,null,null,null,null,null,null,null,null,null,null,null,null,null,null,null,null,null,null,null,null,null,null,null,null,null,null,null,null,null,null,null,null,null,null,null,null,null,null,null,null,null,null,null,null,null,null,null,null,null,null,null,null,null,null,null,null,null,null,null,null,null,null,null,null,null,null,null,null],[null,null,null,null,null,null,null,null,null,null,null,null,null,null,null,null,null,null,null,null,null,null,null,null,null,null,null,null,null,null,null,null,null,null,null,null,null,null,null,null,null,null,null,null,null,null,null,null,0.9380551201671891,null,null,null,null,null,null,null,null,null,null,null,null,null,null,null,null,null,null,null,null,null,null,null,null,null,null,null,null,null,null,null,null,null,null,null,null,null,null,null,null,null,null,null,null,null,null,null,null,null,null,null,null,null],[null,null,null,null,null,null,null,null,null,null,null,null,null,null,null,null,null,null,null,null,null,null,null,null,null,null,null,null,null,null,null,null,null,null,null,null,null,null,null,null,null,null,null,null,null,null,null,null,null,null,null,null,null,null,null,null,null,null,null,null,null,0.9402792290723325,null,null,null,null,null,null,null,null,null,null,null,null,null,null,null,null,null,null,null,null,null,null,null,null,null,null,null,null,null,null,null,null,null,null,null,null,null,null,null,null],[null,null,null,null,null,null,null,null,null,null,null,null,null,null,null,null,null,null,null,null,null,null,null,null,null,null,null,null,null,null,null,null,null,null,null,null,null,null,null,null,0.9383852896783931,null,null,null,null,null,null,null,null,null,null,null,null,null,null,null,null,null,null,null,null,null,null,null,null,null,null,null,null,null,null,null,null,null,null,null,null,null,null,null,null,null,null,null,null,null,null,null,null,null,null,null,null,null,null,null,null,null,null,null,null,null],[null,null,null,null,null,null,null,null,null,null,null,null,null,null,null,null,null,null,null,null,null,null,null,null,null,null,null,null,null,null,null,null,null,null,null,null,null,null,null,null,null,null,null,null,null,null,null,null,null,null,0.9383852896783931,null,null,null,null,null,null,null,null,null,null,null,null,null,null,null,null,null,null,null,null,null,null,null,null,null,null,null,null,null,null,null,null,null,null,null,null,null,null,null,null,null,null,null,null,null,null,null,null,null,null,null],[null,null,null,null,null,null,null,null,null,null,null,null,null,null,null,null,null,null,null,null,null,null,null,null,null,null,null,null,null,null,null,null,null,null,null,null,null,null,null,null,null,0.9383852896783931,null,null,null,null,null,null,null,null,null,null,null,null,null,null,null,null,null,null,null,null,null,null,null,null,null,null,null,null,null,null,null,null,null,null,null,null,null,null,null,null,null,null,null,null,null,null,null,null,null,null,null,null,null,null,null,null,null,null,null,null],[null,null,null,null,null,null,null,null,null,null,null,null,null,null,null,null,null,null,null,null,null,null,null,null,null,null,null,null,null,null,null,null,null,null,null,null,null,null,null,null,null,null,null,null,null,null,null,null,null,null,null,null,null,null,null,null,null,null,null,null,null,null,null,0.9383852896783931,null,null,null,null,null,null,null,null,null,null,null,null,null,null,null,null,null,null,null,null,null,null,null,null,null,null,null,null,null,null,null,null,null,null,null,null,null,null],[null,null,null,null,null,null,null,null,null,null,null,null,null,null,null,null,null,null,null,null,null,null,null,null,null,null,null,null,null,null,null,null,null,null,null,null,null,null,null,null,null,null,null,null,null,null,null,null,null,null,null,null,null,null,null,null,null,null,null,null,0.9383852896783931,null,null,null,null,null,null,null,null,null,null,null,null,null,null,null,null,null,null,null,null,null,null,null,null,null,null,null,null,null,null,null,null,null,null,null,null,null,null,null,null,null],[null,null,null,null,null,null,null,null,null,null,null,null,null,null,null,null,null,null,null,null,null,null,null,null,null,null,null,null,null,null,null,null,null,null,null,null,null,null,null,null,null,null,null,null,null,null,0.9383852896783931,null,null,null,null,null,null,null,null,null,null,null,null,null,null,null,null,null,null,null,null,null,null,null,null,null,null,null,null,null,null,null,null,null,null,null,null,null,null,null,null,null,null,null,null,null,null,null,null,null,null,null,null,null,null,null],[null,null,null,null,null,null,null,null,null,null,null,null,null,null,null,null,null,null,null,null,null,null,null,null,null,null,null,null,null,null,null,null,null,null,null,null,null,null,null,null,null,null,0.9383852896783931,null,null,null,null,null,null,null,null,null,null,null,null,null,null,null,null,null,null,null,null,null,null,null,null,null,null,null,null,null,null,null,null,null,null,null,null,null,null,null,null,null,null,null,null,null,null,null,null,null,null,null,null,null,null,null,null,null,null,null],[null,null,null,null,null,null,null,null,null,null,null,null,null,null,null,null,null,null,null,null,null,null,null,null,null,null,null,null,null,null,null,null,null,null,null,null,null,null,null,null,null,null,null,null,null,null,null,null,null,null,null,null,null,null,null,null,null,null,null,null,null,null,null,null,null,null,null,null,null,null,null,null,null,null,null,null,null,0.9383852896783931,null,null,null,null,null,null,null,null,null,null,null,null,null,null,null,null,null,null,null,null,null,null,null,null],[null,null,null,null,null,null,null,null,null,null,null,null,null,null,null,null,null,null,null,null,null,null,null,null,null,null,null,null,null,null,null,null,null,null,null,null,null,null,null,null,null,null,null,null,null,null,null,null,null,null,null,null,null,null,null,null,null,null,null,null,null,null,null,null,null,null,null,null,null,null,null,null,null,null,null,null,null,null,null,null,null,null,null,null,null,null,null,null,null,null,null,null,null,null,null,0.9923807035876001,null,null,null,null,null,null],[null,null,null,null,null,null,null,null,null,null,null,null,null,null,null,null,null,null,null,null,null,null,null,null,null,null,null,null,null,null,null,null,null,null,null,null,null,null,null,null,null,null,null,null,null,null,null,null,null,null,null,null,null,null,null,null,null,null,null,null,null,null,null,null,null,null,0.9383852896783931,null,null,null,null,null,null,null,null,null,null,null,null,null,null,null,null,null,null,null,null,null,null,null,null,null,null,null,null,null,null,null,null,null,null,null],[null,null,null,null,null,null,null,null,null,null,null,null,null,null,null,null,null,null,null,null,null,null,null,null,null,null,null,null,null,null,null,null,null,null,null,null,null,null,null,null,null,null,null,null,null,null,null,null,null,null,null,null,null,null,null,null,0.9383852896783931,null,null,null,null,null,null,null,null,null,null,null,null,null,null,null,null,null,null,null,null,null,null,null,null,null,null,null,null,null,null,null,null,null,null,null,null,null,null,null,null,null,null,null,null,null],[null,null,null,null,null,null,null,null,null,null,null,null,null,null,null,null,null,null,null,null,null,null,null,null,null,null,null,null,null,null,null,null,null,null,null,null,0.9393322593753628,null,null,null,null,null,null,null,null,null,null,null,null,null,null,null,null,null,null,null,null,null,null,null,null,null,null,null,null,null,null,null,null,null,null,null,null,null,null,null,null,null,null,null,null,null,null,null,null,null,null,null,null,null,null,null,null,null,null,null,null,null,null,null,null,null],[null,null,null,null,null,null,null,null,null,null,null,null,null,null,null,null,null,null,null,null,null,null,null,null,0.9901565946824569,null,null,null,null,null,null,null,null,null,null,null,null,null,null,null,null,null,null,null,null,null,null,null,null,null,null,null,null,null,null,null,null,null,null,null,null,null,null,null,null,null,null,null,null,null,null,null,null,null,null,null,null,null,null,null,null,null,null,null,null,null,null,null,null,null,null,null,null,null,null,null,null,null,null,null,null,null],[null,null,null,null,null,null,null,null,null,null,null,null,null,null,null,null,null,null,null,null,null,null,null,null,null,null,null,null,null,null,null,null,null,null,null,null,null,null,null,null,null,null,null,null,null,null,null,null,null,null,null,null,null,null,null,null,null,null,null,null,null,null,null,null,null,null,null,null,null,null,null,null,0.9393322593753628,null,null,null,null,null,null,null,null,null,null,null,null,null,null,null,null,null,null,null,null,null,null,null,null,null,null,null,null,null],[null,null,null,null,null,null,null,null,null,null,null,null,null,null,null,null,null,null,null,null,null,null,null,null,null,null,null,null,null,null,null,null,null,null,null,null,null,null,null,null,null,null,null,null,null,null,null,null,null,null,null,null,null,null,null,null,null,null,null,null,null,null,null,null,null,null,null,null,null,null,null,null,null,null,null,null,null,null,null,null,null,null,null,null,null,0.9393322593753628,null,null,null,null,null,null,null,null,null,null,null,null,null,null,null,null],[null,null,null,null,null,null,null,null,null,null,null,null,null,null,null,null,null,null,null,null,null,null,null,null,null,null,null,null,null,null,null,null,null,null,null,null,null,null,null,null,null,null,null,null,null,null,null,null,null,null,null,null,null,null,null,null,null,null,null,null,null,null,null,null,null,null,null,null,null,0.9393322593753628,null,null,null,null,null,null,null,null,null,null,null,null,null,null,null,null,null,null,null,null,null,null,null,null,null,null,null,null,null,null,null,null],[null,null,null,null,null,null,null,null,null,null,null,null,null,null,null,null,null,null,null,null,null,null,null,null,null,null,null,null,null,null,null,null,null,null,null,0.9393322593753628,null,null,null,null,null,null,null,null,null,null,null,null,null,null,null,null,null,null,null,null,null,null,null,null,null,null,null,null,null,null,null,null,null,null,null,null,null,null,null,null,null,null,null,null,null,null,null,null,null,null,null,null,null,null,null,null,null,null,null,null,null,null,null,null,null,null],[null,null,null,null,null,null,null,null,null,null,null,null,null,null,null,null,null,null,null,null,null,null,null,null,null,null,null,null,null,null,null,null,null,null,null,null,null,null,null,null,null,null,null,null,null,null,null,null,null,null,null,null,null,null,null,null,null,null,null,null,null,null,null,null,null,0.9393322593753628,null,null,null,null,null,null,null,null,null,null,null,null,null,null,null,null,null,null,null,null,null,null,null,null,null,null,null,null,null,null,null,null,null,null,null,null],[null,null,null,null,null,null,null,null,null,null,null,null,null,null,null,null,null,null,null,null,null,null,null,null,null,null,null,null,null,null,null,null,null,null,null,null,null,null,null,null,null,null,null,null,null,null,null,null,null,null,null,null,0.9393322593753628,null,null,null,null,null,null,null,null,null,null,null,null,null,null,null,null,null,null,null,null,null,null,null,null,null,null,null,null,null,null,null,null,null,null,null,null,null,null,null,null,null,null,null,null,null,null,null,null,null],[null,null,null,null,null,null,null,null,null,null,null,null,null,null,null,null,null,null,null,null,null,null,null,null,null,null,null,null,null,null,null,null,null,0.9393322593753628,null,null,null,null,null,null,null,null,null,null,null,null,null,null,null,null,null,null,null,null,null,null,null,null,null,null,null,null,null,null,null,null,null,null,null,null,null,null,null,null,null,null,null,null,null,null,null,null,null,null,null,null,null,null,null,null,null,null,null,null,null,null,null,null,null,null,null,null],[null,null,null,null,null,null,null,null,null,null,null,null,null,null,null,null,null,null,null,null,null,null,null,null,null,null,null,null,null,null,null,null,null,null,null,null,null,null,null,null,null,null,null,null,null,null,null,null,null,null,null,null,null,null,null,null,null,null,null,null,null,null,null,null,null,null,null,null,0.9393322593753628,null,null,null,null,null,null,null,null,null,null,null,null,null,null,null,null,null,null,null,null,null,null,null,null,null,null,null,null,null,null,null,null,null],[null,null,null,null,null,null,null,null,null,null,null,null,null,null,null,null,null,null,null,null,null,null,null,null,null,null,null,null,null,null,null,null,null,null,null,null,null,null,null,null,null,null,null,null,null,null,null,null,null,null,null,null,null,null,null,null,null,0.9393322593753628,null,null,null,null,null,null,null,null,null,null,null,null,null,null,null,null,null,null,null,null,null,null,null,null,null,null,null,null,null,null,null,null,null,null,null,null,null,null,null,null,null,null,null,null],[null,null,null,null,null,null,null,null,null,null,null,null,null,null,null,null,null,null,null,null,null,null,null,null,null,null,null,null,null,null,null,null,null,null,null,null,null,null,null,null,null,null,null,null,null,null,null,null,null,null,null,null,null,null,null,null,null,null,null,null,null,null,null,null,null,null,null,null,null,null,null,null,null,null,0.9393322593753628,null,null,null,null,null,null,null,null,null,null,null,null,null,null,null,null,null,null,null,null,null,null,null,null,null,null,null],[null,null,null,null,null,null,null,null,null,null,null,null,null,null,null,null,null,null,null,null,null,null,null,null,null,null,null,null,null,null,null,null,null,null,null,null,null,null,null,null,null,null,null,null,null,null,null,null,null,null,null,null,null,null,null,null,null,null,null,null,null,null,null,null,null,null,null,null,null,null,null,null,null,null,null,null,null,null,null,null,null,null,null,null,null,null,null,null,null,null,null,null,null,null,null,null,0.9920505340763962,null,null,null,null,null],[null,null,null,null,null,null,null,null,null,null,null,null,null,null,null,null,null,null,null,null,null,null,null,null,null,null,null,null,null,null,null,null,null,null,null,null,null,null,null,null,null,null,null,null,null,null,null,null,null,null,null,null,null,0.9393322593753628,null,null,null,null,null,null,null,null,null,null,null,null,null,null,null,null,null,null,null,null,null,null,null,null,null,null,null,null,null,null,null,null,null,null,null,null,null,null,null,null,null,null,null,null,null,null,null,null],[null,null,null,null,null,null,null,null,null,null,null,null,null,null,null,null,null,null,null,null,null,null,null,null,null,null,0.9911035643794266,null,null,null,null,null,null,null,null,null,null,null,null,null,null,null,null,null,null,null,null,null,null,null,null,null,null,null,null,null,null,null,null,null,null,null,null,null,null,null,null,null,null,null,null,null,null,null,null,null,null,null,null,null,null,null,null,null,null,null,null,null,null,null,null,null,null,null,null,null,null,null,null,null,null,null],[null,null,null,null,null,null,null,null,null,null,null,null,null,null,null,null,null,null,null,null,null,null,null,null,null,null,null,null,null,null,null,null,null,null,null,null,null,null,null,null,null,null,null,null,null,null,null,0.9393322593753628,null,null,null,null,null,null,null,null,null,null,null,null,null,null,null,null,null,null,null,null,null,null,null,null,null,null,null,null,null,null,null,null,null,null,null,null,null,null,null,null,null,null,null,null,null,null,null,null,null,null,null,null,null,null],[null,null,null,null,null,null,null,null,null,null,null,null,null,null,null,null,null,null,null,null,null,null,null,null,null,null,null,null,null,null,null,null,null,null,null,null,null,null,null,null,null,null,null,null,null,null,null,null,null,null,null,null,null,null,null,null,null,null,null,null,null,null,null,null,null,null,null,null,null,null,null,null,null,null,null,null,0.9393322593753628,null,null,null,null,null,null,null,null,null,null,null,null,null,null,null,null,null,null,null,null,null,null,null,null,null],[null,null,null,null,null,null,null,null,null,null,null,null,null,null,null,null,null,null,null,null,null,null,null,null,null,null,null,null,null,null,null,null,null,null,null,null,null,null,null,null,null,null,null,null,null,null,null,null,null,null,null,null,null,null,null,null,null,null,null,null,null,null,null,null,null,null,null,null,null,null,null,null,null,null,null,null,null,null,null,null,0.9393322593753628,null,null,null,null,null,null,null,null,null,null,null,null,null,null,null,null,null,null,null,null,null],[null,null,null,null,null,null,null,null,null,null,null,null,null,null,null,null,null,null,null,null,null,null,null,null,null,null,null,null,null,null,null,null,null,null,null,null,null,null,null,null,null,null,null,null,null,null,null,null,null,null,null,0.9492192035295485,null,null,null,null,null,null,null,null,null,null,null,null,null,null,null,null,null,null,null,null,null,null,null,null,null,null,null,null,null,null,null,null,null,null,null,null,null,null,null,null,null,null,null,null,null,null,null,null,null,null],[null,null,null,null,null,null,null,null,0.9911035643794266,null,null,null,null,null,null,null,null,null,null,null,null,null,null,null,null,null,null,null,null,null,null,null,null,null,null,null,null,null,null,null,null,null,null,null,null,null,null,null,null,null,null,null,null,null,null,null,null,null,null,null,null,null,null,null,null,null,null,null,null,null,null,null,null,null,null,null,null,null,null,null,null,null,null,null,null,null,null,null,null,null,null,null,null,null,null,null,null,null,null,null,null,null],[null,null,null,null,null,null,null,null,null,null,null,null,null,null,null,null,null,null,null,null,null,null,null,null,null,null,null,null,null,null,null,null,null,null,null,null,null,null,null,null,null,null,null,null,null,null,null,null,null,0.9536674213398352,null,null,null,null,null,null,null,null,null,null,null,null,null,null,null,null,null,null,null,null,null,null,null,null,null,null,null,null,null,null,null,null,null,null,null,null,null,null,null,null,null,null,null,null,null,null,null,null,null,null,null,null],[null,null,null,null,null,null,null,null,null,null,null,null,null,null,null,null,null,null,null,null,null,null,null,null,null,null,null,null,null,null,null,null,null,null,0.9536674213398352,null,null,null,null,null,null,null,null,null,null,null,null,null,null,null,null,null,null,null,null,null,null,null,null,null,null,null,null,null,null,null,null,null,null,null,null,null,null,null,null,null,null,null,null,null,null,null,null,null,null,null,null,null,null,null,null,null,null,null,null,null,null,null,null,null,null,null],[null,null,null,null,null,null,null,null,null,null,null,null,null,null,null,null,null,null,null,null,null,null,null,null,null,null,null,null,null,null,null,null,null,null,null,null,null,null,null,null,null,null,null,null,null,null,null,null,null,null,null,null,null,null,null,null,null,null,null,null,null,null,null,null,null,null,null,null,null,null,null,null,null,null,null,null,null,null,null,null,null,null,0.9587324393358876,null,null,null,null,null,null,null,null,null,null,null,null,null,null,null,null,null,null,null],[null,null,null,null,null,null,null,null,null,null,null,null,null,null,null,null,null,null,null,null,null,null,null,null,null,null,null,null,null,null,null,null,null,null,null,null,null,null,null,null,null,null,null,null,null,null,null,null,null,null,null,null,null,null,null,null,null,null,null,null,null,null,null,null,null,null,null,null,null,null,null,null,null,0.9587324393358876,null,null,null,null,null,null,null,null,null,null,null,null,null,null,null,null,null,null,null,null,null,null,null,null,null,null,null,null],[null,null,null,null,null,null,null,null,null,null,null,null,null,null,null,null,null,null,null,null,null,null,null,null,null,null,null,null,null,null,null,null,null,null,null,null,null,null,null,null,null,null,null,null,null,null,null,null,null,null,null,null,null,null,null,null,null,null,null,null,null,null,null,null,null,null,null,null,null,null,null,null,null,null,null,null,null,null,null,null,null,null,null,null,null,null,null,null,null,null,0.9600095785440613,null,null,null,null,null,null,null,null,null,null,null],[null,null,null,null,null,null,null,null,null,null,null,null,null,null,null,null,null,null,null,null,null,null,null,null,null,null,null,null,null,null,null,null,null,null,null,null,null,null,null,null,null,null,null,null,0.9628504876349705,null,null,null,null,null,null,null,null,null,null,null,null,null,null,null,null,null,null,null,null,null,null,null,null,null,null,null,null,null,null,null,null,null,null,null,null,null,null,null,null,null,null,null,null,null,null,null,null,null,null,null,null,null,null,null,null,null],[null,null,null,null,null,null,null,null,null,null,null,null,null,null,null,null,null,null,null,null,null,null,null,null,null,null,null,null,null,null,null,null,null,null,null,null,null,null,null,null,null,null,null,null,null,null,null,null,null,null,null,null,null,null,null,null,null,null,null,null,null,null,null,null,null,null,null,null,null,null,null,null,null,null,null,null,null,null,null,null,null,null,null,null,null,null,null,null,null,null,null,null,null,null,null,null,null,null,null,null,0.9933276732845698,null],[null,null,null,null,null,null,null,null,null,null,null,null,null,null,null,null,null,null,null,null,null,null,null,null,null,null,null,null,null,null,null,null,null,null,null,null,null,null,null,null,null,null,null,null,null,null,null,null,null,null,null,null,null,null,null,null,null,null,null,null,null,null,null,null,null,null,null,null,null,null,null,null,null,null,null,null,null,null,null,null,null,null,null,null,null,null,null,null,null,null,null,null,null,null,0.9933276732845698,null,null,null,null,null,null,null],[null,null,null,null,null,null,null,null,null,null,null,null,null,0.9920505340763962,null,null,null,null,null,null,null,null,null,null,null,null,null,null,null,null,null,null,null,null,null,null,null,null,null,null,null,null,null,null,null,null,null,null,null,null,null,null,null,null,null,null,null,null,null,null,null,null,null,null,null,null,null,null,null,null,null,null,null,null,null,null,null,null,null,null,null,null,null,null,null,null,null,null,null,null,null,null,null,null,null,null,null,null,null,null,null,null],[null,null,null,null,null,null,null,null,null,null,null,null,null,null,null,null,null,null,null,null,null,null,null,null,null,null,null,null,null,null,null,null,null,null,null,null,null,null,null,null,null,null,null,null,null,null,null,null,null,null,null,null,null,null,null,null,null,null,null,null,null,null,null,null,null,null,null,0.978419249970974,null,null,null,null,null,null,null,null,null,null,null,null,null,null,null,null,null,null,null,null,null,null,null,null,null,null,null,null,null,null,null,null,null,null],[null,null,null,null,null,null,null,0.9920505340763962,null,null,null,null,null,null,null,null,null,null,null,null,null,null,null,null,null,null,null,null,null,null,null,null,null,null,null,null,null,null,null,null,null,null,null,null,null,null,null,null,null,null,null,null,null,null,null,null,null,null,null,null,null,null,null,null,null,null,null,null,null,null,null,null,null,null,null,null,null,null,null,null,null,null,null,null,null,null,null,null,null,null,null,null,null,null,null,null,null,null,null,null,null,null],[null,null,null,null,null,null,null,null,null,null,null,null,null,null,null,null,null,null,null,null,null,null,null,null,null,null,null,null,null,null,null,null,null,null,null,null,null,null,null,null,null,null,null,null,null,null,null,null,null,null,null,null,null,null,null,null,null,null,null,null,null,null,null,null,null,null,null,null,null,null,null,null,null,null,null,null,null,null,null,null,null,null,null,null,null,null,null,null,null,null,null,null,null,null,null,null,null,null,null,0.9911035643794265,null,null],[null,null,null,null,null,null,null,null,null,null,null,null,null,null,null,null,null,null,null,null,null,null,null,null,null,null,null,null,null,null,null,null,null,null,null,null,null,null,null,null,null,null,null,null,null,null,null,null,null,null,null,null,null,null,null,null,null,null,null,null,null,null,null,null,null,null,null,null,null,null,null,null,null,null,null,null,null,null,null,null,null,null,null,null,null,null,null,null,null,null,null,null,null,null,null,null,null,0.9911035643794265,null,null,null,null],[null,null,null,null,null,null,null,null,null,null,null,null,null,null,null,null,null,null,null,null,null,null,null,null,null,null,null,0.9911035643794266,null,null,null,null,null,null,null,null,null,null,null,null,null,null,null,null,null,null,null,null,null,null,null,null,null,null,null,null,null,null,null,null,null,null,null,null,null,null,null,null,null,null,null,null,null,null,null,null,null,null,null,null,null,null,null,null,null,null,null,null,null,null,null,null,null,null,null,null,null,null,null,null,null,null],[null,null,null,null,null,null,null,null,null,null,null,null,null,null,null,null,null,null,null,null,null,null,null,null,null,null,null,null,null,null,null,null,null,null,null,null,null,null,null,null,null,null,null,null,null,null,null,null,null,null,null,null,null,null,null,null,null,null,null,null,null,null,null,null,null,null,null,null,null,null,null,null,null,null,null,null,null,null,null,null,null,null,null,null,null,null,null,null,null,null,null,null,null,null,null,null,null,null,0.9911035643794265,null,null,null],[null,null,null,null,null,null,null,null,null,null,null,null,null,null,null,null,null,null,null,null,null,null,null,null,null,null,null,null,null,null,null,null,null,null,null,null,null,null,null,null,null,null,null,null,null,null,null,null,null,null,null,null,null,null,0.975578340880065,null,null,null,null,null,null,null,null,null,null,null,null,null,null,null,null,null,null,null,null,null,null,null,null,null,null,null,null,null,null,null,null,null,null,null,null,null,null,null,null,null,null,null,null,null,null,null],[null,null,null,null,null,null,null,null,null,null,null,null,null,null,null,null,null,null,null,null,null,null,null,null,null,null,null,null,null,null,null,null,0.9911035643794266,null,null,null,null,null,null,null,null,null,null,null,null,null,null,null,null,null,null,null,null,null,null,null,null,null,null,null,null,null,null,null,null,null,null,null,null,null,null,null,null,null,null,null,null,null,null,null,null,null,null,null,null,null,null,null,null,null,null,null,null,null,null,null,null,null,null,null,null,null],[null,null,null,null,null,null,null,null,null,null,null,null,null,null,null,null,null,null,null,null,null,null,null,null,null,null,null,null,null,null,null,null,null,null,null,null,null,null,null,null,null,null,null,null,null,null,null,null,null,null,null,null,null,null,null,null,null,null,null,null,null,null,null,null,null,null,null,null,null,null,0.9911035643794266,null,null,null,null,null,null,null,null,null,null,null,null,null,null,null,null,null,null,null,null,null,null,null,null,null,null,null,null,null,null,null],[null,null,null,null,null,null,null,null,null,0.9911035643794266,null,null,null,null,null,null,null,null,null,null,null,null,null,null,null,null,null,null,null,null,null,null,null,null,null,null,null,null,null,null,null,null,null,null,null,null,null,null,null,null,null,null,null,null,null,null,null,null,null,null,null,null,null,null,null,null,null,null,null,null,null,null,null,null,null,null,null,null,null,null,null,null,null,null,null,null,null,null,null,null,null,null,null,null,null,null,null,null,null,null,null,null],[null,null,null,null,null,null,0.988879455474283,null,null,null,null,null,null,null,null,null,null,null,null,null,null,null,null,null,null,null,null,null,null,null,null,null,null,null,null,null,null,null,null,null,null,null,null,null,null,null,null,null,null,null,null,null,null,null,null,null,null,null,null,null,null,null,null,null,null,null,null,null,null,null,null,null,null,null,null,null,null,null,null,null,null,null,null,null,null,null,null,null,null,null,null,null,null,null,null,null,null,null,null,null,null,null],[null,null,null,null,null,null,null,null,null,null,null,null,null,null,null,null,null,null,null,null,null,null,null,null,null,null,null,null,null,null,null,null,null,null,null,null,null,null,null,null,null,null,null,null,null,null,null,null,null,null,null,null,null,null,null,null,null,null,null,null,null,null,null,null,null,null,null,null,null,null,null,null,null,null,null,null,null,null,null,null,null,null,null,null,null,null,null,0.988879455474283,null,null,null,null,null,null,null,null,null,null,null,null,null,null],[null,null,null,null,null,0.9866553465691398,null,null,null,null,null,null,null,null,null,null,null,null,null,null,null,null,null,null,null,null,null,null,null,null,null,null,null,null,null,null,null,null,null,null,null,null,null,null,null,null,null,null,null,null,null,null,null,null,null,null,null,null,null,null,null,null,null,null,null,null,null,null,null,null,null,null,null,null,null,null,null,null,null,null,null,null,null,null,null,null,null,null,null,null,null,null,null,null,null,null,null,null,null,null,null,null],[null,null,null,null,null,null,null,null,null,null,null,null,null,null,0.9911035643794266,null,null,null,null,null,null,null,null,null,null,null,null,null,null,null,null,null,null,null,null,null,null,null,null,null,null,null,null,null,null,null,null,null,null,null,null,null,null,null,null,null,null,null,null,null,null,null,null,null,null,null,null,null,null,null,null,null,null,null,null,null,null,null,null,null,null,null,null,null,null,null,null,null,null,null,null,null,null,null,null,null,null,null,null,null,null,null],[null,null,0.9911035643794266,null,null,null,null,null,null,null,null,null,null,null,null,null,null,null,null,null,null,null,null,null,null,null,null,null,null,null,null,null,null,null,null,null,null,null,null,null,null,null,null,null,null,null,null,null,null,null,null,null,null,null,null,null,null,null,null,null,null,null,null,null,null,null,null,null,null,null,null,null,null,null,null,null,null,null,null,null,null,null,null,null,null,null,null,null,null,null,null,null,null,null,null,null,null,null,null,null,null,null],[null,null,null,null,null,null,null,null,null,null,null,null,null,null,null,null,null,null,null,null,null,null,null,0.9911035643794266,null,null,null,null,null,null,null,null,null,null,null,null,null,null,null,null,null,null,null,null,null,null,null,null,null,null,null,null,null,null,null,null,null,null,null,null,null,null,null,null,null,null,null,null,null,null,null,null,null,null,null,null,null,null,null,null,null,null,null,null,null,null,null,null,null,null,null,null,null,null,null,null,null,null,null,null,null,null],[null,null,null,null,null,null,null,null,null,null,null,null,0.9847614071752003,null,null,null,null,null,null,null,null,null,null,null,null,null,null,null,null,null,null,null,null,null,null,null,null,null,null,null,null,null,null,null,null,null,null,null,null,null,null,null,null,null,null,null,null,null,null,null,null,null,null,null,null,null,null,null,null,null,null,null,null,null,null,null,null,null,null,null,null,null,null,null,null,null,null,null,null,null,null,null,null,null,null,null,null,null,null,null,null,null],[null,null,null,null,null,null,null,null,null,null,null,0.9847614071752003,null,null,null,null,null,null,null,null,null,null,null,null,null,null,null,null,null,null,null,null,null,null,null,null,null,null,null,null,null,null,null,null,null,null,null,null,null,null,null,null,null,null,null,null,null,null,null,null,null,null,null,null,null,null,null,null,null,null,null,null,null,null,null,null,null,null,null,null,null,null,null,null,null,null,null,null,null,null,null,null,null,null,null,null,null,null,null,null,null,null],[null,0.9866553465691398,null,null,null,null,null,null,null,null,null,null,null,null,null,null,null,null,null,null,null,null,null,null,null,null,null,null,null,null,null,null,null,null,null,null,null,null,null,null,null,null,null,null,null,null,null,null,null,null,null,null,null,null,null,null,null,null,null,null,null,null,null,null,null,null,null,null,null,null,null,null,null,null,null,null,null,null,null,null,null,null,null,null,null,null,null,null,null,null,null,null,null,null,null,null,null,null,null,null,null,null],[null,null,null,null,null,null,null,null,null,null,null,null,null,null,null,null,null,null,null,null,null,null,0.9721206316033902,null,null,null,null,null,null,null,null,null,null,null,null,null,null,null,null,null,null,null,null,null,null,null,null,null,null,null,null,null,null,null,null,null,null,null,null,null,null,null,null,null,null,null,null,null,null,null,null,null,null,null,null,null,null,null,null,null,null,null,null,null,null,null,null,null,null,null,null,null,null,null,null,null,null,null,null,null,null,null],[null,null,null,0.9721206316033902,null,null,null,null,null,null,null,null,null,null,null,null,null,null,null,null,null,null,null,null,null,null,null,null,null,null,null,null,null,null,null,null,null,null,null,null,null,null,null,null,null,null,null,null,null,null,null,null,null,null,null,null,null,null,null,null,null,null,null,null,null,null,null,null,null,null,null,null,null,null,null,null,null,null,null,null,null,null,null,null,null,null,null,null,null,null,null,null,null,null,null,null,null,null,null,null,null,null],[null,null,null,null,null,null,null,null,null,null,null,null,null,null,null,null,null,null,null,null,null,null,null,null,null,null,null,null,null,null,null,null,null,null,null,null,null,null,null,null,null,null,null,null,null,null,null,null,null,null,null,null,null,null,null,null,null,null,null,null,null,null,null,null,null,null,null,null,null,null,null,null,null,null,null,null,null,null,null,0.9815903285730873,null,null,null,null,null,null,null,null,null,null,null,null,null,null,null,null,null,null,null,null,null,null],[null,null,null,null,null,null,null,null,null,null,0.9708434923952165,null,null,null,null,null,null,null,null,null,null,null,null,null,null,null,null,null,null,null,null,null,null,null,null,null,null,null,null,null,null,null,null,null,null,null,null,null,null,null,null,null,null,null,null,null,null,null,null,null,null,null,null,null,null,null,null,null,null,null,null,null,null,null,null,null,null,null,null,null,null,null,null,null,null,null,null,null,null,null,null,null,null,null,null,null,null,null,null,null,null,null],[null,null,null,null,null,null,null,null,null,null,null,null,null,null,null,null,null,null,null,0.9667254440961338,null,null,null,null,null,null,null,null,null,null,null,null,null,null,null,null,null,null,null,null,null,null,null,null,null,null,null,null,null,null,null,null,null,null,null,null,null,null,null,null,null,null,null,null,null,null,null,null,null,null,null,null,null,null,null,null,null,null,null,null,null,null,null,null,null,null,null,null,null,null,null,null,null,null,null,null,null,null,null,null,null,null],[null,null,null,null,0.9667254440961338,null,null,null,null,null,null,null,null,null,null,null,null,null,null,null,null,null,null,null,null,null,null,null,null,null,null,null,null,null,null,null,null,null,null,null,null,null,null,null,null,null,null,null,null,null,null,null,null,null,null,null,null,null,null,null,null,null,null,null,null,null,null,null,null,null,null,null,null,null,null,null,null,null,null,null,null,null,null,null,null,null,null,null,null,null,null,null,null,null,null,null,null,null,null,null,null,null],[null,null,null,null,null,null,null,null,null,null,null,null,null,null,null,null,null,0.9721206316033902,null,null,null,null,null,null,null,null,null,null,null,null,null,null,null,null,null,null,null,null,null,null,null,null,null,null,null,null,null,null,null,null,null,null,null,null,null,null,null,null,null,null,null,null,null,null,null,null,null,null,null,null,null,null,null,null,null,null,null,null,null,null,null,null,null,null,null,null,null,null,null,null,null,null,null,null,null,null,null,null,null,null,null,null],[null,null,null,null,null,null,null,null,null,null,null,null,null,null,null,null,null,null,null,null,null,null,null,null,null,null,null,null,null,null,null,null,null,null,null,null,null,null,null,null,null,null,null,null,null,null,null,null,null,null,null,null,null,null,null,null,null,null,0.9721206316033904,null,null,null,null,null,null,null,null,null,null,null,null,null,null,null,null,null,null,null,null,null,null,null,null,null,null,null,null,null,null,null,null,null,null,null,null,null,null,null,null,null,null,null],[null,null,null,null,null,null,null,null,null,null,null,null,null,null,null,null,0.9667254440961338,null,null,null,null,null,null,null,null,null,null,null,null,null,null,null,null,null,null,null,null,null,null,null,null,null,null,null,null,null,null,null,null,null,null,null,null,null,null,null,null,null,null,null,null,null,null,null,null,null,null,null,null,null,null,null,null,null,null,null,null,null,null,null,null,null,null,null,null,null,null,null,null,null,null,null,null,null,null,null,null,null,null,null,null,null],[null,null,null,null,null,null,null,null,null,null,null,null,null,null,null,0.9698965226982468,null,null,null,null,null,null,null,null,null,null,null,null,null,null,null,null,null,null,null,null,null,null,null,null,null,null,null,null,null,null,null,null,null,null,null,null,null,null,null,null,null,null,null,null,null,null,null,null,null,null,null,null,null,null,null,null,null,null,null,null,null,null,null,null,null,null,null,null,null,null,null,null,null,null,null,null,null,null,null,null,null,null,null,null,null,null],[null,null,null,null,null,null,null,null,null,null,null,null,null,null,null,null,null,null,null,null,null,null,null,null,null,null,null,null,null,null,null,null,null,null,null,null,null,null,null,null,null,null,null,null,null,null,null,null,null,null,null,null,null,null,null,null,null,null,null,null,null,null,null,null,null,null,null,null,null,null,null,null,null,null,null,null,null,null,null,null,null,null,null,null,null,null,null,null,null,null,null,null,null,null,null,null,null,null,null,null,null,null]],\"type\":\"contour\",\"xaxis\":\"x10\",\"yaxis\":\"y10\"},{\"marker\":{\"color\":\"black\",\"line\":{\"color\":\"Grey\",\"width\":2.0}},\"mode\":\"markers\",\"showlegend\":false,\"x\":[0.21415090864421538,0.6183393588449764,0.4955369632048551,0.788978516971918,0.568294483140127,0.6556197253048618,0.2607889147849083,0.8523481450304584,0.204774480443911,0.8360473509089751,0.017580688489167495,0.5757439050260932,0.4488454617366379,0.9952093161971984,0.38339108949162204,0.3783573261733709,0.34984621050070874,0.06816336891752811,0.3812048520012899,0.32849684093107323,0.7119336364696917,0.40807126783660513,0.4349571648534177,0.14398133150202946,0.10049784955749624,0.1593846010272439,0.29672281325955074,0.15126241832766066,0.26416092485356324,0.5132970523636197,0.5160236769414953,0.5092078421491011,0.5338748881897236,0.5285673188017547,0.5007804842610596,0.6407318944735574,0.6689369496786249,0.5713665262806743,0.7433079148027768,0.5798110120732055,0.5998177595923543,0.5541032239886347,0.47236892283818005,0.6001451314072975,0.5439822707982183,0.6918376929042345,0.47510381887388714,0.6285602450364968,0.558543528735306,0.7859876823522647,0.4498469702653812,0.549603941867679,0.5142624875562325,0.5965404882282515,0.42551230238691107,0.5055792514244312,0.47195833963891576,0.6563530269436376,0.5318771803427904,0.5626118616721701,0.7333452823069315,0.5949045962331351,0.4151934158649231,0.5654121430073455,0.6277274858591582,0.5027387659451736,0.6804996735359335,0.597445562021935,0.34436190380217346,0.9159475911651482,0.4016280929421766,0.5280571140194011,0.6117362226707697,0.4554702007383124,0.5280094666448093,0.5864911850300679,0.48849997770484743,0.7065391776212664,0.5749517640392326,0.5499290449649915,0.4869666343737278,0.6492270352513785,0.597135804237003,0.6484835841878254,0.5403879445077471,0.5761321439567597,0.6255691604899822,0.5842545370554068,0.4517383848232247,0.5050775587324385,0.5703512800948547,0.6417269630589296,0.6535086921831352,0.6695991980888816,0.7370566535133063,0.7778851703645735,0.6678651196850418,0.7442498731185044,0.8324234134793864,0.7519243294942659],\"y\":[0.0035100225034122587,0.06044108530503717,0.05117097994602003,0.0017526459038934206,0.04730015291090741,0.6071802721812887,0.06805156091055424,0.043251583333154174,0.01517184332429048,0.02973502039467869,0.40638677662363126,0.9339651412812896,0.20973128772658298,0.007090577955257333,0.921569392437394,0.9882774582089302,0.20456026722007212,0.20474535628128093,0.9797172338878688,0.3010320251851733,0.1130468657232294,0.9028536898580939,0.4920429058871023,0.9048862357897041,0.5276903440717914,0.11196224935501041,0.320291118804541,0.12433581253390125,0.6305796194386968,0.0011603028791936439,0.0015604432596561123,0.0013327952589450812,0.0012164794579388328,0.0010332587609815055,0.0023462179207158766,0.0025437148043958298,0.004405058160638876,0.0018668240504225687,0.005057240810102104,0.0016077302717296782,0.01157008229068338,0.0015817287502271314,0.0014578392512450177,0.0024223286691275815,0.0029703812840763894,0.001920877300071056,0.0014079716298844756,0.004576523763264509,0.0034827700113191666,0.007502519983666527,0.0019114209814252994,0.001464708575830703,0.001298853925658958,0.0010054989778286872,0.001281216537726556,0.0019043216144904824,0.031919681277843524,0.003298896731344554,0.006009359517501574,0.0022498006341152067,0.001239698374764681,0.0016075965963191162,0.0014492789641041587,0.002776077488860619,0.001917789449811928,0.004051695852770575,0.0010126380473999873,0.0017885581050604506,0.009139704253759616,0.01709602768971001,0.0012407304610466787,0.0016646637513757694,0.0020745074137178865,0.002802911748864269,0.0015905552470339315,0.0012139067899170294,0.0012433814774598594,0.001013219628987948,0.0024598892013561304,0.0038577361938431317,0.0013816022572488867,0.0017057230871074395,0.0022206136235321614,0.00299555129800087,0.0016366639388812726,0.0012244834475361103,0.0011519094932388666,0.0014705926842589624,0.0011545978814094112,0.0020851757820818054,0.0014028295980928727,0.001350923824878732,0.0013382097144481143,0.0011866859001563228,0.0011870376384079688,0.0011170900375099776,0.001347722138704087,0.0013744380274322708,0.0026201441718044552,0.0010085276030225225],\"type\":\"scatter\",\"xaxis\":\"x10\",\"yaxis\":\"y10\"},{\"colorbar\":{\"title\":{\"text\":\"Objective Value\"}},\"colorscale\":[[0.0,\"rgb(247,251,255)\"],[0.125,\"rgb(222,235,247)\"],[0.25,\"rgb(198,219,239)\"],[0.375,\"rgb(158,202,225)\"],[0.5,\"rgb(107,174,214)\"],[0.625,\"rgb(66,146,198)\"],[0.75,\"rgb(33,113,181)\"],[0.875,\"rgb(8,81,156)\"],[1.0,\"rgb(8,48,107)\"]],\"connectgaps\":true,\"contours\":{\"coloring\":\"heatmap\"},\"hoverinfo\":\"none\",\"line\":{\"smoothing\":1.3},\"reversescale\":true,\"showscale\":false,\"x\":[-0.03130074289623405,0.017580688489167495,0.06816336891752811,0.10049784955749624,0.14398133150202946,0.15126241832766066,0.1593846010272439,0.204774480443911,0.21415090864421538,0.2607889147849083,0.26416092485356324,0.29672281325955074,0.32849684093107323,0.34436190380217346,0.34984621050070874,0.3783573261733709,0.3812048520012899,0.38339108949162204,0.4016280929421766,0.40807126783660513,0.4151934158649231,0.42551230238691107,0.4349571648534177,0.4488454617366379,0.4498469702653812,0.4517383848232247,0.4554702007383124,0.47195833963891576,0.47236892283818005,0.47510381887388714,0.4869666343737278,0.48849997770484743,0.4955369632048551,0.5007804842610596,0.5027387659451736,0.5050775587324385,0.5055792514244312,0.5092078421491011,0.5132970523636197,0.5142624875562325,0.5160236769414953,0.5280094666448093,0.5280571140194011,0.5285673188017547,0.5318771803427904,0.5338748881897236,0.5403879445077471,0.5439822707982183,0.549603941867679,0.5499290449649915,0.5541032239886347,0.558543528735306,0.5626118616721701,0.5654121430073455,0.568294483140127,0.5703512800948547,0.5713665262806743,0.5749517640392326,0.5757439050260932,0.5761321439567597,0.5798110120732055,0.5842545370554068,0.5864911850300679,0.5949045962331351,0.5965404882282515,0.597135804237003,0.597445562021935,0.5998177595923543,0.6001451314072975,0.6117362226707697,0.6183393588449764,0.6255691604899822,0.6277274858591582,0.6285602450364968,0.6407318944735574,0.6417269630589296,0.6484835841878254,0.6492270352513785,0.6535086921831352,0.6556197253048618,0.6563530269436376,0.6678651196850418,0.6689369496786249,0.6695991980888816,0.6804996735359335,0.6918376929042345,0.7065391776212664,0.7119336364696917,0.7333452823069315,0.7370566535133063,0.7433079148027768,0.7442498731185044,0.7519243294942659,0.7778851703645735,0.7859876823522647,0.788978516971918,0.8324234134793864,0.8360473509089751,0.8523481450304584,0.9159475911651482,0.9952093161971984,1.0440907475826],\"y\":[6.55,11,12,17,22,25,26,30,32,37,38,42,47,49,52,53,54,59,60,62,63,64,65,66,68,70,71,73,74,76,77,78,79,80,81,82,83,84,85,86,87,88,89,90,91,92,94,95,96,97,98,99,100,104.45],\"z\":[[null,null,null,null,null,null,null,null,null,null,null,null,null,null,null,null,null,null,null,null,null,null,null,null,null,null,null,null,null,null,null,null,null,null,null,null,null,null,null,null,null,null,null,null,null,null,null,null,null,null,null,null,null,null,null,null,null,null,null,null,null,null,null,null,null,null,null,null,null,null,null,null,null,null,null,null,null,null,null,null,null,null,null,null,null,null,null,null,null,null,null,null,null,null,null,null,null,null,null,null,null,null],[null,0.9866553465691398,null,null,null,null,null,null,null,null,null,null,null,null,null,null,null,null,null,null,null,null,null,null,null,null,null,null,null,null,null,null,null,null,null,null,null,null,null,null,null,null,null,null,null,null,null,null,null,null,null,null,null,null,null,null,null,null,null,null,null,null,null,null,null,null,null,null,null,null,null,null,null,null,null,null,null,null,null,null,null,null,null,null,null,null,null,null,null,null,null,null,null,null,null,null,null,null,null,null,null,null],[null,null,null,null,null,null,null,null,null,null,null,null,null,null,null,null,null,null,null,null,null,null,null,0.9911035643794266,null,null,null,null,null,null,null,null,null,null,null,null,null,null,null,null,null,null,null,null,null,null,null,null,null,null,null,null,null,null,null,null,null,null,null,null,null,null,null,null,null,null,null,null,null,null,null,null,null,null,null,null,null,null,null,null,null,null,null,null,null,null,null,null,null,null,null,null,null,null,null,null,null,null,null,null,null,null],[null,null,null,null,null,null,null,null,null,null,null,null,null,null,null,null,null,null,null,null,null,null,null,null,null,null,null,null,null,null,null,null,null,null,null,null,null,null,null,null,null,null,null,null,null,null,null,null,null,null,null,null,null,null,null,null,null,null,0.9721206316033904,null,null,null,null,null,null,null,null,null,null,null,null,null,null,null,null,null,null,null,null,null,null,null,null,null,null,null,null,null,null,null,null,null,null,null,null,null,null,null,null,null,null,null],[null,null,null,null,null,null,null,null,null,null,null,null,null,null,null,0.9698965226982468,null,null,null,null,null,null,null,null,null,null,null,null,null,null,null,null,null,null,null,null,null,null,null,null,null,null,null,null,null,null,null,null,null,null,null,null,null,null,null,null,null,null,null,null,null,null,null,null,null,null,null,null,null,null,null,null,null,null,null,null,null,null,null,0.9815903285730873,null,null,null,null,null,null,null,null,null,null,null,null,null,null,null,null,null,null,null,null,null,null],[null,null,null,null,null,null,null,null,null,null,null,null,null,null,0.9911035643794266,null,null,null,null,null,null,null,null,null,null,null,null,null,null,null,null,null,null,null,null,null,null,null,null,null,null,null,null,null,null,null,null,null,null,null,null,null,null,null,null,null,null,null,null,null,null,null,null,null,null,null,null,null,null,null,null,null,null,null,null,null,null,null,null,null,null,null,null,null,null,null,null,null,null,null,null,null,null,null,null,null,null,null,null,null,null,null],[null,null,null,null,null,null,null,null,null,null,null,null,null,null,null,null,null,0.9721206316033902,null,null,null,null,null,null,null,null,null,null,null,null,null,null,null,null,null,null,null,null,null,null,null,null,null,null,null,null,null,null,null,null,null,null,null,null,null,null,null,null,null,null,null,null,null,null,null,null,null,null,null,null,null,null,null,null,null,null,null,null,null,null,null,null,null,null,null,null,null,null,null,null,null,null,null,null,null,null,null,null,null,null,null,null],[null,null,null,null,null,null,null,null,null,null,null,null,null,null,null,null,null,null,null,null,null,null,null,null,null,null,null,null,null,null,null,null,null,null,null,null,null,null,null,null,null,null,null,null,null,null,null,null,null,null,null,null,null,null,null,null,null,null,null,null,null,null,null,null,null,null,null,null,null,null,null,null,null,null,null,null,null,null,null,null,null,null,null,null,null,null,null,null,null,null,null,null,null,null,null,0.9923807035876001,null,null,null,null,null,null],[null,null,null,null,null,null,null,null,null,null,null,null,null,null,null,null,null,null,null,null,null,null,null,null,null,null,null,null,null,null,null,null,null,null,null,null,null,null,null,null,null,null,null,null,null,null,null,null,null,null,null,null,null,null,0.975578340880065,null,null,null,null,null,null,null,null,null,null,null,null,null,null,null,null,null,null,null,null,null,null,null,null,null,null,null,null,null,null,null,null,null,null,null,null,null,null,null,null,null,null,null,null,null,null,null],[null,null,null,null,null,null,null,null,null,null,null,null,null,null,null,null,null,null,null,null,null,null,null,null,null,null,null,null,null,null,null,null,null,null,null,null,null,null,null,null,null,null,null,null,null,null,null,null,null,null,null,null,null,null,null,null,null,null,null,null,null,null,null,null,null,null,null,null,null,null,null,null,null,null,null,null,null,null,null,null,null,null,null,null,null,null,null,null,0.9402792290723325,null,null,null,null,null,null,null,null,null,null,null,null,null],[null,null,null,null,null,null,null,null,null,null,null,null,null,null,null,null,null,null,null,null,null,null,null,null,null,null,null,null,null,null,null,null,null,null,null,null,null,null,null,null,null,null,null,null,null,null,null,null,null,null,null,null,null,null,null,null,null,null,null,null,null,null,null,null,null,null,null,null,null,null,null,null,null,null,null,null,null,null,null,null,null,null,null,null,null,null,null,null,null,null,null,null,null,null,null,null,null,0.9911035643794265,null,null,null,null],[null,null,null,null,null,null,null,null,null,0.9911035643794266,null,null,null,null,null,null,null,null,null,null,null,null,null,null,null,null,null,null,null,null,null,null,null,null,null,null,null,null,null,null,null,null,null,null,null,null,null,null,null,null,null,null,null,null,null,null,null,null,null,null,null,null,null,null,null,null,null,null,null,null,null,null,null,null,null,null,null,null,null,null,null,null,null,null,null,null,null,null,null,null,null,null,0.9920505340763962,null,null,null,null,null,null,null,null,null],[null,null,null,null,null,null,null,null,null,null,null,null,null,null,null,null,null,null,null,null,null,null,null,null,null,null,null,null,null,0.9901565946824569,null,null,null,null,null,null,null,null,null,null,null,null,null,null,null,null,null,null,null,null,null,null,null,null,null,null,null,null,null,null,null,null,null,null,null,null,null,null,null,null,0.9911035643794266,0.9393322593753628,null,null,null,null,null,null,null,null,null,null,null,null,null,null,null,null,null,null,null,null,null,null,null,null,null,null,null,null,null,null],[null,null,null,null,null,null,null,null,null,null,null,null,null,null,null,null,null,null,null,null,null,null,null,null,null,null,null,null,null,null,null,null,null,null,null,null,null,null,null,null,null,null,null,null,null,null,null,null,null,null,null,null,null,null,null,null,null,null,null,null,null,null,null,null,null,null,null,null,null,null,null,null,null,null,null,null,null,null,null,null,null,null,null,null,null,null,null,null,null,null,null,0.9380551201671891,null,null,null,null,0.9920505340763962,null,null,null,null,null],[null,null,null,null,null,null,null,0.9920505340763962,null,null,null,null,null,null,null,null,null,null,null,null,null,null,null,null,null,null,null,null,null,null,null,null,null,null,null,null,null,null,null,null,null,null,null,null,null,null,null,null,null,null,null,null,null,null,null,null,null,null,null,null,null,null,null,null,null,null,null,null,null,null,null,null,null,null,null,null,null,null,null,null,null,null,null,null,null,null,null,null,null,null,null,null,null,null,null,null,null,null,null,null,null,null],[null,null,null,null,null,null,null,null,null,null,null,null,null,null,null,null,null,null,null,null,null,null,null,null,null,null,null,null,null,null,null,null,null,null,null,null,null,null,null,null,null,null,null,null,null,null,null,null,null,null,null,null,null,null,null,null,null,null,null,null,null,null,null,null,null,null,null,null,null,null,null,null,null,null,null,null,null,null,null,null,null,0.9380551201671891,null,null,null,null,null,null,null,null,null,null,null,null,null,null,null,null,null,null,null,null],[null,null,null,null,null,null,null,null,null,null,null,null,null,null,null,null,null,null,0.9901565946824569,null,null,null,null,null,null,null,null,null,null,null,null,null,null,null,null,null,null,null,null,null,null,null,null,null,null,null,null,null,null,null,null,null,null,null,null,null,null,null,null,null,null,null,null,null,null,null,null,null,null,null,null,null,null,null,null,null,null,null,null,null,null,null,null,null,null,null,null,null,null,null,null,null,null,null,null,null,null,null,null,null,null,null],[null,null,null,null,null,null,null,null,null,null,null,null,null,null,null,null,null,null,null,null,null,null,null,null,null,0.9901565946824569,null,null,null,null,null,null,null,null,null,null,null,null,null,null,null,null,null,null,null,null,null,null,null,null,null,null,null,null,null,null,null,null,null,null,null,0.9402792290723325,null,null,null,null,null,null,null,null,null,null,null,null,null,null,null,null,null,null,null,null,null,null,null,null,null,null,null,null,null,null,null,null,null,null,null,null,null,null,null,null],[null,null,null,null,null,null,null,null,null,null,0.9708434923952165,null,null,null,null,null,null,null,null,null,null,null,null,null,null,null,null,null,null,null,null,null,null,null,null,null,null,null,null,null,null,null,null,null,null,null,null,null,null,null,null,null,null,null,null,null,null,null,null,0.9380551201671891,null,null,null,null,null,null,null,null,null,null,null,null,null,null,null,null,null,null,null,null,null,null,null,null,null,null,null,null,null,null,null,null,null,null,null,null,null,null,null,null,null,null],[null,null,null,null,null,null,null,null,null,null,null,null,null,null,null,null,null,null,null,null,null,null,null,null,null,null,null,null,null,null,null,null,null,null,null,null,null,null,null,null,null,null,null,null,null,null,null,null,null,null,null,null,null,null,null,null,null,null,null,null,null,null,null,null,null,null,null,null,null,null,null,null,null,null,null,null,null,null,0.9380551201671891,null,null,null,null,0.9380551201671891,null,null,null,null,null,null,null,null,null,0.9920505340763962,null,null,null,null,null,null,null,null],[null,null,null,null,null,null,null,null,null,null,null,null,null,null,null,null,null,null,null,null,null,null,null,null,null,null,null,null,null,null,null,null,null,null,null,null,null,null,null,null,null,null,null,null,null,null,null,null,null,null,null,null,null,null,null,null,null,null,null,null,null,null,null,null,null,null,null,null,null,null,null,null,null,null,null,null,null,null,null,null,null,null,null,null,null,null,null,null,null,0.9380551201671891,null,null,null,null,null,null,null,null,null,null,null,null],[null,null,0.9911035643794266,null,null,null,null,null,null,null,null,null,null,null,null,null,null,null,null,null,null,null,null,null,null,null,null,null,null,null,null,null,null,null,null,null,null,null,null,null,null,null,null,null,null,null,null,null,null,null,null,null,null,null,null,null,null,null,null,null,null,null,null,null,null,null,null,null,null,null,null,null,null,null,null,null,null,null,null,null,null,null,null,null,null,null,null,null,null,null,null,null,null,null,null,null,null,null,null,null,null,null],[null,null,null,null,null,null,null,null,null,null,null,null,null,null,null,null,null,null,null,null,null,null,null,null,null,null,null,null,null,null,null,null,null,null,null,null,null,null,null,null,null,null,null,null,null,null,null,null,null,null,null,null,null,null,null,null,null,null,null,null,null,null,null,null,null,null,null,null,null,null,null,null,null,null,null,null,null,null,null,null,null,null,null,null,null,null,null,null,null,null,null,null,null,null,null,null,null,null,0.9911035643794265,null,0.9933276732845698,null],[null,null,null,null,null,null,null,null,null,null,null,null,null,null,null,null,null,null,null,null,null,null,null,null,null,null,null,null,null,null,null,null,null,null,null,null,null,null,null,null,null,null,null,null,null,null,null,null,null,null,null,null,0.9393322593753628,null,null,null,null,null,null,null,null,null,null,null,null,null,null,null,null,null,null,null,null,null,null,null,null,null,null,null,null,null,null,null,null,null,null,null,null,null,null,null,null,null,null,null,null,null,null,null,null,null],[null,null,null,null,null,null,null,null,null,null,null,null,null,null,null,null,null,null,null,null,null,null,null,null,null,null,null,null,null,null,0.9901565946824569,null,null,null,null,null,null,null,null,null,null,null,null,null,null,null,null,null,null,null,null,null,null,null,null,null,null,null,null,null,null,null,null,null,null,null,null,null,null,null,null,null,null,null,null,null,null,null,null,null,null,null,null,null,null,null,null,null,null,null,null,null,null,null,null,null,null,null,null,null,null,null],[null,null,null,null,null,0.9866553465691398,null,null,null,null,null,null,null,null,null,null,null,null,null,null,null,null,null,null,null,null,null,null,0.9901565946824569,null,null,null,null,null,null,null,null,null,null,null,null,null,null,null,null,null,null,null,null,null,null,null,null,null,null,null,null,null,null,null,null,null,null,null,null,null,null,null,null,null,null,null,null,null,null,null,null,null,null,null,null,null,null,null,null,null,null,null,null,null,null,null,null,null,null,null,null,null,null,null,null,null],[null,null,null,null,null,null,null,null,null,null,null,null,null,null,null,null,null,null,null,null,null,null,null,null,null,null,null,null,null,null,null,null,null,null,null,null,null,null,null,null,null,null,null,null,null,null,null,null,null,null,null,null,null,null,null,null,null,null,null,null,null,null,null,null,null,null,null,null,null,null,null,null,null,null,null,null,null,null,null,null,null,null,null,null,null,0.9393322593753628,null,null,null,null,null,null,null,null,null,null,null,null,null,null,null,null],[null,null,null,null,null,null,null,null,null,null,null,null,null,null,null,null,null,null,null,null,null,null,null,null,null,null,null,null,null,null,null,null,null,null,null,0.9393322593753628,null,null,null,null,null,null,null,null,0.9628504876349705,null,null,null,null,null,null,null,null,null,null,null,null,null,null,null,null,null,null,null,null,null,null,null,null,null,null,null,null,null,null,null,null,null,null,null,null,null,null,null,null,null,null,null,null,null,null,null,null,null,null,null,null,null,null,null,null,null],[null,null,null,0.9721206316033902,null,null,null,null,null,null,null,null,null,null,null,null,null,null,null,null,null,null,null,null,null,null,null,null,null,null,null,null,null,null,null,null,null,null,null,null,null,null,null,null,null,null,null,null,null,null,null,null,null,null,null,null,null,null,null,null,null,null,null,null,null,null,null,null,null,null,null,null,null,null,null,null,null,null,null,null,null,null,null,null,null,null,null,null,null,null,null,null,null,null,null,null,null,null,null,null,null,null],[null,null,null,null,0.9667254440961338,null,null,null,null,null,null,null,null,null,null,null,null,null,null,null,null,null,0.9721206316033902,null,null,null,null,null,null,null,null,null,null,null,null,null,null,null,null,null,null,null,null,null,null,null,null,null,null,null,null,null,null,null,null,null,null,null,null,null,null,null,null,null,null,null,null,null,null,null,null,null,null,null,null,null,null,null,null,null,null,null,null,null,null,null,0.9402792290723325,null,null,null,null,null,null,null,null,null,null,null,null,null,null,null],[null,null,null,null,null,null,null,null,null,null,null,null,null,null,null,null,0.9667254440961338,null,null,null,null,null,null,null,null,null,null,null,null,null,null,null,null,null,null,null,null,null,null,null,null,null,null,null,null,null,null,null,null,null,null,null,null,null,null,null,null,null,null,null,null,null,null,null,null,null,null,null,null,null,null,null,null,null,null,null,null,null,null,null,null,null,null,null,null,null,null,0.988879455474283,null,null,null,null,null,null,null,null,null,null,null,null,null,null],[null,null,null,null,null,null,null,null,null,null,null,null,null,null,null,null,null,null,null,null,null,null,null,null,null,null,null,null,null,null,null,null,null,null,null,null,null,null,null,null,null,null,null,null,null,null,null,null,null,null,null,null,null,null,null,null,null,null,null,null,null,null,0.9380551201671891,null,null,null,null,null,null,null,null,null,null,null,null,null,null,null,null,null,null,null,null,null,null,null,null,null,null,null,null,null,null,null,null,null,null,null,null,null,null,null],[null,null,null,null,null,null,null,null,null,null,null,null,null,null,null,null,null,null,null,0.9667254440961338,null,null,null,null,null,null,null,null,null,null,null,0.9901565946824569,null,null,null,null,null,null,null,null,null,null,null,null,null,null,null,null,null,null,null,null,null,0.9393322593753628,null,null,null,null,null,null,null,null,null,null,null,null,null,null,null,null,null,null,null,null,null,null,null,null,null,null,null,null,null,null,null,null,null,null,null,null,null,null,null,null,null,null,null,null,null,null,null,null],[null,null,null,null,null,null,null,null,null,null,null,null,null,null,null,null,null,null,null,null,null,null,null,null,null,null,null,0.9911035643794266,null,null,null,null,null,null,null,null,null,null,null,null,null,null,null,null,null,null,null,null,null,null,null,null,null,null,null,null,null,null,null,null,null,null,null,null,null,null,null,null,null,null,null,null,null,null,null,null,null,null,null,null,null,null,null,null,null,null,null,null,null,null,null,null,null,null,null,null,null,null,null,null,null,null],[null,null,null,null,null,null,null,null,null,null,null,null,null,null,null,null,null,null,null,null,null,null,null,null,null,null,null,null,null,null,null,null,null,null,null,null,null,null,null,null,null,null,null,null,null,null,null,null,null,null,null,null,null,null,null,null,null,0.9393322593753628,null,null,null,null,null,null,null,null,null,null,null,null,null,null,null,null,null,null,null,null,null,null,null,null,null,null,null,null,null,null,null,null,null,null,null,null,0.9933276732845698,null,null,null,null,null,null,null],[null,null,null,null,null,null,null,null,null,null,null,0.9847614071752003,null,null,null,null,null,null,null,null,null,null,null,null,null,null,null,null,null,null,null,null,null,null,null,null,null,null,null,null,null,null,null,null,null,null,null,null,null,null,null,null,null,null,null,null,null,null,null,null,null,null,null,null,null,null,null,null,null,null,null,null,null,null,null,null,null,null,null,null,null,null,null,null,null,null,null,null,null,null,null,null,null,null,null,null,null,null,null,null,null,null],[null,null,null,null,null,null,null,null,null,null,null,null,null,null,null,null,null,null,null,null,null,null,null,null,null,null,null,null,null,null,null,null,null,null,null,null,null,null,null,null,null,null,null,null,null,null,null,0.9393322593753628,null,0.9536674213398352,null,null,null,null,null,null,0.9383852896783931,null,null,null,null,null,null,null,null,null,null,null,null,null,null,null,null,null,null,null,null,null,null,null,null,null,null,null,null,null,null,null,null,null,0.9600095785440613,null,null,null,null,null,null,null,null,null,null,null],[null,null,null,null,null,null,null,null,null,null,null,null,null,null,null,null,null,null,null,null,null,null,null,null,null,null,null,null,null,null,null,null,null,null,null,null,null,0.9380551201671891,null,null,null,null,0.9383852896783931,null,null,null,null,null,null,null,0.9383852896783931,null,null,null,null,null,null,null,null,null,null,null,null,null,null,null,null,null,null,null,null,null,null,null,null,null,null,null,null,null,null,null,null,null,null,null,null,null,null,null,null,null,null,null,null,null,null,null,null,null,null,null],[null,null,null,null,null,null,null,null,null,null,null,null,null,null,null,null,null,null,null,null,null,null,null,null,0.9901565946824569,null,null,null,null,null,null,null,null,null,null,null,null,null,null,null,0.9383852896783931,null,null,null,null,null,null,null,null,null,null,null,null,null,null,null,null,null,null,null,null,null,null,null,null,null,null,null,null,null,null,null,null,null,null,null,null,null,null,null,null,null,null,null,null,null,null,null,null,null,null,null,null,null,null,null,null,null,null,null,null,null],[null,null,null,null,null,null,null,null,null,null,null,null,null,null,null,null,null,null,null,null,0.9901565946824569,null,null,null,null,null,null,null,null,null,null,null,null,null,null,null,null,null,0.9393322593753628,null,null,0.9383852896783931,null,null,null,0.9380551201671891,0.9383852896783931,null,null,null,null,null,null,null,null,null,null,null,null,null,null,null,null,null,null,null,null,null,null,null,null,null,null,null,null,null,null,null,null,null,null,null,null,null,null,null,null,null,null,null,null,null,null,null,null,null,null,null,null,null,null,null],[null,null,null,null,null,null,null,null,null,null,null,null,null,null,null,null,null,null,null,null,null,null,null,null,null,null,null,null,null,null,null,null,null,null,null,null,null,null,null,null,null,null,null,null,null,null,null,null,null,null,null,null,null,null,null,null,null,null,null,null,null,null,null,null,null,null,null,null,null,null,null,null,null,0.9587324393358876,null,null,null,null,null,null,null,null,null,null,null,null,null,null,null,null,null,null,null,null,null,null,null,null,null,null,null,null],[null,null,null,null,null,null,null,null,0.9911035643794266,null,null,null,null,null,null,null,null,null,null,null,null,null,null,null,null,null,null,null,null,null,null,null,0.9911035643794266,null,0.9536674213398352,null,null,null,null,null,null,null,null,0.9402792290723325,null,null,null,null,null,null,null,null,null,null,null,null,null,null,null,null,null,null,null,null,null,null,null,null,null,null,null,null,null,null,null,null,null,null,null,null,null,null,null,null,null,null,null,null,null,null,null,null,null,null,null,null,null,null,null,null,null,null],[null,null,null,null,null,null,null,null,null,null,null,null,null,null,null,null,null,null,null,null,null,null,null,null,null,null,0.9911035643794266,null,null,null,null,null,null,null,null,null,null,null,null,null,null,null,null,null,null,null,null,null,null,null,null,null,null,null,null,null,null,null,null,null,null,null,null,null,null,0.9393322593753628,null,null,0.9393322593753628,null,null,null,null,null,null,null,null,null,null,null,null,null,null,null,null,null,null,null,null,null,null,null,null,null,null,null,null,null,null,null,null,null],[null,null,null,null,null,null,null,null,null,null,null,null,null,null,null,null,null,null,null,null,null,null,null,null,null,null,null,null,null,null,null,null,null,null,null,null,null,null,null,0.9380551201671891,null,null,null,null,null,null,null,null,0.9380551201671891,null,null,null,null,null,null,null,null,null,null,null,null,null,null,null,null,null,null,null,null,null,null,null,null,null,null,null,null,null,null,null,0.9393322593753628,null,null,null,null,null,null,null,null,null,null,null,null,null,null,null,null,null,null,null,null,null],[null,null,null,null,null,null,null,null,null,null,null,null,null,null,null,null,null,null,null,null,null,null,null,null,null,null,null,null,null,null,null,null,null,null,null,null,null,null,null,null,null,null,null,null,null,null,null,null,null,null,null,null,null,null,null,null,null,null,null,null,0.9383852896783931,null,null,null,0.9402792290723325,null,null,null,null,null,null,null,null,null,null,null,null,null,null,null,null,null,null,null,null,null,null,null,null,null,null,null,null,null,null,null,null,null,null,null,null,null],[null,null,null,null,null,null,0.988879455474283,null,null,null,null,null,null,null,null,null,null,null,null,null,null,null,null,null,null,null,null,null,null,null,null,null,null,null,null,null,null,null,null,null,null,null,null,null,null,null,null,null,null,null,null,null,null,null,null,null,null,null,null,null,null,null,null,null,null,null,null,0.978419249970974,null,null,null,null,null,null,null,null,0.9393322593753628,0.9383852896783931,null,null,null,null,null,null,0.9402792290723325,null,null,null,null,null,null,null,null,null,null,null,null,null,null,null,null,null],[null,null,null,null,null,null,null,null,null,null,null,null,null,null,null,null,null,null,null,null,null,0.9901565946824569,null,null,null,null,null,null,null,null,null,null,null,null,null,null,null,null,null,null,null,null,null,null,null,null,null,null,null,null,null,null,null,null,null,null,null,null,null,null,null,null,null,0.9383852896783931,null,null,null,null,null,0.9393322593753628,null,null,null,null,null,null,null,null,null,null,null,null,0.9587324393358876,null,null,null,null,null,null,null,null,null,null,null,null,null,null,null,null,null,null,null],[null,null,null,null,null,null,null,null,null,null,null,null,null,null,null,null,null,null,null,null,null,null,null,null,null,null,null,null,null,null,null,null,null,null,null,null,null,null,null,null,null,null,null,null,null,null,null,null,null,null,null,null,null,null,null,null,null,null,null,null,null,null,null,null,null,null,0.9383852896783931,null,null,null,null,null,0.9393322593753628,null,null,null,null,null,null,null,null,null,null,null,null,null,null,null,null,null,null,null,null,null,null,null,null,null,null,null,null,null],[null,null,null,null,null,null,null,null,null,null,null,null,null,0.9920505340763962,null,null,null,null,null,null,null,null,null,null,null,null,null,null,null,null,null,null,null,null,null,null,null,null,null,null,null,null,null,null,null,null,null,null,null,null,null,null,null,null,null,null,null,null,null,null,null,null,null,null,null,null,null,null,null,null,null,null,null,null,null,null,null,null,null,null,null,null,null,null,null,null,null,null,null,null,null,null,null,null,null,null,null,null,null,null,null,null],[null,null,null,null,null,null,null,null,null,null,null,null,0.9847614071752003,null,null,null,null,null,null,null,null,null,null,null,null,null,null,null,null,null,null,null,null,null,null,null,0.9393322593753628,null,null,null,null,null,null,null,null,null,null,null,null,null,null,null,null,null,null,null,null,null,null,null,null,null,null,null,null,null,null,null,null,null,null,null,null,null,0.9393322593753628,null,null,null,null,null,null,null,null,null,null,null,null,null,null,null,null,null,null,null,null,null,null,null,null,null,null,null],[null,null,null,null,null,null,null,null,null,null,null,null,null,null,null,null,null,null,null,null,null,null,null,null,null,null,null,null,null,null,null,null,null,null,null,null,null,null,null,null,null,null,null,null,null,null,null,null,null,null,null,null,null,null,null,0.9380551201671891,null,null,null,null,null,null,null,null,null,null,null,null,null,null,null,null,null,null,null,0.9380551201671891,null,null,null,null,null,null,null,null,null,null,null,null,null,null,null,null,null,null,null,null,null,null,null,null,null,null],[null,null,null,null,null,null,null,null,null,null,null,null,null,null,null,null,null,null,null,null,null,null,null,null,null,null,null,null,null,null,null,null,null,null,null,null,null,null,null,null,null,null,null,null,null,null,null,null,null,null,null,null,null,null,null,null,null,null,null,null,null,null,null,null,null,null,null,null,null,null,null,null,null,null,null,null,null,null,null,null,null,null,null,null,null,null,null,null,null,null,null,null,null,null,null,null,null,null,null,0.9911035643794265,null,null],[null,null,null,null,null,null,null,null,null,null,null,null,null,null,null,null,null,null,null,null,null,null,null,null,null,null,null,null,null,null,null,null,null,0.9393322593753628,null,null,null,null,null,null,null,null,null,null,null,null,null,null,null,null,null,0.9492192035295485,null,null,null,null,null,null,null,null,null,null,null,null,null,null,null,null,null,null,null,null,null,null,null,null,null,null,null,null,null,null,null,null,null,null,null,null,null,null,null,null,null,null,null,null,null,null,null,null,null,null],[null,null,null,null,null,null,null,null,null,null,null,null,null,null,null,null,null,null,null,null,null,null,null,null,null,null,null,null,null,null,null,null,null,null,null,null,null,null,null,null,null,null,null,null,null,null,null,null,null,null,null,null,null,null,null,null,null,null,null,null,null,null,null,null,null,null,null,null,null,null,null,null,null,null,null,null,null,null,null,null,null,null,null,null,null,null,null,null,null,null,null,null,null,null,null,null,null,null,null,null,null,null]],\"type\":\"contour\",\"xaxis\":\"x14\",\"yaxis\":\"y14\"},{\"marker\":{\"color\":\"black\",\"line\":{\"color\":\"Grey\",\"width\":2.0}},\"mode\":\"markers\",\"showlegend\":false,\"x\":[0.21415090864421538,0.6183393588449764,0.4955369632048551,0.788978516971918,0.568294483140127,0.6556197253048618,0.2607889147849083,0.8523481450304584,0.204774480443911,0.8360473509089751,0.017580688489167495,0.5757439050260932,0.4488454617366379,0.9952093161971984,0.38339108949162204,0.3783573261733709,0.34984621050070874,0.06816336891752811,0.3812048520012899,0.32849684093107323,0.7119336364696917,0.40807126783660513,0.4349571648534177,0.14398133150202946,0.10049784955749624,0.1593846010272439,0.29672281325955074,0.15126241832766066,0.26416092485356324,0.5132970523636197,0.5160236769414953,0.5092078421491011,0.5338748881897236,0.5285673188017547,0.5007804842610596,0.6407318944735574,0.6689369496786249,0.5713665262806743,0.7433079148027768,0.5798110120732055,0.5998177595923543,0.5541032239886347,0.47236892283818005,0.6001451314072975,0.5439822707982183,0.6918376929042345,0.47510381887388714,0.6285602450364968,0.558543528735306,0.7859876823522647,0.4498469702653812,0.549603941867679,0.5142624875562325,0.5965404882282515,0.42551230238691107,0.5055792514244312,0.47195833963891576,0.6563530269436376,0.5318771803427904,0.5626118616721701,0.7333452823069315,0.5949045962331351,0.4151934158649231,0.5654121430073455,0.6277274858591582,0.5027387659451736,0.6804996735359335,0.597445562021935,0.34436190380217346,0.9159475911651482,0.4016280929421766,0.5280571140194011,0.6117362226707697,0.4554702007383124,0.5280094666448093,0.5864911850300679,0.48849997770484743,0.7065391776212664,0.5749517640392326,0.5499290449649915,0.4869666343737278,0.6492270352513785,0.597135804237003,0.6484835841878254,0.5403879445077471,0.5761321439567597,0.6255691604899822,0.5842545370554068,0.4517383848232247,0.5050775587324385,0.5703512800948547,0.6417269630589296,0.6535086921831352,0.6695991980888816,0.7370566535133063,0.7778851703645735,0.6678651196850418,0.7442498731185044,0.8324234134793864,0.7519243294942659],\"y\":[88,47,88,30,32,22,42,65,52,38,11,17,12,65,26,22,25,64,77,97,77,79,76,76,74,92,82,70,60,86,85,84,86,88,100,97,94,83,83,91,92,84,70,89,83,71,47,87,100,81,85,90,90,91,94,97,80,90,73,66,37,94,86,79,95,88,92,95,96,99,54,84,94,89,86,78,79,76,81,83,68,92,89,92,86,60,47,59,59,73,98,98,62,62,63,62,53,49,49,42],\"type\":\"scatter\",\"xaxis\":\"x14\",\"yaxis\":\"y14\"},{\"colorbar\":{\"title\":{\"text\":\"Objective Value\"}},\"colorscale\":[[0.0,\"rgb(247,251,255)\"],[0.125,\"rgb(222,235,247)\"],[0.25,\"rgb(198,219,239)\"],[0.375,\"rgb(158,202,225)\"],[0.5,\"rgb(107,174,214)\"],[0.625,\"rgb(66,146,198)\"],[0.75,\"rgb(33,113,181)\"],[0.875,\"rgb(8,81,156)\"],[1.0,\"rgb(8,48,107)\"]],\"connectgaps\":true,\"contours\":{\"coloring\":\"heatmap\"},\"hoverinfo\":\"none\",\"line\":{\"smoothing\":1.3},\"reversescale\":true,\"showscale\":false,\"x\":[0.0007124539040580717,0.0010054989778286872,0.0010085276030225225,0.0010126380473999873,0.001013219628987948,0.0010332587609815055,0.0011170900375099776,0.0011519094932388666,0.0011545978814094112,0.0011603028791936439,0.0011866859001563228,0.0011870376384079688,0.0012139067899170294,0.0012164794579388328,0.0012244834475361103,0.001239698374764681,0.0012407304610466787,0.0012433814774598594,0.001281216537726556,0.001298853925658958,0.0013327952589450812,0.0013382097144481143,0.001347722138704087,0.001350923824878732,0.0013744380274322708,0.0013816022572488867,0.0014028295980928727,0.0014079716298844756,0.0014492789641041587,0.0014578392512450177,0.001464708575830703,0.0014705926842589624,0.0015604432596561123,0.0015817287502271314,0.0015905552470339315,0.0016075965963191162,0.0016077302717296782,0.0016366639388812726,0.0016646637513757694,0.0017057230871074395,0.0017526459038934206,0.0017885581050604506,0.0018668240504225687,0.0019043216144904824,0.0019114209814252994,0.001917789449811928,0.001920877300071056,0.0020745074137178865,0.0020851757820818054,0.0022206136235321614,0.0022498006341152067,0.0023462179207158766,0.0024223286691275815,0.0024598892013561304,0.0025437148043958298,0.0026201441718044552,0.002776077488860619,0.002802911748864269,0.0029703812840763894,0.00299555129800087,0.003298896731344554,0.0034827700113191666,0.0035100225034122587,0.0038577361938431317,0.004051695852770575,0.004405058160638876,0.004576523763264509,0.005057240810102104,0.006009359517501574,0.007090577955257333,0.007502519983666527,0.009139704253759616,0.01157008229068338,0.01517184332429048,0.01709602768971001,0.02973502039467869,0.031919681277843524,0.043251583333154174,0.04730015291090741,0.05117097994602003,0.06044108530503717,0.06805156091055424,0.11196224935501041,0.1130468657232294,0.12433581253390125,0.20456026722007212,0.20474535628128093,0.20973128772658298,0.3010320251851733,0.320291118804541,0.40638677662363126,0.4920429058871023,0.5276903440717914,0.6071802721812887,0.6305796194386968,0.9028536898580939,0.9048862357897041,0.921569392437394,0.9339651412812896,0.9797172338878688,0.9882774582089302,1.3947737086990761],\"y\":[\"dart\",\"gbdt\"],\"z\":[[null,null,null,null,null,null,null,null,null,null,null,null,null,null,null,0.9402792290723325,0.9901565946824569,null,null,null,null,null,null,null,null,null,null,null,null,null,null,0.9402792290723325,null,null,null,null,null,null,null,null,0.9923807035876001,null,null,null,null,null,null,null,null,null,null,null,null,null,null,null,null,null,null,null,0.9393322593753628,null,0.9911035643794266,null,null,null,null,null,null,0.9933276732845698,null,null,null,null,null,null,null,null,0.975578340880065,0.9911035643794266,null,0.9911035643794266,null,null,null,0.9911035643794266,0.9911035643794266,0.9911035643794266,null,null,0.9866553465691398,null,null,0.9815903285730873,null,null,null,0.9721206316033902,0.9721206316033904,null,0.9698965226982468,null],[null,0.9402792290723325,0.9920505340763962,0.9402792290723325,0.9402792290723325,0.9402792290723325,0.9920505340763962,0.9393322593753628,0.9901565946824569,0.9393322593753628,0.9380551201671891,0.9380551201671891,0.9380551201671891,0.9380551201671891,0.9380551201671891,null,null,0.9901565946824569,0.9901565946824569,0.9380551201671891,0.9380551201671891,0.9380551201671891,0.9380551201671891,0.9380551201671891,0.9380551201671891,0.9901565946824569,0.9380551201671891,0.9901565946824569,0.9901565946824569,0.9901565946824569,0.9380551201671891,null,0.9383852896783931,0.9383852896783931,0.9383852896783931,0.9383852896783931,0.9383852896783931,0.9383852896783931,0.9383852896783931,0.9383852896783931,null,0.9383852896783931,0.9383852896783931,0.9393322593753628,0.9901565946824569,0.9393322593753628,0.9393322593753628,0.9393322593753628,0.9393322593753628,0.9393322593753628,0.9393322593753628,0.9393322593753628,0.9393322593753628,0.9393322593753628,0.9393322593753628,0.9920505340763962,0.9393322593753628,0.9911035643794266,0.9393322593753628,0.9393322593753628,null,0.9492192035295485,null,0.9536674213398352,0.9536674213398352,0.9587324393358876,0.9587324393358876,0.9600095785440613,0.9628504876349705,null,0.9933276732845698,0.9920505340763962,0.978419249970974,0.9920505340763962,0.9911035643794265,0.9911035643794265,0.9911035643794266,0.9911035643794265,null,null,0.9911035643794266,null,0.988879455474283,0.988879455474283,0.9866553465691398,null,null,null,0.9847614071752003,0.9847614071752003,null,0.9721206316033902,0.9721206316033902,null,0.9708434923952165,0.9667254440961338,0.9667254440961338,null,null,0.9667254440961338,null,null]],\"type\":\"contour\",\"xaxis\":\"x3\",\"yaxis\":\"y3\"},{\"marker\":{\"color\":\"black\",\"line\":{\"color\":\"Grey\",\"width\":2.0}},\"mode\":\"markers\",\"showlegend\":false,\"x\":[0.0035100225034122587,0.06044108530503717,0.05117097994602003,0.0017526459038934206,0.04730015291090741,0.6071802721812887,0.06805156091055424,0.043251583333154174,0.01517184332429048,0.02973502039467869,0.40638677662363126,0.9339651412812896,0.20973128772658298,0.007090577955257333,0.921569392437394,0.9882774582089302,0.20456026722007212,0.20474535628128093,0.9797172338878688,0.3010320251851733,0.1130468657232294,0.9028536898580939,0.4920429058871023,0.9048862357897041,0.5276903440717914,0.11196224935501041,0.320291118804541,0.12433581253390125,0.6305796194386968,0.0011603028791936439,0.0015604432596561123,0.0013327952589450812,0.0012164794579388328,0.0010332587609815055,0.0023462179207158766,0.0025437148043958298,0.004405058160638876,0.0018668240504225687,0.005057240810102104,0.0016077302717296782,0.01157008229068338,0.0015817287502271314,0.0014578392512450177,0.0024223286691275815,0.0029703812840763894,0.001920877300071056,0.0014079716298844756,0.004576523763264509,0.0034827700113191666,0.007502519983666527,0.0019114209814252994,0.001464708575830703,0.001298853925658958,0.0010054989778286872,0.001281216537726556,0.0019043216144904824,0.031919681277843524,0.003298896731344554,0.006009359517501574,0.0022498006341152067,0.001239698374764681,0.0016075965963191162,0.0014492789641041587,0.002776077488860619,0.001917789449811928,0.004051695852770575,0.0010126380473999873,0.0017885581050604506,0.009139704253759616,0.01709602768971001,0.0012407304610466787,0.0016646637513757694,0.0020745074137178865,0.002802911748864269,0.0015905552470339315,0.0012139067899170294,0.0012433814774598594,0.001013219628987948,0.0024598892013561304,0.0038577361938431317,0.0013816022572488867,0.0017057230871074395,0.0022206136235321614,0.00299555129800087,0.0016366639388812726,0.0012244834475361103,0.0011519094932388666,0.0014705926842589624,0.0011545978814094112,0.0020851757820818054,0.0014028295980928727,0.001350923824878732,0.0013382097144481143,0.0011866859001563228,0.0011870376384079688,0.0011170900375099776,0.001347722138704087,0.0013744380274322708,0.0026201441718044552,0.0010085276030225225],\"y\":[\"dart\",\"gbdt\",\"dart\",\"dart\",\"dart\",\"dart\",\"dart\",\"gbdt\",\"gbdt\",\"gbdt\",\"dart\",\"dart\",\"dart\",\"dart\",\"dart\",\"dart\",\"dart\",\"dart\",\"gbdt\",\"gbdt\",\"gbdt\",\"gbdt\",\"gbdt\",\"gbdt\",\"gbdt\",\"gbdt\",\"gbdt\",\"gbdt\",\"gbdt\",\"gbdt\",\"gbdt\",\"gbdt\",\"gbdt\",\"gbdt\",\"gbdt\",\"gbdt\",\"gbdt\",\"gbdt\",\"gbdt\",\"gbdt\",\"gbdt\",\"gbdt\",\"gbdt\",\"gbdt\",\"gbdt\",\"gbdt\",\"gbdt\",\"gbdt\",\"gbdt\",\"gbdt\",\"gbdt\",\"gbdt\",\"gbdt\",\"gbdt\",\"gbdt\",\"gbdt\",\"gbdt\",\"dart\",\"gbdt\",\"gbdt\",\"dart\",\"gbdt\",\"gbdt\",\"gbdt\",\"gbdt\",\"gbdt\",\"gbdt\",\"gbdt\",\"gbdt\",\"gbdt\",\"dart\",\"gbdt\",\"gbdt\",\"gbdt\",\"gbdt\",\"gbdt\",\"gbdt\",\"gbdt\",\"gbdt\",\"gbdt\",\"gbdt\",\"gbdt\",\"gbdt\",\"gbdt\",\"gbdt\",\"gbdt\",\"gbdt\",\"dart\",\"gbdt\",\"gbdt\",\"gbdt\",\"gbdt\",\"gbdt\",\"gbdt\",\"gbdt\",\"gbdt\",\"gbdt\",\"gbdt\",\"gbdt\",\"gbdt\"],\"type\":\"scatter\",\"xaxis\":\"x3\",\"yaxis\":\"y3\"},{\"colorbar\":{\"title\":{\"text\":\"Objective Value\"}},\"colorscale\":[[0.0,\"rgb(247,251,255)\"],[0.125,\"rgb(222,235,247)\"],[0.25,\"rgb(198,219,239)\"],[0.375,\"rgb(158,202,225)\"],[0.5,\"rgb(107,174,214)\"],[0.625,\"rgb(66,146,198)\"],[0.75,\"rgb(33,113,181)\"],[0.875,\"rgb(8,81,156)\"],[1.0,\"rgb(8,48,107)\"]],\"connectgaps\":true,\"contours\":{\"coloring\":\"heatmap\"},\"hoverinfo\":\"none\",\"line\":{\"smoothing\":1.3},\"reversescale\":true,\"showscale\":false,\"x\":[0.0007124539040580717,0.0010054989778286872,0.0010085276030225225,0.0010126380473999873,0.001013219628987948,0.0010332587609815055,0.0011170900375099776,0.0011519094932388666,0.0011545978814094112,0.0011603028791936439,0.0011866859001563228,0.0011870376384079688,0.0012139067899170294,0.0012164794579388328,0.0012244834475361103,0.001239698374764681,0.0012407304610466787,0.0012433814774598594,0.001281216537726556,0.001298853925658958,0.0013327952589450812,0.0013382097144481143,0.001347722138704087,0.001350923824878732,0.0013744380274322708,0.0013816022572488867,0.0014028295980928727,0.0014079716298844756,0.0014492789641041587,0.0014578392512450177,0.001464708575830703,0.0014705926842589624,0.0015604432596561123,0.0015817287502271314,0.0015905552470339315,0.0016075965963191162,0.0016077302717296782,0.0016366639388812726,0.0016646637513757694,0.0017057230871074395,0.0017526459038934206,0.0017885581050604506,0.0018668240504225687,0.0019043216144904824,0.0019114209814252994,0.001917789449811928,0.001920877300071056,0.0020745074137178865,0.0020851757820818054,0.0022206136235321614,0.0022498006341152067,0.0023462179207158766,0.0024223286691275815,0.0024598892013561304,0.0025437148043958298,0.0026201441718044552,0.002776077488860619,0.002802911748864269,0.0029703812840763894,0.00299555129800087,0.003298896731344554,0.0034827700113191666,0.0035100225034122587,0.0038577361938431317,0.004051695852770575,0.004405058160638876,0.004576523763264509,0.005057240810102104,0.006009359517501574,0.007090577955257333,0.007502519983666527,0.009139704253759616,0.01157008229068338,0.01517184332429048,0.01709602768971001,0.02973502039467869,0.031919681277843524,0.043251583333154174,0.04730015291090741,0.05117097994602003,0.06044108530503717,0.06805156091055424,0.11196224935501041,0.1130468657232294,0.12433581253390125,0.20456026722007212,0.20474535628128093,0.20973128772658298,0.3010320251851733,0.320291118804541,0.40638677662363126,0.4920429058871023,0.5276903440717914,0.6071802721812887,0.6305796194386968,0.9028536898580939,0.9048862357897041,0.921569392437394,0.9339651412812896,0.9797172338878688,0.9882774582089302,1.3947737086990761],\"y\":[-0.03130074289623405,0.017580688489167495,0.06816336891752811,0.10049784955749624,0.14398133150202946,0.15126241832766066,0.1593846010272439,0.204774480443911,0.21415090864421538,0.2607889147849083,0.26416092485356324,0.29672281325955074,0.32849684093107323,0.34436190380217346,0.34984621050070874,0.3783573261733709,0.3812048520012899,0.38339108949162204,0.4016280929421766,0.40807126783660513,0.4151934158649231,0.42551230238691107,0.4349571648534177,0.4488454617366379,0.4498469702653812,0.4517383848232247,0.4554702007383124,0.47195833963891576,0.47236892283818005,0.47510381887388714,0.4869666343737278,0.48849997770484743,0.4955369632048551,0.5007804842610596,0.5027387659451736,0.5050775587324385,0.5055792514244312,0.5092078421491011,0.5132970523636197,0.5142624875562325,0.5160236769414953,0.5280094666448093,0.5280571140194011,0.5285673188017547,0.5318771803427904,0.5338748881897236,0.5403879445077471,0.5439822707982183,0.549603941867679,0.5499290449649915,0.5541032239886347,0.558543528735306,0.5626118616721701,0.5654121430073455,0.568294483140127,0.5703512800948547,0.5713665262806743,0.5749517640392326,0.5757439050260932,0.5761321439567597,0.5798110120732055,0.5842545370554068,0.5864911850300679,0.5949045962331351,0.5965404882282515,0.597135804237003,0.597445562021935,0.5998177595923543,0.6001451314072975,0.6117362226707697,0.6183393588449764,0.6255691604899822,0.6277274858591582,0.6285602450364968,0.6407318944735574,0.6417269630589296,0.6484835841878254,0.6492270352513785,0.6535086921831352,0.6556197253048618,0.6563530269436376,0.6678651196850418,0.6689369496786249,0.6695991980888816,0.6804996735359335,0.6918376929042345,0.7065391776212664,0.7119336364696917,0.7333452823069315,0.7370566535133063,0.7433079148027768,0.7442498731185044,0.7519243294942659,0.7778851703645735,0.7859876823522647,0.788978516971918,0.8324234134793864,0.8360473509089751,0.8523481450304584,0.9159475911651482,0.9952093161971984,1.0440907475826],\"z\":[[null,null,null,null,null,null,null,null,null,null,null,null,null,null,null,null,null,null,null,null,null,null,null,null,null,null,null,null,null,null,null,null,null,null,null,null,null,null,null,null,null,null,null,null,null,null,null,null,null,null,null,null,null,null,null,null,null,null,null,null,null,null,null,null,null,null,null,null,null,null,null,null,null,null,null,null,null,null,null,null,null,null,null,null,null,null,null,null,null,null,null,null,null,null,null,null,null,null,null,null,null,null],[null,null,null,null,null,null,null,null,null,null,null,null,null,null,null,null,null,null,null,null,null,null,null,null,null,null,null,null,null,null,null,null,null,null,null,null,null,null,null,null,null,null,null,null,null,null,null,null,null,null,null,null,null,null,null,null,null,null,null,null,null,null,null,null,null,null,null,null,null,null,null,null,null,null,null,null,null,null,null,null,null,null,null,null,null,null,null,null,null,null,0.9866553465691398,null,null,null,null,null,null,null,null,null,null,null],[null,null,null,null,null,null,null,null,null,null,null,null,null,null,null,null,null,null,null,null,null,null,null,null,null,null,null,null,null,null,null,null,null,null,null,null,null,null,null,null,null,null,null,null,null,null,null,null,null,null,null,null,null,null,null,null,null,null,null,null,null,null,null,null,null,null,null,null,null,null,null,null,null,null,null,null,null,null,null,null,null,null,null,null,null,null,0.9911035643794266,null,null,null,null,null,null,null,null,null,null,null,null,null,null,null],[null,null,null,null,null,null,null,null,null,null,null,null,null,null,null,null,null,null,null,null,null,null,null,null,null,null,null,null,null,null,null,null,null,null,null,null,null,null,null,null,null,null,null,null,null,null,null,null,null,null,null,null,null,null,null,null,null,null,null,null,null,null,null,null,null,null,null,null,null,null,null,null,null,null,null,null,null,null,null,null,null,null,null,null,null,null,null,null,null,null,null,null,0.9721206316033902,null,null,null,null,null,null,null,null,null],[null,null,null,null,null,null,null,null,null,null,null,null,null,null,null,null,null,null,null,null,null,null,null,null,null,null,null,null,null,null,null,null,null,null,null,null,null,null,null,null,null,null,null,null,null,null,null,null,null,null,null,null,null,null,null,null,null,null,null,null,null,null,null,null,null,null,null,null,null,null,null,null,null,null,null,null,null,null,null,null,null,null,null,null,null,null,null,null,null,null,null,null,null,null,null,null,0.9667254440961338,null,null,null,null,null],[null,null,null,null,null,null,null,null,null,null,null,null,null,null,null,null,null,null,null,null,null,null,null,null,null,null,null,null,null,null,null,null,null,null,null,null,null,null,null,null,null,null,null,null,null,null,null,null,null,null,null,null,null,null,null,null,null,null,null,null,null,null,null,null,null,null,null,null,null,null,null,null,null,null,null,null,null,null,null,null,null,null,null,null,0.9866553465691398,null,null,null,null,null,null,null,null,null,null,null,null,null,null,null,null,null],[null,null,null,null,null,null,null,null,null,null,null,null,null,null,null,null,null,null,null,null,null,null,null,null,null,null,null,null,null,null,null,null,null,null,null,null,null,null,null,null,null,null,null,null,null,null,null,null,null,null,null,null,null,null,null,null,null,null,null,null,null,null,null,null,null,null,null,null,null,null,null,null,null,null,null,null,null,null,null,null,null,null,0.988879455474283,null,null,null,null,null,null,null,null,null,null,null,null,null,null,null,null,null,null,null],[null,null,null,null,null,null,null,null,null,null,null,null,null,null,null,null,null,null,null,null,null,null,null,null,null,null,null,null,null,null,null,null,null,null,null,null,null,null,null,null,null,null,null,null,null,null,null,null,null,null,null,null,null,null,null,null,null,null,null,null,null,null,null,null,null,null,null,null,null,null,null,null,null,0.9920505340763962,null,null,null,null,null,null,null,null,null,null,null,null,null,null,null,null,null,null,null,null,null,null,null,null,null,null,null,null],[null,null,null,null,null,null,null,null,null,null,null,null,null,null,null,null,null,null,null,null,null,null,null,null,null,null,null,null,null,null,null,null,null,null,null,null,null,null,null,null,null,null,null,null,null,null,null,null,null,null,null,null,null,null,null,null,null,null,null,null,null,null,0.9911035643794266,null,null,null,null,null,null,null,null,null,null,null,null,null,null,null,null,null,null,null,null,null,null,null,null,null,null,null,null,null,null,null,null,null,null,null,null,null,null,null],[null,null,null,null,null,null,null,null,null,null,null,null,null,null,null,null,null,null,null,null,null,null,null,null,null,null,null,null,null,null,null,null,null,null,null,null,null,null,null,null,null,null,null,null,null,null,null,null,null,null,null,null,null,null,null,null,null,null,null,null,null,null,null,null,null,null,null,null,null,null,null,null,null,null,null,null,null,null,null,null,null,0.9911035643794266,null,null,null,null,null,null,null,null,null,null,null,null,null,null,null,null,null,null,null,null],[null,null,null,null,null,null,null,null,null,null,null,null,null,null,null,null,null,null,null,null,null,null,null,null,null,null,null,null,null,null,null,null,null,null,null,null,null,null,null,null,null,null,null,null,null,null,null,null,null,null,null,null,null,null,null,null,null,null,null,null,null,null,null,null,null,null,null,null,null,null,null,null,null,null,null,null,null,null,null,null,null,null,null,null,null,null,null,null,null,null,null,null,null,null,0.9708434923952165,null,null,null,null,null,null,null],[null,null,null,null,null,null,null,null,null,null,null,null,null,null,null,null,null,null,null,null,null,null,null,null,null,null,null,null,null,null,null,null,null,null,null,null,null,null,null,null,null,null,null,null,null,null,null,null,null,null,null,null,null,null,null,null,null,null,null,null,null,null,null,null,null,null,null,null,null,null,null,null,null,null,null,null,null,null,null,null,null,null,null,null,null,null,null,null,null,0.9847614071752003,null,null,null,null,null,null,null,null,null,null,null,null],[null,null,null,null,null,null,null,null,null,null,null,null,null,null,null,null,null,null,null,null,null,null,null,null,null,null,null,null,null,null,null,null,null,null,null,null,null,null,null,null,null,null,null,null,null,null,null,null,null,null,null,null,null,null,null,null,null,null,null,null,null,null,null,null,null,null,null,null,null,null,null,null,null,null,null,null,null,null,null,null,null,null,null,null,null,null,null,null,0.9847614071752003,null,null,null,null,null,null,null,null,null,null,null,null,null],[null,null,null,null,null,null,null,null,null,null,null,null,null,null,null,null,null,null,null,null,null,null,null,null,null,null,null,null,null,null,null,null,null,null,null,null,null,null,null,null,null,null,null,null,null,null,null,null,null,null,null,null,null,null,null,null,null,null,null,null,null,null,null,null,null,null,null,null,null,null,null,0.9920505340763962,null,null,null,null,null,null,null,null,null,null,null,null,null,null,null,null,null,null,null,null,null,null,null,null,null,null,null,null,null,null],[null,null,null,null,null,null,null,null,null,null,null,null,null,null,null,null,null,null,null,null,null,null,null,null,null,null,null,null,null,null,null,null,null,null,null,null,null,null,null,null,null,null,null,null,null,null,null,null,null,null,null,null,null,null,null,null,null,null,null,null,null,null,null,null,null,null,null,null,null,null,null,null,null,null,null,null,null,null,null,null,null,null,null,null,null,0.9911035643794266,null,null,null,null,null,null,null,null,null,null,null,null,null,null,null,null],[null,null,null,null,null,null,null,null,null,null,null,null,null,null,null,null,null,null,null,null,null,null,null,null,null,null,null,null,null,null,null,null,null,null,null,null,null,null,null,null,null,null,null,null,null,null,null,null,null,null,null,null,null,null,null,null,null,null,null,null,null,null,null,null,null,null,null,null,null,null,null,null,null,null,null,null,null,null,null,null,null,null,null,null,null,null,null,null,null,null,null,null,null,null,null,null,null,null,null,null,0.9698965226982468,null],[null,null,null,null,null,null,null,null,null,null,null,null,null,null,null,null,null,null,null,null,null,null,null,null,null,null,null,null,null,null,null,null,null,null,null,null,null,null,null,null,null,null,null,null,null,null,null,null,null,null,null,null,null,null,null,null,null,null,null,null,null,null,null,null,null,null,null,null,null,null,null,null,null,null,null,null,null,null,null,null,null,null,null,null,null,null,null,null,null,null,null,null,null,null,null,null,null,null,null,0.9667254440961338,null,null],[null,null,null,null,null,null,null,null,null,null,null,null,null,null,null,null,null,null,null,null,null,null,null,null,null,null,null,null,null,null,null,null,null,null,null,null,null,null,null,null,null,null,null,null,null,null,null,null,null,null,null,null,null,null,null,null,null,null,null,null,null,null,null,null,null,null,null,null,null,null,null,null,null,null,null,null,null,null,null,null,null,null,null,null,null,null,null,null,null,null,null,null,null,null,null,null,null,0.9721206316033902,null,null,null,null],[null,null,null,null,null,null,null,null,null,null,null,null,null,null,null,null,0.9901565946824569,null,null,null,null,null,null,null,null,null,null,null,null,null,null,null,null,null,null,null,null,null,null,null,null,null,null,null,null,null,null,null,null,null,null,null,null,null,null,null,null,null,null,null,null,null,null,null,null,null,null,null,null,null,null,null,null,null,null,null,null,null,null,null,null,null,null,null,null,null,null,null,null,null,null,null,null,null,null,null,null,null,null,null,null,null],[null,null,null,null,null,null,null,null,null,null,null,null,null,null,null,null,null,null,null,null,null,null,null,null,null,null,null,null,null,null,null,null,null,null,null,null,null,null,null,null,null,null,null,null,null,null,null,null,null,null,null,null,null,null,null,null,null,null,null,null,null,null,null,null,null,null,null,null,null,null,null,null,null,null,null,null,null,null,null,null,null,null,null,null,null,null,null,null,null,null,null,null,null,null,null,0.9667254440961338,null,null,null,null,null,null],[null,null,null,null,null,null,null,null,null,null,null,null,null,null,null,null,null,null,null,null,null,null,null,null,null,null,null,null,0.9901565946824569,null,null,null,null,null,null,null,null,null,null,null,null,null,null,null,null,null,null,null,null,null,null,null,null,null,null,null,null,null,null,null,null,null,null,null,null,null,null,null,null,null,null,null,null,null,null,null,null,null,null,null,null,null,null,null,null,null,null,null,null,null,null,null,null,null,null,null,null,null,null,null,null,null],[null,null,null,null,null,null,null,null,null,null,null,null,null,null,null,null,null,null,0.9901565946824569,null,null,null,null,null,null,null,null,null,null,null,null,null,null,null,null,null,null,null,null,null,null,null,null,null,null,null,null,null,null,null,null,null,null,null,null,null,null,null,null,null,null,null,null,null,null,null,null,null,null,null,null,null,null,null,null,null,null,null,null,null,null,null,null,null,null,null,null,null,null,null,null,null,null,null,null,null,null,null,null,null,null,null],[null,null,null,null,null,null,null,null,null,null,null,null,null,null,null,null,null,null,null,null,null,null,null,null,null,null,null,null,null,null,null,null,null,null,null,null,null,null,null,null,null,null,null,null,null,null,null,null,null,null,null,null,null,null,null,null,null,null,null,null,null,null,null,null,null,null,null,null,null,null,null,null,null,null,null,null,null,null,null,null,null,null,null,null,null,null,null,null,null,null,null,0.9721206316033902,null,null,null,null,null,null,null,null,null,null],[null,null,null,null,null,null,null,null,null,null,null,null,null,null,null,null,null,null,null,null,null,null,null,null,null,null,null,null,null,null,null,null,null,null,null,null,null,null,null,null,null,null,null,null,null,null,null,null,null,null,null,null,null,null,null,null,null,null,null,null,null,null,null,null,null,null,null,null,null,null,null,null,null,null,null,null,null,null,null,null,null,null,null,null,null,null,null,0.9911035643794266,null,null,null,null,null,null,null,null,null,null,null,null,null,null],[null,null,null,null,null,null,null,null,null,null,null,null,null,null,null,null,null,null,null,null,null,null,null,null,null,null,null,null,null,null,null,null,null,null,null,null,null,null,null,null,null,null,null,null,0.9901565946824569,null,null,null,null,null,null,null,null,null,null,null,null,null,null,null,null,null,null,null,null,null,null,null,null,null,null,null,null,null,null,null,null,null,null,null,null,null,null,null,null,null,null,null,null,null,null,null,null,null,null,null,null,null,null,null,null,null],[null,null,null,null,null,null,null,null,0.9901565946824569,null,null,null,null,null,null,null,null,null,null,null,null,null,null,null,null,null,null,null,null,null,null,null,null,null,null,null,null,null,null,null,null,null,null,null,null,null,null,null,null,null,null,null,null,null,null,null,null,null,null,null,null,null,null,null,null,null,null,null,null,null,null,null,null,null,null,null,null,null,null,null,null,null,null,null,null,null,null,null,null,null,null,null,null,null,null,null,null,null,null,null,null,null],[null,null,null,null,null,null,null,null,null,null,null,null,null,null,null,null,null,null,null,null,null,null,null,null,null,null,null,null,null,null,null,null,null,null,null,null,null,null,null,null,null,null,null,null,null,null,null,null,null,null,null,null,null,null,null,null,null,0.9911035643794266,null,null,null,null,null,null,null,null,null,null,null,null,null,null,null,null,null,null,null,null,null,null,null,null,null,null,null,null,null,null,null,null,null,null,null,null,null,null,null,null,null,null,null,null],[null,null,null,null,null,null,null,null,null,null,null,null,null,null,null,null,null,null,null,null,null,null,null,null,null,null,null,null,null,null,null,null,null,null,null,null,null,null,null,null,null,null,null,null,null,null,null,null,null,null,null,null,null,null,null,null,null,null,null,null,null,null,null,null,null,null,null,null,null,null,null,null,null,null,null,null,0.9911035643794266,null,null,null,null,null,null,null,null,null,null,null,null,null,null,null,null,null,null,null,null,null,null,null,null,null],[null,null,null,null,null,null,null,null,null,null,null,null,null,null,null,null,null,null,null,null,null,null,null,null,null,null,null,null,null,0.9901565946824569,null,null,null,null,null,null,null,null,null,null,null,null,null,null,null,null,null,null,null,null,null,null,null,null,null,null,null,null,null,null,null,null,null,null,null,null,null,null,null,null,null,null,null,null,null,null,null,null,null,null,null,null,null,null,null,null,null,null,null,null,null,null,null,null,null,null,null,null,null,null,null,null],[null,null,null,null,null,null,null,null,null,null,null,null,null,null,null,null,null,null,null,null,null,null,null,null,null,null,null,0.9901565946824569,null,null,null,null,null,null,null,null,null,null,null,null,null,null,null,null,null,null,null,null,null,null,null,null,null,null,null,null,null,null,null,null,null,null,null,null,null,null,null,null,null,null,null,null,null,null,null,null,null,null,null,null,null,null,null,null,null,null,null,null,null,null,null,null,null,null,null,null,null,null,null,null,null,null],[null,null,null,null,null,null,null,null,null,null,null,null,null,null,null,null,null,null,null,null,null,null,null,null,null,0.9901565946824569,null,null,null,null,null,null,null,null,null,null,null,null,null,null,null,null,null,null,null,null,null,null,null,null,null,null,null,null,null,null,null,null,null,null,null,null,null,null,null,null,null,null,null,null,null,null,null,null,null,null,null,null,null,null,null,null,null,null,null,null,null,null,null,null,null,null,null,null,null,null,null,null,null,null,null,null],[null,null,null,null,null,null,null,null,null,null,null,null,null,null,null,null,null,0.9901565946824569,null,null,null,null,null,null,null,null,null,null,null,null,null,null,null,null,null,null,null,null,null,null,null,null,null,null,null,null,null,null,null,null,null,null,null,null,null,null,null,null,null,null,null,null,null,null,null,null,null,null,null,null,null,null,null,null,null,null,null,null,null,null,null,null,null,null,null,null,null,null,null,null,null,null,null,null,null,null,null,null,null,null,null,null],[null,null,null,null,null,null,null,null,null,null,null,null,null,null,null,null,null,null,null,null,null,null,null,null,null,null,null,null,null,null,null,null,null,null,null,null,null,null,null,null,null,null,null,null,null,null,null,null,null,null,null,null,null,null,null,null,null,null,null,null,null,null,null,null,null,null,null,null,null,null,null,null,null,null,null,null,null,null,null,0.9911035643794266,null,null,null,null,null,null,null,null,null,null,null,null,null,null,null,null,null,null,null,null,null,null],[null,null,null,null,null,null,null,null,null,null,null,null,null,null,null,null,null,null,null,null,null,null,null,null,null,null,null,null,null,null,null,null,null,null,null,null,null,null,null,null,null,null,null,null,null,null,null,null,null,null,null,0.9393322593753628,null,null,null,null,null,null,null,null,null,null,null,null,null,null,null,null,null,null,null,null,null,null,null,null,null,null,null,null,null,null,null,null,null,null,null,null,null,null,null,null,null,null,null,null,null,null,null,null,null,null],[null,null,null,null,null,null,null,null,null,null,null,null,null,null,null,null,null,null,null,null,null,null,null,null,null,null,null,null,null,null,null,null,null,null,null,null,null,null,null,null,null,null,null,null,null,null,null,null,null,null,null,null,null,null,null,null,null,null,null,null,null,null,null,null,0.9536674213398352,null,null,null,null,null,null,null,null,null,null,null,null,null,null,null,null,null,null,null,null,null,null,null,null,null,null,null,null,null,null,null,null,null,null,null,null,null],[null,null,null,null,null,null,null,null,null,null,null,null,null,null,null,null,null,null,null,null,null,null,null,null,null,null,null,null,null,null,null,null,null,null,null,null,null,null,null,null,null,null,null,null,null,null,null,null,0.9393322593753628,null,null,null,null,null,null,null,null,null,null,null,null,null,null,null,null,null,null,null,null,null,null,null,null,null,null,null,null,null,null,null,null,null,null,null,null,null,null,null,null,null,null,null,null,null,null,null,null,null,null,null,null,null],[null,null,null,null,null,null,null,null,null,null,null,null,null,null,null,null,null,null,null,null,null,null,null,null,null,null,null,null,null,null,null,null,null,null,null,null,null,null,null,null,null,null,null,0.9393322593753628,null,null,null,null,null,null,null,null,null,null,null,null,null,null,null,null,null,null,null,null,null,null,null,null,null,null,null,null,null,null,null,null,null,null,null,null,null,null,null,null,null,null,null,null,null,null,null,null,null,null,null,null,null,null,null,null,null,null],[null,null,null,null,null,null,null,null,null,null,null,null,null,null,null,null,null,null,null,null,0.9380551201671891,null,null,null,null,null,null,null,null,null,null,null,null,null,null,null,null,null,null,null,null,null,null,null,null,null,null,null,null,null,null,null,null,null,null,null,null,null,null,null,null,null,null,null,null,null,null,null,null,null,null,null,null,null,null,null,null,null,null,null,null,null,null,null,null,null,null,null,null,null,null,null,null,null,null,null,null,null,null,null,null,null],[null,null,null,null,null,null,null,null,null,0.9393322593753628,null,null,null,null,null,null,null,null,null,null,null,null,null,null,null,null,null,null,null,null,null,null,null,null,null,null,null,null,null,null,null,null,null,null,null,null,null,null,null,null,null,null,null,null,null,null,null,null,null,null,null,null,null,null,null,null,null,null,null,null,null,null,null,null,null,null,null,null,null,null,null,null,null,null,null,null,null,null,null,null,null,null,null,null,null,null,null,null,null,null,null,null],[null,null,null,null,null,null,null,null,null,null,null,null,null,null,null,null,null,null,null,0.9380551201671891,null,null,null,null,null,null,null,null,null,null,null,null,null,null,null,null,null,null,null,null,null,null,null,null,null,null,null,null,null,null,null,null,null,null,null,null,null,null,null,null,null,null,null,null,null,null,null,null,null,null,null,null,null,null,null,null,null,null,null,null,null,null,null,null,null,null,null,null,null,null,null,null,null,null,null,null,null,null,null,null,null,null],[null,null,null,null,null,null,null,null,null,null,null,null,null,null,null,null,null,null,null,null,null,null,null,null,null,null,null,null,null,null,null,null,0.9383852896783931,null,null,null,null,null,null,null,null,null,null,null,null,null,null,null,null,null,null,null,null,null,null,null,null,null,null,null,null,null,null,null,null,null,null,null,null,null,null,null,null,null,null,null,null,null,null,null,null,null,null,null,null,null,null,null,null,null,null,null,null,null,null,null,null,null,null,null,null,null],[null,null,null,null,null,null,null,null,null,null,null,null,null,null,null,null,null,null,null,null,null,null,null,null,null,null,null,null,null,null,null,null,null,null,0.9383852896783931,null,null,null,null,null,null,null,null,null,null,null,null,null,null,null,null,null,null,null,null,null,null,null,null,null,null,null,null,null,null,null,null,null,null,null,null,null,null,null,null,null,null,null,null,null,null,null,null,null,null,null,null,null,null,null,null,null,null,null,null,null,null,null,null,null,null,null],[null,null,null,null,null,null,null,null,null,null,null,null,null,null,null,null,null,null,null,null,null,null,null,null,null,null,null,null,null,null,null,null,null,null,null,null,null,null,0.9383852896783931,null,null,null,null,null,null,null,null,null,null,null,null,null,null,null,null,null,null,null,null,null,null,null,null,null,null,null,null,null,null,null,null,null,null,null,null,null,null,null,null,null,null,null,null,null,null,null,null,null,null,null,null,null,null,null,null,null,null,null,null,null,null,null],[null,null,null,null,null,0.9402792290723325,null,null,null,null,null,null,null,null,null,null,null,null,null,null,null,null,null,null,null,null,null,null,null,null,null,null,null,null,null,null,null,null,null,null,null,null,null,null,null,null,null,null,null,null,null,null,null,null,null,null,null,null,null,null,null,null,null,null,null,null,null,null,null,null,null,null,null,null,null,null,null,null,null,null,null,null,null,null,null,null,null,null,null,null,null,null,null,null,null,null,null,null,null,null,null,null],[null,null,null,null,null,null,null,null,null,null,null,null,null,null,null,null,null,null,null,null,null,null,null,null,null,null,null,null,null,null,null,null,null,null,null,null,null,null,null,null,null,null,null,null,null,null,null,null,null,null,null,null,null,null,null,null,null,null,null,null,null,null,null,null,null,null,null,null,0.9628504876349705,null,null,null,null,null,null,null,null,null,null,null,null,null,null,null,null,null,null,null,null,null,null,null,null,null,null,null,null,null,null,null,null,null],[null,null,null,null,null,null,null,null,null,null,null,null,null,0.9380551201671891,null,null,null,null,null,null,null,null,null,null,null,null,null,null,null,null,null,null,null,null,null,null,null,null,null,null,null,null,null,null,null,null,null,null,null,null,null,null,null,null,null,null,null,null,null,null,null,null,null,null,null,null,null,null,null,null,null,null,null,null,null,null,null,null,null,null,null,null,null,null,null,null,null,null,null,null,null,null,null,null,null,null,null,null,null,null,null,null],[null,null,null,null,null,null,null,null,null,null,null,null,null,null,null,null,null,null,null,null,null,null,null,null,null,null,null,null,null,null,null,null,null,null,null,null,null,0.9383852896783931,null,null,null,null,null,null,null,null,null,null,null,null,null,null,null,null,null,null,null,null,null,null,null,null,null,null,null,null,null,null,null,null,null,null,null,null,null,null,null,null,null,null,null,null,null,null,null,null,null,null,null,null,null,null,null,null,null,null,null,null,null,null,null,null],[null,null,null,null,null,null,null,null,null,null,null,null,null,null,null,null,null,null,null,null,null,null,null,null,null,null,null,null,null,null,null,null,null,null,null,null,null,null,null,null,null,null,null,null,null,null,null,null,null,null,null,null,null,null,null,null,null,null,0.9393322593753628,null,null,null,null,null,null,null,null,null,null,null,null,null,null,null,null,null,null,null,null,null,null,null,null,null,null,null,null,null,null,null,null,null,null,null,null,null,null,null,null,null,null,null],[null,null,null,null,null,null,null,null,null,null,null,null,null,null,null,null,null,null,null,null,null,null,null,null,null,null,null,null,null,null,0.9380551201671891,null,null,null,null,null,null,null,null,null,null,null,null,null,null,null,null,null,null,null,null,null,null,null,null,null,null,null,null,null,null,null,null,null,null,null,null,null,null,null,null,null,null,null,null,null,null,null,null,null,null,null,null,null,null,null,null,null,null,null,null,null,null,null,null,null,null,null,null,null,null,null],[null,null,null,null,null,null,null,null,null,null,null,null,null,null,null,null,null,null,null,null,null,null,null,null,null,null,null,null,null,null,null,null,null,null,null,null,null,null,null,null,null,null,null,null,null,null,null,null,null,null,null,null,null,null,null,null,null,null,null,null,null,null,null,0.9536674213398352,null,null,null,null,null,null,null,null,null,null,null,null,null,null,null,null,null,null,null,null,null,null,null,null,null,null,null,null,null,null,null,null,null,null,null,null,null,null],[null,null,null,null,null,null,null,null,null,null,null,null,null,null,null,null,null,null,null,null,null,null,null,null,null,null,null,null,null,null,null,null,null,0.9383852896783931,null,null,null,null,null,null,null,null,null,null,null,null,null,null,null,null,null,null,null,null,null,null,null,null,null,null,null,null,null,null,null,null,null,null,null,null,null,null,null,null,null,null,null,null,null,null,null,null,null,null,null,null,null,null,null,null,null,null,null,null,null,null,null,null,null,null,null,null],[null,null,null,null,null,null,null,null,null,null,null,null,null,null,null,null,null,null,null,null,null,null,null,null,null,null,null,null,null,null,null,null,null,null,null,null,null,null,null,null,null,null,null,null,null,null,null,null,null,null,null,null,null,null,null,null,null,null,null,null,null,0.9492192035295485,null,null,null,null,null,null,null,null,null,null,null,null,null,null,null,null,null,null,null,null,null,null,null,null,null,null,null,null,null,null,null,null,null,null,null,null,null,null,null,null],[null,null,null,null,null,null,null,null,null,null,null,null,null,null,null,null,null,null,null,null,null,null,null,null,null,null,null,null,null,null,null,null,null,null,null,null,null,null,null,null,null,null,null,null,null,null,null,null,null,null,0.9393322593753628,null,null,null,null,null,null,null,null,null,null,null,null,null,null,null,null,null,null,null,null,null,null,null,null,null,null,null,null,null,null,null,null,null,null,null,null,null,null,null,null,null,null,null,null,null,null,null,null,null,null,null],[null,null,null,null,null,null,null,null,null,null,null,null,null,null,null,null,null,null,null,null,null,null,null,null,null,null,null,null,null,null,null,null,null,null,null,null,null,null,null,null,null,null,null,null,null,null,null,null,null,null,null,null,null,null,null,null,0.9393322593753628,null,null,null,null,null,null,null,null,null,null,null,null,null,null,null,null,null,null,null,null,null,null,null,null,null,null,null,null,null,null,null,null,null,null,null,null,null,null,null,null,null,null,null,null,null],[null,null,null,null,null,null,null,null,null,null,null,null,null,null,null,null,null,null,null,null,null,null,null,null,null,null,null,null,null,null,null,null,null,null,null,null,null,null,null,null,null,null,null,null,null,null,null,null,null,null,null,null,null,null,null,null,null,null,null,null,null,null,null,null,null,null,null,null,null,null,null,null,null,null,null,null,null,null,0.975578340880065,null,null,null,null,null,null,null,null,null,null,null,null,null,null,null,null,null,null,null,null,null,null,null],[null,null,null,null,null,null,null,null,null,null,null,null,null,null,null,null,null,null,null,null,null,null,null,null,null,null,0.9380551201671891,null,null,null,null,null,null,null,null,null,null,null,null,null,null,null,null,null,null,null,null,null,null,null,null,null,null,null,null,null,null,null,null,null,null,null,null,null,null,null,null,null,null,null,null,null,null,null,null,null,null,null,null,null,null,null,null,null,null,null,null,null,null,null,null,null,null,null,null,null,null,null,null,null,null,null],[null,null,null,null,null,null,null,null,null,null,null,null,null,null,null,null,null,null,null,null,null,null,null,null,null,null,null,null,null,null,null,null,null,null,null,null,null,null,null,null,null,null,0.9383852896783931,null,null,null,null,null,null,null,null,null,null,null,null,null,null,null,null,null,null,null,null,null,null,null,null,null,null,null,null,null,null,null,null,null,null,null,null,null,null,null,null,null,null,null,null,null,null,null,null,null,null,null,null,null,null,null,null,null,null,null],[null,null,null,null,null,null,null,null,null,null,null,null,null,null,null,null,null,null,null,null,null,null,null,null,null,null,null,null,null,null,null,null,null,null,null,null,null,null,null,null,null,null,null,null,null,null,null,null,null,null,null,null,null,0.9393322593753628,null,null,null,null,null,null,null,null,null,null,null,null,null,null,null,null,null,null,null,null,null,null,null,null,null,null,null,null,null,null,null,null,null,null,null,null,null,null,null,null,null,null,null,null,null,null,null,null],[null,null,null,null,null,null,null,null,null,null,null,null,null,null,null,null,null,null,null,null,null,null,null,null,null,null,null,null,null,null,null,null,null,null,null,null,null,null,null,null,null,null,null,null,null,null,null,null,null,null,null,null,null,null,null,null,null,null,null,null,null,null,null,null,null,null,null,null,null,null,null,null,null,null,null,null,null,null,null,null,null,null,null,null,null,null,null,null,null,null,null,null,null,null,null,null,null,null,0.9721206316033904,null,null,null],[null,null,null,null,null,null,null,null,null,null,null,null,null,null,0.9380551201671891,null,null,null,null,null,null,null,null,null,null,null,null,null,null,null,null,null,null,null,null,null,null,null,null,null,null,null,null,null,null,null,null,null,null,null,null,null,null,null,null,null,null,null,null,null,null,null,null,null,null,null,null,null,null,null,null,null,null,null,null,null,null,null,null,null,null,null,null,null,null,null,null,null,null,null,null,null,null,null,null,null,null,null,null,null,null,null],[null,null,null,null,null,null,null,null,null,null,null,null,null,null,null,null,null,null,null,null,null,null,null,null,null,null,null,null,null,null,null,null,null,null,null,null,0.9383852896783931,null,null,null,null,null,null,null,null,null,null,null,null,null,null,null,null,null,null,null,null,null,null,null,null,null,null,null,null,null,null,null,null,null,null,null,null,null,null,null,null,null,null,null,null,null,null,null,null,null,null,null,null,null,null,null,null,null,null,null,null,null,null,null,null,null],[null,null,null,null,null,null,null,null,null,null,null,null,null,null,null,null,null,null,null,null,null,null,null,null,null,null,null,null,null,null,null,0.9402792290723325,null,null,null,null,null,null,null,null,null,null,null,null,null,null,null,null,null,null,null,null,null,null,null,null,null,null,null,null,null,null,null,null,null,null,null,null,null,null,null,null,null,null,null,null,null,null,null,null,null,null,null,null,null,null,null,null,null,null,null,null,null,null,null,null,null,null,null,null,null,null],[null,null,null,null,null,null,null,null,null,null,null,null,0.9380551201671891,null,null,null,null,null,null,null,null,null,null,null,null,null,null,null,null,null,null,null,null,null,null,null,null,null,null,null,null,null,null,null,null,null,null,null,null,null,null,null,null,null,null,null,null,null,null,null,null,null,null,null,null,null,null,null,null,null,null,null,null,null,null,null,null,null,null,null,null,null,null,null,null,null,null,null,null,null,null,null,null,null,null,null,null,null,null,null,null,null],[null,null,null,null,null,null,null,null,null,null,null,null,null,null,null,null,null,null,null,null,null,null,null,null,null,null,null,null,null,null,null,null,null,null,null,0.9383852896783931,null,null,null,null,null,null,null,null,null,null,null,null,null,null,null,null,null,null,null,null,null,null,null,null,null,null,null,null,null,null,null,null,null,null,null,null,null,null,null,null,null,null,null,null,null,null,null,null,null,null,null,null,null,null,null,null,null,null,null,null,null,null,null,null,null,null],[null,0.9402792290723325,null,null,null,null,null,null,null,null,null,null,null,null,null,null,null,null,null,null,null,null,null,null,null,null,null,null,null,null,null,null,null,null,null,null,null,null,null,null,null,null,null,null,null,null,null,null,null,null,null,null,null,null,null,null,null,null,null,null,null,null,null,null,null,null,null,null,null,null,null,null,null,null,null,null,null,null,null,null,null,null,null,null,null,null,null,null,null,null,null,null,null,null,null,null,null,null,null,null,null,null],[null,null,null,null,null,null,null,null,null,null,null,null,null,null,null,null,null,null,null,null,null,null,null,null,null,null,null,null,null,null,null,null,null,null,null,null,null,null,null,null,null,null,null,null,null,null,null,null,null,0.9393322593753628,null,null,null,null,null,null,null,null,null,null,null,null,null,null,null,null,null,null,null,null,null,null,null,null,null,null,null,null,null,null,null,null,null,null,null,null,null,null,null,null,null,null,null,null,null,null,null,null,null,null,null,null],[null,null,null,null,null,null,null,null,null,null,null,null,null,null,null,null,null,null,null,null,null,null,null,null,null,null,null,null,null,null,null,null,null,null,null,null,null,null,null,null,null,0.9383852896783931,null,null,null,null,null,null,null,null,null,null,null,null,null,null,null,null,null,null,null,null,null,null,null,null,null,null,null,null,null,null,null,null,null,null,null,null,null,null,null,null,null,null,null,null,null,null,null,null,null,null,null,null,null,null,null,null,null,null,null,null],[null,null,null,null,null,null,null,null,null,null,null,null,null,null,null,null,null,null,null,null,null,null,null,null,null,null,null,null,null,null,null,null,null,null,null,null,null,null,null,null,null,null,null,null,null,null,null,null,null,null,null,null,null,null,null,null,null,null,null,null,null,null,null,null,null,null,null,null,null,null,null,null,0.978419249970974,null,null,null,null,null,null,null,null,null,null,null,null,null,null,null,null,null,null,null,null,null,null,null,null,null,null,null,null,null],[null,null,null,null,null,null,null,null,null,null,null,null,null,null,null,null,null,null,null,null,null,null,null,null,null,null,null,null,null,null,null,null,null,null,null,null,null,null,null,null,null,null,null,null,null,null,null,null,null,null,null,null,0.9393322593753628,null,null,null,null,null,null,null,null,null,null,null,null,null,null,null,null,null,null,null,null,null,null,null,null,null,null,null,null,null,null,null,null,null,null,null,null,null,null,null,null,null,null,null,null,null,null,null,null,null],[null,null,null,null,null,null,null,null,null,null,null,null,null,null,null,null,null,null,null,null,null,null,null,null,null,null,null,null,null,null,null,null,null,null,null,null,null,null,null,null,null,null,null,null,null,null,null,0.9393322593753628,null,null,null,null,null,null,null,null,null,null,null,null,null,null,null,null,null,null,null,null,null,null,null,null,null,null,null,null,null,null,null,null,null,null,null,null,null,null,null,null,null,null,null,null,null,null,null,null,null,null,null,null,null,null],[null,null,null,null,null,null,null,null,null,null,null,null,null,null,null,null,null,null,null,null,null,null,null,null,null,null,null,null,null,null,null,null,null,null,null,null,null,null,null,null,null,null,null,null,null,null,null,null,null,null,null,null,null,null,null,null,null,null,null,null,null,null,null,null,null,null,null,null,null,null,null,null,null,null,null,null,null,null,null,null,0.9911035643794266,null,null,null,null,null,null,null,null,null,null,null,null,null,null,null,null,null,null,null,null,null],[null,null,null,null,null,null,null,0.9393322593753628,null,null,null,null,null,null,null,null,null,null,null,null,null,null,null,null,null,null,null,null,null,null,null,null,null,null,null,null,null,null,null,null,null,null,null,null,null,null,null,null,null,null,null,null,null,null,null,null,null,null,null,null,null,null,null,null,null,null,null,null,null,null,null,null,null,null,null,null,null,null,null,null,null,null,null,null,null,null,null,null,null,null,null,null,null,null,null,null,null,null,null,null,null,null],[null,null,null,null,null,null,null,null,null,null,null,null,null,null,null,null,null,null,null,null,null,null,null,null,null,null,null,null,null,null,null,null,null,null,null,null,null,null,null,null,null,null,null,null,null,0.9393322593753628,null,null,null,null,null,null,null,null,null,null,null,null,null,null,null,null,null,null,null,null,null,null,null,null,null,null,null,null,null,null,null,null,null,null,null,null,null,null,null,null,null,null,null,null,null,null,null,null,null,null,null,null,null,null,null,null],[null,null,null,null,null,null,null,null,null,null,null,null,null,null,null,null,null,null,null,null,null,null,null,null,null,null,null,null,null,null,null,null,null,null,null,null,null,null,null,null,null,null,null,null,null,null,null,null,null,null,null,null,null,null,null,null,null,null,null,null,null,null,null,null,null,null,0.9587324393358876,null,null,null,null,null,null,null,null,null,null,null,null,null,null,null,null,null,null,null,null,null,null,null,null,null,null,null,null,null,null,null,null,null,null,null],[null,null,null,null,null,null,null,null,null,null,null,null,null,null,null,null,null,null,null,null,null,null,null,null,null,null,null,null,null,null,null,null,null,null,null,null,null,null,null,null,null,null,null,null,null,null,null,null,null,null,null,null,null,null,0.9393322593753628,null,null,null,null,null,null,null,null,null,null,null,null,null,null,null,null,null,null,null,null,null,null,null,null,null,null,null,null,null,null,null,null,null,null,null,null,null,null,null,null,null,null,null,null,null,null,null],[null,null,null,null,null,null,null,null,null,null,null,null,null,null,null,null,null,null,null,null,null,null,null,0.9380551201671891,null,null,null,null,null,null,null,null,null,null,null,null,null,null,null,null,null,null,null,null,null,null,null,null,null,null,null,null,null,null,null,null,null,null,null,null,null,null,null,null,null,null,null,null,null,null,null,null,null,null,null,null,null,null,null,null,null,null,null,null,null,null,null,null,null,null,null,null,null,null,null,null,null,null,null,null,null,null],[null,null,null,null,null,null,null,null,null,null,null,null,null,null,null,null,null,null,null,null,null,null,null,null,null,null,null,null,null,null,null,null,null,null,null,null,null,null,null,null,null,null,null,null,null,null,null,null,null,null,null,null,null,null,null,null,null,null,null,0.9393322593753628,null,null,null,null,null,null,null,null,null,null,null,null,null,null,null,null,null,null,null,null,null,null,null,null,null,null,null,null,null,null,null,null,null,null,null,null,null,null,null,null,null,null],[null,null,null,null,null,null,null,null,null,null,null,null,null,null,null,null,null,null,null,null,null,null,null,null,null,null,null,null,null,null,null,null,null,null,null,null,null,null,null,0.9383852896783931,null,null,null,null,null,null,null,null,null,null,null,null,null,null,null,null,null,null,null,null,null,null,null,null,null,null,null,null,null,null,null,null,null,null,null,null,null,null,null,null,null,null,null,null,null,null,null,null,null,null,null,null,null,null,null,null,null,null,null,null,null,null],[null,null,null,null,null,null,null,null,null,null,null,null,null,null,null,null,null,null,null,null,null,0.9380551201671891,null,null,null,null,null,null,null,null,null,null,null,null,null,null,null,null,null,null,null,null,null,null,null,null,null,null,null,null,null,null,null,null,null,null,null,null,null,null,null,null,null,null,null,null,null,null,null,null,null,null,null,null,null,null,null,null,null,null,null,null,null,null,null,null,null,null,null,null,null,null,null,null,null,null,null,null,null,null,null,null],[null,null,null,null,null,null,null,null,null,null,null,null,null,null,null,null,null,null,null,null,null,null,null,null,null,null,null,null,null,null,null,null,null,null,null,null,null,null,null,null,null,null,null,null,null,null,null,null,null,null,null,null,null,null,null,null,null,null,null,null,null,null,null,null,null,null,null,null,null,null,null,null,null,null,null,null,null,null,null,null,null,null,null,null,null,null,null,null,null,null,null,null,null,0.9815903285730873,null,null,null,null,null,null,null,null],[null,null,null,null,null,null,null,null,null,null,null,null,null,null,null,null,null,null,null,null,null,null,null,null,null,null,null,null,null,null,null,null,null,null,null,null,null,null,null,null,null,null,null,null,null,null,null,null,null,null,null,null,null,null,null,null,null,null,null,null,0.9393322593753628,null,null,null,null,null,null,null,null,null,null,null,null,null,null,null,null,null,null,null,null,null,null,null,null,null,null,null,null,null,null,null,null,null,null,null,null,null,null,null,null,null],[null,null,null,null,null,null,null,null,null,null,null,null,null,null,null,null,null,null,null,null,null,null,0.9380551201671891,null,null,null,null,null,null,null,null,null,null,null,null,null,null,null,null,null,null,null,null,null,null,null,null,null,null,null,null,null,null,null,null,null,null,null,null,null,null,null,null,null,null,null,null,null,null,null,null,null,null,null,null,null,null,null,null,null,null,null,null,null,null,null,null,null,null,null,null,null,null,null,null,null,null,null,null,null,null,null],[null,null,null,null,null,null,null,null,null,null,null,null,null,null,null,null,null,null,null,null,null,null,null,null,null,null,null,null,null,null,null,null,null,null,null,null,null,null,null,null,null,null,null,null,null,null,null,null,null,null,null,null,null,null,null,null,null,null,null,null,null,null,null,null,null,0.9587324393358876,null,null,null,null,null,null,null,null,null,null,null,null,null,null,null,null,null,null,null,null,null,null,null,null,null,null,null,null,null,null,null,null,null,null,null,null],[null,null,null,null,null,null,null,null,null,null,0.9380551201671891,null,null,null,null,null,null,null,null,null,null,null,null,null,null,null,null,null,null,null,null,null,null,null,null,null,null,null,null,null,null,null,null,null,null,null,null,null,null,null,null,null,null,null,null,null,null,null,null,null,null,null,null,null,null,null,null,null,null,null,null,null,null,null,null,null,null,null,null,null,null,null,null,null,null,null,null,null,null,null,null,null,null,null,null,null,null,null,null,null,null,null],[null,null,null,0.9402792290723325,null,null,null,null,null,null,null,null,null,null,null,null,null,null,null,null,null,null,null,null,null,null,null,null,null,null,null,null,null,null,null,null,null,null,null,null,null,null,null,null,null,null,null,null,null,null,null,null,null,null,null,null,null,null,null,null,null,null,null,null,null,null,null,null,null,null,null,null,null,null,null,null,null,null,null,null,null,null,null,null,null,null,null,null,null,null,null,null,null,null,null,null,null,null,null,null,null,null],[null,null,null,null,null,null,null,null,null,null,null,null,null,null,null,null,null,null,null,null,null,null,null,null,null,null,null,null,null,null,null,null,null,null,null,null,null,null,null,null,null,null,null,null,null,null,0.9393322593753628,null,null,null,null,null,null,null,null,null,null,null,null,null,null,null,null,null,null,null,null,null,null,null,null,null,null,null,null,null,null,null,null,null,null,null,null,null,null,null,null,null,null,null,null,null,null,null,null,null,null,null,null,null,null,null],[null,null,null,null,0.9402792290723325,null,null,null,null,null,null,null,null,null,null,null,null,null,null,null,null,null,null,null,null,null,null,null,null,null,null,null,null,null,null,null,null,null,null,null,null,null,null,null,null,null,null,null,null,null,null,null,null,null,null,null,null,null,null,null,null,null,null,null,null,null,null,null,null,null,null,null,null,null,null,null,null,null,null,null,null,null,null,null,null,null,null,null,null,null,null,null,null,null,null,null,null,null,null,null,null,null],[null,null,null,null,null,null,null,null,null,null,null,null,null,null,null,null,null,null,null,null,null,null,null,null,null,null,null,null,null,null,null,null,null,null,null,null,null,null,null,null,null,null,null,null,null,null,null,null,null,null,null,null,null,null,null,null,null,null,null,null,null,null,null,null,null,null,null,null,null,null,null,null,null,null,null,null,null,null,null,null,null,null,null,0.988879455474283,null,null,null,null,null,null,null,null,null,null,null,null,null,null,null,null,null,null],[null,null,null,null,null,null,null,null,null,null,null,null,null,null,null,0.9402792290723325,null,null,null,null,null,null,null,null,null,null,null,null,null,null,null,null,null,null,null,null,null,null,null,null,null,null,null,null,null,null,null,null,null,null,null,null,null,null,null,null,null,null,null,null,null,null,null,null,null,null,null,null,null,null,null,null,null,null,null,null,null,null,null,null,null,null,null,null,null,null,null,null,null,null,null,null,null,null,null,null,null,null,null,null,null,null],[null,null,null,null,null,null,null,null,null,null,null,0.9380551201671891,null,null,null,null,null,null,null,null,null,null,null,null,null,null,null,null,null,null,null,null,null,null,null,null,null,null,null,null,null,null,null,null,null,null,null,null,null,null,null,null,null,null,null,null,null,null,null,null,null,null,null,null,null,null,null,null,null,null,null,null,null,null,null,null,null,null,null,null,null,null,null,null,null,null,null,null,null,null,null,null,null,null,null,null,null,null,null,null,null,null],[null,null,null,null,null,null,null,null,null,null,null,null,null,null,null,null,null,null,null,null,null,null,null,null,null,null,null,null,null,null,null,null,null,null,null,null,null,null,null,null,null,null,null,null,null,null,null,null,null,null,null,null,null,null,null,null,null,null,null,null,null,null,null,null,null,null,null,0.9600095785440613,null,null,null,null,null,null,null,null,null,null,null,null,null,null,null,null,null,null,null,null,null,null,null,null,null,null,null,null,null,null,null,null,null,null],[null,null,null,null,null,null,null,null,null,null,null,null,null,null,null,null,null,null,null,null,null,null,null,null,0.9380551201671891,null,null,null,null,null,null,null,null,null,null,null,null,null,null,null,null,null,null,null,null,null,null,null,null,null,null,null,null,null,null,null,null,null,null,null,null,null,null,null,null,null,null,null,null,null,null,null,null,null,null,null,null,null,null,null,null,null,null,null,null,null,null,null,null,null,null,null,null,null,null,null,null,null,null,null,null,null],[null,null,0.9920505340763962,null,null,null,null,null,null,null,null,null,null,null,null,null,null,null,null,null,null,null,null,null,null,null,null,null,null,null,null,null,null,null,null,null,null,null,null,null,null,null,null,null,null,null,null,null,null,null,null,null,null,null,null,null,null,null,null,null,null,null,null,null,null,null,null,null,null,null,null,null,null,null,null,null,null,null,null,null,null,null,null,null,null,null,null,null,null,null,null,null,null,null,null,null,null,null,null,null,null,null],[null,null,null,null,null,null,0.9920505340763962,null,null,null,null,null,null,null,null,null,null,null,null,null,null,null,null,null,null,null,null,null,null,null,null,null,null,null,null,null,null,null,null,null,null,null,null,null,null,null,null,null,null,null,null,null,null,null,null,null,null,null,null,null,null,null,null,null,null,null,null,null,null,null,null,null,null,null,null,null,null,null,null,null,null,null,null,null,null,null,null,null,null,null,null,null,null,null,null,null,null,null,null,null,null,null],[null,null,null,null,null,null,null,null,null,null,null,null,null,null,null,null,null,null,null,null,null,null,null,null,null,null,null,null,null,null,null,null,null,null,null,null,null,null,null,null,null,null,null,null,null,null,null,null,null,null,null,null,null,null,null,null,null,null,null,null,null,null,null,null,null,null,null,null,null,null,0.9933276732845698,null,null,null,null,null,null,null,null,null,null,null,null,null,null,null,null,null,null,null,null,null,null,null,null,null,null,null,null,null,null,null],[null,null,null,null,null,null,null,null,null,null,null,null,null,null,null,null,null,null,null,null,null,null,null,null,null,null,null,null,null,null,null,null,null,null,null,null,null,null,null,null,0.9923807035876001,null,null,null,null,null,null,null,null,null,null,null,null,null,null,null,null,null,null,null,null,null,null,null,null,null,null,null,null,null,null,null,null,null,null,null,null,null,null,null,null,null,null,null,null,null,null,null,null,null,null,null,null,null,null,null,null,null,null,null,null,null],[null,null,null,null,null,null,null,null,null,null,null,null,null,null,null,null,null,null,null,null,null,null,null,null,null,null,null,null,null,null,null,null,null,null,null,null,null,null,null,null,null,null,null,null,null,null,null,null,null,null,null,null,null,null,null,0.9920505340763962,null,null,null,null,null,null,null,null,null,null,null,null,null,null,null,null,null,null,null,null,null,null,null,null,null,null,null,null,null,null,null,null,null,null,null,null,null,null,null,null,null,null,null,null,null,null],[null,null,null,null,null,null,null,null,null,null,null,null,null,null,null,null,null,null,null,null,null,null,null,null,null,null,null,null,null,null,null,null,null,null,null,null,null,null,null,null,null,null,null,null,null,null,null,null,null,null,null,null,null,null,null,null,null,null,null,null,null,null,null,null,null,null,null,null,null,null,null,null,null,null,null,0.9911035643794265,null,null,null,null,null,null,null,null,null,null,null,null,null,null,null,null,null,null,null,null,null,null,null,null,null,null],[null,null,null,null,null,null,null,null,null,null,null,null,null,null,null,null,null,null,null,null,null,null,null,null,null,null,null,null,null,null,null,null,null,null,null,null,null,null,null,null,null,null,null,null,null,null,null,null,null,null,null,null,null,null,null,null,null,null,null,null,null,null,null,null,null,null,null,null,null,null,null,null,null,null,null,null,null,0.9911035643794265,null,null,null,null,null,null,null,null,null,null,null,null,null,null,null,null,null,null,null,null,null,null,null,null],[null,null,null,null,null,null,null,null,null,null,null,null,null,null,null,null,null,null,null,null,null,null,null,null,null,null,null,null,null,null,null,null,null,null,null,null,null,null,null,null,null,null,null,null,null,null,null,null,null,null,null,null,null,null,null,null,null,null,null,null,null,null,null,null,null,null,null,null,null,null,null,null,null,null,0.9911035643794265,null,null,null,null,null,null,null,null,null,null,null,null,null,null,null,null,null,null,null,null,null,null,null,null,null,null,null],[null,null,null,null,null,null,null,null,null,null,null,null,null,null,null,null,null,null,null,null,null,null,null,null,null,null,null,null,null,null,null,null,null,null,null,null,null,null,null,null,null,null,null,null,null,null,null,null,null,null,null,null,null,null,null,null,null,null,null,null,null,null,null,null,null,null,null,null,null,0.9933276732845698,null,null,null,null,null,null,null,null,null,null,null,null,null,null,null,null,null,null,null,null,null,null,null,null,null,null,null,null,null,null,null,null],[null,null,null,null,null,null,null,null,null,null,null,null,null,null,null,null,null,null,null,null,null,null,null,null,null,null,null,null,null,null,null,null,null,null,null,null,null,null,null,null,null,null,null,null,null,null,null,null,null,null,null,null,null,null,null,null,null,null,null,null,null,null,null,null,null,null,null,null,null,null,null,null,null,null,null,null,null,null,null,null,null,null,null,null,null,null,null,null,null,null,null,null,null,null,null,null,null,null,null,null,null,null]],\"type\":\"contour\",\"xaxis\":\"x7\",\"yaxis\":\"y7\"},{\"marker\":{\"color\":\"black\",\"line\":{\"color\":\"Grey\",\"width\":2.0}},\"mode\":\"markers\",\"showlegend\":false,\"x\":[0.0035100225034122587,0.06044108530503717,0.05117097994602003,0.0017526459038934206,0.04730015291090741,0.6071802721812887,0.06805156091055424,0.043251583333154174,0.01517184332429048,0.02973502039467869,0.40638677662363126,0.9339651412812896,0.20973128772658298,0.007090577955257333,0.921569392437394,0.9882774582089302,0.20456026722007212,0.20474535628128093,0.9797172338878688,0.3010320251851733,0.1130468657232294,0.9028536898580939,0.4920429058871023,0.9048862357897041,0.5276903440717914,0.11196224935501041,0.320291118804541,0.12433581253390125,0.6305796194386968,0.0011603028791936439,0.0015604432596561123,0.0013327952589450812,0.0012164794579388328,0.0010332587609815055,0.0023462179207158766,0.0025437148043958298,0.004405058160638876,0.0018668240504225687,0.005057240810102104,0.0016077302717296782,0.01157008229068338,0.0015817287502271314,0.0014578392512450177,0.0024223286691275815,0.0029703812840763894,0.001920877300071056,0.0014079716298844756,0.004576523763264509,0.0034827700113191666,0.007502519983666527,0.0019114209814252994,0.001464708575830703,0.001298853925658958,0.0010054989778286872,0.001281216537726556,0.0019043216144904824,0.031919681277843524,0.003298896731344554,0.006009359517501574,0.0022498006341152067,0.001239698374764681,0.0016075965963191162,0.0014492789641041587,0.002776077488860619,0.001917789449811928,0.004051695852770575,0.0010126380473999873,0.0017885581050604506,0.009139704253759616,0.01709602768971001,0.0012407304610466787,0.0016646637513757694,0.0020745074137178865,0.002802911748864269,0.0015905552470339315,0.0012139067899170294,0.0012433814774598594,0.001013219628987948,0.0024598892013561304,0.0038577361938431317,0.0013816022572488867,0.0017057230871074395,0.0022206136235321614,0.00299555129800087,0.0016366639388812726,0.0012244834475361103,0.0011519094932388666,0.0014705926842589624,0.0011545978814094112,0.0020851757820818054,0.0014028295980928727,0.001350923824878732,0.0013382097144481143,0.0011866859001563228,0.0011870376384079688,0.0011170900375099776,0.001347722138704087,0.0013744380274322708,0.0026201441718044552,0.0010085276030225225],\"y\":[0.21415090864421538,0.6183393588449764,0.4955369632048551,0.788978516971918,0.568294483140127,0.6556197253048618,0.2607889147849083,0.8523481450304584,0.204774480443911,0.8360473509089751,0.017580688489167495,0.5757439050260932,0.4488454617366379,0.9952093161971984,0.38339108949162204,0.3783573261733709,0.34984621050070874,0.06816336891752811,0.3812048520012899,0.32849684093107323,0.7119336364696917,0.40807126783660513,0.4349571648534177,0.14398133150202946,0.10049784955749624,0.1593846010272439,0.29672281325955074,0.15126241832766066,0.26416092485356324,0.5132970523636197,0.5160236769414953,0.5092078421491011,0.5338748881897236,0.5285673188017547,0.5007804842610596,0.6407318944735574,0.6689369496786249,0.5713665262806743,0.7433079148027768,0.5798110120732055,0.5998177595923543,0.5541032239886347,0.47236892283818005,0.6001451314072975,0.5439822707982183,0.6918376929042345,0.47510381887388714,0.6285602450364968,0.558543528735306,0.7859876823522647,0.4498469702653812,0.549603941867679,0.5142624875562325,0.5965404882282515,0.42551230238691107,0.5055792514244312,0.47195833963891576,0.6563530269436376,0.5318771803427904,0.5626118616721701,0.7333452823069315,0.5949045962331351,0.4151934158649231,0.5654121430073455,0.6277274858591582,0.5027387659451736,0.6804996735359335,0.597445562021935,0.34436190380217346,0.9159475911651482,0.4016280929421766,0.5280571140194011,0.6117362226707697,0.4554702007383124,0.5280094666448093,0.5864911850300679,0.48849997770484743,0.7065391776212664,0.5749517640392326,0.5499290449649915,0.4869666343737278,0.6492270352513785,0.597135804237003,0.6484835841878254,0.5403879445077471,0.5761321439567597,0.6255691604899822,0.5842545370554068,0.4517383848232247,0.5050775587324385,0.5703512800948547,0.6417269630589296,0.6535086921831352,0.6695991980888816,0.7370566535133063,0.7778851703645735,0.6678651196850418,0.7442498731185044,0.8324234134793864,0.7519243294942659],\"type\":\"scatter\",\"xaxis\":\"x7\",\"yaxis\":\"y7\"},{\"type\":\"scatter\",\"xaxis\":\"x11\",\"yaxis\":\"y11\"},{\"colorbar\":{\"title\":{\"text\":\"Objective Value\"}},\"colorscale\":[[0.0,\"rgb(247,251,255)\"],[0.125,\"rgb(222,235,247)\"],[0.25,\"rgb(198,219,239)\"],[0.375,\"rgb(158,202,225)\"],[0.5,\"rgb(107,174,214)\"],[0.625,\"rgb(66,146,198)\"],[0.75,\"rgb(33,113,181)\"],[0.875,\"rgb(8,81,156)\"],[1.0,\"rgb(8,48,107)\"]],\"connectgaps\":true,\"contours\":{\"coloring\":\"heatmap\"},\"hoverinfo\":\"none\",\"line\":{\"smoothing\":1.3},\"reversescale\":true,\"showscale\":false,\"x\":[0.0007124539040580717,0.0010054989778286872,0.0010085276030225225,0.0010126380473999873,0.001013219628987948,0.0010332587609815055,0.0011170900375099776,0.0011519094932388666,0.0011545978814094112,0.0011603028791936439,0.0011866859001563228,0.0011870376384079688,0.0012139067899170294,0.0012164794579388328,0.0012244834475361103,0.001239698374764681,0.0012407304610466787,0.0012433814774598594,0.001281216537726556,0.001298853925658958,0.0013327952589450812,0.0013382097144481143,0.001347722138704087,0.001350923824878732,0.0013744380274322708,0.0013816022572488867,0.0014028295980928727,0.0014079716298844756,0.0014492789641041587,0.0014578392512450177,0.001464708575830703,0.0014705926842589624,0.0015604432596561123,0.0015817287502271314,0.0015905552470339315,0.0016075965963191162,0.0016077302717296782,0.0016366639388812726,0.0016646637513757694,0.0017057230871074395,0.0017526459038934206,0.0017885581050604506,0.0018668240504225687,0.0019043216144904824,0.0019114209814252994,0.001917789449811928,0.001920877300071056,0.0020745074137178865,0.0020851757820818054,0.0022206136235321614,0.0022498006341152067,0.0023462179207158766,0.0024223286691275815,0.0024598892013561304,0.0025437148043958298,0.0026201441718044552,0.002776077488860619,0.002802911748864269,0.0029703812840763894,0.00299555129800087,0.003298896731344554,0.0034827700113191666,0.0035100225034122587,0.0038577361938431317,0.004051695852770575,0.004405058160638876,0.004576523763264509,0.005057240810102104,0.006009359517501574,0.007090577955257333,0.007502519983666527,0.009139704253759616,0.01157008229068338,0.01517184332429048,0.01709602768971001,0.02973502039467869,0.031919681277843524,0.043251583333154174,0.04730015291090741,0.05117097994602003,0.06044108530503717,0.06805156091055424,0.11196224935501041,0.1130468657232294,0.12433581253390125,0.20456026722007212,0.20474535628128093,0.20973128772658298,0.3010320251851733,0.320291118804541,0.40638677662363126,0.4920429058871023,0.5276903440717914,0.6071802721812887,0.6305796194386968,0.9028536898580939,0.9048862357897041,0.921569392437394,0.9339651412812896,0.9797172338878688,0.9882774582089302,1.3947737086990761],\"y\":[6.55,11,12,17,22,25,26,30,32,37,38,42,47,49,52,53,54,59,60,62,63,64,65,66,68,70,71,73,74,76,77,78,79,80,81,82,83,84,85,86,87,88,89,90,91,92,94,95,96,97,98,99,100,104.45],\"z\":[[null,null,null,null,null,null,null,null,null,null,null,null,null,null,null,null,null,null,null,null,null,null,null,null,null,null,null,null,null,null,null,null,null,null,null,null,null,null,null,null,null,null,null,null,null,null,null,null,null,null,null,null,null,null,null,null,null,null,null,null,null,null,null,null,null,null,null,null,null,null,null,null,null,null,null,null,null,null,null,null,null,null,null,null,null,null,null,null,null,null,null,null,null,null,null,null,null,null,null,null,null,null],[null,null,null,null,null,null,null,null,null,null,null,null,null,null,null,null,null,null,null,null,null,null,null,null,null,null,null,null,null,null,null,null,null,null,null,null,null,null,null,null,null,null,null,null,null,null,null,null,null,null,null,null,null,null,null,null,null,null,null,null,null,null,null,null,null,null,null,null,null,null,null,null,null,null,null,null,null,null,null,null,null,null,null,null,null,null,null,null,null,null,0.9866553465691398,null,null,null,null,null,null,null,null,null,null,null],[null,null,null,null,null,null,null,null,null,null,null,null,null,null,null,null,null,null,null,null,null,null,null,null,null,null,null,null,null,null,null,null,null,null,null,null,null,null,null,null,null,null,null,null,null,null,null,null,null,null,null,null,null,null,null,null,null,null,null,null,null,null,null,null,null,null,null,null,null,null,null,null,null,null,null,null,null,null,null,null,null,null,null,null,null,null,null,0.9911035643794266,null,null,null,null,null,null,null,null,null,null,null,null,null,null],[null,null,null,null,null,null,null,null,null,null,null,null,null,null,null,null,null,null,null,null,null,null,null,null,null,null,null,null,null,null,null,null,null,null,null,null,null,null,null,null,null,null,null,null,null,null,null,null,null,null,null,null,null,null,null,null,null,null,null,null,null,null,null,null,null,null,null,null,null,null,null,null,null,null,null,null,null,null,null,null,null,null,null,null,null,null,null,null,null,null,null,null,null,null,null,null,null,null,0.9721206316033904,null,null,null],[null,null,null,null,null,null,null,null,null,null,null,null,null,null,null,null,null,null,null,null,null,null,null,null,null,null,null,null,null,null,null,null,null,null,null,null,null,null,null,null,null,null,null,null,null,null,null,null,null,null,null,null,null,null,null,null,null,null,null,null,null,null,null,null,null,null,null,null,null,null,null,null,null,null,null,null,null,null,null,null,null,null,null,null,null,null,null,null,null,null,null,null,null,0.9815903285730873,null,null,null,null,null,null,0.9698965226982468,null],[null,null,null,null,null,null,null,null,null,null,null,null,null,null,null,null,null,null,null,null,null,null,null,null,null,null,null,null,null,null,null,null,null,null,null,null,null,null,null,null,null,null,null,null,null,null,null,null,null,null,null,null,null,null,null,null,null,null,null,null,null,null,null,null,null,null,null,null,null,null,null,null,null,null,null,null,null,null,null,null,null,null,null,null,null,0.9911035643794266,null,null,null,null,null,null,null,null,null,null,null,null,null,null,null,null],[null,null,null,null,null,null,null,null,null,null,null,null,null,null,null,null,null,null,null,null,null,null,null,null,null,null,null,null,null,null,null,null,null,null,null,null,null,null,null,null,null,null,null,null,null,null,null,null,null,null,null,null,null,null,null,null,null,null,null,null,null,null,null,null,null,null,null,null,null,null,null,null,null,null,null,null,null,null,null,null,null,null,null,null,null,null,null,null,null,null,null,null,null,null,null,null,null,0.9721206316033902,null,null,null,null],[null,null,null,null,null,null,null,null,null,null,null,null,null,null,null,null,null,null,null,null,null,null,null,null,null,null,null,null,null,null,null,null,null,null,null,null,null,null,null,null,0.9923807035876001,null,null,null,null,null,null,null,null,null,null,null,null,null,null,null,null,null,null,null,null,null,null,null,null,null,null,null,null,null,null,null,null,null,null,null,null,null,null,null,null,null,null,null,null,null,null,null,null,null,null,null,null,null,null,null,null,null,null,null,null,null],[null,null,null,null,null,null,null,null,null,null,null,null,null,null,null,null,null,null,null,null,null,null,null,null,null,null,null,null,null,null,null,null,null,null,null,null,null,null,null,null,null,null,null,null,null,null,null,null,null,null,null,null,null,null,null,null,null,null,null,null,null,null,null,null,null,null,null,null,null,null,null,null,null,null,null,null,null,null,0.975578340880065,null,null,null,null,null,null,null,null,null,null,null,null,null,null,null,null,null,null,null,null,null,null,null],[null,null,null,null,null,null,null,null,null,null,null,null,null,null,null,0.9402792290723325,null,null,null,null,null,null,null,null,null,null,null,null,null,null,null,null,null,null,null,null,null,null,null,null,null,null,null,null,null,null,null,null,null,null,null,null,null,null,null,null,null,null,null,null,null,null,null,null,null,null,null,null,null,null,null,null,null,null,null,null,null,null,null,null,null,null,null,null,null,null,null,null,null,null,null,null,null,null,null,null,null,null,null,null,null,null],[null,null,null,null,null,null,null,null,null,null,null,null,null,null,null,null,null,null,null,null,null,null,null,null,null,null,null,null,null,null,null,null,null,null,null,null,null,null,null,null,null,null,null,null,null,null,null,null,null,null,null,null,null,null,null,null,null,null,null,null,null,null,null,null,null,null,null,null,null,null,null,null,null,null,null,0.9911035643794265,null,null,null,null,null,null,null,null,null,null,null,null,null,null,null,null,null,null,null,null,null,null,null,null,null,null],[null,null,0.9920505340763962,null,null,null,null,null,null,null,null,null,null,null,null,null,null,null,null,null,null,null,null,null,null,null,null,null,null,null,null,null,null,null,null,null,null,null,null,null,null,null,null,null,null,null,null,null,null,null,null,null,null,null,null,null,null,null,null,null,null,null,null,null,null,null,null,null,null,null,null,null,null,null,null,null,null,null,null,null,null,0.9911035643794266,null,null,null,null,null,null,null,null,null,null,null,null,null,null,null,null,null,null,null,null],[null,null,null,null,null,null,null,0.9393322593753628,null,null,null,null,null,null,null,null,null,null,null,null,null,null,null,null,null,null,null,0.9901565946824569,null,null,null,null,null,null,null,null,null,null,null,null,null,null,null,null,null,null,null,null,null,null,null,null,null,null,null,null,null,null,null,null,null,null,null,null,null,null,null,null,null,null,null,null,null,null,null,null,null,null,null,null,0.9911035643794266,null,null,null,null,null,null,null,null,null,null,null,null,null,null,null,null,null,null,null,null,null],[null,null,null,null,null,null,null,null,null,null,null,null,null,null,null,null,null,null,null,null,null,null,null,null,0.9380551201671891,null,null,null,null,null,null,null,null,null,null,null,null,null,null,null,null,null,null,null,null,null,null,null,null,null,null,null,null,null,null,0.9920505340763962,null,null,null,null,null,null,null,null,null,null,null,null,null,null,null,null,null,null,null,null,null,null,null,null,null,null,null,null,null,null,null,null,null,null,null,null,null,null,null,null,null,null,null,null,null,null],[null,null,null,null,null,null,null,null,null,null,null,null,null,null,null,null,null,null,null,null,null,null,null,null,null,null,null,null,null,null,null,null,null,null,null,null,null,null,null,null,null,null,null,null,null,null,null,null,null,null,null,null,null,null,null,null,null,null,null,null,null,null,null,null,null,null,null,null,null,null,null,null,null,0.9920505340763962,null,null,null,null,null,null,null,null,null,null,null,null,null,null,null,null,null,null,null,null,null,null,null,null,null,null,null,null],[null,null,null,null,null,null,null,null,null,null,null,null,null,null,null,null,null,null,null,null,null,null,0.9380551201671891,null,null,null,null,null,null,null,null,null,null,null,null,null,null,null,null,null,null,null,null,null,null,null,null,null,null,null,null,null,null,null,null,null,null,null,null,null,null,null,null,null,null,null,null,null,null,null,null,null,null,null,null,null,null,null,null,null,null,null,null,null,null,null,null,null,null,null,null,null,null,null,null,null,null,null,null,null,null,null],[null,null,null,null,null,null,null,null,null,null,null,null,null,null,null,null,0.9901565946824569,null,null,null,null,null,null,null,null,null,null,null,null,null,null,null,null,null,null,null,null,null,null,null,null,null,null,null,null,null,null,null,null,null,null,null,null,null,null,null,null,null,null,null,null,null,null,null,null,null,null,null,null,null,null,null,null,null,null,null,null,null,null,null,null,null,null,null,null,null,null,null,null,null,null,null,null,null,null,null,null,null,null,null,null,null],[null,null,null,null,null,null,null,null,0.9901565946824569,null,null,null,null,null,null,null,null,null,null,null,null,null,null,null,null,null,null,null,null,null,null,0.9402792290723325,null,null,null,null,null,null,null,null,null,null,null,null,null,null,null,null,null,null,null,null,null,null,null,null,null,null,null,null,null,null,null,null,null,null,null,null,null,null,null,null,null,null,null,null,null,null,null,null,null,null,null,null,null,null,null,null,null,null,null,null,null,null,null,null,null,null,null,null,null,null],[null,null,null,null,null,null,null,null,null,null,null,null,null,null,0.9380551201671891,null,null,null,null,null,null,null,null,null,null,null,null,null,null,null,null,null,null,null,null,null,null,null,null,null,null,null,null,null,null,null,null,null,null,null,null,null,null,null,null,null,null,null,null,null,null,null,null,null,null,null,null,null,null,null,null,null,null,null,null,null,null,null,null,null,null,null,null,null,null,null,null,null,null,null,null,null,null,null,0.9708434923952165,null,null,null,null,null,null,null],[null,null,null,null,null,null,0.9920505340763962,null,null,null,0.9380551201671891,null,null,null,null,null,null,null,null,null,null,0.9380551201671891,null,null,null,null,null,null,null,null,null,null,null,null,null,null,null,null,null,null,null,null,null,null,null,null,null,null,null,null,null,null,null,null,null,null,null,null,null,null,null,null,null,null,null,null,null,null,null,null,null,null,null,null,null,null,null,null,null,null,null,null,null,null,null,null,null,null,null,null,null,null,null,null,null,null,null,null,null,null,null,null],[null,null,null,null,null,null,null,null,null,null,null,0.9380551201671891,null,null,null,null,null,null,null,null,null,null,null,null,null,null,null,null,null,null,null,null,null,null,null,null,null,null,null,null,null,null,null,null,null,null,null,null,null,null,null,null,null,null,null,null,null,null,null,null,null,null,null,null,null,null,null,null,null,null,null,null,null,null,null,null,null,null,null,null,null,null,null,null,null,null,null,null,null,null,null,null,null,null,null,null,null,null,null,null,null,null],[null,null,null,null,null,null,null,null,null,null,null,null,null,null,null,null,null,null,null,null,null,null,null,null,null,null,null,null,null,null,null,null,null,null,null,null,null,null,null,null,null,null,null,null,null,null,null,null,null,null,null,null,null,null,null,null,null,null,null,null,null,null,null,null,null,null,null,null,null,null,null,null,null,null,null,null,null,null,null,null,null,null,null,null,null,null,0.9911035643794266,null,null,null,null,null,null,null,null,null,null,null,null,null,null,null],[null,null,null,null,null,null,null,null,null,null,null,null,null,null,null,null,null,null,null,null,null,null,null,null,null,null,null,null,null,null,null,null,null,null,null,null,null,null,null,null,null,null,null,null,null,null,null,null,null,null,null,null,null,null,null,null,null,null,null,null,null,null,null,null,null,null,null,null,null,0.9933276732845698,null,null,null,null,null,null,null,0.9911035643794265,null,null,null,null,null,null,null,null,null,null,null,null,null,null,null,null,null,null,null,null,null,null,null,null],[null,null,null,null,null,null,null,null,null,null,null,null,null,null,null,null,null,null,null,null,null,null,null,null,null,null,null,null,null,null,null,null,null,null,null,null,null,null,null,null,null,null,null,null,null,null,null,null,null,null,0.9393322593753628,null,null,null,null,null,null,null,null,null,null,null,null,null,null,null,null,null,null,null,null,null,null,null,null,null,null,null,null,null,null,null,null,null,null,null,null,null,null,null,null,null,null,null,null,null,null,null,null,null,null,null],[null,null,null,null,null,null,null,null,null,null,null,null,null,null,null,null,null,null,null,null,null,null,null,null,null,0.9901565946824569,null,null,null,null,null,null,null,null,null,null,null,null,null,null,null,null,null,null,null,null,null,null,null,null,null,null,null,null,null,null,null,null,null,null,null,null,null,null,null,null,null,null,null,null,null,null,null,null,null,null,null,null,null,null,null,null,null,null,null,null,null,null,null,null,null,null,null,null,null,null,null,null,null,null,null,null],[null,null,null,null,null,null,null,null,null,null,null,null,null,null,null,null,null,null,null,null,null,null,null,null,null,null,null,null,null,0.9901565946824569,null,null,null,null,null,null,null,null,null,null,null,null,null,null,null,null,null,null,null,null,null,null,null,null,null,null,null,null,null,null,null,null,null,null,null,null,null,null,null,null,null,null,null,null,null,null,null,null,null,null,null,null,null,null,0.9866553465691398,null,null,null,null,null,null,null,null,null,null,null,null,null,null,null,null,null],[null,null,null,null,null,null,null,null,null,null,null,null,null,null,null,null,null,null,null,null,null,null,null,null,null,null,null,null,null,null,null,null,null,null,null,null,null,null,null,null,null,null,null,null,null,null,0.9393322593753628,null,null,null,null,null,null,null,null,null,null,null,null,null,null,null,null,null,null,null,null,null,null,null,null,null,null,null,null,null,null,null,null,null,null,null,null,null,null,null,null,null,null,null,null,null,null,null,null,null,null,null,null,null,null,null],[null,null,null,null,null,null,null,null,null,null,null,null,null,null,null,null,null,null,null,null,null,null,null,null,null,null,null,null,null,null,null,null,null,null,null,null,null,null,null,null,null,null,null,null,null,null,null,null,0.9393322593753628,null,null,null,null,null,null,null,null,null,null,null,null,null,null,null,null,null,null,null,0.9628504876349705,null,null,null,null,null,null,null,null,null,null,null,null,null,null,null,null,null,null,null,null,null,null,null,null,null,null,null,null,null,null,null,null,null],[null,null,null,null,null,null,null,null,null,null,null,null,null,null,null,null,null,null,null,null,null,null,null,null,null,null,null,null,null,null,null,null,null,null,null,null,null,null,null,null,null,null,null,null,null,null,null,null,null,null,null,null,null,null,null,null,null,null,null,null,null,null,null,null,null,null,null,null,null,null,null,null,null,null,null,null,null,null,null,null,null,null,null,null,null,null,null,null,null,null,null,null,0.9721206316033902,null,null,null,null,null,null,null,null,null],[null,null,null,null,0.9402792290723325,null,null,null,null,null,null,null,null,null,null,null,null,null,null,null,null,null,null,null,null,null,null,null,null,null,null,null,null,null,null,null,null,null,null,null,null,null,null,null,null,null,null,null,null,null,null,null,null,null,null,null,null,null,null,null,null,null,null,null,null,null,null,null,null,null,null,null,null,null,null,null,null,null,null,null,null,null,null,null,null,null,null,null,null,null,null,0.9721206316033902,null,null,null,null,0.9667254440961338,null,null,null,null,null],[null,null,null,null,null,null,null,null,null,null,null,null,null,null,null,null,null,null,null,null,null,null,null,null,null,null,null,null,null,null,null,null,null,null,null,null,null,null,null,null,null,null,null,null,null,null,null,null,null,null,null,null,null,null,null,null,null,null,null,null,null,null,null,null,null,null,null,null,null,null,null,null,null,null,null,null,null,null,null,null,null,null,null,0.988879455474283,null,null,null,null,null,null,null,null,null,null,null,null,null,null,null,0.9667254440961338,null,null],[null,null,null,null,null,null,null,null,null,null,null,null,0.9380551201671891,null,null,null,null,null,null,null,null,null,null,null,null,null,null,null,null,null,null,null,null,null,null,null,null,null,null,null,null,null,null,null,null,null,null,null,null,null,null,null,null,null,null,null,null,null,null,null,null,null,null,null,null,null,null,null,null,null,null,null,null,null,null,null,null,null,null,null,null,null,null,null,null,null,null,null,null,null,null,null,null,null,null,null,null,null,null,null,null,null],[null,null,null,null,null,null,null,null,null,null,null,null,null,null,null,null,null,0.9901565946824569,null,null,null,null,null,null,null,null,null,null,null,null,null,null,null,null,null,null,null,null,null,null,null,null,null,null,null,null,null,null,null,null,null,null,null,null,null,null,0.9393322593753628,null,null,null,null,null,null,null,null,null,null,null,null,null,null,null,null,null,null,null,null,null,null,null,null,null,null,null,null,null,null,null,null,null,null,null,null,null,null,0.9667254440961338,null,null,null,null,null,null],[null,null,null,null,null,null,null,null,null,null,null,null,null,null,null,null,null,null,null,null,null,null,null,null,null,null,null,null,null,null,null,null,null,null,null,null,null,null,null,null,null,null,null,null,null,null,null,null,null,null,null,null,null,null,null,null,null,null,null,null,null,null,null,null,null,null,null,null,null,null,null,null,null,null,null,null,0.9911035643794266,null,null,null,null,null,null,null,null,null,null,null,null,null,null,null,null,null,null,null,null,null,null,null,null,null],[null,null,null,null,null,null,null,null,null,null,null,null,null,null,null,null,null,null,null,null,null,null,null,null,null,null,null,null,null,null,null,null,null,null,null,null,null,null,null,null,null,null,null,null,null,null,null,null,null,null,null,null,null,0.9393322593753628,null,null,null,null,null,null,null,null,null,null,null,null,null,null,null,null,0.9933276732845698,null,null,null,null,null,null,null,null,null,null,null,null,null,null,null,null,null,null,null,null,null,null,null,null,null,null,null,null,null,null,null],[null,null,null,null,null,null,null,null,null,null,null,null,null,null,null,null,null,null,null,null,null,null,null,null,null,null,null,null,null,null,null,null,null,null,null,null,null,null,null,null,null,null,null,null,null,null,null,null,null,null,null,null,null,null,null,null,null,null,null,null,null,null,null,null,null,null,null,null,null,null,null,null,null,null,null,null,null,null,null,null,null,null,null,null,null,null,null,null,null,0.9847614071752003,null,null,null,null,null,null,null,null,null,null,null,null],[null,null,null,null,null,null,null,null,null,null,null,null,null,null,null,null,null,null,null,null,null,null,null,null,null,null,null,null,null,null,null,null,null,null,null,null,null,null,null,null,null,null,0.9383852896783931,null,null,null,null,null,null,null,null,null,null,null,null,null,null,null,0.9393322593753628,null,null,null,null,0.9536674213398352,null,null,null,0.9600095785440613,null,null,null,null,null,null,null,null,null,null,null,null,null,null,null,null,null,null,null,null,null,null,null,null,null,null,null,null,null,null,null,null,null,null],[null,null,null,null,null,null,null,null,null,null,null,null,null,null,null,null,null,null,null,null,0.9380551201671891,null,null,null,null,null,null,null,null,null,null,null,null,0.9383852896783931,null,null,null,null,0.9383852896783931,null,null,null,null,null,null,null,null,null,null,null,null,null,null,null,null,null,null,null,null,null,null,null,null,null,null,null,null,null,null,null,null,null,null,null,null,null,null,null,null,null,null,null,null,null,null,null,null,null,null,null,null,null,null,null,null,null,null,null,null,null,null,null],[null,null,null,null,null,null,null,null,null,null,null,null,null,null,null,null,null,null,null,null,null,null,null,null,null,null,null,null,null,null,null,null,0.9383852896783931,null,null,null,null,null,null,null,null,null,null,null,0.9901565946824569,null,null,null,null,null,null,null,null,null,null,null,null,null,null,null,null,null,null,null,null,null,null,null,null,null,null,null,null,null,null,null,null,null,null,null,null,null,null,null,null,null,null,null,null,null,null,null,null,null,null,null,null,null,null,null,null,null],[null,null,null,null,null,null,null,null,null,0.9393322593753628,null,null,null,0.9380551201671891,null,null,null,null,null,null,null,null,null,null,null,null,null,null,0.9901565946824569,null,null,null,null,null,0.9383852896783931,null,null,0.9383852896783931,null,null,null,null,null,null,null,null,null,null,null,null,null,null,null,null,null,null,null,null,null,null,null,null,null,null,null,null,null,null,null,null,null,null,null,null,null,null,null,null,null,null,null,null,null,null,null,null,null,null,null,null,null,null,null,null,null,null,null,null,null,null,null,null],[null,null,null,null,null,null,null,null,null,null,null,null,null,null,null,null,null,null,null,null,null,null,null,null,null,null,null,null,null,null,null,null,null,null,null,null,null,null,null,null,null,null,null,null,null,null,null,null,null,null,null,null,null,null,null,null,null,null,null,null,null,null,null,null,null,null,0.9587324393358876,null,null,null,null,null,null,null,null,null,null,null,null,null,null,null,null,null,null,null,null,null,null,null,null,null,null,null,null,null,null,null,null,null,null,null],[null,null,null,null,null,0.9402792290723325,null,null,null,null,null,null,null,null,null,null,null,null,null,null,null,null,null,null,null,null,null,null,null,null,null,null,null,null,null,null,null,null,null,null,null,null,null,null,null,null,null,null,null,null,null,null,null,null,null,null,null,null,null,null,null,null,0.9911035643794266,null,0.9536674213398352,null,null,null,null,null,null,null,null,null,null,null,null,null,null,0.9911035643794266,null,null,null,null,null,null,null,null,null,null,null,null,null,null,null,null,null,null,null,null,null,null],[null,null,null,null,null,null,null,null,null,null,null,null,null,null,null,null,null,null,null,null,null,null,null,null,null,null,null,null,null,null,null,null,null,null,null,null,null,null,null,null,null,null,null,null,null,null,null,null,null,0.9393322593753628,null,null,0.9393322593753628,null,null,null,null,0.9911035643794266,null,null,null,null,null,null,null,null,null,null,null,null,null,null,null,null,null,null,null,null,null,null,null,null,null,null,null,null,null,null,null,null,null,null,null,null,null,null,null,null,null,null,null,null],[null,null,null,null,null,null,null,null,null,null,null,null,null,null,null,null,null,null,null,0.9380551201671891,null,null,null,null,null,null,null,null,null,null,0.9380551201671891,null,null,null,null,null,null,null,null,null,null,null,null,null,null,null,null,null,null,null,null,null,null,null,null,null,null,null,null,null,0.9393322593753628,null,null,null,null,null,null,null,null,null,null,null,null,null,null,null,null,null,null,null,null,null,null,null,null,null,null,null,null,null,null,null,null,null,null,null,null,null,null,null,null,null],[null,0.9402792290723325,null,null,null,null,null,null,null,null,null,null,null,null,null,null,null,null,null,null,null,null,null,null,null,null,null,null,null,null,null,null,null,null,null,null,0.9383852896783931,null,null,null,null,null,null,null,null,null,null,null,null,null,null,null,null,null,null,null,null,null,null,null,null,null,null,null,null,null,null,null,null,null,null,null,null,null,null,null,null,null,null,null,null,null,null,null,null,null,null,null,null,null,null,null,null,null,null,null,null,null,null,null,null,null],[null,null,null,0.9402792290723325,null,null,null,null,null,null,null,null,null,null,null,null,null,null,null,null,null,null,null,null,null,null,null,null,null,null,null,null,null,null,null,null,null,null,null,0.9383852896783931,null,null,null,null,null,null,null,null,null,null,null,null,null,null,null,null,null,null,null,0.9393322593753628,null,null,null,null,null,null,null,null,null,null,null,null,0.978419249970974,null,null,null,null,null,null,null,null,null,0.988879455474283,null,null,null,null,null,null,null,null,null,null,null,null,null,null,null,null,null,null,null],[null,null,null,null,null,null,null,null,null,null,null,null,null,null,null,null,null,null,0.9901565946824569,null,null,null,null,null,null,null,null,null,null,null,null,null,null,null,null,0.9383852896783931,null,null,null,null,null,null,null,null,null,null,null,0.9393322593753628,null,null,null,null,null,null,null,null,null,null,null,null,null,null,null,null,null,0.9587324393358876,null,null,null,null,null,null,null,null,null,null,null,null,null,null,null,null,null,null,null,null,null,null,null,null,null,null,null,null,null,null,null,null,null,null,null,null],[null,null,null,null,null,null,null,null,null,null,null,null,null,null,null,null,null,null,null,null,null,null,null,null,null,null,null,null,null,null,null,null,null,null,null,null,null,null,null,null,null,0.9383852896783931,null,null,null,0.9393322593753628,null,null,null,null,null,null,null,null,null,null,null,null,null,null,null,null,null,null,null,null,null,null,null,null,null,null,null,null,null,null,null,null,null,null,null,null,null,null,null,null,null,null,null,null,null,null,null,null,null,null,null,null,null,null,null,null],[null,null,null,null,null,null,null,null,null,null,null,null,null,null,null,null,null,null,null,null,null,null,null,null,null,null,null,null,null,null,null,null,null,null,null,null,null,null,null,null,null,null,null,null,null,null,null,null,null,null,null,null,null,null,null,null,null,null,null,null,null,null,null,null,null,null,null,null,null,null,null,0.9920505340763962,null,null,null,null,null,null,null,null,null,null,null,null,null,null,null,null,null,null,null,null,null,null,null,null,null,null,null,null,null,null],[null,null,null,null,null,null,null,null,null,null,null,null,null,null,null,null,null,null,null,null,null,null,null,null,null,null,null,null,null,null,null,null,null,null,null,null,null,null,null,null,null,null,null,0.9393322593753628,null,null,null,null,null,null,null,null,null,null,0.9393322593753628,null,null,null,null,null,null,null,null,null,null,null,null,null,null,null,null,null,null,null,null,null,null,null,null,null,null,null,null,null,null,null,null,null,0.9847614071752003,null,null,null,null,null,null,null,null,null,null,null,null,null],[null,null,null,null,null,null,null,null,null,null,null,null,null,null,null,null,null,null,null,null,null,null,null,0.9380551201671891,null,null,0.9380551201671891,null,null,null,null,null,null,null,null,null,null,null,null,null,null,null,null,null,null,null,null,null,null,null,null,null,null,null,null,null,null,null,null,null,null,null,null,null,null,null,null,null,null,null,null,null,null,null,null,null,null,null,null,null,null,null,null,null,null,null,null,null,null,null,null,null,null,null,null,null,null,null,null,null,null,null],[null,null,null,null,null,null,null,null,null,null,null,null,null,null,null,null,null,null,null,null,null,null,null,null,null,null,null,null,null,null,null,null,null,null,null,null,null,null,null,null,null,null,null,null,null,null,null,null,null,null,null,null,null,null,null,null,null,null,null,null,null,null,null,null,null,null,null,null,null,null,null,null,null,null,0.9911035643794265,null,null,null,null,null,null,null,null,null,null,null,null,null,null,null,null,null,null,null,null,null,null,null,null,null,null,null],[null,null,null,null,null,null,null,null,null,null,null,null,null,null,null,null,null,null,null,null,null,null,null,null,null,null,null,null,null,null,null,null,null,null,null,null,null,null,null,null,null,null,null,null,null,null,null,null,null,null,null,0.9393322593753628,null,null,null,null,null,null,null,null,null,0.9492192035295485,null,null,null,null,null,null,null,null,null,null,null,null,null,null,null,null,null,null,null,null,null,null,null,null,null,null,null,null,null,null,null,null,null,null,null,null,null,null,null,null],[null,null,null,null,null,null,null,null,null,null,null,null,null,null,null,null,null,null,null,null,null,null,null,null,null,null,null,null,null,null,null,null,null,null,null,null,null,null,null,null,null,null,null,null,null,null,null,null,null,null,null,null,null,null,null,null,null,null,null,null,null,null,null,null,null,null,null,null,null,null,null,null,null,null,null,null,null,null,null,null,null,null,null,null,null,null,null,null,null,null,null,null,null,null,null,null,null,null,null,null,null,null]],\"type\":\"contour\",\"xaxis\":\"x15\",\"yaxis\":\"y15\"},{\"marker\":{\"color\":\"black\",\"line\":{\"color\":\"Grey\",\"width\":2.0}},\"mode\":\"markers\",\"showlegend\":false,\"x\":[0.0035100225034122587,0.06044108530503717,0.05117097994602003,0.0017526459038934206,0.04730015291090741,0.6071802721812887,0.06805156091055424,0.043251583333154174,0.01517184332429048,0.02973502039467869,0.40638677662363126,0.9339651412812896,0.20973128772658298,0.007090577955257333,0.921569392437394,0.9882774582089302,0.20456026722007212,0.20474535628128093,0.9797172338878688,0.3010320251851733,0.1130468657232294,0.9028536898580939,0.4920429058871023,0.9048862357897041,0.5276903440717914,0.11196224935501041,0.320291118804541,0.12433581253390125,0.6305796194386968,0.0011603028791936439,0.0015604432596561123,0.0013327952589450812,0.0012164794579388328,0.0010332587609815055,0.0023462179207158766,0.0025437148043958298,0.004405058160638876,0.0018668240504225687,0.005057240810102104,0.0016077302717296782,0.01157008229068338,0.0015817287502271314,0.0014578392512450177,0.0024223286691275815,0.0029703812840763894,0.001920877300071056,0.0014079716298844756,0.004576523763264509,0.0034827700113191666,0.007502519983666527,0.0019114209814252994,0.001464708575830703,0.001298853925658958,0.0010054989778286872,0.001281216537726556,0.0019043216144904824,0.031919681277843524,0.003298896731344554,0.006009359517501574,0.0022498006341152067,0.001239698374764681,0.0016075965963191162,0.0014492789641041587,0.002776077488860619,0.001917789449811928,0.004051695852770575,0.0010126380473999873,0.0017885581050604506,0.009139704253759616,0.01709602768971001,0.0012407304610466787,0.0016646637513757694,0.0020745074137178865,0.002802911748864269,0.0015905552470339315,0.0012139067899170294,0.0012433814774598594,0.001013219628987948,0.0024598892013561304,0.0038577361938431317,0.0013816022572488867,0.0017057230871074395,0.0022206136235321614,0.00299555129800087,0.0016366639388812726,0.0012244834475361103,0.0011519094932388666,0.0014705926842589624,0.0011545978814094112,0.0020851757820818054,0.0014028295980928727,0.001350923824878732,0.0013382097144481143,0.0011866859001563228,0.0011870376384079688,0.0011170900375099776,0.001347722138704087,0.0013744380274322708,0.0026201441718044552,0.0010085276030225225],\"y\":[88,47,88,30,32,22,42,65,52,38,11,17,12,65,26,22,25,64,77,97,77,79,76,76,74,92,82,70,60,86,85,84,86,88,100,97,94,83,83,91,92,84,70,89,83,71,47,87,100,81,85,90,90,91,94,97,80,90,73,66,37,94,86,79,95,88,92,95,96,99,54,84,94,89,86,78,79,76,81,83,68,92,89,92,86,60,47,59,59,73,98,98,62,62,63,62,53,49,49,42],\"type\":\"scatter\",\"xaxis\":\"x15\",\"yaxis\":\"y15\"},{\"colorbar\":{\"title\":{\"text\":\"Objective Value\"}},\"colorscale\":[[0.0,\"rgb(247,251,255)\"],[0.125,\"rgb(222,235,247)\"],[0.25,\"rgb(198,219,239)\"],[0.375,\"rgb(158,202,225)\"],[0.5,\"rgb(107,174,214)\"],[0.625,\"rgb(66,146,198)\"],[0.75,\"rgb(33,113,181)\"],[0.875,\"rgb(8,81,156)\"],[1.0,\"rgb(8,48,107)\"]],\"connectgaps\":true,\"contours\":{\"coloring\":\"heatmap\"},\"hoverinfo\":\"none\",\"line\":{\"smoothing\":1.3},\"reversescale\":true,\"showscale\":false,\"x\":[6.55,11,12,17,22,25,26,30,32,37,38,42,47,49,52,53,54,59,60,62,63,64,65,66,68,70,71,73,74,76,77,78,79,80,81,82,83,84,85,86,87,88,89,90,91,92,94,95,96,97,98,99,100,104.45],\"y\":[\"dart\",\"gbdt\"],\"z\":[[null,0.9866553465691398,0.9911035643794266,0.9721206316033904,0.9698965226982468,0.9911035643794266,0.9721206316033902,0.9923807035876001,0.975578340880065,0.9402792290723325,null,0.9911035643794266,null,null,null,null,0.9901565946824569,0.9402792290723325,null,null,null,0.9911035643794266,0.9933276732845698,null,null,null,null,null,null,null,null,null,null,null,null,null,null,null,null,null,null,0.9911035643794266,null,0.9393322593753628,null,null,null,null,null,null,null,null,null,null],[null,null,null,null,null,null,null,null,null,null,0.9911035643794265,0.9920505340763962,0.9393322593753628,0.9920505340763962,0.9920505340763962,0.9380551201671891,null,0.9901565946824569,0.9380551201671891,0.9920505340763962,0.9380551201671891,null,0.9911035643794265,0.9393322593753628,0.9901565946824569,0.9901565946824569,0.9393322593753628,0.9393322593753628,0.9721206316033902,0.9402792290723325,0.988879455474283,0.9380551201671891,0.9901565946824569,0.9911035643794266,0.9393322593753628,0.9847614071752003,0.9536674213398352,0.9383852896783931,0.9901565946824569,0.9383852896783931,0.9587324393358876,0.9536674213398352,0.9393322593753628,0.9380551201671891,0.9402792290723325,0.9393322593753628,0.9393322593753628,0.9383852896783931,0.9920505340763962,0.9393322593753628,0.9380551201671891,0.9911035643794265,0.9492192035295485,null]],\"type\":\"contour\",\"xaxis\":\"x4\",\"yaxis\":\"y4\"},{\"marker\":{\"color\":\"black\",\"line\":{\"color\":\"Grey\",\"width\":2.0}},\"mode\":\"markers\",\"showlegend\":false,\"x\":[88,47,88,30,32,22,42,65,52,38,11,17,12,65,26,22,25,64,77,97,77,79,76,76,74,92,82,70,60,86,85,84,86,88,100,97,94,83,83,91,92,84,70,89,83,71,47,87,100,81,85,90,90,91,94,97,80,90,73,66,37,94,86,79,95,88,92,95,96,99,54,84,94,89,86,78,79,76,81,83,68,92,89,92,86,60,47,59,59,73,98,98,62,62,63,62,53,49,49,42],\"y\":[\"dart\",\"gbdt\",\"dart\",\"dart\",\"dart\",\"dart\",\"dart\",\"gbdt\",\"gbdt\",\"gbdt\",\"dart\",\"dart\",\"dart\",\"dart\",\"dart\",\"dart\",\"dart\",\"dart\",\"gbdt\",\"gbdt\",\"gbdt\",\"gbdt\",\"gbdt\",\"gbdt\",\"gbdt\",\"gbdt\",\"gbdt\",\"gbdt\",\"gbdt\",\"gbdt\",\"gbdt\",\"gbdt\",\"gbdt\",\"gbdt\",\"gbdt\",\"gbdt\",\"gbdt\",\"gbdt\",\"gbdt\",\"gbdt\",\"gbdt\",\"gbdt\",\"gbdt\",\"gbdt\",\"gbdt\",\"gbdt\",\"gbdt\",\"gbdt\",\"gbdt\",\"gbdt\",\"gbdt\",\"gbdt\",\"gbdt\",\"gbdt\",\"gbdt\",\"gbdt\",\"gbdt\",\"dart\",\"gbdt\",\"gbdt\",\"dart\",\"gbdt\",\"gbdt\",\"gbdt\",\"gbdt\",\"gbdt\",\"gbdt\",\"gbdt\",\"gbdt\",\"gbdt\",\"dart\",\"gbdt\",\"gbdt\",\"gbdt\",\"gbdt\",\"gbdt\",\"gbdt\",\"gbdt\",\"gbdt\",\"gbdt\",\"gbdt\",\"gbdt\",\"gbdt\",\"gbdt\",\"gbdt\",\"gbdt\",\"gbdt\",\"dart\",\"gbdt\",\"gbdt\",\"gbdt\",\"gbdt\",\"gbdt\",\"gbdt\",\"gbdt\",\"gbdt\",\"gbdt\",\"gbdt\",\"gbdt\",\"gbdt\"],\"type\":\"scatter\",\"xaxis\":\"x4\",\"yaxis\":\"y4\"},{\"colorbar\":{\"title\":{\"text\":\"Objective Value\"}},\"colorscale\":[[0.0,\"rgb(247,251,255)\"],[0.125,\"rgb(222,235,247)\"],[0.25,\"rgb(198,219,239)\"],[0.375,\"rgb(158,202,225)\"],[0.5,\"rgb(107,174,214)\"],[0.625,\"rgb(66,146,198)\"],[0.75,\"rgb(33,113,181)\"],[0.875,\"rgb(8,81,156)\"],[1.0,\"rgb(8,48,107)\"]],\"connectgaps\":true,\"contours\":{\"coloring\":\"heatmap\"},\"hoverinfo\":\"none\",\"line\":{\"smoothing\":1.3},\"reversescale\":true,\"showscale\":false,\"x\":[6.55,11,12,17,22,25,26,30,32,37,38,42,47,49,52,53,54,59,60,62,63,64,65,66,68,70,71,73,74,76,77,78,79,80,81,82,83,84,85,86,87,88,89,90,91,92,94,95,96,97,98,99,100,104.45],\"y\":[-0.03130074289623405,0.017580688489167495,0.06816336891752811,0.10049784955749624,0.14398133150202946,0.15126241832766066,0.1593846010272439,0.204774480443911,0.21415090864421538,0.2607889147849083,0.26416092485356324,0.29672281325955074,0.32849684093107323,0.34436190380217346,0.34984621050070874,0.3783573261733709,0.3812048520012899,0.38339108949162204,0.4016280929421766,0.40807126783660513,0.4151934158649231,0.42551230238691107,0.4349571648534177,0.4488454617366379,0.4498469702653812,0.4517383848232247,0.4554702007383124,0.47195833963891576,0.47236892283818005,0.47510381887388714,0.4869666343737278,0.48849997770484743,0.4955369632048551,0.5007804842610596,0.5027387659451736,0.5050775587324385,0.5055792514244312,0.5092078421491011,0.5132970523636197,0.5142624875562325,0.5160236769414953,0.5280094666448093,0.5280571140194011,0.5285673188017547,0.5318771803427904,0.5338748881897236,0.5403879445077471,0.5439822707982183,0.549603941867679,0.5499290449649915,0.5541032239886347,0.558543528735306,0.5626118616721701,0.5654121430073455,0.568294483140127,0.5703512800948547,0.5713665262806743,0.5749517640392326,0.5757439050260932,0.5761321439567597,0.5798110120732055,0.5842545370554068,0.5864911850300679,0.5949045962331351,0.5965404882282515,0.597135804237003,0.597445562021935,0.5998177595923543,0.6001451314072975,0.6117362226707697,0.6183393588449764,0.6255691604899822,0.6277274858591582,0.6285602450364968,0.6407318944735574,0.6417269630589296,0.6484835841878254,0.6492270352513785,0.6535086921831352,0.6556197253048618,0.6563530269436376,0.6678651196850418,0.6689369496786249,0.6695991980888816,0.6804996735359335,0.6918376929042345,0.7065391776212664,0.7119336364696917,0.7333452823069315,0.7370566535133063,0.7433079148027768,0.7442498731185044,0.7519243294942659,0.7778851703645735,0.7859876823522647,0.788978516971918,0.8324234134793864,0.8360473509089751,0.8523481450304584,0.9159475911651482,0.9952093161971984,1.0440907475826],\"z\":[[null,null,null,null,null,null,null,null,null,null,null,null,null,null,null,null,null,null,null,null,null,null,null,null,null,null,null,null,null,null,null,null,null,null,null,null,null,null,null,null,null,null,null,null,null,null,null,null,null,null,null,null,null,null],[null,0.9866553465691398,null,null,null,null,null,null,null,null,null,null,null,null,null,null,null,null,null,null,null,null,null,null,null,null,null,null,null,null,null,null,null,null,null,null,null,null,null,null,null,null,null,null,null,null,null,null,null,null,null,null,null,null],[null,null,null,null,null,null,null,null,null,null,null,null,null,null,null,null,null,null,null,null,null,0.9911035643794266,null,null,null,null,null,null,null,null,null,null,null,null,null,null,null,null,null,null,null,null,null,null,null,null,null,null,null,null,null,null,null,null],[null,null,null,null,null,null,null,null,null,null,null,null,null,null,null,null,null,null,null,null,null,null,null,null,null,null,null,null,0.9721206316033902,null,null,null,null,null,null,null,null,null,null,null,null,null,null,null,null,null,null,null,null,null,null,null,null,null],[null,null,null,null,null,null,null,null,null,null,null,null,null,null,null,null,null,null,null,null,null,null,null,null,null,null,null,null,null,0.9667254440961338,null,null,null,null,null,null,null,null,null,null,null,null,null,null,null,null,null,null,null,null,null,null,null,null],[null,null,null,null,null,null,null,null,null,null,null,null,null,null,null,null,null,null,null,null,null,null,null,null,null,0.9866553465691398,null,null,null,null,null,null,null,null,null,null,null,null,null,null,null,null,null,null,null,null,null,null,null,null,null,null,null,null],[null,null,null,null,null,null,null,null,null,null,null,null,null,null,null,null,null,null,null,null,null,null,null,null,null,null,null,null,null,null,null,null,null,null,null,null,null,null,null,null,null,null,null,null,null,0.988879455474283,null,null,null,null,null,null,null,null],[null,null,null,null,null,null,null,null,null,null,null,null,null,null,0.9920505340763962,null,null,null,null,null,null,null,null,null,null,null,null,null,null,null,null,null,null,null,null,null,null,null,null,null,null,null,null,null,null,null,null,null,null,null,null,null,null,null],[null,null,null,null,null,null,null,null,null,null,null,null,null,null,null,null,null,null,null,null,null,null,null,null,null,null,null,null,null,null,null,null,null,null,null,null,null,null,null,null,null,0.9911035643794266,null,null,null,null,null,null,null,null,null,null,null,null],[null,null,null,null,null,null,null,null,null,null,null,0.9911035643794266,null,null,null,null,null,null,null,null,null,null,null,null,null,null,null,null,null,null,null,null,null,null,null,null,null,null,null,null,null,null,null,null,null,null,null,null,null,null,null,null,null,null],[null,null,null,null,null,null,null,null,null,null,null,null,null,null,null,null,null,null,0.9708434923952165,null,null,null,null,null,null,null,null,null,null,null,null,null,null,null,null,null,null,null,null,null,null,null,null,null,null,null,null,null,null,null,null,null,null,null],[null,null,null,null,null,null,null,null,null,null,null,null,null,null,null,null,null,null,null,null,null,null,null,null,null,null,null,null,null,null,null,null,null,null,null,0.9847614071752003,null,null,null,null,null,null,null,null,null,null,null,null,null,null,null,null,null,null],[null,null,null,null,null,null,null,null,null,null,null,null,null,null,null,null,null,null,null,null,null,null,null,null,null,null,null,null,null,null,null,null,null,null,null,null,null,null,null,null,null,null,null,null,null,null,null,null,null,0.9847614071752003,null,null,null,null],[null,null,null,null,null,null,null,null,null,null,null,null,null,null,null,null,null,null,null,null,null,null,null,null,null,null,null,null,null,null,null,null,null,null,null,null,null,null,null,null,null,null,null,null,null,null,null,null,0.9920505340763962,null,null,null,null,null],[null,null,null,null,null,0.9911035643794266,null,null,null,null,null,null,null,null,null,null,null,null,null,null,null,null,null,null,null,null,null,null,null,null,null,null,null,null,null,null,null,null,null,null,null,null,null,null,null,null,null,null,null,null,null,null,null,null],[null,null,null,null,0.9698965226982468,null,null,null,null,null,null,null,null,null,null,null,null,null,null,null,null,null,null,null,null,null,null,null,null,null,null,null,null,null,null,null,null,null,null,null,null,null,null,null,null,null,null,null,null,null,null,null,null,null],[null,null,null,null,null,null,null,null,null,null,null,null,null,null,null,null,null,null,null,null,null,null,null,null,null,null,null,null,null,null,0.9667254440961338,null,null,null,null,null,null,null,null,null,null,null,null,null,null,null,null,null,null,null,null,null,null,null],[null,null,null,null,null,null,0.9721206316033902,null,null,null,null,null,null,null,null,null,null,null,null,null,null,null,null,null,null,null,null,null,null,null,null,null,null,null,null,null,null,null,null,null,null,null,null,null,null,null,null,null,null,null,null,null,null,null],[null,null,null,null,null,null,null,null,null,null,null,null,null,null,null,null,0.9901565946824569,null,null,null,null,null,null,null,null,null,null,null,null,null,null,null,null,null,null,null,null,null,null,null,null,null,null,null,null,null,null,null,null,null,null,null,null,null],[null,null,null,null,null,null,null,null,null,null,null,null,null,null,null,null,null,null,null,null,null,null,null,null,null,null,null,null,null,null,null,null,0.9667254440961338,null,null,null,null,null,null,null,null,null,null,null,null,null,null,null,null,null,null,null,null,null],[null,null,null,null,null,null,null,null,null,null,null,null,null,null,null,null,null,null,null,null,null,null,null,null,null,null,null,null,null,null,null,null,null,null,null,null,null,null,null,0.9901565946824569,null,null,null,null,null,null,null,null,null,null,null,null,null,null],[null,null,null,null,null,null,null,null,null,null,null,null,null,null,null,null,null,null,null,null,null,null,null,null,null,null,null,null,null,null,null,null,null,null,null,null,null,null,null,null,null,null,null,null,null,null,0.9901565946824569,null,null,null,null,null,null,null],[null,null,null,null,null,null,null,null,null,null,null,null,null,null,null,null,null,null,null,null,null,null,null,null,null,null,null,null,null,0.9721206316033902,null,null,null,null,null,null,null,null,null,null,null,null,null,null,null,null,null,null,null,null,null,null,null,null],[null,null,0.9911035643794266,null,null,null,null,null,null,null,null,null,null,null,null,null,null,null,null,null,null,null,null,null,null,null,null,null,null,null,null,null,null,null,null,null,null,null,null,null,null,null,null,null,null,null,null,null,null,null,null,null,null,null],[null,null,null,null,null,null,null,null,null,null,null,null,null,null,null,null,null,null,null,null,null,null,null,null,null,null,null,null,null,null,null,null,null,null,null,null,null,null,0.9901565946824569,null,null,null,null,null,null,null,null,null,null,null,null,null,null,null],[null,null,null,null,null,null,null,null,null,null,null,null,null,null,null,null,null,0.9901565946824569,null,null,null,null,null,null,null,null,null,null,null,null,null,null,null,null,null,null,null,null,null,null,null,null,null,null,null,null,null,null,null,null,null,null,null,null],[null,null,null,null,null,null,null,null,null,null,null,null,null,null,null,null,null,null,null,null,null,null,null,null,null,null,null,null,null,null,null,null,null,null,null,null,null,null,null,null,null,null,0.9911035643794266,null,null,null,null,null,null,null,null,null,null,null],[null,null,null,null,null,null,null,null,null,null,null,null,null,null,null,null,null,null,null,null,null,null,null,null,null,null,null,null,null,null,null,null,null,0.9911035643794266,null,null,null,null,null,null,null,null,null,null,null,null,null,null,null,null,null,null,null,null],[null,null,null,null,null,null,null,null,null,null,null,null,null,null,null,null,null,null,null,null,null,null,null,null,null,0.9901565946824569,null,null,null,null,null,null,null,null,null,null,null,null,null,null,null,null,null,null,null,null,null,null,null,null,null,null,null,null],[null,null,null,null,null,null,null,null,null,null,null,null,0.9901565946824569,null,null,null,null,null,null,null,null,null,null,null,null,null,null,null,null,null,null,null,null,null,null,null,null,null,null,null,null,null,null,null,null,null,null,null,null,null,null,null,null,null],[null,null,null,null,null,null,null,null,null,null,null,null,null,null,null,null,null,null,null,null,null,null,null,null,0.9901565946824569,null,null,null,null,null,null,null,null,null,null,null,null,null,null,null,null,null,null,null,null,null,null,null,null,null,null,null,null,null],[null,null,null,null,null,null,null,null,null,null,null,null,null,null,null,null,null,null,null,null,null,null,null,null,null,null,null,null,null,null,null,null,0.9901565946824569,null,null,null,null,null,null,null,null,null,null,null,null,null,null,null,null,null,null,null,null,null],[null,null,null,null,null,null,null,null,null,null,null,null,null,null,null,null,null,null,null,null,null,null,null,null,null,null,null,null,null,null,null,null,null,null,null,null,null,null,null,null,null,0.9911035643794266,null,null,null,null,null,null,null,null,null,null,null,null],[null,null,null,null,null,null,null,null,null,null,null,null,null,null,null,null,null,null,null,null,null,null,null,null,null,null,null,null,null,null,null,null,null,null,null,null,null,null,null,null,null,null,null,null,null,null,null,null,null,null,null,null,0.9393322593753628,null],[null,null,null,null,null,null,null,null,null,null,null,null,null,null,null,null,null,null,null,null,null,null,null,null,null,null,null,null,null,null,null,null,null,null,null,null,null,null,null,null,null,0.9536674213398352,null,null,null,null,null,null,null,null,null,null,null,null],[null,null,null,null,null,null,null,null,null,null,null,null,null,null,null,null,null,null,null,null,null,null,null,null,null,null,null,0.9393322593753628,null,null,null,null,null,null,null,null,null,null,null,null,null,null,null,null,null,null,null,null,null,null,null,null,null,null],[null,null,null,null,null,null,null,null,null,null,null,null,null,null,null,null,null,null,null,null,null,null,null,null,null,null,null,null,null,null,null,null,null,null,null,null,null,null,null,null,null,null,null,null,null,null,null,null,null,0.9393322593753628,null,null,null,null],[null,null,null,null,null,null,null,null,null,null,null,null,null,null,null,null,null,null,null,null,null,null,null,null,null,null,null,null,null,null,null,null,null,null,null,null,null,0.9380551201671891,null,null,null,null,null,null,null,null,null,null,null,null,null,null,null,null],[null,null,null,null,null,null,null,null,null,null,null,null,null,null,null,null,null,null,null,null,null,null,null,null,null,null,null,null,null,null,null,null,null,null,null,null,null,null,null,0.9393322593753628,null,null,null,null,null,null,null,null,null,null,null,null,null,null],[null,null,null,null,null,null,null,null,null,null,null,null,null,null,null,null,null,null,null,null,null,null,null,null,null,null,null,null,null,null,null,null,null,null,null,null,null,null,null,null,null,null,null,0.9380551201671891,null,null,null,null,null,null,null,null,null,null],[null,null,null,null,null,null,null,null,null,null,null,null,null,null,null,null,null,null,null,null,null,null,null,null,null,null,null,null,null,null,null,null,null,null,null,null,null,null,0.9383852896783931,null,null,null,null,null,null,null,null,null,null,null,null,null,null,null],[null,null,null,null,null,null,null,null,null,null,null,null,null,null,null,null,null,null,null,null,null,null,null,null,null,null,null,null,null,null,null,null,null,null,null,null,null,null,null,0.9383852896783931,null,null,null,null,null,null,null,null,null,null,null,null,null,null],[null,null,null,null,null,null,null,null,null,null,null,null,null,null,null,null,null,null,null,null,null,null,null,null,null,null,null,null,null,null,null,null,null,null,null,null,null,0.9383852896783931,null,null,null,null,null,null,null,null,null,null,null,null,null,null,null,null],[null,null,null,null,null,null,null,null,null,null,null,null,null,null,null,null,null,null,null,null,null,null,null,null,null,null,null,null,null,null,null,null,null,null,null,null,null,null,null,null,null,0.9402792290723325,null,null,null,null,null,null,null,null,null,null,null,null],[null,null,null,null,null,null,null,null,null,null,null,null,null,null,null,null,null,null,null,null,null,null,null,null,null,null,null,0.9628504876349705,null,null,null,null,null,null,null,null,null,null,null,null,null,null,null,null,null,null,null,null,null,null,null,null,null,null],[null,null,null,null,null,null,null,null,null,null,null,null,null,null,null,null,null,null,null,null,null,null,null,null,null,null,null,null,null,null,null,null,null,null,null,null,null,null,null,0.9380551201671891,null,null,null,null,null,null,null,null,null,null,null,null,null,null],[null,null,null,null,null,null,null,null,null,null,null,null,null,null,null,null,null,null,null,null,null,null,null,null,null,null,null,null,null,null,null,null,null,null,null,null,null,null,null,0.9383852896783931,null,null,null,null,null,null,null,null,null,null,null,null,null,null],[null,null,null,null,null,null,null,null,null,null,null,null,null,null,null,null,null,null,null,null,null,null,null,null,null,null,null,null,null,null,null,null,null,null,null,null,0.9393322593753628,null,null,null,null,null,null,null,null,null,null,null,null,null,null,null,null,null],[null,null,null,null,null,null,null,null,null,null,null,null,null,null,null,null,null,null,null,null,null,null,null,null,null,null,null,null,null,null,null,null,null,null,null,null,null,null,null,null,null,null,null,0.9380551201671891,null,null,null,null,null,null,null,null,null,null],[null,null,null,null,null,null,null,null,null,null,null,null,null,null,null,null,null,null,null,null,null,null,null,null,null,null,null,null,null,null,null,null,null,null,null,null,0.9536674213398352,null,null,null,null,null,null,null,null,null,null,null,null,null,null,null,null,null],[null,null,null,null,null,null,null,null,null,null,null,null,null,null,null,null,null,null,null,null,null,null,null,null,null,null,null,null,null,null,null,null,null,null,null,null,null,0.9383852896783931,null,null,null,null,null,null,null,null,null,null,null,null,null,null,null,null],[null,null,null,null,null,null,null,null,null,null,null,null,null,null,null,null,null,null,null,null,null,null,null,null,null,null,null,null,null,null,null,null,null,null,null,null,null,null,null,null,null,null,null,null,null,null,null,null,null,null,null,null,0.9492192035295485,null],[null,null,null,null,null,null,null,null,null,null,null,null,null,null,null,null,null,null,null,null,null,null,null,0.9393322593753628,null,null,null,null,null,null,null,null,null,null,null,null,null,null,null,null,null,null,null,null,null,null,null,null,null,null,null,null,null,null],[null,null,null,null,null,null,null,null,null,null,null,null,null,null,null,null,null,null,null,null,null,null,null,null,null,null,null,null,null,null,null,null,0.9393322593753628,null,null,null,null,null,null,null,null,null,null,null,null,null,null,null,null,null,null,null,null,null],[null,null,null,null,null,null,null,null,0.975578340880065,null,null,null,null,null,null,null,null,null,null,null,null,null,null,null,null,null,null,null,null,null,null,null,null,null,null,null,null,null,null,null,null,null,null,null,null,null,null,null,null,null,null,null,null,null],[null,null,null,null,null,null,null,null,null,null,null,null,null,null,null,null,null,null,null,null,null,null,null,null,null,null,null,null,null,null,null,null,null,null,null,null,null,null,null,null,null,null,null,null,null,null,null,null,null,null,0.9380551201671891,null,null,null],[null,null,null,null,null,null,null,null,null,null,null,null,null,null,null,null,null,null,null,null,null,null,null,null,null,null,null,null,null,null,null,null,null,null,null,null,0.9383852896783931,null,null,null,null,null,null,null,null,null,null,null,null,null,null,null,null,null],[null,null,null,null,null,null,null,null,null,null,null,null,null,null,null,null,null,null,null,null,null,null,null,null,null,null,null,null,null,null,null,null,null,null,0.9393322593753628,null,null,null,null,null,null,null,null,null,null,null,null,null,null,null,null,null,null,null],[null,null,null,0.9721206316033904,null,null,null,null,null,null,null,null,null,null,null,null,null,null,null,null,null,null,null,null,null,null,null,null,null,null,null,null,null,null,null,null,null,null,null,null,null,null,null,null,null,null,null,null,null,null,null,null,null,null],[null,null,null,null,null,null,null,null,null,null,null,null,null,null,null,null,null,null,0.9380551201671891,null,null,null,null,null,null,null,null,null,null,null,null,null,null,null,null,null,null,null,null,null,null,null,null,null,null,null,null,null,null,null,null,null,null,null],[null,null,null,null,null,null,null,null,null,null,null,null,null,null,null,null,null,null,null,null,null,null,null,null,null,null,null,null,null,null,null,null,null,null,null,null,null,null,null,null,null,null,null,null,0.9383852896783931,null,null,null,null,null,null,null,null,null],[null,null,null,null,null,null,null,null,null,null,null,null,null,null,null,null,null,0.9402792290723325,null,null,null,null,null,null,null,null,null,null,null,null,null,null,null,null,null,null,null,null,null,null,null,null,null,null,null,null,null,null,null,null,null,null,null,null],[null,null,null,null,null,null,null,null,null,null,null,null,null,null,null,null,null,null,null,null,null,null,null,null,null,null,null,null,null,null,null,0.9380551201671891,null,null,null,null,null,null,null,null,null,null,null,null,null,null,null,null,null,null,null,null,null,null],[null,null,null,null,null,null,null,null,null,null,null,null,null,null,null,null,null,null,null,null,null,null,null,null,null,null,null,null,null,null,null,null,null,null,null,null,null,null,null,null,null,null,null,null,null,null,0.9383852896783931,null,null,null,null,null,null,null],[null,null,null,null,null,null,null,null,null,null,null,null,null,null,null,null,null,null,null,null,null,null,null,null,null,null,null,null,null,null,null,null,null,null,null,null,null,null,null,null,null,null,null,null,0.9402792290723325,null,null,null,null,null,null,null,null,null],[null,null,null,null,null,null,null,null,null,null,null,null,null,null,null,null,null,null,null,null,null,null,null,null,null,null,null,null,null,null,null,null,null,null,null,null,null,null,null,null,null,null,0.9393322593753628,null,null,null,null,null,null,null,null,null,null,null],[null,null,null,null,null,null,null,null,null,null,null,null,null,null,null,null,null,null,null,null,null,null,null,null,null,null,null,null,null,null,null,null,null,null,null,null,null,null,null,null,null,null,null,null,null,null,null,0.9383852896783931,null,null,null,null,null,null],[null,null,null,null,null,null,null,null,null,null,null,null,null,null,null,null,null,null,null,null,null,null,null,null,null,null,null,null,null,null,null,null,null,null,null,null,null,null,null,null,null,null,null,null,null,0.978419249970974,null,null,null,null,null,null,null,null],[null,null,null,null,null,null,null,null,null,null,null,null,null,null,null,null,null,null,null,null,null,null,null,null,null,null,null,null,null,null,null,null,null,null,null,null,null,null,null,null,null,null,0.9393322593753628,null,null,null,null,null,null,null,null,null,null,null],[null,null,null,null,null,null,null,null,null,null,null,null,null,null,null,null,null,null,null,null,null,null,null,null,null,null,null,null,null,null,null,null,null,null,null,null,null,null,null,null,null,null,null,null,null,null,0.9393322593753628,null,null,null,null,null,null,null],[null,null,null,null,null,null,null,null,null,null,null,null,0.9911035643794266,null,null,null,null,null,null,null,null,null,null,null,null,null,null,null,null,null,null,null,null,null,null,null,null,null,null,null,null,null,null,null,null,null,null,null,null,null,null,null,null,null],[null,null,null,null,null,null,null,null,null,null,null,null,0.9393322593753628,null,null,null,null,null,null,null,null,null,null,null,null,null,null,null,null,null,null,null,null,null,null,null,null,null,null,null,null,null,null,null,null,null,null,null,null,null,null,null,null,null],[null,null,null,null,null,null,null,null,null,null,null,null,null,null,null,null,null,null,null,null,null,null,null,null,null,null,null,null,null,null,null,null,null,null,null,null,null,null,null,null,null,null,null,null,null,null,null,0.9393322593753628,null,null,null,null,null,null],[null,null,null,null,null,null,null,null,null,null,null,null,null,null,null,null,null,null,null,null,null,null,null,null,null,null,null,null,null,null,null,null,null,null,null,null,null,null,null,null,0.9587324393358876,null,null,null,null,null,null,null,null,null,null,null,null,null],[null,null,null,null,null,null,null,null,null,null,null,null,null,null,null,null,null,null,null,null,null,null,null,null,null,null,null,null,null,null,null,null,null,null,null,null,null,null,null,null,null,null,null,null,null,null,null,null,null,0.9393322593753628,null,null,null,null],[null,null,null,null,null,null,null,null,null,null,null,null,null,null,null,null,null,null,null,null,null,null,null,null,null,null,null,null,null,null,null,null,null,null,null,null,null,null,null,null,null,null,null,null,null,null,null,null,null,null,0.9380551201671891,null,null,null],[null,null,null,null,null,null,null,null,null,null,null,null,null,null,null,null,null,null,null,null,null,null,null,null,null,null,null,null,null,null,null,null,null,null,null,null,null,null,null,null,null,null,null,null,null,0.9393322593753628,null,null,null,null,null,null,null,null],[null,null,null,null,null,null,null,null,null,null,null,null,null,null,null,null,null,null,null,null,null,null,null,null,null,null,null,null,null,null,null,null,null,null,null,null,null,null,null,null,null,null,null,null,null,0.9383852896783931,null,null,null,null,null,null,null,null],[null,null,null,null,null,null,null,null,null,null,null,null,null,null,null,null,null,null,null,0.9380551201671891,null,null,null,null,null,null,null,null,null,null,null,null,null,null,null,null,null,null,null,null,null,null,null,null,null,null,null,null,null,null,null,null,null,null],[null,null,null,null,0.9815903285730873,null,null,null,null,null,null,null,null,null,null,null,null,null,null,null,null,null,null,null,null,null,null,null,null,null,null,null,null,null,null,null,null,null,null,null,null,null,null,null,null,null,null,null,null,null,null,null,null,null],[null,null,null,null,null,null,null,null,null,null,null,null,null,null,null,null,null,null,null,null,null,null,null,null,null,null,null,null,null,null,null,null,null,null,null,null,null,null,null,null,null,null,null,0.9393322593753628,null,null,null,null,null,null,null,null,null,null],[null,null,null,null,null,null,null,null,null,null,null,null,null,null,null,0.9380551201671891,null,null,null,null,null,null,null,null,null,null,null,null,null,null,null,null,null,null,null,null,null,null,null,null,null,null,null,null,null,null,null,null,null,null,null,null,null,null],[null,null,null,null,null,null,null,null,null,null,null,null,null,null,null,null,null,null,null,null,null,null,null,null,null,null,null,null,null,null,null,null,null,null,null,null,null,null,null,null,null,null,null,null,null,null,0.9587324393358876,null,null,null,null,null,null,null],[null,null,null,null,null,null,null,null,null,null,null,null,null,null,null,null,null,null,null,0.9380551201671891,null,null,null,null,null,null,null,null,null,null,null,null,null,null,null,null,null,null,null,null,null,null,null,null,null,null,null,null,null,null,null,null,null,null],[null,null,null,null,null,null,null,null,null,null,null,null,null,null,null,null,null,null,null,null,null,null,null,null,null,null,null,null,null,null,null,null,null,null,null,null,null,null,null,null,null,null,null,null,null,0.9402792290723325,null,null,null,null,null,null,null,null],[null,null,null,null,null,null,null,null,null,null,null,null,null,null,null,null,null,null,null,null,null,null,null,null,null,null,0.9393322593753628,null,null,null,null,null,null,null,null,null,null,null,null,null,null,null,null,null,null,null,null,null,null,null,null,null,null,null],[null,null,null,null,null,null,null,null,null,null,null,null,null,null,null,null,null,null,null,null,null,null,null,null,null,null,null,null,null,0.9402792290723325,null,null,null,null,null,null,null,null,null,null,null,null,null,null,null,null,null,null,null,null,null,null,null,null],[null,null,null,null,null,null,null,null,null,null,null,null,null,null,null,null,null,null,null,null,null,null,null,null,null,null,null,null,null,null,0.988879455474283,null,null,null,null,null,null,null,null,null,null,null,null,null,null,null,null,null,null,null,null,null,null,null],[null,null,null,null,null,null,null,null,null,0.9402792290723325,null,null,null,null,null,null,null,null,null,null,null,null,null,null,null,null,null,null,null,null,null,null,null,null,null,null,null,null,null,null,null,null,null,null,null,null,null,null,null,null,null,null,null,null],[null,null,null,null,null,null,null,null,null,null,null,null,null,null,null,null,null,null,null,null,0.9380551201671891,null,null,null,null,null,null,null,null,null,null,null,null,null,null,null,null,null,null,null,null,null,null,null,null,null,null,null,null,null,null,null,null,null],[null,null,null,null,null,null,null,null,null,null,null,null,null,null,null,null,null,null,null,null,null,null,null,null,null,null,null,null,null,null,null,null,null,null,null,null,0.9600095785440613,null,null,null,null,null,null,null,null,null,null,null,null,null,null,null,null,null],[null,null,null,null,null,null,null,null,null,null,null,null,null,0.9380551201671891,null,null,null,null,null,null,null,null,null,null,null,null,null,null,null,null,null,null,null,null,null,null,null,null,null,null,null,null,null,null,null,null,null,null,null,null,null,null,null,null],[null,null,null,null,null,null,null,null,null,null,null,0.9920505340763962,null,null,null,null,null,null,null,null,null,null,null,null,null,null,null,null,null,null,null,null,null,null,null,null,null,null,null,null,null,null,null,null,null,null,null,null,null,null,null,null,null,null],[null,null,null,null,null,null,null,null,null,null,null,null,null,null,null,null,null,null,null,0.9920505340763962,null,null,null,null,null,null,null,null,null,null,null,null,null,null,null,null,null,null,null,null,null,null,null,null,null,null,null,null,null,null,null,null,null,null],[null,null,null,null,null,null,null,null,null,null,null,null,null,null,null,null,null,null,null,null,null,null,null,null,null,null,null,null,null,null,null,null,null,null,0.9933276732845698,null,null,null,null,null,null,null,null,null,null,null,null,null,null,null,null,null,null,null],[null,null,null,null,null,null,null,0.9923807035876001,null,null,null,null,null,null,null,null,null,null,null,null,null,null,null,null,null,null,null,null,null,null,null,null,null,null,null,null,null,null,null,null,null,null,null,null,null,null,null,null,null,null,null,null,null,null],[null,null,null,null,null,null,null,null,null,null,null,null,null,0.9920505340763962,null,null,null,null,null,null,null,null,null,null,null,null,null,null,null,null,null,null,null,null,null,null,null,null,null,null,null,null,null,null,null,null,null,null,null,null,null,null,null,null],[null,null,null,null,null,null,null,null,null,null,0.9911035643794265,null,null,null,null,null,null,null,null,null,null,null,null,null,null,null,null,null,null,null,null,null,null,null,null,null,null,null,null,null,null,null,null,null,null,null,null,null,null,null,null,null,null,null],[null,null,null,null,null,null,null,null,null,null,null,null,null,null,null,null,null,null,null,null,null,null,0.9911035643794265,null,null,null,null,null,null,null,null,null,null,null,null,null,null,null,null,null,null,null,null,null,null,null,null,null,null,null,null,null,null,null],[null,null,null,null,null,null,null,null,null,null,null,null,null,null,null,null,null,null,null,null,null,null,null,null,null,null,null,null,null,null,null,null,null,null,null,null,null,null,null,null,null,null,null,null,null,null,null,null,null,null,null,0.9911035643794265,null,null],[null,null,null,null,null,null,null,null,null,null,null,null,null,null,null,null,null,null,null,null,null,null,0.9933276732845698,null,null,null,null,null,null,null,null,null,null,null,null,null,null,null,null,null,null,null,null,null,null,null,null,null,null,null,null,null,null,null],[null,null,null,null,null,null,null,null,null,null,null,null,null,null,null,null,null,null,null,null,null,null,null,null,null,null,null,null,null,null,null,null,null,null,null,null,null,null,null,null,null,null,null,null,null,null,null,null,null,null,null,null,null,null]],\"type\":\"contour\",\"xaxis\":\"x8\",\"yaxis\":\"y8\"},{\"marker\":{\"color\":\"black\",\"line\":{\"color\":\"Grey\",\"width\":2.0}},\"mode\":\"markers\",\"showlegend\":false,\"x\":[88,47,88,30,32,22,42,65,52,38,11,17,12,65,26,22,25,64,77,97,77,79,76,76,74,92,82,70,60,86,85,84,86,88,100,97,94,83,83,91,92,84,70,89,83,71,47,87,100,81,85,90,90,91,94,97,80,90,73,66,37,94,86,79,95,88,92,95,96,99,54,84,94,89,86,78,79,76,81,83,68,92,89,92,86,60,47,59,59,73,98,98,62,62,63,62,53,49,49,42],\"y\":[0.21415090864421538,0.6183393588449764,0.4955369632048551,0.788978516971918,0.568294483140127,0.6556197253048618,0.2607889147849083,0.8523481450304584,0.204774480443911,0.8360473509089751,0.017580688489167495,0.5757439050260932,0.4488454617366379,0.9952093161971984,0.38339108949162204,0.3783573261733709,0.34984621050070874,0.06816336891752811,0.3812048520012899,0.32849684093107323,0.7119336364696917,0.40807126783660513,0.4349571648534177,0.14398133150202946,0.10049784955749624,0.1593846010272439,0.29672281325955074,0.15126241832766066,0.26416092485356324,0.5132970523636197,0.5160236769414953,0.5092078421491011,0.5338748881897236,0.5285673188017547,0.5007804842610596,0.6407318944735574,0.6689369496786249,0.5713665262806743,0.7433079148027768,0.5798110120732055,0.5998177595923543,0.5541032239886347,0.47236892283818005,0.6001451314072975,0.5439822707982183,0.6918376929042345,0.47510381887388714,0.6285602450364968,0.558543528735306,0.7859876823522647,0.4498469702653812,0.549603941867679,0.5142624875562325,0.5965404882282515,0.42551230238691107,0.5055792514244312,0.47195833963891576,0.6563530269436376,0.5318771803427904,0.5626118616721701,0.7333452823069315,0.5949045962331351,0.4151934158649231,0.5654121430073455,0.6277274858591582,0.5027387659451736,0.6804996735359335,0.597445562021935,0.34436190380217346,0.9159475911651482,0.4016280929421766,0.5280571140194011,0.6117362226707697,0.4554702007383124,0.5280094666448093,0.5864911850300679,0.48849997770484743,0.7065391776212664,0.5749517640392326,0.5499290449649915,0.4869666343737278,0.6492270352513785,0.597135804237003,0.6484835841878254,0.5403879445077471,0.5761321439567597,0.6255691604899822,0.5842545370554068,0.4517383848232247,0.5050775587324385,0.5703512800948547,0.6417269630589296,0.6535086921831352,0.6695991980888816,0.7370566535133063,0.7778851703645735,0.6678651196850418,0.7442498731185044,0.8324234134793864,0.7519243294942659],\"type\":\"scatter\",\"xaxis\":\"x8\",\"yaxis\":\"y8\"},{\"colorbar\":{\"title\":{\"text\":\"Objective Value\"}},\"colorscale\":[[0.0,\"rgb(247,251,255)\"],[0.125,\"rgb(222,235,247)\"],[0.25,\"rgb(198,219,239)\"],[0.375,\"rgb(158,202,225)\"],[0.5,\"rgb(107,174,214)\"],[0.625,\"rgb(66,146,198)\"],[0.75,\"rgb(33,113,181)\"],[0.875,\"rgb(8,81,156)\"],[1.0,\"rgb(8,48,107)\"]],\"connectgaps\":true,\"contours\":{\"coloring\":\"heatmap\"},\"hoverinfo\":\"none\",\"line\":{\"smoothing\":1.3},\"reversescale\":true,\"showscale\":false,\"x\":[6.55,11,12,17,22,25,26,30,32,37,38,42,47,49,52,53,54,59,60,62,63,64,65,66,68,70,71,73,74,76,77,78,79,80,81,82,83,84,85,86,87,88,89,90,91,92,94,95,96,97,98,99,100,104.45],\"y\":[0.0007124539040580717,0.0010054989778286872,0.0010085276030225225,0.0010126380473999873,0.001013219628987948,0.0010332587609815055,0.0011170900375099776,0.0011519094932388666,0.0011545978814094112,0.0011603028791936439,0.0011866859001563228,0.0011870376384079688,0.0012139067899170294,0.0012164794579388328,0.0012244834475361103,0.001239698374764681,0.0012407304610466787,0.0012433814774598594,0.001281216537726556,0.001298853925658958,0.0013327952589450812,0.0013382097144481143,0.001347722138704087,0.001350923824878732,0.0013744380274322708,0.0013816022572488867,0.0014028295980928727,0.0014079716298844756,0.0014492789641041587,0.0014578392512450177,0.001464708575830703,0.0014705926842589624,0.0015604432596561123,0.0015817287502271314,0.0015905552470339315,0.0016075965963191162,0.0016077302717296782,0.0016366639388812726,0.0016646637513757694,0.0017057230871074395,0.0017526459038934206,0.0017885581050604506,0.0018668240504225687,0.0019043216144904824,0.0019114209814252994,0.001917789449811928,0.001920877300071056,0.0020745074137178865,0.0020851757820818054,0.0022206136235321614,0.0022498006341152067,0.0023462179207158766,0.0024223286691275815,0.0024598892013561304,0.0025437148043958298,0.0026201441718044552,0.002776077488860619,0.002802911748864269,0.0029703812840763894,0.00299555129800087,0.003298896731344554,0.0034827700113191666,0.0035100225034122587,0.0038577361938431317,0.004051695852770575,0.004405058160638876,0.004576523763264509,0.005057240810102104,0.006009359517501574,0.007090577955257333,0.007502519983666527,0.009139704253759616,0.01157008229068338,0.01517184332429048,0.01709602768971001,0.02973502039467869,0.031919681277843524,0.043251583333154174,0.04730015291090741,0.05117097994602003,0.06044108530503717,0.06805156091055424,0.11196224935501041,0.1130468657232294,0.12433581253390125,0.20456026722007212,0.20474535628128093,0.20973128772658298,0.3010320251851733,0.320291118804541,0.40638677662363126,0.4920429058871023,0.5276903440717914,0.6071802721812887,0.6305796194386968,0.9028536898580939,0.9048862357897041,0.921569392437394,0.9339651412812896,0.9797172338878688,0.9882774582089302,1.3947737086990761],\"z\":[[null,null,null,null,null,null,null,null,null,null,null,null,null,null,null,null,null,null,null,null,null,null,null,null,null,null,null,null,null,null,null,null,null,null,null,null,null,null,null,null,null,null,null,null,null,null,null,null,null,null,null,null,null,null],[null,null,null,null,null,null,null,null,null,null,null,null,null,null,null,null,null,null,null,null,null,null,null,null,null,null,null,null,null,null,null,null,null,null,null,null,null,null,null,null,null,null,null,null,0.9402792290723325,null,null,null,null,null,null,null,null,null],[null,null,null,null,null,null,null,null,null,null,null,0.9920505340763962,null,null,null,null,null,null,null,null,null,null,null,null,null,null,null,null,null,null,null,null,null,null,null,null,null,null,null,null,null,null,null,null,null,null,null,null,null,null,null,null,null,null],[null,null,null,null,null,null,null,null,null,null,null,null,null,null,null,null,null,null,null,null,null,null,null,null,null,null,null,null,null,null,null,null,null,null,null,null,null,null,null,null,null,null,null,null,null,0.9402792290723325,null,null,null,null,null,null,null,null],[null,null,null,null,null,null,null,null,null,null,null,null,null,null,null,null,null,null,null,null,null,null,null,null,null,null,null,null,null,0.9402792290723325,null,null,null,null,null,null,null,null,null,null,null,null,null,null,null,null,null,null,null,null,null,null,null,null],[null,null,null,null,null,null,null,null,null,null,null,null,null,null,null,null,null,null,null,null,null,null,null,null,null,null,null,null,null,null,null,null,null,null,null,null,null,null,null,null,null,0.9402792290723325,null,null,null,null,null,null,null,null,null,null,null,null],[null,null,null,null,null,null,null,null,null,null,null,null,null,null,null,null,null,null,null,0.9920505340763962,null,null,null,null,null,null,null,null,null,null,null,null,null,null,null,null,null,null,null,null,null,null,null,null,null,null,null,null,null,null,null,null,null,null],[null,null,null,null,null,null,null,null,null,null,null,null,0.9393322593753628,null,null,null,null,null,null,null,null,null,null,null,null,null,null,null,null,null,null,null,null,null,null,null,null,null,null,null,null,null,null,null,null,null,null,null,null,null,null,null,null,null],[null,null,null,null,null,null,null,null,null,null,null,null,null,null,null,null,null,0.9901565946824569,null,null,null,null,null,null,null,null,null,null,null,null,null,null,null,null,null,null,null,null,null,null,null,null,null,null,null,null,null,null,null,null,null,null,null,null],[null,null,null,null,null,null,null,null,null,null,null,null,null,null,null,null,null,null,null,null,null,null,null,null,null,null,null,null,null,null,null,null,null,null,null,null,null,null,null,0.9393322593753628,null,null,null,null,null,null,null,null,null,null,null,null,null,null],[null,null,null,null,null,null,null,null,null,null,null,null,null,null,null,null,null,null,null,0.9380551201671891,null,null,null,null,null,null,null,null,null,null,null,null,null,null,null,null,null,null,null,null,null,null,null,null,null,null,null,null,null,null,null,null,null,null],[null,null,null,null,null,null,null,null,null,null,null,null,null,null,null,null,null,null,null,null,0.9380551201671891,null,null,null,null,null,null,null,null,null,null,null,null,null,null,null,null,null,null,null,null,null,null,null,null,null,null,null,null,null,null,null,null,null],[null,null,null,null,null,null,null,null,null,null,null,null,null,null,null,null,null,null,null,null,null,null,null,null,null,null,null,null,null,null,null,0.9380551201671891,null,null,null,null,null,null,null,null,null,null,null,null,null,null,null,null,null,null,null,null,null,null],[null,null,null,null,null,null,null,null,null,null,null,null,null,null,null,null,null,null,null,null,null,null,null,null,null,null,null,null,null,null,null,null,null,null,null,null,null,null,null,0.9380551201671891,null,null,null,null,null,null,null,null,null,null,null,null,null,null],[null,null,null,null,null,null,null,null,null,null,null,null,null,null,null,null,null,null,0.9380551201671891,null,null,null,null,null,null,null,null,null,null,null,null,null,null,null,null,null,null,null,null,null,null,null,null,null,null,null,null,null,null,null,null,null,null,null],[null,null,null,null,null,null,null,null,null,0.9402792290723325,null,null,null,null,null,null,null,null,null,null,null,null,null,null,null,null,null,null,null,null,null,null,null,null,null,null,null,null,null,null,null,null,null,null,null,null,null,null,null,null,null,null,null,null],[null,null,null,null,null,null,null,null,null,null,null,null,null,null,null,null,0.9901565946824569,null,null,null,null,null,null,null,null,null,null,null,null,null,null,null,null,null,null,null,null,null,null,null,null,null,null,null,null,null,null,null,null,null,null,null,null,null],[null,null,null,null,null,null,null,null,null,null,null,null,null,null,null,null,null,null,null,null,null,null,null,null,null,null,null,null,null,null,null,null,0.9901565946824569,null,null,null,null,null,null,null,null,null,null,null,null,null,null,null,null,null,null,null,null,null],[null,null,null,null,null,null,null,null,null,null,null,null,null,null,null,null,null,null,null,null,null,null,null,null,null,null,null,null,null,null,null,null,null,null,null,null,null,null,null,null,null,null,null,null,null,null,0.9901565946824569,null,null,null,null,null,null,null],[null,null,null,null,null,null,null,null,null,null,null,null,null,null,null,null,null,null,null,null,null,null,null,null,null,null,null,null,null,null,null,null,null,null,null,null,null,null,null,null,null,null,null,0.9380551201671891,null,null,null,null,null,null,null,null,null,null],[null,null,null,null,null,null,null,null,null,null,null,null,null,null,null,null,null,null,null,null,null,null,null,null,null,null,null,null,null,null,null,null,null,null,null,null,null,0.9380551201671891,null,null,null,null,null,null,null,null,null,null,null,null,null,null,null,null],[null,null,null,null,null,null,null,null,null,null,null,null,null,null,null,null,null,null,null,0.9380551201671891,null,null,null,null,null,null,null,null,null,null,null,null,null,null,null,null,null,null,null,null,null,null,null,null,null,null,null,null,null,null,null,null,null,null],[null,null,null,null,null,null,null,null,null,null,null,null,null,null,null,0.9380551201671891,null,null,null,null,null,null,null,null,null,null,null,null,null,null,null,null,null,null,null,null,null,null,null,null,null,null,null,null,null,null,null,null,null,null,null,null,null,null],[null,null,null,null,null,null,null,null,null,null,null,null,null,null,null,null,null,null,null,null,null,null,null,null,null,null,null,null,null,null,null,null,null,null,null,null,null,null,null,null,null,null,null,null,null,null,null,null,null,null,0.9380551201671891,null,null,null],[null,null,null,null,null,null,null,null,null,null,null,null,null,0.9380551201671891,null,null,null,null,null,null,null,null,null,null,null,null,null,null,null,null,null,null,null,null,null,null,null,null,null,null,null,null,null,null,null,null,null,null,null,null,null,null,null,null],[null,null,null,null,null,null,null,null,null,null,null,null,null,null,null,null,null,null,null,null,null,null,null,null,0.9901565946824569,null,null,null,null,null,null,null,null,null,null,null,null,null,null,null,null,null,null,null,null,null,null,null,null,null,null,null,null,null],[null,null,null,null,null,null,null,null,null,null,null,null,null,null,null,null,null,null,null,null,null,null,null,null,null,null,null,null,null,null,null,null,null,null,null,null,null,null,null,null,null,null,null,null,null,null,null,null,null,null,0.9380551201671891,null,null,null],[null,null,null,null,null,null,null,null,null,null,null,null,0.9901565946824569,null,null,null,null,null,null,null,null,null,null,null,null,null,null,null,null,null,null,null,null,null,null,null,null,null,null,null,null,null,null,null,null,null,null,null,null,null,null,null,null,null],[null,null,null,null,null,null,null,null,null,null,null,null,null,null,null,null,null,null,null,null,null,null,null,null,null,null,null,null,null,null,null,null,null,null,null,null,null,null,null,0.9901565946824569,null,null,null,null,null,null,null,null,null,null,null,null,null,null],[null,null,null,null,null,null,null,null,null,null,null,null,null,null,null,null,null,null,null,null,null,null,null,null,null,0.9901565946824569,null,null,null,null,null,null,null,null,null,null,null,null,null,null,null,null,null,null,null,null,null,null,null,null,null,null,null,null],[null,null,null,null,null,null,null,null,null,null,null,null,null,null,null,null,null,null,null,null,null,null,null,null,null,null,null,null,null,null,null,null,null,null,null,null,null,null,null,null,null,null,null,0.9380551201671891,null,null,null,null,null,null,null,null,null,null],[null,null,null,null,null,null,null,null,null,null,null,null,null,null,null,null,null,0.9402792290723325,null,null,null,null,null,null,null,null,null,null,null,null,null,null,null,null,null,null,null,null,null,null,null,null,null,null,null,null,null,null,null,null,null,null,null,null],[null,null,null,null,null,null,null,null,null,null,null,null,null,null,null,null,null,null,null,null,null,null,null,null,null,null,null,null,null,null,null,null,null,null,null,null,null,null,0.9383852896783931,null,null,null,null,null,null,null,null,null,null,null,null,null,null,null],[null,null,null,null,null,null,null,null,null,null,null,null,null,null,null,null,null,null,null,null,null,null,null,null,null,null,null,null,null,null,null,null,null,null,null,null,null,0.9383852896783931,null,null,null,null,null,null,null,null,null,null,null,null,null,null,null,null],[null,null,null,null,null,null,null,null,null,null,null,null,null,null,null,null,null,null,null,null,null,null,null,null,null,null,null,null,null,null,null,null,null,null,null,null,null,null,null,0.9383852896783931,null,null,null,null,null,null,null,null,null,null,null,null,null,null],[null,null,null,null,null,null,null,null,null,null,null,null,null,null,null,null,null,null,null,null,null,null,null,null,null,null,null,null,null,null,null,null,null,null,null,null,null,null,null,null,null,null,null,null,null,null,0.9383852896783931,null,null,null,null,null,null,null],[null,null,null,null,null,null,null,null,null,null,null,null,null,null,null,null,null,null,null,null,null,null,null,null,null,null,null,null,null,null,null,null,null,null,null,null,null,null,null,null,null,null,null,null,0.9383852896783931,null,null,null,null,null,null,null,null,null],[null,null,null,null,null,null,null,null,null,null,null,null,null,null,null,null,null,null,null,null,null,null,null,null,null,null,null,null,null,null,null,null,null,null,null,null,null,null,null,0.9383852896783931,null,null,null,null,null,null,null,null,null,null,null,null,null,null],[null,null,null,null,null,null,null,null,null,null,null,null,null,null,null,null,null,null,null,null,null,null,null,null,null,null,null,null,null,null,null,null,null,null,null,null,null,0.9383852896783931,null,null,null,null,null,null,null,null,null,null,null,null,null,null,null,null],[null,null,null,null,null,null,null,null,null,null,null,null,null,null,null,null,null,null,null,null,null,null,null,null,null,null,null,null,null,null,null,null,null,null,null,null,null,null,null,null,null,null,null,null,null,0.9383852896783931,null,null,null,null,null,null,null,null],[null,null,null,null,null,null,null,0.9923807035876001,null,null,null,null,null,null,null,null,null,null,null,null,null,null,null,null,null,null,null,null,null,null,null,null,null,null,null,null,null,null,null,null,null,null,null,null,null,null,null,null,null,null,null,null,null,null],[null,null,null,null,null,null,null,null,null,null,null,null,null,null,null,null,null,null,null,null,null,null,null,null,null,null,null,null,null,null,null,null,null,null,null,null,null,null,null,null,null,null,null,null,null,null,null,0.9383852896783931,null,null,null,null,null,null],[null,null,null,null,null,null,null,null,null,null,null,null,null,null,null,null,null,null,null,null,null,null,null,null,null,null,null,null,null,null,null,null,null,null,null,null,0.9383852896783931,null,null,null,null,null,null,null,null,null,null,null,null,null,null,null,null,null],[null,null,null,null,null,null,null,null,null,null,null,null,null,null,null,null,null,null,null,null,null,null,null,null,null,null,null,null,null,null,null,null,null,null,null,null,null,null,null,null,null,null,null,null,null,null,null,null,null,0.9393322593753628,null,null,null,null],[null,null,null,null,null,null,null,null,null,null,null,null,null,null,null,null,null,null,null,null,null,null,null,null,null,null,null,null,null,null,null,null,null,null,null,null,null,null,0.9901565946824569,null,null,null,null,null,null,null,null,null,null,null,null,null,null,null],[null,null,null,null,null,null,null,null,null,null,null,null,null,null,null,null,null,null,null,null,null,null,null,null,null,null,null,null,null,null,null,null,null,null,null,null,null,null,null,null,null,null,null,null,null,null,null,0.9393322593753628,null,null,null,null,null,null],[null,null,null,null,null,null,null,null,null,null,null,null,null,null,null,null,null,null,null,null,null,null,null,null,null,null,0.9393322593753628,null,null,null,null,null,null,null,null,null,null,null,null,null,null,null,null,null,null,null,null,null,null,null,null,null,null,null],[null,null,null,null,null,null,null,null,null,null,null,null,null,null,null,null,null,null,null,null,null,null,null,null,null,null,null,null,null,null,null,null,null,null,null,null,null,null,null,null,null,null,null,null,null,null,0.9393322593753628,null,null,null,null,null,null,null],[null,null,null,null,null,null,null,null,null,null,null,null,null,null,null,null,null,null,null,null,null,null,null,null,null,null,null,0.9393322593753628,null,null,null,null,null,null,null,null,null,null,null,null,null,null,null,null,null,null,null,null,null,null,null,null,null,null],[null,null,null,null,null,null,null,null,null,null,null,null,null,null,null,null,null,null,null,null,null,null,null,null,null,null,null,null,null,null,null,null,null,null,null,null,null,null,null,null,null,null,0.9393322593753628,null,null,null,null,null,null,null,null,null,null,null],[null,null,null,null,null,null,null,null,null,null,null,null,null,null,null,null,null,null,null,null,null,null,null,0.9393322593753628,null,null,null,null,null,null,null,null,null,null,null,null,null,null,null,null,null,null,null,null,null,null,null,null,null,null,null,null,null,null],[null,null,null,null,null,null,null,null,null,null,null,null,null,null,null,null,null,null,null,null,null,null,null,null,null,null,null,null,null,null,null,null,null,null,null,null,null,null,null,null,null,null,null,null,null,null,null,null,null,null,null,null,0.9393322593753628,null],[null,null,null,null,null,null,null,null,null,null,null,null,null,null,null,null,null,null,null,null,null,null,null,null,null,null,null,null,null,null,null,null,null,null,null,null,null,null,null,null,null,null,0.9393322593753628,null,null,null,null,null,null,null,null,null,null,null],[null,null,null,null,null,null,null,null,null,null,null,null,null,null,null,null,null,null,null,null,null,null,null,null,null,null,null,null,null,null,null,null,null,null,0.9393322593753628,null,null,null,null,null,null,null,null,null,null,null,null,null,null,null,null,null,null,null],[null,null,null,null,null,null,null,null,null,null,null,null,null,null,null,null,null,null,null,null,null,null,null,null,null,null,null,null,null,null,null,null,null,null,null,null,null,null,null,null,null,null,null,null,null,null,null,null,null,0.9393322593753628,null,null,null,null],[null,null,null,null,null,null,null,null,null,null,null,null,null,0.9920505340763962,null,null,null,null,null,null,null,null,null,null,null,null,null,null,null,null,null,null,null,null,null,null,null,null,null,null,null,null,null,null,null,null,null,null,null,null,null,null,null,null],[null,null,null,null,null,null,null,null,null,null,null,null,null,null,null,null,null,null,null,null,null,null,null,null,null,null,null,null,null,null,null,null,0.9393322593753628,null,null,null,null,null,null,null,null,null,null,null,null,null,null,null,null,null,null,null,null,null],[null,null,null,null,null,null,null,null,null,null,null,null,null,null,null,null,null,null,null,null,null,null,null,null,null,null,null,null,null,null,null,null,null,null,null,null,null,null,null,null,null,null,0.9911035643794266,null,null,null,null,null,null,null,null,null,null,null],[null,null,null,null,null,null,null,null,null,null,null,null,null,null,null,null,null,null,null,null,null,null,null,null,null,null,null,null,null,null,null,null,null,null,null,null,0.9393322593753628,null,null,null,null,null,null,null,null,null,null,null,null,null,null,null,null,null],[null,null,null,null,null,null,null,null,null,null,null,null,null,null,null,null,null,null,null,null,null,null,null,null,null,null,null,null,null,null,null,null,null,null,null,null,null,null,null,null,null,null,null,null,null,0.9393322593753628,null,null,null,null,null,null,null,null],[null,null,null,null,null,null,null,null,null,null,null,null,null,null,null,null,null,null,null,null,null,null,null,null,null,null,null,null,null,null,null,null,null,null,null,null,null,null,null,null,null,null,null,0.9393322593753628,null,null,null,null,null,null,null,null,null,null],[null,null,null,null,null,null,null,null,null,null,null,null,null,null,null,null,null,null,null,null,null,null,null,null,null,null,null,null,null,null,null,null,null,null,null,null,null,null,null,null,null,null,null,null,null,null,null,null,null,null,null,null,0.9492192035295485,null],[null,null,null,null,null,null,null,null,null,null,null,null,null,null,null,null,null,null,null,null,null,null,null,null,null,null,null,null,null,null,null,null,null,null,null,null,null,null,null,null,null,0.9911035643794266,null,null,null,null,null,null,null,null,null,null,null,null],[null,null,null,null,null,null,null,null,null,null,null,null,null,null,null,null,null,null,null,null,null,null,null,null,null,null,null,null,null,null,null,null,null,null,null,null,0.9536674213398352,null,null,null,null,null,null,null,null,null,null,null,null,null,null,null,null,null],[null,null,null,null,null,null,null,null,null,null,null,null,null,null,null,null,null,null,null,null,null,null,null,null,null,null,null,null,null,null,null,null,null,null,null,null,null,null,null,null,null,0.9536674213398352,null,null,null,null,null,null,null,null,null,null,null,null],[null,null,null,null,null,null,null,null,null,null,null,null,null,null,null,null,null,null,null,null,null,null,null,null,null,null,null,null,null,null,null,null,null,null,null,null,null,null,null,null,null,null,null,null,null,null,0.9587324393358876,null,null,null,null,null,null,null],[null,null,null,null,null,null,null,null,null,null,null,null,null,null,null,null,null,null,null,null,null,null,null,null,null,null,null,null,null,null,null,null,null,null,null,null,null,null,null,null,0.9587324393358876,null,null,null,null,null,null,null,null,null,null,null,null,null],[null,null,null,null,null,null,null,null,null,null,null,null,null,null,null,null,null,null,null,null,null,null,null,null,null,null,null,null,null,null,null,null,null,null,null,null,0.9600095785440613,null,null,null,null,null,null,null,null,null,null,null,null,null,null,null,null,null],[null,null,null,null,null,null,null,null,null,null,null,null,null,null,null,null,null,null,null,null,null,null,null,null,null,null,null,0.9628504876349705,null,null,null,null,null,null,null,null,null,null,null,null,null,null,null,null,null,null,null,null,null,null,null,null,null,null],[null,null,null,null,null,null,null,null,null,null,null,null,null,null,null,null,null,null,null,null,null,null,0.9933276732845698,null,null,null,null,null,null,null,null,null,null,null,null,null,null,null,null,null,null,null,null,null,null,null,null,null,null,null,null,null,null,null],[null,null,null,null,null,null,null,null,null,null,null,null,null,null,null,null,null,null,null,null,null,null,null,null,null,null,null,null,null,null,null,null,null,null,0.9933276732845698,null,null,null,null,null,null,null,null,null,null,null,null,null,null,null,null,null,null,null],[null,null,null,null,null,null,null,null,null,null,null,null,null,null,null,null,null,null,null,null,null,null,null,null,null,null,null,null,null,null,null,null,null,null,null,null,null,null,null,null,null,null,null,null,null,null,null,null,0.9920505340763962,null,null,null,null,null],[null,null,null,null,null,null,null,null,null,null,null,null,null,null,null,null,null,null,null,null,null,null,null,null,null,null,null,null,null,null,null,null,null,null,null,null,null,null,null,null,null,null,null,null,null,0.978419249970974,null,null,null,null,null,null,null,null],[null,null,null,null,null,null,null,null,null,null,null,null,null,null,0.9920505340763962,null,null,null,null,null,null,null,null,null,null,null,null,null,null,null,null,null,null,null,null,null,null,null,null,null,null,null,null,null,null,null,null,null,null,null,null,null,null,null],[null,null,null,null,null,null,null,null,null,null,null,null,null,null,null,null,null,null,null,null,null,null,null,null,null,null,null,null,null,null,null,null,null,null,null,null,null,null,null,null,null,null,null,null,null,null,null,null,null,null,null,0.9911035643794265,null,null],[null,null,null,null,null,null,null,null,null,null,0.9911035643794265,null,null,null,null,null,null,null,null,null,null,null,null,null,null,null,null,null,null,null,null,null,null,null,null,null,null,null,null,null,null,null,null,null,null,null,null,null,null,null,null,null,null,null],[null,null,null,null,null,null,null,null,null,null,null,null,null,null,null,null,null,null,null,null,null,null,null,null,null,null,null,null,null,null,null,null,null,0.9911035643794266,null,null,null,null,null,null,null,null,null,null,null,null,null,null,null,null,null,null,null,null],[null,null,null,null,null,null,null,null,null,null,null,null,null,null,null,null,null,null,null,null,null,null,0.9911035643794265,null,null,null,null,null,null,null,null,null,null,null,null,null,null,null,null,null,null,null,null,null,null,null,null,null,null,null,null,null,null,null],[null,null,null,null,null,null,null,null,0.975578340880065,null,null,null,null,null,null,null,null,null,null,null,null,null,null,null,null,null,null,null,null,null,null,null,null,null,null,null,null,null,null,null,null,null,null,null,null,null,null,null,null,null,null,null,null,null],[null,null,null,null,null,null,null,null,null,null,null,null,null,null,null,null,null,null,null,null,null,null,null,null,null,null,null,null,null,null,null,null,null,null,null,null,null,null,null,null,null,0.9911035643794266,null,null,null,null,null,null,null,null,null,null,null,null],[null,null,null,null,null,null,null,null,null,null,null,null,0.9911035643794266,null,null,null,null,null,null,null,null,null,null,null,null,null,null,null,null,null,null,null,null,null,null,null,null,null,null,null,null,null,null,null,null,null,null,null,null,null,null,null,null,null],[null,null,null,null,null,null,null,null,null,null,null,0.9911035643794266,null,null,null,null,null,null,null,null,null,null,null,null,null,null,null,null,null,null,null,null,null,null,null,null,null,null,null,null,null,null,null,null,null,null,null,null,null,null,null,null,null,null],[null,null,null,null,null,null,null,null,null,null,null,null,null,null,null,null,null,null,null,null,null,null,null,null,null,null,null,null,null,null,null,null,null,null,null,null,null,null,null,null,null,null,null,null,null,0.988879455474283,null,null,null,null,null,null,null,null],[null,null,null,null,null,null,null,null,null,null,null,null,null,null,null,null,null,null,null,null,null,null,null,null,null,null,null,null,null,null,0.988879455474283,null,null,null,null,null,null,null,null,null,null,null,null,null,null,null,null,null,null,null,null,null,null,null],[null,null,null,null,null,null,null,null,null,null,null,null,null,null,null,null,null,null,null,null,null,null,null,null,null,0.9866553465691398,null,null,null,null,null,null,null,null,null,null,null,null,null,null,null,null,null,null,null,null,null,null,null,null,null,null,null,null],[null,null,null,null,null,0.9911035643794266,null,null,null,null,null,null,null,null,null,null,null,null,null,null,null,null,null,null,null,null,null,null,null,null,null,null,null,null,null,null,null,null,null,null,null,null,null,null,null,null,null,null,null,null,null,null,null,null],[null,null,null,null,null,null,null,null,null,null,null,null,null,null,null,null,null,null,null,null,null,0.9911035643794266,null,null,null,null,null,null,null,null,null,null,null,null,null,null,null,null,null,null,null,null,null,null,null,null,null,null,null,null,null,null,null,null],[null,null,0.9911035643794266,null,null,null,null,null,null,null,null,null,null,null,null,null,null,null,null,null,null,null,null,null,null,null,null,null,null,null,null,null,null,null,null,null,null,null,null,null,null,null,null,null,null,null,null,null,null,null,null,null,null,null],[null,null,null,null,null,null,null,null,null,null,null,null,null,null,null,null,null,null,null,null,null,null,null,null,null,null,null,null,null,null,null,null,null,null,null,null,null,null,null,null,null,null,null,null,null,null,null,null,null,0.9847614071752003,null,null,null,null],[null,null,null,null,null,null,null,null,null,null,null,null,null,null,null,null,null,null,null,null,null,null,null,null,null,null,null,null,null,null,null,null,null,null,null,0.9847614071752003,null,null,null,null,null,null,null,null,null,null,null,null,null,null,null,null,null,null],[null,0.9866553465691398,null,null,null,null,null,null,null,null,null,null,null,null,null,null,null,null,null,null,null,null,null,null,null,null,null,null,null,null,null,null,null,null,null,null,null,null,null,null,null,null,null,null,null,null,null,null,null,null,null,null,null,null],[null,null,null,null,null,null,null,null,null,null,null,null,null,null,null,null,null,null,null,null,null,null,null,null,null,null,null,null,null,0.9721206316033902,null,null,null,null,null,null,null,null,null,null,null,null,null,null,null,null,null,null,null,null,null,null,null,null],[null,null,null,null,null,null,null,null,null,null,null,null,null,null,null,null,null,null,null,null,null,null,null,null,null,null,null,null,0.9721206316033902,null,null,null,null,null,null,null,null,null,null,null,null,null,null,null,null,null,null,null,null,null,null,null,null,null],[null,null,null,null,0.9815903285730873,null,null,null,null,null,null,null,null,null,null,null,null,null,null,null,null,null,null,null,null,null,null,null,null,null,null,null,null,null,null,null,null,null,null,null,null,null,null,null,null,null,null,null,null,null,null,null,null,null],[null,null,null,null,null,null,null,null,null,null,null,null,null,null,null,null,null,null,0.9708434923952165,null,null,null,null,null,null,null,null,null,null,null,null,null,null,null,null,null,null,null,null,null,null,null,null,null,null,null,null,null,null,null,null,null,null,null],[null,null,null,null,null,null,null,null,null,null,null,null,null,null,null,null,null,null,null,null,null,null,null,null,null,null,null,null,null,null,null,null,0.9667254440961338,null,null,null,null,null,null,null,null,null,null,null,null,null,null,null,null,null,null,null,null,null],[null,null,null,null,null,null,null,null,null,null,null,null,null,null,null,null,null,null,null,null,null,null,null,null,null,null,null,null,null,0.9667254440961338,null,null,null,null,null,null,null,null,null,null,null,null,null,null,null,null,null,null,null,null,null,null,null,null],[null,null,null,null,null,null,0.9721206316033902,null,null,null,null,null,null,null,null,null,null,null,null,null,null,null,null,null,null,null,null,null,null,null,null,null,null,null,null,null,null,null,null,null,null,null,null,null,null,null,null,null,null,null,null,null,null,null],[null,null,null,0.9721206316033904,null,null,null,null,null,null,null,null,null,null,null,null,null,null,null,null,null,null,null,null,null,null,null,null,null,null,null,null,null,null,null,null,null,null,null,null,null,null,null,null,null,null,null,null,null,null,null,null,null,null],[null,null,null,null,null,null,null,null,null,null,null,null,null,null,null,null,null,null,null,null,null,null,null,null,null,null,null,null,null,null,0.9667254440961338,null,null,null,null,null,null,null,null,null,null,null,null,null,null,null,null,null,null,null,null,null,null,null],[null,null,null,null,0.9698965226982468,null,null,null,null,null,null,null,null,null,null,null,null,null,null,null,null,null,null,null,null,null,null,null,null,null,null,null,null,null,null,null,null,null,null,null,null,null,null,null,null,null,null,null,null,null,null,null,null,null],[null,null,null,null,null,null,null,null,null,null,null,null,null,null,null,null,null,null,null,null,null,null,null,null,null,null,null,null,null,null,null,null,null,null,null,null,null,null,null,null,null,null,null,null,null,null,null,null,null,null,null,null,null,null]],\"type\":\"contour\",\"xaxis\":\"x12\",\"yaxis\":\"y12\"},{\"marker\":{\"color\":\"black\",\"line\":{\"color\":\"Grey\",\"width\":2.0}},\"mode\":\"markers\",\"showlegend\":false,\"x\":[88,47,88,30,32,22,42,65,52,38,11,17,12,65,26,22,25,64,77,97,77,79,76,76,74,92,82,70,60,86,85,84,86,88,100,97,94,83,83,91,92,84,70,89,83,71,47,87,100,81,85,90,90,91,94,97,80,90,73,66,37,94,86,79,95,88,92,95,96,99,54,84,94,89,86,78,79,76,81,83,68,92,89,92,86,60,47,59,59,73,98,98,62,62,63,62,53,49,49,42],\"y\":[0.0035100225034122587,0.06044108530503717,0.05117097994602003,0.0017526459038934206,0.04730015291090741,0.6071802721812887,0.06805156091055424,0.043251583333154174,0.01517184332429048,0.02973502039467869,0.40638677662363126,0.9339651412812896,0.20973128772658298,0.007090577955257333,0.921569392437394,0.9882774582089302,0.20456026722007212,0.20474535628128093,0.9797172338878688,0.3010320251851733,0.1130468657232294,0.9028536898580939,0.4920429058871023,0.9048862357897041,0.5276903440717914,0.11196224935501041,0.320291118804541,0.12433581253390125,0.6305796194386968,0.0011603028791936439,0.0015604432596561123,0.0013327952589450812,0.0012164794579388328,0.0010332587609815055,0.0023462179207158766,0.0025437148043958298,0.004405058160638876,0.0018668240504225687,0.005057240810102104,0.0016077302717296782,0.01157008229068338,0.0015817287502271314,0.0014578392512450177,0.0024223286691275815,0.0029703812840763894,0.001920877300071056,0.0014079716298844756,0.004576523763264509,0.0034827700113191666,0.007502519983666527,0.0019114209814252994,0.001464708575830703,0.001298853925658958,0.0010054989778286872,0.001281216537726556,0.0019043216144904824,0.031919681277843524,0.003298896731344554,0.006009359517501574,0.0022498006341152067,0.001239698374764681,0.0016075965963191162,0.0014492789641041587,0.002776077488860619,0.001917789449811928,0.004051695852770575,0.0010126380473999873,0.0017885581050604506,0.009139704253759616,0.01709602768971001,0.0012407304610466787,0.0016646637513757694,0.0020745074137178865,0.002802911748864269,0.0015905552470339315,0.0012139067899170294,0.0012433814774598594,0.001013219628987948,0.0024598892013561304,0.0038577361938431317,0.0013816022572488867,0.0017057230871074395,0.0022206136235321614,0.00299555129800087,0.0016366639388812726,0.0012244834475361103,0.0011519094932388666,0.0014705926842589624,0.0011545978814094112,0.0020851757820818054,0.0014028295980928727,0.001350923824878732,0.0013382097144481143,0.0011866859001563228,0.0011870376384079688,0.0011170900375099776,0.001347722138704087,0.0013744380274322708,0.0026201441718044552,0.0010085276030225225],\"type\":\"scatter\",\"xaxis\":\"x12\",\"yaxis\":\"y12\"},{\"type\":\"scatter\",\"xaxis\":\"x16\",\"yaxis\":\"y16\"}],                        {\"template\":{\"data\":{\"bar\":[{\"error_x\":{\"color\":\"#2a3f5f\"},\"error_y\":{\"color\":\"#2a3f5f\"},\"marker\":{\"line\":{\"color\":\"#E5ECF6\",\"width\":0.5},\"pattern\":{\"fillmode\":\"overlay\",\"size\":10,\"solidity\":0.2}},\"type\":\"bar\"}],\"barpolar\":[{\"marker\":{\"line\":{\"color\":\"#E5ECF6\",\"width\":0.5},\"pattern\":{\"fillmode\":\"overlay\",\"size\":10,\"solidity\":0.2}},\"type\":\"barpolar\"}],\"carpet\":[{\"aaxis\":{\"endlinecolor\":\"#2a3f5f\",\"gridcolor\":\"white\",\"linecolor\":\"white\",\"minorgridcolor\":\"white\",\"startlinecolor\":\"#2a3f5f\"},\"baxis\":{\"endlinecolor\":\"#2a3f5f\",\"gridcolor\":\"white\",\"linecolor\":\"white\",\"minorgridcolor\":\"white\",\"startlinecolor\":\"#2a3f5f\"},\"type\":\"carpet\"}],\"choropleth\":[{\"colorbar\":{\"outlinewidth\":0,\"ticks\":\"\"},\"type\":\"choropleth\"}],\"contour\":[{\"colorbar\":{\"outlinewidth\":0,\"ticks\":\"\"},\"colorscale\":[[0.0,\"#0d0887\"],[0.1111111111111111,\"#46039f\"],[0.2222222222222222,\"#7201a8\"],[0.3333333333333333,\"#9c179e\"],[0.4444444444444444,\"#bd3786\"],[0.5555555555555556,\"#d8576b\"],[0.6666666666666666,\"#ed7953\"],[0.7777777777777778,\"#fb9f3a\"],[0.8888888888888888,\"#fdca26\"],[1.0,\"#f0f921\"]],\"type\":\"contour\"}],\"contourcarpet\":[{\"colorbar\":{\"outlinewidth\":0,\"ticks\":\"\"},\"type\":\"contourcarpet\"}],\"heatmap\":[{\"colorbar\":{\"outlinewidth\":0,\"ticks\":\"\"},\"colorscale\":[[0.0,\"#0d0887\"],[0.1111111111111111,\"#46039f\"],[0.2222222222222222,\"#7201a8\"],[0.3333333333333333,\"#9c179e\"],[0.4444444444444444,\"#bd3786\"],[0.5555555555555556,\"#d8576b\"],[0.6666666666666666,\"#ed7953\"],[0.7777777777777778,\"#fb9f3a\"],[0.8888888888888888,\"#fdca26\"],[1.0,\"#f0f921\"]],\"type\":\"heatmap\"}],\"heatmapgl\":[{\"colorbar\":{\"outlinewidth\":0,\"ticks\":\"\"},\"colorscale\":[[0.0,\"#0d0887\"],[0.1111111111111111,\"#46039f\"],[0.2222222222222222,\"#7201a8\"],[0.3333333333333333,\"#9c179e\"],[0.4444444444444444,\"#bd3786\"],[0.5555555555555556,\"#d8576b\"],[0.6666666666666666,\"#ed7953\"],[0.7777777777777778,\"#fb9f3a\"],[0.8888888888888888,\"#fdca26\"],[1.0,\"#f0f921\"]],\"type\":\"heatmapgl\"}],\"histogram\":[{\"marker\":{\"pattern\":{\"fillmode\":\"overlay\",\"size\":10,\"solidity\":0.2}},\"type\":\"histogram\"}],\"histogram2d\":[{\"colorbar\":{\"outlinewidth\":0,\"ticks\":\"\"},\"colorscale\":[[0.0,\"#0d0887\"],[0.1111111111111111,\"#46039f\"],[0.2222222222222222,\"#7201a8\"],[0.3333333333333333,\"#9c179e\"],[0.4444444444444444,\"#bd3786\"],[0.5555555555555556,\"#d8576b\"],[0.6666666666666666,\"#ed7953\"],[0.7777777777777778,\"#fb9f3a\"],[0.8888888888888888,\"#fdca26\"],[1.0,\"#f0f921\"]],\"type\":\"histogram2d\"}],\"histogram2dcontour\":[{\"colorbar\":{\"outlinewidth\":0,\"ticks\":\"\"},\"colorscale\":[[0.0,\"#0d0887\"],[0.1111111111111111,\"#46039f\"],[0.2222222222222222,\"#7201a8\"],[0.3333333333333333,\"#9c179e\"],[0.4444444444444444,\"#bd3786\"],[0.5555555555555556,\"#d8576b\"],[0.6666666666666666,\"#ed7953\"],[0.7777777777777778,\"#fb9f3a\"],[0.8888888888888888,\"#fdca26\"],[1.0,\"#f0f921\"]],\"type\":\"histogram2dcontour\"}],\"mesh3d\":[{\"colorbar\":{\"outlinewidth\":0,\"ticks\":\"\"},\"type\":\"mesh3d\"}],\"parcoords\":[{\"line\":{\"colorbar\":{\"outlinewidth\":0,\"ticks\":\"\"}},\"type\":\"parcoords\"}],\"pie\":[{\"automargin\":true,\"type\":\"pie\"}],\"scatter\":[{\"marker\":{\"colorbar\":{\"outlinewidth\":0,\"ticks\":\"\"}},\"type\":\"scatter\"}],\"scatter3d\":[{\"line\":{\"colorbar\":{\"outlinewidth\":0,\"ticks\":\"\"}},\"marker\":{\"colorbar\":{\"outlinewidth\":0,\"ticks\":\"\"}},\"type\":\"scatter3d\"}],\"scattercarpet\":[{\"marker\":{\"colorbar\":{\"outlinewidth\":0,\"ticks\":\"\"}},\"type\":\"scattercarpet\"}],\"scattergeo\":[{\"marker\":{\"colorbar\":{\"outlinewidth\":0,\"ticks\":\"\"}},\"type\":\"scattergeo\"}],\"scattergl\":[{\"marker\":{\"colorbar\":{\"outlinewidth\":0,\"ticks\":\"\"}},\"type\":\"scattergl\"}],\"scattermapbox\":[{\"marker\":{\"colorbar\":{\"outlinewidth\":0,\"ticks\":\"\"}},\"type\":\"scattermapbox\"}],\"scatterpolar\":[{\"marker\":{\"colorbar\":{\"outlinewidth\":0,\"ticks\":\"\"}},\"type\":\"scatterpolar\"}],\"scatterpolargl\":[{\"marker\":{\"colorbar\":{\"outlinewidth\":0,\"ticks\":\"\"}},\"type\":\"scatterpolargl\"}],\"scatterternary\":[{\"marker\":{\"colorbar\":{\"outlinewidth\":0,\"ticks\":\"\"}},\"type\":\"scatterternary\"}],\"surface\":[{\"colorbar\":{\"outlinewidth\":0,\"ticks\":\"\"},\"colorscale\":[[0.0,\"#0d0887\"],[0.1111111111111111,\"#46039f\"],[0.2222222222222222,\"#7201a8\"],[0.3333333333333333,\"#9c179e\"],[0.4444444444444444,\"#bd3786\"],[0.5555555555555556,\"#d8576b\"],[0.6666666666666666,\"#ed7953\"],[0.7777777777777778,\"#fb9f3a\"],[0.8888888888888888,\"#fdca26\"],[1.0,\"#f0f921\"]],\"type\":\"surface\"}],\"table\":[{\"cells\":{\"fill\":{\"color\":\"#EBF0F8\"},\"line\":{\"color\":\"white\"}},\"header\":{\"fill\":{\"color\":\"#C8D4E3\"},\"line\":{\"color\":\"white\"}},\"type\":\"table\"}]},\"layout\":{\"annotationdefaults\":{\"arrowcolor\":\"#2a3f5f\",\"arrowhead\":0,\"arrowwidth\":1},\"autotypenumbers\":\"strict\",\"coloraxis\":{\"colorbar\":{\"outlinewidth\":0,\"ticks\":\"\"}},\"colorscale\":{\"diverging\":[[0,\"#8e0152\"],[0.1,\"#c51b7d\"],[0.2,\"#de77ae\"],[0.3,\"#f1b6da\"],[0.4,\"#fde0ef\"],[0.5,\"#f7f7f7\"],[0.6,\"#e6f5d0\"],[0.7,\"#b8e186\"],[0.8,\"#7fbc41\"],[0.9,\"#4d9221\"],[1,\"#276419\"]],\"sequential\":[[0.0,\"#0d0887\"],[0.1111111111111111,\"#46039f\"],[0.2222222222222222,\"#7201a8\"],[0.3333333333333333,\"#9c179e\"],[0.4444444444444444,\"#bd3786\"],[0.5555555555555556,\"#d8576b\"],[0.6666666666666666,\"#ed7953\"],[0.7777777777777778,\"#fb9f3a\"],[0.8888888888888888,\"#fdca26\"],[1.0,\"#f0f921\"]],\"sequentialminus\":[[0.0,\"#0d0887\"],[0.1111111111111111,\"#46039f\"],[0.2222222222222222,\"#7201a8\"],[0.3333333333333333,\"#9c179e\"],[0.4444444444444444,\"#bd3786\"],[0.5555555555555556,\"#d8576b\"],[0.6666666666666666,\"#ed7953\"],[0.7777777777777778,\"#fb9f3a\"],[0.8888888888888888,\"#fdca26\"],[1.0,\"#f0f921\"]]},\"colorway\":[\"#636efa\",\"#EF553B\",\"#00cc96\",\"#ab63fa\",\"#FFA15A\",\"#19d3f3\",\"#FF6692\",\"#B6E880\",\"#FF97FF\",\"#FECB52\"],\"font\":{\"color\":\"#2a3f5f\"},\"geo\":{\"bgcolor\":\"white\",\"lakecolor\":\"white\",\"landcolor\":\"#E5ECF6\",\"showlakes\":true,\"showland\":true,\"subunitcolor\":\"white\"},\"hoverlabel\":{\"align\":\"left\"},\"hovermode\":\"closest\",\"mapbox\":{\"style\":\"light\"},\"paper_bgcolor\":\"white\",\"plot_bgcolor\":\"#E5ECF6\",\"polar\":{\"angularaxis\":{\"gridcolor\":\"white\",\"linecolor\":\"white\",\"ticks\":\"\"},\"bgcolor\":\"#E5ECF6\",\"radialaxis\":{\"gridcolor\":\"white\",\"linecolor\":\"white\",\"ticks\":\"\"}},\"scene\":{\"xaxis\":{\"backgroundcolor\":\"#E5ECF6\",\"gridcolor\":\"white\",\"gridwidth\":2,\"linecolor\":\"white\",\"showbackground\":true,\"ticks\":\"\",\"zerolinecolor\":\"white\"},\"yaxis\":{\"backgroundcolor\":\"#E5ECF6\",\"gridcolor\":\"white\",\"gridwidth\":2,\"linecolor\":\"white\",\"showbackground\":true,\"ticks\":\"\",\"zerolinecolor\":\"white\"},\"zaxis\":{\"backgroundcolor\":\"#E5ECF6\",\"gridcolor\":\"white\",\"gridwidth\":2,\"linecolor\":\"white\",\"showbackground\":true,\"ticks\":\"\",\"zerolinecolor\":\"white\"}},\"shapedefaults\":{\"line\":{\"color\":\"#2a3f5f\"}},\"ternary\":{\"aaxis\":{\"gridcolor\":\"white\",\"linecolor\":\"white\",\"ticks\":\"\"},\"baxis\":{\"gridcolor\":\"white\",\"linecolor\":\"white\",\"ticks\":\"\"},\"bgcolor\":\"#E5ECF6\",\"caxis\":{\"gridcolor\":\"white\",\"linecolor\":\"white\",\"ticks\":\"\"}},\"title\":{\"x\":0.05},\"xaxis\":{\"automargin\":true,\"gridcolor\":\"white\",\"linecolor\":\"white\",\"ticks\":\"\",\"title\":{\"standoff\":15},\"zerolinecolor\":\"white\",\"zerolinewidth\":2},\"yaxis\":{\"automargin\":true,\"gridcolor\":\"white\",\"linecolor\":\"white\",\"ticks\":\"\",\"title\":{\"standoff\":15},\"zerolinecolor\":\"white\",\"zerolinewidth\":2}}},\"xaxis\":{\"anchor\":\"y\",\"domain\":[0.0,0.2125],\"matches\":\"x13\",\"showticklabels\":false,\"range\":[-0.05,1.05],\"type\":\"category\"},\"yaxis\":{\"anchor\":\"x\",\"domain\":[0.80625,1.0],\"range\":[-0.05,1.05],\"type\":\"category\",\"title\":{\"text\":\"boosting_type\"}},\"xaxis2\":{\"anchor\":\"y2\",\"domain\":[0.2625,0.475],\"matches\":\"x14\",\"showticklabels\":false,\"range\":[-0.03130074289623405,1.0440907475826]},\"yaxis2\":{\"anchor\":\"x2\",\"domain\":[0.80625,1.0],\"matches\":\"y\",\"showticklabels\":false,\"range\":[-0.05,1.05],\"type\":\"category\"},\"xaxis3\":{\"anchor\":\"y3\",\"domain\":[0.525,0.7375],\"matches\":\"x15\",\"showticklabels\":false,\"range\":[-3.1472432293697366,0.14450375238724256],\"type\":\"log\"},\"yaxis3\":{\"anchor\":\"x3\",\"domain\":[0.80625,1.0],\"matches\":\"y\",\"showticklabels\":false,\"range\":[-0.05,1.05],\"type\":\"category\"},\"xaxis4\":{\"anchor\":\"y4\",\"domain\":[0.7875,1.0],\"matches\":\"x16\",\"showticklabels\":false,\"range\":[6.55,104.45]},\"yaxis4\":{\"anchor\":\"x4\",\"domain\":[0.80625,1.0],\"matches\":\"y\",\"showticklabels\":false,\"range\":[-0.05,1.05],\"type\":\"category\"},\"xaxis5\":{\"anchor\":\"y5\",\"domain\":[0.0,0.2125],\"matches\":\"x13\",\"showticklabels\":false,\"range\":[-0.05,1.05],\"type\":\"category\"},\"yaxis5\":{\"anchor\":\"x5\",\"domain\":[0.5375,0.73125],\"range\":[-0.03130074289623405,1.0440907475826],\"title\":{\"text\":\"feature_fraction\"}},\"xaxis6\":{\"anchor\":\"y6\",\"domain\":[0.2625,0.475],\"matches\":\"x14\",\"showticklabels\":false,\"range\":[-0.03130074289623405,1.0440907475826]},\"yaxis6\":{\"anchor\":\"x6\",\"domain\":[0.5375,0.73125],\"matches\":\"y5\",\"showticklabels\":false,\"range\":[-0.03130074289623405,1.0440907475826]},\"xaxis7\":{\"anchor\":\"y7\",\"domain\":[0.525,0.7375],\"matches\":\"x15\",\"showticklabels\":false,\"range\":[-3.1472432293697366,0.14450375238724256],\"type\":\"log\"},\"yaxis7\":{\"anchor\":\"x7\",\"domain\":[0.5375,0.73125],\"matches\":\"y5\",\"showticklabels\":false,\"range\":[-0.03130074289623405,1.0440907475826]},\"xaxis8\":{\"anchor\":\"y8\",\"domain\":[0.7875,1.0],\"matches\":\"x16\",\"showticklabels\":false,\"range\":[6.55,104.45]},\"yaxis8\":{\"anchor\":\"x8\",\"domain\":[0.5375,0.73125],\"matches\":\"y5\",\"showticklabels\":false,\"range\":[-0.03130074289623405,1.0440907475826]},\"xaxis9\":{\"anchor\":\"y9\",\"domain\":[0.0,0.2125],\"matches\":\"x13\",\"showticklabels\":false,\"range\":[-0.05,1.05],\"type\":\"category\"},\"yaxis9\":{\"anchor\":\"x9\",\"domain\":[0.26875,0.4625],\"range\":[-3.1472432293697366,0.14450375238724256],\"type\":\"log\",\"title\":{\"text\":\"learning_rate\"}},\"xaxis10\":{\"anchor\":\"y10\",\"domain\":[0.2625,0.475],\"matches\":\"x14\",\"showticklabels\":false,\"range\":[-0.03130074289623405,1.0440907475826]},\"yaxis10\":{\"anchor\":\"x10\",\"domain\":[0.26875,0.4625],\"matches\":\"y9\",\"showticklabels\":false,\"range\":[-3.1472432293697366,0.14450375238724256],\"type\":\"log\"},\"xaxis11\":{\"anchor\":\"y11\",\"domain\":[0.525,0.7375],\"matches\":\"x15\",\"showticklabels\":false,\"range\":[-3.1472432293697366,0.14450375238724256],\"type\":\"log\"},\"yaxis11\":{\"anchor\":\"x11\",\"domain\":[0.26875,0.4625],\"matches\":\"y9\",\"showticklabels\":false,\"range\":[-3.1472432293697366,0.14450375238724256],\"type\":\"log\"},\"xaxis12\":{\"anchor\":\"y12\",\"domain\":[0.7875,1.0],\"matches\":\"x16\",\"showticklabels\":false,\"range\":[6.55,104.45]},\"yaxis12\":{\"anchor\":\"x12\",\"domain\":[0.26875,0.4625],\"matches\":\"y9\",\"showticklabels\":false,\"range\":[-3.1472432293697366,0.14450375238724256],\"type\":\"log\"},\"xaxis13\":{\"anchor\":\"y13\",\"domain\":[0.0,0.2125],\"range\":[-0.05,1.05],\"type\":\"category\",\"title\":{\"text\":\"boosting_type\"}},\"yaxis13\":{\"anchor\":\"x13\",\"domain\":[0.0,0.19375],\"range\":[6.55,104.45],\"title\":{\"text\":\"num_leaves\"}},\"xaxis14\":{\"anchor\":\"y14\",\"domain\":[0.2625,0.475],\"range\":[-0.03130074289623405,1.0440907475826],\"title\":{\"text\":\"feature_fraction\"}},\"yaxis14\":{\"anchor\":\"x14\",\"domain\":[0.0,0.19375],\"matches\":\"y13\",\"showticklabels\":false,\"range\":[6.55,104.45]},\"xaxis15\":{\"anchor\":\"y15\",\"domain\":[0.525,0.7375],\"range\":[-3.1472432293697366,0.14450375238724256],\"type\":\"log\",\"title\":{\"text\":\"learning_rate\"}},\"yaxis15\":{\"anchor\":\"x15\",\"domain\":[0.0,0.19375],\"matches\":\"y13\",\"showticklabels\":false,\"range\":[6.55,104.45]},\"xaxis16\":{\"anchor\":\"y16\",\"domain\":[0.7875,1.0],\"range\":[6.55,104.45],\"title\":{\"text\":\"num_leaves\"}},\"yaxis16\":{\"anchor\":\"x16\",\"domain\":[0.0,0.19375],\"matches\":\"y13\",\"showticklabels\":false,\"range\":[6.55,104.45]},\"title\":{\"text\":\"Contour Plot\"}},                        {\"responsive\": true}                    ).then(function(){\n",
              "                            \n",
              "var gd = document.getElementById('83ff017b-08f4-4fc4-aa28-3069d32d3a98');\n",
              "var x = new MutationObserver(function (mutations, observer) {{\n",
              "        var display = window.getComputedStyle(gd).display;\n",
              "        if (!display || display === 'none') {{\n",
              "            console.log([gd, 'removed!']);\n",
              "            Plotly.purge(gd);\n",
              "            observer.disconnect();\n",
              "        }}\n",
              "}});\n",
              "\n",
              "// Listen for the removal of the full notebook cells\n",
              "var notebookContainer = gd.closest('#notebook-container');\n",
              "if (notebookContainer) {{\n",
              "    x.observe(notebookContainer, {childList: true});\n",
              "}}\n",
              "\n",
              "// Listen for the clearing of the current output cell\n",
              "var outputEl = gd.closest('.output');\n",
              "if (outputEl) {{\n",
              "    x.observe(outputEl, {childList: true});\n",
              "}}\n",
              "\n",
              "                        })                };                            </script>        </div>\n",
              "</body>\n",
              "</html>"
            ]
          },
          "metadata": {}
        }
      ]
    },
    {
      "cell_type": "markdown",
      "source": [
        "### 全ての試行のスコアとベストスコアの可視化"
      ],
      "metadata": {
        "id": "bj3FEm-uGUjx"
      }
    },
    {
      "cell_type": "code",
      "source": [
        "visualization.plot_optimization_history(study)"
      ],
      "metadata": {
        "colab": {
          "base_uri": "https://localhost:8080/",
          "height": 542
        },
        "id": "nDftnMPHDuYx",
        "outputId": "ac03f421-ed20-4d5d-95a7-fca1a9bd13bf"
      },
      "execution_count": 42,
      "outputs": [
        {
          "output_type": "display_data",
          "data": {
            "text/html": [
              "<html>\n",
              "<head><meta charset=\"utf-8\" /></head>\n",
              "<body>\n",
              "    <div>            <script src=\"https://cdnjs.cloudflare.com/ajax/libs/mathjax/2.7.5/MathJax.js?config=TeX-AMS-MML_SVG\"></script><script type=\"text/javascript\">if (window.MathJax) {MathJax.Hub.Config({SVG: {font: \"STIX-Web\"}});}</script>                <script type=\"text/javascript\">window.PlotlyConfig = {MathJaxConfig: 'local'};</script>\n",
              "        <script src=\"https://cdn.plot.ly/plotly-2.8.3.min.js\"></script>                <div id=\"8cc4b7ba-d492-4411-be6f-601af7bec14c\" class=\"plotly-graph-div\" style=\"height:525px; width:100%;\"></div>            <script type=\"text/javascript\">                                    window.PLOTLYENV=window.PLOTLYENV || {};                                    if (document.getElementById(\"8cc4b7ba-d492-4411-be6f-601af7bec14c\")) {                    Plotly.newPlot(                        \"8cc4b7ba-d492-4411-be6f-601af7bec14c\",                        [{\"mode\":\"markers\",\"name\":\"Objective Value\",\"x\":[0,1,2,3,4,5,6,7,8,9,10,11,12,13,14,15,16,17,18,19,20,21,22,23,24,25,26,27,28,29,30,31,32,33,34,35,36,37,38,39,40,41,42,43,44,45,46,47,48,49,50,51,52,53,54,55,56,57,58,59,60,61,62,63,64,65,66,67,68,69,70,71,72,73,74,75,76,77,78,79,80,81,82,83,84,85,86,87,88,89,90,91,92,93,94,95,96,97,98,99],\"y\":[0.9911035643794266,0.9911035643794266,0.9911035643794266,0.9923807035876001,0.975578340880065,0.9815903285730873,0.9911035643794266,0.9911035643794265,0.9920505340763962,0.9911035643794265,0.9866553465691398,0.9721206316033904,0.9911035643794266,0.9933276732845698,0.9721206316033902,0.9698965226982468,0.9911035643794266,0.9911035643794266,0.9667254440961338,0.9847614071752003,0.988879455474283,0.9667254440961338,0.9721206316033902,0.9667254440961338,0.9721206316033902,0.988879455474283,0.9847614071752003,0.9866553465691398,0.9708434923952165,0.9393322593753628,0.9383852896783931,0.9380551201671891,0.9380551201671891,0.9402792290723325,0.9393322593753628,0.9393322593753628,0.9587324393358876,0.9383852896783931,0.9600095785440613,0.9383852896783931,0.978419249970974,0.9383852896783931,0.9901565946824569,0.9393322593753628,0.9393322593753628,0.9393322593753628,0.9901565946824569,0.9587324393358876,0.9492192035295485,0.9933276732845698,0.9901565946824569,0.9380551201671891,0.9380551201671891,0.9402792290723325,0.9901565946824569,0.9393322593753628,0.9911035643794266,0.9393322593753628,0.9628504876349705,0.9393322593753628,0.9402792290723325,0.9383852896783931,0.9901565946824569,0.9393322593753628,0.9393322593753628,0.9536674213398352,0.9402792290723325,0.9383852896783931,0.9920505340763962,0.9911035643794265,0.9901565946824569,0.9383852896783931,0.9393322593753628,0.9911035643794266,0.9383852896783931,0.9380551201671891,0.9901565946824569,0.9402792290723325,0.9393322593753628,0.9536674213398352,0.9901565946824569,0.9383852896783931,0.9393322593753628,0.9393322593753628,0.9383852896783931,0.9380551201671891,0.9393322593753628,0.9402792290723325,0.9901565946824569,0.9393322593753628,0.9380551201671891,0.9380551201671891,0.9380551201671891,0.9380551201671891,0.9380551201671891,0.9920505340763962,0.9380551201671891,0.9380551201671891,0.9920505340763962,0.9920505340763962],\"type\":\"scatter\"},{\"name\":\"Best Value\",\"x\":[0,1,2,3,4,5,6,7,8,9,10,11,12,13,14,15,16,17,18,19,20,21,22,23,24,25,26,27,28,29,30,31,32,33,34,35,36,37,38,39,40,41,42,43,44,45,46,47,48,49,50,51,52,53,54,55,56,57,58,59,60,61,62,63,64,65,66,67,68,69,70,71,72,73,74,75,76,77,78,79,80,81,82,83,84,85,86,87,88,89,90,91,92,93,94,95,96,97,98,99],\"y\":[0.9911035643794266,0.9911035643794266,0.9911035643794266,0.9911035643794266,0.975578340880065,0.975578340880065,0.975578340880065,0.975578340880065,0.975578340880065,0.975578340880065,0.975578340880065,0.9721206316033904,0.9721206316033904,0.9721206316033904,0.9721206316033902,0.9698965226982468,0.9698965226982468,0.9698965226982468,0.9667254440961338,0.9667254440961338,0.9667254440961338,0.9667254440961338,0.9667254440961338,0.9667254440961338,0.9667254440961338,0.9667254440961338,0.9667254440961338,0.9667254440961338,0.9667254440961338,0.9393322593753628,0.9383852896783931,0.9380551201671891,0.9380551201671891,0.9380551201671891,0.9380551201671891,0.9380551201671891,0.9380551201671891,0.9380551201671891,0.9380551201671891,0.9380551201671891,0.9380551201671891,0.9380551201671891,0.9380551201671891,0.9380551201671891,0.9380551201671891,0.9380551201671891,0.9380551201671891,0.9380551201671891,0.9380551201671891,0.9380551201671891,0.9380551201671891,0.9380551201671891,0.9380551201671891,0.9380551201671891,0.9380551201671891,0.9380551201671891,0.9380551201671891,0.9380551201671891,0.9380551201671891,0.9380551201671891,0.9380551201671891,0.9380551201671891,0.9380551201671891,0.9380551201671891,0.9380551201671891,0.9380551201671891,0.9380551201671891,0.9380551201671891,0.9380551201671891,0.9380551201671891,0.9380551201671891,0.9380551201671891,0.9380551201671891,0.9380551201671891,0.9380551201671891,0.9380551201671891,0.9380551201671891,0.9380551201671891,0.9380551201671891,0.9380551201671891,0.9380551201671891,0.9380551201671891,0.9380551201671891,0.9380551201671891,0.9380551201671891,0.9380551201671891,0.9380551201671891,0.9380551201671891,0.9380551201671891,0.9380551201671891,0.9380551201671891,0.9380551201671891,0.9380551201671891,0.9380551201671891,0.9380551201671891,0.9380551201671891,0.9380551201671891,0.9380551201671891,0.9380551201671891,0.9380551201671891],\"type\":\"scatter\"}],                        {\"title\":{\"text\":\"Optimization History Plot\"},\"xaxis\":{\"title\":{\"text\":\"Trial\"}},\"yaxis\":{\"title\":{\"text\":\"Objective Value\"}},\"template\":{\"data\":{\"bar\":[{\"error_x\":{\"color\":\"#2a3f5f\"},\"error_y\":{\"color\":\"#2a3f5f\"},\"marker\":{\"line\":{\"color\":\"#E5ECF6\",\"width\":0.5},\"pattern\":{\"fillmode\":\"overlay\",\"size\":10,\"solidity\":0.2}},\"type\":\"bar\"}],\"barpolar\":[{\"marker\":{\"line\":{\"color\":\"#E5ECF6\",\"width\":0.5},\"pattern\":{\"fillmode\":\"overlay\",\"size\":10,\"solidity\":0.2}},\"type\":\"barpolar\"}],\"carpet\":[{\"aaxis\":{\"endlinecolor\":\"#2a3f5f\",\"gridcolor\":\"white\",\"linecolor\":\"white\",\"minorgridcolor\":\"white\",\"startlinecolor\":\"#2a3f5f\"},\"baxis\":{\"endlinecolor\":\"#2a3f5f\",\"gridcolor\":\"white\",\"linecolor\":\"white\",\"minorgridcolor\":\"white\",\"startlinecolor\":\"#2a3f5f\"},\"type\":\"carpet\"}],\"choropleth\":[{\"colorbar\":{\"outlinewidth\":0,\"ticks\":\"\"},\"type\":\"choropleth\"}],\"contour\":[{\"colorbar\":{\"outlinewidth\":0,\"ticks\":\"\"},\"colorscale\":[[0.0,\"#0d0887\"],[0.1111111111111111,\"#46039f\"],[0.2222222222222222,\"#7201a8\"],[0.3333333333333333,\"#9c179e\"],[0.4444444444444444,\"#bd3786\"],[0.5555555555555556,\"#d8576b\"],[0.6666666666666666,\"#ed7953\"],[0.7777777777777778,\"#fb9f3a\"],[0.8888888888888888,\"#fdca26\"],[1.0,\"#f0f921\"]],\"type\":\"contour\"}],\"contourcarpet\":[{\"colorbar\":{\"outlinewidth\":0,\"ticks\":\"\"},\"type\":\"contourcarpet\"}],\"heatmap\":[{\"colorbar\":{\"outlinewidth\":0,\"ticks\":\"\"},\"colorscale\":[[0.0,\"#0d0887\"],[0.1111111111111111,\"#46039f\"],[0.2222222222222222,\"#7201a8\"],[0.3333333333333333,\"#9c179e\"],[0.4444444444444444,\"#bd3786\"],[0.5555555555555556,\"#d8576b\"],[0.6666666666666666,\"#ed7953\"],[0.7777777777777778,\"#fb9f3a\"],[0.8888888888888888,\"#fdca26\"],[1.0,\"#f0f921\"]],\"type\":\"heatmap\"}],\"heatmapgl\":[{\"colorbar\":{\"outlinewidth\":0,\"ticks\":\"\"},\"colorscale\":[[0.0,\"#0d0887\"],[0.1111111111111111,\"#46039f\"],[0.2222222222222222,\"#7201a8\"],[0.3333333333333333,\"#9c179e\"],[0.4444444444444444,\"#bd3786\"],[0.5555555555555556,\"#d8576b\"],[0.6666666666666666,\"#ed7953\"],[0.7777777777777778,\"#fb9f3a\"],[0.8888888888888888,\"#fdca26\"],[1.0,\"#f0f921\"]],\"type\":\"heatmapgl\"}],\"histogram\":[{\"marker\":{\"pattern\":{\"fillmode\":\"overlay\",\"size\":10,\"solidity\":0.2}},\"type\":\"histogram\"}],\"histogram2d\":[{\"colorbar\":{\"outlinewidth\":0,\"ticks\":\"\"},\"colorscale\":[[0.0,\"#0d0887\"],[0.1111111111111111,\"#46039f\"],[0.2222222222222222,\"#7201a8\"],[0.3333333333333333,\"#9c179e\"],[0.4444444444444444,\"#bd3786\"],[0.5555555555555556,\"#d8576b\"],[0.6666666666666666,\"#ed7953\"],[0.7777777777777778,\"#fb9f3a\"],[0.8888888888888888,\"#fdca26\"],[1.0,\"#f0f921\"]],\"type\":\"histogram2d\"}],\"histogram2dcontour\":[{\"colorbar\":{\"outlinewidth\":0,\"ticks\":\"\"},\"colorscale\":[[0.0,\"#0d0887\"],[0.1111111111111111,\"#46039f\"],[0.2222222222222222,\"#7201a8\"],[0.3333333333333333,\"#9c179e\"],[0.4444444444444444,\"#bd3786\"],[0.5555555555555556,\"#d8576b\"],[0.6666666666666666,\"#ed7953\"],[0.7777777777777778,\"#fb9f3a\"],[0.8888888888888888,\"#fdca26\"],[1.0,\"#f0f921\"]],\"type\":\"histogram2dcontour\"}],\"mesh3d\":[{\"colorbar\":{\"outlinewidth\":0,\"ticks\":\"\"},\"type\":\"mesh3d\"}],\"parcoords\":[{\"line\":{\"colorbar\":{\"outlinewidth\":0,\"ticks\":\"\"}},\"type\":\"parcoords\"}],\"pie\":[{\"automargin\":true,\"type\":\"pie\"}],\"scatter\":[{\"marker\":{\"colorbar\":{\"outlinewidth\":0,\"ticks\":\"\"}},\"type\":\"scatter\"}],\"scatter3d\":[{\"line\":{\"colorbar\":{\"outlinewidth\":0,\"ticks\":\"\"}},\"marker\":{\"colorbar\":{\"outlinewidth\":0,\"ticks\":\"\"}},\"type\":\"scatter3d\"}],\"scattercarpet\":[{\"marker\":{\"colorbar\":{\"outlinewidth\":0,\"ticks\":\"\"}},\"type\":\"scattercarpet\"}],\"scattergeo\":[{\"marker\":{\"colorbar\":{\"outlinewidth\":0,\"ticks\":\"\"}},\"type\":\"scattergeo\"}],\"scattergl\":[{\"marker\":{\"colorbar\":{\"outlinewidth\":0,\"ticks\":\"\"}},\"type\":\"scattergl\"}],\"scattermapbox\":[{\"marker\":{\"colorbar\":{\"outlinewidth\":0,\"ticks\":\"\"}},\"type\":\"scattermapbox\"}],\"scatterpolar\":[{\"marker\":{\"colorbar\":{\"outlinewidth\":0,\"ticks\":\"\"}},\"type\":\"scatterpolar\"}],\"scatterpolargl\":[{\"marker\":{\"colorbar\":{\"outlinewidth\":0,\"ticks\":\"\"}},\"type\":\"scatterpolargl\"}],\"scatterternary\":[{\"marker\":{\"colorbar\":{\"outlinewidth\":0,\"ticks\":\"\"}},\"type\":\"scatterternary\"}],\"surface\":[{\"colorbar\":{\"outlinewidth\":0,\"ticks\":\"\"},\"colorscale\":[[0.0,\"#0d0887\"],[0.1111111111111111,\"#46039f\"],[0.2222222222222222,\"#7201a8\"],[0.3333333333333333,\"#9c179e\"],[0.4444444444444444,\"#bd3786\"],[0.5555555555555556,\"#d8576b\"],[0.6666666666666666,\"#ed7953\"],[0.7777777777777778,\"#fb9f3a\"],[0.8888888888888888,\"#fdca26\"],[1.0,\"#f0f921\"]],\"type\":\"surface\"}],\"table\":[{\"cells\":{\"fill\":{\"color\":\"#EBF0F8\"},\"line\":{\"color\":\"white\"}},\"header\":{\"fill\":{\"color\":\"#C8D4E3\"},\"line\":{\"color\":\"white\"}},\"type\":\"table\"}]},\"layout\":{\"annotationdefaults\":{\"arrowcolor\":\"#2a3f5f\",\"arrowhead\":0,\"arrowwidth\":1},\"autotypenumbers\":\"strict\",\"coloraxis\":{\"colorbar\":{\"outlinewidth\":0,\"ticks\":\"\"}},\"colorscale\":{\"diverging\":[[0,\"#8e0152\"],[0.1,\"#c51b7d\"],[0.2,\"#de77ae\"],[0.3,\"#f1b6da\"],[0.4,\"#fde0ef\"],[0.5,\"#f7f7f7\"],[0.6,\"#e6f5d0\"],[0.7,\"#b8e186\"],[0.8,\"#7fbc41\"],[0.9,\"#4d9221\"],[1,\"#276419\"]],\"sequential\":[[0.0,\"#0d0887\"],[0.1111111111111111,\"#46039f\"],[0.2222222222222222,\"#7201a8\"],[0.3333333333333333,\"#9c179e\"],[0.4444444444444444,\"#bd3786\"],[0.5555555555555556,\"#d8576b\"],[0.6666666666666666,\"#ed7953\"],[0.7777777777777778,\"#fb9f3a\"],[0.8888888888888888,\"#fdca26\"],[1.0,\"#f0f921\"]],\"sequentialminus\":[[0.0,\"#0d0887\"],[0.1111111111111111,\"#46039f\"],[0.2222222222222222,\"#7201a8\"],[0.3333333333333333,\"#9c179e\"],[0.4444444444444444,\"#bd3786\"],[0.5555555555555556,\"#d8576b\"],[0.6666666666666666,\"#ed7953\"],[0.7777777777777778,\"#fb9f3a\"],[0.8888888888888888,\"#fdca26\"],[1.0,\"#f0f921\"]]},\"colorway\":[\"#636efa\",\"#EF553B\",\"#00cc96\",\"#ab63fa\",\"#FFA15A\",\"#19d3f3\",\"#FF6692\",\"#B6E880\",\"#FF97FF\",\"#FECB52\"],\"font\":{\"color\":\"#2a3f5f\"},\"geo\":{\"bgcolor\":\"white\",\"lakecolor\":\"white\",\"landcolor\":\"#E5ECF6\",\"showlakes\":true,\"showland\":true,\"subunitcolor\":\"white\"},\"hoverlabel\":{\"align\":\"left\"},\"hovermode\":\"closest\",\"mapbox\":{\"style\":\"light\"},\"paper_bgcolor\":\"white\",\"plot_bgcolor\":\"#E5ECF6\",\"polar\":{\"angularaxis\":{\"gridcolor\":\"white\",\"linecolor\":\"white\",\"ticks\":\"\"},\"bgcolor\":\"#E5ECF6\",\"radialaxis\":{\"gridcolor\":\"white\",\"linecolor\":\"white\",\"ticks\":\"\"}},\"scene\":{\"xaxis\":{\"backgroundcolor\":\"#E5ECF6\",\"gridcolor\":\"white\",\"gridwidth\":2,\"linecolor\":\"white\",\"showbackground\":true,\"ticks\":\"\",\"zerolinecolor\":\"white\"},\"yaxis\":{\"backgroundcolor\":\"#E5ECF6\",\"gridcolor\":\"white\",\"gridwidth\":2,\"linecolor\":\"white\",\"showbackground\":true,\"ticks\":\"\",\"zerolinecolor\":\"white\"},\"zaxis\":{\"backgroundcolor\":\"#E5ECF6\",\"gridcolor\":\"white\",\"gridwidth\":2,\"linecolor\":\"white\",\"showbackground\":true,\"ticks\":\"\",\"zerolinecolor\":\"white\"}},\"shapedefaults\":{\"line\":{\"color\":\"#2a3f5f\"}},\"ternary\":{\"aaxis\":{\"gridcolor\":\"white\",\"linecolor\":\"white\",\"ticks\":\"\"},\"baxis\":{\"gridcolor\":\"white\",\"linecolor\":\"white\",\"ticks\":\"\"},\"bgcolor\":\"#E5ECF6\",\"caxis\":{\"gridcolor\":\"white\",\"linecolor\":\"white\",\"ticks\":\"\"}},\"title\":{\"x\":0.05},\"xaxis\":{\"automargin\":true,\"gridcolor\":\"white\",\"linecolor\":\"white\",\"ticks\":\"\",\"title\":{\"standoff\":15},\"zerolinecolor\":\"white\",\"zerolinewidth\":2},\"yaxis\":{\"automargin\":true,\"gridcolor\":\"white\",\"linecolor\":\"white\",\"ticks\":\"\",\"title\":{\"standoff\":15},\"zerolinecolor\":\"white\",\"zerolinewidth\":2}}}},                        {\"responsive\": true}                    ).then(function(){\n",
              "                            \n",
              "var gd = document.getElementById('8cc4b7ba-d492-4411-be6f-601af7bec14c');\n",
              "var x = new MutationObserver(function (mutations, observer) {{\n",
              "        var display = window.getComputedStyle(gd).display;\n",
              "        if (!display || display === 'none') {{\n",
              "            console.log([gd, 'removed!']);\n",
              "            Plotly.purge(gd);\n",
              "            observer.disconnect();\n",
              "        }}\n",
              "}});\n",
              "\n",
              "// Listen for the removal of the full notebook cells\n",
              "var notebookContainer = gd.closest('#notebook-container');\n",
              "if (notebookContainer) {{\n",
              "    x.observe(notebookContainer, {childList: true});\n",
              "}}\n",
              "\n",
              "// Listen for the clearing of the current output cell\n",
              "var outputEl = gd.closest('.output');\n",
              "if (outputEl) {{\n",
              "    x.observe(outputEl, {childList: true});\n",
              "}}\n",
              "\n",
              "                        })                };                            </script>        </div>\n",
              "</body>\n",
              "</html>"
            ]
          },
          "metadata": {}
        }
      ]
    },
    {
      "cell_type": "markdown",
      "source": [
        "### ハイパーパラメータとスコアを可視化"
      ],
      "metadata": {
        "id": "Ns0dZTSoGmxo"
      }
    },
    {
      "cell_type": "code",
      "source": [
        "visualization.plot_parallel_coordinate(study)"
      ],
      "metadata": {
        "colab": {
          "base_uri": "https://localhost:8080/",
          "height": 542
        },
        "id": "GVo1zxo_EB_H",
        "outputId": "8bd06786-d980-443b-f585-ab64eda65169"
      },
      "execution_count": 43,
      "outputs": [
        {
          "output_type": "display_data",
          "data": {
            "text/html": [
              "<html>\n",
              "<head><meta charset=\"utf-8\" /></head>\n",
              "<body>\n",
              "    <div>            <script src=\"https://cdnjs.cloudflare.com/ajax/libs/mathjax/2.7.5/MathJax.js?config=TeX-AMS-MML_SVG\"></script><script type=\"text/javascript\">if (window.MathJax) {MathJax.Hub.Config({SVG: {font: \"STIX-Web\"}});}</script>                <script type=\"text/javascript\">window.PlotlyConfig = {MathJaxConfig: 'local'};</script>\n",
              "        <script src=\"https://cdn.plot.ly/plotly-2.8.3.min.js\"></script>                <div id=\"057d31a0-7ca4-4894-984e-02bc986095e5\" class=\"plotly-graph-div\" style=\"height:525px; width:100%;\"></div>            <script type=\"text/javascript\">                                    window.PLOTLYENV=window.PLOTLYENV || {};                                    if (document.getElementById(\"057d31a0-7ca4-4894-984e-02bc986095e5\")) {                    Plotly.newPlot(                        \"057d31a0-7ca4-4894-984e-02bc986095e5\",                        [{\"dimensions\":[{\"label\":\"Objective Value\",\"range\":[0.9380551201671891,0.9933276732845698],\"values\":[0.9911035643794266,0.9911035643794266,0.9911035643794266,0.9923807035876001,0.975578340880065,0.9815903285730873,0.9911035643794266,0.9911035643794265,0.9920505340763962,0.9911035643794265,0.9866553465691398,0.9721206316033904,0.9911035643794266,0.9933276732845698,0.9721206316033902,0.9698965226982468,0.9911035643794266,0.9911035643794266,0.9667254440961338,0.9847614071752003,0.988879455474283,0.9667254440961338,0.9721206316033902,0.9667254440961338,0.9721206316033902,0.988879455474283,0.9847614071752003,0.9866553465691398,0.9708434923952165,0.9393322593753628,0.9383852896783931,0.9380551201671891,0.9380551201671891,0.9402792290723325,0.9393322593753628,0.9393322593753628,0.9587324393358876,0.9383852896783931,0.9600095785440613,0.9383852896783931,0.978419249970974,0.9383852896783931,0.9901565946824569,0.9393322593753628,0.9393322593753628,0.9393322593753628,0.9901565946824569,0.9587324393358876,0.9492192035295485,0.9933276732845698,0.9901565946824569,0.9380551201671891,0.9380551201671891,0.9402792290723325,0.9901565946824569,0.9393322593753628,0.9911035643794266,0.9393322593753628,0.9628504876349705,0.9393322593753628,0.9402792290723325,0.9383852896783931,0.9901565946824569,0.9393322593753628,0.9393322593753628,0.9536674213398352,0.9402792290723325,0.9383852896783931,0.9920505340763962,0.9911035643794265,0.9901565946824569,0.9383852896783931,0.9393322593753628,0.9911035643794266,0.9383852896783931,0.9380551201671891,0.9901565946824569,0.9402792290723325,0.9393322593753628,0.9536674213398352,0.9901565946824569,0.9383852896783931,0.9393322593753628,0.9393322593753628,0.9383852896783931,0.9380551201671891,0.9393322593753628,0.9402792290723325,0.9901565946824569,0.9393322593753628,0.9380551201671891,0.9380551201671891,0.9380551201671891,0.9380551201671891,0.9380551201671891,0.9920505340763962,0.9380551201671891,0.9380551201671891,0.9920505340763962,0.9920505340763962]},{\"label\":\"boosting_type\",\"range\":[0,1],\"ticktext\":[\"dart\",\"gbdt\"],\"tickvals\":[0,1],\"values\":[0,1,0,0,0,0,0,1,1,1,0,0,0,0,0,0,0,0,1,1,1,1,1,1,1,1,1,1,1,1,1,1,1,1,1,1,1,1,1,1,1,1,1,1,1,1,1,1,1,1,1,1,1,1,1,1,1,0,1,1,0,1,1,1,1,1,1,1,1,1,0,1,1,1,1,1,1,1,1,1,1,1,1,1,1,1,1,0,1,1,1,1,1,1,1,1,1,1,1,1]},{\"label\":\"feature_fraction\",\"range\":[0.017580688489167495,0.9952093161971984],\"values\":[0.21415090864421538,0.6183393588449764,0.4955369632048551,0.788978516971918,0.568294483140127,0.6556197253048618,0.2607889147849083,0.8523481450304584,0.204774480443911,0.8360473509089751,0.017580688489167495,0.5757439050260932,0.4488454617366379,0.9952093161971984,0.38339108949162204,0.3783573261733709,0.34984621050070874,0.06816336891752811,0.3812048520012899,0.32849684093107323,0.7119336364696917,0.40807126783660513,0.4349571648534177,0.14398133150202946,0.10049784955749624,0.1593846010272439,0.29672281325955074,0.15126241832766066,0.26416092485356324,0.5132970523636197,0.5160236769414953,0.5092078421491011,0.5338748881897236,0.5285673188017547,0.5007804842610596,0.6407318944735574,0.6689369496786249,0.5713665262806743,0.7433079148027768,0.5798110120732055,0.5998177595923543,0.5541032239886347,0.47236892283818005,0.6001451314072975,0.5439822707982183,0.6918376929042345,0.47510381887388714,0.6285602450364968,0.558543528735306,0.7859876823522647,0.4498469702653812,0.549603941867679,0.5142624875562325,0.5965404882282515,0.42551230238691107,0.5055792514244312,0.47195833963891576,0.6563530269436376,0.5318771803427904,0.5626118616721701,0.7333452823069315,0.5949045962331351,0.4151934158649231,0.5654121430073455,0.6277274858591582,0.5027387659451736,0.6804996735359335,0.597445562021935,0.34436190380217346,0.9159475911651482,0.4016280929421766,0.5280571140194011,0.6117362226707697,0.4554702007383124,0.5280094666448093,0.5864911850300679,0.48849997770484743,0.7065391776212664,0.5749517640392326,0.5499290449649915,0.4869666343737278,0.6492270352513785,0.597135804237003,0.6484835841878254,0.5403879445077471,0.5761321439567597,0.6255691604899822,0.5842545370554068,0.4517383848232247,0.5050775587324385,0.5703512800948547,0.6417269630589296,0.6535086921831352,0.6695991980888816,0.7370566535133063,0.7778851703645735,0.6678651196850418,0.7442498731185044,0.8324234134793864,0.7519243294942659]},{\"label\":\"learning_rate\",\"range\":[-2.9976183665626013,-0.005121110419892885],\"ticktext\":[\"0.00101\",\"0.01\",\"0.1\",\"0.988\"],\"tickvals\":[-2.9976183665626013,-2,-1,-0.005121110419892885],\"values\":[-2.454690099181914,-1.2186677458922943,-1.2909762660242874,-2.7563058178016924,-1.3251374552821469,-0.2166823474913484,-1.1671619088579148,-1.3639979894647056,-1.8189616507930952,-1.5267317592903678,-0.391060431956472,-0.02966933279741935,-0.6783367766237356,-2.1493183638932223,-0.03547195765814967,-0.005121110419892885,-0.68917871765611,-0.6887859394541634,-0.008899252350649837,-0.5213872996840356,-0.9467414741675909,-0.044382622704831405,-0.3079970253270347,-0.043406017783113045,-0.27762085267659226,-0.9509283850124501,-0.49445510350806476,-0.9054037631866455,-0.20026006991597167,-2.9354286300895427,-2.806752018390035,-2.875236560818479,-2.9148952203781575,-2.985790903655939,-2.629631652335998,-2.59453158241839,-2.3560483531593612,-2.7288966127051766,-2.2960863661205613,-2.7937868108893436,-1.9366635521750775,-2.800867991369265,-2.8362903608918777,-2.6157669307617555,-2.52718780019718,-2.7165003756921693,-2.851406095981374,-2.3394642782537627,-2.4580752037251834,-2.1247928391174327,-2.7186436511057397,-2.83424877565022,-2.8864396886863615,-2.9976183665626013,-2.892377464172255,-2.7202597032187725,-1.4959414537863736,-2.4816312793952995,-2.2211718129951725,-2.6478559651507827,-2.9066839681521204,-2.793822921988208,-2.8388480114161094,-2.5565684155533166,-2.717199074852638,-2.392363163119521,-2.9945457590887776,-2.747496946318915,-2.039067857114997,-1.7671047874350887,-2.9063225553217937,-2.7786734772745327,-2.683085008783422,-2.5523905760123275,-2.798451241322243,-2.915814659371806,-2.9053956065648476,-2.994296405262682,-2.6090844540036597,-2.413667474327042,-2.8596169658937427,-2.7680914722907284,-2.6535270001032076,-2.523523238835107,-2.7860404864234547,-2.9120470812557366,-2.938581642554365,-2.832507598838824,-2.9375692437307244,-2.6808573277548557,-2.852995079579241,-2.8693691390368326,-2.8734758217769456,-2.925664217760214,-2.9255355102840483,-2.951911821317818,-2.870399637523547,-2.861874837450895,-2.5816748112388543,-2.9963122108113422]},{\"label\":\"num_leaves\",\"range\":[11,100],\"values\":[88,47,88,30,32,22,42,65,52,38,11,17,12,65,26,22,25,64,77,97,77,79,76,76,74,92,82,70,60,86,85,84,86,88,100,97,94,83,83,91,92,84,70,89,83,71,47,87,100,81,85,90,90,91,94,97,80,90,73,66,37,94,86,79,95,88,92,95,96,99,54,84,94,89,86,78,79,76,81,83,68,92,89,92,86,60,47,59,59,73,98,98,62,62,63,62,53,49,49,42]}],\"labelangle\":30,\"labelside\":\"bottom\",\"line\":{\"color\":[0.9911035643794266,0.9911035643794266,0.9911035643794266,0.9923807035876001,0.975578340880065,0.9815903285730873,0.9911035643794266,0.9911035643794265,0.9920505340763962,0.9911035643794265,0.9866553465691398,0.9721206316033904,0.9911035643794266,0.9933276732845698,0.9721206316033902,0.9698965226982468,0.9911035643794266,0.9911035643794266,0.9667254440961338,0.9847614071752003,0.988879455474283,0.9667254440961338,0.9721206316033902,0.9667254440961338,0.9721206316033902,0.988879455474283,0.9847614071752003,0.9866553465691398,0.9708434923952165,0.9393322593753628,0.9383852896783931,0.9380551201671891,0.9380551201671891,0.9402792290723325,0.9393322593753628,0.9393322593753628,0.9587324393358876,0.9383852896783931,0.9600095785440613,0.9383852896783931,0.978419249970974,0.9383852896783931,0.9901565946824569,0.9393322593753628,0.9393322593753628,0.9393322593753628,0.9901565946824569,0.9587324393358876,0.9492192035295485,0.9933276732845698,0.9901565946824569,0.9380551201671891,0.9380551201671891,0.9402792290723325,0.9901565946824569,0.9393322593753628,0.9911035643794266,0.9393322593753628,0.9628504876349705,0.9393322593753628,0.9402792290723325,0.9383852896783931,0.9901565946824569,0.9393322593753628,0.9393322593753628,0.9536674213398352,0.9402792290723325,0.9383852896783931,0.9920505340763962,0.9911035643794265,0.9901565946824569,0.9383852896783931,0.9393322593753628,0.9911035643794266,0.9383852896783931,0.9380551201671891,0.9901565946824569,0.9402792290723325,0.9393322593753628,0.9536674213398352,0.9901565946824569,0.9383852896783931,0.9393322593753628,0.9393322593753628,0.9383852896783931,0.9380551201671891,0.9393322593753628,0.9402792290723325,0.9901565946824569,0.9393322593753628,0.9380551201671891,0.9380551201671891,0.9380551201671891,0.9380551201671891,0.9380551201671891,0.9920505340763962,0.9380551201671891,0.9380551201671891,0.9920505340763962,0.9920505340763962],\"colorbar\":{\"title\":{\"text\":\"Objective Value\"}},\"colorscale\":[[0.0,\"rgb(247,251,255)\"],[0.125,\"rgb(222,235,247)\"],[0.25,\"rgb(198,219,239)\"],[0.375,\"rgb(158,202,225)\"],[0.5,\"rgb(107,174,214)\"],[0.625,\"rgb(66,146,198)\"],[0.75,\"rgb(33,113,181)\"],[0.875,\"rgb(8,81,156)\"],[1.0,\"rgb(8,48,107)\"]],\"reversescale\":true,\"showscale\":true},\"type\":\"parcoords\"}],                        {\"title\":{\"text\":\"Parallel Coordinate Plot\"},\"template\":{\"data\":{\"bar\":[{\"error_x\":{\"color\":\"#2a3f5f\"},\"error_y\":{\"color\":\"#2a3f5f\"},\"marker\":{\"line\":{\"color\":\"#E5ECF6\",\"width\":0.5},\"pattern\":{\"fillmode\":\"overlay\",\"size\":10,\"solidity\":0.2}},\"type\":\"bar\"}],\"barpolar\":[{\"marker\":{\"line\":{\"color\":\"#E5ECF6\",\"width\":0.5},\"pattern\":{\"fillmode\":\"overlay\",\"size\":10,\"solidity\":0.2}},\"type\":\"barpolar\"}],\"carpet\":[{\"aaxis\":{\"endlinecolor\":\"#2a3f5f\",\"gridcolor\":\"white\",\"linecolor\":\"white\",\"minorgridcolor\":\"white\",\"startlinecolor\":\"#2a3f5f\"},\"baxis\":{\"endlinecolor\":\"#2a3f5f\",\"gridcolor\":\"white\",\"linecolor\":\"white\",\"minorgridcolor\":\"white\",\"startlinecolor\":\"#2a3f5f\"},\"type\":\"carpet\"}],\"choropleth\":[{\"colorbar\":{\"outlinewidth\":0,\"ticks\":\"\"},\"type\":\"choropleth\"}],\"contour\":[{\"colorbar\":{\"outlinewidth\":0,\"ticks\":\"\"},\"colorscale\":[[0.0,\"#0d0887\"],[0.1111111111111111,\"#46039f\"],[0.2222222222222222,\"#7201a8\"],[0.3333333333333333,\"#9c179e\"],[0.4444444444444444,\"#bd3786\"],[0.5555555555555556,\"#d8576b\"],[0.6666666666666666,\"#ed7953\"],[0.7777777777777778,\"#fb9f3a\"],[0.8888888888888888,\"#fdca26\"],[1.0,\"#f0f921\"]],\"type\":\"contour\"}],\"contourcarpet\":[{\"colorbar\":{\"outlinewidth\":0,\"ticks\":\"\"},\"type\":\"contourcarpet\"}],\"heatmap\":[{\"colorbar\":{\"outlinewidth\":0,\"ticks\":\"\"},\"colorscale\":[[0.0,\"#0d0887\"],[0.1111111111111111,\"#46039f\"],[0.2222222222222222,\"#7201a8\"],[0.3333333333333333,\"#9c179e\"],[0.4444444444444444,\"#bd3786\"],[0.5555555555555556,\"#d8576b\"],[0.6666666666666666,\"#ed7953\"],[0.7777777777777778,\"#fb9f3a\"],[0.8888888888888888,\"#fdca26\"],[1.0,\"#f0f921\"]],\"type\":\"heatmap\"}],\"heatmapgl\":[{\"colorbar\":{\"outlinewidth\":0,\"ticks\":\"\"},\"colorscale\":[[0.0,\"#0d0887\"],[0.1111111111111111,\"#46039f\"],[0.2222222222222222,\"#7201a8\"],[0.3333333333333333,\"#9c179e\"],[0.4444444444444444,\"#bd3786\"],[0.5555555555555556,\"#d8576b\"],[0.6666666666666666,\"#ed7953\"],[0.7777777777777778,\"#fb9f3a\"],[0.8888888888888888,\"#fdca26\"],[1.0,\"#f0f921\"]],\"type\":\"heatmapgl\"}],\"histogram\":[{\"marker\":{\"pattern\":{\"fillmode\":\"overlay\",\"size\":10,\"solidity\":0.2}},\"type\":\"histogram\"}],\"histogram2d\":[{\"colorbar\":{\"outlinewidth\":0,\"ticks\":\"\"},\"colorscale\":[[0.0,\"#0d0887\"],[0.1111111111111111,\"#46039f\"],[0.2222222222222222,\"#7201a8\"],[0.3333333333333333,\"#9c179e\"],[0.4444444444444444,\"#bd3786\"],[0.5555555555555556,\"#d8576b\"],[0.6666666666666666,\"#ed7953\"],[0.7777777777777778,\"#fb9f3a\"],[0.8888888888888888,\"#fdca26\"],[1.0,\"#f0f921\"]],\"type\":\"histogram2d\"}],\"histogram2dcontour\":[{\"colorbar\":{\"outlinewidth\":0,\"ticks\":\"\"},\"colorscale\":[[0.0,\"#0d0887\"],[0.1111111111111111,\"#46039f\"],[0.2222222222222222,\"#7201a8\"],[0.3333333333333333,\"#9c179e\"],[0.4444444444444444,\"#bd3786\"],[0.5555555555555556,\"#d8576b\"],[0.6666666666666666,\"#ed7953\"],[0.7777777777777778,\"#fb9f3a\"],[0.8888888888888888,\"#fdca26\"],[1.0,\"#f0f921\"]],\"type\":\"histogram2dcontour\"}],\"mesh3d\":[{\"colorbar\":{\"outlinewidth\":0,\"ticks\":\"\"},\"type\":\"mesh3d\"}],\"parcoords\":[{\"line\":{\"colorbar\":{\"outlinewidth\":0,\"ticks\":\"\"}},\"type\":\"parcoords\"}],\"pie\":[{\"automargin\":true,\"type\":\"pie\"}],\"scatter\":[{\"marker\":{\"colorbar\":{\"outlinewidth\":0,\"ticks\":\"\"}},\"type\":\"scatter\"}],\"scatter3d\":[{\"line\":{\"colorbar\":{\"outlinewidth\":0,\"ticks\":\"\"}},\"marker\":{\"colorbar\":{\"outlinewidth\":0,\"ticks\":\"\"}},\"type\":\"scatter3d\"}],\"scattercarpet\":[{\"marker\":{\"colorbar\":{\"outlinewidth\":0,\"ticks\":\"\"}},\"type\":\"scattercarpet\"}],\"scattergeo\":[{\"marker\":{\"colorbar\":{\"outlinewidth\":0,\"ticks\":\"\"}},\"type\":\"scattergeo\"}],\"scattergl\":[{\"marker\":{\"colorbar\":{\"outlinewidth\":0,\"ticks\":\"\"}},\"type\":\"scattergl\"}],\"scattermapbox\":[{\"marker\":{\"colorbar\":{\"outlinewidth\":0,\"ticks\":\"\"}},\"type\":\"scattermapbox\"}],\"scatterpolar\":[{\"marker\":{\"colorbar\":{\"outlinewidth\":0,\"ticks\":\"\"}},\"type\":\"scatterpolar\"}],\"scatterpolargl\":[{\"marker\":{\"colorbar\":{\"outlinewidth\":0,\"ticks\":\"\"}},\"type\":\"scatterpolargl\"}],\"scatterternary\":[{\"marker\":{\"colorbar\":{\"outlinewidth\":0,\"ticks\":\"\"}},\"type\":\"scatterternary\"}],\"surface\":[{\"colorbar\":{\"outlinewidth\":0,\"ticks\":\"\"},\"colorscale\":[[0.0,\"#0d0887\"],[0.1111111111111111,\"#46039f\"],[0.2222222222222222,\"#7201a8\"],[0.3333333333333333,\"#9c179e\"],[0.4444444444444444,\"#bd3786\"],[0.5555555555555556,\"#d8576b\"],[0.6666666666666666,\"#ed7953\"],[0.7777777777777778,\"#fb9f3a\"],[0.8888888888888888,\"#fdca26\"],[1.0,\"#f0f921\"]],\"type\":\"surface\"}],\"table\":[{\"cells\":{\"fill\":{\"color\":\"#EBF0F8\"},\"line\":{\"color\":\"white\"}},\"header\":{\"fill\":{\"color\":\"#C8D4E3\"},\"line\":{\"color\":\"white\"}},\"type\":\"table\"}]},\"layout\":{\"annotationdefaults\":{\"arrowcolor\":\"#2a3f5f\",\"arrowhead\":0,\"arrowwidth\":1},\"autotypenumbers\":\"strict\",\"coloraxis\":{\"colorbar\":{\"outlinewidth\":0,\"ticks\":\"\"}},\"colorscale\":{\"diverging\":[[0,\"#8e0152\"],[0.1,\"#c51b7d\"],[0.2,\"#de77ae\"],[0.3,\"#f1b6da\"],[0.4,\"#fde0ef\"],[0.5,\"#f7f7f7\"],[0.6,\"#e6f5d0\"],[0.7,\"#b8e186\"],[0.8,\"#7fbc41\"],[0.9,\"#4d9221\"],[1,\"#276419\"]],\"sequential\":[[0.0,\"#0d0887\"],[0.1111111111111111,\"#46039f\"],[0.2222222222222222,\"#7201a8\"],[0.3333333333333333,\"#9c179e\"],[0.4444444444444444,\"#bd3786\"],[0.5555555555555556,\"#d8576b\"],[0.6666666666666666,\"#ed7953\"],[0.7777777777777778,\"#fb9f3a\"],[0.8888888888888888,\"#fdca26\"],[1.0,\"#f0f921\"]],\"sequentialminus\":[[0.0,\"#0d0887\"],[0.1111111111111111,\"#46039f\"],[0.2222222222222222,\"#7201a8\"],[0.3333333333333333,\"#9c179e\"],[0.4444444444444444,\"#bd3786\"],[0.5555555555555556,\"#d8576b\"],[0.6666666666666666,\"#ed7953\"],[0.7777777777777778,\"#fb9f3a\"],[0.8888888888888888,\"#fdca26\"],[1.0,\"#f0f921\"]]},\"colorway\":[\"#636efa\",\"#EF553B\",\"#00cc96\",\"#ab63fa\",\"#FFA15A\",\"#19d3f3\",\"#FF6692\",\"#B6E880\",\"#FF97FF\",\"#FECB52\"],\"font\":{\"color\":\"#2a3f5f\"},\"geo\":{\"bgcolor\":\"white\",\"lakecolor\":\"white\",\"landcolor\":\"#E5ECF6\",\"showlakes\":true,\"showland\":true,\"subunitcolor\":\"white\"},\"hoverlabel\":{\"align\":\"left\"},\"hovermode\":\"closest\",\"mapbox\":{\"style\":\"light\"},\"paper_bgcolor\":\"white\",\"plot_bgcolor\":\"#E5ECF6\",\"polar\":{\"angularaxis\":{\"gridcolor\":\"white\",\"linecolor\":\"white\",\"ticks\":\"\"},\"bgcolor\":\"#E5ECF6\",\"radialaxis\":{\"gridcolor\":\"white\",\"linecolor\":\"white\",\"ticks\":\"\"}},\"scene\":{\"xaxis\":{\"backgroundcolor\":\"#E5ECF6\",\"gridcolor\":\"white\",\"gridwidth\":2,\"linecolor\":\"white\",\"showbackground\":true,\"ticks\":\"\",\"zerolinecolor\":\"white\"},\"yaxis\":{\"backgroundcolor\":\"#E5ECF6\",\"gridcolor\":\"white\",\"gridwidth\":2,\"linecolor\":\"white\",\"showbackground\":true,\"ticks\":\"\",\"zerolinecolor\":\"white\"},\"zaxis\":{\"backgroundcolor\":\"#E5ECF6\",\"gridcolor\":\"white\",\"gridwidth\":2,\"linecolor\":\"white\",\"showbackground\":true,\"ticks\":\"\",\"zerolinecolor\":\"white\"}},\"shapedefaults\":{\"line\":{\"color\":\"#2a3f5f\"}},\"ternary\":{\"aaxis\":{\"gridcolor\":\"white\",\"linecolor\":\"white\",\"ticks\":\"\"},\"baxis\":{\"gridcolor\":\"white\",\"linecolor\":\"white\",\"ticks\":\"\"},\"bgcolor\":\"#E5ECF6\",\"caxis\":{\"gridcolor\":\"white\",\"linecolor\":\"white\",\"ticks\":\"\"}},\"title\":{\"x\":0.05},\"xaxis\":{\"automargin\":true,\"gridcolor\":\"white\",\"linecolor\":\"white\",\"ticks\":\"\",\"title\":{\"standoff\":15},\"zerolinecolor\":\"white\",\"zerolinewidth\":2},\"yaxis\":{\"automargin\":true,\"gridcolor\":\"white\",\"linecolor\":\"white\",\"ticks\":\"\",\"title\":{\"standoff\":15},\"zerolinecolor\":\"white\",\"zerolinewidth\":2}}}},                        {\"responsive\": true}                    ).then(function(){\n",
              "                            \n",
              "var gd = document.getElementById('057d31a0-7ca4-4894-984e-02bc986095e5');\n",
              "var x = new MutationObserver(function (mutations, observer) {{\n",
              "        var display = window.getComputedStyle(gd).display;\n",
              "        if (!display || display === 'none') {{\n",
              "            console.log([gd, 'removed!']);\n",
              "            Plotly.purge(gd);\n",
              "            observer.disconnect();\n",
              "        }}\n",
              "}});\n",
              "\n",
              "// Listen for the removal of the full notebook cells\n",
              "var notebookContainer = gd.closest('#notebook-container');\n",
              "if (notebookContainer) {{\n",
              "    x.observe(notebookContainer, {childList: true});\n",
              "}}\n",
              "\n",
              "// Listen for the clearing of the current output cell\n",
              "var outputEl = gd.closest('.output');\n",
              "if (outputEl) {{\n",
              "    x.observe(outputEl, {childList: true});\n",
              "}}\n",
              "\n",
              "                        })                };                            </script>        </div>\n",
              "</body>\n",
              "</html>"
            ]
          },
          "metadata": {}
        }
      ]
    },
    {
      "cell_type": "markdown",
      "source": [
        "### ハイパラの空間のどこを探索したか"
      ],
      "metadata": {
        "id": "E4Y96TBIHZQO"
      }
    },
    {
      "cell_type": "code",
      "source": [
        "visualization.plot_slice(study)"
      ],
      "metadata": {
        "colab": {
          "base_uri": "https://localhost:8080/",
          "height": 542
        },
        "id": "WSu3daRwEXMK",
        "outputId": "0ea6f8e0-9970-409b-ddb0-43c203f68257"
      },
      "execution_count": 44,
      "outputs": [
        {
          "output_type": "display_data",
          "data": {
            "text/html": [
              "<html>\n",
              "<head><meta charset=\"utf-8\" /></head>\n",
              "<body>\n",
              "    <div>            <script src=\"https://cdnjs.cloudflare.com/ajax/libs/mathjax/2.7.5/MathJax.js?config=TeX-AMS-MML_SVG\"></script><script type=\"text/javascript\">if (window.MathJax) {MathJax.Hub.Config({SVG: {font: \"STIX-Web\"}});}</script>                <script type=\"text/javascript\">window.PlotlyConfig = {MathJaxConfig: 'local'};</script>\n",
              "        <script src=\"https://cdn.plot.ly/plotly-2.8.3.min.js\"></script>                <div id=\"af6d8227-e37d-457a-bc8c-0022bcabcbf4\" class=\"plotly-graph-div\" style=\"height:525px; width:1200px;\"></div>            <script type=\"text/javascript\">                                    window.PLOTLYENV=window.PLOTLYENV || {};                                    if (document.getElementById(\"af6d8227-e37d-457a-bc8c-0022bcabcbf4\")) {                    Plotly.newPlot(                        \"af6d8227-e37d-457a-bc8c-0022bcabcbf4\",                        [{\"marker\":{\"color\":[0,1,2,3,4,5,6,7,8,9,10,11,12,13,14,15,16,17,18,19,20,21,22,23,24,25,26,27,28,29,30,31,32,33,34,35,36,37,38,39,40,41,42,43,44,45,46,47,48,49,50,51,52,53,54,55,56,57,58,59,60,61,62,63,64,65,66,67,68,69,70,71,72,73,74,75,76,77,78,79,80,81,82,83,84,85,86,87,88,89,90,91,92,93,94,95,96,97,98,99],\"colorbar\":{\"title\":{\"text\":\"Trial\"},\"x\":1.0,\"xpad\":40},\"colorscale\":[[0.0,\"rgb(247,251,255)\"],[0.125,\"rgb(222,235,247)\"],[0.25,\"rgb(198,219,239)\"],[0.375,\"rgb(158,202,225)\"],[0.5,\"rgb(107,174,214)\"],[0.625,\"rgb(66,146,198)\"],[0.75,\"rgb(33,113,181)\"],[0.875,\"rgb(8,81,156)\"],[1.0,\"rgb(8,48,107)\"]],\"line\":{\"color\":\"Grey\",\"width\":0.5},\"showscale\":true},\"mode\":\"markers\",\"showlegend\":false,\"x\":[\"dart\",\"gbdt\",\"dart\",\"dart\",\"dart\",\"dart\",\"dart\",\"gbdt\",\"gbdt\",\"gbdt\",\"dart\",\"dart\",\"dart\",\"dart\",\"dart\",\"dart\",\"dart\",\"dart\",\"gbdt\",\"gbdt\",\"gbdt\",\"gbdt\",\"gbdt\",\"gbdt\",\"gbdt\",\"gbdt\",\"gbdt\",\"gbdt\",\"gbdt\",\"gbdt\",\"gbdt\",\"gbdt\",\"gbdt\",\"gbdt\",\"gbdt\",\"gbdt\",\"gbdt\",\"gbdt\",\"gbdt\",\"gbdt\",\"gbdt\",\"gbdt\",\"gbdt\",\"gbdt\",\"gbdt\",\"gbdt\",\"gbdt\",\"gbdt\",\"gbdt\",\"gbdt\",\"gbdt\",\"gbdt\",\"gbdt\",\"gbdt\",\"gbdt\",\"gbdt\",\"gbdt\",\"dart\",\"gbdt\",\"gbdt\",\"dart\",\"gbdt\",\"gbdt\",\"gbdt\",\"gbdt\",\"gbdt\",\"gbdt\",\"gbdt\",\"gbdt\",\"gbdt\",\"dart\",\"gbdt\",\"gbdt\",\"gbdt\",\"gbdt\",\"gbdt\",\"gbdt\",\"gbdt\",\"gbdt\",\"gbdt\",\"gbdt\",\"gbdt\",\"gbdt\",\"gbdt\",\"gbdt\",\"gbdt\",\"gbdt\",\"dart\",\"gbdt\",\"gbdt\",\"gbdt\",\"gbdt\",\"gbdt\",\"gbdt\",\"gbdt\",\"gbdt\",\"gbdt\",\"gbdt\",\"gbdt\",\"gbdt\"],\"y\":[0.9911035643794266,0.9911035643794266,0.9911035643794266,0.9923807035876001,0.975578340880065,0.9815903285730873,0.9911035643794266,0.9911035643794265,0.9920505340763962,0.9911035643794265,0.9866553465691398,0.9721206316033904,0.9911035643794266,0.9933276732845698,0.9721206316033902,0.9698965226982468,0.9911035643794266,0.9911035643794266,0.9667254440961338,0.9847614071752003,0.988879455474283,0.9667254440961338,0.9721206316033902,0.9667254440961338,0.9721206316033902,0.988879455474283,0.9847614071752003,0.9866553465691398,0.9708434923952165,0.9393322593753628,0.9383852896783931,0.9380551201671891,0.9380551201671891,0.9402792290723325,0.9393322593753628,0.9393322593753628,0.9587324393358876,0.9383852896783931,0.9600095785440613,0.9383852896783931,0.978419249970974,0.9383852896783931,0.9901565946824569,0.9393322593753628,0.9393322593753628,0.9393322593753628,0.9901565946824569,0.9587324393358876,0.9492192035295485,0.9933276732845698,0.9901565946824569,0.9380551201671891,0.9380551201671891,0.9402792290723325,0.9901565946824569,0.9393322593753628,0.9911035643794266,0.9393322593753628,0.9628504876349705,0.9393322593753628,0.9402792290723325,0.9383852896783931,0.9901565946824569,0.9393322593753628,0.9393322593753628,0.9536674213398352,0.9402792290723325,0.9383852896783931,0.9920505340763962,0.9911035643794265,0.9901565946824569,0.9383852896783931,0.9393322593753628,0.9911035643794266,0.9383852896783931,0.9380551201671891,0.9901565946824569,0.9402792290723325,0.9393322593753628,0.9536674213398352,0.9901565946824569,0.9383852896783931,0.9393322593753628,0.9393322593753628,0.9383852896783931,0.9380551201671891,0.9393322593753628,0.9402792290723325,0.9901565946824569,0.9393322593753628,0.9380551201671891,0.9380551201671891,0.9380551201671891,0.9380551201671891,0.9380551201671891,0.9920505340763962,0.9380551201671891,0.9380551201671891,0.9920505340763962,0.9920505340763962],\"type\":\"scatter\",\"xaxis\":\"x\",\"yaxis\":\"y\"},{\"marker\":{\"color\":[0,1,2,3,4,5,6,7,8,9,10,11,12,13,14,15,16,17,18,19,20,21,22,23,24,25,26,27,28,29,30,31,32,33,34,35,36,37,38,39,40,41,42,43,44,45,46,47,48,49,50,51,52,53,54,55,56,57,58,59,60,61,62,63,64,65,66,67,68,69,70,71,72,73,74,75,76,77,78,79,80,81,82,83,84,85,86,87,88,89,90,91,92,93,94,95,96,97,98,99],\"colorbar\":{\"title\":{\"text\":\"Trial\"},\"x\":1.0,\"xpad\":40},\"colorscale\":[[0.0,\"rgb(247,251,255)\"],[0.125,\"rgb(222,235,247)\"],[0.25,\"rgb(198,219,239)\"],[0.375,\"rgb(158,202,225)\"],[0.5,\"rgb(107,174,214)\"],[0.625,\"rgb(66,146,198)\"],[0.75,\"rgb(33,113,181)\"],[0.875,\"rgb(8,81,156)\"],[1.0,\"rgb(8,48,107)\"]],\"line\":{\"color\":\"Grey\",\"width\":0.5},\"showscale\":false},\"mode\":\"markers\",\"showlegend\":false,\"x\":[0.21415090864421538,0.6183393588449764,0.4955369632048551,0.788978516971918,0.568294483140127,0.6556197253048618,0.2607889147849083,0.8523481450304584,0.204774480443911,0.8360473509089751,0.017580688489167495,0.5757439050260932,0.4488454617366379,0.9952093161971984,0.38339108949162204,0.3783573261733709,0.34984621050070874,0.06816336891752811,0.3812048520012899,0.32849684093107323,0.7119336364696917,0.40807126783660513,0.4349571648534177,0.14398133150202946,0.10049784955749624,0.1593846010272439,0.29672281325955074,0.15126241832766066,0.26416092485356324,0.5132970523636197,0.5160236769414953,0.5092078421491011,0.5338748881897236,0.5285673188017547,0.5007804842610596,0.6407318944735574,0.6689369496786249,0.5713665262806743,0.7433079148027768,0.5798110120732055,0.5998177595923543,0.5541032239886347,0.47236892283818005,0.6001451314072975,0.5439822707982183,0.6918376929042345,0.47510381887388714,0.6285602450364968,0.558543528735306,0.7859876823522647,0.4498469702653812,0.549603941867679,0.5142624875562325,0.5965404882282515,0.42551230238691107,0.5055792514244312,0.47195833963891576,0.6563530269436376,0.5318771803427904,0.5626118616721701,0.7333452823069315,0.5949045962331351,0.4151934158649231,0.5654121430073455,0.6277274858591582,0.5027387659451736,0.6804996735359335,0.597445562021935,0.34436190380217346,0.9159475911651482,0.4016280929421766,0.5280571140194011,0.6117362226707697,0.4554702007383124,0.5280094666448093,0.5864911850300679,0.48849997770484743,0.7065391776212664,0.5749517640392326,0.5499290449649915,0.4869666343737278,0.6492270352513785,0.597135804237003,0.6484835841878254,0.5403879445077471,0.5761321439567597,0.6255691604899822,0.5842545370554068,0.4517383848232247,0.5050775587324385,0.5703512800948547,0.6417269630589296,0.6535086921831352,0.6695991980888816,0.7370566535133063,0.7778851703645735,0.6678651196850418,0.7442498731185044,0.8324234134793864,0.7519243294942659],\"y\":[0.9911035643794266,0.9911035643794266,0.9911035643794266,0.9923807035876001,0.975578340880065,0.9815903285730873,0.9911035643794266,0.9911035643794265,0.9920505340763962,0.9911035643794265,0.9866553465691398,0.9721206316033904,0.9911035643794266,0.9933276732845698,0.9721206316033902,0.9698965226982468,0.9911035643794266,0.9911035643794266,0.9667254440961338,0.9847614071752003,0.988879455474283,0.9667254440961338,0.9721206316033902,0.9667254440961338,0.9721206316033902,0.988879455474283,0.9847614071752003,0.9866553465691398,0.9708434923952165,0.9393322593753628,0.9383852896783931,0.9380551201671891,0.9380551201671891,0.9402792290723325,0.9393322593753628,0.9393322593753628,0.9587324393358876,0.9383852896783931,0.9600095785440613,0.9383852896783931,0.978419249970974,0.9383852896783931,0.9901565946824569,0.9393322593753628,0.9393322593753628,0.9393322593753628,0.9901565946824569,0.9587324393358876,0.9492192035295485,0.9933276732845698,0.9901565946824569,0.9380551201671891,0.9380551201671891,0.9402792290723325,0.9901565946824569,0.9393322593753628,0.9911035643794266,0.9393322593753628,0.9628504876349705,0.9393322593753628,0.9402792290723325,0.9383852896783931,0.9901565946824569,0.9393322593753628,0.9393322593753628,0.9536674213398352,0.9402792290723325,0.9383852896783931,0.9920505340763962,0.9911035643794265,0.9901565946824569,0.9383852896783931,0.9393322593753628,0.9911035643794266,0.9383852896783931,0.9380551201671891,0.9901565946824569,0.9402792290723325,0.9393322593753628,0.9536674213398352,0.9901565946824569,0.9383852896783931,0.9393322593753628,0.9393322593753628,0.9383852896783931,0.9380551201671891,0.9393322593753628,0.9402792290723325,0.9901565946824569,0.9393322593753628,0.9380551201671891,0.9380551201671891,0.9380551201671891,0.9380551201671891,0.9380551201671891,0.9920505340763962,0.9380551201671891,0.9380551201671891,0.9920505340763962,0.9920505340763962],\"type\":\"scatter\",\"xaxis\":\"x2\",\"yaxis\":\"y2\"},{\"marker\":{\"color\":[0,1,2,3,4,5,6,7,8,9,10,11,12,13,14,15,16,17,18,19,20,21,22,23,24,25,26,27,28,29,30,31,32,33,34,35,36,37,38,39,40,41,42,43,44,45,46,47,48,49,50,51,52,53,54,55,56,57,58,59,60,61,62,63,64,65,66,67,68,69,70,71,72,73,74,75,76,77,78,79,80,81,82,83,84,85,86,87,88,89,90,91,92,93,94,95,96,97,98,99],\"colorbar\":{\"title\":{\"text\":\"Trial\"},\"x\":1.0,\"xpad\":40},\"colorscale\":[[0.0,\"rgb(247,251,255)\"],[0.125,\"rgb(222,235,247)\"],[0.25,\"rgb(198,219,239)\"],[0.375,\"rgb(158,202,225)\"],[0.5,\"rgb(107,174,214)\"],[0.625,\"rgb(66,146,198)\"],[0.75,\"rgb(33,113,181)\"],[0.875,\"rgb(8,81,156)\"],[1.0,\"rgb(8,48,107)\"]],\"line\":{\"color\":\"Grey\",\"width\":0.5},\"showscale\":false},\"mode\":\"markers\",\"showlegend\":false,\"x\":[0.0035100225034122587,0.06044108530503717,0.05117097994602003,0.0017526459038934206,0.04730015291090741,0.6071802721812887,0.06805156091055424,0.043251583333154174,0.01517184332429048,0.02973502039467869,0.40638677662363126,0.9339651412812896,0.20973128772658298,0.007090577955257333,0.921569392437394,0.9882774582089302,0.20456026722007212,0.20474535628128093,0.9797172338878688,0.3010320251851733,0.1130468657232294,0.9028536898580939,0.4920429058871023,0.9048862357897041,0.5276903440717914,0.11196224935501041,0.320291118804541,0.12433581253390125,0.6305796194386968,0.0011603028791936439,0.0015604432596561123,0.0013327952589450812,0.0012164794579388328,0.0010332587609815055,0.0023462179207158766,0.0025437148043958298,0.004405058160638876,0.0018668240504225687,0.005057240810102104,0.0016077302717296782,0.01157008229068338,0.0015817287502271314,0.0014578392512450177,0.0024223286691275815,0.0029703812840763894,0.001920877300071056,0.0014079716298844756,0.004576523763264509,0.0034827700113191666,0.007502519983666527,0.0019114209814252994,0.001464708575830703,0.001298853925658958,0.0010054989778286872,0.001281216537726556,0.0019043216144904824,0.031919681277843524,0.003298896731344554,0.006009359517501574,0.0022498006341152067,0.001239698374764681,0.0016075965963191162,0.0014492789641041587,0.002776077488860619,0.001917789449811928,0.004051695852770575,0.0010126380473999873,0.0017885581050604506,0.009139704253759616,0.01709602768971001,0.0012407304610466787,0.0016646637513757694,0.0020745074137178865,0.002802911748864269,0.0015905552470339315,0.0012139067899170294,0.0012433814774598594,0.001013219628987948,0.0024598892013561304,0.0038577361938431317,0.0013816022572488867,0.0017057230871074395,0.0022206136235321614,0.00299555129800087,0.0016366639388812726,0.0012244834475361103,0.0011519094932388666,0.0014705926842589624,0.0011545978814094112,0.0020851757820818054,0.0014028295980928727,0.001350923824878732,0.0013382097144481143,0.0011866859001563228,0.0011870376384079688,0.0011170900375099776,0.001347722138704087,0.0013744380274322708,0.0026201441718044552,0.0010085276030225225],\"y\":[0.9911035643794266,0.9911035643794266,0.9911035643794266,0.9923807035876001,0.975578340880065,0.9815903285730873,0.9911035643794266,0.9911035643794265,0.9920505340763962,0.9911035643794265,0.9866553465691398,0.9721206316033904,0.9911035643794266,0.9933276732845698,0.9721206316033902,0.9698965226982468,0.9911035643794266,0.9911035643794266,0.9667254440961338,0.9847614071752003,0.988879455474283,0.9667254440961338,0.9721206316033902,0.9667254440961338,0.9721206316033902,0.988879455474283,0.9847614071752003,0.9866553465691398,0.9708434923952165,0.9393322593753628,0.9383852896783931,0.9380551201671891,0.9380551201671891,0.9402792290723325,0.9393322593753628,0.9393322593753628,0.9587324393358876,0.9383852896783931,0.9600095785440613,0.9383852896783931,0.978419249970974,0.9383852896783931,0.9901565946824569,0.9393322593753628,0.9393322593753628,0.9393322593753628,0.9901565946824569,0.9587324393358876,0.9492192035295485,0.9933276732845698,0.9901565946824569,0.9380551201671891,0.9380551201671891,0.9402792290723325,0.9901565946824569,0.9393322593753628,0.9911035643794266,0.9393322593753628,0.9628504876349705,0.9393322593753628,0.9402792290723325,0.9383852896783931,0.9901565946824569,0.9393322593753628,0.9393322593753628,0.9536674213398352,0.9402792290723325,0.9383852896783931,0.9920505340763962,0.9911035643794265,0.9901565946824569,0.9383852896783931,0.9393322593753628,0.9911035643794266,0.9383852896783931,0.9380551201671891,0.9901565946824569,0.9402792290723325,0.9393322593753628,0.9536674213398352,0.9901565946824569,0.9383852896783931,0.9393322593753628,0.9393322593753628,0.9383852896783931,0.9380551201671891,0.9393322593753628,0.9402792290723325,0.9901565946824569,0.9393322593753628,0.9380551201671891,0.9380551201671891,0.9380551201671891,0.9380551201671891,0.9380551201671891,0.9920505340763962,0.9380551201671891,0.9380551201671891,0.9920505340763962,0.9920505340763962],\"type\":\"scatter\",\"xaxis\":\"x3\",\"yaxis\":\"y3\"},{\"marker\":{\"color\":[0,1,2,3,4,5,6,7,8,9,10,11,12,13,14,15,16,17,18,19,20,21,22,23,24,25,26,27,28,29,30,31,32,33,34,35,36,37,38,39,40,41,42,43,44,45,46,47,48,49,50,51,52,53,54,55,56,57,58,59,60,61,62,63,64,65,66,67,68,69,70,71,72,73,74,75,76,77,78,79,80,81,82,83,84,85,86,87,88,89,90,91,92,93,94,95,96,97,98,99],\"colorbar\":{\"title\":{\"text\":\"Trial\"},\"x\":1.0,\"xpad\":40},\"colorscale\":[[0.0,\"rgb(247,251,255)\"],[0.125,\"rgb(222,235,247)\"],[0.25,\"rgb(198,219,239)\"],[0.375,\"rgb(158,202,225)\"],[0.5,\"rgb(107,174,214)\"],[0.625,\"rgb(66,146,198)\"],[0.75,\"rgb(33,113,181)\"],[0.875,\"rgb(8,81,156)\"],[1.0,\"rgb(8,48,107)\"]],\"line\":{\"color\":\"Grey\",\"width\":0.5},\"showscale\":false},\"mode\":\"markers\",\"showlegend\":false,\"x\":[88,47,88,30,32,22,42,65,52,38,11,17,12,65,26,22,25,64,77,97,77,79,76,76,74,92,82,70,60,86,85,84,86,88,100,97,94,83,83,91,92,84,70,89,83,71,47,87,100,81,85,90,90,91,94,97,80,90,73,66,37,94,86,79,95,88,92,95,96,99,54,84,94,89,86,78,79,76,81,83,68,92,89,92,86,60,47,59,59,73,98,98,62,62,63,62,53,49,49,42],\"y\":[0.9911035643794266,0.9911035643794266,0.9911035643794266,0.9923807035876001,0.975578340880065,0.9815903285730873,0.9911035643794266,0.9911035643794265,0.9920505340763962,0.9911035643794265,0.9866553465691398,0.9721206316033904,0.9911035643794266,0.9933276732845698,0.9721206316033902,0.9698965226982468,0.9911035643794266,0.9911035643794266,0.9667254440961338,0.9847614071752003,0.988879455474283,0.9667254440961338,0.9721206316033902,0.9667254440961338,0.9721206316033902,0.988879455474283,0.9847614071752003,0.9866553465691398,0.9708434923952165,0.9393322593753628,0.9383852896783931,0.9380551201671891,0.9380551201671891,0.9402792290723325,0.9393322593753628,0.9393322593753628,0.9587324393358876,0.9383852896783931,0.9600095785440613,0.9383852896783931,0.978419249970974,0.9383852896783931,0.9901565946824569,0.9393322593753628,0.9393322593753628,0.9393322593753628,0.9901565946824569,0.9587324393358876,0.9492192035295485,0.9933276732845698,0.9901565946824569,0.9380551201671891,0.9380551201671891,0.9402792290723325,0.9901565946824569,0.9393322593753628,0.9911035643794266,0.9393322593753628,0.9628504876349705,0.9393322593753628,0.9402792290723325,0.9383852896783931,0.9901565946824569,0.9393322593753628,0.9393322593753628,0.9536674213398352,0.9402792290723325,0.9383852896783931,0.9920505340763962,0.9911035643794265,0.9901565946824569,0.9383852896783931,0.9393322593753628,0.9911035643794266,0.9383852896783931,0.9380551201671891,0.9901565946824569,0.9402792290723325,0.9393322593753628,0.9536674213398352,0.9901565946824569,0.9383852896783931,0.9393322593753628,0.9393322593753628,0.9383852896783931,0.9380551201671891,0.9393322593753628,0.9402792290723325,0.9901565946824569,0.9393322593753628,0.9380551201671891,0.9380551201671891,0.9380551201671891,0.9380551201671891,0.9380551201671891,0.9920505340763962,0.9380551201671891,0.9380551201671891,0.9920505340763962,0.9920505340763962],\"type\":\"scatter\",\"xaxis\":\"x4\",\"yaxis\":\"y4\"}],                        {\"template\":{\"data\":{\"bar\":[{\"error_x\":{\"color\":\"#2a3f5f\"},\"error_y\":{\"color\":\"#2a3f5f\"},\"marker\":{\"line\":{\"color\":\"#E5ECF6\",\"width\":0.5},\"pattern\":{\"fillmode\":\"overlay\",\"size\":10,\"solidity\":0.2}},\"type\":\"bar\"}],\"barpolar\":[{\"marker\":{\"line\":{\"color\":\"#E5ECF6\",\"width\":0.5},\"pattern\":{\"fillmode\":\"overlay\",\"size\":10,\"solidity\":0.2}},\"type\":\"barpolar\"}],\"carpet\":[{\"aaxis\":{\"endlinecolor\":\"#2a3f5f\",\"gridcolor\":\"white\",\"linecolor\":\"white\",\"minorgridcolor\":\"white\",\"startlinecolor\":\"#2a3f5f\"},\"baxis\":{\"endlinecolor\":\"#2a3f5f\",\"gridcolor\":\"white\",\"linecolor\":\"white\",\"minorgridcolor\":\"white\",\"startlinecolor\":\"#2a3f5f\"},\"type\":\"carpet\"}],\"choropleth\":[{\"colorbar\":{\"outlinewidth\":0,\"ticks\":\"\"},\"type\":\"choropleth\"}],\"contour\":[{\"colorbar\":{\"outlinewidth\":0,\"ticks\":\"\"},\"colorscale\":[[0.0,\"#0d0887\"],[0.1111111111111111,\"#46039f\"],[0.2222222222222222,\"#7201a8\"],[0.3333333333333333,\"#9c179e\"],[0.4444444444444444,\"#bd3786\"],[0.5555555555555556,\"#d8576b\"],[0.6666666666666666,\"#ed7953\"],[0.7777777777777778,\"#fb9f3a\"],[0.8888888888888888,\"#fdca26\"],[1.0,\"#f0f921\"]],\"type\":\"contour\"}],\"contourcarpet\":[{\"colorbar\":{\"outlinewidth\":0,\"ticks\":\"\"},\"type\":\"contourcarpet\"}],\"heatmap\":[{\"colorbar\":{\"outlinewidth\":0,\"ticks\":\"\"},\"colorscale\":[[0.0,\"#0d0887\"],[0.1111111111111111,\"#46039f\"],[0.2222222222222222,\"#7201a8\"],[0.3333333333333333,\"#9c179e\"],[0.4444444444444444,\"#bd3786\"],[0.5555555555555556,\"#d8576b\"],[0.6666666666666666,\"#ed7953\"],[0.7777777777777778,\"#fb9f3a\"],[0.8888888888888888,\"#fdca26\"],[1.0,\"#f0f921\"]],\"type\":\"heatmap\"}],\"heatmapgl\":[{\"colorbar\":{\"outlinewidth\":0,\"ticks\":\"\"},\"colorscale\":[[0.0,\"#0d0887\"],[0.1111111111111111,\"#46039f\"],[0.2222222222222222,\"#7201a8\"],[0.3333333333333333,\"#9c179e\"],[0.4444444444444444,\"#bd3786\"],[0.5555555555555556,\"#d8576b\"],[0.6666666666666666,\"#ed7953\"],[0.7777777777777778,\"#fb9f3a\"],[0.8888888888888888,\"#fdca26\"],[1.0,\"#f0f921\"]],\"type\":\"heatmapgl\"}],\"histogram\":[{\"marker\":{\"pattern\":{\"fillmode\":\"overlay\",\"size\":10,\"solidity\":0.2}},\"type\":\"histogram\"}],\"histogram2d\":[{\"colorbar\":{\"outlinewidth\":0,\"ticks\":\"\"},\"colorscale\":[[0.0,\"#0d0887\"],[0.1111111111111111,\"#46039f\"],[0.2222222222222222,\"#7201a8\"],[0.3333333333333333,\"#9c179e\"],[0.4444444444444444,\"#bd3786\"],[0.5555555555555556,\"#d8576b\"],[0.6666666666666666,\"#ed7953\"],[0.7777777777777778,\"#fb9f3a\"],[0.8888888888888888,\"#fdca26\"],[1.0,\"#f0f921\"]],\"type\":\"histogram2d\"}],\"histogram2dcontour\":[{\"colorbar\":{\"outlinewidth\":0,\"ticks\":\"\"},\"colorscale\":[[0.0,\"#0d0887\"],[0.1111111111111111,\"#46039f\"],[0.2222222222222222,\"#7201a8\"],[0.3333333333333333,\"#9c179e\"],[0.4444444444444444,\"#bd3786\"],[0.5555555555555556,\"#d8576b\"],[0.6666666666666666,\"#ed7953\"],[0.7777777777777778,\"#fb9f3a\"],[0.8888888888888888,\"#fdca26\"],[1.0,\"#f0f921\"]],\"type\":\"histogram2dcontour\"}],\"mesh3d\":[{\"colorbar\":{\"outlinewidth\":0,\"ticks\":\"\"},\"type\":\"mesh3d\"}],\"parcoords\":[{\"line\":{\"colorbar\":{\"outlinewidth\":0,\"ticks\":\"\"}},\"type\":\"parcoords\"}],\"pie\":[{\"automargin\":true,\"type\":\"pie\"}],\"scatter\":[{\"marker\":{\"colorbar\":{\"outlinewidth\":0,\"ticks\":\"\"}},\"type\":\"scatter\"}],\"scatter3d\":[{\"line\":{\"colorbar\":{\"outlinewidth\":0,\"ticks\":\"\"}},\"marker\":{\"colorbar\":{\"outlinewidth\":0,\"ticks\":\"\"}},\"type\":\"scatter3d\"}],\"scattercarpet\":[{\"marker\":{\"colorbar\":{\"outlinewidth\":0,\"ticks\":\"\"}},\"type\":\"scattercarpet\"}],\"scattergeo\":[{\"marker\":{\"colorbar\":{\"outlinewidth\":0,\"ticks\":\"\"}},\"type\":\"scattergeo\"}],\"scattergl\":[{\"marker\":{\"colorbar\":{\"outlinewidth\":0,\"ticks\":\"\"}},\"type\":\"scattergl\"}],\"scattermapbox\":[{\"marker\":{\"colorbar\":{\"outlinewidth\":0,\"ticks\":\"\"}},\"type\":\"scattermapbox\"}],\"scatterpolar\":[{\"marker\":{\"colorbar\":{\"outlinewidth\":0,\"ticks\":\"\"}},\"type\":\"scatterpolar\"}],\"scatterpolargl\":[{\"marker\":{\"colorbar\":{\"outlinewidth\":0,\"ticks\":\"\"}},\"type\":\"scatterpolargl\"}],\"scatterternary\":[{\"marker\":{\"colorbar\":{\"outlinewidth\":0,\"ticks\":\"\"}},\"type\":\"scatterternary\"}],\"surface\":[{\"colorbar\":{\"outlinewidth\":0,\"ticks\":\"\"},\"colorscale\":[[0.0,\"#0d0887\"],[0.1111111111111111,\"#46039f\"],[0.2222222222222222,\"#7201a8\"],[0.3333333333333333,\"#9c179e\"],[0.4444444444444444,\"#bd3786\"],[0.5555555555555556,\"#d8576b\"],[0.6666666666666666,\"#ed7953\"],[0.7777777777777778,\"#fb9f3a\"],[0.8888888888888888,\"#fdca26\"],[1.0,\"#f0f921\"]],\"type\":\"surface\"}],\"table\":[{\"cells\":{\"fill\":{\"color\":\"#EBF0F8\"},\"line\":{\"color\":\"white\"}},\"header\":{\"fill\":{\"color\":\"#C8D4E3\"},\"line\":{\"color\":\"white\"}},\"type\":\"table\"}]},\"layout\":{\"annotationdefaults\":{\"arrowcolor\":\"#2a3f5f\",\"arrowhead\":0,\"arrowwidth\":1},\"autotypenumbers\":\"strict\",\"coloraxis\":{\"colorbar\":{\"outlinewidth\":0,\"ticks\":\"\"}},\"colorscale\":{\"diverging\":[[0,\"#8e0152\"],[0.1,\"#c51b7d\"],[0.2,\"#de77ae\"],[0.3,\"#f1b6da\"],[0.4,\"#fde0ef\"],[0.5,\"#f7f7f7\"],[0.6,\"#e6f5d0\"],[0.7,\"#b8e186\"],[0.8,\"#7fbc41\"],[0.9,\"#4d9221\"],[1,\"#276419\"]],\"sequential\":[[0.0,\"#0d0887\"],[0.1111111111111111,\"#46039f\"],[0.2222222222222222,\"#7201a8\"],[0.3333333333333333,\"#9c179e\"],[0.4444444444444444,\"#bd3786\"],[0.5555555555555556,\"#d8576b\"],[0.6666666666666666,\"#ed7953\"],[0.7777777777777778,\"#fb9f3a\"],[0.8888888888888888,\"#fdca26\"],[1.0,\"#f0f921\"]],\"sequentialminus\":[[0.0,\"#0d0887\"],[0.1111111111111111,\"#46039f\"],[0.2222222222222222,\"#7201a8\"],[0.3333333333333333,\"#9c179e\"],[0.4444444444444444,\"#bd3786\"],[0.5555555555555556,\"#d8576b\"],[0.6666666666666666,\"#ed7953\"],[0.7777777777777778,\"#fb9f3a\"],[0.8888888888888888,\"#fdca26\"],[1.0,\"#f0f921\"]]},\"colorway\":[\"#636efa\",\"#EF553B\",\"#00cc96\",\"#ab63fa\",\"#FFA15A\",\"#19d3f3\",\"#FF6692\",\"#B6E880\",\"#FF97FF\",\"#FECB52\"],\"font\":{\"color\":\"#2a3f5f\"},\"geo\":{\"bgcolor\":\"white\",\"lakecolor\":\"white\",\"landcolor\":\"#E5ECF6\",\"showlakes\":true,\"showland\":true,\"subunitcolor\":\"white\"},\"hoverlabel\":{\"align\":\"left\"},\"hovermode\":\"closest\",\"mapbox\":{\"style\":\"light\"},\"paper_bgcolor\":\"white\",\"plot_bgcolor\":\"#E5ECF6\",\"polar\":{\"angularaxis\":{\"gridcolor\":\"white\",\"linecolor\":\"white\",\"ticks\":\"\"},\"bgcolor\":\"#E5ECF6\",\"radialaxis\":{\"gridcolor\":\"white\",\"linecolor\":\"white\",\"ticks\":\"\"}},\"scene\":{\"xaxis\":{\"backgroundcolor\":\"#E5ECF6\",\"gridcolor\":\"white\",\"gridwidth\":2,\"linecolor\":\"white\",\"showbackground\":true,\"ticks\":\"\",\"zerolinecolor\":\"white\"},\"yaxis\":{\"backgroundcolor\":\"#E5ECF6\",\"gridcolor\":\"white\",\"gridwidth\":2,\"linecolor\":\"white\",\"showbackground\":true,\"ticks\":\"\",\"zerolinecolor\":\"white\"},\"zaxis\":{\"backgroundcolor\":\"#E5ECF6\",\"gridcolor\":\"white\",\"gridwidth\":2,\"linecolor\":\"white\",\"showbackground\":true,\"ticks\":\"\",\"zerolinecolor\":\"white\"}},\"shapedefaults\":{\"line\":{\"color\":\"#2a3f5f\"}},\"ternary\":{\"aaxis\":{\"gridcolor\":\"white\",\"linecolor\":\"white\",\"ticks\":\"\"},\"baxis\":{\"gridcolor\":\"white\",\"linecolor\":\"white\",\"ticks\":\"\"},\"bgcolor\":\"#E5ECF6\",\"caxis\":{\"gridcolor\":\"white\",\"linecolor\":\"white\",\"ticks\":\"\"}},\"title\":{\"x\":0.05},\"xaxis\":{\"automargin\":true,\"gridcolor\":\"white\",\"linecolor\":\"white\",\"ticks\":\"\",\"title\":{\"standoff\":15},\"zerolinecolor\":\"white\",\"zerolinewidth\":2},\"yaxis\":{\"automargin\":true,\"gridcolor\":\"white\",\"linecolor\":\"white\",\"ticks\":\"\",\"title\":{\"standoff\":15},\"zerolinecolor\":\"white\",\"zerolinewidth\":2}}},\"xaxis\":{\"anchor\":\"y\",\"domain\":[0.0,0.2125],\"title\":{\"text\":\"boosting_type\"}},\"yaxis\":{\"anchor\":\"x\",\"domain\":[0.0,1.0],\"title\":{\"text\":\"Objective Value\"}},\"xaxis2\":{\"anchor\":\"y2\",\"domain\":[0.2625,0.475],\"title\":{\"text\":\"feature_fraction\"}},\"yaxis2\":{\"anchor\":\"x2\",\"domain\":[0.0,1.0],\"matches\":\"y\",\"showticklabels\":false},\"xaxis3\":{\"anchor\":\"y3\",\"domain\":[0.525,0.7375],\"title\":{\"text\":\"learning_rate\"},\"type\":\"log\"},\"yaxis3\":{\"anchor\":\"x3\",\"domain\":[0.0,1.0],\"matches\":\"y\",\"showticklabels\":false},\"xaxis4\":{\"anchor\":\"y4\",\"domain\":[0.7875,1.0],\"title\":{\"text\":\"num_leaves\"}},\"yaxis4\":{\"anchor\":\"x4\",\"domain\":[0.0,1.0],\"matches\":\"y\",\"showticklabels\":false},\"title\":{\"text\":\"Slice Plot\"},\"width\":1200},                        {\"responsive\": true}                    ).then(function(){\n",
              "                            \n",
              "var gd = document.getElementById('af6d8227-e37d-457a-bc8c-0022bcabcbf4');\n",
              "var x = new MutationObserver(function (mutations, observer) {{\n",
              "        var display = window.getComputedStyle(gd).display;\n",
              "        if (!display || display === 'none') {{\n",
              "            console.log([gd, 'removed!']);\n",
              "            Plotly.purge(gd);\n",
              "            observer.disconnect();\n",
              "        }}\n",
              "}});\n",
              "\n",
              "// Listen for the removal of the full notebook cells\n",
              "var notebookContainer = gd.closest('#notebook-container');\n",
              "if (notebookContainer) {{\n",
              "    x.observe(notebookContainer, {childList: true});\n",
              "}}\n",
              "\n",
              "// Listen for the clearing of the current output cell\n",
              "var outputEl = gd.closest('.output');\n",
              "if (outputEl) {{\n",
              "    x.observe(outputEl, {childList: true});\n",
              "}}\n",
              "\n",
              "                        })                };                            </script>        </div>\n",
              "</body>\n",
              "</html>"
            ]
          },
          "metadata": {}
        }
      ]
    },
    {
      "cell_type": "markdown",
      "source": [
        "## NNモデルの最適化"
      ],
      "metadata": {
        "id": "nw5ootYvMKDo"
      }
    },
    {
      "cell_type": "code",
      "source": [
        "import torch\n",
        "import torch.nn as nn\n",
        "import torch.nn.functional as F"
      ],
      "metadata": {
        "id": "-bdAtJPJEbvQ"
      },
      "execution_count": 3,
      "outputs": []
    },
    {
      "cell_type": "code",
      "source": [
        "from torch.utils.data import DataLoader\n",
        "from torchvision.datasets import MNIST\n",
        "from torchvision import transforms\n",
        "import numpy as np\n",
        "\n",
        "\n",
        "BATCHSIZE = 128\n",
        "\n",
        "transform = transforms.Compose([transforms.ToTensor(), transforms.Normalize((0.5,), (0.5,))])\n",
        "\n",
        "train_set = MNIST(root='./data', train=True, download=True, transform=transform)\n",
        "train_loader = DataLoader(train_set, batch_size=BATCHSIZE, shuffle=True, num_workers=2)\n",
        "\n",
        "test_set = MNIST(root='./data', train=False, download=True, transform=transform)\n",
        "test_loader = DataLoader(test_set, batch_size=BATCHSIZE, shuffle=False, num_workers=2)\n",
        "\n",
        "classes = tuple(np.linspace(0, 9, 10, dtype=np.uint8))"
      ],
      "metadata": {
        "colab": {
          "base_uri": "https://localhost:8080/",
          "height": 423,
          "referenced_widgets": [
            "703858b152414a9dbd5982608a151ede",
            "b3616feb9c124ad1b4f3ad8725312b12",
            "05782a6d71344874b705759a1b1b8a75",
            "33781423147b44938b7dc17942c4eebd",
            "85e958726cf94ee4968ea82ac0d30284",
            "fe0178291b7e46479c308a2157630220",
            "f97ef0286bd14f0d84b9d632f512fd06",
            "6fb2a55830944703b315557b080fe364",
            "5169c45032d747eea139399b75eead7e",
            "bb97a7c6a40e479587e6cebc1b58433a",
            "2c67bebdea7c4cdc8566b4edb5844199",
            "eb158d2dda4a47b4b7de7153ed8ca9ad",
            "a69bf91fc1cb47b5affd6fc4a478dcaa",
            "1c2d1e10dc4e4472a970ac33e4c716c1",
            "e146c95ba6cc4901943f67932b4b8c4f",
            "a1fb7a6d8d8a44c5949545352086567d",
            "d9dbc3ff61da427daad6a66091a428eb",
            "f234b02f9a9b481d8f9394ebb7c78079",
            "b319793322184ca993ec836620ce5614",
            "7c39604a79c848fab2ba489ffc1fe16d",
            "5f4c8ef0492142008057471d299fbce7",
            "77213dfcca554695b9ff0bea6d52edea",
            "a0bded9998ec46a087fc369d87edcfbc",
            "c8e333f7a99a47ad8fe8f6840e5b045f",
            "5f83a4100bc94f7186994c270f9e943d",
            "a0fe09b92ddf41bb94e406b43b4b8054",
            "3cd9b21251da42ffbf0e11e37a37623e",
            "bdb060992dda466da8a89fda628a0dcd",
            "8f76457562ff45308eb442cab01768cb",
            "55cbb7f172fa4f6f9fb55cdb10bc8698",
            "b6aea2ad9a154ea2868927bea6f1f4e9",
            "4ff80d5dc2124d59b31217e2d4fd3cdc",
            "a46d3ea52e0f4a148e95ca0c2d0626fa",
            "8f549698cad04d0b88a0ad67de248a71",
            "92e1a6984ca64be5aeecd71f13c473e5",
            "e8c75018a6d04e00a1b976a8e7a37ee4",
            "b4cdf239f5114d1288a9bcb4e515dadc",
            "4f1d4fb4e66c4ac8acbdf321e8ab0239",
            "6be209d4f53c4354a992bdd396e0259f",
            "e58f213b1da345209b92f2c0ef1f031a",
            "afb285fed26640549de078641dc934cc",
            "cffb7a5aeae843519f9ca2aabfa37abc",
            "a3c9ddf219d546b6a06baf74d3372f30",
            "ff7d6f7722ec400281651d43e86849b0"
          ]
        },
        "id": "HWqCq2pRNb4T",
        "outputId": "8390f526-8e89-4216-92a4-ee0e1629cc71"
      },
      "execution_count": 4,
      "outputs": [
        {
          "output_type": "stream",
          "name": "stdout",
          "text": [
            "Downloading http://yann.lecun.com/exdb/mnist/train-images-idx3-ubyte.gz\n",
            "Downloading http://yann.lecun.com/exdb/mnist/train-images-idx3-ubyte.gz to ./data/MNIST/raw/train-images-idx3-ubyte.gz\n"
          ]
        },
        {
          "output_type": "display_data",
          "data": {
            "text/plain": [
              "  0%|          | 0/9912422 [00:00<?, ?it/s]"
            ],
            "application/vnd.jupyter.widget-view+json": {
              "version_major": 2,
              "version_minor": 0,
              "model_id": "703858b152414a9dbd5982608a151ede"
            }
          },
          "metadata": {}
        },
        {
          "output_type": "stream",
          "name": "stdout",
          "text": [
            "Extracting ./data/MNIST/raw/train-images-idx3-ubyte.gz to ./data/MNIST/raw\n",
            "\n",
            "Downloading http://yann.lecun.com/exdb/mnist/train-labels-idx1-ubyte.gz\n",
            "Downloading http://yann.lecun.com/exdb/mnist/train-labels-idx1-ubyte.gz to ./data/MNIST/raw/train-labels-idx1-ubyte.gz\n"
          ]
        },
        {
          "output_type": "display_data",
          "data": {
            "text/plain": [
              "  0%|          | 0/28881 [00:00<?, ?it/s]"
            ],
            "application/vnd.jupyter.widget-view+json": {
              "version_major": 2,
              "version_minor": 0,
              "model_id": "eb158d2dda4a47b4b7de7153ed8ca9ad"
            }
          },
          "metadata": {}
        },
        {
          "output_type": "stream",
          "name": "stdout",
          "text": [
            "Extracting ./data/MNIST/raw/train-labels-idx1-ubyte.gz to ./data/MNIST/raw\n",
            "\n",
            "Downloading http://yann.lecun.com/exdb/mnist/t10k-images-idx3-ubyte.gz\n",
            "Downloading http://yann.lecun.com/exdb/mnist/t10k-images-idx3-ubyte.gz to ./data/MNIST/raw/t10k-images-idx3-ubyte.gz\n"
          ]
        },
        {
          "output_type": "display_data",
          "data": {
            "text/plain": [
              "  0%|          | 0/1648877 [00:00<?, ?it/s]"
            ],
            "application/vnd.jupyter.widget-view+json": {
              "version_major": 2,
              "version_minor": 0,
              "model_id": "a0bded9998ec46a087fc369d87edcfbc"
            }
          },
          "metadata": {}
        },
        {
          "output_type": "stream",
          "name": "stdout",
          "text": [
            "Extracting ./data/MNIST/raw/t10k-images-idx3-ubyte.gz to ./data/MNIST/raw\n",
            "\n",
            "Downloading http://yann.lecun.com/exdb/mnist/t10k-labels-idx1-ubyte.gz\n",
            "Downloading http://yann.lecun.com/exdb/mnist/t10k-labels-idx1-ubyte.gz to ./data/MNIST/raw/t10k-labels-idx1-ubyte.gz\n"
          ]
        },
        {
          "output_type": "display_data",
          "data": {
            "text/plain": [
              "  0%|          | 0/4542 [00:00<?, ?it/s]"
            ],
            "application/vnd.jupyter.widget-view+json": {
              "version_major": 2,
              "version_minor": 0,
              "model_id": "8f549698cad04d0b88a0ad67de248a71"
            }
          },
          "metadata": {}
        },
        {
          "output_type": "stream",
          "name": "stdout",
          "text": [
            "Extracting ./data/MNIST/raw/t10k-labels-idx1-ubyte.gz to ./data/MNIST/raw\n",
            "\n"
          ]
        }
      ]
    },
    {
      "cell_type": "code",
      "source": [
        "#モデルの定義\n",
        "\n",
        "#入力画像の高さと幅，畳み込み層のカーネルサイズ\n",
        "in_height = 28\n",
        "in_width = 28\n",
        "kernel = 3\n",
        "\n",
        "\n",
        "class Net(nn.Module):\n",
        "  def __init__(self, trial, num_layer, mid_units, num_filters):\n",
        "    super(Net, self).__init__()\n",
        "    self.activation = get_activation(trial)\n",
        "    #第1層\n",
        "    self.convs = nn.ModuleList([nn.Conv2d(in_channels=1, out_channels=num_filters[0], kernel_size=3)])\n",
        "    self.out_height = in_height - kernel +1\n",
        "    self.out_width = in_width - kernel +1\n",
        "    #第2層以降\n",
        "    for i in range(1, num_layer):\n",
        "      self.convs.append(nn.Conv2d(in_channels=num_filters[i-1], out_channels=num_filters[i], kernel_size=3))\n",
        "      self.out_height = self.out_height - kernel + 1\n",
        "      self.out_width = self.out_width - kernel +1\n",
        "    #pooling層\n",
        "    self.pool = nn.AvgPool2d(kernel_size=2, stride=2)\n",
        "    self.out_height = int(self.out_height / 2)\n",
        "    self.out_width = int(self.out_width / 2)\n",
        "    #線形層\n",
        "    self.out_feature = self.out_height * self.out_width * num_filters[num_layer - 1]\n",
        "    self.fc1 = nn.Linear(in_features=self.out_feature, out_features=mid_units) \n",
        "    self.fc2 = nn.Linear(in_features=mid_units, out_features=10)\n",
        "\n",
        "  def forward(self, x):\n",
        "    for i, l in enumerate(self.convs):\n",
        "      x = l(x)\n",
        "      x = self.activation(x)\n",
        "    x = self.pool(x)\n",
        "    x = x.view(-1, self.out_feature)\n",
        "    x = self.fc1(x)\n",
        "    x = self.fc2(x)\n",
        "    return F.log_softmax(x, dim=1)"
      ],
      "metadata": {
        "id": "uvTNnsxSNuXR"
      },
      "execution_count": 5,
      "outputs": []
    },
    {
      "cell_type": "code",
      "source": [
        "def train(model, device, train_loader, optimizer):\n",
        "  model.train()\n",
        "  for batch_idx, (data, target) in enumerate(train_loader):\n",
        "        data, target = data.to(device), target.to(device)\n",
        "        optimizer.zero_grad()\n",
        "        output = model(data)\n",
        "        loss = F.nll_loss(output, target)\n",
        "        loss.backward()\n",
        "        optimizer.step()\n",
        "\n",
        "def test(model, device, test_loader):\n",
        "    model.eval()\n",
        "    correct = 0\n",
        "    with torch.no_grad():\n",
        "        for data, target in test_loader:\n",
        "            data, target = data.to(device), target.to(device)\n",
        "            output = model(data)\n",
        "            pred = output.max(1, keepdim=True)[1]\n",
        "            correct += pred.eq(target.view_as(pred)).sum().item()\n",
        "    return correct / len(test_loader.dataset)"
      ],
      "metadata": {
        "id": "WQyRxs5KN3oy"
      },
      "execution_count": 12,
      "outputs": []
    },
    {
      "cell_type": "markdown",
      "source": [
        "### 最適化手法の最適化の用意"
      ],
      "metadata": {
        "id": "rsy5oBzNOOGg"
      }
    },
    {
      "cell_type": "code",
      "source": [
        "import torch.optim as optim\n",
        "\n",
        "def get_optimizer(trial, model):\n",
        "  optimizer_names = ['Adam', 'MomentumSGD', 'rmsprop']\n",
        "  optimizer_name = trial.suggest_categorical('optimizer', optimizer_names)\n",
        "  weight_decay = trial.suggest_loguniform('weight_decay', 1e-10, 1e-3)\n",
        "  if optimizer_name == optimizer_names[0]: \n",
        "    adam_lr = trial.suggest_loguniform('adam_lr', 1e-5, 1e-1)\n",
        "    optimizer = optim.Adam(model.parameters(), lr=adam_lr, weight_decay=weight_decay)\n",
        "  elif optimizer_name == optimizer_names[1]:\n",
        "    momentum_sgd_lr = trial.suggest_loguniform('momentum_sgd_lr', 1e-5, 1e-1)\n",
        "    optimizer = optim.SGD(model.parameters(), lr=momentum_sgd_lr, momentum=0.9, weight_decay=weight_decay)\n",
        "  else:\n",
        "    optimizer = optim.RMSprop(model.parameters())\n",
        "  return optimizer"
      ],
      "metadata": {
        "id": "qMDvwDdbN6nJ"
      },
      "execution_count": 13,
      "outputs": []
    },
    {
      "cell_type": "markdown",
      "source": [
        "### 活性化関数の最適化の用意"
      ],
      "metadata": {
        "id": "HJ2I2Qo6OI3y"
      }
    },
    {
      "cell_type": "code",
      "source": [
        "def get_activation(trial):\n",
        "    activation_names = ['ReLU', 'ELU']\n",
        "    activation_name = trial.suggest_categorical('activation', activation_names)\n",
        "    if activation_name == activation_names[0]:\n",
        "        activation = F.relu\n",
        "    else:\n",
        "        activation = F.elu\n",
        "    return activation\n"
      ],
      "metadata": {
        "id": "TKmBqSwsOBlH"
      },
      "execution_count": 14,
      "outputs": []
    },
    {
      "cell_type": "markdown",
      "source": [
        "### optunaの目的関数の定義"
      ],
      "metadata": {
        "id": "Oi5tHLGyOXyT"
      }
    },
    {
      "cell_type": "code",
      "source": [
        "EPOCH = 10\n",
        "def objective(trial):\n",
        "  device = \"cuda\" if torch.cuda.is_available() else \"cpu\"\n",
        "\n",
        "  #畳み込み層の数\n",
        "  num_layer = trial.suggest_int('num_layer', 3, 7)\n",
        "\n",
        "  #FC層のユニット数\n",
        "  mid_units = int(trial.suggest_discrete_uniform(\"mid_units\", 100, 500, 100))\n",
        "\n",
        "  #各畳込み層のフィルタ数\n",
        "  num_filters = [int(trial.suggest_discrete_uniform(\"num_filter_\"+str(i), 16, 128, 16)) for i in range(num_layer)]\n",
        "\n",
        "  model = Net(trial, num_layer, mid_units, num_filters).to(device)\n",
        "  optimizer = get_optimizer(trial, model)\n",
        "\n",
        "  for step in range(EPOCH):\n",
        "      # 学習\n",
        "      train(model, device, train_loader, optimizer)\n",
        "      # 評価\n",
        "      error_rate = test(model, device, test_loader)\n",
        "\n",
        "  return error_rate"
      ],
      "metadata": {
        "id": "wAE0xVAdOGTD"
      },
      "execution_count": 15,
      "outputs": []
    },
    {
      "cell_type": "markdown",
      "source": [
        "### ハイパラ探索の実行"
      ],
      "metadata": {
        "id": "VmEaB5DkOk-N"
      }
    },
    {
      "cell_type": "code",
      "source": [
        "TRIAL_SIZE = 100\n",
        "# 正解率の最大化を目的にする\n",
        "study = optuna.create_study(direction='maximize')\n",
        "study.optimize(objective, n_trials=TRIAL_SIZE)"
      ],
      "metadata": {
        "id": "VUZO_fRPOkPO"
      },
      "execution_count": null,
      "outputs": []
    },
    {
      "cell_type": "code",
      "source": [
        "print(study.best_params)"
      ],
      "metadata": {
        "id": "Sv3Wm6oFOqJL"
      },
      "execution_count": null,
      "outputs": []
    }
  ]
}