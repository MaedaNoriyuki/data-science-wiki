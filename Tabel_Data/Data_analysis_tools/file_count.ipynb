{
 "cells": [
  {
   "cell_type": "markdown",
   "id": "5a944b64-3df3-430e-9de4-0581a94399a9",
   "metadata": {},
   "source": [
    "## ディレクトリ内のパス数のカウント"
   ]
  },
  {
   "cell_type": "code",
   "execution_count": null,
   "id": "c867cf21-fc79-482d-9b2f-4ba88e2cfe37",
   "metadata": {},
   "outputs": [],
   "source": [
    "dir = 'パス'\n",
    "print(sum(os.path.isfile(os.path.join(dir,name)) for name in os.listdir(dir)))"
   ]
  }
 ],
 "metadata": {
  "kernelspec": {
   "display_name": "Python 3",
   "language": "python",
   "name": "python3"
  },
  "language_info": {
   "codemirror_mode": {
    "name": "ipython",
    "version": 3
   },
   "file_extension": ".py",
   "mimetype": "text/x-python",
   "name": "python",
   "nbconvert_exporter": "python",
   "pygments_lexer": "ipython3",
   "version": "3.9.2"
  }
 },
 "nbformat": 4,
 "nbformat_minor": 5
}
