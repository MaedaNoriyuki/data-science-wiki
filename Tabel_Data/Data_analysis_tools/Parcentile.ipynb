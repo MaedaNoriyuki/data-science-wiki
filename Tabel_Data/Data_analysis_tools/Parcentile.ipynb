{
 "cells": [
  {
   "cell_type": "markdown",
   "id": "0b333e76-58ff-4ecc-aab2-f8cd4bd12b09",
   "metadata": {},
   "source": [
    "# パーセンタイルを用いたTarget Encoding\n",
    "* リンク(https://www.guruguru.science/competitions/19/discussions/857ed321-8ecf-41a8-93d1-93a2cfa39fa9/)\n",
    "* コード()"
   ]
  },
  {
   "cell_type": "code",
   "execution_count": null,
   "id": "84a43a46-3c6e-47b3-88ba-65a667c50749",
   "metadata": {},
   "outputs": [],
   "source": []
  }
 ],
 "metadata": {
  "kernelspec": {
   "display_name": "Python 3",
   "language": "python",
   "name": "python3"
  },
  "language_info": {
   "codemirror_mode": {
    "name": "ipython",
    "version": 3
   },
   "file_extension": ".py",
   "mimetype": "text/x-python",
   "name": "python",
   "nbconvert_exporter": "python",
   "pygments_lexer": "ipython3",
   "version": "3.9.2"
  }
 },
 "nbformat": 4,
 "nbformat_minor": 5
}
