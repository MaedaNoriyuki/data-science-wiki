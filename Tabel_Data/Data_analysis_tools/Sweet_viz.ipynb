{
 "cells": [
  {
   "cell_type": "markdown",
   "id": "33e57309-eac9-4d4c-bc44-1abd1c07f35e",
   "metadata": {},
   "source": [
    "# Sweet vizによる可視化\n",
    "* 訓練データとテストデータの割合の比較をすることができる"
   ]
  },
  {
   "cell_type": "code",
   "execution_count": null,
   "id": "ba56869c-a961-49f8-a158-e601186b0dc2",
   "metadata": {},
   "outputs": [],
   "source": [
    "!pip install sweetviz"
   ]
  },
  {
   "cell_type": "code",
   "execution_count": null,
   "id": "57a0ea5d-e43a-4470-bf98-547ad8288bb3",
   "metadata": {},
   "outputs": [],
   "source": [
    "import sweetviz as sv\n",
    "\n",
    "#日本語を使う設定\n",
    "sv.config.config.set('General','use_cjk_font','1')"
   ]
  },
  {
   "cell_type": "code",
   "execution_count": null,
   "id": "70b0ac22-8802-4c26-bdc4-1dd309b49032",
   "metadata": {},
   "outputs": [],
   "source": [
    "#訓練データの読み込み\n",
    "train_df = pd.read_csv('train_df.csv',index_col=0)\n",
    "#テストデータの読み込み\n",
    "test_df = pd.read_csv('test_df.csv',index_col=0)\n",
    "\n",
    "report  = sv.compare([train_df,'train'],[test_df,'test'])\n",
    "#可視化\n",
    "report.show_notebook()"
   ]
  }
 ],
 "metadata": {
  "kernelspec": {
   "display_name": "Python 3",
   "language": "python",
   "name": "python3"
  },
  "language_info": {
   "codemirror_mode": {
    "name": "ipython",
    "version": 3
   },
   "file_extension": ".py",
   "mimetype": "text/x-python",
   "name": "python",
   "nbconvert_exporter": "python",
   "pygments_lexer": "ipython3",
   "version": "3.9.2"
  }
 },
 "nbformat": 4,
 "nbformat_minor": 5
}
