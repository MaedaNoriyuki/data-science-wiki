{
 "cells": [
  {
   "cell_type": "markdown",
   "id": "65b3ccf3-3978-41fa-935a-6ea1aae3a1f8",
   "metadata": {},
   "source": [
    "## CSVファイルの読み込み"
   ]
  },
  {
   "cell_type": "code",
   "execution_count": null,
   "id": "741b4103-5081-4857-96d7-9dd59f25661c",
   "metadata": {},
   "outputs": [],
   "source": [
    "df = pd.read_csv('ファイル名.csv')\n",
    "\n",
    "# 新たにインデックスの列を追加したくない時\n",
    "df = pd.read_csv('ファイル名.csv',index_col=0)\n",
    "\n",
    "# カラム名がない時\n",
    "df = pd.read_csv(\"ファイル名.csv\", header=None)\n",
    "\n",
    "# tsvファイルを読み込むとき\n",
    "df = pd.read_csv('ファイル名.csv', sep='\\t')"
   ]
  },
  {
   "cell_type": "markdown",
   "id": "b06249cb-77d7-4c83-9681-fc74214a5a06",
   "metadata": {},
   "source": [
    "## read_csvより早い読み込み\n",
    "* 若干早い"
   ]
  },
  {
   "cell_type": "code",
   "execution_count": null,
   "id": "28ab65fb-4a0a-4cb6-9b4a-391a32f4dcca",
   "metadata": {},
   "outputs": [],
   "source": [
    "! python -m pip install dask[dataframe] --upgrade\n",
    "import dask.dataframe as dd"
   ]
  },
  {
   "cell_type": "code",
   "execution_count": null,
   "id": "a06fced7-13df-4026-a8f1-ba818fab35b6",
   "metadata": {},
   "outputs": [],
   "source": [
    "df = dd.read_csv('ファイル名').compute()"
   ]
  },
  {
   "cell_type": "markdown",
   "id": "3117c5ba-5a20-48f1-ab8a-770c4ea8c36d",
   "metadata": {},
   "source": [
    "## CSVファイルへの書き出し"
   ]
  },
  {
   "cell_type": "code",
   "execution_count": null,
   "id": "a34f068a-fabb-4c2c-b668-ea2c5f4c8ff7",
   "metadata": {},
   "outputs": [],
   "source": [
    "df.to_csv(\"ファイル名.csv\")"
   ]
  },
  {
   "cell_type": "markdown",
   "id": "00b3226b-0d1a-4a79-a0f1-b4b8e63696e4",
   "metadata": {},
   "source": [
    "## ファイルのダウンロード\n",
    "* google colab用"
   ]
  },
  {
   "cell_type": "code",
   "execution_count": null,
   "id": "cf7a3e7d-e64a-4770-ac8e-81bc2b4ced70",
   "metadata": {},
   "outputs": [],
   "source": [
    "from google.colab import files\n",
    "files.download(\"ファイル名.csv\") "
   ]
  }
 ],
 "metadata": {
  "kernelspec": {
   "display_name": "Python 3",
   "language": "python",
   "name": "python3"
  },
  "language_info": {
   "codemirror_mode": {
    "name": "ipython",
    "version": 3
   },
   "file_extension": ".py",
   "mimetype": "text/x-python",
   "name": "python",
   "nbconvert_exporter": "python",
   "pygments_lexer": "ipython3",
   "version": "3.9.2"
  }
 },
 "nbformat": 4,
 "nbformat_minor": 5
}
