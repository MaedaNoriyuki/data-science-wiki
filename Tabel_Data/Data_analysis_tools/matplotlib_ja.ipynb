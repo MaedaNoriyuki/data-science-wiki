{
  "nbformat": 4,
  "nbformat_minor": 0,
  "metadata": {
    "colab": {
      "name": "matplotlib_ja.ipynb",
      "provenance": [],
      "authorship_tag": "ABX9TyPCV/3YERaqaP2/c4BSCUyh",
      "include_colab_link": true
    },
    "kernelspec": {
      "name": "python3",
      "display_name": "Python 3"
    },
    "language_info": {
      "name": "python"
    }
  },
  "cells": [
    {
      "cell_type": "markdown",
      "metadata": {
        "id": "view-in-github",
        "colab_type": "text"
      },
      "source": [
        "<a href=\"https://colab.research.google.com/github/ToumaTanaka/Data_Science/blob/main/Tabel_Data/Data_analysis_tools/matplotlib_ja.ipynb\" target=\"_parent\"><img src=\"https://colab.research.google.com/assets/colab-badge.svg\" alt=\"Open In Colab\"/></a>"
      ]
    },
    {
      "cell_type": "markdown",
      "metadata": {
        "id": "PHYPeLZ4nZIp"
      },
      "source": [
        "## グラフに日本語フォントを出力する方法\n",
        "pip インストールは japanize-matplotlib とハイフンなのに，import はアンダースコアであることに注意"
      ]
    },
    {
      "cell_type": "code",
      "metadata": {
        "id": "qezf1q0-nLPk"
      },
      "source": [
        "!pip install japanize-matplotlib"
      ],
      "execution_count": null,
      "outputs": []
    },
    {
      "cell_type": "code",
      "metadata": {
        "id": "ROtpOGqSnVZw"
      },
      "source": [
        "import matplotlib.pyplot as plt\n",
        "import japanize_matplotlib "
      ],
      "execution_count": null,
      "outputs": []
    }
  ]
}