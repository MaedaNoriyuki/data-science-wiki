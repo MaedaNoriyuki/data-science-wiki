{
 "cells": [
  {
   "cell_type": "markdown",
   "id": "891177a0-e542-4547-98b2-15165ba5d65a",
   "metadata": {},
   "source": [
    "# MICについて\n",
    "* [非線形もOKな相関係数](https://logics-of-blue.com/%E9%9D%9E%E7%B7%9A%E5%BD%A2%E3%82%82ok%E3%81%AA%E7%9B%B8%E9%96%A2%E4%BF%82%E6%95%B0%EF%BC%9Amic/)\n",
    "* [非線形の相関分析MICについて](https://qiita.com/m-hayashi/items/2204e9d7e4e6837c6140)"
   ]
  },
  {
   "cell_type": "code",
   "execution_count": 5,
   "id": "124450f2-548c-4972-8eab-189427005944",
   "metadata": {},
   "outputs": [
    {
     "name": "stdout",
     "output_type": "stream",
     "text": [
      "Collecting minepy\n",
      "  Downloading minepy-1.2.6.tar.gz (496 kB)\n",
      "\u001b[K     |████████████████████████████████| 496 kB 3.1 MB/s eta 0:00:01\n",
      "\u001b[?25hRequirement already satisfied: numpy>=1.3.0 in /opt/conda/lib/python3.9/site-packages (from minepy) (1.21.0)\n",
      "Building wheels for collected packages: minepy\n",
      "  Building wheel for minepy (setup.py) ... \u001b[?25ldone\n",
      "\u001b[?25h  Created wheel for minepy: filename=minepy-1.2.6-cp39-cp39-linux_x86_64.whl size=60382 sha256=6be473e72d5659c73ded8ebe469cb09722bd1e87d6ecddf0ef57cb91dacf6ecd\n",
      "  Stored in directory: /home/jovyan/.cache/pip/wheels/36/71/63/ac6efc0d0f43ad93398a7b25b6ef3b3aacf109e7dc5afe588f\n",
      "Successfully built minepy\n",
      "Installing collected packages: minepy\n",
      "Successfully installed minepy-1.2.6\n"
     ]
    }
   ],
   "source": [
    "!pip install minepy"
   ]
  },
  {
   "cell_type": "code",
   "execution_count": 1,
   "id": "e08d469d-fd17-45ac-a29d-972d2f509676",
   "metadata": {},
   "outputs": [],
   "source": [
    "import numpy as np\n",
    "import matplotlib.pyplot as plt\n",
    "%matplotlib inline"
   ]
  },
  {
   "cell_type": "code",
   "execution_count": 2,
   "id": "213f6304-8058-40f6-84d8-7fed9819d4f4",
   "metadata": {},
   "outputs": [
    {
     "data": {
      "text/plain": [
       "<matplotlib.collections.PathCollection at 0x4066f7e580>"
      ]
     },
     "execution_count": 2,
     "metadata": {},
     "output_type": "execute_result"
    },
    {
     "data": {
      "image/png": "[encoded data removed]",
      "text/plain": [
       "<Figure size 432x288 with 1 Axes>"
      ]
     },
     "metadata": {
      "needs_background": "light"
     },
     "output_type": "display_data"
    }
   ],
   "source": [
    "x = np.linspace(-10,10,50)\n",
    "y = x**2\n",
    "plt.scatter(x,y)"
   ]
  },
  {
   "cell_type": "markdown",
   "id": "dbc76440-57b7-40e0-a820-7e0081312988",
   "metadata": {},
   "source": [
    "### ピアソンの積率相関係数"
   ]
  },
  {
   "cell_type": "code",
   "execution_count": null,
   "id": "65a16d43-048a-4559-b48a-2e63100199f7",
   "metadata": {},
   "outputs": [],
   "source": [
    "# ピアソンの積率相関係数\n",
    "np.corrcoef(x,y)[0,1]"
   ]
  },
  {
   "cell_type": "markdown",
   "id": "30083a9b-9398-4d26-835c-e18c74d5df1a",
   "metadata": {},
   "source": [
    "### MIC"
   ]
  },
  {
   "cell_type": "code",
   "execution_count": 6,
   "id": "74fa9493-cb75-4265-8553-783c5df91c9b",
   "metadata": {},
   "outputs": [
    {
     "data": {
      "text/plain": [
       "0.9988455359952016"
      ]
     },
     "execution_count": 6,
     "metadata": {},
     "output_type": "execute_result"
    }
   ],
   "source": [
    "# minepyからMINEをインポート\n",
    "from minepy import MINE\n",
    "\n",
    "# MINEオブジェクトの作成\n",
    "mine = MINE()\n",
    "\n",
    "# MINEで解析処理を実行\n",
    "mine.compute_score(x,y)\n",
    "\n",
    "# MICの値を取得\n",
    "mine.mic()"
   ]
  },
  {
   "cell_type": "code",
   "execution_count": null,
   "id": "5994d44e-9584-499f-93cb-02a0f981f184",
   "metadata": {},
   "outputs": [],
   "source": []
  }
 ],
 "metadata": {
  "kernelspec": {
   "display_name": "Python 3 (ipykernel)",
   "language": "python",
   "name": "python3"
  },
  "language_info": {
   "codemirror_mode": {
    "name": "ipython",
    "version": 3
   },
   "file_extension": ".py",
   "mimetype": "text/x-python",
   "name": "python",
   "nbconvert_exporter": "python",
   "pygments_lexer": "ipython3",
   "version": "3.9.7"
  }
 },
 "nbformat": 4,
 "nbformat_minor": 5
}
