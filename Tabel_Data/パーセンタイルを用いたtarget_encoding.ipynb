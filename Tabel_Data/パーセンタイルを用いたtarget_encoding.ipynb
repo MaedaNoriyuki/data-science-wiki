{
 "cells": [
  {
   "cell_type": "markdown",
   "metadata": {
    "id": "O5pcjj9OU5aV"
   },
   "source": [
    "# #1 初心者向け講座"
   ]
  },
  {
   "cell_type": "code",
   "execution_count": 1,
   "metadata": {
    "colab": {
     "base_uri": "https://localhost:8080/"
    },
    "id": "oAwQ1yONXihN",
    "outputId": "9ea8f95f-7e9f-4b3d-94c2-08bbfcb97de7"
   },
   "outputs": [
    {
     "name": "stdout",
     "output_type": "stream",
     "text": [
      "Mounted at /content/drive\n"
     ]
    }
   ],
   "source": [
    "from google.colab import drive\n",
    "drive.mount('/content/drive')"
   ]
  },
  {
   "cell_type": "code",
   "execution_count": 2,
   "metadata": {
    "id": "oiD5DrcPU5aY"
   },
   "outputs": [],
   "source": [
    "import os\n",
    "\n",
    "import pandas as pd\n",
    "from glob import glob\n",
    "import matplotlib.pyplot as plt\n",
    "import seaborn as sns\n",
    "import numpy as np"
   ]
  },
  {
   "cell_type": "code",
   "execution_count": 3,
   "metadata": {
    "id": "ld7TEI9vU5aZ"
   },
   "outputs": [],
   "source": [
    "# https://github.com/nyk510/vivid/blob/master/vivid/utils.py\n",
    "from contextlib import contextmanager\n",
    "from time import time\n",
    "\n",
    "class Timer:\n",
    "    def __init__(self, logger=None, format_str=\"{:.3f}[s]\", prefix=None, suffix=None, sep=\" \"):\n",
    "\n",
    "        if prefix: format_str = str(prefix) + sep + format_str\n",
    "        if suffix: format_str = format_str + sep + str(suffix)\n",
    "        self.format_str = format_str\n",
    "        self.logger = logger\n",
    "        self.start = None\n",
    "        self.end = None\n",
    "\n",
    "    @property\n",
    "    def duration(self):\n",
    "        if self.end is None:\n",
    "            return 0\n",
    "        return self.end - self.start\n",
    "\n",
    "    def __enter__(self):\n",
    "        self.start = time()\n",
    "\n",
    "    def __exit__(self, exc_type, exc_val, exc_tb):\n",
    "        self.end = time()\n",
    "        out_str = self.format_str.format(self.duration)\n",
    "        if self.logger:\n",
    "            self.logger.info(out_str)\n",
    "        else:\n",
    "            print(out_str)"
   ]
  },
  {
   "cell_type": "markdown",
   "metadata": {
    "id": "AOxO0oFPU5aa"
   },
   "source": [
    "## データの読み込み"
   ]
  },
  {
   "cell_type": "code",
   "execution_count": 4,
   "metadata": {
    "id": "VPb8M2_sU5aa"
   },
   "outputs": [],
   "source": [
    "INPUT_DIR = \"/content/drive/MyDrive/atmaCup/#13/atmaCup13_dataset\"\n",
    "OUTPUT_DIR = \"/content/drive/MyDrive/atmaCup/#13/outputs\"\n",
    "\n",
    "os.makedirs(OUTPUT_DIR, exist_ok=True)"
   ]
  },
  {
   "cell_type": "code",
   "execution_count": 5,
   "metadata": {
    "colab": {
     "base_uri": "https://localhost:8080/"
    },
    "id": "frUwrfvHU5ab",
    "outputId": "a2977e12-d2b6-40ad-c82b-debd3615dc00"
   },
   "outputs": [
    {
     "name": "stdout",
     "output_type": "stream",
     "text": [
      "/content/drive/MyDrive/atmaCup/#13/atmaCup13_dataset/session.csv\n",
      "/content/drive/MyDrive/atmaCup/#13/atmaCup13_dataset/product_master.csv\n",
      "/content/drive/MyDrive/atmaCup/#13/atmaCup13_dataset/price.csv\n",
      "/content/drive/MyDrive/atmaCup/#13/atmaCup13_dataset/cart_log.csv\n",
      "/content/drive/MyDrive/atmaCup/#13/atmaCup13_dataset/test_session.csv\n",
      "/content/drive/MyDrive/atmaCup/#13/atmaCup13_dataset/coupon_target_jan.csv\n",
      "/content/drive/MyDrive/atmaCup/#13/atmaCup13_dataset/coupon.csv\n",
      "/content/drive/MyDrive/atmaCup/#13/atmaCup13_dataset/atmaCup13_sample_submission.csv\n"
     ]
    }
   ],
   "source": [
    "for p in glob(os.path.join(INPUT_DIR, \"*\")):\n",
    "    print(p)"
   ]
  },
  {
   "cell_type": "code",
   "execution_count": 6,
   "metadata": {
    "id": "q9QwnQtGU5ac"
   },
   "outputs": [],
   "source": [
    "def read_csv(name, **kwrgs):\n",
    "    path = os.path.join(INPUT_DIR, name + \".csv\")\n",
    "    print(f\"Load: {path}\")\n",
    "    return pd.read_csv(path, **kwrgs)"
   ]
  },
  {
   "cell_type": "code",
   "execution_count": 7,
   "metadata": {
    "colab": {
     "base_uri": "https://localhost:8080/"
    },
    "id": "_1Op6t5GU5ac",
    "outputId": "34f7551e-e025-4829-cb7d-ee38eb11e6d7"
   },
   "outputs": [
    {
     "name": "stdout",
     "output_type": "stream",
     "text": [
      "Load: /content/drive/MyDrive/atmaCup/#13/atmaCup13_dataset/cart_log.csv\n"
     ]
    },
    {
     "name": "stderr",
     "output_type": "stream",
     "text": [
      "/usr/local/lib/python3.7/dist-packages/ipykernel_launcher.py:2: DtypeWarning: Columns (7) have mixed types.Specify dtype option on import or set low_memory=False.\n",
      "  \n"
     ]
    },
    {
     "name": "stdout",
     "output_type": "stream",
     "text": [
      "Load: /content/drive/MyDrive/atmaCup/#13/atmaCup13_dataset/session.csv\n",
      "Load: /content/drive/MyDrive/atmaCup/#13/atmaCup13_dataset/test_session.csv\n",
      "Load: /content/drive/MyDrive/atmaCup/#13/atmaCup13_dataset/coupon.csv\n",
      "Load: /content/drive/MyDrive/atmaCup/#13/atmaCup13_dataset/coupon_target_jan.csv\n",
      "Load: /content/drive/MyDrive/atmaCup/#13/atmaCup13_dataset/price.csv\n",
      "Load: /content/drive/MyDrive/atmaCup/#13/atmaCup13_dataset/product_master.csv\n"
     ]
    }
   ],
   "source": [
    "# カートログ\n",
    "log_df = read_csv(\"cart_log\", parse_dates=[\"created_at__hour\"], dtype={ \"JAN\": str })\n",
    "\n",
    "# セッション情報\n",
    "session_df = read_csv(\"session\", parse_dates=[\"start_at__date\"])\n",
    "test_session_df = read_csv(\"test_session\")\n",
    "\n",
    "# クーポン情報\n",
    "coupon_df = read_csv(\"coupon\")\n",
    "coupon_target_jan_df = read_csv(\"coupon_target_jan\", dtype={ \"JAN\": str })\n",
    "\n",
    "# 商品情報\n",
    "price_df = read_csv(\"price\", dtype={ \"JAN\": str })\n",
    "product_master_df = read_csv(\"product_master\", dtype={ \"JAN\": str })"
   ]
  },
  {
   "cell_type": "code",
   "execution_count": 8,
   "metadata": {
    "colab": {
     "base_uri": "https://localhost:8080/"
    },
    "id": "dBYUNF8rU5ai",
    "outputId": "92a9ab5a-ecb5-4b88-ff5d-8028d1acee74"
   },
   "outputs": [
    {
     "name": "stdout",
     "output_type": "stream",
     "text": [
      "チーズのJANコード #1696\n"
     ]
    }
   ],
   "source": [
    "def get_target_jan_list():\n",
    "    \"\"\"予測対象のカテゴリ(チーズ)のJANコードを取得する\"\"\"\n",
    "    idx = product_master_df[\"category\"] == \"チーズ\"\n",
    "    return product_master_df[idx][\"JAN\"].unique()\n",
    "\n",
    "# 予測対象の JAN は変わらない (定数) ですので、それがわかるよう CAPITAL で定義します。\n",
    "TARGET_JANS = get_target_jan_list()\n",
    "\n",
    "print(f\"チーズのJANコード #{len(TARGET_JANS)}\")"
   ]
  },
  {
   "cell_type": "code",
   "execution_count": 9,
   "metadata": {
    "id": "L3QuUaqgU5ai"
   },
   "outputs": [],
   "source": [
    "idx_after_180 = log_df[\"duration\"] >= 180\n",
    "idx_has_jan = log_df[\"JAN\"].isin(TARGET_JANS)\n",
    "\n",
    "_df = log_df[idx_after_180 & idx_has_jan].reset_index(drop=True)"
   ]
  },
  {
   "cell_type": "code",
   "execution_count": 10,
   "metadata": {
    "colab": {
     "base_uri": "https://localhost:8080/",
     "height": 206
    },
    "id": "26nRRaysU5aj",
    "outputId": "b68587d5-bf08-4aa2-c488-4b9431d86c73"
   },
   "outputs": [
    {
     "data": {
      "text/html": [
       "\n",
       "  <div id=\"df-76d85aa5-8d7e-4313-b403-d8a70a4b194f\">\n",
       "    <div class=\"colab-df-container\">\n",
       "      <div>\n",
       "<style scoped>\n",
       "    .dataframe tbody tr th:only-of-type {\n",
       "        vertical-align: middle;\n",
       "    }\n",
       "\n",
       "    .dataframe tbody tr th {\n",
       "        vertical-align: top;\n",
       "    }\n",
       "\n",
       "    .dataframe thead th {\n",
       "        text-align: right;\n",
       "    }\n",
       "</style>\n",
       "<table border=\"1\" class=\"dataframe\">\n",
       "  <thead>\n",
       "    <tr style=\"text-align: right;\">\n",
       "      <th></th>\n",
       "      <th>session_id</th>\n",
       "      <th>JAN</th>\n",
       "      <th>n_items</th>\n",
       "    </tr>\n",
       "  </thead>\n",
       "  <tbody>\n",
       "    <tr>\n",
       "      <th>0</th>\n",
       "      <td>0008030d60a542f1b8a1f6d01bc97d9c49147bf8de0e61...</td>\n",
       "      <td>49839807</td>\n",
       "      <td>3</td>\n",
       "    </tr>\n",
       "    <tr>\n",
       "      <th>1</th>\n",
       "      <td>000b59b199378f06d7c25f2d5dfdcf8bea2452400d277a...</td>\n",
       "      <td>4961681006292</td>\n",
       "      <td>1</td>\n",
       "    </tr>\n",
       "    <tr>\n",
       "      <th>2</th>\n",
       "      <td>0020d571d43bf4984396b01b4a800f62deab2c8385cb05...</td>\n",
       "      <td>4961681002263</td>\n",
       "      <td>1</td>\n",
       "    </tr>\n",
       "    <tr>\n",
       "      <th>3</th>\n",
       "      <td>002157a232e800522d85e4a19247534dfe3e4963bada52...</td>\n",
       "      <td>4903308004670</td>\n",
       "      <td>2</td>\n",
       "    </tr>\n",
       "    <tr>\n",
       "      <th>4</th>\n",
       "      <td>003357795a4a31f32c25a71da4583dabafe7776ed5db24...</td>\n",
       "      <td>4903308035582</td>\n",
       "      <td>1</td>\n",
       "    </tr>\n",
       "  </tbody>\n",
       "</table>\n",
       "</div>\n",
       "      <button class=\"colab-df-convert\" onclick=\"convertToInteractive('df-76d85aa5-8d7e-4313-b403-d8a70a4b194f')\"\n",
       "              title=\"Convert this dataframe to an interactive table.\"\n",
       "              style=\"display:none;\">\n",
       "        \n",
       "  <svg xmlns=\"http://www.w3.org/2000/svg\" height=\"24px\"viewBox=\"0 0 24 24\"\n",
       "       width=\"24px\">\n",
       "    <path d=\"M0 0h24v24H0V0z\" fill=\"none\"/>\n",
       "    <path d=\"M18.56 5.44l.94 2.06.94-2.06 2.06-.94-2.06-.94-.94-2.06-.94 2.06-2.06.94zm-11 1L8.5 8.5l.94-2.06 2.06-.94-2.06-.94L8.5 2.5l-.94 2.06-2.06.94zm10 10l.94 2.06.94-2.06 2.06-.94-2.06-.94-.94-2.06-.94 2.06-2.06.94z\"/><path d=\"M17.41 7.96l-1.37-1.37c-.4-.4-.92-.59-1.43-.59-.52 0-1.04.2-1.43.59L10.3 9.45l-7.72 7.72c-.78.78-.78 2.05 0 2.83L4 21.41c.39.39.9.59 1.41.59.51 0 1.02-.2 1.41-.59l7.78-7.78 2.81-2.81c.8-.78.8-2.07 0-2.86zM5.41 20L4 18.59l7.72-7.72 1.47 1.35L5.41 20z\"/>\n",
       "  </svg>\n",
       "      </button>\n",
       "      \n",
       "  <style>\n",
       "    .colab-df-container {\n",
       "      display:flex;\n",
       "      flex-wrap:wrap;\n",
       "      gap: 12px;\n",
       "    }\n",
       "\n",
       "    .colab-df-convert {\n",
       "      background-color: #E8F0FE;\n",
       "      border: none;\n",
       "      border-radius: 50%;\n",
       "      cursor: pointer;\n",
       "      display: none;\n",
       "      fill: #1967D2;\n",
       "      height: 32px;\n",
       "      padding: 0 0 0 0;\n",
       "      width: 32px;\n",
       "    }\n",
       "\n",
       "    .colab-df-convert:hover {\n",
       "      background-color: #E2EBFA;\n",
       "      box-shadow: 0px 1px 2px rgba(60, 64, 67, 0.3), 0px 1px 3px 1px rgba(60, 64, 67, 0.15);\n",
       "      fill: #174EA6;\n",
       "    }\n",
       "\n",
       "    [theme=dark] .colab-df-convert {\n",
       "      background-color: #3B4455;\n",
       "      fill: #D2E3FC;\n",
       "    }\n",
       "\n",
       "    [theme=dark] .colab-df-convert:hover {\n",
       "      background-color: #434B5C;\n",
       "      box-shadow: 0px 1px 3px 1px rgba(0, 0, 0, 0.15);\n",
       "      filter: drop-shadow(0px 1px 2px rgba(0, 0, 0, 0.3));\n",
       "      fill: #FFFFFF;\n",
       "    }\n",
       "  </style>\n",
       "\n",
       "      <script>\n",
       "        const buttonEl =\n",
       "          document.querySelector('#df-76d85aa5-8d7e-4313-b403-d8a70a4b194f button.colab-df-convert');\n",
       "        buttonEl.style.display =\n",
       "          google.colab.kernel.accessAllowed ? 'block' : 'none';\n",
       "\n",
       "        async function convertToInteractive(key) {\n",
       "          const element = document.querySelector('#df-76d85aa5-8d7e-4313-b403-d8a70a4b194f');\n",
       "          const dataTable =\n",
       "            await google.colab.kernel.invokeFunction('convertToInteractive',\n",
       "                                                     [key], {});\n",
       "          if (!dataTable) return;\n",
       "\n",
       "          const docLinkHtml = 'Like what you see? Visit the ' +\n",
       "            '<a target=\"_blank\" href=https://colab.research.google.com/notebooks/data_table.ipynb>data table notebook</a>'\n",
       "            + ' to learn more about interactive tables.';\n",
       "          element.innerHTML = '';\n",
       "          dataTable['output_type'] = 'display_data';\n",
       "          await google.colab.output.renderOutput(dataTable, element);\n",
       "          const docLink = document.createElement('div');\n",
       "          docLink.innerHTML = docLinkHtml;\n",
       "          element.appendChild(docLink);\n",
       "        }\n",
       "      </script>\n",
       "    </div>\n",
       "  </div>\n",
       "  "
      ],
      "text/plain": [
       "                                          session_id            JAN  n_items\n",
       "0  0008030d60a542f1b8a1f6d01bc97d9c49147bf8de0e61...       49839807        3\n",
       "1  000b59b199378f06d7c25f2d5dfdcf8bea2452400d277a...  4961681006292        1\n",
       "2  0020d571d43bf4984396b01b4a800f62deab2c8385cb05...  4961681002263        1\n",
       "3  002157a232e800522d85e4a19247534dfe3e4963bada52...  4903308004670        2\n",
       "4  003357795a4a31f32c25a71da4583dabafe7776ed5db24...  4903308035582        1"
      ]
     },
     "execution_count": 10,
     "metadata": {},
     "output_type": "execute_result"
    }
   ],
   "source": [
    "sum_of_item = _df.groupby([\"session_id\", \"JAN\"])[\"n_items\"].sum().reset_index()\n",
    "sum_of_item.head()"
   ]
  },
  {
   "cell_type": "code",
   "execution_count": 11,
   "metadata": {
    "colab": {
     "base_uri": "https://localhost:8080/",
     "height": 424
    },
    "id": "bHMuH1nsU5aj",
    "outputId": "eaf99ee7-6aad-4c02-f239-729d7e8661d7"
   },
   "outputs": [
    {
     "data": {
      "text/html": [
       "\n",
       "  <div id=\"df-23263adb-b40d-4e85-a4f3-cbd1a473c0dd\">\n",
       "    <div class=\"colab-df-container\">\n",
       "      <div>\n",
       "<style scoped>\n",
       "    .dataframe tbody tr th:only-of-type {\n",
       "        vertical-align: middle;\n",
       "    }\n",
       "\n",
       "    .dataframe tbody tr th {\n",
       "        vertical-align: top;\n",
       "    }\n",
       "\n",
       "    .dataframe thead th {\n",
       "        text-align: right;\n",
       "    }\n",
       "</style>\n",
       "<table border=\"1\" class=\"dataframe\">\n",
       "  <thead>\n",
       "    <tr style=\"text-align: right;\">\n",
       "      <th></th>\n",
       "      <th>session_id</th>\n",
       "      <th>JAN</th>\n",
       "      <th>n_items</th>\n",
       "    </tr>\n",
       "  </thead>\n",
       "  <tbody>\n",
       "    <tr>\n",
       "      <th>58</th>\n",
       "      <td>01b12b339ca77ab1049055d27fe6cf94453281d1396557...</td>\n",
       "      <td>4903308004694</td>\n",
       "      <td>0</td>\n",
       "    </tr>\n",
       "    <tr>\n",
       "      <th>59</th>\n",
       "      <td>01b12b339ca77ab1049055d27fe6cf94453281d1396557...</td>\n",
       "      <td>4903308039535</td>\n",
       "      <td>0</td>\n",
       "    </tr>\n",
       "    <tr>\n",
       "      <th>186</th>\n",
       "      <td>0666d351c8dc1a39897748132d9bf6a10c631459012a77...</td>\n",
       "      <td>4902732803439</td>\n",
       "      <td>0</td>\n",
       "    </tr>\n",
       "    <tr>\n",
       "      <th>205</th>\n",
       "      <td>0711f3a8e4e69f9e4ebaf0cf5ff5f1ff6ffa7b2cba82a4...</td>\n",
       "      <td>3073781162257</td>\n",
       "      <td>0</td>\n",
       "    </tr>\n",
       "    <tr>\n",
       "      <th>238</th>\n",
       "      <td>07f4458b9c6460798d6c2a41059ea6110c2739f4c3e1cb...</td>\n",
       "      <td>4903050502950</td>\n",
       "      <td>0</td>\n",
       "    </tr>\n",
       "    <tr>\n",
       "      <th>...</th>\n",
       "      <td>...</td>\n",
       "      <td>...</td>\n",
       "      <td>...</td>\n",
       "    </tr>\n",
       "    <tr>\n",
       "      <th>8137</th>\n",
       "      <td>fb51a2ee49894b7ccb8c1a7582aade99fbdfaa0c47cb5b...</td>\n",
       "      <td>49839807</td>\n",
       "      <td>0</td>\n",
       "    </tr>\n",
       "    <tr>\n",
       "      <th>8196</th>\n",
       "      <td>fd0f357c177ccfb451ba3f899abd6185f42edb9fc70218...</td>\n",
       "      <td>4903308032352</td>\n",
       "      <td>0</td>\n",
       "    </tr>\n",
       "    <tr>\n",
       "      <th>8217</th>\n",
       "      <td>fdacd310095a1192f5ddd1c1b1c865a6f27023d79dfa83...</td>\n",
       "      <td>3073781162257</td>\n",
       "      <td>0</td>\n",
       "    </tr>\n",
       "    <tr>\n",
       "      <th>8264</th>\n",
       "      <td>fe9b2053e9984f12bd71abff29900291883288c7337c1a...</td>\n",
       "      <td>4522646853896</td>\n",
       "      <td>0</td>\n",
       "    </tr>\n",
       "    <tr>\n",
       "      <th>8266</th>\n",
       "      <td>fea46f98c50c8ff06215c6a391da78e025255168151f46...</td>\n",
       "      <td>4903050100781</td>\n",
       "      <td>0</td>\n",
       "    </tr>\n",
       "  </tbody>\n",
       "</table>\n",
       "<p>152 rows × 3 columns</p>\n",
       "</div>\n",
       "      <button class=\"colab-df-convert\" onclick=\"convertToInteractive('df-23263adb-b40d-4e85-a4f3-cbd1a473c0dd')\"\n",
       "              title=\"Convert this dataframe to an interactive table.\"\n",
       "              style=\"display:none;\">\n",
       "        \n",
       "  <svg xmlns=\"http://www.w3.org/2000/svg\" height=\"24px\"viewBox=\"0 0 24 24\"\n",
       "       width=\"24px\">\n",
       "    <path d=\"M0 0h24v24H0V0z\" fill=\"none\"/>\n",
       "    <path d=\"M18.56 5.44l.94 2.06.94-2.06 2.06-.94-2.06-.94-.94-2.06-.94 2.06-2.06.94zm-11 1L8.5 8.5l.94-2.06 2.06-.94-2.06-.94L8.5 2.5l-.94 2.06-2.06.94zm10 10l.94 2.06.94-2.06 2.06-.94-2.06-.94-.94-2.06-.94 2.06-2.06.94z\"/><path d=\"M17.41 7.96l-1.37-1.37c-.4-.4-.92-.59-1.43-.59-.52 0-1.04.2-1.43.59L10.3 9.45l-7.72 7.72c-.78.78-.78 2.05 0 2.83L4 21.41c.39.39.9.59 1.41.59.51 0 1.02-.2 1.41-.59l7.78-7.78 2.81-2.81c.8-.78.8-2.07 0-2.86zM5.41 20L4 18.59l7.72-7.72 1.47 1.35L5.41 20z\"/>\n",
       "  </svg>\n",
       "      </button>\n",
       "      \n",
       "  <style>\n",
       "    .colab-df-container {\n",
       "      display:flex;\n",
       "      flex-wrap:wrap;\n",
       "      gap: 12px;\n",
       "    }\n",
       "\n",
       "    .colab-df-convert {\n",
       "      background-color: #E8F0FE;\n",
       "      border: none;\n",
       "      border-radius: 50%;\n",
       "      cursor: pointer;\n",
       "      display: none;\n",
       "      fill: #1967D2;\n",
       "      height: 32px;\n",
       "      padding: 0 0 0 0;\n",
       "      width: 32px;\n",
       "    }\n",
       "\n",
       "    .colab-df-convert:hover {\n",
       "      background-color: #E2EBFA;\n",
       "      box-shadow: 0px 1px 2px rgba(60, 64, 67, 0.3), 0px 1px 3px 1px rgba(60, 64, 67, 0.15);\n",
       "      fill: #174EA6;\n",
       "    }\n",
       "\n",
       "    [theme=dark] .colab-df-convert {\n",
       "      background-color: #3B4455;\n",
       "      fill: #D2E3FC;\n",
       "    }\n",
       "\n",
       "    [theme=dark] .colab-df-convert:hover {\n",
       "      background-color: #434B5C;\n",
       "      box-shadow: 0px 1px 3px 1px rgba(0, 0, 0, 0.15);\n",
       "      filter: drop-shadow(0px 1px 2px rgba(0, 0, 0, 0.3));\n",
       "      fill: #FFFFFF;\n",
       "    }\n",
       "  </style>\n",
       "\n",
       "      <script>\n",
       "        const buttonEl =\n",
       "          document.querySelector('#df-23263adb-b40d-4e85-a4f3-cbd1a473c0dd button.colab-df-convert');\n",
       "        buttonEl.style.display =\n",
       "          google.colab.kernel.accessAllowed ? 'block' : 'none';\n",
       "\n",
       "        async function convertToInteractive(key) {\n",
       "          const element = document.querySelector('#df-23263adb-b40d-4e85-a4f3-cbd1a473c0dd');\n",
       "          const dataTable =\n",
       "            await google.colab.kernel.invokeFunction('convertToInteractive',\n",
       "                                                     [key], {});\n",
       "          if (!dataTable) return;\n",
       "\n",
       "          const docLinkHtml = 'Like what you see? Visit the ' +\n",
       "            '<a target=\"_blank\" href=https://colab.research.google.com/notebooks/data_table.ipynb>data table notebook</a>'\n",
       "            + ' to learn more about interactive tables.';\n",
       "          element.innerHTML = '';\n",
       "          dataTable['output_type'] = 'display_data';\n",
       "          await google.colab.output.renderOutput(dataTable, element);\n",
       "          const docLink = document.createElement('div');\n",
       "          docLink.innerHTML = docLinkHtml;\n",
       "          element.appendChild(docLink);\n",
       "        }\n",
       "      </script>\n",
       "    </div>\n",
       "  </div>\n",
       "  "
      ],
      "text/plain": [
       "                                             session_id            JAN  n_items\n",
       "58    01b12b339ca77ab1049055d27fe6cf94453281d1396557...  4903308004694        0\n",
       "59    01b12b339ca77ab1049055d27fe6cf94453281d1396557...  4903308039535        0\n",
       "186   0666d351c8dc1a39897748132d9bf6a10c631459012a77...  4902732803439        0\n",
       "205   0711f3a8e4e69f9e4ebaf0cf5ff5f1ff6ffa7b2cba82a4...  3073781162257        0\n",
       "238   07f4458b9c6460798d6c2a41059ea6110c2739f4c3e1cb...  4903050502950        0\n",
       "...                                                 ...            ...      ...\n",
       "8137  fb51a2ee49894b7ccb8c1a7582aade99fbdfaa0c47cb5b...       49839807        0\n",
       "8196  fd0f357c177ccfb451ba3f899abd6185f42edb9fc70218...  4903308032352        0\n",
       "8217  fdacd310095a1192f5ddd1c1b1c865a6f27023d79dfa83...  3073781162257        0\n",
       "8264  fe9b2053e9984f12bd71abff29900291883288c7337c1a...  4522646853896        0\n",
       "8266  fea46f98c50c8ff06215c6a391da78e025255168151f46...  4903050100781        0\n",
       "\n",
       "[152 rows x 3 columns]"
      ]
     },
     "execution_count": 11,
     "metadata": {},
     "output_type": "execute_result"
    }
   ],
   "source": [
    "# 新しく購入があった session - JAN の組\n",
    "idx = sum_of_item[\"n_items\"] > 0\n",
    "\n",
    "# 購入するゼロ or マイナスのもの\n",
    "sum_of_item[~idx]"
   ]
  },
  {
   "cell_type": "code",
   "execution_count": 12,
   "metadata": {
    "id": "DG3x2YSqU5ak"
   },
   "outputs": [],
   "source": [
    "# 購入するゼロ or マイナスのセッションを試しに見てみるのも良いでしょう\n",
    "def filter_by_sessions(input_df: pd.DataFrame, sessions: list):\n",
    "    idx = input_df[\"session_id\"].isin(set(sessions))\n",
    "    return input_df[idx].reset_index(drop=True)\n",
    "\n",
    "filter_by_sessions(log_df, sessions=sum_of_item[~idx][\"session_id\"]).to_csv(os.path.join(OUTPUT_DIR, \"チーズを購入しているが購入数合計がゼロのセッション.csv\"), index=False)"
   ]
  },
  {
   "cell_type": "code",
   "execution_count": 13,
   "metadata": {
    "id": "QX5jnBn5U5ak"
   },
   "outputs": [],
   "source": [
    "# 新しく購入があった index に絞って, session の集合を計算します。これが「チーズを新しく買った」セッションです。\n",
    "buy_sessions = sum_of_item[idx][\"session_id\"].unique()\n",
    "\n",
    "# これも試しに見てみるのが良いでしょう\n",
    "# 数が多いと見難いので 100 こだけ。\n",
    "filter_by_sessions(log_df, sessions=buy_sessions[:100]).to_csv(os.path.join(OUTPUT_DIR, \"チーズを購入しているセッション.csv\"), index=False)"
   ]
  },
  {
   "cell_type": "code",
   "execution_count": 14,
   "metadata": {
    "id": "lzJywavSU5al"
   },
   "outputs": [],
   "source": [
    "idx_tr = session_df[\"start_at__date\"] <= \"2022-01-06\"\n",
    "train_session_df = session_df[idx_tr].reset_index(drop=True)[[\"session_id\"]]\n",
    "\n",
    "train_session_df[\"y\"] = train_session_df[\"session_id\"].isin(buy_sessions).astype(int)"
   ]
  },
  {
   "cell_type": "code",
   "execution_count": 15,
   "metadata": {
    "id": "Ai71bVpzU5al"
   },
   "outputs": [],
   "source": [
    "def calculate_buy_sessions(input_df: pd.DataFrame) -> set:\n",
    "    \"\"\"\n",
    "    180秒後にチーズカテゴリの商品を新規に購入したセッションを取得します.\n",
    "    \n",
    "    Args:\n",
    "        input_df: \n",
    "            cart_log.csv のデータ.\n",
    "\n",
    "    Returns:\n",
    "        購入があったセッション集合\n",
    "    \"\"\"\n",
    "\n",
    "    idx_after_180 = input_df[\"duration\"] >= 180\n",
    "    idx_has_cheese = input_df[\"JAN\"].isin(TARGET_JANS)\n",
    "\n",
    "    # 180秒後かつチーズの商品追加・削除に関係するログにしぼりこんで, \n",
    "    _df = input_df[idx_after_180 & idx_has_cheese].reset_index(drop=True)\n",
    "\n",
    "    # session ごとに JAN (商品) をいくつ買ったかを計算して,\n",
    "    sum_of_item = _df.groupby([\"session_id\", \"JAN\"])[\"n_items\"].sum().reset_index()\n",
    "\n",
    "    # 新しく購入があった session - JAN の index に絞り\n",
    "    idx = sum_of_item[\"n_items\"] > 0\n",
    "    sum_of_item = sum_of_item[idx]\n",
    "\n",
    "    # session の集合を計算します。これが「チーズを新しく買った」セッションです。\n",
    "    buy_sessions = sum_of_item[\"session_id\"].unique()\n",
    "    return set(buy_sessions)"
   ]
  },
  {
   "cell_type": "code",
   "execution_count": 16,
   "metadata": {
    "id": "JdzuUlohU5al"
   },
   "outputs": [],
   "source": [
    "sessions = calculate_buy_sessions(log_df)"
   ]
  },
  {
   "cell_type": "code",
   "execution_count": 17,
   "metadata": {
    "colab": {
     "base_uri": "https://localhost:8080/"
    },
    "id": "fPN5CpffU5al",
    "outputId": "47f8e7f9-9064-4d6f-cd6b-a37cf78c0655"
   },
   "outputs": [
    {
     "data": {
      "text/plain": [
       "True"
      ]
     },
     "execution_count": 17,
     "metadata": {},
     "output_type": "execute_result"
    }
   ],
   "source": [
    "len(sessions) == len(set(buy_sessions))"
   ]
  },
  {
   "cell_type": "code",
   "execution_count": 18,
   "metadata": {
    "colab": {
     "base_uri": "https://localhost:8080/"
    },
    "id": "1-jfgeIQU5am",
    "outputId": "49d4096d-adf0-4286-fcd2-f969f6ad141c"
   },
   "outputs": [
    {
     "data": {
      "text/plain": [
       "min      0\n",
       "max    179\n",
       "Name: duration, dtype: int64"
      ]
     },
     "execution_count": 18,
     "metadata": {},
     "output_type": "execute_result"
    }
   ],
   "source": [
    "log_df[log_df[\"session_id\"].isin(test_session_df[\"session_id\"])][\"duration\"].agg([\"min\", \"max\"])"
   ]
  },
  {
   "cell_type": "markdown",
   "metadata": {
    "id": "sj-_fe54XRSx"
   },
   "source": [
    "### Cross Validation"
   ]
  },
  {
   "cell_type": "code",
   "execution_count": 19,
   "metadata": {
    "id": "67LVX3O6XQuy"
   },
   "outputs": [],
   "source": [
    "# 何回も `session_id` と書くのがたいへんなので変数として定義しました\n",
    "# こうすると tab を押すとサジェストが効くので楽です\n",
    "SESSION_ID = \"session_id\"\n",
    "\n",
    "def merge_by_session(left: pd.DataFrame, right: pd.DataFrame, drop_key=True) -> pd.DataFrame:\n",
    "    out_df = pd.merge(left[SESSION_ID], right, on=SESSION_ID, how=\"left\")\n",
    "    \n",
    "    if drop_key:\n",
    "        out_df = out_df.drop(columns=[SESSION_ID])\n",
    "    return out_df"
   ]
  },
  {
   "cell_type": "code",
   "execution_count": 20,
   "metadata": {
    "id": "scFTa6OeXVsQ"
   },
   "outputs": [],
   "source": [
    "def train_session_day(input_df: pd.DataFrame):\n",
    "    date_series = session_df[\"start_at__date\"]\n",
    "    _df = pd.DataFrame({\n",
    "        SESSION_ID: session_df[SESSION_ID],\n",
    "        \"start_at__date\": date_series,\n",
    "    })\n",
    "    \n",
    "    return merge_by_session(input_df, _df)"
   ]
  },
  {
   "cell_type": "code",
   "execution_count": 21,
   "metadata": {
    "id": "n0OvD2PwXXF4"
   },
   "outputs": [],
   "source": [
    "groups = train_session_day(train_session_df)"
   ]
  },
  {
   "cell_type": "code",
   "execution_count": 22,
   "metadata": {
    "colab": {
     "base_uri": "https://localhost:8080/"
    },
    "id": "GqBH9UucXYP2",
    "outputId": "0511ce03-02f7-4e4e-f11b-a89a7b149710"
   },
   "outputs": [
    {
     "name": "stdout",
     "output_type": "stream",
     "text": [
      "Found existing installation: scikit-learn 1.0.2\n",
      "Uninstalling scikit-learn-1.0.2:\n",
      "  Would remove:\n",
      "    /usr/local/lib/python3.7/dist-packages/scikit_learn-1.0.2.dist-info/*\n",
      "    /usr/local/lib/python3.7/dist-packages/scikit_learn.libs/libgomp-a34b3233.so.1.0.0\n",
      "    /usr/local/lib/python3.7/dist-packages/sklearn/*\n",
      "Proceed (y/n)? y\n",
      "  Successfully uninstalled scikit-learn-1.0.2\n",
      "Looking in indexes: https://pypi.org/simple, https://pypi.anaconda.org/scipy-wheels-nightly/simple\n",
      "Collecting scikit-learn\n",
      "  Downloading https://pypi.anaconda.org/scipy-wheels-nightly/simple/scikit-learn/1.1.dev0/scikit_learn-1.1.dev0-cp37-cp37m-manylinux_2_17_x86_64.manylinux2014_x86_64.whl (27.6 MB)\n",
      "\u001b[K     |████████████████████████████████| 27.6 MB 40.4 MB/s \n",
      "\u001b[?25hRequirement already satisfied: threadpoolctl>=2.0.0 in /usr/local/lib/python3.7/dist-packages (from scikit-learn) (3.1.0)\n",
      "Requirement already satisfied: numpy>=1.14.6 in /usr/local/lib/python3.7/dist-packages (from scikit-learn) (1.21.5)\n",
      "Requirement already satisfied: joblib>=1.0.0 in /usr/local/lib/python3.7/dist-packages (from scikit-learn) (1.1.0)\n",
      "Requirement already satisfied: scipy>=1.1.0 in /usr/local/lib/python3.7/dist-packages (from scikit-learn) (1.4.1)\n",
      "Installing collected packages: scikit-learn\n",
      "Successfully installed scikit-learn-1.1.dev0\n"
     ]
    }
   ],
   "source": [
    "!pip uninstall scikit-learn\n",
    "!pip install --pre --extra-index https://pypi.anaconda.org/scipy-wheels-nightly/simple scikit-learn"
   ]
  },
  {
   "cell_type": "code",
   "execution_count": 23,
   "metadata": {
    "id": "MZvHccAnXc8B"
   },
   "outputs": [],
   "source": [
    "from sklearn.model_selection import StratifiedGroupKFold\n",
    "\n",
    "fold = StratifiedGroupKFold(n_splits=5, shuffle=False)\n",
    "cv = fold.split(train_session_df[\"y\"].values, train_session_df[\"y\"].values, groups)\n",
    "cv = list(cv) # split の返り値は generator なので list 化して何度も iterate できるようにしておく"
   ]
  },
  {
   "cell_type": "markdown",
   "metadata": {
    "id": "uGmV771GU5an"
   },
   "source": [
    "### 数値に紐づく情報"
   ]
  },
  {
   "cell_type": "code",
   "execution_count": 24,
   "metadata": {
    "id": "iFDUwlIrU5ao"
   },
   "outputs": [],
   "source": [
    "# 本当は int にしたいのですが python(numpy) では Nan が float 型で定義されているため flaot としています\n",
    "session_df[\"distance_to_the_store\"] = session_df[\"distance_to_the_store\"].replace(\"不明\", None).astype(float)"
   ]
  },
  {
   "cell_type": "code",
   "execution_count": 25,
   "metadata": {
    "id": "RLUf8KHZU5ao"
   },
   "outputs": [],
   "source": [
    "def create_distance_to_the_store_feature(input_df: pd.DataFrame) -> pd.DataFrame:\n",
    "    return merge_by_session(left=input_df, right=session_df[[SESSION_ID, \"distance_to_the_store\"]])"
   ]
  },
  {
   "cell_type": "code",
   "execution_count": 26,
   "metadata": {
    "colab": {
     "base_uri": "https://localhost:8080/",
     "height": 424
    },
    "id": "YkYMBhdqU5ao",
    "outputId": "754f2a92-c034-44d4-fc69-c10eca94b953"
   },
   "outputs": [
    {
     "data": {
      "text/html": [
       "\n",
       "  <div id=\"df-007afb16-4e49-4838-b9c1-02d3f9d5b09e\">\n",
       "    <div class=\"colab-df-container\">\n",
       "      <div>\n",
       "<style scoped>\n",
       "    .dataframe tbody tr th:only-of-type {\n",
       "        vertical-align: middle;\n",
       "    }\n",
       "\n",
       "    .dataframe tbody tr th {\n",
       "        vertical-align: top;\n",
       "    }\n",
       "\n",
       "    .dataframe thead th {\n",
       "        text-align: right;\n",
       "    }\n",
       "</style>\n",
       "<table border=\"1\" class=\"dataframe\">\n",
       "  <thead>\n",
       "    <tr style=\"text-align: right;\">\n",
       "      <th></th>\n",
       "      <th>distance_to_the_store</th>\n",
       "    </tr>\n",
       "  </thead>\n",
       "  <tbody>\n",
       "    <tr>\n",
       "      <th>0</th>\n",
       "      <td>2.0</td>\n",
       "    </tr>\n",
       "    <tr>\n",
       "      <th>1</th>\n",
       "      <td>4.0</td>\n",
       "    </tr>\n",
       "    <tr>\n",
       "      <th>2</th>\n",
       "      <td>18.0</td>\n",
       "    </tr>\n",
       "    <tr>\n",
       "      <th>3</th>\n",
       "      <td>2.0</td>\n",
       "    </tr>\n",
       "    <tr>\n",
       "      <th>4</th>\n",
       "      <td>2.0</td>\n",
       "    </tr>\n",
       "    <tr>\n",
       "      <th>...</th>\n",
       "      <td>...</td>\n",
       "    </tr>\n",
       "    <tr>\n",
       "      <th>83333</th>\n",
       "      <td>1.0</td>\n",
       "    </tr>\n",
       "    <tr>\n",
       "      <th>83334</th>\n",
       "      <td>8.0</td>\n",
       "    </tr>\n",
       "    <tr>\n",
       "      <th>83335</th>\n",
       "      <td>1.0</td>\n",
       "    </tr>\n",
       "    <tr>\n",
       "      <th>83336</th>\n",
       "      <td>9.0</td>\n",
       "    </tr>\n",
       "    <tr>\n",
       "      <th>83337</th>\n",
       "      <td>4.0</td>\n",
       "    </tr>\n",
       "  </tbody>\n",
       "</table>\n",
       "<p>83338 rows × 1 columns</p>\n",
       "</div>\n",
       "      <button class=\"colab-df-convert\" onclick=\"convertToInteractive('df-007afb16-4e49-4838-b9c1-02d3f9d5b09e')\"\n",
       "              title=\"Convert this dataframe to an interactive table.\"\n",
       "              style=\"display:none;\">\n",
       "        \n",
       "  <svg xmlns=\"http://www.w3.org/2000/svg\" height=\"24px\"viewBox=\"0 0 24 24\"\n",
       "       width=\"24px\">\n",
       "    <path d=\"M0 0h24v24H0V0z\" fill=\"none\"/>\n",
       "    <path d=\"M18.56 5.44l.94 2.06.94-2.06 2.06-.94-2.06-.94-.94-2.06-.94 2.06-2.06.94zm-11 1L8.5 8.5l.94-2.06 2.06-.94-2.06-.94L8.5 2.5l-.94 2.06-2.06.94zm10 10l.94 2.06.94-2.06 2.06-.94-2.06-.94-.94-2.06-.94 2.06-2.06.94z\"/><path d=\"M17.41 7.96l-1.37-1.37c-.4-.4-.92-.59-1.43-.59-.52 0-1.04.2-1.43.59L10.3 9.45l-7.72 7.72c-.78.78-.78 2.05 0 2.83L4 21.41c.39.39.9.59 1.41.59.51 0 1.02-.2 1.41-.59l7.78-7.78 2.81-2.81c.8-.78.8-2.07 0-2.86zM5.41 20L4 18.59l7.72-7.72 1.47 1.35L5.41 20z\"/>\n",
       "  </svg>\n",
       "      </button>\n",
       "      \n",
       "  <style>\n",
       "    .colab-df-container {\n",
       "      display:flex;\n",
       "      flex-wrap:wrap;\n",
       "      gap: 12px;\n",
       "    }\n",
       "\n",
       "    .colab-df-convert {\n",
       "      background-color: #E8F0FE;\n",
       "      border: none;\n",
       "      border-radius: 50%;\n",
       "      cursor: pointer;\n",
       "      display: none;\n",
       "      fill: #1967D2;\n",
       "      height: 32px;\n",
       "      padding: 0 0 0 0;\n",
       "      width: 32px;\n",
       "    }\n",
       "\n",
       "    .colab-df-convert:hover {\n",
       "      background-color: #E2EBFA;\n",
       "      box-shadow: 0px 1px 2px rgba(60, 64, 67, 0.3), 0px 1px 3px 1px rgba(60, 64, 67, 0.15);\n",
       "      fill: #174EA6;\n",
       "    }\n",
       "\n",
       "    [theme=dark] .colab-df-convert {\n",
       "      background-color: #3B4455;\n",
       "      fill: #D2E3FC;\n",
       "    }\n",
       "\n",
       "    [theme=dark] .colab-df-convert:hover {\n",
       "      background-color: #434B5C;\n",
       "      box-shadow: 0px 1px 3px 1px rgba(0, 0, 0, 0.15);\n",
       "      filter: drop-shadow(0px 1px 2px rgba(0, 0, 0, 0.3));\n",
       "      fill: #FFFFFF;\n",
       "    }\n",
       "  </style>\n",
       "\n",
       "      <script>\n",
       "        const buttonEl =\n",
       "          document.querySelector('#df-007afb16-4e49-4838-b9c1-02d3f9d5b09e button.colab-df-convert');\n",
       "        buttonEl.style.display =\n",
       "          google.colab.kernel.accessAllowed ? 'block' : 'none';\n",
       "\n",
       "        async function convertToInteractive(key) {\n",
       "          const element = document.querySelector('#df-007afb16-4e49-4838-b9c1-02d3f9d5b09e');\n",
       "          const dataTable =\n",
       "            await google.colab.kernel.invokeFunction('convertToInteractive',\n",
       "                                                     [key], {});\n",
       "          if (!dataTable) return;\n",
       "\n",
       "          const docLinkHtml = 'Like what you see? Visit the ' +\n",
       "            '<a target=\"_blank\" href=https://colab.research.google.com/notebooks/data_table.ipynb>data table notebook</a>'\n",
       "            + ' to learn more about interactive tables.';\n",
       "          element.innerHTML = '';\n",
       "          dataTable['output_type'] = 'display_data';\n",
       "          await google.colab.output.renderOutput(dataTable, element);\n",
       "          const docLink = document.createElement('div');\n",
       "          docLink.innerHTML = docLinkHtml;\n",
       "          element.appendChild(docLink);\n",
       "        }\n",
       "      </script>\n",
       "    </div>\n",
       "  </div>\n",
       "  "
      ],
      "text/plain": [
       "       distance_to_the_store\n",
       "0                        2.0\n",
       "1                        4.0\n",
       "2                       18.0\n",
       "3                        2.0\n",
       "4                        2.0\n",
       "...                      ...\n",
       "83333                    1.0\n",
       "83334                    8.0\n",
       "83335                    1.0\n",
       "83336                    9.0\n",
       "83337                    4.0\n",
       "\n",
       "[83338 rows x 1 columns]"
      ]
     },
     "execution_count": 26,
     "metadata": {},
     "output_type": "execute_result"
    }
   ],
   "source": [
    "create_distance_to_the_store_feature(train_session_df)"
   ]
  },
  {
   "cell_type": "code",
   "execution_count": 27,
   "metadata": {
    "id": "hK0hgWoipCPU"
   },
   "outputs": [],
   "source": [
    "def create_start_at_date_feature(input_df: pd.DataFrame):\n",
    "    date_series = session_df[\"start_at__date\"]\n",
    "    _df = pd.DataFrame({\n",
    "        SESSION_ID: session_df[SESSION_ID],\n",
    "        \"dayofweek\": date_series.dt.dayofweek,\n",
    "    })\n",
    "    \n",
    "    return merge_by_session(input_df, _df)"
   ]
  },
  {
   "cell_type": "markdown",
   "metadata": {
    "id": "pQnfvTPMU5aq"
   },
   "source": [
    "### カテゴリ変数の情報\n",
    "\n",
    "#### OneHotEncoding"
   ]
  },
  {
   "cell_type": "code",
   "execution_count": 28,
   "metadata": {
    "id": "Gh7Q5Tr3U5ar"
   },
   "outputs": [],
   "source": [
    "def create_one_hot_encoding_feature(input_df: pd.DataFrame, target_column: str) -> pd.DataFrame:\n",
    "    _series = merge_by_session(input_df, session_df)[target_column]\n",
    "    uniques = session_df[target_column].dropna().unique()\n",
    "\n",
    "    cat_series = pd.Categorical(_series, categories=uniques)\n",
    "    out_df = pd.get_dummies(cat_series)\n",
    "    out_df.columns = out_df.columns.tolist()\n",
    "    return out_df"
   ]
  },
  {
   "cell_type": "markdown",
   "metadata": {
    "id": "YlO5X6CqViM1"
   },
   "source": [
    "### パーセンタイルを用いたtarget encoding"
   ]
  },
  {
   "cell_type": "code",
   "execution_count": 29,
   "metadata": {
    "colab": {
     "base_uri": "https://localhost:8080/"
    },
    "id": "9_HexibMZxEr",
    "outputId": "4e106d3b-8b07-492d-dd23-95fdcab0e70f"
   },
   "outputs": [
    {
     "data": {
      "text/plain": [
       "83338"
      ]
     },
     "execution_count": 29,
     "metadata": {},
     "output_type": "execute_result"
    }
   ],
   "source": [
    "N = len(train_session_df)\n",
    "N"
   ]
  },
  {
   "cell_type": "code",
   "execution_count": 30,
   "metadata": {
    "colab": {
     "base_uri": "https://localhost:8080/"
    },
    "id": "IdKtAyCUZcyF",
    "outputId": "b33f62aa-a0c3-4760-efa0-0f49ddc85e66"
   },
   "outputs": [
    {
     "data": {
      "text/plain": [
       "0.07865559528666395"
      ]
     },
     "execution_count": 30,
     "metadata": {},
     "output_type": "execute_result"
    }
   ],
   "source": [
    "p = train_session_df[\"y\"].sum() / len(train_session_df)\n",
    "p"
   ]
  },
  {
   "cell_type": "markdown",
   "metadata": {
    "id": "61zhNvQvZv-V"
   },
   "source": [
    "Bin(N, p)の二項分布として考えられる？"
   ]
  },
  {
   "cell_type": "code",
   "execution_count": 31,
   "metadata": {
    "id": "DN9kOUThP2tF"
   },
   "outputs": [],
   "source": [
    "use_df = pd.merge(train_session_df, session_df[[\"session_id\", \"user_id\"]], on=\"session_id\", how=\"left\")"
   ]
  },
  {
   "cell_type": "code",
   "execution_count": 32,
   "metadata": {
    "colab": {
     "base_uri": "https://localhost:8080/"
    },
    "id": "PeU1EBhFZvaO",
    "outputId": "09990ffa-ec33-4bc8-fceb-5466af2e5c2e"
   },
   "outputs": [
    {
     "data": {
      "text/plain": [
       "14"
      ]
     },
     "execution_count": 32,
     "metadata": {},
     "output_type": "execute_result"
    }
   ],
   "source": [
    "use_df.groupby(\"user_id\")[\"y\"].sum().max()"
   ]
  },
  {
   "cell_type": "code",
   "execution_count": 33,
   "metadata": {
    "colab": {
     "base_uri": "https://localhost:8080/"
    },
    "id": "v9Pea1g_dBuX",
    "outputId": "a204c8a5-ce36-4817-d1a5-458cce11ebbd"
   },
   "outputs": [
    {
     "data": {
      "text/plain": [
       "103"
      ]
     },
     "execution_count": 33,
     "metadata": {},
     "output_type": "execute_result"
    }
   ],
   "source": [
    "use_df.groupby(\"user_id\").size().max()"
   ]
  },
  {
   "cell_type": "markdown",
   "metadata": {
    "id": "24PPxqzjcJTU"
   },
   "source": [
    "チーズを購入してる回数が少ないので計算量も大丈夫そう！"
   ]
  },
  {
   "cell_type": "code",
   "execution_count": 34,
   "metadata": {
    "id": "6i59UsyHdPlu"
   },
   "outputs": [],
   "source": [
    "# p^nと(1-p)^nを先に求めておく\n",
    "\n",
    "POWER_p = [1] * 201\n",
    "for i in range(200):\n",
    "    POWER_p[i + 1] *= POWER_p[i] * p\n",
    "POWER_1_p = [1] * 201\n",
    "for i in range(200):\n",
    "    POWER_1_p[i + 1] *= POWER_1_p[i] * (1 - p)"
   ]
  },
  {
   "cell_type": "code",
   "execution_count": 35,
   "metadata": {
    "id": "qjN8xCHtcQbp"
   },
   "outputs": [],
   "source": [
    "# 全体の分布がBin(N, p)に従うときにn回スーパーに行ったうちk回チーズを購入した人が下位何パーセントだったのかを求める\n",
    "\n",
    "def calc_percentile(x):\n",
    "    n, k = x[0], x[\"y\"]\n",
    "    ret = 0\n",
    "    for i in range(k + 1):\n",
    "        tmp = 1\n",
    "        for x in range(n, n - i, -1):\n",
    "            tmp *= x\n",
    "        for x in range(i):\n",
    "            tmp /= x + 1\n",
    "        tmp *= POWER_p[i]\n",
    "        tmp *= POWER_1_p[n - i]\n",
    "        if i == k:\n",
    "            tmp /= 2\n",
    "        ret += tmp\n",
    "    return ret"
   ]
  },
  {
   "cell_type": "code",
   "execution_count": 36,
   "metadata": {
    "colab": {
     "base_uri": "https://localhost:8080/"
    },
    "id": "JuddZj2-hpf9",
    "outputId": "82677479-3e35-42eb-d4f1-ec9bda4b1967"
   },
   "outputs": [
    {
     "data": {
      "text/plain": [
       "user_id\n",
       "00013ab2b36e1084ef754b36bdda0b0b99f09c52f9b90ea57c65f5f18dc74cc0    0.424438\n",
       "00073acd012cd8296299265d2e61e958a9bc8fc360d2b1b17118c4a7879e6e78    0.331956\n",
       "001fbef84528c709e5e899835516a5e045069bdf0e048aaf5ca8e255fe959299    0.305845\n",
       "002d8d3d0a2d530e70abc27b6c36b776658102597040e3a2152a8eb72ae90f8b    0.460672\n",
       "003119bec7a4021ee4474a832c4e6fcd0186d13a6c9445879c16b26a05bd42e7    0.305845\n",
       "                                                                      ...   \n",
       "ffdc2476f6f845434a908162785c5514fa836e0b1ad0fe7846bc4bce0841cfb9    0.731973\n",
       "ffe2610647242a9795f1a179937f52bb26787dedbd326675cb784c868f73f8fa    0.360295\n",
       "ffe6ca51c9074134d9484fee89db755dbfa6b94f1eed53dd288c290835086b1d    0.460672\n",
       "ffea41c6dc0c7611f67403086cda2d126299b16f8b01a3f7613720517e26e0ca    0.220389\n",
       "fffe3513c44c5fcbbbec5772279341cac64de5bac11b762720ec8959bd61bbd7    0.391053\n",
       "Length: 12804, dtype: float64"
      ]
     },
     "execution_count": 36,
     "metadata": {},
     "output_type": "execute_result"
    }
   ],
   "source": [
    "pd.concat([use_df.groupby(\"user_id\")[\"y\"].sum(), use_df.groupby(\"user_id\").size()], axis = 1).apply(calc_percentile, axis = 1)"
   ]
  },
  {
   "cell_type": "code",
   "execution_count": 37,
   "metadata": {
    "id": "8Qu02rH2VoML"
   },
   "outputs": [],
   "source": [
    "def create_percentile_target_encoding_by_userid_feature(input_df: pd.DataFrame) -> pd.DataFrame:\n",
    "    if input_df.shape[0] == 25823:\n",
    "        use_df = pd.merge(train_session_df, session_df[[\"session_id\", \"user_id\"]], on=\"session_id\", how=\"left\")\n",
    "        target_encoding_dict = dict(pd.concat([use_df.groupby(\"user_id\")[\"y\"].sum(), use_df.groupby(\"user_id\").size()], axis = 1).apply(calc_percentile, axis = 1))\n",
    "        df_ = pd.merge(input_df, session_df[[\"session_id\", \"user_id\"]], on=\"session_id\", how=\"left\")\n",
    "        df_.loc[:, \"target_encoding_by_userid\"] = df_.loc[:, \"user_id\"].map(target_encoding_dict)\n",
    "        df_[\"target_encoding_by_userid\"] = df_[\"target_encoding_by_userid\"].fillna(np.nan)\n",
    "        return pd.DataFrame(df_[\"target_encoding_by_userid\"])\n",
    "\n",
    "    df_ = pd.merge(input_df, session_df[[\"session_id\", \"user_id\"]], on=\"session_id\", how=\"left\")\n",
    "    for train_idxs, test_idxs in cv:\n",
    "        target_encoding_dict = dict(pd.concat([df_.loc[train_idxs,:].groupby(\"user_id\")[\"y\"].sum(), df_.loc[train_idxs,:].groupby(\"user_id\").size()], axis = 1).apply(calc_percentile, axis = 1))\n",
    "        df_.loc[test_idxs, \"target_encoding_by_userid\"] = df_.loc[test_idxs, \"user_id\"].map(target_encoding_dict) \n",
    "    df_[\"target_encoding_by_userid\"].fillna(np.nan)\n",
    "    return df_[\"target_encoding_by_userid\"]"
   ]
  },
  {
   "cell_type": "markdown",
   "metadata": {
    "id": "pR6K6CJVU5as"
   },
   "source": [
    "### すべての特徴量を合体させる\n",
    "\n",
    "上記で定義した特徴量をすべて合わせたデータフレームを作成する関数を用意しましょう。いま数値とカテゴリ(one-hot-encoding) の2つの関数を作りましたので、これらを複数のカラムで使うような関数に仕立てます。"
   ]
  },
  {
   "cell_type": "code",
   "execution_count": 38,
   "metadata": {
    "id": "ypla0QBAU5as"
   },
   "outputs": [],
   "source": [
    "def create_session_one_hot_features(input_df: pd.DataFrame) -> pd.DataFrame:\n",
    "    use_columns = [\n",
    "        \"sex\",\n",
    "        \"age\"\n",
    "    ]\n",
    "    \n",
    "    out_df = pd.DataFrame()\n",
    "    \n",
    "    for c in use_columns:\n",
    "        _df = create_one_hot_encoding_feature(input_df, target_column=c).add_prefix(f\"{c}=\")\n",
    "        out_df = pd.concat([out_df, _df], axis=1)\n",
    "        \n",
    "    return out_df"
   ]
  },
  {
   "cell_type": "code",
   "execution_count": 39,
   "metadata": {
    "colab": {
     "base_uri": "https://localhost:8080/",
     "height": 504
    },
    "id": "AvhL4nWyU5as",
    "outputId": "c80cee8f-4826-425f-cd33-97b1bf4ab8b4"
   },
   "outputs": [
    {
     "data": {
      "text/html": [
       "\n",
       "  <div id=\"df-6e549888-3286-4cb1-b5b5-9ebe88905352\">\n",
       "    <div class=\"colab-df-container\">\n",
       "      <div>\n",
       "<style scoped>\n",
       "    .dataframe tbody tr th:only-of-type {\n",
       "        vertical-align: middle;\n",
       "    }\n",
       "\n",
       "    .dataframe tbody tr th {\n",
       "        vertical-align: top;\n",
       "    }\n",
       "\n",
       "    .dataframe thead th {\n",
       "        text-align: right;\n",
       "    }\n",
       "</style>\n",
       "<table border=\"1\" class=\"dataframe\">\n",
       "  <thead>\n",
       "    <tr style=\"text-align: right;\">\n",
       "      <th></th>\n",
       "      <th>sex=女性</th>\n",
       "      <th>sex=男性</th>\n",
       "      <th>sex=不明</th>\n",
       "      <th>age=60~64</th>\n",
       "      <th>age=55~59</th>\n",
       "      <th>age=35~39</th>\n",
       "      <th>age=30~34</th>\n",
       "      <th>age=25~29</th>\n",
       "      <th>age=50~54</th>\n",
       "      <th>age=70~74</th>\n",
       "      <th>age=65~69</th>\n",
       "      <th>age=45~49</th>\n",
       "      <th>age=不明</th>\n",
       "      <th>age=15~19</th>\n",
       "      <th>age=75~79</th>\n",
       "      <th>age=40~44</th>\n",
       "      <th>age=20~24</th>\n",
       "      <th>age=80~84</th>\n",
       "      <th>age=85~89</th>\n",
       "      <th>age=10~14</th>\n",
       "      <th>age=100~</th>\n",
       "      <th>age=0~4</th>\n",
       "      <th>age=90~94</th>\n",
       "      <th>age=5~9</th>\n",
       "      <th>age=95~99</th>\n",
       "    </tr>\n",
       "  </thead>\n",
       "  <tbody>\n",
       "    <tr>\n",
       "      <th>0</th>\n",
       "      <td>1</td>\n",
       "      <td>0</td>\n",
       "      <td>0</td>\n",
       "      <td>1</td>\n",
       "      <td>0</td>\n",
       "      <td>0</td>\n",
       "      <td>0</td>\n",
       "      <td>0</td>\n",
       "      <td>0</td>\n",
       "      <td>0</td>\n",
       "      <td>0</td>\n",
       "      <td>0</td>\n",
       "      <td>0</td>\n",
       "      <td>0</td>\n",
       "      <td>0</td>\n",
       "      <td>0</td>\n",
       "      <td>0</td>\n",
       "      <td>0</td>\n",
       "      <td>0</td>\n",
       "      <td>0</td>\n",
       "      <td>0</td>\n",
       "      <td>0</td>\n",
       "      <td>0</td>\n",
       "      <td>0</td>\n",
       "      <td>0</td>\n",
       "    </tr>\n",
       "    <tr>\n",
       "      <th>1</th>\n",
       "      <td>1</td>\n",
       "      <td>0</td>\n",
       "      <td>0</td>\n",
       "      <td>0</td>\n",
       "      <td>1</td>\n",
       "      <td>0</td>\n",
       "      <td>0</td>\n",
       "      <td>0</td>\n",
       "      <td>0</td>\n",
       "      <td>0</td>\n",
       "      <td>0</td>\n",
       "      <td>0</td>\n",
       "      <td>0</td>\n",
       "      <td>0</td>\n",
       "      <td>0</td>\n",
       "      <td>0</td>\n",
       "      <td>0</td>\n",
       "      <td>0</td>\n",
       "      <td>0</td>\n",
       "      <td>0</td>\n",
       "      <td>0</td>\n",
       "      <td>0</td>\n",
       "      <td>0</td>\n",
       "      <td>0</td>\n",
       "      <td>0</td>\n",
       "    </tr>\n",
       "    <tr>\n",
       "      <th>2</th>\n",
       "      <td>1</td>\n",
       "      <td>0</td>\n",
       "      <td>0</td>\n",
       "      <td>0</td>\n",
       "      <td>0</td>\n",
       "      <td>0</td>\n",
       "      <td>1</td>\n",
       "      <td>0</td>\n",
       "      <td>0</td>\n",
       "      <td>0</td>\n",
       "      <td>0</td>\n",
       "      <td>0</td>\n",
       "      <td>0</td>\n",
       "      <td>0</td>\n",
       "      <td>0</td>\n",
       "      <td>0</td>\n",
       "      <td>0</td>\n",
       "      <td>0</td>\n",
       "      <td>0</td>\n",
       "      <td>0</td>\n",
       "      <td>0</td>\n",
       "      <td>0</td>\n",
       "      <td>0</td>\n",
       "      <td>0</td>\n",
       "      <td>0</td>\n",
       "    </tr>\n",
       "    <tr>\n",
       "      <th>3</th>\n",
       "      <td>1</td>\n",
       "      <td>0</td>\n",
       "      <td>0</td>\n",
       "      <td>0</td>\n",
       "      <td>0</td>\n",
       "      <td>0</td>\n",
       "      <td>0</td>\n",
       "      <td>1</td>\n",
       "      <td>0</td>\n",
       "      <td>0</td>\n",
       "      <td>0</td>\n",
       "      <td>0</td>\n",
       "      <td>0</td>\n",
       "      <td>0</td>\n",
       "      <td>0</td>\n",
       "      <td>0</td>\n",
       "      <td>0</td>\n",
       "      <td>0</td>\n",
       "      <td>0</td>\n",
       "      <td>0</td>\n",
       "      <td>0</td>\n",
       "      <td>0</td>\n",
       "      <td>0</td>\n",
       "      <td>0</td>\n",
       "      <td>0</td>\n",
       "    </tr>\n",
       "    <tr>\n",
       "      <th>4</th>\n",
       "      <td>1</td>\n",
       "      <td>0</td>\n",
       "      <td>0</td>\n",
       "      <td>0</td>\n",
       "      <td>0</td>\n",
       "      <td>0</td>\n",
       "      <td>1</td>\n",
       "      <td>0</td>\n",
       "      <td>0</td>\n",
       "      <td>0</td>\n",
       "      <td>0</td>\n",
       "      <td>0</td>\n",
       "      <td>0</td>\n",
       "      <td>0</td>\n",
       "      <td>0</td>\n",
       "      <td>0</td>\n",
       "      <td>0</td>\n",
       "      <td>0</td>\n",
       "      <td>0</td>\n",
       "      <td>0</td>\n",
       "      <td>0</td>\n",
       "      <td>0</td>\n",
       "      <td>0</td>\n",
       "      <td>0</td>\n",
       "      <td>0</td>\n",
       "    </tr>\n",
       "    <tr>\n",
       "      <th>...</th>\n",
       "      <td>...</td>\n",
       "      <td>...</td>\n",
       "      <td>...</td>\n",
       "      <td>...</td>\n",
       "      <td>...</td>\n",
       "      <td>...</td>\n",
       "      <td>...</td>\n",
       "      <td>...</td>\n",
       "      <td>...</td>\n",
       "      <td>...</td>\n",
       "      <td>...</td>\n",
       "      <td>...</td>\n",
       "      <td>...</td>\n",
       "      <td>...</td>\n",
       "      <td>...</td>\n",
       "      <td>...</td>\n",
       "      <td>...</td>\n",
       "      <td>...</td>\n",
       "      <td>...</td>\n",
       "      <td>...</td>\n",
       "      <td>...</td>\n",
       "      <td>...</td>\n",
       "      <td>...</td>\n",
       "      <td>...</td>\n",
       "      <td>...</td>\n",
       "    </tr>\n",
       "    <tr>\n",
       "      <th>83333</th>\n",
       "      <td>1</td>\n",
       "      <td>0</td>\n",
       "      <td>0</td>\n",
       "      <td>0</td>\n",
       "      <td>0</td>\n",
       "      <td>1</td>\n",
       "      <td>0</td>\n",
       "      <td>0</td>\n",
       "      <td>0</td>\n",
       "      <td>0</td>\n",
       "      <td>0</td>\n",
       "      <td>0</td>\n",
       "      <td>0</td>\n",
       "      <td>0</td>\n",
       "      <td>0</td>\n",
       "      <td>0</td>\n",
       "      <td>0</td>\n",
       "      <td>0</td>\n",
       "      <td>0</td>\n",
       "      <td>0</td>\n",
       "      <td>0</td>\n",
       "      <td>0</td>\n",
       "      <td>0</td>\n",
       "      <td>0</td>\n",
       "      <td>0</td>\n",
       "    </tr>\n",
       "    <tr>\n",
       "      <th>83334</th>\n",
       "      <td>1</td>\n",
       "      <td>0</td>\n",
       "      <td>0</td>\n",
       "      <td>0</td>\n",
       "      <td>0</td>\n",
       "      <td>1</td>\n",
       "      <td>0</td>\n",
       "      <td>0</td>\n",
       "      <td>0</td>\n",
       "      <td>0</td>\n",
       "      <td>0</td>\n",
       "      <td>0</td>\n",
       "      <td>0</td>\n",
       "      <td>0</td>\n",
       "      <td>0</td>\n",
       "      <td>0</td>\n",
       "      <td>0</td>\n",
       "      <td>0</td>\n",
       "      <td>0</td>\n",
       "      <td>0</td>\n",
       "      <td>0</td>\n",
       "      <td>0</td>\n",
       "      <td>0</td>\n",
       "      <td>0</td>\n",
       "      <td>0</td>\n",
       "    </tr>\n",
       "    <tr>\n",
       "      <th>83335</th>\n",
       "      <td>1</td>\n",
       "      <td>0</td>\n",
       "      <td>0</td>\n",
       "      <td>0</td>\n",
       "      <td>0</td>\n",
       "      <td>0</td>\n",
       "      <td>0</td>\n",
       "      <td>0</td>\n",
       "      <td>0</td>\n",
       "      <td>0</td>\n",
       "      <td>0</td>\n",
       "      <td>0</td>\n",
       "      <td>0</td>\n",
       "      <td>0</td>\n",
       "      <td>0</td>\n",
       "      <td>1</td>\n",
       "      <td>0</td>\n",
       "      <td>0</td>\n",
       "      <td>0</td>\n",
       "      <td>0</td>\n",
       "      <td>0</td>\n",
       "      <td>0</td>\n",
       "      <td>0</td>\n",
       "      <td>0</td>\n",
       "      <td>0</td>\n",
       "    </tr>\n",
       "    <tr>\n",
       "      <th>83336</th>\n",
       "      <td>1</td>\n",
       "      <td>0</td>\n",
       "      <td>0</td>\n",
       "      <td>0</td>\n",
       "      <td>0</td>\n",
       "      <td>0</td>\n",
       "      <td>1</td>\n",
       "      <td>0</td>\n",
       "      <td>0</td>\n",
       "      <td>0</td>\n",
       "      <td>0</td>\n",
       "      <td>0</td>\n",
       "      <td>0</td>\n",
       "      <td>0</td>\n",
       "      <td>0</td>\n",
       "      <td>0</td>\n",
       "      <td>0</td>\n",
       "      <td>0</td>\n",
       "      <td>0</td>\n",
       "      <td>0</td>\n",
       "      <td>0</td>\n",
       "      <td>0</td>\n",
       "      <td>0</td>\n",
       "      <td>0</td>\n",
       "      <td>0</td>\n",
       "    </tr>\n",
       "    <tr>\n",
       "      <th>83337</th>\n",
       "      <td>0</td>\n",
       "      <td>0</td>\n",
       "      <td>1</td>\n",
       "      <td>0</td>\n",
       "      <td>0</td>\n",
       "      <td>0</td>\n",
       "      <td>0</td>\n",
       "      <td>0</td>\n",
       "      <td>0</td>\n",
       "      <td>0</td>\n",
       "      <td>0</td>\n",
       "      <td>0</td>\n",
       "      <td>0</td>\n",
       "      <td>0</td>\n",
       "      <td>1</td>\n",
       "      <td>0</td>\n",
       "      <td>0</td>\n",
       "      <td>0</td>\n",
       "      <td>0</td>\n",
       "      <td>0</td>\n",
       "      <td>0</td>\n",
       "      <td>0</td>\n",
       "      <td>0</td>\n",
       "      <td>0</td>\n",
       "      <td>0</td>\n",
       "    </tr>\n",
       "  </tbody>\n",
       "</table>\n",
       "<p>83338 rows × 25 columns</p>\n",
       "</div>\n",
       "      <button class=\"colab-df-convert\" onclick=\"convertToInteractive('df-6e549888-3286-4cb1-b5b5-9ebe88905352')\"\n",
       "              title=\"Convert this dataframe to an interactive table.\"\n",
       "              style=\"display:none;\">\n",
       "        \n",
       "  <svg xmlns=\"http://www.w3.org/2000/svg\" height=\"24px\"viewBox=\"0 0 24 24\"\n",
       "       width=\"24px\">\n",
       "    <path d=\"M0 0h24v24H0V0z\" fill=\"none\"/>\n",
       "    <path d=\"M18.56 5.44l.94 2.06.94-2.06 2.06-.94-2.06-.94-.94-2.06-.94 2.06-2.06.94zm-11 1L8.5 8.5l.94-2.06 2.06-.94-2.06-.94L8.5 2.5l-.94 2.06-2.06.94zm10 10l.94 2.06.94-2.06 2.06-.94-2.06-.94-.94-2.06-.94 2.06-2.06.94z\"/><path d=\"M17.41 7.96l-1.37-1.37c-.4-.4-.92-.59-1.43-.59-.52 0-1.04.2-1.43.59L10.3 9.45l-7.72 7.72c-.78.78-.78 2.05 0 2.83L4 21.41c.39.39.9.59 1.41.59.51 0 1.02-.2 1.41-.59l7.78-7.78 2.81-2.81c.8-.78.8-2.07 0-2.86zM5.41 20L4 18.59l7.72-7.72 1.47 1.35L5.41 20z\"/>\n",
       "  </svg>\n",
       "      </button>\n",
       "      \n",
       "  <style>\n",
       "    .colab-df-container {\n",
       "      display:flex;\n",
       "      flex-wrap:wrap;\n",
       "      gap: 12px;\n",
       "    }\n",
       "\n",
       "    .colab-df-convert {\n",
       "      background-color: #E8F0FE;\n",
       "      border: none;\n",
       "      border-radius: 50%;\n",
       "      cursor: pointer;\n",
       "      display: none;\n",
       "      fill: #1967D2;\n",
       "      height: 32px;\n",
       "      padding: 0 0 0 0;\n",
       "      width: 32px;\n",
       "    }\n",
       "\n",
       "    .colab-df-convert:hover {\n",
       "      background-color: #E2EBFA;\n",
       "      box-shadow: 0px 1px 2px rgba(60, 64, 67, 0.3), 0px 1px 3px 1px rgba(60, 64, 67, 0.15);\n",
       "      fill: #174EA6;\n",
       "    }\n",
       "\n",
       "    [theme=dark] .colab-df-convert {\n",
       "      background-color: #3B4455;\n",
       "      fill: #D2E3FC;\n",
       "    }\n",
       "\n",
       "    [theme=dark] .colab-df-convert:hover {\n",
       "      background-color: #434B5C;\n",
       "      box-shadow: 0px 1px 3px 1px rgba(0, 0, 0, 0.15);\n",
       "      filter: drop-shadow(0px 1px 2px rgba(0, 0, 0, 0.3));\n",
       "      fill: #FFFFFF;\n",
       "    }\n",
       "  </style>\n",
       "\n",
       "      <script>\n",
       "        const buttonEl =\n",
       "          document.querySelector('#df-6e549888-3286-4cb1-b5b5-9ebe88905352 button.colab-df-convert');\n",
       "        buttonEl.style.display =\n",
       "          google.colab.kernel.accessAllowed ? 'block' : 'none';\n",
       "\n",
       "        async function convertToInteractive(key) {\n",
       "          const element = document.querySelector('#df-6e549888-3286-4cb1-b5b5-9ebe88905352');\n",
       "          const dataTable =\n",
       "            await google.colab.kernel.invokeFunction('convertToInteractive',\n",
       "                                                     [key], {});\n",
       "          if (!dataTable) return;\n",
       "\n",
       "          const docLinkHtml = 'Like what you see? Visit the ' +\n",
       "            '<a target=\"_blank\" href=https://colab.research.google.com/notebooks/data_table.ipynb>data table notebook</a>'\n",
       "            + ' to learn more about interactive tables.';\n",
       "          element.innerHTML = '';\n",
       "          dataTable['output_type'] = 'display_data';\n",
       "          await google.colab.output.renderOutput(dataTable, element);\n",
       "          const docLink = document.createElement('div');\n",
       "          docLink.innerHTML = docLinkHtml;\n",
       "          element.appendChild(docLink);\n",
       "        }\n",
       "      </script>\n",
       "    </div>\n",
       "  </div>\n",
       "  "
      ],
      "text/plain": [
       "       sex=女性  sex=男性  sex=不明  ...  age=90~94  age=5~9  age=95~99\n",
       "0           1       0       0  ...          0        0          0\n",
       "1           1       0       0  ...          0        0          0\n",
       "2           1       0       0  ...          0        0          0\n",
       "3           1       0       0  ...          0        0          0\n",
       "4           1       0       0  ...          0        0          0\n",
       "...       ...     ...     ...  ...        ...      ...        ...\n",
       "83333       1       0       0  ...          0        0          0\n",
       "83334       1       0       0  ...          0        0          0\n",
       "83335       1       0       0  ...          0        0          0\n",
       "83336       1       0       0  ...          0        0          0\n",
       "83337       0       0       1  ...          0        0          0\n",
       "\n",
       "[83338 rows x 25 columns]"
      ]
     },
     "execution_count": 39,
     "metadata": {},
     "output_type": "execute_result"
    }
   ],
   "source": [
    "create_session_one_hot_features(train_session_df)"
   ]
  },
  {
   "cell_type": "markdown",
   "metadata": {
    "id": "WokRv3tXU5as"
   },
   "source": [
    "### 見えているログの情報の活用"
   ]
  },
  {
   "cell_type": "markdown",
   "metadata": {
    "id": "9QXKhHCuU5as"
   },
   "source": [
    "今回は予測のとき 180 秒までの部分のログは見ることができます。このログの情報を特徴量にしてみましょう。"
   ]
  },
  {
   "cell_type": "code",
   "execution_count": 40,
   "metadata": {
    "id": "fpkUIALeU5at"
   },
   "outputs": [],
   "source": [
    "# 何回も使うので, 見えるログを `visible_log_df` として定義しておく\n",
    "idx_visible = log_df[\"duration\"] < 180\n",
    "visible_log_df = log_df[idx_visible].reset_index(drop=True)"
   ]
  },
  {
   "cell_type": "markdown",
   "metadata": {
    "id": "-3jFLP8IU5at"
   },
   "source": [
    "このログをつかって、セッションごとの特徴になりそうなものを考えてみましょう!"
   ]
  },
  {
   "cell_type": "markdown",
   "metadata": {
    "id": "Lnfbb4EnU5at"
   },
   "source": [
    "たとえば、最初すごく商品を買っている人かどうかがチーズ購入に影響が大きいかも?と思ったら「セッションごとに購入個数の合計」などを計算してみたくなりますね。"
   ]
  },
  {
   "cell_type": "code",
   "execution_count": 41,
   "metadata": {
    "colab": {
     "base_uri": "https://localhost:8080/"
    },
    "id": "kpmRx3ZIU5at",
    "outputId": "8a42c7df-cd9e-42e8-e413-6ebc6e9b2423"
   },
   "outputs": [
    {
     "data": {
      "text/plain": [
       "session_id\n",
       "00003ee1b7f34620ae81dba533c6d5a544513004fe5688b2a88560e071799c0e    0\n",
       "00011e97d485ffb7f78662972da6032d4103b1628d541f8f0b916fc011a592e6    6\n",
       "000280d2156d179a597167b269a69e5af556725eeaabae21226d755f73bf0bd9    3\n",
       "0002a4a49d2230456ce57f9709b7c97e1ee324906f4ed8993b579d0ef0ed6135    0\n",
       "000383cb2018d041d4976a0e26d2dc0b73918abd5a30c94179441f321aa598c0    3\n",
       "                                                                   ..\n",
       "fffc962b9f45b0059808e4911a71a88e278afd156116ef8f0e2d07983b605718    9\n",
       "fffd70401bffc2d2b7c5980bce4d373d693f6ffa26f0bbe03837bcc6ddd46c25    1\n",
       "fffd9fafd8f535a35e4a5d526298c9ae4bf102d4329a6d8434815b6e0cad272d    3\n",
       "ffff3b41d0dadb1efd1d413aa9e8bbe66349455576c4375b5a9ccce3c4748790    1\n",
       "ffffdde1709024552278324dcbbeb8bc0e2bb39e462eb051ad14457da1c5a257    3\n",
       "Name: n_items, Length: 109130, dtype: int64"
      ]
     },
     "execution_count": 41,
     "metadata": {},
     "output_type": "execute_result"
    }
   ],
   "source": [
    "# セッションごと (groupby) に, 個数 n_items を, 合計 sum する\n",
    "visible_log_df.groupby(\"session_id\")[\"n_items\"].sum()"
   ]
  },
  {
   "cell_type": "markdown",
   "metadata": {
    "id": "zfSCoSxGU5at"
   },
   "source": [
    "すごーくシンプルにするなら「180秒まででどれだけせかせか動いているか (イベント件数がいくつあるか)」 もその一つですね。"
   ]
  },
  {
   "cell_type": "code",
   "execution_count": 42,
   "metadata": {
    "colab": {
     "base_uri": "https://localhost:8080/"
    },
    "id": "pHGBw3yvU5at",
    "outputId": "6e1055c2-5fbc-40bd-9521-c5b6144d34f6"
   },
   "outputs": [
    {
     "data": {
      "text/plain": [
       "session_id\n",
       "00003ee1b7f34620ae81dba533c6d5a544513004fe5688b2a88560e071799c0e    1\n",
       "00011e97d485ffb7f78662972da6032d4103b1628d541f8f0b916fc011a592e6    7\n",
       "000280d2156d179a597167b269a69e5af556725eeaabae21226d755f73bf0bd9    6\n",
       "0002a4a49d2230456ce57f9709b7c97e1ee324906f4ed8993b579d0ef0ed6135    1\n",
       "000383cb2018d041d4976a0e26d2dc0b73918abd5a30c94179441f321aa598c0    4\n",
       "                                                                   ..\n",
       "fffc962b9f45b0059808e4911a71a88e278afd156116ef8f0e2d07983b605718    8\n",
       "fffd70401bffc2d2b7c5980bce4d373d693f6ffa26f0bbe03837bcc6ddd46c25    2\n",
       "fffd9fafd8f535a35e4a5d526298c9ae4bf102d4329a6d8434815b6e0cad272d    4\n",
       "ffff3b41d0dadb1efd1d413aa9e8bbe66349455576c4375b5a9ccce3c4748790    2\n",
       "ffffdde1709024552278324dcbbeb8bc0e2bb39e462eb051ad14457da1c5a257    4\n",
       "Length: 109130, dtype: int64"
      ]
     },
     "execution_count": 42,
     "metadata": {},
     "output_type": "execute_result"
    }
   ],
   "source": [
    "# セッションごとにイベントが何件あるか\n",
    "visible_log_df.groupby(\"session_id\").size()"
   ]
  },
  {
   "cell_type": "markdown",
   "metadata": {
    "id": "1EZB6JZSU5au"
   },
   "source": [
    "別の人は「いろんな商品を買うような人は目移りするからチーズも買うかも?」と考えるかも知れません。これを表す情報の一つは「セッションごとの商品のユニーク数」ですね。"
   ]
  },
  {
   "cell_type": "code",
   "execution_count": 43,
   "metadata": {
    "colab": {
     "base_uri": "https://localhost:8080/"
    },
    "id": "I63yrsmKU5au",
    "outputId": "cc5fbe9c-83f2-4653-df05-32c74158772d"
   },
   "outputs": [
    {
     "data": {
      "text/plain": [
       "session_id\n",
       "00003ee1b7f34620ae81dba533c6d5a544513004fe5688b2a88560e071799c0e    0\n",
       "00011e97d485ffb7f78662972da6032d4103b1628d541f8f0b916fc011a592e6    4\n",
       "000280d2156d179a597167b269a69e5af556725eeaabae21226d755f73bf0bd9    3\n",
       "0002a4a49d2230456ce57f9709b7c97e1ee324906f4ed8993b579d0ef0ed6135    0\n",
       "000383cb2018d041d4976a0e26d2dc0b73918abd5a30c94179441f321aa598c0    2\n",
       "                                                                   ..\n",
       "fffc962b9f45b0059808e4911a71a88e278afd156116ef8f0e2d07983b605718    3\n",
       "fffd70401bffc2d2b7c5980bce4d373d693f6ffa26f0bbe03837bcc6ddd46c25    1\n",
       "fffd9fafd8f535a35e4a5d526298c9ae4bf102d4329a6d8434815b6e0cad272d    3\n",
       "ffff3b41d0dadb1efd1d413aa9e8bbe66349455576c4375b5a9ccce3c4748790    1\n",
       "ffffdde1709024552278324dcbbeb8bc0e2bb39e462eb051ad14457da1c5a257    3\n",
       "Name: JAN, Length: 109130, dtype: int64"
      ]
     },
     "execution_count": 43,
     "metadata": {},
     "output_type": "execute_result"
    }
   ],
   "source": [
    "visible_log_df.groupby(\"session_id\")[\"JAN\"].nunique()"
   ]
  },
  {
   "cell_type": "markdown",
   "metadata": {
    "id": "kQmGcD8MU5au"
   },
   "source": [
    "#### NOTE:\n",
    "\n",
    "* 他にも色々と考えることが出来るでしょう。データを見て色々なことを想像して、面白い特徴量を作ってみましょう!"
   ]
  },
  {
   "cell_type": "markdown",
   "metadata": {
    "id": "0ro5b0xKU5au"
   },
   "source": [
    "----\n",
    "\n",
    "では上記で作ったセッションごとの特徴を作成する関数を作ります。集計 (groupby) はすべて `session_id` でされているので `pd.concat` で横方向にくっつけることができます。"
   ]
  },
  {
   "cell_type": "code",
   "execution_count": 44,
   "metadata": {
    "colab": {
     "base_uri": "https://localhost:8080/",
     "height": 455
    },
    "id": "G5paBTIgU5au",
    "outputId": "3231807e-b7cc-42d9-b0b3-942c7d294cb1"
   },
   "outputs": [
    {
     "data": {
      "text/html": [
       "\n",
       "  <div id=\"df-02988024-03a6-496a-b9c9-923de663ebae\">\n",
       "    <div class=\"colab-df-container\">\n",
       "      <div>\n",
       "<style scoped>\n",
       "    .dataframe tbody tr th:only-of-type {\n",
       "        vertical-align: middle;\n",
       "    }\n",
       "\n",
       "    .dataframe tbody tr th {\n",
       "        vertical-align: top;\n",
       "    }\n",
       "\n",
       "    .dataframe thead th {\n",
       "        text-align: right;\n",
       "    }\n",
       "</style>\n",
       "<table border=\"1\" class=\"dataframe\">\n",
       "  <thead>\n",
       "    <tr style=\"text-align: right;\">\n",
       "      <th></th>\n",
       "      <th>log_size</th>\n",
       "      <th>n_items_sum</th>\n",
       "      <th>jan_uniques</th>\n",
       "    </tr>\n",
       "    <tr>\n",
       "      <th>session_id</th>\n",
       "      <th></th>\n",
       "      <th></th>\n",
       "      <th></th>\n",
       "    </tr>\n",
       "  </thead>\n",
       "  <tbody>\n",
       "    <tr>\n",
       "      <th>00003ee1b7f34620ae81dba533c6d5a544513004fe5688b2a88560e071799c0e</th>\n",
       "      <td>1</td>\n",
       "      <td>0</td>\n",
       "      <td>0</td>\n",
       "    </tr>\n",
       "    <tr>\n",
       "      <th>00011e97d485ffb7f78662972da6032d4103b1628d541f8f0b916fc011a592e6</th>\n",
       "      <td>7</td>\n",
       "      <td>6</td>\n",
       "      <td>4</td>\n",
       "    </tr>\n",
       "    <tr>\n",
       "      <th>000280d2156d179a597167b269a69e5af556725eeaabae21226d755f73bf0bd9</th>\n",
       "      <td>6</td>\n",
       "      <td>3</td>\n",
       "      <td>3</td>\n",
       "    </tr>\n",
       "    <tr>\n",
       "      <th>0002a4a49d2230456ce57f9709b7c97e1ee324906f4ed8993b579d0ef0ed6135</th>\n",
       "      <td>1</td>\n",
       "      <td>0</td>\n",
       "      <td>0</td>\n",
       "    </tr>\n",
       "    <tr>\n",
       "      <th>000383cb2018d041d4976a0e26d2dc0b73918abd5a30c94179441f321aa598c0</th>\n",
       "      <td>4</td>\n",
       "      <td>3</td>\n",
       "      <td>2</td>\n",
       "    </tr>\n",
       "    <tr>\n",
       "      <th>...</th>\n",
       "      <td>...</td>\n",
       "      <td>...</td>\n",
       "      <td>...</td>\n",
       "    </tr>\n",
       "    <tr>\n",
       "      <th>fffc962b9f45b0059808e4911a71a88e278afd156116ef8f0e2d07983b605718</th>\n",
       "      <td>8</td>\n",
       "      <td>9</td>\n",
       "      <td>3</td>\n",
       "    </tr>\n",
       "    <tr>\n",
       "      <th>fffd70401bffc2d2b7c5980bce4d373d693f6ffa26f0bbe03837bcc6ddd46c25</th>\n",
       "      <td>2</td>\n",
       "      <td>1</td>\n",
       "      <td>1</td>\n",
       "    </tr>\n",
       "    <tr>\n",
       "      <th>fffd9fafd8f535a35e4a5d526298c9ae4bf102d4329a6d8434815b6e0cad272d</th>\n",
       "      <td>4</td>\n",
       "      <td>3</td>\n",
       "      <td>3</td>\n",
       "    </tr>\n",
       "    <tr>\n",
       "      <th>ffff3b41d0dadb1efd1d413aa9e8bbe66349455576c4375b5a9ccce3c4748790</th>\n",
       "      <td>2</td>\n",
       "      <td>1</td>\n",
       "      <td>1</td>\n",
       "    </tr>\n",
       "    <tr>\n",
       "      <th>ffffdde1709024552278324dcbbeb8bc0e2bb39e462eb051ad14457da1c5a257</th>\n",
       "      <td>4</td>\n",
       "      <td>3</td>\n",
       "      <td>3</td>\n",
       "    </tr>\n",
       "  </tbody>\n",
       "</table>\n",
       "<p>109130 rows × 3 columns</p>\n",
       "</div>\n",
       "      <button class=\"colab-df-convert\" onclick=\"convertToInteractive('df-02988024-03a6-496a-b9c9-923de663ebae')\"\n",
       "              title=\"Convert this dataframe to an interactive table.\"\n",
       "              style=\"display:none;\">\n",
       "        \n",
       "  <svg xmlns=\"http://www.w3.org/2000/svg\" height=\"24px\"viewBox=\"0 0 24 24\"\n",
       "       width=\"24px\">\n",
       "    <path d=\"M0 0h24v24H0V0z\" fill=\"none\"/>\n",
       "    <path d=\"M18.56 5.44l.94 2.06.94-2.06 2.06-.94-2.06-.94-.94-2.06-.94 2.06-2.06.94zm-11 1L8.5 8.5l.94-2.06 2.06-.94-2.06-.94L8.5 2.5l-.94 2.06-2.06.94zm10 10l.94 2.06.94-2.06 2.06-.94-2.06-.94-.94-2.06-.94 2.06-2.06.94z\"/><path d=\"M17.41 7.96l-1.37-1.37c-.4-.4-.92-.59-1.43-.59-.52 0-1.04.2-1.43.59L10.3 9.45l-7.72 7.72c-.78.78-.78 2.05 0 2.83L4 21.41c.39.39.9.59 1.41.59.51 0 1.02-.2 1.41-.59l7.78-7.78 2.81-2.81c.8-.78.8-2.07 0-2.86zM5.41 20L4 18.59l7.72-7.72 1.47 1.35L5.41 20z\"/>\n",
       "  </svg>\n",
       "      </button>\n",
       "      \n",
       "  <style>\n",
       "    .colab-df-container {\n",
       "      display:flex;\n",
       "      flex-wrap:wrap;\n",
       "      gap: 12px;\n",
       "    }\n",
       "\n",
       "    .colab-df-convert {\n",
       "      background-color: #E8F0FE;\n",
       "      border: none;\n",
       "      border-radius: 50%;\n",
       "      cursor: pointer;\n",
       "      display: none;\n",
       "      fill: #1967D2;\n",
       "      height: 32px;\n",
       "      padding: 0 0 0 0;\n",
       "      width: 32px;\n",
       "    }\n",
       "\n",
       "    .colab-df-convert:hover {\n",
       "      background-color: #E2EBFA;\n",
       "      box-shadow: 0px 1px 2px rgba(60, 64, 67, 0.3), 0px 1px 3px 1px rgba(60, 64, 67, 0.15);\n",
       "      fill: #174EA6;\n",
       "    }\n",
       "\n",
       "    [theme=dark] .colab-df-convert {\n",
       "      background-color: #3B4455;\n",
       "      fill: #D2E3FC;\n",
       "    }\n",
       "\n",
       "    [theme=dark] .colab-df-convert:hover {\n",
       "      background-color: #434B5C;\n",
       "      box-shadow: 0px 1px 3px 1px rgba(0, 0, 0, 0.15);\n",
       "      filter: drop-shadow(0px 1px 2px rgba(0, 0, 0, 0.3));\n",
       "      fill: #FFFFFF;\n",
       "    }\n",
       "  </style>\n",
       "\n",
       "      <script>\n",
       "        const buttonEl =\n",
       "          document.querySelector('#df-02988024-03a6-496a-b9c9-923de663ebae button.colab-df-convert');\n",
       "        buttonEl.style.display =\n",
       "          google.colab.kernel.accessAllowed ? 'block' : 'none';\n",
       "\n",
       "        async function convertToInteractive(key) {\n",
       "          const element = document.querySelector('#df-02988024-03a6-496a-b9c9-923de663ebae');\n",
       "          const dataTable =\n",
       "            await google.colab.kernel.invokeFunction('convertToInteractive',\n",
       "                                                     [key], {});\n",
       "          if (!dataTable) return;\n",
       "\n",
       "          const docLinkHtml = 'Like what you see? Visit the ' +\n",
       "            '<a target=\"_blank\" href=https://colab.research.google.com/notebooks/data_table.ipynb>data table notebook</a>'\n",
       "            + ' to learn more about interactive tables.';\n",
       "          element.innerHTML = '';\n",
       "          dataTable['output_type'] = 'display_data';\n",
       "          await google.colab.output.renderOutput(dataTable, element);\n",
       "          const docLink = document.createElement('div');\n",
       "          docLink.innerHTML = docLinkHtml;\n",
       "          element.appendChild(docLink);\n",
       "        }\n",
       "      </script>\n",
       "    </div>\n",
       "  </div>\n",
       "  "
      ],
      "text/plain": [
       "                                                    log_size  ...  jan_uniques\n",
       "session_id                                                    ...             \n",
       "00003ee1b7f34620ae81dba533c6d5a544513004fe5688b...         1  ...            0\n",
       "00011e97d485ffb7f78662972da6032d4103b1628d541f8...         7  ...            4\n",
       "000280d2156d179a597167b269a69e5af556725eeaabae2...         6  ...            3\n",
       "0002a4a49d2230456ce57f9709b7c97e1ee324906f4ed89...         1  ...            0\n",
       "000383cb2018d041d4976a0e26d2dc0b73918abd5a30c94...         4  ...            2\n",
       "...                                                      ...  ...          ...\n",
       "fffc962b9f45b0059808e4911a71a88e278afd156116ef8...         8  ...            3\n",
       "fffd70401bffc2d2b7c5980bce4d373d693f6ffa26f0bbe...         2  ...            1\n",
       "fffd9fafd8f535a35e4a5d526298c9ae4bf102d4329a6d8...         4  ...            3\n",
       "ffff3b41d0dadb1efd1d413aa9e8bbe66349455576c4375...         2  ...            1\n",
       "ffffdde1709024552278324dcbbeb8bc0e2bb39e462eb05...         4  ...            3\n",
       "\n",
       "[109130 rows x 3 columns]"
      ]
     },
     "execution_count": 44,
     "metadata": {},
     "output_type": "execute_result"
    }
   ],
   "source": [
    "agg_df = pd.concat([\n",
    "    # セッションごとにイベントが何件あるか\n",
    "    visible_log_df.groupby(\"session_id\").size().rename(\"log_size\"),\n",
    "    \n",
    "    visible_log_df.groupby(\"session_id\")[\"n_items\"].sum().rename(\"n_items_sum\"),\n",
    "    \n",
    "    visible_log_df.groupby(\"session_id\")[\"JAN\"].nunique().rename(\"jan_uniques\"),\n",
    "], axis=1)\n",
    "\n",
    "agg_df"
   ]
  },
  {
   "cell_type": "markdown",
   "metadata": {
    "id": "dagYwVwwU5av"
   },
   "source": [
    "あとはこれを数値・カテゴリのときと同じように `session_id` で紐付けすればOKです。"
   ]
  },
  {
   "cell_type": "code",
   "execution_count": 45,
   "metadata": {
    "id": "ONmbcnxdU5av"
   },
   "outputs": [],
   "source": [
    "def create_visible_log_feature(input_df):\n",
    "    agg_df = pd.concat([\n",
    "        # セッションごとにイベントが何件あるか\n",
    "        visible_log_df.groupby(\"session_id\").size().rename(\"log_size\"),\n",
    "\n",
    "        visible_log_df.groupby(\"session_id\")[\"n_items\"].sum().rename(\"n_items_sum\"),\n",
    "\n",
    "        visible_log_df.groupby(\"session_id\")[\"JAN\"].nunique().rename(\"jan_uniques\"),\n",
    "    ], axis=1)\n",
    "\n",
    "    return merge_by_session(input_df, right=agg_df).add_prefix(\"visible_log__\").fillna(0)"
   ]
  },
  {
   "cell_type": "markdown",
   "metadata": {
    "id": "Mnqa1rYoU5av"
   },
   "source": [
    "### 全部入りの特徴量を作る"
   ]
  },
  {
   "cell_type": "code",
   "execution_count": 46,
   "metadata": {
    "id": "32GPvGBMU5av"
   },
   "outputs": [],
   "source": [
    "def build_features(input_df):\n",
    "    feature_functions = [\n",
    "        create_distance_to_the_store_feature,\n",
    "        create_start_at_date_feature,\n",
    "        create_session_one_hot_features,\n",
    "        create_visible_log_feature,\n",
    "        # もっと関数を作ったらここに入れていく!\n",
    "        create_percentile_target_encoding_by_userid_feature\n",
    "    ]\n",
    "    \n",
    "    print(\"start build featrures.\")\n",
    "    out_df = pd.DataFrame()\n",
    "\n",
    "    for func in feature_functions:\n",
    "        with Timer(prefix=f\"\\t -run: {func.__name__}...\"):\n",
    "            _df = func(input_df)\n",
    "        out_df = pd.concat([out_df, _df], axis=1)\n",
    "        \n",
    "    return out_df"
   ]
  },
  {
   "cell_type": "code",
   "execution_count": 47,
   "metadata": {
    "colab": {
     "base_uri": "https://localhost:8080/"
    },
    "id": "MwWPrxkhU5av",
    "outputId": "30ee2806-306d-4cb2-a413-3242bd041782"
   },
   "outputs": [
    {
     "name": "stdout",
     "output_type": "stream",
     "text": [
      "start build featrures.\n",
      "\t -run: create_distance_to_the_store_feature... 0.081[s]\n",
      "\t -run: create_start_at_date_feature... 0.092[s]\n",
      "\t -run: create_session_one_hot_features... 0.289[s]\n",
      "\t -run: create_visible_log_feature... 0.766[s]\n",
      "\t -run: create_percentile_target_encoding_by_userid_feature... 3.414[s]\n",
      "start build featrures.\n",
      "\t -run: create_distance_to_the_store_feature... 0.158[s]\n",
      "\t -run: create_start_at_date_feature... 0.165[s]\n",
      "\t -run: create_session_one_hot_features... 0.335[s]\n",
      "\t -run: create_visible_log_feature... 1.285[s]\n",
      "\t -run: create_percentile_target_encoding_by_userid_feature... 1.183[s]\n"
     ]
    }
   ],
   "source": [
    "train_featuer_df = build_features(train_session_df)\n",
    "test_feature_df = build_features(test_session_df)"
   ]
  },
  {
   "cell_type": "code",
   "execution_count": 48,
   "metadata": {
    "id": "VDxk3nkyiKgQ"
   },
   "outputs": [],
   "source": [
    "idx = pd.merge(train_session_df, session_df[[\"session_id\", \"user_id\"]], on = \"session_id\", how = \"left\")[\"user_id\"].isin(pd.merge(test_session_df, session_df[[\"session_id\", \"user_id\"]], on = \"session_id\", how = \"left\")[\"user_id\"].unique())"
   ]
  },
  {
   "cell_type": "code",
   "execution_count": 49,
   "metadata": {
    "id": "Mx5AN-7XiKXs"
   },
   "outputs": [],
   "source": [
    "train_featuer_df.loc[~idx, \"target_encoding_by_userid\"] = np.nan"
   ]
  },
  {
   "cell_type": "code",
   "execution_count": 50,
   "metadata": {
    "id": "wWg3dJ6WU5aw"
   },
   "outputs": [],
   "source": [
    "X, y = train_featuer_df.values, train_session_df[\"y\"].values"
   ]
  },
  {
   "cell_type": "code",
   "execution_count": 51,
   "metadata": {
    "colab": {
     "base_uri": "https://localhost:8080/"
    },
    "id": "zCn9kpmpU5aw",
    "outputId": "d9912f53-9306-438e-957b-adef93e48a5c"
   },
   "outputs": [
    {
     "data": {
      "text/plain": [
       "((83338, 31), (83338,))"
      ]
     },
     "execution_count": 51,
     "metadata": {},
     "output_type": "execute_result"
    }
   ],
   "source": [
    "X.shape, y.shape"
   ]
  },
  {
   "cell_type": "markdown",
   "metadata": {
    "id": "W1_vyUtoU5aw"
   },
   "source": [
    "## 学習を行なう\n",
    "\n",
    "特徴量を作成できたので次にモデルの学習を行っていきます。この時大事になるのが交差検証 (Cross Validation) という考え方です。\n",
    "\n",
    "### Cross Validation とは\n",
    "\n",
    "Cross Validation とは学習用のデータセットを複数に分割してそれぞれの分割で学習・検証のデータセットを作り、モデルの性能を見積もる枠組みのことです。\n",
    "\n",
    "### なんで Cross Validation するの?\n",
    "\n",
    "なぜわざわざ分割するの? (そのまま全部学習で使っちゃえばいいじゃない?) と思われるのが普通だと思います。なぜ分割するかというと学習データの中で今の枠組みの性能(枠組みと言っているのは特徴量・モデルの構成もろもろ全部が含まれるためです)を評価したいからです。手元で評価ができないとLBに出してみて一喜一憂するしかなくなり、結果publicLBにオーバーフィットしてしまうのでよろしくないです。\n",
    "\n",
    "> 仕事的な観点で言ってもLBに出すというのはデプロイ(本番へ反映すること)ですから、本番に出さないとモデルの良し悪しがわからないのはよろしくないですよね?\n",
    "\n",
    "一番ナイーブな戦略は Random と呼ばれるものです。これは何も考えずにとにかくランダムに学習データを分割します。\n",
    "\n",
    "その他にターゲットの分布が同じになるように分割する Stratified と呼ばれる方法もあります。\n",
    "\n",
    "あとは「各分割で特定のグループが重ならないようにする」Group もよく使われます。\n",
    "\n",
    "その他にも時系列で区切る TimeSeriesSplit という方法もあります。\n",
    "\n",
    "### どの分割方法がいいの?\n",
    "\n",
    "いろいろと分割方法があると説明しましたが、どの分割方法が一番良いでしょうか。\n",
    "\n",
    "まず良い分割とはなにかを考えてみましょう。良い分割とは今のモデルがテストデータでどのぐらいの性能を出すかを、検証データで確認できる分割です。\n",
    "\n",
    "これはすなわち、分割された学習/検証用データが、全体の学習/テストデータとの対応関係と一致していることといえるでしょう。\n",
    "したがって分割を決める際には学習データとテストデータの関係性をしらべ、それと同じ分割を採用する必要があります。"
   ]
  },
  {
   "cell_type": "markdown",
   "metadata": {
    "id": "odJGIBhRU5aw"
   },
   "source": [
    "### LightGBM による CrossValidation を用いた学習\n",
    "\n",
    "今回は使う機械学習モデルとして lightGBM を使います。lightGBM は以下のような良い性質があります。\n",
    "\n",
    "* GBDT と呼ばれるアルゴリズムの一種でテーブルデータで性能が高いことが知られている\n",
    "* 欠損値が存在している場合にも自然に取り扱えるため特に処理が必要ない\n",
    "* 特徴重要度をさっと出すことができる\n",
    "* CPU 環境でも高速に学習・推論が行える\n",
    "\n",
    "ほかにも理由はありますが [u++ さんの 「初手LightGBM」をする7つの理由](https://upura.hatenablog.com/entry/2019/10/29/184617) などが参考になります。"
   ]
  },
  {
   "cell_type": "code",
   "execution_count": 52,
   "metadata": {
    "id": "PWy1qnn3U5aw"
   },
   "outputs": [],
   "source": [
    "from sklearn.metrics import roc_auc_score\n",
    "import lightgbm as lgbm\n",
    "\n",
    "def fit_lgbm(X, \n",
    "             y, \n",
    "             cv, \n",
    "             params: dict=None, \n",
    "             verbose: int=50):\n",
    "    \"\"\"lightGBM を CrossValidation の枠組みで学習を行なう function\"\"\"\n",
    "\n",
    "    # パラメータがないときは、空の dict で置き換える\n",
    "    if params is None:\n",
    "        params = {}\n",
    "\n",
    "    models = []\n",
    "    n_records = len(X)\n",
    "    # training data の target と同じだけのゼロ配列を用意\n",
    "    oof_pred = np.zeros((n_records,), dtype=np.float32)\n",
    "\n",
    "    for i, (idx_train, idx_valid) in enumerate(cv): \n",
    "        # この部分が交差検証のところです。データセットを cv instance によって分割します\n",
    "        # training data を trian/valid に分割\n",
    "        x_train, y_train = X[idx_train], y[idx_train]\n",
    "        x_valid, y_valid = X[idx_valid], y[idx_valid]\n",
    "\n",
    "        clf = lgbm.LGBMClassifier(**params)\n",
    "\n",
    "        with Timer(prefix=\"fit fold={} \".format(i)):\n",
    "            clf.fit(x_train, y_train, \n",
    "                    eval_set=[(x_valid, y_valid)],  \n",
    "                    early_stopping_rounds=100,\n",
    "                    verbose=verbose)\n",
    "\n",
    "        pred_i = clf.predict_proba(x_valid)[:, 1]\n",
    "        oof_pred[idx_valid] = pred_i\n",
    "        models.append(clf)\n",
    "        # 今回の指標の macro f1 で計算する\n",
    "        score = roc_auc_score(y_valid, pred_i)\n",
    "        print(f\" - fold{i + 1} - {score:.4f}\")\n",
    "\n",
    "    score = roc_auc_score(y, oof_pred)\n",
    "    print(f\"{score:.4f}\")\n",
    "    return oof_pred, models"
   ]
  },
  {
   "cell_type": "markdown",
   "metadata": {
    "id": "3XffNbQMU5ax"
   },
   "source": [
    "### parameter について\n",
    "\n",
    "LightGBM などの GBDT のパラメータは、そこまでセンシティブではありません。しかし、内部的にどういう意味を持つのかを知っておくと、問題ごとにどういうパラメータが良いかの感覚がわかったり、チューニングする際にも有効なパラメータに絞ってチューニングできますので、重要な変数に関してはその意味についてざっと目を通しておくことをおすすめします。\n",
    "\n",
    "以下参考文献です。\n",
    "\n",
    "\n",
    "* [Parameters Tuning](https://lightgbm.readthedocs.io/en/latest/Parameters-Tuning.html): lightGBM 公式のパラメータチューニングガイド。英語です。\n",
    "* [勾配ブースティングで大事なパラメータの気持ち](https://nykergoto.hatenablog.jp/entry/2019/03/29/%E5%8B%BE%E9%85%8D%E3%83%96%E3%83%BC%E3%82%B9%E3%83%86%E3%82%A3%E3%83%B3%E3%82%B0%E3%81%A7%E5%A4%A7%E4%BA%8B%E3%81%AA%E3%83%91%E3%83%A9%E3%83%A1%E3%83%BC%E3%82%BF%E3%81%AE%E6%B0%97%E6%8C%81%E3%81%A1): 僕の書いた記事。日本語です。"
   ]
  },
  {
   "cell_type": "code",
   "execution_count": 53,
   "metadata": {
    "id": "tgp-8eJCU5ax"
   },
   "outputs": [],
   "source": [
    "goto_params = {\n",
    "    # 目的関数. これの意味で最小となるようなパラメータを探します. \n",
    "    \"objective\": \"binary\", \n",
    "\n",
    "     # 学習率. 小さいほどなめらかな決定境界が作られて性能向上に繋がる場合が多いです、\n",
    "    # がそれだけ木を作るため学習に時間がかかります\n",
    "    \"learning_rate\": .1,\n",
    "\n",
    "    # L2 Reguralization\n",
    "    \"reg_lambda\": .1,\n",
    "    # こちらは L1 \n",
    "    \"reg_alpha\": 0,\n",
    "\n",
    "    # 木の深さ. 深い木を許容するほどより複雑な交互作用を考慮するようになります\n",
    "    \"max_depth\": 5, \n",
    "\n",
    "    # 木の最大数. early_stopping という枠組みで木の数は制御されるようにしていますのでとても大きい値を指定しておきます.\n",
    "    \"n_estimators\": 10000, \n",
    "\n",
    "    # 木を作る際に考慮する特徴量の割合. 1以下を指定すると特徴をランダムに欠落させます。小さくすることで, まんべんなく特徴を使うという効果があります.\n",
    "    \"colsample_bytree\": .5, \n",
    "\n",
    "    # 最小分割でのデータ数. 小さいとより細かい粒度の分割方法を許容します.\n",
    "    \"min_child_samples\": 10,\n",
    "\n",
    "    # bagging の頻度と割合\n",
    "    \"subsample_freq\": 3,\n",
    "    \"subsample\": .9,\n",
    "\n",
    "    # 特徴重要度計算のロジック(後述)\n",
    "    \"importance_type\": \"gain\", \n",
    "    \"random_state\": 71,\n",
    "}"
   ]
  },
  {
   "cell_type": "code",
   "execution_count": 54,
   "metadata": {
    "colab": {
     "base_uri": "https://localhost:8080/"
    },
    "id": "5TLLJv4YU5ax",
    "outputId": "2b68a147-661d-4978-86e6-9628169a7fb0"
   },
   "outputs": [
    {
     "name": "stdout",
     "output_type": "stream",
     "text": [
      "Training until validation scores don't improve for 100 rounds.\n",
      "[50]\tvalid_0's binary_logloss: 0.255836\n",
      "[100]\tvalid_0's binary_logloss: 0.255618\n",
      "[150]\tvalid_0's binary_logloss: 0.255664\n",
      "Early stopping, best iteration is:\n",
      "[82]\tvalid_0's binary_logloss: 0.255583\n",
      "fit fold=0  18.193[s]\n",
      " - fold1 - 0.6714\n",
      "Training until validation scores don't improve for 100 rounds.\n",
      "[50]\tvalid_0's binary_logloss: 0.255495\n",
      "[100]\tvalid_0's binary_logloss: 0.256009\n",
      "Early stopping, best iteration is:\n",
      "[44]\tvalid_0's binary_logloss: 0.255447\n",
      "fit fold=1  1.368[s]\n",
      " - fold2 - 0.6569\n",
      "Training until validation scores don't improve for 100 rounds.\n",
      "[50]\tvalid_0's binary_logloss: 0.288803\n",
      "[100]\tvalid_0's binary_logloss: 0.289157\n",
      "[150]\tvalid_0's binary_logloss: 0.289671\n",
      "Early stopping, best iteration is:\n",
      "[50]\tvalid_0's binary_logloss: 0.288803\n",
      "fit fold=2  1.424[s]\n",
      " - fold3 - 0.6667\n",
      "Training until validation scores don't improve for 100 rounds.\n",
      "[50]\tvalid_0's binary_logloss: 0.255437\n",
      "[100]\tvalid_0's binary_logloss: 0.256038\n",
      "[150]\tvalid_0's binary_logloss: 0.256501\n",
      "Early stopping, best iteration is:\n",
      "[52]\tvalid_0's binary_logloss: 0.255344\n",
      "fit fold=3  1.434[s]\n",
      " - fold4 - 0.6603\n",
      "Training until validation scores don't improve for 100 rounds.\n",
      "[50]\tvalid_0's binary_logloss: 0.254628\n",
      "[100]\tvalid_0's binary_logloss: 0.254905\n",
      "[150]\tvalid_0's binary_logloss: 0.255253\n",
      "Early stopping, best iteration is:\n",
      "[77]\tvalid_0's binary_logloss: 0.254546\n",
      "fit fold=4  1.693[s]\n",
      " - fold5 - 0.6694\n",
      "0.6642\n"
     ]
    }
   ],
   "source": [
    "oof, models = fit_lgbm(X=X, y=y, cv=cv, params=goto_params)"
   ]
  },
  {
   "cell_type": "markdown",
   "metadata": {
    "id": "43M9FobAU5ax"
   },
   "source": [
    "### 学習済みモデルを理解する\n",
    "\n",
    "LightGBM など木系のモデルではどの特徴量で分割を行ってどれだけ目的変数を説明しているかを特徴重要度 (feature importance) として出力することができます。これを見ることで\n",
    "\n",
    "* どの特徴量が大事なのか\n",
    "* どの特徴量はあまり大事ではないか\n",
    "\n",
    "といった特徴量に関する情報を得ることができます。これによって、例えば重要となった特徴量を使う別の特徴を考えたり、反対に大事ではない特徴を削ったりといったインサイトを得ることが可能です。また何故この予測が出てくるかの解釈をする上でも有用です。\n",
    "\n",
    "note: 今回利用した lightGBM は内部的に特徴の値での IF をたくさん重ねているモデルなので、どの特徴で IF を作っているか + それによって予測性能がどのぐらい改善するかを利用して特徴量ごとの貢献度 (特徴重要度) を算出することができます。"
   ]
  },
  {
   "cell_type": "code",
   "execution_count": 55,
   "metadata": {
    "colab": {
     "base_uri": "https://localhost:8080/",
     "height": 929
    },
    "id": "47f8fyGdU5ax",
    "outputId": "d786a97e-bdb8-4750-b951-5be5c1333bef"
   },
   "outputs": [
    {
     "name": "stderr",
     "output_type": "stream",
     "text": [
      "/usr/local/lib/python3.7/dist-packages/matplotlib/backends/backend_agg.py:214: RuntimeWarning: Glyph 22899 missing from current font.\n",
      "  font.set_text(s, 0.0, flags=flags)\n",
      "/usr/local/lib/python3.7/dist-packages/matplotlib/backends/backend_agg.py:214: RuntimeWarning: Glyph 24615 missing from current font.\n",
      "  font.set_text(s, 0.0, flags=flags)\n",
      "/usr/local/lib/python3.7/dist-packages/matplotlib/backends/backend_agg.py:214: RuntimeWarning: Glyph 30007 missing from current font.\n",
      "  font.set_text(s, 0.0, flags=flags)\n",
      "/usr/local/lib/python3.7/dist-packages/matplotlib/backends/backend_agg.py:214: RuntimeWarning: Glyph 19981 missing from current font.\n",
      "  font.set_text(s, 0.0, flags=flags)\n",
      "/usr/local/lib/python3.7/dist-packages/matplotlib/backends/backend_agg.py:214: RuntimeWarning: Glyph 26126 missing from current font.\n",
      "  font.set_text(s, 0.0, flags=flags)\n",
      "/usr/local/lib/python3.7/dist-packages/matplotlib/backends/backend_agg.py:183: RuntimeWarning: Glyph 22899 missing from current font.\n",
      "  font.set_text(s, 0, flags=flags)\n",
      "/usr/local/lib/python3.7/dist-packages/matplotlib/backends/backend_agg.py:183: RuntimeWarning: Glyph 24615 missing from current font.\n",
      "  font.set_text(s, 0, flags=flags)\n",
      "/usr/local/lib/python3.7/dist-packages/matplotlib/backends/backend_agg.py:183: RuntimeWarning: Glyph 30007 missing from current font.\n",
      "  font.set_text(s, 0, flags=flags)\n",
      "/usr/local/lib/python3.7/dist-packages/matplotlib/backends/backend_agg.py:183: RuntimeWarning: Glyph 19981 missing from current font.\n",
      "  font.set_text(s, 0, flags=flags)\n",
      "/usr/local/lib/python3.7/dist-packages/matplotlib/backends/backend_agg.py:183: RuntimeWarning: Glyph 26126 missing from current font.\n",
      "  font.set_text(s, 0, flags=flags)\n"
     ]
    },
    {
     "data": {
      "image/png": "[encoded data removed]",
      "text/plain": [
       "<Figure size 576x558 with 1 Axes>"
      ]
     },
     "metadata": {
      "needs_background": "light"
     },
     "output_type": "display_data"
    }
   ],
   "source": [
    "def visualize_importance(models, feat_train_df):\n",
    "    \"\"\"lightGBM の model 配列の feature importance を plot する\n",
    "    CVごとのブレを boxen plot として表現します.\n",
    "\n",
    "    args:\n",
    "        models:\n",
    "            List of lightGBM models\n",
    "        feat_train_df:\n",
    "            学習時に使った DataFrame\n",
    "    \"\"\"\n",
    "    feature_importance_df = pd.DataFrame()\n",
    "    for i, model in enumerate(models):\n",
    "        _df = pd.DataFrame()\n",
    "        _df[\"feature_importance\"] = model.feature_importances_\n",
    "        _df[\"column\"] = feat_train_df.columns\n",
    "        _df[\"fold\"] = i + 1\n",
    "        feature_importance_df = pd.concat([feature_importance_df, _df], \n",
    "                                          axis=0, ignore_index=True)\n",
    "\n",
    "    order = feature_importance_df.groupby(\"column\")\\\n",
    "        .sum()[[\"feature_importance\"]]\\\n",
    "        .sort_values(\"feature_importance\", ascending=False).index[:50]\n",
    "\n",
    "    fig, ax = plt.subplots(figsize=(8, max(6, len(order) * .25)))\n",
    "    sns.boxenplot(data=feature_importance_df, \n",
    "                  x=\"feature_importance\", \n",
    "                  y=\"column\", \n",
    "                  order=order, \n",
    "                  ax=ax, \n",
    "                  palette=\"viridis\", \n",
    "                  orient=\"h\")\n",
    "    ax.tick_params(axis=\"x\", rotation=90)\n",
    "    ax.set_title(\"Importance\")\n",
    "    ax.grid()\n",
    "    fig.tight_layout()\n",
    "    return fig, ax\n",
    "\n",
    "fig, ax = visualize_importance(models, train_featuer_df)"
   ]
  },
  {
   "cell_type": "markdown",
   "metadata": {
    "id": "x5QpSx7iU5ay"
   },
   "source": [
    "feature_importance は値が大きいほど有効な分割であることを意味します。これを解釈すると…\n",
    "\n",
    "* 店舗までの距離情報がもっとも有効です。\n",
    "    * ユーザの属性情報が大事そうです。\n",
    "    * ただ属性の中でも大事なものとそうでないもの (年齢・性別 << 距離) がありそうです。\n",
    "* 二番目に大事なのは曜日でした。\n",
    "* 当日のログ情報はそれなりに有効です。直感にあっていてホッとしますね。"
   ]
  },
  {
   "cell_type": "code",
   "execution_count": 56,
   "metadata": {
    "colab": {
     "base_uri": "https://localhost:8080/"
    },
    "id": "pWsrYN1YU5ay",
    "outputId": "e28cc95d-6986-49e9-caae-967f6f8cf874"
   },
   "outputs": [
    {
     "data": {
      "text/plain": [
       "[LGBMClassifier(colsample_bytree=0.5, importance_type='gain', max_depth=5,\n",
       "                min_child_samples=10, n_estimators=10000, objective='binary',\n",
       "                random_state=71, reg_alpha=0, reg_lambda=0.1, subsample=0.9,\n",
       "                subsample_freq=3),\n",
       " LGBMClassifier(colsample_bytree=0.5, importance_type='gain', max_depth=5,\n",
       "                min_child_samples=10, n_estimators=10000, objective='binary',\n",
       "                random_state=71, reg_alpha=0, reg_lambda=0.1, subsample=0.9,\n",
       "                subsample_freq=3),\n",
       " LGBMClassifier(colsample_bytree=0.5, importance_type='gain', max_depth=5,\n",
       "                min_child_samples=10, n_estimators=10000, objective='binary',\n",
       "                random_state=71, reg_alpha=0, reg_lambda=0.1, subsample=0.9,\n",
       "                subsample_freq=3),\n",
       " LGBMClassifier(colsample_bytree=0.5, importance_type='gain', max_depth=5,\n",
       "                min_child_samples=10, n_estimators=10000, objective='binary',\n",
       "                random_state=71, reg_alpha=0, reg_lambda=0.1, subsample=0.9,\n",
       "                subsample_freq=3),\n",
       " LGBMClassifier(colsample_bytree=0.5, importance_type='gain', max_depth=5,\n",
       "                min_child_samples=10, n_estimators=10000, objective='binary',\n",
       "                random_state=71, reg_alpha=0, reg_lambda=0.1, subsample=0.9,\n",
       "                subsample_freq=3)]"
      ]
     },
     "execution_count": 56,
     "metadata": {},
     "output_type": "execute_result"
    }
   ],
   "source": [
    "models"
   ]
  },
  {
   "cell_type": "code",
   "execution_count": 57,
   "metadata": {
    "colab": {
     "base_uri": "https://localhost:8080/"
    },
    "id": "lgBIDykiU5ay",
    "outputId": "66857e14-ca49-4767-8529-28dc961ab846"
   },
   "outputs": [
    {
     "name": "stdout",
     "output_type": "stream",
     "text": [
      "1. shape: (5, 25823, 2)\n",
      "2. shape: (25823, 2)\n",
      "3. shape: (25823,)\n"
     ]
    }
   ],
   "source": [
    "# k 個のモデルの予測確率 (predict_proba) を作成. shape = (k, N_test, n_classes).\n",
    "pred_prob = np.array([model.predict_proba(test_feature_df.values) for model in models])\n",
    "print(f\"1. shape: {pred_prob.shape}\")\n",
    "\n",
    "# k 個のモデルの平均を計算\n",
    "pred_prob = np.mean(pred_prob, axis=0) # axis=0 なので shape の `k` が潰れる \n",
    "print(f\"2. shape: {pred_prob.shape}\")\n",
    "\n",
    "# ほしいのは y=1 の確率なので全要素の 1 次元目を取ってくる\n",
    "pred_prob = pred_prob[:, 1]\n",
    "print(f\"3. shape: {pred_prob.shape}\")"
   ]
  },
  {
   "cell_type": "markdown",
   "metadata": {
    "id": "bVre4XU1U5ay"
   },
   "source": [
    "### テスト時の予測結果の傾向を見ておく\n",
    "\n",
    "どういったラベルが予測されているか? などの傾向を知っておきましょう。また学習時とテスト時で出力の乖離が無いか、を見ることも大事です。乖離が大きい場合には、入力する値自体が大きく異なっているなどで性能悪化が起こっている可能性があります。"
   ]
  },
  {
   "cell_type": "code",
   "execution_count": 58,
   "metadata": {
    "colab": {
     "base_uri": "https://localhost:8080/",
     "height": 467
    },
    "id": "x9P2GSy5U5ay",
    "outputId": "5e7a6239-b850-4c39-9f86-0b214b4f5e40"
   },
   "outputs": [
    {
     "name": "stderr",
     "output_type": "stream",
     "text": [
      "/usr/local/lib/python3.7/dist-packages/seaborn/distributions.py:2619: FutureWarning: `distplot` is a deprecated function and will be removed in a future version. Please adapt your code to use either `displot` (a figure-level function with similar flexibility) or `histplot` (an axes-level function for histograms).\n",
      "  warnings.warn(msg, FutureWarning)\n",
      "/usr/local/lib/python3.7/dist-packages/seaborn/distributions.py:2619: FutureWarning: `distplot` is a deprecated function and will be removed in a future version. Please adapt your code to use either `displot` (a figure-level function with similar flexibility) or `histplot` (an axes-level function for histograms).\n",
      "  warnings.warn(msg, FutureWarning)\n"
     ]
    },
    {
     "data": {
      "image/png": "[encoded data removed]",
      "text/plain": [
       "<Figure size 720x432 with 1 Axes>"
      ]
     },
     "metadata": {
      "needs_background": "light"
     },
     "output_type": "display_data"
    }
   ],
   "source": [
    "fig, ax = plt.subplots(figsize=(10, 6))\n",
    "\n",
    "sns.distplot(pred_prob, ax=ax, label=\"Test\")\n",
    "sns.distplot(oof, ax=ax, label=\"Out Of Fold (Train)\")\n",
    "ax.legend()\n",
    "ax.grid()"
   ]
  },
  {
   "cell_type": "markdown",
   "metadata": {
    "id": "EFuwAUUpU5az"
   },
   "source": [
    "#### NOTE: テストでの乖離が大きい・はどういうことか\n",
    "\n",
    "テストの予測値の乖離が大きい場合の原因はいくつか考えられますが「テスト時に使えない情報を特徴量としてつかっていないか?」を最も警戒してください。\n",
    "\n",
    "テスト時に使えない特徴 A を利用してモデルを作っていると、学習時に A をみるようなモデルが出来る可能性があり、テスト時にそれを参照できないことで予測が上手く行かない場合があります。\n",
    "\n",
    "もっとも極端なのは A が予測ラベルそのものである場合です。学習時は予測ラベルを参照できますから、それこそ精度100%で予測できるようなモデルができますが、テスト時には当然予測ラベルはわかりませんので、精度は大きく悪化するでしょう。このように予測ラベルの情報が学習時の特徴量に染み出してしまった結果学習が上手く行かないことをリークとよびます。\n",
    "\n",
    "テストでの乖離が起こるのはリークの場合だけではありませんが、あまりに大きく異なる場合にはリークを含め、特徴量の選定に問題がないかを検討してください。"
   ]
  },
  {
   "cell_type": "markdown",
   "metadata": {
    "id": "rACeGQnvU5az"
   },
   "source": [
    "### Submission の作成"
   ]
  },
  {
   "cell_type": "code",
   "execution_count": 59,
   "metadata": {
    "id": "Jot00vuMU5az"
   },
   "outputs": [],
   "source": [
    "pd.DataFrame({\n",
    "    \"target\": pred_prob\n",
    "}).to_csv(os.path.join(OUTPUT_DIR, \"percentile_target_encoding.csv\"), index=False)"
   ]
  },
  {
   "cell_type": "code",
   "execution_count": 59,
   "metadata": {
    "id": "6_hbcS-oX_Zn"
   },
   "outputs": [],
   "source": []
  }
 ],
 "metadata": {
  "colab": {
   "collapsed_sections": [
    "EFuwAUUpU5az"
   ],
   "name": "パーセンタイルを用いたtarget_encoding.ipynb",
   "provenance": []
  },
  "kernelspec": {
   "display_name": "Python 3",
   "language": "python",
   "name": "python3"
  },
  "language_info": {
   "codemirror_mode": {
    "name": "ipython",
    "version": 3
   },
   "file_extension": ".py",
   "mimetype": "text/x-python",
   "name": "python",
   "nbconvert_exporter": "python",
   "pygments_lexer": "ipython3",
   "version": "3.9.2"
  }
 },
 "nbformat": 4,
 "nbformat_minor": 4
}
