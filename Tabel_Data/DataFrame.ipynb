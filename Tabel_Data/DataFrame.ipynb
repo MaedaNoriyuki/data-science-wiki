{
 "cells": [
  {
   "cell_type": "code",
   "execution_count": null,
   "id": "d4038947-6dce-4581-9755-ff36fdb0aa5f",
   "metadata": {},
   "outputs": [],
   "source": [
    "# DataFrameのカラムを省略せずに表示 \n",
    "pd.set_option('display.max_columns', 150)\n",
    "# DataFrameの行を省略せずに表示\n",
    "pd.set_option('display.max_rows', 100)\n",
    "df.head()"
   ]
  },
  {
   "cell_type": "markdown",
   "id": "7eef17e4-e471-43f5-b8f1-af79657787d2",
   "metadata": {},
   "source": [
    "# リスト，DataFrame間の操作\n",
    "![操作](image/list_dataframe.png)"
   ]
  },
  {
   "cell_type": "code",
   "execution_count": null,
   "id": "1a67ec5d-4b00-4239-a8e1-15c65af145a5",
   "metadata": {},
   "outputs": [],
   "source": []
  }
 ],
 "metadata": {
  "kernelspec": {
   "display_name": "Python 3",
   "language": "python",
   "name": "python3"
  },
  "language_info": {
   "codemirror_mode": {
    "name": "ipython",
    "version": 3
   },
   "file_extension": ".py",
   "mimetype": "text/x-python",
   "name": "python",
   "nbconvert_exporter": "python",
   "pygments_lexer": "ipython3",
   "version": "3.9.2"
  }
 },
 "nbformat": 4,
 "nbformat_minor": 5
}
