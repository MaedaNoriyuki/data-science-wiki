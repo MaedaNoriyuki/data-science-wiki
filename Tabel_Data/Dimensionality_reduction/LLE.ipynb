{
 "cells": [
  {
   "cell_type": "markdown",
   "id": "9177ffb7-9cd3-4d11-8ed1-42a64257d2b6",
   "metadata": {},
   "source": [
    "# Locally Linear Embedding"
   ]
  },
  {
   "cell_type": "code",
   "execution_count": null,
   "id": "a82ef228-7fe3-468c-bd31-fe2f1d69847a",
   "metadata": {},
   "outputs": [],
   "source": []
  }
 ],
 "metadata": {
  "kernelspec": {
   "display_name": "Python 3 (ipykernel)",
   "language": "python",
   "name": "python3"
  },
  "language_info": {
   "codemirror_mode": {
    "name": "ipython",
    "version": 3
   },
   "file_extension": ".py",
   "mimetype": "text/x-python",
   "name": "python",
   "nbconvert_exporter": "python",
   "pygments_lexer": "ipython3",
   "version": "3.9.7"
  }
 },
 "nbformat": 4,
 "nbformat_minor": 5
}
