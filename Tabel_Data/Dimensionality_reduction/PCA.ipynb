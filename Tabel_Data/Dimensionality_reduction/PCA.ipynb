{
 "cells": [
  {
   "cell_type": "markdown",
   "metadata": {
    "colab_type": "text",
    "id": "view-in-github"
   },
   "source": [
    "<a href=\"https://colab.research.google.com/github/ToumaTanaka/Data_Science/blob/main/Tabel_Data/Machine_Learning/Unsupervised_Learning/PCA.ipynb\" target=\"_parent\"><img src=\"https://colab.research.google.com/assets/colab-badge.svg\" alt=\"Open In Colab\"/></a>"
   ]
  },
  {
   "cell_type": "markdown",
   "metadata": {
    "id": "H2IKoHGp75pq"
   },
   "source": [
    "# 主成分分析(PCA)\n",
    "多様体学習の一つであり、次元圧縮に用いる。　　"
   ]
  },
  {
   "cell_type": "code",
   "execution_count": null,
   "metadata": {
    "id": "auvGYrW773UY"
   },
   "outputs": [],
   "source": [
    "from sklearn.decomposition import PCA #主成分分析器"
   ]
  },
  {
   "cell_type": "code",
   "execution_count": null,
   "metadata": {
    "id": "5jRBN6d58SNY"
   },
   "outputs": [],
   "source": [
    "import pandas as pd\n",
    "import numpy as np\n",
    "\n",
    "df = #何かしらのデータフレームを用意\n",
    "pca = PCA()\n",
    "\n",
    "#主成分分析の実行\n",
    "pca.fit(df)\n",
    "\n",
    "# データを主成分空間に写像\n",
    "feature = pca.transform(df)\n",
    "\n",
    "# 主成分得点のデータフレームを作成\n",
    "df_pca = pd.DataFrame(feature, columns=[\"PC{}\".format(x + 1) for x in range(len(df.columns))])\n",
    "\n",
    "#主成分得点を表示\n",
    "df_pca.head()"
   ]
  },
  {
   "cell_type": "markdown",
   "metadata": {
    "id": "IwhV6Tyj9Uk0"
   },
   "source": [
    "### 寄与率\n",
    "* 各主成分の重要性を表す\n",
    "* 各主成分によってデータ全体の説明できる割合を表している(合計すると1になる)\n"
   ]
  },
  {
   "cell_type": "code",
   "execution_count": null,
   "metadata": {
    "id": "TkCJtfdy8aPZ"
   },
   "outputs": [],
   "source": [
    "# 寄与率の表示\n",
    "pd.DataFrame(pca.explained_variance_ratio_, index=[\"PC{}\".format(x + 1) for x in range(len(df.columns))]).head(15)"
   ]
  },
  {
   "cell_type": "code",
   "execution_count": null,
   "metadata": {
    "id": "ddtecXVr9S7M"
   },
   "outputs": [],
   "source": [
    "#累積寄与率の表示\n",
    "np.cumsum(pca.explained_variance_ratio_)"
   ]
  },
  {
   "cell_type": "markdown",
   "metadata": {
    "id": "QQAWvAyA-cck"
   },
   "source": [
    "### 因子負荷量\n",
    "* 各変数の各主成分への影響力\n",
    "* 各主成分の意味の推定もできる\n",
    "* 「行」が主成分、「列」が変数"
   ]
  },
  {
   "cell_type": "code",
   "execution_count": null,
   "metadata": {
    "id": "794W9uIw-xM-"
   },
   "outputs": [],
   "source": [
    "pd.DataFrame(pca.components_)"
   ]
  }
 ],
 "metadata": {
  "colab": {
   "authorship_tag": "ABX9TyPThA41TuQJNXmcBflv2Hkl",
   "include_colab_link": true,
   "name": "PCA.ipynb",
   "provenance": []
  },
  "kernelspec": {
   "display_name": "Python 3 (ipykernel)",
   "language": "python",
   "name": "python3"
  },
  "language_info": {
   "codemirror_mode": {
    "name": "ipython",
    "version": 3
   },
   "file_extension": ".py",
   "mimetype": "text/x-python",
   "name": "python",
   "nbconvert_exporter": "python",
   "pygments_lexer": "ipython3",
   "version": "3.9.7"
  }
 },
 "nbformat": 4,
 "nbformat_minor": 4
}
