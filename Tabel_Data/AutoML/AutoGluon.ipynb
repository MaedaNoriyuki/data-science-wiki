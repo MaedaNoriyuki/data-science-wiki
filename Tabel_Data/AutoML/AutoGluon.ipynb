{
 "cells": [
  {
   "cell_type": "markdown",
   "id": "e048dcea-2dd0-44a3-ab3e-ab060147c5cd",
   "metadata": {},
   "source": [
    "# AutoGluon\n",
    "* https://aws.amazon.com/jp/builders-flash/202201/autogluon-tabular-tutorials/?awsf.filter-name=*all"
   ]
  },
  {
   "cell_type": "code",
   "execution_count": null,
   "id": "6bd86842-9dfd-42a5-b83c-6d30dca6d739",
   "metadata": {},
   "outputs": [],
   "source": []
  }
 ],
 "metadata": {
  "kernelspec": {
   "display_name": "Python 3 (ipykernel)",
   "language": "python",
   "name": "python3"
  },
  "language_info": {
   "codemirror_mode": {
    "name": "ipython",
    "version": 3
   },
   "file_extension": ".py",
   "mimetype": "text/x-python",
   "name": "python",
   "nbconvert_exporter": "python",
   "pygments_lexer": "ipython3",
   "version": "3.9.7"
  }
 },
 "nbformat": 4,
 "nbformat_minor": 5
}
