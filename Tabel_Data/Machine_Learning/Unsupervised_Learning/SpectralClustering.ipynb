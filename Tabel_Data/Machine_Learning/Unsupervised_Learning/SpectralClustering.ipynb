{
  "nbformat": 4,
  "nbformat_minor": 0,
  "metadata": {
    "colab": {
      "name": "SpectralClustering.ipynb",
      "provenance": [],
      "authorship_tag": "ABX9TyNX0nBDzIc7OozPfCN8rsqN",
      "include_colab_link": true
    },
    "kernelspec": {
      "name": "python3",
      "display_name": "Python 3"
    },
    "language_info": {
      "name": "python"
    }
  },
  "cells": [
    {
      "cell_type": "markdown",
      "metadata": {
        "id": "view-in-github",
        "colab_type": "text"
      },
      "source": [
        "<a href=\"https://colab.research.google.com/github/ToumaTanaka/Data_Science/blob/main/Tabel_Data/Machine_Learning/Unsupervised_Learning/SpectralClustering.ipynb\" target=\"_parent\"><img src=\"https://colab.research.google.com/assets/colab-badge.svg\" alt=\"Open In Colab\"/></a>"
      ]
    },
    {
      "cell_type": "markdown",
      "metadata": {
        "id": "CgKaD85o0Y8U"
      },
      "source": [
        "## スペクトラルクラスタリング\n",
        "* 線形分離可能でない点群にたいしても分離をすることができる\n",
        "* データが用意できていない、スパイラルデータなどかよい"
      ]
    },
    {
      "cell_type": "code",
      "metadata": {
        "id": "MkdTzeGw0QOo"
      },
      "source": [
        "#以下がスペクトラルクラスタリングに必要なコード\n",
        "from sklearn import cluster\n",
        "\n",
        "import matplotlib.pyplot as plt"
      ],
      "execution_count": 4,
      "outputs": []
    },
    {
      "cell_type": "code",
      "metadata": {
        "id": "7hazNe3D1Bg2"
      },
      "source": [
        "#データの生成\n",
        "x,y = ml.spirals(300, cycles=1, sd=0.05)\n",
        "\n",
        "#スペクトラルクラスタリングの設定\n",
        "sc = cluster.SpectralClustering(n_clusters=2, gamma=300, n_init=100)\n",
        "#スペクトラルクラスタリングの実行\n",
        "sc.fit(x)\n",
        "cl = sc.labels_\n",
        "\n",
        "#プロット\n",
        "plt.scatter(x[cl==0,0],x[cl==0,1],marker='*')\n",
        "plt.scatter(x[cl==0,0],x[cl==0,1],marker='+')\n",
        "plt.show()"
      ],
      "execution_count": null,
      "outputs": []
    }
  ]
}