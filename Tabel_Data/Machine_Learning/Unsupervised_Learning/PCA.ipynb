{
  "nbformat": 4,
  "nbformat_minor": 0,
  "metadata": {
    "colab": {
      "name": "PCA.ipynb",
      "provenance": [],
      "authorship_tag": "ABX9TyO/jSB1C5GpmszcWwLU2OYy",
      "include_colab_link": true
    },
    "kernelspec": {
      "name": "python3",
      "display_name": "Python 3"
    },
    "language_info": {
      "name": "python"
    }
  },
  "cells": [
    {
      "cell_type": "markdown",
      "metadata": {
        "id": "view-in-github",
        "colab_type": "text"
      },
      "source": [
        "<a href=\"https://colab.research.google.com/github/ToumaTanaka/Data_Science/blob/main/Tabel_Data/Machine_Learning/Unsupervised_Learning/PCA.ipynb\" target=\"_parent\"><img src=\"https://colab.research.google.com/assets/colab-badge.svg\" alt=\"Open In Colab\"/></a>"
      ]
    },
    {
      "cell_type": "markdown",
      "metadata": {
        "id": "H2IKoHGp75pq"
      },
      "source": [
        "# 主成分分析(PCA)\n",
        "多様体学習の一つであり、次元圧縮に用いる。　　"
      ]
    },
    {
      "cell_type": "code",
      "metadata": {
        "id": "auvGYrW773UY"
      },
      "source": [
        "from sklearn.decomposition import PCA #主成分分析器"
      ],
      "execution_count": null,
      "outputs": []
    },
    {
      "cell_type": "code",
      "metadata": {
        "id": "5jRBN6d58SNY"
      },
      "source": [
        "import pandas as pd\n",
        "\n",
        "df = #何かしらのデータフレームを用意\n",
        "pca = PCA()\n",
        "\n",
        "#主成分分析の実行\n",
        "pca.fit(df)\n",
        "\n",
        "# データを主成分空間に写像\n",
        "feature = pca.transform(df)\n",
        "\n",
        "# 主成分得点のデータフレームを作成\n",
        "df_pca = pd.DataFrame(feature, columns=[\"PC{}\".format(x + 1) for x in range(len(df.columns))])\n",
        "\n",
        "#主成分得点を表示\n",
        "df_pca.head()"
      ],
      "execution_count": null,
      "outputs": []
    },
    {
      "cell_type": "code",
      "metadata": {
        "id": "TkCJtfdy8aPZ"
      },
      "source": [
        "# 寄与率の表示\n",
        "pd.DataFrame(pca.explained_variance_ratio_, index=[\"PC{}\".format(x + 1) for x in range(len(df.columns))]).head(15)"
      ],
      "execution_count": null,
      "outputs": []
    }
  ]
}