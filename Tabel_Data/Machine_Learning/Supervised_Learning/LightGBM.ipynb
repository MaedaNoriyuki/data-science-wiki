{
  "nbformat": 4,
  "nbformat_minor": 0,
  "metadata": {
    "colab": {
      "name": "LightGBM.ipynb",
      "provenance": [],
      "authorship_tag": "ABX9TyNKJF40vdKFjxfm7A4X8NvX",
      "include_colab_link": true
    },
    "kernelspec": {
      "name": "python3",
      "display_name": "Python 3"
    },
    "language_info": {
      "name": "python"
    }
  },
  "cells": [
    {
      "cell_type": "markdown",
      "metadata": {
        "id": "view-in-github",
        "colab_type": "text"
      },
      "source": [
        "<a href=\"https://colab.research.google.com/github/ToumaTanaka/Data_Science/blob/main/Tabel_Data/Machine_Learning/Supervised_Learning/LightGBM.ipynb\" target=\"_parent\"><img src=\"https://colab.research.google.com/assets/colab-badge.svg\" alt=\"Open In Colab\"/></a>"
      ]
    },
    {
      "cell_type": "markdown",
      "metadata": {
        "id": "2KDU9TQbqpkp"
      },
      "source": [
        "# LightGBM\n",
        "マイクロソフトが開発したGBDT(勾配ブースティング決定木)のモデル。  \n",
        "決定木ベースなのでカテゴリー変数にLabel encodingを行っても正しく機能する。  "
      ]
    },
    {
      "cell_type": "markdown",
      "metadata": {
        "id": "2hO3yE2a54y5"
      },
      "source": [
        "### LightGBMのパラメータについて\n",
        "\n",
        "### LightGBMのハイパーパラメータについて\n"
      ]
    },
    {
      "cell_type": "code",
      "metadata": {
        "id": "sFop-DE4qiqP"
      },
      "source": [
        "import lightgbm as lgb"
      ],
      "execution_count": null,
      "outputs": []
    },
    {
      "cell_type": "code",
      "metadata": {
        "id": "L4rfyToG5Lig"
      },
      "source": [
        "#訓練データと評価用データを用意する\n",
        "\n",
        "#カテゴリー変数を設定(カテゴリカル変数がある場合はそのリストを作る)\n",
        "categorical_features = ['A','B','C']\n",
        "\n",
        "\n",
        "\n",
        "#LightGBM用の訓練データセットを作成\n",
        "lgb_train = lgb.Dataset(x_train,y_train,categorical_feature=categorical_features,free_raw_data=False)\n",
        "\n",
        "#LightGBM用の評価データセットを作成\n",
        "lgb_eval = lgb.Dataset(x_valid,y_valid,reference=lgb_train,categorical_feature=categorical_features,free_raw_data=False)\n",
        "\n",
        "\n",
        "#ハイパーパラメータを設定\n",
        "params = {\n",
        "    'boosting_type': 'gbdt',\n",
        "\n",
        "    #'objective': 'binary', 二値分類\n",
        "    'objective': 'regression', #回帰\n",
        "    \n",
        "    #'metric':'auc'　AUCの最大化を目指す\n",
        "    'metric': {'l2', 'l1'}, \n",
        "\n",
        "    'num_leaves': 50,\n",
        "    'learning_rate': 0.05,\n",
        "    'feature_fraction': 0.9,\n",
        "    'bagging_fraction': 0.8,\n",
        "    'bagging_freq': 5,\n",
        "    'vervose': 0\n",
        "    \n",
        "}\n",
        "\n",
        "#LightGBMの学習\n",
        "model = lgb.train(params,lgb_train,\n",
        "                 valid_sets=[lgb_train,lgb_eval],\n",
        "                 verbose_eval=10,\n",
        "                 num_boost_round=1000,\n",
        "                 early_stopping_rounds= 20)\n",
        "  \n",
        "\n",
        "#LightGBMの予測\n",
        "y_pred = model.predict(x_valid,num_interation=model.best_iteration)"
      ],
      "execution_count": null,
      "outputs": []
    },
    {
      "cell_type": "markdown",
      "metadata": {
        "id": "R4bkuh7m4-NV"
      },
      "source": [
        "クロスバリデーションver"
      ]
    },
    {
      "cell_type": "code",
      "metadata": {
        "id": "bl_1txU21xtZ"
      },
      "source": [
        "from sklearn.model_selection import StratifiedKFold\n",
        "from sklearn.metrics import r2_score\n",
        "\n",
        "\n",
        "#カテゴリー変数を設定(カテゴリカル変数がある場合はそのリストを作る)\n",
        "categorical_features = ['A','B','C']\n",
        "\n",
        "\n",
        "#モデルを保存するリスト\n",
        "models = []\n",
        "#精度のスコアを保存するリスト\n",
        "r2_scores = []\n",
        "\n",
        "#KFoldクラスをインスタンス化\n",
        "K_fold = StratifiedKFold(n_splits=5, shuffle=True, random_state=1)\n",
        "\n",
        "\n",
        "#クロスバリデーションをする(しなくてもより)\n",
        "for fold, (train_index, valid_index) in enumerate(K_fold.split(x,y)):\n",
        "\n",
        "  x_train = x.iloc[train_index]\n",
        "  x_valid = x.iloc[valid_index]\n",
        "  y_train = y.iloc[train_index]\n",
        "  y_valid = y.iloc[valid_index]\n",
        "\n",
        "　　　#LightGBM用の訓練データセットを作成\n",
        "  lgb_train = lgb.Dataset(x_train,y_train,categorical_feature=categorical_features,free_raw_data=False)\n",
        "\n",
        "　　　#LightGBM用の評価データセットを作成\n",
        "  lgb_eval = lgb.Dataset(x_valid,y_valid,reference=lgb_train,categorical_feature=categorical_features,free_raw_data=False)\n",
        "\n",
        "\n",
        "　　　#ハイパーパラメータを設定\n",
        "  params = {\n",
        "    'boosting_type': 'gbdt',\n",
        "\n",
        "    #'objective': 'binary', 二値分類\n",
        "    'objective': 'regression', #回帰\n",
        "    \n",
        "    #'metric':'auc'　AUCの最大化を目指す\n",
        "    'metric': {'l2', 'l1'}, \n",
        "\n",
        "    'num_leaves': 50,\n",
        "    'learning_rate': 0.05,\n",
        "    'feature_fraction': 0.9,\n",
        "    'bagging_fraction': 0.8,\n",
        "    'bagging_freq': 5,\n",
        "    'vervose': 0\n",
        "    \n",
        "  }\n",
        "\n",
        "　　　#LightGBMの学習\n",
        "  model = lgb.train(params,lgb_train,\n",
        "                 valid_sets=[lgb_train,lgb_eval],\n",
        "                 verbose_eval=10,\n",
        "                 num_boost_round=1000,\n",
        "                 early_stopping_rounds= 20)\n",
        "  \n",
        "\n",
        "  #LightGBMの予測\n",
        "  y_pred = model.predict(x_valid,num_interation=model.best_iteration)\n",
        "\n",
        "\n",
        "　　　#r2_scoreで評価\n",
        "  score = r2_score(y_valid,y_pred)\n",
        "  \n",
        "  r2_scores.append(score)\n",
        "  models.append(model)"
      ],
      "execution_count": null,
      "outputs": []
    }
  ]
}