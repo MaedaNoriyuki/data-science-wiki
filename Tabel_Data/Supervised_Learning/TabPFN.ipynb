{
 "cells": [
  {
   "cell_type": "markdown",
   "metadata": {
    "id": "x1ScIqM1yzoK"
   },
   "source": [
    "# TabPFN（Prior-Data Fitted Network）\n",
    "* [論文：TabPFN:A Transformer That Solve Small Tabular Classification Problems in a Second](https://arxiv.org/abs/2207.01848)\n",
    "* [GitHub](https://github.com/automl/TabPFN)\n",
    "\n",
    "## 概要\n",
    "ハイパーパラメータのチューニングを必要としない学習済みのTransformerモデル。OpenML-CC18の30個のデータセットに対してGBDTを明らかに上回った。またAutoMLが5分から60分かかる精度を0.4秒ほどで達成することができる。  \n",
    "検証ではLightGBM、XGBoost、CatBoost、AutoGluon、Auto sklearn 2.0を上回るような精度を達成した。  \n",
    "現状では小さいデータセットにしか対応していないそうです。"
   ]
  },
  {
   "cell_type": "code",
   "execution_count": null,
   "metadata": {
    "id": "N8mEqwDWHD5S"
   },
   "outputs": [],
   "source": [
    "%%capture\n",
    "!pip install tabpfn\n",
    "!pip install -r TabPFN_requirements.txt"
   ]
  },
  {
   "cell_type": "code",
   "execution_count": 46,
   "metadata": {},
   "outputs": [],
   "source": [
    "import numpy as np\n",
    "import pandas as pd\n",
    "import torch\n",
    "\n",
    "from sklearn import datasets\n",
    "from sklearn.metrics import roc_auc_score\n",
    "from sklearn.model_selection import train_test_split\n",
    "\n",
    "from tabpfn.scripts.transformer_prediction_interface import TabPFNClassifier"
   ]
  },
  {
   "cell_type": "code",
   "execution_count": 34,
   "metadata": {},
   "outputs": [],
   "source": [
    "iris = datasets.load_iris()\n",
    "x = iris.data\n",
    "y = iris.target"
   ]
  },
  {
   "cell_type": "code",
   "execution_count": 35,
   "metadata": {},
   "outputs": [],
   "source": [
    "X_train, X_test, y_train, y_test = train_test_split(X, y, test_size=0.3, random_state=3655)"
   ]
  },
  {
   "cell_type": "code",
   "execution_count": 38,
   "metadata": {},
   "outputs": [
    {
     "data": {
      "text/plain": [
       "array([0, 1, 2, 2, 1, 0, 1, 2, 0, 1, 1, 2, 2, 2, 1, 0, 0, 2, 2, 1, 1, 0,\n",
       "       1, 2, 1, 2, 1, 1, 2, 2, 2, 1, 1, 0, 0, 1, 1, 2, 1, 0, 0, 1, 0, 2,\n",
       "       2, 0, 1, 2, 2, 0, 2, 2, 0, 0, 0, 0, 1, 0, 2, 1, 2, 0, 1, 1, 2, 0,\n",
       "       2, 2, 2, 1, 0, 2, 1, 1, 2, 1, 2, 2, 0, 1, 1, 1, 2, 1, 1, 0, 2, 2,\n",
       "       2, 2, 1, 0, 2, 0, 2, 1, 0, 0, 0, 2, 1, 1, 1, 0, 2])"
      ]
     },
     "execution_count": 38,
     "metadata": {},
     "output_type": "execute_result"
    }
   ],
   "source": [
    "y_train"
   ]
  },
  {
   "cell_type": "code",
   "execution_count": 12,
   "metadata": {},
   "outputs": [
    {
     "name": "stdout",
     "output_type": "stream",
     "text": [
      "Using style prior: True\n",
      "Using cpu:0 device\n",
      "Using a Transformer with 25.82 M parameters\n"
     ]
    }
   ],
   "source": [
    "device = \"cuda\" if torch.cuda.is_available() else \"cpu\"\n",
    "\n",
    "# モデルの定義\n",
    "# N_ensemble_configurationsは平均化された推定値の数(特徴量×クラス数で制限される)\n",
    "# アンサンブル数を多くすると精度が高くなるが遅くなる\n",
    "TabPFN_classifier = TabPFNClassifier(device = device, N_ensemble_configurations=4)"
   ]
  },
  {
   "cell_type": "code",
   "execution_count": 13,
   "metadata": {},
   "outputs": [
    {
     "data": {
      "text/html": [
       "<style>#sk-container-id-1 {color: black;background-color: white;}#sk-container-id-1 pre{padding: 0;}#sk-container-id-1 div.sk-toggleable {background-color: white;}#sk-container-id-1 label.sk-toggleable__label {cursor: pointer;display: block;width: 100%;margin-bottom: 0;padding: 0.3em;box-sizing: border-box;text-align: center;}#sk-container-id-1 label.sk-toggleable__label-arrow:before {content: \"▸\";float: left;margin-right: 0.25em;color: #696969;}#sk-container-id-1 label.sk-toggleable__label-arrow:hover:before {color: black;}#sk-container-id-1 div.sk-estimator:hover label.sk-toggleable__label-arrow:before {color: black;}#sk-container-id-1 div.sk-toggleable__content {max-height: 0;max-width: 0;overflow: hidden;text-align: left;background-color: #f0f8ff;}#sk-container-id-1 div.sk-toggleable__content pre {margin: 0.2em;color: black;border-radius: 0.25em;background-color: #f0f8ff;}#sk-container-id-1 input.sk-toggleable__control:checked~div.sk-toggleable__content {max-height: 200px;max-width: 100%;overflow: auto;}#sk-container-id-1 input.sk-toggleable__control:checked~label.sk-toggleable__label-arrow:before {content: \"▾\";}#sk-container-id-1 div.sk-estimator input.sk-toggleable__control:checked~label.sk-toggleable__label {background-color: #d4ebff;}#sk-container-id-1 div.sk-label input.sk-toggleable__control:checked~label.sk-toggleable__label {background-color: #d4ebff;}#sk-container-id-1 input.sk-hidden--visually {border: 0;clip: rect(1px 1px 1px 1px);clip: rect(1px, 1px, 1px, 1px);height: 1px;margin: -1px;overflow: hidden;padding: 0;position: absolute;width: 1px;}#sk-container-id-1 div.sk-estimator {font-family: monospace;background-color: #f0f8ff;border: 1px dotted black;border-radius: 0.25em;box-sizing: border-box;margin-bottom: 0.5em;}#sk-container-id-1 div.sk-estimator:hover {background-color: #d4ebff;}#sk-container-id-1 div.sk-parallel-item::after {content: \"\";width: 100%;border-bottom: 1px solid gray;flex-grow: 1;}#sk-container-id-1 div.sk-label:hover label.sk-toggleable__label {background-color: #d4ebff;}#sk-container-id-1 div.sk-serial::before {content: \"\";position: absolute;border-left: 1px solid gray;box-sizing: border-box;top: 0;bottom: 0;left: 50%;z-index: 0;}#sk-container-id-1 div.sk-serial {display: flex;flex-direction: column;align-items: center;background-color: white;padding-right: 0.2em;padding-left: 0.2em;position: relative;}#sk-container-id-1 div.sk-item {position: relative;z-index: 1;}#sk-container-id-1 div.sk-parallel {display: flex;align-items: stretch;justify-content: center;background-color: white;position: relative;}#sk-container-id-1 div.sk-item::before, #sk-container-id-1 div.sk-parallel-item::before {content: \"\";position: absolute;border-left: 1px solid gray;box-sizing: border-box;top: 0;bottom: 0;left: 50%;z-index: -1;}#sk-container-id-1 div.sk-parallel-item {display: flex;flex-direction: column;z-index: 1;position: relative;background-color: white;}#sk-container-id-1 div.sk-parallel-item:first-child::after {align-self: flex-end;width: 50%;}#sk-container-id-1 div.sk-parallel-item:last-child::after {align-self: flex-start;width: 50%;}#sk-container-id-1 div.sk-parallel-item:only-child::after {width: 0;}#sk-container-id-1 div.sk-dashed-wrapped {border: 1px dashed gray;margin: 0 0.4em 0.5em 0.4em;box-sizing: border-box;padding-bottom: 0.4em;background-color: white;}#sk-container-id-1 div.sk-label label {font-family: monospace;font-weight: bold;display: inline-block;line-height: 1.2em;}#sk-container-id-1 div.sk-label-container {text-align: center;}#sk-container-id-1 div.sk-container {/* jupyter's `normalize.less` sets `[hidden] { display: none; }` but bootstrap.min.css set `[hidden] { display: none !important; }` so we also need the `!important` here to be able to override the default hidden behavior on the sphinx rendered scikit-learn.org. See: https://github.com/scikit-learn/scikit-learn/issues/21755 */display: inline-block !important;position: relative;}#sk-container-id-1 div.sk-text-repr-fallback {display: none;}</style><div id=\"sk-container-id-1\" class=\"sk-top-container\"><div class=\"sk-text-repr-fallback\"><pre>TabPFNClassifier(N_ensemble_configurations=4)</pre><b>In a Jupyter environment, please rerun this cell to show the HTML representation or trust the notebook. <br />On GitHub, the HTML representation is unable to render, please try loading this page with nbviewer.org.</b></div><div class=\"sk-container\" hidden><div class=\"sk-item\"><div class=\"sk-estimator sk-toggleable\"><input class=\"sk-toggleable__control sk-hidden--visually\" id=\"sk-estimator-id-1\" type=\"checkbox\" checked><label for=\"sk-estimator-id-1\" class=\"sk-toggleable__label sk-toggleable__label-arrow\">TabPFNClassifier</label><div class=\"sk-toggleable__content\"><pre>TabPFNClassifier(N_ensemble_configurations=4)</pre></div></div></div></div></div>"
      ],
      "text/plain": [
       "TabPFNClassifier(N_ensemble_configurations=4)"
      ]
     },
     "execution_count": 13,
     "metadata": {},
     "output_type": "execute_result"
    }
   ],
   "source": [
    "TabPFN_classifier.fit(X_train, y_train)"
   ]
  },
  {
   "cell_type": "code",
   "execution_count": 44,
   "metadata": {},
   "outputs": [],
   "source": [
    "# TabPFNの予測\n",
    "y_pred = TabPFN_classifier.predict_proba(X_test)#, return_winning_probability=True)"
   ]
  },
  {
   "cell_type": "code",
   "execution_count": 48,
   "metadata": {},
   "outputs": [
    {
     "data": {
      "text/plain": [
       "array([[9.99983907e-01, 1.53200890e-05, 6.71794737e-07],\n",
       "       [2.21611590e-05, 8.15988958e-01, 1.83988824e-01],\n",
       "       [9.98561323e-01, 1.43478788e-03, 3.90300920e-06],\n",
       "       [9.99607861e-01, 3.50385875e-04, 4.18263990e-05],\n",
       "       [9.99821961e-01, 1.75810215e-04, 2.24171572e-06],\n",
       "       [9.99980092e-01, 1.84086875e-05, 1.49555763e-06],\n",
       "       [9.99606907e-01, 3.84298764e-04, 8.76268314e-06],\n",
       "       [9.99985337e-01, 1.38890009e-05, 6.81954020e-07],\n",
       "       [1.55409307e-05, 9.99975801e-01, 8.72702185e-06],\n",
       "       [2.68941326e-03, 9.97124016e-01, 1.86493286e-04],\n",
       "       [9.99362528e-01, 6.31702598e-04, 5.88836247e-06],\n",
       "       [2.61763057e-06, 1.68003229e-04, 9.99829292e-01],\n",
       "       [1.80776411e-07, 1.23311493e-05, 9.99987483e-01],\n",
       "       [9.99727786e-01, 2.43512681e-04, 2.86757750e-05],\n",
       "       [9.99955416e-01, 4.19832759e-05, 2.64329674e-06],\n",
       "       [9.99294400e-01, 7.01079611e-04, 4.49901790e-06],\n",
       "       [9.32629746e-07, 2.41076894e-04, 9.99757946e-01],\n",
       "       [1.09396664e-04, 3.18020172e-02, 9.68088627e-01],\n",
       "       [5.86850138e-06, 9.99733508e-01, 2.60583358e-04],\n",
       "       [3.17559238e-06, 9.99817550e-01, 1.79297829e-04],\n",
       "       [9.99947906e-01, 4.70361301e-05, 5.01988143e-06],\n",
       "       [1.61079117e-06, 1.18008943e-03, 9.98818219e-01],\n",
       "       [2.37832683e-05, 7.04256535e-01, 2.95719713e-01],\n",
       "       [9.99691844e-01, 3.05935129e-04, 2.31554054e-06],\n",
       "       [1.18886337e-05, 9.99981761e-01, 6.36842651e-06],\n",
       "       [1.23138698e-05, 9.47076738e-01, 5.29110171e-02],\n",
       "       [9.94439006e-01, 5.54376654e-03, 1.72254877e-05],\n",
       "       [4.17434376e-06, 2.74495967e-03, 9.97250855e-01],\n",
       "       [5.66153676e-06, 1.15281099e-03, 9.98841584e-01],\n",
       "       [5.74275282e-06, 9.98391211e-01, 1.60308927e-03],\n",
       "       [6.99838102e-01, 3.00003767e-01, 1.58189796e-04],\n",
       "       [9.09734110e-04, 9.98986065e-01, 1.04155661e-04],\n",
       "       [9.99643564e-01, 3.49675334e-04, 6.81961274e-06],\n",
       "       [9.89342880e-06, 9.81656492e-01, 1.83335487e-02],\n",
       "       [8.95024277e-06, 9.99933124e-01, 5.78879117e-05],\n",
       "       [9.99980211e-01, 1.90015398e-05, 8.62351612e-07],\n",
       "       [9.99981284e-01, 1.80815296e-05, 6.24654206e-07],\n",
       "       [9.99946356e-01, 5.24548013e-05, 1.21455582e-06],\n",
       "       [9.95963812e-01, 3.87034100e-03, 1.65919642e-04],\n",
       "       [1.62111155e-06, 3.08691342e-05, 9.99967456e-01],\n",
       "       [5.85144116e-05, 9.99161363e-01, 7.80182483e-04],\n",
       "       [5.74663864e-06, 9.98408616e-01, 1.58566318e-03],\n",
       "       [4.70127316e-06, 9.99979138e-01, 1.62213491e-05],\n",
       "       [9.99608815e-01, 3.87873995e-04, 3.28459032e-06],\n",
       "       [2.55721534e-04, 9.99703348e-01, 4.09163003e-05]], dtype=float32)"
      ]
     },
     "execution_count": 48,
     "metadata": {},
     "output_type": "execute_result"
    }
   ],
   "source": [
    "y_pred"
   ]
  },
  {
   "cell_type": "code",
   "execution_count": 51,
   "metadata": {},
   "outputs": [
    {
     "data": {
      "text/plain": [
       "0.99830745235157"
      ]
     },
     "execution_count": 51,
     "metadata": {},
     "output_type": "execute_result"
    }
   ],
   "source": [
    "roc_auc_score(y_test, y_pred, multi_class = 'ovr')"
   ]
  },
  {
   "cell_type": "markdown",
   "metadata": {},
   "source": [
    "## 以下は公式が公開しているNotebook"
   ]
  },
  {
   "cell_type": "code",
   "execution_count": 54,
   "metadata": {
    "id": "Bkj2F3Q72OB0"
   },
   "outputs": [],
   "source": [
    "import sys\n",
    "import numpy as np\n",
    "import pandas as pd\n",
    "from pathlib import Path\n",
    "import pandas as pd\n",
    "import torch\n",
    "import openml\n",
    "import os\n",
    "import time\n",
    "import matplotlib.pyplot as plt\n",
    "from matplotlib.colors import ListedColormap\n",
    "from pathlib import Path\n",
    "\n",
    "from sklearn.metrics import accuracy_score\n",
    "from sklearn.datasets import load_breast_cancer\n",
    "from sklearn.model_selection import train_test_split\n",
    "\n",
    "from tabpfn.scripts.transformer_prediction_interface import TabPFNClassifier\n",
    "from tabpfn.scripts.decision_boundary import DecisionBoundaryDisplay"
   ]
  },
  {
   "cell_type": "code",
   "execution_count": 55,
   "metadata": {},
   "outputs": [],
   "source": [
    "device = \"cuda\" if torch.cuda.is_available() else \"cpu\""
   ]
  },
  {
   "cell_type": "code",
   "execution_count": 56,
   "metadata": {
    "id": "aa8nmYiM2UjO"
   },
   "outputs": [],
   "source": [
    "# データセットの読み込みと分割\n",
    "X, y = load_breast_cancer(return_X_y=True)\n",
    "X_train, X_test, y_train, y_test = train_test_split(X, y, test_size=0.33, random_state=42)"
   ]
  },
  {
   "cell_type": "code",
   "execution_count": 57,
   "metadata": {
    "colab": {
     "base_uri": "https://localhost:8080/",
     "height": 300
    },
    "id": "iWF4n_6kJjGt",
    "outputId": "51008c8e-d7e4-4bed-cbd0-1a33baaf0d2a"
   },
   "outputs": [
    {
     "data": {
      "text/html": [
       "<div>\n",
       "<style scoped>\n",
       "    .dataframe tbody tr th:only-of-type {\n",
       "        vertical-align: middle;\n",
       "    }\n",
       "\n",
       "    .dataframe tbody tr th {\n",
       "        vertical-align: top;\n",
       "    }\n",
       "\n",
       "    .dataframe thead th {\n",
       "        text-align: right;\n",
       "    }\n",
       "</style>\n",
       "<table border=\"1\" class=\"dataframe\">\n",
       "  <thead>\n",
       "    <tr style=\"text-align: right;\">\n",
       "      <th></th>\n",
       "      <th>0</th>\n",
       "      <th>1</th>\n",
       "      <th>2</th>\n",
       "      <th>3</th>\n",
       "      <th>4</th>\n",
       "      <th>5</th>\n",
       "      <th>6</th>\n",
       "      <th>7</th>\n",
       "      <th>8</th>\n",
       "      <th>9</th>\n",
       "      <th>...</th>\n",
       "      <th>20</th>\n",
       "      <th>21</th>\n",
       "      <th>22</th>\n",
       "      <th>23</th>\n",
       "      <th>24</th>\n",
       "      <th>25</th>\n",
       "      <th>26</th>\n",
       "      <th>27</th>\n",
       "      <th>28</th>\n",
       "      <th>29</th>\n",
       "    </tr>\n",
       "  </thead>\n",
       "  <tbody>\n",
       "    <tr>\n",
       "      <th>0</th>\n",
       "      <td>17.99</td>\n",
       "      <td>10.38</td>\n",
       "      <td>122.80</td>\n",
       "      <td>1001.0</td>\n",
       "      <td>0.11840</td>\n",
       "      <td>0.27760</td>\n",
       "      <td>0.3001</td>\n",
       "      <td>0.14710</td>\n",
       "      <td>0.2419</td>\n",
       "      <td>0.07871</td>\n",
       "      <td>...</td>\n",
       "      <td>25.38</td>\n",
       "      <td>17.33</td>\n",
       "      <td>184.60</td>\n",
       "      <td>2019.0</td>\n",
       "      <td>0.1622</td>\n",
       "      <td>0.6656</td>\n",
       "      <td>0.7119</td>\n",
       "      <td>0.2654</td>\n",
       "      <td>0.4601</td>\n",
       "      <td>0.11890</td>\n",
       "    </tr>\n",
       "    <tr>\n",
       "      <th>1</th>\n",
       "      <td>20.57</td>\n",
       "      <td>17.77</td>\n",
       "      <td>132.90</td>\n",
       "      <td>1326.0</td>\n",
       "      <td>0.08474</td>\n",
       "      <td>0.07864</td>\n",
       "      <td>0.0869</td>\n",
       "      <td>0.07017</td>\n",
       "      <td>0.1812</td>\n",
       "      <td>0.05667</td>\n",
       "      <td>...</td>\n",
       "      <td>24.99</td>\n",
       "      <td>23.41</td>\n",
       "      <td>158.80</td>\n",
       "      <td>1956.0</td>\n",
       "      <td>0.1238</td>\n",
       "      <td>0.1866</td>\n",
       "      <td>0.2416</td>\n",
       "      <td>0.1860</td>\n",
       "      <td>0.2750</td>\n",
       "      <td>0.08902</td>\n",
       "    </tr>\n",
       "    <tr>\n",
       "      <th>2</th>\n",
       "      <td>19.69</td>\n",
       "      <td>21.25</td>\n",
       "      <td>130.00</td>\n",
       "      <td>1203.0</td>\n",
       "      <td>0.10960</td>\n",
       "      <td>0.15990</td>\n",
       "      <td>0.1974</td>\n",
       "      <td>0.12790</td>\n",
       "      <td>0.2069</td>\n",
       "      <td>0.05999</td>\n",
       "      <td>...</td>\n",
       "      <td>23.57</td>\n",
       "      <td>25.53</td>\n",
       "      <td>152.50</td>\n",
       "      <td>1709.0</td>\n",
       "      <td>0.1444</td>\n",
       "      <td>0.4245</td>\n",
       "      <td>0.4504</td>\n",
       "      <td>0.2430</td>\n",
       "      <td>0.3613</td>\n",
       "      <td>0.08758</td>\n",
       "    </tr>\n",
       "    <tr>\n",
       "      <th>3</th>\n",
       "      <td>11.42</td>\n",
       "      <td>20.38</td>\n",
       "      <td>77.58</td>\n",
       "      <td>386.1</td>\n",
       "      <td>0.14250</td>\n",
       "      <td>0.28390</td>\n",
       "      <td>0.2414</td>\n",
       "      <td>0.10520</td>\n",
       "      <td>0.2597</td>\n",
       "      <td>0.09744</td>\n",
       "      <td>...</td>\n",
       "      <td>14.91</td>\n",
       "      <td>26.50</td>\n",
       "      <td>98.87</td>\n",
       "      <td>567.7</td>\n",
       "      <td>0.2098</td>\n",
       "      <td>0.8663</td>\n",
       "      <td>0.6869</td>\n",
       "      <td>0.2575</td>\n",
       "      <td>0.6638</td>\n",
       "      <td>0.17300</td>\n",
       "    </tr>\n",
       "    <tr>\n",
       "      <th>4</th>\n",
       "      <td>20.29</td>\n",
       "      <td>14.34</td>\n",
       "      <td>135.10</td>\n",
       "      <td>1297.0</td>\n",
       "      <td>0.10030</td>\n",
       "      <td>0.13280</td>\n",
       "      <td>0.1980</td>\n",
       "      <td>0.10430</td>\n",
       "      <td>0.1809</td>\n",
       "      <td>0.05883</td>\n",
       "      <td>...</td>\n",
       "      <td>22.54</td>\n",
       "      <td>16.67</td>\n",
       "      <td>152.20</td>\n",
       "      <td>1575.0</td>\n",
       "      <td>0.1374</td>\n",
       "      <td>0.2050</td>\n",
       "      <td>0.4000</td>\n",
       "      <td>0.1625</td>\n",
       "      <td>0.2364</td>\n",
       "      <td>0.07678</td>\n",
       "    </tr>\n",
       "  </tbody>\n",
       "</table>\n",
       "<p>5 rows × 30 columns</p>\n",
       "</div>"
      ],
      "text/plain": [
       "      0      1       2       3        4        5       6        7       8   \\\n",
       "0  17.99  10.38  122.80  1001.0  0.11840  0.27760  0.3001  0.14710  0.2419   \n",
       "1  20.57  17.77  132.90  1326.0  0.08474  0.07864  0.0869  0.07017  0.1812   \n",
       "2  19.69  21.25  130.00  1203.0  0.10960  0.15990  0.1974  0.12790  0.2069   \n",
       "3  11.42  20.38   77.58   386.1  0.14250  0.28390  0.2414  0.10520  0.2597   \n",
       "4  20.29  14.34  135.10  1297.0  0.10030  0.13280  0.1980  0.10430  0.1809   \n",
       "\n",
       "        9   ...     20     21      22      23      24      25      26      27  \\\n",
       "0  0.07871  ...  25.38  17.33  184.60  2019.0  0.1622  0.6656  0.7119  0.2654   \n",
       "1  0.05667  ...  24.99  23.41  158.80  1956.0  0.1238  0.1866  0.2416  0.1860   \n",
       "2  0.05999  ...  23.57  25.53  152.50  1709.0  0.1444  0.4245  0.4504  0.2430   \n",
       "3  0.09744  ...  14.91  26.50   98.87   567.7  0.2098  0.8663  0.6869  0.2575   \n",
       "4  0.05883  ...  22.54  16.67  152.20  1575.0  0.1374  0.2050  0.4000  0.1625   \n",
       "\n",
       "       28       29  \n",
       "0  0.4601  0.11890  \n",
       "1  0.2750  0.08902  \n",
       "2  0.3613  0.08758  \n",
       "3  0.6638  0.17300  \n",
       "4  0.2364  0.07678  \n",
       "\n",
       "[5 rows x 30 columns]"
      ]
     },
     "execution_count": 57,
     "metadata": {},
     "output_type": "execute_result"
    }
   ],
   "source": [
    "df = pd.DataFrame(X)\n",
    "df.head()"
   ]
  },
  {
   "cell_type": "code",
   "execution_count": 58,
   "metadata": {
    "colab": {
     "base_uri": "https://localhost:8080/"
    },
    "id": "eZIZ2Fi1t5v7",
    "outputId": "b2de9ca8-67f7-4c89-afe2-6c07ab2d0333"
   },
   "outputs": [
    {
     "name": "stdout",
     "output_type": "stream",
     "text": [
      "Using style prior: True\n",
      "Using cpu:0 device\n",
      "Using a Transformer with 25.82 M parameters\n"
     ]
    }
   ],
   "source": [
    "# モデルの定義\n",
    "# N_ensemble_configurationsは平均化された推定値の数(特徴量×クラス数で制限される)\n",
    "# アンサンブル数を多くすると精度が高くなるが遅くなる\n",
    "classifier = TabPFNClassifier(device = device, N_ensemble_configurations=4)"
   ]
  },
  {
   "cell_type": "code",
   "execution_count": 59,
   "metadata": {
    "colab": {
     "base_uri": "https://localhost:8080/"
    },
    "id": "GtwfnbjSJCqw",
    "outputId": "a14248fe-b852-48f4-d7d4-3ccdc0029c95"
   },
   "outputs": [
    {
     "name": "stdout",
     "output_type": "stream",
     "text": [
      "Prediction time:  1.053818702697754 Accuracy 0.9840425531914894\n"
     ]
    }
   ],
   "source": [
    "# モデルの学習\n",
    "start = time.time()\n",
    "classifier.fit(X_train, y_train)\n",
    "\n",
    "# モデルの予測\n",
    "y_eval, p_eval = classifier.predict(X_test, return_winning_probability=True)\n",
    "print('Prediction time: ', time.time() - start, 'Accuracy', accuracy_score(y_test, y_eval))"
   ]
  },
  {
   "cell_type": "code",
   "execution_count": 60,
   "metadata": {
    "colab": {
     "base_uri": "https://localhost:8080/",
     "height": 661
    },
    "id": "X1i0muy4tW9M",
    "outputId": "94d78ec7-d9c6-4baf-ea0c-325a00cd6e2f"
   },
   "outputs": [
    {
     "data": {
      "text/html": [
       "<div>\n",
       "<style scoped>\n",
       "    .dataframe tbody tr th:only-of-type {\n",
       "        vertical-align: middle;\n",
       "    }\n",
       "\n",
       "    .dataframe tbody tr th {\n",
       "        vertical-align: top;\n",
       "    }\n",
       "\n",
       "    .dataframe thead th {\n",
       "        text-align: right;\n",
       "    }\n",
       "</style>\n",
       "<table border=\"1\" class=\"dataframe\">\n",
       "  <thead>\n",
       "    <tr style=\"text-align: right;\">\n",
       "      <th></th>\n",
       "      <th>0</th>\n",
       "      <th>1</th>\n",
       "      <th>2</th>\n",
       "      <th>3</th>\n",
       "      <th>4</th>\n",
       "      <th>5</th>\n",
       "      <th>6</th>\n",
       "      <th>7</th>\n",
       "      <th>8</th>\n",
       "      <th>9</th>\n",
       "      <th>...</th>\n",
       "      <th>21</th>\n",
       "      <th>22</th>\n",
       "      <th>23</th>\n",
       "      <th>24</th>\n",
       "      <th>25</th>\n",
       "      <th>26</th>\n",
       "      <th>27</th>\n",
       "      <th>28</th>\n",
       "      <th>29</th>\n",
       "      <th>prediction</th>\n",
       "    </tr>\n",
       "  </thead>\n",
       "  <tbody>\n",
       "    <tr>\n",
       "      <th>0</th>\n",
       "      <td>12.47</td>\n",
       "      <td>18.6</td>\n",
       "      <td>81.09</td>\n",
       "      <td>481.9</td>\n",
       "      <td>0.09965</td>\n",
       "      <td>0.1058</td>\n",
       "      <td>0.08005</td>\n",
       "      <td>0.03821</td>\n",
       "      <td>0.1925</td>\n",
       "      <td>0.06373</td>\n",
       "      <td>...</td>\n",
       "      <td>24.64</td>\n",
       "      <td>96.05</td>\n",
       "      <td>677.9</td>\n",
       "      <td>0.1426</td>\n",
       "      <td>0.2378</td>\n",
       "      <td>0.2671</td>\n",
       "      <td>0.1015</td>\n",
       "      <td>0.3014</td>\n",
       "      <td>0.0875</td>\n",
       "      <td>1 (p=0.94326)</td>\n",
       "    </tr>\n",
       "    <tr>\n",
       "      <th>1</th>\n",
       "      <td>18.94</td>\n",
       "      <td>21.31</td>\n",
       "      <td>123.6</td>\n",
       "      <td>1130.0</td>\n",
       "      <td>0.09009</td>\n",
       "      <td>0.1029</td>\n",
       "      <td>0.108</td>\n",
       "      <td>0.07951</td>\n",
       "      <td>0.1582</td>\n",
       "      <td>0.05461</td>\n",
       "      <td>...</td>\n",
       "      <td>26.58</td>\n",
       "      <td>165.9</td>\n",
       "      <td>1866.0</td>\n",
       "      <td>0.1193</td>\n",
       "      <td>0.2336</td>\n",
       "      <td>0.2687</td>\n",
       "      <td>0.1789</td>\n",
       "      <td>0.2551</td>\n",
       "      <td>0.06589</td>\n",
       "      <td>0 (p=1.00000)</td>\n",
       "    </tr>\n",
       "    <tr>\n",
       "      <th>2</th>\n",
       "      <td>15.46</td>\n",
       "      <td>19.48</td>\n",
       "      <td>101.7</td>\n",
       "      <td>748.9</td>\n",
       "      <td>0.1092</td>\n",
       "      <td>0.1223</td>\n",
       "      <td>0.1466</td>\n",
       "      <td>0.08087</td>\n",
       "      <td>0.1931</td>\n",
       "      <td>0.05796</td>\n",
       "      <td>...</td>\n",
       "      <td>26.0</td>\n",
       "      <td>124.9</td>\n",
       "      <td>1156.0</td>\n",
       "      <td>0.1546</td>\n",
       "      <td>0.2394</td>\n",
       "      <td>0.3791</td>\n",
       "      <td>0.1514</td>\n",
       "      <td>0.2837</td>\n",
       "      <td>0.08019</td>\n",
       "      <td>0 (p=0.99997)</td>\n",
       "    </tr>\n",
       "    <tr>\n",
       "      <th>3</th>\n",
       "      <td>12.4</td>\n",
       "      <td>17.68</td>\n",
       "      <td>81.47</td>\n",
       "      <td>467.8</td>\n",
       "      <td>0.1054</td>\n",
       "      <td>0.1316</td>\n",
       "      <td>0.07741</td>\n",
       "      <td>0.02799</td>\n",
       "      <td>0.1811</td>\n",
       "      <td>0.07102</td>\n",
       "      <td>...</td>\n",
       "      <td>22.91</td>\n",
       "      <td>89.61</td>\n",
       "      <td>515.8</td>\n",
       "      <td>0.145</td>\n",
       "      <td>0.2629</td>\n",
       "      <td>0.2403</td>\n",
       "      <td>0.0737</td>\n",
       "      <td>0.2556</td>\n",
       "      <td>0.09359</td>\n",
       "      <td>1 (p=0.99999)</td>\n",
       "    </tr>\n",
       "    <tr>\n",
       "      <th>4</th>\n",
       "      <td>11.54</td>\n",
       "      <td>14.44</td>\n",
       "      <td>74.65</td>\n",
       "      <td>402.9</td>\n",
       "      <td>0.09984</td>\n",
       "      <td>0.112</td>\n",
       "      <td>0.06737</td>\n",
       "      <td>0.02594</td>\n",
       "      <td>0.1818</td>\n",
       "      <td>0.06782</td>\n",
       "      <td>...</td>\n",
       "      <td>19.68</td>\n",
       "      <td>78.78</td>\n",
       "      <td>457.8</td>\n",
       "      <td>0.1345</td>\n",
       "      <td>0.2118</td>\n",
       "      <td>0.1797</td>\n",
       "      <td>0.06918</td>\n",
       "      <td>0.2329</td>\n",
       "      <td>0.08134</td>\n",
       "      <td>1 (p=0.99999)</td>\n",
       "    </tr>\n",
       "    <tr>\n",
       "      <th>...</th>\n",
       "      <td>...</td>\n",
       "      <td>...</td>\n",
       "      <td>...</td>\n",
       "      <td>...</td>\n",
       "      <td>...</td>\n",
       "      <td>...</td>\n",
       "      <td>...</td>\n",
       "      <td>...</td>\n",
       "      <td>...</td>\n",
       "      <td>...</td>\n",
       "      <td>...</td>\n",
       "      <td>...</td>\n",
       "      <td>...</td>\n",
       "      <td>...</td>\n",
       "      <td>...</td>\n",
       "      <td>...</td>\n",
       "      <td>...</td>\n",
       "      <td>...</td>\n",
       "      <td>...</td>\n",
       "      <td>...</td>\n",
       "      <td>...</td>\n",
       "    </tr>\n",
       "    <tr>\n",
       "      <th>183</th>\n",
       "      <td>16.11</td>\n",
       "      <td>18.05</td>\n",
       "      <td>105.1</td>\n",
       "      <td>813.0</td>\n",
       "      <td>0.09721</td>\n",
       "      <td>0.1137</td>\n",
       "      <td>0.09447</td>\n",
       "      <td>0.05943</td>\n",
       "      <td>0.1861</td>\n",
       "      <td>0.06248</td>\n",
       "      <td>...</td>\n",
       "      <td>25.27</td>\n",
       "      <td>129.0</td>\n",
       "      <td>1233.0</td>\n",
       "      <td>0.1314</td>\n",
       "      <td>0.2236</td>\n",
       "      <td>0.2802</td>\n",
       "      <td>0.1216</td>\n",
       "      <td>0.2792</td>\n",
       "      <td>0.08158</td>\n",
       "      <td>0 (p=0.99730)</td>\n",
       "    </tr>\n",
       "    <tr>\n",
       "      <th>184</th>\n",
       "      <td>18.49</td>\n",
       "      <td>17.52</td>\n",
       "      <td>121.3</td>\n",
       "      <td>1068.0</td>\n",
       "      <td>0.1012</td>\n",
       "      <td>0.1317</td>\n",
       "      <td>0.1491</td>\n",
       "      <td>0.09183</td>\n",
       "      <td>0.1832</td>\n",
       "      <td>0.06697</td>\n",
       "      <td>...</td>\n",
       "      <td>22.88</td>\n",
       "      <td>146.4</td>\n",
       "      <td>1600.0</td>\n",
       "      <td>0.1412</td>\n",
       "      <td>0.3089</td>\n",
       "      <td>0.3533</td>\n",
       "      <td>0.1663</td>\n",
       "      <td>0.251</td>\n",
       "      <td>0.09445</td>\n",
       "      <td>0 (p=0.99996)</td>\n",
       "    </tr>\n",
       "    <tr>\n",
       "      <th>185</th>\n",
       "      <td>13.71</td>\n",
       "      <td>20.83</td>\n",
       "      <td>90.2</td>\n",
       "      <td>577.9</td>\n",
       "      <td>0.1189</td>\n",
       "      <td>0.1645</td>\n",
       "      <td>0.09366</td>\n",
       "      <td>0.05985</td>\n",
       "      <td>0.2196</td>\n",
       "      <td>0.07451</td>\n",
       "      <td>...</td>\n",
       "      <td>28.14</td>\n",
       "      <td>110.6</td>\n",
       "      <td>897.0</td>\n",
       "      <td>0.1654</td>\n",
       "      <td>0.3682</td>\n",
       "      <td>0.2678</td>\n",
       "      <td>0.1556</td>\n",
       "      <td>0.3196</td>\n",
       "      <td>0.1151</td>\n",
       "      <td>0 (p=0.98599)</td>\n",
       "    </tr>\n",
       "    <tr>\n",
       "      <th>186</th>\n",
       "      <td>14.47</td>\n",
       "      <td>24.99</td>\n",
       "      <td>95.81</td>\n",
       "      <td>656.4</td>\n",
       "      <td>0.08837</td>\n",
       "      <td>0.123</td>\n",
       "      <td>0.1009</td>\n",
       "      <td>0.0389</td>\n",
       "      <td>0.1872</td>\n",
       "      <td>0.06341</td>\n",
       "      <td>...</td>\n",
       "      <td>31.73</td>\n",
       "      <td>113.5</td>\n",
       "      <td>808.9</td>\n",
       "      <td>0.134</td>\n",
       "      <td>0.4202</td>\n",
       "      <td>0.404</td>\n",
       "      <td>0.1205</td>\n",
       "      <td>0.3187</td>\n",
       "      <td>0.1023</td>\n",
       "      <td>0 (p=0.69253)</td>\n",
       "    </tr>\n",
       "    <tr>\n",
       "      <th>187</th>\n",
       "      <td>13.54</td>\n",
       "      <td>14.36</td>\n",
       "      <td>87.46</td>\n",
       "      <td>566.3</td>\n",
       "      <td>0.09779</td>\n",
       "      <td>0.08129</td>\n",
       "      <td>0.06664</td>\n",
       "      <td>0.04781</td>\n",
       "      <td>0.1885</td>\n",
       "      <td>0.05766</td>\n",
       "      <td>...</td>\n",
       "      <td>19.26</td>\n",
       "      <td>99.7</td>\n",
       "      <td>711.2</td>\n",
       "      <td>0.144</td>\n",
       "      <td>0.1773</td>\n",
       "      <td>0.239</td>\n",
       "      <td>0.1288</td>\n",
       "      <td>0.2977</td>\n",
       "      <td>0.07259</td>\n",
       "      <td>1 (p=0.99549)</td>\n",
       "    </tr>\n",
       "  </tbody>\n",
       "</table>\n",
       "<p>188 rows × 31 columns</p>\n",
       "</div>"
      ],
      "text/plain": [
       "         0      1      2       3        4        5        6        7       8  \\\n",
       "0    12.47   18.6  81.09   481.9  0.09965   0.1058  0.08005  0.03821  0.1925   \n",
       "1    18.94  21.31  123.6  1130.0  0.09009   0.1029    0.108  0.07951  0.1582   \n",
       "2    15.46  19.48  101.7   748.9   0.1092   0.1223   0.1466  0.08087  0.1931   \n",
       "3     12.4  17.68  81.47   467.8   0.1054   0.1316  0.07741  0.02799  0.1811   \n",
       "4    11.54  14.44  74.65   402.9  0.09984    0.112  0.06737  0.02594  0.1818   \n",
       "..     ...    ...    ...     ...      ...      ...      ...      ...     ...   \n",
       "183  16.11  18.05  105.1   813.0  0.09721   0.1137  0.09447  0.05943  0.1861   \n",
       "184  18.49  17.52  121.3  1068.0   0.1012   0.1317   0.1491  0.09183  0.1832   \n",
       "185  13.71  20.83   90.2   577.9   0.1189   0.1645  0.09366  0.05985  0.2196   \n",
       "186  14.47  24.99  95.81   656.4  0.08837    0.123   0.1009   0.0389  0.1872   \n",
       "187  13.54  14.36  87.46   566.3  0.09779  0.08129  0.06664  0.04781  0.1885   \n",
       "\n",
       "           9  ...     21     22      23      24      25      26       27  \\\n",
       "0    0.06373  ...  24.64  96.05   677.9  0.1426  0.2378  0.2671   0.1015   \n",
       "1    0.05461  ...  26.58  165.9  1866.0  0.1193  0.2336  0.2687   0.1789   \n",
       "2    0.05796  ...   26.0  124.9  1156.0  0.1546  0.2394  0.3791   0.1514   \n",
       "3    0.07102  ...  22.91  89.61   515.8   0.145  0.2629  0.2403   0.0737   \n",
       "4    0.06782  ...  19.68  78.78   457.8  0.1345  0.2118  0.1797  0.06918   \n",
       "..       ...  ...    ...    ...     ...     ...     ...     ...      ...   \n",
       "183  0.06248  ...  25.27  129.0  1233.0  0.1314  0.2236  0.2802   0.1216   \n",
       "184  0.06697  ...  22.88  146.4  1600.0  0.1412  0.3089  0.3533   0.1663   \n",
       "185  0.07451  ...  28.14  110.6   897.0  0.1654  0.3682  0.2678   0.1556   \n",
       "186  0.06341  ...  31.73  113.5   808.9   0.134  0.4202   0.404   0.1205   \n",
       "187  0.05766  ...  19.26   99.7   711.2   0.144  0.1773   0.239   0.1288   \n",
       "\n",
       "         28       29     prediction  \n",
       "0    0.3014   0.0875  1 (p=0.94326)  \n",
       "1    0.2551  0.06589  0 (p=1.00000)  \n",
       "2    0.2837  0.08019  0 (p=0.99997)  \n",
       "3    0.2556  0.09359  1 (p=0.99999)  \n",
       "4    0.2329  0.08134  1 (p=0.99999)  \n",
       "..      ...      ...            ...  \n",
       "183  0.2792  0.08158  0 (p=0.99730)  \n",
       "184   0.251  0.09445  0 (p=0.99996)  \n",
       "185  0.3196   0.1151  0 (p=0.98599)  \n",
       "186  0.3187   0.1023  0 (p=0.69253)  \n",
       "187  0.2977  0.07259  1 (p=0.99549)  \n",
       "\n",
       "[188 rows x 31 columns]"
      ]
     },
     "execution_count": 60,
     "metadata": {},
     "output_type": "execute_result"
    }
   ],
   "source": [
    "# 各データに対する予測結果\n",
    "out_table = pd.DataFrame(X_test.copy().astype(str))\n",
    "out_table['prediction'] = [f\"{y_e} (p={p_e:.5f})\" for y_e, p_e in zip(y_eval, p_eval)]\n",
    "out_table"
   ]
  },
  {
   "cell_type": "code",
   "execution_count": 61,
   "metadata": {
    "colab": {
     "base_uri": "https://localhost:8080/",
     "height": 609
    },
    "id": "OBXN4152JFAO",
    "outputId": "44a86273-d293-4a9a-a897-5dd68671b6b9"
   },
   "outputs": [
    {
     "data": {
      "text/plain": [
       "<tabpfn.scripts.decision_boundary.DecisionBoundaryDisplay at 0xffff5ad27f10>"
      ]
     },
     "execution_count": 61,
     "metadata": {},
     "output_type": "execute_result"
    },
    {
     "data": {
      "image/png": "[encoded data removed]",
      "text/plain": [
       "<Figure size 1000x1000 with 1 Axes>"
      ]
     },
     "metadata": {},
     "output_type": "display_data"
    }
   ],
   "source": [
    "# PLOTTING\n",
    "fig = plt.figure(figsize=(10,10))\n",
    "ax = fig.add_subplot(111)\n",
    "cm = plt.cm.RdBu\n",
    "cm_bright = ListedColormap([\"#FF0000\", \"#0000FF\"])\n",
    "\n",
    "# Plot the training points\n",
    "vfunc = np.vectorize(lambda x : np.where(classifier.classes_ == x)[0])\n",
    "y_train_index = vfunc(y_train)\n",
    "y_train_index = y_train_index == 0\n",
    "\n",
    "ax.scatter(X_train[:, 0], X_train[:, 1], c=y_train_index, cmap=cm_bright)\n",
    "\n",
    "classifier.fit(X_train[:, 0:2], y_train_index)\n",
    "\n",
    "DecisionBoundaryDisplay.from_estimator(\n",
    "    classifier, X_train[:, 0:2], alpha=0.6, ax=ax, eps=2.0, grid_resolution=25, response_method=\"predict_proba\"\n",
    ")"
   ]
  },
  {
   "cell_type": "code",
   "execution_count": null,
   "metadata": {},
   "outputs": [],
   "source": []
  }
 ],
 "metadata": {
  "accelerator": "GPU",
  "colab": {
   "collapsed_sections": [],
   "include_colab_link": true,
   "machine_shape": "hm",
   "provenance": []
  },
  "gpuClass": "premium",
  "kernelspec": {
   "display_name": "Python 3 (ipykernel)",
   "language": "python",
   "name": "python3"
  },
  "language_info": {
   "codemirror_mode": {
    "name": "ipython",
    "version": 3
   },
   "file_extension": ".py",
   "mimetype": "text/x-python",
   "name": "python",
   "nbconvert_exporter": "python",
   "pygments_lexer": "ipython3",
   "version": "3.9.7"
  }
 },
 "nbformat": 4,
 "nbformat_minor": 4
}
