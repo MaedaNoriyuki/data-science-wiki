{
 "cells": [
  {
   "cell_type": "markdown",
   "id": "b28ceb97-ed88-4d30-ae34-e6230bb7e15d",
   "metadata": {},
   "source": [
    "# さまざまなアンサンブルの手法について\n",
    "* 複数のモデルの予測値のアンサンブル  \n",
    "  →LightGBM,CatBoost,XGBoostのアンサンブルなど\n",
    "    \n",
    "* クロスバリデーションのfold数を変えたアンサンブル  \n",
    "  →target encodingをした時などに有効"
   ]
  },
  {
   "cell_type": "code",
   "execution_count": null,
   "id": "d9e023c3-e301-45b6-858a-f70ac6fa6792",
   "metadata": {},
   "outputs": [],
   "source": []
  }
 ],
 "metadata": {
  "kernelspec": {
   "display_name": "Python 3",
   "language": "python",
   "name": "python3"
  },
  "language_info": {
   "codemirror_mode": {
    "name": "ipython",
    "version": 3
   },
   "file_extension": ".py",
   "mimetype": "text/x-python",
   "name": "python",
   "nbconvert_exporter": "python",
   "pygments_lexer": "ipython3",
   "version": "3.9.2"
  }
 },
 "nbformat": 4,
 "nbformat_minor": 5
}
