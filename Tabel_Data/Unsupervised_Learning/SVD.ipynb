{
 "cells": [
  {
   "cell_type": "markdown",
   "id": "48cf6fab-8816-4044-907d-1cc85a187718",
   "metadata": {},
   "source": [
    "# 特異値分解(SVD)\n",
    "* Singular Value Decompositon\n",
    "* 特異値分解を使って元の行列の近似行列を作る操作を低ランク近似という\n",
    "* 主成分分析とほぼ同じだが特異値分解の方が数値的に安定している  \n",
    "(https://math.stackexchange.com/questions/3869/what-is-the-intuitive-relationship-between-svd-and-pca)"
   ]
  },
  {
   "cell_type": "markdown",
   "id": "8d9478a0-555b-4e46-804f-30f71aeb6e87",
   "metadata": {},
   "source": [
    "# 特異値分解のための関数"
   ]
  },
  {
   "cell_type": "code",
   "execution_count": null,
   "id": "6f5f5c86-bdda-48d8-bce4-f9cbb153a9b5",
   "metadata": {},
   "outputs": [],
   "source": [
    "from sklearn.decomposition import TruncatedSVD"
   ]
  },
  {
   "cell_type": "code",
   "execution_count": null,
   "id": "bd46501e-f5f4-4deb-9c87-c8680ccfae95",
   "metadata": {},
   "outputs": [],
   "source": [
    "#引数はデータフレームと次元数\n",
    "def svd_decomposition(df, N):\n",
    "    svd = TruncatedSVD(n_components=N,random_state=42).fit(df)\n",
    "    transformed = svd.transform(df)\n",
    "    for n in range(N):\n",
    "        print(f'第 {n+1} 成分：{svd.explained_variance_ratio_[n]}')\n",
    "    return pd.DataFrame(transformed)"
   ]
  },
  {
   "cell_type": "code",
   "execution_count": null,
   "id": "a723e644-810f-49b9-9490-be0ec33bddb6",
   "metadata": {},
   "outputs": [],
   "source": [
    "reslut_feature = svd_decomposition(df, N=3)"
   ]
  }
 ],
 "metadata": {
  "kernelspec": {
   "display_name": "Python 3",
   "language": "python",
   "name": "python3"
  },
  "language_info": {
   "codemirror_mode": {
    "name": "ipython",
    "version": 3
   },
   "file_extension": ".py",
   "mimetype": "text/x-python",
   "name": "python",
   "nbconvert_exporter": "python",
   "pygments_lexer": "ipython3",
   "version": "3.9.2"
  }
 },
 "nbformat": 4,
 "nbformat_minor": 5
}
