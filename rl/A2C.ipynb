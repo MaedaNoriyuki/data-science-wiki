{
 "cells": [
  {
   "cell_type": "markdown",
   "id": "00752172-3aee-44c0-9498-fae894491c53",
   "metadata": {},
   "source": [
    "# Advantage Actor-Critic(A2C)\n",
    "* https://qiita.com/sugiyama404/items/d2224292a9da40cc4939\n",
    "* A3Cから非同期の部分を抜いたもので，A3Cに比べGPUの負荷が低い"
   ]
  },
  {
   "cell_type": "code",
   "execution_count": null,
   "id": "f679450b-e91e-4b70-9bc4-6abee411ef74",
   "metadata": {},
   "outputs": [],
   "source": []
  }
 ],
 "metadata": {
  "kernelspec": {
   "display_name": "Python 3 (ipykernel)",
   "language": "python",
   "name": "python3"
  },
  "language_info": {
   "codemirror_mode": {
    "name": "ipython",
    "version": 3
   },
   "file_extension": ".py",
   "mimetype": "text/x-python",
   "name": "python",
   "nbconvert_exporter": "python",
   "pygments_lexer": "ipython3",
   "version": "3.9.7"
  }
 },
 "nbformat": 4,
 "nbformat_minor": 5
}
