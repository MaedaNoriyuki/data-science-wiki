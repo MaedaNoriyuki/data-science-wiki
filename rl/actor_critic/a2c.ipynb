{
 "cells": [
  {
   "cell_type": "markdown",
   "id": "669a06e1",
   "metadata": {},
   "source": [
    "# Advantage Actor-Critic(A2C)"
   ]
  },
  {
   "cell_type": "markdown",
   "id": "00752172-3aee-44c0-9498-fae894491c53",
   "metadata": {},
   "source": [
    "* https://qiita.com/sugiyama404/items/d2224292a9da40cc4939\n",
    "* A3Cから非同期の部分を抜いたもので，A3Cに比べGPUの負荷が低い\n",
    "* 参考資料(https://agirobots.com/rl-library-algo-list/)"
   ]
  }
 ],
 "metadata": {
  "kernelspec": {
   "display_name": "Python 3.9.18 ('.venv': poetry)",
   "language": "python",
   "name": "python3"
  },
  "language_info": {
   "codemirror_mode": {
    "name": "ipython",
    "version": 3
   },
   "file_extension": ".py",
   "mimetype": "text/x-python",
   "name": "python",
   "nbconvert_exporter": "python",
   "pygments_lexer": "ipython3",
   "version": "3.9.18"
  },
  "vscode": {
   "interpreter": {
    "hash": "17a011378fed683b21aba93e5dd7c0cb7beefc09c5af72c6425b40c713e260dc"
   }
  }
 },
 "nbformat": 4,
 "nbformat_minor": 5
}
