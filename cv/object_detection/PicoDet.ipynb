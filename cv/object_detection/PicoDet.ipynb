{
 "cells": [
  {
   "cell_type": "markdown",
   "id": "dc8f4f0f-ee47-46d1-9c7d-90d504ef463a",
   "metadata": {},
   "source": [
    "# PicoDet"
   ]
  },
  {
   "cell_type": "markdown",
   "id": "72d79667",
   "metadata": {},
   "source": [
    "作成中"
   ]
  },
  {
   "cell_type": "code",
   "execution_count": null,
   "id": "e404ee03-e480-433c-9a23-04e4e00fb41f",
   "metadata": {},
   "outputs": [],
   "source": []
  }
 ],
 "metadata": {
  "kernelspec": {
   "display_name": "Python 3 (ipykernel)",
   "language": "python",
   "name": "python3"
  },
  "language_info": {
   "codemirror_mode": {
    "name": "ipython",
    "version": 3
   },
   "file_extension": ".py",
   "mimetype": "text/x-python",
   "name": "python",
   "nbconvert_exporter": "python",
   "pygments_lexer": "ipython3",
   "version": "3.9.7"
  }
 },
 "nbformat": 4,
 "nbformat_minor": 5
}
