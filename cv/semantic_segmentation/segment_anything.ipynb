{
 "cells": [
  {
   "cell_type": "markdown",
   "id": "8bc40473",
   "metadata": {},
   "source": [
    "# Segment Anything"
   ]
  },
  {
   "cell_type": "markdown",
   "id": "d973cd44",
   "metadata": {},
   "source": [
    "* https://github.com/facebookresearch/segment-anything"
   ]
  },
  {
   "cell_type": "code",
   "execution_count": null,
   "id": "e947c34b-a4e0-41f0-8aaf-a3dde1fa7bd7",
   "metadata": {},
   "outputs": [],
   "source": []
  }
 ],
 "metadata": {
  "kernelspec": {
   "display_name": "Python 3 (ipykernel)",
   "language": "python",
   "name": "python3"
  },
  "language_info": {
   "codemirror_mode": {
    "name": "ipython",
    "version": 3
   },
   "file_extension": ".py",
   "mimetype": "text/x-python",
   "name": "python",
   "nbconvert_exporter": "python",
   "pygments_lexer": "ipython3",
   "version": "3.9.7"
  }
 },
 "nbformat": 4,
 "nbformat_minor": 5
}
