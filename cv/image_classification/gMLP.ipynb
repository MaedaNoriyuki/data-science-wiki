{
 "cells": [
  {
   "cell_type": "markdown",
   "id": "55c06bbf-ab49-48dc-9a14-7faa715c8a3d",
   "metadata": {},
   "source": [
    "# gMLP"
   ]
  },
  {
   "cell_type": "markdown",
   "id": "06a8651e",
   "metadata": {},
   "source": [
    "* https://github.com/lucidrains/g-mlp-pytorch\n",
    "* https://dajiro.com/entry/2021/06/13/154109"
   ]
  },
  {
   "cell_type": "code",
   "execution_count": null,
   "id": "77f41437-d992-4b97-954e-c38d6078d6ba",
   "metadata": {},
   "outputs": [],
   "source": []
  },
  {
   "cell_type": "code",
   "execution_count": null,
   "id": "61a94b28",
   "metadata": {},
   "outputs": [],
   "source": []
  }
 ],
 "metadata": {
  "kernelspec": {
   "display_name": "Python 3 (ipykernel)",
   "language": "python",
   "name": "python3"
  },
  "language_info": {
   "codemirror_mode": {
    "name": "ipython",
    "version": 3
   },
   "file_extension": ".py",
   "mimetype": "text/x-python",
   "name": "python",
   "nbconvert_exporter": "python",
   "pygments_lexer": "ipython3",
   "version": "3.9.7"
  }
 },
 "nbformat": 4,
 "nbformat_minor": 5
}
