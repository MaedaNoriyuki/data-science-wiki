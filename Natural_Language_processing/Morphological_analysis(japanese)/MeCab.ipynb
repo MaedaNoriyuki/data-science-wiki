{
 "cells": [
  {
   "cell_type": "markdown",
   "id": "35543949-377d-4142-bec8-859aaff5530e",
   "metadata": {},
   "source": [
    "# MeCab"
   ]
  },
  {
   "cell_type": "code",
   "execution_count": null,
   "id": "ffce8ef4-a46a-41c5-9998-67f0f5139caf",
   "metadata": {},
   "outputs": [],
   "source": []
  }
 ],
 "metadata": {
  "kernelspec": {
   "display_name": "Python 3 (ipykernel)",
   "language": "python",
   "name": "python3"
  },
  "language_info": {
   "codemirror_mode": {
    "name": "ipython",
    "version": 3
   },
   "file_extension": ".py",
   "mimetype": "text/x-python",
   "name": "python",
   "nbconvert_exporter": "python",
   "pygments_lexer": "ipython3",
   "version": "3.9.7"
  }
 },
 "nbformat": 4,
 "nbformat_minor": 5
}
