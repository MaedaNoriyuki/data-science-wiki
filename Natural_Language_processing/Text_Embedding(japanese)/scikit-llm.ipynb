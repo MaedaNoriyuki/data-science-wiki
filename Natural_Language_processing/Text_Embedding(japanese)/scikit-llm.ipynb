{
 "cells": [
  {
   "cell_type": "markdown",
   "metadata": {},
   "source": [
    "# Scikit-LLM\n",
    "* https://github.com/iryna-kondr/scikit-llm"
   ]
  },
  {
   "cell_type": "markdown",
   "metadata": {},
   "source": [
    "[![Open In Colab](https://colab.research.google.com/assets/colab-badge.svg)](https://colab.research.google.com/github/fuyu-quant/CreateTool-AGI/blob/main/examples/createtoolagi.ipynb)"
   ]
  },
  {
   "cell_type": "code",
   "execution_count": 1,
   "metadata": {},
   "outputs": [],
   "source": [
    "%%capture\n",
    "!pip install scikit-llm"
   ]
  },
  {
   "cell_type": "code",
   "execution_count": 18,
   "metadata": {},
   "outputs": [],
   "source": [
    "from skllm.preprocessing import GPTVectorizer\n",
    "from skllm.config import SKLLMConfig\n",
    "\n",
    "SKLLMConfig.set_openai_key(\"YOUR_API_KEY\")\n",
    "SKLLMConfig.set_openai_org(\"YOUR_ORG_ID\")"
   ]
  },
  {
   "cell_type": "code",
   "execution_count": 19,
   "metadata": {},
   "outputs": [
    {
     "name": "stderr",
     "output_type": "stream",
     "text": [
      "100%|██████████| 126/126 [01:40<00:00,  1.26it/s]\n"
     ]
    },
    {
     "data": {
      "text/plain": [
       "array([[ 0.01540808, -0.01377206,  0.02419162, ..., -0.01770119,\n",
       "        -0.0189215 , -0.01774142],\n",
       "       [-0.01505723, -0.0093344 ,  0.00871663, ..., -0.00832968,\n",
       "        -0.01054278, -0.00487086],\n",
       "       [-0.00680274, -0.03093406,  0.0051005 , ..., -0.01835304,\n",
       "        -0.01905268,  0.01175644],\n",
       "       ...,\n",
       "       [-0.00259624, -0.02183674,  0.00317355, ..., -0.00505743,\n",
       "        -0.00448011, -0.00915603],\n",
       "       [ 0.00032323, -0.00951257,  0.00050189, ..., -0.01357419,\n",
       "        -0.00487926, -0.01633955],\n",
       "       [-0.00875203, -0.01686207,  0.00510972, ...,  0.00230101,\n",
       "        -0.02155253, -0.00867342]])"
      ]
     },
     "execution_count": 19,
     "metadata": {},
     "output_type": "execute_result"
    }
   ],
   "source": [
    "model = GPTVectorizer()\n",
    "X = 'At the moment Scikit-LLM is only compatible with some of the OpenAI models. Hence, a user-provided OpenAI API key is required.'\n",
    "\n",
    "vectors = model.fit_transform(X)\n",
    "vectors"
   ]
  },
  {
   "cell_type": "code",
   "execution_count": null,
   "metadata": {},
   "outputs": [],
   "source": []
  }
 ],
 "metadata": {
  "kernelspec": {
   "display_name": "Python 3.10.9 ('base')",
   "language": "python",
   "name": "python3"
  },
  "language_info": {
   "codemirror_mode": {
    "name": "ipython",
    "version": 3
   },
   "file_extension": ".py",
   "mimetype": "text/x-python",
   "name": "python",
   "nbconvert_exporter": "python",
   "pygments_lexer": "ipython3",
   "version": "3.10.9"
  },
  "orig_nbformat": 4,
  "vscode": {
   "interpreter": {
    "hash": "d4d1e4263499bec80672ea0156c357c1ee493ec2b1c70f0acce89fc37c4a6abe"
   }
  }
 },
 "nbformat": 4,
 "nbformat_minor": 2
}
