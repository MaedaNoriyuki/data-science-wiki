{
  "cells": [
    {
      "cell_type": "markdown",
      "metadata": {
        "colab_type": "text",
        "id": "view-in-github"
      },
      "source": [
        "<a href=\"https://colab.research.google.com/github/fuyu-quant/data-science/blob/main/Natural_Language_processing/chat/OPT_30B.ipynb\" target=\"_parent\"><img src=\"https://colab.research.google.com/assets/colab-badge.svg\" alt=\"Open In Colab\"/></a>"
      ]
    },
    {
      "cell_type": "markdown",
      "metadata": {
        "id": "iznoTam3nnrX"
      },
      "source": [
        "# OPT-30B\n",
        "* [参考サイト](https://note.com/npaka/n/n722a4ab734f3)"
      ]
    },
    {
      "cell_type": "code",
      "execution_count": 2,
      "metadata": {
        "colab": {
          "base_uri": "https://localhost:8080/"
        },
        "id": "InaW4J0pnhYs",
        "outputId": "8851e069-8613-4f43-f010-e8212365c474"
      },
      "outputs": [
        {
          "name": "stdout",
          "output_type": "stream",
          "text": [
            "Mounted at /content/drive\n"
          ]
        }
      ],
      "source": [
        "from google.colab import drive\n",
        "drive.mount(\"/content/drive\")"
      ]
    },
    {
      "cell_type": "code",
      "execution_count": 3,
      "metadata": {
        "colab": {
          "base_uri": "https://localhost:8080/"
        },
        "id": "miPLn9JGnyNb",
        "outputId": "f343246c-06f9-4f50-f866-772773031d62"
      },
      "outputs": [
        {
          "name": "stdout",
          "output_type": "stream",
          "text": [
            "/content/drive/My Drive/work\n"
          ]
        }
      ],
      "source": [
        "import os\n",
        "os.makedirs(\"/content/drive/My Drive/work\", exist_ok=True)\n",
        "%cd \"/content/drive/My Drive/work\""
      ]
    },
    {
      "cell_type": "code",
      "execution_count": 4,
      "metadata": {
        "id": "utVksmUDn7Zc"
      },
      "outputs": [],
      "source": [
        "import os\n",
        "os.environ['TRANSFORMERS_CACHE'] = '/content/drive/MyDrive/My Drive/work'\n",
        "os.environ['HF_DATASETS_CACHE'] = '/content/drive/MyDrive/My Drive/work/Datasets'"
      ]
    },
    {
      "cell_type": "code",
      "execution_count": 5,
      "metadata": {
        "colab": {
          "base_uri": "https://localhost:8080/"
        },
        "id": "xAjImjlRoAbn",
        "outputId": "06c1005c-b9e3-487d-952f-e7cf2d73ab3a"
      },
      "outputs": [
        {
          "name": "stdout",
          "output_type": "stream",
          "text": [
            "fatal: destination path 'FlexGen' already exists and is not an empty directory.\n",
            "/content/drive/My Drive/work/FlexGen\n",
            "Looking in indexes: https://pypi.org/simple, https://us-python.pkg.dev/colab-wheels/public/simple/\n",
            "Obtaining file:///content/drive/My%20Drive/work/FlexGen\n",
            "  Preparing metadata (setup.py) ... \u001b[?25l\u001b[?25hdone\n",
            "Requirement already satisfied: numpy in /usr/local/lib/python3.8/dist-packages (from flexgen==0.0.0) (1.22.4)\n",
            "Requirement already satisfied: tqdm in /usr/local/lib/python3.8/dist-packages (from flexgen==0.0.0) (4.64.1)\n",
            "Collecting pulp\n",
            "  Downloading PuLP-2.7.0-py3-none-any.whl (14.3 MB)\n",
            "\u001b[2K     \u001b[90m━━━━━━━━━━━━━━━━━━━━━━━━━━━━━━━━━━━━━━━━\u001b[0m \u001b[32m14.3/14.3 MB\u001b[0m \u001b[31m92.5 MB/s\u001b[0m eta \u001b[36m0:00:00\u001b[0m\n",
            "\u001b[?25hRequirement already satisfied: attrs in /usr/local/lib/python3.8/dist-packages (from flexgen==0.0.0) (22.2.0)\n",
            "Collecting transformers>=4.24\n",
            "  Downloading transformers-4.26.1-py3-none-any.whl (6.3 MB)\n",
            "\u001b[2K     \u001b[90m━━━━━━━━━━━━━━━━━━━━━━━━━━━━━━━━━━━━━━━━\u001b[0m \u001b[32m6.3/6.3 MB\u001b[0m \u001b[31m99.2 MB/s\u001b[0m eta \u001b[36m0:00:00\u001b[0m\n",
            "\u001b[?25hRequirement already satisfied: torch>=1.12 in /usr/local/lib/python3.8/dist-packages (from flexgen==0.0.0) (1.13.1+cu116)\n",
            "Requirement already satisfied: typing-extensions in /usr/local/lib/python3.8/dist-packages (from torch>=1.12->flexgen==0.0.0) (4.5.0)\n",
            "Requirement already satisfied: packaging>=20.0 in /usr/local/lib/python3.8/dist-packages (from transformers>=4.24->flexgen==0.0.0) (23.0)\n",
            "Requirement already satisfied: pyyaml>=5.1 in /usr/local/lib/python3.8/dist-packages (from transformers>=4.24->flexgen==0.0.0) (6.0)\n",
            "Collecting tokenizers!=0.11.3,<0.14,>=0.11.1\n",
            "  Downloading tokenizers-0.13.2-cp38-cp38-manylinux_2_17_x86_64.manylinux2014_x86_64.whl (7.6 MB)\n",
            "\u001b[2K     \u001b[90m━━━━━━━━━━━━━━━━━━━━━━━━━━━━━━━━━━━━━━━━\u001b[0m \u001b[32m7.6/7.6 MB\u001b[0m \u001b[31m113.7 MB/s\u001b[0m eta \u001b[36m0:00:00\u001b[0m\n",
            "\u001b[?25hRequirement already satisfied: filelock in /usr/local/lib/python3.8/dist-packages (from transformers>=4.24->flexgen==0.0.0) (3.9.0)\n",
            "Collecting huggingface-hub<1.0,>=0.11.0\n",
            "  Downloading huggingface_hub-0.12.1-py3-none-any.whl (190 kB)\n",
            "\u001b[2K     \u001b[90m━━━━━━━━━━━━━━━━━━━━━━━━━━━━━━━━━━━━━━\u001b[0m \u001b[32m190.3/190.3 KB\u001b[0m \u001b[31m26.6 MB/s\u001b[0m eta \u001b[36m0:00:00\u001b[0m\n",
            "\u001b[?25hRequirement already satisfied: regex!=2019.12.17 in /usr/local/lib/python3.8/dist-packages (from transformers>=4.24->flexgen==0.0.0) (2022.6.2)\n",
            "Requirement already satisfied: requests in /usr/local/lib/python3.8/dist-packages (from transformers>=4.24->flexgen==0.0.0) (2.25.1)\n",
            "Requirement already satisfied: certifi>=2017.4.17 in /usr/local/lib/python3.8/dist-packages (from requests->transformers>=4.24->flexgen==0.0.0) (2022.12.7)\n",
            "Requirement already satisfied: urllib3<1.27,>=1.21.1 in /usr/local/lib/python3.8/dist-packages (from requests->transformers>=4.24->flexgen==0.0.0) (1.24.3)\n",
            "Requirement already satisfied: idna<3,>=2.5 in /usr/local/lib/python3.8/dist-packages (from requests->transformers>=4.24->flexgen==0.0.0) (2.10)\n",
            "Requirement already satisfied: chardet<5,>=3.0.2 in /usr/local/lib/python3.8/dist-packages (from requests->transformers>=4.24->flexgen==0.0.0) (4.0.0)\n",
            "Installing collected packages: tokenizers, pulp, huggingface-hub, transformers, flexgen\n",
            "  Running setup.py develop for flexgen\n",
            "Successfully installed flexgen-0.0.0 huggingface-hub-0.12.1 pulp-2.7.0 tokenizers-0.13.2 transformers-4.26.1\n"
          ]
        }
      ],
      "source": [
        "!git clone https://github.com/Ying1123/FlexGen.git\n",
        "%cd FlexGen\n",
        "!pip install -e ."
      ]
    },
    {
      "cell_type": "markdown",
      "metadata": {
        "id": "jjwNNMvPoIiO"
      },
      "source": [
        "## OPT-30Bの実行"
      ]
    },
    {
      "cell_type": "code",
      "execution_count": null,
      "metadata": {
        "colab": {
          "base_uri": "https://localhost:8080/"
        },
        "id": "4TvTcqPzoHa8",
        "outputId": "ae9b4510-8555-4934-eb56-0777b0f6f348"
      },
      "outputs": [
        {
          "name": "stdout",
          "output_type": "stream",
          "text": [
            "2023-02-24 13:33:40.172152: I tensorflow/core/platform/cpu_feature_guard.cc:193] This TensorFlow binary is optimized with oneAPI Deep Neural Network Library (oneDNN) to use the following CPU instructions in performance-critical operations:  AVX2 AVX512F AVX512_VNNI FMA\n",
            "To enable them in other operations, rebuild TensorFlow with the appropriate compiler flags.\n",
            "2023-02-24 13:33:40.317137: I tensorflow/core/util/port.cc:104] oneDNN custom operations are on. You may see slightly different numerical results due to floating-point round-off errors from different computation orders. To turn them off, set the environment variable `TF_ENABLE_ONEDNN_OPTS=0`.\n",
            "2023-02-24 13:33:41.069982: W tensorflow/compiler/xla/stream_executor/platform/default/dso_loader.cc:64] Could not load dynamic library 'libnvinfer.so.7'; dlerror: libnvinfer.so.7: cannot open shared object file: No such file or directory; LD_LIBRARY_PATH: /usr/lib64-nvidia\n",
            "2023-02-24 13:33:41.070072: W tensorflow/compiler/xla/stream_executor/platform/default/dso_loader.cc:64] Could not load dynamic library 'libnvinfer_plugin.so.7'; dlerror: libnvinfer_plugin.so.7: cannot open shared object file: No such file or directory; LD_LIBRARY_PATH: /usr/lib64-nvidia\n",
            "2023-02-24 13:33:41.070091: W tensorflow/compiler/tf2tensorrt/utils/py_utils.cc:38] TF-TRT Warning: Cannot dlopen some TensorRT libraries. If you would like to use Nvidia GPU with TensorRT, please make sure the missing libraries mentioned above are installed properly.\n",
            "Initialize...\n",
            "Load the pre-trained pytorch weights of opt-30b from huggingface. The downloading and cpu loading can take dozens of minutes. If it seems to get stuck, you can monitor the progress by checking the memory usage of this process.\n",
            "Downloading (…)model.bin.index.json: 100% 62.8k/62.8k [00:00<00:00, 980kB/s]\n",
            "Downloading (…)00001-of-00007.bin\";: 100% 9.79G/9.79G [02:56<00:00, 55.6MB/s]\n",
            "Downloading (…)00002-of-00007.bin\";: 100% 9.87G/9.87G [03:19<00:00, 49.5MB/s]\n",
            "Downloading (…)00003-of-00007.bin\";: 100% 9.87G/9.87G [02:18<00:00, 71.0MB/s]\n",
            "Downloading (…)00004-of-00007.bin\";: 100% 9.87G/9.87G [02:13<00:00, 73.7MB/s]\n",
            "Downloading (…)00005-of-00007.bin\";: 100% 9.87G/9.87G [01:58<00:00, 83.5MB/s]\n",
            "Downloading (…)00006-of-00007.bin\";: 100% 9.87G/9.87G [02:00<00:00, 81.6MB/s]\n",
            "Downloading (…)00007-of-00007.bin\";: 100% 822M/822M [00:10<00:00, 80.8MB/s]\n",
            "Loading checkpoint shards: 100% 7/7 [07:36<00:00, 65.23s/it]\n",
            "Downloading (…)neration_config.json: 100% 137/137 [00:00<00:00, 22.0kB/s]\n",
            "Convert the weights to numpy format under /root/opt_weights/opt-30b-np ...\n",
            "100% 772/772 [02:35<00:00,  4.96it/s]\n",
            "A chat between a curious human and a knowledgeable artificial intelligence assistant.\n",
            "Human: Hello! What can you do?\n",
            "Assistant: As an AI assistant, I can answer questions and chat with you.\n",
            "Human: What is the name of the tallest mountain in the world?\n",
            "Assistant: Everest.\n",
            "Human: ありがとうございます\n",
            "ありがとうございます\n",
            "安倍晋三に\n",
            "安倍晋三について\n",
            "Assistant: I'm sorry, what did you say?\n",
            "Human: Assistant: What did you say?\n",
            "Human: 日本語で話してください\n",
            "日本語で話してください\n",
            "Assistant: You said Shinzo Abe.\n",
            "Human: Assistant: What did you say about Shinzo Abe?\n",
            "Human: Assistant: In English, please talk.\n",
            "Human: アメリカの大統領の名前は？\n",
            "Assistant: Please say in Japanese.\n",
            "Human: アメリカの大統領の名前は？\n",
            "Assistant: I'm sorry, I don't understand.\n",
            "Human: Assistant: What do you want to say about the American president's name?\n",
            "Human: Tell us about quantum computers.\n",
            "Assistant: I don't know anything about quantum computers.\n",
            "Human: Who is the President of the United States?\n",
            "Assistant: Barack Obama.\n",
            "Human: Traceback (most recent call last):\n",
            "\n"
          ]
        }
      ],
      "source": [
        "!python apps/chatbot.py --model facebook/opt-30b --percent 0 100 100 0 100 0 --compress-weight"
      ]
    }
  ],
  "metadata": {
    "accelerator": "GPU",
    "colab": {
      "authorship_tag": "ABX9TyNSzomCeYsmwCg128dXN6HI",
      "include_colab_link": true,
      "machine_shape": "hm",
      "provenance": []
    },
    "gpuClass": "premium",
    "kernelspec": {
      "display_name": "Python 3",
      "name": "python3"
    },
    "language_info": {
      "name": "python"
    }
  },
  "nbformat": 4,
  "nbformat_minor": 0
}
