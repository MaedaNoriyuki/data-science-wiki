{
 "cells": [
  {
   "cell_type": "markdown",
   "id": "962e598e-fe98-4ceb-a2bf-d0aa3584fb7b",
   "metadata": {},
   "source": [
    "# さまざまなクロスバリデーション\n",
    "* KFold\n",
    "* StratifiedKFold\n",
    "* GroupKFold\n",
    "* 参考(https://upura.hatenablog.com/entry/2018/12/04/224436)"
   ]
  },
  {
   "cell_type": "markdown",
   "id": "dd8d361f-ee63-423e-8364-a165da9ca4c6",
   "metadata": {},
   "source": [
    "### KFold\n",
    "* データセットを何も考慮せずに分割"
   ]
  },
  {
   "cell_type": "code",
   "execution_count": null,
   "id": "be812d4f-7f22-4081-a643-3dfd03715956",
   "metadata": {},
   "outputs": [],
   "source": [
    "from sklearn.model_selection import KFold\n",
    "\n",
    "kfold = KFold(n_splits=5, shuffle=True, random_state=1)"
   ]
  },
  {
   "cell_type": "code",
   "execution_count": null,
   "id": "1fc6b5a2-95cd-4fe3-93ea-ab9c171ae317",
   "metadata": {},
   "outputs": [],
   "source": [
    "#enumerateはリストの要素とインデックスを同時に取り出すことができる\n",
    "for fold, (train_index, valid_index) in enumerate(K_fold.split(x,y)):\n",
    "    x_train = x.iloc[train_index]\n",
    "    x_valid = x.iloc[valid_index]\n",
    "    y_train = y.iloc[train_index]\n",
    "    y_valid = y.iloc[valid_index]"
   ]
  },
  {
   "cell_type": "markdown",
   "id": "59380c07-cace-476a-a67a-ebde6e0163c6",
   "metadata": {},
   "source": [
    "### StratifiedKFold\n",
    "* 分類問題においてデータセット全体のクラスの偏りを保持しながら，分割を行う"
   ]
  },
  {
   "cell_type": "code",
   "execution_count": null,
   "id": "b003fd1e-2c49-4847-b840-c6b3d87f2839",
   "metadata": {},
   "outputs": [],
   "source": [
    "from sklearn.model_selection import StratifiedKFold\n",
    "\n",
    "Strati_kfold = StratifiedKFold(n_splits=5, shuffle=True, random_state=1)"
   ]
  },
  {
   "cell_type": "markdown",
   "id": "bbd7ab2b-1ba8-4565-b26b-fe60af979a0c",
   "metadata": {},
   "source": [
    "### GroupKFokd\n",
    "* 目的変数の偏りもなく，またある特徴量の同じグループのデータが異なる分割パターンに出ないようにする\n",
    "* 同じユーザーのデータが複数含まれている場合，それらを同じ分割にまとめる"
   ]
  },
  {
   "cell_type": "code",
   "execution_count": null,
   "id": "78d94cfd-a24c-4933-a871-894bf37bc275",
   "metadata": {},
   "outputs": [],
   "source": [
    "from sklearn.model_selection import GroupKFold\n",
    "\n",
    "groups = df['tokutyou']\n",
    "group_kfold = GroupKFold(n_splits=2)\n",
    "\n",
    "group_kfold.split(x,y,groups)"
   ]
  },
  {
   "cell_type": "markdown",
   "id": "09f0ec80-5892-4ad6-a09d-2a47e4db9baf",
   "metadata": {},
   "source": [
    "### TimeSeriesSplit(n_splits=10, gap=2000)"
   ]
  },
  {
   "cell_type": "code",
   "execution_count": null,
   "id": "bbf7a5f2-670c-4219-a254-2fe819ce9991",
   "metadata": {},
   "outputs": [],
   "source": [
    "from sklearn.model_selection import TimeSeriesSplit\n",
    "ts_fold = TimeSeriesSplit(n_splits=10, gap=2000)\n",
    "\n",
    "for fold, (train_idx, val_idx) in enumerate(ts_fold.split(X, y)):"
   ]
  }
 ],
 "metadata": {
  "kernelspec": {
   "display_name": "Python 3",
   "language": "python",
   "name": "python3"
  },
  "language_info": {
   "codemirror_mode": {
    "name": "ipython",
    "version": 3
   },
   "file_extension": ".py",
   "mimetype": "text/x-python",
   "name": "python",
   "nbconvert_exporter": "python",
   "pygments_lexer": "ipython3",
   "version": "3.9.2"
  }
 },
 "nbformat": 4,
 "nbformat_minor": 5
}
